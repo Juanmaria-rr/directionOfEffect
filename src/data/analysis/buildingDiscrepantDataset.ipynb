{
 "cells": [
  {
   "cell_type": "code",
   "execution_count": 2,
   "metadata": {},
   "outputs": [
    {
     "name": "stdout",
     "output_type": "stream",
     "text": [
      "spark session created at 2024-10-18 15:37:20.693606\n",
      "Analysis started on 2024-10-18 at  2024-10-18 15:37:20.693606\n"
     ]
    },
    {
     "name": "stderr",
     "output_type": "stream",
     "text": [
      "24/10/18 15:37:27 WARN package: Truncated the string representation of a plan since it was too large. This behavior can be adjusted by setting 'spark.sql.debug.maxToStringFields'.\n"
     ]
    }
   ],
   "source": [
    "from DoEAssessment import directionOfEffect\n",
    "from functions import discrepancifier\n",
    "from pyspark.sql import SparkSession, Window\n",
    "import pyspark.sql.functions as F\n",
    "import matplotlib.pyplot as plt\n",
    "import seaborn as sns\n",
    "from pyspark.sql.types import (\n",
    "    StructType,\n",
    "    StructField,\n",
    "    DoubleType,\n",
    "    DecimalType,\n",
    "    StringType,\n",
    "    IntegerType,\n",
    "    FloatType,\n",
    ")\n",
    "\n",
    "spark = SparkSession.builder.getOrCreate()"
   ]
  },
  {
   "cell_type": "markdown",
   "metadata": {},
   "source": [
    "#### Load evidences, target and disease files"
   ]
  },
  {
   "cell_type": "code",
   "execution_count": 3,
   "metadata": {},
   "outputs": [],
   "source": [
    "platform_v = \"24.09\"\n",
    "evidences = (\n",
    "    spark.read.parquet(\n",
    "        f\"gs://open-targets-data-releases/{platform_v}/output/etl/parquet/evidence\"\n",
    "    )\n",
    "    .filter(\n",
    "        F.col(\"datasourceId\").isin(\n",
    "            [\n",
    "                \"ot_genetics_portal\",\n",
    "                \"gene_burden\",\n",
    "                \"eva\",\n",
    "                \"eva_somatic\",\n",
    "                \"gene2phenotype\",\n",
    "                \"orphanet\",\n",
    "                \"cancer_gene_census\",\n",
    "                \"intogen\",\n",
    "                \"impc\",\n",
    "                \"chembl\",\n",
    "            ]\n",
    "        )\n",
    "    )\n",
    "    .persist()\n",
    ")\n",
    "\n",
    "disease_path = (\n",
    "    f\"gs://open-targets-data-releases/{platform_v}/output/etl/parquet/diseases/\"\n",
    ")\n",
    "diseases = spark.read.parquet(disease_path)\n",
    "\n",
    "target_path = (\n",
    "    f\"gs://open-targets-data-releases/{platform_v}/output/etl/parquet/targets/\"\n",
    ")\n",
    "target = spark.read.parquet(target_path)"
   ]
  },
  {
   "cell_type": "markdown",
   "metadata": {},
   "source": [
    "#### Run DoE assessment and discrepancy function"
   ]
  },
  {
   "cell_type": "code",
   "execution_count": 4,
   "metadata": {},
   "outputs": [
    {
     "name": "stderr",
     "output_type": "stream",
     "text": [
      "                                                                                \r"
     ]
    }
   ],
   "source": [
    "assessed_evidences = (\n",
    "    directionOfEffect(evidences, platform_v)\n",
    "    .filter(F.col(\"homogenized\") != \"noEvaluable\")\n",
    "    .withColumn(\n",
    "        \"datasources\",\n",
    "        F.collect_set(\"datasourceId\").over(Window.partitionBy(\"targetId\", \"diseaseId\")),\n",
    "    )\n",
    "    .withColumn(\n",
    "        \"maxClinPhase\",\n",
    "        F.max(\"clinicalPhase\").over(Window.partitionBy(\"targetId\", \"diseaseId\")),\n",
    "    )\n",
    ")\n",
    "coherency_assessed = discrepancifier(\n",
    "    assessed_evidences.withColumn(\n",
    "        \"arrayDiseaseFromSource\",\n",
    "        F.collect_set(F.col(\"diseaseFromSource\")).over(\n",
    "            Window.partitionBy(\"targetId\", \"diseaseId\")\n",
    "        ),\n",
    "    )\n",
    "    .groupBy(\n",
    "        \"targetId\", \"diseaseId\", \"datasources\", \"maxClinPhase\", \"arrayDiseaseFromSource\"\n",
    "    )\n",
    "    .pivot(\"homogenized\")\n",
    "    .count()\n",
    ").persist()"
   ]
  },
  {
   "cell_type": "markdown",
   "metadata": {},
   "source": [
    "### We want to have a dataset with multiple annotations at the level of target-disease associations. The following are the datasets considered as interesting to have a comprehensive view of the associations"
   ]
  },
  {
   "cell_type": "markdown",
   "metadata": {},
   "source": [
    "#### Dataset where datasources are collected per DoE assessment"
   ]
  },
  {
   "cell_type": "code",
   "execution_count": 18,
   "metadata": {},
   "outputs": [
    {
     "name": "stderr",
     "output_type": "stream",
     "text": [
      "24/10/18 15:49:49 WARN CacheManager: Asked to cache already cached data.\n"
     ]
    }
   ],
   "source": [
    "coherency_assessed_datasourcesPerDoE = discrepancifier(\n",
    "    assessed_evidences.withColumn(\n",
    "        \"arrayDiseaseFromSource\",\n",
    "        F.collect_set(F.col(\"diseaseFromSource\")).over(\n",
    "            Window.partitionBy(\"targetId\", \"diseaseId\")\n",
    "        ),\n",
    "    )\n",
    "    .groupBy(\n",
    "        \"targetId\", \"diseaseId\", \"datasources\", \"maxClinPhase\", \"arrayDiseaseFromSource\"\n",
    "    )\n",
    "    .pivot(\"homogenized\")\n",
    "    .agg(F.collect_set(F.col(\"datasourceId\")))\n",
    ").selectExpr(\n",
    "    \"targetId\",\n",
    "    \"diseaseId\",\n",
    "    \"GoF_protect as ds_GoF_protect\",\n",
    "    \"GoF_risk as ds_GoF_risk\",\n",
    "    \"LoF_protect as ds_LoF_protect\",\n",
    "    \"LoF_risk as ds_LoF_risk\",\n",
    ")"
   ]
  },
  {
   "cell_type": "markdown",
   "metadata": {},
   "source": [
    "#### Dataset to annotate whether genetics (no chembl datasource) is in agreement"
   ]
  },
  {
   "cell_type": "code",
   "execution_count": 6,
   "metadata": {},
   "outputs": [
    {
     "name": "stderr",
     "output_type": "stream",
     "text": [
      "24/10/18 15:40:14 WARN CacheManager: Asked to cache already cached data.\n",
      "                                                                                \r"
     ]
    }
   ],
   "source": [
    "assessed_evidences_genetics = (\n",
    "    directionOfEffect(evidences, platform_v)\n",
    "    .filter(F.col(\"homogenized\") != \"noEvaluable\")\n",
    "    .filter(F.col(\"datasourceId\") != \"chembl\")\n",
    "    .withColumn(\n",
    "        \"datasources\",\n",
    "        F.collect_set(\"datasourceId\").over(Window.partitionBy(\"targetId\", \"diseaseId\")),\n",
    "    )\n",
    "    .withColumn(\n",
    "        \"maxClinPhase\",\n",
    "        F.max(\"clinicalPhase\").over(Window.partitionBy(\"targetId\", \"diseaseId\")),\n",
    "    )\n",
    ")\n",
    "coherency_assessed_genetics = (\n",
    "    discrepancifier(\n",
    "        assessed_evidences_genetics.withColumn(\n",
    "            \"arrayDiseaseFromSource\",\n",
    "            F.collect_set(F.col(\"diseaseFromSource\")).over(\n",
    "                Window.partitionBy(\"targetId\", \"diseaseId\")\n",
    "            ),\n",
    "        )\n",
    "        .groupBy(\n",
    "            \"targetId\",\n",
    "            \"diseaseId\",\n",
    "            \"datasources\",\n",
    "            \"maxClinPhase\",\n",
    "            \"arrayDiseaseFromSource\",\n",
    "        )\n",
    "        .pivot(\"homogenized\")\n",
    "        .count()\n",
    "    )\n",
    "    .withColumn(\n",
    "        \"geneticsAgreeDiagonal\",\n",
    "        F.when(F.col(\"coherencyDiagonal\") == \"coherent\", F.lit(\"yes\")).otherwise(\n",
    "            F.lit(\"no\")\n",
    "        ),\n",
    "    )\n",
    "    .withColumn(\n",
    "        \"geneticsAgreeOneCell\",\n",
    "        F.when(F.col(\"coherencyOneCell\") == \"coherent\", F.lit(\"yes\")).otherwise(\n",
    "            F.lit(\"no\")\n",
    "        ),\n",
    "    )\n",
    "    .select(\"targetId\", \"diseaseId\", \"geneticsAgreeDiagonal\", \"geneticsAgreeOneCell\")\n",
    "    .persist()\n",
    ")"
   ]
  },
  {
   "cell_type": "markdown",
   "metadata": {},
   "source": [
    "#### Dataset to annnotate whether human genetics (no chembl nor IMPC datasource) is in agreement"
   ]
  },
  {
   "cell_type": "code",
   "execution_count": 7,
   "metadata": {},
   "outputs": [
    {
     "name": "stderr",
     "output_type": "stream",
     "text": [
      "24/10/18 15:40:22 WARN CacheManager: Asked to cache already cached data.\n",
      "                                                                                \r"
     ]
    }
   ],
   "source": [
    "assessed_evidences_genetics_noIMPC = (\n",
    "    directionOfEffect(evidences, platform_v)\n",
    "    .filter(F.col(\"homogenized\") != \"noEvaluable\")\n",
    "    .filter(F.col(\"datasourceId\") != \"chembl\")\n",
    "    .filter(F.col(\"datasourceId\") != \"IMPC\")\n",
    "    .withColumn(\n",
    "        \"datasources\",\n",
    "        F.collect_set(\"datasourceId\").over(Window.partitionBy(\"targetId\", \"diseaseId\")),\n",
    "    )\n",
    "    .withColumn(\n",
    "        \"maxClinPhase\",\n",
    "        F.max(\"clinicalPhase\").over(Window.partitionBy(\"targetId\", \"diseaseId\")),\n",
    "    )\n",
    ")\n",
    "coherency_assessed_genetics_noIMPC = (\n",
    "    discrepancifier(\n",
    "        assessed_evidences_genetics_noIMPC.withColumn(\n",
    "            \"arrayDiseaseFromSource\",\n",
    "            F.collect_set(F.col(\"diseaseFromSource\")).over(\n",
    "                Window.partitionBy(\"targetId\", \"diseaseId\")\n",
    "            ),\n",
    "        )\n",
    "        .groupBy(\n",
    "            \"targetId\",\n",
    "            \"diseaseId\",\n",
    "            \"datasources\",\n",
    "            \"maxClinPhase\",\n",
    "            \"arrayDiseaseFromSource\",\n",
    "        )\n",
    "        .pivot(\"homogenized\")\n",
    "        .count()\n",
    "    )\n",
    "    .withColumn(\n",
    "        \"geneticsAgreeDiagonal_noIMPC\",\n",
    "        F.when(F.col(\"coherencyDiagonal\") == \"coherent\", F.lit(\"yes\")).otherwise(\n",
    "            F.lit(\"no\")\n",
    "        ),\n",
    "    )\n",
    "    .withColumn(\n",
    "        \"geneticsAgreeOneCell_noIMPC\",\n",
    "        F.when(F.col(\"coherencyOneCell\") == \"coherent\", F.lit(\"yes\")).otherwise(\n",
    "            F.lit(\"no\")\n",
    "        ),\n",
    "    )\n",
    "    .select(\n",
    "        \"targetId\",\n",
    "        \"diseaseId\",\n",
    "        \"geneticsAgreeDiagonal_noIMPC\",\n",
    "        \"geneticsAgreeOneCell_noIMPC\",\n",
    "    )\n",
    "    .persist()\n",
    ")"
   ]
  },
  {
   "cell_type": "markdown",
   "metadata": {},
   "source": [
    "#### Dataset to annotate whether there are different diseases from source informing distinct DoE assessments"
   ]
  },
  {
   "cell_type": "code",
   "execution_count": 8,
   "metadata": {},
   "outputs": [],
   "source": [
    "coherency_assessed_diseaseFromSource = discrepancifier(\n",
    "    assessed_evidences.withColumn(\n",
    "        \"arrayDiseaseFromSource\",\n",
    "        F.collect_set(F.col(\"diseaseFromSource\")).over(\n",
    "            Window.partitionBy(\"targetId\", \"diseaseId\")\n",
    "        ),\n",
    "    )\n",
    "    .groupBy(\"targetId\", \"diseaseId\", \"datasources\", \"maxClinPhase\")\n",
    "    .pivot(\"homogenized\")\n",
    "    .agg(F.collect_set(F.col(\"diseaseFromSource\")))\n",
    ").persist()\n",
    "\n",
    "#### Now we will make an assessment to evaluate whether the disease from source in the disparities (and coherencies) are the same or not\n",
    "\n",
    "columns_to_rename = [\"GoF_protect\", \"GoF_risk\", \"LoF_protect\", \"LoF_risk\"]\n",
    "\n",
    "# Rename all the specified columns by adding 'disSource' to their names\n",
    "for col in columns_to_rename:\n",
    "    coherency_assessed_diseaseFromSource = (\n",
    "        coherency_assessed_diseaseFromSource.withColumnRenamed(col, f\"{col}_disSource\")\n",
    "    )\n",
    "\n",
    "# After renaming, select the desired columns\n",
    "coherency_assessed_diseaseFromSource_new = coherency_assessed_diseaseFromSource.select(\n",
    "    \"targetId\",\n",
    "    \"diseaseId\",\n",
    "    \"GoF_protect_disSource\",\n",
    "    \"LoF_protect_disSource\",\n",
    "    \"GoF_risk_disSource\",\n",
    "    \"LoF_risk_disSource\",\n",
    ")\n",
    "\n",
    "coherency_assessed_diseaseFromSource_new2 = (\n",
    "    coherency_assessed_diseaseFromSource_new.withColumn(\n",
    "        \"GP_LR\",\n",
    "        F.when(\n",
    "            (\n",
    "                (\n",
    "                    (F.size(F.col(\"GoF_protect_disSource\")) > 0)\n",
    "                    & (F.size(F.col(\"LoF_risk_disSource\")) > 0)\n",
    "                )\n",
    "                | (\n",
    "                    (F.size(F.col(\"GoF_protect_disSource\")) > 0)\n",
    "                    | (F.size(F.col(\"LoF_risk_disSource\")) > 0)\n",
    "                )\n",
    "            )\n",
    "            & (\n",
    "                (\n",
    "                    (F.size(F.col(\"LoF_protect_disSource\")) > 0)\n",
    "                    | (F.size(F.col(\"GoF_risk_disSource\")) > 0)\n",
    "                )\n",
    "                | (\n",
    "                    (F.size(F.col(\"LoF_protect_disSource\")) > 0)\n",
    "                    & (F.size(F.col(\"GoF_risk_disSource\")) > 0)\n",
    "                )\n",
    "            ),\n",
    "            F.lit(\"dispar1\"),\n",
    "        )\n",
    "        .when(\n",
    "            (\n",
    "                (\n",
    "                    (F.size(F.col(\"GoF_risk_disSource\")) > 0)\n",
    "                    & (F.size(F.col(\"LoF_protect_disSource\")) > 0)\n",
    "                )\n",
    "                | (\n",
    "                    (F.size(F.col(\"GoF_risk_disSource\")) > 0)\n",
    "                    | (F.size(F.col(\"LoF_protect_disSource\")) > 0)\n",
    "                )\n",
    "            )\n",
    "            & (\n",
    "                (\n",
    "                    (F.size(F.col(\"GoF_protect_disSource\")) > 0)\n",
    "                    | (F.size(F.col(\"LoF_risk_disSource\")) > 0)\n",
    "                )\n",
    "                | (\n",
    "                    (F.size(F.col(\"GoF_protect_disSource\")) > 0)\n",
    "                    & (F.size(F.col(\"LoF_risk_disSource\")) > 0)\n",
    "                )\n",
    "            ),\n",
    "            F.lit(\"dispar2\"),\n",
    "        )\n",
    "        .otherwise(F.lit(\"coherent\")),\n",
    "    )\n",
    "    .withColumn(\n",
    "        \"array1\",\n",
    "        F.flatten(\n",
    "            F.array_distinct(\n",
    "                F.array(F.col(\"GoF_protect_disSource\"), F.col(\"LoF_risk_disSource\"))\n",
    "            )\n",
    "        ),\n",
    "    )\n",
    "    .withColumn(\n",
    "        \"array2\",\n",
    "        F.flatten(\n",
    "            F.array_distinct(\n",
    "                F.array(F.col(\"LoF_protect_disSource\"), F.col(\"GoF_risk_disSource\"))\n",
    "            )\n",
    "        ),\n",
    "    )\n",
    "    .withColumn(\n",
    "        \"array1Dispar\",\n",
    "        F.flatten(\n",
    "            F.array_distinct(\n",
    "                F.array(F.col(\"LoF_protect_disSource\"), F.col(\"GoF_risk_disSource\"))\n",
    "            )\n",
    "        ),\n",
    "    )\n",
    "    .withColumn(\n",
    "        \"array2Dispar\",\n",
    "        F.flatten(\n",
    "            F.array_distinct(\n",
    "                F.array(F.col(\"GoF_protect_disSource\"), F.col(\"LoF_risk_disSource\"))\n",
    "            )\n",
    "        ),\n",
    "    )\n",
    ").withColumn(\n",
    "    \"diseaseSource\",  #### Need to check this. Labelling as diferent when having just one disease name\n",
    "    F.when(\n",
    "        (\n",
    "            (F.size(F.col(\"array1\")))\n",
    "            == (F.size(F.array_intersect(F.col(\"array1\"), F.col(\"array1Dispar\"))))\n",
    "        )\n",
    "        & (\n",
    "            (F.size(F.col(\"array1Dispar\")))\n",
    "            == (F.size(F.array_intersect(F.col(\"array1\"), F.col(\"array1Dispar\"))))\n",
    "        ),\n",
    "        F.lit(\"same\"),\n",
    "    ).otherwise(\"diferent\"),\n",
    ")"
   ]
  },
  {
   "cell_type": "markdown",
   "metadata": {},
   "source": [
    "#### Dataset to annotate the most severe therapeutic area of each disease"
   ]
  },
  {
   "cell_type": "code",
   "execution_count": 9,
   "metadata": {},
   "outputs": [],
   "source": [
    "complementary = (\n",
    "    assessed_evidences.groupBy(\"targetId\", \"diseaseId\")\n",
    "    .pivot(\"homogenized\")\n",
    "    .agg(F.collect_set(\"datasourceId\"))\n",
    ")\n",
    "taDf = spark.createDataFrame(\n",
    "    data=[\n",
    "        (\"MONDO_0045024\", \"cell proliferation disorder\", \"Oncology\"),\n",
    "        (\"EFO_0005741\", \"infectious disease\", \"Other\"),\n",
    "        (\"OTAR_0000014\", \"pregnancy or perinatal disease\", \"Other\"),\n",
    "        (\"EFO_0005932\", \"animal disease\", \"Other\"),\n",
    "        (\"MONDO_0024458\", \"disease of visual system\", \"Other\"),\n",
    "        (\"EFO_0000319\", \"cardiovascular disease\", \"Other\"),\n",
    "        (\"EFO_0009605\", \"pancreas disease\", \"Other\"),\n",
    "        (\"EFO_0010282\", \"gastrointestinal disease\", \"Other\"),\n",
    "        (\"OTAR_0000017\", \"reproductive system or breast disease\", \"Other\"),\n",
    "        (\"EFO_0010285\", \"integumentary system disease\", \"Other\"),\n",
    "        (\"EFO_0001379\", \"endocrine system disease\", \"Other\"),\n",
    "        (\"OTAR_0000010\", \"respiratory or thoracic disease\", \"Other\"),\n",
    "        (\"EFO_0009690\", \"urinary system disease\", \"Other\"),\n",
    "        (\"OTAR_0000006\", \"musculoskeletal or connective tissue disease\", \"Other\"),\n",
    "        (\"MONDO_0021205\", \"disease of ear\", \"Other\"),\n",
    "        (\"EFO_0000540\", \"immune system disease\", \"Other\"),\n",
    "        (\"EFO_0005803\", \"hematologic disease\", \"Other\"),\n",
    "        (\"EFO_0000618\", \"nervous system disease\", \"Other\"),\n",
    "        (\"MONDO_0002025\", \"psychiatric disorder\", \"Other\"),\n",
    "        (\"MONDO_0024297\", \"nutritional or metabolic disease\", \"Other\"),\n",
    "        (\"OTAR_0000018\", \"genetic, familial or congenital disease\", \"Other\"),\n",
    "        (\"OTAR_0000009\", \"injury, poisoning or other complication\", \"Other\"),\n",
    "        (\"EFO_0000651\", \"phenotype\", \"Other\"),\n",
    "        (\"EFO_0001444\", \"measurement\", \"Other\"),\n",
    "        (\"GO_0008150\", \"biological process\", \"Other\"),\n",
    "    ],\n",
    "    schema=StructType(\n",
    "        [\n",
    "            StructField(\"taId\", StringType(), True),\n",
    "            StructField(\"taLabel\", StringType(), True),\n",
    "            StructField(\"taLabelSimple\", StringType(), True),\n",
    "        ]\n",
    "    ),\n",
    ").withColumn(\"taRank\", F.monotonically_increasing_id())\n",
    "\n",
    "wByDisease = Window.partitionBy(\"diseaseId\")\n",
    "\n",
    "complete = (\n",
    "    coherency_assessed.join(\n",
    "        diseases.withColumn(\"taId\", F.explode(\"therapeuticAreas\"))\n",
    "        .select(F.col(\"id\").alias(\"diseaseId\"), \"taId\", \"name\")\n",
    "        .join(taDf, on=\"taId\", how=\"left\")\n",
    "        .withColumn(\"minRank\", F.min(\"taRank\").over(wByDisease))\n",
    "        .filter(F.col(\"taRank\") == F.col(\"minRank\"))\n",
    "        .drop(\"taRank\", \"minRank\"),\n",
    "        on=\"diseaseId\",\n",
    "        how=\"left\",\n",
    "    )\n",
    "    .select(\n",
    "        \"targetId\",\n",
    "        \"diseaseId\",\n",
    "        \"arrayDiseaseFromSource\",\n",
    "        \"name\",\n",
    "        \"GoF_protect\",\n",
    "        \"GoF_risk\",\n",
    "        \"LoF_protect\",\n",
    "        \"LoF_risk\",\n",
    "        \"coherencyDiagonal\",\n",
    "        \"coherencyOneCell\",\n",
    "        \"datasources\",\n",
    "        \"maxClinPhase\",\n",
    "        \"taLabel\",\n",
    "        \"taLabelSimple\",\n",
    "    )\n",
    "    .filter(\n",
    "        (F.col(\"coherencyDiagonal\") == \"dispar\")\n",
    "        | (F.col(\"coherencyOneCell\") == \"dispar\")\n",
    "    )\n",
    "    .join(\n",
    "        target.selectExpr(\"id as targetId\", \"approvedSymbol\"), on=\"targetId\", how=\"left\"\n",
    "    )\n",
    "    .withColumn(\n",
    "        \"linkOT\",\n",
    "        F.concat(\n",
    "            F.lit(\"https://platform.opentargets.org/evidence/\"),\n",
    "            F.col(\"targetId\"),\n",
    "            F.lit(\"/\"),\n",
    "            F.col(\"diseaseId\"),  # Column containing \"EFO_0009188\"\n",
    "        ),\n",
    "    )\n",
    "    .persist()\n",
    ")"
   ]
  },
  {
   "cell_type": "markdown",
   "metadata": {},
   "source": [
    "#### Join previous datasets (containig annotations) with the main"
   ]
  },
  {
   "cell_type": "code",
   "execution_count": 19,
   "metadata": {},
   "outputs": [],
   "source": [
    "complete_whole = (\n",
    "    complete.join(\n",
    "        coherency_assessed_datasourcesPerDoE, on=[\"targetId\", \"diseaseId\"], how=\"left\"\n",
    "    )\n",
    "    .join(coherency_assessed_genetics, on=[\"targetId\", \"diseaseId\"], how=\"left\")\n",
    "    .join(coherency_assessed_genetics_noIMPC, on=[\"targetId\", \"diseaseId\"], how=\"left\")\n",
    ").persist()"
   ]
  },
  {
   "cell_type": "markdown",
   "metadata": {},
   "source": [
    "### Join with the dataset with manual annotations"
   ]
  },
  {
   "cell_type": "code",
   "execution_count": 10,
   "metadata": {},
   "outputs": [
    {
     "name": "stderr",
     "output_type": "stream",
     "text": [
      "                                                                                \r"
     ]
    }
   ],
   "source": [
    "### manual annotations dataset:\n",
    "annotations = spark.read.csv(\n",
    "    \"gs://ot-team/jroldan/analysis/jroldan_analysis_20240516_subsetInterestingSpace_20241016.csv\",\n",
    "    header=True,\n",
    "    inferSchema=True,\n",
    ").select(\n",
    "    \"targetId\",\n",
    "    \"diseaseId\",\n",
    "    \"_c15\",\n",
    "    \"comment\",\n",
    "    \"type\",\n",
    "    \"data type\",\n",
    "    \"is_indication_the_main_disease?\",\n",
    "    \"is_the_causality_target-disease_the_reason_of_the_drug?\",\n",
    "    \"New_Coherency_Diagonal?\",\n",
    "    \"New_Coherency_One_Cell?\",\n",
    "    \"Potential_Safety\",\n",
    ")"
   ]
  },
  {
   "cell_type": "markdown",
   "metadata": {},
   "source": [
    "#### Join manual annotations and diseases from Source with the complete whole "
   ]
  },
  {
   "cell_type": "code",
   "execution_count": 20,
   "metadata": {},
   "outputs": [],
   "source": [
    "complete_whole_ready = complete_whole.join(\n",
    "    annotations, on=[\"targetId\", \"diseaseId\"], how=\"left\"\n",
    ").join(\n",
    "    coherency_assessed_diseaseFromSource_new2, on=[\"targetId\", \"diseaseId\"], how=\"left\"\n",
    ")"
   ]
  },
  {
   "cell_type": "markdown",
   "metadata": {},
   "source": [
    "### Check number of measurement and phenotypes with discrepancies where disease from source is different:"
   ]
  },
  {
   "cell_type": "code",
   "execution_count": 112,
   "metadata": {},
   "outputs": [
    {
     "name": "stderr",
     "output_type": "stream",
     "text": [
      "[Stage 827:=================================>                  (128 + 18) / 200]\r"
     ]
    },
    {
     "name": "stdout",
     "output_type": "stream",
     "text": [
      "+--------------------------------------------------------------------------------------------------+--------+----+\n",
      "|taName                                                                                            |diferent|same|\n",
      "+--------------------------------------------------------------------------------------------------+--------+----+\n",
      "|[measurement]                                                                                     |3766    |1989|\n",
      "|[cell proliferation disorder, reproductive system or breast disease]                              |98      |57  |\n",
      "|[psychiatric disorder, nervous system disease]                                                    |262     |45  |\n",
      "|[cell proliferation disorder, endocrine system disease, reproductive system or breast disease]    |48      |34  |\n",
      "|[cardiovascular disease]                                                                          |175     |32  |\n",
      "|[cell proliferation disorder, gastrointestinal disease]                                           |118     |30  |\n",
      "|[phenotype]                                                                                       |288     |29  |\n",
      "|[cell proliferation disorder]                                                                     |161     |17  |\n",
      "|[biological process]                                                                              |34      |15  |\n",
      "|[genetic, familial or congenital disease, psychiatric disorder, nervous system disease]           |30      |14  |\n",
      "|[cell proliferation disorder, respiratory or thoracic disease]                                    |85      |13  |\n",
      "|[cell proliferation disorder, endocrine system disease]                                           |18      |12  |\n",
      "|[genetic, familial or congenital disease, nervous system disease]                                 |42      |11  |\n",
      "|[cell proliferation disorder, integumentary system disease, reproductive system or breast disease]|65      |11  |\n",
      "|[immune system disease, endocrine system disease, pancreas disease, gastrointestinal disease]     |16      |11  |\n",
      "|[immune system disease, nervous system disease]                                                   |6       |9   |\n",
      "|[genetic, familial or congenital disease, immune system disease, gastrointestinal disease]        |98      |8   |\n",
      "|[disease of visual system]                                                                        |9       |8   |\n",
      "|[integumentary system disease, injury, poisoning or other complication]                           |null    |7   |\n",
      "|[cell proliferation disorder, nervous system disease]                                             |54      |7   |\n",
      "+--------------------------------------------------------------------------------------------------+--------+----+\n",
      "only showing top 20 rows\n",
      "\n"
     ]
    },
    {
     "name": "stderr",
     "output_type": "stream",
     "text": [
      "                                                                                \r"
     ]
    }
   ],
   "source": [
    "complete_whole_ready.filter(F.col(\"coherencyDiagonal\") == \"dispar\").groupBy(\n",
    "    \"taName\"\n",
    ").pivot(\"diseaseSource\").count().sort(F.col(\"same\").desc()).show(truncate=False)"
   ]
  },
  {
   "cell_type": "markdown",
   "metadata": {},
   "source": [
    "#### Print dataset to share with partners"
   ]
  },
  {
   "cell_type": "code",
   "execution_count": 23,
   "metadata": {},
   "outputs": [
    {
     "name": "stdout",
     "output_type": "stream",
     "text": [
      "root\n",
      " |-- targetId: string (nullable = true)\n",
      " |-- diseaseId: string (nullable = true)\n",
      " |-- arrayDiseaseFromSource: array (nullable = false)\n",
      " |    |-- element: string (containsNull = false)\n",
      " |-- name: string (nullable = true)\n",
      " |-- GoF_protect: long (nullable = true)\n",
      " |-- GoF_risk: long (nullable = true)\n",
      " |-- LoF_protect: long (nullable = true)\n",
      " |-- LoF_risk: long (nullable = true)\n",
      " |-- coherencyDiagonal: string (nullable = true)\n",
      " |-- coherencyOneCell: string (nullable = true)\n",
      " |-- datasources: array (nullable = false)\n",
      " |    |-- element: string (containsNull = false)\n",
      " |-- maxClinPhase: double (nullable = true)\n",
      " |-- taLabel: string (nullable = true)\n",
      " |-- taLabelSimple: string (nullable = true)\n",
      " |-- approvedSymbol: string (nullable = true)\n",
      " |-- linkOT: string (nullable = true)\n",
      " |-- ds_GoF_protect: array (nullable = true)\n",
      " |    |-- element: string (containsNull = false)\n",
      " |-- ds_GoF_risk: array (nullable = true)\n",
      " |    |-- element: string (containsNull = false)\n",
      " |-- ds_LoF_protect: array (nullable = true)\n",
      " |    |-- element: string (containsNull = false)\n",
      " |-- ds_LoF_risk: array (nullable = true)\n",
      " |    |-- element: string (containsNull = false)\n",
      " |-- geneticsAgreeDiagonal: string (nullable = true)\n",
      " |-- geneticsAgreeOneCell: string (nullable = true)\n",
      " |-- geneticsAgreeDiagonal_noIMPC: string (nullable = true)\n",
      " |-- geneticsAgreeOneCell_noIMPC: string (nullable = true)\n",
      " |-- _c15: string (nullable = true)\n",
      " |-- comment: string (nullable = true)\n",
      " |-- type: string (nullable = true)\n",
      " |-- data type: string (nullable = true)\n",
      " |-- is_indication_the_main_disease?: string (nullable = true)\n",
      " |-- is_the_causality_target-disease_the_reason_of_the_drug?: string (nullable = true)\n",
      " |-- New_Coherency_Diagonal?: string (nullable = true)\n",
      " |-- New_Coherency_One_Cell?: string (nullable = true)\n",
      " |-- Potential_Safety: string (nullable = true)\n",
      " |-- GoF_protect_disSource: array (nullable = true)\n",
      " |    |-- element: string (containsNull = false)\n",
      " |-- LoF_protect_disSource: array (nullable = true)\n",
      " |    |-- element: string (containsNull = false)\n",
      " |-- GoF_risk_disSource: array (nullable = true)\n",
      " |    |-- element: string (containsNull = false)\n",
      " |-- LoF_risk_disSource: array (nullable = true)\n",
      " |    |-- element: string (containsNull = false)\n",
      " |-- GP_LR: string (nullable = true)\n",
      " |-- array1: array (nullable = true)\n",
      " |    |-- element: string (containsNull = false)\n",
      " |-- array2: array (nullable = true)\n",
      " |    |-- element: string (containsNull = false)\n",
      " |-- array1Dispar: array (nullable = true)\n",
      " |    |-- element: string (containsNull = false)\n",
      " |-- array2Dispar: array (nullable = true)\n",
      " |    |-- element: string (containsNull = false)\n",
      " |-- diseaseSource: string (nullable = true)\n",
      "\n"
     ]
    }
   ],
   "source": [
    "complete_whole_ready.printSchema()"
   ]
  },
  {
   "cell_type": "code",
   "execution_count": 26,
   "metadata": {},
   "outputs": [
    {
     "name": "stderr",
     "output_type": "stream",
     "text": [
      "                                                                                \r"
     ]
    }
   ],
   "source": [
    "complete_whole_ready.filter(F.col(\"coherencyDiagonal\") == \"dispar\").selectExpr(\n",
    "    \"targetId\",\n",
    "    \"approvedSymbol\",\n",
    "    \"diseaseId\",\n",
    "    \"name\",\n",
    "    \"GoF_protect\",\n",
    "    \"GoF_risk\",\n",
    "    \"LoF_protect\",\n",
    "    \"LoF_risk\",\n",
    "    \"coherencyDiagonal\",\n",
    "    \"datasources\",\n",
    "    \"maxClinPhase\",\n",
    "    \"taLabel\",\n",
    "    \"taLabelSimple\",\n",
    "    \"linkOT\",\n",
    "    \"ds_GoF_protect\",\n",
    "    \"ds_GoF_risk\",\n",
    "    \"ds_LoF_protect\",\n",
    "    \"ds_LoF_risk\",\n",
    "    \"geneticsAgreeDiagonal\",\n",
    "    \"geneticsAgreeDiagonal_noIMPC\",\n",
    "    \"GoF_protect_disSource as disSource_GoF_protect\",\n",
    "    \"LoF_protect_disSource as disSource_LoF_protect\",\n",
    "    \"GoF_risk_disSource as disSource_GoF_risk\",\n",
    "    \"LoF_risk_disSource as disSource_LoF_risk\",\n",
    "    \"diseaseSource as diferent_disSource\",\n",
    ").toPandas().to_csv(\n",
    "    \"gs://ot-team/jroldan/analysis/20241018_diagonalDiscrepanciesDoE.csv\"\n",
    ")"
   ]
  },
  {
   "cell_type": "code",
   "execution_count": null,
   "metadata": {},
   "outputs": [],
   "source": []
  },
  {
   "cell_type": "markdown",
   "metadata": {},
   "source": [
    "#### Among measurement and phenotypes, 2/3 are discrepancies have different disease from source in giving different DoE"
   ]
  },
  {
   "cell_type": "code",
   "execution_count": 104,
   "metadata": {},
   "outputs": [
    {
     "name": "stderr",
     "output_type": "stream",
     "text": [
      "[Stage 498:=======================================>            (151 + 16) / 200]\r"
     ]
    },
    {
     "name": "stdout",
     "output_type": "stream",
     "text": [
      "+-------------+-----+\n",
      "|diseaseSource|count|\n",
      "+-------------+-----+\n",
      "|         same| 2019|\n",
      "|     diferent| 4059|\n",
      "+-------------+-----+\n",
      "\n"
     ]
    },
    {
     "name": "stderr",
     "output_type": "stream",
     "text": [
      "                                                                                \r"
     ]
    }
   ],
   "source": [
    "complete_whole_ready.filter(\n",
    "    F.size(\n",
    "        F.array_intersect(\n",
    "            F.col(\"taName\"), F.array(F.lit(\"measurement\"), F.lit(\"phenotype\"))\n",
    "        )\n",
    "    )\n",
    "    > 0\n",
    ").filter(F.col(\"coherencyDiagonal\") == \"dispar\").groupBy(\"diseaseSource\").count().show()"
   ]
  },
  {
   "cell_type": "markdown",
   "metadata": {},
   "source": [
    "#### Counts of associations per N of evidences"
   ]
  },
  {
   "cell_type": "code",
   "execution_count": 36,
   "metadata": {},
   "outputs": [
    {
     "name": "stdout",
     "output_type": "stream",
     "text": [
      "+------------+----------------+------+\n",
      "|greaterThan1|coherencyOneCell| count|\n",
      "+------------+----------------+------+\n",
      "|           1|        coherent|588232|\n",
      "|greaterThan1|          dispar| 15885|\n",
      "|greaterThan1|        coherent|261699|\n",
      "+------------+----------------+------+\n",
      "\n"
     ]
    }
   ],
   "source": [
    "coherency_assessed.withColumn(\n",
    "    \"totalEvidences\",\n",
    "    F.coalesce(F.col(\"GoF_protect\"), F.lit(0))\n",
    "    + F.coalesce(F.col(\"GoF_risk\"), F.lit(0))\n",
    "    + F.coalesce(F.col(\"LoF_protect\"), F.lit(0))\n",
    "    + F.coalesce(F.col(\"LoF_risk\"), F.lit(0)),\n",
    ").withColumn(\n",
    "    \"greaterThan1\",\n",
    "    F.when(F.col(\"totalEvidences\") > 1, F.lit(\"greaterThan1\")).otherwise(F.lit(1)),\n",
    ").groupBy(\n",
    "    \"greaterThan1\", \"coherencyOneCell\"\n",
    ").count().show()"
   ]
  },
  {
   "cell_type": "markdown",
   "metadata": {},
   "source": [
    "#### Discrepancies per therapeutic Area"
   ]
  },
  {
   "cell_type": "code",
   "execution_count": null,
   "metadata": {},
   "outputs": [],
   "source": [
    "import seaborn as sns"
   ]
  },
  {
   "cell_type": "markdown",
   "metadata": {},
   "source": [
    "#### Numbers of discrepancies regarding diagonal criteria"
   ]
  },
  {
   "cell_type": "code",
   "execution_count": 74,
   "metadata": {},
   "outputs": [
    {
     "name": "stderr",
     "output_type": "stream",
     "text": [
      "                                                                                \r"
     ]
    }
   ],
   "source": [
    "toBarPlot = (\n",
    "    complete_whole_ready.filter(F.col(\"coherencyDiagonal\") == \"dispar\")\n",
    "    .groupBy(\"taLabel\")\n",
    "    .count()\n",
    "    .sort(F.col(\"count\").desc())\n",
    "    .limit(10)\n",
    "    .toPandas()\n",
    ")"
   ]
  },
  {
   "cell_type": "code",
   "execution_count": 75,
   "metadata": {},
   "outputs": [
    {
     "data": {
      "text/plain": [
       "<AxesSubplot:xlabel='count', ylabel='taLabel'>"
      ]
     },
     "execution_count": 75,
     "metadata": {},
     "output_type": "execute_result"
    },
    {
     "data": {
      "image/png": "[encoded data removed]",
      "text/plain": [
       "<Figure size 640x480 with 1 Axes>"
      ]
     },
     "metadata": {},
     "output_type": "display_data"
    }
   ],
   "source": [
    "sns.barplot(toBarPlot, x=\"count\", y=\"taLabel\", errorbar=None, orient=\"h\")"
   ]
  },
  {
   "cell_type": "markdown",
   "metadata": {},
   "source": [
    "### Bring diseases from measurements"
   ]
  },
  {
   "cell_type": "code",
   "execution_count": 96,
   "metadata": {},
   "outputs": [
    {
     "name": "stderr",
     "output_type": "stream",
     "text": [
      "                                                                                \r"
     ]
    }
   ],
   "source": [
    "toPlotMeasurements = (\n",
    "    complete_whole_ready.filter(F.col(\"taLabel\") == \"measurement\")\n",
    "    .groupBy(\n",
    "        \"name\",\n",
    "        \"arrayDiseaseFromSource\",\n",
    "        # \"GP_LR\",\n",
    "        # \"diseaseSource\"\n",
    "    )\n",
    "    .count()\n",
    "    .sort(F.col(\"count\").desc())\n",
    "    # .withColumn(\"difSources\", F.size(\"arrayDiseaseFromSource\"))\n",
    "    .limit(20)\n",
    "    .toPandas()\n",
    ")"
   ]
  },
  {
   "cell_type": "code",
   "execution_count": 97,
   "metadata": {},
   "outputs": [
    {
     "data": {
      "text/plain": [
       "<AxesSubplot:xlabel='count', ylabel='name'>"
      ]
     },
     "execution_count": 97,
     "metadata": {},
     "output_type": "execute_result"
    },
    {
     "data": {
      "image/png": "[encoded data removed]",
      "text/plain": [
       "<Figure size 640x480 with 1 Axes>"
      ]
     },
     "metadata": {},
     "output_type": "display_data"
    }
   ],
   "source": [
    "sns.barplot(toPlotMeasurements, x=\"count\", y=\"name\", errorbar=None, orient=\"h\")"
   ]
  },
  {
   "cell_type": "code",
   "execution_count": 77,
   "metadata": {},
   "outputs": [
    {
     "name": "stderr",
     "output_type": "stream",
     "text": [
      "[Stage 1380:============================================>      (176 + 15) / 200]\r"
     ]
    },
    {
     "name": "stdout",
     "output_type": "stream",
     "text": [
      "+--------------+-----+\n",
      "|approvedSymbol|count|\n",
      "+--------------+-----+\n",
      "|          APOE|   30|\n",
      "|           ABO|   24|\n",
      "|         SH2B3|   24|\n",
      "|         FADS1|   23|\n",
      "|          LIPC|   22|\n",
      "|        PIEZO1|   22|\n",
      "|          LEPR|   21|\n",
      "|         FADS2|   18|\n",
      "|        JMJD1C|   16|\n",
      "|          TET2|   16|\n",
      "|       TMEM258|   16|\n",
      "|        IFITM2|   16|\n",
      "|         CEBPA|   15|\n",
      "|      SLC25A37|   15|\n",
      "|         PPARG|   14|\n",
      "|         APOC1|   14|\n",
      "|        UBXN2A|   14|\n",
      "|          FEN1|   14|\n",
      "|          MYRF|   14|\n",
      "|        LEPROT|   13|\n",
      "+--------------+-----+\n",
      "only showing top 20 rows\n",
      "\n"
     ]
    },
    {
     "name": "stderr",
     "output_type": "stream",
     "text": [
      "                                                                                \r"
     ]
    }
   ],
   "source": [
    "### Genes type in measurements\n",
    "complete_whole_ready.filter(F.col(\"taLabel\") == \"measurement\").groupBy(\n",
    "    \"approvedSymbol\"\n",
    ").count().sort(F.col(\"count\").desc()).show()"
   ]
  },
  {
   "cell_type": "markdown",
   "metadata": {},
   "source": [
    "### Examples of 2/3 different diseases from source"
   ]
  },
  {
   "cell_type": "code",
   "execution_count": 120,
   "metadata": {},
   "outputs": [
    {
     "name": "stdout",
     "output_type": "stream",
     "text": [
      "-RECORD 0------------------------------------------------------------------------------------------------------------------------\n",
      " targetId                                                | ENSG00000112079                                                       \n",
      " diseaseId                                               | EFO_0004309                                                           \n",
      " arrayDiseaseFromSource                                  | [Platelet count, 30080#Platelet count]                                \n",
      " name                                                    | platelet count                                                        \n",
      " GoF_protect                                             | null                                                                  \n",
      " GoF_risk                                                | 1                                                                     \n",
      " LoF_protect                                             | 1                                                                     \n",
      " LoF_risk                                                | 1                                                                     \n",
      " coherencyDiagonal                                       | dispar                                                                \n",
      " coherencyOneCell                                        | dispar                                                                \n",
      " datasources                                             | [ot_genetics_portal, gene_burden]                                     \n",
      " maxClinPhase                                            | null                                                                  \n",
      " taLabel                                                 | measurement                                                           \n",
      " taLabelSimple                                           | Other                                                                 \n",
      " approvedSymbol                                          | STK38                                                                 \n",
      " linkOT                                                  | https://platform.opentargets.org/evidence/ENSG00000112079/EFO_0004309 \n",
      " GoF_protect                                             | []                                                                    \n",
      " GoF_risk                                                | [ot_genetics_portal]                                                  \n",
      " LoF_protect                                             | [ot_genetics_portal]                                                  \n",
      " LoF_risk                                                | [gene_burden]                                                         \n",
      " geneticsAgreeDiagonal                                   | no                                                                    \n",
      " geneticsAgreeOneCell                                    | no                                                                    \n",
      " geneticsAgreeDiagonal_noIMPC                            | no                                                                    \n",
      " geneticsAgreeOneCell_noIMPC                             | no                                                                    \n",
      " _c15                                                    | null                                                                  \n",
      " comment                                                 | null                                                                  \n",
      " type                                                    | null                                                                  \n",
      " data type                                               | null                                                                  \n",
      " is_indication_the_main_disease?                         | null                                                                  \n",
      " is_the_causality_target-disease_the_reason_of_the_drug? | null                                                                  \n",
      " New_Coherency_Diagonal?                                 | null                                                                  \n",
      " New_Coherency_One_Cell?                                 | null                                                                  \n",
      " Potential_Safety                                        | null                                                                  \n",
      " GoF_protect_disSource                                   | []                                                                    \n",
      " LoF_protect_disSource                                   | [Platelet count]                                                      \n",
      " GoF_risk_disSource                                      | [Platelet count]                                                      \n",
      " LoF_risk_disSource                                      | [30080#Platelet count]                                                \n",
      " GP_LR                                                   | dispar1                                                               \n",
      " array1                                                  | [30080#Platelet count]                                                \n",
      " array2                                                  | [Platelet count]                                                      \n",
      " array1Dispar                                            | [Platelet count]                                                      \n",
      " array2Dispar                                            | [30080#Platelet count]                                                \n",
      " diseaseSource                                           | diferent                                                              \n",
      "\n"
     ]
    }
   ],
   "source": [
    "#### Example 1 - example of 2 datasources giving different\n",
    "\n",
    "complete_whole_ready.filter(\n",
    "    (F.col(\"targetId\") == \"ENSG00000112079\") & (F.col(\"diseaseId\") == \"EFO_0004309\")\n",
    ").show(vertical=True, truncate=False)"
   ]
  },
  {
   "cell_type": "code",
   "execution_count": 122,
   "metadata": {},
   "outputs": [
    {
     "name": "stdout",
     "output_type": "stream",
     "text": [
      "-RECORD 0------------------------------------------------------------------------------------------------------------------------\n",
      " targetId                                                | ENSG00000158552                                                       \n",
      " diseaseId                                               | EFO_0007993                                                           \n",
      " arrayDiseaseFromSource                                  | [Lymphocyte percentage, Lymphocyte percentage of white cells]         \n",
      " name                                                    | lymphocyte percentage of leukocytes                                   \n",
      " GoF_protect                                             | 1                                                                     \n",
      " GoF_risk                                                | null                                                                  \n",
      " LoF_protect                                             | 2                                                                     \n",
      " LoF_risk                                                | null                                                                  \n",
      " coherencyDiagonal                                       | dispar                                                                \n",
      " coherencyOneCell                                        | dispar                                                                \n",
      " datasources                                             | [ot_genetics_portal]                                                  \n",
      " maxClinPhase                                            | null                                                                  \n",
      " taLabel                                                 | measurement                                                           \n",
      " taLabelSimple                                           | Other                                                                 \n",
      " approvedSymbol                                          | ZFAND2B                                                               \n",
      " linkOT                                                  | https://platform.opentargets.org/evidence/ENSG00000158552/EFO_0007993 \n",
      " GoF_protect                                             | [ot_genetics_portal]                                                  \n",
      " GoF_risk                                                | []                                                                    \n",
      " LoF_protect                                             | [ot_genetics_portal]                                                  \n",
      " LoF_risk                                                | []                                                                    \n",
      " geneticsAgreeDiagonal                                   | no                                                                    \n",
      " geneticsAgreeOneCell                                    | no                                                                    \n",
      " geneticsAgreeDiagonal_noIMPC                            | no                                                                    \n",
      " geneticsAgreeOneCell_noIMPC                             | no                                                                    \n",
      " _c15                                                    | null                                                                  \n",
      " comment                                                 | null                                                                  \n",
      " type                                                    | null                                                                  \n",
      " data type                                               | null                                                                  \n",
      " is_indication_the_main_disease?                         | null                                                                  \n",
      " is_the_causality_target-disease_the_reason_of_the_drug? | null                                                                  \n",
      " New_Coherency_Diagonal?                                 | null                                                                  \n",
      " New_Coherency_One_Cell?                                 | null                                                                  \n",
      " Potential_Safety                                        | null                                                                  \n",
      " GoF_protect_disSource                                   | [Lymphocyte percentage of white cells]                                \n",
      " LoF_protect_disSource                                   | [Lymphocyte percentage, Lymphocyte percentage of white cells]         \n",
      " GoF_risk_disSource                                      | []                                                                    \n",
      " LoF_risk_disSource                                      | []                                                                    \n",
      " GP_LR                                                   | dispar1                                                               \n",
      " array1                                                  | [Lymphocyte percentage of white cells]                                \n",
      " array2                                                  | [Lymphocyte percentage, Lymphocyte percentage of white cells]         \n",
      " array1Dispar                                            | [Lymphocyte percentage, Lymphocyte percentage of white cells]         \n",
      " array2Dispar                                            | [Lymphocyte percentage of white cells]                                \n",
      " diseaseSource                                           | diferent                                                              \n",
      "\n"
     ]
    }
   ],
   "source": [
    "### Example 2\n",
    "\n",
    "complete_whole_ready.filter(\n",
    "    (F.col(\"targetId\") == \"ENSG00000158552\") & (F.col(\"diseaseId\") == \"EFO_0007993\")\n",
    ").show(vertical=True, truncate=False)"
   ]
  },
  {
   "cell_type": "code",
   "execution_count": 123,
   "metadata": {},
   "outputs": [
    {
     "name": "stdout",
     "output_type": "stream",
     "text": [
      "-RECORD 0--------------------------------------------------------------------------------------------------------------------------------------\n",
      " targetId                                                | ENSG00000107201                                                                     \n",
      " diseaseId                                               | EFO_0004509                                                                         \n",
      " arrayDiseaseFromSource                                  | [Hemoglobin levels, Hemoglobin concentration, Hemoglobin]                           \n",
      " name                                                    | hemoglobin measurement                                                              \n",
      " GoF_protect                                             | 1                                                                                   \n",
      " GoF_risk                                                | 3                                                                                   \n",
      " LoF_protect                                             | 1                                                                                   \n",
      " LoF_risk                                                | null                                                                                \n",
      " coherencyDiagonal                                       | dispar                                                                              \n",
      " coherencyOneCell                                        | dispar                                                                              \n",
      " datasources                                             | [ot_genetics_portal]                                                                \n",
      " maxClinPhase                                            | null                                                                                \n",
      " taLabel                                                 | measurement                                                                         \n",
      " taLabelSimple                                           | Other                                                                               \n",
      " approvedSymbol                                          | RIGI                                                                                \n",
      " linkOT                                                  | https://platform.opentargets.org/evidence/ENSG00000107201/EFO_0004509               \n",
      " GoF_protect                                             | [ot_genetics_portal]                                                                \n",
      " GoF_risk                                                | [ot_genetics_portal]                                                                \n",
      " LoF_protect                                             | [ot_genetics_portal]                                                                \n",
      " LoF_risk                                                | []                                                                                  \n",
      " geneticsAgreeDiagonal                                   | no                                                                                  \n",
      " geneticsAgreeOneCell                                    | no                                                                                  \n",
      " geneticsAgreeDiagonal_noIMPC                            | no                                                                                  \n",
      " geneticsAgreeOneCell_noIMPC                             | no                                                                                  \n",
      " _c15                                                    | null                                                                                \n",
      " comment                                                 | null                                                                                \n",
      " type                                                    | null                                                                                \n",
      " data type                                               | null                                                                                \n",
      " is_indication_the_main_disease?                         | null                                                                                \n",
      " is_the_causality_target-disease_the_reason_of_the_drug? | null                                                                                \n",
      " New_Coherency_Diagonal?                                 | null                                                                                \n",
      " New_Coherency_One_Cell?                                 | null                                                                                \n",
      " Potential_Safety                                        | null                                                                                \n",
      " GoF_protect_disSource                                   | [Hemoglobin concentration]                                                          \n",
      " LoF_protect_disSource                                   | [Hemoglobin concentration]                                                          \n",
      " GoF_risk_disSource                                      | [Hemoglobin levels, Hemoglobin concentration, Hemoglobin]                           \n",
      " LoF_risk_disSource                                      | []                                                                                  \n",
      " GP_LR                                                   | dispar1                                                                             \n",
      " array1                                                  | [Hemoglobin concentration]                                                          \n",
      " array2                                                  | [Hemoglobin concentration, Hemoglobin levels, Hemoglobin concentration, Hemoglobin] \n",
      " array1Dispar                                            | [Hemoglobin concentration, Hemoglobin levels, Hemoglobin concentration, Hemoglobin] \n",
      " array2Dispar                                            | [Hemoglobin concentration]                                                          \n",
      " diseaseSource                                           | diferent                                                                            \n",
      "\n"
     ]
    }
   ],
   "source": [
    "### Example 3\n",
    "\n",
    "complete_whole_ready.filter(\n",
    "    (F.col(\"targetId\") == \"ENSG00000107201\") & (F.col(\"diseaseId\") == \"EFO_0004509\")\n",
    ").show(vertical=True, truncate=False)"
   ]
  },
  {
   "cell_type": "code",
   "execution_count": 128,
   "metadata": {},
   "outputs": [
    {
     "name": "stdout",
     "output_type": "stream",
     "text": [
      "-RECORD 0---------------------------------------------------------------------------------------------------------------------------------------------------------------\n",
      " targetId                                                | ENSG00000169231                                                                                              \n",
      " diseaseId                                               | EFO_0004980                                                                                                  \n",
      " arrayDiseaseFromSource                                  | [Appendicular fat free mass index adjusted for body mass index (AFFMIadjBMI) female, Appendicular lean mass] \n",
      " name                                                    | appendicular lean mass                                                                                       \n",
      " GoF_protect                                             | 1                                                                                                            \n",
      " GoF_risk                                                | 1                                                                                                            \n",
      " LoF_protect                                             | null                                                                                                         \n",
      " LoF_risk                                                | 1                                                                                                            \n",
      " coherencyDiagonal                                       | dispar                                                                                                       \n",
      " coherencyOneCell                                        | dispar                                                                                                       \n",
      " datasources                                             | [ot_genetics_portal, gene_burden]                                                                            \n",
      " maxClinPhase                                            | null                                                                                                         \n",
      " taLabel                                                 | measurement                                                                                                  \n",
      " taLabelSimple                                           | Other                                                                                                        \n",
      " approvedSymbol                                          | THBS3                                                                                                        \n",
      " linkOT                                                  | https://platform.opentargets.org/evidence/ENSG00000169231/EFO_0004980                                        \n",
      " GoF_protect                                             | [ot_genetics_portal]                                                                                         \n",
      " GoF_risk                                                | [ot_genetics_portal]                                                                                         \n",
      " LoF_protect                                             | []                                                                                                           \n",
      " LoF_risk                                                | [gene_burden]                                                                                                \n",
      " geneticsAgreeDiagonal                                   | no                                                                                                           \n",
      " geneticsAgreeOneCell                                    | no                                                                                                           \n",
      " geneticsAgreeDiagonal_noIMPC                            | no                                                                                                           \n",
      " geneticsAgreeOneCell_noIMPC                             | no                                                                                                           \n",
      " _c15                                                    | null                                                                                                         \n",
      " comment                                                 | null                                                                                                         \n",
      " type                                                    | null                                                                                                         \n",
      " data type                                               | null                                                                                                         \n",
      " is_indication_the_main_disease?                         | null                                                                                                         \n",
      " is_the_causality_target-disease_the_reason_of_the_drug? | null                                                                                                         \n",
      " New_Coherency_Diagonal?                                 | null                                                                                                         \n",
      " New_Coherency_One_Cell?                                 | null                                                                                                         \n",
      " Potential_Safety                                        | null                                                                                                         \n",
      " GoF_protect_disSource                                   | [Appendicular lean mass]                                                                                     \n",
      " LoF_protect_disSource                                   | []                                                                                                           \n",
      " GoF_risk_disSource                                      | [Appendicular lean mass]                                                                                     \n",
      " LoF_risk_disSource                                      | [Appendicular fat free mass index adjusted for body mass index (AFFMIadjBMI) female]                         \n",
      " GP_LR                                                   | dispar1                                                                                                      \n",
      " array1                                                  | [Appendicular lean mass, Appendicular fat free mass index adjusted for body mass index (AFFMIadjBMI) female] \n",
      " array2                                                  | [Appendicular lean mass]                                                                                     \n",
      " array1Dispar                                            | [Appendicular lean mass]                                                                                     \n",
      " array2Dispar                                            | [Appendicular lean mass, Appendicular fat free mass index adjusted for body mass index (AFFMIadjBMI) female] \n",
      " diseaseSource                                           | diferent                                                                                                     \n",
      "\n"
     ]
    }
   ],
   "source": [
    "### Example 4\n",
    "\n",
    "complete_whole_ready.filter(\n",
    "    (F.col(\"targetId\") == \"ENSG00000169231\") & (F.col(\"diseaseId\") == \"EFO_0004980\")\n",
    ").show(vertical=True, truncate=False)"
   ]
  },
  {
   "cell_type": "code",
   "execution_count": 129,
   "metadata": {},
   "outputs": [
    {
     "name": "stdout",
     "output_type": "stream",
     "text": [
      "-RECORD 0------------------------------------------------------------------------------------------------------------------------\n",
      " targetId                                                | ENSG00000183579                                                       \n",
      " diseaseId                                               | EFO_0007824                                                           \n",
      " arrayDiseaseFromSource                                  | [Pattern 1 | hair/balding pattern, Pattern 4 | hair/balding pattern]  \n",
      " name                                                    | hair shape measurement                                                \n",
      " GoF_protect                                             | null                                                                  \n",
      " GoF_risk                                                | null                                                                  \n",
      " LoF_protect                                             | 1                                                                     \n",
      " LoF_risk                                                | 1                                                                     \n",
      " coherencyDiagonal                                       | dispar                                                                \n",
      " coherencyOneCell                                        | dispar                                                                \n",
      " datasources                                             | [ot_genetics_portal]                                                  \n",
      " maxClinPhase                                            | null                                                                  \n",
      " taLabel                                                 | measurement                                                           \n",
      " taLabelSimple                                           | Other                                                                 \n",
      " approvedSymbol                                          | ZNRF3                                                                 \n",
      " linkOT                                                  | https://platform.opentargets.org/evidence/ENSG00000183579/EFO_0007824 \n",
      " GoF_protect                                             | []                                                                    \n",
      " GoF_risk                                                | []                                                                    \n",
      " LoF_protect                                             | [ot_genetics_portal]                                                  \n",
      " LoF_risk                                                | [ot_genetics_portal]                                                  \n",
      " geneticsAgreeDiagonal                                   | no                                                                    \n",
      " geneticsAgreeOneCell                                    | no                                                                    \n",
      " geneticsAgreeDiagonal_noIMPC                            | no                                                                    \n",
      " geneticsAgreeOneCell_noIMPC                             | no                                                                    \n",
      " _c15                                                    | null                                                                  \n",
      " comment                                                 | null                                                                  \n",
      " type                                                    | null                                                                  \n",
      " data type                                               | null                                                                  \n",
      " is_indication_the_main_disease?                         | null                                                                  \n",
      " is_the_causality_target-disease_the_reason_of_the_drug? | null                                                                  \n",
      " New_Coherency_Diagonal?                                 | null                                                                  \n",
      " New_Coherency_One_Cell?                                 | null                                                                  \n",
      " Potential_Safety                                        | null                                                                  \n",
      " GoF_protect_disSource                                   | []                                                                    \n",
      " LoF_protect_disSource                                   | [Pattern 1 | hair/balding pattern]                                    \n",
      " GoF_risk_disSource                                      | []                                                                    \n",
      " LoF_risk_disSource                                      | [Pattern 4 | hair/balding pattern]                                    \n",
      " GP_LR                                                   | dispar1                                                               \n",
      " array1                                                  | [Pattern 4 | hair/balding pattern]                                    \n",
      " array2                                                  | [Pattern 1 | hair/balding pattern]                                    \n",
      " array1Dispar                                            | [Pattern 1 | hair/balding pattern]                                    \n",
      " array2Dispar                                            | [Pattern 4 | hair/balding pattern]                                    \n",
      " diseaseSource                                           | diferent                                                              \n",
      "\n"
     ]
    }
   ],
   "source": [
    "### Example 5\n",
    "\n",
    "complete_whole_ready.filter(\n",
    "    (F.col(\"targetId\") == \"ENSG00000183579\") & (F.col(\"diseaseId\") == \"EFO_0007824\")\n",
    ").show(vertical=True, truncate=False)"
   ]
  },
  {
   "cell_type": "code",
   "execution_count": 17,
   "metadata": {},
   "outputs": [
    {
     "name": "stdout",
     "output_type": "stream",
     "text": [
      "+--------------+--------------+-----------------------------------------------+-------------------------------------------------------+---------------------------------------------------------------------------------+------------------+\n",
      "|approvedSymbol|name          |GoF_protect_disSource                          |LoF_protect_disSource                                  |GoF_risk_disSource                                                               |LoF_risk_disSource|\n",
      "+--------------+--------------+-----------------------------------------------+-------------------------------------------------------+---------------------------------------------------------------------------------+------------------+\n",
      "|LHPP          |lean body mass|[Trunk fat-free mass, Arm fat-free mass (left)]|[Arm predicted mass (right), Arm fat-free mass (right)]|[Leg predicted mass (right), Leg predicted mass (left), Leg fat-free mass (left)]|[]                |\n",
      "+--------------+--------------+-----------------------------------------------+-------------------------------------------------------+---------------------------------------------------------------------------------+------------------+\n",
      "\n"
     ]
    }
   ],
   "source": [
    "#### example 6\n",
    "complete_whole_ready.filter(\n",
    "    (F.col(\"targetId\") == \"ENSG00000107902\")\n",
    "    & (F.col(\"diseaseId\") == \"EFO_0004995\")\n",
    "    & (F.col(\"taLabel\") == \"measurement\")\n",
    "    & (F.col(\"GP_LR\") == \"dispar1\")\n",
    "    & (F.col(\"diseaseSource\") == \"diferent\")\n",
    ").select(\n",
    "    \"approvedSymbol\",\n",
    "    \"name\",\n",
    "    \"GoF_protect_disSource\",\n",
    "    \"LoF_protect_disSource\",\n",
    "    \"GoF_risk_disSource\",\n",
    "    \"LoF_risk_disSource\",\n",
    ").show(\n",
    "    truncate=False\n",
    ")"
   ]
  },
  {
   "cell_type": "markdown",
   "metadata": {},
   "source": [
    "#### Print all T-D with different disease from source giving different DoE assessment (discrepancies)"
   ]
  },
  {
   "cell_type": "code",
   "execution_count": null,
   "metadata": {},
   "outputs": [],
   "source": [
    "complete_whole_ready.filter(\n",
    "    (F.col(\"taLabel\") == \"measurement\")\n",
    "    & (F.col(\"GP_LR\") == \"dispar1\")\n",
    "    & (F.col(\"diseaseSource\") == \"diferent\")\n",
    ").select(\"targetId\", \"diseaseId\", \"name\", \"arrayDiseaseFromSource\").sort(\n",
    "    F.col(\"diseaseId\").desc()\n",
    ").show(\n",
    "    5000, truncate=False\n",
    ")"
   ]
  },
  {
   "cell_type": "markdown",
   "metadata": {},
   "source": [
    "#### Oncoogy / Non oncology of the discrepancies out of measurements and phenotypes"
   ]
  },
  {
   "cell_type": "code",
   "execution_count": 1,
   "metadata": {},
   "outputs": [
    {
     "ename": "NameError",
     "evalue": "name 'complete_whole_ready' is not defined",
     "output_type": "error",
     "traceback": [
      "\u001b[0;31m---------------------------------------------------------------------------\u001b[0m",
      "\u001b[0;31mNameError\u001b[0m                                 Traceback (most recent call last)",
      "\u001b[0;32m/tmp/ipykernel_3920081/730285425.py\u001b[0m in \u001b[0;36m<cell line: 1>\u001b[0;34m()\u001b[0m\n\u001b[0;32m----> 1\u001b[0;31m complete_whole_ready.filter(\n\u001b[0m\u001b[1;32m      2\u001b[0m     \u001b[0;34m~\u001b[0m\u001b[0;34m(\u001b[0m\u001b[0mF\u001b[0m\u001b[0;34m.\u001b[0m\u001b[0mcol\u001b[0m\u001b[0;34m(\u001b[0m\u001b[0;34m\"taLabel\"\u001b[0m\u001b[0;34m)\u001b[0m\u001b[0;34m.\u001b[0m\u001b[0misin\u001b[0m\u001b[0;34m(\u001b[0m\u001b[0;34m[\u001b[0m\u001b[0;34m\"measurement\"\u001b[0m\u001b[0;34m,\u001b[0m \u001b[0;34m\"phenotype\"\u001b[0m\u001b[0;34m]\u001b[0m\u001b[0;34m)\u001b[0m\u001b[0;34m)\u001b[0m\u001b[0;34m\u001b[0m\u001b[0;34m\u001b[0m\u001b[0m\n\u001b[1;32m      3\u001b[0m     \u001b[0;34m&\u001b[0m \u001b[0;34m(\u001b[0m\u001b[0mF\u001b[0m\u001b[0;34m.\u001b[0m\u001b[0mcol\u001b[0m\u001b[0;34m(\u001b[0m\u001b[0;34m\"coherencyDiagonal\"\u001b[0m\u001b[0;34m)\u001b[0m \u001b[0;34m!=\u001b[0m \u001b[0;34m\"dispar\"\u001b[0m\u001b[0;34m)\u001b[0m\u001b[0;34m\u001b[0m\u001b[0;34m\u001b[0m\u001b[0m\n\u001b[1;32m      4\u001b[0m ).groupBy(\"taLabelSimple\").count().show()\n",
      "\u001b[0;31mNameError\u001b[0m: name 'complete_whole_ready' is not defined"
     ]
    }
   ],
   "source": [
    "complete_whole_ready.filter(\n",
    "    ~(F.col(\"taLabel\").isin([\"measurement\", \"phenotype\"]))\n",
    "    & (F.col(\"coherencyDiagonal\") != \"dispar\")\n",
    ").groupBy(\"taLabelSimple\").count().show()"
   ]
  },
  {
   "cell_type": "markdown",
   "metadata": {},
   "source": [
    "### How many of them (no measurement and no phenotype) have chembl + other datasource"
   ]
  },
  {
   "cell_type": "code",
   "execution_count": 27,
   "metadata": {},
   "outputs": [
    {
     "name": "stderr",
     "output_type": "stream",
     "text": [
      "                                                                                \r"
     ]
    },
    {
     "data": {
      "text/plain": [
       "907"
      ]
     },
     "execution_count": 27,
     "metadata": {},
     "output_type": "execute_result"
    }
   ],
   "source": [
    "complete_whole_ready.filter(\n",
    "    (F.size(F.col(\"datasources\")) > 1)\n",
    "    & (F.array_contains(F.col(\"datasources\"), \"chembl\"))\n",
    "    & ~(F.col(\"taLabel\").isin([\"measurement\", \"phenotype\"]))\n",
    "    & (F.col(\"coherencyDiagonal\") == \"dispar\")\n",
    ").count()"
   ]
  },
  {
   "cell_type": "markdown",
   "metadata": {},
   "source": [
    "#### Oncology VS Non oncology for the ones in Drug VS Genetics"
   ]
  },
  {
   "cell_type": "code",
   "execution_count": 28,
   "metadata": {},
   "outputs": [
    {
     "name": "stderr",
     "output_type": "stream",
     "text": [
      "[Stage 299:==============================>                     (119 + 17) / 200]\r"
     ]
    },
    {
     "name": "stdout",
     "output_type": "stream",
     "text": [
      "+-------------+-----+\n",
      "|taLabelSimple|count|\n",
      "+-------------+-----+\n",
      "|        Other|  416|\n",
      "|     Oncology|  491|\n",
      "+-------------+-----+\n",
      "\n"
     ]
    },
    {
     "name": "stderr",
     "output_type": "stream",
     "text": [
      "                                                                                \r"
     ]
    }
   ],
   "source": [
    "complete_whole_ready.filter(\n",
    "    (F.size(F.col(\"datasources\")) > 1)\n",
    "    & (F.array_contains(F.col(\"datasources\"), \"chembl\"))\n",
    "    & ~(F.col(\"taLabel\").isin([\"measurement\", \"phenotype\"]))\n",
    "    & (F.col(\"coherencyDiagonal\") == \"dispar\")\n",
    ").groupBy(\"taLabelSimple\").count().show()"
   ]
  },
  {
   "cell_type": "code",
   "execution_count": 37,
   "metadata": {},
   "outputs": [
    {
     "name": "stderr",
     "output_type": "stream",
     "text": [
      "                                                                                \r"
     ]
    }
   ],
   "source": [
    "#### print Drug VS Genetics\n",
    "complete_whole_ready.filter(\n",
    "    (F.size(F.col(\"datasources\")) > 1)\n",
    "    & (F.array_contains(F.col(\"datasources\"), \"chembl\"))\n",
    "    & ~(F.col(\"taLabel\").isin([\"measurement\", \"phenotype\"]))\n",
    "    & (F.col(\"coherencyDiagonal\") == \"dispar\")\n",
    ").toPandas().to_csv(\"gs://ot-team/jroldan/analysis/20241017_DrugVSGenetics.csv\")"
   ]
  },
  {
   "cell_type": "code",
   "execution_count": 66,
   "metadata": {},
   "outputs": [
    {
     "name": "stdout",
     "output_type": "stream",
     "text": [
      "+-------------+-----+\n",
      "|taLabelSimple|count|\n",
      "+-------------+-----+\n",
      "|        Other|  416|\n",
      "|     Oncology|  491|\n",
      "+-------------+-----+\n",
      "\n"
     ]
    },
    {
     "name": "stderr",
     "output_type": "stream",
     "text": [
      "                                                                                \r"
     ]
    }
   ],
   "source": [
    "complete_whole_ready.filter(\n",
    "    (F.size(F.col(\"datasources\")) > 1)\n",
    "    & (F.array_contains(F.col(\"datasources\"), \"chembl\"))\n",
    "    & ~(F.col(\"taLabel\").isin([\"measurement\", \"phenotype\"]))\n",
    "    & (F.col(\"coherencyDiagonal\") == \"dispar\")\n",
    "    # & (F.col(\"taLabelSimple\") == \"Oncology\")\n",
    ").groupBy(\"taLabelSimple\").count().show()"
   ]
  },
  {
   "cell_type": "code",
   "execution_count": 67,
   "metadata": {},
   "outputs": [
    {
     "name": "stdout",
     "output_type": "stream",
     "text": [
      "+-------------+-----+\n",
      "|taLabelSimple|count|\n",
      "+-------------+-----+\n",
      "|        Other|  416|\n",
      "|     Oncology|  491|\n",
      "+-------------+-----+\n",
      "\n"
     ]
    },
    {
     "name": "stderr",
     "output_type": "stream",
     "text": [
      "                                                                                \r"
     ]
    }
   ],
   "source": [
    "complete_whole_ready.filter(\n",
    "    (F.size(F.col(\"datasources\")) > 1)\n",
    "    & (F.array_contains(F.col(\"datasources\"), \"chembl\"))\n",
    "    & ~(F.col(\"taLabel\").isin([\"measurement\", \"phenotype\"]))\n",
    "    & (F.col(\"coherencyDiagonal\") == \"dispar\")\n",
    ").groupBy(\"taLabelSimple\").count().show()"
   ]
  },
  {
   "cell_type": "markdown",
   "metadata": {},
   "source": [
    "##### genes for Drugs VS genetics ONCOLOGY"
   ]
  },
  {
   "cell_type": "code",
   "execution_count": 62,
   "metadata": {},
   "outputs": [
    {
     "name": "stderr",
     "output_type": "stream",
     "text": [
      "                                                                                \r"
     ]
    },
    {
     "data": {
      "text/plain": [
       "<AxesSubplot:xlabel='count', ylabel='approvedSymbol'>"
      ]
     },
     "execution_count": 62,
     "metadata": {},
     "output_type": "execute_result"
    },
    {
     "data": {
      "image/png": "[encoded data removed]",
      "text/plain": [
       "<Figure size 640x480 with 1 Axes>"
      ]
     },
     "metadata": {},
     "output_type": "display_data"
    }
   ],
   "source": [
    "genes_DrugsGenOncology = (\n",
    "    complete_whole_ready.filter(\n",
    "        (F.size(F.col(\"datasources\")) > 1)\n",
    "        & (F.array_contains(F.col(\"datasources\"), \"chembl\"))\n",
    "        & ~(F.col(\"taLabel\").isin([\"measurement\", \"phenotype\"]))\n",
    "        & (F.col(\"coherencyDiagonal\") == \"dispar\")\n",
    "        & (F.col(\"taLabelSimple\") == \"Oncology\")\n",
    "    )\n",
    "    .groupBy(\"approvedSymbol\")\n",
    "    .count()\n",
    "    .sort(F.col(\"count\").desc())\n",
    "    .limit(30)\n",
    "    .toPandas()\n",
    ")\n",
    "\n",
    "sns.barplot(\n",
    "    genes_DrugsGenOncology, x=\"count\", y=\"approvedSymbol\", errorbar=None, orient=\"h\"\n",
    ")"
   ]
  },
  {
   "cell_type": "code",
   "execution_count": 42,
   "metadata": {},
   "outputs": [
    {
     "name": "stderr",
     "output_type": "stream",
     "text": [
      "                                                                                \r"
     ]
    }
   ],
   "source": [
    "#### Generate dataset for upset plot\n",
    "### Give a unique identifier to T-D pairs\n",
    "### Explode datasources columns\n",
    "### group by Unique ID and taLabelSimple and pivot datasources\n",
    "complete_whole_ready.filter(\n",
    "    (F.size(F.col(\"datasources\")) > 1)\n",
    "    & (F.array_contains(F.col(\"datasources\"), \"chembl\"))\n",
    "    & ~(F.col(\"taLabel\").isin([\"measurement\", \"phenotype\"]))\n",
    "    & (F.col(\"coherencyDiagonal\") == \"dispar\")\n",
    ").withColumn(\"unique_id\", F.monotonically_increasing_id()).withColumn(\n",
    "    \"datasource_expl\", F.explode_outer(F.col(\"datasources\"))\n",
    ").groupBy(\n",
    "    \"unique_id\", \"taLabelSimple\"\n",
    ").pivot(\n",
    "    \"datasource_expl\"\n",
    ").count().fillna(\n",
    "    0\n",
    ").toPandas().to_csv(\n",
    "    \"gs://ot-team/jroldan/analysis/20241017_DrugVSGeneticsUpSetPlot.csv\"\n",
    ")"
   ]
  },
  {
   "cell_type": "markdown",
   "metadata": {},
   "source": [
    "#### Genes for DRUGS VS GENETICS NON ONCOLOGY"
   ]
  },
  {
   "cell_type": "code",
   "execution_count": 68,
   "metadata": {},
   "outputs": [
    {
     "name": "stderr",
     "output_type": "stream",
     "text": [
      "                                                                                \r"
     ]
    },
    {
     "data": {
      "text/plain": [
       "<AxesSubplot:xlabel='count', ylabel='approvedSymbol'>"
      ]
     },
     "execution_count": 68,
     "metadata": {},
     "output_type": "execute_result"
    },
    {
     "data": {
      "image/png": "[encoded data removed]",
      "text/plain": [
       "<Figure size 640x480 with 1 Axes>"
      ]
     },
     "metadata": {},
     "output_type": "display_data"
    }
   ],
   "source": [
    "genes_DrugsGenNonOnco = (\n",
    "    complete_whole_ready.filter(\n",
    "        (F.size(F.col(\"datasources\")) > 1)\n",
    "        & (F.array_contains(F.col(\"datasources\"), \"chembl\"))\n",
    "        & ~(F.col(\"taLabel\").isin([\"measurement\", \"phenotype\"]))\n",
    "        & (F.col(\"coherencyDiagonal\") == \"dispar\")\n",
    "        & (F.col(\"taLabelSimple\") == \"Other\")\n",
    "    )\n",
    "    .groupBy(\"approvedSymbol\")\n",
    "    .count()\n",
    "    .sort(F.col(\"count\").desc())\n",
    "    .limit(30)\n",
    "    .toPandas()\n",
    ")\n",
    "\n",
    "sns.barplot(\n",
    "    genes_DrugsGenNonOnco, x=\"count\", y=\"approvedSymbol\", errorbar=None, orient=\"h\"\n",
    ")"
   ]
  },
  {
   "cell_type": "markdown",
   "metadata": {},
   "source": [
    "#### Numbers per Onco / Non onco in the group "
   ]
  },
  {
   "cell_type": "code",
   "execution_count": 29,
   "metadata": {},
   "outputs": [
    {
     "name": "stderr",
     "output_type": "stream",
     "text": [
      "[Stage 317:=================================>                  (129 + 16) / 200]\r"
     ]
    },
    {
     "name": "stdout",
     "output_type": "stream",
     "text": [
      "+-------------+-----+\n",
      "|taLabelSimple|count|\n",
      "+-------------+-----+\n",
      "|        Other|  622|\n",
      "|     Oncology| 1708|\n",
      "+-------------+-----+\n",
      "\n"
     ]
    },
    {
     "name": "stderr",
     "output_type": "stream",
     "text": [
      "                                                                                \r"
     ]
    }
   ],
   "source": [
    "complete_whole_ready.filter(\n",
    "    (F.size(F.col(\"datasources\")) > 1)\n",
    "    & (F.array_contains(F.col(\"datasources\"), \"chembl\"))\n",
    "    & ~(F.col(\"taLabel\").isin([\"measurement\", \"phenotype\"]))\n",
    "    & (F.col(\"coherencyOneCell\") == \"dispar\")\n",
    ").groupBy(\"taLabelSimple\").count().show()"
   ]
  },
  {
   "cell_type": "markdown",
   "metadata": {},
   "source": [
    "#### Numbers for the group where the is OR chembl alone or just genetics\n",
    "    -- This group is characterized by no genetics but genes seem to be problematic\n"
   ]
  },
  {
   "cell_type": "code",
   "execution_count": 30,
   "metadata": {},
   "outputs": [
    {
     "name": "stdout",
     "output_type": "stream",
     "text": [
      "+-------------+-----+\n",
      "|taLabelSimple|count|\n",
      "+-------------+-----+\n",
      "|        Other|  701|\n",
      "|     Oncology|  628|\n",
      "+-------------+-----+\n",
      "\n"
     ]
    },
    {
     "name": "stderr",
     "output_type": "stream",
     "text": [
      "                                                                                \r"
     ]
    }
   ],
   "source": [
    "complete_whole_ready.filter(\n",
    "    (F.size(F.col(\"datasources\")) == 1)\n",
    "    & (F.array_contains(F.col(\"datasources\"), \"chembl\"))\n",
    "    & ~(F.col(\"taLabel\").isin([\"measurement\", \"phenotype\"]))\n",
    "    & (F.col(\"coherencyDiagonal\") == \"dispar\")\n",
    ").groupBy(\"taLabelSimple\").count().show()"
   ]
  },
  {
   "cell_type": "markdown",
   "metadata": {},
   "source": [
    "#### print the dataset of just drug discrepancies alone"
   ]
  },
  {
   "cell_type": "code",
   "execution_count": 45,
   "metadata": {},
   "outputs": [
    {
     "name": "stderr",
     "output_type": "stream",
     "text": [
      "                                                                                \r"
     ]
    }
   ],
   "source": [
    "complete_whole_ready.filter(\n",
    "    (F.size(F.col(\"datasources\")) == 1)\n",
    "    & (F.array_contains(F.col(\"datasources\"), \"chembl\"))\n",
    "    & ~(F.col(\"taLabel\").isin([\"measurement\", \"phenotype\"]))\n",
    "    & (F.col(\"coherencyDiagonal\") == \"dispar\")\n",
    ").toPandas().to_csv(\"gs://ot-team/jroldan/analysis/20241017_DrugsONLY.csv\")"
   ]
  },
  {
   "cell_type": "code",
   "execution_count": 72,
   "metadata": {},
   "outputs": [
    {
     "name": "stderr",
     "output_type": "stream",
     "text": [
      "                                                                                \r"
     ]
    },
    {
     "data": {
      "text/plain": [
       "<AxesSubplot:xlabel='count', ylabel='taLabel'>"
      ]
     },
     "execution_count": 72,
     "metadata": {},
     "output_type": "execute_result"
    },
    {
     "data": {
      "image/png": "[encoded data removed]",
      "text/plain": [
       "<Figure size 640x480 with 1 Axes>"
      ]
     },
     "metadata": {},
     "output_type": "display_data"
    }
   ],
   "source": [
    "taLabelDrugsOnly = (\n",
    "    complete_whole_ready.filter(\n",
    "        (F.size(F.col(\"datasources\")) == 1)\n",
    "        & (F.array_contains(F.col(\"datasources\"), \"chembl\"))\n",
    "        & ~(F.col(\"taLabel\").isin([\"measurement\", \"phenotype\"]))\n",
    "        & (F.col(\"coherencyDiagonal\") == \"dispar\")\n",
    "    )\n",
    "    .groupBy(\"taLabel\")\n",
    "    .count()\n",
    "    .sort(F.col(\"count\").desc())\n",
    "    .limit(4)\n",
    "    .toPandas()\n",
    ")\n",
    "\n",
    "\n",
    "sns.barplot(taLabelDrugsOnly, x=\"count\", y=\"taLabel\", errorbar=None, orient=\"h\")"
   ]
  },
  {
   "cell_type": "markdown",
   "metadata": {},
   "source": [
    "#### Frequency of genes in Drugs Only subset"
   ]
  },
  {
   "cell_type": "code",
   "execution_count": 53,
   "metadata": {},
   "outputs": [
    {
     "name": "stderr",
     "output_type": "stream",
     "text": [
      "                                                                                \r"
     ]
    },
    {
     "data": {
      "text/plain": [
       "<AxesSubplot:xlabel='count', ylabel='approvedSymbol'>"
      ]
     },
     "execution_count": 53,
     "metadata": {},
     "output_type": "execute_result"
    },
    {
     "data": {
      "image/png": "[encoded data removed]",
      "text/plain": [
       "<Figure size 640x480 with 1 Axes>"
      ]
     },
     "metadata": {},
     "output_type": "display_data"
    }
   ],
   "source": [
    "genesDrugsONLY = (\n",
    "    complete_whole_ready.filter(\n",
    "        (F.size(F.col(\"datasources\")) == 1)\n",
    "        & (F.array_contains(F.col(\"datasources\"), \"chembl\"))\n",
    "        & ~(F.col(\"taLabel\").isin([\"measurement\", \"phenotype\"]))\n",
    "        & (F.col(\"coherencyDiagonal\") == \"dispar\")\n",
    "    )\n",
    "    .groupBy(\"approvedSymbol\")\n",
    "    .count()\n",
    "    .sort(F.col(\"count\").desc())\n",
    "    .limit(35)\n",
    "    .toPandas()\n",
    ")\n",
    "\n",
    "sns.barplot(genesDrugsONLY, x=\"count\", y=\"approvedSymbol\", errorbar=None, orient=\"h\")"
   ]
  },
  {
   "cell_type": "markdown",
   "metadata": {},
   "source": [
    "#### N of T-D per TA in Drugs Only subset"
   ]
  },
  {
   "cell_type": "code",
   "execution_count": 44,
   "metadata": {},
   "outputs": [
    {
     "name": "stderr",
     "output_type": "stream",
     "text": [
      "                                                                                \r"
     ]
    },
    {
     "data": {
      "text/plain": [
       "<AxesSubplot:xlabel='count', ylabel='taLabelSimple'>"
      ]
     },
     "execution_count": 44,
     "metadata": {},
     "output_type": "execute_result"
    },
    {
     "data": {
      "image/png": "[encoded data removed]",
      "text/plain": [
       "<Figure size 640x480 with 1 Axes>"
      ]
     },
     "metadata": {},
     "output_type": "display_data"
    }
   ],
   "source": [
    "taDrugsOnly = (\n",
    "    complete_whole_ready.filter(\n",
    "        (F.size(F.col(\"datasources\")) == 1)\n",
    "        & (F.array_contains(F.col(\"datasources\"), \"chembl\"))\n",
    "        & ~(F.col(\"taLabel\").isin([\"measurement\", \"phenotype\"]))\n",
    "        & (F.col(\"coherencyDiagonal\") == \"dispar\")\n",
    "    )\n",
    "    .groupBy(\"taLabelSimple\")\n",
    "    .count()\n",
    "    .toPandas()\n",
    ")\n",
    "sns.barplot(taDrugsOnly, x=\"count\", y=\"taLabelSimple\", errorbar=None, orient=\"h\")"
   ]
  },
  {
   "cell_type": "markdown",
   "metadata": {},
   "source": [
    "#### Genetics discrepancies (ONLY genetics, no drugs)"
   ]
  },
  {
   "cell_type": "code",
   "execution_count": 54,
   "metadata": {},
   "outputs": [
    {
     "name": "stderr",
     "output_type": "stream",
     "text": [
      "[Stage 941:====================================================>(198 + 2) / 200]\r"
     ]
    },
    {
     "name": "stdout",
     "output_type": "stream",
     "text": [
      "+-------------+-----+\n",
      "|taLabelSimple|count|\n",
      "+-------------+-----+\n",
      "|        Other|  490|\n",
      "|     Oncology|  306|\n",
      "+-------------+-----+\n",
      "\n"
     ]
    },
    {
     "name": "stderr",
     "output_type": "stream",
     "text": [
      "                                                                                \r"
     ]
    }
   ],
   "source": [
    "complete_whole_ready.filter(\n",
    "    (F.size(F.col(\"datasources\")) >= 1)\n",
    "    & ~(F.array_contains(F.col(\"datasources\"), \"chembl\"))\n",
    "    & ~(F.col(\"taLabel\").isin([\"measurement\", \"phenotype\"]))\n",
    "    & (F.col(\"coherencyDiagonal\") == \"dispar\")\n",
    ").groupBy(\"taLabelSimple\").count().show()"
   ]
  },
  {
   "cell_type": "markdown",
   "metadata": {},
   "source": [
    "#### N T-D per TA in Genetics ONLY subset"
   ]
  },
  {
   "cell_type": "code",
   "execution_count": 55,
   "metadata": {},
   "outputs": [
    {
     "data": {
      "text/plain": [
       "<AxesSubplot:xlabel='count', ylabel='taLabelSimple'>"
      ]
     },
     "execution_count": 55,
     "metadata": {},
     "output_type": "execute_result"
    },
    {
     "data": {
      "image/png": "[encoded data removed]",
      "text/plain": [
       "<Figure size 640x480 with 1 Axes>"
      ]
     },
     "metadata": {},
     "output_type": "display_data"
    }
   ],
   "source": [
    "taGeneticsOnly = (\n",
    "    complete_whole_ready.filter(\n",
    "        (F.size(F.col(\"datasources\")) >= 1)\n",
    "        & ~(F.array_contains(F.col(\"datasources\"), \"chembl\"))\n",
    "        & ~(F.col(\"taLabel\").isin([\"measurement\", \"phenotype\"]))\n",
    "        & (F.col(\"coherencyDiagonal\") == \"dispar\")\n",
    "    )\n",
    "    .groupBy(\"taLabelSimple\")\n",
    "    .count()\n",
    "    .toPandas()\n",
    ")\n",
    "sns.barplot(taGeneticsOnly, x=\"count\", y=\"taLabelSimple\", errorbar=None, orient=\"h\")"
   ]
  },
  {
   "cell_type": "code",
   "execution_count": 57,
   "metadata": {},
   "outputs": [
    {
     "name": "stderr",
     "output_type": "stream",
     "text": [
      "                                                                                \r"
     ]
    },
    {
     "data": {
      "text/plain": [
       "<AxesSubplot:xlabel='count', ylabel='approvedSymbol'>"
      ]
     },
     "execution_count": 57,
     "metadata": {},
     "output_type": "execute_result"
    },
    {
     "data": {
      "image/png": "[encoded data removed]",
      "text/plain": [
       "<Figure size 640x480 with 1 Axes>"
      ]
     },
     "metadata": {},
     "output_type": "display_data"
    }
   ],
   "source": [
    "#### Genes\n",
    "genesGeneticsOnly = (\n",
    "    complete_whole_ready.filter(\n",
    "        (F.size(F.col(\"datasources\")) >= 1)\n",
    "        & ~(F.array_contains(F.col(\"datasources\"), \"chembl\"))\n",
    "        & ~(F.col(\"taLabel\").isin([\"measurement\", \"phenotype\"]))\n",
    "        & (F.col(\"coherencyDiagonal\") == \"dispar\")\n",
    "    )\n",
    "    .groupBy(\"approvedSymbol\")\n",
    "    .count()\n",
    "    .sort(F.col(\"count\").desc())\n",
    "    .limit(30)\n",
    "    .toPandas()\n",
    ")\n",
    "\n",
    "sns.barplot(genesGeneticsOnly, x=\"count\", y=\"approvedSymbol\", errorbar=None, orient=\"h\")"
   ]
  },
  {
   "cell_type": "markdown",
   "metadata": {},
   "source": [
    "#### Print dataset for generating upset plot for genetics discrepancies "
   ]
  },
  {
   "cell_type": "code",
   "execution_count": 58,
   "metadata": {},
   "outputs": [
    {
     "data": {
      "text/plain": [
       "796"
      ]
     },
     "execution_count": 58,
     "metadata": {},
     "output_type": "execute_result"
    }
   ],
   "source": [
    "complete_whole_ready.filter(\n",
    "    (F.size(F.col(\"datasources\")) >= 1)\n",
    "    & ~(F.array_contains(F.col(\"datasources\"), \"chembl\"))\n",
    "    & ~(F.col(\"taLabel\").isin([\"measurement\", \"phenotype\"]))\n",
    "    & (F.col(\"coherencyDiagonal\") == \"dispar\")\n",
    ").count()"
   ]
  },
  {
   "cell_type": "code",
   "execution_count": 59,
   "metadata": {},
   "outputs": [
    {
     "name": "stderr",
     "output_type": "stream",
     "text": [
      "                                                                                \r"
     ]
    }
   ],
   "source": [
    "GeneticsOnlyUpSetPlot = (\n",
    "    (\n",
    "        complete_whole_ready.filter(\n",
    "            (F.size(F.col(\"datasources\")) >= 1)\n",
    "            & ~(F.array_contains(F.col(\"datasources\"), \"chembl\"))\n",
    "            & ~(F.col(\"taLabel\").isin([\"measurement\", \"phenotype\"]))\n",
    "            & (F.col(\"coherencyDiagonal\") == \"dispar\")\n",
    "        )\n",
    "        .withColumn(\"unique_id\", F.monotonically_increasing_id())\n",
    "        .withColumn(\"datasource_expl\", F.explode_outer(F.col(\"datasources\")))\n",
    "        .groupBy(\"unique_id\", \"taLabelSimple\")\n",
    "        .pivot(\"datasource_expl\")\n",
    "        .count()\n",
    "        .fillna(0)\n",
    "    )\n",
    "    .toPandas()\n",
    "    .to_csv(\"gs://ot-team/jroldan/analysis/20241017_OnlyGeneticsUpSetPlot.csv\")\n",
    ")"
   ]
  },
  {
   "cell_type": "code",
   "execution_count": 33,
   "metadata": {},
   "outputs": [
    {
     "name": "stdout",
     "output_type": "stream",
     "text": [
      "+---------------+---------------+----------------------+--------------------+-----------+--------+-----------+--------+-----------------+----------------+--------------------+------------+--------------------+-------------+--------------+--------------------+--------------------+--------------------+--------------------+--------------------+---------------------+--------------------+----------------------------+---------------------------+----+-------+----+-------------+-------------------------------+-------------------------------------------------------+-----------------------+-----------------------+----------------+---------------------+---------------------+--------------------+--------------------+--------+--------------------+--------------------+--------------------+--------------------+-------------+\n",
      "|       targetId|      diseaseId|arrayDiseaseFromSource|                name|GoF_protect|GoF_risk|LoF_protect|LoF_risk|coherencyDiagonal|coherencyOneCell|         datasources|maxClinPhase|             taLabel|taLabelSimple|approvedSymbol|              linkOT|         GoF_protect|            GoF_risk|         LoF_protect|            LoF_risk|geneticsAgreeDiagonal|geneticsAgreeOneCell|geneticsAgreeDiagonal_noIMPC|geneticsAgreeOneCell_noIMPC|_c15|comment|type|    data type|is_indication_the_main_disease?|is_the_causality_target-disease_the_reason_of_the_drug?|New_Coherency_Diagonal?|New_Coherency_One_Cell?|Potential_Safety|GoF_protect_disSource|LoF_protect_disSource|  GoF_risk_disSource|  LoF_risk_disSource|   GP_LR|              array1|              array2|        array1Dispar|        array2Dispar|diseaseSource|\n",
      "+---------------+---------------+----------------------+--------------------+-----------+--------+-----------+--------+-----------------+----------------+--------------------+------------+--------------------+-------------+--------------+--------------------+--------------------+--------------------+--------------------+--------------------+---------------------+--------------------+----------------------------+---------------------------+----+-------+----+-------------+-------------------------------+-------------------------------------------------------+-----------------------+-----------------------+----------------+---------------------+---------------------+--------------------+--------------------+--------+--------------------+--------------------+--------------------+--------------------+-------------+\n",
      "|ENSG00000255974|    EFO_0004318|  [Number of cigare...|    smoking behavior|          1|       3|          1|    null|           dispar|          dispar|[ot_genetics_portal]|        null|  biological process|        Other|        CYP2A6|https://platform....|[ot_genetics_portal]|[ot_genetics_portal]|[ot_genetics_portal]|                  []|                   no|                  no|                          no|                         no|null|   null|null|         null|                           null|                                                   null|                   null|                   null|            null| [Current | smokin...| [Number of cigare...|[Number of cigare...|                  []| dispar1|[Current | smokin...|[Number of cigare...|[Number of cigare...|[Current | smokin...|     diferent|\n",
      "|ENSG00000084734|  MONDO_0005148|  [\"Type 2 diabetes...|type 2 diabetes m...|       null|       5|       null|       2|           dispar|          dispar|[impc, ot_genetic...|        null|    pancreas disease|        Other|          GCKR|https://platform....|                  []|[ot_genetics_portal]|                  []|              [impc]|                   no|                  no|                          no|                         no|null|   null|null|         null|                           null|                                                   null|                   null|                   null|            null|                   []|                   []|[\"Type 2 diabetes...|[Type 1 Diabetes ...| dispar1|[Type 1 Diabetes ...|[\"Type 2 diabetes...|[\"Type 2 diabetes...|[Type 1 Diabetes ...|     diferent|\n",
      "|ENSG00000124782|  MONDO_0005148|  [\"Type 2 diabetes...|type 2 diabetes m...|          1|       6|       null|    null|           dispar|          dispar|[ot_genetics_portal]|        null|    pancreas disease|        Other|         RREB1|https://platform....|[ot_genetics_portal]|[ot_genetics_portal]|                  []|                  []|                   no|                  no|                          no|                         no|null|   null|null|         null|                           null|                                                   null|                   null|                   null|            null|    [Type 2 diabetes]|                   []|[\"Type 2 diabetes...|                  []| dispar1|   [Type 2 diabetes]|[\"Type 2 diabetes...|[\"Type 2 diabetes...|   [Type 2 diabetes]|     diferent|\n",
      "|ENSG00000168936|    EFO_0004616|  [Gonarthrosis, Go...|osteoarthritis, knee|          1|       2|       null|       3|           dispar|          dispar|[ot_genetics_portal]|        null|musculoskeletal o...|        Other|       TMEM129|https://platform....|[ot_genetics_portal]|[ot_genetics_portal]|                  []|[ot_genetics_portal]|                   no|                  no|                          no|                         no|null|   null|null|         null|                           null|                                                   null|                   null|                   null|            null| [Osteoarthritis o...|                   []|[\"Gonarthrosis,pr...|[Gonarthrosis, Go...| dispar1|[Osteoarthritis o...|[\"Gonarthrosis,pr...|[\"Gonarthrosis,pr...|[Osteoarthritis o...|     diferent|\n",
      "|ENSG00000184634|    EFO_0000673|  [Prostate Adenoca...|prostate adenocar...|       null|       5|       null|       1|           dispar|          dispar|[intogen, cancer_...|        null|cell proliferatio...|     Oncology|         MED12|https://platform....|                  []|           [intogen]|                  []|[cancer_gene_census]|                   no|                  no|                          no|                         no|null|   null|null|         null|                           null|                                                   null|                   null|                   null|            null|                   []|                   []|[Prostate Adenoca...|                  []|coherent|                  []|[Prostate Adenoca...|[Prostate Adenoca...|                  []|     diferent|\n",
      "|ENSG00000115524|    EFO_0000222|  [Acute myeloid le...|acute myeloid leu...|       null|       3|       null|       1|           dispar|          dispar|[intogen, eva_som...|        null|cell proliferatio...|     Oncology|         SF3B1|https://platform....|                  []|[intogen, cancer_...|                  []|       [eva_somatic]|                   no|                  no|                          no|                         no|null|   null|null|         null|                           null|                                                   null|                   null|                   null|            null|                   []|                   []|[Acute Myeloid Le...|[Acute myeloid le...| dispar1|[Acute myeloid le...|[Acute Myeloid Le...|[Acute Myeloid Le...|[Acute myeloid le...|     diferent|\n",
      "|ENSG00000135114|  MONDO_0005148|  [\"Type 2 diabetes...|type 2 diabetes m...|          7|    null|          1|    null|           dispar|          dispar|[ot_genetics_portal]|        null|    pancreas disease|        Other|          OASL|https://platform....|[ot_genetics_portal]|                  []|[ot_genetics_portal]|                  []|                   no|                  no|                          no|                         no|null|   null|null|         null|                           null|                                                   null|                   null|                   null|            null| [\"Type 2 diabetes...|    [Type 2 diabetes]|                  []|                  []| dispar1|[\"Type 2 diabetes...|   [Type 2 diabetes]|   [Type 2 diabetes]|[\"Type 2 diabetes...|     diferent|\n",
      "|ENSG00000183625|    EFO_0001060|  [Malabsorption/co...|      celiac disease|          1|    null|          1|       2|           dispar|          dispar|[ot_genetics_portal]|        null|gastrointestinal ...|        Other|          CCR3|https://platform....|[ot_genetics_portal]|                  []|[ot_genetics_portal]|[ot_genetics_portal]|                   no|                  no|                          no|                         no|null|   null|null|         null|                           null|                                                   null|                   null|                   null|            null|     [Celiac disease]|     [Celiac disease]|                  []|[Malabsorption/co...| dispar1|[Celiac disease, ...|    [Celiac disease]|    [Celiac disease]|[Celiac disease, ...|     diferent|\n",
      "|ENSG00000183873|Orphanet_101016|  [Long Qt Syndrome...|Romano-Ward syndrome|       null|       1|       null|      64|           dispar|          dispar|[impc, eva, orpha...|        null|cardiovascular di...|        Other|         SCN5A|https://platform....|                  []|          [orphanet]|                  []|         [impc, eva]|                   no|                  no|                          no|                         no|null|   null|null|channelopathy|                           null|                                                   null|                   null|                   null|            null|                   []|                   []|[Romano-Ward synd...|[Long Qt Syndrome...| dispar1|[Long Qt Syndrome...|[Romano-Ward synd...|[Romano-Ward synd...|[Long Qt Syndrome...|     diferent|\n",
      "|ENSG00000042832|    EFO_1000627|  [20002#1224#thyro...|     thyroid disease|       null|    null|          1|       4|           dispar|          dispar|[ot_genetics_port...|        null|endocrine system ...|        Other|            TG|https://platform....|                  []|                  []|[ot_genetics_portal]|       [gene_burden]|                   no|                  no|                          no|                         no|null|   null|null|         null|                           null|                                                   null|                   null|                   null|            null|                   []| [Thyroid problem ...|                  []|[20002#1224#thyro...| dispar1|[20002#1224#thyro...|[Thyroid problem ...|[Thyroid problem ...|[20002#1224#thyro...|     diferent|\n",
      "|ENSG00000130592|    EFO_0000537|  [Hypertension | n...|        hypertension|       null|       6|       null|       5|           dispar|          dispar|[ot_genetics_portal]|        null|cardiovascular di...|        Other|          LSP1|https://platform....|                  []|[ot_genetics_portal]|                  []|[ot_genetics_portal]|                   no|                  no|                          no|                         no|null|   null|null|         null|                           null|                                                   null|                   null|                   null|            null|                   []|                   []|[Hypertension | n...|[Hypertension | n...| dispar1|[Hypertension | n...|[Hypertension | n...|[Hypertension | n...|[Hypertension | n...|     diferent|\n",
      "|ENSG00000167034|    EFO_0001663|  [Malignant neopla...|  prostate carcinoma|          2|    null|          1|    null|           dispar|          dispar|[ot_genetics_portal]|        null|cell proliferatio...|     Oncology|        NKX3-1|https://platform....|[ot_genetics_portal]|                  []|[ot_genetics_portal]|                  []|                   no|                  no|                          no|                         no|null|   null|null|         null|                           null|                                                   null|                   null|                   null|            null| [Malignant neopla...|    [Prostate cancer]|                  []|                  []| dispar1|[Malignant neopla...|   [Prostate cancer]|   [Prostate cancer]|[Malignant neopla...|     diferent|\n",
      "|ENSG00000042832|    EFO_0004705|  [Date E03 first r...|      hypothyroidism|       null|    null|          5|      15|           dispar|          dispar|[eva, ot_genetics...|        null|endocrine system ...|        Other|            TG|https://platform....|                  []|                  []|[ot_genetics_portal]|  [eva, gene_burden]|                   no|                  no|                          no|                         no|null|   null|null|         null|                           null|                                                   null|                   null|                   null|            null|                   []| [Hypothyroidism (...|                  []|[Date E03 first r...| dispar1|[Date E03 first r...|[Hypothyroidism (...|[Hypothyroidism (...|[Date E03 first r...|     diferent|\n",
      "|ENSG00000141367|    EFO_0000349|  [Renal Clear Cell...|clear cell renal ...|       null|       1|       null|       1|           dispar|          dispar|[intogen, cancer_...|        null|cell proliferatio...|     Oncology|          CLTC|https://platform....|                  []|           [intogen]|                  []|[cancer_gene_census]|                   no|                  no|                          no|                         no|null|   null|null|         null|                           null|                                                   null|                   null|                   null|            null|                   []|                   []|[Renal Clear Cell...|                  []|coherent|                  []|[Renal Clear Cell...|[Renal Clear Cell...|                  []|     diferent|\n",
      "|ENSG00000148737|    EFO_0000182|  [Hepatocellular C...|hepatocellular ca...|       null|       1|       null|       1|           dispar|          dispar|[intogen, cancer_...|        null|cell proliferatio...|     Oncology|        TCF7L2|https://platform....|                  []|[cancer_gene_census]|                  []|           [intogen]|                   no|                  no|                          no|                         no|null|   null|null|         null|                           null|                                                   null|                   null|                   null|            null|                   []|                   []|                  []|[Hepatocellular C...|coherent|[Hepatocellular C...|                  []|                  []|[Hepatocellular C...|     diferent|\n",
      "|ENSG00000154122|  MONDO_0015465|  [Craniometaphysea...|craniometaphyseal...|       null|       1|       null|       1|           dispar|          dispar|     [eva, orphanet]|        null|musculoskeletal o...|        Other|          ANKH|https://platform....|                  []|          [orphanet]|                  []|               [eva]|                   no|                  no|                          no|                         no|null|   null|null|         null|                           null|                                                   null|                   null|                   null|            null|                   []|                   []|[Craniometaphysea...|[Craniometaphysea...| dispar1|[Craniometaphysea...|[Craniometaphysea...|[Craniometaphysea...|[Craniometaphysea...|     diferent|\n",
      "|ENSG00000156531|    EFO_0000220|  [Leukemia, Acute ...|acute lymphoblast...|       null|       1|       null|       3|           dispar|          dispar|[impc, intogen, c...|        null|cell proliferatio...|     Oncology|          PHF6|https://platform....|                  []|           [intogen]|                  []|[impc, cancer_gen...|                   no|                  no|                          no|                         no|null|   null|null|         null|                           null|                                                   null|                   null|                   null|            null|                   []|                   []|[Acute Lymphoblas...|[Leukemia, Acute ...| dispar1|[Leukemia, Acute ...|[Acute Lymphoblas...|[Acute Lymphoblas...|[Leukemia, Acute ...|     diferent|\n",
      "|ENSG00000175595|    EFO_0003958|  [Childhood sunbur...|             sunburn|       null|    null|          1|       1|           dispar|          dispar|[ot_genetics_portal]|        null|integumentary sys...|        Other|         ERCC4|https://platform....|                  []|                  []|[ot_genetics_portal]|[ot_genetics_portal]|                   no|                  no|                          no|                         no|null|   null|null|         null|                           null|                                                   null|                   null|                   null|            null|                   []| [Childhood sunbur...|                  []|[Childhood sunbur...| dispar1|[Childhood sunbur...|[Childhood sunbur...|[Childhood sunbur...|[Childhood sunbur...|         same|\n",
      "|ENSG00000074181|  MONDO_0007537|  [Lateral meningoc...|lateral meningoce...|       null|       1|       null|       8|           dispar|          dispar|     [eva, orphanet]|        null|nervous system di...|        Other|        NOTCH3|https://platform....|                  []|          [orphanet]|                  []|               [eva]|                   no|                  no|                          no|                         no|null|   null|null|         null|                           null|                                                   null|                   null|                   null|            null|                   []|                   []|[Lateral meningoc...|[Lateral meningoc...| dispar1|[Lateral meningoc...|[Lateral meningoc...|[Lateral meningoc...|[Lateral meningoc...|         same|\n",
      "|ENSG00000114423|    EFO_0003060|  [Non-Small Cell L...|non-small cell lu...|       null|       1|       null|       1|           dispar|          dispar|[intogen, cancer_...|        null|cell proliferatio...|     Oncology|          CBLB|https://platform....|                  []|           [intogen]|                  []|[cancer_gene_census]|                   no|                  no|                          no|                         no|null|   null|null|         null|                           null|                                                   null|                   null|                   null|            null|                   []|                   []|[Non-Small Cell L...|                  []|coherent|                  []|[Non-Small Cell L...|[Non-Small Cell L...|                  []|     diferent|\n",
      "+---------------+---------------+----------------------+--------------------+-----------+--------+-----------+--------+-----------------+----------------+--------------------+------------+--------------------+-------------+--------------+--------------------+--------------------+--------------------+--------------------+--------------------+---------------------+--------------------+----------------------------+---------------------------+----+-------+----+-------------+-------------------------------+-------------------------------------------------------+-----------------------+-----------------------+----------------+---------------------+---------------------+--------------------+--------------------+--------+--------------------+--------------------+--------------------+--------------------+-------------+\n",
      "only showing top 20 rows\n",
      "\n"
     ]
    }
   ],
   "source": [
    "complete_whole_ready.filter(\n",
    "    (F.size(F.col(\"datasources\")) >= 1)\n",
    "    & ~(F.array_contains(F.col(\"datasources\"), \"chembl\"))\n",
    "    & ~(F.col(\"taLabel\").isin([\"measurement\", \"phenotype\"]))\n",
    "    & (F.col(\"coherencyDiagonal\") == \"dispar\")\n",
    ").show()"
   ]
  },
  {
   "cell_type": "code",
   "execution_count": 36,
   "metadata": {},
   "outputs": [
    {
     "name": "stderr",
     "output_type": "stream",
     "text": [
      "                                                                                \r"
     ]
    },
    {
     "data": {
      "text/plain": [
       "796"
      ]
     },
     "execution_count": 36,
     "metadata": {},
     "output_type": "execute_result"
    }
   ],
   "source": [
    "complete_whole_ready.filter(\n",
    "    (F.size(F.col(\"datasources\")) >= 1)\n",
    "    & ~(F.array_contains(F.col(\"datasources\"), \"chembl\"))\n",
    "    & ~(F.col(\"taLabel\").isin([\"measurement\", \"phenotype\"]))\n",
    "    & (F.col(\"coherencyDiagonal\") == \"dispar\")\n",
    ").count()"
   ]
  },
  {
   "cell_type": "code",
   "execution_count": 32,
   "metadata": {},
   "outputs": [
    {
     "name": "stderr",
     "output_type": "stream",
     "text": [
      "[Stage 368:===================================>                (135 + 18) / 200]\r"
     ]
    },
    {
     "name": "stdout",
     "output_type": "stream",
     "text": [
      "+-------------+-----+\n",
      "|taLabelSimple|count|\n",
      "+-------------+-----+\n",
      "|        Other|  490|\n",
      "|     Oncology|  306|\n",
      "+-------------+-----+\n",
      "\n"
     ]
    },
    {
     "name": "stderr",
     "output_type": "stream",
     "text": [
      "                                                                                \r"
     ]
    }
   ],
   "source": [
    "complete_whole_ready.filter(\n",
    "    (F.size(F.col(\"datasources\")) >= 1)\n",
    "    & ~(F.array_contains(F.col(\"datasources\"), \"chembl\"))\n",
    "    & ~(F.col(\"taLabel\").isin([\"measurement\", \"phenotype\"]))\n",
    "    & (F.col(\"coherencyDiagonal\") == \"dispar\")\n",
    ").groupBy(\"taLabelSimple\").count().show()"
   ]
  },
  {
   "cell_type": "markdown",
   "metadata": {},
   "source": [
    "#### Count how many are dispar in Diagonal"
   ]
  },
  {
   "cell_type": "code",
   "execution_count": 19,
   "metadata": {},
   "outputs": [
    {
     "name": "stderr",
     "output_type": "stream",
     "text": [
      "                                                                                \r"
     ]
    },
    {
     "data": {
      "text/plain": [
       "1800"
      ]
     },
     "execution_count": 19,
     "metadata": {},
     "output_type": "execute_result"
    }
   ],
   "source": [
    "complete_whole_ready.filter(\n",
    "    ~(F.col(\"taLabel\").isin([\"measurement\", \"phenotype\"]))\n",
    "    & (F.col(\"coherencyDiagonal\") != \"dispar\")\n",
    ").count()"
   ]
  },
  {
   "cell_type": "code",
   "execution_count": 104,
   "metadata": {},
   "outputs": [
    {
     "name": "stderr",
     "output_type": "stream",
     "text": [
      "                                                                                \r"
     ]
    },
    {
     "name": "stdout",
     "output_type": "stream",
     "text": [
      "+---------------+-------------+----------------------+--------------------+-----------+--------+-----------+--------+-----------------+----------------+--------------------+------------+--------------------+--------------------+-----------------+--------------+--------------------+-----------+--------------------+-----------+--------+---------------------+--------------------+----------------------------+---------------------------+----+-------+----+---------+-------------------------------+-------------------------------------------------------+-----------------------+-----------------------+----------------+---------------------+---------------------+------------------+------------------+--------------+--------------+-----------------+\n",
      "|       targetId|    diseaseId|arrayDiseaseFromSource|                name|GoF_protect|GoF_risk|LoF_protect|LoF_risk|coherencyDiagonal|coherencyOneCell|         datasources|maxClinPhase|    therapeuticAreas|              taName|    taLabelSimple|approvedSymbol|              linkOT|GoF_protect|            GoF_risk|LoF_protect|LoF_risk|geneticsAgreeDiagonal|geneticsAgreeOneCell|geneticsAgreeDiagonal_noIMPC|geneticsAgreeOneCell_noIMPC|_c15|comment|type|data type|is_indication_the_main_disease?|is_the_causality_target-disease_the_reason_of_the_drug?|New_Coherency_Diagonal?|New_Coherency_One_Cell?|Potential_Safety|GoF_protect_disSource|LoF_protect_disSource|GoF_risk_disSource|LoF_risk_disSource|diagonalBreak1|diagonalBreak2|diagonalBreakBoth|\n",
      "+---------------+-------------+----------------------+--------------------+-----------+--------+-----------+--------+-----------------+----------------+--------------------+------------+--------------------+--------------------+-----------------+--------------+--------------------+-----------+--------------------+-----------+--------+---------------------+--------------------+----------------------------+---------------------------+----+-------+----+---------+-------------------------------+-------------------------------------------------------+-----------------------+-----------------------+----------------+---------------------+---------------------+------------------+------------------+--------------+--------------+-----------------+\n",
      "|ENSG00000105976|  EFO_0000222|                    []|acute myeloid leu...|       null|       1|          2|    null|         coherent|          dispar|[chembl, cancer_g...|         2.0|[EFO_0005803, MON...|[hematologic dise...|[Other, Oncology]|           MET|https://platform....|         []|[cancer_gene_census]|   [chembl]|      []|                  yes|                 yes|                         yes|                        yes|null|   null|null|     null|                           null|                                                   null|                   null|                   null|            null|                   []|                   []|                []|                []|         False|         False|           dispar|\n",
      "|ENSG00000135446|  EFO_0001663|                    []|  prostate carcinoma|       null|       1|          1|    null|         coherent|          dispar|[chembl, cancer_g...|         1.0|[OTAR_0000017, MO...|[cell proliferati...|[Other, Oncology]|          CDK4|https://platform....|         []|[cancer_gene_census]|   [chembl]|      []|                  yes|                 yes|                         yes|                        yes|null|   null|null|     null|                           null|                                                   null|                   null|                   null|            null|                   []|                   []|                []|                []|         False|         False|           dispar|\n",
      "|ENSG00000105976|  EFO_0001075|                    []|   ovarian carcinoma|       null|       1|          2|    null|         coherent|          dispar|[chembl, cancer_g...|         1.0|[OTAR_0000017, MO...|[cell proliferati...|[Other, Oncology]|           MET|https://platform....|         []|[cancer_gene_census]|   [chembl]|      []|                  yes|                 yes|                         yes|                        yes|null|   null|null|     null|                           null|                                                   null|                   null|                   null|            null|                   []|                   []|                []|                []|         False|         False|           dispar|\n",
      "|ENSG00000128052|  EFO_0006544|                    []|bladder transitio...|       null|       1|          3|    null|         coherent|          dispar|[chembl, cancer_g...|         2.0|[EFO_0009690, MON...|[cell proliferati...|[Other, Oncology]|           KDR|https://platform....|         []|[cancer_gene_census]|   [chembl]|      []|                  yes|                 yes|                         yes|                        yes|null|   null|null|     null|                           null|                                                   null|                   null|                   null|            null|                   []|                   []|                []|                []|         False|         False|           dispar|\n",
      "|ENSG00000128052|  EFO_1000532|                    []|small intestinal ...|       null|       1|          1|    null|         coherent|          dispar|[chembl, cancer_g...|         2.0|[MONDO_0045024, E...|[cell proliferati...|[Other, Oncology]|           KDR|https://platform....|         []|[cancer_gene_census]|   [chembl]|      []|                  yes|                 yes|                         yes|                        yes|null|   null|null|     null|                           null|                                                   null|                   null|                   null|            null|                   []|                   []|                []|                []|         False|         False|           dispar|\n",
      "|ENSG00000128602|MONDO_0016642|                    []|          meningioma|       null|       1|          1|    null|         coherent|          dispar|[chembl, cancer_g...|         2.0|[MONDO_0045024, E...|[cell proliferati...|[Other, Oncology]|           SMO|https://platform....|         []|[cancer_gene_census]|   [chembl]|      []|                  yes|                 yes|                         yes|                        yes|null|   null|null|     null|                           null|                                                   null|                   null|                   null|            null|                   []|                   []|                []|                []|         False|         False|           dispar|\n",
      "|ENSG00000134853|  EFO_0006544|                    []|bladder transitio...|       null|       1|          1|    null|         coherent|          dispar|[chembl, cancer_g...|         2.0|[EFO_0009690, MON...|[cell proliferati...|[Other, Oncology]|        PDGFRA|https://platform....|         []|[cancer_gene_census]|   [chembl]|      []|                  yes|                 yes|                         yes|                        yes|null|   null|null|     null|                           null|                                                   null|                   null|                   null|            null|                   []|                   []|                []|                []|         False|         False|           dispar|\n",
      "|ENSG00000188229|  EFO_0006772|                    []|undifferentiated ...|          1|    null|          2|    null|           dispar|          dispar|            [chembl]|         3.0|     [MONDO_0045024]|[cell proliferati...|       [Oncology]|        TUBB4B|https://platform....|   [chembl]|                  []|   [chembl]|      []|                 null|                null|                        null|                       null|null|   null|null|     null|                           null|                                                   null|                   null|                   null|            null|                   []|                   []|                []|                []|         False|         False|           dispar|\n",
      "|ENSG00000160867|  EFO_0004243|                    []|     carcinoid tumor|       null|       1|          1|    null|         coherent|          dispar|[chembl, cancer_g...|         2.0|[MONDO_0045024, E...|[cell proliferati...|[Other, Oncology]|         FGFR4|https://platform....|         []|[cancer_gene_census]|   [chembl]|      []|                  yes|                 yes|                         yes|                        yes|null|   null|null|     null|                           null|                                                   null|                   null|                   null|            null|                   []|                   []|                []|                []|         False|         False|           dispar|\n",
      "|ENSG00000157404|MONDO_0019471|                    []|adult T-cell leuk...|       null|       1|          1|    null|         coherent|          dispar|[chembl, cancer_g...|         1.0|[EFO_0005803, MON...|[hematologic dise...|[Other, Oncology]|           KIT|https://platform....|         []|[cancer_gene_census]|   [chembl]|      []|                  yes|                 yes|                         yes|                        yes|null|   null|null|     null|                           null|                                                   null|                   null|                   null|            null|                   []|                   []|                []|                []|         False|         False|           dispar|\n",
      "|ENSG00000171094|  EFO_0000640|                    []|papillary renal c...|       null|       1|          1|    null|         coherent|          dispar|[chembl, cancer_g...|         2.0|[EFO_0009690, MON...|[cell proliferati...|[Other, Oncology]|           ALK|https://platform....|         []|[cancer_gene_census]|   [chembl]|      []|                  yes|                 yes|                         yes|                        yes|null|   null|null|     null|                           null|                                                   null|                   null|                   null|            null|                   []|                   []|                []|                []|         False|         False|           dispar|\n",
      "|ENSG00000157404|  EFO_1001471|                    []|Merkel cell skin ...|       null|       1|          2|    null|         coherent|          dispar|[chembl, cancer_g...|         2.0|[MONDO_0045024, E...|[cell proliferati...|[Other, Oncology]|           KIT|https://platform....|         []|[cancer_gene_census]|   [chembl]|      []|                  yes|                 yes|                         yes|                        yes|null|   null|null|     null|                           null|                                                   null|                   null|                   null|            null|                   []|                   []|                []|                []|         False|         False|           dispar|\n",
      "|ENSG00000037280|  EFO_1001471|                    []|Merkel cell skin ...|       null|       1|          1|    null|         coherent|          dispar|[chembl, cancer_g...|         2.0|[MONDO_0045024, E...|[cell proliferati...|[Other, Oncology]|          FLT4|https://platform....|         []|[cancer_gene_census]|   [chembl]|      []|                  yes|                 yes|                         yes|                        yes|null|   null|null|     null|                           null|                                                   null|                   null|                   null|            null|                   []|                   []|                []|                []|         False|         False|           dispar|\n",
      "|ENSG00000101162|  EFO_0006772|                    []|undifferentiated ...|          1|    null|          2|    null|           dispar|          dispar|            [chembl]|         3.0|     [MONDO_0045024]|[cell proliferati...|       [Oncology]|         TUBB1|https://platform....|   [chembl]|                  []|   [chembl]|      []|                 null|                null|                        null|                       null|null|   null|null|     null|                           null|                                                   null|                   null|                   null|            null|                   []|                   []|                []|                []|         False|         False|           dispar|\n",
      "|ENSG00000140538|  EFO_0000389|                    []|  cutaneous melanoma|       null|       1|          1|    null|         coherent|          dispar|[chembl, cancer_g...|         2.0|[MONDO_0045024, E...|[cell proliferati...|[Other, Oncology]|         NTRK3|https://platform....|         []|[cancer_gene_census]|   [chembl]|      []|                  yes|                 yes|                         yes|                        yes|null|   null|null|     null|                           null|                                                   null|                   null|                   null|            null|                   []|                   []|                []|                []|         False|         False|           dispar|\n",
      "|ENSG00000157404|  EFO_0006352|                    []|laryngeal squamou...|       null|       1|          4|    null|         coherent|          dispar|[chembl, cancer_g...|         2.0|[MONDO_0045024, O...|[cell proliferati...|[Other, Oncology]|           KIT|https://platform....|         []|[cancer_gene_census]|   [chembl]|      []|                  yes|                 yes|                         yes|                        yes|null|   null|null|     null|                           null|                                                   null|                   null|                   null|            null|                   []|                   []|                []|                []|         False|         False|           dispar|\n",
      "|ENSG00000126934|MONDO_0002529|                    []|skin squamous cel...|       null|       1|          1|    null|         coherent|          dispar|[chembl, cancer_g...|         2.0|[MONDO_0045024, E...|[cell proliferati...|[Other, Oncology]|        MAP2K2|https://platform....|         []|[cancer_gene_census]|   [chembl]|      []|                  yes|                 yes|                         yes|                        yes|null|   null|null|     null|                           null|                                                   null|                   null|                   null|            null|                   []|                   []|                []|                []|         False|         False|           dispar|\n",
      "|ENSG00000146648|  EFO_0000272|                    []|         astrocytoma|       null|       1|          1|    null|         coherent|          dispar|[chembl, cancer_g...|         1.0|[MONDO_0045024, E...|[cell proliferati...|[Other, Oncology]|          EGFR|https://platform....|         []|[cancer_gene_census]|   [chembl]|      []|                  yes|                 yes|                         yes|                        yes|null|   null|null|     null|                           null|                                                   null|                   null|                   null|            null|                   []|                   []|                []|                []|         False|         False|           dispar|\n",
      "|ENSG00000198793|  EFO_0006544|                    []|bladder transitio...|       null|       1|          1|    null|         coherent|          dispar|[chembl, cancer_g...|         2.0|[EFO_0009690, MON...|[cell proliferati...|[Other, Oncology]|          MTOR|https://platform....|         []|[cancer_gene_census]|   [chembl]|      []|                  yes|                 yes|                         yes|                        yes|null|   null|null|     null|                           null|                                                   null|                   null|                   null|            null|                   []|                   []|                []|                []|         False|         False|           dispar|\n",
      "|ENSG00000047936|  EFO_0000389|                    []|  cutaneous melanoma|       null|       1|          1|    null|         coherent|          dispar|[chembl, cancer_g...|         2.0|[MONDO_0045024, E...|[cell proliferati...|[Other, Oncology]|          ROS1|https://platform....|         []|[cancer_gene_census]|   [chembl]|      []|                  yes|                 yes|                         yes|                        yes|null|   null|null|     null|                           null|                                                   null|                   null|                   null|            null|                   []|                   []|                []|                []|         False|         False|           dispar|\n",
      "+---------------+-------------+----------------------+--------------------+-----------+--------+-----------+--------+-----------------+----------------+--------------------+------------+--------------------+--------------------+-----------------+--------------+--------------------+-----------+--------------------+-----------+--------+---------------------+--------------------+----------------------------+---------------------------+----+-------+----+---------+-------------------------------+-------------------------------------------------------+-----------------------+-----------------------+----------------+---------------------+---------------------+------------------+------------------+--------------+--------------+-----------------+\n",
      "only showing top 20 rows\n",
      "\n"
     ]
    }
   ],
   "source": [
    "complete_whole_ready2.filter(\n",
    "    (\n",
    "        F.size(\n",
    "            F.array_intersect(\n",
    "                F.col(\"taName\"), F.array(F.lit(\"measurement\"), F.lit(\"phenotype\"))\n",
    "            )\n",
    "        )\n",
    "        > 1\n",
    "    )\n",
    ").filter(F.col(\"diagonalBreakBoth\") == \"dispar\").show()"
   ]
  },
  {
   "cell_type": "code",
   "execution_count": 77,
   "metadata": {},
   "outputs": [],
   "source": [
    "complete_whole_ready.toPandas().to_csv(\n",
    "    \"gs://ot-team/jroldan/analysis/20241016_completeWholeReady.csv\"\n",
    ")"
   ]
  },
  {
   "cell_type": "markdown",
   "metadata": {},
   "source": [
    "### Let's generate a dataset with datasources in the column of homogenized:"
   ]
  },
  {
   "cell_type": "markdown",
   "metadata": {},
   "source": [
    "#### Some Key numbers"
   ]
  },
  {
   "cell_type": "code",
   "execution_count": 39,
   "metadata": {},
   "outputs": [
    {
     "name": "stdout",
     "output_type": "stream",
     "text": [
      "Total associations with DoE = 865816\n",
      "Total associations being discrepant on at least one criteria = 15885\n",
      "Associations discrepant on coherency Diagonal = 9137\n",
      "Associations discrepant on coherency oneCell = 15885\n"
     ]
    }
   ],
   "source": [
    "print(\"Total associations with DoE =\", coherency_assessed.count())\n",
    "print(\n",
    "    \"Total associations being discrepant on at least one criteria =\", complete.count()\n",
    ")\n",
    "print(\n",
    "    \"Associations discrepant on coherency Diagonal =\",\n",
    "    complete.filter(F.col(\"coherencyDiagonal\") == \"dispar\").count(),\n",
    ")\n",
    "print(\n",
    "    \"Associations discrepant on coherency oneCell =\",\n",
    "    complete.filter(F.col(\"coherencyOneCell\") == \"dispar\").count(),\n",
    ")"
   ]
  },
  {
   "cell_type": "markdown",
   "metadata": {},
   "source": [
    "#### More detailed comparisons inside of each criteria for coherency"
   ]
  },
  {
   "cell_type": "code",
   "execution_count": 23,
   "metadata": {},
   "outputs": [
    {
     "name": "stdout",
     "output_type": "stream",
     "text": [
      "+--------------------+-----------------+----------------+-----+\n",
      "|              taName|coherencyDiagonal|coherencyOneCell|count|\n",
      "+--------------------+-----------------+----------------+-----+\n",
      "|         [phenotype]|         coherent|          dispar|   44|\n",
      "|         [phenotype]|           dispar|          dispar|  317|\n",
      "|       [measurement]|         coherent|          dispar| 4882|\n",
      "|       [measurement]|           dispar|          dispar| 5755|\n",
      "|[genetic, familia...|         coherent|          dispar|    4|\n",
      "|[genetic, familia...|           dispar|          dispar|    3|\n",
      "|[urinary system d...|           dispar|          dispar|    3|\n",
      "|[hematologic dise...|         coherent|          dispar|    1|\n",
      "+--------------------+-----------------+----------------+-----+\n",
      "\n"
     ]
    }
   ],
   "source": [
    "complete.filter(\n",
    "    F.size(\n",
    "        F.array_intersect(\n",
    "            F.col(\"taName\"), F.array(F.lit(\"measurement\"), F.lit(\"phenotype\"))\n",
    "        )\n",
    "    )\n",
    "    > 0\n",
    ").groupBy(\"taName\", \"coherencyDiagonal\", \"coherencyOneCell\").count().show()"
   ]
  },
  {
   "cell_type": "markdown",
   "metadata": {},
   "source": [
    "#### 2/3 of associations under coherency Diagonal are Measurement/Phenotypes"
   ]
  },
  {
   "cell_type": "code",
   "execution_count": 40,
   "metadata": {},
   "outputs": [
    {
     "data": {
      "text/plain": [
       "6078"
      ]
     },
     "execution_count": 40,
     "metadata": {},
     "output_type": "execute_result"
    }
   ],
   "source": [
    "#### Associations in coherency diagonal that are measurements/phenotypes\n",
    "complete.filter(\n",
    "    (\n",
    "        F.size(\n",
    "            F.array_intersect(\n",
    "                F.col(\"taName\"), F.array(F.lit(\"measurement\"), F.lit(\"phenotype\"))\n",
    "            )\n",
    "        )\n",
    "        > 0\n",
    "    )\n",
    "    & (F.col(\"coherencyDiagonal\") == \"dispar\")\n",
    ").count()"
   ]
  },
  {
   "cell_type": "markdown",
   "metadata": {},
   "source": [
    "#### After removing measurement/phenotypes:"
   ]
  },
  {
   "cell_type": "code",
   "execution_count": 44,
   "metadata": {},
   "outputs": [
    {
     "data": {
      "text/plain": [
       "3059"
      ]
     },
     "execution_count": 44,
     "metadata": {},
     "output_type": "execute_result"
    }
   ],
   "source": [
    "complete.filter(\n",
    "    (\n",
    "        F.size(\n",
    "            F.array_intersect(\n",
    "                F.col(\"taName\"), F.array(F.lit(\"measurement\"), F.lit(\"phenotype\"))\n",
    "            )\n",
    "        )\n",
    "        == 0\n",
    "    )\n",
    "    & (F.col(\"coherencyDiagonal\") == \"dispar\")\n",
    ").count()"
   ]
  },
  {
   "cell_type": "markdown",
   "metadata": {},
   "source": [
    "#### From this 3,059 associations, how many are Chembl VS Genetics?"
   ]
  },
  {
   "cell_type": "markdown",
   "metadata": {},
   "source": [
    "### How many of genetics VS drugs are from cancer:"
   ]
  },
  {
   "cell_type": "code",
   "execution_count": 20,
   "metadata": {},
   "outputs": [
    {
     "data": {
      "text/plain": [
       "1708"
      ]
     },
     "execution_count": 20,
     "metadata": {},
     "output_type": "execute_result"
    }
   ],
   "source": [
    "complete.filter(\n",
    "    (F.size(F.col(\"datasources\")) > 1)\n",
    "    & (F.array_contains(F.col(\"datasources\"), \"chembl\"))\n",
    ").filter(F.array_contains(F.col(\"taLabelSimple\"), \"Oncology\")).count()"
   ]
  },
  {
   "cell_type": "markdown",
   "metadata": {},
   "source": [
    "### Datasources composition for Genetics VS drugs in Oncology"
   ]
  },
  {
   "cell_type": "code",
   "execution_count": 26,
   "metadata": {},
   "outputs": [
    {
     "name": "stdout",
     "output_type": "stream",
     "text": [
      "+-------------------------------------------------------------------+-----+\n",
      "|datasources                                                        |count|\n",
      "+-------------------------------------------------------------------+-----+\n",
      "|[chembl, cancer_gene_census]                                       |1260 |\n",
      "|[impc, chembl]                                                     |172  |\n",
      "|[intogen, chembl]                                                  |104  |\n",
      "|[intogen, chembl, cancer_gene_census]                              |79   |\n",
      "|[impc, chembl, cancer_gene_census]                                 |21   |\n",
      "|[eva, chembl]                                                      |11   |\n",
      "|[ot_genetics_portal, chembl]                                       |10   |\n",
      "|[gene_burden, chembl, cancer_gene_census]                          |8    |\n",
      "|[gene_burden, chembl]                                              |8    |\n",
      "|[chembl, eva_somatic]                                              |6    |\n",
      "|[eva, chembl, cancer_gene_census]                                  |4    |\n",
      "|[impc, eva, chembl]                                                |4    |\n",
      "|[ot_genetics_portal, chembl, cancer_gene_census]                   |3    |\n",
      "|[impc, eva, chembl, eva_somatic]                                   |2    |\n",
      "|[impc, intogen, chembl, cancer_gene_census]                        |2    |\n",
      "|[intogen, chembl, eva_somatic, cancer_gene_census]                 |2    |\n",
      "|[intogen, chembl, eva_somatic]                                     |2    |\n",
      "|[impc, intogen, gene_burden, chembl, eva_somatic]                  |1    |\n",
      "|[eva, gene_burden, chembl, cancer_gene_census]                     |1    |\n",
      "|[chembl, eva_somatic, cancer_gene_census]                          |1    |\n",
      "|[intogen, gene_burden, chembl, cancer_gene_census]                 |1    |\n",
      "|[impc, intogen, chembl]                                            |1    |\n",
      "|[impc, gene_burden, chembl, cancer_gene_census]                    |1    |\n",
      "|[impc, ot_genetics_portal, gene_burden, chembl, cancer_gene_census]|1    |\n",
      "|[impc, chembl, eva_somatic]                                        |1    |\n",
      "|[eva, gene_burden, chembl]                                         |1    |\n",
      "|[impc, eva, orphanet, chembl, eva_somatic, cancer_gene_census]     |1    |\n",
      "+-------------------------------------------------------------------+-----+\n",
      "\n"
     ]
    }
   ],
   "source": [
    "complete.filter(\n",
    "    (F.size(F.col(\"datasources\")) > 1)\n",
    "    & (F.array_contains(F.col(\"datasources\"), \"chembl\"))\n",
    ").filter(F.array_contains(F.col(\"taLabelSimple\"), \"Oncology\")).groupBy(\n",
    "    \"datasources\"\n",
    ").count().sort(\n",
    "    F.col(\"count\").desc()\n",
    ").show(\n",
    "    100, truncate=False\n",
    ")"
   ]
  }
 ],
 "metadata": {
  "kernelspec": {
   "display_name": "PySpark",
   "language": "python",
   "name": "pyspark"
  },
  "language_info": {
   "codemirror_mode": {
    "name": "ipython",
    "version": 3
   },
   "file_extension": ".py",
   "mimetype": "text/x-python",
   "name": "python",
   "nbconvert_exporter": "python",
   "pygments_lexer": "ipython3",
   "version": "3.10.8"
  }
 },
 "nbformat": 4,
 "nbformat_minor": 2
}
