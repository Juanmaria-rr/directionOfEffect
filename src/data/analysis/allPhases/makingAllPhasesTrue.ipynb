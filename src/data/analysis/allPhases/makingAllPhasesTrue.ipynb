{
 "cells": [
  {
   "cell_type": "markdown",
   "metadata": {},
   "source": [
    "### 1st part: include modification of code to have drugId and studyId"
   ]
  },
  {
   "cell_type": "code",
   "execution_count": 1,
   "metadata": {},
   "outputs": [
    {
     "name": "stdout",
     "output_type": "stream",
     "text": [
      "spark session created at 2025-01-17 11:20:40.774677\n",
      "Analysis started on 2025-01-17 at  2025-01-17 11:20:40.774677\n"
     ]
    },
    {
     "name": "stderr",
     "output_type": "stream",
     "text": [
      "25/01/17 11:20:46 WARN package: Truncated the string representation of a plan since it was too large. This behavior can be adjusted by setting 'spark.sql.debug.maxToStringFields'.\n",
      "                                                                                \r"
     ]
    }
   ],
   "source": [
    "#### 08.01.2025\n",
    "#### ALL PHASES \n",
    "from array import ArrayType\n",
    "from functions import (\n",
    "    relative_success,\n",
    "    spreadSheetFormatter,\n",
    "    discrepancifier,\n",
    "    temporary_directionOfEffect,\n",
    "    \n",
    ")\n",
    "from stoppedTrials import terminated_td\n",
    "from DoEAssessment import directionOfEffect\n",
    "from membraneTargets import target_membrane\n",
    "from pyspark.sql import SparkSession, Window\n",
    "import pyspark.sql.functions as F\n",
    "from datetime import datetime\n",
    "from datetime import date\n",
    "from pyspark.sql.types import StructType, StructField, StringType, IntegerType\n",
    "from pyspark.sql.types import (\n",
    "    StructType,\n",
    "    StructField,\n",
    "    DoubleType,\n",
    "    DecimalType,\n",
    "    StringType,\n",
    "    FloatType,\n",
    ")\n",
    "import pandas as pd\n",
    "\n",
    "spark = SparkSession.builder.getOrCreate()\n",
    "\n",
    "path = \"gs://open-targets-pre-data-releases/24.12-uo_test-3/output/etl/parquet/\"\n",
    "\n",
    "target = spark.read.parquet(f\"{path}targets/\")\n",
    "\n",
    "diseases = spark.read.parquet(f\"{path}diseases/\")\n",
    "\n",
    "evidences = spark.read.parquet(f\"{path}evidence\")\n",
    "\n",
    "credible = spark.read.parquet(f\"{path}credibleSet\")\n",
    "\n",
    "### index with new fix\" \"gs://ot-team/irene/gentropy/study_index_2412_fixed\"\n",
    "index = spark.read.parquet(f\"gs://ot-team/irene/gentropy/study_index_2412_fixed\")\n",
    "\n",
    "new = spark.read.parquet(f\"{path}colocalisation/coloc\")\n",
    "\n",
    "variantIndex = spark.read.parquet(f\"{path}variantIndex\")\n",
    "\n",
    "biosample = spark.read.parquet(f\"{path}biosample\")\n",
    "\n",
    "\n",
    "#### Fixing scXQTL as XQTLs:\n",
    "## code provided by @ireneisdoomed\n",
    "pd.DataFrame.iteritems = pd.DataFrame.items\n",
    "\n",
    "raw_studies_metadata_schema: StructType = StructType(\n",
    "        [\n",
    "            StructField(\"study_id\", StringType(), True),\n",
    "            StructField(\"dataset_id\", StringType(), True),\n",
    "            StructField(\"study_label\", StringType(), True),\n",
    "            StructField(\"sample_group\", StringType(), True),\n",
    "            StructField(\"tissue_id\", StringType(), True),\n",
    "            StructField(\"tissue_label\", StringType(), True),\n",
    "            StructField(\"condition_label\", StringType(), True),\n",
    "            StructField(\"sample_size\", IntegerType(), True),\n",
    "            StructField(\"quant_method\", StringType(), True),\n",
    "            StructField(\"pmid\", StringType(), True),\n",
    "            StructField(\"study_type\", StringType(), True),\n",
    "        ]\n",
    "    )\n",
    "raw_studies_metadata_path = \"https://raw.githubusercontent.com/eQTL-Catalogue/eQTL-Catalogue-resources/fe3c4b4ed911b3a184271a6aadcd8c8769a66aba/data_tables/dataset_metadata.tsv\"\n",
    "\n",
    "study_table = spark.createDataFrame(\n",
    "            pd.read_csv(raw_studies_metadata_path, sep=\"\\t\"),\n",
    "            schema=raw_studies_metadata_schema,\n",
    "        )\n",
    "\n",
    "#index = spark.read.parquet(\"gs://open-targets-pre-data-releases/24.12-uo_test-3/output/genetics/parquet/study_index\")\n",
    "\n",
    "study_index_w_correct_type = (\n",
    "    study_table.select(\n",
    "        F.concat_ws(\n",
    "            \"_\",\n",
    "            F.col(\"study_label\"),\n",
    "            F.col(\"quant_method\"),\n",
    "            F.col(\"sample_group\"),\n",
    "        ).alias(\"extracted_column\"),\n",
    "        \"study_type\",\n",
    "    )\n",
    "    .join(\n",
    "        index\n",
    "        # Get eQTL Catalogue studies\n",
    "        .filter(F.col(\"studyType\") != \"gwas\")\n",
    "        .filter(~F.col(\"studyId\").startswith(\"UKB_PPP\"))\n",
    "        # Remove measured trait\n",
    "        .withColumn(\n",
    "            \"extracted_column\",\n",
    "            F.regexp_replace(F.col(\"studyId\"), r\"(_ENS.*|_ILMN.*|_X.*|_[0-9]+:.*)\", \"\"),\n",
    "        )\n",
    "        .withColumn(\n",
    "            \"extracted_column\",\n",
    "            # After the previous cleanup, there are multiple traits from the same publication starting with the gene symbol that need to be removed (e.g. `Sun_2018_aptamer_plasma_ANXA2.4961.17.1..1`)\n",
    "            F.when(\n",
    "                F.col(\"extracted_column\").startswith(\"Sun_2018_aptamer_plasma\"),\n",
    "                F.lit(\"Sun_2018_aptamer_plasma\"),\n",
    "            ).otherwise(F.col(\"extracted_column\")),\n",
    "        ),\n",
    "        on=\"extracted_column\",\n",
    "        how=\"right\",\n",
    "    )\n",
    "    .persist()\n",
    ")\n",
    "\n",
    "fixed = (\n",
    "    study_index_w_correct_type.withColumn(\n",
    "        \"toFix\",\n",
    "        F.when(\n",
    "            (F.col(\"study_type\") != \"single-cell\")\n",
    "            & (F.col(\"studyType\").startswith(\"sc\")),\n",
    "            F.lit(True),\n",
    "        ).otherwise(F.lit(False)),\n",
    "    )\n",
    "    # Remove the substring \"sc\" from the studyType column\n",
    "    .withColumn(\n",
    "        \"newStudyType\",\n",
    "        F.when(\n",
    "            F.col(\"toFix\"), F.regexp_replace(F.col(\"studyType\"), r\"sc\", \"\")\n",
    "        ).otherwise(F.col(\"studyType\")),\n",
    "    )\n",
    "    .drop(\"toFix\", \"extracted_column\", \"study_type\")\n",
    ").persist()\n",
    "all_studies = index.join(\n",
    "    fixed.selectExpr(\"studyId\", \"newStudyType\"), on=\"studyId\", how=\"left\"\n",
    ").persist()\n",
    "fixedIndex = all_studies.withColumn(\n",
    "    \"studyType\",\n",
    "    F.when(F.col(\"newStudyType\").isNotNull(), F.col(\"newStudyType\")).otherwise(\n",
    "        F.col(\"studyType\")\n",
    "    ),\n",
    ").drop(\"newStudyType\")\n",
    "#### fixed  \n",
    "\n",
    "newColoc = (\n",
    "    new.join(\n",
    "        credible.selectExpr(  #### studyLocusId from credible set to uncover the codified variants on left side\n",
    "            \"studyLocusId as leftStudyLocusId\",\n",
    "            \"StudyId as leftStudyId\",\n",
    "            \"variantId as leftVariantId\",\n",
    "            \"studyType as credibleLeftStudyType\",\n",
    "        ),\n",
    "        on=\"leftStudyLocusId\",\n",
    "        how=\"left\",\n",
    "    )\n",
    "    .join(\n",
    "        credible.selectExpr(  #### studyLocusId from credible set to uncover the codified variants on right side\n",
    "            \"studyLocusId as rightStudyLocusId\",\n",
    "            \"studyId as rightStudyId\",\n",
    "            \"variantId as rightVariantId\",\n",
    "            \"studyType as credibleRightStudyType\",\n",
    "        ),\n",
    "        on=\"rightStudyLocusId\",\n",
    "        how=\"left\",\n",
    "    )\n",
    "    .join(\n",
    "        fixedIndex.selectExpr(  ### bring modulated target on right side (QTL study)\n",
    "            \"studyId as rightStudyId\", \"geneId\", \"projectId\", \"studyType as indexStudyType\", \"condition\", \"biosampleId\"\n",
    "        ),\n",
    "        on=\"rightStudyId\",\n",
    "        how=\"left\",\n",
    "    )\n",
    "    .persist()\n",
    ")\n",
    "# remove columns without content (only null values on them)\n",
    "df = evidences.filter((F.col(\"datasourceId\") == \"gwas_credible_sets\"))\n",
    "\n",
    "# Use an aggregation to determine non-null columns\n",
    "non_null_counts = df.select(\n",
    "    *[F.sum(F.col(col).isNotNull().cast(\"int\")).alias(col) for col in df.columns]\n",
    ")\n",
    "\n",
    "# Collect the counts for each column\n",
    "non_null_columns = [\n",
    "    row[0] for row in non_null_counts.collect()[0].asDict().items() if row[1] > 0\n",
    "]\n",
    "\n",
    "# Select only the non-null columns\n",
    "filtered_df = df.select(*non_null_columns).persist()\n",
    "\n",
    "## bring studyId, variantId, beta from Gwas and pValue\n",
    "gwasComplete = filtered_df.join(\n",
    "    credible.selectExpr(\n",
    "        \"studyLocusId\", \"studyId\", \"variantId\", \"beta as betaGwas\", \"pValueExponent\"\n",
    "    ),\n",
    "    on=\"studyLocusId\",\n",
    "    how=\"left\",\n",
    ").persist()\n",
    "\n",
    "resolvedColoc = (\n",
    "    (\n",
    "        newColoc.withColumnRenamed(\"geneId\", \"targetId\")\n",
    "        .join(\n",
    "            gwasComplete.withColumnRenamed(\"studyLocusId\", \"leftStudyLocusId\"),\n",
    "            on=[\"leftStudyLocusId\", \"targetId\"],\n",
    "            how=\"inner\",\n",
    "        )\n",
    "        .join(  ### propagated using parent terms\n",
    "            diseases.selectExpr(\n",
    "                \"id as diseaseId\", \"name\", \"parents\", \"therapeuticAreas\"\n",
    "            ),\n",
    "            on=\"diseaseId\",\n",
    "            how=\"left\",\n",
    "        )\n",
    "        .withColumn(\n",
    "            \"diseaseId\",\n",
    "            F.explode_outer(F.concat(F.array(F.col(\"diseaseId\")), F.col(\"parents\"))),\n",
    "        )\n",
    "        .drop(\"parents\", \"oldDiseaseId\")\n",
    "    )\n",
    "    .withColumn(\n",
    "        \"colocDoE\",\n",
    "        F.when(\n",
    "            F.col(\"rightStudyType\").isin(\n",
    "                [\"eqtl\", \"pqtl\", \"tuqtl\", \"sceqtl\", \"sctuqtl\"]\n",
    "            ),\n",
    "            F.when(\n",
    "                (F.col(\"betaGwas\") > 0) & (F.col(\"betaRatioSignAverage\") > 0),\n",
    "                F.lit(\"GoF_risk\"),\n",
    "            )\n",
    "            .when(\n",
    "                (F.col(\"betaGwas\") > 0) & (F.col(\"betaRatioSignAverage\") < 0),\n",
    "                F.lit(\"LoF_risk\"),\n",
    "            )\n",
    "            .when(\n",
    "                (F.col(\"betaGwas\") < 0) & (F.col(\"betaRatioSignAverage\") > 0),\n",
    "                F.lit(\"LoF_protect\"),\n",
    "            )\n",
    "            .when(\n",
    "                (F.col(\"betaGwas\") < 0) & (F.col(\"betaRatioSignAverage\") < 0),\n",
    "                F.lit(\"GoF_protect\"),\n",
    "            ),\n",
    "        ).when(\n",
    "            F.col(\"rightStudyType\").isin(\n",
    "                [\"sqtl\", \"scsqtl\"]\n",
    "            ),  ### opposite directionality than sqtl\n",
    "            F.when(\n",
    "                (F.col(\"betaGwas\") > 0) & (F.col(\"betaRatioSignAverage\") > 0),\n",
    "                F.lit(\"LoF_risk\"),\n",
    "            )\n",
    "            .when(\n",
    "                (F.col(\"betaGwas\") > 0) & (F.col(\"betaRatioSignAverage\") < 0),\n",
    "                F.lit(\"GoF_risk\"),\n",
    "            )\n",
    "            .when(\n",
    "                (F.col(\"betaGwas\") < 0) & (F.col(\"betaRatioSignAverage\") > 0),\n",
    "                F.lit(\"GoF_protect\"),\n",
    "            )\n",
    "            .when(\n",
    "                (F.col(\"betaGwas\") < 0) & (F.col(\"betaRatioSignAverage\") < 0),\n",
    "                F.lit(\"LoF_protect\"),\n",
    "            ),\n",
    "        ),\n",
    "    )\n",
    "    .persist()\n",
    ")\n",
    "\n",
    "path = \"gs://open-targets-pre-data-releases/24.12-uo_test-3/output/etl/parquet/\"\n",
    "\n",
    "datasource_filter = [\n",
    "    \"ot_genetics_portal\",\n",
    "    \"gwas_credible_sets\",\n",
    "    \"gene_burden\",\n",
    "    \"eva\",\n",
    "    \"eva_somatic\",\n",
    "    \"gene2phenotype\",\n",
    "    \"orphanet\",\n",
    "    \"cancer_gene_census\",\n",
    "    \"intogen\",\n",
    "    \"impc\",\n",
    "    \"chembl\",\n",
    "]\n",
    "\n",
    "assessment, evidences, actionType, oncolabel = temporary_directionOfEffect(\n",
    "    path, datasource_filter\n",
    ")\n",
    "\n",
    "drugApproved=spark.read.parquet(\"gs://ot-team/irene/l2g/validation/chembl_w_flags\").drop(\"clinicalTrialId\",\"isComplex\"\n",
    ").withColumn(\"isApproved\", F.when(F.col(\"isApproved\")==\"true\", F.lit(1)).otherwise(F.lit(0))).distinct()\n"
   ]
  },
  {
   "cell_type": "markdown",
   "metadata": {},
   "source": [
    "#### 2nd part"
   ]
  },
  {
   "cell_type": "code",
   "execution_count": 2,
   "metadata": {},
   "outputs": [
    {
     "name": "stderr",
     "output_type": "stream",
     "text": [
      "                                                                                \r"
     ]
    }
   ],
   "source": [
    "### include drugId and studyId becuase there are some studies where there are multiple drugs. \n",
    "# Everywthing will become coherent in chembl assoc since this\n",
    "### 1nd version of \n",
    "\n",
    "analysis_chembl_indication = (\n",
    "    discrepancifier(\n",
    "        assessment.filter(\n",
    "            (F.col(\"datasourceId\") == \"chembl\")\n",
    "            & (F.col(\"homogenized\") != \"noEvaluable\")\n",
    "        )\n",
    "        .join(drugApproved.filter(F.col(\"isApproved\")==1), on=[\"targetId\",\"diseaseId\",\"drugId\"], how=\"left\")\n",
    "        .withColumn(\n",
    "            \"maxClinPhase\", ### no longer maxclinphase for T-D\n",
    "            F.max(\"clinicalPhase\").over(Window.partitionBy(\"targetId\", \"diseaseId\",\"drugId\", \"studyId\",\"clinicalPhase\")), ### this is key to understand what we do\n",
    "        )\n",
    "        .withColumn(\n",
    "        \"approvedDrug\",\n",
    "        F.max(F.col(\"isApproved\")).over(Window.partitionBy(\"targetId\", \"diseaseId\")),\n",
    "        )\n",
    "        ## do not consider drugId so when there are two drugs with diferent MoA at the same clinical phase we will not include it (coherency==coherent)\n",
    "        .groupBy(\"targetId\", \"diseaseId\", \"studyId\",\"drugId\",\"clinicalPhase\",\"maxClinPhase\",\"approvedDrug\")  ## we can remove drugID\n",
    "        .pivot(\"homogenized\")\n",
    "        .count()\n",
    "    )\n",
    "    .withColumnRenamed(\"studyId\",\"clinicalStudyId\")\n",
    "    .filter(F.col(\"coherencyDiagonal\") == \"coherent\")\n",
    "    .drop(\n",
    "        \"coherencyDiagonal\", \n",
    "        \"coherencyOneCell\", \n",
    "        \"noEvaluable\", \n",
    "        \"GoF_risk\", \n",
    "        \"LoF_risk\"\n",
    "    )\n",
    "    .withColumnRenamed(\"GoF_protect\", \"drugGoF_protect\")\n",
    "    .withColumnRenamed(\"LoF_protect\", \"drugLoF_protect\")\n",
    ")\n",
    "\n",
    "benchmark = (\n",
    "    (\n",
    "        resolvedColoc.filter(F.col(\"betaGwas\") < 0)\n",
    "        .join(  ### select just GWAS giving protection\n",
    "            analysis_chembl_indication, on=[\"targetId\", \"diseaseId\"], how=\"inner\"\n",
    "        )\n",
    "        .withColumn(\n",
    "            \"AgreeDrug\",\n",
    "            F.when(\n",
    "                (F.col(\"drugGoF_protect\").isNotNull())\n",
    "                & (F.col(\"colocDoE\") == \"GoF_protect\"),\n",
    "                F.lit(\"yes\"),\n",
    "            )\n",
    "            .when(\n",
    "                (F.col(\"drugLoF_protect\").isNotNull())\n",
    "                & (F.col(\"colocDoE\") == \"LoF_protect\"),\n",
    "                F.lit(\"yes\"),\n",
    "            )\n",
    "            .otherwise(F.lit(\"no\")),\n",
    "        )\n",
    "    )\n",
    "    .filter(F.col(\"name\") != \"COVID-19\")  #### remove COVID-19 associations\n",
    ").join(biosample.select(\"biosampleId\", \"biosampleName\"), on=\"biosampleId\", how=\"left\")"
   ]
  },
  {
   "cell_type": "markdown",
   "metadata": {},
   "source": [
    "### Bring examples for the benchmark: how the numbers changed the statistics between pqtl, for instance. "
   ]
  },
  {
   "cell_type": "code",
   "execution_count": 3,
   "metadata": {},
   "outputs": [],
   "source": [
    "def comparisons_df_iterative(disdic,projectId):\n",
    "    toAnalysis=[(key, value) for key, value in disdic.items() if value == projectId]\n",
    "    schema = StructType(\n",
    "        [\n",
    "            StructField(\"comparison\", StringType(), True),\n",
    "            StructField(\"comparisonType\", StringType(), True),\n",
    "        ]\n",
    "    )\n",
    "\n",
    "    comparisons = spark.createDataFrame(toAnalysis, schema=schema)\n",
    "    ### include all the columns as predictor\n",
    "\n",
    "    predictions = spark.createDataFrame(\n",
    "        data=[\n",
    "            (\"Phase4\", \"clinical\"),\n",
    "            (\"Phase>=3\", \"clinical\"),\n",
    "            (\"Phase>=2\", \"clinical\"),\n",
    "            (\"Phase>=1\", \"clinical\"),\n",
    "            #(\"nPhase4\", \"clinical\"),\n",
    "            #(\"nPhase>=3\", \"clinical\"),\n",
    "            #(\"nPhase>=2\", \"clinical\"),\n",
    "            #(\"nPhase>=1\", \"clinical\"),\n",
    "            (\"approved\", \"clinical\"),\n",
    "\n",
    "            # (\"PhaseT\", \"clinical\"),\n",
    "        ]\n",
    "    )\n",
    "    return comparisons.join(predictions, how=\"full\").collect()\n",
    "\n",
    "full_data = spark.createDataFrame(\n",
    "    data=[\n",
    "        (\"yes\", \"yes\"),\n",
    "        (\"yes\", \"no\"),\n",
    "        (\"no\", \"yes\"),\n",
    "        (\"no\", \"no\"),\n",
    "    ],\n",
    "    schema=StructType(\n",
    "        [\n",
    "            StructField(\"prediction\", StringType(), True),\n",
    "            StructField(\"comparison\", StringType(), True),\n",
    "        ]\n",
    "    ),\n",
    ")"
   ]
  },
  {
   "cell_type": "code",
   "execution_count": 39,
   "metadata": {},
   "outputs": [
    {
     "data": {
      "text/plain": [
       "['maxClinPhase_TD', 'targetId', 'diseaseId', 'approvedDrug']"
      ]
     },
     "execution_count": 39,
     "metadata": {},
     "output_type": "execute_result"
    }
   ],
   "source": [
    "list(set(group1) - set(\"maxClinPhase_TD\"))"
   ]
  },
  {
   "cell_type": "code",
   "execution_count": null,
   "metadata": {},
   "outputs": [],
   "source": [
    "### check if the tiem where we take the maxclinphase is right or not. "
   ]
  },
  {
   "cell_type": "code",
   "execution_count": 23,
   "metadata": {},
   "outputs": [],
   "source": [
    "from pyspark.sql.functions import monotonically_increasing_id\n"
   ]
  },
  {
   "cell_type": "code",
   "execution_count": 4,
   "metadata": {},
   "outputs": [],
   "source": [
    "chembl_indication=discrepancifier((assessment.filter(\n",
    "            (F.col(\"datasourceId\") == \"chembl\")\n",
    "            & (F.col(\"homogenized\") != \"noEvaluable\")\n",
    "        )\n",
    "        .join(drugApproved.filter(F.col(\"isApproved\")==1), on=[\"targetId\",\"diseaseId\",\"drugId\"], how=\"left\")\n",
    "        ).withColumn(\n",
    "        \"approvedDrug\",\n",
    "        F.max(F.col(\"isApproved\")).over(Window.partitionBy(\"targetId\", \"diseaseId\",\"drugId\")),\n",
    "        ).groupBy(\"targetId\", \"diseaseId\", \"studyId\",\"drugId\",\"clinicalPhase\",\"approvedDrug\"\n",
    "        ).pivot(\"homogenized\").count()\n",
    "    ).withColumnRenamed(\"studyId\",\"clinicalStudyId\"\n",
    "        ).filter(F.col(\"coherencyDiagonal\") == \"coherent\"\n",
    "        ).drop(\n",
    "        \"coherencyDiagonal\", \n",
    "        \"coherencyOneCell\", \n",
    "        \"noEvaluable\", \n",
    "        \"GoF_risk\", \n",
    "        \"LoF_risk\"\n",
    "    ).withColumnRenamed(\"GoF_protect\", \"drugGoF_protect\"\n",
    "    ).withColumnRenamed(\"LoF_protect\", \"drugLoF_protect\")\n",
    "\n",
    "new_benchmark = (\n",
    "    (\n",
    "        resolvedColoc.filter(F.col(\"betaGwas\") < 0)\n",
    "        .join(  ### select just GWAS giving protection\n",
    "            chembl_indication, on=[\"targetId\", \"diseaseId\"], how=\"inner\"\n",
    "        )\n",
    "        .withColumn(\n",
    "            \"AgreeDrug\",\n",
    "            F.when(\n",
    "                (F.col(\"drugGoF_protect\").isNotNull())\n",
    "                & (F.col(\"colocDoE\") == \"GoF_protect\"),\n",
    "                F.lit(\"yes\"),\n",
    "            )\n",
    "            .when(\n",
    "                (F.col(\"drugLoF_protect\").isNotNull())\n",
    "                & (F.col(\"colocDoE\") == \"LoF_protect\"),\n",
    "                F.lit(\"yes\"),\n",
    "            )\n",
    "            .otherwise(F.lit(\"no\")),\n",
    "        )\n",
    "    )\n",
    "    .filter(F.col(\"name\") != \"COVID-19\")  #### remove COVID-19 associations\n",
    ").join(biosample.select(\"biosampleId\", \"biosampleName\"), on=\"biosampleId\", how=\"left\")"
   ]
  },
  {
   "cell_type": "code",
   "execution_count": 9,
   "metadata": {},
   "outputs": [
    {
     "name": "stderr",
     "output_type": "stream",
     "text": [
      "[Stage 139:============================================>       (170 + 14) / 200]\r"
     ]
    },
    {
     "name": "stdout",
     "output_type": "stream",
     "text": [
      "+---+-----+-----+-----+-----+\n",
      "|0.5|  1.0|  2.0|  3.0|  4.0|\n",
      "+---+-----+-----+-----+-----+\n",
      "|771|27407|29184|76940|63229|\n",
      "+---+-----+-----+-----+-----+\n",
      "\n"
     ]
    },
    {
     "name": "stderr",
     "output_type": "stream",
     "text": [
      "                                                                                \r"
     ]
    }
   ],
   "source": [
    "# List of columns to aggregate\n",
    "numeric_columns = [\"0.5\", \"1.0\", \"2.0\", \"3.0\", \"4.0\"]\n",
    "\n",
    "# Escape column names\n",
    "escaped_columns = [f\"`{c}`\" for c in numeric_columns]\n",
    "\n",
    "# Create aggregation expressions\n",
    "agg_expressions = [F.sum(F.col(c)).alias(c.strip(\"`\")) for c in escaped_columns]\n",
    "\n",
    "\n",
    "\n",
    "new_benchmark.groupBy(\"targetId\",\"diseaseId\"\n",
    ").pivot(\"clinicalPhase\").count().withColumn(\"id\", F.monotonically_increasing_id()\n",
    ").agg(*agg_expressions).show()"
   ]
  },
  {
   "cell_type": "code",
   "execution_count": null,
   "metadata": {},
   "outputs": [
    {
     "name": "stderr",
     "output_type": "stream",
     "text": [
      "[Stage 7444:=========================================>         (163 + 17) / 200]\r"
     ]
    },
    {
     "name": "stdout",
     "output_type": "stream",
     "text": [
      "+---+---+---+----+---+\n",
      "|0.5|1.0|2.0| 3.0|4.0|\n",
      "+---+---+---+----+---+\n",
      "| 13|623|590|1308|863|\n",
      "+---+---+---+----+---+\n",
      "\n"
     ]
    },
    {
     "name": "stderr",
     "output_type": "stream",
     "text": [
      "                                                                                \r"
     ]
    }
   ],
   "source": [
    "new_benchmark.select(\"clinicalPhase\",\"clinicalStudyId\").distinct().groupBy(\"clinicalStudyId\").pivot(\"clinicalPhase\").count().agg(*agg_expressions).show()"
   ]
  },
  {
   "cell_type": "code",
   "execution_count": null,
   "metadata": {},
   "outputs": [
    {
     "name": "stderr",
     "output_type": "stream",
     "text": [
      "[Stage 7741:========================================>          (157 + 16) / 200]\r"
     ]
    },
    {
     "name": "stdout",
     "output_type": "stream",
     "text": [
      "+--------------+----+---+---+----+---+\n",
      "|rightStudyType| 0.5|1.0|2.0| 3.0|4.0|\n",
      "+--------------+----+---+---+----+---+\n",
      "|          sqtl|   2|169|198| 516|309|\n",
      "|          pqtl|null| 66| 89| 293| 94|\n",
      "|         tuqtl|   6|199|264| 561|341|\n",
      "|          eqtl|  13|592|528|1198|825|\n",
      "|       sctuqtl|   4|101|161| 332|222|\n",
      "|        sceqtl|   3|129|205| 442|336|\n",
      "|        scsqtl|null| 42| 54| 141| 72|\n",
      "+--------------+----+---+---+----+---+\n",
      "\n"
     ]
    },
    {
     "name": "stderr",
     "output_type": "stream",
     "text": [
      "                                                                                \r"
     ]
    }
   ],
   "source": [
    "new_benchmark.select(\"clinicalPhase\",\"clinicalStudyId\",\"rightStudyType\"\n",
    ").distinct().groupBy(\"rightStudyType\"\n",
    ").pivot(\"clinicalPhase\"\n",
    ").count().show()"
   ]
  },
  {
   "cell_type": "code",
   "execution_count": null,
   "metadata": {},
   "outputs": [
    {
     "name": "stderr",
     "output_type": "stream",
     "text": [
      "[Stage 8154:=====================================>             (149 + 17) / 200]\r"
     ]
    },
    {
     "name": "stdout",
     "output_type": "stream",
     "text": [
      "+--------------+----------------+----+---+---+---+---+\n",
      "|rightStudyType|agree_lowestPVal| 0.5|1.0|2.0|3.0|4.0|\n",
      "+--------------+----------------+----+---+---+---+---+\n",
      "|         tuqtl|             yes|   2|197|207|637|448|\n",
      "|         tuqtl|              no|   4| 27| 74| 88| 41|\n",
      "|          sqtl|              no|   2|114|163|442|353|\n",
      "|          sqtl|             yes|null| 79| 51|230|104|\n",
      "|       sctuqtl|              no|   2| 48| 53|147|121|\n",
      "|       sctuqtl|             yes|   2| 53|110|194|101|\n",
      "|        scsqtl|              no|null|  9|  4|  2|  8|\n",
      "|        scsqtl|             yes|null| 33| 50|141| 63|\n",
      "|        sceqtl|             yes|   2| 79|123|321|275|\n",
      "|        sceqtl|              no|   1| 51| 84|162| 84|\n",
      "|          pqtl|             yes|null| 39| 64|161| 48|\n",
      "|          pqtl|              no|null| 27| 27|133| 46|\n",
      "|          eqtl|             yes|   8|320|324|748|392|\n",
      "|          eqtl|              no|   5|350|256|853|683|\n",
      "+--------------+----------------+----+---+---+---+---+\n",
      "\n"
     ]
    },
    {
     "name": "stderr",
     "output_type": "stream",
     "text": [
      "                                                                                \r"
     ]
    }
   ],
   "source": [
    "new_benchmark.filter(F.col(\"clinicalStudyId\").isNotNull()).withColumn(\"agree_lowestPval\", F.first(\"AgreeDrug\").over(window_spec)\n",
    ").select(\n",
    "    \"targetId\",\n",
    "    \"diseaseId\",\n",
    "    \"clinicalPhase\",\n",
    "    \"clinicalStudyId\",\n",
    "    \"rightStudyType\",\n",
    "    \"agree_lowestPval\").distinct(\n",
    "\n",
    "    ).groupBy(\"rightStudyType\",\"agree_lowestPVal\"\n",
    "    ).pivot(\"clinicalPhase\"\n",
    "    ).count().sort(F.col(\"rightStudyType\").desc()).show()"
   ]
  },
  {
   "cell_type": "code",
   "execution_count": 15,
   "metadata": {},
   "outputs": [
    {
     "name": "stderr",
     "output_type": "stream",
     "text": [
      "[Stage 961:==============================================>     (178 + 11) / 200]\r"
     ]
    },
    {
     "name": "stdout",
     "output_type": "stream",
     "text": [
      "+--------------+----------------+----+---+\n",
      "|rightStudyType|agree_lowestPVal| yes| no|\n",
      "+--------------+----------------+----+---+\n",
      "|         tuqtl|             yes|1114| 99|\n",
      "|         tuqtl|              no| 456| 56|\n",
      "|          sqtl|              no| 718| 76|\n",
      "|          sqtl|             yes| 718| 26|\n",
      "|       sctuqtl|              no| 353| 19|\n",
      "|       sctuqtl|             yes| 420| 39|\n",
      "|        scsqtl|              no|  19|  4|\n",
      "|        scsqtl|             yes| 286|  1|\n",
      "|        sceqtl|             yes| 725| 75|\n",
      "|        sceqtl|              no| 355| 27|\n",
      "|          pqtl|             yes| 290| 22|\n",
      "|          pqtl|              no| 212| 21|\n",
      "|          eqtl|             yes|1609|126|\n",
      "|          eqtl|              no|2064|140|\n",
      "+--------------+----------------+----+---+\n",
      "\n"
     ]
    },
    {
     "name": "stderr",
     "output_type": "stream",
     "text": [
      "                                                                                \r"
     ]
    }
   ],
   "source": [
    "window_spec = Window.partitionBy(\"targetId\", \"diseaseId\",\"rightStudyType\").orderBy(F.col(\"pValueExponent\").asc())\n",
    "\n",
    "new_benchmark.filter(F.col(\"clinicalStudyId\").isNotNull()).withColumn(\"agree_lowestPval\", F.first(\"AgreeDrug\").over(window_spec)\n",
    ").select(\n",
    "    \"targetId\",\n",
    "    \"diseaseId\",\n",
    "    \"clinicalPhase\",\n",
    "    \"clinicalStudyId\",\n",
    "    #\"drugId\",\n",
    "    \"rightStudyType\",\n",
    "    \"agree_lowestPval\").distinct(\n",
    "    ).withColumn(\n",
    "        \"clinicalPhase\", ### no longer maxclinphase for T-D\n",
    "        F.max(\"clinicalPhase\").over(Window.partitionBy(\"targetId\",\"diseaseId\",\"rightStudyType\"))).withColumn(\n",
    "        \"Phase4\",\n",
    "        F.when(F.col(\"clinicalPhase\") == 4, F.lit(\"yes\")).otherwise(F.lit(\"no\"))\n",
    "        ).withColumn(\n",
    "        \"Phase>=3\",\n",
    "        F.when(F.col(\"clinicalPhase\") >= 3, F.lit(\"yes\")).otherwise(F.lit(\"no\")),\n",
    "        ).withColumn(\n",
    "        \"Phase>=2\",\n",
    "        F.when(F.col(\"clinicalPhase\") >= 2, F.lit(\"yes\")).otherwise(F.lit(\"no\")),\n",
    "        ).withColumn(\n",
    "        \"Phase>=1\",\n",
    "        F.when(F.col(\"clinicalPhase\") >= 1, F.lit(\"yes\")).otherwise(F.lit(\"no\")),\n",
    "        ).groupBy(\"rightStudyType\",\"agree_lowestPVal\"\n",
    "        ).pivot(\"Phase4\").count().sort(F.col(\"rightStudyType\").desc()\n",
    "        ).select(\"rightStudyType\",\"agree_lowestPVal\",\"yes\",\"no\").show()"
   ]
  },
  {
   "cell_type": "code",
   "execution_count": null,
   "metadata": {},
   "outputs": [],
   "source": [
    "window_spec = Window.partitionBy(\"targetId\", \"diseaseId\",\"rightStudyType\").orderBy(F.col(\"pValueExponent\").asc())\n",
    "\n",
    "new_benchmark.filter(F.col(\"clinicalStudyId\").isNotNull()).withColumn(\"agree_lowestPval\", F.first(\"AgreeDrug\").over(window_spec)\n",
    ").select(\n",
    "    \"targetId\",\n",
    "    \"diseaseId\",\n",
    "    \"clinicalPhase\",\n",
    "    \"clinicalStudyId\",\n",
    "    \"drugId\",\n",
    "    \"rightStudyType\",\n",
    "    \"agree_lowestPval\").distinct(\n",
    "    ).withColumn(\n",
    "        \"clinicalPhase\", ### no longer maxclinphase for T-D\n",
    "        F.max(\"clinicalPhase\").over(Window.partitionBy(\"targetId\",\"diseaseId\",\"rightStudyType\"))).withColumn(\n",
    "        \"Phase4\",\n",
    "        F.when(F.col(\"clinicalPhase\") == 4, F.lit(\"yes\")).otherwise(F.lit(\"no\"))\n",
    "        ).withColumn(\n",
    "        \"Phase>=3\",\n",
    "        F.when(F.col(\"clinicalPhase\") >= 3, F.lit(\"yes\")).otherwise(F.lit(\"no\")),\n",
    "        ).withColumn(\n",
    "        \"Phase>=2\",\n",
    "        F.when(F.col(\"clinicalPhase\") >= 2, F.lit(\"yes\")).otherwise(F.lit(\"no\")),\n",
    "        ).withColumn(\n",
    "        \"Phase>=1\",\n",
    "        F.when(F.col(\"clinicalPhase\") >= 1, F.lit(\"yes\")).otherwise(F.lit(\"no\")),\n",
    "        ).groupBy(\"rightStudyType\",\"agree_lowestPVal\"\n",
    "        ).pivot(\"Phase4\").count().sort(F.col(\"rightStudyType\").desc()\n",
    "        ).select(\"rightStudyType\",\"agree_lowestPVal\",\"yes\",\"no\").show()"
   ]
  },
  {
   "cell_type": "code",
   "execution_count": 51,
   "metadata": {},
   "outputs": [
    {
     "name": "stderr",
     "output_type": "stream",
     "text": [
      "[Stage 7878:======================================>            (150 + 16) / 200]\r"
     ]
    },
    {
     "name": "stdout",
     "output_type": "stream",
     "text": [
      "+--------------+----+---+---+----+----+\n",
      "|rightStudyType| 0.5|1.0|2.0| 3.0| 4.0|\n",
      "+--------------+----+---+---+----+----+\n",
      "|          sqtl|   2|193|214| 675| 478|\n",
      "|          pqtl|null| 66| 91| 296| 115|\n",
      "|         tuqtl|   6|224|282| 730| 517|\n",
      "|          eqtl|  13|670|582|1610|1126|\n",
      "|       sctuqtl|   4|101|163| 343| 235|\n",
      "|        sceqtl|   3|130|207| 486| 378|\n",
      "|        scsqtl|null| 42| 54| 143|  76|\n",
      "+--------------+----+---+---+----+----+\n",
      "\n"
     ]
    },
    {
     "name": "stderr",
     "output_type": "stream",
     "text": [
      "                                                                                \r"
     ]
    }
   ],
   "source": [
    "new_benchmark.select(\"targetId\",\"diseaseId\",\"clinicalPhase\",\"clinicalStudyId\",\"rightStudyType\"\n",
    ").distinct().groupBy(\"rightStudyType\"\n",
    ").pivot(\"clinicalPhase\"\n",
    ").count().show()"
   ]
  },
  {
   "cell_type": "code",
   "execution_count": 47,
   "metadata": {},
   "outputs": [
    {
     "name": "stderr",
     "output_type": "stream",
     "text": [
      "                                                                                \r"
     ]
    },
    {
     "data": {
      "text/plain": [
       "3395"
      ]
     },
     "execution_count": 47,
     "metadata": {},
     "output_type": "execute_result"
    }
   ],
   "source": [
    "new_benchmark.select(\"clinicalStudyId\").distinct().count()"
   ]
  },
  {
   "cell_type": "code",
   "execution_count": 24,
   "metadata": {},
   "outputs": [
    {
     "name": "stderr",
     "output_type": "stream",
     "text": [
      "[Stage 33110:==============================================>   (186 + 14) / 200]\r"
     ]
    },
    {
     "name": "stdout",
     "output_type": "stream",
     "text": [
      "+------------+----------+------+\n",
      "|approvedDrug|approved_l| count|\n",
      "+------------+----------+------+\n",
      "|        null|        no| 40787|\n",
      "|           1|       yes|156744|\n",
      "+------------+----------+------+\n",
      "\n"
     ]
    },
    {
     "name": "stderr",
     "output_type": "stream",
     "text": [
      "                                                                                \r"
     ]
    }
   ],
   "source": [
    "new_benchmark.withColumn(\"approved_l\", F.when(F.col(\"approvedDrug\")==1, F.lit(\"yes\")).otherwise(F.lit(\"no\"))).groupBy(\"approvedDrug\",\"approved_l\").count().show()"
   ]
  },
  {
   "cell_type": "code",
   "execution_count": 39,
   "metadata": {},
   "outputs": [
    {
     "name": "stderr",
     "output_type": "stream",
     "text": [
      "[Stage 43734:=============================================>    (181 + 16) / 200]\r"
     ]
    },
    {
     "name": "stdout",
     "output_type": "stream",
     "text": [
      "+---------------+-------------+--------+---------+----+\n",
      "|       targetId|    diseaseId|approved|approved2|size|\n",
      "+---------------+-------------+--------+---------+----+\n",
      "|ENSG00000105397|  EFO_0000540|       1|      yes|   1|\n",
      "|ENSG00000132170|  EFO_0000400|       1|      yes|   1|\n",
      "|ENSG00000105397|  EFO_0000676|       1|      yes|   1|\n",
      "|ENSG00000110944|  EFO_0000676|       1|      yes|   1|\n",
      "|ENSG00000110944|  EFO_1001494|       1|      yes|   1|\n",
      "|ENSG00000010310|  EFO_0000400|       1|      yes|   1|\n",
      "|ENSG00000112164|  EFO_0000400|       1|      yes|   1|\n",
      "|ENSG00000043591|  EFO_0000319|       1|      yes|   1|\n",
      "|ENSG00000112164|MONDO_0005148|       1|      yes|   1|\n",
      "|ENSG00000065989|  EFO_0000676|       1|      yes|   1|\n",
      "|ENSG00000113161|  EFO_0000400|       1|      yes|   1|\n",
      "|ENSG00000006071|MONDO_0005148|       1|      yes|   1|\n",
      "|ENSG00000113161|MONDO_0005148|       1|      yes|   1|\n",
      "|ENSG00000105397|  EFO_0003778|       1|      yes|   1|\n",
      "|ENSG00000113302|  EFO_0000540|       1|      yes|   1|\n",
      "|ENSG00000110680|MONDO_0005277|       1|      yes|   1|\n",
      "|ENSG00000113302|  EFO_0000676|       1|      yes|   1|\n",
      "|ENSG00000065989|  EFO_0000540|       1|      yes|   1|\n",
      "|ENSG00000006071|  EFO_0000400|       1|      yes|   1|\n",
      "|ENSG00000105397|  EFO_0000685|       1|      yes|   1|\n",
      "+---------------+-------------+--------+---------+----+\n",
      "only showing top 20 rows\n",
      "\n"
     ]
    },
    {
     "name": "stderr",
     "output_type": "stream",
     "text": [
      "                                                                                \r"
     ]
    }
   ],
   "source": [
    "new_benchmark.withColumn(\n",
    "\"approved\", ### no longer maxclinphase for T-D\n",
    "F.max(\"approvedDrug\").over(Window.partitionBy(\"targetId\",\"diseaseId\")\n",
    ")).withColumn(\"approved2\",F.when(F.col(\"approved\")==1, F.lit(\"yes\")).otherwise(F.lit(\"no\"))\n",
    ").groupBy(\"targetId\",\"diseaseId\",\"approved\",\"approved2\").agg(F.size(F.collect_set(\"approved\")).alias(\"size\")).sort(F.col(\"approved\").desc()).show()"
   ]
  },
  {
   "cell_type": "code",
   "execution_count": 31,
   "metadata": {},
   "outputs": [
    {
     "name": "stderr",
     "output_type": "stream",
     "text": [
      "[Stage 43584:=========================================>        (165 + 16) / 200]\r"
     ]
    },
    {
     "name": "stdout",
     "output_type": "stream",
     "text": [
      "+---------------+-------------+----+\n",
      "|       targetId|    diseaseId|size|\n",
      "+---------------+-------------+----+\n",
      "|ENSG00000105397|  EFO_0000540|   2|\n",
      "|ENSG00000157388|  EFO_0000319|   2|\n",
      "|ENSG00000105397|  EFO_0000676|   2|\n",
      "|ENSG00000113161|MONDO_0005148|   2|\n",
      "|ENSG00000145777|MONDO_0004979|   2|\n",
      "|ENSG00000113302|  EFO_0000540|   2|\n",
      "|ENSG00000065989|  EFO_0000676|   2|\n",
      "|ENSG00000113302|  EFO_0000676|   2|\n",
      "|ENSG00000006071|MONDO_0005148|   2|\n",
      "|ENSG00000113302|  EFO_1001494|   2|\n",
      "|ENSG00000105397|  EFO_0003778|   2|\n",
      "|ENSG00000115232|  EFO_0000384|   2|\n",
      "|ENSG00000110944|  EFO_1001494|   2|\n",
      "|ENSG00000126218|  EFO_0003827|   2|\n",
      "|ENSG00000112164|MONDO_0005148|   2|\n",
      "|ENSG00000126218|  EFO_0004286|   2|\n",
      "|ENSG00000043591|  EFO_0000319|   2|\n",
      "|ENSG00000110944|  EFO_0000676|   2|\n",
      "|ENSG00000112164|  EFO_0000400|   2|\n",
      "|ENSG00000113161|  EFO_0000400|   2|\n",
      "+---------------+-------------+----+\n",
      "only showing top 20 rows\n",
      "\n"
     ]
    },
    {
     "name": "stderr",
     "output_type": "stream",
     "text": [
      "                                                                                \r"
     ]
    }
   ],
   "source": [
    "new_benchmark.withColumn(\"approved_l\", F.when(F.col(\"approvedDrug\")==1, F.lit(\"yes\")).otherwise(F.lit(\"no\"))).groupBy(\"targetId\",\"diseaseId\").agg(F.size(F.collect_set(\"approved_l\")).alias(\"size\")).sort(F.col(\"size\").desc()).show()"
   ]
  },
  {
   "cell_type": "code",
   "execution_count": 43,
   "metadata": {},
   "outputs": [],
   "source": [
    "df.to_csv(\"gs://ot-team/jroldan/analysis/globalqtlResults.csv\")"
   ]
  },
  {
   "cell_type": "code",
   "execution_count": 47,
   "metadata": {},
   "outputs": [
    {
     "name": "stdout",
     "output_type": "stream",
     "text": [
      "making group phases: ['targetId', 'diseaseId']\n",
      "making group rows: ['targetId', 'diseaseId', 'clinicalPhase']\n",
      "pqtl pqtl\n"
     ]
    },
    {
     "name": "stderr",
     "output_type": "stream",
     "text": [
      "                                                                                \r"
     ]
    },
    {
     "name": "stdout",
     "output_type": "stream",
     "text": [
      "groupby for Phase4\n"
     ]
    },
    {
     "name": "stderr",
     "output_type": "stream",
     "text": [
      "                                                                                \r"
     ]
    },
    {
     "name": "stdout",
     "output_type": "stream",
     "text": [
      "2.57 0.04795664956148016 0.99 7.05\n",
      "\n",
      "\n",
      "making group rows: ['targetId', 'diseaseId', 'clinicalPhase', 'clinicalStudyId']\n",
      "pqtl pqtl\n"
     ]
    },
    {
     "name": "stderr",
     "output_type": "stream",
     "text": [
      "                                                                                \r"
     ]
    },
    {
     "name": "stdout",
     "output_type": "stream",
     "text": [
      "groupby for Phase4\n"
     ]
    },
    {
     "name": "stderr",
     "output_type": "stream",
     "text": [
      "                                                                                \r"
     ]
    },
    {
     "name": "stdout",
     "output_type": "stream",
     "text": [
      "1.1 0.7410886427563347 0.7 1.81\n",
      "\n",
      "\n",
      "making group rows: ['targetId', 'diseaseId', 'clinicalPhase', 'clinicalStudyId', 'drugId']\n",
      "pqtl pqtl\n"
     ]
    },
    {
     "name": "stderr",
     "output_type": "stream",
     "text": [
      "                                                                                \r"
     ]
    },
    {
     "name": "stdout",
     "output_type": "stream",
     "text": [
      "groupby for Phase4\n"
     ]
    },
    {
     "name": "stderr",
     "output_type": "stream",
     "text": [
      "                                                                                \r"
     ]
    },
    {
     "name": "stdout",
     "output_type": "stream",
     "text": [
      "0.97 0.9099031384690608 0.63 1.58\n",
      "\n",
      "\n",
      "making group rows: ['targetId', 'diseaseId', 'clinicalPhase', 'drugId']\n",
      "pqtl pqtl\n"
     ]
    },
    {
     "name": "stderr",
     "output_type": "stream",
     "text": [
      "25/01/17 12:59:43 WARN CacheManager: Asked to cache already cached data.        \n"
     ]
    },
    {
     "name": "stdout",
     "output_type": "stream",
     "text": [
      "groupby for Phase4\n",
      "2.33 0.008770489571684605 1.21 4.78\n",
      "\n",
      "\n",
      "making group rows: ['targetId', 'diseaseId', 'clinicalPhase', 'approved_l']\n",
      "pqtl pqtl\n"
     ]
    },
    {
     "name": "stderr",
     "output_type": "stream",
     "text": [
      "                                                                                \r"
     ]
    },
    {
     "ename": "AnalysisException",
     "evalue": "Column 'approved' does not exist. Did you mean one of the following? [approved_l, Phase4, diseaseId, pqtl, targetId, Phase>=1, Phase>=2, Phase>=3, eqtl, sceqtl, scsqtl, sctuqtl, sqtl, tuqtl, clinicalPhase];\n'Project [targetId#4743, diseaseId#4892, clinicalPhase#1520297, approved_l#1520196, eqtl#1521713, pqtl#1521715, sceqtl#1521717, scsqtl#1521719, sctuqtl#1521721, sqtl#1521723, tuqtl#1521725, Phase4#1521737, Phase>=3#1521750, Phase>=2#1521764, Phase>=1#1521779, CASE WHEN ('approved = 1) THEN yes ELSE no END AS approved#1521795]\n+- Project [targetId#4743, diseaseId#4892, clinicalPhase#1520297, approved_l#1520196, eqtl#1521713, pqtl#1521715, sceqtl#1521717, scsqtl#1521719, sctuqtl#1521721, sqtl#1521723, tuqtl#1521725, Phase4#1521737, Phase>=3#1521750, Phase>=2#1521764, CASE WHEN (clinicalPhase#1520297 >= cast(1 as double)) THEN yes ELSE no END AS Phase>=1#1521779]\n   +- Project [targetId#4743, diseaseId#4892, clinicalPhase#1520297, approved_l#1520196, eqtl#1521713, pqtl#1521715, sceqtl#1521717, scsqtl#1521719, sctuqtl#1521721, sqtl#1521723, tuqtl#1521725, Phase4#1521737, Phase>=3#1521750, CASE WHEN (clinicalPhase#1520297 >= cast(2 as double)) THEN yes ELSE no END AS Phase>=2#1521764]\n      +- Project [targetId#4743, diseaseId#4892, clinicalPhase#1520297, approved_l#1520196, eqtl#1521713, pqtl#1521715, sceqtl#1521717, scsqtl#1521719, sctuqtl#1521721, sqtl#1521723, tuqtl#1521725, Phase4#1521737, CASE WHEN (clinicalPhase#1520297 >= cast(3 as double)) THEN yes ELSE no END AS Phase>=3#1521750]\n         +- Project [targetId#4743, diseaseId#4892, clinicalPhase#1520297, approved_l#1520196, eqtl#1521713, pqtl#1521715, sceqtl#1521717, scsqtl#1521719, sctuqtl#1521721, sqtl#1521723, tuqtl#1521725, CASE WHEN (clinicalPhase#1520297 = cast(4 as double)) THEN yes ELSE no END AS Phase4#1521737]\n            +- Aggregate [targetId#4743, diseaseId#4892, clinicalPhase#1520297, approved_l#1520196], [targetId#4743, diseaseId#4892, clinicalPhase#1520297, approved_l#1520196, collect_set(if ((rightStudyType#1046 <=> cast(eqtl as string))) agree_lowestPVal#1520246 else cast(null as string), 0, 0) AS eqtl#1521713, collect_set(if ((rightStudyType#1046 <=> cast(pqtl as string))) agree_lowestPVal#1520246 else cast(null as string), 0, 0) AS pqtl#1521715, collect_set(if ((rightStudyType#1046 <=> cast(sceqtl as string))) agree_lowestPVal#1520246 else cast(null as string), 0, 0) AS sceqtl#1521717, collect_set(if ((rightStudyType#1046 <=> cast(scsqtl as string))) agree_lowestPVal#1520246 else cast(null as string), 0, 0) AS scsqtl#1521719, collect_set(if ((rightStudyType#1046 <=> cast(sctuqtl as string))) agree_lowestPVal#1520246 else cast(null as string), 0, 0) AS sctuqtl#1521721, collect_set(if ((rightStudyType#1046 <=> cast(sqtl as string))) agree_lowestPVal#1520246 else cast(null as string), 0, 0) AS sqtl#1521723, collect_set(if ((rightStudyType#1046 <=> cast(tuqtl as string))) agree_lowestPVal#1520246 else cast(null as string), 0, 0) AS tuqtl#1521725]\n               +- Project [biosampleId#1012, targetId#4743, diseaseId#4892, leftStudyLocusId#1043, rightStudyId#3055, rightStudyLocusId#1044, chromosome#1045, rightStudyType#1046, numberColocalisingVariants#1047L, h0#1048, h1#1049, h2#1050, h3#1051, h4#1052, colocalisationMethod#1053, betaRatioSignAverage#1054, leftStudyId#3030, leftVariantId#3031, credibleLeftStudyType#3032, rightVariantId#3056, credibleRightStudyType#3057, projectId#985, indexStudyType#3108, condition#1008, ... 26 more fields]\n                  +- Project [biosampleId#1012, targetId#4743, diseaseId#4892, leftStudyLocusId#1043, rightStudyId#3055, rightStudyLocusId#1044, chromosome#1045, rightStudyType#1046, numberColocalisingVariants#1047L, h0#1048, h1#1049, h2#1050, h3#1051, h4#1052, colocalisationMethod#1053, betaRatioSignAverage#1054, leftStudyId#3030, leftVariantId#3031, credibleLeftStudyType#3032, rightVariantId#3056, credibleRightStudyType#3057, projectId#985, indexStudyType#3108, condition#1008, ... 27 more fields]\n                     +- Window [max(approvedDrug#18011) windowspecdefinition(targetId#4743, diseaseId#4892, specifiedwindowframe(RowFrame, unboundedpreceding$(), unboundedfollowing$())) AS approved#1520348], [targetId#4743, diseaseId#4892]\n                        +- Project [biosampleId#1012, targetId#4743, diseaseId#4892, leftStudyLocusId#1043, rightStudyId#3055, rightStudyLocusId#1044, chromosome#1045, rightStudyType#1046, numberColocalisingVariants#1047L, h0#1048, h1#1049, h2#1050, h3#1051, h4#1052, colocalisationMethod#1053, betaRatioSignAverage#1054, leftStudyId#3030, leftVariantId#3031, credibleLeftStudyType#3032, rightVariantId#3056, credibleRightStudyType#3057, projectId#985, indexStudyType#3108, condition#1008, ... 25 more fields]\n                           +- Project [biosampleId#1012, targetId#4743, diseaseId#4892, leftStudyLocusId#1043, rightStudyId#3055, rightStudyLocusId#1044, chromosome#1045, rightStudyType#1046, numberColocalisingVariants#1047L, h0#1048, h1#1049, h2#1050, h3#1051, h4#1052, colocalisationMethod#1053, betaRatioSignAverage#1054, leftStudyId#3030, leftVariantId#3031, credibleLeftStudyType#3032, rightVariantId#3056, credibleRightStudyType#3057, projectId#985, indexStudyType#3108, condition#1008, ... 25 more fields]\n                              +- Project [biosampleId#1012, targetId#4743, diseaseId#4892, leftStudyLocusId#1043, rightStudyId#3055, rightStudyLocusId#1044, chromosome#1045, rightStudyType#1046, numberColocalisingVariants#1047L, h0#1048, h1#1049, h2#1050, h3#1051, h4#1052, colocalisationMethod#1053, betaRatioSignAverage#1054, leftStudyId#3030, leftVariantId#3031, credibleLeftStudyType#3032, rightVariantId#3056, credibleRightStudyType#3057, projectId#985, indexStudyType#3108, condition#1008, ... 27 more fields]\n                                 +- Window [max(clinicalPhase#5985) windowspecdefinition(targetId#4743, diseaseId#4892, specifiedwindowframe(RowFrame, unboundedpreceding$(), unboundedfollowing$())) AS clinicalPhase#1520297], [targetId#4743, diseaseId#4892]\n                                    +- Project [biosampleId#1012, targetId#4743, diseaseId#4892, leftStudyLocusId#1043, rightStudyId#3055, rightStudyLocusId#1044, chromosome#1045, rightStudyType#1046, numberColocalisingVariants#1047L, h0#1048, h1#1049, h2#1050, h3#1051, h4#1052, colocalisationMethod#1053, betaRatioSignAverage#1054, leftStudyId#3030, leftVariantId#3031, credibleLeftStudyType#3032, rightVariantId#3056, credibleRightStudyType#3057, projectId#985, indexStudyType#3108, condition#1008, ... 25 more fields]\n                                       +- Project [biosampleId#1012, targetId#4743, diseaseId#4892, leftStudyLocusId#1043, rightStudyId#3055, rightStudyLocusId#1044, chromosome#1045, rightStudyType#1046, numberColocalisingVariants#1047L, h0#1048, h1#1049, h2#1050, h3#1051, h4#1052, colocalisationMethod#1053, betaRatioSignAverage#1054, leftStudyId#3030, leftVariantId#3031, credibleLeftStudyType#3032, rightVariantId#3056, credibleRightStudyType#3057, projectId#985, indexStudyType#3108, condition#1008, ... 25 more fields]\n                                          +- Project [biosampleId#1012, targetId#4743, diseaseId#4892, leftStudyLocusId#1043, rightStudyId#3055, rightStudyLocusId#1044, chromosome#1045, rightStudyType#1046, numberColocalisingVariants#1047L, h0#1048, h1#1049, h2#1050, h3#1051, h4#1052, colocalisationMethod#1053, betaRatioSignAverage#1054, leftStudyId#3030, leftVariantId#3031, credibleLeftStudyType#3032, rightVariantId#3056, credibleRightStudyType#3057, projectId#985, indexStudyType#3108, condition#1008, ... 26 more fields]\n                                             +- Window [first(AgreeDrug#23696, false) windowspecdefinition(targetId#4743, diseaseId#4892, rightStudyType#1046, pValueExponent#4792 ASC NULLS FIRST, specifiedwindowframe(RangeFrame, unboundedpreceding$(), currentrow$())) AS agree_lowestPval#1520246], [targetId#4743, diseaseId#4892, rightStudyType#1046], [pValueExponent#4792 ASC NULLS FIRST]\n                                                +- Project [biosampleId#1012, targetId#4743, diseaseId#4892, leftStudyLocusId#1043, rightStudyId#3055, rightStudyLocusId#1044, chromosome#1045, rightStudyType#1046, numberColocalisingVariants#1047L, h0#1048, h1#1049, h2#1050, h3#1051, h4#1052, colocalisationMethod#1053, betaRatioSignAverage#1054, leftStudyId#3030, leftVariantId#3031, credibleLeftStudyType#3032, rightVariantId#3056, credibleRightStudyType#3057, projectId#985, indexStudyType#3108, condition#1008, ... 24 more fields]\n                                                   +- Filter isnotnull(clinicalStudyId#23611)\n                                                      +- Project [biosampleId#1012, targetId#4743, diseaseId#4892, leftStudyLocusId#1043, rightStudyId#3055, rightStudyLocusId#1044, chromosome#1045, rightStudyType#1046, numberColocalisingVariants#1047L, h0#1048, h1#1049, h2#1050, h3#1051, h4#1052, colocalisationMethod#1053, betaRatioSignAverage#1054, leftStudyId#3030, leftVariantId#3031, credibleLeftStudyType#3032, rightVariantId#3056, credibleRightStudyType#3057, projectId#985, indexStudyType#3108, condition#1008, ... 24 more fields]\n                                                         +- Project [biosampleId#1012, targetId#4743, diseaseId#4892, leftStudyLocusId#1043, rightStudyId#3055, rightStudyLocusId#1044, chromosome#1045, rightStudyType#1046, numberColocalisingVariants#1047L, h0#1048, h1#1049, h2#1050, h3#1051, h4#1052, colocalisationMethod#1053, betaRatioSignAverage#1054, leftStudyId#3030, leftVariantId#3031, credibleLeftStudyType#3032, rightVariantId#3056, credibleRightStudyType#3057, projectId#985, indexStudyType#3108, condition#1008, ... 23 more fields]\n                                                            +- Join LeftOuter, (biosampleId#1012 = biosampleId#1093)\n                                                               :- Filter NOT (name#691 = COVID-19)\n                                                               :  +- Project [targetId#4743, diseaseId#4892, leftStudyLocusId#1043, rightStudyId#3055, rightStudyLocusId#1044, chromosome#1045, rightStudyType#1046, numberColocalisingVariants#1047L, h0#1048, h1#1049, h2#1050, h3#1051, h4#1052, colocalisationMethod#1053, betaRatioSignAverage#1054, leftStudyId#3030, leftVariantId#3031, credibleLeftStudyType#3032, rightVariantId#3056, credibleRightStudyType#3057, projectId#985, indexStudyType#3108, condition#1008, biosampleId#1012, ... 22 more fields]\n                                                               :     +- Project [targetId#4743, diseaseId#4892, leftStudyLocusId#1043, rightStudyId#3055, rightStudyLocusId#1044, chromosome#1045, rightStudyType#1046, numberColocalisingVariants#1047L, h0#1048, h1#1049, h2#1050, h3#1051, h4#1052, colocalisationMethod#1053, betaRatioSignAverage#1054, leftStudyId#3030, leftVariantId#3031, credibleLeftStudyType#3032, rightVariantId#3056, credibleRightStudyType#3057, projectId#985, indexStudyType#3108, condition#1008, biosampleId#1012, ... 21 more fields]\n                                                               :        +- Join Inner, ((targetId#4743 = targetId#5966) AND (diseaseId#4892 = diseaseId#6066))\n                                                               :           :- Filter (betaGwas#4427 < cast(0 as double))\n                                                               :           :  +- Project [diseaseId#4892, leftStudyLocusId#1043, targetId#4743, rightStudyId#3055, rightStudyLocusId#1044, chromosome#1045, rightStudyType#1046, numberColocalisingVariants#1047L, h0#1048, h1#1049, h2#1050, h3#1051, h4#1052, colocalisationMethod#1053, betaRatioSignAverage#1054, leftStudyId#3030, leftVariantId#3031, credibleLeftStudyType#3032, rightVariantId#3056, credibleRightStudyType#3057, projectId#985, indexStudyType#3108, condition#1008, biosampleId#1012, ... 15 more fields]\n                                                               :           :     +- Project [diseaseId#4892, leftStudyLocusId#1043, targetId#4743, rightStudyId#3055, rightStudyLocusId#1044, chromosome#1045, rightStudyType#1046, numberColocalisingVariants#1047L, h0#1048, h1#1049, h2#1050, h3#1051, h4#1052, colocalisationMethod#1053, betaRatioSignAverage#1054, leftStudyId#3030, leftVariantId#3031, credibleLeftStudyType#3032, rightVariantId#3056, credibleRightStudyType#3057, projectId#985, indexStudyType#3108, condition#1008, biosampleId#1012, ... 14 more fields]\n                                                               :           :        +- Project [diseaseId#4892, leftStudyLocusId#1043, targetId#4743, rightStudyId#3055, rightStudyLocusId#1044, chromosome#1045, rightStudyType#1046, numberColocalisingVariants#1047L, h0#1048, h1#1049, h2#1050, h3#1051, h4#1052, colocalisationMethod#1053, betaRatioSignAverage#1054, leftStudyId#3030, leftVariantId#3031, credibleLeftStudyType#3032, rightVariantId#3056, credibleRightStudyType#3057, projectId#985, indexStudyType#3108, condition#1008, biosampleId#1012, ... 15 more fields]\n                                                               :           :           +- Generate explode(concat(array(diseaseId#818), parents#694)), true, [diseaseId#4892]\n                                                               :           :              +- Project [diseaseId#818, leftStudyLocusId#1043, targetId#4743, rightStudyId#3055, rightStudyLocusId#1044, chromosome#1045, rightStudyType#1046, numberColocalisingVariants#1047L, h0#1048, h1#1049, h2#1050, h3#1051, h4#1052, colocalisationMethod#1053, betaRatioSignAverage#1054, leftStudyId#3030, leftVariantId#3031, credibleLeftStudyType#3032, rightVariantId#3056, credibleRightStudyType#3057, projectId#985, indexStudyType#3108, condition#1008, biosampleId#1012, ... 15 more fields]\n                                                               :           :                 +- Join LeftOuter, (diseaseId#818 = diseaseId#4846)\n                                                               :           :                    :- Project [leftStudyLocusId#1043, targetId#4743, rightStudyId#3055, rightStudyLocusId#1044, chromosome#1045, rightStudyType#1046, numberColocalisingVariants#1047L, h0#1048, h1#1049, h2#1050, h3#1051, h4#1052, colocalisationMethod#1053, betaRatioSignAverage#1054, leftStudyId#3030, leftVariantId#3031, credibleLeftStudyType#3032, rightVariantId#3056, credibleRightStudyType#3057, projectId#985, indexStudyType#3108, condition#1008, biosampleId#1012, datasourceId#717, ... 12 more fields]\n                                                               :           :                    :  +- Join Inner, ((leftStudyLocusId#1043 = leftStudyLocusId#4767) AND (targetId#4743 = targetId#718))\n                                                               :           :                    :     :- Project [rightStudyId#3055, rightStudyLocusId#1044, leftStudyLocusId#1043, chromosome#1045, rightStudyType#1046, numberColocalisingVariants#1047L, h0#1048, h1#1049, h2#1050, h3#1051, h4#1052, colocalisationMethod#1053, betaRatioSignAverage#1054, leftStudyId#3030, leftVariantId#3031, credibleLeftStudyType#3032, rightVariantId#3056, credibleRightStudyType#3057, geneId#984 AS targetId#4743, projectId#985, indexStudyType#3108, condition#1008, biosampleId#1012]\n                                                               :           :                    :     :  +- Project [rightStudyId#3055, rightStudyLocusId#1044, leftStudyLocusId#1043, chromosome#1045, rightStudyType#1046, numberColocalisingVariants#1047L, h0#1048, h1#1049, h2#1050, h3#1051, h4#1052, colocalisationMethod#1053, betaRatioSignAverage#1054, leftStudyId#3030, leftVariantId#3031, credibleLeftStudyType#3032, rightVariantId#3056, credibleRightStudyType#3057, geneId#984, projectId#985, indexStudyType#3108, condition#1008, biosampleId#1012]\n                                                               :           :                    :     :     +- Join LeftOuter, (rightStudyId#3055 = rightStudyId#3107)\n                                                               :           :                    :     :        :- Project [rightStudyLocusId#1044, leftStudyLocusId#1043, chromosome#1045, rightStudyType#1046, numberColocalisingVariants#1047L, h0#1048, h1#1049, h2#1050, h3#1051, h4#1052, colocalisationMethod#1053, betaRatioSignAverage#1054, leftStudyId#3030, leftVariantId#3031, credibleLeftStudyType#3032, rightStudyId#3055, rightVariantId#3056, credibleRightStudyType#3057]\n                                                               :           :                    :     :        :  +- Join LeftOuter, (rightStudyLocusId#1044 = rightStudyLocusId#3054)\n                                                               :           :                    :     :        :     :- Project [leftStudyLocusId#1043, rightStudyLocusId#1044, chromosome#1045, rightStudyType#1046, numberColocalisingVariants#1047L, h0#1048, h1#1049, h2#1050, h3#1051, h4#1052, colocalisationMethod#1053, betaRatioSignAverage#1054, leftStudyId#3030, leftVariantId#3031, credibleLeftStudyType#3032]\n                                                               :           :                    :     :        :     :  +- Join LeftOuter, (leftStudyLocusId#1043 = leftStudyLocusId#3029)\n                                                               :           :                    :     :        :     :     :- Relation [leftStudyLocusId#1043,rightStudyLocusId#1044,chromosome#1045,rightStudyType#1046,numberColocalisingVariants#1047L,h0#1048,h1#1049,h2#1050,h3#1051,h4#1052,colocalisationMethod#1053,betaRatioSignAverage#1054] parquet\n                                                               :           :                    :     :        :     :     +- Project [studyLocusId#931 AS leftStudyLocusId#3029, StudyId#932 AS leftStudyId#3030, variantId#933 AS leftVariantId#3031, studyType#956 AS credibleLeftStudyType#3032]\n                                                               :           :                    :     :        :     :        +- Relation [studyLocusId#931,studyId#932,variantId#933,chromosome#934,position#935,region#936,beta#937,zScore#938,pValueMantissa#939,pValueExponent#940,effectAlleleFrequencyFromSource#941,standardError#942,subStudyDescription#943,qualityControls#944,finemappingMethod#945,credibleSetIndex#946,credibleSetlog10BF#947,purityMeanR2#948,purityMinR2#949,locusStart#950,locusEnd#951,sampleSize#952,ldSet#953,locus#954,... 2 more fields] parquet\n                                                               :           :                    :     :        :     +- Project [studyLocusId#3062 AS rightStudyLocusId#3054, studyId#3063 AS rightStudyId#3055, variantId#3064 AS rightVariantId#3056, studyType#3087 AS credibleRightStudyType#3057]\n                                                               :           :                    :     :        :        +- Relation [studyLocusId#3062,studyId#3063,variantId#3064,chromosome#3065,position#3066,region#3067,beta#3068,zScore#3069,pValueMantissa#3070,pValueExponent#3071,effectAlleleFrequencyFromSource#3072,standardError#3073,subStudyDescription#3074,qualityControls#3075,finemappingMethod#3076,credibleSetIndex#3077,credibleSetlog10BF#3078,purityMeanR2#3079,purityMinR2#3080,locusStart#3081,locusEnd#3082,sampleSize#3083,ldSet#3084,locus#3085,... 2 more fields] parquet\n                                                               :           :                    :     :        +- Project [studyId#983 AS rightStudyId#3107, geneId#984, projectId#985, studyType#2967 AS indexStudyType#3108, condition#1008, biosampleId#1012]\n                                                               :           :                    :     :           +- Project [studyId#983, geneId#984, projectId#985, studyType#2967, traitFromSource#987, traitFromSourceMappedIds#988, biosampleFromSourceId#989, pubmedId#990, publicationTitle#991, publicationFirstAuthor#992, publicationDate#993, publicationJournal#994, backgroundTraitFromSourceMappedIds#995, initialSampleSize#996, nCases#997, nControls#998, nSamples#999, cohorts#1000, ldPopulationStructure#1001, discoverySamples#1002, replicationSamples#1003, qualityControls#1004, analysisFlags#1005, summarystatsLocation#1006, ... 6 more fields]\n                                                               :           :                    :     :              +- Project [studyId#983, geneId#984, projectId#985, CASE WHEN isnotnull(newStudyType#1427) THEN newStudyType#1427 ELSE studyType#986 END AS studyType#2967, traitFromSource#987, traitFromSourceMappedIds#988, biosampleFromSourceId#989, pubmedId#990, publicationTitle#991, publicationFirstAuthor#992, publicationDate#993, publicationJournal#994, backgroundTraitFromSourceMappedIds#995, initialSampleSize#996, nCases#997, nControls#998, nSamples#999, cohorts#1000, ldPopulationStructure#1001, discoverySamples#1002, replicationSamples#1003, qualityControls#1004, analysisFlags#1005, summarystatsLocation#1006, ... 7 more fields]\n                                                               :           :                    :     :                 +- Project [studyId#983, geneId#984, projectId#985, studyType#986, traitFromSource#987, traitFromSourceMappedIds#988, biosampleFromSourceId#989, pubmedId#990, publicationTitle#991, publicationFirstAuthor#992, publicationDate#993, publicationJournal#994, backgroundTraitFromSourceMappedIds#995, initialSampleSize#996, nCases#997, nControls#998, nSamples#999, cohorts#1000, ldPopulationStructure#1001, discoverySamples#1002, replicationSamples#1003, qualityControls#1004, analysisFlags#1005, summarystatsLocation#1006, ... 7 more fields]\n                                                               :           :                    :     :                    +- Join LeftOuter, (studyId#983 = studyId#2130)\n                                                               :           :                    :     :                       :- Relation [studyId#983,geneId#984,projectId#985,studyType#986,traitFromSource#987,traitFromSourceMappedIds#988,biosampleFromSourceId#989,pubmedId#990,publicationTitle#991,publicationFirstAuthor#992,publicationDate#993,publicationJournal#994,backgroundTraitFromSourceMappedIds#995,initialSampleSize#996,nCases#997,nControls#998,nSamples#999,cohorts#1000,ldPopulationStructure#1001,discoverySamples#1002,replicationSamples#1003,qualityControls#1004,analysisFlags#1005,summarystatsLocation#1006,... 6 more fields] parquet\n                                                               :           :                    :     :                       +- Project [studyId#2130, newStudyType#1427]\n                                                               :           :                    :     :                          +- Project [studyId#2130, geneId#2131, projectId#2132, studyType#2133, traitFromSource#2134, traitFromSourceMappedIds#2135, biosampleFromSourceId#2136, pubmedId#2137, publicationTitle#2138, publicationFirstAuthor#2139, publicationDate#2140, publicationJournal#2141, backgroundTraitFromSourceMappedIds#2142, initialSampleSize#2143, nCases#2144, nControls#2145, nSamples#2146, cohorts#2147, ldPopulationStructure#2148, discoverySamples#2149, replicationSamples#2150, qualityControls#2151, analysisFlags#2152, summarystatsLocation#2153, ... 7 more fields]\n                                                               :           :                    :     :                             +- Project [extracted_column#1169, study_type#1121, studyId#2130, geneId#2131, projectId#2132, studyType#2133, traitFromSource#2134, traitFromSourceMappedIds#2135, biosampleFromSourceId#2136, pubmedId#2137, publicationTitle#2138, publicationFirstAuthor#2139, publicationDate#2140, publicationJournal#2141, backgroundTraitFromSourceMappedIds#2142, initialSampleSize#2143, nCases#2144, nControls#2145, nSamples#2146, cohorts#2147, ldPopulationStructure#2148, discoverySamples#2149, replicationSamples#2150, qualityControls#2151, ... 10 more fields]\n                                                               :           :                    :     :                                +- Project [extracted_column#1169, study_type#1121, studyId#2130, geneId#2131, projectId#2132, studyType#2133, traitFromSource#2134, traitFromSourceMappedIds#2135, biosampleFromSourceId#2136, pubmedId#2137, publicationTitle#2138, publicationFirstAuthor#2139, publicationDate#2140, publicationJournal#2141, backgroundTraitFromSourceMappedIds#2142, initialSampleSize#2143, nCases#2144, nControls#2145, nSamples#2146, cohorts#2147, ldPopulationStructure#2148, discoverySamples#2149, replicationSamples#2150, qualityControls#2151, ... 9 more fields]\n                                                               :           :                    :     :                                   +- Project [extracted_column#1169, study_type#1121, studyId#2130, geneId#2131, projectId#2132, studyType#2133, traitFromSource#2134, traitFromSourceMappedIds#2135, biosampleFromSourceId#2136, pubmedId#2137, publicationTitle#2138, publicationFirstAuthor#2139, publicationDate#2140, publicationJournal#2141, backgroundTraitFromSourceMappedIds#2142, initialSampleSize#2143, nCases#2144, nControls#2145, nSamples#2146, cohorts#2147, ldPopulationStructure#2148, discoverySamples#2149, replicationSamples#2150, qualityControls#2151, ... 8 more fields]\n                                                               :           :                    :     :                                      +- Join RightOuter, (extracted_column#1133 = extracted_column#1169)\n                                                               :           :                    :     :                                         :- Project [concat_ws(_, study_label#1113, quant_method#1119, sample_group#1114) AS extracted_column#1133, study_type#1121]\n                                                               :           :                    :     :                                         :  +- LogicalRDD [study_id#1111, dataset_id#1112, study_label#1113, sample_group#1114, tissue_id#1115, tissue_label#1116, condition_label#1117, sample_size#1118, quant_method#1119, pmid#1120, study_type#1121], false\n                                                               :           :                    :     :                                         +- Project [studyId#2130, geneId#2131, projectId#2132, studyType#2133, traitFromSource#2134, traitFromSourceMappedIds#2135, biosampleFromSourceId#2136, pubmedId#2137, publicationTitle#2138, publicationFirstAuthor#2139, publicationDate#2140, publicationJournal#2141, backgroundTraitFromSourceMappedIds#2142, initialSampleSize#2143, nCases#2144, nControls#2145, nSamples#2146, cohorts#2147, ldPopulationStructure#2148, discoverySamples#2149, replicationSamples#2150, qualityControls#2151, analysisFlags#2152, summarystatsLocation#2153, ... 7 more fields]\n                                                               :           :                    :     :                                            +- Project [studyId#2130, geneId#2131, projectId#2132, studyType#2133, traitFromSource#2134, traitFromSourceMappedIds#2135, biosampleFromSourceId#2136, pubmedId#2137, publicationTitle#2138, publicationFirstAuthor#2139, publicationDate#2140, publicationJournal#2141, backgroundTraitFromSourceMappedIds#2142, initialSampleSize#2143, nCases#2144, nControls#2145, nSamples#2146, cohorts#2147, ldPopulationStructure#2148, discoverySamples#2149, replicationSamples#2150, qualityControls#2151, analysisFlags#2152, summarystatsLocation#2153, ... 7 more fields]\n                                                               :           :                    :     :                                               +- Filter NOT StartsWith(studyId#2130, UKB_PPP)\n                                                               :           :                    :     :                                                  +- Filter NOT (studyType#2133 = gwas)\n                                                               :           :                    :     :                                                     +- Relation [studyId#2130,geneId#2131,projectId#2132,studyType#2133,traitFromSource#2134,traitFromSourceMappedIds#2135,biosampleFromSourceId#2136,pubmedId#2137,publicationTitle#2138,publicationFirstAuthor#2139,publicationDate#2140,publicationJournal#2141,backgroundTraitFromSourceMappedIds#2142,initialSampleSize#2143,nCases#2144,nControls#2145,nSamples#2146,cohorts#2147,ldPopulationStructure#2148,discoverySamples#2149,replicationSamples#2150,qualityControls#2151,analysisFlags#2152,summarystatsLocation#2153,... 6 more fields] parquet\n                                                               :           :                    :     +- Project [studyLocusId#796 AS leftStudyLocusId#4767, datasourceId#717, targetId#718, datatypeId#747, diseaseFromSourceMappedId#751, resourceScore#787, targetFromSourceId#803, diseaseId#818, id#819, score#820, sourceId#823, studyId#4784, variantId#4785, betaGwas#4427, pValueExponent#4792]\n                                                               :           :                    :        +- Project [studyLocusId#796, datasourceId#717, targetId#718, datatypeId#747, diseaseFromSourceMappedId#751, resourceScore#787, targetFromSourceId#803, diseaseId#818, id#819, score#820, sourceId#823, studyId#4784, variantId#4785, betaGwas#4427, pValueExponent#4792]\n                                                               :           :                    :           +- Join LeftOuter, (studyLocusId#796 = studyLocusId#4783)\n                                                               :           :                    :              :- Project [datasourceId#717, targetId#718, datatypeId#747, diseaseFromSourceMappedId#751, resourceScore#787, studyLocusId#796, targetFromSourceId#803, diseaseId#818, id#819, score#820, sourceId#823]\n                                                               :           :                    :              :  +- Filter (datasourceId#717 = gwas_credible_sets)\n                                                               :           :                    :              :     +- Relation [datasourceId#717,targetId#718,alleleOrigins#719,allelicRequirements#720,ancestry#721,ancestryId#722,assays#723,assessments#724,beta#725,betaConfidenceIntervalLower#726,betaConfidenceIntervalUpper#727,biologicalModelAllelicComposition#728,biologicalModelGeneticBackground#729,biologicalModelId#730,biomarkerList#731,biomarkerName#732,biomarkers#733,biosamplesFromSource#734,cellLineBackground#735,cellType#736,clinicalPhase#737,clinicalSignificances#738,clinicalStatus#739,cohortDescription#740,... 83 more fields] parquet\n                                                               :           :                    :              +- Project [studyLocusId#4783, studyId#4784, variantId#4785, beta#4789 AS betaGwas#4427, pValueExponent#4792]\n                                                               :           :                    :                 +- Relation [studyLocusId#4783,studyId#4784,variantId#4785,chromosome#4786,position#4787,region#4788,beta#4789,zScore#4790,pValueMantissa#4791,pValueExponent#4792,effectAlleleFrequencyFromSource#4793,standardError#4794,subStudyDescription#4795,qualityControls#4796,finemappingMethod#4797,credibleSetIndex#4798,credibleSetlog10BF#4799,purityMeanR2#4800,purityMinR2#4801,locusStart#4802,locusEnd#4803,sampleSize#4804,ldSet#4805,locus#4806,... 2 more fields] parquet\n                                                               :           :                    +- Project [id#687 AS diseaseId#4846, name#691, parents#694, therapeuticAreas#699]\n                                                               :           :                       +- Relation [id#687,code#688,dbXRefs#689,description#690,name#691,directLocationIds#692,obsoleteTerms#693,parents#694,synonyms#695,ancestors#696,descendants#697,children#698,therapeuticAreas#699,indirectLocationIds#700,ontology#701] parquet\n                                                               :           +- Project [targetId#5966, diseaseId#6066, clinicalStudyId#23611, drugId#6003, clinicalPhase#5985, approvedDrug#18011, drugGoF_protect#23633L, LoF_protect#21269L AS drugLoF_protect#23642L]\n                                                               :              +- Project [targetId#5966, diseaseId#6066, clinicalStudyId#23611, drugId#6003, clinicalPhase#5985, approvedDrug#18011, GoF_protect#21268L AS drugGoF_protect#23633L, LoF_protect#21269L]\n                                                               :                 +- Project [targetId#5966, diseaseId#6066, clinicalStudyId#23611, drugId#6003, clinicalPhase#5985, approvedDrug#18011, GoF_protect#21268L, LoF_protect#21269L]\n                                                               :                    +- Filter (coherencyDiagonal#23584 = coherent)\n                                                               :                       +- Project [targetId#5966, diseaseId#6066, studyId#6043 AS clinicalStudyId#23611, drugId#6003, clinicalPhase#5985, approvedDrug#18011, GoF_protect#21268L, LoF_protect#21269L, GoF_risk#21282, LoF_risk#23155, noEvaluable#23359, coherencyDiagonal#23584, coherencyOneCell#23597]\n                                                               :                          +- Project [targetId#5966, diseaseId#6066, studyId#6043, drugId#6003, clinicalPhase#5985, approvedDrug#18011, GoF_protect#21268L, LoF_protect#21269L, GoF_risk#21282, LoF_risk#23155, noEvaluable#23359, coherencyDiagonal#23584, CASE WHEN ((((isnull(LoF_risk#23155) AND isnull(LoF_protect#21269L)) AND isnull(GoF_risk#21282)) AND isnull(GoF_protect#21268L)) AND isnull(noEvaluable#23359)) THEN noEvid WHEN ((((isnull(LoF_risk#23155) AND isnull(LoF_protect#21269L)) AND isnull(GoF_risk#21282)) AND isnull(GoF_protect#21268L)) AND isnotnull(noEvaluable#23359)) THEN EvidNotDoE WHEN (((isnotnull(LoF_risk#23155) OR isnotnull(LoF_protect#21269L)) OR isnotnull(GoF_risk#21282)) OR isnotnull(GoF_protect#21268L)) THEN CASE WHEN (isnotnull(LoF_risk#23155) AND ((isnull(LoF_protect#21269L) AND isnull(GoF_risk#21282)) AND isnull(GoF_protect#21268L))) THEN coherent WHEN (isnotnull(GoF_risk#21282) AND ((isnull(LoF_protect#21269L) AND isnull(LoF_risk#23155)) AND isnull(GoF_protect#21268L))) THEN coherent WHEN (isnotnull(LoF_protect#21269L) AND ((isnull(LoF_risk#23155) AND isnull(GoF_risk#21282)) AND isnull(GoF_protect#21268L))) THEN coherent WHEN (isnotnull(GoF_protect#21268L) AND ((isnull(LoF_protect#21269L) AND isnull(GoF_risk#21282)) AND isnull(LoF_risk#23155))) THEN coherent ELSE dispar END END AS coherencyOneCell#23597]\n                                                               :                             +- Project [targetId#5966, diseaseId#6066, studyId#6043, drugId#6003, clinicalPhase#5985, approvedDrug#18011, GoF_protect#21268L, LoF_protect#21269L, GoF_risk#21282, LoF_risk#23155, noEvaluable#23359, CASE WHEN ((((isnull(LoF_risk#23155) AND isnull(LoF_protect#21269L)) AND isnull(GoF_risk#21282)) AND isnull(GoF_protect#21268L)) AND isnull(noEvaluable#23359)) THEN noEvid WHEN ((((isnull(LoF_risk#23155) AND isnull(LoF_protect#21269L)) AND isnull(GoF_risk#21282)) AND isnull(GoF_protect#21268L)) AND isnotnull(noEvaluable#23359)) THEN EvidNotDoE WHEN (((isnotnull(LoF_risk#23155) OR isnotnull(LoF_protect#21269L)) OR isnotnull(GoF_risk#21282)) OR isnotnull(GoF_protect#21268L)) THEN CASE WHEN (isnotnull(GoF_risk#21282) AND isnotnull(LoF_risk#23155)) THEN dispar WHEN (isnotnull(LoF_protect#21269L) AND isnotnull(LoF_risk#23155)) THEN dispar WHEN (isnotnull(GoF_protect#21268L) AND isnotnull(GoF_risk#21282)) THEN dispar WHEN (isnotnull(GoF_protect#21268L) AND isnotnull(LoF_protect#21269L)) THEN dispar ELSE coherent END END AS coherencyDiagonal#23584]\n                                                               :                                +- Project [targetId#5966, diseaseId#6066, studyId#6043, drugId#6003, clinicalPhase#5985, approvedDrug#18011, GoF_protect#21268L, LoF_protect#21269L, GoF_risk#21282, LoF_risk#23155, null AS noEvaluable#23359]\n                                                               :                                   +- Project [targetId#5966, diseaseId#6066, studyId#6043, drugId#6003, clinicalPhase#5985, approvedDrug#18011, GoF_protect#21268L, LoF_protect#21269L, GoF_risk#21282, null AS LoF_risk#23155]\n                                                               :                                      +- Project [targetId#5966, diseaseId#6066, studyId#6043, drugId#6003, clinicalPhase#5985, approvedDrug#18011, GoF_protect#21268L, LoF_protect#21269L, null AS GoF_risk#21282]\n                                                               :                                         +- Project [targetId#5966, diseaseId#6066, studyId#6043, drugId#6003, clinicalPhase#5985, approvedDrug#18011, __pivot_count(1) AS count AS `count(1) AS count`#21267[0] AS GoF_protect#21268L, __pivot_count(1) AS count AS `count(1) AS count`#21267[1] AS LoF_protect#21269L]\n                                                               :                                            +- Aggregate [targetId#5966, diseaseId#6066, studyId#6043, drugId#6003, clinicalPhase#5985, approvedDrug#18011], [targetId#5966, diseaseId#6066, studyId#6043, drugId#6003, clinicalPhase#5985, approvedDrug#18011, pivotfirst(homogenized#8340, count(1) AS count#21261L, GoF_protect, LoF_protect, 0, 0) AS __pivot_count(1) AS count AS `count(1) AS count`#21267]\n                                                               :                                               +- Aggregate [targetId#5966, diseaseId#6066, studyId#6043, drugId#6003, clinicalPhase#5985, approvedDrug#18011, homogenized#8340], [targetId#5966, diseaseId#6066, studyId#6043, drugId#6003, clinicalPhase#5985, approvedDrug#18011, homogenized#8340, count(1) AS count(1) AS count#21261L]\n                                                               :                                                  +- Project [targetId#5966, diseaseId#6066, drugId#6003, datasourceId#5965, alleleOrigins#5967, allelicRequirements#5968, ancestry#5969, ancestryId#5970, assays#5971, assessments#5972, beta#6842, betaConfidenceIntervalLower#5974, betaConfidenceIntervalUpper#5975, biologicalModelAllelicComposition#5976, biologicalModelGeneticBackground#5977, biologicalModelId#5978, biomarkerList#5979, biomarkerName#5980, biomarkers#5981, biosamplesFromSource#5982, cellLineBackground#5983, cellType#5984, clinicalPhase#5985, clinicalSignificances#7058, ... 98 more fields]\n                                                               :                                                     +- Project [targetId#5966, diseaseId#6066, drugId#6003, datasourceId#5965, alleleOrigins#5967, allelicRequirements#5968, ancestry#5969, ancestryId#5970, assays#5971, assessments#5972, beta#6842, betaConfidenceIntervalLower#5974, betaConfidenceIntervalUpper#5975, biologicalModelAllelicComposition#5976, biologicalModelGeneticBackground#5977, biologicalModelId#5978, biomarkerList#5979, biomarkerName#5980, biomarkers#5981, biosamplesFromSource#5982, cellLineBackground#5983, cellType#5984, clinicalPhase#5985, clinicalSignificances#7058, ... 99 more fields]\n                                                               :                                                        +- Window [max(isApproved#11257) windowspecdefinition(targetId#5966, diseaseId#6066, drugId#6003, specifiedwindowframe(RowFrame, unboundedpreceding$(), unboundedfollowing$())) AS approvedDrug#18011], [targetId#5966, diseaseId#6066, drugId#6003]\n                                                               :                                                           +- Project [targetId#5966, diseaseId#6066, drugId#6003, datasourceId#5965, alleleOrigins#5967, allelicRequirements#5968, ancestry#5969, ancestryId#5970, assays#5971, assessments#5972, beta#6842, betaConfidenceIntervalLower#5974, betaConfidenceIntervalUpper#5975, biologicalModelAllelicComposition#5976, biologicalModelGeneticBackground#5977, biologicalModelId#5978, biomarkerList#5979, biomarkerName#5980, biomarkers#5981, biosamplesFromSource#5982, cellLineBackground#5983, cellType#5984, clinicalPhase#5985, clinicalSignificances#7058, ... 97 more fields]\n                                                               :                                                              +- Project [targetId#5966, diseaseId#6066, drugId#6003, datasourceId#5965, alleleOrigins#5967, allelicRequirements#5968, ancestry#5969, ancestryId#5970, assays#5971, assessments#5972, beta#6842, betaConfidenceIntervalLower#5974, betaConfidenceIntervalUpper#5975, biologicalModelAllelicComposition#5976, biologicalModelGeneticBackground#5977, biologicalModelId#5978, biomarkerList#5979, biomarkerName#5980, biomarkers#5981, biosamplesFromSource#5982, cellLineBackground#5983, cellType#5984, clinicalPhase#5985, clinicalSignificances#7058, ... 97 more fields]\n                                                               :                                                                 +- Join LeftOuter, (((targetId#5966 = targetId#11240) AND (diseaseId#6066 = diseaseId#11242)) AND (drugId#6003 = drugId#11241))\n                                                               :                                                                    :- Filter ((datasourceId#5965 = chembl) AND NOT (homogenized#8340 = noEvaluable))\n                                                               :                                                                    :  +- Project [datasourceId#5965, targetId#5966, alleleOrigins#5967, allelicRequirements#5968, ancestry#5969, ancestryId#5970, assays#5971, assessments#5972, beta#6842, betaConfidenceIntervalLower#5974, betaConfidenceIntervalUpper#5975, biologicalModelAllelicComposition#5976, biologicalModelGeneticBackground#5977, biologicalModelId#5978, biomarkerList#5979, biomarkerName#5980, biomarkers#5981, biosamplesFromSource#5982, cellLineBackground#5983, cellType#5984, clinicalPhase#5985, clinicalSignificances#7058, clinicalStatus#5987, cohortDescription#5988, ... 96 more fields]\n                                                               :                                                                    :     +- Project [datasourceId#5965, targetId#5966, alleleOrigins#5967, allelicRequirements#5968, ancestry#5969, ancestryId#5970, assays#5971, assessments#5972, beta#6842, betaConfidenceIntervalLower#5974, betaConfidenceIntervalUpper#5975, biologicalModelAllelicComposition#5976, biologicalModelGeneticBackground#5977, biologicalModelId#5978, biomarkerList#5979, biomarkerName#5980, biomarkers#5981, biosamplesFromSource#5982, cellLineBackground#5983, cellType#5984, clinicalPhase#5985, clinicalSignificances#7058, clinicalStatus#5987, cohortDescription#5988, ... 95 more fields]\n                                                               :                                                                    :        +- Project [datasourceId#5965, targetId#5966, alleleOrigins#5967, allelicRequirements#5968, ancestry#5969, ancestryId#5970, assays#5971, assessments#5972, beta#6842, betaConfidenceIntervalLower#5974, betaConfidenceIntervalUpper#5975, biologicalModelAllelicComposition#5976, biologicalModelGeneticBackground#5977, biologicalModelId#5978, biomarkerList#5979, biomarkerName#5980, biomarkers#5981, biosamplesFromSource#5982, cellLineBackground#5983, cellType#5984, clinicalPhase#5985, clinicalSignificances#7058, clinicalStatus#5987, cohortDescription#5988, ... 95 more fields]\n                                                               :                                                                    :           +- Project [datasourceId#5965, targetId#5966, alleleOrigins#5967, allelicRequirements#5968, ancestry#5969, ancestryId#5970, assays#5971, assessments#5972, beta#6842, betaConfidenceIntervalLower#5974, betaConfidenceIntervalUpper#5975, biologicalModelAllelicComposition#5976, biologicalModelGeneticBackground#5977, biologicalModelId#5978, biomarkerList#5979, biomarkerName#5980, biomarkers#5981, biosamplesFromSource#5982, cellLineBackground#5983, cellType#5984, clinicalPhase#5985, clinicalSignificances#7058, clinicalStatus#5987, cohortDescription#5988, ... 95 more fields]\n                                                               :                                                                    :              +- Project [datasourceId#5965, targetId#5966, alleleOrigins#5967, allelicRequirements#5968, ancestry#5969, ancestryId#5970, assays#5971, assessments#5972, beta#6842, betaConfidenceIntervalLower#5974, betaConfidenceIntervalUpper#5975, biologicalModelAllelicComposition#5976, biologicalModelGeneticBackground#5977, biologicalModelId#5978, biomarkerList#5979, biomarkerName#5980, biomarkers#5981, biosamplesFromSource#5982, cellLineBackground#5983, cellType#5984, clinicalPhase#5985, clinicalSignificances#7058, clinicalStatus#5987, cohortDescription#5988, ... 96 more fields]\n                                                               :                                                                    :                 +- Window [collect_set(intogen_function#7855, 0, 0) windowspecdefinition(targetId#5966, diseaseId#6066, specifiedwindowframe(RowFrame, unboundedpreceding$(), unboundedfollowing$())) AS _we0#7978], [targetId#5966, diseaseId#6066]\n                                                               :                                                                    :                    +- Project [datasourceId#5965, targetId#5966, alleleOrigins#5967, allelicRequirements#5968, ancestry#5969, ancestryId#5970, assays#5971, assessments#5972, beta#6842, betaConfidenceIntervalLower#5974, betaConfidenceIntervalUpper#5975, biologicalModelAllelicComposition#5976, biologicalModelGeneticBackground#5977, biologicalModelId#5978, biomarkerList#5979, biomarkerName#5980, biomarkers#5981, biosamplesFromSource#5982, cellLineBackground#5983, cellType#5984, clinicalPhase#5985, clinicalSignificances#7058, clinicalStatus#5987, cohortDescription#5988, ... 94 more fields]\n                                                               :                                                                    :                       +- Project [datasourceId#5965, targetId#5966, alleleOrigins#5967, allelicRequirements#5968, ancestry#5969, ancestryId#5970, assays#5971, assessments#5972, beta#6842, betaConfidenceIntervalLower#5974, betaConfidenceIntervalUpper#5975, biologicalModelAllelicComposition#5976, biologicalModelGeneticBackground#5977, biologicalModelId#5978, biomarkerList#5979, biomarkerName#5980, biomarkers#5981, biosamplesFromSource#5982, cellLineBackground#5983, cellType#5984, clinicalPhase#5985, clinicalSignificances#7058, clinicalStatus#5987, cohortDescription#5988, ... 94 more fields]\n                                                               :                                                                    :                          +- Project [datasourceId#5965, targetId#5966, alleleOrigins#5967, allelicRequirements#5968, ancestry#5969, ancestryId#5970, assays#5971, assessments#5972, beta#6842, betaConfidenceIntervalLower#5974, betaConfidenceIntervalUpper#5975, biologicalModelAllelicComposition#5976, biologicalModelGeneticBackground#5977, biologicalModelId#5978, biomarkerList#5979, biomarkerName#5980, biomarkers#5981, biosamplesFromSource#5982, cellLineBackground#5983, cellType#5984, clinicalPhase#5985, clinicalSignificances#7058, clinicalStatus#5987, cohortDescription#5988, ... 93 more fields]\n                                                               :                                                                    :                             +- Project [datasourceId#5965, targetId#5966, alleleOrigins#5967, allelicRequirements#5968, ancestry#5969, ancestryId#5970, assays#5971, assessments#5972, beta#6842, betaConfidenceIntervalLower#5974, betaConfidenceIntervalUpper#5975, biologicalModelAllelicComposition#5976, biologicalModelGeneticBackground#5977, biologicalModelId#5978, biomarkerList#5979, biomarkerName#5980, biomarkers#5981, biosamplesFromSource#5982, cellLineBackground#5983, cellType#5984, clinicalPhase#5985, clinicalSignificances#7058, clinicalStatus#5987, cohortDescription#5988, ... 92 more fields]\n                                                               :                                                                    :                                +- Join LeftOuter, ((drugId2#6786 = drugId#6003) AND (targetId2#6793 = targetId#5966))\n                                                               :                                                                    :                                   :- Join LeftOuter, (target_id#6836 = targetId#5966)\n                                                               :                                                                    :                                   :  :- Project [datasourceId#5965, targetId#5966, alleleOrigins#5967, allelicRequirements#5968, ancestry#5969, ancestryId#5970, assays#5971, assessments#5972, beta#6842, betaConfidenceIntervalLower#5974, betaConfidenceIntervalUpper#5975, biologicalModelAllelicComposition#5976, biologicalModelGeneticBackground#5977, biologicalModelId#5978, biomarkerList#5979, biomarkerName#5980, biomarkers#5981, biosamplesFromSource#5982, cellLineBackground#5983, cellType#5984, clinicalPhase#5985, concat_ws(,, clinicalSignificances#5986) AS clinicalSignificances#7058, clinicalStatus#5987, cohortDescription#5988, ... 83 more fields]\n                                                               :                                                                    :                                   :  :  +- Project [datasourceId#5965, targetId#5966, alleleOrigins#5967, allelicRequirements#5968, ancestry#5969, ancestryId#5970, assays#5971, assessments#5972, beta#6842, betaConfidenceIntervalLower#5974, betaConfidenceIntervalUpper#5975, biologicalModelAllelicComposition#5976, biologicalModelGeneticBackground#5977, biologicalModelId#5978, biomarkerList#5979, biomarkerName#5980, biomarkers#5981, biosamplesFromSource#5982, cellLineBackground#5983, cellType#5984, clinicalPhase#5985, clinicalSignificances#5986, clinicalStatus#5987, cohortDescription#5988, ... 83 more fields]\n                                                               :                                                                    :                                   :  :     +- Project [datasourceId#5965, targetId#5966, alleleOrigins#5967, allelicRequirements#5968, ancestry#5969, ancestryId#5970, assays#5971, assessments#5972, cast(beta#5973 as double) AS beta#6842, betaConfidenceIntervalLower#5974, betaConfidenceIntervalUpper#5975, biologicalModelAllelicComposition#5976, biologicalModelGeneticBackground#5977, biologicalModelId#5978, biomarkerList#5979, biomarkerName#5980, biomarkers#5981, biosamplesFromSource#5982, cellLineBackground#5983, cellType#5984, clinicalPhase#5985, clinicalSignificances#5986, clinicalStatus#5987, cohortDescription#5988, ... 83 more fields]\n                                                               :                                                                    :                                   :  :        +- Filter datasourceId#5965 IN (ot_genetics_portal,gwas_credible_sets,gene_burden,eva,eva_somatic,gene2phenotype,orphanet,cancer_gene_census,intogen,impc,chembl)\n                                                               :                                                                    :                                   :  :           +- Relation [datasourceId#5965,targetId#5966,alleleOrigins#5967,allelicRequirements#5968,ancestry#5969,ancestryId#5970,assays#5971,assessments#5972,beta#5973,betaConfidenceIntervalLower#5974,betaConfidenceIntervalUpper#5975,biologicalModelAllelicComposition#5976,biologicalModelGeneticBackground#5977,biologicalModelId#5978,biomarkerList#5979,biomarkerName#5980,biomarkers#5981,biosamplesFromSource#5982,cellLineBackground#5983,cellType#5984,clinicalPhase#5985,clinicalSignificances#5986,clinicalStatus#5987,cohortDescription#5988,... 83 more fields] parquet\n                                                               :                                                                    :                                   :  +- Project [id#6715 AS target_id#6836, approvedSymbol#6716, description#6821, description_splited#6825, TSorOncogene#6830]\n                                                               :                                                                    :                                   :     +- Project [id#6715, approvedSymbol#6716, description#6821, description_splited#6825, CASE WHEN (RLIKE(description_splited#6825, ncogene) AND RLIKE(description_splited#6825, TSG)) THEN bivalent WHEN RLIKE(description_splited#6825, ncogene(\\s|$)) THEN oncogene WHEN RLIKE(description_splited#6825, TSG(\\s|$)) THEN TSG ELSE noEvaluable END AS TSorOncogene#6830]\n                                                               :                                                                    :                                   :        +- Project [id#6715, approvedSymbol#6716, description#6821, concat_ws(,, description#6821) AS description_splited#6825]\n                                                               :                                                                    :                                   :           +- Aggregate [id#6715, approvedSymbol#6716], [id#6715, approvedSymbol#6716, collect_set(description#6813, 0, 0) AS description#6821]\n                                                               :                                                                    :                                   :              +- Filter description#6813 IN (TSG,oncogene,Oncogene,oncogene,oncogene,TSG,TSG,oncogene,fusion,oncogene,oncogene,fusion)\n                                                               :                                                                    :                                   :                 +- Project [id#6715, approvedSymbol#6716, col#6808.description AS description#6813]\n                                                               :                                                                    :                                   :                    +- Project [id#6715, approvedSymbol#6716, col#6808]\n                                                               :                                                                    :                                   :                       +- Generate explode(hallmarks#6725.attributes), true, [col#6808]\n                                                               :                                                                    :                                   :                          +- Relation [id#6715,approvedSymbol#6716,biotype#6717,transcriptIds#6718,canonicalTranscript#6719,canonicalExons#6720,genomicLocation#6721,alternativeGenes#6722,approvedName#6723,go#6724,hallmarks#6725,synonyms#6726,symbolSynonyms#6727,nameSynonyms#6728,functionDescriptions#6729,subcellularLocations#6730,targetClass#6731,obsoleteSymbols#6732,obsoleteNames#6733,constraint#6734,tep#6735,proteinIds#6736,dbXrefs#6737,chemicalProbes#6738,... 4 more fields] parquet\n                                                               :                                                                    :                                   +- Aggregate [targetId2#6793, drugId2#6786], [targetId2#6793, drugId2#6786, collect_set(actionType#6771, 0, 0) AS actionType#6803]\n                                                               :                                                                    :                                      +- Project [targetId2#6793, drugId2#6786, actionType#6771, mechanismOfAction#6772]\n                                                               :                                                                    :                                         +- Generate explode(targets#6776), true, [targetId2#6793]\n                                                               :                                                                    :                                            +- Project [drugId2#6786, actionType#6771, mechanismOfAction#6772, targets#6776]\n                                                               :                                                                    :                                               +- Generate explode(chemblIds#6773), true, [drugId2#6786]\n                                                               :                                                                    :                                                  +- Relation [actionType#6771,mechanismOfAction#6772,chemblIds#6773,targetName#6774,targetType#6775,targets#6776,references#6777] parquet\n                                                               :                                                                    +- Filter (isApproved#11257 = 1)\n                                                               :                                                                       +- Deduplicate [targetId#11240, drugId#11241, diseaseId#11242, isApproved#11257]\n                                                               :                                                                          +- Project [targetId#11240, drugId#11241, diseaseId#11242, CASE WHEN (isApproved#11244 = cast(true as boolean)) THEN 1 ELSE 0 END AS isApproved#11257]\n                                                               :                                                                             +- Project [targetId#11240, drugId#11241, diseaseId#11242, isApproved#11244]\n                                                               :                                                                                +- Relation [targetId#11240,drugId#11241,diseaseId#11242,clinicalTrialId#11243,isApproved#11244,isComplex#11245] parquet\n                                                               +- Project [biosampleId#1093, biosampleName#1094]\n                                                                  +- Relation [biosampleId#1093,biosampleName#1094,description#1095,xrefs#1096,synonyms#1097,parents#1098,ancestors#1099,children#1100,descendants#1101] parquet\n",
     "output_type": "error",
     "traceback": [
      "\u001b[0;31m---------------------------------------------------------------------------\u001b[0m",
      "\u001b[0;31mAnalysisException\u001b[0m                         Traceback (most recent call last)",
      "\u001b[0;32m/tmp/ipykernel_18402/1993163177.py\u001b[0m in \u001b[0;36m<cell line: 61>\u001b[0;34m()\u001b[0m\n\u001b[1;32m     92\u001b[0m                                         \u001b[0;34m\"Phase>=1\"\u001b[0m\u001b[0;34m,\u001b[0m\u001b[0;34m\u001b[0m\u001b[0;34m\u001b[0m\u001b[0m\n\u001b[1;32m     93\u001b[0m                                         \u001b[0mF\u001b[0m\u001b[0;34m.\u001b[0m\u001b[0mwhen\u001b[0m\u001b[0;34m(\u001b[0m\u001b[0mF\u001b[0m\u001b[0;34m.\u001b[0m\u001b[0mcol\u001b[0m\u001b[0;34m(\u001b[0m\u001b[0;34m\"clinicalPhase\"\u001b[0m\u001b[0;34m)\u001b[0m \u001b[0;34m>=\u001b[0m \u001b[0;36m1\u001b[0m\u001b[0;34m,\u001b[0m \u001b[0mF\u001b[0m\u001b[0;34m.\u001b[0m\u001b[0mlit\u001b[0m\u001b[0;34m(\u001b[0m\u001b[0;34m\"yes\"\u001b[0m\u001b[0;34m)\u001b[0m\u001b[0;34m)\u001b[0m\u001b[0;34m.\u001b[0m\u001b[0motherwise\u001b[0m\u001b[0;34m(\u001b[0m\u001b[0mF\u001b[0m\u001b[0;34m.\u001b[0m\u001b[0mlit\u001b[0m\u001b[0;34m(\u001b[0m\u001b[0;34m\"no\"\u001b[0m\u001b[0;34m)\u001b[0m\u001b[0;34m)\u001b[0m\u001b[0;34m,\u001b[0m\u001b[0;34m\u001b[0m\u001b[0;34m\u001b[0m\u001b[0m\n\u001b[0;32m---> 94\u001b[0;31m                                 \u001b[0;34m)\u001b[0m\u001b[0;34m.\u001b[0m\u001b[0mwithColumn\u001b[0m\u001b[0;34m(\u001b[0m\u001b[0;34m\u001b[0m\u001b[0;34m\u001b[0m\u001b[0m\n\u001b[0m\u001b[1;32m     95\u001b[0m                                         \u001b[0;34m\"approved\"\u001b[0m\u001b[0;34m,\u001b[0m\u001b[0;34m\u001b[0m\u001b[0;34m\u001b[0m\u001b[0m\n\u001b[1;32m     96\u001b[0m                                                 \u001b[0mF\u001b[0m\u001b[0;34m.\u001b[0m\u001b[0mwhen\u001b[0m\u001b[0;34m(\u001b[0m\u001b[0mF\u001b[0m\u001b[0;34m.\u001b[0m\u001b[0mcol\u001b[0m\u001b[0;34m(\u001b[0m\u001b[0;34m\"approved\"\u001b[0m\u001b[0;34m)\u001b[0m\u001b[0;34m==\u001b[0m\u001b[0;36m1\u001b[0m\u001b[0;34m,\u001b[0m \u001b[0mF\u001b[0m\u001b[0;34m.\u001b[0m\u001b[0mlit\u001b[0m\u001b[0;34m(\u001b[0m\u001b[0;34m\"yes\"\u001b[0m\u001b[0;34m)\u001b[0m\u001b[0;34m)\u001b[0m\u001b[0;34m.\u001b[0m\u001b[0motherwise\u001b[0m\u001b[0;34m(\u001b[0m\u001b[0mF\u001b[0m\u001b[0;34m.\u001b[0m\u001b[0mlit\u001b[0m\u001b[0;34m(\u001b[0m\u001b[0;34m\"no\"\u001b[0m\u001b[0;34m)\u001b[0m\u001b[0;34m)\u001b[0m\u001b[0;34m,\u001b[0m\u001b[0;34m\u001b[0m\u001b[0;34m\u001b[0m\u001b[0m\n",
      "\u001b[0;32m/usr/lib/spark/python/pyspark/sql/dataframe.py\u001b[0m in \u001b[0;36mwithColumn\u001b[0;34m(self, colName, col)\u001b[0m\n\u001b[1;32m   3034\u001b[0m         \u001b[0;32mif\u001b[0m \u001b[0;32mnot\u001b[0m \u001b[0misinstance\u001b[0m\u001b[0;34m(\u001b[0m\u001b[0mcol\u001b[0m\u001b[0;34m,\u001b[0m \u001b[0mColumn\u001b[0m\u001b[0;34m)\u001b[0m\u001b[0;34m:\u001b[0m\u001b[0;34m\u001b[0m\u001b[0;34m\u001b[0m\u001b[0m\n\u001b[1;32m   3035\u001b[0m             \u001b[0;32mraise\u001b[0m \u001b[0mTypeError\u001b[0m\u001b[0;34m(\u001b[0m\u001b[0;34m\"col should be Column\"\u001b[0m\u001b[0;34m)\u001b[0m\u001b[0;34m\u001b[0m\u001b[0;34m\u001b[0m\u001b[0m\n\u001b[0;32m-> 3036\u001b[0;31m         \u001b[0;32mreturn\u001b[0m \u001b[0mDataFrame\u001b[0m\u001b[0;34m(\u001b[0m\u001b[0mself\u001b[0m\u001b[0;34m.\u001b[0m\u001b[0m_jdf\u001b[0m\u001b[0;34m.\u001b[0m\u001b[0mwithColumn\u001b[0m\u001b[0;34m(\u001b[0m\u001b[0mcolName\u001b[0m\u001b[0;34m,\u001b[0m \u001b[0mcol\u001b[0m\u001b[0;34m.\u001b[0m\u001b[0m_jc\u001b[0m\u001b[0;34m)\u001b[0m\u001b[0;34m,\u001b[0m \u001b[0mself\u001b[0m\u001b[0;34m.\u001b[0m\u001b[0msparkSession\u001b[0m\u001b[0;34m)\u001b[0m\u001b[0;34m\u001b[0m\u001b[0;34m\u001b[0m\u001b[0m\n\u001b[0m\u001b[1;32m   3037\u001b[0m \u001b[0;34m\u001b[0m\u001b[0m\n\u001b[1;32m   3038\u001b[0m     \u001b[0;32mdef\u001b[0m \u001b[0mwithColumnRenamed\u001b[0m\u001b[0;34m(\u001b[0m\u001b[0mself\u001b[0m\u001b[0;34m,\u001b[0m \u001b[0mexisting\u001b[0m\u001b[0;34m:\u001b[0m \u001b[0mstr\u001b[0m\u001b[0;34m,\u001b[0m \u001b[0mnew\u001b[0m\u001b[0;34m:\u001b[0m \u001b[0mstr\u001b[0m\u001b[0;34m)\u001b[0m \u001b[0;34m->\u001b[0m \u001b[0;34m\"DataFrame\"\u001b[0m\u001b[0;34m:\u001b[0m\u001b[0;34m\u001b[0m\u001b[0;34m\u001b[0m\u001b[0m\n",
      "\u001b[0;32m/usr/lib/spark/python/lib/py4j-0.10.9.5-src.zip/py4j/java_gateway.py\u001b[0m in \u001b[0;36m__call__\u001b[0;34m(self, *args)\u001b[0m\n\u001b[1;32m   1319\u001b[0m \u001b[0;34m\u001b[0m\u001b[0m\n\u001b[1;32m   1320\u001b[0m         \u001b[0manswer\u001b[0m \u001b[0;34m=\u001b[0m \u001b[0mself\u001b[0m\u001b[0;34m.\u001b[0m\u001b[0mgateway_client\u001b[0m\u001b[0;34m.\u001b[0m\u001b[0msend_command\u001b[0m\u001b[0;34m(\u001b[0m\u001b[0mcommand\u001b[0m\u001b[0;34m)\u001b[0m\u001b[0;34m\u001b[0m\u001b[0;34m\u001b[0m\u001b[0m\n\u001b[0;32m-> 1321\u001b[0;31m         return_value = get_return_value(\n\u001b[0m\u001b[1;32m   1322\u001b[0m             answer, self.gateway_client, self.target_id, self.name)\n\u001b[1;32m   1323\u001b[0m \u001b[0;34m\u001b[0m\u001b[0m\n",
      "\u001b[0;32m/usr/lib/spark/python/pyspark/sql/utils.py\u001b[0m in \u001b[0;36mdeco\u001b[0;34m(*a, **kw)\u001b[0m\n\u001b[1;32m    194\u001b[0m                 \u001b[0;31m# Hide where the exception came from that shows a non-Pythonic\u001b[0m\u001b[0;34m\u001b[0m\u001b[0;34m\u001b[0m\u001b[0m\n\u001b[1;32m    195\u001b[0m                 \u001b[0;31m# JVM exception message.\u001b[0m\u001b[0;34m\u001b[0m\u001b[0;34m\u001b[0m\u001b[0m\n\u001b[0;32m--> 196\u001b[0;31m                 \u001b[0;32mraise\u001b[0m \u001b[0mconverted\u001b[0m \u001b[0;32mfrom\u001b[0m \u001b[0;32mNone\u001b[0m\u001b[0;34m\u001b[0m\u001b[0;34m\u001b[0m\u001b[0m\n\u001b[0m\u001b[1;32m    197\u001b[0m             \u001b[0;32melse\u001b[0m\u001b[0;34m:\u001b[0m\u001b[0;34m\u001b[0m\u001b[0;34m\u001b[0m\u001b[0m\n\u001b[1;32m    198\u001b[0m                 \u001b[0;32mraise\u001b[0m\u001b[0;34m\u001b[0m\u001b[0;34m\u001b[0m\u001b[0m\n",
      "\u001b[0;31mAnalysisException\u001b[0m: Column 'approved' does not exist. Did you mean one of the following? [approved_l, Phase4, diseaseId, pqtl, targetId, Phase>=1, Phase>=2, Phase>=3, eqtl, sceqtl, scsqtl, sctuqtl, sqtl, tuqtl, clinicalPhase];\n'Project [targetId#4743, diseaseId#4892, clinicalPhase#1520297, approved_l#1520196, eqtl#1521713, pqtl#1521715, sceqtl#1521717, scsqtl#1521719, sctuqtl#1521721, sqtl#1521723, tuqtl#1521725, Phase4#1521737, Phase>=3#1521750, Phase>=2#1521764, Phase>=1#1521779, CASE WHEN ('approved = 1) THEN yes ELSE no END AS approved#1521795]\n+- Project [targetId#4743, diseaseId#4892, clinicalPhase#1520297, approved_l#1520196, eqtl#1521713, pqtl#1521715, sceqtl#1521717, scsqtl#1521719, sctuqtl#1521721, sqtl#1521723, tuqtl#1521725, Phase4#1521737, Phase>=3#1521750, Phase>=2#1521764, CASE WHEN (clinicalPhase#1520297 >= cast(1 as double)) THEN yes ELSE no END AS Phase>=1#1521779]\n   +- Project [targetId#4743, diseaseId#4892, clinicalPhase#1520297, approved_l#1520196, eqtl#1521713, pqtl#1521715, sceqtl#1521717, scsqtl#1521719, sctuqtl#1521721, sqtl#1521723, tuqtl#1521725, Phase4#1521737, Phase>=3#1521750, CASE WHEN (clinicalPhase#1520297 >= cast(2 as double)) THEN yes ELSE no END AS Phase>=2#1521764]\n      +- Project [targetId#4743, diseaseId#4892, clinicalPhase#1520297, approved_l#1520196, eqtl#1521713, pqtl#1521715, sceqtl#1521717, scsqtl#1521719, sctuqtl#1521721, sqtl#1521723, tuqtl#1521725, Phase4#1521737, CASE WHEN (clinicalPhase#1520297 >= cast(3 as double)) THEN yes ELSE no END AS Phase>=3#1521750]\n         +- Project [targetId#4743, diseaseId#4892, clinicalPhase#1520297, approved_l#1520196, eqtl#1521713, pqtl#1521715, sceqtl#1521717, scsqtl#1521719, sctuqtl#1521721, sqtl#1521723, tuqtl#1521725, CASE WHEN (clinicalPhase#1520297 = cast(4 as double)) THEN yes ELSE no END AS Phase4#1521737]\n            +- Aggregate [targetId#4743, diseaseId#4892, clinicalPhase#1520297, approved_l#1520196], [targetId#4743, diseaseId#4892, clinicalPhase#1520297, approved_l#1520196, collect_set(if ((rightStudyType#1046 <=> cast(eqtl as string))) agree_lowestPVal#1520246 else cast(null as string), 0, 0) AS eqtl#1521713, collect_set(if ((rightStudyType#1046 <=> cast(pqtl as string))) agree_lowestPVal#1520246 else cast(null as string), 0, 0) AS pqtl#1521715, collect_set(if ((rightStudyType#1046 <=> cast(sceqtl as string))) agree_lowestPVal#1520246 else cast(null as string), 0, 0) AS sceqtl#1521717, collect_set(if ((rightStudyType#1046 <=> cast(scsqtl as string))) agree_lowestPVal#1520246 else cast(null as string), 0, 0) AS scsqtl#1521719, collect_set(if ((rightStudyType#1046 <=> cast(sctuqtl as string))) agree_lowestPVal#1520246 else cast(null as string), 0, 0) AS sctuqtl#1521721, collect_set(if ((rightStudyType#1046 <=> cast(sqtl as string))) agree_lowestPVal#1520246 else cast(null as string), 0, 0) AS sqtl#1521723, collect_set(if ((rightStudyType#1046 <=> cast(tuqtl as string))) agree_lowestPVal#1520246 else cast(null as string), 0, 0) AS tuqtl#1521725]\n               +- Project [biosampleId#1012, targetId#4743, diseaseId#4892, leftStudyLocusId#1043, rightStudyId#3055, rightStudyLocusId#1044, chromosome#1045, rightStudyType#1046, numberColocalisingVariants#1047L, h0#1048, h1#1049, h2#1050, h3#1051, h4#1052, colocalisationMethod#1053, betaRatioSignAverage#1054, leftStudyId#3030, leftVariantId#3031, credibleLeftStudyType#3032, rightVariantId#3056, credibleRightStudyType#3057, projectId#985, indexStudyType#3108, condition#1008, ... 26 more fields]\n                  +- Project [biosampleId#1012, targetId#4743, diseaseId#4892, leftStudyLocusId#1043, rightStudyId#3055, rightStudyLocusId#1044, chromosome#1045, rightStudyType#1046, numberColocalisingVariants#1047L, h0#1048, h1#1049, h2#1050, h3#1051, h4#1052, colocalisationMethod#1053, betaRatioSignAverage#1054, leftStudyId#3030, leftVariantId#3031, credibleLeftStudyType#3032, rightVariantId#3056, credibleRightStudyType#3057, projectId#985, indexStudyType#3108, condition#1008, ... 27 more fields]\n                     +- Window [max(approvedDrug#18011) windowspecdefinition(targetId#4743, diseaseId#4892, specifiedwindowframe(RowFrame, unboundedpreceding$(), unboundedfollowing$())) AS approved#1520348], [targetId#4743, diseaseId#4892]\n                        +- Project [biosampleId#1012, targetId#4743, diseaseId#4892, leftStudyLocusId#1043, rightStudyId#3055, rightStudyLocusId#1044, chromosome#1045, rightStudyType#1046, numberColocalisingVariants#1047L, h0#1048, h1#1049, h2#1050, h3#1051, h4#1052, colocalisationMethod#1053, betaRatioSignAverage#1054, leftStudyId#3030, leftVariantId#3031, credibleLeftStudyType#3032, rightVariantId#3056, credibleRightStudyType#3057, projectId#985, indexStudyType#3108, condition#1008, ... 25 more fields]\n                           +- Project [biosampleId#1012, targetId#4743, diseaseId#4892, leftStudyLocusId#1043, rightStudyId#3055, rightStudyLocusId#1044, chromosome#1045, rightStudyType#1046, numberColocalisingVariants#1047L, h0#1048, h1#1049, h2#1050, h3#1051, h4#1052, colocalisationMethod#1053, betaRatioSignAverage#1054, leftStudyId#3030, leftVariantId#3031, credibleLeftStudyType#3032, rightVariantId#3056, credibleRightStudyType#3057, projectId#985, indexStudyType#3108, condition#1008, ... 25 more fields]\n                              +- Project [biosampleId#1012, targetId#4743, diseaseId#4892, leftStudyLocusId#1043, rightStudyId#3055, rightStudyLocusId#1044, chromosome#1045, rightStudyType#1046, numberColocalisingVariants#1047L, h0#1048, h1#1049, h2#1050, h3#1051, h4#1052, colocalisationMethod#1053, betaRatioSignAverage#1054, leftStudyId#3030, leftVariantId#3031, credibleLeftStudyType#3032, rightVariantId#3056, credibleRightStudyType#3057, projectId#985, indexStudyType#3108, condition#1008, ... 27 more fields]\n                                 +- Window [max(clinicalPhase#5985) windowspecdefinition(targetId#4743, diseaseId#4892, specifiedwindowframe(RowFrame, unboundedpreceding$(), unboundedfollowing$())) AS clinicalPhase#1520297], [targetId#4743, diseaseId#4892]\n                                    +- Project [biosampleId#1012, targetId#4743, diseaseId#4892, leftStudyLocusId#1043, rightStudyId#3055, rightStudyLocusId#1044, chromosome#1045, rightStudyType#1046, numberColocalisingVariants#1047L, h0#1048, h1#1049, h2#1050, h3#1051, h4#1052, colocalisationMethod#1053, betaRatioSignAverage#1054, leftStudyId#3030, leftVariantId#3031, credibleLeftStudyType#3032, rightVariantId#3056, credibleRightStudyType#3057, projectId#985, indexStudyType#3108, condition#1008, ... 25 more fields]\n                                       +- Project [biosampleId#1012, targetId#4743, diseaseId#4892, leftStudyLocusId#1043, rightStudyId#3055, rightStudyLocusId#1044, chromosome#1045, rightStudyType#1046, numberColocalisingVariants#1047L, h0#1048, h1#1049, h2#1050, h3#1051, h4#1052, colocalisationMethod#1053, betaRatioSignAverage#1054, leftStudyId#3030, leftVariantId#3031, credibleLeftStudyType#3032, rightVariantId#3056, credibleRightStudyType#3057, projectId#985, indexStudyType#3108, condition#1008, ... 25 more fields]\n                                          +- Project [biosampleId#1012, targetId#4743, diseaseId#4892, leftStudyLocusId#1043, rightStudyId#3055, rightStudyLocusId#1044, chromosome#1045, rightStudyType#1046, numberColocalisingVariants#1047L, h0#1048, h1#1049, h2#1050, h3#1051, h4#1052, colocalisationMethod#1053, betaRatioSignAverage#1054, leftStudyId#3030, leftVariantId#3031, credibleLeftStudyType#3032, rightVariantId#3056, credibleRightStudyType#3057, projectId#985, indexStudyType#3108, condition#1008, ... 26 more fields]\n                                             +- Window [first(AgreeDrug#23696, false) windowspecdefinition(targetId#4743, diseaseId#4892, rightStudyType#1046, pValueExponent#4792 ASC NULLS FIRST, specifiedwindowframe(RangeFrame, unboundedpreceding$(), currentrow$())) AS agree_lowestPval#1520246], [targetId#4743, diseaseId#4892, rightStudyType#1046], [pValueExponent#4792 ASC NULLS FIRST]\n                                                +- Project [biosampleId#1012, targetId#4743, diseaseId#4892, leftStudyLocusId#1043, rightStudyId#3055, rightStudyLocusId#1044, chromosome#1045, rightStudyType#1046, numberColocalisingVariants#1047L, h0#1048, h1#1049, h2#1050, h3#1051, h4#1052, colocalisationMethod#1053, betaRatioSignAverage#1054, leftStudyId#3030, leftVariantId#3031, credibleLeftStudyType#3032, rightVariantId#3056, credibleRightStudyType#3057, projectId#985, indexStudyType#3108, condition#1008, ... 24 more fields]\n                                                   +- Filter isnotnull(clinicalStudyId#23611)\n                                                      +- Project [biosampleId#1012, targetId#4743, diseaseId#4892, leftStudyLocusId#1043, rightStudyId#3055, rightStudyLocusId#1044, chromosome#1045, rightStudyType#1046, numberColocalisingVariants#1047L, h0#1048, h1#1049, h2#1050, h3#1051, h4#1052, colocalisationMethod#1053, betaRatioSignAverage#1054, leftStudyId#3030, leftVariantId#3031, credibleLeftStudyType#3032, rightVariantId#3056, credibleRightStudyType#3057, projectId#985, indexStudyType#3108, condition#1008, ... 24 more fields]\n                                                         +- Project [biosampleId#1012, targetId#4743, diseaseId#4892, leftStudyLocusId#1043, rightStudyId#3055, rightStudyLocusId#1044, chromosome#1045, rightStudyType#1046, numberColocalisingVariants#1047L, h0#1048, h1#1049, h2#1050, h3#1051, h4#1052, colocalisationMethod#1053, betaRatioSignAverage#1054, leftStudyId#3030, leftVariantId#3031, credibleLeftStudyType#3032, rightVariantId#3056, credibleRightStudyType#3057, projectId#985, indexStudyType#3108, condition#1008, ... 23 more fields]\n                                                            +- Join LeftOuter, (biosampleId#1012 = biosampleId#1093)\n                                                               :- Filter NOT (name#691 = COVID-19)\n                                                               :  +- Project [targetId#4743, diseaseId#4892, leftStudyLocusId#1043, rightStudyId#3055, rightStudyLocusId#1044, chromosome#1045, rightStudyType#1046, numberColocalisingVariants#1047L, h0#1048, h1#1049, h2#1050, h3#1051, h4#1052, colocalisationMethod#1053, betaRatioSignAverage#1054, leftStudyId#3030, leftVariantId#3031, credibleLeftStudyType#3032, rightVariantId#3056, credibleRightStudyType#3057, projectId#985, indexStudyType#3108, condition#1008, biosampleId#1012, ... 22 more fields]\n                                                               :     +- Project [targetId#4743, diseaseId#4892, leftStudyLocusId#1043, rightStudyId#3055, rightStudyLocusId#1044, chromosome#1045, rightStudyType#1046, numberColocalisingVariants#1047L, h0#1048, h1#1049, h2#1050, h3#1051, h4#1052, colocalisationMethod#1053, betaRatioSignAverage#1054, leftStudyId#3030, leftVariantId#3031, credibleLeftStudyType#3032, rightVariantId#3056, credibleRightStudyType#3057, projectId#985, indexStudyType#3108, condition#1008, biosampleId#1012, ... 21 more fields]\n                                                               :        +- Join Inner, ((targetId#4743 = targetId#5966) AND (diseaseId#4892 = diseaseId#6066))\n                                                               :           :- Filter (betaGwas#4427 < cast(0 as double))\n                                                               :           :  +- Project [diseaseId#4892, leftStudyLocusId#1043, targetId#4743, rightStudyId#3055, rightStudyLocusId#1044, chromosome#1045, rightStudyType#1046, numberColocalisingVariants#1047L, h0#1048, h1#1049, h2#1050, h3#1051, h4#1052, colocalisationMethod#1053, betaRatioSignAverage#1054, leftStudyId#3030, leftVariantId#3031, credibleLeftStudyType#3032, rightVariantId#3056, credibleRightStudyType#3057, projectId#985, indexStudyType#3108, condition#1008, biosampleId#1012, ... 15 more fields]\n                                                               :           :     +- Project [diseaseId#4892, leftStudyLocusId#1043, targetId#4743, rightStudyId#3055, rightStudyLocusId#1044, chromosome#1045, rightStudyType#1046, numberColocalisingVariants#1047L, h0#1048, h1#1049, h2#1050, h3#1051, h4#1052, colocalisationMethod#1053, betaRatioSignAverage#1054, leftStudyId#3030, leftVariantId#3031, credibleLeftStudyType#3032, rightVariantId#3056, credibleRightStudyType#3057, projectId#985, indexStudyType#3108, condition#1008, biosampleId#1012, ... 14 more fields]\n                                                               :           :        +- Project [diseaseId#4892, leftStudyLocusId#1043, targetId#4743, rightStudyId#3055, rightStudyLocusId#1044, chromosome#1045, rightStudyType#1046, numberColocalisingVariants#1047L, h0#1048, h1#1049, h2#1050, h3#1051, h4#1052, colocalisationMethod#1053, betaRatioSignAverage#1054, leftStudyId#3030, leftVariantId#3031, credibleLeftStudyType#3032, rightVariantId#3056, credibleRightStudyType#3057, projectId#985, indexStudyType#3108, condition#1008, biosampleId#1012, ... 15 more fields]\n                                                               :           :           +- Generate explode(concat(array(diseaseId#818), parents#694)), true, [diseaseId#4892]\n                                                               :           :              +- Project [diseaseId#818, leftStudyLocusId#1043, targetId#4743, rightStudyId#3055, rightStudyLocusId#1044, chromosome#1045, rightStudyType#1046, numberColocalisingVariants#1047L, h0#1048, h1#1049, h2#1050, h3#1051, h4#1052, colocalisationMethod#1053, betaRatioSignAverage#1054, leftStudyId#3030, leftVariantId#3031, credibleLeftStudyType#3032, rightVariantId#3056, credibleRightStudyType#3057, projectId#985, indexStudyType#3108, condition#1008, biosampleId#1012, ... 15 more fields]\n                                                               :           :                 +- Join LeftOuter, (diseaseId#818 = diseaseId#4846)\n                                                               :           :                    :- Project [leftStudyLocusId#1043, targetId#4743, rightStudyId#3055, rightStudyLocusId#1044, chromosome#1045, rightStudyType#1046, numberColocalisingVariants#1047L, h0#1048, h1#1049, h2#1050, h3#1051, h4#1052, colocalisationMethod#1053, betaRatioSignAverage#1054, leftStudyId#3030, leftVariantId#3031, credibleLeftStudyType#3032, rightVariantId#3056, credibleRightStudyType#3057, projectId#985, indexStudyType#3108, condition#1008, biosampleId#1012, datasourceId#717, ... 12 more fields]\n                                                               :           :                    :  +- Join Inner, ((leftStudyLocusId#1043 = leftStudyLocusId#4767) AND (targetId#4743 = targetId#718))\n                                                               :           :                    :     :- Project [rightStudyId#3055, rightStudyLocusId#1044, leftStudyLocusId#1043, chromosome#1045, rightStudyType#1046, numberColocalisingVariants#1047L, h0#1048, h1#1049, h2#1050, h3#1051, h4#1052, colocalisationMethod#1053, betaRatioSignAverage#1054, leftStudyId#3030, leftVariantId#3031, credibleLeftStudyType#3032, rightVariantId#3056, credibleRightStudyType#3057, geneId#984 AS targetId#4743, projectId#985, indexStudyType#3108, condition#1008, biosampleId#1012]\n                                                               :           :                    :     :  +- Project [rightStudyId#3055, rightStudyLocusId#1044, leftStudyLocusId#1043, chromosome#1045, rightStudyType#1046, numberColocalisingVariants#1047L, h0#1048, h1#1049, h2#1050, h3#1051, h4#1052, colocalisationMethod#1053, betaRatioSignAverage#1054, leftStudyId#3030, leftVariantId#3031, credibleLeftStudyType#3032, rightVariantId#3056, credibleRightStudyType#3057, geneId#984, projectId#985, indexStudyType#3108, condition#1008, biosampleId#1012]\n                                                               :           :                    :     :     +- Join LeftOuter, (rightStudyId#3055 = rightStudyId#3107)\n                                                               :           :                    :     :        :- Project [rightStudyLocusId#1044, leftStudyLocusId#1043, chromosome#1045, rightStudyType#1046, numberColocalisingVariants#1047L, h0#1048, h1#1049, h2#1050, h3#1051, h4#1052, colocalisationMethod#1053, betaRatioSignAverage#1054, leftStudyId#3030, leftVariantId#3031, credibleLeftStudyType#3032, rightStudyId#3055, rightVariantId#3056, credibleRightStudyType#3057]\n                                                               :           :                    :     :        :  +- Join LeftOuter, (rightStudyLocusId#1044 = rightStudyLocusId#3054)\n                                                               :           :                    :     :        :     :- Project [leftStudyLocusId#1043, rightStudyLocusId#1044, chromosome#1045, rightStudyType#1046, numberColocalisingVariants#1047L, h0#1048, h1#1049, h2#1050, h3#1051, h4#1052, colocalisationMethod#1053, betaRatioSignAverage#1054, leftStudyId#3030, leftVariantId#3031, credibleLeftStudyType#3032]\n                                                               :           :                    :     :        :     :  +- Join LeftOuter, (leftStudyLocusId#1043 = leftStudyLocusId#3029)\n                                                               :           :                    :     :        :     :     :- Relation [leftStudyLocusId#1043,rightStudyLocusId#1044,chromosome#1045,rightStudyType#1046,numberColocalisingVariants#1047L,h0#1048,h1#1049,h2#1050,h3#1051,h4#1052,colocalisationMethod#1053,betaRatioSignAverage#1054] parquet\n                                                               :           :                    :     :        :     :     +- Project [studyLocusId#931 AS leftStudyLocusId#3029, StudyId#932 AS leftStudyId#3030, variantId#933 AS leftVariantId#3031, studyType#956 AS credibleLeftStudyType#3032]\n                                                               :           :                    :     :        :     :        +- Relation [studyLocusId#931,studyId#932,variantId#933,chromosome#934,position#935,region#936,beta#937,zScore#938,pValueMantissa#939,pValueExponent#940,effectAlleleFrequencyFromSource#941,standardError#942,subStudyDescription#943,qualityControls#944,finemappingMethod#945,credibleSetIndex#946,credibleSetlog10BF#947,purityMeanR2#948,purityMinR2#949,locusStart#950,locusEnd#951,sampleSize#952,ldSet#953,locus#954,... 2 more fields] parquet\n                                                               :           :                    :     :        :     +- Project [studyLocusId#3062 AS rightStudyLocusId#3054, studyId#3063 AS rightStudyId#3055, variantId#3064 AS rightVariantId#3056, studyType#3087 AS credibleRightStudyType#3057]\n                                                               :           :                    :     :        :        +- Relation [studyLocusId#3062,studyId#3063,variantId#3064,chromosome#3065,position#3066,region#3067,beta#3068,zScore#3069,pValueMantissa#3070,pValueExponent#3071,effectAlleleFrequencyFromSource#3072,standardError#3073,subStudyDescription#3074,qualityControls#3075,finemappingMethod#3076,credibleSetIndex#3077,credibleSetlog10BF#3078,purityMeanR2#3079,purityMinR2#3080,locusStart#3081,locusEnd#3082,sampleSize#3083,ldSet#3084,locus#3085,... 2 more fields] parquet\n                                                               :           :                    :     :        +- Project [studyId#983 AS rightStudyId#3107, geneId#984, projectId#985, studyType#2967 AS indexStudyType#3108, condition#1008, biosampleId#1012]\n                                                               :           :                    :     :           +- Project [studyId#983, geneId#984, projectId#985, studyType#2967, traitFromSource#987, traitFromSourceMappedIds#988, biosampleFromSourceId#989, pubmedId#990, publicationTitle#991, publicationFirstAuthor#992, publicationDate#993, publicationJournal#994, backgroundTraitFromSourceMappedIds#995, initialSampleSize#996, nCases#997, nControls#998, nSamples#999, cohorts#1000, ldPopulationStructure#1001, discoverySamples#1002, replicationSamples#1003, qualityControls#1004, analysisFlags#1005, summarystatsLocation#1006, ... 6 more fields]\n                                                               :           :                    :     :              +- Project [studyId#983, geneId#984, projectId#985, CASE WHEN isnotnull(newStudyType#1427) THEN newStudyType#1427 ELSE studyType#986 END AS studyType#2967, traitFromSource#987, traitFromSourceMappedIds#988, biosampleFromSourceId#989, pubmedId#990, publicationTitle#991, publicationFirstAuthor#992, publicationDate#993, publicationJournal#994, backgroundTraitFromSourceMappedIds#995, initialSampleSize#996, nCases#997, nControls#998, nSamples#999, cohorts#1000, ldPopulationStructure#1001, discoverySamples#1002, replicationSamples#1003, qualityControls#1004, analysisFlags#1005, summarystatsLocation#1006, ... 7 more fields]\n                                                               :           :                    :     :                 +- Project [studyId#983, geneId#984, projectId#985, studyType#986, traitFromSource#987, traitFromSourceMappedIds#988, biosampleFromSourceId#989, pubmedId#990, publicationTitle#991, publicationFirstAuthor#992, publicationDate#993, publicationJournal#994, backgroundTraitFromSourceMappedIds#995, initialSampleSize#996, nCases#997, nControls#998, nSamples#999, cohorts#1000, ldPopulationStructure#1001, discoverySamples#1002, replicationSamples#1003, qualityControls#1004, analysisFlags#1005, summarystatsLocation#1006, ... 7 more fields]\n                                                               :           :                    :     :                    +- Join LeftOuter, (studyId#983 = studyId#2130)\n                                                               :           :                    :     :                       :- Relation [studyId#983,geneId#984,projectId#985,studyType#986,traitFromSource#987,traitFromSourceMappedIds#988,biosampleFromSourceId#989,pubmedId#990,publicationTitle#991,publicationFirstAuthor#992,publicationDate#993,publicationJournal#994,backgroundTraitFromSourceMappedIds#995,initialSampleSize#996,nCases#997,nControls#998,nSamples#999,cohorts#1000,ldPopulationStructure#1001,discoverySamples#1002,replicationSamples#1003,qualityControls#1004,analysisFlags#1005,summarystatsLocation#1006,... 6 more fields] parquet\n                                                               :           :                    :     :                       +- Project [studyId#2130, newStudyType#1427]\n                                                               :           :                    :     :                          +- Project [studyId#2130, geneId#2131, projectId#2132, studyType#2133, traitFromSource#2134, traitFromSourceMappedIds#2135, biosampleFromSourceId#2136, pubmedId#2137, publicationTitle#2138, publicationFirstAuthor#2139, publicationDate#2140, publicationJournal#2141, backgroundTraitFromSourceMappedIds#2142, initialSampleSize#2143, nCases#2144, nControls#2145, nSamples#2146, cohorts#2147, ldPopulationStructure#2148, discoverySamples#2149, replicationSamples#2150, qualityControls#2151, analysisFlags#2152, summarystatsLocation#2153, ... 7 more fields]\n                                                               :           :                    :     :                             +- Project [extracted_column#1169, study_type#1121, studyId#2130, geneId#2131, projectId#2132, studyType#2133, traitFromSource#2134, traitFromSourceMappedIds#2135, biosampleFromSourceId#2136, pubmedId#2137, publicationTitle#2138, publicationFirstAuthor#2139, publicationDate#2140, publicationJournal#2141, backgroundTraitFromSourceMappedIds#2142, initialSampleSize#2143, nCases#2144, nControls#2145, nSamples#2146, cohorts#2147, ldPopulationStructure#2148, discoverySamples#2149, replicationSamples#2150, qualityControls#2151, ... 10 more fields]\n                                                               :           :                    :     :                                +- Project [extracted_column#1169, study_type#1121, studyId#2130, geneId#2131, projectId#2132, studyType#2133, traitFromSource#2134, traitFromSourceMappedIds#2135, biosampleFromSourceId#2136, pubmedId#2137, publicationTitle#2138, publicationFirstAuthor#2139, publicationDate#2140, publicationJournal#2141, backgroundTraitFromSourceMappedIds#2142, initialSampleSize#2143, nCases#2144, nControls#2145, nSamples#2146, cohorts#2147, ldPopulationStructure#2148, discoverySamples#2149, replicationSamples#2150, qualityControls#2151, ... 9 more fields]\n                                                               :           :                    :     :                                   +- Project [extracted_column#1169, study_type#1121, studyId#2130, geneId#2131, projectId#2132, studyType#2133, traitFromSource#2134, traitFromSourceMappedIds#2135, biosampleFromSourceId#2136, pubmedId#2137, publicationTitle#2138, publicationFirstAuthor#2139, publicationDate#2140, publicationJournal#2141, backgroundTraitFromSourceMappedIds#2142, initialSampleSize#2143, nCases#2144, nControls#2145, nSamples#2146, cohorts#2147, ldPopulationStructure#2148, discoverySamples#2149, replicationSamples#2150, qualityControls#2151, ... 8 more fields]\n                                                               :           :                    :     :                                      +- Join RightOuter, (extracted_column#1133 = extracted_column#1169)\n                                                               :           :                    :     :                                         :- Project [concat_ws(_, study_label#1113, quant_method#1119, sample_group#1114) AS extracted_column#1133, study_type#1121]\n                                                               :           :                    :     :                                         :  +- LogicalRDD [study_id#1111, dataset_id#1112, study_label#1113, sample_group#1114, tissue_id#1115, tissue_label#1116, condition_label#1117, sample_size#1118, quant_method#1119, pmid#1120, study_type#1121], false\n                                                               :           :                    :     :                                         +- Project [studyId#2130, geneId#2131, projectId#2132, studyType#2133, traitFromSource#2134, traitFromSourceMappedIds#2135, biosampleFromSourceId#2136, pubmedId#2137, publicationTitle#2138, publicationFirstAuthor#2139, publicationDate#2140, publicationJournal#2141, backgroundTraitFromSourceMappedIds#2142, initialSampleSize#2143, nCases#2144, nControls#2145, nSamples#2146, cohorts#2147, ldPopulationStructure#2148, discoverySamples#2149, replicationSamples#2150, qualityControls#2151, analysisFlags#2152, summarystatsLocation#2153, ... 7 more fields]\n                                                               :           :                    :     :                                            +- Project [studyId#2130, geneId#2131, projectId#2132, studyType#2133, traitFromSource#2134, traitFromSourceMappedIds#2135, biosampleFromSourceId#2136, pubmedId#2137, publicationTitle#2138, publicationFirstAuthor#2139, publicationDate#2140, publicationJournal#2141, backgroundTraitFromSourceMappedIds#2142, initialSampleSize#2143, nCases#2144, nControls#2145, nSamples#2146, cohorts#2147, ldPopulationStructure#2148, discoverySamples#2149, replicationSamples#2150, qualityControls#2151, analysisFlags#2152, summarystatsLocation#2153, ... 7 more fields]\n                                                               :           :                    :     :                                               +- Filter NOT StartsWith(studyId#2130, UKB_PPP)\n                                                               :           :                    :     :                                                  +- Filter NOT (studyType#2133 = gwas)\n                                                               :           :                    :     :                                                     +- Relation [studyId#2130,geneId#2131,projectId#2132,studyType#2133,traitFromSource#2134,traitFromSourceMappedIds#2135,biosampleFromSourceId#2136,pubmedId#2137,publicationTitle#2138,publicationFirstAuthor#2139,publicationDate#2140,publicationJournal#2141,backgroundTraitFromSourceMappedIds#2142,initialSampleSize#2143,nCases#2144,nControls#2145,nSamples#2146,cohorts#2147,ldPopulationStructure#2148,discoverySamples#2149,replicationSamples#2150,qualityControls#2151,analysisFlags#2152,summarystatsLocation#2153,... 6 more fields] parquet\n                                                               :           :                    :     +- Project [studyLocusId#796 AS leftStudyLocusId#4767, datasourceId#717, targetId#718, datatypeId#747, diseaseFromSourceMappedId#751, resourceScore#787, targetFromSourceId#803, diseaseId#818, id#819, score#820, sourceId#823, studyId#4784, variantId#4785, betaGwas#4427, pValueExponent#4792]\n                                                               :           :                    :        +- Project [studyLocusId#796, datasourceId#717, targetId#718, datatypeId#747, diseaseFromSourceMappedId#751, resourceScore#787, targetFromSourceId#803, diseaseId#818, id#819, score#820, sourceId#823, studyId#4784, variantId#4785, betaGwas#4427, pValueExponent#4792]\n                                                               :           :                    :           +- Join LeftOuter, (studyLocusId#796 = studyLocusId#4783)\n                                                               :           :                    :              :- Project [datasourceId#717, targetId#718, datatypeId#747, diseaseFromSourceMappedId#751, resourceScore#787, studyLocusId#796, targetFromSourceId#803, diseaseId#818, id#819, score#820, sourceId#823]\n                                                               :           :                    :              :  +- Filter (datasourceId#717 = gwas_credible_sets)\n                                                               :           :                    :              :     +- Relation [datasourceId#717,targetId#718,alleleOrigins#719,allelicRequirements#720,ancestry#721,ancestryId#722,assays#723,assessments#724,beta#725,betaConfidenceIntervalLower#726,betaConfidenceIntervalUpper#727,biologicalModelAllelicComposition#728,biologicalModelGeneticBackground#729,biologicalModelId#730,biomarkerList#731,biomarkerName#732,biomarkers#733,biosamplesFromSource#734,cellLineBackground#735,cellType#736,clinicalPhase#737,clinicalSignificances#738,clinicalStatus#739,cohortDescription#740,... 83 more fields] parquet\n                                                               :           :                    :              +- Project [studyLocusId#4783, studyId#4784, variantId#4785, beta#4789 AS betaGwas#4427, pValueExponent#4792]\n                                                               :           :                    :                 +- Relation [studyLocusId#4783,studyId#4784,variantId#4785,chromosome#4786,position#4787,region#4788,beta#4789,zScore#4790,pValueMantissa#4791,pValueExponent#4792,effectAlleleFrequencyFromSource#4793,standardError#4794,subStudyDescription#4795,qualityControls#4796,finemappingMethod#4797,credibleSetIndex#4798,credibleSetlog10BF#4799,purityMeanR2#4800,purityMinR2#4801,locusStart#4802,locusEnd#4803,sampleSize#4804,ldSet#4805,locus#4806,... 2 more fields] parquet\n                                                               :           :                    +- Project [id#687 AS diseaseId#4846, name#691, parents#694, therapeuticAreas#699]\n                                                               :           :                       +- Relation [id#687,code#688,dbXRefs#689,description#690,name#691,directLocationIds#692,obsoleteTerms#693,parents#694,synonyms#695,ancestors#696,descendants#697,children#698,therapeuticAreas#699,indirectLocationIds#700,ontology#701] parquet\n                                                               :           +- Project [targetId#5966, diseaseId#6066, clinicalStudyId#23611, drugId#6003, clinicalPhase#5985, approvedDrug#18011, drugGoF_protect#23633L, LoF_protect#21269L AS drugLoF_protect#23642L]\n                                                               :              +- Project [targetId#5966, diseaseId#6066, clinicalStudyId#23611, drugId#6003, clinicalPhase#5985, approvedDrug#18011, GoF_protect#21268L AS drugGoF_protect#23633L, LoF_protect#21269L]\n                                                               :                 +- Project [targetId#5966, diseaseId#6066, clinicalStudyId#23611, drugId#6003, clinicalPhase#5985, approvedDrug#18011, GoF_protect#21268L, LoF_protect#21269L]\n                                                               :                    +- Filter (coherencyDiagonal#23584 = coherent)\n                                                               :                       +- Project [targetId#5966, diseaseId#6066, studyId#6043 AS clinicalStudyId#23611, drugId#6003, clinicalPhase#5985, approvedDrug#18011, GoF_protect#21268L, LoF_protect#21269L, GoF_risk#21282, LoF_risk#23155, noEvaluable#23359, coherencyDiagonal#23584, coherencyOneCell#23597]\n                                                               :                          +- Project [targetId#5966, diseaseId#6066, studyId#6043, drugId#6003, clinicalPhase#5985, approvedDrug#18011, GoF_protect#21268L, LoF_protect#21269L, GoF_risk#21282, LoF_risk#23155, noEvaluable#23359, coherencyDiagonal#23584, CASE WHEN ((((isnull(LoF_risk#23155) AND isnull(LoF_protect#21269L)) AND isnull(GoF_risk#21282)) AND isnull(GoF_protect#21268L)) AND isnull(noEvaluable#23359)) THEN noEvid WHEN ((((isnull(LoF_risk#23155) AND isnull(LoF_protect#21269L)) AND isnull(GoF_risk#21282)) AND isnull(GoF_protect#21268L)) AND isnotnull(noEvaluable#23359)) THEN EvidNotDoE WHEN (((isnotnull(LoF_risk#23155) OR isnotnull(LoF_protect#21269L)) OR isnotnull(GoF_risk#21282)) OR isnotnull(GoF_protect#21268L)) THEN CASE WHEN (isnotnull(LoF_risk#23155) AND ((isnull(LoF_protect#21269L) AND isnull(GoF_risk#21282)) AND isnull(GoF_protect#21268L))) THEN coherent WHEN (isnotnull(GoF_risk#21282) AND ((isnull(LoF_protect#21269L) AND isnull(LoF_risk#23155)) AND isnull(GoF_protect#21268L))) THEN coherent WHEN (isnotnull(LoF_protect#21269L) AND ((isnull(LoF_risk#23155) AND isnull(GoF_risk#21282)) AND isnull(GoF_protect#21268L))) THEN coherent WHEN (isnotnull(GoF_protect#21268L) AND ((isnull(LoF_protect#21269L) AND isnull(GoF_risk#21282)) AND isnull(LoF_risk#23155))) THEN coherent ELSE dispar END END AS coherencyOneCell#23597]\n                                                               :                             +- Project [targetId#5966, diseaseId#6066, studyId#6043, drugId#6003, clinicalPhase#5985, approvedDrug#18011, GoF_protect#21268L, LoF_protect#21269L, GoF_risk#21282, LoF_risk#23155, noEvaluable#23359, CASE WHEN ((((isnull(LoF_risk#23155) AND isnull(LoF_protect#21269L)) AND isnull(GoF_risk#21282)) AND isnull(GoF_protect#21268L)) AND isnull(noEvaluable#23359)) THEN noEvid WHEN ((((isnull(LoF_risk#23155) AND isnull(LoF_protect#21269L)) AND isnull(GoF_risk#21282)) AND isnull(GoF_protect#21268L)) AND isnotnull(noEvaluable#23359)) THEN EvidNotDoE WHEN (((isnotnull(LoF_risk#23155) OR isnotnull(LoF_protect#21269L)) OR isnotnull(GoF_risk#21282)) OR isnotnull(GoF_protect#21268L)) THEN CASE WHEN (isnotnull(GoF_risk#21282) AND isnotnull(LoF_risk#23155)) THEN dispar WHEN (isnotnull(LoF_protect#21269L) AND isnotnull(LoF_risk#23155)) THEN dispar WHEN (isnotnull(GoF_protect#21268L) AND isnotnull(GoF_risk#21282)) THEN dispar WHEN (isnotnull(GoF_protect#21268L) AND isnotnull(LoF_protect#21269L)) THEN dispar ELSE coherent END END AS coherencyDiagonal#23584]\n                                                               :                                +- Project [targetId#5966, diseaseId#6066, studyId#6043, drugId#6003, clinicalPhase#5985, approvedDrug#18011, GoF_protect#21268L, LoF_protect#21269L, GoF_risk#21282, LoF_risk#23155, null AS noEvaluable#23359]\n                                                               :                                   +- Project [targetId#5966, diseaseId#6066, studyId#6043, drugId#6003, clinicalPhase#5985, approvedDrug#18011, GoF_protect#21268L, LoF_protect#21269L, GoF_risk#21282, null AS LoF_risk#23155]\n                                                               :                                      +- Project [targetId#5966, diseaseId#6066, studyId#6043, drugId#6003, clinicalPhase#5985, approvedDrug#18011, GoF_protect#21268L, LoF_protect#21269L, null AS GoF_risk#21282]\n                                                               :                                         +- Project [targetId#5966, diseaseId#6066, studyId#6043, drugId#6003, clinicalPhase#5985, approvedDrug#18011, __pivot_count(1) AS count AS `count(1) AS count`#21267[0] AS GoF_protect#21268L, __pivot_count(1) AS count AS `count(1) AS count`#21267[1] AS LoF_protect#21269L]\n                                                               :                                            +- Aggregate [targetId#5966, diseaseId#6066, studyId#6043, drugId#6003, clinicalPhase#5985, approvedDrug#18011], [targetId#5966, diseaseId#6066, studyId#6043, drugId#6003, clinicalPhase#5985, approvedDrug#18011, pivotfirst(homogenized#8340, count(1) AS count#21261L, GoF_protect, LoF_protect, 0, 0) AS __pivot_count(1) AS count AS `count(1) AS count`#21267]\n                                                               :                                               +- Aggregate [targetId#5966, diseaseId#6066, studyId#6043, drugId#6003, clinicalPhase#5985, approvedDrug#18011, homogenized#8340], [targetId#5966, diseaseId#6066, studyId#6043, drugId#6003, clinicalPhase#5985, approvedDrug#18011, homogenized#8340, count(1) AS count(1) AS count#21261L]\n                                                               :                                                  +- Project [targetId#5966, diseaseId#6066, drugId#6003, datasourceId#5965, alleleOrigins#5967, allelicRequirements#5968, ancestry#5969, ancestryId#5970, assays#5971, assessments#5972, beta#6842, betaConfidenceIntervalLower#5974, betaConfidenceIntervalUpper#5975, biologicalModelAllelicComposition#5976, biologicalModelGeneticBackground#5977, biologicalModelId#5978, biomarkerList#5979, biomarkerName#5980, biomarkers#5981, biosamplesFromSource#5982, cellLineBackground#5983, cellType#5984, clinicalPhase#5985, clinicalSignificances#7058, ... 98 more fields]\n                                                               :                                                     +- Project [targetId#5966, diseaseId#6066, drugId#6003, datasourceId#5965, alleleOrigins#5967, allelicRequirements#5968, ancestry#5969, ancestryId#5970, assays#5971, assessments#5972, beta#6842, betaConfidenceIntervalLower#5974, betaConfidenceIntervalUpper#5975, biologicalModelAllelicComposition#5976, biologicalModelGeneticBackground#5977, biologicalModelId#5978, biomarkerList#5979, biomarkerName#5980, biomarkers#5981, biosamplesFromSource#5982, cellLineBackground#5983, cellType#5984, clinicalPhase#5985, clinicalSignificances#7058, ... 99 more fields]\n                                                               :                                                        +- Window [max(isApproved#11257) windowspecdefinition(targetId#5966, diseaseId#6066, drugId#6003, specifiedwindowframe(RowFrame, unboundedpreceding$(), unboundedfollowing$())) AS approvedDrug#18011], [targetId#5966, diseaseId#6066, drugId#6003]\n                                                               :                                                           +- Project [targetId#5966, diseaseId#6066, drugId#6003, datasourceId#5965, alleleOrigins#5967, allelicRequirements#5968, ancestry#5969, ancestryId#5970, assays#5971, assessments#5972, beta#6842, betaConfidenceIntervalLower#5974, betaConfidenceIntervalUpper#5975, biologicalModelAllelicComposition#5976, biologicalModelGeneticBackground#5977, biologicalModelId#5978, biomarkerList#5979, biomarkerName#5980, biomarkers#5981, biosamplesFromSource#5982, cellLineBackground#5983, cellType#5984, clinicalPhase#5985, clinicalSignificances#7058, ... 97 more fields]\n                                                               :                                                              +- Project [targetId#5966, diseaseId#6066, drugId#6003, datasourceId#5965, alleleOrigins#5967, allelicRequirements#5968, ancestry#5969, ancestryId#5970, assays#5971, assessments#5972, beta#6842, betaConfidenceIntervalLower#5974, betaConfidenceIntervalUpper#5975, biologicalModelAllelicComposition#5976, biologicalModelGeneticBackground#5977, biologicalModelId#5978, biomarkerList#5979, biomarkerName#5980, biomarkers#5981, biosamplesFromSource#5982, cellLineBackground#5983, cellType#5984, clinicalPhase#5985, clinicalSignificances#7058, ... 97 more fields]\n                                                               :                                                                 +- Join LeftOuter, (((targetId#5966 = targetId#11240) AND (diseaseId#6066 = diseaseId#11242)) AND (drugId#6003 = drugId#11241))\n                                                               :                                                                    :- Filter ((datasourceId#5965 = chembl) AND NOT (homogenized#8340 = noEvaluable))\n                                                               :                                                                    :  +- Project [datasourceId#5965, targetId#5966, alleleOrigins#5967, allelicRequirements#5968, ancestry#5969, ancestryId#5970, assays#5971, assessments#5972, beta#6842, betaConfidenceIntervalLower#5974, betaConfidenceIntervalUpper#5975, biologicalModelAllelicComposition#5976, biologicalModelGeneticBackground#5977, biologicalModelId#5978, biomarkerList#5979, biomarkerName#5980, biomarkers#5981, biosamplesFromSource#5982, cellLineBackground#5983, cellType#5984, clinicalPhase#5985, clinicalSignificances#7058, clinicalStatus#5987, cohortDescription#5988, ... 96 more fields]\n                                                               :                                                                    :     +- Project [datasourceId#5965, targetId#5966, alleleOrigins#5967, allelicRequirements#5968, ancestry#5969, ancestryId#5970, assays#5971, assessments#5972, beta#6842, betaConfidenceIntervalLower#5974, betaConfidenceIntervalUpper#5975, biologicalModelAllelicComposition#5976, biologicalModelGeneticBackground#5977, biologicalModelId#5978, biomarkerList#5979, biomarkerName#5980, biomarkers#5981, biosamplesFromSource#5982, cellLineBackground#5983, cellType#5984, clinicalPhase#5985, clinicalSignificances#7058, clinicalStatus#5987, cohortDescription#5988, ... 95 more fields]\n                                                               :                                                                    :        +- Project [datasourceId#5965, targetId#5966, alleleOrigins#5967, allelicRequirements#5968, ancestry#5969, ancestryId#5970, assays#5971, assessments#5972, beta#6842, betaConfidenceIntervalLower#5974, betaConfidenceIntervalUpper#5975, biologicalModelAllelicComposition#5976, biologicalModelGeneticBackground#5977, biologicalModelId#5978, biomarkerList#5979, biomarkerName#5980, biomarkers#5981, biosamplesFromSource#5982, cellLineBackground#5983, cellType#5984, clinicalPhase#5985, clinicalSignificances#7058, clinicalStatus#5987, cohortDescription#5988, ... 95 more fields]\n                                                               :                                                                    :           +- Project [datasourceId#5965, targetId#5966, alleleOrigins#5967, allelicRequirements#5968, ancestry#5969, ancestryId#5970, assays#5971, assessments#5972, beta#6842, betaConfidenceIntervalLower#5974, betaConfidenceIntervalUpper#5975, biologicalModelAllelicComposition#5976, biologicalModelGeneticBackground#5977, biologicalModelId#5978, biomarkerList#5979, biomarkerName#5980, biomarkers#5981, biosamplesFromSource#5982, cellLineBackground#5983, cellType#5984, clinicalPhase#5985, clinicalSignificances#7058, clinicalStatus#5987, cohortDescription#5988, ... 95 more fields]\n                                                               :                                                                    :              +- Project [datasourceId#5965, targetId#5966, alleleOrigins#5967, allelicRequirements#5968, ancestry#5969, ancestryId#5970, assays#5971, assessments#5972, beta#6842, betaConfidenceIntervalLower#5974, betaConfidenceIntervalUpper#5975, biologicalModelAllelicComposition#5976, biologicalModelGeneticBackground#5977, biologicalModelId#5978, biomarkerList#5979, biomarkerName#5980, biomarkers#5981, biosamplesFromSource#5982, cellLineBackground#5983, cellType#5984, clinicalPhase#5985, clinicalSignificances#7058, clinicalStatus#5987, cohortDescription#5988, ... 96 more fields]\n                                                               :                                                                    :                 +- Window [collect_set(intogen_function#7855, 0, 0) windowspecdefinition(targetId#5966, diseaseId#6066, specifiedwindowframe(RowFrame, unboundedpreceding$(), unboundedfollowing$())) AS _we0#7978], [targetId#5966, diseaseId#6066]\n                                                               :                                                                    :                    +- Project [datasourceId#5965, targetId#5966, alleleOrigins#5967, allelicRequirements#5968, ancestry#5969, ancestryId#5970, assays#5971, assessments#5972, beta#6842, betaConfidenceIntervalLower#5974, betaConfidenceIntervalUpper#5975, biologicalModelAllelicComposition#5976, biologicalModelGeneticBackground#5977, biologicalModelId#5978, biomarkerList#5979, biomarkerName#5980, biomarkers#5981, biosamplesFromSource#5982, cellLineBackground#5983, cellType#5984, clinicalPhase#5985, clinicalSignificances#7058, clinicalStatus#5987, cohortDescription#5988, ... 94 more fields]\n                                                               :                                                                    :                       +- Project [datasourceId#5965, targetId#5966, alleleOrigins#5967, allelicRequirements#5968, ancestry#5969, ancestryId#5970, assays#5971, assessments#5972, beta#6842, betaConfidenceIntervalLower#5974, betaConfidenceIntervalUpper#5975, biologicalModelAllelicComposition#5976, biologicalModelGeneticBackground#5977, biologicalModelId#5978, biomarkerList#5979, biomarkerName#5980, biomarkers#5981, biosamplesFromSource#5982, cellLineBackground#5983, cellType#5984, clinicalPhase#5985, clinicalSignificances#7058, clinicalStatus#5987, cohortDescription#5988, ... 94 more fields]\n                                                               :                                                                    :                          +- Project [datasourceId#5965, targetId#5966, alleleOrigins#5967, allelicRequirements#5968, ancestry#5969, ancestryId#5970, assays#5971, assessments#5972, beta#6842, betaConfidenceIntervalLower#5974, betaConfidenceIntervalUpper#5975, biologicalModelAllelicComposition#5976, biologicalModelGeneticBackground#5977, biologicalModelId#5978, biomarkerList#5979, biomarkerName#5980, biomarkers#5981, biosamplesFromSource#5982, cellLineBackground#5983, cellType#5984, clinicalPhase#5985, clinicalSignificances#7058, clinicalStatus#5987, cohortDescription#5988, ... 93 more fields]\n                                                               :                                                                    :                             +- Project [datasourceId#5965, targetId#5966, alleleOrigins#5967, allelicRequirements#5968, ancestry#5969, ancestryId#5970, assays#5971, assessments#5972, beta#6842, betaConfidenceIntervalLower#5974, betaConfidenceIntervalUpper#5975, biologicalModelAllelicComposition#5976, biologicalModelGeneticBackground#5977, biologicalModelId#5978, biomarkerList#5979, biomarkerName#5980, biomarkers#5981, biosamplesFromSource#5982, cellLineBackground#5983, cellType#5984, clinicalPhase#5985, clinicalSignificances#7058, clinicalStatus#5987, cohortDescription#5988, ... 92 more fields]\n                                                               :                                                                    :                                +- Join LeftOuter, ((drugId2#6786 = drugId#6003) AND (targetId2#6793 = targetId#5966))\n                                                               :                                                                    :                                   :- Join LeftOuter, (target_id#6836 = targetId#5966)\n                                                               :                                                                    :                                   :  :- Project [datasourceId#5965, targetId#5966, alleleOrigins#5967, allelicRequirements#5968, ancestry#5969, ancestryId#5970, assays#5971, assessments#5972, beta#6842, betaConfidenceIntervalLower#5974, betaConfidenceIntervalUpper#5975, biologicalModelAllelicComposition#5976, biologicalModelGeneticBackground#5977, biologicalModelId#5978, biomarkerList#5979, biomarkerName#5980, biomarkers#5981, biosamplesFromSource#5982, cellLineBackground#5983, cellType#5984, clinicalPhase#5985, concat_ws(,, clinicalSignificances#5986) AS clinicalSignificances#7058, clinicalStatus#5987, cohortDescription#5988, ... 83 more fields]\n                                                               :                                                                    :                                   :  :  +- Project [datasourceId#5965, targetId#5966, alleleOrigins#5967, allelicRequirements#5968, ancestry#5969, ancestryId#5970, assays#5971, assessments#5972, beta#6842, betaConfidenceIntervalLower#5974, betaConfidenceIntervalUpper#5975, biologicalModelAllelicComposition#5976, biologicalModelGeneticBackground#5977, biologicalModelId#5978, biomarkerList#5979, biomarkerName#5980, biomarkers#5981, biosamplesFromSource#5982, cellLineBackground#5983, cellType#5984, clinicalPhase#5985, clinicalSignificances#5986, clinicalStatus#5987, cohortDescription#5988, ... 83 more fields]\n                                                               :                                                                    :                                   :  :     +- Project [datasourceId#5965, targetId#5966, alleleOrigins#5967, allelicRequirements#5968, ancestry#5969, ancestryId#5970, assays#5971, assessments#5972, cast(beta#5973 as double) AS beta#6842, betaConfidenceIntervalLower#5974, betaConfidenceIntervalUpper#5975, biologicalModelAllelicComposition#5976, biologicalModelGeneticBackground#5977, biologicalModelId#5978, biomarkerList#5979, biomarkerName#5980, biomarkers#5981, biosamplesFromSource#5982, cellLineBackground#5983, cellType#5984, clinicalPhase#5985, clinicalSignificances#5986, clinicalStatus#5987, cohortDescription#5988, ... 83 more fields]\n                                                               :                                                                    :                                   :  :        +- Filter datasourceId#5965 IN (ot_genetics_portal,gwas_credible_sets,gene_burden,eva,eva_somatic,gene2phenotype,orphanet,cancer_gene_census,intogen,impc,chembl)\n                                                               :                                                                    :                                   :  :           +- Relation [datasourceId#5965,targetId#5966,alleleOrigins#5967,allelicRequirements#5968,ancestry#5969,ancestryId#5970,assays#5971,assessments#5972,beta#5973,betaConfidenceIntervalLower#5974,betaConfidenceIntervalUpper#5975,biologicalModelAllelicComposition#5976,biologicalModelGeneticBackground#5977,biologicalModelId#5978,biomarkerList#5979,biomarkerName#5980,biomarkers#5981,biosamplesFromSource#5982,cellLineBackground#5983,cellType#5984,clinicalPhase#5985,clinicalSignificances#5986,clinicalStatus#5987,cohortDescription#5988,... 83 more fields] parquet\n                                                               :                                                                    :                                   :  +- Project [id#6715 AS target_id#6836, approvedSymbol#6716, description#6821, description_splited#6825, TSorOncogene#6830]\n                                                               :                                                                    :                                   :     +- Project [id#6715, approvedSymbol#6716, description#6821, description_splited#6825, CASE WHEN (RLIKE(description_splited#6825, ncogene) AND RLIKE(description_splited#6825, TSG)) THEN bivalent WHEN RLIKE(description_splited#6825, ncogene(\\s|$)) THEN oncogene WHEN RLIKE(description_splited#6825, TSG(\\s|$)) THEN TSG ELSE noEvaluable END AS TSorOncogene#6830]\n                                                               :                                                                    :                                   :        +- Project [id#6715, approvedSymbol#6716, description#6821, concat_ws(,, description#6821) AS description_splited#6825]\n                                                               :                                                                    :                                   :           +- Aggregate [id#6715, approvedSymbol#6716], [id#6715, approvedSymbol#6716, collect_set(description#6813, 0, 0) AS description#6821]\n                                                               :                                                                    :                                   :              +- Filter description#6813 IN (TSG,oncogene,Oncogene,oncogene,oncogene,TSG,TSG,oncogene,fusion,oncogene,oncogene,fusion)\n                                                               :                                                                    :                                   :                 +- Project [id#6715, approvedSymbol#6716, col#6808.description AS description#6813]\n                                                               :                                                                    :                                   :                    +- Project [id#6715, approvedSymbol#6716, col#6808]\n                                                               :                                                                    :                                   :                       +- Generate explode(hallmarks#6725.attributes), true, [col#6808]\n                                                               :                                                                    :                                   :                          +- Relation [id#6715,approvedSymbol#6716,biotype#6717,transcriptIds#6718,canonicalTranscript#6719,canonicalExons#6720,genomicLocation#6721,alternativeGenes#6722,approvedName#6723,go#6724,hallmarks#6725,synonyms#6726,symbolSynonyms#6727,nameSynonyms#6728,functionDescriptions#6729,subcellularLocations#6730,targetClass#6731,obsoleteSymbols#6732,obsoleteNames#6733,constraint#6734,tep#6735,proteinIds#6736,dbXrefs#6737,chemicalProbes#6738,... 4 more fields] parquet\n                                                               :                                                                    :                                   +- Aggregate [targetId2#6793, drugId2#6786], [targetId2#6793, drugId2#6786, collect_set(actionType#6771, 0, 0) AS actionType#6803]\n                                                               :                                                                    :                                      +- Project [targetId2#6793, drugId2#6786, actionType#6771, mechanismOfAction#6772]\n                                                               :                                                                    :                                         +- Generate explode(targets#6776), true, [targetId2#6793]\n                                                               :                                                                    :                                            +- Project [drugId2#6786, actionType#6771, mechanismOfAction#6772, targets#6776]\n                                                               :                                                                    :                                               +- Generate explode(chemblIds#6773), true, [drugId2#6786]\n                                                               :                                                                    :                                                  +- Relation [actionType#6771,mechanismOfAction#6772,chemblIds#6773,targetName#6774,targetType#6775,targets#6776,references#6777] parquet\n                                                               :                                                                    +- Filter (isApproved#11257 = 1)\n                                                               :                                                                       +- Deduplicate [targetId#11240, drugId#11241, diseaseId#11242, isApproved#11257]\n                                                               :                                                                          +- Project [targetId#11240, drugId#11241, diseaseId#11242, CASE WHEN (isApproved#11244 = cast(true as boolean)) THEN 1 ELSE 0 END AS isApproved#11257]\n                                                               :                                                                             +- Project [targetId#11240, drugId#11241, diseaseId#11242, isApproved#11244]\n                                                               :                                                                                +- Relation [targetId#11240,drugId#11241,diseaseId#11242,clinicalTrialId#11243,isApproved#11244,isComplex#11245] parquet\n                                                               +- Project [biosampleId#1093, biosampleName#1094]\n                                                                  +- Relation [biosampleId#1093,biosampleName#1094,description#1095,xrefs#1096,synonyms#1097,parents#1098,ancestors#1099,children#1100,descendants#1101] parquet\n"
     ]
    }
   ],
   "source": [
    "import numpy as np\n",
    "def convertTuple(tup):\n",
    "    st = \",\".join(map(str, tup))\n",
    "    return st\n",
    "from scipy.stats import fisher_exact\n",
    "from scipy.stats.contingency import odds_ratio\n",
    "from pyspark.sql.types import *\n",
    "\n",
    "#### columsn to groupBy - introduce a dictionary for trying different list \n",
    "partitionByPValue=[\"targetId\", \"diseaseId\", \"rightStudyType\"]\n",
    "\n",
    "#### description of groups to make groupBy\n",
    "## partitionForPhase\n",
    "groupPhase1 = [\"targetId\",\"diseaseId\"]\n",
    "groupPhase2 = [\"targetId\",\"diseaseId\",\"clinicalPhase\"]\n",
    "groupPhase3 = [\"targetId\",\"diseaseId\",\"clinicalStudyId\"] \n",
    "groupPhase4 = [\"targetId\",\"diseaseId\",\"clinicalPhase\",\"clinicalStudyId\"] ## will take each clinical phase and study\n",
    "groupPhase5 = [\"targetId\",\"diseaseId\",\"clinicalPhase\",\"clinicalStudyId\",\"drugId\"] ## will take max clin phase for DrugId, clinical phase and clnical study\n",
    "groupPhase6 = [\"targetId\",\"diseaseId\",\"clinicalPhase\",\"drugId\"] ## will take each max clinical phase per drugId\n",
    "groupPhase7 = [\"targetId\",\"diseaseId\",\"drugId\"]\n",
    "\n",
    "group_phases = {\n",
    "        \"targetIdDiseaseID\": groupPhase1,\n",
    "    \"clinicalPhase\": groupPhase2,\n",
    "    \"clinicalStudy\": groupPhase3,\n",
    "    \"clinicalPhase&ClinicalStudy\": groupPhase4,\n",
    "    \"clinicalPhaseClinicalStudyIdDrugId\": groupPhase5,\n",
    "    \"clinicalPhaseDrugId\": groupPhase6,\n",
    "    \"drugId\": groupPhase7,\n",
    "\n",
    "}\n",
    "\n",
    "## partitionForRows\n",
    "groupPhase1 = [\"targetId\",\"diseaseId\",\"clinicalPhase\"]\n",
    "groupPhase2 = [\"targetId\",\"diseaseId\",\"clinicalPhase\",\"clinicalStudyId\"] ## will take each clinical phase and study\n",
    "groupPhase3 = [\"targetId\",\"diseaseId\",\"clinicalPhase\",\"clinicalStudyId\",\"drugId\"] ## will take max clin phase for DrugId, clinical phase and clnical study\n",
    "groupPhase4 = [\"targetId\",\"diseaseId\",\"clinicalPhase\",\"drugId\"] ## will take each max clinical phase per drugId\n",
    "# same groups but containing approved \n",
    "groupPhase5 = [\"targetId\",\"diseaseId\",\"clinicalPhase\",\"approved_l\"]\n",
    "groupPhase6 = [\"targetId\",\"diseaseId\",\"clinicalPhase\",\"clinicalStudyId\",\"approved_l\"] ## will take each clinical phase and study\n",
    "groupPhase7 = [\"targetId\",\"diseaseId\",\"clinicalPhase\",\"clinicalStudyId\",\"drugId\",\"approved_l\"] ## will take max clin phase for DrugId, clinical phase and clnical study\n",
    "groupPhase8 = [\"targetId\",\"diseaseId\",\"clinicalPhase\",\"drugId\",\"approved_l\"] ## will take each max clinical phase per drugId\n",
    "\n",
    "group_rows = {\n",
    "    \"clinicalPhase\": groupPhase1,\n",
    "    \"clinicalPhaseClinicalStudyId\": groupPhase2,\n",
    "    \"clinicalPhaseClinicalStudyIdDrugId\": groupPhase3,\n",
    "    \"clinicalPhaseDrugId\": groupPhase4,\n",
    "    \"clinicalPhaseApproved_l\": groupPhase5,\n",
    "    \"clinicalPhaseClinicalStudyIdApproved_l\": groupPhase6,\n",
    "    \"clinicalPhaseClinicalStudyIdDrugIdApproved_l\": groupPhase7,\n",
    "    \"clinicalPhaseDrugIdApproved_l\": groupPhase8,\n",
    "\n",
    "}\n",
    "\n",
    "value_analysis=[\"pqtl\",\"eqtl\",\"sqtl\"]\n",
    "### define the window to order for taking pValue \n",
    "window_spec = Window.partitionBy(*partitionByPValue).orderBy(F.col(\"pValueExponent\").asc())\n",
    "results=[]\n",
    "\n",
    "for value in value_analysis:\n",
    "    # Iterate over group mapping\n",
    "    for group_phase, group_phase_columns in group_phases.items():\n",
    "        print(\"making group phases:\", group_phase_columns)\n",
    "        for group_row, group_rows_columns in group_rows.items():\n",
    "                print(\"making group rows:\", group_rows_columns)\n",
    "                x = value\n",
    "                print(value,x)\n",
    "\n",
    "                if \"approved_l\" in group_rows_columns: \n",
    "                        \n",
    "                        pre=new_benchmark.withColumn(\"approved_l\", F.when(F.col(\"approvedDrug\")==1, F.lit(\"yes\")).otherwise(F.lit(\"no\"))\n",
    "                                ).filter(F.col(\"clinicalStudyId\").isNotNull()\n",
    "                                ).withColumn(\"agree_lowestPval\", F.first(\"AgreeDrug\").over(window_spec)\n",
    "                                ).withColumn(\n",
    "                                \"clinicalPhase\", ### no longer maxclinphase for T-D\n",
    "                                F.max(\"clinicalPhase\").over(Window.partitionBy(*group_phase_columns))\n",
    "                                ).withColumn(\n",
    "                                \"approved\", ### no longer maxclinphase for T-D\n",
    "                                F.max(\"approvedDrug\").over(Window.partitionBy(*group_phase_columns))\n",
    "                                ).groupBy(*group_rows_columns).pivot(\"rightStudyType\").agg(F.collect_set(\"agree_lowestPVal\")\n",
    "                                ).withColumn(\n",
    "                                        \"Phase4\",\n",
    "                                        F.when(F.col(\"clinicalPhase\") == 4, F.lit(\"yes\")).otherwise(F.lit(\"no\"))\n",
    "                                ).withColumn(\n",
    "                                        \"Phase>=3\",\n",
    "                                        F.when(F.col(\"clinicalPhase\") >= 3, F.lit(\"yes\")).otherwise(F.lit(\"no\")),\n",
    "                                ).withColumn(\n",
    "                                        \"Phase>=2\",\n",
    "                                        F.when(F.col(\"clinicalPhase\") >= 2, F.lit(\"yes\")).otherwise(F.lit(\"no\")),\n",
    "                                ).withColumn(\n",
    "                                        \"Phase>=1\",\n",
    "                                        F.when(F.col(\"clinicalPhase\") >= 1, F.lit(\"yes\")).otherwise(F.lit(\"no\")),\n",
    "                                ).withColumn(\n",
    "                                        \"approved\",\n",
    "                                                F.when(F.col(\"approved\")==1, F.lit(\"yes\")).otherwise(F.lit(\"no\")),\n",
    "                                ).withColumn(\n",
    "                                        x, \n",
    "                                        F.when(F.array_contains(F.col(x),\"yes\"), F.lit(\"yes\")).otherwise(F.lit(\"no\"))\n",
    "                                ).persist()\n",
    "                        for phase in [\"Phase4\",\"approved\"]:\n",
    "                                \n",
    "                                print(\"groupby for\", phase)\n",
    "                                #pre.groupBy(x).pivot(phase).count().select(x,\"yes\",\"no\").sort(F.col(x).desc()).show()\n",
    "\n",
    "                                array1 = np.delete(pre.groupBy(x).pivot(phase).count().select(x,\"yes\",\"no\").sort(F.col(x).desc())\n",
    "                                .fillna(0)\n",
    "                                .toPandas()\n",
    "                                .to_numpy(),\n",
    "                                [0],\n",
    "                                1,\n",
    "                                )\n",
    "                                total = np.sum(array1)\n",
    "                                res_npPhaseX = np.array(array1, dtype=int)\n",
    "                                resX = convertTuple(fisher_exact(res_npPhaseX, alternative=\"two-sided\"))\n",
    "                                resx_CI = convertTuple(\n",
    "                                odds_ratio(res_npPhaseX).confidence_interval(confidence_level=0.95)\n",
    "                                )\n",
    "                                print(round(float(resX.split(\",\")[0]), 2),float(resX.split(\",\")[1]),\n",
    "                                round(float(resx_CI.split(\",\")[0]), 2),\n",
    "                                round(float(resx_CI.split(\",\")[1]), 2))\n",
    "                                print(\"\\n\")\n",
    "                                results.append([\n",
    "                                        partitionByPValue,\n",
    "                                        group_phase,\n",
    "                                        group_row,\n",
    "                                        phase,\n",
    "                                        x,\n",
    "                                        round(float(resX.split(\",\")[0]), 2), ## OR\n",
    "                                        float(resX.split(\",\")[1]), ## pValue\n",
    "                                        round(float(resx_CI.split(\",\")[0]), 2), ## Low CI\n",
    "                                        round(float(resx_CI.split(\",\")[1]), 2), ## High CI\n",
    "                                        total,\n",
    "                                        array1])\n",
    "                        pre.unpersist()\n",
    "                else:\n",
    "                        pre=new_benchmark.withColumn(\"approved_l\", F.when(F.col(\"approvedDrug\")==1, F.lit(\"yes\")).otherwise(F.lit(\"no\"))\n",
    "                        ).filter(F.col(\"clinicalStudyId\").isNotNull()\n",
    "                        ).withColumn(\"agree_lowestPval\", F.first(\"AgreeDrug\").over(window_spec)\n",
    "                        ).withColumn(\n",
    "                        \"clinicalPhase\", ### no longer maxclinphase for T-D\n",
    "                        F.max(\"clinicalPhase\").over(Window.partitionBy(*group_phase_columns))\n",
    "                        ).groupBy(*group_rows_columns).pivot(\"rightStudyType\").agg(F.collect_set(\"agree_lowestPVal\")\n",
    "                        ).withColumn(\n",
    "                                \"Phase4\",\n",
    "                                F.when(F.col(\"clinicalPhase\") == 4, F.lit(\"yes\")).otherwise(F.lit(\"no\"))\n",
    "                        ).withColumn(\n",
    "                                \"Phase>=3\",\n",
    "                                F.when(F.col(\"clinicalPhase\") >= 3, F.lit(\"yes\")).otherwise(F.lit(\"no\")),\n",
    "                        ).withColumn(\n",
    "                                \"Phase>=2\",\n",
    "                                F.when(F.col(\"clinicalPhase\") >= 2, F.lit(\"yes\")).otherwise(F.lit(\"no\")),\n",
    "                        ).withColumn(\n",
    "                                \"Phase>=1\",\n",
    "                                F.when(F.col(\"clinicalPhase\") >= 1, F.lit(\"yes\")).otherwise(F.lit(\"no\")),\n",
    "                        ).withColumn(\n",
    "                                x, \n",
    "                                F.when(F.array_contains(F.col(x),\"yes\"), F.lit(\"yes\")).otherwise(F.lit(\"no\"))\n",
    "                        ).persist()\n",
    "                        for phase in [\"Phase4\"]:\n",
    "                                \n",
    "                                print(\"groupby for\", phase)\n",
    "                                #pre.groupBy(x).pivot(phase).count().select(x,\"yes\",\"no\").sort(F.col(x).desc()).show()\n",
    "\n",
    "                                array1 = np.delete(pre.groupBy(x).pivot(phase).count().select(x,\"yes\",\"no\").sort(F.col(x).desc())\n",
    "                                .fillna(0)\n",
    "                                .toPandas()\n",
    "                                .to_numpy(),\n",
    "                                [0],\n",
    "                                1,\n",
    "                                )\n",
    "                                total = np.sum(array1)\n",
    "                                res_npPhaseX = np.array(array1, dtype=int)\n",
    "                                resX = convertTuple(fisher_exact(res_npPhaseX, alternative=\"two-sided\"))\n",
    "                                resx_CI = convertTuple(\n",
    "                                odds_ratio(res_npPhaseX).confidence_interval(confidence_level=0.95)\n",
    "                                )\n",
    "                                print(round(float(resX.split(\",\")[0]), 2),float(resX.split(\",\")[1]),\n",
    "                                round(float(resx_CI.split(\",\")[0]), 2),\n",
    "                                round(float(resx_CI.split(\",\")[1]), 2))\n",
    "                                print(\"\\n\")\n",
    "                                results.append([\n",
    "                                        partitionByPValue,\n",
    "                                        group_phase,\n",
    "                                        group_row,\n",
    "                                        phase,\n",
    "                                        x,\n",
    "                                        round(float(resX.split(\",\")[0]), 2), ## OR\n",
    "                                        float(resX.split(\",\")[1]), ## pValue\n",
    "                                        round(float(resx_CI.split(\",\")[0]), 2), ## Low CI\n",
    "                                        round(float(resx_CI.split(\",\")[1]), 2), ## High CI\n",
    "                                        total,\n",
    "                                        array1])\n",
    "                        pre.unpersist()\n",
    "df = pd.DataFrame(\n",
    "results,\n",
    "columns=[\"partitionByPValue\",\n",
    "        \"partitionForPhase\",\n",
    "        \"groupByForRows\",\n",
    "        \"phase\",\n",
    "        \"x\",\n",
    "        \"OR\",\n",
    "        \"pValue\",\n",
    "        \"LowCI\",\n",
    "        \"HighCI\",\n",
    "        \"total\",\n",
    "        \"array\"\n",
    "\n",
    "],\n",
    ")"
   ]
  },
  {
   "cell_type": "code",
   "execution_count": 10,
   "metadata": {},
   "outputs": [
    {
     "data": {
      "text/html": [
       "<div>\n",
       "<style scoped>\n",
       "    .dataframe tbody tr th:only-of-type {\n",
       "        vertical-align: middle;\n",
       "    }\n",
       "\n",
       "    .dataframe tbody tr th {\n",
       "        vertical-align: top;\n",
       "    }\n",
       "\n",
       "    .dataframe thead th {\n",
       "        text-align: right;\n",
       "    }\n",
       "</style>\n",
       "<table border=\"1\" class=\"dataframe\">\n",
       "  <thead>\n",
       "    <tr style=\"text-align: right;\">\n",
       "      <th></th>\n",
       "      <th>partitionByPValue</th>\n",
       "      <th>partitionForPhase</th>\n",
       "      <th>groupByForRows</th>\n",
       "      <th>phase</th>\n",
       "      <th>x</th>\n",
       "      <th>OR</th>\n",
       "      <th>pValue</th>\n",
       "      <th>LowCI</th>\n",
       "      <th>HighCI</th>\n",
       "      <th>total</th>\n",
       "      <th>array</th>\n",
       "    </tr>\n",
       "  </thead>\n",
       "  <tbody>\n",
       "    <tr>\n",
       "      <th>0</th>\n",
       "      <td>[targetId, diseaseId, rightStudyType]</td>\n",
       "      <td>[targetId, diseaseId]</td>\n",
       "      <td>[targetId, diseaseId, clinicalStudyId, clinica...</td>\n",
       "      <td>Phase4</td>\n",
       "      <td>pqtl</td>\n",
       "      <td>1.10</td>\n",
       "      <td>0.741089</td>\n",
       "      <td>0.70</td>\n",
       "      <td>1.81</td>\n",
       "      <td>4333</td>\n",
       "      <td>[[290, 22], [3711, 310]]</td>\n",
       "    </tr>\n",
       "    <tr>\n",
       "      <th>1</th>\n",
       "      <td>[targetId, diseaseId, rightStudyType]</td>\n",
       "      <td>[targetId, diseaseId]</td>\n",
       "      <td>[targetId, diseaseId, clinicalStudyId, clinica...</td>\n",
       "      <td>Phase4</td>\n",
       "      <td>eqtl</td>\n",
       "      <td>1.38</td>\n",
       "      <td>0.006557</td>\n",
       "      <td>1.09</td>\n",
       "      <td>1.76</td>\n",
       "      <td>4333</td>\n",
       "      <td>[[1718, 117], [2283, 215]]</td>\n",
       "    </tr>\n",
       "    <tr>\n",
       "      <th>2</th>\n",
       "      <td>[targetId, diseaseId, rightStudyType]</td>\n",
       "      <td>[targetId, diseaseId]</td>\n",
       "      <td>[targetId, diseaseId, clinicalStudyId, clinica...</td>\n",
       "      <td>Phase4</td>\n",
       "      <td>sqtl</td>\n",
       "      <td>1.39</td>\n",
       "      <td>0.138676</td>\n",
       "      <td>0.92</td>\n",
       "      <td>2.16</td>\n",
       "      <td>4333</td>\n",
       "      <td>[[437, 27], [3564, 305]]</td>\n",
       "    </tr>\n",
       "  </tbody>\n",
       "</table>\n",
       "</div>"
      ],
      "text/plain": [
       "                       partitionByPValue      partitionForPhase  \\\n",
       "0  [targetId, diseaseId, rightStudyType]  [targetId, diseaseId]   \n",
       "1  [targetId, diseaseId, rightStudyType]  [targetId, diseaseId]   \n",
       "2  [targetId, diseaseId, rightStudyType]  [targetId, diseaseId]   \n",
       "\n",
       "                                      groupByForRows   phase     x    OR  \\\n",
       "0  [targetId, diseaseId, clinicalStudyId, clinica...  Phase4  pqtl  1.10   \n",
       "1  [targetId, diseaseId, clinicalStudyId, clinica...  Phase4  eqtl  1.38   \n",
       "2  [targetId, diseaseId, clinicalStudyId, clinica...  Phase4  sqtl  1.39   \n",
       "\n",
       "     pValue  LowCI  HighCI  total                       array  \n",
       "0  0.741089   0.70    1.81   4333    [[290, 22], [3711, 310]]  \n",
       "1  0.006557   1.09    1.76   4333  [[1718, 117], [2283, 215]]  \n",
       "2  0.138676   0.92    2.16   4333    [[437, 27], [3564, 305]]  "
      ]
     },
     "execution_count": 10,
     "metadata": {},
     "output_type": "execute_result"
    }
   ],
   "source": [
    "df"
   ]
  },
  {
   "cell_type": "code",
   "execution_count": 22,
   "metadata": {},
   "outputs": [
    {
     "name": "stdout",
     "output_type": "stream",
     "text": [
      "Processing group: group1 with variables: ['targetId', 'diseaseId', 'maxClinPhase_TD']\n",
      "['targetId', 'diseaseId'] for pqtl\n"
     ]
    },
    {
     "name": "stderr",
     "output_type": "stream",
     "text": [
      "                                                                                \r"
     ]
    },
    {
     "name": "stdout",
     "output_type": "stream",
     "text": [
      "groupby for just phase 4 because it does not have approvedDrug columns\n"
     ]
    },
    {
     "name": "stderr",
     "output_type": "stream",
     "text": [
      "                                                                                \r"
     ]
    },
    {
     "name": "stdout",
     "output_type": "stream",
     "text": [
      "+----+---+---+\n",
      "|pqtl|yes| no|\n",
      "+----+---+---+\n",
      "| yes| 16|  9|\n",
      "|  no| 58| 84|\n",
      "+----+---+---+\n",
      "\n"
     ]
    },
    {
     "name": "stderr",
     "output_type": "stream",
     "text": [
      "                                                                                \r"
     ]
    },
    {
     "name": "stdout",
     "output_type": "stream",
     "text": [
      "2.57 0.04795664956148016 0.99 7.05\n",
      "\n",
      "\n",
      "Processing group: group2 with variables: ['targetId', 'diseaseId', 'clinicalStudyId', 'clinicalPhase', 'maxClinPhase_TD', 'approvedDrug']\n",
      "['targetId', 'diseaseId', 'clinicalStudyId', 'clinicalPhase'] for pqtl\n"
     ]
    },
    {
     "name": "stderr",
     "output_type": "stream",
     "text": [
      "                                                                                \r"
     ]
    },
    {
     "name": "stdout",
     "output_type": "stream",
     "text": [
      "groupby for Phase4\n"
     ]
    },
    {
     "name": "stderr",
     "output_type": "stream",
     "text": [
      "                                                                                \r"
     ]
    },
    {
     "name": "stdout",
     "output_type": "stream",
     "text": [
      "+----+----+----+\n",
      "|pqtl| yes|  no|\n",
      "+----+----+----+\n",
      "| yes|  48| 264|\n",
      "|  no|1217|3100|\n",
      "+----+----+----+\n",
      "\n"
     ]
    },
    {
     "name": "stderr",
     "output_type": "stream",
     "text": [
      "                                                                                \r"
     ]
    },
    {
     "name": "stdout",
     "output_type": "stream",
     "text": [
      "0.46 3.370334268822121e-07 0.33 0.64\n",
      "\n",
      "\n",
      "groupby for approved\n"
     ]
    },
    {
     "name": "stderr",
     "output_type": "stream",
     "text": [
      "                                                                                \r"
     ]
    },
    {
     "name": "stdout",
     "output_type": "stream",
     "text": [
      "+----+----+----+\n",
      "|pqtl| yes|  no|\n",
      "+----+----+----+\n",
      "| yes| 146| 166|\n",
      "|  no|3160|1157|\n",
      "+----+----+----+\n",
      "\n"
     ]
    },
    {
     "name": "stderr",
     "output_type": "stream",
     "text": [
      "                                                                                \r"
     ]
    },
    {
     "name": "stdout",
     "output_type": "stream",
     "text": [
      "0.32 3.1267369103605534e-21 0.25 0.41\n",
      "\n",
      "\n",
      "Processing group: group3 with variables: ['targetId', 'diseaseId', 'maxClinPhase_TD', 'approvedDrug']\n",
      "['targetId', 'diseaseId'] for pqtl\n"
     ]
    },
    {
     "name": "stderr",
     "output_type": "stream",
     "text": [
      "                                                                                \r"
     ]
    },
    {
     "name": "stdout",
     "output_type": "stream",
     "text": [
      "groupby for Phase4\n"
     ]
    },
    {
     "name": "stderr",
     "output_type": "stream",
     "text": [
      "                                                                                \r"
     ]
    },
    {
     "name": "stdout",
     "output_type": "stream",
     "text": [
      "+----+---+---+\n",
      "|pqtl|yes| no|\n",
      "+----+---+---+\n",
      "| yes| 24| 10|\n",
      "|  no| 87| 87|\n",
      "+----+---+---+\n",
      "\n"
     ]
    },
    {
     "name": "stderr",
     "output_type": "stream",
     "text": [
      "                                                                                \r"
     ]
    },
    {
     "name": "stdout",
     "output_type": "stream",
     "text": [
      "2.4 0.03783216519580829 1.03 5.95\n",
      "\n",
      "\n",
      "groupby for approved\n"
     ]
    },
    {
     "name": "stderr",
     "output_type": "stream",
     "text": [
      "                                                                                \r"
     ]
    },
    {
     "name": "stdout",
     "output_type": "stream",
     "text": [
      "+----+---+---+\n",
      "|pqtl|yes| no|\n",
      "+----+---+---+\n",
      "| yes| 10| 24|\n",
      "|  no| 39|135|\n",
      "+----+---+---+\n",
      "\n"
     ]
    },
    {
     "name": "stderr",
     "output_type": "stream",
     "text": [
      "                                                                                \r"
     ]
    },
    {
     "name": "stdout",
     "output_type": "stream",
     "text": [
      "1.44 0.382535727470141 0.56 3.45\n",
      "\n",
      "\n",
      "Processing group: group4 with variables: ['targetId', 'diseaseId', 'drugId', 'maxClinPhase_TD', 'approvedDrug']\n",
      "['targetId', 'diseaseId', 'drugId'] for pqtl\n"
     ]
    },
    {
     "name": "stderr",
     "output_type": "stream",
     "text": [
      "                                                                                \r"
     ]
    },
    {
     "name": "stdout",
     "output_type": "stream",
     "text": [
      "groupby for Phase4\n"
     ]
    },
    {
     "name": "stderr",
     "output_type": "stream",
     "text": [
      "                                                                                \r"
     ]
    },
    {
     "name": "stdout",
     "output_type": "stream",
     "text": [
      "+----+---+---+\n",
      "|pqtl|yes| no|\n",
      "+----+---+---+\n",
      "| yes| 26| 43|\n",
      "|  no|182|291|\n",
      "+----+---+---+\n",
      "\n"
     ]
    },
    {
     "name": "stderr",
     "output_type": "stream",
     "text": [
      "                                                                                \r"
     ]
    },
    {
     "name": "stdout",
     "output_type": "stream",
     "text": [
      "0.97 1.0 0.55 1.67\n",
      "\n",
      "\n",
      "groupby for approved\n"
     ]
    },
    {
     "name": "stderr",
     "output_type": "stream",
     "text": [
      "                                                                                \r"
     ]
    },
    {
     "name": "stdout",
     "output_type": "stream",
     "text": [
      "+----+---+---+\n",
      "|pqtl|yes| no|\n",
      "+----+---+---+\n",
      "| yes| 20| 49|\n",
      "|  no|139|334|\n",
      "+----+---+---+\n",
      "\n"
     ]
    },
    {
     "name": "stderr",
     "output_type": "stream",
     "text": [
      "                                                                                \r"
     ]
    },
    {
     "name": "stdout",
     "output_type": "stream",
     "text": [
      "0.98 1.0 0.53 1.75\n",
      "\n",
      "\n",
      "Processing group: group5 with variables: ['targetId', 'diseaseId', 'drugId', 'clinicalStudyId', 'maxClinPhase_TD', 'approvedDrug']\n",
      "['targetId', 'diseaseId', 'drugId', 'clinicalStudyId'] for pqtl\n"
     ]
    },
    {
     "name": "stderr",
     "output_type": "stream",
     "text": [
      "                                                                                \r"
     ]
    },
    {
     "name": "stdout",
     "output_type": "stream",
     "text": [
      "groupby for Phase4\n"
     ]
    },
    {
     "name": "stderr",
     "output_type": "stream",
     "text": [
      "                                                                                \r"
     ]
    },
    {
     "name": "stdout",
     "output_type": "stream",
     "text": [
      "+----+----+----+\n",
      "|pqtl| yes|  no|\n",
      "+----+----+----+\n",
      "| yes|  53| 269|\n",
      "|  no|1383|3455|\n",
      "+----+----+----+\n",
      "\n"
     ]
    },
    {
     "name": "stderr",
     "output_type": "stream",
     "text": [
      "                                                                                \r"
     ]
    },
    {
     "name": "stdout",
     "output_type": "stream",
     "text": [
      "0.49 1.2493302270554325e-06 0.36 0.67\n",
      "\n",
      "\n",
      "groupby for approved\n"
     ]
    },
    {
     "name": "stderr",
     "output_type": "stream",
     "text": [
      "                                                                                \r"
     ]
    },
    {
     "name": "stdout",
     "output_type": "stream",
     "text": [
      "+----+----+----+\n",
      "|pqtl| yes|  no|\n",
      "+----+----+----+\n",
      "| yes| 153| 169|\n",
      "|  no|3531|1307|\n",
      "+----+----+----+\n",
      "\n"
     ]
    },
    {
     "name": "stderr",
     "output_type": "stream",
     "text": [
      "                                                                                \r"
     ]
    },
    {
     "name": "stdout",
     "output_type": "stream",
     "text": [
      "0.34 1.8105192263539285e-20 0.27 0.42\n",
      "\n",
      "\n",
      "Processing group: group6 with variables: ['targetId', 'diseaseId', 'clinicalPhase']\n",
      "['targetId', 'diseaseId', 'clinicalPhase'] for pqtl\n"
     ]
    },
    {
     "name": "stderr",
     "output_type": "stream",
     "text": [
      "                                                                                \r"
     ]
    },
    {
     "name": "stdout",
     "output_type": "stream",
     "text": [
      "groupby for just phase 4 because it does not have approvedDrug columns\n"
     ]
    },
    {
     "name": "stderr",
     "output_type": "stream",
     "text": [
      "                                                                                \r"
     ]
    },
    {
     "name": "stdout",
     "output_type": "stream",
     "text": [
      "+----+---+---+\n",
      "|pqtl|yes| no|\n",
      "+----+---+---+\n",
      "| yes| 16| 39|\n",
      "|  no| 58|261|\n",
      "+----+---+---+\n",
      "\n"
     ]
    },
    {
     "name": "stderr",
     "output_type": "stream",
     "text": [
      "                                                                                \r"
     ]
    },
    {
     "name": "stdout",
     "output_type": "stream",
     "text": [
      "1.85 0.06800669903855017 0.9 3.65\n",
      "\n",
      "\n",
      "Processing group: group1 with variables: ['targetId', 'diseaseId', 'maxClinPhase_TD']\n",
      "['targetId', 'diseaseId'] for eqtl\n"
     ]
    },
    {
     "name": "stderr",
     "output_type": "stream",
     "text": [
      "                                                                                \r"
     ]
    },
    {
     "name": "stdout",
     "output_type": "stream",
     "text": [
      "groupby for just phase 4 because it does not have approvedDrug columns\n"
     ]
    },
    {
     "name": "stderr",
     "output_type": "stream",
     "text": [
      "                                                                                \r"
     ]
    },
    {
     "name": "stdout",
     "output_type": "stream",
     "text": [
      "+----+---+---+\n",
      "|eqtl|yes| no|\n",
      "+----+---+---+\n",
      "| yes| 43| 51|\n",
      "|  no| 31| 42|\n",
      "+----+---+---+\n",
      "\n"
     ]
    },
    {
     "name": "stderr",
     "output_type": "stream",
     "text": [
      "                                                                                \r"
     ]
    },
    {
     "name": "stdout",
     "output_type": "stream",
     "text": [
      "1.14 0.7539103155787842 0.59 2.22\n",
      "\n",
      "\n",
      "Processing group: group2 with variables: ['targetId', 'diseaseId', 'clinicalStudyId', 'clinicalPhase', 'maxClinPhase_TD', 'approvedDrug']\n",
      "['targetId', 'diseaseId', 'clinicalStudyId', 'clinicalPhase'] for eqtl\n"
     ]
    },
    {
     "name": "stderr",
     "output_type": "stream",
     "text": [
      "                                                                                \r"
     ]
    },
    {
     "name": "stdout",
     "output_type": "stream",
     "text": [
      "groupby for Phase4\n"
     ]
    },
    {
     "name": "stderr",
     "output_type": "stream",
     "text": [
      "                                                                                \r"
     ]
    },
    {
     "name": "stdout",
     "output_type": "stream",
     "text": [
      "+----+---+----+\n",
      "|eqtl|yes|  no|\n",
      "+----+---+----+\n",
      "| yes|574|1823|\n",
      "|  no|691|1541|\n",
      "+----+---+----+\n",
      "\n"
     ]
    },
    {
     "name": "stderr",
     "output_type": "stream",
     "text": [
      "                                                                                \r"
     ]
    },
    {
     "name": "stdout",
     "output_type": "stream",
     "text": [
      "0.7 1.0448861999596396e-07 0.62 0.8\n",
      "\n",
      "\n",
      "groupby for approved\n"
     ]
    },
    {
     "name": "stderr",
     "output_type": "stream",
     "text": [
      "                                                                                \r"
     ]
    },
    {
     "name": "stdout",
     "output_type": "stream",
     "text": [
      "+----+----+---+\n",
      "|eqtl| yes| no|\n",
      "+----+----+---+\n",
      "| yes|1757|640|\n",
      "|  no|1549|683|\n",
      "+----+----+---+\n",
      "\n"
     ]
    },
    {
     "name": "stderr",
     "output_type": "stream",
     "text": [
      "                                                                                \r"
     ]
    },
    {
     "name": "stdout",
     "output_type": "stream",
     "text": [
      "1.21 0.00339683963323155 1.06 1.38\n",
      "\n",
      "\n",
      "Processing group: group3 with variables: ['targetId', 'diseaseId', 'maxClinPhase_TD', 'approvedDrug']\n",
      "['targetId', 'diseaseId'] for eqtl\n"
     ]
    },
    {
     "name": "stderr",
     "output_type": "stream",
     "text": [
      "                                                                                \r"
     ]
    },
    {
     "name": "stdout",
     "output_type": "stream",
     "text": [
      "groupby for Phase4\n"
     ]
    },
    {
     "name": "stderr",
     "output_type": "stream",
     "text": [
      "                                                                                \r"
     ]
    },
    {
     "name": "stdout",
     "output_type": "stream",
     "text": [
      "+----+---+---+\n",
      "|eqtl|yes| no|\n",
      "+----+---+---+\n",
      "| yes| 63| 53|\n",
      "|  no| 48| 44|\n",
      "+----+---+---+\n",
      "\n"
     ]
    },
    {
     "name": "stderr",
     "output_type": "stream",
     "text": [
      "                                                                                \r"
     ]
    },
    {
     "name": "stdout",
     "output_type": "stream",
     "text": [
      "1.09 0.7810178165681114 0.61 1.96\n",
      "\n",
      "\n",
      "groupby for approved\n"
     ]
    },
    {
     "name": "stderr",
     "output_type": "stream",
     "text": [
      "                                                                                \r"
     ]
    },
    {
     "name": "stdout",
     "output_type": "stream",
     "text": [
      "+----+---+---+\n",
      "|eqtl|yes| no|\n",
      "+----+---+---+\n",
      "| yes| 27| 89|\n",
      "|  no| 22| 70|\n",
      "+----+---+---+\n",
      "\n"
     ]
    },
    {
     "name": "stderr",
     "output_type": "stream",
     "text": [
      "                                                                                \r"
     ]
    },
    {
     "name": "stdout",
     "output_type": "stream",
     "text": [
      "0.97 1.0 0.48 1.94\n",
      "\n",
      "\n",
      "Processing group: group4 with variables: ['targetId', 'diseaseId', 'drugId', 'maxClinPhase_TD', 'approvedDrug']\n",
      "['targetId', 'diseaseId', 'drugId'] for eqtl\n"
     ]
    },
    {
     "name": "stderr",
     "output_type": "stream",
     "text": [
      "                                                                                \r"
     ]
    },
    {
     "name": "stdout",
     "output_type": "stream",
     "text": [
      "groupby for Phase4\n"
     ]
    },
    {
     "name": "stderr",
     "output_type": "stream",
     "text": [
      "                                                                                \r"
     ]
    },
    {
     "name": "stdout",
     "output_type": "stream",
     "text": [
      "+----+---+---+\n",
      "|eqtl|yes| no|\n",
      "+----+---+---+\n",
      "| yes|123|216|\n",
      "|  no| 85|118|\n",
      "+----+---+---+\n",
      "\n"
     ]
    },
    {
     "name": "stderr",
     "output_type": "stream",
     "text": [
      "                                                                                \r"
     ]
    },
    {
     "name": "stdout",
     "output_type": "stream",
     "text": [
      "0.79 0.20251855484720355 0.55 1.15\n",
      "\n",
      "\n",
      "groupby for approved\n"
     ]
    },
    {
     "name": "stderr",
     "output_type": "stream",
     "text": [
      "                                                                                \r"
     ]
    },
    {
     "name": "stdout",
     "output_type": "stream",
     "text": [
      "+----+---+---+\n",
      "|eqtl|yes| no|\n",
      "+----+---+---+\n",
      "| yes| 99|240|\n",
      "|  no| 60|143|\n",
      "+----+---+---+\n",
      "\n"
     ]
    },
    {
     "name": "stderr",
     "output_type": "stream",
     "text": [
      "                                                                                \r"
     ]
    },
    {
     "name": "stdout",
     "output_type": "stream",
     "text": [
      "0.98 1.0 0.66 1.47\n",
      "\n",
      "\n",
      "Processing group: group5 with variables: ['targetId', 'diseaseId', 'drugId', 'clinicalStudyId', 'maxClinPhase_TD', 'approvedDrug']\n",
      "['targetId', 'diseaseId', 'drugId', 'clinicalStudyId'] for eqtl\n"
     ]
    },
    {
     "name": "stderr",
     "output_type": "stream",
     "text": [
      "                                                                                \r"
     ]
    },
    {
     "name": "stdout",
     "output_type": "stream",
     "text": [
      "groupby for Phase4\n"
     ]
    },
    {
     "name": "stderr",
     "output_type": "stream",
     "text": [
      "                                                                                \r"
     ]
    },
    {
     "name": "stdout",
     "output_type": "stream",
     "text": [
      "+----+---+----+\n",
      "|eqtl|yes|  no|\n",
      "+----+---+----+\n",
      "| yes|639|1982|\n",
      "|  no|797|1742|\n",
      "+----+---+----+\n",
      "\n"
     ]
    },
    {
     "name": "stderr",
     "output_type": "stream",
     "text": [
      "                                                                                \r"
     ]
    },
    {
     "name": "stdout",
     "output_type": "stream",
     "text": [
      "0.7 2.1769523354181277e-08 0.62 0.8\n",
      "\n",
      "\n",
      "groupby for approved\n"
     ]
    },
    {
     "name": "stderr",
     "output_type": "stream",
     "text": [
      "                                                                                \r"
     ]
    },
    {
     "name": "stdout",
     "output_type": "stream",
     "text": [
      "+----+----+---+\n",
      "|eqtl| yes| no|\n",
      "+----+----+---+\n",
      "| yes|1919|702|\n",
      "|  no|1765|774|\n",
      "+----+----+---+\n",
      "\n"
     ]
    },
    {
     "name": "stderr",
     "output_type": "stream",
     "text": [
      "                                                                                \r"
     ]
    },
    {
     "name": "stdout",
     "output_type": "stream",
     "text": [
      "1.2 0.003421416232169518 1.06 1.36\n",
      "\n",
      "\n",
      "Processing group: group6 with variables: ['targetId', 'diseaseId', 'clinicalPhase']\n",
      "['targetId', 'diseaseId', 'clinicalPhase'] for eqtl\n"
     ]
    },
    {
     "name": "stderr",
     "output_type": "stream",
     "text": [
      "                                                                                \r"
     ]
    },
    {
     "name": "stdout",
     "output_type": "stream",
     "text": [
      "groupby for just phase 4 because it does not have approvedDrug columns\n"
     ]
    },
    {
     "name": "stderr",
     "output_type": "stream",
     "text": [
      "                                                                                \r"
     ]
    },
    {
     "name": "stdout",
     "output_type": "stream",
     "text": [
      "+----+---+---+\n",
      "|eqtl|yes| no|\n",
      "+----+---+---+\n",
      "| yes| 43|183|\n",
      "|  no| 31|117|\n",
      "+----+---+---+\n",
      "\n"
     ]
    },
    {
     "name": "stderr",
     "output_type": "stream",
     "text": [
      "                                                                                \r"
     ]
    },
    {
     "name": "stdout",
     "output_type": "stream",
     "text": [
      "0.89 0.6912086913648727 0.51 1.54\n",
      "\n",
      "\n",
      "Processing group: group1 with variables: ['targetId', 'diseaseId', 'maxClinPhase_TD']\n",
      "['targetId', 'diseaseId'] for sqtl\n"
     ]
    },
    {
     "name": "stderr",
     "output_type": "stream",
     "text": [
      "                                                                                \r"
     ]
    },
    {
     "name": "stdout",
     "output_type": "stream",
     "text": [
      "groupby for just phase 4 because it does not have approvedDrug columns\n"
     ]
    },
    {
     "name": "stderr",
     "output_type": "stream",
     "text": [
      "                                                                                \r"
     ]
    },
    {
     "name": "stdout",
     "output_type": "stream",
     "text": [
      "+----+---+---+\n",
      "|sqtl|yes| no|\n",
      "+----+---+---+\n",
      "| yes| 13| 22|\n",
      "|  no| 61| 71|\n",
      "+----+---+---+\n",
      "\n"
     ]
    },
    {
     "name": "stderr",
     "output_type": "stream",
     "text": [
      "                                                                                \r"
     ]
    },
    {
     "name": "stdout",
     "output_type": "stream",
     "text": [
      "0.69 0.4443100689028572 0.29 1.57\n",
      "\n",
      "\n",
      "Processing group: group2 with variables: ['targetId', 'diseaseId', 'clinicalStudyId', 'clinicalPhase', 'maxClinPhase_TD', 'approvedDrug']\n",
      "['targetId', 'diseaseId', 'clinicalStudyId', 'clinicalPhase'] for sqtl\n"
     ]
    },
    {
     "name": "stderr",
     "output_type": "stream",
     "text": [
      "                                                                                \r"
     ]
    },
    {
     "name": "stdout",
     "output_type": "stream",
     "text": [
      "groupby for Phase4\n"
     ]
    },
    {
     "name": "stderr",
     "output_type": "stream",
     "text": [
      "                                                                                \r"
     ]
    },
    {
     "name": "stdout",
     "output_type": "stream",
     "text": [
      "+----+---+----+\n",
      "|sqtl|yes|  no|\n",
      "+----+---+----+\n",
      "| yes|304| 771|\n",
      "|  no|961|2593|\n",
      "+----+---+----+\n",
      "\n"
     ]
    },
    {
     "name": "stderr",
     "output_type": "stream",
     "text": [
      "                                                                                \r"
     ]
    },
    {
     "name": "stdout",
     "output_type": "stream",
     "text": [
      "1.06 0.4347965651803126 0.91 1.24\n",
      "\n",
      "\n",
      "groupby for approved\n"
     ]
    },
    {
     "name": "stderr",
     "output_type": "stream",
     "text": [
      "                                                                                \r"
     ]
    },
    {
     "name": "stdout",
     "output_type": "stream",
     "text": [
      "+----+----+----+\n",
      "|sqtl| yes|  no|\n",
      "+----+----+----+\n",
      "| yes| 860| 215|\n",
      "|  no|2446|1108|\n",
      "+----+----+----+\n",
      "\n"
     ]
    },
    {
     "name": "stderr",
     "output_type": "stream",
     "text": [
      "                                                                                \r"
     ]
    },
    {
     "name": "stdout",
     "output_type": "stream",
     "text": [
      "1.81 3.7144502444442453e-13 1.53 2.15\n",
      "\n",
      "\n",
      "Processing group: group3 with variables: ['targetId', 'diseaseId', 'maxClinPhase_TD', 'approvedDrug']\n",
      "['targetId', 'diseaseId'] for sqtl\n"
     ]
    },
    {
     "name": "stderr",
     "output_type": "stream",
     "text": [
      "                                                                                \r"
     ]
    },
    {
     "name": "stdout",
     "output_type": "stream",
     "text": [
      "groupby for Phase4\n"
     ]
    },
    {
     "name": "stderr",
     "output_type": "stream",
     "text": [
      "                                                                                \r"
     ]
    },
    {
     "name": "stdout",
     "output_type": "stream",
     "text": [
      "+----+---+---+\n",
      "|sqtl|yes| no|\n",
      "+----+---+---+\n",
      "| yes| 20| 23|\n",
      "|  no| 91| 74|\n",
      "+----+---+---+\n",
      "\n"
     ]
    },
    {
     "name": "stderr",
     "output_type": "stream",
     "text": [
      "                                                                                \r"
     ]
    },
    {
     "name": "stdout",
     "output_type": "stream",
     "text": [
      "0.71 0.3910810335821794 0.34 1.46\n",
      "\n",
      "\n",
      "groupby for approved\n"
     ]
    },
    {
     "name": "stderr",
     "output_type": "stream",
     "text": [
      "                                                                                \r"
     ]
    },
    {
     "name": "stdout",
     "output_type": "stream",
     "text": [
      "+----+---+---+\n",
      "|sqtl|yes| no|\n",
      "+----+---+---+\n",
      "| yes| 11| 32|\n",
      "|  no| 38|127|\n",
      "+----+---+---+\n",
      "\n"
     ]
    },
    {
     "name": "stderr",
     "output_type": "stream",
     "text": [
      "                                                                                \r"
     ]
    },
    {
     "name": "stdout",
     "output_type": "stream",
     "text": [
      "1.15 0.6922022263425054 0.48 2.62\n",
      "\n",
      "\n",
      "Processing group: group4 with variables: ['targetId', 'diseaseId', 'drugId', 'maxClinPhase_TD', 'approvedDrug']\n",
      "['targetId', 'diseaseId', 'drugId'] for sqtl\n"
     ]
    },
    {
     "name": "stderr",
     "output_type": "stream",
     "text": [
      "                                                                                \r"
     ]
    },
    {
     "name": "stdout",
     "output_type": "stream",
     "text": [
      "groupby for Phase4\n"
     ]
    },
    {
     "name": "stderr",
     "output_type": "stream",
     "text": [
      "                                                                                \r"
     ]
    },
    {
     "name": "stdout",
     "output_type": "stream",
     "text": [
      "+----+---+---+\n",
      "|sqtl|yes| no|\n",
      "+----+---+---+\n",
      "| yes| 47| 78|\n",
      "|  no|161|256|\n",
      "+----+---+---+\n",
      "\n"
     ]
    },
    {
     "name": "stderr",
     "output_type": "stream",
     "text": [
      "                                                                                \r"
     ]
    },
    {
     "name": "stdout",
     "output_type": "stream",
     "text": [
      "0.96 0.916547682975065 0.62 1.47\n",
      "\n",
      "\n",
      "groupby for approved\n"
     ]
    },
    {
     "name": "stderr",
     "output_type": "stream",
     "text": [
      "                                                                                \r"
     ]
    },
    {
     "name": "stdout",
     "output_type": "stream",
     "text": [
      "+----+---+---+\n",
      "|sqtl|yes| no|\n",
      "+----+---+---+\n",
      "| yes| 39| 86|\n",
      "|  no|120|297|\n",
      "+----+---+---+\n",
      "\n"
     ]
    },
    {
     "name": "stderr",
     "output_type": "stream",
     "text": [
      "                                                                                \r"
     ]
    },
    {
     "name": "stdout",
     "output_type": "stream",
     "text": [
      "1.12 0.654312004089056 0.71 1.76\n",
      "\n",
      "\n",
      "Processing group: group5 with variables: ['targetId', 'diseaseId', 'drugId', 'clinicalStudyId', 'maxClinPhase_TD', 'approvedDrug']\n",
      "['targetId', 'diseaseId', 'drugId', 'clinicalStudyId'] for sqtl\n"
     ]
    },
    {
     "name": "stderr",
     "output_type": "stream",
     "text": [
      "                                                                                \r"
     ]
    },
    {
     "name": "stdout",
     "output_type": "stream",
     "text": [
      "groupby for Phase4\n"
     ]
    },
    {
     "name": "stderr",
     "output_type": "stream",
     "text": [
      "                                                                                \r"
     ]
    },
    {
     "name": "stdout",
     "output_type": "stream",
     "text": [
      "+----+----+----+\n",
      "|sqtl| yes|  no|\n",
      "+----+----+----+\n",
      "| yes| 347| 844|\n",
      "|  no|1089|2880|\n",
      "+----+----+----+\n",
      "\n"
     ]
    },
    {
     "name": "stderr",
     "output_type": "stream",
     "text": [
      "                                                                                \r"
     ]
    },
    {
     "name": "stdout",
     "output_type": "stream",
     "text": [
      "1.09 0.25333226868075165 0.94 1.26\n",
      "\n",
      "\n",
      "groupby for approved\n"
     ]
    },
    {
     "name": "stderr",
     "output_type": "stream",
     "text": [
      "                                                                                \r"
     ]
    },
    {
     "name": "stdout",
     "output_type": "stream",
     "text": [
      "+----+----+----+\n",
      "|sqtl| yes|  no|\n",
      "+----+----+----+\n",
      "| yes| 953| 238|\n",
      "|  no|2731|1238|\n",
      "+----+----+----+\n",
      "\n"
     ]
    },
    {
     "name": "stderr",
     "output_type": "stream",
     "text": [
      "                                                                                \r"
     ]
    },
    {
     "name": "stdout",
     "output_type": "stream",
     "text": [
      "1.82 1.761092533228378e-14 1.55 2.13\n",
      "\n",
      "\n",
      "Processing group: group6 with variables: ['targetId', 'diseaseId', 'clinicalPhase']\n",
      "['targetId', 'diseaseId', 'clinicalPhase'] for sqtl\n"
     ]
    },
    {
     "name": "stderr",
     "output_type": "stream",
     "text": [
      "                                                                                \r"
     ]
    },
    {
     "name": "stdout",
     "output_type": "stream",
     "text": [
      "groupby for just phase 4 because it does not have approvedDrug columns\n"
     ]
    },
    {
     "name": "stderr",
     "output_type": "stream",
     "text": [
      "                                                                                \r"
     ]
    },
    {
     "name": "stdout",
     "output_type": "stream",
     "text": [
      "+----+---+---+\n",
      "|sqtl|yes| no|\n",
      "+----+---+---+\n",
      "| yes| 13| 66|\n",
      "|  no| 61|234|\n",
      "+----+---+---+\n",
      "\n"
     ]
    },
    {
     "name": "stderr",
     "output_type": "stream",
     "text": [
      "[Stage 19289:===============================================>   (188 + 8) / 200]\r"
     ]
    },
    {
     "name": "stdout",
     "output_type": "stream",
     "text": [
      "0.76 0.5246665763693217 0.36 1.5\n",
      "\n",
      "\n"
     ]
    },
    {
     "name": "stderr",
     "output_type": "stream",
     "text": [
      "                                                                                \r"
     ]
    }
   ],
   "source": [
    "import numpy as np\n",
    "def convertTuple(tup):\n",
    "    st = \",\".join(map(str, tup))\n",
    "    return st\n",
    "from scipy.stats import fisher_exact\n",
    "from scipy.stats.contingency import odds_ratio\n",
    "from pyspark.sql.types import *\n",
    "\n",
    "group1=[\"targetId\", \"diseaseId\",\"maxClinPhase_TD\"] ### canonical one\n",
    "group2=[\"targetId\", \"diseaseId\", \"clinicalStudyId\",\"clinicalPhase\",\"maxClinPhase_TD\",\"approvedDrug\"]\n",
    "group3=[\"targetId\", \"diseaseId\", \"maxClinPhase_TD\",\"approvedDrug\"] ## maxClinPhase_TD\n",
    "group4=[\"targetId\", \"diseaseId\",\"drugId\", \"maxClinPhase_TD\",\"approvedDrug\"] ### maxClinPhase_TD\n",
    "group5=[\"targetId\", \"diseaseId\",\"drugId\",\"clinicalStudyId\", \"maxClinPhase_TD\",\"approvedDrug\"] ## maxClinPhase_TD\n",
    "group6=[\"targetId\", \"diseaseId\",\"clinicalPhase\"]\n",
    "\n",
    "# Dictionary to map group names to lists\n",
    "group_mapping = {\n",
    "    \"group1\": group1,\n",
    "    \"group2\": group2,\n",
    "    \"group3\": group3,\n",
    "    \"group4\": group4,\n",
    "    \"group5\": group5,\n",
    "    \"group6\": group6\n",
    "}\n",
    "clinical_phases=[\"Phase4\",\"approved\"]\n",
    "remove=[\"maxClinPhase_TD\", \"approvedDrug\"]\n",
    "\n",
    "value_analysis=[\"pqtl\",\"eqtl\",\"sqtl\"]\n",
    "# Prepare aggregation depending on the variable problem\n",
    "window_spec = Window.partitionBy(\"targetId\", \"diseaseId\", \"projectId\").orderBy(F.col(\"pValueExponent\").asc())\n",
    "for value in value_analysis:\n",
    "    # Iterate over group mapping\n",
    "    for group_name, group_columns in group_mapping.items():\n",
    "\n",
    "        if \"approvedDrug\" in group_columns:\n",
    "\n",
    "            print(f\"Processing group: {group_name}\", \"with variables:\", group_columns)\n",
    "            filtered_group1 = [item for item in group_columns if item not in remove]\n",
    "            print(filtered_group1,\"for\", value)\n",
    "            x = value\n",
    "            pre=new_benchmark.filter(F.col(\"clinicalStudyId\").isNotNull()).withColumn(\n",
    "                    \"maxClinPhase_TD\", ### no longer maxclinphase for T-D\n",
    "                    F.max(\"clinicalPhase\").over(Window.partitionBy(filtered_group1))).withColumn(\"agree_lowestPval\", F.first(\"AgreeDrug\").over(window_spec)\n",
    "            ).groupBy(group_columns).pivot(\"rightStudyType\").agg(F.collect_set(\"agree_lowestPVal\")\n",
    "            ).withColumn(\n",
    "            \"Phase4\",\n",
    "            F.when(F.col(\"maxClinPhase_TD\") == 4, F.lit(\"yes\")).otherwise(F.lit(\"no\")),\n",
    "            ).withColumn(\n",
    "                \"Phase>=3\",\n",
    "                F.when(F.col(\"maxClinPhase_TD\") >= 3, F.lit(\"yes\")).otherwise(F.lit(\"no\")),\n",
    "            ).withColumn(\n",
    "                \"Phase>=2\",\n",
    "                F.when(F.col(\"maxClinPhase_TD\") >= 2, F.lit(\"yes\")).otherwise(F.lit(\"no\")),\n",
    "            ).withColumn(\n",
    "                \"Phase>=1\",\n",
    "                F.when(F.col(\"maxClinPhase_TD\") >= 1, F.lit(\"yes\")).otherwise(F.lit(\"no\")),\n",
    "            ).withColumn(\n",
    "            \"approved\",\n",
    "                F.when(F.col(\"approvedDrug\")==1, F.lit(\"yes\")).otherwise(F.lit(\"no\")),\n",
    "            ).withColumn(\n",
    "                x, \n",
    "                F.when(F.array_contains(F.col(x),\"yes\"), F.lit(\"yes\")).otherwise(F.lit(\"no\"))\n",
    "            )\n",
    "\n",
    "            for phase in clinical_phases:\n",
    "                \n",
    "                print(\"groupby for\", phase)\n",
    "                pre.groupBy(x).pivot(phase).count().select(x,\"yes\",\"no\").sort(F.col(x).desc()).show()\n",
    "\n",
    "                array1 = np.delete(pre.groupBy(x).pivot(phase).count().select(x,\"yes\",\"no\").sort(F.col(x).desc())\n",
    "                .fillna(0)\n",
    "                .toPandas()\n",
    "                .to_numpy(),\n",
    "                [0],\n",
    "                1,\n",
    "                )\n",
    "                total = np.sum(array1)\n",
    "                res_npPhaseX = np.array(array1, dtype=int)\n",
    "                resX = convertTuple(fisher_exact(res_npPhaseX, alternative=\"two-sided\"))\n",
    "                resx_CI = convertTuple(\n",
    "                    odds_ratio(res_npPhaseX).confidence_interval(confidence_level=0.95)\n",
    "                )\n",
    "                print(round(float(resX.split(\",\")[0]), 2),float(resX.split(\",\")[1]),\n",
    "                    round(float(resx_CI.split(\",\")[0]), 2),\n",
    "                    round(float(resx_CI.split(\",\")[1]), 2))\n",
    "                print(\"\\n\")\n",
    "        elif \"group6\" == group_name:\n",
    "            print(f\"Processing group: {group_name}\", \"with variables:\", group_columns)\n",
    "            filtered_group1 = [item for item in group_columns if item not in remove]\n",
    "            print(filtered_group1,\"for\", value)\n",
    "            x = value\n",
    "            pre=new_benchmark.filter(F.col(\"clinicalStudyId\").isNotNull()).withColumn(\n",
    "                    \"maxClinPhase_TD\", ### no longer maxclinphase for T-D\n",
    "                    F.max(\"clinicalPhase\").over(Window.partitionBy(filtered_group1))).withColumn(\"agree_lowestPval\", F.first(\"AgreeDrug\").over(window_spec)\n",
    "            ).groupBy(group_columns).pivot(\"rightStudyType\").agg(F.collect_set(\"agree_lowestPVal\")\n",
    "            ).withColumn(\n",
    "            \"Phase4\",\n",
    "            F.when(F.col(\"clinicalPhase\") == 4, F.lit(\"yes\")).otherwise(F.lit(\"no\")),\n",
    "            ).withColumn(\n",
    "                \"Phase>=3\",\n",
    "                F.when(F.col(\"clinicalPhase\") >= 3, F.lit(\"yes\")).otherwise(F.lit(\"no\")),\n",
    "            ).withColumn(\n",
    "                \"Phase>=2\",\n",
    "                F.when(F.col(\"clinicalPhase\") >= 2, F.lit(\"yes\")).otherwise(F.lit(\"no\")),\n",
    "            ).withColumn(\n",
    "                \"Phase>=1\",\n",
    "                F.when(F.col(\"clinicalPhase\") >= 1, F.lit(\"yes\")).otherwise(F.lit(\"no\")),\n",
    "            ).withColumn(\n",
    "                x, \n",
    "                F.when(F.array_contains(F.col(x),\"yes\"), F.lit(\"yes\")).otherwise(F.lit(\"no\"))\n",
    "            )\n",
    "            \n",
    "            for phase in [\"phase4\"]:\n",
    "                print(\"groupby for just phase 4 because it does not have approvedDrug columns\")\n",
    "                pre.groupBy(x).pivot(phase).count().select(x,\"yes\",\"no\").sort(F.col(x).desc()).show()\n",
    "\n",
    "                array1 = np.delete(pre.groupBy(x).pivot(phase).count().select(x,\"yes\",\"no\").sort(F.col(x).desc())\n",
    "                .fillna(0)\n",
    "                .toPandas()\n",
    "                .to_numpy(),\n",
    "                [0],\n",
    "                1,\n",
    "                )\n",
    "                total = np.sum(array1)\n",
    "                res_npPhaseX = np.array(array1, dtype=int)\n",
    "                resX = convertTuple(fisher_exact(res_npPhaseX, alternative=\"two-sided\"))\n",
    "                resx_CI = convertTuple(\n",
    "                    odds_ratio(res_npPhaseX).confidence_interval(confidence_level=0.95)\n",
    "                )\n",
    "                print(round(float(resX.split(\",\")[0]), 2),float(resX.split(\",\")[1]),\n",
    "                    round(float(resx_CI.split(\",\")[0]), 2),\n",
    "                    round(float(resx_CI.split(\",\")[1]), 2))\n",
    "                print(\"\\n\")\n",
    "        else: \n",
    "            print(f\"Processing group: {group_name}\", \"with variables:\", group_columns)\n",
    "            filtered_group1 = [item for item in group_columns if item not in remove]\n",
    "            print(filtered_group1,\"for\", value)\n",
    "            x = value\n",
    "            pre=new_benchmark.filter(F.col(\"clinicalStudyId\").isNotNull()).withColumn(\n",
    "                    \"maxClinPhase_TD\", ### no longer maxclinphase for T-D\n",
    "                    F.max(\"clinicalPhase\").over(Window.partitionBy(filtered_group1))).withColumn(\"agree_lowestPval\", F.first(\"AgreeDrug\").over(window_spec)\n",
    "            ).groupBy(group_columns).pivot(\"rightStudyType\").agg(F.collect_set(\"agree_lowestPVal\")\n",
    "            ).withColumn(\n",
    "            \"Phase4\",\n",
    "            F.when(F.col(\"maxClinPhase_TD\") == 4, F.lit(\"yes\")).otherwise(F.lit(\"no\")),\n",
    "            ).withColumn(\n",
    "                \"Phase>=3\",\n",
    "                F.when(F.col(\"maxClinPhase_TD\") >= 3, F.lit(\"yes\")).otherwise(F.lit(\"no\")),\n",
    "            ).withColumn(\n",
    "                \"Phase>=2\",\n",
    "                F.when(F.col(\"maxClinPhase_TD\") >= 2, F.lit(\"yes\")).otherwise(F.lit(\"no\")),\n",
    "            ).withColumn(\n",
    "                \"Phase>=1\",\n",
    "                F.when(F.col(\"maxClinPhase_TD\") >= 1, F.lit(\"yes\")).otherwise(F.lit(\"no\")),\n",
    "            ).withColumn(\n",
    "                x, \n",
    "                F.when(F.array_contains(F.col(x),\"yes\"), F.lit(\"yes\")).otherwise(F.lit(\"no\"))\n",
    "            )\n",
    "            \n",
    "            for phase in [\"phase4\"]:\n",
    "                print(\"groupby for just phase 4 because it does not have approvedDrug columns\")\n",
    "                pre.groupBy(x).pivot(phase).count().select(x,\"yes\",\"no\").sort(F.col(x).desc()).show()\n",
    "\n",
    "                array1 = np.delete(pre.groupBy(x).pivot(phase).count().select(x,\"yes\",\"no\").sort(F.col(x).desc())\n",
    "                .fillna(0)\n",
    "                .toPandas()\n",
    "                .to_numpy(),\n",
    "                [0],\n",
    "                1,\n",
    "                )\n",
    "                total = np.sum(array1)\n",
    "                res_npPhaseX = np.array(array1, dtype=int)\n",
    "                resX = convertTuple(fisher_exact(res_npPhaseX, alternative=\"two-sided\"))\n",
    "                resx_CI = convertTuple(\n",
    "                    odds_ratio(res_npPhaseX).confidence_interval(confidence_level=0.95)\n",
    "                )\n",
    "                print(round(float(resX.split(\",\")[0]), 2),float(resX.split(\",\")[1]),\n",
    "                    round(float(resx_CI.split(\",\")[0]), 2),\n",
    "                    round(float(resx_CI.split(\",\")[1]), 2))\n",
    "                print(\"\\n\")"
   ]
  },
  {
   "cell_type": "markdown",
   "metadata": {},
   "source": [
    "##### See how the benchmark varies regarding maxclinphase made in chembl_indication"
   ]
  },
  {
   "cell_type": "code",
   "execution_count": null,
   "metadata": {},
   "outputs": [
    {
     "name": "stderr",
     "output_type": "stream",
     "text": [
      "                                                                                \r"
     ]
    }
   ],
   "source": [
    "#### build list of comparison and prediction columns\n",
    "rows=comparisons_df_iterative(disdic,variables_study[2])[0]\n",
    "#### prepare aggregation depending on the variable problem\n",
    "window_spec = Window.partitionBy(\"targetId\",\"diseaseId\",\"rightStudyType\").orderBy(F.col(\"pValueExponent\").asc())\n",
    "#### take directionality from lowest p value\n",
    "bench2=benchmark.withColumn(\"agree_lowestPval\", F.first(\"AgreeDrug\").over(window_spec)\n",
    "    ).groupBy(\"targetId\", \"diseaseId\", \"clinicalStudyId\",\"clinicalPhase\",\"maxClinPhase\",\"approvedDrug\").pivot(\"rightStudyType\").agg(F.collect_set(\"agree_lowestPVal\")\n",
    "    ).withColumn(\n",
    "    \"Phase4\",\n",
    "    F.when(F.col(\"maxClinPhase\") == 4, F.lit(\"yes\")).otherwise(F.lit(\"no\")),\n",
    "    ).withColumn(\n",
    "        \"Phase>=3\",\n",
    "        F.when(F.col(\"maxClinPhase\") >= 3, F.lit(\"yes\")).otherwise(F.lit(\"no\")),\n",
    "    ).withColumn(\n",
    "        \"Phase>=2\",\n",
    "        F.when(F.col(\"maxClinPhase\") >= 2, F.lit(\"yes\")).otherwise(F.lit(\"no\")),\n",
    "    ).withColumn(\n",
    "        \"Phase>=1\",\n",
    "        F.when(F.col(\"maxClinPhase\") >= 1, F.lit(\"yes\")).otherwise(F.lit(\"no\")),\n",
    "    ).withColumn(\n",
    "    \"approved\",\n",
    "        F.when(F.col(\"approvedDrug\")==1, F.lit(\"yes\")).otherwise(F.lit(\"no\")),\n",
    "    )\n",
    "#### build columns yes/no for each distinct value in the column variable\n",
    "\n",
    "bench3=benchmark.withColumn(\"agree_lowestPval\", F.first(\"AgreeDrug\").over(window_spec)\n",
    "    ).withColumn(\n",
    "            \"maxClinPhase_TD\", ### maxclinphase for T-D\n",
    "            F.max(\"clinicalPhase\").over(Window.partitionBy(\"targetId\", \"diseaseId\")),\n",
    "    ).groupBy(\"targetId\", \"diseaseId\", \"maxClinPhase_TD\",\"approvedDrug\").pivot(\"rightStudyType\").agg(F.collect_set(\"agree_lowestPVal\")\n",
    "    ).withColumn(\n",
    "    \"Phase4\",\n",
    "    F.when(F.col(\"maxClinPhase_TD\") == 4, F.lit(\"yes\")).otherwise(F.lit(\"no\")),\n",
    "    ).withColumn(\n",
    "        \"Phase>=3\",\n",
    "        F.when(F.col(\"maxClinPhase_TD\") >= 3, F.lit(\"yes\")).otherwise(F.lit(\"no\")),\n",
    "    ).withColumn(\n",
    "        \"Phase>=2\",\n",
    "        F.when(F.col(\"maxClinPhase_TD\") >= 2, F.lit(\"yes\")).otherwise(F.lit(\"no\")),\n",
    "    ).withColumn(\n",
    "        \"Phase>=1\",\n",
    "        F.when(F.col(\"maxClinPhase_TD\") >= 1, F.lit(\"yes\")).otherwise(F.lit(\"no\")),\n",
    "    ).withColumn(\n",
    "    \"approved\",\n",
    "        F.when(F.col(\"approvedDrug\")==1, F.lit(\"yes\")).otherwise(F.lit(\"no\")),\n",
    "    )\n",
    "#### build columns yes/no for each distinct value in the column variable\n",
    "bench4=benchmark.withColumn(\"agree_lowestPval\", F.first(\"AgreeDrug\").over(window_spec)\n",
    "    ).withColumn(\n",
    "            \"maxClinPhase_TD\", ### no longer maxclinphase for T-D\n",
    "            F.max(\"clinicalPhase\").over(Window.partitionBy(\"targetId\", \"diseaseId\")),\n",
    "    ).groupBy(\"targetId\", \"diseaseId\",\"drugId\", \"maxClinPhase_TD\",\"approvedDrug\").pivot(\"rightStudyType\").agg(F.collect_set(\"agree_lowestPVal\")\n",
    "    ).withColumn(\n",
    "    \"Phase4\",\n",
    "    F.when(F.col(\"maxClinPhase_TD\") == 4, F.lit(\"yes\")).otherwise(F.lit(\"no\")),\n",
    "    ).withColumn(\n",
    "        \"Phase>=3\",\n",
    "        F.when(F.col(\"maxClinPhase_TD\") >= 3, F.lit(\"yes\")).otherwise(F.lit(\"no\")),\n",
    "    ).withColumn(\n",
    "        \"Phase>=2\",\n",
    "        F.when(F.col(\"maxClinPhase_TD\") >= 2, F.lit(\"yes\")).otherwise(F.lit(\"no\")),\n",
    "    ).withColumn(\n",
    "        \"Phase>=1\",\n",
    "        F.when(F.col(\"maxClinPhase_TD\") >= 1, F.lit(\"yes\")).otherwise(F.lit(\"no\")),\n",
    "    ).withColumn(\n",
    "    \"approved\",\n",
    "        F.when(F.col(\"approvedDrug\")==1, F.lit(\"yes\")).otherwise(F.lit(\"no\")),\n",
    "    )"
   ]
  },
  {
   "cell_type": "code",
   "execution_count": null,
   "metadata": {},
   "outputs": [
    {
     "name": "stderr",
     "output_type": "stream",
     "text": [
      "                                                                                \r"
     ]
    },
    {
     "name": "stdout",
     "output_type": "stream",
     "text": [
      "+----+----+----+\n",
      "|pqtl| yes|  no|\n",
      "+----+----+----+\n",
      "| yes|  63| 265|\n",
      "|  no|1142|2944|\n",
      "+----+----+----+\n",
      "\n"
     ]
    },
    {
     "name": "stderr",
     "output_type": "stream",
     "text": [
      "                                                                                \r"
     ]
    },
    {
     "name": "stdout",
     "output_type": "stream",
     "text": [
      "+----+---+---+\n",
      "|pqtl|yes| no|\n",
      "+----+---+---+\n",
      "| yes| 21|  6|\n",
      "|  no| 78| 77|\n",
      "+----+---+---+\n",
      "\n"
     ]
    },
    {
     "name": "stderr",
     "output_type": "stream",
     "text": [
      "[Stage 1865:>                                                       (0 + 1) / 1]\r"
     ]
    },
    {
     "name": "stdout",
     "output_type": "stream",
     "text": [
      "+----+---+---+\n",
      "|pqtl|yes| no|\n",
      "+----+---+---+\n",
      "| yes| 75|  7|\n",
      "|  no|444|152|\n",
      "+----+---+---+\n",
      "\n"
     ]
    },
    {
     "name": "stderr",
     "output_type": "stream",
     "text": [
      "[Stage 1989:=======================================>           (153 + 17) / 200]\r"
     ]
    },
    {
     "name": "stdout",
     "output_type": "stream",
     "text": [
      "+----+---+---+\n",
      "|pqtl|yes| no|\n",
      "+----+---+---+\n",
      "| yes| 64| 18|\n",
      "|  no|384|212|\n",
      "+----+---+---+\n",
      "\n"
     ]
    },
    {
     "name": "stderr",
     "output_type": "stream",
     "text": [
      "                                                                                \r"
     ]
    }
   ],
   "source": [
    "x=\"pqtl\"\n",
    "print(\"\")\n",
    "bench2.withColumn(\n",
    "        x, \n",
    "        F.when(F.array_contains(F.col(x),\"yes\"), F.lit(\"yes\")).otherwise(F.lit(\"no\"))\n",
    "    ).groupBy(x).pivot(\"phase4\").count().select(x,\"yes\",\"no\").sort(F.col(x).desc()).show()\n",
    "bench3.withColumn(\n",
    "        x, \n",
    "        F.when(F.array_contains(F.col(x),\"yes\"), F.lit(\"yes\")).otherwise(F.lit(\"no\"))\n",
    "    ).groupBy(x).pivot(\"phase4\").count().select(x,\"yes\",\"no\").sort(F.col(x).desc()).show()\n",
    "\n",
    "bench4.withColumn(\n",
    "        x, \n",
    "        F.when(F.array_contains(F.col(x),\"yes\"), F.lit(\"yes\")).otherwise(F.lit(\"no\"))\n",
    "    ).groupBy(x).pivot(\"phase4\").count().select(x,\"yes\",\"no\").sort(F.col(x).desc()).show()\n",
    "\n",
    "bench4.withColumn(\n",
    "        x, \n",
    "        F.when(F.array_contains(F.col(x),\"yes\"), F.lit(\"yes\")).otherwise(F.lit(\"no\"))\n",
    "    ).groupBy(x).pivot(\"approved\").count().select(x,\"yes\",\"no\").sort(F.col(x).desc()).show()"
   ]
  },
  {
   "cell_type": "code",
   "execution_count": null,
   "metadata": {},
   "outputs": [
    {
     "name": "stderr",
     "output_type": "stream",
     "text": [
      "                                                                                \r"
     ]
    },
    {
     "name": "stdout",
     "output_type": "stream",
     "text": [
      "+----+----+---+\n",
      "|eqtl|  no|yes|\n",
      "+----+----+---+\n",
      "|  no|2121|886|\n",
      "| yes|1088|319|\n",
      "+----+----+---+\n",
      "\n"
     ]
    },
    {
     "name": "stderr",
     "output_type": "stream",
     "text": [
      "                                                                                \r"
     ]
    },
    {
     "name": "stdout",
     "output_type": "stream",
     "text": [
      "+----+---+---+\n",
      "|eqtl| no|yes|\n",
      "+----+---+---+\n",
      "|  no| 49| 63|\n",
      "| yes| 34| 36|\n",
      "+----+---+---+\n",
      "\n"
     ]
    },
    {
     "name": "stderr",
     "output_type": "stream",
     "text": [
      "[Stage 2183:>                                                       (0 + 1) / 1]\r"
     ]
    },
    {
     "name": "stdout",
     "output_type": "stream",
     "text": [
      "+----+---+---+\n",
      "|eqtl| no|yes|\n",
      "+----+---+---+\n",
      "|  no| 95|280|\n",
      "| yes| 64|239|\n",
      "+----+---+---+\n",
      "\n"
     ]
    },
    {
     "name": "stderr",
     "output_type": "stream",
     "text": [
      "                                                                                \r"
     ]
    }
   ],
   "source": [
    "x=\"eqtl\"\n",
    "bench2.withColumn(\n",
    "        x, \n",
    "        F.when(F.array_contains(F.col(x),\"yes\"), F.lit(\"yes\")).otherwise(F.lit(\"no\"))\n",
    "    ).groupBy(x).pivot(\"phase4\").count().show()\n",
    "bench3.withColumn(\n",
    "        x, \n",
    "        F.when(F.array_contains(F.col(x),\"yes\"), F.lit(\"yes\")).otherwise(F.lit(\"no\"))\n",
    "    ).groupBy(x).pivot(\"phase4\").count().show()\n",
    "\n",
    "bench4.withColumn(\n",
    "        x, \n",
    "        F.when(F.array_contains(F.col(x),\"yes\"), F.lit(\"yes\")).otherwise(F.lit(\"no\"))\n",
    "    ).groupBy(x).pivot(\"phase4\").count().show()\n"
   ]
  },
  {
   "cell_type": "code",
   "execution_count": 38,
   "metadata": {},
   "outputs": [
    {
     "name": "stderr",
     "output_type": "stream",
     "text": [
      "                                                                                \r"
     ]
    },
    {
     "name": "stdout",
     "output_type": "stream",
     "text": [
      "+----+----+---+\n",
      "|sqtl|  no|yes|\n",
      "+----+----+---+\n",
      "|  no|2688|969|\n",
      "| yes| 521|236|\n",
      "+----+----+---+\n",
      "\n"
     ]
    },
    {
     "name": "stderr",
     "output_type": "stream",
     "text": [
      "                                                                                \r"
     ]
    },
    {
     "name": "stdout",
     "output_type": "stream",
     "text": [
      "+----+---+---+\n",
      "|sqtl| no|yes|\n",
      "+----+---+---+\n",
      "|  no| 74| 88|\n",
      "| yes|  9| 11|\n",
      "+----+---+---+\n",
      "\n"
     ]
    },
    {
     "name": "stderr",
     "output_type": "stream",
     "text": [
      "[Stage 4196:>                                                       (0 + 1) / 1]\r"
     ]
    },
    {
     "name": "stdout",
     "output_type": "stream",
     "text": [
      "+----+---+---+\n",
      "|sqtl| no|yes|\n",
      "+----+---+---+\n",
      "|  no|147|454|\n",
      "| yes| 12| 65|\n",
      "+----+---+---+\n",
      "\n"
     ]
    },
    {
     "name": "stderr",
     "output_type": "stream",
     "text": [
      "                                                                                \r"
     ]
    }
   ],
   "source": [
    "x=\"sqtl\"\n",
    "bench2.withColumn(\n",
    "        x, \n",
    "        F.when(F.array_contains(F.col(x),\"yes\"), F.lit(\"yes\")).otherwise(F.lit(\"no\"))\n",
    "    ).groupBy(x).pivot(\"phase4\").count().show()\n",
    "bench3.withColumn(\n",
    "        x, \n",
    "        F.when(F.array_contains(F.col(x),\"yes\"), F.lit(\"yes\")).otherwise(F.lit(\"no\"))\n",
    "    ).groupBy(x).pivot(\"phase4\").count().show()\n",
    "\n",
    "bench4.withColumn(\n",
    "        x, \n",
    "        F.when(F.array_contains(F.col(x),\"yes\"), F.lit(\"yes\")).otherwise(F.lit(\"no\"))\n",
    "    ).groupBy(x).pivot(\"phase4\").count().show()"
   ]
  },
  {
   "cell_type": "markdown",
   "metadata": {},
   "source": [
    "### now with studies that we know they perform well"
   ]
  },
  {
   "cell_type": "code",
   "execution_count": 30,
   "metadata": {},
   "outputs": [
    {
     "data": {
      "text/plain": [
       "{'ROSMAP': 'projectId',\n",
       " 'BrainSeq': 'projectId',\n",
       " 'BLUEPRINT': 'projectId',\n",
       " 'GEUVADIS': 'projectId',\n",
       " 'TwinsUK': 'projectId',\n",
       " 'GTEx': 'projectId',\n",
       " 'FUSION': 'projectId',\n",
       " 'Lepik_2017': 'projectId',\n",
       " 'Fairfax_2014': 'projectId',\n",
       " 'CEDAR': 'projectId',\n",
       " 'OneK1K': 'projectId',\n",
       " 'UKB_PPP_EUR': 'projectId',\n",
       " 'Schmiedel_2018': 'projectId',\n",
       " 'Perez_2022': 'projectId',\n",
       " 'Quach_2016': 'projectId',\n",
       " 'Alasoo_2018': 'projectId',\n",
       " 'Gilchrist_2021': 'projectId',\n",
       " 'CommonMind': 'projectId',\n",
       " 'Sun_2018': 'projectId',\n",
       " 'Braineac2': 'projectId',\n",
       " 'Peng_2018': 'projectId',\n",
       " 'Bossini-Castillo_2019': 'projectId',\n",
       " 'Nedelec_2016': 'projectId',\n",
       " 'Steinberg_2020': 'projectId',\n",
       " 'Jerber_2021': 'projectId',\n",
       " 'HipSci': 'projectId',\n",
       " 'GENCORD': 'projectId',\n",
       " 'Kim-Hellmuth_2017': 'projectId',\n",
       " 'CAP': 'projectId',\n",
       " 'iPSCORE': 'projectId',\n",
       " 'PhLiPS': 'projectId',\n",
       " 'Walker_2019': 'projectId',\n",
       " 'Aygun_2021': 'projectId',\n",
       " 'PISA': 'projectId',\n",
       " 'Cytoimmgen': 'projectId',\n",
       " 'van_de_Bunt_2015': 'projectId',\n",
       " 'Nathan_2022': 'projectId',\n",
       " 'Randolph_2021': 'projectId',\n",
       " 'Schwartzentruber_2018': 'projectId',\n",
       " 'Young_2019': 'projectId',\n",
       " 'CD4-positive, alpha-beta T cell': 'biosampleName',\n",
       " 'macrophage': 'biosampleName',\n",
       " 'frontal cortex': 'biosampleName',\n",
       " 'right lobe of liver': 'biosampleName',\n",
       " 'spleen': 'biosampleName',\n",
       " 'blood plasma': 'biosampleName',\n",
       " 'blood': 'biosampleName',\n",
       " 'thyroid gland': 'biosampleName',\n",
       " 'upper lobe of left lung': 'biosampleName',\n",
       " 'fibroblast': 'biosampleName',\n",
       " 'islet of Langerhans': 'biosampleName',\n",
       " 'adipose tissue': 'biosampleName',\n",
       " 'dorsolateral prefrontal cortex': 'biosampleName',\n",
       " 'testis': 'biosampleName',\n",
       " 'breast epithelium': 'biosampleName',\n",
       " 'lymphoblastoid cell line': 'biosampleName',\n",
       " 'CD14-positive, CD16-negative classical monocyte': 'biosampleName',\n",
       " 'placenta': 'biosampleName',\n",
       " 'omental fat pad': 'biosampleName',\n",
       " 'transverse colon': 'biosampleName',\n",
       " 'uterus': 'biosampleName',\n",
       " 'skeletal muscle tissue': 'biosampleName',\n",
       " 'cerebellum': 'biosampleName',\n",
       " 'suprapubic skin': 'biosampleName',\n",
       " 'tibial nerve': 'biosampleName',\n",
       " 'prostate gland': 'biosampleName',\n",
       " 'neutrophil': 'biosampleName',\n",
       " 'gastroesophageal sphincter': 'biosampleName',\n",
       " 'esophagus muscularis mucosa': 'biosampleName',\n",
       " 'body of pancreas': 'biosampleName',\n",
       " 'pituitary gland': 'biosampleName',\n",
       " 'ascending aorta': 'biosampleName',\n",
       " 'esophagus squamous epithelium': 'biosampleName',\n",
       " 'tibial artery': 'biosampleName',\n",
       " 'right atrium auricular region': 'biosampleName',\n",
       " 'sigmoid colon': 'biosampleName',\n",
       " 'skin of body': 'biosampleName',\n",
       " 'floor plate': 'biosampleName',\n",
       " 'induced pluripotent stem cell': 'biosampleName',\n",
       " 'naive regulatory T cell': 'biosampleName',\n",
       " 'amygdala': 'biosampleName',\n",
       " 'anterior cingulate cortex': 'biosampleName',\n",
       " 'nucleus accumbens': 'biosampleName',\n",
       " 'caudate nucleus': 'biosampleName',\n",
       " 'C1 segment of cervical spinal cord': 'biosampleName',\n",
       " 'ovary': 'biosampleName',\n",
       " 'hypothalamus': 'biosampleName',\n",
       " 'CD8-positive, alpha-beta T cell': 'biosampleName',\n",
       " \"Ammon's horn\": 'biosampleName',\n",
       " 'substantia nigra': 'biosampleName',\n",
       " 'adrenal gland': 'biosampleName',\n",
       " 'putamen': 'biosampleName',\n",
       " 'coronary artery': 'biosampleName',\n",
       " 'CD14-low, CD16-positive monocyte': 'biosampleName',\n",
       " 'microglial cell': 'biosampleName',\n",
       " 'T-helper 17 cell': 'biosampleName',\n",
       " 'stomach': 'biosampleName',\n",
       " 'vagina': 'biosampleName',\n",
       " 'cortex of kidney': 'biosampleName',\n",
       " \"Peyer's patch\": 'biosampleName',\n",
       " 'natural killer cell': 'biosampleName',\n",
       " 'left ventricle myocardium': 'biosampleName',\n",
       " 'B cell': 'biosampleName',\n",
       " 'central memory CD4-positive, alpha-beta T cell': 'biosampleName',\n",
       " 'anterior lingual gland': 'biosampleName',\n",
       " 'dopaminergic neuron': 'biosampleName',\n",
       " 'memory B cell': 'biosampleName',\n",
       " 'effector memory CD8-positive, alpha-beta T cell': 'biosampleName',\n",
       " 'CD4-positive, alpha-beta memory T cell': 'biosampleName',\n",
       " 'serotonergic neuron': 'biosampleName',\n",
       " 'neuron': 'biosampleName',\n",
       " 'neocortex': 'biosampleName',\n",
       " 'memory regulatory T cell': 'biosampleName',\n",
       " 'T-helper 2 cell': 'biosampleName',\n",
       " 'T-helper 1 cell': 'biosampleName',\n",
       " 'sensory neuron': 'biosampleName',\n",
       " 'neural progenitor cell': 'biosampleName',\n",
       " 'layer of synovial tissue': 'biosampleName',\n",
       " 'T cell': 'biosampleName',\n",
       " 'eqtl': 'rightStudyType',\n",
       " 'sqtl': 'rightStudyType',\n",
       " 'tuqtl': 'rightStudyType',\n",
       " 'sceqtl': 'rightStudyType',\n",
       " 'pqtl': 'rightStudyType',\n",
       " 'sctuqtl': 'rightStudyType',\n",
       " 'scsqtl': 'rightStudyType',\n",
       " 'GoF_protect': 'colocDoE',\n",
       " 'LoF_protect': 'colocDoE'}"
      ]
     },
     "execution_count": 30,
     "metadata": {},
     "output_type": "execute_result"
    }
   ],
   "source": [
    "disdic"
   ]
  },
  {
   "cell_type": "code",
   "execution_count": 31,
   "metadata": {},
   "outputs": [
    {
     "name": "stderr",
     "output_type": "stream",
     "text": [
      "                                                                                \r"
     ]
    }
   ],
   "source": [
    "#### build list of comparison and prediction columns\n",
    "rows=comparisons_df_iterative(disdic,variables_study[2])[0]\n",
    "#### prepare aggregation depending on the variable problem\n",
    "window_spec = Window.partitionBy(\"targetId\",\"diseaseId\",\"projectId\").orderBy(F.col(\"pValueExponent\").asc())\n",
    "#### take directionality from lowest p value\n",
    "bench2=benchmark.withColumn(\"agree_lowestPval\", F.first(\"AgreeDrug\").over(window_spec)\n",
    "    ).groupBy(\"targetId\", \"diseaseId\", \"clinicalStudyId\",\"clinicalPhase\",\"maxClinPhase\",\"approvedDrug\").pivot(\"projectId\").agg(F.collect_set(\"agree_lowestPVal\")\n",
    "    ).withColumn(\n",
    "    \"Phase4\",\n",
    "    F.when(F.col(\"maxClinPhase\") == 4, F.lit(\"yes\")).otherwise(F.lit(\"no\")),\n",
    "    ).withColumn(\n",
    "        \"Phase>=3\",\n",
    "        F.when(F.col(\"maxClinPhase\") >= 3, F.lit(\"yes\")).otherwise(F.lit(\"no\")),\n",
    "    ).withColumn(\n",
    "        \"Phase>=2\",\n",
    "        F.when(F.col(\"maxClinPhase\") >= 2, F.lit(\"yes\")).otherwise(F.lit(\"no\")),\n",
    "    ).withColumn(\n",
    "        \"Phase>=1\",\n",
    "        F.when(F.col(\"maxClinPhase\") >= 1, F.lit(\"yes\")).otherwise(F.lit(\"no\")),\n",
    "    ).withColumn(\n",
    "    \"approved\",\n",
    "        F.when(F.col(\"approvedDrug\")==1, F.lit(\"yes\")).otherwise(F.lit(\"no\")),\n",
    "    )\n",
    "#### build columns yes/no for each distinct value in the column variable\n",
    "\n",
    "bench3=benchmark.withColumn(\"agree_lowestPval\", F.first(\"AgreeDrug\").over(window_spec)\n",
    "    ).withColumn(\n",
    "            \"maxClinPhase_TD\", ### no longer maxclinphase for T-D\n",
    "            F.max(\"clinicalPhase\").over(Window.partitionBy(\"targetId\", \"diseaseId\")),\n",
    "    ).groupBy(\"targetId\", \"diseaseId\", \"maxClinPhase_TD\",\"approvedDrug\").pivot(\"projectId\").agg(F.collect_set(\"agree_lowestPVal\")\n",
    "    ).withColumn(\n",
    "    \"Phase4\",\n",
    "    F.when(F.col(\"maxClinPhase_TD\") == 4, F.lit(\"yes\")).otherwise(F.lit(\"no\")),\n",
    "    ).withColumn(\n",
    "        \"Phase>=3\",\n",
    "        F.when(F.col(\"maxClinPhase_TD\") >= 3, F.lit(\"yes\")).otherwise(F.lit(\"no\")),\n",
    "    ).withColumn(\n",
    "        \"Phase>=2\",\n",
    "        F.when(F.col(\"maxClinPhase_TD\") >= 2, F.lit(\"yes\")).otherwise(F.lit(\"no\")),\n",
    "    ).withColumn(\n",
    "        \"Phase>=1\",\n",
    "        F.when(F.col(\"maxClinPhase_TD\") >= 1, F.lit(\"yes\")).otherwise(F.lit(\"no\")),\n",
    "    ).withColumn(\n",
    "    \"approved\",\n",
    "        F.when(F.col(\"approvedDrug\")==1, F.lit(\"yes\")).otherwise(F.lit(\"no\")),\n",
    "    )\n",
    "#### build columns yes/no for each distinct value in the column variable\n",
    "bench4=benchmark.withColumn(\"agree_lowestPval\", F.first(\"AgreeDrug\").over(window_spec)\n",
    "    ).withColumn(\n",
    "            \"maxClinPhase_TD\", ### no longer maxclinphase for T-D\n",
    "            F.max(\"clinicalPhase\").over(Window.partitionBy(\"targetId\", \"diseaseId\")),\n",
    "    ).groupBy(\"targetId\", \"diseaseId\",\"drugId\", \"maxClinPhase_TD\",\"approvedDrug\").pivot(\"projectId\").agg(F.collect_set(\"agree_lowestPVal\")\n",
    "    ).withColumn(\n",
    "    \"Phase4\",\n",
    "    F.when(F.col(\"maxClinPhase_TD\") == 4, F.lit(\"yes\")).otherwise(F.lit(\"no\")),\n",
    "    ).withColumn(\n",
    "        \"Phase>=3\",\n",
    "        F.when(F.col(\"maxClinPhase_TD\") >= 3, F.lit(\"yes\")).otherwise(F.lit(\"no\")),\n",
    "    ).withColumn(\n",
    "        \"Phase>=2\",\n",
    "        F.when(F.col(\"maxClinPhase_TD\") >= 2, F.lit(\"yes\")).otherwise(F.lit(\"no\")),\n",
    "    ).withColumn(\n",
    "        \"Phase>=1\",\n",
    "        F.when(F.col(\"maxClinPhase_TD\") >= 1, F.lit(\"yes\")).otherwise(F.lit(\"no\")),\n",
    "    ).withColumn(\n",
    "    \"approved\",\n",
    "        F.when(F.col(\"approvedDrug\")==1, F.lit(\"yes\")).otherwise(F.lit(\"no\")),\n",
    "    )"
   ]
  },
  {
   "cell_type": "code",
   "execution_count": 33,
   "metadata": {},
   "outputs": [
    {
     "name": "stderr",
     "output_type": "stream",
     "text": [
      "                                                                                \r"
     ]
    },
    {
     "name": "stdout",
     "output_type": "stream",
     "text": [
      "+-----------+----+----+\n",
      "|UKB_PPP_EUR|  no| yes|\n",
      "+-----------+----+----+\n",
      "|         no|2944|1142|\n",
      "|        yes| 265|  63|\n",
      "+-----------+----+----+\n",
      "\n"
     ]
    },
    {
     "name": "stderr",
     "output_type": "stream",
     "text": [
      "                                                                                \r"
     ]
    },
    {
     "name": "stdout",
     "output_type": "stream",
     "text": [
      "+-----------+---+---+\n",
      "|UKB_PPP_EUR| no|yes|\n",
      "+-----------+---+---+\n",
      "|         no| 77| 78|\n",
      "|        yes|  6| 21|\n",
      "+-----------+---+---+\n",
      "\n"
     ]
    },
    {
     "name": "stderr",
     "output_type": "stream",
     "text": [
      "[Stage 2775:=======================================>           (154 + 16) / 200]\r"
     ]
    },
    {
     "name": "stdout",
     "output_type": "stream",
     "text": [
      "+-----------+---+---+\n",
      "|UKB_PPP_EUR| no|yes|\n",
      "+-----------+---+---+\n",
      "|         no|152|444|\n",
      "|        yes|  7| 75|\n",
      "+-----------+---+---+\n",
      "\n"
     ]
    },
    {
     "name": "stderr",
     "output_type": "stream",
     "text": [
      "                                                                                \r"
     ]
    }
   ],
   "source": [
    "x=\"UKB_PPP_EUR\"\n",
    "bench2.withColumn(\n",
    "        x, \n",
    "        F.when(F.array_contains(F.col(x),\"yes\"), F.lit(\"yes\")).otherwise(F.lit(\"no\"))\n",
    "    ).groupBy(x).pivot(\"phase4\").count().show()\n",
    "bench3.withColumn(\n",
    "        x, \n",
    "        F.when(F.array_contains(F.col(x),\"yes\"), F.lit(\"yes\")).otherwise(F.lit(\"no\"))\n",
    "    ).groupBy(x).pivot(\"phase4\").count().show()\n",
    "\n",
    "bench4.withColumn(\n",
    "        x, \n",
    "        F.when(F.array_contains(F.col(x),\"yes\"), F.lit(\"yes\")).otherwise(F.lit(\"no\"))\n",
    "    ).groupBy(x).pivot(\"phase4\").count().show()"
   ]
  },
  {
   "cell_type": "markdown",
   "metadata": {},
   "source": [
    "### build report to analyse different comparisons"
   ]
  },
  {
   "cell_type": "code",
   "execution_count": null,
   "metadata": {},
   "outputs": [
    {
     "name": "stderr",
     "output_type": "stream",
     "text": [
      "                                                                                \r"
     ]
    }
   ],
   "source": [
    "### including clinicalStudyId to explode the data\n",
    "\n",
    "#### build list of comparison and prediction columns\n",
    "rows=comparisons_df_iterative(disdic,variables_study[2])[0]\n",
    "#### prepare aggregation depending on the variable problem\n",
    "window_spec = Window.partitionBy(\"targetId\",\"diseaseId\",\"projectId\").orderBy(F.col(\"pValueExponent\").asc())\n",
    "#### take directionality from lowest p value\n",
    "bench2=benchmark.withColumn(\"agree_lowestPval\", F.first(\"AgreeDrug\").over(window_spec)\n",
    "    ).groupBy(\"targetId\", \"diseaseId\", \"clinicalStudyId\",\"clinicalPhase\",\"maxClinPhase\",\"approvedDrug\").pivot(\"projectId\").agg(F.collect_set(\"agree_lowestPVal\")\n",
    "    ).withColumn(\n",
    "    \"Phase4\",\n",
    "    F.when(F.col(\"maxClinPhase\") == 4, F.lit(\"yes\")).otherwise(F.lit(\"no\")),\n",
    "    ).withColumn(\n",
    "        \"Phase>=3\",\n",
    "        F.when(F.col(\"maxClinPhase\") >= 3, F.lit(\"yes\")).otherwise(F.lit(\"no\")),\n",
    "    ).withColumn(\n",
    "        \"Phase>=2\",\n",
    "        F.when(F.col(\"maxClinPhase\") >= 2, F.lit(\"yes\")).otherwise(F.lit(\"no\")),\n",
    "    ).withColumn(\n",
    "        \"Phase>=1\",\n",
    "        F.when(F.col(\"maxClinPhase\") >= 1, F.lit(\"yes\")).otherwise(F.lit(\"no\")),\n",
    "    ).withColumn(\n",
    "    \"approved\",\n",
    "        F.when(F.col(\"approvedDrug\")==1, F.lit(\"yes\")).otherwise(F.lit(\"no\")),\n",
    "    )\n",
    "#### build columns yes/no for each distinct value in the column variable\n",
    "\n",
    "bench3=benchmark.withColumn(\"agree_lowestPval\", F.first(\"AgreeDrug\").over(window_spec)\n",
    "    ).withColumn(\n",
    "            \"maxClinPhase_TD\", ### no longer maxclinphase for T-D\n",
    "            F.max(\"clinicalPhase\").over(Window.partitionBy(\"targetId\", \"diseaseId\")),\n",
    "    ).groupBy(\"targetId\", \"diseaseId\", \"maxClinPhase_TD\",\"approvedDrug\").pivot(\"projectId\").agg(F.collect_set(\"agree_lowestPVal\")\n",
    "    ).withColumn(\n",
    "    \"Phase4\",\n",
    "    F.when(F.col(\"maxClinPhase_TD\") == 4, F.lit(\"yes\")).otherwise(F.lit(\"no\")),\n",
    "    ).withColumn(\n",
    "        \"Phase>=3\",\n",
    "        F.when(F.col(\"maxClinPhase_TD\") >= 3, F.lit(\"yes\")).otherwise(F.lit(\"no\")),\n",
    "    ).withColumn(\n",
    "        \"Phase>=2\",\n",
    "        F.when(F.col(\"maxClinPhase_TD\") >= 2, F.lit(\"yes\")).otherwise(F.lit(\"no\")),\n",
    "    ).withColumn(\n",
    "        \"Phase>=1\",\n",
    "        F.when(F.col(\"maxClinPhase_TD\") >= 1, F.lit(\"yes\")).otherwise(F.lit(\"no\")),\n",
    "    ).withColumn(\n",
    "    \"approved\",\n",
    "        F.when(F.col(\"approvedDrug\")==1, F.lit(\"yes\")).otherwise(F.lit(\"no\")),\n",
    "    )\n",
    "#### build columns yes/no for each distinct value in the column variable\n",
    "bench4=benchmark.withColumn(\"agree_lowestPval\", F.first(\"AgreeDrug\").over(window_spec)\n",
    "    ).withColumn(\n",
    "            \"maxClinPhase_TD\", ### no longer maxclinphase for T-D\n",
    "            F.max(\"clinicalPhase\").over(Window.partitionBy(\"targetId\", \"diseaseId\")),\n",
    "    ).groupBy(\"targetId\", \"diseaseId\",\"drugId\", \"maxClinPhase_TD\",\"approvedDrug\").pivot(\"projectId\").agg(F.collect_set(\"agree_lowestPVal\")\n",
    "    ).withColumn(\n",
    "    \"Phase4\",\n",
    "    F.when(F.col(\"maxClinPhase_TD\") == 4, F.lit(\"yes\")).otherwise(F.lit(\"no\")),\n",
    "    ).withColumn(\n",
    "        \"Phase>=3\",\n",
    "        F.when(F.col(\"maxClinPhase_TD\") >= 3, F.lit(\"yes\")).otherwise(F.lit(\"no\")),\n",
    "    ).withColumn(\n",
    "        \"Phase>=2\",\n",
    "        F.when(F.col(\"maxClinPhase_TD\") >= 2, F.lit(\"yes\")).otherwise(F.lit(\"no\")),\n",
    "    ).withColumn(\n",
    "        \"Phase>=1\",\n",
    "        F.when(F.col(\"maxClinPhase_TD\") >= 1, F.lit(\"yes\")).otherwise(F.lit(\"no\")),\n",
    "    ).withColumn(\n",
    "    \"approved\",\n",
    "        F.when(F.col(\"approvedDrug\")==1, F.lit(\"yes\")).otherwise(F.lit(\"no\")),\n",
    "    )\n",
    "bench5=benchmark.withColumn(\"agree_lowestPval\", F.first(\"AgreeDrug\").over(window_spec)\n",
    "    ).withColumn(\n",
    "            \"maxClinPhase_TD\", ### no longer maxclinphase for T-D\n",
    "            F.max(\"clinicalPhase\").over(Window.partitionBy(\"targetId\", \"diseaseId\")),\n",
    "    ).groupBy(\"targetId\", \"diseaseId\",\"drugId\",\"clinicalStudyId\", \"maxClinPhase_TD\",\"approvedDrug\").pivot(\"projectId\").agg(F.collect_set(\"agree_lowestPVal\")\n",
    "    ).withColumn(\n",
    "    \"Phase4\",\n",
    "    F.when(F.col(\"maxClinPhase_TD\") == 4, F.lit(\"yes\")).otherwise(F.lit(\"no\")),\n",
    "    ).withColumn(\n",
    "        \"Phase>=3\",\n",
    "        F.when(F.col(\"maxClinPhase_TD\") >= 3, F.lit(\"yes\")).otherwise(F.lit(\"no\")),\n",
    "    ).withColumn(\n",
    "        \"Phase>=2\",\n",
    "        F.when(F.col(\"maxClinPhase_TD\") >= 2, F.lit(\"yes\")).otherwise(F.lit(\"no\")),\n",
    "    ).withColumn(\n",
    "        \"Phase>=1\",\n",
    "        F.when(F.col(\"maxClinPhase_TD\") >= 1, F.lit(\"yes\")).otherwise(F.lit(\"no\")),\n",
    "    ).withColumn(\n",
    "    \"approved\",\n",
    "        F.when(F.col(\"approvedDrug\")==1, F.lit(\"yes\")).otherwise(F.lit(\"no\")),\n",
    "    )"
   ]
  },
  {
   "cell_type": "code",
   "execution_count": null,
   "metadata": {},
   "outputs": [
    {
     "name": "stderr",
     "output_type": "stream",
     "text": [
      "                                                                                \r"
     ]
    },
    {
     "name": "stdout",
     "output_type": "stream",
     "text": [
      "+-----------+----+----+\n",
      "|UKB_PPP_EUR|  no| yes|\n",
      "+-----------+----+----+\n",
      "|         no|2944|1142|\n",
      "|        yes| 265|  63|\n",
      "+-----------+----+----+\n",
      "\n"
     ]
    },
    {
     "name": "stderr",
     "output_type": "stream",
     "text": [
      "                                                                                \r"
     ]
    },
    {
     "name": "stdout",
     "output_type": "stream",
     "text": [
      "+-----------+---+---+\n",
      "|UKB_PPP_EUR| no|yes|\n",
      "+-----------+---+---+\n",
      "|         no|266| 78|\n",
      "|        yes| 39| 21|\n",
      "+-----------+---+---+\n",
      "\n"
     ]
    },
    {
     "name": "stderr",
     "output_type": "stream",
     "text": [
      "                                                                                \r"
     ]
    },
    {
     "name": "stdout",
     "output_type": "stream",
     "text": [
      "+-----------+---+---+\n",
      "|UKB_PPP_EUR| no|yes|\n",
      "+-----------+---+---+\n",
      "|         no|723|323|\n",
      "|        yes| 94| 47|\n",
      "+-----------+---+---+\n",
      "\n"
     ]
    },
    {
     "name": "stderr",
     "output_type": "stream",
     "text": [
      "[Stage 5587:=========================================>         (163 + 16) / 200]\r"
     ]
    },
    {
     "name": "stdout",
     "output_type": "stream",
     "text": [
      "+-----------+----+----+\n",
      "|UKB_PPP_EUR|  no| yes|\n",
      "+-----------+----+----+\n",
      "|         no|3471|1630|\n",
      "|        yes| 270|  86|\n",
      "+-----------+----+----+\n",
      "\n"
     ]
    },
    {
     "name": "stderr",
     "output_type": "stream",
     "text": [
      "                                                                                \r"
     ]
    }
   ],
   "source": [
    "## al clinical phases with drugId\n",
    "x=\"UKB_PPP_EUR\"\n",
    "bench2.withColumn(\n",
    "        x, \n",
    "        F.when(F.array_contains(F.col(x),\"yes\"), F.lit(\"yes\")).otherwise(F.lit(\"no\"))\n",
    "    ).groupBy(x).pivot(\"phase4\").count().select(x,\"yes\",\"no\").sort(F.col(x).desc()).show()\n",
    "bench3.withColumn(\n",
    "        x, \n",
    "        F.when(F.array_contains(F.col(x),\"yes\"), F.lit(\"yes\")).otherwise(F.lit(\"no\"))\n",
    "    ).groupBy(x).pivot(\"phase4\").count().select(x,\"yes\",\"no\").sort(F.col(x).desc()).show()\n",
    "\n",
    "bench4.withColumn(\n",
    "        x, \n",
    "        F.when(F.array_contains(F.col(x),\"yes\"), F.lit(\"yes\")).otherwise(F.lit(\"no\"))\n",
    "    ).groupBy(x).pivot(\"phase4\").count().select(x,\"yes\",\"no\").sort(F.col(x).desc()).show()\n",
    "\n",
    "bench5.withColumn(\n",
    "        x, \n",
    "        F.when(F.array_contains(F.col(x),\"yes\"), F.lit(\"yes\")).otherwise(F.lit(\"no\"))\n",
    "    ).groupBy(x).pivot(\"phase4\").count().select(x,\"yes\",\"no\").sort(F.col(x).desc()).show()"
   ]
  },
  {
   "cell_type": "code",
   "execution_count": 43,
   "metadata": {},
   "outputs": [
    {
     "name": "stderr",
     "output_type": "stream",
     "text": [
      "                                                                                \r"
     ]
    }
   ],
   "source": [
    "### using maximum clinical phases per target-disease-drugId \n",
    "\n",
    "\n",
    "#### build list of comparison and prediction columns\n",
    "rows=comparisons_df_iterative(disdic,variables_study[2])[0]\n",
    "#### prepare aggregation depending on the variable problem\n",
    "window_spec = Window.partitionBy(\"targetId\",\"diseaseId\",\"projectId\").orderBy(F.col(\"pValueExponent\").asc())\n",
    "#### take directionality from lowest p value\n",
    "bench2=benchmark.withColumn(\"agree_lowestPval\", F.first(\"AgreeDrug\").over(window_spec)\n",
    "    ).groupBy(\"targetId\", \"diseaseId\", \"clinicalStudyId\",\"clinicalPhase\",\"maxClinPhase\",\"approvedDrug\").pivot(\"projectId\").agg(F.collect_set(\"agree_lowestPVal\")\n",
    "    ).withColumn(\n",
    "    \"Phase4\",\n",
    "    F.when(F.col(\"maxClinPhase\") == 4, F.lit(\"yes\")).otherwise(F.lit(\"no\")),\n",
    "    ).withColumn(\n",
    "        \"Phase>=3\",\n",
    "        F.when(F.col(\"maxClinPhase\") >= 3, F.lit(\"yes\")).otherwise(F.lit(\"no\")),\n",
    "    ).withColumn(\n",
    "        \"Phase>=2\",\n",
    "        F.when(F.col(\"maxClinPhase\") >= 2, F.lit(\"yes\")).otherwise(F.lit(\"no\")),\n",
    "    ).withColumn(\n",
    "        \"Phase>=1\",\n",
    "        F.when(F.col(\"maxClinPhase\") >= 1, F.lit(\"yes\")).otherwise(F.lit(\"no\")),\n",
    "    ).withColumn(\n",
    "    \"approved\",\n",
    "        F.when(F.col(\"approvedDrug\")==1, F.lit(\"yes\")).otherwise(F.lit(\"no\")),\n",
    "    )\n",
    "#### build columns yes/no for each distinct value in the column variable\n",
    "\n",
    "bench3=benchmark.withColumn(\"agree_lowestPval\", F.first(\"AgreeDrug\").over(window_spec)\n",
    "    ).withColumn(\n",
    "            \"maxClinPhase_TD\", ### no longer maxclinphase for T-D\n",
    "            F.max(\"clinicalPhase\").over(Window.partitionBy(\"targetId\", \"diseaseId\")),\n",
    "    ).groupBy(\"targetId\", \"diseaseId\", \"maxClinPhase\",\"approvedDrug\").pivot(\"projectId\").agg(F.collect_set(\"agree_lowestPVal\")\n",
    "    ).withColumn(\n",
    "    \"Phase4\",\n",
    "    F.when(F.col(\"maxClinPhase\") == 4, F.lit(\"yes\")).otherwise(F.lit(\"no\")),\n",
    "    ).withColumn(\n",
    "        \"Phase>=3\",\n",
    "        F.when(F.col(\"maxClinPhase\") >= 3, F.lit(\"yes\")).otherwise(F.lit(\"no\")),\n",
    "    ).withColumn(\n",
    "        \"Phase>=2\",\n",
    "        F.when(F.col(\"maxClinPhase\") >= 2, F.lit(\"yes\")).otherwise(F.lit(\"no\")),\n",
    "    ).withColumn(\n",
    "        \"Phase>=1\",\n",
    "        F.when(F.col(\"maxClinPhase\") >= 1, F.lit(\"yes\")).otherwise(F.lit(\"no\")),\n",
    "    ).withColumn(\n",
    "    \"approved\",\n",
    "        F.when(F.col(\"approvedDrug\")==1, F.lit(\"yes\")).otherwise(F.lit(\"no\")),\n",
    "    )\n",
    "#### build columns yes/no for each distinct value in the column variable\n",
    "bench4=benchmark.withColumn(\"agree_lowestPval\", F.first(\"AgreeDrug\").over(window_spec)\n",
    "    ).withColumn(\n",
    "            \"maxClinPhase_TD\", ### no longer maxclinphase for T-D\n",
    "            F.max(\"clinicalPhase\").over(Window.partitionBy(\"targetId\", \"diseaseId\",\"drugId\")),\n",
    "    ).groupBy(\"targetId\", \"diseaseId\",\"drugId\", \"maxClinPhase_TD\",\"approvedDrug\").pivot(\"projectId\").agg(F.collect_set(\"agree_lowestPVal\")\n",
    "    ).withColumn(\n",
    "    \"Phase4\",\n",
    "    F.when(F.col(\"maxClinPhase_TD\") == 4, F.lit(\"yes\")).otherwise(F.lit(\"no\")),\n",
    "    ).withColumn(\n",
    "        \"Phase>=3\",\n",
    "        F.when(F.col(\"maxClinPhase_TD\") >= 3, F.lit(\"yes\")).otherwise(F.lit(\"no\")),\n",
    "    ).withColumn(\n",
    "        \"Phase>=2\",\n",
    "        F.when(F.col(\"maxClinPhase_TD\") >= 2, F.lit(\"yes\")).otherwise(F.lit(\"no\")),\n",
    "    ).withColumn(\n",
    "        \"Phase>=1\",\n",
    "        F.when(F.col(\"maxClinPhase_TD\") >= 1, F.lit(\"yes\")).otherwise(F.lit(\"no\")),\n",
    "    ).withColumn(\n",
    "    \"approved\",\n",
    "        F.when(F.col(\"approvedDrug\")==1, F.lit(\"yes\")).otherwise(F.lit(\"no\")),\n",
    "    )\n",
    "bench5=benchmark.withColumn(\"agree_lowestPval\", F.first(\"AgreeDrug\").over(window_spec)\n",
    "    ).withColumn(\n",
    "            \"maxClinPhase_TD\", ### no longer maxclinphase for T-D\n",
    "            F.max(\"clinicalPhase\").over(Window.partitionBy(\"targetId\", \"diseaseId\",\"drugId\")),\n",
    "    ).groupBy(\"targetId\", \"diseaseId\",\"drugId\",\"clinicalStudyId\", \"maxClinPhase_TD\",\"approvedDrug\").pivot(\"projectId\").agg(F.collect_set(\"agree_lowestPVal\")\n",
    "    ).withColumn(\n",
    "    \"Phase4\",\n",
    "    F.when(F.col(\"maxClinPhase_TD\") == 4, F.lit(\"yes\")).otherwise(F.lit(\"no\")),\n",
    "    ).withColumn(\n",
    "        \"Phase>=3\",\n",
    "        F.when(F.col(\"maxClinPhase_TD\") >= 3, F.lit(\"yes\")).otherwise(F.lit(\"no\")),\n",
    "    ).withColumn(\n",
    "        \"Phase>=2\",\n",
    "        F.when(F.col(\"maxClinPhase_TD\") >= 2, F.lit(\"yes\")).otherwise(F.lit(\"no\")),\n",
    "    ).withColumn(\n",
    "        \"Phase>=1\",\n",
    "        F.when(F.col(\"maxClinPhase_TD\") >= 1, F.lit(\"yes\")).otherwise(F.lit(\"no\")),\n",
    "    ).withColumn(\n",
    "    \"approved\",\n",
    "        F.when(F.col(\"approvedDrug\")==1, F.lit(\"yes\")).otherwise(F.lit(\"no\")),\n",
    "    )"
   ]
  },
  {
   "cell_type": "code",
   "execution_count": 44,
   "metadata": {},
   "outputs": [
    {
     "name": "stderr",
     "output_type": "stream",
     "text": [
      "                                                                                \r"
     ]
    },
    {
     "name": "stdout",
     "output_type": "stream",
     "text": [
      "+-----------+----+----+\n",
      "|UKB_PPP_EUR|  no| yes|\n",
      "+-----------+----+----+\n",
      "|         no|2944|1142|\n",
      "|        yes| 265|  63|\n",
      "+-----------+----+----+\n",
      "\n"
     ]
    },
    {
     "name": "stderr",
     "output_type": "stream",
     "text": [
      "                                                                                \r"
     ]
    },
    {
     "name": "stdout",
     "output_type": "stream",
     "text": [
      "+-----------+---+---+\n",
      "|UKB_PPP_EUR| no|yes|\n",
      "+-----------+---+---+\n",
      "|         no|266| 78|\n",
      "|        yes| 39| 21|\n",
      "+-----------+---+---+\n",
      "\n"
     ]
    },
    {
     "name": "stderr",
     "output_type": "stream",
     "text": [
      "                                                                                \r"
     ]
    },
    {
     "name": "stdout",
     "output_type": "stream",
     "text": [
      "+-----------+---+---+\n",
      "|UKB_PPP_EUR| no|yes|\n",
      "+-----------+---+---+\n",
      "|         no|273|323|\n",
      "|        yes| 35| 47|\n",
      "+-----------+---+---+\n",
      "\n"
     ]
    },
    {
     "name": "stderr",
     "output_type": "stream",
     "text": [
      "[Stage 6617:============================================>      (176 + 16) / 200]\r"
     ]
    },
    {
     "name": "stdout",
     "output_type": "stream",
     "text": [
      "+-----------+---+----+\n",
      "|UKB_PPP_EUR| no| yes|\n",
      "+-----------+---+----+\n",
      "|         no|658|4443|\n",
      "|        yes| 76| 280|\n",
      "+-----------+---+----+\n",
      "\n"
     ]
    },
    {
     "name": "stderr",
     "output_type": "stream",
     "text": [
      "                                                                                \r"
     ]
    }
   ],
   "source": [
    "x=\"UKB_PPP_EUR\"\n",
    "bench2.withColumn(\n",
    "        x, \n",
    "        F.when(F.array_contains(F.col(x),\"yes\"), F.lit(\"yes\")).otherwise(F.lit(\"no\"))\n",
    "    ).groupBy(x).pivot(\"phase4\").count().show()\n",
    "bench3.withColumn(\n",
    "        x, \n",
    "        F.when(F.array_contains(F.col(x),\"yes\"), F.lit(\"yes\")).otherwise(F.lit(\"no\"))\n",
    "    ).groupBy(x).pivot(\"phase4\").count().show()\n",
    "\n",
    "bench4.withColumn(\n",
    "        x, \n",
    "        F.when(F.array_contains(F.col(x),\"yes\"), F.lit(\"yes\")).otherwise(F.lit(\"no\"))\n",
    "    ).groupBy(x).pivot(\"phase4\").count().show()\n",
    "\n",
    "bench5.withColumn(\n",
    "        x, \n",
    "        F.when(F.array_contains(F.col(x),\"yes\"), F.lit(\"yes\")).otherwise(F.lit(\"no\"))\n",
    "    ).groupBy(x).pivot(\"phase4\").count().show()"
   ]
  },
  {
   "cell_type": "code",
   "execution_count": null,
   "metadata": {},
   "outputs": [],
   "source": []
  },
  {
   "cell_type": "code",
   "execution_count": 35,
   "metadata": {},
   "outputs": [
    {
     "name": "stderr",
     "output_type": "stream",
     "text": [
      "                                                                                \r"
     ]
    },
    {
     "name": "stdout",
     "output_type": "stream",
     "text": [
      "+-----------+----+----+\n",
      "|UKB_PPP_EUR|  no| yes|\n",
      "+-----------+----+----+\n",
      "|         no|2944|1142|\n",
      "|        yes| 265|  63|\n",
      "+-----------+----+----+\n",
      "\n"
     ]
    },
    {
     "name": "stderr",
     "output_type": "stream",
     "text": [
      "                                                                                \r"
     ]
    },
    {
     "name": "stdout",
     "output_type": "stream",
     "text": [
      "+-----------+---+---+\n",
      "|UKB_PPP_EUR| no|yes|\n",
      "+-----------+---+---+\n",
      "|         no| 77| 78|\n",
      "|        yes|  6| 21|\n",
      "+-----------+---+---+\n",
      "\n"
     ]
    },
    {
     "name": "stderr",
     "output_type": "stream",
     "text": [
      "                                                                                \r"
     ]
    },
    {
     "name": "stdout",
     "output_type": "stream",
     "text": [
      "+-----------+---+---+\n",
      "|UKB_PPP_EUR| no|yes|\n",
      "+-----------+---+---+\n",
      "|         no|152|444|\n",
      "|        yes|  7| 75|\n",
      "+-----------+---+---+\n",
      "\n"
     ]
    },
    {
     "name": "stderr",
     "output_type": "stream",
     "text": [
      "[Stage 3576:===============================================>   (186 + 11) / 200]\r"
     ]
    },
    {
     "name": "stdout",
     "output_type": "stream",
     "text": [
      "+-----------+---+----+\n",
      "|UKB_PPP_EUR| no| yes|\n",
      "+-----------+---+----+\n",
      "|         no|276|4825|\n",
      "|        yes|  9| 347|\n",
      "+-----------+---+----+\n",
      "\n"
     ]
    },
    {
     "name": "stderr",
     "output_type": "stream",
     "text": [
      "                                                                                \r"
     ]
    }
   ],
   "source": [
    "x=\"UKB_PPP_EUR\"\n",
    "bench2.withColumn(\n",
    "        x, \n",
    "        F.when(F.array_contains(F.col(x),\"yes\"), F.lit(\"yes\")).otherwise(F.lit(\"no\"))\n",
    "    ).groupBy(x).pivot(\"phase4\").count().show()\n",
    "bench3.withColumn(\n",
    "        x, \n",
    "        F.when(F.array_contains(F.col(x),\"yes\"), F.lit(\"yes\")).otherwise(F.lit(\"no\"))\n",
    "    ).groupBy(x).pivot(\"phase4\").count().show()\n",
    "\n",
    "bench4.withColumn(\n",
    "        x, \n",
    "        F.when(F.array_contains(F.col(x),\"yes\"), F.lit(\"yes\")).otherwise(F.lit(\"no\"))\n",
    "    ).groupBy(x).pivot(\"phase4\").count().show()\n",
    "\n",
    "bench5.withColumn(\n",
    "        x, \n",
    "        F.when(F.array_contains(F.col(x),\"yes\"), F.lit(\"yes\")).otherwise(F.lit(\"no\"))\n",
    "    ).groupBy(x).pivot(\"phase4\").count().show()"
   ]
  },
  {
   "cell_type": "code",
   "execution_count": null,
   "metadata": {},
   "outputs": [],
   "source": [
    "####2 Define agregation function\n",
    "import pandas as pd\n",
    "import numpy as np\n",
    "from scipy.stats import fisher_exact\n",
    "from scipy.stats.contingency import odds_ratio\n",
    "from pyspark.sql.types import *\n",
    "\n",
    "def convertTuple(tup):\n",
    "    st = \",\".join(map(str, tup))\n",
    "    return st\n",
    "\n",
    "#####3 run in a function\n",
    "def aggregations_original(\n",
    "    df,\n",
    "    data,\n",
    "    listado,\n",
    "    comparisonColumn,\n",
    "    comparisonType,\n",
    "    predictionColumn,\n",
    "    predictionType,\n",
    "    today_date,\n",
    "):\n",
    "    wComparison = Window.partitionBy(comparisonColumn)\n",
    "    wPrediction = Window.partitionBy(predictionColumn)\n",
    "    wPredictionComparison = Window.partitionBy(comparisonColumn, predictionColumn)\n",
    "    results = []\n",
    "    # uniqIds = df.select(\"targetId\", \"diseaseId\").distinct().count()\n",
    "    out = (\n",
    "        df.withColumn(\"comparisonType\", F.lit(comparisonType))\n",
    "        .withColumn(\"dataset\", F.lit(data))\n",
    "        .withColumn(\"predictionType\", F.lit(predictionType))\n",
    "        # .withColumn(\"total\", F.lit(uniqIds))\n",
    "        .withColumn(\"a\", F.count(\"targetId\").over(wPredictionComparison))\n",
    "        .withColumn(\"comparisonColumn\", F.lit(comparisonColumn))\n",
    "        .withColumn(\"predictionColumnValue\", F.lit(predictionColumn))\n",
    "        .withColumn(\n",
    "            \"predictionTotal\",\n",
    "            F.count(\"targetId\").over(wPrediction),\n",
    "        )\n",
    "        .withColumn(\n",
    "            \"comparisonTotal\",\n",
    "            F.count(\"targetId\").over(wComparison),\n",
    "        )\n",
    "        .select(\n",
    "            F.col(predictionColumn).alias(\"prediction\"),\n",
    "            F.col(comparisonColumn).alias(\"comparison\"),\n",
    "            \"dataset\",\n",
    "            \"comparisonColumn\",\n",
    "            \"predictionColumnValue\",\n",
    "            \"comparisonType\",\n",
    "            \"predictionType\",\n",
    "            \"a\",\n",
    "            \"predictionTotal\",\n",
    "            \"comparisonTotal\",\n",
    "        )\n",
    "        .filter(F.col(\"prediction\").isNotNull())\n",
    "        .filter(F.col(\"comparison\").isNotNull())\n",
    "        .distinct()\n",
    "    )\n",
    "    '''\n",
    "    out.write.mode(\"overwrite\").parquet(\n",
    "        \"gs://ot-team/jroldan/\"\n",
    "        + str(\n",
    "            today_date\n",
    "            + \"_\"\n",
    "            + \"analysis/\"\n",
    "            + data\n",
    "            # + \"_propagated\"\n",
    "            + \"/\"\n",
    "            + comparisonColumn\n",
    "            + \"_\"\n",
    "            + comparisonType\n",
    "            + \"_\"\n",
    "            + predictionColumn\n",
    "            + \".parquet\"\n",
    "        )\n",
    "    )\n",
    "    '''\n",
    "    \n",
    "    listado.append(\n",
    "        \"gs://ot-team/jroldan/\"\n",
    "        + str(\n",
    "            today_date\n",
    "            + \"_\"\n",
    "            + \"analysis/\"\n",
    "            + data\n",
    "            # + \"_propagated\"\n",
    "            + \"/\"\n",
    "            + comparisonColumn\n",
    "            + \"_\"\n",
    "            + comparisonType\n",
    "            + \"_\"\n",
    "            + predictionColumn\n",
    "            + \".parquet\"\n",
    "        )\n",
    "    )\n",
    "    path = \"gs://ot-team/jroldan/\" + str(\n",
    "        today_date\n",
    "        + \"_\"\n",
    "        + \"analysis/\"\n",
    "        + data\n",
    "        # + \"_propagated\"\n",
    "        + \"/\"\n",
    "        + comparisonColumn\n",
    "        + \"_\"\n",
    "        + comparisonType\n",
    "        + \"_\"\n",
    "        + predictionColumn\n",
    "        + \".parquet\"\n",
    "    )\n",
    "    print(path)\n",
    "    ### making analysis\n",
    "    array1 = np.delete(\n",
    "        out.join(full_data, on=[\"prediction\", \"comparison\"], how=\"outer\")\n",
    "        .groupBy(\"comparison\")\n",
    "        .pivot(\"prediction\")\n",
    "        .agg(F.first(\"a\"))\n",
    "        .sort(F.col(\"comparison\").desc())\n",
    "        .select(\"comparison\", \"yes\", \"no\")\n",
    "        .fillna(0)\n",
    "        .toPandas()\n",
    "        .to_numpy(),\n",
    "        [0],\n",
    "        1,\n",
    "    )\n",
    "    total = np.sum(array1)\n",
    "    res_npPhaseX = np.array(array1, dtype=int)\n",
    "    resX = convertTuple(fisher_exact(res_npPhaseX, alternative=\"two-sided\"))\n",
    "    resx_CI = convertTuple(\n",
    "        odds_ratio(res_npPhaseX).confidence_interval(confidence_level=0.95)\n",
    "    )\n",
    "\n",
    "    result_st.append(resX)\n",
    "    result_ci.append(resx_CI)\n",
    "    (rs_result, rs_ci) = relative_success(array1)\n",
    "    results.extend(\n",
    "        [\n",
    "            comparisonType,\n",
    "            comparisonColumn,\n",
    "            predictionColumn,\n",
    "            round(float(resX.split(\",\")[0]), 2),\n",
    "            float(resX.split(\",\")[1]),\n",
    "            round(float(resx_CI.split(\",\")[0]), 2),\n",
    "            round(float(resx_CI.split(\",\")[1]), 2),\n",
    "            str(total),\n",
    "            np.array(res_npPhaseX).tolist(),\n",
    "            round(float(rs_result), 2),\n",
    "            round(float(rs_ci[0]), 2),\n",
    "            round(float(rs_ci[1]), 2),\n",
    "            # studies,\n",
    "            # tissues,\n",
    "            path,\n",
    "        ]\n",
    "    )\n",
    "    return results\n",
    "\n",
    "\n",
    "\n",
    "#### 3 Loop over different datasets (as they will have different rows and columns)\n",
    "\n",
    "def comparisons_df_iterative(disdic,projectId):\n",
    "    toAnalysis=[(key, value) for key, value in disdic.items() if value == projectId]\n",
    "    schema = StructType(\n",
    "        [\n",
    "            StructField(\"comparison\", StringType(), True),\n",
    "            StructField(\"comparisonType\", StringType(), True),\n",
    "        ]\n",
    "    )\n",
    "\n",
    "    comparisons = spark.createDataFrame(toAnalysis, schema=schema)\n",
    "    ### include all the columns as predictor\n",
    "\n",
    "    predictions = spark.createDataFrame(\n",
    "        data=[\n",
    "            (\"Phase4\", \"clinical\"),\n",
    "            (\"Phase>=3\", \"clinical\"),\n",
    "            (\"Phase>=2\", \"clinical\"),\n",
    "            (\"Phase>=1\", \"clinical\"),\n",
    "            #(\"nPhase4\", \"clinical\"),\n",
    "            #(\"nPhase>=3\", \"clinical\"),\n",
    "            #(\"nPhase>=2\", \"clinical\"),\n",
    "            #(\"nPhase>=1\", \"clinical\"),\n",
    "            (\"approved\", \"clinical\"),\n",
    "\n",
    "            # (\"PhaseT\", \"clinical\"),\n",
    "        ]\n",
    "    )\n",
    "    return comparisons.join(predictions, how=\"full\").collect()\n",
    "\n",
    "full_data = spark.createDataFrame(\n",
    "    data=[\n",
    "        (\"yes\", \"yes\"),\n",
    "        (\"yes\", \"no\"),\n",
    "        (\"no\", \"yes\"),\n",
    "        (\"no\", \"no\"),\n",
    "    ],\n",
    "    schema=StructType(\n",
    "        [\n",
    "            StructField(\"prediction\", StringType(), True),\n",
    "            StructField(\"comparison\", StringType(), True),\n",
    "        ]\n",
    "    ),\n",
    ")\n",
    "print(\"created full_data and lists\")\n",
    "\n",
    "result = []\n",
    "result_st = []\n",
    "result_ci = []\n",
    "array2 = []\n",
    "listado = []\n",
    "result_all = []\n",
    "today_date = str(date.today())\n",
    "variables_study = [\"projectId\", \"biosampleName\", \"rightStudyType\", \"colocDoE\"]\n",
    "\n",
    "print(\"looping for variables_study\")\n",
    "\n",
    "for variable in variables_study:\n",
    "    print(\"analysing\",variable)\n",
    "    #### build list of comparison and prediction columns\n",
    "    rows=comparisons_df_iterative(disdic,variable)\n",
    "    #### prepare aggregation depending on the variable problem\n",
    "    window_spec = Window.partitionBy(\"targetId\",\"diseaseId\",variable).orderBy(F.col(\"pValueExponent\").asc())\n",
    "    #### take directionality from lowest p value\n",
    "    bench2=benchmark.withColumn(\"agree_lowestPval\", F.first(\"AgreeDrug\").over(window_spec)\n",
    "        ).groupBy(\"targetId\", \"diseaseId\", \"clinicalStudyId\",\"clinicalPhase\",\"maxClinPhase\",\"approvedDrug\").pivot(variable).agg(F.collect_set(\"agree_lowestPVal\")\n",
    "        ).withColumn(\n",
    "        \"Phase4\",\n",
    "        F.when(F.col(\"maxClinPhase\") == 4, F.lit(\"yes\")).otherwise(F.lit(\"no\")),\n",
    "        ).withColumn(\n",
    "            \"Phase>=3\",\n",
    "            F.when(F.col(\"maxClinPhase\") >= 3, F.lit(\"yes\")).otherwise(F.lit(\"no\")),\n",
    "        ).withColumn(\n",
    "            \"Phase>=2\",\n",
    "            F.when(F.col(\"maxClinPhase\") >= 2, F.lit(\"yes\")).otherwise(F.lit(\"no\")),\n",
    "        ).withColumn(\n",
    "            \"Phase>=1\",\n",
    "            F.when(F.col(\"maxClinPhase\") >= 1, F.lit(\"yes\")).otherwise(F.lit(\"no\")),\n",
    "        ).withColumn(\n",
    "        \"approved\",\n",
    "            F.when(F.col(\"approvedDrug\")==1, F.lit(\"yes\")).otherwise(F.lit(\"no\")),\n",
    "        )\n",
    "    #### build columns yes/no for each distinct value in the column variable\n",
    "    for x, value in [(key, val) for key, val in disdic.items() if val == variable]:\n",
    "        print(\"building columns: \", x,\"and\",value)\n",
    "        bench2 = bench2.withColumn(\n",
    "            x, \n",
    "            F.when(F.array_contains(F.col(x),\"yes\"), F.lit(\"yes\")).otherwise(F.lit(\"no\"))\n",
    "        )\n",
    "    #### doing aggregations per \n",
    "    for row in rows:\n",
    "        print(\"row:\",row)\n",
    "        results = aggregations_original(bench2, \"propagated\", listado, *row, today_date)\n",
    "        result_all.append(results)\n",
    "    \n",
    "    schema = StructType(\n",
    "    [\n",
    "        StructField(\"group\", StringType(), True),\n",
    "        StructField(\"comparison\", StringType(), True),\n",
    "        StructField(\"phase\", StringType(), True),\n",
    "        StructField(\"oddsRatio\", DoubleType(), True),\n",
    "        StructField(\"pValue\", DoubleType(), True),\n",
    "        StructField(\"lowerInterval\", DoubleType(), True),\n",
    "        StructField(\"upperInterval\", DoubleType(), True),\n",
    "        StructField(\"total\", StringType(), True),\n",
    "        StructField(\"values\", ArrayType(ArrayType(IntegerType())), True),\n",
    "        StructField(\"relSuccess\", DoubleType(), True),\n",
    "        StructField(\"rsLower\", DoubleType(), True),\n",
    "        StructField(\"rsUpper\", DoubleType(), True),\n",
    "        StructField(\"path\", StringType(), True),\n",
    "    ]\n",
    ")\n",
    "\n",
    "# Convert list of lists to DataFrame\n",
    "df = spreadSheetFormatter(spark.createDataFrame(result_all, schema=schema))\n",
    "df.toPandas().to_csv(\n",
    "    f\"gs://ot-team/jroldan/analysis/{today_date}_credibleSetColocDoEanalysis_fixedIndex_fixedTotalNumber_CoherentThing.csv\"\n",
    ")\n",
    "\n",
    "print(\"dataframe written \\n Analysis finished\")"
   ]
  },
  {
   "cell_type": "code",
   "execution_count": 6,
   "metadata": {},
   "outputs": [
    {
     "ename": "NameError",
     "evalue": "name 'comparisons_df_iterative' is not defined",
     "output_type": "error",
     "traceback": [
      "\u001b[0;31m---------------------------------------------------------------------------\u001b[0m",
      "\u001b[0;31mNameError\u001b[0m                                 Traceback (most recent call last)",
      "\u001b[0;32m/tmp/ipykernel_22140/2079269262.py\u001b[0m in \u001b[0;36m<cell line: 2>\u001b[0;34m()\u001b[0m\n\u001b[1;32m      1\u001b[0m \u001b[0;31m#### build list of comparison and prediction columns\u001b[0m\u001b[0;34m\u001b[0m\u001b[0;34m\u001b[0m\u001b[0m\n\u001b[0;32m----> 2\u001b[0;31m \u001b[0mrows\u001b[0m\u001b[0;34m=\u001b[0m\u001b[0mcomparisons_df_iterative\u001b[0m\u001b[0;34m(\u001b[0m\u001b[0mdisdic\u001b[0m\u001b[0;34m,\u001b[0m\u001b[0mvariables_study\u001b[0m\u001b[0;34m[\u001b[0m\u001b[0;36m2\u001b[0m\u001b[0;34m]\u001b[0m\u001b[0;34m)\u001b[0m\u001b[0;34m[\u001b[0m\u001b[0;36m0\u001b[0m\u001b[0;34m]\u001b[0m\u001b[0;34m\u001b[0m\u001b[0;34m\u001b[0m\u001b[0m\n\u001b[0m\u001b[1;32m      3\u001b[0m \u001b[0;31m#### prepare aggregation depending on the variable problem\u001b[0m\u001b[0;34m\u001b[0m\u001b[0;34m\u001b[0m\u001b[0m\n\u001b[1;32m      4\u001b[0m \u001b[0mwindow_spec\u001b[0m \u001b[0;34m=\u001b[0m \u001b[0mWindow\u001b[0m\u001b[0;34m.\u001b[0m\u001b[0mpartitionBy\u001b[0m\u001b[0;34m(\u001b[0m\u001b[0;34m\"targetId\"\u001b[0m\u001b[0;34m,\u001b[0m\u001b[0;34m\"diseaseId\"\u001b[0m\u001b[0;34m,\u001b[0m\u001b[0;34m\"rightStudyType\"\u001b[0m\u001b[0;34m)\u001b[0m\u001b[0;34m.\u001b[0m\u001b[0morderBy\u001b[0m\u001b[0;34m(\u001b[0m\u001b[0mF\u001b[0m\u001b[0;34m.\u001b[0m\u001b[0mcol\u001b[0m\u001b[0;34m(\u001b[0m\u001b[0;34m\"pValueExponent\"\u001b[0m\u001b[0;34m)\u001b[0m\u001b[0;34m.\u001b[0m\u001b[0masc\u001b[0m\u001b[0;34m(\u001b[0m\u001b[0;34m)\u001b[0m\u001b[0;34m)\u001b[0m\u001b[0;34m\u001b[0m\u001b[0;34m\u001b[0m\u001b[0m\n\u001b[1;32m      5\u001b[0m \u001b[0;31m#### take directionality from lowest p value\u001b[0m\u001b[0;34m\u001b[0m\u001b[0;34m\u001b[0m\u001b[0m\n",
      "\u001b[0;31mNameError\u001b[0m: name 'comparisons_df_iterative' is not defined"
     ]
    }
   ],
   "source": [
    "#### build list of comparison and prediction columns\n",
    "rows=comparisons_df_iterative(disdic,variables_study[2])[0]\n",
    "#### prepare aggregation depending on the variable problem\n",
    "window_spec = Window.partitionBy(\"targetId\",\"diseaseId\",\"rightStudyType\").orderBy(F.col(\"pValueExponent\").asc())\n",
    "#### take directionality from lowest p value\n",
    "bench2=benchmark.withColumn(\"agree_lowestPval\", F.first(\"AgreeDrug\").over(window_spec)\n",
    "    ).groupBy(\"targetId\", \"diseaseId\", \"clinicalStudyId\",\"clinicalPhase\",\"maxClinPhase\",\"approvedDrug\").pivot(\"rightStudyType\").agg(F.collect_set(\"agree_lowestPVal\")\n",
    "    ).withColumn(\n",
    "    \"Phase4\",\n",
    "    F.when(F.col(\"maxClinPhase\") == 4, F.lit(\"yes\")).otherwise(F.lit(\"no\")),\n",
    "    ).withColumn(\n",
    "        \"Phase>=3\",\n",
    "        F.when(F.col(\"maxClinPhase\") >= 3, F.lit(\"yes\")).otherwise(F.lit(\"no\")),\n",
    "    ).withColumn(\n",
    "        \"Phase>=2\",\n",
    "        F.when(F.col(\"maxClinPhase\") >= 2, F.lit(\"yes\")).otherwise(F.lit(\"no\")),\n",
    "    ).withColumn(\n",
    "        \"Phase>=1\",\n",
    "        F.when(F.col(\"maxClinPhase\") >= 1, F.lit(\"yes\")).otherwise(F.lit(\"no\")),\n",
    "    ).withColumn(\n",
    "    \"approved\",\n",
    "        F.when(F.col(\"approvedDrug\")==1, F.lit(\"yes\")).otherwise(F.lit(\"no\")),\n",
    "    )\n",
    "#### build columns yes/no for each distinct value in the column variable\n"
   ]
  },
  {
   "cell_type": "code",
   "execution_count": 86,
   "metadata": {},
   "outputs": [
    {
     "name": "stdout",
     "output_type": "stream",
     "text": [
      "eqtl rightStudyType\n",
      "sqtl rightStudyType\n",
      "tuqtl rightStudyType\n",
      "sceqtl rightStudyType\n",
      "pqtl rightStudyType\n",
      "sctuqtl rightStudyType\n",
      "scsqtl rightStudyType\n"
     ]
    }
   ],
   "source": [
    "for x, value in [(key, val) for key, val in disdic.items() if val == \"rightStudyType\"]:\n",
    "    print(x,value)"
   ]
  },
  {
   "cell_type": "code",
   "execution_count": 90,
   "metadata": {},
   "outputs": [
    {
     "name": "stderr",
     "output_type": "stream",
     "text": [
      "[Stage 400087:==========================================>      (175 + 16) / 200]\r"
     ]
    },
    {
     "name": "stdout",
     "output_type": "stream",
     "text": [
      "+----+----+---+\n",
      "|eqtl|  no|yes|\n",
      "+----+----+---+\n",
      "|  no|1916|825|\n",
      "| yes|1293|379|\n",
      "+----+----+---+\n",
      "\n"
     ]
    },
    {
     "name": "stderr",
     "output_type": "stream",
     "text": [
      "                                                                                \r"
     ]
    }
   ],
   "source": [
    "x=\"eqtl\"\n",
    "bench2.withColumn(\n",
    "        x, \n",
    "        F.when(F.array_contains(F.array(F.col(x)),\"yes\"), F.lit(\"yes\")).otherwise(F.lit(\"no\"))\n",
    "    ).groupBy(x).pivot(\"phase4\").count().show()"
   ]
  },
  {
   "cell_type": "code",
   "execution_count": 94,
   "metadata": {},
   "outputs": [
    {
     "name": "stderr",
     "output_type": "stream",
     "text": [
      "[Stage 400328:=====================================>           (153 + 16) / 200]\r"
     ]
    },
    {
     "name": "stdout",
     "output_type": "stream",
     "text": [
      "+----+----+----+\n",
      "|pqtl|  no| yes|\n",
      "+----+----+----+\n",
      "|  no|2944|1141|\n",
      "| yes| 265|  63|\n",
      "+----+----+----+\n",
      "\n"
     ]
    },
    {
     "name": "stderr",
     "output_type": "stream",
     "text": [
      "                                                                                \r"
     ]
    }
   ],
   "source": [
    "x=\"pqtl\"\n",
    "bench2.withColumn(\n",
    "        x, \n",
    "        F.when(F.array_contains(F.array(F.col(x)),\"yes\"), F.lit(\"yes\")).otherwise(F.lit(\"no\"))\n",
    "    ).groupBy(x).pivot(\"phase4\").count().show()"
   ]
  },
  {
   "cell_type": "code",
   "execution_count": 93,
   "metadata": {},
   "outputs": [
    {
     "name": "stderr",
     "output_type": "stream",
     "text": [
      "[Stage 400222:====================================>            (147 + 16) / 200]\r"
     ]
    },
    {
     "name": "stdout",
     "output_type": "stream",
     "text": [
      "+---------------+-----------+---------------+-------------+------------+------------+----+----+------+------+-------+----+-----+------+--------+--------+--------+--------+\n",
      "|       targetId|  diseaseId|clinicalStudyId|clinicalPhase|maxClinPhase|approvedDrug|eqtl|pqtl|sceqtl|scsqtl|sctuqtl|sqtl|tuqtl|Phase4|Phase>=3|Phase>=2|Phase>=1|approved|\n",
      "+---------------+-----------+---------------+-------------+------------+------------+----+----+------+------+-------+----+-----+------+--------+--------+--------+--------+\n",
      "|ENSG00000006071|EFO_0000400|    NCT01489644|          1.0|         1.0|           1|  no|  no|    no|    no|     no|  no|   no|    no|      no|      no|     yes|     yes|\n",
      "|ENSG00000006071|EFO_0000400|    NCT02954822|          1.0|         1.0|           1|  no|  no|    no|    no|     no|  no|   no|    no|      no|      no|     yes|     yes|\n",
      "|ENSG00000006071|EFO_0000400|    NCT00959101|          1.0|         1.0|           1|  no|  no|    no|    no|     no|  no|   no|    no|      no|      no|     yes|     yes|\n",
      "|ENSG00000006071|EFO_0000400|    NCT02956044|          1.0|         1.0|           1|  no|  no|    no|    no|     no|  no|   no|    no|      no|      no|     yes|     yes|\n",
      "|ENSG00000006071|EFO_0000400|    NCT01145534|          1.0|         1.0|           1|  no|  no|    no|    no|     no|  no|   no|    no|      no|      no|     yes|     yes|\n",
      "|ENSG00000006071|EFO_0000400|    NCT03009513|          1.0|         1.0|           1|  no|  no|    no|    no|     no|  no|   no|    no|      no|      no|     yes|     yes|\n",
      "|ENSG00000006071|EFO_0000400|    NCT00610038|          2.0|         2.0|           1|  no|  no|    no|    no|     no|  no|   no|    no|      no|     yes|     yes|     yes|\n",
      "|ENSG00000006071|EFO_0000400|    NCT02419612|          3.0|         3.0|           1|  no|  no|    no|    no|     no|  no|   no|    no|     yes|     yes|     yes|     yes|\n",
      "|ENSG00000006071|EFO_0000400|    NCT00427154|          3.0|         3.0|           1|  no|  no|    no|    no|     no|  no|   no|    no|     yes|     yes|     yes|     yes|\n",
      "|ENSG00000006071|EFO_0000400|    NCT00707993|          3.0|         3.0|           1|  no|  no|    no|    no|     no|  no|   no|    no|     yes|     yes|     yes|     yes|\n",
      "|ENSG00000006071|EFO_0000400|    NCT00331851|          3.0|         3.0|           1|  no|  no|    no|    no|     no|  no|   no|    no|     yes|     yes|     yes|     yes|\n",
      "|ENSG00000006071|EFO_0000400|    NCT00225277|          3.0|         3.0|           1|  no|  no|    no|    no|     no|  no|   no|    no|     yes|     yes|     yes|     yes|\n",
      "|ENSG00000006071|EFO_0000400|    NCT00469586|          3.0|         3.0|           1|  no|  no|    no|    no|     no|  no|   no|    no|     yes|     yes|     yes|     yes|\n",
      "|ENSG00000006071|EFO_0000400|    NCT00072904|          3.0|         3.0|           1|  no|  no|    no|    no|     no|  no|   no|    no|     yes|     yes|     yes|     yes|\n",
      "|ENSG00000006071|EFO_0000400|    NCT00343980|          3.0|         3.0|           1|  no|  no|    no|    no|     no|  no|   no|    no|     yes|     yes|     yes|     yes|\n",
      "|ENSG00000006071|EFO_0000400|    NCT00770952|          3.0|         3.0|           1|  no|  no|    no|    no|     no|  no|   no|    no|     yes|     yes|     yes|     yes|\n",
      "|ENSG00000006071|EFO_0000400|    NCT02484209|          3.0|         3.0|           1|  no|  no|    no|    no|     no|  no|   no|    no|     yes|     yes|     yes|     yes|\n",
      "|ENSG00000006071|EFO_0000400|    NCT00614120|          3.0|         3.0|           1|  no|  no|    no|    no|     no|  no|   no|    no|     yes|     yes|     yes|     yes|\n",
      "|ENSG00000006071|EFO_0000400|    NCT00225264|          3.0|         3.0|           1|  no|  no|    no|    no|     no|  no|   no|    no|     yes|     yes|     yes|     yes|\n",
      "|ENSG00000006071|EFO_0000400|    NCT00620282|          3.0|         3.0|           1|  no|  no|    no|    no|     no|  no|   no|    no|     yes|     yes|     yes|     yes|\n",
      "+---------------+-----------+---------------+-------------+------------+------------+----+----+------+------+-------+----+-----+------+--------+--------+--------+--------+\n",
      "only showing top 20 rows\n",
      "\n"
     ]
    },
    {
     "name": "stderr",
     "output_type": "stream",
     "text": [
      "                                                                                \r"
     ]
    }
   ],
   "source": [
    "bench2.withColumn(\n",
    "        x, \n",
    "        F.when(F.array_contains(F.array(F.col(x)),\"yes\"), F.lit(\"yes\")).otherwise(F.lit(\"no\"))\n",
    "    ).sort(\"targetId\",\"diseaseId\",F.col(\"clinicalPhase\").asc()).show()"
   ]
  },
  {
   "cell_type": "code",
   "execution_count": 85,
   "metadata": {},
   "outputs": [
    {
     "name": "stdout",
     "output_type": "stream",
     "text": [
      "building columns:  eqtl and rightStudyType\n"
     ]
    },
    {
     "ename": "AnalysisException",
     "evalue": "cannot resolve 'array_contains(eqtl, 'yes')' due to data type mismatch: Input to function array_contains should have been array followed by a value with same element type, but it's [string, string].;\n'Project [targetId#2095238, diseaseId#2095387, clinicalStudyId#2102030, clinicalPhase#2096480, maxClinPhase#2098565, approvedDrug#2098689, CASE WHEN array_contains(eqtl#4471932, yes) THEN yes ELSE no END AS eqtl#4472065, pqtl#4472008, sceqtl#4471989, scsqtl#4472046, sctuqtl#4472027, sqtl#4471951, tuqtl#4471970, Phase4#4471847, Phase>=3#4471862, Phase>=2#4471878, Phase>=1#4471895, approved#4471913]\n+- Project [targetId#2095238, diseaseId#2095387, clinicalStudyId#2102030, clinicalPhase#2096480, maxClinPhase#2098565, approvedDrug#2098689, eqtl#4471932, pqtl#4472008, sceqtl#4471989, CASE WHEN array_contains(scsqtl#4471827, yes) THEN yes ELSE no END AS scsqtl#4472046, sctuqtl#4472027, sqtl#4471951, tuqtl#4471970, Phase4#4471847, Phase>=3#4471862, Phase>=2#4471878, Phase>=1#4471895, approved#4471913]\n   +- Project [targetId#2095238, diseaseId#2095387, clinicalStudyId#2102030, clinicalPhase#2096480, maxClinPhase#2098565, approvedDrug#2098689, eqtl#4471932, pqtl#4472008, sceqtl#4471989, scsqtl#4471827, CASE WHEN array_contains(sctuqtl#4471829, yes) THEN yes ELSE no END AS sctuqtl#4472027, sqtl#4471951, tuqtl#4471970, Phase4#4471847, Phase>=3#4471862, Phase>=2#4471878, Phase>=1#4471895, approved#4471913]\n      +- Project [targetId#2095238, diseaseId#2095387, clinicalStudyId#2102030, clinicalPhase#2096480, maxClinPhase#2098565, approvedDrug#2098689, eqtl#4471932, CASE WHEN array_contains(pqtl#4471823, yes) THEN yes ELSE no END AS pqtl#4472008, sceqtl#4471989, scsqtl#4471827, sctuqtl#4471829, sqtl#4471951, tuqtl#4471970, Phase4#4471847, Phase>=3#4471862, Phase>=2#4471878, Phase>=1#4471895, approved#4471913]\n         +- Project [targetId#2095238, diseaseId#2095387, clinicalStudyId#2102030, clinicalPhase#2096480, maxClinPhase#2098565, approvedDrug#2098689, eqtl#4471932, pqtl#4471823, CASE WHEN array_contains(sceqtl#4471825, yes) THEN yes ELSE no END AS sceqtl#4471989, scsqtl#4471827, sctuqtl#4471829, sqtl#4471951, tuqtl#4471970, Phase4#4471847, Phase>=3#4471862, Phase>=2#4471878, Phase>=1#4471895, approved#4471913]\n            +- Project [targetId#2095238, diseaseId#2095387, clinicalStudyId#2102030, clinicalPhase#2096480, maxClinPhase#2098565, approvedDrug#2098689, eqtl#4471932, pqtl#4471823, sceqtl#4471825, scsqtl#4471827, sctuqtl#4471829, sqtl#4471951, CASE WHEN array_contains(tuqtl#4471833, yes) THEN yes ELSE no END AS tuqtl#4471970, Phase4#4471847, Phase>=3#4471862, Phase>=2#4471878, Phase>=1#4471895, approved#4471913]\n               +- Project [targetId#2095238, diseaseId#2095387, clinicalStudyId#2102030, clinicalPhase#2096480, maxClinPhase#2098565, approvedDrug#2098689, eqtl#4471932, pqtl#4471823, sceqtl#4471825, scsqtl#4471827, sctuqtl#4471829, CASE WHEN array_contains(sqtl#4471831, yes) THEN yes ELSE no END AS sqtl#4471951, tuqtl#4471833, Phase4#4471847, Phase>=3#4471862, Phase>=2#4471878, Phase>=1#4471895, approved#4471913]\n                  +- Project [targetId#2095238, diseaseId#2095387, clinicalStudyId#2102030, clinicalPhase#2096480, maxClinPhase#2098565, approvedDrug#2098689, CASE WHEN array_contains(eqtl#4471821, yes) THEN yes ELSE no END AS eqtl#4471932, pqtl#4471823, sceqtl#4471825, scsqtl#4471827, sctuqtl#4471829, sqtl#4471831, tuqtl#4471833, Phase4#4471847, Phase>=3#4471862, Phase>=2#4471878, Phase>=1#4471895, approved#4471913]\n                     +- Project [targetId#2095238, diseaseId#2095387, clinicalStudyId#2102030, clinicalPhase#2096480, maxClinPhase#2098565, approvedDrug#2098689, eqtl#4471821, pqtl#4471823, sceqtl#4471825, scsqtl#4471827, sctuqtl#4471829, sqtl#4471831, tuqtl#4471833, Phase4#4471847, Phase>=3#4471862, Phase>=2#4471878, Phase>=1#4471895, CASE WHEN (approvedDrug#2098689 = 1) THEN yes ELSE no END AS approved#4471913]\n                        +- Project [targetId#2095238, diseaseId#2095387, clinicalStudyId#2102030, clinicalPhase#2096480, maxClinPhase#2098565, approvedDrug#2098689, eqtl#4471821, pqtl#4471823, sceqtl#4471825, scsqtl#4471827, sctuqtl#4471829, sqtl#4471831, tuqtl#4471833, Phase4#4471847, Phase>=3#4471862, Phase>=2#4471878, CASE WHEN (maxClinPhase#2098565 >= cast(1 as double)) THEN yes ELSE no END AS Phase>=1#4471895]\n                           +- Project [targetId#2095238, diseaseId#2095387, clinicalStudyId#2102030, clinicalPhase#2096480, maxClinPhase#2098565, approvedDrug#2098689, eqtl#4471821, pqtl#4471823, sceqtl#4471825, scsqtl#4471827, sctuqtl#4471829, sqtl#4471831, tuqtl#4471833, Phase4#4471847, Phase>=3#4471862, CASE WHEN (maxClinPhase#2098565 >= cast(2 as double)) THEN yes ELSE no END AS Phase>=2#4471878]\n                              +- Project [targetId#2095238, diseaseId#2095387, clinicalStudyId#2102030, clinicalPhase#2096480, maxClinPhase#2098565, approvedDrug#2098689, eqtl#4471821, pqtl#4471823, sceqtl#4471825, scsqtl#4471827, sctuqtl#4471829, sqtl#4471831, tuqtl#4471833, Phase4#4471847, CASE WHEN (maxClinPhase#2098565 >= cast(3 as double)) THEN yes ELSE no END AS Phase>=3#4471862]\n                                 +- Project [targetId#2095238, diseaseId#2095387, clinicalStudyId#2102030, clinicalPhase#2096480, maxClinPhase#2098565, approvedDrug#2098689, eqtl#4471821, pqtl#4471823, sceqtl#4471825, scsqtl#4471827, sctuqtl#4471829, sqtl#4471831, tuqtl#4471833, CASE WHEN (maxClinPhase#2098565 = cast(4 as double)) THEN yes ELSE no END AS Phase4#4471847]\n                                    +- Aggregate [targetId#2095238, diseaseId#2095387, clinicalStudyId#2102030, clinicalPhase#2096480, maxClinPhase#2098565, approvedDrug#2098689], [targetId#2095238, diseaseId#2095387, clinicalStudyId#2102030, clinicalPhase#2096480, maxClinPhase#2098565, approvedDrug#2098689, collect_set(if ((rightStudyType#2091891 <=> cast(eqtl as string))) agree_lowestPVal#4470460 else cast(null as string), 0, 0) AS eqtl#4471821, collect_set(if ((rightStudyType#2091891 <=> cast(pqtl as string))) agree_lowestPVal#4470460 else cast(null as string), 0, 0) AS pqtl#4471823, collect_set(if ((rightStudyType#2091891 <=> cast(sceqtl as string))) agree_lowestPVal#4470460 else cast(null as string), 0, 0) AS sceqtl#4471825, collect_set(if ((rightStudyType#2091891 <=> cast(scsqtl as string))) agree_lowestPVal#4470460 else cast(null as string), 0, 0) AS scsqtl#4471827, collect_set(if ((rightStudyType#2091891 <=> cast(sctuqtl as string))) agree_lowestPVal#4470460 else cast(null as string), 0, 0) AS sctuqtl#4471829, collect_set(if ((rightStudyType#2091891 <=> cast(sqtl as string))) agree_lowestPVal#4470460 else cast(null as string), 0, 0) AS sqtl#4471831, collect_set(if ((rightStudyType#2091891 <=> cast(tuqtl as string))) agree_lowestPVal#4470460 else cast(null as string), 0, 0) AS tuqtl#4471833]\n                                       +- Project [biosampleId#2091857, targetId#2095238, diseaseId#2095387, leftStudyLocusId#2091888, rightStudyId#2093900, rightStudyLocusId#2091889, chromosome#2091890, rightStudyType#2091891, numberColocalisingVariants#2091892L, h0#2091893, h1#2091894, h2#2091895, h3#2091896, h4#2091897, colocalisationMethod#2091898, betaRatioSignAverage#2091899, leftStudyId#2093875, leftVariantId#2093876, credibleLeftStudyType#2093877, rightVariantId#2093901, credibleRightStudyType#2093902, projectId#2091830, indexStudyType#2093953, condition#2091853, ... 24 more fields]\n                                          +- Project [biosampleId#2091857, targetId#2095238, diseaseId#2095387, leftStudyLocusId#2091888, rightStudyId#2093900, rightStudyLocusId#2091889, chromosome#2091890, rightStudyType#2091891, numberColocalisingVariants#2091892L, h0#2091893, h1#2091894, h2#2091895, h3#2091896, h4#2091897, colocalisationMethod#2091898, betaRatioSignAverage#2091899, leftStudyId#2093875, leftVariantId#2093876, credibleLeftStudyType#2093877, rightVariantId#2093901, credibleRightStudyType#2093902, projectId#2091830, indexStudyType#2093953, condition#2091853, ... 25 more fields]\n                                             +- Window [first(AgreeDrug#2103382, false) windowspecdefinition(targetId#2095238, diseaseId#2095387, rightStudyType#2091891, pValueExponent#2095287 ASC NULLS FIRST, specifiedwindowframe(RangeFrame, unboundedpreceding$(), currentrow$())) AS agree_lowestPval#4470460], [targetId#2095238, diseaseId#2095387, rightStudyType#2091891], [pValueExponent#2095287 ASC NULLS FIRST]\n                                                +- Project [biosampleId#2091857, targetId#2095238, diseaseId#2095387, leftStudyLocusId#2091888, rightStudyId#2093900, rightStudyLocusId#2091889, chromosome#2091890, rightStudyType#2091891, numberColocalisingVariants#2091892L, h0#2091893, h1#2091894, h2#2091895, h3#2091896, h4#2091897, colocalisationMethod#2091898, betaRatioSignAverage#2091899, leftStudyId#2093875, leftVariantId#2093876, credibleLeftStudyType#2093877, rightVariantId#2093901, credibleRightStudyType#2093902, projectId#2091830, indexStudyType#2093953, condition#2091853, ... 23 more fields]\n                                                   +- Project [biosampleId#2091857, targetId#2095238, diseaseId#2095387, leftStudyLocusId#2091888, rightStudyId#2093900, rightStudyLocusId#2091889, chromosome#2091890, rightStudyType#2091891, numberColocalisingVariants#2091892L, h0#2091893, h1#2091894, h2#2091895, h3#2091896, h4#2091897, colocalisationMethod#2091898, betaRatioSignAverage#2091899, leftStudyId#2093875, leftVariantId#2093876, credibleLeftStudyType#2093877, rightVariantId#2093901, credibleRightStudyType#2093902, projectId#2091830, indexStudyType#2093953, condition#2091853, ... 23 more fields]\n                                                      +- Join LeftOuter, (biosampleId#2091857 = biosampleId#2091938)\n                                                         :- Filter NOT (name#2091536 = COVID-19)\n                                                         :  +- Project [targetId#2095238, diseaseId#2095387, leftStudyLocusId#2091888, rightStudyId#2093900, rightStudyLocusId#2091889, chromosome#2091890, rightStudyType#2091891, numberColocalisingVariants#2091892L, h0#2091893, h1#2091894, h2#2091895, h3#2091896, h4#2091897, colocalisationMethod#2091898, betaRatioSignAverage#2091899, leftStudyId#2093875, leftVariantId#2093876, credibleLeftStudyType#2093877, rightVariantId#2093901, credibleRightStudyType#2093902, projectId#2091830, indexStudyType#2093953, condition#2091853, biosampleId#2091857, ... 22 more fields]\n                                                         :     +- Project [targetId#2095238, diseaseId#2095387, leftStudyLocusId#2091888, rightStudyId#2093900, rightStudyLocusId#2091889, chromosome#2091890, rightStudyType#2091891, numberColocalisingVariants#2091892L, h0#2091893, h1#2091894, h2#2091895, h3#2091896, h4#2091897, colocalisationMethod#2091898, betaRatioSignAverage#2091899, leftStudyId#2093875, leftVariantId#2093876, credibleLeftStudyType#2093877, rightVariantId#2093901, credibleRightStudyType#2093902, projectId#2091830, indexStudyType#2093953, condition#2091853, biosampleId#2091857, ... 21 more fields]\n                                                         :        +- Join Inner, ((targetId#2095238 = targetId#2096461) AND (diseaseId#2095387 = diseaseId#2096561))\n                                                         :           :- Filter (betaGwas#2095217 < cast(0 as double))\n                                                         :           :  +- Project [diseaseId#2095387, leftStudyLocusId#2091888, targetId#2095238, rightStudyId#2093900, rightStudyLocusId#2091889, chromosome#2091890, rightStudyType#2091891, numberColocalisingVariants#2091892L, h0#2091893, h1#2091894, h2#2091895, h3#2091896, h4#2091897, colocalisationMethod#2091898, betaRatioSignAverage#2091899, leftStudyId#2093875, leftVariantId#2093876, credibleLeftStudyType#2093877, rightVariantId#2093901, credibleRightStudyType#2093902, projectId#2091830, indexStudyType#2093953, condition#2091853, biosampleId#2091857, ... 15 more fields]\n                                                         :           :     +- Project [diseaseId#2095387, leftStudyLocusId#2091888, targetId#2095238, rightStudyId#2093900, rightStudyLocusId#2091889, chromosome#2091890, rightStudyType#2091891, numberColocalisingVariants#2091892L, h0#2091893, h1#2091894, h2#2091895, h3#2091896, h4#2091897, colocalisationMethod#2091898, betaRatioSignAverage#2091899, leftStudyId#2093875, leftVariantId#2093876, credibleLeftStudyType#2093877, rightVariantId#2093901, credibleRightStudyType#2093902, projectId#2091830, indexStudyType#2093953, condition#2091853, biosampleId#2091857, ... 14 more fields]\n                                                         :           :        +- Project [diseaseId#2095387, leftStudyLocusId#2091888, targetId#2095238, rightStudyId#2093900, rightStudyLocusId#2091889, chromosome#2091890, rightStudyType#2091891, numberColocalisingVariants#2091892L, h0#2091893, h1#2091894, h2#2091895, h3#2091896, h4#2091897, colocalisationMethod#2091898, betaRatioSignAverage#2091899, leftStudyId#2093875, leftVariantId#2093876, credibleLeftStudyType#2093877, rightVariantId#2093901, credibleRightStudyType#2093902, projectId#2091830, indexStudyType#2093953, condition#2091853, biosampleId#2091857, ... 15 more fields]\n                                                         :           :           +- Generate explode(concat(array(diseaseId#2091663), parents#2091539)), true, [diseaseId#2095387]\n                                                         :           :              +- Project [diseaseId#2091663, leftStudyLocusId#2091888, targetId#2095238, rightStudyId#2093900, rightStudyLocusId#2091889, chromosome#2091890, rightStudyType#2091891, numberColocalisingVariants#2091892L, h0#2091893, h1#2091894, h2#2091895, h3#2091896, h4#2091897, colocalisationMethod#2091898, betaRatioSignAverage#2091899, leftStudyId#2093875, leftVariantId#2093876, credibleLeftStudyType#2093877, rightVariantId#2093901, credibleRightStudyType#2093902, projectId#2091830, indexStudyType#2093953, condition#2091853, biosampleId#2091857, ... 15 more fields]\n                                                         :           :                 +- Join LeftOuter, (diseaseId#2091663 = diseaseId#2095341)\n                                                         :           :                    :- Project [leftStudyLocusId#2091888, targetId#2095238, rightStudyId#2093900, rightStudyLocusId#2091889, chromosome#2091890, rightStudyType#2091891, numberColocalisingVariants#2091892L, h0#2091893, h1#2091894, h2#2091895, h3#2091896, h4#2091897, colocalisationMethod#2091898, betaRatioSignAverage#2091899, leftStudyId#2093875, leftVariantId#2093876, credibleLeftStudyType#2093877, rightVariantId#2093901, credibleRightStudyType#2093902, projectId#2091830, indexStudyType#2093953, condition#2091853, biosampleId#2091857, datasourceId#2091562, ... 12 more fields]\n                                                         :           :                    :  +- Join Inner, ((leftStudyLocusId#2091888 = leftStudyLocusId#2095262) AND (targetId#2095238 = targetId#2091563))\n                                                         :           :                    :     :- Project [rightStudyId#2093900, rightStudyLocusId#2091889, leftStudyLocusId#2091888, chromosome#2091890, rightStudyType#2091891, numberColocalisingVariants#2091892L, h0#2091893, h1#2091894, h2#2091895, h3#2091896, h4#2091897, colocalisationMethod#2091898, betaRatioSignAverage#2091899, leftStudyId#2093875, leftVariantId#2093876, credibleLeftStudyType#2093877, rightVariantId#2093901, credibleRightStudyType#2093902, geneId#2091829 AS targetId#2095238, projectId#2091830, indexStudyType#2093953, condition#2091853, biosampleId#2091857]\n                                                         :           :                    :     :  +- Project [rightStudyId#2093900, rightStudyLocusId#2091889, leftStudyLocusId#2091888, chromosome#2091890, rightStudyType#2091891, numberColocalisingVariants#2091892L, h0#2091893, h1#2091894, h2#2091895, h3#2091896, h4#2091897, colocalisationMethod#2091898, betaRatioSignAverage#2091899, leftStudyId#2093875, leftVariantId#2093876, credibleLeftStudyType#2093877, rightVariantId#2093901, credibleRightStudyType#2093902, geneId#2091829, projectId#2091830, indexStudyType#2093953, condition#2091853, biosampleId#2091857]\n                                                         :           :                    :     :     +- Join LeftOuter, (rightStudyId#2093900 = rightStudyId#2093952)\n                                                         :           :                    :     :        :- Project [rightStudyLocusId#2091889, leftStudyLocusId#2091888, chromosome#2091890, rightStudyType#2091891, numberColocalisingVariants#2091892L, h0#2091893, h1#2091894, h2#2091895, h3#2091896, h4#2091897, colocalisationMethod#2091898, betaRatioSignAverage#2091899, leftStudyId#2093875, leftVariantId#2093876, credibleLeftStudyType#2093877, rightStudyId#2093900, rightVariantId#2093901, credibleRightStudyType#2093902]\n                                                         :           :                    :     :        :  +- Join LeftOuter, (rightStudyLocusId#2091889 = rightStudyLocusId#2093899)\n                                                         :           :                    :     :        :     :- Project [leftStudyLocusId#2091888, rightStudyLocusId#2091889, chromosome#2091890, rightStudyType#2091891, numberColocalisingVariants#2091892L, h0#2091893, h1#2091894, h2#2091895, h3#2091896, h4#2091897, colocalisationMethod#2091898, betaRatioSignAverage#2091899, leftStudyId#2093875, leftVariantId#2093876, credibleLeftStudyType#2093877]\n                                                         :           :                    :     :        :     :  +- Join LeftOuter, (leftStudyLocusId#2091888 = leftStudyLocusId#2093874)\n                                                         :           :                    :     :        :     :     :- Relation [leftStudyLocusId#2091888,rightStudyLocusId#2091889,chromosome#2091890,rightStudyType#2091891,numberColocalisingVariants#2091892L,h0#2091893,h1#2091894,h2#2091895,h3#2091896,h4#2091897,colocalisationMethod#2091898,betaRatioSignAverage#2091899] parquet\n                                                         :           :                    :     :        :     :     +- Project [studyLocusId#2091776 AS leftStudyLocusId#2093874, StudyId#2091777 AS leftStudyId#2093875, variantId#2091778 AS leftVariantId#2093876, studyType#2091801 AS credibleLeftStudyType#2093877]\n                                                         :           :                    :     :        :     :        +- Relation [studyLocusId#2091776,studyId#2091777,variantId#2091778,chromosome#2091779,position#2091780,region#2091781,beta#2091782,zScore#2091783,pValueMantissa#2091784,pValueExponent#2091785,effectAlleleFrequencyFromSource#2091786,standardError#2091787,subStudyDescription#2091788,qualityControls#2091789,finemappingMethod#2091790,credibleSetIndex#2091791,credibleSetlog10BF#2091792,purityMeanR2#2091793,purityMinR2#2091794,locusStart#2091795,locusEnd#2091796,sampleSize#2091797,ldSet#2091798,locus#2091799,... 2 more fields] parquet\n                                                         :           :                    :     :        :     +- Project [studyLocusId#2093907 AS rightStudyLocusId#2093899, studyId#2093908 AS rightStudyId#2093900, variantId#2093909 AS rightVariantId#2093901, studyType#2093932 AS credibleRightStudyType#2093902]\n                                                         :           :                    :     :        :        +- Relation [studyLocusId#2093907,studyId#2093908,variantId#2093909,chromosome#2093910,position#2093911,region#2093912,beta#2093913,zScore#2093914,pValueMantissa#2093915,pValueExponent#2093916,effectAlleleFrequencyFromSource#2093917,standardError#2093918,subStudyDescription#2093919,qualityControls#2093920,finemappingMethod#2093921,credibleSetIndex#2093922,credibleSetlog10BF#2093923,purityMeanR2#2093924,purityMinR2#2093925,locusStart#2093926,locusEnd#2093927,sampleSize#2093928,ldSet#2093929,locus#2093930,... 2 more fields] parquet\n                                                         :           :                    :     :        +- Project [studyId#2091828 AS rightStudyId#2093952, geneId#2091829, projectId#2091830, studyType#2093812 AS indexStudyType#2093953, condition#2091853, biosampleId#2091857]\n                                                         :           :                    :     :           +- Project [studyId#2091828, geneId#2091829, projectId#2091830, studyType#2093812, traitFromSource#2091832, traitFromSourceMappedIds#2091833, biosampleFromSourceId#2091834, pubmedId#2091835, publicationTitle#2091836, publicationFirstAuthor#2091837, publicationDate#2091838, publicationJournal#2091839, backgroundTraitFromSourceMappedIds#2091840, initialSampleSize#2091841, nCases#2091842, nControls#2091843, nSamples#2091844, cohorts#2091845, ldPopulationStructure#2091846, discoverySamples#2091847, replicationSamples#2091848, qualityControls#2091849, analysisFlags#2091850, summarystatsLocation#2091851, ... 6 more fields]\n                                                         :           :                    :     :              +- Project [studyId#2091828, geneId#2091829, projectId#2091830, CASE WHEN isnotnull(newStudyType#2092272) THEN newStudyType#2092272 ELSE studyType#2091831 END AS studyType#2093812, traitFromSource#2091832, traitFromSourceMappedIds#2091833, biosampleFromSourceId#2091834, pubmedId#2091835, publicationTitle#2091836, publicationFirstAuthor#2091837, publicationDate#2091838, publicationJournal#2091839, backgroundTraitFromSourceMappedIds#2091840, initialSampleSize#2091841, nCases#2091842, nControls#2091843, nSamples#2091844, cohorts#2091845, ldPopulationStructure#2091846, discoverySamples#2091847, replicationSamples#2091848, qualityControls#2091849, analysisFlags#2091850, summarystatsLocation#2091851, ... 7 more fields]\n                                                         :           :                    :     :                 +- Project [studyId#2091828, geneId#2091829, projectId#2091830, studyType#2091831, traitFromSource#2091832, traitFromSourceMappedIds#2091833, biosampleFromSourceId#2091834, pubmedId#2091835, publicationTitle#2091836, publicationFirstAuthor#2091837, publicationDate#2091838, publicationJournal#2091839, backgroundTraitFromSourceMappedIds#2091840, initialSampleSize#2091841, nCases#2091842, nControls#2091843, nSamples#2091844, cohorts#2091845, ldPopulationStructure#2091846, discoverySamples#2091847, replicationSamples#2091848, qualityControls#2091849, analysisFlags#2091850, summarystatsLocation#2091851, ... 7 more fields]\n                                                         :           :                    :     :                    +- Join LeftOuter, (studyId#2091828 = studyId#2092975)\n                                                         :           :                    :     :                       :- Relation [studyId#2091828,geneId#2091829,projectId#2091830,studyType#2091831,traitFromSource#2091832,traitFromSourceMappedIds#2091833,biosampleFromSourceId#2091834,pubmedId#2091835,publicationTitle#2091836,publicationFirstAuthor#2091837,publicationDate#2091838,publicationJournal#2091839,backgroundTraitFromSourceMappedIds#2091840,initialSampleSize#2091841,nCases#2091842,nControls#2091843,nSamples#2091844,cohorts#2091845,ldPopulationStructure#2091846,discoverySamples#2091847,replicationSamples#2091848,qualityControls#2091849,analysisFlags#2091850,summarystatsLocation#2091851,... 6 more fields] parquet\n                                                         :           :                    :     :                       +- Project [studyId#2092975, newStudyType#2092272]\n                                                         :           :                    :     :                          +- Project [studyId#2092975, geneId#2092976, projectId#2092977, studyType#2092978, traitFromSource#2092979, traitFromSourceMappedIds#2092980, biosampleFromSourceId#2092981, pubmedId#2092982, publicationTitle#2092983, publicationFirstAuthor#2092984, publicationDate#2092985, publicationJournal#2092986, backgroundTraitFromSourceMappedIds#2092987, initialSampleSize#2092988, nCases#2092989, nControls#2092990, nSamples#2092991, cohorts#2092992, ldPopulationStructure#2092993, discoverySamples#2092994, replicationSamples#2092995, qualityControls#2092996, analysisFlags#2092997, summarystatsLocation#2092998, ... 7 more fields]\n                                                         :           :                    :     :                             +- Project [extracted_column#2092014, study_type#2091966, studyId#2092975, geneId#2092976, projectId#2092977, studyType#2092978, traitFromSource#2092979, traitFromSourceMappedIds#2092980, biosampleFromSourceId#2092981, pubmedId#2092982, publicationTitle#2092983, publicationFirstAuthor#2092984, publicationDate#2092985, publicationJournal#2092986, backgroundTraitFromSourceMappedIds#2092987, initialSampleSize#2092988, nCases#2092989, nControls#2092990, nSamples#2092991, cohorts#2092992, ldPopulationStructure#2092993, discoverySamples#2092994, replicationSamples#2092995, qualityControls#2092996, ... 10 more fields]\n                                                         :           :                    :     :                                +- Project [extracted_column#2092014, study_type#2091966, studyId#2092975, geneId#2092976, projectId#2092977, studyType#2092978, traitFromSource#2092979, traitFromSourceMappedIds#2092980, biosampleFromSourceId#2092981, pubmedId#2092982, publicationTitle#2092983, publicationFirstAuthor#2092984, publicationDate#2092985, publicationJournal#2092986, backgroundTraitFromSourceMappedIds#2092987, initialSampleSize#2092988, nCases#2092989, nControls#2092990, nSamples#2092991, cohorts#2092992, ldPopulationStructure#2092993, discoverySamples#2092994, replicationSamples#2092995, qualityControls#2092996, ... 9 more fields]\n                                                         :           :                    :     :                                   +- Project [extracted_column#2092014, study_type#2091966, studyId#2092975, geneId#2092976, projectId#2092977, studyType#2092978, traitFromSource#2092979, traitFromSourceMappedIds#2092980, biosampleFromSourceId#2092981, pubmedId#2092982, publicationTitle#2092983, publicationFirstAuthor#2092984, publicationDate#2092985, publicationJournal#2092986, backgroundTraitFromSourceMappedIds#2092987, initialSampleSize#2092988, nCases#2092989, nControls#2092990, nSamples#2092991, cohorts#2092992, ldPopulationStructure#2092993, discoverySamples#2092994, replicationSamples#2092995, qualityControls#2092996, ... 8 more fields]\n                                                         :           :                    :     :                                      +- Join RightOuter, (extracted_column#2091978 = extracted_column#2092014)\n                                                         :           :                    :     :                                         :- Project [concat_ws(_, study_label#2091958, quant_method#2091964, sample_group#2091959) AS extracted_column#2091978, study_type#2091966]\n                                                         :           :                    :     :                                         :  +- LogicalRDD [study_id#2091956, dataset_id#2091957, study_label#2091958, sample_group#2091959, tissue_id#2091960, tissue_label#2091961, condition_label#2091962, sample_size#2091963, quant_method#2091964, pmid#2091965, study_type#2091966], false\n                                                         :           :                    :     :                                         +- Project [studyId#2092975, geneId#2092976, projectId#2092977, studyType#2092978, traitFromSource#2092979, traitFromSourceMappedIds#2092980, biosampleFromSourceId#2092981, pubmedId#2092982, publicationTitle#2092983, publicationFirstAuthor#2092984, publicationDate#2092985, publicationJournal#2092986, backgroundTraitFromSourceMappedIds#2092987, initialSampleSize#2092988, nCases#2092989, nControls#2092990, nSamples#2092991, cohorts#2092992, ldPopulationStructure#2092993, discoverySamples#2092994, replicationSamples#2092995, qualityControls#2092996, analysisFlags#2092997, summarystatsLocation#2092998, ... 7 more fields]\n                                                         :           :                    :     :                                            +- Project [studyId#2092975, geneId#2092976, projectId#2092977, studyType#2092978, traitFromSource#2092979, traitFromSourceMappedIds#2092980, biosampleFromSourceId#2092981, pubmedId#2092982, publicationTitle#2092983, publicationFirstAuthor#2092984, publicationDate#2092985, publicationJournal#2092986, backgroundTraitFromSourceMappedIds#2092987, initialSampleSize#2092988, nCases#2092989, nControls#2092990, nSamples#2092991, cohorts#2092992, ldPopulationStructure#2092993, discoverySamples#2092994, replicationSamples#2092995, qualityControls#2092996, analysisFlags#2092997, summarystatsLocation#2092998, ... 7 more fields]\n                                                         :           :                    :     :                                               +- Filter NOT StartsWith(studyId#2092975, UKB_PPP)\n                                                         :           :                    :     :                                                  +- Filter NOT (studyType#2092978 = gwas)\n                                                         :           :                    :     :                                                     +- Relation [studyId#2092975,geneId#2092976,projectId#2092977,studyType#2092978,traitFromSource#2092979,traitFromSourceMappedIds#2092980,biosampleFromSourceId#2092981,pubmedId#2092982,publicationTitle#2092983,publicationFirstAuthor#2092984,publicationDate#2092985,publicationJournal#2092986,backgroundTraitFromSourceMappedIds#2092987,initialSampleSize#2092988,nCases#2092989,nControls#2092990,nSamples#2092991,cohorts#2092992,ldPopulationStructure#2092993,discoverySamples#2092994,replicationSamples#2092995,qualityControls#2092996,analysisFlags#2092997,summarystatsLocation#2092998,... 6 more fields] parquet\n                                                         :           :                    :     +- Project [studyLocusId#2091641 AS leftStudyLocusId#2095262, datasourceId#2091562, targetId#2091563, datatypeId#2091592, diseaseFromSourceMappedId#2091596, resourceScore#2091632, targetFromSourceId#2091648, diseaseId#2091663, id#2091664, score#2091665, sourceId#2091668, studyId#2095279, variantId#2095280, betaGwas#2095217, pValueExponent#2095287]\n                                                         :           :                    :        +- Project [studyLocusId#2091641, datasourceId#2091562, targetId#2091563, datatypeId#2091592, diseaseFromSourceMappedId#2091596, resourceScore#2091632, targetFromSourceId#2091648, diseaseId#2091663, id#2091664, score#2091665, sourceId#2091668, studyId#2095279, variantId#2095280, betaGwas#2095217, pValueExponent#2095287]\n                                                         :           :                    :           +- Join LeftOuter, (studyLocusId#2091641 = studyLocusId#2095278)\n                                                         :           :                    :              :- Project [datasourceId#2091562, targetId#2091563, datatypeId#2091592, diseaseFromSourceMappedId#2091596, resourceScore#2091632, studyLocusId#2091641, targetFromSourceId#2091648, diseaseId#2091663, id#2091664, score#2091665, sourceId#2091668]\n                                                         :           :                    :              :  +- Filter (datasourceId#2091562 = gwas_credible_sets)\n                                                         :           :                    :              :     +- Relation [datasourceId#2091562,targetId#2091563,alleleOrigins#2091564,allelicRequirements#2091565,ancestry#2091566,ancestryId#2091567,assays#2091568,assessments#2091569,beta#2091570,betaConfidenceIntervalLower#2091571,betaConfidenceIntervalUpper#2091572,biologicalModelAllelicComposition#2091573,biologicalModelGeneticBackground#2091574,biologicalModelId#2091575,biomarkerList#2091576,biomarkerName#2091577,biomarkers#2091578,biosamplesFromSource#2091579,cellLineBackground#2091580,cellType#2091581,clinicalPhase#2091582,clinicalSignificances#2091583,clinicalStatus#2091584,cohortDescription#2091585,... 83 more fields] parquet\n                                                         :           :                    :              +- Project [studyLocusId#2095278, studyId#2095279, variantId#2095280, beta#2095284 AS betaGwas#2095217, pValueExponent#2095287]\n                                                         :           :                    :                 +- Relation [studyLocusId#2095278,studyId#2095279,variantId#2095280,chromosome#2095281,position#2095282,region#2095283,beta#2095284,zScore#2095285,pValueMantissa#2095286,pValueExponent#2095287,effectAlleleFrequencyFromSource#2095288,standardError#2095289,subStudyDescription#2095290,qualityControls#2095291,finemappingMethod#2095292,credibleSetIndex#2095293,credibleSetlog10BF#2095294,purityMeanR2#2095295,purityMinR2#2095296,locusStart#2095297,locusEnd#2095298,sampleSize#2095299,ldSet#2095300,locus#2095301,... 2 more fields] parquet\n                                                         :           :                    +- Project [id#2091532 AS diseaseId#2095341, name#2091536, parents#2091539, therapeuticAreas#2091544]\n                                                         :           :                       +- Relation [id#2091532,code#2091533,dbXRefs#2091534,description#2091535,name#2091536,directLocationIds#2091537,obsoleteTerms#2091538,parents#2091539,synonyms#2091540,ancestors#2091541,descendants#2091542,children#2091543,therapeuticAreas#2091544,indirectLocationIds#2091545,ontology#2091546] parquet\n                                                         :           +- Project [targetId#2096461, diseaseId#2096561, clinicalStudyId#2102030, clinicalPhase#2096480, maxClinPhase#2098565, approvedDrug#2098689, drugGoF_protect#2102052L, LoF_protect#2101949L AS drugLoF_protect#2102061L]\n                                                         :              +- Project [targetId#2096461, diseaseId#2096561, clinicalStudyId#2102030, clinicalPhase#2096480, maxClinPhase#2098565, approvedDrug#2098689, GoF_protect#2101948L AS drugGoF_protect#2102052L, LoF_protect#2101949L]\n                                                         :                 +- Project [targetId#2096461, diseaseId#2096561, clinicalStudyId#2102030, clinicalPhase#2096480, maxClinPhase#2098565, approvedDrug#2098689, GoF_protect#2101948L, LoF_protect#2101949L]\n                                                         :                    +- Filter (coherencyDiagonal#2102003 = coherent)\n                                                         :                       +- Project [targetId#2096461, diseaseId#2096561, studyId#2096538 AS clinicalStudyId#2102030, clinicalPhase#2096480, maxClinPhase#2098565, approvedDrug#2098689, GoF_protect#2101948L, LoF_protect#2101949L, GoF_risk#2101962, LoF_risk#2101980, noEvaluable#2101991, coherencyDiagonal#2102003, coherencyOneCell#2102016]\n                                                         :                          +- Project [targetId#2096461, diseaseId#2096561, studyId#2096538, clinicalPhase#2096480, maxClinPhase#2098565, approvedDrug#2098689, GoF_protect#2101948L, LoF_protect#2101949L, GoF_risk#2101962, LoF_risk#2101980, noEvaluable#2101991, coherencyDiagonal#2102003, CASE WHEN ((((isnull(LoF_risk#2101980) AND isnull(LoF_protect#2101949L)) AND isnull(GoF_risk#2101962)) AND isnull(GoF_protect#2101948L)) AND isnull(noEvaluable#2101991)) THEN noEvid WHEN ((((isnull(LoF_risk#2101980) AND isnull(LoF_protect#2101949L)) AND isnull(GoF_risk#2101962)) AND isnull(GoF_protect#2101948L)) AND isnotnull(noEvaluable#2101991)) THEN EvidNotDoE WHEN (((isnotnull(LoF_risk#2101980) OR isnotnull(LoF_protect#2101949L)) OR isnotnull(GoF_risk#2101962)) OR isnotnull(GoF_protect#2101948L)) THEN CASE WHEN (isnotnull(LoF_risk#2101980) AND ((isnull(LoF_protect#2101949L) AND isnull(GoF_risk#2101962)) AND isnull(GoF_protect#2101948L))) THEN coherent WHEN (isnotnull(GoF_risk#2101962) AND ((isnull(LoF_protect#2101949L) AND isnull(LoF_risk#2101980)) AND isnull(GoF_protect#2101948L))) THEN coherent WHEN (isnotnull(LoF_protect#2101949L) AND ((isnull(LoF_risk#2101980) AND isnull(GoF_risk#2101962)) AND isnull(GoF_protect#2101948L))) THEN coherent WHEN (isnotnull(GoF_protect#2101948L) AND ((isnull(LoF_protect#2101949L) AND isnull(GoF_risk#2101962)) AND isnull(LoF_risk#2101980))) THEN coherent ELSE dispar END END AS coherencyOneCell#2102016]\n                                                         :                             +- Project [targetId#2096461, diseaseId#2096561, studyId#2096538, clinicalPhase#2096480, maxClinPhase#2098565, approvedDrug#2098689, GoF_protect#2101948L, LoF_protect#2101949L, GoF_risk#2101962, LoF_risk#2101980, noEvaluable#2101991, CASE WHEN ((((isnull(LoF_risk#2101980) AND isnull(LoF_protect#2101949L)) AND isnull(GoF_risk#2101962)) AND isnull(GoF_protect#2101948L)) AND isnull(noEvaluable#2101991)) THEN noEvid WHEN ((((isnull(LoF_risk#2101980) AND isnull(LoF_protect#2101949L)) AND isnull(GoF_risk#2101962)) AND isnull(GoF_protect#2101948L)) AND isnotnull(noEvaluable#2101991)) THEN EvidNotDoE WHEN (((isnotnull(LoF_risk#2101980) OR isnotnull(LoF_protect#2101949L)) OR isnotnull(GoF_risk#2101962)) OR isnotnull(GoF_protect#2101948L)) THEN CASE WHEN (isnotnull(GoF_risk#2101962) AND isnotnull(LoF_risk#2101980)) THEN dispar WHEN (isnotnull(LoF_protect#2101949L) AND isnotnull(LoF_risk#2101980)) THEN dispar WHEN (isnotnull(GoF_protect#2101948L) AND isnotnull(GoF_risk#2101962)) THEN dispar WHEN (isnotnull(GoF_protect#2101948L) AND isnotnull(LoF_protect#2101949L)) THEN dispar ELSE coherent END END AS coherencyDiagonal#2102003]\n                                                         :                                +- Project [targetId#2096461, diseaseId#2096561, studyId#2096538, clinicalPhase#2096480, maxClinPhase#2098565, approvedDrug#2098689, GoF_protect#2101948L, LoF_protect#2101949L, GoF_risk#2101962, LoF_risk#2101980, null AS noEvaluable#2101991]\n                                                         :                                   +- Project [targetId#2096461, diseaseId#2096561, studyId#2096538, clinicalPhase#2096480, maxClinPhase#2098565, approvedDrug#2098689, GoF_protect#2101948L, LoF_protect#2101949L, GoF_risk#2101962, null AS LoF_risk#2101980]\n                                                         :                                      +- Project [targetId#2096461, diseaseId#2096561, studyId#2096538, clinicalPhase#2096480, maxClinPhase#2098565, approvedDrug#2098689, GoF_protect#2101948L, LoF_protect#2101949L, null AS GoF_risk#2101962]\n                                                         :                                         +- Project [targetId#2096461, diseaseId#2096561, studyId#2096538, clinicalPhase#2096480, maxClinPhase#2098565, approvedDrug#2098689, __pivot_count(1) AS count AS `count(1) AS count`#2101947[0] AS GoF_protect#2101948L, __pivot_count(1) AS count AS `count(1) AS count`#2101947[1] AS LoF_protect#2101949L]\n                                                         :                                            +- Aggregate [targetId#2096461, diseaseId#2096561, studyId#2096538, clinicalPhase#2096480, maxClinPhase#2098565, approvedDrug#2098689], [targetId#2096461, diseaseId#2096561, studyId#2096538, clinicalPhase#2096480, maxClinPhase#2098565, approvedDrug#2098689, pivotfirst(homogenized#2098300, count(1) AS count#2101941L, GoF_protect, LoF_protect, 0, 0) AS __pivot_count(1) AS count AS `count(1) AS count`#2101947]\n                                                         :                                               +- Aggregate [targetId#2096461, diseaseId#2096561, studyId#2096538, clinicalPhase#2096480, maxClinPhase#2098565, approvedDrug#2098689, homogenized#2098300], [targetId#2096461, diseaseId#2096561, studyId#2096538, clinicalPhase#2096480, maxClinPhase#2098565, approvedDrug#2098689, homogenized#2098300, count(1) AS count(1) AS count#2101941L]\n                                                         :                                                  +- Project [targetId#2096461, diseaseId#2096561, drugId#2096498, datasourceId#2096460, alleleOrigins#2096462, allelicRequirements#2096463, ancestry#2096464, ancestryId#2096465, assays#2096466, assessments#2096467, beta#2096802, betaConfidenceIntervalLower#2096469, betaConfidenceIntervalUpper#2096470, biologicalModelAllelicComposition#2096471, biologicalModelGeneticBackground#2096472, biologicalModelId#2096473, biomarkerList#2096474, biomarkerName#2096475, biomarkers#2096476, biosamplesFromSource#2096477, cellLineBackground#2096478, cellType#2096479, clinicalPhase#2096480, clinicalSignificances#2097018, ... 99 more fields]\n                                                         :                                                     +- Project [targetId#2096461, diseaseId#2096561, drugId#2096498, datasourceId#2096460, alleleOrigins#2096462, allelicRequirements#2096463, ancestry#2096464, ancestryId#2096465, assays#2096466, assessments#2096467, beta#2096802, betaConfidenceIntervalLower#2096469, betaConfidenceIntervalUpper#2096470, biologicalModelAllelicComposition#2096471, biologicalModelGeneticBackground#2096472, biologicalModelId#2096473, biomarkerList#2096474, biomarkerName#2096475, biomarkers#2096476, biosamplesFromSource#2096477, cellLineBackground#2096478, cellType#2096479, clinicalPhase#2096480, clinicalSignificances#2097018, ... 100 more fields]\n                                                         :                                                        +- Window [max(isApproved#2098438) windowspecdefinition(targetId#2096461, diseaseId#2096561, specifiedwindowframe(RowFrame, unboundedpreceding$(), unboundedfollowing$())) AS approvedDrug#2098689], [targetId#2096461, diseaseId#2096561]\n                                                         :                                                           +- Project [targetId#2096461, diseaseId#2096561, drugId#2096498, datasourceId#2096460, alleleOrigins#2096462, allelicRequirements#2096463, ancestry#2096464, ancestryId#2096465, assays#2096466, assessments#2096467, beta#2096802, betaConfidenceIntervalLower#2096469, betaConfidenceIntervalUpper#2096470, biologicalModelAllelicComposition#2096471, biologicalModelGeneticBackground#2096472, biologicalModelId#2096473, biomarkerList#2096474, biomarkerName#2096475, biomarkers#2096476, biosamplesFromSource#2096477, cellLineBackground#2096478, cellType#2096479, clinicalPhase#2096480, clinicalSignificances#2097018, ... 98 more fields]\n                                                         :                                                              +- Project [targetId#2096461, diseaseId#2096561, drugId#2096498, datasourceId#2096460, alleleOrigins#2096462, allelicRequirements#2096463, ancestry#2096464, ancestryId#2096465, assays#2096466, assessments#2096467, beta#2096802, betaConfidenceIntervalLower#2096469, betaConfidenceIntervalUpper#2096470, biologicalModelAllelicComposition#2096471, biologicalModelGeneticBackground#2096472, biologicalModelId#2096473, biomarkerList#2096474, biomarkerName#2096475, biomarkers#2096476, biosamplesFromSource#2096477, cellLineBackground#2096478, cellType#2096479, clinicalPhase#2096480, clinicalSignificances#2097018, ... 98 more fields]\n                                                         :                                                                 +- Project [targetId#2096461, diseaseId#2096561, drugId#2096498, datasourceId#2096460, alleleOrigins#2096462, allelicRequirements#2096463, ancestry#2096464, ancestryId#2096465, assays#2096466, assessments#2096467, beta#2096802, betaConfidenceIntervalLower#2096469, betaConfidenceIntervalUpper#2096470, biologicalModelAllelicComposition#2096471, biologicalModelGeneticBackground#2096472, biologicalModelId#2096473, biomarkerList#2096474, biomarkerName#2096475, biomarkers#2096476, biosamplesFromSource#2096477, cellLineBackground#2096478, cellType#2096479, clinicalPhase#2096480, clinicalSignificances#2097018, ... 99 more fields]\n                                                         :                                                                    +- Window [max(clinicalPhase#2096480) windowspecdefinition(targetId#2096461, diseaseId#2096561, drugId#2096498, studyId#2096538, clinicalPhase#2096480, specifiedwindowframe(RowFrame, unboundedpreceding$(), unboundedfollowing$())) AS maxClinPhase#2098565], [targetId#2096461, diseaseId#2096561, drugId#2096498, studyId#2096538, clinicalPhase#2096480]\n                                                         :                                                                       +- Project [targetId#2096461, diseaseId#2096561, drugId#2096498, datasourceId#2096460, alleleOrigins#2096462, allelicRequirements#2096463, ancestry#2096464, ancestryId#2096465, assays#2096466, assessments#2096467, beta#2096802, betaConfidenceIntervalLower#2096469, betaConfidenceIntervalUpper#2096470, biologicalModelAllelicComposition#2096471, biologicalModelGeneticBackground#2096472, biologicalModelId#2096473, biomarkerList#2096474, biomarkerName#2096475, biomarkers#2096476, biosamplesFromSource#2096477, cellLineBackground#2096478, cellType#2096479, clinicalPhase#2096480, clinicalSignificances#2097018, ... 97 more fields]\n                                                         :                                                                          +- Project [targetId#2096461, diseaseId#2096561, drugId#2096498, datasourceId#2096460, alleleOrigins#2096462, allelicRequirements#2096463, ancestry#2096464, ancestryId#2096465, assays#2096466, assessments#2096467, beta#2096802, betaConfidenceIntervalLower#2096469, betaConfidenceIntervalUpper#2096470, biologicalModelAllelicComposition#2096471, biologicalModelGeneticBackground#2096472, biologicalModelId#2096473, biomarkerList#2096474, biomarkerName#2096475, biomarkers#2096476, biosamplesFromSource#2096477, cellLineBackground#2096478, cellType#2096479, clinicalPhase#2096480, clinicalSignificances#2097018, ... 97 more fields]\n                                                         :                                                                             +- Join LeftOuter, (((targetId#2096461 = targetId#2098421) AND (diseaseId#2096561 = diseaseId#2098423)) AND (drugId#2096498 = drugId#2098422))\n                                                         :                                                                                :- Filter ((datasourceId#2096460 = chembl) AND NOT (homogenized#2098300 = noEvaluable))\n                                                         :                                                                                :  +- Project [datasourceId#2096460, targetId#2096461, alleleOrigins#2096462, allelicRequirements#2096463, ancestry#2096464, ancestryId#2096465, assays#2096466, assessments#2096467, beta#2096802, betaConfidenceIntervalLower#2096469, betaConfidenceIntervalUpper#2096470, biologicalModelAllelicComposition#2096471, biologicalModelGeneticBackground#2096472, biologicalModelId#2096473, biomarkerList#2096474, biomarkerName#2096475, biomarkers#2096476, biosamplesFromSource#2096477, cellLineBackground#2096478, cellType#2096479, clinicalPhase#2096480, clinicalSignificances#2097018, clinicalStatus#2096482, cohortDescription#2096483, ... 96 more fields]\n                                                         :                                                                                :     +- Project [datasourceId#2096460, targetId#2096461, alleleOrigins#2096462, allelicRequirements#2096463, ancestry#2096464, ancestryId#2096465, assays#2096466, assessments#2096467, beta#2096802, betaConfidenceIntervalLower#2096469, betaConfidenceIntervalUpper#2096470, biologicalModelAllelicComposition#2096471, biologicalModelGeneticBackground#2096472, biologicalModelId#2096473, biomarkerList#2096474, biomarkerName#2096475, biomarkers#2096476, biosamplesFromSource#2096477, cellLineBackground#2096478, cellType#2096479, clinicalPhase#2096480, clinicalSignificances#2097018, clinicalStatus#2096482, cohortDescription#2096483, ... 95 more fields]\n                                                         :                                                                                :        +- Project [datasourceId#2096460, targetId#2096461, alleleOrigins#2096462, allelicRequirements#2096463, ancestry#2096464, ancestryId#2096465, assays#2096466, assessments#2096467, beta#2096802, betaConfidenceIntervalLower#2096469, betaConfidenceIntervalUpper#2096470, biologicalModelAllelicComposition#2096471, biologicalModelGeneticBackground#2096472, biologicalModelId#2096473, biomarkerList#2096474, biomarkerName#2096475, biomarkers#2096476, biosamplesFromSource#2096477, cellLineBackground#2096478, cellType#2096479, clinicalPhase#2096480, clinicalSignificances#2097018, clinicalStatus#2096482, cohortDescription#2096483, ... 95 more fields]\n                                                         :                                                                                :           +- Project [datasourceId#2096460, targetId#2096461, alleleOrigins#2096462, allelicRequirements#2096463, ancestry#2096464, ancestryId#2096465, assays#2096466, assessments#2096467, beta#2096802, betaConfidenceIntervalLower#2096469, betaConfidenceIntervalUpper#2096470, biologicalModelAllelicComposition#2096471, biologicalModelGeneticBackground#2096472, biologicalModelId#2096473, biomarkerList#2096474, biomarkerName#2096475, biomarkers#2096476, biosamplesFromSource#2096477, cellLineBackground#2096478, cellType#2096479, clinicalPhase#2096480, clinicalSignificances#2097018, clinicalStatus#2096482, cohortDescription#2096483, ... 95 more fields]\n                                                         :                                                                                :              +- Project [datasourceId#2096460, targetId#2096461, alleleOrigins#2096462, allelicRequirements#2096463, ancestry#2096464, ancestryId#2096465, assays#2096466, assessments#2096467, beta#2096802, betaConfidenceIntervalLower#2096469, betaConfidenceIntervalUpper#2096470, biologicalModelAllelicComposition#2096471, biologicalModelGeneticBackground#2096472, biologicalModelId#2096473, biomarkerList#2096474, biomarkerName#2096475, biomarkers#2096476, biosamplesFromSource#2096477, cellLineBackground#2096478, cellType#2096479, clinicalPhase#2096480, clinicalSignificances#2097018, clinicalStatus#2096482, cohortDescription#2096483, ... 96 more fields]\n                                                         :                                                                                :                 +- Window [collect_set(intogen_function#2097815, 0, 0) windowspecdefinition(targetId#2096461, diseaseId#2096561, specifiedwindowframe(RowFrame, unboundedpreceding$(), unboundedfollowing$())) AS _we0#2097938], [targetId#2096461, diseaseId#2096561]\n                                                         :                                                                                :                    +- Project [datasourceId#2096460, targetId#2096461, alleleOrigins#2096462, allelicRequirements#2096463, ancestry#2096464, ancestryId#2096465, assays#2096466, assessments#2096467, beta#2096802, betaConfidenceIntervalLower#2096469, betaConfidenceIntervalUpper#2096470, biologicalModelAllelicComposition#2096471, biologicalModelGeneticBackground#2096472, biologicalModelId#2096473, biomarkerList#2096474, biomarkerName#2096475, biomarkers#2096476, biosamplesFromSource#2096477, cellLineBackground#2096478, cellType#2096479, clinicalPhase#2096480, clinicalSignificances#2097018, clinicalStatus#2096482, cohortDescription#2096483, ... 94 more fields]\n                                                         :                                                                                :                       +- Project [datasourceId#2096460, targetId#2096461, alleleOrigins#2096462, allelicRequirements#2096463, ancestry#2096464, ancestryId#2096465, assays#2096466, assessments#2096467, beta#2096802, betaConfidenceIntervalLower#2096469, betaConfidenceIntervalUpper#2096470, biologicalModelAllelicComposition#2096471, biologicalModelGeneticBackground#2096472, biologicalModelId#2096473, biomarkerList#2096474, biomarkerName#2096475, biomarkers#2096476, biosamplesFromSource#2096477, cellLineBackground#2096478, cellType#2096479, clinicalPhase#2096480, clinicalSignificances#2097018, clinicalStatus#2096482, cohortDescription#2096483, ... 94 more fields]\n                                                         :                                                                                :                          +- Project [datasourceId#2096460, targetId#2096461, alleleOrigins#2096462, allelicRequirements#2096463, ancestry#2096464, ancestryId#2096465, assays#2096466, assessments#2096467, beta#2096802, betaConfidenceIntervalLower#2096469, betaConfidenceIntervalUpper#2096470, biologicalModelAllelicComposition#2096471, biologicalModelGeneticBackground#2096472, biologicalModelId#2096473, biomarkerList#2096474, biomarkerName#2096475, biomarkers#2096476, biosamplesFromSource#2096477, cellLineBackground#2096478, cellType#2096479, clinicalPhase#2096480, clinicalSignificances#2097018, clinicalStatus#2096482, cohortDescription#2096483, ... 93 more fields]\n                                                         :                                                                                :                             +- Project [datasourceId#2096460, targetId#2096461, alleleOrigins#2096462, allelicRequirements#2096463, ancestry#2096464, ancestryId#2096465, assays#2096466, assessments#2096467, beta#2096802, betaConfidenceIntervalLower#2096469, betaConfidenceIntervalUpper#2096470, biologicalModelAllelicComposition#2096471, biologicalModelGeneticBackground#2096472, biologicalModelId#2096473, biomarkerList#2096474, biomarkerName#2096475, biomarkers#2096476, biosamplesFromSource#2096477, cellLineBackground#2096478, cellType#2096479, clinicalPhase#2096480, clinicalSignificances#2097018, clinicalStatus#2096482, cohortDescription#2096483, ... 92 more fields]\n                                                         :                                                                                :                                +- Join LeftOuter, ((drugId2#2096746 = drugId#2096498) AND (targetId2#2096753 = targetId#2096461))\n                                                         :                                                                                :                                   :- Join LeftOuter, (target_id#2096796 = targetId#2096461)\n                                                         :                                                                                :                                   :  :- Project [datasourceId#2096460, targetId#2096461, alleleOrigins#2096462, allelicRequirements#2096463, ancestry#2096464, ancestryId#2096465, assays#2096466, assessments#2096467, beta#2096802, betaConfidenceIntervalLower#2096469, betaConfidenceIntervalUpper#2096470, biologicalModelAllelicComposition#2096471, biologicalModelGeneticBackground#2096472, biologicalModelId#2096473, biomarkerList#2096474, biomarkerName#2096475, biomarkers#2096476, biosamplesFromSource#2096477, cellLineBackground#2096478, cellType#2096479, clinicalPhase#2096480, concat_ws(,, clinicalSignificances#2096481) AS clinicalSignificances#2097018, clinicalStatus#2096482, cohortDescription#2096483, ... 83 more fields]\n                                                         :                                                                                :                                   :  :  +- Project [datasourceId#2096460, targetId#2096461, alleleOrigins#2096462, allelicRequirements#2096463, ancestry#2096464, ancestryId#2096465, assays#2096466, assessments#2096467, beta#2096802, betaConfidenceIntervalLower#2096469, betaConfidenceIntervalUpper#2096470, biologicalModelAllelicComposition#2096471, biologicalModelGeneticBackground#2096472, biologicalModelId#2096473, biomarkerList#2096474, biomarkerName#2096475, biomarkers#2096476, biosamplesFromSource#2096477, cellLineBackground#2096478, cellType#2096479, clinicalPhase#2096480, clinicalSignificances#2096481, clinicalStatus#2096482, cohortDescription#2096483, ... 83 more fields]\n                                                         :                                                                                :                                   :  :     +- Project [datasourceId#2096460, targetId#2096461, alleleOrigins#2096462, allelicRequirements#2096463, ancestry#2096464, ancestryId#2096465, assays#2096466, assessments#2096467, cast(beta#2096468 as double) AS beta#2096802, betaConfidenceIntervalLower#2096469, betaConfidenceIntervalUpper#2096470, biologicalModelAllelicComposition#2096471, biologicalModelGeneticBackground#2096472, biologicalModelId#2096473, biomarkerList#2096474, biomarkerName#2096475, biomarkers#2096476, biosamplesFromSource#2096477, cellLineBackground#2096478, cellType#2096479, clinicalPhase#2096480, clinicalSignificances#2096481, clinicalStatus#2096482, cohortDescription#2096483, ... 83 more fields]\n                                                         :                                                                                :                                   :  :        +- Filter datasourceId#2096460 IN (ot_genetics_portal,gwas_credible_sets,gene_burden,eva,eva_somatic,gene2phenotype,orphanet,cancer_gene_census,intogen,impc,chembl)\n                                                         :                                                                                :                                   :  :           +- Relation [datasourceId#2096460,targetId#2096461,alleleOrigins#2096462,allelicRequirements#2096463,ancestry#2096464,ancestryId#2096465,assays#2096466,assessments#2096467,beta#2096468,betaConfidenceIntervalLower#2096469,betaConfidenceIntervalUpper#2096470,biologicalModelAllelicComposition#2096471,biologicalModelGeneticBackground#2096472,biologicalModelId#2096473,biomarkerList#2096474,biomarkerName#2096475,biomarkers#2096476,biosamplesFromSource#2096477,cellLineBackground#2096478,cellType#2096479,clinicalPhase#2096480,clinicalSignificances#2096481,clinicalStatus#2096482,cohortDescription#2096483,... 83 more fields] parquet\n                                                         :                                                                                :                                   :  +- Project [id#2096675 AS target_id#2096796, approvedSymbol#2096676, description#2096781, description_splited#2096785, TSorOncogene#2096790]\n                                                         :                                                                                :                                   :     +- Project [id#2096675, approvedSymbol#2096676, description#2096781, description_splited#2096785, CASE WHEN (RLIKE(description_splited#2096785, ncogene) AND RLIKE(description_splited#2096785, TSG)) THEN bivalent WHEN RLIKE(description_splited#2096785, ncogene(\\s|$)) THEN oncogene WHEN RLIKE(description_splited#2096785, TSG(\\s|$)) THEN TSG ELSE noEvaluable END AS TSorOncogene#2096790]\n                                                         :                                                                                :                                   :        +- Project [id#2096675, approvedSymbol#2096676, description#2096781, concat_ws(,, description#2096781) AS description_splited#2096785]\n                                                         :                                                                                :                                   :           +- Aggregate [id#2096675, approvedSymbol#2096676], [id#2096675, approvedSymbol#2096676, collect_set(description#2096773, 0, 0) AS description#2096781]\n                                                         :                                                                                :                                   :              +- Filter description#2096773 IN (TSG,oncogene,Oncogene,oncogene,oncogene,TSG,TSG,oncogene,fusion,oncogene,oncogene,fusion)\n                                                         :                                                                                :                                   :                 +- Project [id#2096675, approvedSymbol#2096676, col#2096768.description AS description#2096773]\n                                                         :                                                                                :                                   :                    +- Project [id#2096675, approvedSymbol#2096676, col#2096768]\n                                                         :                                                                                :                                   :                       +- Generate explode(hallmarks#2096685.attributes), true, [col#2096768]\n                                                         :                                                                                :                                   :                          +- Relation [id#2096675,approvedSymbol#2096676,biotype#2096677,transcriptIds#2096678,canonicalTranscript#2096679,canonicalExons#2096680,genomicLocation#2096681,alternativeGenes#2096682,approvedName#2096683,go#2096684,hallmarks#2096685,synonyms#2096686,symbolSynonyms#2096687,nameSynonyms#2096688,functionDescriptions#2096689,subcellularLocations#2096690,targetClass#2096691,obsoleteSymbols#2096692,obsoleteNames#2096693,constraint#2096694,tep#2096695,proteinIds#2096696,dbXrefs#2096697,chemicalProbes#2096698,... 4 more fields] parquet\n                                                         :                                                                                :                                   +- Aggregate [targetId2#2096753, drugId2#2096746], [targetId2#2096753, drugId2#2096746, collect_set(actionType#2096731, 0, 0) AS actionType#2096763]\n                                                         :                                                                                :                                      +- Project [targetId2#2096753, drugId2#2096746, actionType#2096731, mechanismOfAction#2096732]\n                                                         :                                                                                :                                         +- Generate explode(targets#2096736), true, [targetId2#2096753]\n                                                         :                                                                                :                                            +- Project [drugId2#2096746, actionType#2096731, mechanismOfAction#2096732, targets#2096736]\n                                                         :                                                                                :                                               +- Generate explode(chemblIds#2096733), true, [drugId2#2096746]\n                                                         :                                                                                :                                                  +- Relation [actionType#2096731,mechanismOfAction#2096732,chemblIds#2096733,targetName#2096734,targetType#2096735,targets#2096736,references#2096737] parquet\n                                                         :                                                                                +- Filter (isApproved#2098438 = 1)\n                                                         :                                                                                   +- Deduplicate [targetId#2098421, drugId#2098422, diseaseId#2098423, isApproved#2098438]\n                                                         :                                                                                      +- Project [targetId#2098421, drugId#2098422, diseaseId#2098423, CASE WHEN (isApproved#2098425 = cast(true as boolean)) THEN 1 ELSE 0 END AS isApproved#2098438]\n                                                         :                                                                                         +- Project [targetId#2098421, drugId#2098422, diseaseId#2098423, isApproved#2098425]\n                                                         :                                                                                            +- Relation [targetId#2098421,drugId#2098422,diseaseId#2098423,clinicalTrialId#2098424,isApproved#2098425,isComplex#2098426] parquet\n                                                         +- Project [biosampleId#2091938, biosampleName#2091939]\n                                                            +- Relation [biosampleId#2091938,biosampleName#2091939,description#2091940,xrefs#2091941,synonyms#2091942,parents#2091943,ancestors#2091944,children#2091945,descendants#2091946] parquet\n",
     "output_type": "error",
     "traceback": [
      "\u001b[0;31m---------------------------------------------------------------------------\u001b[0m",
      "\u001b[0;31mAnalysisException\u001b[0m                         Traceback (most recent call last)",
      "\u001b[0;32m/tmp/ipykernel_61741/2455266638.py\u001b[0m in \u001b[0;36m<cell line: 1>\u001b[0;34m()\u001b[0m\n\u001b[1;32m      1\u001b[0m \u001b[0;32mfor\u001b[0m \u001b[0mx\u001b[0m\u001b[0;34m,\u001b[0m \u001b[0mvalue\u001b[0m \u001b[0;32min\u001b[0m \u001b[0;34m[\u001b[0m\u001b[0;34m(\u001b[0m\u001b[0mkey\u001b[0m\u001b[0;34m,\u001b[0m \u001b[0mval\u001b[0m\u001b[0;34m)\u001b[0m \u001b[0;32mfor\u001b[0m \u001b[0mkey\u001b[0m\u001b[0;34m,\u001b[0m \u001b[0mval\u001b[0m \u001b[0;32min\u001b[0m \u001b[0mdisdic\u001b[0m\u001b[0;34m.\u001b[0m\u001b[0mitems\u001b[0m\u001b[0;34m(\u001b[0m\u001b[0;34m)\u001b[0m \u001b[0;32mif\u001b[0m \u001b[0mval\u001b[0m \u001b[0;34m==\u001b[0m \u001b[0;34m\"rightStudyType\"\u001b[0m\u001b[0;34m]\u001b[0m\u001b[0;34m:\u001b[0m\u001b[0;34m\u001b[0m\u001b[0;34m\u001b[0m\u001b[0m\n\u001b[1;32m      2\u001b[0m     \u001b[0mprint\u001b[0m\u001b[0;34m(\u001b[0m\u001b[0;34m\"building columns: \"\u001b[0m\u001b[0;34m,\u001b[0m \u001b[0mx\u001b[0m\u001b[0;34m,\u001b[0m\u001b[0;34m\"and\"\u001b[0m\u001b[0;34m,\u001b[0m\u001b[0mvalue\u001b[0m\u001b[0;34m)\u001b[0m\u001b[0;34m\u001b[0m\u001b[0;34m\u001b[0m\u001b[0m\n\u001b[0;32m----> 3\u001b[0;31m     bench2 = bench2.withColumn(\n\u001b[0m\u001b[1;32m      4\u001b[0m         \u001b[0mx\u001b[0m\u001b[0;34m,\u001b[0m\u001b[0;34m\u001b[0m\u001b[0;34m\u001b[0m\u001b[0m\n\u001b[1;32m      5\u001b[0m         \u001b[0mF\u001b[0m\u001b[0;34m.\u001b[0m\u001b[0mwhen\u001b[0m\u001b[0;34m(\u001b[0m\u001b[0mF\u001b[0m\u001b[0;34m.\u001b[0m\u001b[0marray_contains\u001b[0m\u001b[0;34m(\u001b[0m\u001b[0mF\u001b[0m\u001b[0;34m.\u001b[0m\u001b[0mcol\u001b[0m\u001b[0;34m(\u001b[0m\u001b[0mx\u001b[0m\u001b[0;34m)\u001b[0m\u001b[0;34m,\u001b[0m\u001b[0;34m\"yes\"\u001b[0m\u001b[0;34m)\u001b[0m\u001b[0;34m,\u001b[0m \u001b[0mF\u001b[0m\u001b[0;34m.\u001b[0m\u001b[0mlit\u001b[0m\u001b[0;34m(\u001b[0m\u001b[0;34m\"yes\"\u001b[0m\u001b[0;34m)\u001b[0m\u001b[0;34m)\u001b[0m\u001b[0;34m.\u001b[0m\u001b[0motherwise\u001b[0m\u001b[0;34m(\u001b[0m\u001b[0mF\u001b[0m\u001b[0;34m.\u001b[0m\u001b[0mlit\u001b[0m\u001b[0;34m(\u001b[0m\u001b[0;34m\"no\"\u001b[0m\u001b[0;34m)\u001b[0m\u001b[0;34m)\u001b[0m\u001b[0;34m\u001b[0m\u001b[0;34m\u001b[0m\u001b[0m\n",
      "\u001b[0;32m/usr/lib/spark/python/pyspark/sql/dataframe.py\u001b[0m in \u001b[0;36mwithColumn\u001b[0;34m(self, colName, col)\u001b[0m\n\u001b[1;32m   3034\u001b[0m         \u001b[0;32mif\u001b[0m \u001b[0;32mnot\u001b[0m \u001b[0misinstance\u001b[0m\u001b[0;34m(\u001b[0m\u001b[0mcol\u001b[0m\u001b[0;34m,\u001b[0m \u001b[0mColumn\u001b[0m\u001b[0;34m)\u001b[0m\u001b[0;34m:\u001b[0m\u001b[0;34m\u001b[0m\u001b[0;34m\u001b[0m\u001b[0m\n\u001b[1;32m   3035\u001b[0m             \u001b[0;32mraise\u001b[0m \u001b[0mTypeError\u001b[0m\u001b[0;34m(\u001b[0m\u001b[0;34m\"col should be Column\"\u001b[0m\u001b[0;34m)\u001b[0m\u001b[0;34m\u001b[0m\u001b[0;34m\u001b[0m\u001b[0m\n\u001b[0;32m-> 3036\u001b[0;31m         \u001b[0;32mreturn\u001b[0m \u001b[0mDataFrame\u001b[0m\u001b[0;34m(\u001b[0m\u001b[0mself\u001b[0m\u001b[0;34m.\u001b[0m\u001b[0m_jdf\u001b[0m\u001b[0;34m.\u001b[0m\u001b[0mwithColumn\u001b[0m\u001b[0;34m(\u001b[0m\u001b[0mcolName\u001b[0m\u001b[0;34m,\u001b[0m \u001b[0mcol\u001b[0m\u001b[0;34m.\u001b[0m\u001b[0m_jc\u001b[0m\u001b[0;34m)\u001b[0m\u001b[0;34m,\u001b[0m \u001b[0mself\u001b[0m\u001b[0;34m.\u001b[0m\u001b[0msparkSession\u001b[0m\u001b[0;34m)\u001b[0m\u001b[0;34m\u001b[0m\u001b[0;34m\u001b[0m\u001b[0m\n\u001b[0m\u001b[1;32m   3037\u001b[0m \u001b[0;34m\u001b[0m\u001b[0m\n\u001b[1;32m   3038\u001b[0m     \u001b[0;32mdef\u001b[0m \u001b[0mwithColumnRenamed\u001b[0m\u001b[0;34m(\u001b[0m\u001b[0mself\u001b[0m\u001b[0;34m,\u001b[0m \u001b[0mexisting\u001b[0m\u001b[0;34m:\u001b[0m \u001b[0mstr\u001b[0m\u001b[0;34m,\u001b[0m \u001b[0mnew\u001b[0m\u001b[0;34m:\u001b[0m \u001b[0mstr\u001b[0m\u001b[0;34m)\u001b[0m \u001b[0;34m->\u001b[0m \u001b[0;34m\"DataFrame\"\u001b[0m\u001b[0;34m:\u001b[0m\u001b[0;34m\u001b[0m\u001b[0;34m\u001b[0m\u001b[0m\n",
      "\u001b[0;32m/usr/lib/spark/python/lib/py4j-0.10.9.5-src.zip/py4j/java_gateway.py\u001b[0m in \u001b[0;36m__call__\u001b[0;34m(self, *args)\u001b[0m\n\u001b[1;32m   1319\u001b[0m \u001b[0;34m\u001b[0m\u001b[0m\n\u001b[1;32m   1320\u001b[0m         \u001b[0manswer\u001b[0m \u001b[0;34m=\u001b[0m \u001b[0mself\u001b[0m\u001b[0;34m.\u001b[0m\u001b[0mgateway_client\u001b[0m\u001b[0;34m.\u001b[0m\u001b[0msend_command\u001b[0m\u001b[0;34m(\u001b[0m\u001b[0mcommand\u001b[0m\u001b[0;34m)\u001b[0m\u001b[0;34m\u001b[0m\u001b[0;34m\u001b[0m\u001b[0m\n\u001b[0;32m-> 1321\u001b[0;31m         return_value = get_return_value(\n\u001b[0m\u001b[1;32m   1322\u001b[0m             answer, self.gateway_client, self.target_id, self.name)\n\u001b[1;32m   1323\u001b[0m \u001b[0;34m\u001b[0m\u001b[0m\n",
      "\u001b[0;32m/usr/lib/spark/python/pyspark/sql/utils.py\u001b[0m in \u001b[0;36mdeco\u001b[0;34m(*a, **kw)\u001b[0m\n\u001b[1;32m    194\u001b[0m                 \u001b[0;31m# Hide where the exception came from that shows a non-Pythonic\u001b[0m\u001b[0;34m\u001b[0m\u001b[0;34m\u001b[0m\u001b[0m\n\u001b[1;32m    195\u001b[0m                 \u001b[0;31m# JVM exception message.\u001b[0m\u001b[0;34m\u001b[0m\u001b[0;34m\u001b[0m\u001b[0m\n\u001b[0;32m--> 196\u001b[0;31m                 \u001b[0;32mraise\u001b[0m \u001b[0mconverted\u001b[0m \u001b[0;32mfrom\u001b[0m \u001b[0;32mNone\u001b[0m\u001b[0;34m\u001b[0m\u001b[0;34m\u001b[0m\u001b[0m\n\u001b[0m\u001b[1;32m    197\u001b[0m             \u001b[0;32melse\u001b[0m\u001b[0;34m:\u001b[0m\u001b[0;34m\u001b[0m\u001b[0;34m\u001b[0m\u001b[0m\n\u001b[1;32m    198\u001b[0m                 \u001b[0;32mraise\u001b[0m\u001b[0;34m\u001b[0m\u001b[0;34m\u001b[0m\u001b[0m\n",
      "\u001b[0;31mAnalysisException\u001b[0m: cannot resolve 'array_contains(eqtl, 'yes')' due to data type mismatch: Input to function array_contains should have been array followed by a value with same element type, but it's [string, string].;\n'Project [targetId#2095238, diseaseId#2095387, clinicalStudyId#2102030, clinicalPhase#2096480, maxClinPhase#2098565, approvedDrug#2098689, CASE WHEN array_contains(eqtl#4471932, yes) THEN yes ELSE no END AS eqtl#4472065, pqtl#4472008, sceqtl#4471989, scsqtl#4472046, sctuqtl#4472027, sqtl#4471951, tuqtl#4471970, Phase4#4471847, Phase>=3#4471862, Phase>=2#4471878, Phase>=1#4471895, approved#4471913]\n+- Project [targetId#2095238, diseaseId#2095387, clinicalStudyId#2102030, clinicalPhase#2096480, maxClinPhase#2098565, approvedDrug#2098689, eqtl#4471932, pqtl#4472008, sceqtl#4471989, CASE WHEN array_contains(scsqtl#4471827, yes) THEN yes ELSE no END AS scsqtl#4472046, sctuqtl#4472027, sqtl#4471951, tuqtl#4471970, Phase4#4471847, Phase>=3#4471862, Phase>=2#4471878, Phase>=1#4471895, approved#4471913]\n   +- Project [targetId#2095238, diseaseId#2095387, clinicalStudyId#2102030, clinicalPhase#2096480, maxClinPhase#2098565, approvedDrug#2098689, eqtl#4471932, pqtl#4472008, sceqtl#4471989, scsqtl#4471827, CASE WHEN array_contains(sctuqtl#4471829, yes) THEN yes ELSE no END AS sctuqtl#4472027, sqtl#4471951, tuqtl#4471970, Phase4#4471847, Phase>=3#4471862, Phase>=2#4471878, Phase>=1#4471895, approved#4471913]\n      +- Project [targetId#2095238, diseaseId#2095387, clinicalStudyId#2102030, clinicalPhase#2096480, maxClinPhase#2098565, approvedDrug#2098689, eqtl#4471932, CASE WHEN array_contains(pqtl#4471823, yes) THEN yes ELSE no END AS pqtl#4472008, sceqtl#4471989, scsqtl#4471827, sctuqtl#4471829, sqtl#4471951, tuqtl#4471970, Phase4#4471847, Phase>=3#4471862, Phase>=2#4471878, Phase>=1#4471895, approved#4471913]\n         +- Project [targetId#2095238, diseaseId#2095387, clinicalStudyId#2102030, clinicalPhase#2096480, maxClinPhase#2098565, approvedDrug#2098689, eqtl#4471932, pqtl#4471823, CASE WHEN array_contains(sceqtl#4471825, yes) THEN yes ELSE no END AS sceqtl#4471989, scsqtl#4471827, sctuqtl#4471829, sqtl#4471951, tuqtl#4471970, Phase4#4471847, Phase>=3#4471862, Phase>=2#4471878, Phase>=1#4471895, approved#4471913]\n            +- Project [targetId#2095238, diseaseId#2095387, clinicalStudyId#2102030, clinicalPhase#2096480, maxClinPhase#2098565, approvedDrug#2098689, eqtl#4471932, pqtl#4471823, sceqtl#4471825, scsqtl#4471827, sctuqtl#4471829, sqtl#4471951, CASE WHEN array_contains(tuqtl#4471833, yes) THEN yes ELSE no END AS tuqtl#4471970, Phase4#4471847, Phase>=3#4471862, Phase>=2#4471878, Phase>=1#4471895, approved#4471913]\n               +- Project [targetId#2095238, diseaseId#2095387, clinicalStudyId#2102030, clinicalPhase#2096480, maxClinPhase#2098565, approvedDrug#2098689, eqtl#4471932, pqtl#4471823, sceqtl#4471825, scsqtl#4471827, sctuqtl#4471829, CASE WHEN array_contains(sqtl#4471831, yes) THEN yes ELSE no END AS sqtl#4471951, tuqtl#4471833, Phase4#4471847, Phase>=3#4471862, Phase>=2#4471878, Phase>=1#4471895, approved#4471913]\n                  +- Project [targetId#2095238, diseaseId#2095387, clinicalStudyId#2102030, clinicalPhase#2096480, maxClinPhase#2098565, approvedDrug#2098689, CASE WHEN array_contains(eqtl#4471821, yes) THEN yes ELSE no END AS eqtl#4471932, pqtl#4471823, sceqtl#4471825, scsqtl#4471827, sctuqtl#4471829, sqtl#4471831, tuqtl#4471833, Phase4#4471847, Phase>=3#4471862, Phase>=2#4471878, Phase>=1#4471895, approved#4471913]\n                     +- Project [targetId#2095238, diseaseId#2095387, clinicalStudyId#2102030, clinicalPhase#2096480, maxClinPhase#2098565, approvedDrug#2098689, eqtl#4471821, pqtl#4471823, sceqtl#4471825, scsqtl#4471827, sctuqtl#4471829, sqtl#4471831, tuqtl#4471833, Phase4#4471847, Phase>=3#4471862, Phase>=2#4471878, Phase>=1#4471895, CASE WHEN (approvedDrug#2098689 = 1) THEN yes ELSE no END AS approved#4471913]\n                        +- Project [targetId#2095238, diseaseId#2095387, clinicalStudyId#2102030, clinicalPhase#2096480, maxClinPhase#2098565, approvedDrug#2098689, eqtl#4471821, pqtl#4471823, sceqtl#4471825, scsqtl#4471827, sctuqtl#4471829, sqtl#4471831, tuqtl#4471833, Phase4#4471847, Phase>=3#4471862, Phase>=2#4471878, CASE WHEN (maxClinPhase#2098565 >= cast(1 as double)) THEN yes ELSE no END AS Phase>=1#4471895]\n                           +- Project [targetId#2095238, diseaseId#2095387, clinicalStudyId#2102030, clinicalPhase#2096480, maxClinPhase#2098565, approvedDrug#2098689, eqtl#4471821, pqtl#4471823, sceqtl#4471825, scsqtl#4471827, sctuqtl#4471829, sqtl#4471831, tuqtl#4471833, Phase4#4471847, Phase>=3#4471862, CASE WHEN (maxClinPhase#2098565 >= cast(2 as double)) THEN yes ELSE no END AS Phase>=2#4471878]\n                              +- Project [targetId#2095238, diseaseId#2095387, clinicalStudyId#2102030, clinicalPhase#2096480, maxClinPhase#2098565, approvedDrug#2098689, eqtl#4471821, pqtl#4471823, sceqtl#4471825, scsqtl#4471827, sctuqtl#4471829, sqtl#4471831, tuqtl#4471833, Phase4#4471847, CASE WHEN (maxClinPhase#2098565 >= cast(3 as double)) THEN yes ELSE no END AS Phase>=3#4471862]\n                                 +- Project [targetId#2095238, diseaseId#2095387, clinicalStudyId#2102030, clinicalPhase#2096480, maxClinPhase#2098565, approvedDrug#2098689, eqtl#4471821, pqtl#4471823, sceqtl#4471825, scsqtl#4471827, sctuqtl#4471829, sqtl#4471831, tuqtl#4471833, CASE WHEN (maxClinPhase#2098565 = cast(4 as double)) THEN yes ELSE no END AS Phase4#4471847]\n                                    +- Aggregate [targetId#2095238, diseaseId#2095387, clinicalStudyId#2102030, clinicalPhase#2096480, maxClinPhase#2098565, approvedDrug#2098689], [targetId#2095238, diseaseId#2095387, clinicalStudyId#2102030, clinicalPhase#2096480, maxClinPhase#2098565, approvedDrug#2098689, collect_set(if ((rightStudyType#2091891 <=> cast(eqtl as string))) agree_lowestPVal#4470460 else cast(null as string), 0, 0) AS eqtl#4471821, collect_set(if ((rightStudyType#2091891 <=> cast(pqtl as string))) agree_lowestPVal#4470460 else cast(null as string), 0, 0) AS pqtl#4471823, collect_set(if ((rightStudyType#2091891 <=> cast(sceqtl as string))) agree_lowestPVal#4470460 else cast(null as string), 0, 0) AS sceqtl#4471825, collect_set(if ((rightStudyType#2091891 <=> cast(scsqtl as string))) agree_lowestPVal#4470460 else cast(null as string), 0, 0) AS scsqtl#4471827, collect_set(if ((rightStudyType#2091891 <=> cast(sctuqtl as string))) agree_lowestPVal#4470460 else cast(null as string), 0, 0) AS sctuqtl#4471829, collect_set(if ((rightStudyType#2091891 <=> cast(sqtl as string))) agree_lowestPVal#4470460 else cast(null as string), 0, 0) AS sqtl#4471831, collect_set(if ((rightStudyType#2091891 <=> cast(tuqtl as string))) agree_lowestPVal#4470460 else cast(null as string), 0, 0) AS tuqtl#4471833]\n                                       +- Project [biosampleId#2091857, targetId#2095238, diseaseId#2095387, leftStudyLocusId#2091888, rightStudyId#2093900, rightStudyLocusId#2091889, chromosome#2091890, rightStudyType#2091891, numberColocalisingVariants#2091892L, h0#2091893, h1#2091894, h2#2091895, h3#2091896, h4#2091897, colocalisationMethod#2091898, betaRatioSignAverage#2091899, leftStudyId#2093875, leftVariantId#2093876, credibleLeftStudyType#2093877, rightVariantId#2093901, credibleRightStudyType#2093902, projectId#2091830, indexStudyType#2093953, condition#2091853, ... 24 more fields]\n                                          +- Project [biosampleId#2091857, targetId#2095238, diseaseId#2095387, leftStudyLocusId#2091888, rightStudyId#2093900, rightStudyLocusId#2091889, chromosome#2091890, rightStudyType#2091891, numberColocalisingVariants#2091892L, h0#2091893, h1#2091894, h2#2091895, h3#2091896, h4#2091897, colocalisationMethod#2091898, betaRatioSignAverage#2091899, leftStudyId#2093875, leftVariantId#2093876, credibleLeftStudyType#2093877, rightVariantId#2093901, credibleRightStudyType#2093902, projectId#2091830, indexStudyType#2093953, condition#2091853, ... 25 more fields]\n                                             +- Window [first(AgreeDrug#2103382, false) windowspecdefinition(targetId#2095238, diseaseId#2095387, rightStudyType#2091891, pValueExponent#2095287 ASC NULLS FIRST, specifiedwindowframe(RangeFrame, unboundedpreceding$(), currentrow$())) AS agree_lowestPval#4470460], [targetId#2095238, diseaseId#2095387, rightStudyType#2091891], [pValueExponent#2095287 ASC NULLS FIRST]\n                                                +- Project [biosampleId#2091857, targetId#2095238, diseaseId#2095387, leftStudyLocusId#2091888, rightStudyId#2093900, rightStudyLocusId#2091889, chromosome#2091890, rightStudyType#2091891, numberColocalisingVariants#2091892L, h0#2091893, h1#2091894, h2#2091895, h3#2091896, h4#2091897, colocalisationMethod#2091898, betaRatioSignAverage#2091899, leftStudyId#2093875, leftVariantId#2093876, credibleLeftStudyType#2093877, rightVariantId#2093901, credibleRightStudyType#2093902, projectId#2091830, indexStudyType#2093953, condition#2091853, ... 23 more fields]\n                                                   +- Project [biosampleId#2091857, targetId#2095238, diseaseId#2095387, leftStudyLocusId#2091888, rightStudyId#2093900, rightStudyLocusId#2091889, chromosome#2091890, rightStudyType#2091891, numberColocalisingVariants#2091892L, h0#2091893, h1#2091894, h2#2091895, h3#2091896, h4#2091897, colocalisationMethod#2091898, betaRatioSignAverage#2091899, leftStudyId#2093875, leftVariantId#2093876, credibleLeftStudyType#2093877, rightVariantId#2093901, credibleRightStudyType#2093902, projectId#2091830, indexStudyType#2093953, condition#2091853, ... 23 more fields]\n                                                      +- Join LeftOuter, (biosampleId#2091857 = biosampleId#2091938)\n                                                         :- Filter NOT (name#2091536 = COVID-19)\n                                                         :  +- Project [targetId#2095238, diseaseId#2095387, leftStudyLocusId#2091888, rightStudyId#2093900, rightStudyLocusId#2091889, chromosome#2091890, rightStudyType#2091891, numberColocalisingVariants#2091892L, h0#2091893, h1#2091894, h2#2091895, h3#2091896, h4#2091897, colocalisationMethod#2091898, betaRatioSignAverage#2091899, leftStudyId#2093875, leftVariantId#2093876, credibleLeftStudyType#2093877, rightVariantId#2093901, credibleRightStudyType#2093902, projectId#2091830, indexStudyType#2093953, condition#2091853, biosampleId#2091857, ... 22 more fields]\n                                                         :     +- Project [targetId#2095238, diseaseId#2095387, leftStudyLocusId#2091888, rightStudyId#2093900, rightStudyLocusId#2091889, chromosome#2091890, rightStudyType#2091891, numberColocalisingVariants#2091892L, h0#2091893, h1#2091894, h2#2091895, h3#2091896, h4#2091897, colocalisationMethod#2091898, betaRatioSignAverage#2091899, leftStudyId#2093875, leftVariantId#2093876, credibleLeftStudyType#2093877, rightVariantId#2093901, credibleRightStudyType#2093902, projectId#2091830, indexStudyType#2093953, condition#2091853, biosampleId#2091857, ... 21 more fields]\n                                                         :        +- Join Inner, ((targetId#2095238 = targetId#2096461) AND (diseaseId#2095387 = diseaseId#2096561))\n                                                         :           :- Filter (betaGwas#2095217 < cast(0 as double))\n                                                         :           :  +- Project [diseaseId#2095387, leftStudyLocusId#2091888, targetId#2095238, rightStudyId#2093900, rightStudyLocusId#2091889, chromosome#2091890, rightStudyType#2091891, numberColocalisingVariants#2091892L, h0#2091893, h1#2091894, h2#2091895, h3#2091896, h4#2091897, colocalisationMethod#2091898, betaRatioSignAverage#2091899, leftStudyId#2093875, leftVariantId#2093876, credibleLeftStudyType#2093877, rightVariantId#2093901, credibleRightStudyType#2093902, projectId#2091830, indexStudyType#2093953, condition#2091853, biosampleId#2091857, ... 15 more fields]\n                                                         :           :     +- Project [diseaseId#2095387, leftStudyLocusId#2091888, targetId#2095238, rightStudyId#2093900, rightStudyLocusId#2091889, chromosome#2091890, rightStudyType#2091891, numberColocalisingVariants#2091892L, h0#2091893, h1#2091894, h2#2091895, h3#2091896, h4#2091897, colocalisationMethod#2091898, betaRatioSignAverage#2091899, leftStudyId#2093875, leftVariantId#2093876, credibleLeftStudyType#2093877, rightVariantId#2093901, credibleRightStudyType#2093902, projectId#2091830, indexStudyType#2093953, condition#2091853, biosampleId#2091857, ... 14 more fields]\n                                                         :           :        +- Project [diseaseId#2095387, leftStudyLocusId#2091888, targetId#2095238, rightStudyId#2093900, rightStudyLocusId#2091889, chromosome#2091890, rightStudyType#2091891, numberColocalisingVariants#2091892L, h0#2091893, h1#2091894, h2#2091895, h3#2091896, h4#2091897, colocalisationMethod#2091898, betaRatioSignAverage#2091899, leftStudyId#2093875, leftVariantId#2093876, credibleLeftStudyType#2093877, rightVariantId#2093901, credibleRightStudyType#2093902, projectId#2091830, indexStudyType#2093953, condition#2091853, biosampleId#2091857, ... 15 more fields]\n                                                         :           :           +- Generate explode(concat(array(diseaseId#2091663), parents#2091539)), true, [diseaseId#2095387]\n                                                         :           :              +- Project [diseaseId#2091663, leftStudyLocusId#2091888, targetId#2095238, rightStudyId#2093900, rightStudyLocusId#2091889, chromosome#2091890, rightStudyType#2091891, numberColocalisingVariants#2091892L, h0#2091893, h1#2091894, h2#2091895, h3#2091896, h4#2091897, colocalisationMethod#2091898, betaRatioSignAverage#2091899, leftStudyId#2093875, leftVariantId#2093876, credibleLeftStudyType#2093877, rightVariantId#2093901, credibleRightStudyType#2093902, projectId#2091830, indexStudyType#2093953, condition#2091853, biosampleId#2091857, ... 15 more fields]\n                                                         :           :                 +- Join LeftOuter, (diseaseId#2091663 = diseaseId#2095341)\n                                                         :           :                    :- Project [leftStudyLocusId#2091888, targetId#2095238, rightStudyId#2093900, rightStudyLocusId#2091889, chromosome#2091890, rightStudyType#2091891, numberColocalisingVariants#2091892L, h0#2091893, h1#2091894, h2#2091895, h3#2091896, h4#2091897, colocalisationMethod#2091898, betaRatioSignAverage#2091899, leftStudyId#2093875, leftVariantId#2093876, credibleLeftStudyType#2093877, rightVariantId#2093901, credibleRightStudyType#2093902, projectId#2091830, indexStudyType#2093953, condition#2091853, biosampleId#2091857, datasourceId#2091562, ... 12 more fields]\n                                                         :           :                    :  +- Join Inner, ((leftStudyLocusId#2091888 = leftStudyLocusId#2095262) AND (targetId#2095238 = targetId#2091563))\n                                                         :           :                    :     :- Project [rightStudyId#2093900, rightStudyLocusId#2091889, leftStudyLocusId#2091888, chromosome#2091890, rightStudyType#2091891, numberColocalisingVariants#2091892L, h0#2091893, h1#2091894, h2#2091895, h3#2091896, h4#2091897, colocalisationMethod#2091898, betaRatioSignAverage#2091899, leftStudyId#2093875, leftVariantId#2093876, credibleLeftStudyType#2093877, rightVariantId#2093901, credibleRightStudyType#2093902, geneId#2091829 AS targetId#2095238, projectId#2091830, indexStudyType#2093953, condition#2091853, biosampleId#2091857]\n                                                         :           :                    :     :  +- Project [rightStudyId#2093900, rightStudyLocusId#2091889, leftStudyLocusId#2091888, chromosome#2091890, rightStudyType#2091891, numberColocalisingVariants#2091892L, h0#2091893, h1#2091894, h2#2091895, h3#2091896, h4#2091897, colocalisationMethod#2091898, betaRatioSignAverage#2091899, leftStudyId#2093875, leftVariantId#2093876, credibleLeftStudyType#2093877, rightVariantId#2093901, credibleRightStudyType#2093902, geneId#2091829, projectId#2091830, indexStudyType#2093953, condition#2091853, biosampleId#2091857]\n                                                         :           :                    :     :     +- Join LeftOuter, (rightStudyId#2093900 = rightStudyId#2093952)\n                                                         :           :                    :     :        :- Project [rightStudyLocusId#2091889, leftStudyLocusId#2091888, chromosome#2091890, rightStudyType#2091891, numberColocalisingVariants#2091892L, h0#2091893, h1#2091894, h2#2091895, h3#2091896, h4#2091897, colocalisationMethod#2091898, betaRatioSignAverage#2091899, leftStudyId#2093875, leftVariantId#2093876, credibleLeftStudyType#2093877, rightStudyId#2093900, rightVariantId#2093901, credibleRightStudyType#2093902]\n                                                         :           :                    :     :        :  +- Join LeftOuter, (rightStudyLocusId#2091889 = rightStudyLocusId#2093899)\n                                                         :           :                    :     :        :     :- Project [leftStudyLocusId#2091888, rightStudyLocusId#2091889, chromosome#2091890, rightStudyType#2091891, numberColocalisingVariants#2091892L, h0#2091893, h1#2091894, h2#2091895, h3#2091896, h4#2091897, colocalisationMethod#2091898, betaRatioSignAverage#2091899, leftStudyId#2093875, leftVariantId#2093876, credibleLeftStudyType#2093877]\n                                                         :           :                    :     :        :     :  +- Join LeftOuter, (leftStudyLocusId#2091888 = leftStudyLocusId#2093874)\n                                                         :           :                    :     :        :     :     :- Relation [leftStudyLocusId#2091888,rightStudyLocusId#2091889,chromosome#2091890,rightStudyType#2091891,numberColocalisingVariants#2091892L,h0#2091893,h1#2091894,h2#2091895,h3#2091896,h4#2091897,colocalisationMethod#2091898,betaRatioSignAverage#2091899] parquet\n                                                         :           :                    :     :        :     :     +- Project [studyLocusId#2091776 AS leftStudyLocusId#2093874, StudyId#2091777 AS leftStudyId#2093875, variantId#2091778 AS leftVariantId#2093876, studyType#2091801 AS credibleLeftStudyType#2093877]\n                                                         :           :                    :     :        :     :        +- Relation [studyLocusId#2091776,studyId#2091777,variantId#2091778,chromosome#2091779,position#2091780,region#2091781,beta#2091782,zScore#2091783,pValueMantissa#2091784,pValueExponent#2091785,effectAlleleFrequencyFromSource#2091786,standardError#2091787,subStudyDescription#2091788,qualityControls#2091789,finemappingMethod#2091790,credibleSetIndex#2091791,credibleSetlog10BF#2091792,purityMeanR2#2091793,purityMinR2#2091794,locusStart#2091795,locusEnd#2091796,sampleSize#2091797,ldSet#2091798,locus#2091799,... 2 more fields] parquet\n                                                         :           :                    :     :        :     +- Project [studyLocusId#2093907 AS rightStudyLocusId#2093899, studyId#2093908 AS rightStudyId#2093900, variantId#2093909 AS rightVariantId#2093901, studyType#2093932 AS credibleRightStudyType#2093902]\n                                                         :           :                    :     :        :        +- Relation [studyLocusId#2093907,studyId#2093908,variantId#2093909,chromosome#2093910,position#2093911,region#2093912,beta#2093913,zScore#2093914,pValueMantissa#2093915,pValueExponent#2093916,effectAlleleFrequencyFromSource#2093917,standardError#2093918,subStudyDescription#2093919,qualityControls#2093920,finemappingMethod#2093921,credibleSetIndex#2093922,credibleSetlog10BF#2093923,purityMeanR2#2093924,purityMinR2#2093925,locusStart#2093926,locusEnd#2093927,sampleSize#2093928,ldSet#2093929,locus#2093930,... 2 more fields] parquet\n                                                         :           :                    :     :        +- Project [studyId#2091828 AS rightStudyId#2093952, geneId#2091829, projectId#2091830, studyType#2093812 AS indexStudyType#2093953, condition#2091853, biosampleId#2091857]\n                                                         :           :                    :     :           +- Project [studyId#2091828, geneId#2091829, projectId#2091830, studyType#2093812, traitFromSource#2091832, traitFromSourceMappedIds#2091833, biosampleFromSourceId#2091834, pubmedId#2091835, publicationTitle#2091836, publicationFirstAuthor#2091837, publicationDate#2091838, publicationJournal#2091839, backgroundTraitFromSourceMappedIds#2091840, initialSampleSize#2091841, nCases#2091842, nControls#2091843, nSamples#2091844, cohorts#2091845, ldPopulationStructure#2091846, discoverySamples#2091847, replicationSamples#2091848, qualityControls#2091849, analysisFlags#2091850, summarystatsLocation#2091851, ... 6 more fields]\n                                                         :           :                    :     :              +- Project [studyId#2091828, geneId#2091829, projectId#2091830, CASE WHEN isnotnull(newStudyType#2092272) THEN newStudyType#2092272 ELSE studyType#2091831 END AS studyType#2093812, traitFromSource#2091832, traitFromSourceMappedIds#2091833, biosampleFromSourceId#2091834, pubmedId#2091835, publicationTitle#2091836, publicationFirstAuthor#2091837, publicationDate#2091838, publicationJournal#2091839, backgroundTraitFromSourceMappedIds#2091840, initialSampleSize#2091841, nCases#2091842, nControls#2091843, nSamples#2091844, cohorts#2091845, ldPopulationStructure#2091846, discoverySamples#2091847, replicationSamples#2091848, qualityControls#2091849, analysisFlags#2091850, summarystatsLocation#2091851, ... 7 more fields]\n                                                         :           :                    :     :                 +- Project [studyId#2091828, geneId#2091829, projectId#2091830, studyType#2091831, traitFromSource#2091832, traitFromSourceMappedIds#2091833, biosampleFromSourceId#2091834, pubmedId#2091835, publicationTitle#2091836, publicationFirstAuthor#2091837, publicationDate#2091838, publicationJournal#2091839, backgroundTraitFromSourceMappedIds#2091840, initialSampleSize#2091841, nCases#2091842, nControls#2091843, nSamples#2091844, cohorts#2091845, ldPopulationStructure#2091846, discoverySamples#2091847, replicationSamples#2091848, qualityControls#2091849, analysisFlags#2091850, summarystatsLocation#2091851, ... 7 more fields]\n                                                         :           :                    :     :                    +- Join LeftOuter, (studyId#2091828 = studyId#2092975)\n                                                         :           :                    :     :                       :- Relation [studyId#2091828,geneId#2091829,projectId#2091830,studyType#2091831,traitFromSource#2091832,traitFromSourceMappedIds#2091833,biosampleFromSourceId#2091834,pubmedId#2091835,publicationTitle#2091836,publicationFirstAuthor#2091837,publicationDate#2091838,publicationJournal#2091839,backgroundTraitFromSourceMappedIds#2091840,initialSampleSize#2091841,nCases#2091842,nControls#2091843,nSamples#2091844,cohorts#2091845,ldPopulationStructure#2091846,discoverySamples#2091847,replicationSamples#2091848,qualityControls#2091849,analysisFlags#2091850,summarystatsLocation#2091851,... 6 more fields] parquet\n                                                         :           :                    :     :                       +- Project [studyId#2092975, newStudyType#2092272]\n                                                         :           :                    :     :                          +- Project [studyId#2092975, geneId#2092976, projectId#2092977, studyType#2092978, traitFromSource#2092979, traitFromSourceMappedIds#2092980, biosampleFromSourceId#2092981, pubmedId#2092982, publicationTitle#2092983, publicationFirstAuthor#2092984, publicationDate#2092985, publicationJournal#2092986, backgroundTraitFromSourceMappedIds#2092987, initialSampleSize#2092988, nCases#2092989, nControls#2092990, nSamples#2092991, cohorts#2092992, ldPopulationStructure#2092993, discoverySamples#2092994, replicationSamples#2092995, qualityControls#2092996, analysisFlags#2092997, summarystatsLocation#2092998, ... 7 more fields]\n                                                         :           :                    :     :                             +- Project [extracted_column#2092014, study_type#2091966, studyId#2092975, geneId#2092976, projectId#2092977, studyType#2092978, traitFromSource#2092979, traitFromSourceMappedIds#2092980, biosampleFromSourceId#2092981, pubmedId#2092982, publicationTitle#2092983, publicationFirstAuthor#2092984, publicationDate#2092985, publicationJournal#2092986, backgroundTraitFromSourceMappedIds#2092987, initialSampleSize#2092988, nCases#2092989, nControls#2092990, nSamples#2092991, cohorts#2092992, ldPopulationStructure#2092993, discoverySamples#2092994, replicationSamples#2092995, qualityControls#2092996, ... 10 more fields]\n                                                         :           :                    :     :                                +- Project [extracted_column#2092014, study_type#2091966, studyId#2092975, geneId#2092976, projectId#2092977, studyType#2092978, traitFromSource#2092979, traitFromSourceMappedIds#2092980, biosampleFromSourceId#2092981, pubmedId#2092982, publicationTitle#2092983, publicationFirstAuthor#2092984, publicationDate#2092985, publicationJournal#2092986, backgroundTraitFromSourceMappedIds#2092987, initialSampleSize#2092988, nCases#2092989, nControls#2092990, nSamples#2092991, cohorts#2092992, ldPopulationStructure#2092993, discoverySamples#2092994, replicationSamples#2092995, qualityControls#2092996, ... 9 more fields]\n                                                         :           :                    :     :                                   +- Project [extracted_column#2092014, study_type#2091966, studyId#2092975, geneId#2092976, projectId#2092977, studyType#2092978, traitFromSource#2092979, traitFromSourceMappedIds#2092980, biosampleFromSourceId#2092981, pubmedId#2092982, publicationTitle#2092983, publicationFirstAuthor#2092984, publicationDate#2092985, publicationJournal#2092986, backgroundTraitFromSourceMappedIds#2092987, initialSampleSize#2092988, nCases#2092989, nControls#2092990, nSamples#2092991, cohorts#2092992, ldPopulationStructure#2092993, discoverySamples#2092994, replicationSamples#2092995, qualityControls#2092996, ... 8 more fields]\n                                                         :           :                    :     :                                      +- Join RightOuter, (extracted_column#2091978 = extracted_column#2092014)\n                                                         :           :                    :     :                                         :- Project [concat_ws(_, study_label#2091958, quant_method#2091964, sample_group#2091959) AS extracted_column#2091978, study_type#2091966]\n                                                         :           :                    :     :                                         :  +- LogicalRDD [study_id#2091956, dataset_id#2091957, study_label#2091958, sample_group#2091959, tissue_id#2091960, tissue_label#2091961, condition_label#2091962, sample_size#2091963, quant_method#2091964, pmid#2091965, study_type#2091966], false\n                                                         :           :                    :     :                                         +- Project [studyId#2092975, geneId#2092976, projectId#2092977, studyType#2092978, traitFromSource#2092979, traitFromSourceMappedIds#2092980, biosampleFromSourceId#2092981, pubmedId#2092982, publicationTitle#2092983, publicationFirstAuthor#2092984, publicationDate#2092985, publicationJournal#2092986, backgroundTraitFromSourceMappedIds#2092987, initialSampleSize#2092988, nCases#2092989, nControls#2092990, nSamples#2092991, cohorts#2092992, ldPopulationStructure#2092993, discoverySamples#2092994, replicationSamples#2092995, qualityControls#2092996, analysisFlags#2092997, summarystatsLocation#2092998, ... 7 more fields]\n                                                         :           :                    :     :                                            +- Project [studyId#2092975, geneId#2092976, projectId#2092977, studyType#2092978, traitFromSource#2092979, traitFromSourceMappedIds#2092980, biosampleFromSourceId#2092981, pubmedId#2092982, publicationTitle#2092983, publicationFirstAuthor#2092984, publicationDate#2092985, publicationJournal#2092986, backgroundTraitFromSourceMappedIds#2092987, initialSampleSize#2092988, nCases#2092989, nControls#2092990, nSamples#2092991, cohorts#2092992, ldPopulationStructure#2092993, discoverySamples#2092994, replicationSamples#2092995, qualityControls#2092996, analysisFlags#2092997, summarystatsLocation#2092998, ... 7 more fields]\n                                                         :           :                    :     :                                               +- Filter NOT StartsWith(studyId#2092975, UKB_PPP)\n                                                         :           :                    :     :                                                  +- Filter NOT (studyType#2092978 = gwas)\n                                                         :           :                    :     :                                                     +- Relation [studyId#2092975,geneId#2092976,projectId#2092977,studyType#2092978,traitFromSource#2092979,traitFromSourceMappedIds#2092980,biosampleFromSourceId#2092981,pubmedId#2092982,publicationTitle#2092983,publicationFirstAuthor#2092984,publicationDate#2092985,publicationJournal#2092986,backgroundTraitFromSourceMappedIds#2092987,initialSampleSize#2092988,nCases#2092989,nControls#2092990,nSamples#2092991,cohorts#2092992,ldPopulationStructure#2092993,discoverySamples#2092994,replicationSamples#2092995,qualityControls#2092996,analysisFlags#2092997,summarystatsLocation#2092998,... 6 more fields] parquet\n                                                         :           :                    :     +- Project [studyLocusId#2091641 AS leftStudyLocusId#2095262, datasourceId#2091562, targetId#2091563, datatypeId#2091592, diseaseFromSourceMappedId#2091596, resourceScore#2091632, targetFromSourceId#2091648, diseaseId#2091663, id#2091664, score#2091665, sourceId#2091668, studyId#2095279, variantId#2095280, betaGwas#2095217, pValueExponent#2095287]\n                                                         :           :                    :        +- Project [studyLocusId#2091641, datasourceId#2091562, targetId#2091563, datatypeId#2091592, diseaseFromSourceMappedId#2091596, resourceScore#2091632, targetFromSourceId#2091648, diseaseId#2091663, id#2091664, score#2091665, sourceId#2091668, studyId#2095279, variantId#2095280, betaGwas#2095217, pValueExponent#2095287]\n                                                         :           :                    :           +- Join LeftOuter, (studyLocusId#2091641 = studyLocusId#2095278)\n                                                         :           :                    :              :- Project [datasourceId#2091562, targetId#2091563, datatypeId#2091592, diseaseFromSourceMappedId#2091596, resourceScore#2091632, studyLocusId#2091641, targetFromSourceId#2091648, diseaseId#2091663, id#2091664, score#2091665, sourceId#2091668]\n                                                         :           :                    :              :  +- Filter (datasourceId#2091562 = gwas_credible_sets)\n                                                         :           :                    :              :     +- Relation [datasourceId#2091562,targetId#2091563,alleleOrigins#2091564,allelicRequirements#2091565,ancestry#2091566,ancestryId#2091567,assays#2091568,assessments#2091569,beta#2091570,betaConfidenceIntervalLower#2091571,betaConfidenceIntervalUpper#2091572,biologicalModelAllelicComposition#2091573,biologicalModelGeneticBackground#2091574,biologicalModelId#2091575,biomarkerList#2091576,biomarkerName#2091577,biomarkers#2091578,biosamplesFromSource#2091579,cellLineBackground#2091580,cellType#2091581,clinicalPhase#2091582,clinicalSignificances#2091583,clinicalStatus#2091584,cohortDescription#2091585,... 83 more fields] parquet\n                                                         :           :                    :              +- Project [studyLocusId#2095278, studyId#2095279, variantId#2095280, beta#2095284 AS betaGwas#2095217, pValueExponent#2095287]\n                                                         :           :                    :                 +- Relation [studyLocusId#2095278,studyId#2095279,variantId#2095280,chromosome#2095281,position#2095282,region#2095283,beta#2095284,zScore#2095285,pValueMantissa#2095286,pValueExponent#2095287,effectAlleleFrequencyFromSource#2095288,standardError#2095289,subStudyDescription#2095290,qualityControls#2095291,finemappingMethod#2095292,credibleSetIndex#2095293,credibleSetlog10BF#2095294,purityMeanR2#2095295,purityMinR2#2095296,locusStart#2095297,locusEnd#2095298,sampleSize#2095299,ldSet#2095300,locus#2095301,... 2 more fields] parquet\n                                                         :           :                    +- Project [id#2091532 AS diseaseId#2095341, name#2091536, parents#2091539, therapeuticAreas#2091544]\n                                                         :           :                       +- Relation [id#2091532,code#2091533,dbXRefs#2091534,description#2091535,name#2091536,directLocationIds#2091537,obsoleteTerms#2091538,parents#2091539,synonyms#2091540,ancestors#2091541,descendants#2091542,children#2091543,therapeuticAreas#2091544,indirectLocationIds#2091545,ontology#2091546] parquet\n                                                         :           +- Project [targetId#2096461, diseaseId#2096561, clinicalStudyId#2102030, clinicalPhase#2096480, maxClinPhase#2098565, approvedDrug#2098689, drugGoF_protect#2102052L, LoF_protect#2101949L AS drugLoF_protect#2102061L]\n                                                         :              +- Project [targetId#2096461, diseaseId#2096561, clinicalStudyId#2102030, clinicalPhase#2096480, maxClinPhase#2098565, approvedDrug#2098689, GoF_protect#2101948L AS drugGoF_protect#2102052L, LoF_protect#2101949L]\n                                                         :                 +- Project [targetId#2096461, diseaseId#2096561, clinicalStudyId#2102030, clinicalPhase#2096480, maxClinPhase#2098565, approvedDrug#2098689, GoF_protect#2101948L, LoF_protect#2101949L]\n                                                         :                    +- Filter (coherencyDiagonal#2102003 = coherent)\n                                                         :                       +- Project [targetId#2096461, diseaseId#2096561, studyId#2096538 AS clinicalStudyId#2102030, clinicalPhase#2096480, maxClinPhase#2098565, approvedDrug#2098689, GoF_protect#2101948L, LoF_protect#2101949L, GoF_risk#2101962, LoF_risk#2101980, noEvaluable#2101991, coherencyDiagonal#2102003, coherencyOneCell#2102016]\n                                                         :                          +- Project [targetId#2096461, diseaseId#2096561, studyId#2096538, clinicalPhase#2096480, maxClinPhase#2098565, approvedDrug#2098689, GoF_protect#2101948L, LoF_protect#2101949L, GoF_risk#2101962, LoF_risk#2101980, noEvaluable#2101991, coherencyDiagonal#2102003, CASE WHEN ((((isnull(LoF_risk#2101980) AND isnull(LoF_protect#2101949L)) AND isnull(GoF_risk#2101962)) AND isnull(GoF_protect#2101948L)) AND isnull(noEvaluable#2101991)) THEN noEvid WHEN ((((isnull(LoF_risk#2101980) AND isnull(LoF_protect#2101949L)) AND isnull(GoF_risk#2101962)) AND isnull(GoF_protect#2101948L)) AND isnotnull(noEvaluable#2101991)) THEN EvidNotDoE WHEN (((isnotnull(LoF_risk#2101980) OR isnotnull(LoF_protect#2101949L)) OR isnotnull(GoF_risk#2101962)) OR isnotnull(GoF_protect#2101948L)) THEN CASE WHEN (isnotnull(LoF_risk#2101980) AND ((isnull(LoF_protect#2101949L) AND isnull(GoF_risk#2101962)) AND isnull(GoF_protect#2101948L))) THEN coherent WHEN (isnotnull(GoF_risk#2101962) AND ((isnull(LoF_protect#2101949L) AND isnull(LoF_risk#2101980)) AND isnull(GoF_protect#2101948L))) THEN coherent WHEN (isnotnull(LoF_protect#2101949L) AND ((isnull(LoF_risk#2101980) AND isnull(GoF_risk#2101962)) AND isnull(GoF_protect#2101948L))) THEN coherent WHEN (isnotnull(GoF_protect#2101948L) AND ((isnull(LoF_protect#2101949L) AND isnull(GoF_risk#2101962)) AND isnull(LoF_risk#2101980))) THEN coherent ELSE dispar END END AS coherencyOneCell#2102016]\n                                                         :                             +- Project [targetId#2096461, diseaseId#2096561, studyId#2096538, clinicalPhase#2096480, maxClinPhase#2098565, approvedDrug#2098689, GoF_protect#2101948L, LoF_protect#2101949L, GoF_risk#2101962, LoF_risk#2101980, noEvaluable#2101991, CASE WHEN ((((isnull(LoF_risk#2101980) AND isnull(LoF_protect#2101949L)) AND isnull(GoF_risk#2101962)) AND isnull(GoF_protect#2101948L)) AND isnull(noEvaluable#2101991)) THEN noEvid WHEN ((((isnull(LoF_risk#2101980) AND isnull(LoF_protect#2101949L)) AND isnull(GoF_risk#2101962)) AND isnull(GoF_protect#2101948L)) AND isnotnull(noEvaluable#2101991)) THEN EvidNotDoE WHEN (((isnotnull(LoF_risk#2101980) OR isnotnull(LoF_protect#2101949L)) OR isnotnull(GoF_risk#2101962)) OR isnotnull(GoF_protect#2101948L)) THEN CASE WHEN (isnotnull(GoF_risk#2101962) AND isnotnull(LoF_risk#2101980)) THEN dispar WHEN (isnotnull(LoF_protect#2101949L) AND isnotnull(LoF_risk#2101980)) THEN dispar WHEN (isnotnull(GoF_protect#2101948L) AND isnotnull(GoF_risk#2101962)) THEN dispar WHEN (isnotnull(GoF_protect#2101948L) AND isnotnull(LoF_protect#2101949L)) THEN dispar ELSE coherent END END AS coherencyDiagonal#2102003]\n                                                         :                                +- Project [targetId#2096461, diseaseId#2096561, studyId#2096538, clinicalPhase#2096480, maxClinPhase#2098565, approvedDrug#2098689, GoF_protect#2101948L, LoF_protect#2101949L, GoF_risk#2101962, LoF_risk#2101980, null AS noEvaluable#2101991]\n                                                         :                                   +- Project [targetId#2096461, diseaseId#2096561, studyId#2096538, clinicalPhase#2096480, maxClinPhase#2098565, approvedDrug#2098689, GoF_protect#2101948L, LoF_protect#2101949L, GoF_risk#2101962, null AS LoF_risk#2101980]\n                                                         :                                      +- Project [targetId#2096461, diseaseId#2096561, studyId#2096538, clinicalPhase#2096480, maxClinPhase#2098565, approvedDrug#2098689, GoF_protect#2101948L, LoF_protect#2101949L, null AS GoF_risk#2101962]\n                                                         :                                         +- Project [targetId#2096461, diseaseId#2096561, studyId#2096538, clinicalPhase#2096480, maxClinPhase#2098565, approvedDrug#2098689, __pivot_count(1) AS count AS `count(1) AS count`#2101947[0] AS GoF_protect#2101948L, __pivot_count(1) AS count AS `count(1) AS count`#2101947[1] AS LoF_protect#2101949L]\n                                                         :                                            +- Aggregate [targetId#2096461, diseaseId#2096561, studyId#2096538, clinicalPhase#2096480, maxClinPhase#2098565, approvedDrug#2098689], [targetId#2096461, diseaseId#2096561, studyId#2096538, clinicalPhase#2096480, maxClinPhase#2098565, approvedDrug#2098689, pivotfirst(homogenized#2098300, count(1) AS count#2101941L, GoF_protect, LoF_protect, 0, 0) AS __pivot_count(1) AS count AS `count(1) AS count`#2101947]\n                                                         :                                               +- Aggregate [targetId#2096461, diseaseId#2096561, studyId#2096538, clinicalPhase#2096480, maxClinPhase#2098565, approvedDrug#2098689, homogenized#2098300], [targetId#2096461, diseaseId#2096561, studyId#2096538, clinicalPhase#2096480, maxClinPhase#2098565, approvedDrug#2098689, homogenized#2098300, count(1) AS count(1) AS count#2101941L]\n                                                         :                                                  +- Project [targetId#2096461, diseaseId#2096561, drugId#2096498, datasourceId#2096460, alleleOrigins#2096462, allelicRequirements#2096463, ancestry#2096464, ancestryId#2096465, assays#2096466, assessments#2096467, beta#2096802, betaConfidenceIntervalLower#2096469, betaConfidenceIntervalUpper#2096470, biologicalModelAllelicComposition#2096471, biologicalModelGeneticBackground#2096472, biologicalModelId#2096473, biomarkerList#2096474, biomarkerName#2096475, biomarkers#2096476, biosamplesFromSource#2096477, cellLineBackground#2096478, cellType#2096479, clinicalPhase#2096480, clinicalSignificances#2097018, ... 99 more fields]\n                                                         :                                                     +- Project [targetId#2096461, diseaseId#2096561, drugId#2096498, datasourceId#2096460, alleleOrigins#2096462, allelicRequirements#2096463, ancestry#2096464, ancestryId#2096465, assays#2096466, assessments#2096467, beta#2096802, betaConfidenceIntervalLower#2096469, betaConfidenceIntervalUpper#2096470, biologicalModelAllelicComposition#2096471, biologicalModelGeneticBackground#2096472, biologicalModelId#2096473, biomarkerList#2096474, biomarkerName#2096475, biomarkers#2096476, biosamplesFromSource#2096477, cellLineBackground#2096478, cellType#2096479, clinicalPhase#2096480, clinicalSignificances#2097018, ... 100 more fields]\n                                                         :                                                        +- Window [max(isApproved#2098438) windowspecdefinition(targetId#2096461, diseaseId#2096561, specifiedwindowframe(RowFrame, unboundedpreceding$(), unboundedfollowing$())) AS approvedDrug#2098689], [targetId#2096461, diseaseId#2096561]\n                                                         :                                                           +- Project [targetId#2096461, diseaseId#2096561, drugId#2096498, datasourceId#2096460, alleleOrigins#2096462, allelicRequirements#2096463, ancestry#2096464, ancestryId#2096465, assays#2096466, assessments#2096467, beta#2096802, betaConfidenceIntervalLower#2096469, betaConfidenceIntervalUpper#2096470, biologicalModelAllelicComposition#2096471, biologicalModelGeneticBackground#2096472, biologicalModelId#2096473, biomarkerList#2096474, biomarkerName#2096475, biomarkers#2096476, biosamplesFromSource#2096477, cellLineBackground#2096478, cellType#2096479, clinicalPhase#2096480, clinicalSignificances#2097018, ... 98 more fields]\n                                                         :                                                              +- Project [targetId#2096461, diseaseId#2096561, drugId#2096498, datasourceId#2096460, alleleOrigins#2096462, allelicRequirements#2096463, ancestry#2096464, ancestryId#2096465, assays#2096466, assessments#2096467, beta#2096802, betaConfidenceIntervalLower#2096469, betaConfidenceIntervalUpper#2096470, biologicalModelAllelicComposition#2096471, biologicalModelGeneticBackground#2096472, biologicalModelId#2096473, biomarkerList#2096474, biomarkerName#2096475, biomarkers#2096476, biosamplesFromSource#2096477, cellLineBackground#2096478, cellType#2096479, clinicalPhase#2096480, clinicalSignificances#2097018, ... 98 more fields]\n                                                         :                                                                 +- Project [targetId#2096461, diseaseId#2096561, drugId#2096498, datasourceId#2096460, alleleOrigins#2096462, allelicRequirements#2096463, ancestry#2096464, ancestryId#2096465, assays#2096466, assessments#2096467, beta#2096802, betaConfidenceIntervalLower#2096469, betaConfidenceIntervalUpper#2096470, biologicalModelAllelicComposition#2096471, biologicalModelGeneticBackground#2096472, biologicalModelId#2096473, biomarkerList#2096474, biomarkerName#2096475, biomarkers#2096476, biosamplesFromSource#2096477, cellLineBackground#2096478, cellType#2096479, clinicalPhase#2096480, clinicalSignificances#2097018, ... 99 more fields]\n                                                         :                                                                    +- Window [max(clinicalPhase#2096480) windowspecdefinition(targetId#2096461, diseaseId#2096561, drugId#2096498, studyId#2096538, clinicalPhase#2096480, specifiedwindowframe(RowFrame, unboundedpreceding$(), unboundedfollowing$())) AS maxClinPhase#2098565], [targetId#2096461, diseaseId#2096561, drugId#2096498, studyId#2096538, clinicalPhase#2096480]\n                                                         :                                                                       +- Project [targetId#2096461, diseaseId#2096561, drugId#2096498, datasourceId#2096460, alleleOrigins#2096462, allelicRequirements#2096463, ancestry#2096464, ancestryId#2096465, assays#2096466, assessments#2096467, beta#2096802, betaConfidenceIntervalLower#2096469, betaConfidenceIntervalUpper#2096470, biologicalModelAllelicComposition#2096471, biologicalModelGeneticBackground#2096472, biologicalModelId#2096473, biomarkerList#2096474, biomarkerName#2096475, biomarkers#2096476, biosamplesFromSource#2096477, cellLineBackground#2096478, cellType#2096479, clinicalPhase#2096480, clinicalSignificances#2097018, ... 97 more fields]\n                                                         :                                                                          +- Project [targetId#2096461, diseaseId#2096561, drugId#2096498, datasourceId#2096460, alleleOrigins#2096462, allelicRequirements#2096463, ancestry#2096464, ancestryId#2096465, assays#2096466, assessments#2096467, beta#2096802, betaConfidenceIntervalLower#2096469, betaConfidenceIntervalUpper#2096470, biologicalModelAllelicComposition#2096471, biologicalModelGeneticBackground#2096472, biologicalModelId#2096473, biomarkerList#2096474, biomarkerName#2096475, biomarkers#2096476, biosamplesFromSource#2096477, cellLineBackground#2096478, cellType#2096479, clinicalPhase#2096480, clinicalSignificances#2097018, ... 97 more fields]\n                                                         :                                                                             +- Join LeftOuter, (((targetId#2096461 = targetId#2098421) AND (diseaseId#2096561 = diseaseId#2098423)) AND (drugId#2096498 = drugId#2098422))\n                                                         :                                                                                :- Filter ((datasourceId#2096460 = chembl) AND NOT (homogenized#2098300 = noEvaluable))\n                                                         :                                                                                :  +- Project [datasourceId#2096460, targetId#2096461, alleleOrigins#2096462, allelicRequirements#2096463, ancestry#2096464, ancestryId#2096465, assays#2096466, assessments#2096467, beta#2096802, betaConfidenceIntervalLower#2096469, betaConfidenceIntervalUpper#2096470, biologicalModelAllelicComposition#2096471, biologicalModelGeneticBackground#2096472, biologicalModelId#2096473, biomarkerList#2096474, biomarkerName#2096475, biomarkers#2096476, biosamplesFromSource#2096477, cellLineBackground#2096478, cellType#2096479, clinicalPhase#2096480, clinicalSignificances#2097018, clinicalStatus#2096482, cohortDescription#2096483, ... 96 more fields]\n                                                         :                                                                                :     +- Project [datasourceId#2096460, targetId#2096461, alleleOrigins#2096462, allelicRequirements#2096463, ancestry#2096464, ancestryId#2096465, assays#2096466, assessments#2096467, beta#2096802, betaConfidenceIntervalLower#2096469, betaConfidenceIntervalUpper#2096470, biologicalModelAllelicComposition#2096471, biologicalModelGeneticBackground#2096472, biologicalModelId#2096473, biomarkerList#2096474, biomarkerName#2096475, biomarkers#2096476, biosamplesFromSource#2096477, cellLineBackground#2096478, cellType#2096479, clinicalPhase#2096480, clinicalSignificances#2097018, clinicalStatus#2096482, cohortDescription#2096483, ... 95 more fields]\n                                                         :                                                                                :        +- Project [datasourceId#2096460, targetId#2096461, alleleOrigins#2096462, allelicRequirements#2096463, ancestry#2096464, ancestryId#2096465, assays#2096466, assessments#2096467, beta#2096802, betaConfidenceIntervalLower#2096469, betaConfidenceIntervalUpper#2096470, biologicalModelAllelicComposition#2096471, biologicalModelGeneticBackground#2096472, biologicalModelId#2096473, biomarkerList#2096474, biomarkerName#2096475, biomarkers#2096476, biosamplesFromSource#2096477, cellLineBackground#2096478, cellType#2096479, clinicalPhase#2096480, clinicalSignificances#2097018, clinicalStatus#2096482, cohortDescription#2096483, ... 95 more fields]\n                                                         :                                                                                :           +- Project [datasourceId#2096460, targetId#2096461, alleleOrigins#2096462, allelicRequirements#2096463, ancestry#2096464, ancestryId#2096465, assays#2096466, assessments#2096467, beta#2096802, betaConfidenceIntervalLower#2096469, betaConfidenceIntervalUpper#2096470, biologicalModelAllelicComposition#2096471, biologicalModelGeneticBackground#2096472, biologicalModelId#2096473, biomarkerList#2096474, biomarkerName#2096475, biomarkers#2096476, biosamplesFromSource#2096477, cellLineBackground#2096478, cellType#2096479, clinicalPhase#2096480, clinicalSignificances#2097018, clinicalStatus#2096482, cohortDescription#2096483, ... 95 more fields]\n                                                         :                                                                                :              +- Project [datasourceId#2096460, targetId#2096461, alleleOrigins#2096462, allelicRequirements#2096463, ancestry#2096464, ancestryId#2096465, assays#2096466, assessments#2096467, beta#2096802, betaConfidenceIntervalLower#2096469, betaConfidenceIntervalUpper#2096470, biologicalModelAllelicComposition#2096471, biologicalModelGeneticBackground#2096472, biologicalModelId#2096473, biomarkerList#2096474, biomarkerName#2096475, biomarkers#2096476, biosamplesFromSource#2096477, cellLineBackground#2096478, cellType#2096479, clinicalPhase#2096480, clinicalSignificances#2097018, clinicalStatus#2096482, cohortDescription#2096483, ... 96 more fields]\n                                                         :                                                                                :                 +- Window [collect_set(intogen_function#2097815, 0, 0) windowspecdefinition(targetId#2096461, diseaseId#2096561, specifiedwindowframe(RowFrame, unboundedpreceding$(), unboundedfollowing$())) AS _we0#2097938], [targetId#2096461, diseaseId#2096561]\n                                                         :                                                                                :                    +- Project [datasourceId#2096460, targetId#2096461, alleleOrigins#2096462, allelicRequirements#2096463, ancestry#2096464, ancestryId#2096465, assays#2096466, assessments#2096467, beta#2096802, betaConfidenceIntervalLower#2096469, betaConfidenceIntervalUpper#2096470, biologicalModelAllelicComposition#2096471, biologicalModelGeneticBackground#2096472, biologicalModelId#2096473, biomarkerList#2096474, biomarkerName#2096475, biomarkers#2096476, biosamplesFromSource#2096477, cellLineBackground#2096478, cellType#2096479, clinicalPhase#2096480, clinicalSignificances#2097018, clinicalStatus#2096482, cohortDescription#2096483, ... 94 more fields]\n                                                         :                                                                                :                       +- Project [datasourceId#2096460, targetId#2096461, alleleOrigins#2096462, allelicRequirements#2096463, ancestry#2096464, ancestryId#2096465, assays#2096466, assessments#2096467, beta#2096802, betaConfidenceIntervalLower#2096469, betaConfidenceIntervalUpper#2096470, biologicalModelAllelicComposition#2096471, biologicalModelGeneticBackground#2096472, biologicalModelId#2096473, biomarkerList#2096474, biomarkerName#2096475, biomarkers#2096476, biosamplesFromSource#2096477, cellLineBackground#2096478, cellType#2096479, clinicalPhase#2096480, clinicalSignificances#2097018, clinicalStatus#2096482, cohortDescription#2096483, ... 94 more fields]\n                                                         :                                                                                :                          +- Project [datasourceId#2096460, targetId#2096461, alleleOrigins#2096462, allelicRequirements#2096463, ancestry#2096464, ancestryId#2096465, assays#2096466, assessments#2096467, beta#2096802, betaConfidenceIntervalLower#2096469, betaConfidenceIntervalUpper#2096470, biologicalModelAllelicComposition#2096471, biologicalModelGeneticBackground#2096472, biologicalModelId#2096473, biomarkerList#2096474, biomarkerName#2096475, biomarkers#2096476, biosamplesFromSource#2096477, cellLineBackground#2096478, cellType#2096479, clinicalPhase#2096480, clinicalSignificances#2097018, clinicalStatus#2096482, cohortDescription#2096483, ... 93 more fields]\n                                                         :                                                                                :                             +- Project [datasourceId#2096460, targetId#2096461, alleleOrigins#2096462, allelicRequirements#2096463, ancestry#2096464, ancestryId#2096465, assays#2096466, assessments#2096467, beta#2096802, betaConfidenceIntervalLower#2096469, betaConfidenceIntervalUpper#2096470, biologicalModelAllelicComposition#2096471, biologicalModelGeneticBackground#2096472, biologicalModelId#2096473, biomarkerList#2096474, biomarkerName#2096475, biomarkers#2096476, biosamplesFromSource#2096477, cellLineBackground#2096478, cellType#2096479, clinicalPhase#2096480, clinicalSignificances#2097018, clinicalStatus#2096482, cohortDescription#2096483, ... 92 more fields]\n                                                         :                                                                                :                                +- Join LeftOuter, ((drugId2#2096746 = drugId#2096498) AND (targetId2#2096753 = targetId#2096461))\n                                                         :                                                                                :                                   :- Join LeftOuter, (target_id#2096796 = targetId#2096461)\n                                                         :                                                                                :                                   :  :- Project [datasourceId#2096460, targetId#2096461, alleleOrigins#2096462, allelicRequirements#2096463, ancestry#2096464, ancestryId#2096465, assays#2096466, assessments#2096467, beta#2096802, betaConfidenceIntervalLower#2096469, betaConfidenceIntervalUpper#2096470, biologicalModelAllelicComposition#2096471, biologicalModelGeneticBackground#2096472, biologicalModelId#2096473, biomarkerList#2096474, biomarkerName#2096475, biomarkers#2096476, biosamplesFromSource#2096477, cellLineBackground#2096478, cellType#2096479, clinicalPhase#2096480, concat_ws(,, clinicalSignificances#2096481) AS clinicalSignificances#2097018, clinicalStatus#2096482, cohortDescription#2096483, ... 83 more fields]\n                                                         :                                                                                :                                   :  :  +- Project [datasourceId#2096460, targetId#2096461, alleleOrigins#2096462, allelicRequirements#2096463, ancestry#2096464, ancestryId#2096465, assays#2096466, assessments#2096467, beta#2096802, betaConfidenceIntervalLower#2096469, betaConfidenceIntervalUpper#2096470, biologicalModelAllelicComposition#2096471, biologicalModelGeneticBackground#2096472, biologicalModelId#2096473, biomarkerList#2096474, biomarkerName#2096475, biomarkers#2096476, biosamplesFromSource#2096477, cellLineBackground#2096478, cellType#2096479, clinicalPhase#2096480, clinicalSignificances#2096481, clinicalStatus#2096482, cohortDescription#2096483, ... 83 more fields]\n                                                         :                                                                                :                                   :  :     +- Project [datasourceId#2096460, targetId#2096461, alleleOrigins#2096462, allelicRequirements#2096463, ancestry#2096464, ancestryId#2096465, assays#2096466, assessments#2096467, cast(beta#2096468 as double) AS beta#2096802, betaConfidenceIntervalLower#2096469, betaConfidenceIntervalUpper#2096470, biologicalModelAllelicComposition#2096471, biologicalModelGeneticBackground#2096472, biologicalModelId#2096473, biomarkerList#2096474, biomarkerName#2096475, biomarkers#2096476, biosamplesFromSource#2096477, cellLineBackground#2096478, cellType#2096479, clinicalPhase#2096480, clinicalSignificances#2096481, clinicalStatus#2096482, cohortDescription#2096483, ... 83 more fields]\n                                                         :                                                                                :                                   :  :        +- Filter datasourceId#2096460 IN (ot_genetics_portal,gwas_credible_sets,gene_burden,eva,eva_somatic,gene2phenotype,orphanet,cancer_gene_census,intogen,impc,chembl)\n                                                         :                                                                                :                                   :  :           +- Relation [datasourceId#2096460,targetId#2096461,alleleOrigins#2096462,allelicRequirements#2096463,ancestry#2096464,ancestryId#2096465,assays#2096466,assessments#2096467,beta#2096468,betaConfidenceIntervalLower#2096469,betaConfidenceIntervalUpper#2096470,biologicalModelAllelicComposition#2096471,biologicalModelGeneticBackground#2096472,biologicalModelId#2096473,biomarkerList#2096474,biomarkerName#2096475,biomarkers#2096476,biosamplesFromSource#2096477,cellLineBackground#2096478,cellType#2096479,clinicalPhase#2096480,clinicalSignificances#2096481,clinicalStatus#2096482,cohortDescription#2096483,... 83 more fields] parquet\n                                                         :                                                                                :                                   :  +- Project [id#2096675 AS target_id#2096796, approvedSymbol#2096676, description#2096781, description_splited#2096785, TSorOncogene#2096790]\n                                                         :                                                                                :                                   :     +- Project [id#2096675, approvedSymbol#2096676, description#2096781, description_splited#2096785, CASE WHEN (RLIKE(description_splited#2096785, ncogene) AND RLIKE(description_splited#2096785, TSG)) THEN bivalent WHEN RLIKE(description_splited#2096785, ncogene(\\s|$)) THEN oncogene WHEN RLIKE(description_splited#2096785, TSG(\\s|$)) THEN TSG ELSE noEvaluable END AS TSorOncogene#2096790]\n                                                         :                                                                                :                                   :        +- Project [id#2096675, approvedSymbol#2096676, description#2096781, concat_ws(,, description#2096781) AS description_splited#2096785]\n                                                         :                                                                                :                                   :           +- Aggregate [id#2096675, approvedSymbol#2096676], [id#2096675, approvedSymbol#2096676, collect_set(description#2096773, 0, 0) AS description#2096781]\n                                                         :                                                                                :                                   :              +- Filter description#2096773 IN (TSG,oncogene,Oncogene,oncogene,oncogene,TSG,TSG,oncogene,fusion,oncogene,oncogene,fusion)\n                                                         :                                                                                :                                   :                 +- Project [id#2096675, approvedSymbol#2096676, col#2096768.description AS description#2096773]\n                                                         :                                                                                :                                   :                    +- Project [id#2096675, approvedSymbol#2096676, col#2096768]\n                                                         :                                                                                :                                   :                       +- Generate explode(hallmarks#2096685.attributes), true, [col#2096768]\n                                                         :                                                                                :                                   :                          +- Relation [id#2096675,approvedSymbol#2096676,biotype#2096677,transcriptIds#2096678,canonicalTranscript#2096679,canonicalExons#2096680,genomicLocation#2096681,alternativeGenes#2096682,approvedName#2096683,go#2096684,hallmarks#2096685,synonyms#2096686,symbolSynonyms#2096687,nameSynonyms#2096688,functionDescriptions#2096689,subcellularLocations#2096690,targetClass#2096691,obsoleteSymbols#2096692,obsoleteNames#2096693,constraint#2096694,tep#2096695,proteinIds#2096696,dbXrefs#2096697,chemicalProbes#2096698,... 4 more fields] parquet\n                                                         :                                                                                :                                   +- Aggregate [targetId2#2096753, drugId2#2096746], [targetId2#2096753, drugId2#2096746, collect_set(actionType#2096731, 0, 0) AS actionType#2096763]\n                                                         :                                                                                :                                      +- Project [targetId2#2096753, drugId2#2096746, actionType#2096731, mechanismOfAction#2096732]\n                                                         :                                                                                :                                         +- Generate explode(targets#2096736), true, [targetId2#2096753]\n                                                         :                                                                                :                                            +- Project [drugId2#2096746, actionType#2096731, mechanismOfAction#2096732, targets#2096736]\n                                                         :                                                                                :                                               +- Generate explode(chemblIds#2096733), true, [drugId2#2096746]\n                                                         :                                                                                :                                                  +- Relation [actionType#2096731,mechanismOfAction#2096732,chemblIds#2096733,targetName#2096734,targetType#2096735,targets#2096736,references#2096737] parquet\n                                                         :                                                                                +- Filter (isApproved#2098438 = 1)\n                                                         :                                                                                   +- Deduplicate [targetId#2098421, drugId#2098422, diseaseId#2098423, isApproved#2098438]\n                                                         :                                                                                      +- Project [targetId#2098421, drugId#2098422, diseaseId#2098423, CASE WHEN (isApproved#2098425 = cast(true as boolean)) THEN 1 ELSE 0 END AS isApproved#2098438]\n                                                         :                                                                                         +- Project [targetId#2098421, drugId#2098422, diseaseId#2098423, isApproved#2098425]\n                                                         :                                                                                            +- Relation [targetId#2098421,drugId#2098422,diseaseId#2098423,clinicalTrialId#2098424,isApproved#2098425,isComplex#2098426] parquet\n                                                         +- Project [biosampleId#2091938, biosampleName#2091939]\n                                                            +- Relation [biosampleId#2091938,biosampleName#2091939,description#2091940,xrefs#2091941,synonyms#2091942,parents#2091943,ancestors#2091944,children#2091945,descendants#2091946] parquet\n"
     ]
    }
   ],
   "source": [
    "for x, value in [(key, val) for key, val in disdic.items() if val == \"rightStudyType\"]:\n",
    "    print(\"building columns: \", x,\"and\",value)\n",
    "    bench2 = bench2.withColumn(\n",
    "        x, \n",
    "        F.when(F.array_contains(F.col(x),\"yes\"), F.lit(\"yes\")).otherwise(F.lit(\"no\"))\n",
    "    ).show()"
   ]
  },
  {
   "cell_type": "code",
   "execution_count": null,
   "metadata": {},
   "outputs": [],
   "source": [
    "benchmark.groupBy(\"\")"
   ]
  },
  {
   "cell_type": "markdown",
   "metadata": {},
   "source": [
    "### Take examples of the numbers that we observe in the statistics "
   ]
  },
  {
   "cell_type": "code",
   "execution_count": 22,
   "metadata": {},
   "outputs": [],
   "source": [
    "### include drugId and studyId becuase there are some studies where there are multiple drugs. \n",
    "# Everywthing will become coherent in chembl assoc since this\n",
    "chemblAssoc = (\n",
    "\n",
    "    discrepancifier(\n",
    "        assessment.filter(\n",
    "            (F.col(\"datasourceId\") == \"chembl\")\n",
    "            & (F.col(\"homogenized\") != \"noEvaluable\")\n",
    "        )\n",
    "        .join(drugApproved.filter(F.col(\"isApproved\")==1), on=[\"targetId\",\"diseaseId\",\"drugId\"], how=\"left\")\n",
    "        .withColumn(\n",
    "            \"maxClinPhase\",\n",
    "            F.max(\"clinicalPhase\").over(Window.partitionBy(\"targetId\", \"diseaseId\")),\n",
    "        )\n",
    "        .withColumn(\n",
    "        \"approvedDrug\",\n",
    "        F.max(F.col(\"isApproved\")).over(Window.partitionBy(\"targetId\", \"diseaseId\")),\n",
    "        )\n",
    "        .groupBy(\"targetId\", \"diseaseId\",\"drugId\", \"studyId\",\"clinicalPhase\",\"maxClinPhase\",\"approvedDrug\")\n",
    "        .pivot(\"homogenized\")\n",
    "        .count()\n",
    "    )\n",
    "    .filter(F.col(\"coherencyDiagonal\") == \"coherent\")\n",
    "    .drop(\n",
    "        \"coherencyDiagonal\", \"coherencyOneCell\", \"noEvaluable\", \"GoF_risk\", \"LoF_risk\"\n",
    "    )\n",
    "    .withColumnRenamed(\"GoF_protect\", \"drugGoF_protect\")\n",
    "    .withColumnRenamed(\"LoF_protect\", \"drugLoF_protect\")\n",
    ")"
   ]
  },
  {
   "cell_type": "code",
   "execution_count": 21,
   "metadata": {},
   "outputs": [
    {
     "name": "stdout",
     "output_type": "stream",
     "text": [
      "+---------------+-------------+-------------+-----------+-------------+------------+---------------+---------------+\n",
      "|       targetId|    diseaseId|       drugId|    studyId|clinicalPhase|maxClinPhase|drugGoF_protect|drugLoF_protect|\n",
      "+---------------+-------------+-------------+-----------+-------------+------------+---------------+---------------+\n",
      "|ENSG00000007314|  EFO_0000555|     CHEMBL79|NCT00108446|          2.0|         2.0|           null|              1|\n",
      "|ENSG00000007314|  EFO_0000555|   CHEMBL1404|NCT02239926|          2.0|         2.0|           null|              1|\n",
      "|ENSG00000007314|  EFO_0000555|    CHEMBL558|NCT01717404|          1.0|         2.0|           null|              1|\n",
      "|ENSG00000007314|  EFO_0003102|    CHEMBL569|NCT02099240|          0.5|         0.5|           null|              1|\n",
      "|ENSG00000007314|  EFO_0003894|     CHEMBL79|NCT01807455|          4.0|         4.0|           null|              1|\n",
      "|ENSG00000007314|  EFO_0004699| CHEMBL220492|NCT00245583|          3.0|         3.0|           null|              1|\n",
      "|ENSG00000007314|  EFO_0004699| CHEMBL220492|NCT00370188|          2.0|         3.0|           null|              1|\n",
      "|ENSG00000007314|  EFO_0004699| CHEMBL220492|NCT01843699|          2.0|         3.0|           null|              1|\n",
      "|ENSG00000007314|  EFO_0801084|     CHEMBL79|NCT01384877|          2.0|         2.0|           null|              1|\n",
      "|ENSG00000007314|  EFO_1000249|     CHEMBL79|NCT02385188|          3.0|         3.0|           null|              1|\n",
      "|ENSG00000008018|  EFO_1000453| CHEMBL371405|NCT03463265|          2.0|         2.0|           null|              1|\n",
      "|ENSG00000010310|  EFO_0003884|CHEMBL4297839|NCT05536804|          2.0|         2.0|              1|           null|\n",
      "|ENSG00000012504|  EFO_0004210|   CHEMBL1551|NCT02472509|          4.0|         4.0|              1|           null|\n",
      "|ENSG00000012504|MONDO_0019052| CHEMBL240597|       null|          4.0|         4.0|              1|           null|\n",
      "|ENSG00000012779|MONDO_0004235|    CHEMBL704|NCT01038739|          3.0|         3.0|           null|              1|\n",
      "|ENSG00000012779|MONDO_0004235|    CHEMBL704|NCT00695643|          3.0|         3.0|           null|              1|\n",
      "|ENSG00000012779|MONDO_0004235|    CHEMBL704|NCT00545103|          3.0|         3.0|           null|              1|\n",
      "|ENSG00000012779|MONDO_0004235|    CHEMBL704|NCT00554099|          2.0|         3.0|           null|              1|\n",
      "|ENSG00000014138|  EFO_1001945|    CHEMBL803|NCT00006363|          3.0|         3.0|           null|              1|\n",
      "|ENSG00000014138|  EFO_1001945|    CHEMBL803|NCT00002798|          3.0|         3.0|           null|              1|\n",
      "+---------------+-------------+-------------+-----------+-------------+------------+---------------+---------------+\n",
      "only showing top 20 rows\n",
      "\n"
     ]
    }
   ],
   "source": [
    "new_chemblAssoc.show()"
   ]
  },
  {
   "cell_type": "code",
   "execution_count": 16,
   "metadata": {},
   "outputs": [
    {
     "name": "stderr",
     "output_type": "stream",
     "text": [
      "25/01/08 12:01:01 WARN CacheManager: Asked to cache already cached data.\n",
      "25/01/08 12:01:01 WARN CacheManager: Asked to cache already cached data.\n",
      "25/01/08 12:01:01 WARN CacheManager: Asked to cache already cached data.\n"
     ]
    },
    {
     "name": "stdout",
     "output_type": "stream",
     "text": [
      "+-----------------+------+\n",
      "|coherencyDiagonal| count|\n",
      "+-----------------+------+\n",
      "|           dispar|   760|\n",
      "|         coherent|445772|\n",
      "+-----------------+------+\n",
      "\n"
     ]
    }
   ],
   "source": [
    "discrepancifier(\n",
    "        assessment.filter(\n",
    "            (F.col(\"datasourceId\") == \"chembl\")\n",
    "            & (F.col(\"homogenized\") != \"noEvaluable\")\n",
    "        )\n",
    "        .withColumn(\n",
    "            \"maxClinPhase\",\n",
    "            F.max(\"clinicalPhase\").over(Window.partitionBy(\"targetId\", \"diseaseId\")),\n",
    "        )\n",
    "        .groupBy(\"targetId\", \"diseaseId\", \"studyId\",\"clinicalPhase\",\"maxClinPhase\")\n",
    "        .pivot(\"homogenized\")\n",
    "        .count()\n",
    "    ).groupBy(\"coherencyDiagonal\").count().show()"
   ]
  },
  {
   "cell_type": "code",
   "execution_count": 18,
   "metadata": {},
   "outputs": [
    {
     "name": "stderr",
     "output_type": "stream",
     "text": [
      "[Stage 258:==========================================>         (165 + 16) / 200]\r"
     ]
    },
    {
     "name": "stdout",
     "output_type": "stream",
     "text": [
      "+-----------------+------+\n",
      "|coherencyDiagonal| count|\n",
      "+-----------------+------+\n",
      "|         coherent|197723|\n",
      "+-----------------+------+\n",
      "\n"
     ]
    },
    {
     "name": "stderr",
     "output_type": "stream",
     "text": [
      "                                                                                \r"
     ]
    }
   ],
   "source": [
    "discrepancifier(\n",
    "        assessment.filter(\n",
    "            (F.col(\"datasourceId\") == \"chembl\")\n",
    "            & (F.col(\"homogenized\") != \"noEvaluable\")\n",
    "        )\n",
    "        .withColumn(\n",
    "            \"maxClinPhase\",\n",
    "            F.max(\"clinicalPhase\").over(Window.partitionBy(\"targetId\", \"diseaseId\")),\n",
    "        )\n",
    "        .groupBy(\"targetId\", \"diseaseId\", \"drugId\",\"clinicalPhase\",\"maxClinPhase\")\n",
    "        .pivot(\"homogenized\")\n",
    "        .count()\n",
    "    ).groupBy(\"coherencyDiagonal\").count().show()"
   ]
  },
  {
   "cell_type": "code",
   "execution_count": 17,
   "metadata": {},
   "outputs": [
    {
     "name": "stderr",
     "output_type": "stream",
     "text": [
      "[Stage 241:====================================================>(197 + 3) / 200]\r"
     ]
    },
    {
     "name": "stdout",
     "output_type": "stream",
     "text": [
      "+-----------------+------+\n",
      "|coherencyDiagonal| count|\n",
      "+-----------------+------+\n",
      "|         coherent|538206|\n",
      "+-----------------+------+\n",
      "\n"
     ]
    },
    {
     "name": "stderr",
     "output_type": "stream",
     "text": [
      "                                                                                \r"
     ]
    }
   ],
   "source": [
    "discrepancifier(\n",
    "        assessment.filter(\n",
    "            (F.col(\"datasourceId\") == \"chembl\")\n",
    "            & (F.col(\"homogenized\") != \"noEvaluable\")\n",
    "        )\n",
    "        .withColumn(\n",
    "            \"maxClinPhase\",\n",
    "            F.max(\"clinicalPhase\").over(Window.partitionBy(\"targetId\", \"diseaseId\")),\n",
    "        )\n",
    "        .groupBy(\"targetId\", \"diseaseId\",\"drugId\", \"studyId\",\"clinicalPhase\",\"maxClinPhase\")\n",
    "        .pivot(\"homogenized\")\n",
    "        .count()\n",
    "    ).groupBy(\"coherencyDiagonal\").count().show()"
   ]
  },
  {
   "cell_type": "code",
   "execution_count": 4,
   "metadata": {},
   "outputs": [
    {
     "name": "stdout",
     "output_type": "stream",
     "text": [
      "+------------+---------------+-------------+-------------------+--------+----------+------+-----------+----+---------------------------+---------------------------+---------------------------------+--------------------------------+-----------------+-------------+-------------+----------+--------------------+------------------+--------+-------------+---------------------+--------------+-----------------+--------+----------------+---------------+----------+--------+-------------------+----------+----------------+--------------------+-------------------+-------------------------+-------------------------------------+-------------------------------------+--------------+-------------+------------+-------------------+-----------------+------------------------+-----------------------+-----------------------------+---------------------+----------+----------------------------+-------------------+--------------+---------+--------------------------------+--------------------------------+--------------+--------------+--------+------------------------+----------------------------------+---------------------------+------+-----------------+----------------+------------------+---------+----------------------+---------------+----------+------------+-----------+--------------+-------------+----+------------------------+-----------------+-------------------------+-------------------+----------+--------------------------------+-----------+------------+-------------+---------------+--------------+--------------------+-------------------------+----------------+------------------+-------------+----------------------+------------------+----------------+----------+-------------------+--------------------+----------------------------+-------------------+-------------------------------------+------------------------------+-------------+---------+-----------+-------------+--------------------+-----+-------------+----------------+--------+---------+--------------+-----------+-------------------+------------+---------------+-------------+-----------+--------------------+--------------------+----------------+------------+-----------+\n",
      "|datasourceId|       targetId|alleleOrigins|allelicRequirements|ancestry|ancestryId|assays|assessments|beta|betaConfidenceIntervalLower|betaConfidenceIntervalUpper|biologicalModelAllelicComposition|biologicalModelGeneticBackground|biologicalModelId|biomarkerList|biomarkerName|biomarkers|biosamplesFromSource|cellLineBackground|cellType|clinicalPhase|clinicalSignificances|clinicalStatus|cohortDescription|cohortId|cohortPhenotypes|cohortShortName|confidence|contrast|crisprScreenLibrary|datatypeId|diseaseCellLines|   diseaseFromSource|diseaseFromSourceId|diseaseFromSourceMappedId|diseaseModelAssociatedHumanPhenotypes|diseaseModelAssociatedModelPhenotypes|drugFromSource|       drugId|drugResponse|geneInteractionType|geneticBackground|geneticInteractionPValue|geneticInteractionScore|interactingTargetFromSourceId|interactingTargetRole|literature|log2FoldChangePercentileRank|log2FoldChangeValue|mutatedSamples|OddsRatio|oddsRatioConfidenceIntervalLower|oddsRatioConfidenceIntervalUpper|pValueExponent|pValueMantissa|pathways|phenotypicConsequenceFDR|phenotypicConsequenceLogFoldChange|phenotypicConsequencePValue|pmcIds|primaryProjectHit|primaryProjectId|projectDescription|projectId|publicationFirstAuthor|publicationYear|reactionId|reactionName|releaseDate|releaseVersion|resourceScore| sex|significantDriverMethods|statisticalMethod|statisticalMethodOverview|statisticalTestTail|studyCases|studyCasesWithQualifyingVariants|    studyId|studyLocusId|studyOverview|studySampleSize|studyStartDate|     studyStopReason|studyStopReasonCategories|targetFromSource|targetFromSourceId|targetInModel|targetInModelEnsemblId|targetInModelMgiId|targetModulation|targetRole|textMiningSentences|                urls|variantAminoacidDescriptions|variantFromSourceId|variantFunctionalConsequenceFromQtlId|variantFunctionalConsequenceId|variantHgvsId|variantId|variantRsId|    diseaseId|                  id|score|variantEffect|directionOnTrait|sourceId|target_id|approvedSymbol|description|description_splited|TSorOncogene|      targetId2|      drugId2| actionType|     inhibitors_list|     activators_list|intogen_function|intogenAnnot|homogenized|\n",
      "+------------+---------------+-------------+-------------------+--------+----------+------+-----------+----+---------------------------+---------------------------+---------------------------------+--------------------------------+-----------------+-------------+-------------+----------+--------------------+------------------+--------+-------------+---------------------+--------------+-----------------+--------+----------------+---------------+----------+--------+-------------------+----------+----------------+--------------------+-------------------+-------------------------+-------------------------------------+-------------------------------------+--------------+-------------+------------+-------------------+-----------------+------------------------+-----------------------+-----------------------------+---------------------+----------+----------------------------+-------------------+--------------+---------+--------------------------------+--------------------------------+--------------+--------------+--------+------------------------+----------------------------------+---------------------------+------+-----------------+----------------+------------------+---------+----------------------+---------------+----------+------------+-----------+--------------+-------------+----+------------------------+-----------------+-------------------------+-------------------+----------+--------------------------------+-----------+------------+-------------+---------------+--------------+--------------------+-------------------------+----------------+------------------+-------------+----------------------+------------------+----------------+----------+-------------------+--------------------+----------------------------+-------------------+-------------------------------------+------------------------------+-------------+---------+-----------+-------------+--------------------+-----+-------------+----------------+--------+---------+--------------+-----------+-------------------+------------+---------------+-------------+-----------+--------------------+--------------------+----------------+------------+-----------+\n",
      "|      chembl|ENSG00000007314|         null|               null|    null|      null|  null|       null|null|                       null|                       null|                             null|                            null|             null|         null|         null|      null|                null|              null|    null|          2.0|                     |     Completed|             null|    null|            null|           null|      null|    null|               null|known_drug|            null|Irritable Bowel S...|               null|              EFO_0000555|                                 null|                                 null|          null|     CHEMBL79|        null|               null|             null|                    null|                   null|                         null|                 null|      null|                        null|               null|          null|     null|                            null|                            null|          null|          null|    null|                    null|                              null|                       null|  null|             null|            null|              null|     null|                  null|           null|      null|        null|       null|          null|         null|null|                    null|             null|                     null|               null|      null|                            null|NCT00108446|        null|         null|           null|    2003-10-01|                null|                     null|   CHEMBL2331043|            P35499|         null|                  null|              null|            null|      null|               null|[{ClinicalTrials,...|                        null|               null|                                 null|                          null|         null|     null|       null|  EFO_0000555|21afa73dcae520077...|  0.2|          LoF|         protect|  chembl|     null|          null|       null|               null|        null|ENSG00000007314|     CHEMBL79|  [BLOCKER]|[RNAI INHIBITOR, ...|[PARTIAL AGONIST,...|            null|           0|LoF_protect|\n",
      "|      chembl|ENSG00000007314|         null|               null|    null|      null|  null|       null|null|                       null|                       null|                             null|                            null|             null|         null|         null|      null|                null|              null|    null|          2.0|                     |    Terminated|             null|    null|            null|           null|      null|    null|               null|known_drug|            null|Diarrhea Predomin...|               null|              EFO_0000555|                                 null|                                 null|          null|   CHEMBL1404|        null|               null|             null|                    null|                   null|                         null|                 null|      null|                        null|               null|          null|     null|                            null|                            null|          null|          null|    null|                    null|                              null|                       null|  null|             null|            null|              null|     null|                  null|           null|      null|        null|       null|          null|         null|null|                    null|             null|                     null|               null|      null|                            null|NCT02239926|        null|         null|           null|    2014-09-01|Difficulty in enr...|     [Insufficient enr...|      CHEMBL2072|            P35499|         null|                  null|              null|            null|      null|               null|[{ClinicalTrials,...|                        null|               null|                                 null|                          null|         null|     null|       null|  EFO_0000555|39877903d7752f044...|  0.2|          LoF|         protect|  chembl|     null|          null|       null|               null|        null|ENSG00000007314|   CHEMBL1404|  [BLOCKER]|[RNAI INHIBITOR, ...|[PARTIAL AGONIST,...|            null|           0|LoF_protect|\n",
      "|      chembl|ENSG00000007314|         null|               null|    null|      null|  null|       null|null|                       null|                       null|                             null|                            null|             null|         null|         null|      null|                null|              null|    null|          1.0|                     |     Completed|             null|    null|            null|           null|      null|    null|               null|known_drug|            null|                 IBS|               null|              EFO_0000555|                                 null|                                 null|          null|    CHEMBL558|        null|               null|             null|                    null|                   null|                         null|                 null|      null|                        null|               null|          null|     null|                            null|                            null|          null|          null|    null|                    null|                              null|                       null|  null|             null|            null|              null|     null|                  null|           null|      null|        null|       null|          null|         null|null|                    null|             null|                     null|               null|      null|                            null|NCT01717404|        null|         null|           null|    2012-10-01|                null|                     null|   CHEMBL2331043|            P35499|         null|                  null|              null|            null|      null|               null|[{ClinicalTrials,...|                        null|               null|                                 null|                          null|         null|     null|       null|  EFO_0000555|227032cec106de814...|  0.1|          LoF|         protect|  chembl|     null|          null|       null|               null|        null|ENSG00000007314|    CHEMBL558|  [BLOCKER]|[RNAI INHIBITOR, ...|[PARTIAL AGONIST,...|            null|           0|LoF_protect|\n",
      "|      chembl|ENSG00000007314|         null|               null|    null|      null|  null|       null|null|                       null|                       null|                             null|                            null|             null|         null|         null|      null|                null|              null|    null|          0.5|                     |    Terminated|             null|    null|            null|           null|      null|    null|               null|known_drug|            null|       Osteomyelitis|               null|              EFO_0003102|                                 null|                                 null|          null|    CHEMBL569|        null|               null|             null|                    null|                   null|                         null|                 null|      null|                        null|               null|          null|     null|                            null|                            null|          null|          null|    null|                    null|                              null|                       null|  null|             null|            null|              null|     null|                  null|           null|      null|        null|       null|          null|         null|null|                    null|             null|                     null|               null|      null|                            null|NCT02099240|        null|         null|           null|    2014-03-06|Not enough patien...|     [Insufficient enr...|   CHEMBL2331043|            P35499|         null|                  null|              null|            null|      null|               null|[{ClinicalTrials,...|                        null|               null|                                 null|                          null|         null|     null|       null|  EFO_0003102|e38ccec250cd430b4...| 0.05|          LoF|         protect|  chembl|     null|          null|       null|               null|        null|ENSG00000007314|    CHEMBL569|  [BLOCKER]|[RNAI INHIBITOR, ...|[PARTIAL AGONIST,...|            null|           0|LoF_protect|\n",
      "|      chembl|ENSG00000007314|         null|               null|    null|      null|  null|       null|null|                       null|                       null|                             null|                            null|             null|         null|         null|      null|                null|              null|    null|          4.0|                     |     Completed|             null|    null|            null|           null|      null|    null|               null|known_drug|            null|          Acne Scars|               null|              EFO_0003894|                                 null|                                 null|          null|     CHEMBL79|        null|               null|             null|                    null|                   null|                         null|                 null|      null|                        null|               null|          null|     null|                            null|                            null|          null|          null|    null|                    null|                              null|                       null|  null|             null|            null|              null|     null|                  null|           null|      null|        null|       null|          null|         null|null|                    null|             null|                     null|               null|      null|                            null|NCT01807455|        null|         null|           null|    2013-04-01|                null|                     null|   CHEMBL2331043|            P35499|         null|                  null|              null|            null|      null|               null|[{ClinicalTrials,...|                        null|               null|                                 null|                          null|         null|     null|       null|  EFO_0003894|265d480bacf46ecc6...|  1.0|          LoF|         protect|  chembl|     null|          null|       null|               null|        null|ENSG00000007314|     CHEMBL79|  [BLOCKER]|[RNAI INHIBITOR, ...|[PARTIAL AGONIST,...|            null|           0|LoF_protect|\n",
      "|      chembl|ENSG00000007314|         null|               null|    null|      null|  null|       null|null|                       null|                       null|                             null|                            null|             null|         null|         null|      null|                null|              null|    null|          3.0|                     |    Terminated|             null|    null|            null|           null|      null|    null|               null|known_drug|            null|Pathological Gamb...|               null|              EFO_0004699|                                 null|                                 null|          null| CHEMBL220492|        null|               null|             null|                    null|                   null|                         null|                 null|      null|                        null|               null|          null|     null|                            null|                            null|          null|          null|    null|                    null|                              null|                       null|  null|             null|            null|              null|     null|                  null|           null|      null|        null|       null|          null|         null|null|                    null|             null|                     null|               null|      null|                            null|NCT00245583|        null|         null|           null|    2005-10-01|      low enrollment|     [Insufficient enr...|   CHEMBL2331043|            P35499|         null|                  null|              null|            null|      null|               null|[{ClinicalTrials,...|                        null|               null|                                 null|                          null|         null|     null|       null|  EFO_0004699|b15a0e023d5b421e7...|  0.7|          LoF|         protect|  chembl|     null|          null|       null|               null|        null|ENSG00000007314| CHEMBL220492|  [BLOCKER]|[RNAI INHIBITOR, ...|[PARTIAL AGONIST,...|            null|           0|LoF_protect|\n",
      "|      chembl|ENSG00000007314|         null|               null|    null|      null|  null|       null|null|                       null|                       null|                             null|                            null|             null|         null|         null|      null|                null|              null|    null|          2.0|                     |     Withdrawn|             null|    null|            null|           null|      null|    null|               null|known_drug|            null|            Gambling|               null|              EFO_0004699|                                 null|                                 null|          null| CHEMBL220492|        null|               null|             null|                    null|                   null|                         null|                 null|      null|                        null|               null|          null|     null|                            null|                            null|          null|          null|    null|                    null|                              null|                       null|  null|             null|            null|              null|     null|                  null|           null|      null|        null|       null|          null|         null|null|                    null|             null|                     null|               null|      null|                            null|NCT00370188|        null|         null|           null|    2006-09-01|Change to investi...|      [Study staff moved]|   CHEMBL2331043|            P35499|         null|                  null|              null|            null|      null|               null|[{ClinicalTrials,...|                        null|               null|                                 null|                          null|         null|     null|       null|  EFO_0004699|011245060eac1c21d...|  0.2|          LoF|         protect|  chembl|     null|          null|       null|               null|        null|ENSG00000007314| CHEMBL220492|  [BLOCKER]|[RNAI INHIBITOR, ...|[PARTIAL AGONIST,...|            null|           0|LoF_protect|\n",
      "|      chembl|ENSG00000007314|         null|               null|    null|      null|  null|       null|null|                       null|                       null|                             null|                            null|             null|         null|         null|      null|                null|              null|    null|          2.0|                     |     Completed|             null|    null|            null|           null|      null|    null|               null|known_drug|            null|Pathological Gamb...|               null|              EFO_0004699|                                 null|                                 null|          null| CHEMBL220492|        null|               null|             null|                    null|                   null|                         null|                 null|      null|                        null|               null|          null|     null|                            null|                            null|          null|          null|    null|                    null|                              null|                       null|  null|             null|            null|              null|     null|                  null|           null|      null|        null|       null|          null|         null|null|                    null|             null|                     null|               null|      null|                            null|NCT01843699|        null|         null|           null|    2009-06-01|                null|                     null|   CHEMBL2331043|            P35499|         null|                  null|              null|            null|      null|               null|[{ClinicalTrials,...|                        null|               null|                                 null|                          null|         null|     null|       null|  EFO_0004699|dde67d1e8df5b4691...|  0.2|          LoF|         protect|  chembl|     null|          null|       null|               null|        null|ENSG00000007314| CHEMBL220492|  [BLOCKER]|[RNAI INHIBITOR, ...|[PARTIAL AGONIST,...|            null|           0|LoF_protect|\n",
      "|      chembl|ENSG00000007314|         null|               null|    null|      null|  null|       null|null|                       null|                       null|                             null|                            null|             null|         null|         null|      null|                null|              null|    null|          2.0|                     |     Completed|             null|    null|            null|           null|      null|    null|               null|known_drug|            null| Cancer-related Pain|               null|              EFO_0801084|                                 null|                                 null|          null|     CHEMBL79|        null|               null|             null|                    null|                   null|                         null|                 null|      null|                        null|               null|          null|     null|                            null|                            null|          null|          null|    null|                    null|                              null|                       null|  null|             null|            null|              null|     null|                  null|           null|      null|        null|       null|          null|         null|null|                    null|             null|                     null|               null|      null|                            null|NCT01384877|        null|         null|           null|    2011-12-01|                null|                     null|   CHEMBL2331043|            P35499|         null|                  null|              null|            null|      null|               null|[{ClinicalTrials,...|                        null|               null|                                 null|                          null|         null|     null|       null|  EFO_0801084|71dde3057a917230b...|  0.2|          LoF|         protect|  chembl|     null|          null|       null|               null|        null|ENSG00000007314|     CHEMBL79|  [BLOCKER]|[RNAI INHIBITOR, ...|[PARTIAL AGONIST,...|            null|           0|LoF_protect|\n",
      "|      chembl|ENSG00000007314|         null|               null|    null|      null|  null|       null|null|                       null|                       null|                             null|                            null|             null|         null|         null|      null|                null|              null|    null|          3.0|                     |     Completed|             null|    null|            null|           null|      null|    null|               null|known_drug|            null|Paget Disease, Ex...|               null|              EFO_1000249|                                 null|                                 null|          null|     CHEMBL79|        null|               null|             null|                    null|                   null|                         null|                 null|      null|                        null|               null|          null|     null|                            null|                            null|          null|          null|    null|                    null|                              null|                       null|  null|             null|            null|              null|     null|                  null|           null|      null|        null|       null|          null|         null|null|                    null|             null|                     null|               null|      null|                            null|NCT02385188|        null|         null|           null|    2015-05-01|                null|                     null|   CHEMBL2331043|            P35499|         null|                  null|              null|            null|      null|               null|[{ClinicalTrials,...|                        null|               null|                                 null|                          null|         null|     null|       null|  EFO_1000249|924dbf85f00a75e8f...|  0.7|          LoF|         protect|  chembl|     null|          null|       null|               null|        null|ENSG00000007314|     CHEMBL79|  [BLOCKER]|[RNAI INHIBITOR, ...|[PARTIAL AGONIST,...|            null|           0|LoF_protect|\n",
      "|      chembl|ENSG00000008018|         null|               null|    null|      null|  null|       null|null|                       null|                       null|                             null|                            null|             null|         null|         null|      null|                null|              null|    null|          2.0|                     |     Completed|             null|    null|            null|           null|      null|    null|               null|known_drug|            null|High Grade Recurr...|               null|              EFO_1000453|                                 null|                                 null|          null| CHEMBL371405|        null|               null|             null|                    null|                   null|                         null|                 null|      null|                        null|               null|          null|     null|                            null|                            null|          null|          null|    null|                    null|                              null|                       null|  null|             null|            null|              null|     null|                  null|           null|      null|        null|       null|          null|         null|null|                    null|             null|                     null|               null|      null|                            null|NCT03463265|        null|         null|           null|    2018-08-01|                null|                     null|   CHEMBL3831201|            P20618|         null|                  null|              null|            null|      null|               null|[{ClinicalTrials,...|                        null|               null|                                 null|                          null|         null|     null|       null|  EFO_1000453|12c1ac62817f59ec6...|  0.2|          LoF|         protect|  chembl|     null|          null|       null|               null|        null|ENSG00000008018| CHEMBL371405|[INHIBITOR]|[RNAI INHIBITOR, ...|[PARTIAL AGONIST,...|            null|           0|LoF_protect|\n",
      "|      chembl|ENSG00000010310|         null|               null|    null|      null|  null|       null|null|                       null|                       null|                             null|                            null|             null|         null|         null|      null|                null|              null|    null|          2.0|                     |    Recruiting|             null|    null|            null|           null|      null|    null|               null|known_drug|            null|Chronic Kidney Di...|               null|              EFO_0003884|                                 null|                                 null|          null|CHEMBL4297839|        null|               null|             null|                    null|                   null|                         null|                 null|      null|                        null|               null|          null|     null|                            null|                            null|          null|          null|    null|                    null|                              null|                       null|  null|             null|            null|              null|     null|                  null|           null|      null|        null|       null|          null|         null|null|                    null|             null|                     null|               null|      null|                            null|NCT05536804|        null|         null|           null|    2023-02-08|                null|                     null|      CHEMBL4383|            P48546|         null|                  null|              null|            null|      null|               null|[{ClinicalTrials,...|                        null|               null|                                 null|                          null|         null|     null|       null|  EFO_0003884|ff5bbe8bb330398a3...|  0.2|          GoF|         protect|  chembl|     null|          null|       null|               null|        null|ENSG00000010310|CHEMBL4297839|  [AGONIST]|[RNAI INHIBITOR, ...|[PARTIAL AGONIST,...|            null|           0|GoF_protect|\n",
      "|      chembl|ENSG00000012504|         null|               null|    null|      null|  null|       null|null|                       null|                       null|                             null|                            null|             null|         null|         null|      null|                null|              null|    null|          4.0|                     |    Terminated|             null|    null|            null|           null|      null|    null|               null|known_drug|            null|          Gallstones|               null|              EFO_0004210|                                 null|                                 null|          null|   CHEMBL1551|        null|               null|             null|                    null|                   null|                         null|                 null|      null|                        null|               null|          null|     null|                            null|                            null|          null|          null|    null|                    null|                              null|                       null|  null|             null|            null|              null|     null|                  null|           null|      null|        null|       null|          null|         null|null|                    null|             null|                     null|               null|      null|                            null|NCT02472509|        null|         null|           null|    2014-12-01|Study not feasibl...|     [Insufficient enr...|      CHEMBL2047|            Q96RI1|         null|                  null|              null|            null|      null|               null|[{ClinicalTrials,...|                        null|               null|                                 null|                          null|         null|     null|       null|  EFO_0004210|4dec114db1c14d24f...|  1.0|          GoF|         protect|  chembl|     null|          null|       null|               null|        null|ENSG00000012504|   CHEMBL1551|  [AGONIST]|[RNAI INHIBITOR, ...|[PARTIAL AGONIST,...|            null|           0|GoF_protect|\n",
      "|      chembl|ENSG00000012504|         null|               null|    null|      null|  null|       null|null|                       null|                       null|                             null|                            null|             null|         null|         null|      null|                null|              null|    null|          4.0|                     |          null|             null|    null|            null|           null|      null|    null|               null|known_drug|            null|                null|               null|            MONDO_0019052|                                 null|                                 null|          null| CHEMBL240597|        null|               null|             null|                    null|                   null|                         null|                 null|      null|                        null|               null|          null|     null|                            null|                            null|          null|          null|    null|                    null|                              null|                       null|  null|             null|            null|              null|     null|                  null|           null|      null|        null|       null|          null|         null|null|                    null|             null|                     null|               null|      null|                            null|       null|        null|         null|           null|          null|                null|                     null|      CHEMBL2047|            Q96RI1|         null|                  null|              null|            null|      null|               null|[{EMA, https://ww...|                        null|               null|                                 null|                          null|         null|     null|       null|MONDO_0019052|81c92a08ba60992c4...|  1.0|          GoF|         protect|  chembl|     null|          null|       null|               null|        null|ENSG00000012504| CHEMBL240597|  [AGONIST]|[RNAI INHIBITOR, ...|[PARTIAL AGONIST,...|            null|           0|GoF_protect|\n",
      "|      chembl|ENSG00000012779|         null|               null|    null|      null|  null|       null|null|                       null|                       null|                             null|                            null|             null|         null|         null|      null|                null|              null|    null|          3.0|                     |    Terminated|             null|    null|            null|           null|      null|    null|               null|known_drug|            null|      Diverticulitis|               null|            MONDO_0004235|                                 null|                                 null|          null|    CHEMBL704|        null|               null|             null|                    null|                   null|                         null|                 null|      null|                        null|               null|          null|     null|                            null|                            null|          null|          null|    null|                    null|                              null|                       null|  null|             null|            null|              null|     null|                  null|           null|      null|        null|       null|          null|         null|null|                    null|             null|                     null|               null|      null|                            null|NCT01038739|        null|         null|           null|    2010-01-01|Stopped due to fu...|               [Negative]|       CHEMBL215|            P09917|         null|                  null|              null|            null|      null|               null|[{ClinicalTrials,...|                        null|               null|                                 null|                          null|         null|     null|       null|MONDO_0004235|fc31ea4d3899e61c8...| 0.35|          LoF|         protect|  chembl|     null|          null|       null|               null|        null|ENSG00000012779|    CHEMBL704|[INHIBITOR]|[RNAI INHIBITOR, ...|[PARTIAL AGONIST,...|            null|           0|LoF_protect|\n",
      "|      chembl|ENSG00000012779|         null|               null|    null|      null|  null|       null|null|                       null|                       null|                             null|                            null|             null|         null|         null|      null|                null|              null|    null|          3.0|                     |    Terminated|             null|    null|            null|           null|      null|    null|               null|known_drug|            null|      Diverticulitis|               null|            MONDO_0004235|                                 null|                                 null|          null|    CHEMBL704|        null|               null|             null|                    null|                   null|                         null|                 null|      null|                        null|               null|          null|     null|                            null|                            null|          null|          null|    null|                    null|                              null|                       null|  null|             null|            null|              null|     null|                  null|           null|      null|        null|       null|          null|         null|null|                    null|             null|                     null|               null|      null|                            null|NCT00695643|        null|         null|           null|    2008-01-01|                null|                     null|       CHEMBL215|            P09917|         null|                  null|              null|            null|      null|               null|[{ClinicalTrials,...|                        null|               null|                                 null|                          null|         null|     null|       null|MONDO_0004235|3be7b51f4a6cbbe19...|  0.7|          LoF|         protect|  chembl|     null|          null|       null|               null|        null|ENSG00000012779|    CHEMBL704|[INHIBITOR]|[RNAI INHIBITOR, ...|[PARTIAL AGONIST,...|            null|           0|LoF_protect|\n",
      "|      chembl|ENSG00000012779|         null|               null|    null|      null|  null|       null|null|                       null|                       null|                             null|                            null|             null|         null|         null|      null|                null|              null|    null|          3.0|                     |     Completed|             null|    null|            null|           null|      null|    null|               null|known_drug|            null|      Diverticulitis|               null|            MONDO_0004235|                                 null|                                 null|          null|    CHEMBL704|        null|               null|             null|                    null|                   null|                         null|                 null|      null|                        null|               null|          null|     null|                            null|                            null|          null|          null|    null|                    null|                              null|                       null|  null|             null|            null|              null|     null|                  null|           null|      null|        null|       null|          null|         null|null|                    null|             null|                     null|               null|      null|                            null|NCT00545103|        null|         null|           null|    2007-12-06|                null|                     null|       CHEMBL215|            P09917|         null|                  null|              null|            null|      null|               null|[{ClinicalTrials,...|                        null|               null|                                 null|                          null|         null|     null|       null|MONDO_0004235|68ad66845771939ec...|  0.7|          LoF|         protect|  chembl|     null|          null|       null|               null|        null|ENSG00000012779|    CHEMBL704|[INHIBITOR]|[RNAI INHIBITOR, ...|[PARTIAL AGONIST,...|            null|           0|LoF_protect|\n",
      "|      chembl|ENSG00000012779|         null|               null|    null|      null|  null|       null|null|                       null|                       null|                             null|                            null|             null|         null|         null|      null|                null|              null|    null|          2.0|                     |     Completed|             null|    null|            null|           null|      null|    null|               null|known_drug|            null|      Diverticulitis|               null|            MONDO_0004235|                                 null|                                 null|          null|    CHEMBL704|        null|               null|             null|                    null|                   null|                         null|                 null|      null|                        null|               null|          null|     null|                            null|                            null|          null|          null|    null|                    null|                              null|                       null|  null|             null|            null|              null|     null|                  null|           null|      null|        null|       null|          null|         null|null|                    null|             null|                     null|               null|      null|                            null|NCT00554099|        null|         null|           null|    2007-11-01|                null|                     null|       CHEMBL215|            P09917|         null|                  null|              null|            null|      null|               null|[{ClinicalTrials,...|                        null|               null|                                 null|                          null|         null|     null|       null|MONDO_0004235|2c8155de6e2a0e498...|  0.2|          LoF|         protect|  chembl|     null|          null|       null|               null|        null|ENSG00000012779|    CHEMBL704|[INHIBITOR]|[RNAI INHIBITOR, ...|[PARTIAL AGONIST,...|            null|           0|LoF_protect|\n",
      "|      chembl|ENSG00000014138|         null|               null|    null|      null|  null|       null|null|                       null|                       null|                             null|                            null|             null|         null|         null|      null|                null|              null|    null|          3.0|                     |     Completed|             null|    null|            null|           null|      null|    null|               null|known_drug|            null|Childhood Acute M...|               null|              EFO_1001945|                                 null|                                 null|          null|    CHEMBL803|        null|               null|             null|                    null|                   null|                         null|                 null|      null|                        null|               null|          null|     null|                            null|                            null|          null|          null|    null|                    null|                              null|                       null|  null|             null|            null|              null|     null|                  null|           null|      null|        null|       null|          null|         null|null|                    null|             null|                     null|               null|      null|                            null|NCT00006363|        null|         null|           null|    2000-11-01|                null|                     null|   CHEMBL2363042|            Q14181|         null|                  null|              null|            null|      null|               null|[{ClinicalTrials,...|                        null|               null|                                 null|                          null|         null|     null|       null|  EFO_1001945|9f4ec57463d725aa0...|  0.7|          LoF|         protect|  chembl|     null|          null|       null|               null|        null|ENSG00000014138|    CHEMBL803|[INHIBITOR]|[RNAI INHIBITOR, ...|[PARTIAL AGONIST,...|            null|           0|LoF_protect|\n",
      "|      chembl|ENSG00000014138|         null|               null|    null|      null|  null|       null|null|                       null|                       null|                             null|                            null|             null|         null|         null|      null|                null|              null|    null|          3.0|                     |     Completed|             null|    null|            null|           null|      null|    null|               null|known_drug|            null|Childhood Acute M...|               null|              EFO_1001945|                                 null|                                 null|          null|    CHEMBL803|        null|               null|             null|                    null|                   null|                         null|                 null|      null|                        null|               null|          null|     null|                            null|                            null|          null|          null|    null|                    null|                              null|                       null|  null|             null|            null|              null|     null|                  null|           null|      null|        null|       null|          null|         null|null|                    null|             null|                     null|               null|      null|                            null|NCT00002798|        null|         null|           null|    1996-08-01|                null|                     null|   CHEMBL2363042|            Q14181|         null|                  null|              null|            null|      null|               null|[{ClinicalTrials,...|                        null|               null|                                 null|                          null|         null|     null|       null|  EFO_1001945|b476f956566a48af2...|  0.7|          LoF|         protect|  chembl|     null|          null|       null|               null|        null|ENSG00000014138|    CHEMBL803|[INHIBITOR]|[RNAI INHIBITOR, ...|[PARTIAL AGONIST,...|            null|           0|LoF_protect|\n",
      "+------------+---------------+-------------+-------------------+--------+----------+------+-----------+----+---------------------------+---------------------------+---------------------------------+--------------------------------+-----------------+-------------+-------------+----------+--------------------+------------------+--------+-------------+---------------------+--------------+-----------------+--------+----------------+---------------+----------+--------+-------------------+----------+----------------+--------------------+-------------------+-------------------------+-------------------------------------+-------------------------------------+--------------+-------------+------------+-------------------+-----------------+------------------------+-----------------------+-----------------------------+---------------------+----------+----------------------------+-------------------+--------------+---------+--------------------------------+--------------------------------+--------------+--------------+--------+------------------------+----------------------------------+---------------------------+------+-----------------+----------------+------------------+---------+----------------------+---------------+----------+------------+-----------+--------------+-------------+----+------------------------+-----------------+-------------------------+-------------------+----------+--------------------------------+-----------+------------+-------------+---------------+--------------+--------------------+-------------------------+----------------+------------------+-------------+----------------------+------------------+----------------+----------+-------------------+--------------------+----------------------------+-------------------+-------------------------------------+------------------------------+-------------+---------+-----------+-------------+--------------------+-----+-------------+----------------+--------+---------+--------------+-----------+-------------------+------------+---------------+-------------+-----------+--------------------+--------------------+----------------+------------+-----------+\n",
      "only showing top 20 rows\n",
      "\n"
     ]
    }
   ],
   "source": [
    "assessment.filter(\n",
    "            (F.col(\"datasourceId\") == \"chembl\")\n",
    "            & (F.col(\"homogenized\") != \"noEvaluable\")\n",
    "        ).show()"
   ]
  },
  {
   "cell_type": "markdown",
   "metadata": {},
   "source": [
    "### Runing analysis using drugId"
   ]
  },
  {
   "cell_type": "code",
   "execution_count": null,
   "metadata": {},
   "outputs": [],
   "source": [
    "##### Run the analysis using Drug Id\n",
    "\n",
    "\n",
    "#### 08.01.2025\n",
    "#### ALL PHASES \n",
    "from array import ArrayType\n",
    "from functions import (\n",
    "    relative_success,\n",
    "    spreadSheetFormatter,\n",
    "    discrepancifier,\n",
    "    temporary_directionOfEffect,\n",
    ")\n",
    "from stoppedTrials import terminated_td\n",
    "from DoEAssessment import directionOfEffect\n",
    "from membraneTargets import target_membrane\n",
    "from pyspark.sql import SparkSession, Window\n",
    "import pyspark.sql.functions as F\n",
    "from datetime import datetime\n",
    "from datetime import date\n",
    "from pyspark.sql.types import StructType, StructField, StringType, IntegerType\n",
    "from pyspark.sql.types import (\n",
    "    StructType,\n",
    "    StructField,\n",
    "    DoubleType,\n",
    "    DecimalType,\n",
    "    StringType,\n",
    "    FloatType,\n",
    ")\n",
    "import pandas as pd\n",
    "\n",
    "spark = SparkSession.builder.getOrCreate()\n",
    "\n",
    "path = \"gs://open-targets-pre-data-releases/24.12-uo_test-3/output/etl/parquet/\"\n",
    "\n",
    "target = spark.read.parquet(f\"{path}targets/\")\n",
    "\n",
    "diseases = spark.read.parquet(f\"{path}diseases/\")\n",
    "\n",
    "evidences = spark.read.parquet(f\"{path}evidence\")\n",
    "\n",
    "credible = spark.read.parquet(f\"{path}credibleSet\")\n",
    "\n",
    "### index with new fix\" \"gs://ot-team/irene/gentropy/study_index_2412_fixed\"\n",
    "index = spark.read.parquet(f\"gs://ot-team/irene/gentropy/study_index_2412_fixed\")\n",
    "\n",
    "new = spark.read.parquet(f\"{path}colocalisation/coloc\")\n",
    "\n",
    "variantIndex = spark.read.parquet(f\"{path}variantIndex\")\n",
    "\n",
    "biosample = spark.read.parquet(f\"{path}biosample\")\n",
    "\n",
    "\n",
    "#### Fixing scXQTL as XQTLs:\n",
    "## code provided by @ireneisdoomed\n",
    "pd.DataFrame.iteritems = pd.DataFrame.items\n",
    "\n",
    "raw_studies_metadata_schema: StructType = StructType(\n",
    "        [\n",
    "            StructField(\"study_id\", StringType(), True),\n",
    "            StructField(\"dataset_id\", StringType(), True),\n",
    "            StructField(\"study_label\", StringType(), True),\n",
    "            StructField(\"sample_group\", StringType(), True),\n",
    "            StructField(\"tissue_id\", StringType(), True),\n",
    "            StructField(\"tissue_label\", StringType(), True),\n",
    "            StructField(\"condition_label\", StringType(), True),\n",
    "            StructField(\"sample_size\", IntegerType(), True),\n",
    "            StructField(\"quant_method\", StringType(), True),\n",
    "            StructField(\"pmid\", StringType(), True),\n",
    "            StructField(\"study_type\", StringType(), True),\n",
    "        ]\n",
    "    )\n",
    "raw_studies_metadata_path = \"https://raw.githubusercontent.com/eQTL-Catalogue/eQTL-Catalogue-resources/fe3c4b4ed911b3a184271a6aadcd8c8769a66aba/data_tables/dataset_metadata.tsv\"\n",
    "\n",
    "study_table = spark.createDataFrame(\n",
    "            pd.read_csv(raw_studies_metadata_path, sep=\"\\t\"),\n",
    "            schema=raw_studies_metadata_schema,\n",
    "        )\n",
    "\n",
    "#index = spark.read.parquet(\"gs://open-targets-pre-data-releases/24.12-uo_test-3/output/genetics/parquet/study_index\")\n",
    "\n",
    "study_index_w_correct_type = (\n",
    "    study_table.select(\n",
    "        F.concat_ws(\n",
    "            \"_\",\n",
    "            F.col(\"study_label\"),\n",
    "            F.col(\"quant_method\"),\n",
    "            F.col(\"sample_group\"),\n",
    "        ).alias(\"extracted_column\"),\n",
    "        \"study_type\",\n",
    "    )\n",
    "    .join(\n",
    "        index\n",
    "        # Get eQTL Catalogue studies\n",
    "        .filter(F.col(\"studyType\") != \"gwas\")\n",
    "        .filter(~F.col(\"studyId\").startswith(\"UKB_PPP\"))\n",
    "        # Remove measured trait\n",
    "        .withColumn(\n",
    "            \"extracted_column\",\n",
    "            F.regexp_replace(F.col(\"studyId\"), r\"(_ENS.*|_ILMN.*|_X.*|_[0-9]+:.*)\", \"\"),\n",
    "        )\n",
    "        .withColumn(\n",
    "            \"extracted_column\",\n",
    "            # After the previous cleanup, there are multiple traits from the same publication starting with the gene symbol that need to be removed (e.g. `Sun_2018_aptamer_plasma_ANXA2.4961.17.1..1`)\n",
    "            F.when(\n",
    "                F.col(\"extracted_column\").startswith(\"Sun_2018_aptamer_plasma\"),\n",
    "                F.lit(\"Sun_2018_aptamer_plasma\"),\n",
    "            ).otherwise(F.col(\"extracted_column\")),\n",
    "        ),\n",
    "        on=\"extracted_column\",\n",
    "        how=\"right\",\n",
    "    )\n",
    "    .persist()\n",
    ")\n",
    "\n",
    "fixed = (\n",
    "    study_index_w_correct_type.withColumn(\n",
    "        \"toFix\",\n",
    "        F.when(\n",
    "            (F.col(\"study_type\") != \"single-cell\")\n",
    "            & (F.col(\"studyType\").startswith(\"sc\")),\n",
    "            F.lit(True),\n",
    "        ).otherwise(F.lit(False)),\n",
    "    )\n",
    "    # Remove the substring \"sc\" from the studyType column\n",
    "    .withColumn(\n",
    "        \"newStudyType\",\n",
    "        F.when(\n",
    "            F.col(\"toFix\"), F.regexp_replace(F.col(\"studyType\"), r\"sc\", \"\")\n",
    "        ).otherwise(F.col(\"studyType\")),\n",
    "    )\n",
    "    .drop(\"toFix\", \"extracted_column\", \"study_type\")\n",
    ").persist()\n",
    "all_studies = index.join(\n",
    "    fixed.selectExpr(\"studyId\", \"newStudyType\"), on=\"studyId\", how=\"left\"\n",
    ").persist()\n",
    "fixedIndex = all_studies.withColumn(\n",
    "    \"studyType\",\n",
    "    F.when(F.col(\"newStudyType\").isNotNull(), F.col(\"newStudyType\")).otherwise(\n",
    "        F.col(\"studyType\")\n",
    "    ),\n",
    ").drop(\"newStudyType\")\n",
    "#### fixed  \n",
    "\n",
    "newColoc = (\n",
    "    new.join(\n",
    "        credible.selectExpr(  #### studyLocusId from credible set to uncover the codified variants on left side\n",
    "            \"studyLocusId as leftStudyLocusId\",\n",
    "            \"StudyId as leftStudyId\",\n",
    "            \"variantId as leftVariantId\",\n",
    "            \"studyType as credibleLeftStudyType\",\n",
    "        ),\n",
    "        on=\"leftStudyLocusId\",\n",
    "        how=\"left\",\n",
    "    )\n",
    "    .join(\n",
    "        credible.selectExpr(  #### studyLocusId from credible set to uncover the codified variants on right side\n",
    "            \"studyLocusId as rightStudyLocusId\",\n",
    "            \"studyId as rightStudyId\",\n",
    "            \"variantId as rightVariantId\",\n",
    "            \"studyType as credibleRightStudyType\",\n",
    "        ),\n",
    "        on=\"rightStudyLocusId\",\n",
    "        how=\"left\",\n",
    "    )\n",
    "    .join(\n",
    "        fixedIndex.selectExpr(  ### bring modulated target on right side (QTL study)\n",
    "            \"studyId as rightStudyId\", \"geneId\", \"projectId\", \"studyType as indexStudyType\", \"condition\", \"biosampleId\"\n",
    "        ),\n",
    "        on=\"rightStudyId\",\n",
    "        how=\"left\",\n",
    "    )\n",
    "    .persist()\n",
    ")\n",
    "# remove columns without content (only null values on them)\n",
    "df = evidences.filter((F.col(\"datasourceId\") == \"gwas_credible_sets\"))\n",
    "\n",
    "# Use an aggregation to determine non-null columns\n",
    "non_null_counts = df.select(\n",
    "    *[F.sum(F.col(col).isNotNull().cast(\"int\")).alias(col) for col in df.columns]\n",
    ")\n",
    "\n",
    "# Collect the counts for each column\n",
    "non_null_columns = [\n",
    "    row[0] for row in non_null_counts.collect()[0].asDict().items() if row[1] > 0\n",
    "]\n",
    "\n",
    "# Select only the non-null columns\n",
    "filtered_df = df.select(*non_null_columns).persist()\n",
    "\n",
    "## bring studyId, variantId, beta from Gwas and pValue\n",
    "gwasComplete = filtered_df.join(\n",
    "    credible.selectExpr(\n",
    "        \"studyLocusId\", \"studyId\", \"variantId\", \"beta as betaGwas\", \"pValueExponent\"\n",
    "    ),\n",
    "    on=\"studyLocusId\",\n",
    "    how=\"left\",\n",
    ").persist()\n",
    "\n",
    "resolvedColoc = (\n",
    "    (\n",
    "        newColoc.withColumnRenamed(\"geneId\", \"targetId\")\n",
    "        .join(\n",
    "            gwasComplete.withColumnRenamed(\"studyLocusId\", \"leftStudyLocusId\"),\n",
    "            on=[\"leftStudyLocusId\", \"targetId\"],\n",
    "            how=\"inner\",\n",
    "        )\n",
    "        .join(  ### propagated using parent terms\n",
    "            diseases.selectExpr(\n",
    "                \"id as diseaseId\", \"name\", \"parents\", \"therapeuticAreas\"\n",
    "            ),\n",
    "            on=\"diseaseId\",\n",
    "            how=\"left\",\n",
    "        )\n",
    "        .withColumn(\n",
    "            \"diseaseId\",\n",
    "            F.explode_outer(F.concat(F.array(F.col(\"diseaseId\")), F.col(\"parents\"))),\n",
    "        )\n",
    "        .drop(\"parents\", \"oldDiseaseId\")\n",
    "    )\n",
    "    .withColumn(\n",
    "        \"colocDoE\",\n",
    "        F.when(\n",
    "            F.col(\"rightStudyType\").isin(\n",
    "                [\"eqtl\", \"pqtl\", \"tuqtl\", \"sceqtl\", \"sctuqtl\"]\n",
    "            ),\n",
    "            F.when(\n",
    "                (F.col(\"betaGwas\") > 0) & (F.col(\"betaRatioSignAverage\") > 0),\n",
    "                F.lit(\"GoF_risk\"),\n",
    "            )\n",
    "            .when(\n",
    "                (F.col(\"betaGwas\") > 0) & (F.col(\"betaRatioSignAverage\") < 0),\n",
    "                F.lit(\"LoF_risk\"),\n",
    "            )\n",
    "            .when(\n",
    "                (F.col(\"betaGwas\") < 0) & (F.col(\"betaRatioSignAverage\") > 0),\n",
    "                F.lit(\"LoF_protect\"),\n",
    "            )\n",
    "            .when(\n",
    "                (F.col(\"betaGwas\") < 0) & (F.col(\"betaRatioSignAverage\") < 0),\n",
    "                F.lit(\"GoF_protect\"),\n",
    "            ),\n",
    "        ).when(\n",
    "            F.col(\"rightStudyType\").isin(\n",
    "                [\"sqtl\", \"scsqtl\"]\n",
    "            ),  ### opposite directionality than sqtl\n",
    "            F.when(\n",
    "                (F.col(\"betaGwas\") > 0) & (F.col(\"betaRatioSignAverage\") > 0),\n",
    "                F.lit(\"LoF_risk\"),\n",
    "            )\n",
    "            .when(\n",
    "                (F.col(\"betaGwas\") > 0) & (F.col(\"betaRatioSignAverage\") < 0),\n",
    "                F.lit(\"GoF_risk\"),\n",
    "            )\n",
    "            .when(\n",
    "                (F.col(\"betaGwas\") < 0) & (F.col(\"betaRatioSignAverage\") > 0),\n",
    "                F.lit(\"GoF_protect\"),\n",
    "            )\n",
    "            .when(\n",
    "                (F.col(\"betaGwas\") < 0) & (F.col(\"betaRatioSignAverage\") < 0),\n",
    "                F.lit(\"LoF_protect\"),\n",
    "            ),\n",
    "        ),\n",
    "    )\n",
    "    .persist()\n",
    ")\n",
    "\n",
    "path = \"gs://open-targets-pre-data-releases/24.12-uo_test-3/output/etl/parquet/\"\n",
    "\n",
    "datasource_filter = [\n",
    "    \"ot_genetics_portal\",\n",
    "    \"gwas_credible_sets\",\n",
    "    \"gene_burden\",\n",
    "    \"eva\",\n",
    "    \"eva_somatic\",\n",
    "    \"gene2phenotype\",\n",
    "    \"orphanet\",\n",
    "    \"cancer_gene_census\",\n",
    "    \"intogen\",\n",
    "    \"impc\",\n",
    "    \"chembl\",\n",
    "]\n",
    "\n",
    "assessment, evidences, actionType, oncolabel = temporary_directionOfEffect(\n",
    "    path, datasource_filter\n",
    ")\n",
    "\n",
    "drugApproved=spark.read.parquet(\"gs://ot-team/irene/l2g/validation/chembl_w_flags\").drop(\"clinicalTrialId\",\"isComplex\"\n",
    ").withColumn(\"isApproved\", F.when(F.col(\"isApproved\")==\"true\", F.lit(1)).otherwise(F.lit(0))).distinct()\n",
    "\n",
    "### include drugId and studyId becuase there are some studies where there are multiple drugs. \n",
    "# Everywthing will become coherent in chembl assoc since this\n",
    "### 1nd version of \n",
    "analysis_chembl_indication = (\n",
    "    discrepancifier(\n",
    "        assessment.filter(\n",
    "            (F.col(\"datasourceId\") == \"chembl\")\n",
    "            & (F.col(\"homogenized\") != \"noEvaluable\")\n",
    "        )\n",
    "        .join(drugApproved.filter(F.col(\"isApproved\")==1), on=[\"targetId\",\"diseaseId\",\"drugId\"], how=\"left\")\n",
    "        .withColumn(\n",
    "            \"maxClinPhase\", ### no longer maxclinphase for T-D\n",
    "            F.max(\"clinicalPhase\").over(Window.partitionBy(\"targetId\", \"diseaseId\",\"drugId\", \"studyId\",\"clinicalPhase\")),\n",
    "        )\n",
    "        .withColumn(\n",
    "        \"approvedDrug\",\n",
    "        F.max(F.col(\"isApproved\")).over(Window.partitionBy(\"targetId\", \"diseaseId\")),\n",
    "        )\n",
    "        ## do not consider drugId so when there are two drugs with diferent MoA at the same clinical phase we will not include it (coherency==coherent)\n",
    "        .groupBy(\"targetId\", \"diseaseId\", \"studyId\",\"drugId\",\"clinicalPhase\",\"maxClinPhase\",\"approvedDrug\")  ## we can remove drugID\n",
    "        .pivot(\"homogenized\")\n",
    "        .count()\n",
    "    )\n",
    "    .withColumnRenamed(\"studyId\",\"clinicalStudyId\")\n",
    "    .filter(F.col(\"coherencyDiagonal\") == \"coherent\")\n",
    "    .drop(\n",
    "        \"coherencyDiagonal\", \n",
    "        \"coherencyOneCell\", \n",
    "        \"noEvaluable\", \n",
    "        \"GoF_risk\", \n",
    "        \"LoF_risk\"\n",
    "    )\n",
    "    .withColumnRenamed(\"GoF_protect\", \"drugGoF_protect\")\n",
    "    .withColumnRenamed(\"LoF_protect\", \"drugLoF_protect\")\n",
    ")"
   ]
  },
  {
   "cell_type": "code",
   "execution_count": null,
   "metadata": {},
   "outputs": [],
   "source": [
    "benchmark = (\n",
    "    (\n",
    "        resolvedColoc.filter(F.col(\"betaGwas\") < 0)\n",
    "        .join(  ### select just GWAS giving protection\n",
    "            analysis_chembl_indication, on=[\"targetId\", \"diseaseId\"], how=\"inner\"\n",
    "        )\n",
    "        .withColumn(\n",
    "            \"AgreeDrug\",\n",
    "            F.when(\n",
    "                (F.col(\"drugGoF_protect\").isNotNull())\n",
    "                & (F.col(\"colocDoE\") == \"GoF_protect\"),\n",
    "                F.lit(\"yes\"),\n",
    "            )\n",
    "            .when(\n",
    "                (F.col(\"drugLoF_protect\").isNotNull())\n",
    "                & (F.col(\"colocDoE\") == \"LoF_protect\"),\n",
    "                F.lit(\"yes\"),\n",
    "            )\n",
    "            .otherwise(F.lit(\"no\")),\n",
    "        )\n",
    "    )\n",
    "    .filter(F.col(\"name\") != \"COVID-19\")  #### remove COVID-19 associations\n",
    ").join(biosample.select(\"biosampleId\", \"biosampleName\"), on=\"biosampleId\", how=\"left\")\n"
   ]
  },
  {
   "cell_type": "code",
   "execution_count": null,
   "metadata": {},
   "outputs": [],
   "source": [
    "####2 Define agregation function\n",
    "import pandas as pd\n",
    "import numpy as np\n",
    "from scipy.stats import fisher_exact\n",
    "from scipy.stats.contingency import odds_ratio\n",
    "from pyspark.sql.types import *\n",
    "\n",
    "def convertTuple(tup):\n",
    "    st = \",\".join(map(str, tup))\n",
    "    return st\n",
    "\n",
    "#####3 run in a function\n",
    "def aggregations_original(\n",
    "    df,\n",
    "    data,\n",
    "    listado,\n",
    "    comparisonColumn,\n",
    "    comparisonType,\n",
    "    predictionColumn,\n",
    "    predictionType,\n",
    "    today_date,\n",
    "):\n",
    "    wComparison = Window.partitionBy(comparisonColumn)\n",
    "    wPrediction = Window.partitionBy(predictionColumn)\n",
    "    wPredictionComparison = Window.partitionBy(comparisonColumn, predictionColumn)\n",
    "    results = []\n",
    "    # uniqIds = df.select(\"targetId\", \"diseaseId\").distinct().count()\n",
    "    out = (\n",
    "        df.withColumn(\"comparisonType\", F.lit(comparisonType))\n",
    "        .withColumn(\"dataset\", F.lit(data))\n",
    "        .withColumn(\"predictionType\", F.lit(predictionType))\n",
    "        # .withColumn(\"total\", F.lit(uniqIds))\n",
    "        .withColumn(\"a\", F.count(\"targetId\").over(wPredictionComparison))\n",
    "        .withColumn(\"comparisonColumn\", F.lit(comparisonColumn))\n",
    "        .withColumn(\"predictionColumnValue\", F.lit(predictionColumn))\n",
    "        .withColumn(\n",
    "            \"predictionTotal\",\n",
    "            F.count(\"targetId\").over(wPrediction),\n",
    "        )\n",
    "        .withColumn(\n",
    "            \"comparisonTotal\",\n",
    "            F.count(\"targetId\").over(wComparison),\n",
    "        )\n",
    "        .select(\n",
    "            F.col(predictionColumn).alias(\"prediction\"),\n",
    "            F.col(comparisonColumn).alias(\"comparison\"),\n",
    "            \"dataset\",\n",
    "            \"comparisonColumn\",\n",
    "            \"predictionColumnValue\",\n",
    "            \"comparisonType\",\n",
    "            \"predictionType\",\n",
    "            \"a\",\n",
    "            \"predictionTotal\",\n",
    "            \"comparisonTotal\",\n",
    "        )\n",
    "        .filter(F.col(\"prediction\").isNotNull())\n",
    "        .filter(F.col(\"comparison\").isNotNull())\n",
    "        .distinct()\n",
    "    )\n",
    "    '''\n",
    "    out.write.mode(\"overwrite\").parquet(\n",
    "        \"gs://ot-team/jroldan/\"\n",
    "        + str(\n",
    "            today_date\n",
    "            + \"_\"\n",
    "            + \"analysis/\"\n",
    "            + data\n",
    "            # + \"_propagated\"\n",
    "            + \"/\"\n",
    "            + comparisonColumn\n",
    "            + \"_\"\n",
    "            + comparisonType\n",
    "            + \"_\"\n",
    "            + predictionColumn\n",
    "            + \".parquet\"\n",
    "        )\n",
    "    )\n",
    "    '''\n",
    "    \n",
    "    listado.append(\n",
    "        \"gs://ot-team/jroldan/\"\n",
    "        + str(\n",
    "            today_date\n",
    "            + \"_\"\n",
    "            + \"analysis/\"\n",
    "            + data\n",
    "            # + \"_propagated\"\n",
    "            + \"/\"\n",
    "            + comparisonColumn\n",
    "            + \"_\"\n",
    "            + comparisonType\n",
    "            + \"_\"\n",
    "            + predictionColumn\n",
    "            + \".parquet\"\n",
    "        )\n",
    "    )\n",
    "    path = \"gs://ot-team/jroldan/\" + str(\n",
    "        today_date\n",
    "        + \"_\"\n",
    "        + \"analysis/\"\n",
    "        + data\n",
    "        # + \"_propagated\"\n",
    "        + \"/\"\n",
    "        + comparisonColumn\n",
    "        + \"_\"\n",
    "        + comparisonType\n",
    "        + \"_\"\n",
    "        + predictionColumn\n",
    "        + \".parquet\"\n",
    "    )\n",
    "    print(path)\n",
    "    ### making analysis\n",
    "    array1 = np.delete(\n",
    "        out.join(full_data, on=[\"prediction\", \"comparison\"], how=\"outer\")\n",
    "        .groupBy(\"comparison\")\n",
    "        .pivot(\"prediction\")\n",
    "        .agg(F.first(\"a\"))\n",
    "        .sort(F.col(\"comparison\").desc())\n",
    "        .select(\"comparison\", \"yes\", \"no\")\n",
    "        .fillna(0)\n",
    "        .toPandas()\n",
    "        .to_numpy(),\n",
    "        [0],\n",
    "        1,\n",
    "    )\n",
    "    total = np.sum(array1)\n",
    "    res_npPhaseX = np.array(array1, dtype=int)\n",
    "    resX = convertTuple(fisher_exact(res_npPhaseX, alternative=\"two-sided\"))\n",
    "    resx_CI = convertTuple(\n",
    "        odds_ratio(res_npPhaseX).confidence_interval(confidence_level=0.95)\n",
    "    )\n",
    "\n",
    "    result_st.append(resX)\n",
    "    result_ci.append(resx_CI)\n",
    "    (rs_result, rs_ci) = relative_success(array1)\n",
    "    results.extend(\n",
    "        [\n",
    "            comparisonType,\n",
    "            comparisonColumn,\n",
    "            predictionColumn,\n",
    "            round(float(resX.split(\",\")[0]), 2),\n",
    "            float(resX.split(\",\")[1]),\n",
    "            round(float(resx_CI.split(\",\")[0]), 2),\n",
    "            round(float(resx_CI.split(\",\")[1]), 2),\n",
    "            str(total),\n",
    "            np.array(res_npPhaseX).tolist(),\n",
    "            round(float(rs_result), 2),\n",
    "            round(float(rs_ci[0]), 2),\n",
    "            round(float(rs_ci[1]), 2),\n",
    "            # studies,\n",
    "            # tissues,\n",
    "            path,\n",
    "        ]\n",
    "    )\n",
    "    return results\n",
    "\n",
    "\n",
    "\n",
    "#### 3 Loop over different datasets (as they will have different rows and columns)\n",
    "\n",
    "def comparisons_df_iterative(disdic,projectId):\n",
    "    toAnalysis=[(key, value) for key, value in disdic.items() if value == projectId]\n",
    "    schema = StructType(\n",
    "        [\n",
    "            StructField(\"comparison\", StringType(), True),\n",
    "            StructField(\"comparisonType\", StringType(), True),\n",
    "        ]\n",
    "    )\n",
    "\n",
    "    comparisons = spark.createDataFrame(toAnalysis, schema=schema)\n",
    "    ### include all the columns as predictor\n",
    "\n",
    "    predictions = spark.createDataFrame(\n",
    "        data=[\n",
    "            (\"Phase4\", \"clinical\"),\n",
    "            (\"Phase>=3\", \"clinical\"),\n",
    "            (\"Phase>=2\", \"clinical\"),\n",
    "            (\"Phase>=1\", \"clinical\"),\n",
    "            #(\"nPhase4\", \"clinical\"),\n",
    "            #(\"nPhase>=3\", \"clinical\"),\n",
    "            #(\"nPhase>=2\", \"clinical\"),\n",
    "            #(\"nPhase>=1\", \"clinical\"),\n",
    "            (\"approved\", \"clinical\"),\n",
    "\n",
    "            # (\"PhaseT\", \"clinical\"),\n",
    "        ]\n",
    "    )\n",
    "    return comparisons.join(predictions, how=\"full\").collect()\n",
    "\n",
    "full_data = spark.createDataFrame(\n",
    "    data=[\n",
    "        (\"yes\", \"yes\"),\n",
    "        (\"yes\", \"no\"),\n",
    "        (\"no\", \"yes\"),\n",
    "        (\"no\", \"no\"),\n",
    "    ],\n",
    "    schema=StructType(\n",
    "        [\n",
    "            StructField(\"prediction\", StringType(), True),\n",
    "            StructField(\"comparison\", StringType(), True),\n",
    "        ]\n",
    "    ),\n",
    ")\n",
    "print(\"created full_data and lists\")\n",
    "\n",
    "result = []\n",
    "result_st = []\n",
    "result_ci = []\n",
    "array2 = []\n",
    "listado = []\n",
    "result_all = []\n",
    "today_date = str(date.today())\n",
    "variables_study = [\"projectId\", \"biosampleName\", \"rightStudyType\", \"colocDoE\"]\n",
    "\n",
    "print(\"looping for variables_study\")\n",
    "\n",
    "for variable in variables_study:\n",
    "    print(\"analysing\",variable)\n",
    "    #### build list of comparison and prediction columns\n",
    "    rows=comparisons_df_iterative(disdic,variable)\n",
    "    #### prepare aggregation depending on the variable problem\n",
    "    window_spec = Window.partitionBy(\"targetId\",\"diseaseId\",variable).orderBy(F.col(\"pValueExponent\").asc())\n",
    "    #### take directionality from lowest p value\n",
    "    bench2=benchmark.withColumn(\"agree_lowestPval\", F.first(\"AgreeDrug\").over(window_spec)\n",
    "        ).groupBy(\"targetId\", \"diseaseId\", \"clinicalStudyId\",\"clinicalPhase\",\"maxClinPhase\",\"approvedDrug\").pivot(variable).agg(F.collect_set(\"agree_lowestPVal\")\n",
    "        ).withColumn(\n",
    "        \"Phase4\",\n",
    "        F.when(F.col(\"maxClinPhase\") == 4, F.lit(\"yes\")).otherwise(F.lit(\"no\")),\n",
    "        ).withColumn(\n",
    "            \"Phase>=3\",\n",
    "            F.when(F.col(\"maxClinPhase\") >= 3, F.lit(\"yes\")).otherwise(F.lit(\"no\")),\n",
    "        ).withColumn(\n",
    "            \"Phase>=2\",\n",
    "            F.when(F.col(\"maxClinPhase\") >= 2, F.lit(\"yes\")).otherwise(F.lit(\"no\")),\n",
    "        ).withColumn(\n",
    "            \"Phase>=1\",\n",
    "            F.when(F.col(\"maxClinPhase\") >= 1, F.lit(\"yes\")).otherwise(F.lit(\"no\")),\n",
    "        ).withColumn(\n",
    "        \"approved\",\n",
    "            F.when(F.col(\"approvedDrug\")==1, F.lit(\"yes\")).otherwise(F.lit(\"no\")),\n",
    "        )\n",
    "    #### build columns yes/no for each distinct value in the column variable\n",
    "    for x, value in [(key, val) for key, val in disdic.items() if val == variable]:\n",
    "        print(\"building columns: \", x,\"and\",value)\n",
    "        bench2 = bench2.withColumn(\n",
    "            x, \n",
    "            F.when(F.array_contains(F.col(x),\"yes\"), F.lit(\"yes\")).otherwise(F.lit(\"no\"))\n",
    "        )\n",
    "    #### doing aggregations per \n",
    "    for row in rows:\n",
    "        print(\"row:\",row)\n",
    "        results = aggregations_original(bench2, \"propagated\", listado, *row, today_date)\n",
    "        result_all.append(results)\n",
    "    \n",
    "    schema = StructType(\n",
    "    [\n",
    "        StructField(\"group\", StringType(), True),\n",
    "        StructField(\"comparison\", StringType(), True),\n",
    "        StructField(\"phase\", StringType(), True),\n",
    "        StructField(\"oddsRatio\", DoubleType(), True),\n",
    "        StructField(\"pValue\", DoubleType(), True),\n",
    "        StructField(\"lowerInterval\", DoubleType(), True),\n",
    "        StructField(\"upperInterval\", DoubleType(), True),\n",
    "        StructField(\"total\", StringType(), True),\n",
    "        StructField(\"values\", ArrayType(ArrayType(IntegerType())), True),\n",
    "        StructField(\"relSuccess\", DoubleType(), True),\n",
    "        StructField(\"rsLower\", DoubleType(), True),\n",
    "        StructField(\"rsUpper\", DoubleType(), True),\n",
    "        StructField(\"path\", StringType(), True),\n",
    "    ]\n",
    ")\n",
    "\n",
    "# Convert list of lists to DataFrame\n",
    "df = spreadSheetFormatter(spark.createDataFrame(result_all, schema=schema))\n",
    "df.toPandas().to_csv(\n",
    "    f\"gs://ot-team/jroldan/analysis/{today_date}_credibleSetColocDoEanalysis_fixedIndex_fixedTotalNumber_CoherentThing.csv\"\n",
    ")\n",
    "\n",
    "print(\"dataframe written \\n Analysis finished\")"
   ]
  }
 ],
 "metadata": {
  "kernelspec": {
   "display_name": "PySpark",
   "language": "python",
   "name": "pyspark"
  },
  "language_info": {
   "codemirror_mode": {
    "name": "ipython",
    "version": 3
   },
   "file_extension": ".py",
   "mimetype": "text/x-python",
   "name": "python",
   "nbconvert_exporter": "python",
   "pygments_lexer": "ipython3",
   "version": "3.10.8"
  }
 },
 "nbformat": 4,
 "nbformat_minor": 2
}
