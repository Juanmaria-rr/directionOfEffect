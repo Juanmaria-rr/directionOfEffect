{
 "cells": [
  {
   "cell_type": "code",
   "execution_count": null,
   "metadata": {},
   "outputs": [
    {
     "name": "stdout",
     "output_type": "stream",
     "text": [
      "spark session created at 2025-06-18 17:58:48.685820\n",
      "Analysis started on 2025-06-18 at  2025-06-18 17:58:48.685820\n"
     ]
    },
    {
     "name": "stderr",
     "output_type": "stream",
     "text": [
      "25/06/18 17:59:06 WARN YarnScheduler: Initial job has not accepted any resources; check your cluster UI to ensure that workers are registered and have sufficient resources\n",
      "25/06/18 17:59:19 WARN SparkStringUtils: Truncated the string representation of a plan since it was too large. This behavior can be adjusted by setting 'spark.sql.debug.maxToStringFields'.\n"
     ]
    },
    {
     "name": "stdout",
     "output_type": "stream",
     "text": [
      "loaded files\n",
      "loaded newColoc\n"
     ]
    },
    {
     "name": "stderr",
     "output_type": "stream",
     "text": [
      "                                                                                \r"
     ]
    },
    {
     "name": "stdout",
     "output_type": "stream",
     "text": [
      "loaded gwasComplete\n",
      "loaded resolvedColloc\n",
      "run temporary direction of effect\n",
      "built drugApproved dataset\n"
     ]
    },
    {
     "name": "stderr",
     "output_type": "stream",
     "text": [
      "                                                                                \r"
     ]
    },
    {
     "name": "stdout",
     "output_type": "stream",
     "text": [
      "built chemblAssoc dataset\n"
     ]
    }
   ],
   "source": [
    "import time\n",
    "from array import ArrayType\n",
    "from functions import (\n",
    "    relative_success,\n",
    "    spreadSheetFormatter,\n",
    "    discrepancifier,\n",
    "    temporary_directionOfEffect,\n",
    ")\n",
    "# from stoppedTrials import terminated_td\n",
    "from DoEAssessment import directionOfEffect\n",
    "# from membraneTargets import target_membrane\n",
    "from pyspark.sql import SparkSession, Window\n",
    "import pyspark.sql.functions as F\n",
    "from datetime import datetime\n",
    "from datetime import date\n",
    "from pyspark.sql.types import StructType, StructField, StringType, IntegerType\n",
    "from pyspark.sql.types import (\n",
    "    StructType,\n",
    "    StructField,\n",
    "    DoubleType,\n",
    "    DecimalType,\n",
    "    StringType,\n",
    "    FloatType,\n",
    ")\n",
    "import pandas as pd\n",
    "\n",
    "spark = SparkSession.builder.getOrCreate()\n",
    "spark.conf.set(\n",
    "    \"spark.sql.shuffle.partitions\", \"400\"\n",
    ")  # Default is 200, increase if needed\n",
    "\n",
    "\n",
    "path_n='gs://open-targets-data-releases/25.03/output/'\n",
    "\n",
    "target = spark.read.parquet(f\"{path_n}target/\")\n",
    "\n",
    "diseases = spark.read.parquet(f\"{path_n}disease/\")\n",
    "\n",
    "evidences = spark.read.parquet(f\"{path_n}evidence\")\n",
    "\n",
    "credible = spark.read.parquet(f\"{path_n}credible_set\")\n",
    "\n",
    "new = spark.read.parquet(f\"{path_n}colocalisation_coloc\") \n",
    "\n",
    "index=spark.read.parquet(f\"{path_n}study/\")\n",
    "\n",
    "variantIndex = spark.read.parquet(f\"{path_n}variant\")\n",
    "\n",
    "biosample = spark.read.parquet(f\"{path_n}biosample\")\n",
    "\n",
    "ecaviar=spark.read.parquet(f\"{path_n}colocalisation_ecaviar\")\n",
    "\n",
    "all_coloc=ecaviar.unionByName(new, allowMissingColumns=True)\n",
    "\n",
    "print(\"loaded files\")\n",
    "\n",
    "newColoc = (\n",
    "    all_coloc.join(\n",
    "        credible.selectExpr(  #### studyLocusId from credible set to uncover the codified variants on left side\n",
    "            \"studyLocusId as leftStudyLocusId\",\n",
    "            \"StudyId as leftStudyId\",\n",
    "            \"variantId as leftVariantId\",\n",
    "            \"studyType as credibleLeftStudyType\",\n",
    "        ),\n",
    "        on=\"leftStudyLocusId\",\n",
    "        how=\"left\",\n",
    "    )\n",
    "    .join(\n",
    "        credible.selectExpr(  #### studyLocusId from credible set to uncover the codified variants on right side\n",
    "            \"studyLocusId as rightStudyLocusId\",\n",
    "            \"studyId as rightStudyId\",\n",
    "            \"variantId as rightVariantId\",\n",
    "            \"studyType as credibleRightStudyType\",\n",
    "            \"pValueExponent as qtlPValueExponent\",\n",
    "            'isTransQtl'\n",
    "        ),\n",
    "        on=\"rightStudyLocusId\",\n",
    "        how=\"left\",\n",
    "    )\n",
    "    .join(\n",
    "        index.selectExpr(  ### bring modulated target on right side (QTL study)\n",
    "            \"studyId as rightStudyId\",\n",
    "            \"geneId\",\n",
    "            \"projectId\",\n",
    "            \"studyType as indexStudyType\",\n",
    "            \"condition\",\n",
    "            \"biosampleId\",\n",
    "        ),\n",
    "        on=\"rightStudyId\",\n",
    "        how=\"left\",\n",
    ")\n",
    "    # .persist()\n",
    ")\n",
    "\n",
    "print(\"loaded newColoc\")\n",
    "\n",
    "# remove columns without content (only null values on them)\n",
    "df = evidences.filter((F.col(\"datasourceId\") == \"gwas_credible_sets\"))\n",
    "\n",
    "# Use an aggregation to determine non-null columns\n",
    "non_null_counts = df.select(\n",
    "    *[F.sum(F.col(col).isNotNull().cast(\"int\")).alias(col) for col in df.columns]\n",
    ")\n",
    "\n",
    "# Collect the counts for each column\n",
    "non_null_columns = [\n",
    "    row[0] for row in non_null_counts.collect()[0].asDict().items() if row[1] > 0\n",
    "]\n",
    "\n",
    "# Select only the non-null columns\n",
    "filtered_df = df.select(*non_null_columns)  # .persist()\n",
    "\n",
    "## bring studyId, variantId, beta from Gwas and pValue\n",
    "gwasComplete = filtered_df.join(\n",
    "    credible.selectExpr(\n",
    "        \"studyLocusId\", \"studyId\", \"variantId\", \"beta as betaGwas\", \"pValueExponent\"\n",
    "    ),\n",
    "    on=\"studyLocusId\",\n",
    "    how=\"left\",\n",
    ")  # .persist()\n",
    "\n",
    "print(\"loaded gwasComplete\")\n",
    "\n",
    "resolvedColoc = (\n",
    "    (\n",
    "        newColoc.withColumnRenamed(\"geneId\", \"targetId\")\n",
    "        .join(\n",
    "            gwasComplete.withColumnRenamed(\"studyLocusId\", \"leftStudyLocusId\"),\n",
    "            on=[\"leftStudyLocusId\", \"targetId\"],\n",
    "            how=\"inner\",\n",
    "        )\n",
    "        .join(  ### propagated using parent terms\n",
    "            diseases.selectExpr(\n",
    "                \"id as diseaseId\", \"name\", \"parents\", \"therapeuticAreas\"\n",
    "            ),\n",
    "            on=\"diseaseId\",\n",
    "            how=\"left\",\n",
    "        )\n",
    "        .withColumn(\n",
    "            \"diseaseId\",\n",
    "            F.explode_outer(F.concat(F.array(F.col(\"diseaseId\")), F.col(\"parents\"))),\n",
    "        )\n",
    "        .drop(\"parents\", \"oldDiseaseId\")\n",
    "    ).withColumn(\n",
    "        \"colocDoE\",\n",
    "        F.when(\n",
    "            F.col(\"rightStudyType\").isin(\n",
    "                [\"eqtl\", \"pqtl\", \"tuqtl\", \"sceqtl\", \"sctuqtl\"]\n",
    "            ),\n",
    "            F.when(\n",
    "                (F.col(\"betaGwas\") > 0) & (F.col(\"betaRatioSignAverage\") > 0),\n",
    "                F.lit(\"GoF_risk\"),\n",
    "            )\n",
    "            .when(\n",
    "                (F.col(\"betaGwas\") > 0) & (F.col(\"betaRatioSignAverage\") < 0),\n",
    "                F.lit(\"LoF_risk\"),\n",
    "            )\n",
    "            .when(\n",
    "                (F.col(\"betaGwas\") < 0) & (F.col(\"betaRatioSignAverage\") > 0),\n",
    "                F.lit(\"LoF_protect\"),\n",
    "            )\n",
    "            .when(\n",
    "                (F.col(\"betaGwas\") < 0) & (F.col(\"betaRatioSignAverage\") < 0),\n",
    "                F.lit(\"GoF_protect\"),\n",
    "            ),\n",
    "        ).when(\n",
    "            F.col(\"rightStudyType\").isin(\n",
    "                [\"sqtl\", \"scsqtl\"]\n",
    "            ),  ### opposite directionality than sqtl\n",
    "            F.when(\n",
    "                (F.col(\"betaGwas\") > 0) & (F.col(\"betaRatioSignAverage\") > 0),\n",
    "                F.lit(\"LoF_risk\"),\n",
    "            )\n",
    "            .when(\n",
    "                (F.col(\"betaGwas\") > 0) & (F.col(\"betaRatioSignAverage\") < 0),\n",
    "                F.lit(\"GoF_risk\"),\n",
    "            )\n",
    "            .when(\n",
    "                (F.col(\"betaGwas\") < 0) & (F.col(\"betaRatioSignAverage\") > 0),\n",
    "                F.lit(\"GoF_protect\"),\n",
    "            )\n",
    "            .when(\n",
    "                (F.col(\"betaGwas\") < 0) & (F.col(\"betaRatioSignAverage\") < 0),\n",
    "                F.lit(\"LoF_protect\"),\n",
    "            ),\n",
    "        ),\n",
    "    )\n",
    "    # .persist()\n",
    ")\n",
    "print(\"loaded resolvedColloc\")\n",
    "\n",
    "datasource_filter = [\n",
    "#   \"ot_genetics_portal\",\n",
    "    \"gwas_credible_sets\",\n",
    "    \"gene_burden\",\n",
    "    \"eva\",\n",
    "    \"eva_somatic\",\n",
    "    \"gene2phenotype\",\n",
    "    \"orphanet\",\n",
    "    \"cancer_gene_census\",\n",
    "    \"intogen\",\n",
    "    \"impc\",\n",
    "    \"chembl\",\n",
    "]\n",
    "\n",
    "assessment, evidences, actionType, oncolabel = temporary_directionOfEffect(\n",
    "    path_n, datasource_filter\n",
    ")\n",
    "\n",
    "print(\"run temporary direction of effect\")\n",
    "\n",
    "\n",
    "print(\"built drugApproved dataset\")\n",
    "\n",
    "analysis_chembl_indication = (\n",
    "    discrepancifier(\n",
    "        assessment.filter((F.col(\"datasourceId\") == \"chembl\"))\n",
    "        .withColumn(\n",
    "            \"maxClinPhase\",\n",
    "            F.max(F.col(\"clinicalPhase\")).over(\n",
    "                Window.partitionBy(\"targetId\", \"diseaseId\")\n",
    "            ),\n",
    "        )\n",
    "        .groupBy(\"targetId\", \"diseaseId\", \"maxClinPhase\")\n",
    "        .pivot(\"homogenized\")\n",
    "        .agg(F.count(\"targetId\"))\n",
    "    )\n",
    "    .filter(F.col(\"coherencyDiagonal\") == \"coherent\")\n",
    "    .drop(\n",
    "        \"coherencyDiagonal\", \"coherencyOneCell\", \"noEvaluable\", \"GoF_risk\", \"LoF_risk\"\n",
    "    )\n",
    "    .withColumnRenamed(\"GoF_protect\", \"drugGoF_protect\")\n",
    "    .withColumnRenamed(\"LoF_protect\", \"drugLoF_protect\")\n",
    "    # .persist()\n",
    ")\n",
    "\n",
    "chemblAssoc = (\n",
    "    discrepancifier(\n",
    "        assessment.filter(\n",
    "            (F.col(\"datasourceId\") == \"chembl\")\n",
    "            & (F.col(\"homogenized\") != \"noEvaluable\")\n",
    "        )\n",
    "        .withColumn(\n",
    "            \"maxClinPhase\",\n",
    "            F.max(\"clinicalPhase\").over(Window.partitionBy(\"targetId\", \"diseaseId\")),\n",
    "        )\n",
    "        .groupBy(\"targetId\", \"diseaseId\", \"maxClinPhase\")\n",
    "        .pivot(\"homogenized\")\n",
    "        .count()\n",
    "    )\n",
    "    .filter(F.col(\"coherencyDiagonal\") == \"coherent\")\n",
    "    .drop(\n",
    "        \"coherencyDiagonal\", \"coherencyOneCell\", \"noEvaluable\", \"GoF_risk\", \"LoF_risk\"\n",
    "    )\n",
    "    .withColumnRenamed(\"GoF_protect\", \"drugGoF_protect\")\n",
    "    .withColumnRenamed(\"LoF_protect\", \"drugLoF_protect\")\n",
    ")\n",
    "\n",
    "print(\"built chemblAssoc dataset\")\n",
    "\n"
   ]
  },
  {
   "cell_type": "code",
   "execution_count": null,
   "metadata": {},
   "outputs": [
    {
     "name": "stderr",
     "output_type": "stream",
     "text": [
      "[Stage 2053:===================================================>  (65 + 3) / 68]\r"
     ]
    },
    {
     "name": "stdout",
     "output_type": "stream",
     "text": [
      "+----------+--------+\n",
      "|isTransQtl|   count|\n",
      "+----------+--------+\n",
      "|      NULL|53109519|\n",
      "|     false|26428266|\n",
      "|      true| 4591745|\n",
      "+----------+--------+\n",
      "\n"
     ]
    },
    {
     "name": "stderr",
     "output_type": "stream",
     "text": [
      "                                                                                \r"
     ]
    }
   ],
   "source": [
    "#### there are transQTL but not in the data that we do the benchmark with coloc\n",
    "newColoc.groupBy('isTransQtl').count().show()"
   ]
  },
  {
   "cell_type": "code",
   "execution_count": 135,
   "metadata": {},
   "outputs": [
    {
     "data": {
      "text/plain": [
       "DataFrame[targetId: string, diseaseId: string, leftStudyLocusId: string, rightStudyId: string, rightStudyLocusId: string, chromosome: string, rightStudyType: string, numberColocalisingVariants: bigint, clpp: double, colocalisationMethod: string, betaRatioSignAverage: double, h0: double, h1: double, h2: double, h3: double, h4: double, leftStudyId: string, leftVariantId: string, credibleLeftStudyType: string, rightVariantId: string, credibleRightStudyType: string, qtlPValueExponent: int, isTransQtl: boolean, projectId: string, indexStudyType: string, condition: string, biosampleId: string, datasourceId: string, datatypeId: string, diseaseFromSourceMappedId: string, resourceScore: double, targetFromSourceId: string, id: string, score: double, sourceId: string, studyId: string, variantId: string, betaGwas: double, pValueExponent: int, name: string, therapeuticAreas: array<string>, colocDoE: string, maxClinPhase: double, drugGoF_protect: bigint, drugLoF_protect: bigint, AgreeDrug: string, hasboth: int]"
      ]
     },
     "execution_count": 135,
     "metadata": {},
     "output_type": "execute_result"
    }
   ],
   "source": [
    "benchmarck2.unpersist()\n",
    "bench.unpersist()"
   ]
  },
  {
   "cell_type": "code",
   "execution_count": null,
   "metadata": {},
   "outputs": [
    {
     "name": "stdout",
     "output_type": "stream",
     "text": [
      "load comparisons_df_iterative function\n",
      "created full_data and lists\n",
      "loaded rightTissue dataset\n",
      "built negativeTD dataset\n",
      "built bench2 dataset\n",
      "looping for variables_study\n"
     ]
    }
   ],
   "source": [
    "####2 Define agregation function\n",
    "import pandas as pd\n",
    "import numpy as np\n",
    "from scipy.stats import fisher_exact\n",
    "from scipy.stats.contingency import odds_ratio\n",
    "from pyspark.sql.types import *\n",
    "\n",
    "\n",
    "def convertTuple(tup):\n",
    "    st = \",\".join(map(str, tup))\n",
    "    return st\n",
    "\n",
    "\n",
    "#####3 run in a function\n",
    "def aggregations_original(\n",
    "    df,\n",
    "    data,\n",
    "    listado,\n",
    "    comparisonColumn,\n",
    "    comparisonType,\n",
    "    predictionColumn,\n",
    "    predictionType,\n",
    "    today_date,\n",
    "):\n",
    "    wComparison = Window.partitionBy(comparisonColumn)\n",
    "    wPrediction = Window.partitionBy(predictionColumn)\n",
    "    wPredictionComparison = Window.partitionBy(comparisonColumn, predictionColumn)\n",
    "    results = []\n",
    "    # uniqIds = df.select(\"targetId\", \"diseaseId\").distinct().count()\n",
    "    out = (\n",
    "        df.withColumn(\"comparisonType\", F.lit(comparisonType))\n",
    "        .withColumn(\"dataset\", F.lit(data))\n",
    "        .withColumn(\"predictionType\", F.lit(predictionType))\n",
    "        # .withColumn(\"total\", F.lit(uniqIds))\n",
    "        .withColumn(\"a\", F.count(\"targetId\").over(wPredictionComparison))\n",
    "        .withColumn(\"comparisonColumn\", F.lit(comparisonColumn))\n",
    "        .withColumn(\"predictionColumnValue\", F.lit(predictionColumn))\n",
    "        .withColumn(\n",
    "            \"predictionTotal\",\n",
    "            F.count(\"targetId\").over(wPrediction),\n",
    "        )\n",
    "        .withColumn(\n",
    "            \"comparisonTotal\",\n",
    "            F.count(\"targetId\").over(wComparison),\n",
    "        )\n",
    "        .select(\n",
    "            F.col(predictionColumn).alias(\"prediction\"),\n",
    "            F.col(comparisonColumn).alias(\"comparison\"),\n",
    "            \"dataset\",\n",
    "            \"comparisonColumn\",\n",
    "            \"predictionColumnValue\",\n",
    "            \"comparisonType\",\n",
    "            \"predictionType\",\n",
    "            \"a\",\n",
    "            \"predictionTotal\",\n",
    "            \"comparisonTotal\",\n",
    "        )\n",
    "        .filter(F.col(\"prediction\").isNotNull())\n",
    "        .filter(F.col(\"comparison\").isNotNull())\n",
    "        .distinct()\n",
    "    )\n",
    "\n",
    "    out.write.mode(\"overwrite\").parquet(\n",
    "        \"gs://ot-team/jroldan/\"\n",
    "        + str(\n",
    "            today_date\n",
    "            + \"_\"\n",
    "            + \"analysis/\"\n",
    "            + data\n",
    "            # + \"_propagated\"\n",
    "            + \"/\"\n",
    "            + comparisonColumn\n",
    "            + \"_\"\n",
    "            + comparisonType\n",
    "            + \"_\"\n",
    "            + predictionColumn\n",
    "            + \".parquet\"\n",
    "        )\n",
    "    )\n",
    "\n",
    "    listado.append(\n",
    "        \"gs://ot-team/jroldan/\"\n",
    "        + str(\n",
    "            today_date\n",
    "            + \"_\"\n",
    "            + \"analysis/\"\n",
    "            + data\n",
    "            # + \"_propagated\"\n",
    "            + \"/\"\n",
    "            + comparisonColumn\n",
    "            + \"_\"\n",
    "            + comparisonType\n",
    "            + \"_\"\n",
    "            + predictionColumn\n",
    "            + \".parquet\"\n",
    "        )\n",
    "    )\n",
    "    path = \"gs://ot-team/jroldan/\" + str(\n",
    "        today_date\n",
    "        + \"_\"\n",
    "        + \"analysis/\"\n",
    "        + data\n",
    "        # + \"_propagated\"\n",
    "        + \"/\"\n",
    "        + comparisonColumn\n",
    "        + \"_\"\n",
    "        + comparisonType\n",
    "        + \"_\"\n",
    "        + predictionColumn\n",
    "        + \".parquet\"\n",
    "    )\n",
    "    print(path)\n",
    "    \n",
    "    ### making analysis\n",
    "    array1 = np.delete(\n",
    "        out.join(full_data, on=[\"prediction\", \"comparison\"], how=\"outer\")\n",
    "        .groupBy(\"comparison\")\n",
    "        .pivot(\"prediction\")\n",
    "        .agg(F.first(\"a\"))\n",
    "        .sort(F.col(\"comparison\").desc())\n",
    "        .select(\"comparison\", \"yes\", \"no\")\n",
    "        .fillna(0)\n",
    "        .toPandas()\n",
    "        .to_numpy(),\n",
    "        [0],\n",
    "        1,\n",
    "    )\n",
    "    total = np.sum(array1)\n",
    "    res_npPhaseX = np.array(array1, dtype=int)\n",
    "    resX = convertTuple(fisher_exact(res_npPhaseX, alternative=\"two-sided\"))\n",
    "    resx_CI = convertTuple(\n",
    "        odds_ratio(res_npPhaseX).confidence_interval(confidence_level=0.95)\n",
    "    )\n",
    "\n",
    "    result_st.append(resX)\n",
    "    result_ci.append(resx_CI)\n",
    "    (rs_result, rs_ci) = relative_success(array1)\n",
    "    results.extend(\n",
    "        [\n",
    "            comparisonType,\n",
    "            comparisonColumn,\n",
    "            predictionColumn,\n",
    "            round(float(resX.split(\",\")[0]), 2),\n",
    "            float(resX.split(\",\")[1]),\n",
    "            round(float(resx_CI.split(\",\")[0]), 2),\n",
    "            round(float(resx_CI.split(\",\")[1]), 2),\n",
    "            str(total),\n",
    "            np.array(res_npPhaseX).tolist(),\n",
    "            round(float(rs_result), 2),\n",
    "            round(float(rs_ci[0]), 2),\n",
    "            round(float(rs_ci[1]), 2),\n",
    "            # studies,\n",
    "            # tissues,\n",
    "            path,\n",
    "        ]\n",
    "    )\n",
    "    return results\n",
    "\n",
    "\n",
    "#### 3 Loop over different datasets (as they will have different rows and columns)\n",
    "\n",
    "\n",
    "def comparisons_df_iterative(elements):\n",
    "    # toAnalysis = [(key, value) for key, value in disdic.items() if value == projectId]\n",
    "    toAnalysis = [(col, \"predictor\") for col in elements]\n",
    "    schema = StructType(\n",
    "        [\n",
    "            StructField(\"comparison\", StringType(), True),\n",
    "            StructField(\"comparisonType\", StringType(), True),\n",
    "        ]\n",
    "    )\n",
    "\n",
    "    comparisons = spark.createDataFrame(toAnalysis, schema=schema)\n",
    "    ### include all the columns as predictor\n",
    "\n",
    "    predictions = spark.createDataFrame(\n",
    "        data=[\n",
    "            (\"Phase>=4\", \"clinical\"),\n",
    "            #('Phase>=3','clinical'),\n",
    "            #('Phase>=2','clinical'),\n",
    "            #('Phase>=1','clinical'),\n",
    "            #(\"PhaseT\", \"clinical\"),\n",
    "        ]\n",
    "    )\n",
    "    return comparisons.join(predictions, how=\"full\").collect()\n",
    "\n",
    "\n",
    "print(\"load comparisons_df_iterative function\")\n",
    "\n",
    "\n",
    "full_data = spark.createDataFrame(\n",
    "    data=[\n",
    "        (\"yes\", \"yes\"),\n",
    "        (\"yes\", \"no\"),\n",
    "        (\"no\", \"yes\"),\n",
    "        (\"no\", \"no\"),\n",
    "    ],\n",
    "    schema=StructType(\n",
    "        [\n",
    "            StructField(\"prediction\", StringType(), True),\n",
    "            StructField(\"comparison\", StringType(), True),\n",
    "        ]\n",
    "    ),\n",
    ")\n",
    "print(\"created full_data and lists\")\n",
    "\n",
    "#rightTissue = spark.read.csv(\n",
    "#    'gs://ot-team/jroldan/analysis/20250526_rightTissue.csv',\n",
    "#    header=True,\n",
    "#).drop(\"_c0\")\n",
    "\n",
    "print(\"loaded rightTissue dataset\")\n",
    "\n",
    "negativeTD = (\n",
    "    evidences.filter(F.col(\"datasourceId\") == \"chembl\")\n",
    "    .select(\"targetId\", \"diseaseId\", \"studyStopReason\", \"studyStopReasonCategories\")\n",
    "    .filter(F.array_contains(F.col(\"studyStopReasonCategories\"), \"Negative\"))\n",
    "    .groupBy(\"targetId\", \"diseaseId\")\n",
    "    .count()\n",
    "    .withColumn(\"stopReason\", F.lit(\"Negative\"))\n",
    "    .drop(\"count\")\n",
    ")\n",
    "\n",
    "print(\"built negativeTD dataset\")\n",
    "\n",
    "print(\"built bench2 dataset\")\n",
    "\n",
    "###### cut from here\n",
    "print(\"looping for variables_study\")\n"
   ]
  },
  {
   "cell_type": "code",
   "execution_count": 3,
   "metadata": {},
   "outputs": [
    {
     "name": "stdout",
     "output_type": "stream",
     "text": [
      "built benchmark dataset\n"
     ]
    },
    {
     "name": "stderr",
     "output_type": "stream",
     "text": [
      "                                                                                \r"
     ]
    },
    {
     "name": "stdout",
     "output_type": "stream",
     "text": [
      "written benchmark\n",
      "Collecting combined distinct values from the cluster...\n"
     ]
    },
    {
     "name": "stderr",
     "output_type": "stream",
     "text": [
      "[Stage 125:======================================================>(67 + 1) / 68]]]]\r"
     ]
    },
    {
     "name": "stdout",
     "output_type": "stream",
     "text": [
      "\n",
      "Final disdic: {'HipSci': 'projectId', 'Nedelec_2016': 'projectId', 'GTEx': 'projectId', 'Schmiedel_2018': 'projectId', 'Jerber_2021': 'projectId', 'BLUEPRINT': 'projectId', 'Quach_2016': 'projectId', 'BrainSeq': 'projectId', 'UKB_PPP_EUR': 'projectId', 'FUSION': 'projectId', 'Sun_2018': 'projectId', 'ROSMAP': 'projectId', 'Alasoo_2018': 'projectId', 'GENCORD': 'projectId', 'GEUVADIS': 'projectId', 'Lepik_2017': 'projectId', 'TwinsUK': 'projectId', 'CommonMind': 'projectId', 'PhLiPS': 'projectId', 'van_de_Bunt_2015': 'projectId', 'Bossini-Castillo_2019': 'projectId', 'Aygun_2021': 'projectId', 'Fairfax_2012': 'projectId', 'Peng_2018': 'projectId', 'CAP': 'projectId', 'Fairfax_2014': 'projectId', 'Cytoimmgen': 'projectId', 'Schwartzentruber_2018': 'projectId', 'PISA': 'projectId', 'Walker_2019': 'projectId', 'CEDAR': 'projectId', 'Braineac2': 'projectId', 'iPSCORE': 'projectId', 'Young_2019': 'projectId', 'Kim-Hellmuth_2017': 'projectId', 'Perez_2022': 'projectId', 'OneK1K': 'projectId', 'Kasela_2017': 'projectId', 'skeletal muscle tissue': 'biosampleName', 'tibial nerve': 'biosampleName', 'placenta': 'biosampleName', 'induced pluripotent stem cell': 'biosampleName', 'adipose tissue': 'biosampleName', 'right atrium auricular region': 'biosampleName', 'sigmoid colon': 'biosampleName', 'left ventricle myocardium': 'biosampleName', 'macrophage': 'biosampleName', 'frontal cortex': 'biosampleName', 'fibroblast': 'biosampleName', 'esophagus muscularis mucosa': 'biosampleName', 'vagina': 'biosampleName', 'body of pancreas': 'biosampleName', 'pituitary gland': 'biosampleName', 'dorsolateral prefrontal cortex': 'biosampleName', 'tibial artery': 'biosampleName', 'blood': 'biosampleName', 'CD4-positive, alpha-beta T cell': 'biosampleName', 'cerebellum': 'biosampleName', 'upper lobe of left lung': 'biosampleName', 'prostate gland': 'biosampleName', 'gastroesophageal sphincter': 'biosampleName', 'transverse colon': 'biosampleName', 'lymphoblastoid cell line': 'biosampleName', 'CD14-positive, CD16-negative classical monocyte': 'biosampleName', 'thyroid gland': 'biosampleName', 'breast epithelium': 'biosampleName', 'hypothalamus': 'biosampleName', 'CD8-positive, alpha-beta T cell': 'biosampleName', 'memory regulatory T cell': 'biosampleName', 'testis': 'biosampleName', 'neutrophil': 'biosampleName', 'caudate nucleus': 'biosampleName', 'cortex of kidney': 'biosampleName', 'esophagus squamous epithelium': 'biosampleName', 'CD14-low, CD16-positive monocyte': 'biosampleName', 'ascending aorta': 'biosampleName', 'blood plasma': 'biosampleName', 'adrenal gland': 'biosampleName', 'omental fat pad': 'biosampleName', 'neocortex': 'biosampleName', 'skin of body': 'biosampleName', 'nucleus accumbens': 'biosampleName', 'C1 segment of cervical spinal cord': 'biosampleName', 'naive regulatory T cell': 'biosampleName', 'T-helper 2 cell': 'biosampleName', 'sensory neuron': 'biosampleName', 'uterus': 'biosampleName', 'floor plate': 'biosampleName', 'coronary artery': 'biosampleName', 'suprapubic skin': 'biosampleName', 'T-helper 17 cell': 'biosampleName', 'stomach': 'biosampleName', 'putamen': 'biosampleName', 'amygdala': 'biosampleName', 'neural progenitor cell': 'biosampleName', 'anterior lingual gland': 'biosampleName', 'spleen': 'biosampleName', 'microglial cell': 'biosampleName', \"Peyer's patch\": 'biosampleName', 'anterior cingulate cortex': 'biosampleName', 'T cell': 'biosampleName', 'T-helper 1 cell': 'biosampleName', 'T follicular helper cell': 'biosampleName', 'right lobe of liver': 'biosampleName', 'islet of Langerhans': 'biosampleName', 'ovary': 'biosampleName', 'central memory CD4-positive, alpha-beta T cell': 'biosampleName', 'B cell': 'biosampleName', 'substantia nigra': 'biosampleName', \"Ammon's horn\": 'biosampleName', 'hepatocyte': 'biosampleName', 'tuqtl': 'rightStudyType', 'sqtl': 'rightStudyType', 'pqtl': 'rightStudyType', 'eqtl': 'rightStudyType', 'sceqtl': 'rightStudyType', 'GoF_protect': 'colocDoE', 'LoF_protect': 'colocDoE', 'eCAVIAR': 'colocalisationMethod', 'COLOC': 'colocalisationMethod'}\n"
     ]
    },
    {
     "name": "stderr",
     "output_type": "stream",
     "text": [
      "                                                                                \r"
     ]
    }
   ],
   "source": [
    "#### new part with chatgpt -- TEST\n",
    "\n",
    "## QUESTIONS TO ANSWER:\n",
    "# HAVE ECAVIAR >=0.8\n",
    "# HAVE COLOC \n",
    "# HAVE COLOC >= 0.8\n",
    "# HAVE COLOC + ECAVIAR >= 0.01\n",
    "# HAVE COLOC >= 0.8 + ECAVIAR >= 0.01\n",
    "# RIGHT JOING WITH CHEMBL \n",
    "\n",
    "resolvedColocFiltered = resolvedColoc.filter((F.col('clpp')>=0.01) | (F.col('h4')>=0.8))\n",
    "benchmark = (\n",
    "    (\n",
    "        resolvedColocFiltered.filter(F.col(\"betaGwas\") < 0).filter(\n",
    "        F.col(\"name\") != \"COVID-19\"\n",
    "    )\n",
    "        .join(  ### select just GWAS giving protection\n",
    "            analysis_chembl_indication, on=[\"targetId\", \"diseaseId\"], how=\"right\"  ### RIGHT SIDE\n",
    "        )\n",
    "        .withColumn(\n",
    "            \"AgreeDrug\",\n",
    "            F.when(\n",
    "                (F.col(\"drugGoF_protect\").isNotNull())\n",
    "                & (F.col(\"colocDoE\") == \"GoF_protect\"),\n",
    "                F.lit(\"yes\"),\n",
    "            )\n",
    "            .when(\n",
    "                (F.col(\"drugLoF_protect\").isNotNull())\n",
    "                & (F.col(\"colocDoE\") == \"LoF_protect\"),\n",
    "                F.lit(\"yes\"),\n",
    "            )\n",
    "            .otherwise(F.lit(\"no\")),\n",
    "        )\n",
    "    )  #### remove COVID-19 associations\n",
    ").join(biosample.select(\"biosampleId\", \"biosampleName\"), on=\"biosampleId\", how=\"left\")\n",
    "\n",
    "#bench2 = benchmark.join(\n",
    "#    rightTissue, on=[\"name\", \"bioSampleName\"], how=\"left\"\n",
    "#).withColumn(\n",
    "#    \"rightTissue\",\n",
    "#    F.when(F.col(\"rightTissue1\") == \"yes\", F.lit(\"yes\")).otherwise(F.lit(\"no\")),\n",
    "#)\n",
    "\n",
    "print(\"built benchmark dataset\")\n",
    "\n",
    "## write the benchmark \n",
    "name='benchmark'\n",
    "output_partitioned_path = f\"gs://ot-team/jroldan/analysis/parquetFiles/{name}\"\n",
    "benchmark.write.mode(\"overwrite\").parquet(output_partitioned_path)\n",
    "print(f'written {name}')\n",
    "#### Analysis\n",
    "\n",
    "#### 1 Build a dictionary with the distinct values as key and column names as value\n",
    "variables_study = [\"projectId\", \"biosampleName\", \"rightStudyType\", \"colocDoE\",\"colocalisationMethod\"]\n",
    "\n",
    "# List to hold temporary DataFrames\n",
    "temp_dfs_for_union = []\n",
    "\n",
    "# Iterate over the column names to prepare DataFrames for union\n",
    "for col_name in variables_study:\n",
    "    # Select the current column, alias it to 'distinct_value' for consistent schema\n",
    "    # Filter out nulls, then get distinct values\n",
    "    # Add a literal column with the original 'col_name'\n",
    "    df_temp = (\n",
    "        benchmark.select(F.col(col_name).alias(\"distinct_value\"))\n",
    "        .filter(F.col(\"distinct_value\").isNotNull()) # Exclude None (null) values\n",
    "        .distinct()\n",
    "        .withColumn(\"column_name\", F.lit(col_name))\n",
    "    )\n",
    "    temp_dfs_for_union.append(df_temp)\n",
    "\n",
    "disdic = {}\n",
    "\n",
    "if temp_dfs_for_union:\n",
    "    # Union all the temporary DataFrames.\n",
    "    # unionByName is crucial to handle potential schema differences (e.g., if columns have same name but different types)\n",
    "    # and ensures columns are matched by name.\n",
    "    combined_distinct_values_df = temp_dfs_for_union[0]\n",
    "    for i in range(1, len(temp_dfs_for_union)):\n",
    "        combined_distinct_values_df = combined_distinct_values_df.unionByName(temp_dfs_for_union[i])\n",
    "\n",
    "    # Now, collect the combined distinct values.\n",
    "    # This is a single collect operation on the aggregated DataFrame.\n",
    "    print(\"Collecting combined distinct values from the cluster...\")\n",
    "    collected_rows = combined_distinct_values_df.collect()\n",
    "\n",
    "    # Populate the dictionary from the collected rows\n",
    "    for row in collected_rows:\n",
    "        disdic[row.distinct_value] = row.column_name\n",
    "else:\n",
    "    print(\"variables_study list is empty, disdic will be empty.\")\n",
    "\n",
    "\n",
    "print(\"\\nFinal disdic:\", disdic)"
   ]
  },
  {
   "cell_type": "code",
   "execution_count": null,
   "metadata": {},
   "outputs": [
    {
     "name": "stdout",
     "output_type": "stream",
     "text": [
      "Pre-computing 'hasboth' column...\n",
      "Processing pivot for: projectId\n"
     ]
    },
    {
     "name": "stderr",
     "output_type": "stream",
     "text": [
      "                                                                                \r"
     ]
    },
    {
     "name": "stdout",
     "output_type": "stream",
     "text": [
      "DataFrame successfully written and partitioned to gs://ot-team/jroldan/analysis/parquetFiles/pivoted_df_projectId\n",
      "Processing pivot for: biosampleName\n"
     ]
    },
    {
     "name": "stderr",
     "output_type": "stream",
     "text": [
      "                                                                                \r"
     ]
    },
    {
     "name": "stdout",
     "output_type": "stream",
     "text": [
      "DataFrame successfully written and partitioned to gs://ot-team/jroldan/analysis/parquetFiles/pivoted_df_biosampleName\n",
      "Processing pivot for: rightStudyType\n"
     ]
    },
    {
     "name": "stderr",
     "output_type": "stream",
     "text": [
      "25/06/18 18:07:48 WARN BlockManagerMasterEndpoint: No more replicas available for rdd_71_161 !\n",
      "25/06/18 18:07:48 WARN BlockManagerMasterEndpoint: No more replicas available for rdd_156_340 !\n",
      "25/06/18 18:07:48 WARN BlockManagerMasterEndpoint: No more replicas available for rdd_150_393 !\n",
      "25/06/18 18:07:48 WARN BlockManagerMasterEndpoint: No more replicas available for rdd_38_51 !\n",
      "25/06/18 18:07:48 WARN BlockManagerMasterEndpoint: No more replicas available for rdd_156_133 !\n",
      "25/06/18 18:07:48 WARN BlockManagerMasterEndpoint: No more replicas available for rdd_71_269 !\n",
      "25/06/18 18:07:48 WARN BlockManagerMasterEndpoint: No more replicas available for rdd_71_14 !\n",
      "25/06/18 18:07:48 WARN BlockManagerMasterEndpoint: No more replicas available for rdd_150_279 !\n",
      "25/06/18 18:07:48 WARN BlockManagerMasterEndpoint: No more replicas available for rdd_150_300 !\n",
      "25/06/18 18:07:48 WARN BlockManagerMasterEndpoint: No more replicas available for rdd_71_246 !\n",
      "25/06/18 18:07:48 WARN BlockManagerMasterEndpoint: No more replicas available for rdd_150_38 !\n",
      "25/06/18 18:07:48 WARN BlockManagerMasterEndpoint: No more replicas available for rdd_156_80 !\n",
      "25/06/18 18:07:48 WARN BlockManagerMasterEndpoint: No more replicas available for rdd_156_388 !\n",
      "25/06/18 18:07:48 WARN BlockManagerMasterEndpoint: No more replicas available for rdd_150_30 !\n",
      "25/06/18 18:07:48 WARN BlockManagerMasterEndpoint: No more replicas available for rdd_150_238 !\n",
      "25/06/18 18:07:48 WARN BlockManagerMasterEndpoint: No more replicas available for rdd_156_122 !\n",
      "25/06/18 18:07:48 WARN BlockManagerMasterEndpoint: No more replicas available for rdd_156_324 !\n",
      "25/06/18 18:07:48 WARN BlockManagerMasterEndpoint: No more replicas available for rdd_150_99 !\n",
      "25/06/18 18:07:48 WARN BlockManagerMasterEndpoint: No more replicas available for rdd_150_154 !\n",
      "25/06/18 18:07:48 WARN BlockManagerMasterEndpoint: No more replicas available for rdd_150_239 !\n",
      "25/06/18 18:07:48 WARN BlockManagerMasterEndpoint: No more replicas available for rdd_38_81 !\n",
      "25/06/18 18:07:48 WARN BlockManagerMasterEndpoint: No more replicas available for rdd_38_151 !\n",
      "25/06/18 18:07:48 WARN BlockManagerMasterEndpoint: No more replicas available for rdd_71_294 !\n",
      "25/06/18 18:07:48 WARN BlockManagerMasterEndpoint: No more replicas available for rdd_71_162 !\n",
      "25/06/18 18:07:48 WARN BlockManagerMasterEndpoint: No more replicas available for rdd_156_259 !\n",
      "25/06/18 18:07:48 WARN BlockManagerMasterEndpoint: No more replicas available for rdd_150_185 !\n",
      "25/06/18 18:07:48 WARN BlockManagerMasterEndpoint: No more replicas available for rdd_156_346 !\n",
      "25/06/18 18:07:48 WARN BlockManagerMasterEndpoint: No more replicas available for rdd_71_279 !\n",
      "25/06/18 18:07:48 WARN BlockManagerMasterEndpoint: No more replicas available for rdd_38_59 !\n",
      "25/06/18 18:07:48 WARN BlockManagerMasterEndpoint: No more replicas available for rdd_156_6 !\n",
      "25/06/18 18:07:48 WARN BlockManagerMasterEndpoint: No more replicas available for rdd_71_133 !\n",
      "25/06/18 18:07:48 WARN BlockManagerMasterEndpoint: No more replicas available for rdd_71_393 !\n",
      "25/06/18 18:07:48 WARN BlockManagerMasterEndpoint: No more replicas available for rdd_150_215 !\n",
      "25/06/18 18:07:48 WARN BlockManagerMasterEndpoint: No more replicas available for rdd_156_38 !\n",
      "25/06/18 18:07:48 WARN BlockManagerMasterEndpoint: No more replicas available for rdd_156_73 !\n",
      "25/06/18 18:07:48 WARN BlockManagerMasterEndpoint: No more replicas available for rdd_156_106 !\n",
      "25/06/18 18:07:48 WARN BlockManagerMasterEndpoint: No more replicas available for rdd_38_77 !\n",
      "25/06/18 18:07:48 WARN BlockManagerMasterEndpoint: No more replicas available for rdd_150_162 !\n",
      "25/06/18 18:07:48 WARN BlockManagerMasterEndpoint: No more replicas available for rdd_38_164 !\n",
      "25/06/18 18:07:48 WARN BlockManagerMasterEndpoint: No more replicas available for rdd_150_212 !\n",
      "25/06/18 18:07:48 WARN BlockManagerMasterEndpoint: No more replicas available for rdd_38_43 !\n",
      "25/06/18 18:07:48 WARN BlockManagerMasterEndpoint: No more replicas available for rdd_156_348 !\n",
      "25/06/18 18:07:48 WARN BlockManagerMasterEndpoint: No more replicas available for rdd_71_300 !\n",
      "25/06/18 18:07:48 WARN BlockManagerMasterEndpoint: No more replicas available for rdd_38_127 !\n",
      "25/06/18 18:07:48 WARN BlockManagerMasterEndpoint: No more replicas available for rdd_38_119 !\n",
      "25/06/18 18:07:48 WARN BlockManagerMasterEndpoint: No more replicas available for rdd_156_221 !\n",
      "25/06/18 18:07:48 WARN BlockManagerMasterEndpoint: No more replicas available for rdd_150_22 !\n",
      "25/06/18 18:07:48 WARN BlockManagerMasterEndpoint: No more replicas available for rdd_150_221 !\n",
      "25/06/18 18:07:48 WARN BlockManagerMasterEndpoint: No more replicas available for rdd_156_238 !\n",
      "25/06/18 18:07:48 WARN BlockManagerMasterEndpoint: No more replicas available for rdd_156_393 !\n",
      "25/06/18 18:07:48 WARN BlockManagerMasterEndpoint: No more replicas available for rdd_71_340 !\n",
      "25/06/18 18:07:48 WARN BlockManagerMasterEndpoint: No more replicas available for rdd_150_133 !\n",
      "25/06/18 18:07:48 WARN BlockManagerMasterEndpoint: No more replicas available for rdd_150_46 !\n",
      "25/06/18 18:07:48 WARN BlockManagerMasterEndpoint: No more replicas available for rdd_156_300 !\n",
      "25/06/18 18:07:48 WARN BlockManagerMasterEndpoint: No more replicas available for rdd_156_185 !\n",
      "25/06/18 18:07:48 WARN BlockManagerMasterEndpoint: No more replicas available for rdd_150_294 !\n",
      "25/06/18 18:07:48 WARN BlockManagerMasterEndpoint: No more replicas available for rdd_150_334 !\n",
      "25/06/18 18:07:48 WARN BlockManagerMasterEndpoint: No more replicas available for rdd_38_139 !\n",
      "25/06/18 18:07:48 WARN BlockManagerMasterEndpoint: No more replicas available for rdd_71_38 !\n",
      "25/06/18 18:07:48 WARN BlockManagerMasterEndpoint: No more replicas available for rdd_71_297 !\n",
      "25/06/18 18:07:48 WARN BlockManagerMasterEndpoint: No more replicas available for rdd_150_246 !\n",
      "25/06/18 18:07:48 WARN BlockManagerMasterEndpoint: No more replicas available for rdd_156_334 !\n",
      "25/06/18 18:07:48 WARN BlockManagerMasterEndpoint: No more replicas available for rdd_38_66 !\n",
      "25/06/18 18:07:48 WARN BlockManagerMasterEndpoint: No more replicas available for rdd_150_6 !\n",
      "25/06/18 18:07:48 WARN BlockManagerMasterEndpoint: No more replicas available for rdd_156_218 !\n",
      "25/06/18 18:07:48 WARN BlockManagerMasterEndpoint: No more replicas available for rdd_150_335 !\n",
      "25/06/18 18:07:48 WARN BlockManagerMasterEndpoint: No more replicas available for rdd_156_294 !\n",
      "25/06/18 18:07:48 WARN BlockManagerMasterEndpoint: No more replicas available for rdd_156_99 !\n",
      "25/06/18 18:07:48 WARN BlockManagerMasterEndpoint: No more replicas available for rdd_71_215 !\n",
      "25/06/18 18:07:48 WARN BlockManagerMasterEndpoint: No more replicas available for rdd_71_348 !\n",
      "25/06/18 18:07:48 WARN BlockManagerMasterEndpoint: No more replicas available for rdd_38_129 !\n",
      "25/06/18 18:07:48 WARN BlockManagerMasterEndpoint: No more replicas available for rdd_150_148 !\n",
      "25/06/18 18:07:48 WARN BlockManagerMasterEndpoint: No more replicas available for rdd_150_295 !\n",
      "25/06/18 18:07:48 WARN BlockManagerMasterEndpoint: No more replicas available for rdd_156_76 !\n",
      "25/06/18 18:07:48 WARN BlockManagerMasterEndpoint: No more replicas available for rdd_156_215 !\n",
      "25/06/18 18:07:48 WARN BlockManagerMasterEndpoint: No more replicas available for rdd_71_335 !\n",
      "25/06/18 18:07:48 WARN BlockManagerMasterEndpoint: No more replicas available for rdd_71_218 !\n",
      "25/06/18 18:07:48 WARN BlockManagerMasterEndpoint: No more replicas available for rdd_156_239 !\n",
      "25/06/18 18:07:48 WARN BlockManagerMasterEndpoint: No more replicas available for rdd_156_295 !\n",
      "25/06/18 18:07:48 WARN BlockManagerMasterEndpoint: No more replicas available for rdd_38_180 !\n",
      "25/06/18 18:07:48 WARN BlockManagerMasterEndpoint: No more replicas available for rdd_38_19 !\n",
      "25/06/18 18:07:48 WARN BlockManagerMasterEndpoint: No more replicas available for rdd_71_46 !\n",
      "25/06/18 18:07:48 WARN BlockManagerMasterEndpoint: No more replicas available for rdd_156_290 !\n",
      "25/06/18 18:07:48 WARN BlockManagerMasterEndpoint: No more replicas available for rdd_156_177 !\n",
      "25/06/18 18:07:48 WARN BlockManagerMasterEndpoint: No more replicas available for rdd_71_30 !\n",
      "25/06/18 18:07:48 WARN BlockManagerMasterEndpoint: No more replicas available for rdd_71_157 !\n",
      "25/06/18 18:07:48 WARN BlockManagerMasterEndpoint: No more replicas available for rdd_150_73 !\n",
      "25/06/18 18:07:48 WARN BlockManagerMasterEndpoint: No more replicas available for rdd_71_185 !\n",
      "25/06/18 18:07:48 WARN BlockManagerMasterEndpoint: No more replicas available for rdd_71_388 !\n",
      "25/06/18 18:07:48 WARN BlockManagerMasterEndpoint: No more replicas available for rdd_156_30 !\n",
      "25/06/18 18:07:48 WARN BlockManagerMasterEndpoint: No more replicas available for rdd_150_14 !\n",
      "25/06/18 18:07:48 WARN BlockManagerMasterEndpoint: No more replicas available for rdd_71_122 !\n",
      "25/06/18 18:07:48 WARN BlockManagerMasterEndpoint: No more replicas available for rdd_71_177 !\n",
      "25/06/18 18:07:48 WARN BlockManagerMasterEndpoint: No more replicas available for rdd_150_77 !\n",
      "25/06/18 18:07:48 WARN BlockManagerMasterEndpoint: No more replicas available for rdd_71_106 !\n",
      "25/06/18 18:07:48 WARN BlockManagerMasterEndpoint: No more replicas available for rdd_71_334 !\n",
      "25/06/18 18:07:48 WARN BlockManagerMasterEndpoint: No more replicas available for rdd_71_259 !\n",
      "25/06/18 18:07:48 WARN BlockManagerMasterEndpoint: No more replicas available for rdd_71_295 !\n",
      "25/06/18 18:07:48 WARN BlockManagerMasterEndpoint: No more replicas available for rdd_150_297 !\n",
      "25/06/18 18:07:48 WARN BlockManagerMasterEndpoint: No more replicas available for rdd_150_54 !\n",
      "25/06/18 18:07:48 WARN BlockManagerMasterEndpoint: No more replicas available for rdd_71_6 !\n",
      "25/06/18 18:07:48 WARN BlockManagerMasterEndpoint: No more replicas available for rdd_156_154 !\n",
      "25/06/18 18:07:48 WARN BlockManagerMasterEndpoint: No more replicas available for rdd_71_22 !\n",
      "25/06/18 18:07:48 WARN BlockManagerMasterEndpoint: No more replicas available for rdd_38_71 !\n",
      "25/06/18 18:07:48 WARN BlockManagerMasterEndpoint: No more replicas available for rdd_71_80 !\n",
      "25/06/18 18:07:48 WARN BlockManagerMasterEndpoint: No more replicas available for rdd_71_54 !\n",
      "25/06/18 18:07:48 WARN BlockManagerMasterEndpoint: No more replicas available for rdd_71_324 !\n",
      "25/06/18 18:07:48 WARN BlockManagerMasterEndpoint: No more replicas available for rdd_71_290 !\n",
      "25/06/18 18:07:48 WARN BlockManagerMasterEndpoint: No more replicas available for rdd_156_269 !\n",
      "25/06/18 18:07:48 WARN BlockManagerMasterEndpoint: No more replicas available for rdd_71_221 !\n",
      "25/06/18 18:07:48 WARN BlockManagerMasterEndpoint: No more replicas available for rdd_150_290 !\n",
      "25/06/18 18:07:48 WARN BlockManagerMasterEndpoint: No more replicas available for rdd_150_348 !\n",
      "25/06/18 18:07:48 WARN BlockManagerMasterEndpoint: No more replicas available for rdd_38_27 !\n",
      "25/06/18 18:07:48 WARN BlockManagerMasterEndpoint: No more replicas available for rdd_71_99 !\n",
      "25/06/18 18:07:48 WARN BlockManagerMasterEndpoint: No more replicas available for rdd_156_77 !\n",
      "25/06/18 18:07:48 WARN BlockManagerMasterEndpoint: No more replicas available for rdd_156_14 !\n",
      "25/06/18 18:07:48 WARN BlockManagerMasterEndpoint: No more replicas available for rdd_38_11 !\n",
      "25/06/18 18:07:48 WARN BlockManagerMasterEndpoint: No more replicas available for rdd_71_238 !\n",
      "25/06/18 18:07:48 WARN BlockManagerMasterEndpoint: No more replicas available for rdd_150_122 !\n",
      "25/06/18 18:07:48 WARN BlockManagerMasterEndpoint: No more replicas available for rdd_71_77 !\n",
      "25/06/18 18:07:48 WARN BlockManagerMasterEndpoint: No more replicas available for rdd_71_154 !\n",
      "25/06/18 18:07:48 WARN BlockManagerMasterEndpoint: No more replicas available for rdd_156_148 !\n",
      "25/06/18 18:07:48 WARN BlockManagerMasterEndpoint: No more replicas available for rdd_150_177 !\n",
      "25/06/18 18:07:48 WARN BlockManagerMasterEndpoint: No more replicas available for rdd_71_148 !\n",
      "25/06/18 18:07:48 WARN BlockManagerMasterEndpoint: No more replicas available for rdd_71_73 !\n",
      "25/06/18 18:07:48 WARN BlockManagerMasterEndpoint: No more replicas available for rdd_156_246 !\n",
      "25/06/18 18:07:48 WARN BlockManagerMasterEndpoint: No more replicas available for rdd_156_162 !\n",
      "25/06/18 18:07:48 WARN BlockManagerMasterEndpoint: No more replicas available for rdd_71_76 !\n",
      "25/06/18 18:07:48 WARN BlockManagerMasterEndpoint: No more replicas available for rdd_156_161 !\n",
      "25/06/18 18:07:48 WARN BlockManagerMasterEndpoint: No more replicas available for rdd_38_35 !\n",
      "25/06/18 18:07:48 WARN BlockManagerMasterEndpoint: No more replicas available for rdd_71_62 !\n",
      "25/06/18 18:07:48 WARN BlockManagerMasterEndpoint: No more replicas available for rdd_150_76 !\n",
      "25/06/18 18:07:48 WARN BlockManagerMasterEndpoint: No more replicas available for rdd_156_297 !\n",
      "25/06/18 18:07:48 WARN BlockManagerMasterEndpoint: No more replicas available for rdd_150_62 !\n",
      "25/06/18 18:07:48 WARN BlockManagerMasterEndpoint: No more replicas available for rdd_156_46 !\n",
      "25/06/18 18:07:48 WARN BlockManagerMasterEndpoint: No more replicas available for rdd_150_80 !\n",
      "25/06/18 18:07:48 WARN BlockManagerMasterEndpoint: No more replicas available for rdd_71_212 !\n",
      "25/06/18 18:07:48 WARN BlockManagerMasterEndpoint: No more replicas available for rdd_150_157 !\n",
      "25/06/18 18:07:48 WARN BlockManagerMasterEndpoint: No more replicas available for rdd_38_3 !\n",
      "25/06/18 18:07:48 WARN BlockManagerMasterEndpoint: No more replicas available for rdd_150_324 !\n",
      "25/06/18 18:07:48 WARN BlockManagerMasterEndpoint: No more replicas available for rdd_150_106 !\n",
      "25/06/18 18:07:48 WARN BlockManagerMasterEndpoint: No more replicas available for rdd_156_335 !\n",
      "25/06/18 18:07:48 WARN BlockManagerMasterEndpoint: No more replicas available for rdd_150_340 !\n",
      "25/06/18 18:07:48 WARN BlockManagerMasterEndpoint: No more replicas available for rdd_71_239 !\n",
      "25/06/18 18:07:48 WARN BlockManagerMasterEndpoint: No more replicas available for rdd_156_279 !\n",
      "25/06/18 18:07:48 WARN BlockManagerMasterEndpoint: No more replicas available for rdd_150_269 !\n",
      "25/06/18 18:07:48 WARN BlockManagerMasterEndpoint: No more replicas available for rdd_38_196 !\n",
      "25/06/18 18:07:48 WARN BlockManagerMasterEndpoint: No more replicas available for rdd_38_82 !\n",
      "25/06/18 18:07:48 WARN BlockManagerMasterEndpoint: No more replicas available for rdd_156_212 !\n",
      "25/06/18 18:07:48 WARN BlockManagerMasterEndpoint: No more replicas available for rdd_150_259 !\n",
      "25/06/18 18:07:48 WARN BlockManagerMasterEndpoint: No more replicas available for rdd_71_346 !\n",
      "25/06/18 18:07:48 WARN BlockManagerMasterEndpoint: No more replicas available for rdd_150_346 !\n",
      "25/06/18 18:07:48 WARN BlockManagerMasterEndpoint: No more replicas available for rdd_156_157 !\n",
      "25/06/18 18:07:48 WARN BlockManagerMasterEndpoint: No more replicas available for rdd_156_54 !\n",
      "25/06/18 18:07:48 WARN BlockManagerMasterEndpoint: No more replicas available for rdd_150_161 !\n",
      "25/06/18 18:07:48 WARN BlockManagerMasterEndpoint: No more replicas available for rdd_156_62 !\n",
      "25/06/18 18:07:48 WARN BlockManagerMasterEndpoint: No more replicas available for rdd_150_218 !\n",
      "25/06/18 18:07:48 WARN BlockManagerMasterEndpoint: No more replicas available for rdd_150_388 !\n",
      "25/06/18 18:07:48 WARN BlockManagerMasterEndpoint: No more replicas available for rdd_156_22 !\n",
      "25/06/18 18:07:49 WARN YarnAllocator: Container from a bad node: container_1750267550096_0005_01_000004 on host: jr-temp-m.c.open-targets-eu-dev.internal. Exit status: 137. Diagnostics: [2025-06-18 18:07:49.114]Container killed on request. Exit code is 137\n",
      "[2025-06-18 18:07:49.115]Container exited with a non-zero exit code 137. \n",
      "[2025-06-18 18:07:49.115]Killed by external signal\n",
      ".\n",
      "25/06/18 18:07:49 WARN YarnSchedulerBackend$YarnSchedulerEndpoint: Requesting driver to remove executor 4 for reason Container from a bad node: container_1750267550096_0005_01_000004 on host: jr-temp-m.c.open-targets-eu-dev.internal. Exit status: 137. Diagnostics: [2025-06-18 18:07:49.114]Container killed on request. Exit code is 137\n",
      "[2025-06-18 18:07:49.115]Container exited with a non-zero exit code 137. \n",
      "[2025-06-18 18:07:49.115]Killed by external signal\n",
      ".\n",
      "25/06/18 18:07:49 ERROR YarnScheduler: Lost executor 4 on jr-temp-m.c.open-targets-eu-dev.internal: Container from a bad node: container_1750267550096_0005_01_000004 on host: jr-temp-m.c.open-targets-eu-dev.internal. Exit status: 137. Diagnostics: [2025-06-18 18:07:49.114]Container killed on request. Exit code is 137\n",
      "[2025-06-18 18:07:49.115]Container exited with a non-zero exit code 137. \n",
      "[2025-06-18 18:07:49.115]Killed by external signal\n",
      ".\n",
      "25/06/18 18:07:49 WARN TaskSetManager: Lost task 46.0 in stage 389.0 (TID 16442) (jr-temp-m.c.open-targets-eu-dev.internal executor 4): ExecutorLostFailure (executor 4 exited caused by one of the running tasks) Reason: Container from a bad node: container_1750267550096_0005_01_000004 on host: jr-temp-m.c.open-targets-eu-dev.internal. Exit status: 137. Diagnostics: [2025-06-18 18:07:49.114]Container killed on request. Exit code is 137\n",
      "[2025-06-18 18:07:49.115]Container exited with a non-zero exit code 137. \n",
      "[2025-06-18 18:07:49.115]Killed by external signal\n",
      ".\n",
      "25/06/18 18:07:49 WARN TaskSetManager: Lost task 30.0 in stage 389.0 (TID 16426) (jr-temp-m.c.open-targets-eu-dev.internal executor 4): ExecutorLostFailure (executor 4 exited caused by one of the running tasks) Reason: Container from a bad node: container_1750267550096_0005_01_000004 on host: jr-temp-m.c.open-targets-eu-dev.internal. Exit status: 137. Diagnostics: [2025-06-18 18:07:49.114]Container killed on request. Exit code is 137\n",
      "[2025-06-18 18:07:49.115]Container exited with a non-zero exit code 137. \n",
      "[2025-06-18 18:07:49.115]Killed by external signal\n",
      ".\n",
      "25/06/18 18:07:49 WARN TaskSetManager: Lost task 60.0 in stage 389.0 (TID 16456) (jr-temp-m.c.open-targets-eu-dev.internal executor 4): ExecutorLostFailure (executor 4 exited caused by one of the running tasks) Reason: Container from a bad node: container_1750267550096_0005_01_000004 on host: jr-temp-m.c.open-targets-eu-dev.internal. Exit status: 137. Diagnostics: [2025-06-18 18:07:49.114]Container killed on request. Exit code is 137\n",
      "[2025-06-18 18:07:49.115]Container exited with a non-zero exit code 137. \n",
      "[2025-06-18 18:07:49.115]Killed by external signal\n",
      ".\n",
      "25/06/18 18:07:49 WARN TaskSetManager: Lost task 6.0 in stage 389.0 (TID 16402) (jr-temp-m.c.open-targets-eu-dev.internal executor 4): ExecutorLostFailure (executor 4 exited caused by one of the running tasks) Reason: Container from a bad node: container_1750267550096_0005_01_000004 on host: jr-temp-m.c.open-targets-eu-dev.internal. Exit status: 137. Diagnostics: [2025-06-18 18:07:49.114]Container killed on request. Exit code is 137\n",
      "[2025-06-18 18:07:49.115]Container exited with a non-zero exit code 137. \n",
      "[2025-06-18 18:07:49.115]Killed by external signal\n",
      ".\n",
      "25/06/18 18:07:49 WARN TaskSetManager: Lost task 53.0 in stage 389.0 (TID 16449) (jr-temp-m.c.open-targets-eu-dev.internal executor 4): ExecutorLostFailure (executor 4 exited caused by one of the running tasks) Reason: Container from a bad node: container_1750267550096_0005_01_000004 on host: jr-temp-m.c.open-targets-eu-dev.internal. Exit status: 137. Diagnostics: [2025-06-18 18:07:49.114]Container killed on request. Exit code is 137\n",
      "[2025-06-18 18:07:49.115]Container exited with a non-zero exit code 137. \n",
      "[2025-06-18 18:07:49.115]Killed by external signal\n",
      ".\n",
      "25/06/18 18:07:49 WARN TaskSetManager: Lost task 38.0 in stage 389.0 (TID 16434) (jr-temp-m.c.open-targets-eu-dev.internal executor 4): ExecutorLostFailure (executor 4 exited caused by one of the running tasks) Reason: Container from a bad node: container_1750267550096_0005_01_000004 on host: jr-temp-m.c.open-targets-eu-dev.internal. Exit status: 137. Diagnostics: [2025-06-18 18:07:49.114]Container killed on request. Exit code is 137\n",
      "[2025-06-18 18:07:49.115]Container exited with a non-zero exit code 137. \n",
      "[2025-06-18 18:07:49.115]Killed by external signal\n",
      ".\n",
      "25/06/18 18:07:49 WARN TaskSetManager: Lost task 14.0 in stage 389.0 (TID 16410) (jr-temp-m.c.open-targets-eu-dev.internal executor 4): ExecutorLostFailure (executor 4 exited caused by one of the running tasks) Reason: Container from a bad node: container_1750267550096_0005_01_000004 on host: jr-temp-m.c.open-targets-eu-dev.internal. Exit status: 137. Diagnostics: [2025-06-18 18:07:49.114]Container killed on request. Exit code is 137\n",
      "[2025-06-18 18:07:49.115]Container exited with a non-zero exit code 137. \n",
      "[2025-06-18 18:07:49.115]Killed by external signal\n",
      ".\n",
      "25/06/18 18:07:49 WARN TaskSetManager: Lost task 22.0 in stage 389.0 (TID 16418) (jr-temp-m.c.open-targets-eu-dev.internal executor 4): ExecutorLostFailure (executor 4 exited caused by one of the running tasks) Reason: Container from a bad node: container_1750267550096_0005_01_000004 on host: jr-temp-m.c.open-targets-eu-dev.internal. Exit status: 137. Diagnostics: [2025-06-18 18:07:49.114]Container killed on request. Exit code is 137\n",
      "[2025-06-18 18:07:49.115]Container exited with a non-zero exit code 137. \n",
      "[2025-06-18 18:07:49.115]Killed by external signal\n",
      ".\n",
      "                                                                                \r"
     ]
    },
    {
     "name": "stdout",
     "output_type": "stream",
     "text": [
      "DataFrame successfully written and partitioned to gs://ot-team/jroldan/analysis/parquetFiles/pivoted_df_rightStudyType\n",
      "Processing pivot for: colocDoE\n"
     ]
    },
    {
     "name": "stderr",
     "output_type": "stream",
     "text": [
      "                                                                                0]\r"
     ]
    },
    {
     "name": "stdout",
     "output_type": "stream",
     "text": [
      "DataFrame successfully written and partitioned to gs://ot-team/jroldan/analysis/parquetFiles/pivoted_df_colocDoE\n",
      "Processing pivot for: colocalisationMethod\n"
     ]
    },
    {
     "name": "stderr",
     "output_type": "stream",
     "text": [
      "                                                                                \r"
     ]
    },
    {
     "name": "stdout",
     "output_type": "stream",
     "text": [
      "DataFrame successfully written and partitioned to gs://ot-team/jroldan/analysis/parquetFiles/pivoted_df_colocalisationMethod\n"
     ]
    }
   ],
   "source": [
    "# Assuming 'spark' session, 'benchmark' DataFrame, 'negativeTD' DataFrame, and 'disdic' dictionary are defined\n",
    "\n",
    "# --- Step 1: Pre-compute 'hasboth' ONCE ---\n",
    "# This is a shuffle, but only happens once.\n",
    "print(\"Pre-computing 'hasboth' column...\")\n",
    "window_target_disease_only = Window.partitionBy('targetId', 'diseaseId')\n",
    "benchmark_processed = benchmark.withColumn(\n",
    "    'hasboth',\n",
    "    F.size(F.collect_set('colocalisationMethod').over(window_target_disease_only))\n",
    ")\n",
    "\n",
    "# You might consider caching this intermediate result if 'benchmark' is very large\n",
    "# and you have enough memory, to avoid re-reading from source if possible.\n",
    "# benchmark_processed.cache() # or .persist(StorageLevel.MEMORY_AND_DISK)\n",
    "# benchmark_processed.count() # Force computation if you cache\n",
    "\n",
    "pivoted_dfs = {}\n",
    "\n",
    "# --- Step 2: Loop for each variable_study column ---\n",
    "for col_name in variables_study:\n",
    "    print(f\"Processing pivot for: {col_name}\")\n",
    "\n",
    "    # Define window specs for the current iteration, including 'col_name' in partition\n",
    "    # (This shuffle is still per iteration, but unavoidable if 'resolvedAgreeDrug' depends on 'col_name' values)\n",
    "    current_col_window_spec_qtl = Window.partitionBy(\"targetId\", \"diseaseId\", col_name).orderBy(F.col(\"qtlPValueExponent\").asc())\n",
    "    current_col_pvalue_order_window = Window.partitionBy(\"targetId\", \"diseaseId\", col_name).orderBy(F.col('colocalisationMethod').asc(), F.col(\"qtlPValueExponent\").asc())\n",
    "\n",
    "    # Calculate 'resolvedAgreeDrug' for the current 'col_name'\n",
    "    # This involves a shuffle per iteration.\n",
    "    temp_df_with_resolved = benchmark_processed.withColumn('resolvedAgreeDrug',\n",
    "        F.when(F.col('hasboth') > 1,\n",
    "            F.first(F.col('AgreeDrug'), ignorenulls=True).over(current_col_pvalue_order_window)\n",
    "        ).otherwise(F.first(F.col('AgreeDrug'), ignorenulls=True).over(current_col_window_spec_qtl))\n",
    "    )\n",
    "\n",
    "    # --- Step 3: Perform the pivot and join ---\n",
    "    # This is an expensive operation (shuffle, potential wide dataframe)\n",
    "    pivoted_df = (\n",
    "        temp_df_with_resolved\n",
    "        .groupBy(\n",
    "            \"targetId\",\n",
    "            \"diseaseId\",\n",
    "            \"maxClinPhase\",\n",
    "        )\n",
    "        .pivot(col_name) # Pivoting on values of the 'col_name' column\n",
    "        .agg(F.collect_set(\"resolvedAgreeDrug\"))\n",
    "        .join(negativeTD, on=[\"targetId\", \"diseaseId\"], how=\"left\") # Ensure negativeTD is broadcast if small\n",
    "    )\n",
    "\n",
    "    # --- Step 4: Add derived columns (these are generally cheap) ---\n",
    "    for phase in [1, 2, 3, 4]:\n",
    "        pivoted_df = pivoted_df.withColumn(\n",
    "            f\"Phase>={phase}\",\n",
    "            F.when(F.col(\"maxClinPhase\") >= phase, F.lit(\"yes\")).otherwise(F.lit(\"no\")),\n",
    "        )\n",
    "\n",
    "    pivoted_df = pivoted_df.withColumn(\n",
    "        \"PhaseT\",\n",
    "        F.when(F.col(\"stopReason\") == \"Negative\", F.lit(\"yes\")).otherwise(F.lit(\"no\")),\n",
    "    )\n",
    "\n",
    "    # Add _only columns dynamically based on disdic values matching current column\n",
    "    matching_keys = [key for key, val in disdic.items() if val == col_name]\n",
    "\n",
    "    for key in matching_keys:\n",
    "        # F.col(key) assumes 'key' refers to a column that exists in pivoted_df after the pivot.\n",
    "        pivoted_df = pivoted_df.withColumn(\n",
    "            f\"{key}_only\",\n",
    "            F.when(F.array_contains(F.col(key), \"yes\"), F.lit(\"yes\")).otherwise(F.lit(\"no\")),\n",
    "        )\n",
    "\n",
    "    # --- Step 5: Store result. Consider writing to GCS to break lineage if memory is an issue ---\n",
    "    # This is highly recommended if 'variables_study' is very large.\n",
    "    # Write to Parquet for efficient storage and schema preservation.\n",
    "    # output_path = f\"gs://your-bucket/temp_pivoted_results/{col_name}\"\n",
    "    # print(f\"Writing results for {col_name} to {output_path}\")\n",
    "    # pivoted_df.write.mode(\"overwrite\").parquet(output_path)\n",
    "    # pivoted_dfs[col_name] = spark.read.parquet(output_path) # Read back if needed later\n",
    "    output_partitioned_path = f\"gs://ot-team/jroldan/analysis/parquetFiles/pivoted_df_{col_name}\"\n",
    "    pivoted_df.write.mode(\"overwrite\").parquet(output_partitioned_path)\n",
    "    print(f\"DataFrame successfully written and partitioned to {output_partitioned_path}\")\n",
    "    # If not writing to GCS, just store the DF in memory (be cautious for large number of DFs)\n",
    "    pivoted_dfs[col_name] = pivoted_df\n",
    "\n",
    "# Example of how to access a result\n",
    "# if 'some_col_name' in pivoted_dfs:\n",
    "#     pivoted_dfs['some_col_name'].show()\n",
    "\n",
    "# If benchmark_processed was cached, unpersist it after the loop\n",
    "# benchmark_processed.unpersist()"
   ]
  },
  {
   "cell_type": "code",
   "execution_count": null,
   "metadata": {},
   "outputs": [
    {
     "name": "stdout",
     "output_type": "stream",
     "text": [
      "built benchmark dataset\n"
     ]
    },
    {
     "name": "stderr",
     "output_type": "stream",
     "text": [
      "                                                                                \r"
     ]
    },
    {
     "name": "stdout",
     "output_type": "stream",
     "text": [
      "Processing: projectId\n"
     ]
    },
    {
     "name": "stderr",
     "output_type": "stream",
     "text": [
      "25/06/18 17:49:40 WARN BlockManagerMasterEndpoint: No more replicas available for rdd_71_368 !\n",
      "25/06/18 17:49:40 WARN BlockManagerMasterEndpoint: No more replicas available for rdd_38_29 !\n",
      "25/06/18 17:49:40 WARN BlockManagerMasterEndpoint: No more replicas available for rdd_38_37 !\n",
      "25/06/18 17:49:40 WARN BlockManagerMasterEndpoint: No more replicas available for rdd_140_271 !\n",
      "25/06/18 17:49:40 WARN BlockManagerMasterEndpoint: No more replicas available for rdd_71_179 !\n",
      "25/06/18 17:49:40 WARN BlockManagerMasterEndpoint: No more replicas available for rdd_38_45 !\n",
      "25/06/18 17:49:40 WARN BlockManagerMasterEndpoint: No more replicas available for rdd_134_168 !\n",
      "25/06/18 17:49:40 WARN BlockManagerMasterEndpoint: No more replicas available for rdd_134_170 !\n",
      "25/06/18 17:49:40 WARN BlockManagerMasterEndpoint: No more replicas available for rdd_38_149 !\n",
      "25/06/18 17:49:40 WARN BlockManagerMasterEndpoint: No more replicas available for rdd_140_233 !\n",
      "25/06/18 17:49:40 WARN BlockManagerMasterEndpoint: No more replicas available for rdd_140_112 !\n",
      "25/06/18 17:49:40 WARN BlockManagerMasterEndpoint: No more replicas available for rdd_71_242 !\n",
      "25/06/18 17:49:40 WARN BlockManagerMasterEndpoint: No more replicas available for rdd_38_13 !\n",
      "25/06/18 17:49:40 WARN BlockManagerMasterEndpoint: No more replicas available for rdd_134_342 !\n",
      "25/06/18 17:49:40 WARN BlockManagerMasterEndpoint: No more replicas available for rdd_38_65 !\n",
      "25/06/18 17:49:40 WARN BlockManagerMasterEndpoint: No more replicas available for rdd_71_118 !\n",
      "25/06/18 17:49:40 WARN BlockManagerMasterEndpoint: No more replicas available for rdd_140_368 !\n",
      "25/06/18 17:49:40 WARN BlockManagerMasterEndpoint: No more replicas available for rdd_38_199 !\n",
      "25/06/18 17:49:40 WARN BlockManagerMasterEndpoint: No more replicas available for rdd_38_87 !\n",
      "25/06/18 17:49:40 WARN BlockManagerMasterEndpoint: No more replicas available for rdd_140_342 !\n",
      "25/06/18 17:49:40 WARN BlockManagerMasterEndpoint: No more replicas available for rdd_140_358 !\n",
      "25/06/18 17:49:40 WARN BlockManagerMasterEndpoint: No more replicas available for rdd_71_370 !\n",
      "25/06/18 17:49:40 WARN BlockManagerMasterEndpoint: No more replicas available for rdd_71_279 !\n",
      "25/06/18 17:49:40 WARN BlockManagerMasterEndpoint: No more replicas available for rdd_134_334 !\n",
      "25/06/18 17:49:40 WARN BlockManagerMasterEndpoint: No more replicas available for rdd_134_104 !\n",
      "25/06/18 17:49:40 WARN BlockManagerMasterEndpoint: No more replicas available for rdd_71_358 !\n",
      "25/06/18 17:49:40 WARN BlockManagerMasterEndpoint: No more replicas available for rdd_38_95 !\n",
      "25/06/18 17:49:40 WARN BlockManagerMasterEndpoint: No more replicas available for rdd_134_113 !\n",
      "25/06/18 17:49:40 WARN BlockManagerMasterEndpoint: No more replicas available for rdd_71_1 !\n",
      "25/06/18 17:49:40 WARN BlockManagerMasterEndpoint: No more replicas available for rdd_71_49 !\n",
      "25/06/18 17:49:40 WARN BlockManagerMasterEndpoint: No more replicas available for rdd_71_342 !\n",
      "25/06/18 17:49:40 WARN BlockManagerMasterEndpoint: No more replicas available for rdd_71_233 !\n",
      "25/06/18 17:49:40 WARN BlockManagerMasterEndpoint: No more replicas available for rdd_38_171 !\n",
      "25/06/18 17:49:40 WARN BlockManagerMasterEndpoint: No more replicas available for rdd_71_271 !\n",
      "25/06/18 17:49:40 WARN BlockManagerMasterEndpoint: No more replicas available for rdd_134_233 !\n",
      "25/06/18 17:49:40 WARN BlockManagerMasterEndpoint: No more replicas available for rdd_140_293 !\n",
      "25/06/18 17:49:40 WARN BlockManagerMasterEndpoint: No more replicas available for rdd_71_361 !\n",
      "25/06/18 17:49:40 WARN BlockManagerMasterEndpoint: No more replicas available for rdd_71_116 !\n",
      "25/06/18 17:49:40 WARN BlockManagerMasterEndpoint: No more replicas available for rdd_140_373 !\n",
      "25/06/18 17:49:40 WARN BlockManagerMasterEndpoint: No more replicas available for rdd_140_185 !\n",
      "25/06/18 17:49:40 WARN BlockManagerMasterEndpoint: No more replicas available for rdd_71_132 !\n",
      "25/06/18 17:49:40 WARN BlockManagerMasterEndpoint: No more replicas available for rdd_134_368 !\n",
      "25/06/18 17:49:40 WARN BlockManagerMasterEndpoint: No more replicas available for rdd_134_360 !\n",
      "25/06/18 17:49:40 WARN BlockManagerMasterEndpoint: No more replicas available for rdd_38_61 !\n",
      "25/06/18 17:49:40 WARN BlockManagerMasterEndpoint: No more replicas available for rdd_140_170 !\n",
      "25/06/18 17:49:40 WARN BlockManagerMasterEndpoint: No more replicas available for rdd_71_256 !\n",
      "25/06/18 17:49:40 WARN BlockManagerMasterEndpoint: No more replicas available for rdd_134_49 !\n",
      "25/06/18 17:49:40 WARN BlockManagerMasterEndpoint: No more replicas available for rdd_134_271 !\n",
      "25/06/18 17:49:40 WARN BlockManagerMasterEndpoint: No more replicas available for rdd_140_116 !\n",
      "25/06/18 17:49:40 WARN BlockManagerMasterEndpoint: No more replicas available for rdd_140_201 !\n",
      "25/06/18 17:49:40 WARN BlockManagerMasterEndpoint: No more replicas available for rdd_38_148 !\n",
      "25/06/18 17:49:40 WARN BlockManagerMasterEndpoint: No more replicas available for rdd_134_41 !\n",
      "25/06/18 17:49:40 WARN BlockManagerMasterEndpoint: No more replicas available for rdd_134_116 !\n",
      "25/06/18 17:49:40 WARN BlockManagerMasterEndpoint: No more replicas available for rdd_71_293 !\n",
      "25/06/18 17:49:40 WARN BlockManagerMasterEndpoint: No more replicas available for rdd_140_180 !\n",
      "25/06/18 17:49:40 WARN BlockManagerMasterEndpoint: No more replicas available for rdd_140_57 !\n",
      "25/06/18 17:49:40 WARN BlockManagerMasterEndpoint: No more replicas available for rdd_140_33 !\n",
      "25/06/18 17:49:40 WARN BlockManagerMasterEndpoint: No more replicas available for rdd_38_164 !\n",
      "25/06/18 17:49:40 WARN BlockManagerMasterEndpoint: No more replicas available for rdd_71_168 !\n",
      "25/06/18 17:49:40 WARN BlockManagerMasterEndpoint: No more replicas available for rdd_134_181 !\n",
      "25/06/18 17:49:40 WARN BlockManagerMasterEndpoint: No more replicas available for rdd_71_25 !\n",
      "25/06/18 17:49:40 WARN BlockManagerMasterEndpoint: No more replicas available for rdd_38_68 !\n",
      "25/06/18 17:49:40 WARN BlockManagerMasterEndpoint: No more replicas available for rdd_140_25 !\n",
      "25/06/18 17:49:40 WARN BlockManagerMasterEndpoint: No more replicas available for rdd_71_104 !\n",
      "25/06/18 17:49:40 WARN BlockManagerMasterEndpoint: No more replicas available for rdd_38_183 !\n",
      "25/06/18 17:49:40 WARN BlockManagerMasterEndpoint: No more replicas available for rdd_140_290 !\n",
      "25/06/18 17:49:40 WARN BlockManagerMasterEndpoint: No more replicas available for rdd_134_175 !\n",
      "25/06/18 17:49:40 WARN BlockManagerMasterEndpoint: No more replicas available for rdd_140_41 !\n",
      "25/06/18 17:49:40 WARN BlockManagerMasterEndpoint: No more replicas available for rdd_134_112 !\n",
      "25/06/18 17:49:40 WARN BlockManagerMasterEndpoint: No more replicas available for rdd_134_256 !\n",
      "25/06/18 17:49:40 WARN BlockManagerMasterEndpoint: No more replicas available for rdd_140_168 !\n",
      "25/06/18 17:49:40 WARN BlockManagerMasterEndpoint: No more replicas available for rdd_38_139 !\n",
      "25/06/18 17:49:40 WARN BlockManagerMasterEndpoint: No more replicas available for rdd_71_390 !\n",
      "25/06/18 17:49:40 WARN BlockManagerMasterEndpoint: No more replicas available for rdd_71_302 !\n",
      "25/06/18 17:49:40 WARN BlockManagerMasterEndpoint: No more replicas available for rdd_38_5 !\n",
      "25/06/18 17:49:40 WARN BlockManagerMasterEndpoint: No more replicas available for rdd_134_370 !\n",
      "25/06/18 17:49:40 WARN BlockManagerMasterEndpoint: No more replicas available for rdd_140_104 !\n",
      "25/06/18 17:49:40 WARN BlockManagerMasterEndpoint: No more replicas available for rdd_140_279 !\n",
      "25/06/18 17:49:40 WARN BlockManagerMasterEndpoint: No more replicas available for rdd_38_53 !\n",
      "25/06/18 17:49:40 WARN BlockManagerMasterEndpoint: No more replicas available for rdd_134_1 !\n",
      "25/06/18 17:49:40 WARN BlockManagerMasterEndpoint: No more replicas available for rdd_140_181 !\n",
      "25/06/18 17:49:40 WARN BlockManagerMasterEndpoint: No more replicas available for rdd_134_132 !\n",
      "25/06/18 17:49:40 WARN BlockManagerMasterEndpoint: No more replicas available for rdd_71_57 !\n",
      "25/06/18 17:49:40 WARN BlockManagerMasterEndpoint: No more replicas available for rdd_38_180 !\n",
      "25/06/18 17:49:40 WARN BlockManagerMasterEndpoint: No more replicas available for rdd_71_181 !\n",
      "25/06/18 17:49:40 WARN BlockManagerMasterEndpoint: No more replicas available for rdd_71_201 !\n",
      "25/06/18 17:49:40 WARN BlockManagerMasterEndpoint: No more replicas available for rdd_71_114 !\n",
      "25/06/18 17:49:40 WARN BlockManagerMasterEndpoint: No more replicas available for rdd_134_17 !\n",
      "25/06/18 17:49:40 WARN BlockManagerMasterEndpoint: No more replicas available for rdd_140_360 !\n",
      "25/06/18 17:49:40 WARN BlockManagerMasterEndpoint: No more replicas available for rdd_140_120 !\n",
      "25/06/18 17:49:40 WARN BlockManagerMasterEndpoint: No more replicas available for rdd_134_371 !\n",
      "25/06/18 17:49:40 WARN BlockManagerMasterEndpoint: No more replicas available for rdd_134_361 !\n",
      "25/06/18 17:49:40 WARN BlockManagerMasterEndpoint: No more replicas available for rdd_140_212 !\n",
      "25/06/18 17:49:40 WARN BlockManagerMasterEndpoint: No more replicas available for rdd_134_33 !\n",
      "25/06/18 17:49:40 WARN BlockManagerMasterEndpoint: No more replicas available for rdd_134_9 !\n",
      "25/06/18 17:49:40 WARN BlockManagerMasterEndpoint: No more replicas available for rdd_71_185 !\n",
      "25/06/18 17:49:40 WARN BlockManagerMasterEndpoint: No more replicas available for rdd_140_370 !\n",
      "25/06/18 17:49:40 WARN BlockManagerMasterEndpoint: No more replicas available for rdd_134_179 !\n",
      "25/06/18 17:49:40 WARN BlockManagerMasterEndpoint: No more replicas available for rdd_71_9 !\n",
      "25/06/18 17:49:40 WARN BlockManagerMasterEndpoint: No more replicas available for rdd_38_105 !\n",
      "25/06/18 17:49:40 WARN BlockManagerMasterEndpoint: No more replicas available for rdd_71_260 !\n",
      "25/06/18 17:49:40 WARN BlockManagerMasterEndpoint: No more replicas available for rdd_71_112 !\n",
      "25/06/18 17:49:40 WARN BlockManagerMasterEndpoint: No more replicas available for rdd_71_373 !\n",
      "25/06/18 17:49:40 WARN BlockManagerMasterEndpoint: No more replicas available for rdd_134_114 !\n",
      "25/06/18 17:49:40 WARN BlockManagerMasterEndpoint: No more replicas available for rdd_71_334 !\n",
      "25/06/18 17:49:40 WARN BlockManagerMasterEndpoint: No more replicas available for rdd_71_259 !\n",
      "25/06/18 17:49:40 WARN BlockManagerMasterEndpoint: No more replicas available for rdd_134_212 !\n",
      "25/06/18 17:49:40 WARN BlockManagerMasterEndpoint: No more replicas available for rdd_140_334 !\n",
      "25/06/18 17:49:40 WARN BlockManagerMasterEndpoint: No more replicas available for rdd_71_295 !\n",
      "25/06/18 17:49:40 WARN BlockManagerMasterEndpoint: No more replicas available for rdd_140_390 !\n",
      "25/06/18 17:49:40 WARN BlockManagerMasterEndpoint: No more replicas available for rdd_38_108 !\n",
      "25/06/18 17:49:40 WARN BlockManagerMasterEndpoint: No more replicas available for rdd_71_120 !\n",
      "25/06/18 17:49:40 WARN BlockManagerMasterEndpoint: No more replicas available for rdd_134_295 !\n",
      "25/06/18 17:49:40 WARN BlockManagerMasterEndpoint: No more replicas available for rdd_134_290 !\n",
      "25/06/18 17:49:40 WARN BlockManagerMasterEndpoint: No more replicas available for rdd_38_137 !\n",
      "25/06/18 17:49:40 WARN BlockManagerMasterEndpoint: No more replicas available for rdd_71_290 !\n",
      "25/06/18 17:49:40 WARN BlockManagerMasterEndpoint: No more replicas available for rdd_134_180 !\n",
      "25/06/18 17:49:40 WARN BlockManagerMasterEndpoint: No more replicas available for rdd_140_259 !\n",
      "25/06/18 17:49:40 WARN BlockManagerMasterEndpoint: No more replicas available for rdd_134_302 !\n",
      "25/06/18 17:49:40 WARN BlockManagerMasterEndpoint: No more replicas available for rdd_134_242 !\n",
      "25/06/18 17:49:40 WARN BlockManagerMasterEndpoint: No more replicas available for rdd_140_17 !\n",
      "25/06/18 17:49:40 WARN BlockManagerMasterEndpoint: No more replicas available for rdd_134_279 !\n",
      "25/06/18 17:49:40 WARN BlockManagerMasterEndpoint: No more replicas available for rdd_140_302 !\n",
      "25/06/18 17:49:40 WARN BlockManagerMasterEndpoint: No more replicas available for rdd_71_33 !\n",
      "25/06/18 17:49:40 WARN BlockManagerMasterEndpoint: No more replicas available for rdd_71_329 !\n",
      "25/06/18 17:49:40 WARN BlockManagerMasterEndpoint: No more replicas available for rdd_134_329 !\n",
      "25/06/18 17:49:40 WARN BlockManagerMasterEndpoint: No more replicas available for rdd_140_113 !\n",
      "25/06/18 17:49:40 WARN BlockManagerMasterEndpoint: No more replicas available for rdd_71_238 !\n",
      "25/06/18 17:49:40 WARN BlockManagerMasterEndpoint: No more replicas available for rdd_134_57 !\n",
      "25/06/18 17:49:40 WARN BlockManagerMasterEndpoint: No more replicas available for rdd_134_260 !\n",
      "25/06/18 17:49:40 WARN BlockManagerMasterEndpoint: No more replicas available for rdd_71_371 !\n",
      "25/06/18 17:49:40 WARN BlockManagerMasterEndpoint: No more replicas available for rdd_140_132 !\n",
      "25/06/18 17:49:40 WARN BlockManagerMasterEndpoint: No more replicas available for rdd_71_170 !\n",
      "25/06/18 17:49:40 WARN BlockManagerMasterEndpoint: No more replicas available for rdd_134_201 !\n",
      "25/06/18 17:49:40 WARN BlockManagerMasterEndpoint: No more replicas available for rdd_134_120 !\n",
      "25/06/18 17:49:40 WARN BlockManagerMasterEndpoint: No more replicas available for rdd_140_114 !\n",
      "25/06/18 17:49:40 WARN BlockManagerMasterEndpoint: No more replicas available for rdd_134_25 !\n",
      "25/06/18 17:49:40 WARN BlockManagerMasterEndpoint: No more replicas available for rdd_140_371 !\n",
      "25/06/18 17:49:40 WARN BlockManagerMasterEndpoint: No more replicas available for rdd_134_293 !\n",
      "25/06/18 17:49:40 WARN BlockManagerMasterEndpoint: No more replicas available for rdd_134_185 !\n",
      "25/06/18 17:49:40 WARN BlockManagerMasterEndpoint: No more replicas available for rdd_140_1 !\n",
      "25/06/18 17:49:40 WARN BlockManagerMasterEndpoint: No more replicas available for rdd_140_361 !\n",
      "25/06/18 17:49:40 WARN BlockManagerMasterEndpoint: No more replicas available for rdd_38_67 !\n",
      "25/06/18 17:49:40 WARN BlockManagerMasterEndpoint: No more replicas available for rdd_140_256 !\n",
      "25/06/18 17:49:40 WARN BlockManagerMasterEndpoint: No more replicas available for rdd_71_212 !\n",
      "25/06/18 17:49:40 WARN BlockManagerMasterEndpoint: No more replicas available for rdd_140_49 !\n",
      "25/06/18 17:49:40 WARN BlockManagerMasterEndpoint: No more replicas available for rdd_134_358 !\n",
      "25/06/18 17:49:40 WARN BlockManagerMasterEndpoint: No more replicas available for rdd_134_390 !\n",
      "25/06/18 17:49:40 WARN BlockManagerMasterEndpoint: No more replicas available for rdd_140_118 !\n",
      "25/06/18 17:49:40 WARN BlockManagerMasterEndpoint: No more replicas available for rdd_134_238 !\n",
      "25/06/18 17:49:40 WARN BlockManagerMasterEndpoint: No more replicas available for rdd_134_118 !\n",
      "25/06/18 17:49:40 WARN BlockManagerMasterEndpoint: No more replicas available for rdd_140_260 !\n",
      "25/06/18 17:49:40 WARN BlockManagerMasterEndpoint: No more replicas available for rdd_134_259 !\n",
      "25/06/18 17:49:40 WARN BlockManagerMasterEndpoint: No more replicas available for rdd_38_102 !\n",
      "25/06/18 17:49:40 WARN BlockManagerMasterEndpoint: No more replicas available for rdd_140_295 !\n",
      "25/06/18 17:49:40 WARN BlockManagerMasterEndpoint: No more replicas available for rdd_140_175 !\n",
      "25/06/18 17:49:40 WARN BlockManagerMasterEndpoint: No more replicas available for rdd_140_9 !\n",
      "25/06/18 17:49:40 WARN BlockManagerMasterEndpoint: No more replicas available for rdd_71_113 !\n",
      "25/06/18 17:49:40 WARN BlockManagerMasterEndpoint: No more replicas available for rdd_38_21 !\n",
      "25/06/18 17:49:40 WARN BlockManagerMasterEndpoint: No more replicas available for rdd_38_196 !\n",
      "25/06/18 17:49:40 WARN BlockManagerMasterEndpoint: No more replicas available for rdd_38_106 !\n",
      "25/06/18 17:49:40 WARN BlockManagerMasterEndpoint: No more replicas available for rdd_140_238 !\n",
      "25/06/18 17:49:40 WARN BlockManagerMasterEndpoint: No more replicas available for rdd_71_180 !\n",
      "25/06/18 17:49:40 WARN BlockManagerMasterEndpoint: No more replicas available for rdd_71_41 !\n",
      "25/06/18 17:49:40 WARN BlockManagerMasterEndpoint: No more replicas available for rdd_71_17 !\n",
      "25/06/18 17:49:40 WARN BlockManagerMasterEndpoint: No more replicas available for rdd_71_175 !\n",
      "25/06/18 17:49:40 WARN BlockManagerMasterEndpoint: No more replicas available for rdd_140_329 !\n",
      "25/06/18 17:49:40 WARN BlockManagerMasterEndpoint: No more replicas available for rdd_71_360 !\n",
      "25/06/18 17:49:40 WARN BlockManagerMasterEndpoint: No more replicas available for rdd_134_373 !\n",
      "25/06/18 17:49:40 WARN BlockManagerMasterEndpoint: No more replicas available for rdd_140_242 !\n",
      "25/06/18 17:49:40 WARN BlockManagerMasterEndpoint: No more replicas available for rdd_140_179 !\n",
      "25/06/18 17:49:40 WARN YarnAllocator: Container from a bad node: container_1750267550096_0002_01_000010 on host: jr-temp-m.c.open-targets-eu-dev.internal. Exit status: 137. Diagnostics: [2025-06-18 17:49:40.293]Container killed on request. Exit code is 137\n",
      "[2025-06-18 17:49:40.293]Container exited with a non-zero exit code 137. \n",
      "[2025-06-18 17:49:40.294]Killed by external signal\n",
      ".\n",
      "25/06/18 17:49:40 ERROR YarnScheduler: Lost executor 9 on jr-temp-m.c.open-targets-eu-dev.internal: Container from a bad node: container_1750267550096_0002_01_000010 on host: jr-temp-m.c.open-targets-eu-dev.internal. Exit status: 137. Diagnostics: [2025-06-18 17:49:40.293]Container killed on request. Exit code is 137\n",
      "[2025-06-18 17:49:40.293]Container exited with a non-zero exit code 137. \n",
      "[2025-06-18 17:49:40.294]Killed by external signal\n",
      ".\n",
      "25/06/18 17:49:40 WARN TaskSetManager: Lost task 56.0 in stage 216.0 (TID 9213) (jr-temp-m.c.open-targets-eu-dev.internal executor 9): ExecutorLostFailure (executor 9 exited caused by one of the running tasks) Reason: Container from a bad node: container_1750267550096_0002_01_000010 on host: jr-temp-m.c.open-targets-eu-dev.internal. Exit status: 137. Diagnostics: [2025-06-18 17:49:40.293]Container killed on request. Exit code is 137\n",
      "[2025-06-18 17:49:40.293]Container exited with a non-zero exit code 137. \n",
      "[2025-06-18 17:49:40.294]Killed by external signal\n",
      ".\n",
      "25/06/18 17:49:40 WARN YarnSchedulerBackend$YarnSchedulerEndpoint: Requesting driver to remove executor 9 for reason Container from a bad node: container_1750267550096_0002_01_000010 on host: jr-temp-m.c.open-targets-eu-dev.internal. Exit status: 137. Diagnostics: [2025-06-18 17:49:40.293]Container killed on request. Exit code is 137\n",
      "[2025-06-18 17:49:40.293]Container exited with a non-zero exit code 137. \n",
      "[2025-06-18 17:49:40.294]Killed by external signal\n",
      ".\n",
      "25/06/18 17:49:40 WARN TaskSetManager: Lost task 32.0 in stage 216.0 (TID 9189) (jr-temp-m.c.open-targets-eu-dev.internal executor 9): ExecutorLostFailure (executor 9 exited caused by one of the running tasks) Reason: Container from a bad node: container_1750267550096_0002_01_000010 on host: jr-temp-m.c.open-targets-eu-dev.internal. Exit status: 137. Diagnostics: [2025-06-18 17:49:40.293]Container killed on request. Exit code is 137\n",
      "[2025-06-18 17:49:40.293]Container exited with a non-zero exit code 137. \n",
      "[2025-06-18 17:49:40.294]Killed by external signal\n",
      ".\n",
      "25/06/18 17:49:40 WARN TaskSetManager: Lost task 8.0 in stage 216.0 (TID 9165) (jr-temp-m.c.open-targets-eu-dev.internal executor 9): ExecutorLostFailure (executor 9 exited caused by one of the running tasks) Reason: Container from a bad node: container_1750267550096_0002_01_000010 on host: jr-temp-m.c.open-targets-eu-dev.internal. Exit status: 137. Diagnostics: [2025-06-18 17:49:40.293]Container killed on request. Exit code is 137\n",
      "[2025-06-18 17:49:40.293]Container exited with a non-zero exit code 137. \n",
      "[2025-06-18 17:49:40.294]Killed by external signal\n",
      ".\n",
      "25/06/18 17:49:40 WARN TaskSetManager: Lost task 40.0 in stage 216.0 (TID 9197) (jr-temp-m.c.open-targets-eu-dev.internal executor 9): ExecutorLostFailure (executor 9 exited caused by one of the running tasks) Reason: Container from a bad node: container_1750267550096_0002_01_000010 on host: jr-temp-m.c.open-targets-eu-dev.internal. Exit status: 137. Diagnostics: [2025-06-18 17:49:40.293]Container killed on request. Exit code is 137\n",
      "[2025-06-18 17:49:40.293]Container exited with a non-zero exit code 137. \n",
      "[2025-06-18 17:49:40.294]Killed by external signal\n",
      ".\n",
      "25/06/18 17:49:40 WARN TaskSetManager: Lost task 16.0 in stage 216.0 (TID 9173) (jr-temp-m.c.open-targets-eu-dev.internal executor 9): ExecutorLostFailure (executor 9 exited caused by one of the running tasks) Reason: Container from a bad node: container_1750267550096_0002_01_000010 on host: jr-temp-m.c.open-targets-eu-dev.internal. Exit status: 137. Diagnostics: [2025-06-18 17:49:40.293]Container killed on request. Exit code is 137\n",
      "[2025-06-18 17:49:40.293]Container exited with a non-zero exit code 137. \n",
      "[2025-06-18 17:49:40.294]Killed by external signal\n",
      ".\n",
      "25/06/18 17:49:40 WARN TaskSetManager: Lost task 24.0 in stage 216.0 (TID 9181) (jr-temp-m.c.open-targets-eu-dev.internal executor 9): ExecutorLostFailure (executor 9 exited caused by one of the running tasks) Reason: Container from a bad node: container_1750267550096_0002_01_000010 on host: jr-temp-m.c.open-targets-eu-dev.internal. Exit status: 137. Diagnostics: [2025-06-18 17:49:40.293]Container killed on request. Exit code is 137\n",
      "[2025-06-18 17:49:40.293]Container exited with a non-zero exit code 137. \n",
      "[2025-06-18 17:49:40.294]Killed by external signal\n",
      ".\n",
      "25/06/18 17:49:40 WARN TaskSetManager: Lost task 0.0 in stage 216.0 (TID 9157) (jr-temp-m.c.open-targets-eu-dev.internal executor 9): ExecutorLostFailure (executor 9 exited caused by one of the running tasks) Reason: Container from a bad node: container_1750267550096_0002_01_000010 on host: jr-temp-m.c.open-targets-eu-dev.internal. Exit status: 137. Diagnostics: [2025-06-18 17:49:40.293]Container killed on request. Exit code is 137\n",
      "[2025-06-18 17:49:40.293]Container exited with a non-zero exit code 137. \n",
      "[2025-06-18 17:49:40.294]Killed by external signal\n",
      ".\n",
      "25/06/18 17:49:40 WARN TaskSetManager: Lost task 48.0 in stage 216.0 (TID 9205) (jr-temp-m.c.open-targets-eu-dev.internal executor 9): ExecutorLostFailure (executor 9 exited caused by one of the running tasks) Reason: Container from a bad node: container_1750267550096_0002_01_000010 on host: jr-temp-m.c.open-targets-eu-dev.internal. Exit status: 137. Diagnostics: [2025-06-18 17:49:40.293]Container killed on request. Exit code is 137\n",
      "[2025-06-18 17:49:40.293]Container exited with a non-zero exit code 137. \n",
      "[2025-06-18 17:49:40.294]Killed by external signal\n",
      ".\n",
      "[Stage 266:>                                                     (0 + 56) / 400]0]]\r"
     ]
    }
   ],
   "source": [
    "#### NOT TO TAKE\n",
    "# Dictionary to store results\n",
    "pivoted_dfs = {}\n",
    "\n",
    "# Loop over the columns\n",
    "for col in variables_study:\n",
    "    print(f\"Processing: {col}\")\n",
    "\n",
    "    window_spec = Window.partitionBy(\"targetId\", \"diseaseId\", col).orderBy(\n",
    "        F.col(\"qtlPValueExponent\").asc() #### here the pvalue is the one from the QTL variant\n",
    "    )\n",
    "    window_spec_pvaluegwas = Window.partitionBy(\"targetId\", \"diseaseId\", col).orderBy(\n",
    "        F.col(\"pValueExponent\").asc()\n",
    "    )\n",
    "    pvalue_order_window = Window.partitionBy(\"targetId\", \"diseaseId\",col).orderBy(\n",
    "    F.col('colocalisationMethod').asc(),F.col(\"qtlPValueExponent\").asc()\n",
    "    )\n",
    "\n",
    "    # Build the pivoted dataframe\n",
    "    pivoted_df = (\n",
    "        benchmark\n",
    "        .withColumn(\n",
    "        'hasboth', F.size(F.collect_set('colocalisationMethod').over(Window.partitionBy('targetId','diseaseId')))\n",
    "        )\n",
    "        .withColumn('resolvedAgreeDrug',\n",
    "            F.when(F.col('hasboth')>1, \n",
    "                F.first(F.col('AgreeDrug'),ignorenulls=True).over(pvalue_order_window) ### order by Coloc First and then Lowest PValue\n",
    "            ).otherwise(F.first(F.col('AgreeDrug'),ignorenulls=True).over(window_spec))) ## Lowest PValue\n",
    "        .groupBy(\n",
    "            \"targetId\",\n",
    "            \"diseaseId\",\n",
    "            \"maxClinPhase\",\n",
    "        )\n",
    "        .pivot(col)\n",
    "        .agg(F.collect_set(\"resolvedAgreeDrug\"))\n",
    "        .join(negativeTD, on=[\"targetId\", \"diseaseId\"], how=\"left\")\n",
    "    )\n",
    "\n",
    "\n",
    "    # Add _only columns dynamically based on disdic values matching current column\n",
    "    matching_keys = [key for key, val in disdic.items() if val == col]\n",
    "\n",
    "    for key in matching_keys:\n",
    "        pivoted_df = pivoted_df.withColumn(\n",
    "            f\"{key}_only\",\n",
    "            F.when(F.array_contains(F.col(key), \"yes\"), F.lit(\"yes\")).otherwise(F.lit(\"no\")),\n",
    "        )\n",
    "\n",
    "    # Add Phase columns in a loop\n",
    "    for phase in [1, 2, 3, 4]:\n",
    "        pivoted_df = pivoted_df.withColumn(\n",
    "            f\"Phase>={phase}\",\n",
    "            F.when(F.col(\"maxClinPhase\") >= phase, F.lit(\"yes\")).otherwise(F.lit(\"no\")),\n",
    "        )\n",
    "\n",
    "    pivoted_df = pivoted_df.withColumn(\n",
    "        \"PhaseT\",\n",
    "        F.when(F.col(\"stopReason\") == \"Negative\", F.lit(\"yes\")).otherwise(F.lit(\"no\")),\n",
    "    )\n",
    "    output_partitioned_path = f\"gs://ot-team/jroldan/analysis/parquetFiles/pivoted_df_{col}\"\n",
    "    pivoted_df.write.mode(\"overwrite\").parquet(output_partitioned_path)\n",
    "    print(f\"DataFrame successfully written and partitioned to {output_partitioned_path}\")\n",
    "\n",
    "    # Store result\n",
    "    pivoted_dfs[col] = pivoted_df\n",
    "\n",
    "\n"
   ]
  },
  {
   "cell_type": "code",
   "execution_count": 139,
   "metadata": {},
   "outputs": [
    {
     "data": {
      "text/plain": [
       "['GoF_protect', 'LoF_protect']"
      ]
     },
     "execution_count": 139,
     "metadata": {},
     "output_type": "execute_result"
    }
   ],
   "source": [
    "[key for key, val in disdic.items() if val == col]"
   ]
  },
  {
   "cell_type": "code",
   "execution_count": null,
   "metadata": {},
   "outputs": [],
   "source": []
  },
  {
   "cell_type": "code",
   "execution_count": null,
   "metadata": {},
   "outputs": [
    {
     "name": "stdout",
     "output_type": "stream",
     "text": [
      "working with projectId\n"
     ]
    },
    {
     "name": "stderr",
     "output_type": "stream",
     "text": [
      "25/06/18 18:15:50 WARN CacheManager: Asked to cache already cached data.\n",
      "25/06/18 18:17:23 WARN BlockManagerMasterEndpoint: No more replicas available for rdd_71_136 !\n",
      "25/06/18 18:17:23 WARN BlockManagerMasterEndpoint: No more replicas available for rdd_156_44 !\n",
      "25/06/18 18:17:23 WARN BlockManagerMasterEndpoint: No more replicas available for rdd_150_247 !\n",
      "25/06/18 18:17:23 WARN BlockManagerMasterEndpoint: No more replicas available for rdd_38_185 !\n",
      "25/06/18 18:17:23 WARN BlockManagerMasterEndpoint: No more replicas available for rdd_71_12 !\n",
      "25/06/18 18:17:23 WARN BlockManagerMasterEndpoint: No more replicas available for rdd_156_339 !\n",
      "25/06/18 18:17:23 WARN BlockManagerMasterEndpoint: No more replicas available for rdd_156_374 !\n",
      "25/06/18 18:17:23 WARN BlockManagerMasterEndpoint: No more replicas available for rdd_156_340 !\n",
      "25/06/18 18:17:23 WARN BlockManagerMasterEndpoint: No more replicas available for rdd_38_29 !\n",
      "25/06/18 18:17:23 WARN BlockManagerMasterEndpoint: No more replicas available for rdd_38_37 !\n",
      "25/06/18 18:17:23 WARN BlockManagerMasterEndpoint: No more replicas available for rdd_150_363 !\n",
      "25/06/18 18:17:23 WARN BlockManagerMasterEndpoint: No more replicas available for rdd_71_336 !\n",
      "25/06/18 18:17:23 WARN BlockManagerMasterEndpoint: No more replicas available for rdd_150_216 !\n",
      "25/06/18 18:17:23 WARN BlockManagerMasterEndpoint: No more replicas available for rdd_38_45 !\n",
      "25/06/18 18:17:23 WARN BlockManagerMasterEndpoint: No more replicas available for rdd_150_78 !\n",
      "25/06/18 18:17:23 WARN BlockManagerMasterEndpoint: No more replicas available for rdd_71_95 !\n",
      "25/06/18 18:17:23 WARN BlockManagerMasterEndpoint: No more replicas available for rdd_156_287 !\n",
      "25/06/18 18:17:23 WARN BlockManagerMasterEndpoint: No more replicas available for rdd_156_384 !\n",
      "25/06/18 18:17:23 WARN BlockManagerMasterEndpoint: No more replicas available for rdd_150_38 !\n",
      "25/06/18 18:17:23 WARN BlockManagerMasterEndpoint: No more replicas available for rdd_156_67 !\n",
      "25/06/18 18:17:23 WARN BlockManagerMasterEndpoint: No more replicas available for rdd_71_67 !\n",
      "25/06/18 18:17:23 WARN BlockManagerMasterEndpoint: No more replicas available for rdd_156_80 !\n",
      "25/06/18 18:17:23 WARN BlockManagerMasterEndpoint: No more replicas available for rdd_150_149 !\n",
      "25/06/18 18:17:23 WARN BlockManagerMasterEndpoint: No more replicas available for rdd_150_30 !\n",
      "25/06/18 18:17:23 WARN BlockManagerMasterEndpoint: No more replicas available for rdd_156_324 !\n",
      "25/06/18 18:17:23 WARN BlockManagerMasterEndpoint: No more replicas available for rdd_38_13 !\n",
      "25/06/18 18:17:23 WARN BlockManagerMasterEndpoint: No more replicas available for rdd_156_147 !\n",
      "25/06/18 18:17:23 WARN BlockManagerMasterEndpoint: No more replicas available for rdd_71_203 !\n",
      "25/06/18 18:17:23 WARN BlockManagerMasterEndpoint: No more replicas available for rdd_71_78 !\n",
      "25/06/18 18:17:23 WARN BlockManagerMasterEndpoint: No more replicas available for rdd_156_139 !\n",
      "25/06/18 18:17:23 WARN BlockManagerMasterEndpoint: No more replicas available for rdd_150_20 !\n",
      "25/06/18 18:17:23 WARN BlockManagerMasterEndpoint: No more replicas available for rdd_71_103 !\n",
      "25/06/18 18:17:23 WARN BlockManagerMasterEndpoint: No more replicas available for rdd_71_191 !\n",
      "25/06/18 18:17:23 WARN BlockManagerMasterEndpoint: No more replicas available for rdd_150_208 !\n",
      "25/06/18 18:17:23 WARN BlockManagerMasterEndpoint: No more replicas available for rdd_71_374 !\n",
      "25/06/18 18:17:23 WARN BlockManagerMasterEndpoint: No more replicas available for rdd_71_342 !\n",
      "25/06/18 18:17:23 WARN BlockManagerMasterEndpoint: No more replicas available for rdd_71_244 !\n",
      "25/06/18 18:17:23 WARN BlockManagerMasterEndpoint: No more replicas available for rdd_150_95 !\n",
      "25/06/18 18:17:23 WARN BlockManagerMasterEndpoint: No more replicas available for rdd_150_151 !\n",
      "25/06/18 18:17:23 WARN BlockManagerMasterEndpoint: No more replicas available for rdd_71_398 !\n",
      "25/06/18 18:17:23 WARN BlockManagerMasterEndpoint: No more replicas available for rdd_150_307 !\n",
      "25/06/18 18:17:23 WARN BlockManagerMasterEndpoint: No more replicas available for rdd_71_394 !\n",
      "25/06/18 18:17:23 WARN BlockManagerMasterEndpoint: No more replicas available for rdd_156_144 !\n",
      "25/06/18 18:17:23 WARN BlockManagerMasterEndpoint: No more replicas available for rdd_150_347 !\n",
      "25/06/18 18:17:23 WARN BlockManagerMasterEndpoint: No more replicas available for rdd_156_336 !\n",
      "25/06/18 18:17:23 WARN BlockManagerMasterEndpoint: No more replicas available for rdd_71_361 !\n",
      "25/06/18 18:17:23 WARN BlockManagerMasterEndpoint: No more replicas available for rdd_156_191 !\n",
      "25/06/18 18:17:23 WARN BlockManagerMasterEndpoint: No more replicas available for rdd_150_339 !\n",
      "25/06/18 18:17:23 WARN BlockManagerMasterEndpoint: No more replicas available for rdd_71_287 !\n",
      "25/06/18 18:17:23 WARN BlockManagerMasterEndpoint: No more replicas available for rdd_71_132 !\n",
      "25/06/18 18:17:23 WARN BlockManagerMasterEndpoint: No more replicas available for rdd_38_141 !\n",
      "25/06/18 18:17:23 WARN BlockManagerMasterEndpoint: No more replicas available for rdd_156_151 !\n",
      "25/06/18 18:17:23 WARN BlockManagerMasterEndpoint: No more replicas available for rdd_38_61 !\n",
      "25/06/18 18:17:23 WARN BlockManagerMasterEndpoint: No more replicas available for rdd_156_38 !\n",
      "25/06/18 18:17:23 WARN BlockManagerMasterEndpoint: No more replicas available for rdd_150_359 !\n",
      "25/06/18 18:17:23 WARN BlockManagerMasterEndpoint: No more replicas available for rdd_150_204 !\n",
      "25/06/18 18:17:23 WARN BlockManagerMasterEndpoint: No more replicas available for rdd_71_44 !\n",
      "25/06/18 18:17:23 WARN BlockManagerMasterEndpoint: No more replicas available for rdd_150_361 !\n",
      "25/06/18 18:17:23 WARN BlockManagerMasterEndpoint: No more replicas available for rdd_71_60 !\n",
      "25/06/18 18:17:23 WARN BlockManagerMasterEndpoint: No more replicas available for rdd_156_280 !\n",
      "25/06/18 18:17:23 WARN BlockManagerMasterEndpoint: No more replicas available for rdd_38_118 !\n",
      "25/06/18 18:17:23 WARN BlockManagerMasterEndpoint: No more replicas available for rdd_71_384 !\n",
      "25/06/18 18:17:23 WARN BlockManagerMasterEndpoint: No more replicas available for rdd_38_79 !\n",
      "25/06/18 18:17:23 WARN BlockManagerMasterEndpoint: No more replicas available for rdd_150_289 !\n",
      "25/06/18 18:17:23 WARN BlockManagerMasterEndpoint: No more replicas available for rdd_71_147 !\n",
      "25/06/18 18:17:23 WARN BlockManagerMasterEndpoint: No more replicas available for rdd_156_359 !\n",
      "25/06/18 18:17:23 WARN BlockManagerMasterEndpoint: No more replicas available for rdd_71_385 !\n",
      "25/06/18 18:17:23 WARN BlockManagerMasterEndpoint: No more replicas available for rdd_71_75 !\n",
      "25/06/18 18:17:23 WARN BlockManagerMasterEndpoint: No more replicas available for rdd_38_132 !\n",
      "25/06/18 18:17:23 WARN BlockManagerMasterEndpoint: No more replicas available for rdd_38_164 !\n",
      "25/06/18 18:17:23 WARN BlockManagerMasterEndpoint: No more replicas available for rdd_156_71 !\n",
      "25/06/18 18:17:23 WARN BlockManagerMasterEndpoint: No more replicas available for rdd_150_384 !\n",
      "25/06/18 18:17:23 WARN BlockManagerMasterEndpoint: No more replicas available for rdd_71_28 !\n",
      "25/06/18 18:17:23 WARN BlockManagerMasterEndpoint: No more replicas available for rdd_71_339 !\n",
      "25/06/18 18:17:23 WARN BlockManagerMasterEndpoint: No more replicas available for rdd_71_87 !\n",
      "25/06/18 18:17:23 WARN BlockManagerMasterEndpoint: No more replicas available for rdd_71_272 !\n",
      "25/06/18 18:17:23 WARN BlockManagerMasterEndpoint: No more replicas available for rdd_150_282 !\n",
      "25/06/18 18:17:23 WARN BlockManagerMasterEndpoint: No more replicas available for rdd_71_282 !\n",
      "25/06/18 18:17:23 WARN BlockManagerMasterEndpoint: No more replicas available for rdd_71_340 !\n",
      "25/06/18 18:17:23 WARN BlockManagerMasterEndpoint: No more replicas available for rdd_150_374 !\n",
      "25/06/18 18:17:23 WARN BlockManagerMasterEndpoint: No more replicas available for rdd_156_270 !\n",
      "25/06/18 18:17:23 WARN BlockManagerMasterEndpoint: No more replicas available for rdd_150_46 !\n",
      "25/06/18 18:17:23 WARN BlockManagerMasterEndpoint: No more replicas available for rdd_150_69 !\n",
      "25/06/18 18:17:23 WARN BlockManagerMasterEndpoint: No more replicas available for rdd_150_87 !\n",
      "25/06/18 18:17:23 WARN BlockManagerMasterEndpoint: No more replicas available for rdd_156_20 !\n",
      "25/06/18 18:17:23 WARN BlockManagerMasterEndpoint: No more replicas available for rdd_38_69 !\n",
      "25/06/18 18:17:23 WARN BlockManagerMasterEndpoint: No more replicas available for rdd_150_334 !\n",
      "25/06/18 18:17:23 WARN BlockManagerMasterEndpoint: No more replicas available for rdd_38_85 !\n",
      "25/06/18 18:17:23 WARN BlockManagerMasterEndpoint: No more replicas available for rdd_156_95 !\n",
      "25/06/18 18:17:23 WARN BlockManagerMasterEndpoint: No more replicas available for rdd_71_38 !\n",
      "25/06/18 18:17:23 WARN BlockManagerMasterEndpoint: No more replicas available for rdd_156_334 !\n",
      "25/06/18 18:17:23 WARN BlockManagerMasterEndpoint: No more replicas available for rdd_38_5 !\n",
      "25/06/18 18:17:23 WARN BlockManagerMasterEndpoint: No more replicas available for rdd_38_136 !\n",
      "25/06/18 18:17:23 WARN BlockManagerMasterEndpoint: No more replicas available for rdd_71_159 !\n",
      "25/06/18 18:17:23 WARN BlockManagerMasterEndpoint: No more replicas available for rdd_150_144 !\n",
      "25/06/18 18:17:23 WARN BlockManagerMasterEndpoint: No more replicas available for rdd_150_147 !\n",
      "25/06/18 18:17:23 WARN BlockManagerMasterEndpoint: No more replicas available for rdd_38_53 !\n",
      "25/06/18 18:17:23 WARN BlockManagerMasterEndpoint: No more replicas available for rdd_156_398 !\n",
      "25/06/18 18:17:23 WARN BlockManagerMasterEndpoint: No more replicas available for rdd_150_203 !\n",
      "25/06/18 18:17:23 WARN BlockManagerMasterEndpoint: No more replicas available for rdd_156_28 !\n",
      "25/06/18 18:17:23 WARN BlockManagerMasterEndpoint: No more replicas available for rdd_156_208 !\n",
      "25/06/18 18:17:23 WARN BlockManagerMasterEndpoint: No more replicas available for rdd_156_203 !\n",
      "25/06/18 18:17:23 WARN BlockManagerMasterEndpoint: No more replicas available for rdd_38_206 !\n",
      "25/06/18 18:17:23 WARN BlockManagerMasterEndpoint: No more replicas available for rdd_156_149 !\n",
      "25/06/18 18:17:23 WARN BlockManagerMasterEndpoint: No more replicas available for rdd_71_363 !\n",
      "25/06/18 18:17:23 WARN BlockManagerMasterEndpoint: No more replicas available for rdd_150_60 !\n",
      "25/06/18 18:17:23 WARN BlockManagerMasterEndpoint: No more replicas available for rdd_71_46 !\n",
      "25/06/18 18:17:23 WARN BlockManagerMasterEndpoint: No more replicas available for rdd_150_36 !\n",
      "25/06/18 18:17:23 WARN BlockManagerMasterEndpoint: No more replicas available for rdd_150_336 !\n",
      "25/06/18 18:17:23 WARN BlockManagerMasterEndpoint: No more replicas available for rdd_156_307 !\n",
      "25/06/18 18:17:23 WARN BlockManagerMasterEndpoint: No more replicas available for rdd_156_177 !\n",
      "25/06/18 18:17:23 WARN BlockManagerMasterEndpoint: No more replicas available for rdd_71_30 !\n",
      "25/06/18 18:17:23 WARN BlockManagerMasterEndpoint: No more replicas available for rdd_150_394 !\n",
      "25/06/18 18:17:23 WARN BlockManagerMasterEndpoint: No more replicas available for rdd_156_272 !\n",
      "25/06/18 18:17:23 WARN BlockManagerMasterEndpoint: No more replicas available for rdd_150_287 !\n",
      "25/06/18 18:17:23 WARN BlockManagerMasterEndpoint: No more replicas available for rdd_150_244 !\n",
      "25/06/18 18:17:23 WARN BlockManagerMasterEndpoint: No more replicas available for rdd_71_4 !\n",
      "25/06/18 18:17:23 WARN BlockManagerMasterEndpoint: No more replicas available for rdd_156_30 !\n",
      "25/06/18 18:17:23 WARN BlockManagerMasterEndpoint: No more replicas available for rdd_38_100 !\n",
      "25/06/18 18:17:23 WARN BlockManagerMasterEndpoint: No more replicas available for rdd_71_219 !\n",
      "25/06/18 18:17:23 WARN BlockManagerMasterEndpoint: No more replicas available for rdd_71_139 !\n",
      "25/06/18 18:17:23 WARN BlockManagerMasterEndpoint: No more replicas available for rdd_156_159 !\n",
      "25/06/18 18:17:23 WARN BlockManagerMasterEndpoint: No more replicas available for rdd_71_270 !\n",
      "25/06/18 18:17:23 WARN BlockManagerMasterEndpoint: No more replicas available for rdd_156_36 !\n",
      "25/06/18 18:17:23 WARN BlockManagerMasterEndpoint: No more replicas available for rdd_38_157 !\n",
      "25/06/18 18:17:23 WARN BlockManagerMasterEndpoint: No more replicas available for rdd_38_178 !\n",
      "25/06/18 18:17:23 WARN BlockManagerMasterEndpoint: No more replicas available for rdd_71_177 !\n",
      "25/06/18 18:17:23 WARN BlockManagerMasterEndpoint: No more replicas available for rdd_71_347 !\n",
      "25/06/18 18:17:23 WARN BlockManagerMasterEndpoint: No more replicas available for rdd_71_334 !\n",
      "25/06/18 18:17:23 WARN BlockManagerMasterEndpoint: No more replicas available for rdd_156_216 !\n",
      "25/06/18 18:17:23 WARN BlockManagerMasterEndpoint: No more replicas available for rdd_150_136 !\n",
      "25/06/18 18:17:23 WARN BlockManagerMasterEndpoint: No more replicas available for rdd_71_261 !\n",
      "25/06/18 18:17:23 WARN BlockManagerMasterEndpoint: No more replicas available for rdd_71_144 !\n",
      "25/06/18 18:17:23 WARN BlockManagerMasterEndpoint: No more replicas available for rdd_71_289 !\n",
      "25/06/18 18:17:23 WARN BlockManagerMasterEndpoint: No more replicas available for rdd_150_385 !\n",
      "25/06/18 18:17:23 WARN BlockManagerMasterEndpoint: No more replicas available for rdd_71_80 !\n",
      "25/06/18 18:17:23 WARN BlockManagerMasterEndpoint: No more replicas available for rdd_156_282 !\n",
      "25/06/18 18:17:23 WARN BlockManagerMasterEndpoint: No more replicas available for rdd_156_247 !\n",
      "25/06/18 18:17:23 WARN BlockManagerMasterEndpoint: No more replicas available for rdd_38_169 !\n",
      "25/06/18 18:17:23 WARN BlockManagerMasterEndpoint: No more replicas available for rdd_71_324 !\n",
      "25/06/18 18:17:23 WARN BlockManagerMasterEndpoint: No more replicas available for rdd_150_12 !\n",
      "25/06/18 18:17:23 WARN BlockManagerMasterEndpoint: No more replicas available for rdd_150_191 !\n",
      "25/06/18 18:17:23 WARN BlockManagerMasterEndpoint: No more replicas available for rdd_150_132 !\n",
      "25/06/18 18:17:23 WARN BlockManagerMasterEndpoint: No more replicas available for rdd_156_347 !\n",
      "25/06/18 18:17:23 WARN BlockManagerMasterEndpoint: No more replicas available for rdd_38_78 !\n",
      "25/06/18 18:17:23 WARN BlockManagerMasterEndpoint: No more replicas available for rdd_156_219 !\n",
      "25/06/18 18:17:23 WARN BlockManagerMasterEndpoint: No more replicas available for rdd_156_52 !\n",
      "25/06/18 18:17:23 WARN BlockManagerMasterEndpoint: No more replicas available for rdd_150_52 !\n",
      "25/06/18 18:17:23 WARN BlockManagerMasterEndpoint: No more replicas available for rdd_150_272 !\n",
      "25/06/18 18:17:23 WARN BlockManagerMasterEndpoint: No more replicas available for rdd_71_216 !\n",
      "25/06/18 18:17:23 WARN BlockManagerMasterEndpoint: No more replicas available for rdd_71_71 !\n",
      "25/06/18 18:17:23 WARN BlockManagerMasterEndpoint: No more replicas available for rdd_71_52 !\n",
      "25/06/18 18:17:23 WARN BlockManagerMasterEndpoint: No more replicas available for rdd_71_69 !\n",
      "25/06/18 18:17:23 WARN BlockManagerMasterEndpoint: No more replicas available for rdd_156_261 !\n",
      "25/06/18 18:17:23 WARN BlockManagerMasterEndpoint: No more replicas available for rdd_156_136 !\n",
      "25/06/18 18:17:23 WARN BlockManagerMasterEndpoint: No more replicas available for rdd_71_149 !\n",
      "25/06/18 18:17:23 WARN BlockManagerMasterEndpoint: No more replicas available for rdd_150_177 !\n",
      "25/06/18 18:17:23 WARN BlockManagerMasterEndpoint: No more replicas available for rdd_150_261 !\n",
      "25/06/18 18:17:23 WARN BlockManagerMasterEndpoint: No more replicas available for rdd_156_12 !\n",
      "25/06/18 18:17:23 WARN BlockManagerMasterEndpoint: No more replicas available for rdd_156_60 !\n",
      "25/06/18 18:17:23 WARN BlockManagerMasterEndpoint: No more replicas available for rdd_71_20 !\n",
      "25/06/18 18:17:23 WARN BlockManagerMasterEndpoint: No more replicas available for rdd_150_103 !\n",
      "25/06/18 18:17:23 WARN BlockManagerMasterEndpoint: No more replicas available for rdd_156_103 !\n",
      "25/06/18 18:17:23 WARN BlockManagerMasterEndpoint: No more replicas available for rdd_156_69 !\n",
      "25/06/18 18:17:23 WARN BlockManagerMasterEndpoint: No more replicas available for rdd_71_151 !\n",
      "25/06/18 18:17:23 WARN BlockManagerMasterEndpoint: No more replicas available for rdd_156_78 !\n",
      "25/06/18 18:17:23 WARN BlockManagerMasterEndpoint: No more replicas available for rdd_150_71 !\n",
      "25/06/18 18:17:23 WARN BlockManagerMasterEndpoint: No more replicas available for rdd_156_132 !\n",
      "25/06/18 18:17:23 WARN BlockManagerMasterEndpoint: No more replicas available for rdd_156_4 !\n",
      "25/06/18 18:17:23 WARN BlockManagerMasterEndpoint: No more replicas available for rdd_150_75 !\n",
      "25/06/18 18:17:23 WARN BlockManagerMasterEndpoint: No more replicas available for rdd_38_99 !\n",
      "25/06/18 18:17:23 WARN BlockManagerMasterEndpoint: No more replicas available for rdd_71_247 !\n",
      "25/06/18 18:17:23 WARN BlockManagerMasterEndpoint: No more replicas available for rdd_38_109 !\n",
      "25/06/18 18:17:23 WARN BlockManagerMasterEndpoint: No more replicas available for rdd_156_244 !\n",
      "25/06/18 18:17:23 WARN BlockManagerMasterEndpoint: No more replicas available for rdd_71_208 !\n",
      "25/06/18 18:17:23 WARN BlockManagerMasterEndpoint: No more replicas available for rdd_156_289 !\n",
      "25/06/18 18:17:23 WARN BlockManagerMasterEndpoint: No more replicas available for rdd_150_270 !\n",
      "25/06/18 18:17:23 WARN BlockManagerMasterEndpoint: No more replicas available for rdd_156_363 !\n",
      "25/06/18 18:17:23 WARN BlockManagerMasterEndpoint: No more replicas available for rdd_38_175 !\n",
      "25/06/18 18:17:23 WARN BlockManagerMasterEndpoint: No more replicas available for rdd_150_139 !\n",
      "25/06/18 18:17:23 WARN BlockManagerMasterEndpoint: No more replicas available for rdd_150_219 !\n",
      "25/06/18 18:17:23 WARN BlockManagerMasterEndpoint: No more replicas available for rdd_156_46 !\n",
      "25/06/18 18:17:23 WARN BlockManagerMasterEndpoint: No more replicas available for rdd_150_80 !\n",
      "25/06/18 18:17:23 WARN BlockManagerMasterEndpoint: No more replicas available for rdd_150_324 !\n",
      "25/06/18 18:17:23 WARN BlockManagerMasterEndpoint: No more replicas available for rdd_150_159 !\n",
      "25/06/18 18:17:23 WARN BlockManagerMasterEndpoint: No more replicas available for rdd_150_4 !\n",
      "25/06/18 18:17:23 WARN BlockManagerMasterEndpoint: No more replicas available for rdd_150_398 !\n",
      "25/06/18 18:17:23 WARN BlockManagerMasterEndpoint: No more replicas available for rdd_71_307 !\n",
      "25/06/18 18:17:23 WARN BlockManagerMasterEndpoint: No more replicas available for rdd_71_204 !\n",
      "25/06/18 18:17:23 WARN BlockManagerMasterEndpoint: No more replicas available for rdd_156_394 !\n",
      "25/06/18 18:17:23 WARN BlockManagerMasterEndpoint: No more replicas available for rdd_150_340 !\n",
      "25/06/18 18:17:23 WARN BlockManagerMasterEndpoint: No more replicas available for rdd_156_385 !\n",
      "25/06/18 18:17:23 WARN BlockManagerMasterEndpoint: No more replicas available for rdd_38_21 !\n",
      "25/06/18 18:17:23 WARN BlockManagerMasterEndpoint: No more replicas available for rdd_150_280 !\n",
      "25/06/18 18:17:23 WARN BlockManagerMasterEndpoint: No more replicas available for rdd_150_342 !\n",
      "25/06/18 18:17:23 WARN BlockManagerMasterEndpoint: No more replicas available for rdd_71_359 !\n",
      "25/06/18 18:17:23 WARN BlockManagerMasterEndpoint: No more replicas available for rdd_71_36 !\n",
      "25/06/18 18:17:23 WARN BlockManagerMasterEndpoint: No more replicas available for rdd_156_75 !\n",
      "25/06/18 18:17:23 WARN BlockManagerMasterEndpoint: No more replicas available for rdd_156_361 !\n",
      "25/06/18 18:17:23 WARN BlockManagerMasterEndpoint: No more replicas available for rdd_156_204 !\n",
      "25/06/18 18:17:23 WARN BlockManagerMasterEndpoint: No more replicas available for rdd_150_28 !\n",
      "25/06/18 18:17:23 WARN BlockManagerMasterEndpoint: No more replicas available for rdd_156_342 !\n",
      "25/06/18 18:17:23 WARN BlockManagerMasterEndpoint: No more replicas available for rdd_150_44 !\n",
      "25/06/18 18:17:23 WARN BlockManagerMasterEndpoint: No more replicas available for rdd_156_87 !\n",
      "25/06/18 18:17:23 WARN BlockManagerMasterEndpoint: No more replicas available for rdd_71_280 !\n",
      "25/06/18 18:17:23 WARN BlockManagerMasterEndpoint: No more replicas available for rdd_150_67 !\n",
      "25/06/18 18:17:24 WARN YarnAllocator: Container from a bad node: container_1750267550096_0005_01_000002 on host: jr-temp-m.c.open-targets-eu-dev.internal. Exit status: 137. Diagnostics: [2025-06-18 18:17:24.102]Container killed on request. Exit code is 137\n",
      "[2025-06-18 18:17:24.102]Container exited with a non-zero exit code 137. \n",
      "[2025-06-18 18:17:24.103]Killed by external signal\n",
      ".\n",
      "25/06/18 18:17:24 ERROR YarnScheduler: Lost executor 2 on jr-temp-m.c.open-targets-eu-dev.internal: Container from a bad node: container_1750267550096_0005_01_000002 on host: jr-temp-m.c.open-targets-eu-dev.internal. Exit status: 137. Diagnostics: [2025-06-18 18:17:24.102]Container killed on request. Exit code is 137\n",
      "[2025-06-18 18:17:24.102]Container exited with a non-zero exit code 137. \n",
      "[2025-06-18 18:17:24.103]Killed by external signal\n",
      ".\n",
      "25/06/18 18:17:24 WARN YarnSchedulerBackend$YarnSchedulerEndpoint: Requesting driver to remove executor 2 for reason Container from a bad node: container_1750267550096_0005_01_000002 on host: jr-temp-m.c.open-targets-eu-dev.internal. Exit status: 137. Diagnostics: [2025-06-18 18:17:24.102]Container killed on request. Exit code is 137\n",
      "[2025-06-18 18:17:24.102]Container exited with a non-zero exit code 137. \n",
      "[2025-06-18 18:17:24.103]Killed by external signal\n",
      ".\n",
      "25/06/18 18:17:24 WARN TaskSetManager: Lost task 61.0 in stage 619.0 (TID 26430) (jr-temp-m.c.open-targets-eu-dev.internal executor 2): ExecutorLostFailure (executor 2 exited caused by one of the running tasks) Reason: Container from a bad node: container_1750267550096_0005_01_000002 on host: jr-temp-m.c.open-targets-eu-dev.internal. Exit status: 137. Diagnostics: [2025-06-18 18:17:24.102]Container killed on request. Exit code is 137\n",
      "[2025-06-18 18:17:24.102]Container exited with a non-zero exit code 137. \n",
      "[2025-06-18 18:17:24.103]Killed by external signal\n",
      ".\n",
      "25/06/18 18:17:24 WARN TaskSetManager: Lost task 40.0 in stage 619.0 (TID 26409) (jr-temp-m.c.open-targets-eu-dev.internal executor 2): ExecutorLostFailure (executor 2 exited caused by one of the running tasks) Reason: Container from a bad node: container_1750267550096_0005_01_000002 on host: jr-temp-m.c.open-targets-eu-dev.internal. Exit status: 137. Diagnostics: [2025-06-18 18:17:24.102]Container killed on request. Exit code is 137\n",
      "[2025-06-18 18:17:24.102]Container exited with a non-zero exit code 137. \n",
      "[2025-06-18 18:17:24.103]Killed by external signal\n",
      ".\n",
      "25/06/18 18:17:24 WARN TaskSetManager: Lost task 16.0 in stage 619.0 (TID 26385) (jr-temp-m.c.open-targets-eu-dev.internal executor 2): ExecutorLostFailure (executor 2 exited caused by one of the running tasks) Reason: Container from a bad node: container_1750267550096_0005_01_000002 on host: jr-temp-m.c.open-targets-eu-dev.internal. Exit status: 137. Diagnostics: [2025-06-18 18:17:24.102]Container killed on request. Exit code is 137\n",
      "[2025-06-18 18:17:24.102]Container exited with a non-zero exit code 137. \n",
      "[2025-06-18 18:17:24.103]Killed by external signal\n",
      ".\n",
      "25/06/18 18:17:24 WARN TaskSetManager: Lost task 24.0 in stage 619.0 (TID 26393) (jr-temp-m.c.open-targets-eu-dev.internal executor 2): ExecutorLostFailure (executor 2 exited caused by one of the running tasks) Reason: Container from a bad node: container_1750267550096_0005_01_000002 on host: jr-temp-m.c.open-targets-eu-dev.internal. Exit status: 137. Diagnostics: [2025-06-18 18:17:24.102]Container killed on request. Exit code is 137\n",
      "[2025-06-18 18:17:24.102]Container exited with a non-zero exit code 137. \n",
      "[2025-06-18 18:17:24.103]Killed by external signal\n",
      ".\n",
      "25/06/18 18:17:24 WARN TaskSetManager: Lost task 0.0 in stage 619.0 (TID 26369) (jr-temp-m.c.open-targets-eu-dev.internal executor 2): ExecutorLostFailure (executor 2 exited caused by one of the running tasks) Reason: Container from a bad node: container_1750267550096_0005_01_000002 on host: jr-temp-m.c.open-targets-eu-dev.internal. Exit status: 137. Diagnostics: [2025-06-18 18:17:24.102]Container killed on request. Exit code is 137\n",
      "[2025-06-18 18:17:24.102]Container exited with a non-zero exit code 137. \n",
      "[2025-06-18 18:17:24.103]Killed by external signal\n",
      ".\n",
      "25/06/18 18:17:24 WARN TaskSetManager: Lost task 32.0 in stage 619.0 (TID 26401) (jr-temp-m.c.open-targets-eu-dev.internal executor 2): ExecutorLostFailure (executor 2 exited caused by one of the running tasks) Reason: Container from a bad node: container_1750267550096_0005_01_000002 on host: jr-temp-m.c.open-targets-eu-dev.internal. Exit status: 137. Diagnostics: [2025-06-18 18:17:24.102]Container killed on request. Exit code is 137\n",
      "[2025-06-18 18:17:24.102]Container exited with a non-zero exit code 137. \n",
      "[2025-06-18 18:17:24.103]Killed by external signal\n",
      ".\n",
      "25/06/18 18:17:24 WARN TaskSetManager: Lost task 62.0 in stage 619.0 (TID 26431) (jr-temp-m.c.open-targets-eu-dev.internal executor 2): ExecutorLostFailure (executor 2 exited caused by one of the running tasks) Reason: Container from a bad node: container_1750267550096_0005_01_000002 on host: jr-temp-m.c.open-targets-eu-dev.internal. Exit status: 137. Diagnostics: [2025-06-18 18:17:24.102]Container killed on request. Exit code is 137\n",
      "[2025-06-18 18:17:24.102]Container exited with a non-zero exit code 137. \n",
      "[2025-06-18 18:17:24.103]Killed by external signal\n",
      ".\n",
      "25/06/18 18:17:24 WARN TaskSetManager: Lost task 8.0 in stage 619.0 (TID 26377) (jr-temp-m.c.open-targets-eu-dev.internal executor 2): ExecutorLostFailure (executor 2 exited caused by one of the running tasks) Reason: Container from a bad node: container_1750267550096_0005_01_000002 on host: jr-temp-m.c.open-targets-eu-dev.internal. Exit status: 137. Diagnostics: [2025-06-18 18:17:24.102]Container killed on request. Exit code is 137\n",
      "[2025-06-18 18:17:24.102]Container exited with a non-zero exit code 137. \n",
      "[2025-06-18 18:17:24.103]Killed by external signal\n",
      ".\n",
      "                                                                                \r"
     ]
    },
    {
     "name": "stdout",
     "output_type": "stream",
     "text": [
      "There are  36 columns to analyse with phases\n"
     ]
    },
    {
     "name": "stderr",
     "output_type": "stream",
     "text": [
      "                                                                                \r"
     ]
    }
   ],
   "source": [
    "result = []\n",
    "result_st = []\n",
    "result_ci = []\n",
    "array2 = []\n",
    "listado = []\n",
    "result_all = []\n",
    "today_date = str(date.today())\n",
    "\n",
    "##### PROJECT ID ###### \n",
    "print('working with projectId')\n",
    "pivoted_dfs['projectId'].persist()\n",
    "unique_values = benchmark.select('projectId').filter(F.col('projectId').isNotNull()).distinct().rdd.flatMap(lambda x: x).collect()\n",
    "filter = len(pivoted_dfs['projectId'].drop(*unique_values).columns[10:])\n",
    "print('There are ', filter, 'columns to analyse with phases')\n",
    "rows = comparisons_df_iterative(pivoted_dfs['projectId'].columns[-filter:])\n"
   ]
  },
  {
   "cell_type": "code",
   "execution_count": 23,
   "metadata": {},
   "outputs": [
    {
     "data": {
      "text/plain": [
       "['HipSci_only',\n",
       " 'Nedelec_2016_only',\n",
       " 'GTEx_only',\n",
       " 'Schmiedel_2018_only',\n",
       " 'Jerber_2021_only',\n",
       " 'BLUEPRINT_only',\n",
       " 'Quach_2016_only',\n",
       " 'BrainSeq_only',\n",
       " 'UKB_PPP_EUR_only',\n",
       " 'FUSION_only',\n",
       " 'Sun_2018_only',\n",
       " 'ROSMAP_only',\n",
       " 'Alasoo_2018_only',\n",
       " 'GENCORD_only',\n",
       " 'GEUVADIS_only',\n",
       " 'Lepik_2017_only',\n",
       " 'TwinsUK_only',\n",
       " 'CommonMind_only',\n",
       " 'PhLiPS_only',\n",
       " 'van_de_Bunt_2015_only',\n",
       " 'Bossini-Castillo_2019_only',\n",
       " 'Aygun_2021_only',\n",
       " 'Fairfax_2012_only',\n",
       " 'Peng_2018_only',\n",
       " 'CAP_only',\n",
       " 'Fairfax_2014_only',\n",
       " 'Cytoimmgen_only',\n",
       " 'Schwartzentruber_2018_only',\n",
       " 'PISA_only',\n",
       " 'Walker_2019_only',\n",
       " 'CEDAR_only',\n",
       " 'Braineac2_only',\n",
       " 'iPSCORE_only',\n",
       " 'Young_2019_only',\n",
       " 'Kim-Hellmuth_2017_only',\n",
       " 'Perez_2022_only',\n",
       " 'OneK1K_only',\n",
       " 'Kasela_2017_only']"
      ]
     },
     "execution_count": 23,
     "metadata": {},
     "output_type": "execute_result"
    }
   ],
   "source": [
    "pivoted_dfs['projectId'].drop(*unique_values).columns[10:]"
   ]
  },
  {
   "cell_type": "code",
   "execution_count": 28,
   "metadata": {},
   "outputs": [
    {
     "name": "stdout",
     "output_type": "stream",
     "text": [
      "working with projectId\n"
     ]
    },
    {
     "name": "stderr",
     "output_type": "stream",
     "text": [
      "25/06/18 18:24:56 WARN CacheManager: Asked to cache already cached data.\n",
      "                                                                                \r"
     ]
    },
    {
     "name": "stdout",
     "output_type": "stream",
     "text": [
      "There are  38 columns to analyse with phases\n"
     ]
    },
    {
     "name": "stderr",
     "output_type": "stream",
     "text": [
      "                                                                                \r"
     ]
    },
    {
     "ename": "AnalysisException",
     "evalue": "[UNRESOLVED_COLUMN.WITH_SUGGESTION] A column or function parameter with name `Phase4` cannot be resolved. Did you mean one of the following? [`PhaseT`, `Phase>=4`, `Phase>=1`, `Phase>=2`, `Phase>=3`].;\n'Project [targetId#2088, diseaseId#2170, maxClinPhase#6197, null#23898, Alasoo_2018#23900, Aygun_2021#23902, BLUEPRINT#23904, Bossini-Castillo_2019#23906, BrainSeq#23908, Braineac2#23910, CAP#23912, CEDAR#23914, CommonMind#23916, Cytoimmgen#23918, FUSION#23920, Fairfax_2012#23922, Fairfax_2014#23924, GENCORD#23926, GEUVADIS#23928, GTEx#23930, HipSci#23932, Jerber_2021#23934, Kasela_2017#23936, Kim-Hellmuth_2017#23938, ... 66 more fields]\n+- Project [targetId#2088, diseaseId#2170, maxClinPhase#6197, null#23898, Alasoo_2018#23900, Aygun_2021#23902, BLUEPRINT#23904, Bossini-Castillo_2019#23906, BrainSeq#23908, Braineac2#23910, CAP#23912, CEDAR#23914, CommonMind#23916, Cytoimmgen#23918, FUSION#23920, Fairfax_2012#23922, Fairfax_2014#23924, GENCORD#23926, GEUVADIS#23928, GTEx#23930, HipSci#23932, Jerber_2021#23934, Kasela_2017#23936, Kim-Hellmuth_2017#23938, ... 65 more fields]\n   +- Project [targetId#2088, diseaseId#2170, maxClinPhase#6197, null#23898, Alasoo_2018#23900, Aygun_2021#23902, BLUEPRINT#23904, Bossini-Castillo_2019#23906, BrainSeq#23908, Braineac2#23910, CAP#23912, CEDAR#23914, CommonMind#23916, Cytoimmgen#23918, FUSION#23920, Fairfax_2012#23922, Fairfax_2014#23924, GENCORD#23926, GEUVADIS#23928, GTEx#23930, HipSci#23932, Jerber_2021#23934, Kasela_2017#23936, Kim-Hellmuth_2017#23938, ... 64 more fields]\n      +- Project [targetId#2088, diseaseId#2170, maxClinPhase#6197, null#23898, Alasoo_2018#23900, Aygun_2021#23902, BLUEPRINT#23904, Bossini-Castillo_2019#23906, BrainSeq#23908, Braineac2#23910, CAP#23912, CEDAR#23914, CommonMind#23916, Cytoimmgen#23918, FUSION#23920, Fairfax_2012#23922, Fairfax_2014#23924, GENCORD#23926, GEUVADIS#23928, GTEx#23930, HipSci#23932, Jerber_2021#23934, Kasela_2017#23936, Kim-Hellmuth_2017#23938, ... 63 more fields]\n         +- Project [targetId#2088, diseaseId#2170, maxClinPhase#6197, null#23898, Alasoo_2018#23900, Aygun_2021#23902, BLUEPRINT#23904, Bossini-Castillo_2019#23906, BrainSeq#23908, Braineac2#23910, CAP#23912, CEDAR#23914, CommonMind#23916, Cytoimmgen#23918, FUSION#23920, Fairfax_2012#23922, Fairfax_2014#23924, GENCORD#23926, GEUVADIS#23928, GTEx#23930, HipSci#23932, Jerber_2021#23934, Kasela_2017#23936, Kim-Hellmuth_2017#23938, ... 62 more fields]\n            +- Project [targetId#2088, diseaseId#2170, maxClinPhase#6197, null#23898, Alasoo_2018#23900, Aygun_2021#23902, BLUEPRINT#23904, Bossini-Castillo_2019#23906, BrainSeq#23908, Braineac2#23910, CAP#23912, CEDAR#23914, CommonMind#23916, Cytoimmgen#23918, FUSION#23920, Fairfax_2012#23922, Fairfax_2014#23924, GENCORD#23926, GEUVADIS#23928, GTEx#23930, HipSci#23932, Jerber_2021#23934, Kasela_2017#23936, Kim-Hellmuth_2017#23938, ... 61 more fields]\n               +- Project [targetId#2088, diseaseId#2170, maxClinPhase#6197, null#23898, Alasoo_2018#23900, Aygun_2021#23902, BLUEPRINT#23904, Bossini-Castillo_2019#23906, BrainSeq#23908, Braineac2#23910, CAP#23912, CEDAR#23914, CommonMind#23916, Cytoimmgen#23918, FUSION#23920, Fairfax_2012#23922, Fairfax_2014#23924, GENCORD#23926, GEUVADIS#23928, GTEx#23930, HipSci#23932, Jerber_2021#23934, Kasela_2017#23936, Kim-Hellmuth_2017#23938, ... 60 more fields]\n                  +- Project [targetId#2088, diseaseId#2170, maxClinPhase#6197, null#23898, Alasoo_2018#23900, Aygun_2021#23902, BLUEPRINT#23904, Bossini-Castillo_2019#23906, BrainSeq#23908, Braineac2#23910, CAP#23912, CEDAR#23914, CommonMind#23916, Cytoimmgen#23918, FUSION#23920, Fairfax_2012#23922, Fairfax_2014#23924, GENCORD#23926, GEUVADIS#23928, GTEx#23930, HipSci#23932, Jerber_2021#23934, Kasela_2017#23936, Kim-Hellmuth_2017#23938, ... 59 more fields]\n                     +- Project [targetId#2088, diseaseId#2170, maxClinPhase#6197, null#23898, Alasoo_2018#23900, Aygun_2021#23902, BLUEPRINT#23904, Bossini-Castillo_2019#23906, BrainSeq#23908, Braineac2#23910, CAP#23912, CEDAR#23914, CommonMind#23916, Cytoimmgen#23918, FUSION#23920, Fairfax_2012#23922, Fairfax_2014#23924, GENCORD#23926, GEUVADIS#23928, GTEx#23930, HipSci#23932, Jerber_2021#23934, Kasela_2017#23936, Kim-Hellmuth_2017#23938, ... 58 more fields]\n                        +- Project [targetId#2088, diseaseId#2170, maxClinPhase#6197, null#23898, Alasoo_2018#23900, Aygun_2021#23902, BLUEPRINT#23904, Bossini-Castillo_2019#23906, BrainSeq#23908, Braineac2#23910, CAP#23912, CEDAR#23914, CommonMind#23916, Cytoimmgen#23918, FUSION#23920, Fairfax_2012#23922, Fairfax_2014#23924, GENCORD#23926, GEUVADIS#23928, GTEx#23930, HipSci#23932, Jerber_2021#23934, Kasela_2017#23936, Kim-Hellmuth_2017#23938, ... 57 more fields]\n                           +- Project [targetId#2088, diseaseId#2170, maxClinPhase#6197, null#23898, Alasoo_2018#23900, Aygun_2021#23902, BLUEPRINT#23904, Bossini-Castillo_2019#23906, BrainSeq#23908, Braineac2#23910, CAP#23912, CEDAR#23914, CommonMind#23916, Cytoimmgen#23918, FUSION#23920, Fairfax_2012#23922, Fairfax_2014#23924, GENCORD#23926, GEUVADIS#23928, GTEx#23930, HipSci#23932, Jerber_2021#23934, Kasela_2017#23936, Kim-Hellmuth_2017#23938, ... 56 more fields]\n                              +- Project [targetId#2088, diseaseId#2170, maxClinPhase#6197, null#23898, Alasoo_2018#23900, Aygun_2021#23902, BLUEPRINT#23904, Bossini-Castillo_2019#23906, BrainSeq#23908, Braineac2#23910, CAP#23912, CEDAR#23914, CommonMind#23916, Cytoimmgen#23918, FUSION#23920, Fairfax_2012#23922, Fairfax_2014#23924, GENCORD#23926, GEUVADIS#23928, GTEx#23930, HipSci#23932, Jerber_2021#23934, Kasela_2017#23936, Kim-Hellmuth_2017#23938, ... 55 more fields]\n                                 +- Project [targetId#2088, diseaseId#2170, maxClinPhase#6197, null#23898, Alasoo_2018#23900, Aygun_2021#23902, BLUEPRINT#23904, Bossini-Castillo_2019#23906, BrainSeq#23908, Braineac2#23910, CAP#23912, CEDAR#23914, CommonMind#23916, Cytoimmgen#23918, FUSION#23920, Fairfax_2012#23922, Fairfax_2014#23924, GENCORD#23926, GEUVADIS#23928, GTEx#23930, HipSci#23932, Jerber_2021#23934, Kasela_2017#23936, Kim-Hellmuth_2017#23938, ... 54 more fields]\n                                    +- Project [targetId#2088, diseaseId#2170, maxClinPhase#6197, null#23898, Alasoo_2018#23900, Aygun_2021#23902, BLUEPRINT#23904, Bossini-Castillo_2019#23906, BrainSeq#23908, Braineac2#23910, CAP#23912, CEDAR#23914, CommonMind#23916, Cytoimmgen#23918, FUSION#23920, Fairfax_2012#23922, Fairfax_2014#23924, GENCORD#23926, GEUVADIS#23928, GTEx#23930, HipSci#23932, Jerber_2021#23934, Kasela_2017#23936, Kim-Hellmuth_2017#23938, ... 53 more fields]\n                                       +- Project [targetId#2088, diseaseId#2170, maxClinPhase#6197, null#23898, Alasoo_2018#23900, Aygun_2021#23902, BLUEPRINT#23904, Bossini-Castillo_2019#23906, BrainSeq#23908, Braineac2#23910, CAP#23912, CEDAR#23914, CommonMind#23916, Cytoimmgen#23918, FUSION#23920, Fairfax_2012#23922, Fairfax_2014#23924, GENCORD#23926, GEUVADIS#23928, GTEx#23930, HipSci#23932, Jerber_2021#23934, Kasela_2017#23936, Kim-Hellmuth_2017#23938, ... 52 more fields]\n                                          +- Project [targetId#2088, diseaseId#2170, maxClinPhase#6197, null#23898, Alasoo_2018#23900, Aygun_2021#23902, BLUEPRINT#23904, Bossini-Castillo_2019#23906, BrainSeq#23908, Braineac2#23910, CAP#23912, CEDAR#23914, CommonMind#23916, Cytoimmgen#23918, FUSION#23920, Fairfax_2012#23922, Fairfax_2014#23924, GENCORD#23926, GEUVADIS#23928, GTEx#23930, HipSci#23932, Jerber_2021#23934, Kasela_2017#23936, Kim-Hellmuth_2017#23938, ... 51 more fields]\n                                             +- Project [targetId#2088, diseaseId#2170, maxClinPhase#6197, null#23898, Alasoo_2018#23900, Aygun_2021#23902, BLUEPRINT#23904, Bossini-Castillo_2019#23906, BrainSeq#23908, Braineac2#23910, CAP#23912, CEDAR#23914, CommonMind#23916, Cytoimmgen#23918, FUSION#23920, Fairfax_2012#23922, Fairfax_2014#23924, GENCORD#23926, GEUVADIS#23928, GTEx#23930, HipSci#23932, Jerber_2021#23934, Kasela_2017#23936, Kim-Hellmuth_2017#23938, ... 50 more fields]\n                                                +- Project [targetId#2088, diseaseId#2170, maxClinPhase#6197, null#23898, Alasoo_2018#23900, Aygun_2021#23902, BLUEPRINT#23904, Bossini-Castillo_2019#23906, BrainSeq#23908, Braineac2#23910, CAP#23912, CEDAR#23914, CommonMind#23916, Cytoimmgen#23918, FUSION#23920, Fairfax_2012#23922, Fairfax_2014#23924, GENCORD#23926, GEUVADIS#23928, GTEx#23930, HipSci#23932, Jerber_2021#23934, Kasela_2017#23936, Kim-Hellmuth_2017#23938, ... 49 more fields]\n                                                   +- Project [targetId#2088, diseaseId#2170, maxClinPhase#6197, null#23898, Alasoo_2018#23900, Aygun_2021#23902, BLUEPRINT#23904, Bossini-Castillo_2019#23906, BrainSeq#23908, Braineac2#23910, CAP#23912, CEDAR#23914, CommonMind#23916, Cytoimmgen#23918, FUSION#23920, Fairfax_2012#23922, Fairfax_2014#23924, GENCORD#23926, GEUVADIS#23928, GTEx#23930, HipSci#23932, Jerber_2021#23934, Kasela_2017#23936, Kim-Hellmuth_2017#23938, ... 48 more fields]\n                                                      +- Project [targetId#2088, diseaseId#2170, maxClinPhase#6197, null#23898, Alasoo_2018#23900, Aygun_2021#23902, BLUEPRINT#23904, Bossini-Castillo_2019#23906, BrainSeq#23908, Braineac2#23910, CAP#23912, CEDAR#23914, CommonMind#23916, Cytoimmgen#23918, FUSION#23920, Fairfax_2012#23922, Fairfax_2014#23924, GENCORD#23926, GEUVADIS#23928, GTEx#23930, HipSci#23932, Jerber_2021#23934, Kasela_2017#23936, Kim-Hellmuth_2017#23938, ... 47 more fields]\n                                                         +- Project [targetId#2088, diseaseId#2170, maxClinPhase#6197, null#23898, Alasoo_2018#23900, Aygun_2021#23902, BLUEPRINT#23904, Bossini-Castillo_2019#23906, BrainSeq#23908, Braineac2#23910, CAP#23912, CEDAR#23914, CommonMind#23916, Cytoimmgen#23918, FUSION#23920, Fairfax_2012#23922, Fairfax_2014#23924, GENCORD#23926, GEUVADIS#23928, GTEx#23930, HipSci#23932, Jerber_2021#23934, Kasela_2017#23936, Kim-Hellmuth_2017#23938, ... 46 more fields]\n                                                            +- Project [targetId#2088, diseaseId#2170, maxClinPhase#6197, null#23898, Alasoo_2018#23900, Aygun_2021#23902, BLUEPRINT#23904, Bossini-Castillo_2019#23906, BrainSeq#23908, Braineac2#23910, CAP#23912, CEDAR#23914, CommonMind#23916, Cytoimmgen#23918, FUSION#23920, Fairfax_2012#23922, Fairfax_2014#23924, GENCORD#23926, GEUVADIS#23928, GTEx#23930, HipSci#23932, Jerber_2021#23934, Kasela_2017#23936, Kim-Hellmuth_2017#23938, ... 45 more fields]\n                                                               +- Project [targetId#2088, diseaseId#2170, maxClinPhase#6197, null#23898, Alasoo_2018#23900, Aygun_2021#23902, BLUEPRINT#23904, Bossini-Castillo_2019#23906, BrainSeq#23908, Braineac2#23910, CAP#23912, CEDAR#23914, CommonMind#23916, Cytoimmgen#23918, FUSION#23920, Fairfax_2012#23922, Fairfax_2014#23924, GENCORD#23926, GEUVADIS#23928, GTEx#23930, HipSci#23932, Jerber_2021#23934, Kasela_2017#23936, Kim-Hellmuth_2017#23938, ... 44 more fields]\n                                                                  +- Project [targetId#2088, diseaseId#2170, maxClinPhase#6197, null#23898, Alasoo_2018#23900, Aygun_2021#23902, BLUEPRINT#23904, Bossini-Castillo_2019#23906, BrainSeq#23908, Braineac2#23910, CAP#23912, CEDAR#23914, CommonMind#23916, Cytoimmgen#23918, FUSION#23920, Fairfax_2012#23922, Fairfax_2014#23924, GENCORD#23926, GEUVADIS#23928, GTEx#23930, HipSci#23932, Jerber_2021#23934, Kasela_2017#23936, Kim-Hellmuth_2017#23938, ... 43 more fields]\n                                                                     +- Project [targetId#2088, diseaseId#2170, maxClinPhase#6197, null#23898, Alasoo_2018#23900, Aygun_2021#23902, BLUEPRINT#23904, Bossini-Castillo_2019#23906, BrainSeq#23908, Braineac2#23910, CAP#23912, CEDAR#23914, CommonMind#23916, Cytoimmgen#23918, FUSION#23920, Fairfax_2012#23922, Fairfax_2014#23924, GENCORD#23926, GEUVADIS#23928, GTEx#23930, HipSci#23932, Jerber_2021#23934, Kasela_2017#23936, Kim-Hellmuth_2017#23938, ... 42 more fields]\n                                                                        +- Project [targetId#2088, diseaseId#2170, maxClinPhase#6197, null#23898, Alasoo_2018#23900, Aygun_2021#23902, BLUEPRINT#23904, Bossini-Castillo_2019#23906, BrainSeq#23908, Braineac2#23910, CAP#23912, CEDAR#23914, CommonMind#23916, Cytoimmgen#23918, FUSION#23920, Fairfax_2012#23922, Fairfax_2014#23924, GENCORD#23926, GEUVADIS#23928, GTEx#23930, HipSci#23932, Jerber_2021#23934, Kasela_2017#23936, Kim-Hellmuth_2017#23938, ... 41 more fields]\n                                                                           +- Project [targetId#2088, diseaseId#2170, maxClinPhase#6197, null#23898, Alasoo_2018#23900, Aygun_2021#23902, BLUEPRINT#23904, Bossini-Castillo_2019#23906, BrainSeq#23908, Braineac2#23910, CAP#23912, CEDAR#23914, CommonMind#23916, Cytoimmgen#23918, FUSION#23920, Fairfax_2012#23922, Fairfax_2014#23924, GENCORD#23926, GEUVADIS#23928, GTEx#23930, HipSci#23932, Jerber_2021#23934, Kasela_2017#23936, Kim-Hellmuth_2017#23938, ... 40 more fields]\n                                                                              +- Project [targetId#2088, diseaseId#2170, maxClinPhase#6197, null#23898, Alasoo_2018#23900, Aygun_2021#23902, BLUEPRINT#23904, Bossini-Castillo_2019#23906, BrainSeq#23908, Braineac2#23910, CAP#23912, CEDAR#23914, CommonMind#23916, Cytoimmgen#23918, FUSION#23920, Fairfax_2012#23922, Fairfax_2014#23924, GENCORD#23926, GEUVADIS#23928, GTEx#23930, HipSci#23932, Jerber_2021#23934, Kasela_2017#23936, Kim-Hellmuth_2017#23938, ... 39 more fields]\n                                                                                 +- Project [targetId#2088, diseaseId#2170, maxClinPhase#6197, null#23898, Alasoo_2018#23900, Aygun_2021#23902, BLUEPRINT#23904, Bossini-Castillo_2019#23906, BrainSeq#23908, Braineac2#23910, CAP#23912, CEDAR#23914, CommonMind#23916, Cytoimmgen#23918, FUSION#23920, Fairfax_2012#23922, Fairfax_2014#23924, GENCORD#23926, GEUVADIS#23928, GTEx#23930, HipSci#23932, Jerber_2021#23934, Kasela_2017#23936, Kim-Hellmuth_2017#23938, ... 38 more fields]\n                                                                                    +- Project [targetId#2088, diseaseId#2170, maxClinPhase#6197, null#23898, Alasoo_2018#23900, Aygun_2021#23902, BLUEPRINT#23904, Bossini-Castillo_2019#23906, BrainSeq#23908, Braineac2#23910, CAP#23912, CEDAR#23914, CommonMind#23916, Cytoimmgen#23918, FUSION#23920, Fairfax_2012#23922, Fairfax_2014#23924, GENCORD#23926, GEUVADIS#23928, GTEx#23930, HipSci#23932, Jerber_2021#23934, Kasela_2017#23936, Kim-Hellmuth_2017#23938, ... 37 more fields]\n                                                                                       +- Project [targetId#2088, diseaseId#2170, maxClinPhase#6197, null#23898, Alasoo_2018#23900, Aygun_2021#23902, BLUEPRINT#23904, Bossini-Castillo_2019#23906, BrainSeq#23908, Braineac2#23910, CAP#23912, CEDAR#23914, CommonMind#23916, Cytoimmgen#23918, FUSION#23920, Fairfax_2012#23922, Fairfax_2014#23924, GENCORD#23926, GEUVADIS#23928, GTEx#23930, HipSci#23932, Jerber_2021#23934, Kasela_2017#23936, Kim-Hellmuth_2017#23938, ... 36 more fields]\n                                                                                          +- Project [targetId#2088, diseaseId#2170, maxClinPhase#6197, null#23898, Alasoo_2018#23900, Aygun_2021#23902, BLUEPRINT#23904, Bossini-Castillo_2019#23906, BrainSeq#23908, Braineac2#23910, CAP#23912, CEDAR#23914, CommonMind#23916, Cytoimmgen#23918, FUSION#23920, Fairfax_2012#23922, Fairfax_2014#23924, GENCORD#23926, GEUVADIS#23928, GTEx#23930, HipSci#23932, Jerber_2021#23934, Kasela_2017#23936, Kim-Hellmuth_2017#23938, ... 35 more fields]\n                                                                                             +- Project [targetId#2088, diseaseId#2170, maxClinPhase#6197, null#23898, Alasoo_2018#23900, Aygun_2021#23902, BLUEPRINT#23904, Bossini-Castillo_2019#23906, BrainSeq#23908, Braineac2#23910, CAP#23912, CEDAR#23914, CommonMind#23916, Cytoimmgen#23918, FUSION#23920, Fairfax_2012#23922, Fairfax_2014#23924, GENCORD#23926, GEUVADIS#23928, GTEx#23930, HipSci#23932, Jerber_2021#23934, Kasela_2017#23936, Kim-Hellmuth_2017#23938, ... 34 more fields]\n                                                                                                +- Project [targetId#2088, diseaseId#2170, maxClinPhase#6197, null#23898, Alasoo_2018#23900, Aygun_2021#23902, BLUEPRINT#23904, Bossini-Castillo_2019#23906, BrainSeq#23908, Braineac2#23910, CAP#23912, CEDAR#23914, CommonMind#23916, Cytoimmgen#23918, FUSION#23920, Fairfax_2012#23922, Fairfax_2014#23924, GENCORD#23926, GEUVADIS#23928, GTEx#23930, HipSci#23932, Jerber_2021#23934, Kasela_2017#23936, Kim-Hellmuth_2017#23938, ... 33 more fields]\n                                                                                                   +- Project [targetId#2088, diseaseId#2170, maxClinPhase#6197, null#23898, Alasoo_2018#23900, Aygun_2021#23902, BLUEPRINT#23904, Bossini-Castillo_2019#23906, BrainSeq#23908, Braineac2#23910, CAP#23912, CEDAR#23914, CommonMind#23916, Cytoimmgen#23918, FUSION#23920, Fairfax_2012#23922, Fairfax_2014#23924, GENCORD#23926, GEUVADIS#23928, GTEx#23930, HipSci#23932, Jerber_2021#23934, Kasela_2017#23936, Kim-Hellmuth_2017#23938, ... 32 more fields]\n                                                                                                      +- Project [targetId#2088, diseaseId#2170, maxClinPhase#6197, null#23898, Alasoo_2018#23900, Aygun_2021#23902, BLUEPRINT#23904, Bossini-Castillo_2019#23906, BrainSeq#23908, Braineac2#23910, CAP#23912, CEDAR#23914, CommonMind#23916, Cytoimmgen#23918, FUSION#23920, Fairfax_2012#23922, Fairfax_2014#23924, GENCORD#23926, GEUVADIS#23928, GTEx#23930, HipSci#23932, Jerber_2021#23934, Kasela_2017#23936, Kim-Hellmuth_2017#23938, ... 31 more fields]\n                                                                                                         +- Project [targetId#2088, diseaseId#2170, maxClinPhase#6197, null#23898, Alasoo_2018#23900, Aygun_2021#23902, BLUEPRINT#23904, Bossini-Castillo_2019#23906, BrainSeq#23908, Braineac2#23910, CAP#23912, CEDAR#23914, CommonMind#23916, Cytoimmgen#23918, FUSION#23920, Fairfax_2012#23922, Fairfax_2014#23924, GENCORD#23926, GEUVADIS#23928, GTEx#23930, HipSci#23932, Jerber_2021#23934, Kasela_2017#23936, Kim-Hellmuth_2017#23938, ... 30 more fields]\n                                                                                                            +- Project [targetId#2088, diseaseId#2170, maxClinPhase#6197, null#23898, Alasoo_2018#23900, Aygun_2021#23902, BLUEPRINT#23904, Bossini-Castillo_2019#23906, BrainSeq#23908, Braineac2#23910, CAP#23912, CEDAR#23914, CommonMind#23916, Cytoimmgen#23918, FUSION#23920, Fairfax_2012#23922, Fairfax_2014#23924, GENCORD#23926, GEUVADIS#23928, GTEx#23930, HipSci#23932, Jerber_2021#23934, Kasela_2017#23936, Kim-Hellmuth_2017#23938, ... 29 more fields]\n                                                                                                               +- Project [targetId#2088, diseaseId#2170, maxClinPhase#6197, null#23898, Alasoo_2018#23900, Aygun_2021#23902, BLUEPRINT#23904, Bossini-Castillo_2019#23906, BrainSeq#23908, Braineac2#23910, CAP#23912, CEDAR#23914, CommonMind#23916, Cytoimmgen#23918, FUSION#23920, Fairfax_2012#23922, Fairfax_2014#23924, GENCORD#23926, GEUVADIS#23928, GTEx#23930, HipSci#23932, Jerber_2021#23934, Kasela_2017#23936, Kim-Hellmuth_2017#23938, ... 28 more fields]\n                                                                                                                  +- Project [targetId#2088, diseaseId#2170, maxClinPhase#6197, null#23898, Alasoo_2018#23900, Aygun_2021#23902, BLUEPRINT#23904, Bossini-Castillo_2019#23906, BrainSeq#23908, Braineac2#23910, CAP#23912, CEDAR#23914, CommonMind#23916, Cytoimmgen#23918, FUSION#23920, Fairfax_2012#23922, Fairfax_2014#23924, GENCORD#23926, GEUVADIS#23928, GTEx#23930, HipSci#23932, Jerber_2021#23934, Kasela_2017#23936, Kim-Hellmuth_2017#23938, ... 27 more fields]\n                                                                                                                     +- Project [targetId#2088, diseaseId#2170, maxClinPhase#6197, null#23898, Alasoo_2018#23900, Aygun_2021#23902, BLUEPRINT#23904, Bossini-Castillo_2019#23906, BrainSeq#23908, Braineac2#23910, CAP#23912, CEDAR#23914, CommonMind#23916, Cytoimmgen#23918, FUSION#23920, Fairfax_2012#23922, Fairfax_2014#23924, GENCORD#23926, GEUVADIS#23928, GTEx#23930, HipSci#23932, Jerber_2021#23934, Kasela_2017#23936, Kim-Hellmuth_2017#23938, ... 26 more fields]\n                                                                                                                        +- Project [targetId#2088, diseaseId#2170, maxClinPhase#6197, null#23898, Alasoo_2018#23900, Aygun_2021#23902, BLUEPRINT#23904, Bossini-Castillo_2019#23906, BrainSeq#23908, Braineac2#23910, CAP#23912, CEDAR#23914, CommonMind#23916, Cytoimmgen#23918, FUSION#23920, Fairfax_2012#23922, Fairfax_2014#23924, GENCORD#23926, GEUVADIS#23928, GTEx#23930, HipSci#23932, Jerber_2021#23934, Kasela_2017#23936, Kim-Hellmuth_2017#23938, ... 25 more fields]\n                                                                                                                           +- Project [targetId#2088, diseaseId#2170, maxClinPhase#6197, null#23898, Alasoo_2018#23900, Aygun_2021#23902, BLUEPRINT#23904, Bossini-Castillo_2019#23906, BrainSeq#23908, Braineac2#23910, CAP#23912, CEDAR#23914, CommonMind#23916, Cytoimmgen#23918, FUSION#23920, Fairfax_2012#23922, Fairfax_2014#23924, GENCORD#23926, GEUVADIS#23928, GTEx#23930, HipSci#23932, Jerber_2021#23934, Kasela_2017#23936, Kim-Hellmuth_2017#23938, ... 24 more fields]\n                                                                                                                              +- Project [targetId#2088, diseaseId#2170, maxClinPhase#6197, null#23898, Alasoo_2018#23900, Aygun_2021#23902, BLUEPRINT#23904, Bossini-Castillo_2019#23906, BrainSeq#23908, Braineac2#23910, CAP#23912, CEDAR#23914, CommonMind#23916, Cytoimmgen#23918, FUSION#23920, Fairfax_2012#23922, Fairfax_2014#23924, GENCORD#23926, GEUVADIS#23928, GTEx#23930, HipSci#23932, Jerber_2021#23934, Kasela_2017#23936, Kim-Hellmuth_2017#23938, ... 23 more fields]\n                                                                                                                                 +- Project [targetId#2088, diseaseId#2170, maxClinPhase#6197, null#23898, Alasoo_2018#23900, Aygun_2021#23902, BLUEPRINT#23904, Bossini-Castillo_2019#23906, BrainSeq#23908, Braineac2#23910, CAP#23912, CEDAR#23914, CommonMind#23916, Cytoimmgen#23918, FUSION#23920, Fairfax_2012#23922, Fairfax_2014#23924, GENCORD#23926, GEUVADIS#23928, GTEx#23930, HipSci#23932, Jerber_2021#23934, Kasela_2017#23936, Kim-Hellmuth_2017#23938, ... 22 more fields]\n                                                                                                                                    +- Project [targetId#2088, diseaseId#2170, maxClinPhase#6197, null#23898, Alasoo_2018#23900, Aygun_2021#23902, BLUEPRINT#23904, Bossini-Castillo_2019#23906, BrainSeq#23908, Braineac2#23910, CAP#23912, CEDAR#23914, CommonMind#23916, Cytoimmgen#23918, FUSION#23920, Fairfax_2012#23922, Fairfax_2014#23924, GENCORD#23926, GEUVADIS#23928, GTEx#23930, HipSci#23932, Jerber_2021#23934, Kasela_2017#23936, Kim-Hellmuth_2017#23938, ... 21 more fields]\n                                                                                                                                       +- Project [targetId#2088, diseaseId#2170, maxClinPhase#6197, null#23898, Alasoo_2018#23900, Aygun_2021#23902, BLUEPRINT#23904, Bossini-Castillo_2019#23906, BrainSeq#23908, Braineac2#23910, CAP#23912, CEDAR#23914, CommonMind#23916, Cytoimmgen#23918, FUSION#23920, Fairfax_2012#23922, Fairfax_2014#23924, GENCORD#23926, GEUVADIS#23928, GTEx#23930, HipSci#23932, Jerber_2021#23934, Kasela_2017#23936, Kim-Hellmuth_2017#23938, ... 20 more fields]\n                                                                                                                                          +- Project [targetId#2088, diseaseId#2170, maxClinPhase#6197, null#23898, Alasoo_2018#23900, Aygun_2021#23902, BLUEPRINT#23904, Bossini-Castillo_2019#23906, BrainSeq#23908, Braineac2#23910, CAP#23912, CEDAR#23914, CommonMind#23916, Cytoimmgen#23918, FUSION#23920, Fairfax_2012#23922, Fairfax_2014#23924, GENCORD#23926, GEUVADIS#23928, GTEx#23930, HipSci#23932, Jerber_2021#23934, Kasela_2017#23936, Kim-Hellmuth_2017#23938, ... 19 more fields]\n                                                                                                                                             +- Join LeftOuter, ((targetId#2088 = targetId#24018) AND (diseaseId#2170 = diseaseId#24100))\n                                                                                                                                                :- Aggregate [targetId#2088, diseaseId#2170, maxClinPhase#6197], [targetId#2088, diseaseId#2170, maxClinPhase#6197, collect_set(if ((projectId#975 <=> cast(null as string))) resolvedAgreeDrug#23579 else cast(null as string), 0, 0) AS null#23898, collect_set(if ((projectId#975 <=> cast(Alasoo_2018 as string))) resolvedAgreeDrug#23579 else cast(null as string), 0, 0) AS Alasoo_2018#23900, collect_set(if ((projectId#975 <=> cast(Aygun_2021 as string))) resolvedAgreeDrug#23579 else cast(null as string), 0, 0) AS Aygun_2021#23902, collect_set(if ((projectId#975 <=> cast(BLUEPRINT as string))) resolvedAgreeDrug#23579 else cast(null as string), 0, 0) AS BLUEPRINT#23904, collect_set(if ((projectId#975 <=> cast(Bossini-Castillo_2019 as string))) resolvedAgreeDrug#23579 else cast(null as string), 0, 0) AS Bossini-Castillo_2019#23906, collect_set(if ((projectId#975 <=> cast(BrainSeq as string))) resolvedAgreeDrug#23579 else cast(null as string), 0, 0) AS BrainSeq#23908, collect_set(if ((projectId#975 <=> cast(Braineac2 as string))) resolvedAgreeDrug#23579 else cast(null as string), 0, 0) AS Braineac2#23910, collect_set(if ((projectId#975 <=> cast(CAP as string))) resolvedAgreeDrug#23579 else cast(null as string), 0, 0) AS CAP#23912, collect_set(if ((projectId#975 <=> cast(CEDAR as string))) resolvedAgreeDrug#23579 else cast(null as string), 0, 0) AS CEDAR#23914, collect_set(if ((projectId#975 <=> cast(CommonMind as string))) resolvedAgreeDrug#23579 else cast(null as string), 0, 0) AS CommonMind#23916, collect_set(if ((projectId#975 <=> cast(Cytoimmgen as string))) resolvedAgreeDrug#23579 else cast(null as string), 0, 0) AS Cytoimmgen#23918, collect_set(if ((projectId#975 <=> cast(FUSION as string))) resolvedAgreeDrug#23579 else cast(null as string), 0, 0) AS FUSION#23920, collect_set(if ((projectId#975 <=> cast(Fairfax_2012 as string))) resolvedAgreeDrug#23579 else cast(null as string), 0, 0) AS Fairfax_2012#23922, collect_set(if ((projectId#975 <=> cast(Fairfax_2014 as string))) resolvedAgreeDrug#23579 else cast(null as string), 0, 0) AS Fairfax_2014#23924, collect_set(if ((projectId#975 <=> cast(GENCORD as string))) resolvedAgreeDrug#23579 else cast(null as string), 0, 0) AS GENCORD#23926, collect_set(if ((projectId#975 <=> cast(GEUVADIS as string))) resolvedAgreeDrug#23579 else cast(null as string), 0, 0) AS GEUVADIS#23928, collect_set(if ((projectId#975 <=> cast(GTEx as string))) resolvedAgreeDrug#23579 else cast(null as string), 0, 0) AS GTEx#23930, collect_set(if ((projectId#975 <=> cast(HipSci as string))) resolvedAgreeDrug#23579 else cast(null as string), 0, 0) AS HipSci#23932, collect_set(if ((projectId#975 <=> cast(Jerber_2021 as string))) resolvedAgreeDrug#23579 else cast(null as string), 0, 0) AS Jerber_2021#23934, collect_set(if ((projectId#975 <=> cast(Kasela_2017 as string))) resolvedAgreeDrug#23579 else cast(null as string), 0, 0) AS Kasela_2017#23936, collect_set(if ((projectId#975 <=> cast(Kim-Hellmuth_2017 as string))) resolvedAgreeDrug#23579 else cast(null as string), 0, 0) AS Kim-Hellmuth_2017#23938, ... 18 more fields]\n                                                                                                                                                :  +- Project [biosampleId#1002, targetId#2088, diseaseId#2170, leftStudyLocusId#1077, rightStudyId#1140, rightStudyLocusId#1078, chromosome#1079, rightStudyType#1080, numberColocalisingVariants#1081L, clpp#1082, colocalisationMethod#1083, betaRatioSignAverage#1084, h0#1094, h1#1095, h2#1096, h3#1097, h4#1098, leftStudyId#1115, leftVariantId#1116, credibleLeftStudyType#1117, rightVariantId#1141, credibleRightStudyType#1142, qtlPValueExponent#1143, isTransQtl#1176, ... 25 more fields]\n                                                                                                                                                :     +- Project [biosampleId#1002, targetId#2088, diseaseId#2170, leftStudyLocusId#1077, rightStudyId#1140, rightStudyLocusId#1078, chromosome#1079, rightStudyType#1080, numberColocalisingVariants#1081L, clpp#1082, colocalisationMethod#1083, betaRatioSignAverage#1084, h0#1094, h1#1095, h2#1096, h3#1097, h4#1098, leftStudyId#1115, leftVariantId#1116, credibleLeftStudyType#1117, rightVariantId#1141, credibleRightStudyType#1142, qtlPValueExponent#1143, isTransQtl#1176, ... 27 more fields]\n                                                                                                                                                :        +- Window [first(AgreeDrug#16545, true) windowspecdefinition(targetId#2088, diseaseId#2170, projectId#975, qtlPValueExponent#1143 ASC NULLS FIRST, specifiedwindowframe(RangeFrame, unboundedpreceding$(), currentrow$())) AS _we1#23581], [targetId#2088, diseaseId#2170, projectId#975], [qtlPValueExponent#1143 ASC NULLS FIRST]\n                                                                                                                                                :           +- Window [first(AgreeDrug#16545, true) windowspecdefinition(targetId#2088, diseaseId#2170, projectId#975, colocalisationMethod#1083 ASC NULLS FIRST, qtlPValueExponent#1143 ASC NULLS FIRST, specifiedwindowframe(RangeFrame, unboundedpreceding$(), currentrow$())) AS _we0#23580], [targetId#2088, diseaseId#2170, projectId#975], [colocalisationMethod#1083 ASC NULLS FIRST, qtlPValueExponent#1143 ASC NULLS FIRST]\n                                                                                                                                                :              +- Project [biosampleId#1002, targetId#2088, diseaseId#2170, leftStudyLocusId#1077, rightStudyId#1140, rightStudyLocusId#1078, chromosome#1079, rightStudyType#1080, numberColocalisingVariants#1081L, clpp#1082, colocalisationMethod#1083, betaRatioSignAverage#1084, h0#1094, h1#1095, h2#1096, h3#1097, h4#1098, leftStudyId#1115, leftVariantId#1116, credibleLeftStudyType#1117, rightVariantId#1141, credibleRightStudyType#1142, qtlPValueExponent#1143, isTransQtl#1176, ... 24 more fields]\n                                                                                                                                                :                 +- Project [biosampleId#1002, targetId#2088, diseaseId#2170, leftStudyLocusId#1077, rightStudyId#1140, rightStudyLocusId#1078, chromosome#1079, rightStudyType#1080, numberColocalisingVariants#1081L, clpp#1082, colocalisationMethod#1083, betaRatioSignAverage#1084, h0#1094, h1#1095, h2#1096, h3#1097, h4#1098, leftStudyId#1115, leftVariantId#1116, credibleLeftStudyType#1117, rightVariantId#1141, credibleRightStudyType#1142, qtlPValueExponent#1143, isTransQtl#1176, ... 24 more fields]\n                                                                                                                                                :                    +- Project [biosampleId#1002, targetId#2088, diseaseId#2170, leftStudyLocusId#1077, rightStudyId#1140, rightStudyLocusId#1078, chromosome#1079, rightStudyType#1080, numberColocalisingVariants#1081L, clpp#1082, colocalisationMethod#1083, betaRatioSignAverage#1084, h0#1094, h1#1095, h2#1096, h3#1097, h4#1098, leftStudyId#1115, leftVariantId#1116, credibleLeftStudyType#1117, rightVariantId#1141, credibleRightStudyType#1142, qtlPValueExponent#1143, isTransQtl#1176, ... 25 more fields]\n                                                                                                                                                :                       +- Window [collect_set(colocalisationMethod#1083, 0, 0) windowspecdefinition(targetId#2088, diseaseId#2170, specifiedwindowframe(RowFrame, unboundedpreceding$(), unboundedfollowing$())) AS _we0#23528], [targetId#2088, diseaseId#2170]\n                                                                                                                                                :                          +- Project [biosampleId#1002, targetId#2088, diseaseId#2170, leftStudyLocusId#1077, rightStudyId#1140, rightStudyLocusId#1078, chromosome#1079, rightStudyType#1080, numberColocalisingVariants#1081L, clpp#1082, colocalisationMethod#1083, betaRatioSignAverage#1084, h0#1094, h1#1095, h2#1096, h3#1097, h4#1098, leftStudyId#1115, leftVariantId#1116, credibleLeftStudyType#1117, rightVariantId#1141, credibleRightStudyType#1142, qtlPValueExponent#1143, isTransQtl#1176, ... 23 more fields]\n                                                                                                                                                :                             +- Project [biosampleId#1002, targetId#2088, diseaseId#2170, leftStudyLocusId#1077, rightStudyId#1140, rightStudyLocusId#1078, chromosome#1079, rightStudyType#1080, numberColocalisingVariants#1081L, clpp#1082, colocalisationMethod#1083, betaRatioSignAverage#1084, h0#1094, h1#1095, h2#1096, h3#1097, h4#1098, leftStudyId#1115, leftVariantId#1116, credibleLeftStudyType#1117, rightVariantId#1141, credibleRightStudyType#1142, qtlPValueExponent#1143, isTransQtl#1176, ... 23 more fields]\n                                                                                                                                                :                                +- Join LeftOuter, (biosampleId#1002 = biosampleId#1059)\n                                                                                                                                                :                                   :- Project [targetId#2088, diseaseId#2170, leftStudyLocusId#1077, rightStudyId#1140, rightStudyLocusId#1078, chromosome#1079, rightStudyType#1080, numberColocalisingVariants#1081L, clpp#1082, colocalisationMethod#1083, betaRatioSignAverage#1084, h0#1094, h1#1095, h2#1096, h3#1097, h4#1098, leftStudyId#1115, leftVariantId#1116, credibleLeftStudyType#1117, rightVariantId#1141, credibleRightStudyType#1142, qtlPValueExponent#1143, isTransQtl#1176, projectId#975, ... 22 more fields]\n                                                                                                                                                :                                   :  +- Project [targetId#2088, diseaseId#2170, leftStudyLocusId#1077, rightStudyId#1140, rightStudyLocusId#1078, chromosome#1079, rightStudyType#1080, numberColocalisingVariants#1081L, clpp#1082, colocalisationMethod#1083, betaRatioSignAverage#1084, h0#1094, h1#1095, h2#1096, h3#1097, h4#1098, leftStudyId#1115, leftVariantId#1116, credibleLeftStudyType#1117, rightVariantId#1141, credibleRightStudyType#1142, qtlPValueExponent#1143, isTransQtl#1176, projectId#975, ... 21 more fields]\n                                                                                                                                                :                                   :     +- Join RightOuter, ((targetId#1801 = targetId#2088) AND (diseaseId#1960 = diseaseId#2170))\n                                                                                                                                                :                                   :        :- Filter NOT (name#691 = COVID-19)\n                                                                                                                                                :                                   :        :  +- Filter (betaGwas#1780 < cast(0 as double))\n                                                                                                                                                :                                   :        :     +- Filter ((clpp#1082 >= 0.01) OR (h4#1098 >= 0.8))\n                                                                                                                                                :                                   :        :        +- Project [diseaseId#1960, leftStudyLocusId#1077, targetId#1801, rightStudyId#1140, rightStudyLocusId#1078, chromosome#1079, rightStudyType#1080, numberColocalisingVariants#1081L, clpp#1082, colocalisationMethod#1083, betaRatioSignAverage#1084, h0#1094, h1#1095, h2#1096, h3#1097, h4#1098, leftStudyId#1115, leftVariantId#1116, credibleLeftStudyType#1117, rightVariantId#1141, credibleRightStudyType#1142, qtlPValueExponent#1143, isTransQtl#1176, projectId#975, ... 18 more fields]\n                                                                                                                                                :                                   :        :           +- Project [diseaseId#1960, leftStudyLocusId#1077, targetId#1801, rightStudyId#1140, rightStudyLocusId#1078, chromosome#1079, rightStudyType#1080, numberColocalisingVariants#1081L, clpp#1082, colocalisationMethod#1083, betaRatioSignAverage#1084, h0#1094, h1#1095, h2#1096, h3#1097, h4#1098, leftStudyId#1115, leftVariantId#1116, credibleLeftStudyType#1117, rightVariantId#1141, credibleRightStudyType#1142, qtlPValueExponent#1143, isTransQtl#1176, projectId#975, ... 17 more fields]\n                                                                                                                                                :                                   :        :              +- Project [diseaseId#1960, leftStudyLocusId#1077, targetId#1801, rightStudyId#1140, rightStudyLocusId#1078, chromosome#1079, rightStudyType#1080, numberColocalisingVariants#1081L, clpp#1082, colocalisationMethod#1083, betaRatioSignAverage#1084, h0#1094, h1#1095, h2#1096, h3#1097, h4#1098, leftStudyId#1115, leftVariantId#1116, credibleLeftStudyType#1117, rightVariantId#1141, credibleRightStudyType#1142, qtlPValueExponent#1143, isTransQtl#1176, projectId#975, ... 18 more fields]\n                                                                                                                                                :                                   :        :                 +- Generate explode(concat(array(diseaseId#800), parents#694)), true, [diseaseId#1960]\n                                                                                                                                                :                                   :        :                    +- Project [diseaseId#800, leftStudyLocusId#1077, targetId#1801, rightStudyId#1140, rightStudyLocusId#1078, chromosome#1079, rightStudyType#1080, numberColocalisingVariants#1081L, clpp#1082, colocalisationMethod#1083, betaRatioSignAverage#1084, h0#1094, h1#1095, h2#1096, h3#1097, h4#1098, leftStudyId#1115, leftVariantId#1116, credibleLeftStudyType#1117, rightVariantId#1141, credibleRightStudyType#1142, qtlPValueExponent#1143, isTransQtl#1176, projectId#975, ... 18 more fields]\n                                                                                                                                                :                                   :        :                       +- Join LeftOuter, (diseaseId#800 = diseaseId#1911)\n                                                                                                                                                :                                   :        :                          :- Project [leftStudyLocusId#1077, targetId#1801, rightStudyId#1140, rightStudyLocusId#1078, chromosome#1079, rightStudyType#1080, numberColocalisingVariants#1081L, clpp#1082, colocalisationMethod#1083, betaRatioSignAverage#1084, h0#1094, h1#1095, h2#1096, h3#1097, h4#1098, leftStudyId#1115, leftVariantId#1116, credibleLeftStudyType#1117, rightVariantId#1141, credibleRightStudyType#1142, qtlPValueExponent#1143, isTransQtl#1176, projectId#975, indexStudyType#1200, ... 15 more fields]\n                                                                                                                                                :                                   :        :                          :  +- Join Inner, ((leftStudyLocusId#1077 = leftStudyLocusId#1828) AND (targetId#1801 = targetId#718))\n                                                                                                                                                :                                   :        :                          :     :- Project [rightStudyId#1140, rightStudyLocusId#1078, leftStudyLocusId#1077, chromosome#1079, rightStudyType#1080, numberColocalisingVariants#1081L, clpp#1082, colocalisationMethod#1083, betaRatioSignAverage#1084, h0#1094, h1#1095, h2#1096, h3#1097, h4#1098, leftStudyId#1115, leftVariantId#1116, credibleLeftStudyType#1117, rightVariantId#1141, credibleRightStudyType#1142, qtlPValueExponent#1143, isTransQtl#1176, geneId#974 AS targetId#1801, projectId#975, indexStudyType#1200, ... 2 more fields]\n                                                                                                                                                :                                   :        :                          :     :  +- Project [rightStudyId#1140, rightStudyLocusId#1078, leftStudyLocusId#1077, chromosome#1079, rightStudyType#1080, numberColocalisingVariants#1081L, clpp#1082, colocalisationMethod#1083, betaRatioSignAverage#1084, h0#1094, h1#1095, h2#1096, h3#1097, h4#1098, leftStudyId#1115, leftVariantId#1116, credibleLeftStudyType#1117, rightVariantId#1141, credibleRightStudyType#1142, qtlPValueExponent#1143, isTransQtl#1176, geneId#974, projectId#975, indexStudyType#1200, ... 2 more fields]\n                                                                                                                                                :                                   :        :                          :     :     +- Join LeftOuter, (rightStudyId#1140 = rightStudyId#1199)\n                                                                                                                                                :                                   :        :                          :     :        :- Project [rightStudyLocusId#1078, leftStudyLocusId#1077, chromosome#1079, rightStudyType#1080, numberColocalisingVariants#1081L, clpp#1082, colocalisationMethod#1083, betaRatioSignAverage#1084, h0#1094, h1#1095, h2#1096, h3#1097, h4#1098, leftStudyId#1115, leftVariantId#1116, credibleLeftStudyType#1117, rightStudyId#1140, rightVariantId#1141, credibleRightStudyType#1142, qtlPValueExponent#1143, isTransQtl#1176]\n                                                                                                                                                :                                   :        :                          :     :        :  +- Join LeftOuter, (rightStudyLocusId#1078 = rightStudyLocusId#1139)\n                                                                                                                                                :                                   :        :                          :     :        :     :- Project [leftStudyLocusId#1077, rightStudyLocusId#1078, chromosome#1079, rightStudyType#1080, numberColocalisingVariants#1081L, clpp#1082, colocalisationMethod#1083, betaRatioSignAverage#1084, h0#1094, h1#1095, h2#1096, h3#1097, h4#1098, leftStudyId#1115, leftVariantId#1116, credibleLeftStudyType#1117]\n                                                                                                                                                :                                   :        :                          :     :        :     :  +- Join LeftOuter, (leftStudyLocusId#1077 = leftStudyLocusId#1114)\n                                                                                                                                                :                                   :        :                          :     :        :     :     :- Union false, false\n                                                                                                                                                :                                   :        :                          :     :        :     :     :  :- Project [leftStudyLocusId#1077, rightStudyLocusId#1078, chromosome#1079, rightStudyType#1080, numberColocalisingVariants#1081L, clpp#1082, colocalisationMethod#1083, betaRatioSignAverage#1084, null AS h0#1094, null AS h1#1095, null AS h2#1096, null AS h3#1097, null AS h4#1098]\n                                                                                                                                                :                                   :        :                          :     :        :     :     :  :  +- Relation [leftStudyLocusId#1077,rightStudyLocusId#1078,chromosome#1079,rightStudyType#1080,numberColocalisingVariants#1081L,clpp#1082,colocalisationMethod#1083,betaRatioSignAverage#1084] parquet\n                                                                                                                                                :                                   :        :                          :     :        :     :     :  +- Project [leftStudyLocusId#949, rightStudyLocusId#950, chromosome#951, rightStudyType#952, numberColocalisingVariants#953L, null AS clpp#1093, colocalisationMethod#959, betaRatioSignAverage#960, h0#954, h1#955, h2#956, h3#957, h4#958]\n                                                                                                                                                :                                   :        :                          :     :        :     :     :     +- Relation [leftStudyLocusId#949,rightStudyLocusId#950,chromosome#951,rightStudyType#952,numberColocalisingVariants#953L,h0#954,h1#955,h2#956,h3#957,h4#958,colocalisationMethod#959,betaRatioSignAverage#960] parquet\n                                                                                                                                                :                                   :        :                          :     :        :     :     +- Project [studyLocusId#895 AS leftStudyLocusId#1114, StudyId#896 AS leftStudyId#1115, variantId#897 AS leftVariantId#1116, studyType#920 AS credibleLeftStudyType#1117]\n                                                                                                                                                :                                   :        :                          :     :        :     :        +- Relation [studyLocusId#895,studyId#896,variantId#897,chromosome#898,position#899,region#900,beta#901,zScore#902,pValueMantissa#903,pValueExponent#904,effectAlleleFrequencyFromSource#905,standardError#906,subStudyDescription#907,qualityControls#908,finemappingMethod#909,credibleSetIndex#910,credibleSetlog10BF#911,purityMeanR2#912,purityMinR2#913,locusStart#914,locusEnd#915,sampleSize#916,ldSet#917,locus#918,... 3 more fields] parquet\n                                                                                                                                                :                                   :        :                          :     :        :     +- Project [studyLocusId#1150 AS rightStudyLocusId#1139, studyId#1151 AS rightStudyId#1140, variantId#1152 AS rightVariantId#1141, studyType#1175 AS credibleRightStudyType#1142, pValueExponent#1159 AS qtlPValueExponent#1143, isTransQtl#1176]\n                                                                                                                                                :                                   :        :                          :     :        :        +- Relation [studyLocusId#1150,studyId#1151,variantId#1152,chromosome#1153,position#1154,region#1155,beta#1156,zScore#1157,pValueMantissa#1158,pValueExponent#1159,effectAlleleFrequencyFromSource#1160,standardError#1161,subStudyDescription#1162,qualityControls#1163,finemappingMethod#1164,credibleSetIndex#1165,credibleSetlog10BF#1166,purityMeanR2#1167,purityMinR2#1168,locusStart#1169,locusEnd#1170,sampleSize#1171,ldSet#1172,locus#1173,... 3 more fields] parquet\n                                                                                                                                                :                                   :        :                          :     :        +- Project [studyId#973 AS rightStudyId#1199, geneId#974, projectId#975, studyType#976 AS indexStudyType#1200, condition#998, biosampleId#1002]\n                                                                                                                                                :                                   :        :                          :     :           +- Relation [studyId#973,geneId#974,projectId#975,studyType#976,traitFromSource#977,traitFromSourceMappedIds#978,biosampleFromSourceId#979,pubmedId#980,publicationTitle#981,publicationFirstAuthor#982,publicationDate#983,publicationJournal#984,backgroundTraitFromSourceMappedIds#985,initialSampleSize#986,nCases#987,nControls#988,nSamples#989,cohorts#990,ldPopulationStructure#991,discoverySamples#992,replicationSamples#993,qualityControls#994,analysisFlags#995,summarystatsLocation#996,... 6 more fields] parquet\n                                                                                                                                                :                                   :        :                          :     +- Project [studyLocusId#798 AS leftStudyLocusId#1828, datasourceId#717, targetId#718, datatypeId#743, diseaseFromSourceMappedId#747, resourceScore#769, targetFromSourceId#784, diseaseId#800, id#801, score#802, sourceId#805, studyId#1845, variantId#1846, betaGwas#1780, pValueExponent#1853]\n                                                                                                                                                :                                   :        :                          :        +- Project [studyLocusId#798, datasourceId#717, targetId#718, datatypeId#743, diseaseFromSourceMappedId#747, resourceScore#769, targetFromSourceId#784, diseaseId#800, id#801, score#802, sourceId#805, studyId#1845, variantId#1846, betaGwas#1780, pValueExponent#1853]\n                                                                                                                                                :                                   :        :                          :           +- Join LeftOuter, (studyLocusId#798 = studyLocusId#1844)\n                                                                                                                                                :                                   :        :                          :              :- Project [datasourceId#717, targetId#718, datatypeId#743, diseaseFromSourceMappedId#747, resourceScore#769, targetFromSourceId#784, studyLocusId#798, diseaseId#800, id#801, score#802, sourceId#805]\n                                                                                                                                                :                                   :        :                          :              :  +- Filter (datasourceId#717 = gwas_credible_sets)\n                                                                                                                                                :                                   :        :                          :              :     +- Relation [datasourceId#717,targetId#718,alleleOrigins#719,allelicRequirements#720,ancestry#721,ancestryId#722,beta#723,betaConfidenceIntervalLower#724,betaConfidenceIntervalUpper#725,biologicalModelAllelicComposition#726,biologicalModelGeneticBackground#727,biologicalModelId#728,biomarkerName#729,biomarkers#730,biosamplesFromSource#731,cellType#732,clinicalPhase#733,clinicalSignificances#734,clinicalStatus#735,cohortDescription#736,cohortId#737,cohortPhenotypes#738,cohortShortName#739,confidence#740,... 65 more fields] parquet\n                                                                                                                                                :                                   :        :                          :              +- Project [studyLocusId#1844, studyId#1845, variantId#1846, beta#1850 AS betaGwas#1780, pValueExponent#1853]\n                                                                                                                                                :                                   :        :                          :                 +- Relation [studyLocusId#1844,studyId#1845,variantId#1846,chromosome#1847,position#1848,region#1849,beta#1850,zScore#1851,pValueMantissa#1852,pValueExponent#1853,effectAlleleFrequencyFromSource#1854,standardError#1855,subStudyDescription#1856,qualityControls#1857,finemappingMethod#1858,credibleSetIndex#1859,credibleSetlog10BF#1860,purityMeanR2#1861,purityMinR2#1862,locusStart#1863,locusEnd#1864,sampleSize#1865,ldSet#1866,locus#1867,... 3 more fields] parquet\n                                                                                                                                                :                                   :        :                          +- Project [id#689 AS diseaseId#1911, name#691, parents#694, therapeuticAreas#700]\n                                                                                                                                                :                                   :        :                             +- Relation [id#689,code#690,name#691,description#692,dbXRefs#693,parents#694,synonyms#695,obsoleteTerms#696,obsoleteXRefs#697,children#698,ancestors#699,therapeuticAreas#700,descendants#701,ontology#702] parquet\n                                                                                                                                                :                                   :        +- Project [targetId#2088, diseaseId#2170, maxClinPhase#6197, drugGoF_protect#11714L, LoF_protect#9894L AS drugLoF_protect#11720L]\n                                                                                                                                                :                                   :           +- Project [targetId#2088, diseaseId#2170, maxClinPhase#6197, GoF_protect#9893L AS drugGoF_protect#11714L, LoF_protect#9894L]\n                                                                                                                                                :                                   :              +- Project [targetId#2088, diseaseId#2170, maxClinPhase#6197, GoF_protect#9893L, LoF_protect#9894L]\n                                                                                                                                                :                                   :                 +- Filter (coherencyDiagonal#11688 = coherent)\n                                                                                                                                                :                                   :                    +- Project [targetId#2088, diseaseId#2170, maxClinPhase#6197, GoF_protect#9893L, LoF_protect#9894L, noEvaluable#9895L, GoF_risk#9908, LoF_risk#11522, coherencyDiagonal#11688, CASE WHEN ((((isnull(LoF_risk#11522) AND isnull(LoF_protect#9894L)) AND isnull(GoF_risk#9908)) AND isnull(GoF_protect#9893L)) AND isnull(noEvaluable#9895L)) THEN noEvid WHEN ((((isnull(LoF_risk#11522) AND isnull(LoF_protect#9894L)) AND isnull(GoF_risk#9908)) AND isnull(GoF_protect#9893L)) AND isnotnull(noEvaluable#9895L)) THEN EvidNotDoE WHEN (((isnotnull(LoF_risk#11522) OR isnotnull(LoF_protect#9894L)) OR isnotnull(GoF_risk#9908)) OR isnotnull(GoF_protect#9893L)) THEN CASE WHEN (isnotnull(LoF_risk#11522) AND ((isnull(LoF_protect#9894L) AND isnull(GoF_risk#9908)) AND isnull(GoF_protect#9893L))) THEN coherent WHEN (isnotnull(GoF_risk#9908) AND ((isnull(LoF_protect#9894L) AND isnull(LoF_risk#11522)) AND isnull(GoF_protect#9893L))) THEN coherent WHEN (isnotnull(LoF_protect#9894L) AND ((isnull(LoF_risk#11522) AND isnull(GoF_risk#9908)) AND isnull(GoF_protect#9893L))) THEN coherent WHEN (isnotnull(GoF_protect#9893L) AND ((isnull(LoF_protect#9894L) AND isnull(GoF_risk#9908)) AND isnull(LoF_risk#11522))) THEN coherent ELSE dispar END END AS coherencyOneCell#11698]\n                                                                                                                                                :                                   :                       +- Project [targetId#2088, diseaseId#2170, maxClinPhase#6197, GoF_protect#9893L, LoF_protect#9894L, noEvaluable#9895L, GoF_risk#9908, LoF_risk#11522, CASE WHEN ((((isnull(LoF_risk#11522) AND isnull(LoF_protect#9894L)) AND isnull(GoF_risk#9908)) AND isnull(GoF_protect#9893L)) AND isnull(noEvaluable#9895L)) THEN noEvid WHEN ((((isnull(LoF_risk#11522) AND isnull(LoF_protect#9894L)) AND isnull(GoF_risk#9908)) AND isnull(GoF_protect#9893L)) AND isnotnull(noEvaluable#9895L)) THEN EvidNotDoE WHEN (((isnotnull(LoF_risk#11522) OR isnotnull(LoF_protect#9894L)) OR isnotnull(GoF_risk#9908)) OR isnotnull(GoF_protect#9893L)) THEN CASE WHEN (isnotnull(GoF_risk#9908) AND isnotnull(LoF_risk#11522)) THEN dispar WHEN (isnotnull(LoF_protect#9894L) AND isnotnull(LoF_risk#11522)) THEN dispar WHEN (isnotnull(GoF_protect#9893L) AND isnotnull(GoF_risk#9908)) THEN dispar WHEN (isnotnull(GoF_protect#9893L) AND isnotnull(LoF_protect#9894L)) THEN dispar ELSE coherent END END AS coherencyDiagonal#11688]\n                                                                                                                                                :                                   :                          +- Project [targetId#2088, diseaseId#2170, maxClinPhase#6197, GoF_protect#9893L, LoF_protect#9894L, noEvaluable#9895L, GoF_risk#9908, null AS LoF_risk#11522]\n                                                                                                                                                :                                   :                             +- Project [targetId#2088, diseaseId#2170, maxClinPhase#6197, GoF_protect#9893L, LoF_protect#9894L, noEvaluable#9895L, null AS GoF_risk#9908]\n                                                                                                                                                :                                   :                                +- Project [targetId#2088, diseaseId#2170, maxClinPhase#6197, __pivot_count(targetId) AS `count(targetId)`#9892[0] AS GoF_protect#9893L, __pivot_count(targetId) AS `count(targetId)`#9892[1] AS LoF_protect#9894L, __pivot_count(targetId) AS `count(targetId)`#9892[2] AS noEvaluable#9895L]\n                                                                                                                                                :                                   :                                   +- Aggregate [targetId#2088, diseaseId#2170, maxClinPhase#6197], [targetId#2088, diseaseId#2170, maxClinPhase#6197, pivotfirst(homogenized#4208, count(targetId)#9884L, GoF_protect, LoF_protect, noEvaluable, 0, 0) AS __pivot_count(targetId) AS `count(targetId)`#9892]\n                                                                                                                                                :                                   :                                      +- Aggregate [targetId#2088, diseaseId#2170, maxClinPhase#6197, homogenized#4208], [targetId#2088, diseaseId#2170, maxClinPhase#6197, homogenized#4208, count(targetId#2088) AS count(targetId)#9884L]\n                                                                                                                                                :                                   :                                         +- Project [datasourceId#2087, targetId#2088, alleleOrigins#2089, allelicRequirements#2090, ancestry#2091, ancestryId#2092, beta#2931, betaConfidenceIntervalLower#2094, betaConfidenceIntervalUpper#2095, biologicalModelAllelicComposition#2096, biologicalModelGeneticBackground#2097, biologicalModelId#2098, biomarkerName#2099, biomarkers#2100, biosamplesFromSource#2101, cellType#2102, clinicalPhase#2103, clinicalSignificances#3113, clinicalStatus#2105, cohortDescription#2106, cohortId#2107, cohortPhenotypes#2108, cohortShortName#2109, confidence#2110, ... 80 more fields]\n                                                                                                                                                :                                   :                                            +- Project [datasourceId#2087, targetId#2088, alleleOrigins#2089, allelicRequirements#2090, ancestry#2091, ancestryId#2092, beta#2931, betaConfidenceIntervalLower#2094, betaConfidenceIntervalUpper#2095, biologicalModelAllelicComposition#2096, biologicalModelGeneticBackground#2097, biologicalModelId#2098, biomarkerName#2099, biomarkers#2100, biosamplesFromSource#2101, cellType#2102, clinicalPhase#2103, clinicalSignificances#3113, clinicalStatus#2105, cohortDescription#2106, cohortId#2107, cohortPhenotypes#2108, cohortShortName#2109, confidence#2110, ... 81 more fields]\n                                                                                                                                                :                                   :                                               +- Window [max(clinicalPhase#2103) windowspecdefinition(targetId#2088, diseaseId#2170, specifiedwindowframe(RowFrame, unboundedpreceding$(), unboundedfollowing$())) AS maxClinPhase#6197], [targetId#2088, diseaseId#2170]\n                                                                                                                                                :                                   :                                                  +- Project [datasourceId#2087, targetId#2088, alleleOrigins#2089, allelicRequirements#2090, ancestry#2091, ancestryId#2092, beta#2931, betaConfidenceIntervalLower#2094, betaConfidenceIntervalUpper#2095, biologicalModelAllelicComposition#2096, biologicalModelGeneticBackground#2097, biologicalModelId#2098, biomarkerName#2099, biomarkers#2100, biosamplesFromSource#2101, cellType#2102, clinicalPhase#2103, clinicalSignificances#3113, clinicalStatus#2105, cohortDescription#2106, cohortId#2107, cohortPhenotypes#2108, cohortShortName#2109, confidence#2110, ... 79 more fields]\n                                                                                                                                                :                                   :                                                     +- Filter (datasourceId#2087 = chembl)\n                                                                                                                                                :                                   :                                                        +- Project [datasourceId#2087, targetId#2088, alleleOrigins#2089, allelicRequirements#2090, ancestry#2091, ancestryId#2092, beta#2931, betaConfidenceIntervalLower#2094, betaConfidenceIntervalUpper#2095, biologicalModelAllelicComposition#2096, biologicalModelGeneticBackground#2097, biologicalModelId#2098, biomarkerName#2099, biomarkers#2100, biosamplesFromSource#2101, cellType#2102, clinicalPhase#2103, clinicalSignificances#3113, clinicalStatus#2105, cohortDescription#2106, cohortId#2107, cohortPhenotypes#2108, cohortShortName#2109, confidence#2110, ... 79 more fields]\n                                                                                                                                                :                                   :                                                           +- Project [datasourceId#2087, targetId#2088, alleleOrigins#2089, allelicRequirements#2090, ancestry#2091, ancestryId#2092, beta#2931, betaConfidenceIntervalLower#2094, betaConfidenceIntervalUpper#2095, biologicalModelAllelicComposition#2096, biologicalModelGeneticBackground#2097, biologicalModelId#2098, biomarkerName#2099, biomarkers#2100, biosamplesFromSource#2101, cellType#2102, clinicalPhase#2103, clinicalSignificances#3113, clinicalStatus#2105, cohortDescription#2106, cohortId#2107, cohortPhenotypes#2108, cohortShortName#2109, confidence#2110, ... 78 more fields]\n                                                                                                                                                :                                   :                                                              +- Project [datasourceId#2087, targetId#2088, alleleOrigins#2089, allelicRequirements#2090, ancestry#2091, ancestryId#2092, beta#2931, betaConfidenceIntervalLower#2094, betaConfidenceIntervalUpper#2095, biologicalModelAllelicComposition#2096, biologicalModelGeneticBackground#2097, biologicalModelId#2098, biomarkerName#2099, biomarkers#2100, biosamplesFromSource#2101, cellType#2102, clinicalPhase#2103, clinicalSignificances#3113, clinicalStatus#2105, cohortDescription#2106, cohortId#2107, cohortPhenotypes#2108, cohortShortName#2109, confidence#2110, ... 78 more fields]\n                                                                                                                                                :                                   :                                                                 +- Project [datasourceId#2087, targetId#2088, alleleOrigins#2089, allelicRequirements#2090, ancestry#2091, ancestryId#2092, beta#2931, betaConfidenceIntervalLower#2094, betaConfidenceIntervalUpper#2095, biologicalModelAllelicComposition#2096, biologicalModelGeneticBackground#2097, biologicalModelId#2098, biomarkerName#2099, biomarkers#2100, biosamplesFromSource#2101, cellType#2102, clinicalPhase#2103, clinicalSignificances#3113, clinicalStatus#2105, cohortDescription#2106, cohortId#2107, cohortPhenotypes#2108, cohortShortName#2109, confidence#2110, ... 78 more fields]\n                                                                                                                                                :                                   :                                                                    +- Project [datasourceId#2087, targetId#2088, alleleOrigins#2089, allelicRequirements#2090, ancestry#2091, ancestryId#2092, beta#2931, betaConfidenceIntervalLower#2094, betaConfidenceIntervalUpper#2095, biologicalModelAllelicComposition#2096, biologicalModelGeneticBackground#2097, biologicalModelId#2098, biomarkerName#2099, biomarkers#2100, biosamplesFromSource#2101, cellType#2102, clinicalPhase#2103, clinicalSignificances#3113, clinicalStatus#2105, cohortDescription#2106, cohortId#2107, cohortPhenotypes#2108, cohortShortName#2109, confidence#2110, ... 79 more fields]\n                                                                                                                                                :                                   :                                                                       +- Window [collect_set(intogen_function#3791, 0, 0) windowspecdefinition(targetId#2088, diseaseId#2170, specifiedwindowframe(RowFrame, unboundedpreceding$(), unboundedfollowing$())) AS _we0#3897], [targetId#2088, diseaseId#2170]\n                                                                                                                                                :                                   :                                                                          +- Project [datasourceId#2087, targetId#2088, alleleOrigins#2089, allelicRequirements#2090, ancestry#2091, ancestryId#2092, beta#2931, betaConfidenceIntervalLower#2094, betaConfidenceIntervalUpper#2095, biologicalModelAllelicComposition#2096, biologicalModelGeneticBackground#2097, biologicalModelId#2098, biomarkerName#2099, biomarkers#2100, biosamplesFromSource#2101, cellType#2102, clinicalPhase#2103, clinicalSignificances#3113, clinicalStatus#2105, cohortDescription#2106, cohortId#2107, cohortPhenotypes#2108, cohortShortName#2109, confidence#2110, ... 77 more fields]\n                                                                                                                                                :                                   :                                                                             +- Project [datasourceId#2087, targetId#2088, alleleOrigins#2089, allelicRequirements#2090, ancestry#2091, ancestryId#2092, beta#2931, betaConfidenceIntervalLower#2094, betaConfidenceIntervalUpper#2095, biologicalModelAllelicComposition#2096, biologicalModelGeneticBackground#2097, biologicalModelId#2098, biomarkerName#2099, biomarkers#2100, biosamplesFromSource#2101, cellType#2102, clinicalPhase#2103, clinicalSignificances#3113, clinicalStatus#2105, cohortDescription#2106, cohortId#2107, cohortPhenotypes#2108, cohortShortName#2109, confidence#2110, ... 77 more fields]\n                                                                                                                                                :                                   :                                                                                +- Project [datasourceId#2087, targetId#2088, alleleOrigins#2089, allelicRequirements#2090, ancestry#2091, ancestryId#2092, beta#2931, betaConfidenceIntervalLower#2094, betaConfidenceIntervalUpper#2095, biologicalModelAllelicComposition#2096, biologicalModelGeneticBackground#2097, biologicalModelId#2098, biomarkerName#2099, biomarkers#2100, biosamplesFromSource#2101, cellType#2102, clinicalPhase#2103, clinicalSignificances#3113, clinicalStatus#2105, cohortDescription#2106, cohortId#2107, cohortPhenotypes#2108, cohortShortName#2109, confidence#2110, ... 76 more fields]\n                                                                                                                                                :                                   :                                                                                   +- Project [datasourceId#2087, targetId#2088, alleleOrigins#2089, allelicRequirements#2090, ancestry#2091, ancestryId#2092, beta#2931, betaConfidenceIntervalLower#2094, betaConfidenceIntervalUpper#2095, biologicalModelAllelicComposition#2096, biologicalModelGeneticBackground#2097, biologicalModelId#2098, biomarkerName#2099, biomarkers#2100, biosamplesFromSource#2101, cellType#2102, clinicalPhase#2103, clinicalSignificances#3113, clinicalStatus#2105, cohortDescription#2106, cohortId#2107, cohortPhenotypes#2108, cohortShortName#2109, confidence#2110, ... 75 more fields]\n                                                                                                                                                :                                   :                                                                                      +- Join LeftOuter, ((drugId2#2875 = drugId#2121) AND (targetId2#2882 = targetId#2088))\n                                                                                                                                                :                                   :                                                                                         :- Join LeftOuter, (target_id#2925 = targetId#2088)\n                                                                                                                                                :                                   :                                                                                         :  :- Project [datasourceId#2087, targetId#2088, alleleOrigins#2089, allelicRequirements#2090, ancestry#2091, ancestryId#2092, beta#2931, betaConfidenceIntervalLower#2094, betaConfidenceIntervalUpper#2095, biologicalModelAllelicComposition#2096, biologicalModelGeneticBackground#2097, biologicalModelId#2098, biomarkerName#2099, biomarkers#2100, biosamplesFromSource#2101, cellType#2102, clinicalPhase#2103, concat_ws(,, clinicalSignificances#2104) AS clinicalSignificances#3113, clinicalStatus#2105, cohortDescription#2106, cohortId#2107, cohortPhenotypes#2108, cohortShortName#2109, confidence#2110, ... 66 more fields]\n                                                                                                                                                :                                   :                                                                                         :  :  +- Project [datasourceId#2087, targetId#2088, alleleOrigins#2089, allelicRequirements#2090, ancestry#2091, ancestryId#2092, beta#2931, betaConfidenceIntervalLower#2094, betaConfidenceIntervalUpper#2095, biologicalModelAllelicComposition#2096, biologicalModelGeneticBackground#2097, biologicalModelId#2098, biomarkerName#2099, biomarkers#2100, biosamplesFromSource#2101, cellType#2102, clinicalPhase#2103, clinicalSignificances#2104, clinicalStatus#2105, cohortDescription#2106, cohortId#2107, cohortPhenotypes#2108, cohortShortName#2109, confidence#2110, ... 66 more fields]\n                                                                                                                                                :                                   :                                                                                         :  :     +- Project [datasourceId#2087, targetId#2088, alleleOrigins#2089, allelicRequirements#2090, ancestry#2091, ancestryId#2092, cast(beta#2093 as double) AS beta#2931, betaConfidenceIntervalLower#2094, betaConfidenceIntervalUpper#2095, biologicalModelAllelicComposition#2096, biologicalModelGeneticBackground#2097, biologicalModelId#2098, biomarkerName#2099, biomarkers#2100, biosamplesFromSource#2101, cellType#2102, clinicalPhase#2103, clinicalSignificances#2104, clinicalStatus#2105, cohortDescription#2106, cohortId#2107, cohortPhenotypes#2108, cohortShortName#2109, confidence#2110, ... 66 more fields]\n                                                                                                                                                :                                   :                                                                                         :  :        +- Project [datasourceId#2087, targetId#2088, alleleOrigins#2089, allelicRequirements#2090, ancestry#2091, ancestryId#2092, beta#2093, betaConfidenceIntervalLower#2094, betaConfidenceIntervalUpper#2095, biologicalModelAllelicComposition#2096, biologicalModelGeneticBackground#2097, biologicalModelId#2098, biomarkerName#2099, biomarkers#2100, biosamplesFromSource#2101, cellType#2102, clinicalPhase#2103, clinicalSignificances#2104, clinicalStatus#2105, cohortDescription#2106, cohortId#2107, cohortPhenotypes#2108, cohortShortName#2109, confidence#2110, ... 66 more fields]\n                                                                                                                                                :                                   :                                                                                         :  :           +- Filter datasourceId#2087 IN (gwas_credible_sets,gene_burden,eva,eva_somatic,gene2phenotype,orphanet,cancer_gene_census,intogen,impc,chembl)\n                                                                                                                                                :                                   :                                                                                         :  :              +- Relation [datasourceId#2087,targetId#2088,alleleOrigins#2089,allelicRequirements#2090,ancestry#2091,ancestryId#2092,beta#2093,betaConfidenceIntervalLower#2094,betaConfidenceIntervalUpper#2095,biologicalModelAllelicComposition#2096,biologicalModelGeneticBackground#2097,biologicalModelId#2098,biomarkerName#2099,biomarkers#2100,biosamplesFromSource#2101,cellType#2102,clinicalPhase#2103,clinicalSignificances#2104,clinicalStatus#2105,cohortDescription#2106,cohortId#2107,cohortPhenotypes#2108,cohortShortName#2109,confidence#2110,... 65 more fields] parquet\n                                                                                                                                                :                                   :                                                                                         :  +- Project [id#2802 AS target_id#2925, approvedSymbol#2803, description#2910, description_splited#2914, TSorOncogene#2919]\n                                                                                                                                                :                                   :                                                                                         :     +- Project [id#2802, approvedSymbol#2803, description#2910, description_splited#2914, CASE WHEN (RLIKE(description_splited#2914, ncogene) AND RLIKE(description_splited#2914, TSG)) THEN bivalent WHEN RLIKE(description_splited#2914, ncogene(\\s|$)) THEN oncogene WHEN RLIKE(description_splited#2914, TSG(\\s|$)) THEN TSG ELSE noEvaluable END AS TSorOncogene#2919]\n                                                                                                                                                :                                   :                                                                                         :        +- Project [id#2802, approvedSymbol#2803, description#2910, concat_ws(,, description#2910) AS description_splited#2914]\n                                                                                                                                                :                                   :                                                                                         :           +- Aggregate [id#2802, approvedSymbol#2803], [id#2802, approvedSymbol#2803, collect_set(description#2902, 0, 0) AS description#2910]\n                                                                                                                                                :                                   :                                                                                         :              +- Filter description#2902 IN (TSG,oncogene,Oncogene,oncogene,oncogene,TSG,TSG,oncogene,fusion,oncogene,oncogene,fusion)\n                                                                                                                                                :                                   :                                                                                         :                 +- Project [id#2802, approvedSymbol#2803, col#2897.description AS description#2902]\n                                                                                                                                                :                                   :                                                                                         :                    +- Project [id#2802, approvedSymbol#2803, col#2897]\n                                                                                                                                                :                                   :                                                                                         :                       +- Generate explode(hallmarks#2812.attributes), true, [col#2897]\n                                                                                                                                                :                                   :                                                                                         :                          +- Relation [id#2802,approvedSymbol#2803,biotype#2804,transcriptIds#2805,canonicalTranscript#2806,canonicalExons#2807,genomicLocation#2808,alternativeGenes#2809,approvedName#2810,go#2811,hallmarks#2812,synonyms#2813,symbolSynonyms#2814,nameSynonyms#2815,functionDescriptions#2816,subcellularLocations#2817,targetClass#2818,obsoleteSymbols#2819,obsoleteNames#2820,constraint#2821,tep#2822,proteinIds#2823,dbXrefs#2824,chemicalProbes#2825,... 5 more fields] parquet\n                                                                                                                                                :                                   :                                                                                         +- Aggregate [targetId2#2882, drugId2#2875], [targetId2#2882, drugId2#2875, collect_set(actionType#2860, 0, 0) AS actionType#2892]\n                                                                                                                                                :                                   :                                                                                            +- Project [targetId2#2882, drugId2#2875, actionType#2860, mechanismOfAction#2861]\n                                                                                                                                                :                                   :                                                                                               +- Generate explode(targets#2865), true, [targetId2#2882]\n                                                                                                                                                :                                   :                                                                                                  +- Project [drugId2#2875, actionType#2860, mechanismOfAction#2861, targets#2865]\n                                                                                                                                                :                                   :                                                                                                     +- Generate explode(chemblIds#2862), true, [drugId2#2875]\n                                                                                                                                                :                                   :                                                                                                        +- Relation [actionType#2860,mechanismOfAction#2861,chemblIds#2862,targetName#2863,targetType#2864,targets#2865,references#2866] parquet\n                                                                                                                                                :                                   +- Project [biosampleId#1059, biosampleName#1060]\n                                                                                                                                                :                                      +- Relation [biosampleId#1059,biosampleName#1060,description#1061,xrefs#1062,synonyms#1063,parents#1064,ancestors#1065,children#1066,descendants#1067] parquet\n                                                                                                                                                +- Project [targetId#24018, diseaseId#24100, stopReason#16492]\n                                                                                                                                                   +- Project [targetId#24018, diseaseId#24100, count#16488L, Negative AS stopReason#16492]\n                                                                                                                                                      +- Aggregate [targetId#24018, diseaseId#24100], [targetId#24018, diseaseId#24100, count(1) AS count#16488L]\n                                                                                                                                                         +- Filter array_contains(studyStopReasonCategories#24082, Negative)\n                                                                                                                                                            +- Project [targetId#24018, diseaseId#24100, studyStopReason#24081, studyStopReasonCategories#24082]\n                                                                                                                                                               +- Filter (datasourceId#24017 = chembl)\n                                                                                                                                                                  +- Project [datasourceId#24017, targetId#24018, alleleOrigins#24019, allelicRequirements#24020, ancestry#24021, ancestryId#24022, beta#24023, betaConfidenceIntervalLower#24024, betaConfidenceIntervalUpper#24025, biologicalModelAllelicComposition#24026, biologicalModelGeneticBackground#24027, biologicalModelId#24028, biomarkerName#24029, biomarkers#24030, biosamplesFromSource#24031, cellType#24032, clinicalPhase#24033, clinicalSignificances#24034, clinicalStatus#24035, cohortDescription#24036, cohortId#24037, cohortPhenotypes#24038, cohortShortName#24039, confidence#24040, ... 66 more fields]\n                                                                                                                                                                     +- Filter datasourceId#24017 IN (gwas_credible_sets,gene_burden,eva,eva_somatic,gene2phenotype,orphanet,cancer_gene_census,intogen,impc,chembl)\n                                                                                                                                                                        +- Relation [datasourceId#24017,targetId#24018,alleleOrigins#24019,allelicRequirements#24020,ancestry#24021,ancestryId#24022,beta#24023,betaConfidenceIntervalLower#24024,betaConfidenceIntervalUpper#24025,biologicalModelAllelicComposition#24026,biologicalModelGeneticBackground#24027,biologicalModelId#24028,biomarkerName#24029,biomarkers#24030,biosamplesFromSource#24031,cellType#24032,clinicalPhase#24033,clinicalSignificances#24034,clinicalStatus#24035,cohortDescription#24036,cohortId#24037,cohortPhenotypes#24038,cohortShortName#24039,confidence#24040,... 65 more fields] parquet\n",
     "output_type": "error",
     "traceback": [
      "\u001b[0;31m---------------------------------------------------------------------------\u001b[0m",
      "\u001b[0;31mAnalysisException\u001b[0m                         Traceback (most recent call last)",
      "Cell \u001b[0;32mIn[28], line 19\u001b[0m\n\u001b[1;32m     17\u001b[0m \u001b[38;5;66;03m# If needed, now process the rest\u001b[39;00m\n\u001b[1;32m     18\u001b[0m \u001b[38;5;28;01mfor\u001b[39;00m row \u001b[38;5;129;01min\u001b[39;00m rows:\n\u001b[0;32m---> 19\u001b[0m     results \u001b[38;5;241m=\u001b[39m \u001b[43maggregations_original\u001b[49m\u001b[43m(\u001b[49m\n\u001b[1;32m     20\u001b[0m \u001b[43m        \u001b[49m\u001b[43mpivoted_dfs\u001b[49m\u001b[43m[\u001b[49m\u001b[38;5;124;43m'\u001b[39;49m\u001b[38;5;124;43mprojectId\u001b[39;49m\u001b[38;5;124;43m'\u001b[39;49m\u001b[43m]\u001b[49m\u001b[43m,\u001b[49m\u001b[43m \u001b[49m\u001b[38;5;124;43m\"\u001b[39;49m\u001b[38;5;124;43mpropagated\u001b[39;49m\u001b[38;5;124;43m\"\u001b[39;49m\u001b[43m,\u001b[49m\u001b[43m \u001b[49m\u001b[43mlistado\u001b[49m\u001b[43m,\u001b[49m\u001b[43m \u001b[49m\u001b[38;5;241;43m*\u001b[39;49m\u001b[43mrow\u001b[49m\u001b[43m,\u001b[49m\u001b[43m \u001b[49m\u001b[43mtoday_date\u001b[49m\n\u001b[1;32m     21\u001b[0m \u001b[43m    \u001b[49m\u001b[43m)\u001b[49m\n\u001b[1;32m     22\u001b[0m     result_all\u001b[38;5;241m.\u001b[39mappend(results)\n\u001b[1;32m     24\u001b[0m pivoted_dfs[\u001b[38;5;124m'\u001b[39m\u001b[38;5;124mprojectId\u001b[39m\u001b[38;5;124m'\u001b[39m]\u001b[38;5;241m.\u001b[39munpersist()\n",
      "Cell \u001b[0;32mIn[2], line 35\u001b[0m, in \u001b[0;36maggregations_original\u001b[0;34m(df, data, listado, comparisonColumn, comparisonType, predictionColumn, predictionType, today_date)\u001b[0m\n\u001b[1;32m     28\u001b[0m results \u001b[38;5;241m=\u001b[39m []\n\u001b[1;32m     29\u001b[0m \u001b[38;5;66;03m# uniqIds = df.select(\"targetId\", \"diseaseId\").distinct().count()\u001b[39;00m\n\u001b[1;32m     30\u001b[0m out \u001b[38;5;241m=\u001b[39m (\n\u001b[1;32m     31\u001b[0m     \u001b[43mdf\u001b[49m\u001b[38;5;241;43m.\u001b[39;49m\u001b[43mwithColumn\u001b[49m\u001b[43m(\u001b[49m\u001b[38;5;124;43m\"\u001b[39;49m\u001b[38;5;124;43mcomparisonType\u001b[39;49m\u001b[38;5;124;43m\"\u001b[39;49m\u001b[43m,\u001b[49m\u001b[43m \u001b[49m\u001b[43mF\u001b[49m\u001b[38;5;241;43m.\u001b[39;49m\u001b[43mlit\u001b[49m\u001b[43m(\u001b[49m\u001b[43mcomparisonType\u001b[49m\u001b[43m)\u001b[49m\u001b[43m)\u001b[49m\n\u001b[1;32m     32\u001b[0m \u001b[43m    \u001b[49m\u001b[38;5;241;43m.\u001b[39;49m\u001b[43mwithColumn\u001b[49m\u001b[43m(\u001b[49m\u001b[38;5;124;43m\"\u001b[39;49m\u001b[38;5;124;43mdataset\u001b[39;49m\u001b[38;5;124;43m\"\u001b[39;49m\u001b[43m,\u001b[49m\u001b[43m \u001b[49m\u001b[43mF\u001b[49m\u001b[38;5;241;43m.\u001b[39;49m\u001b[43mlit\u001b[49m\u001b[43m(\u001b[49m\u001b[43mdata\u001b[49m\u001b[43m)\u001b[49m\u001b[43m)\u001b[49m\n\u001b[1;32m     33\u001b[0m \u001b[43m    \u001b[49m\u001b[38;5;241;43m.\u001b[39;49m\u001b[43mwithColumn\u001b[49m\u001b[43m(\u001b[49m\u001b[38;5;124;43m\"\u001b[39;49m\u001b[38;5;124;43mpredictionType\u001b[39;49m\u001b[38;5;124;43m\"\u001b[39;49m\u001b[43m,\u001b[49m\u001b[43m \u001b[49m\u001b[43mF\u001b[49m\u001b[38;5;241;43m.\u001b[39;49m\u001b[43mlit\u001b[49m\u001b[43m(\u001b[49m\u001b[43mpredictionType\u001b[49m\u001b[43m)\u001b[49m\u001b[43m)\u001b[49m\n\u001b[1;32m     34\u001b[0m \u001b[43m    \u001b[49m\u001b[38;5;66;43;03m# .withColumn(\"total\", F.lit(uniqIds))\u001b[39;49;00m\n\u001b[0;32m---> 35\u001b[0m \u001b[43m    \u001b[49m\u001b[38;5;241;43m.\u001b[39;49m\u001b[43mwithColumn\u001b[49m\u001b[43m(\u001b[49m\u001b[38;5;124;43m\"\u001b[39;49m\u001b[38;5;124;43ma\u001b[39;49m\u001b[38;5;124;43m\"\u001b[39;49m\u001b[43m,\u001b[49m\u001b[43m \u001b[49m\u001b[43mF\u001b[49m\u001b[38;5;241;43m.\u001b[39;49m\u001b[43mcount\u001b[49m\u001b[43m(\u001b[49m\u001b[38;5;124;43m\"\u001b[39;49m\u001b[38;5;124;43mtargetId\u001b[39;49m\u001b[38;5;124;43m\"\u001b[39;49m\u001b[43m)\u001b[49m\u001b[38;5;241;43m.\u001b[39;49m\u001b[43mover\u001b[49m\u001b[43m(\u001b[49m\u001b[43mwPredictionComparison\u001b[49m\u001b[43m)\u001b[49m\u001b[43m)\u001b[49m\n\u001b[1;32m     36\u001b[0m     \u001b[38;5;241m.\u001b[39mwithColumn(\u001b[38;5;124m\"\u001b[39m\u001b[38;5;124mcomparisonColumn\u001b[39m\u001b[38;5;124m\"\u001b[39m, F\u001b[38;5;241m.\u001b[39mlit(comparisonColumn))\n\u001b[1;32m     37\u001b[0m     \u001b[38;5;241m.\u001b[39mwithColumn(\u001b[38;5;124m\"\u001b[39m\u001b[38;5;124mpredictionColumnValue\u001b[39m\u001b[38;5;124m\"\u001b[39m, F\u001b[38;5;241m.\u001b[39mlit(predictionColumn))\n\u001b[1;32m     38\u001b[0m     \u001b[38;5;241m.\u001b[39mwithColumn(\n\u001b[1;32m     39\u001b[0m         \u001b[38;5;124m\"\u001b[39m\u001b[38;5;124mpredictionTotal\u001b[39m\u001b[38;5;124m\"\u001b[39m,\n\u001b[1;32m     40\u001b[0m         F\u001b[38;5;241m.\u001b[39mcount(\u001b[38;5;124m\"\u001b[39m\u001b[38;5;124mtargetId\u001b[39m\u001b[38;5;124m\"\u001b[39m)\u001b[38;5;241m.\u001b[39mover(wPrediction),\n\u001b[1;32m     41\u001b[0m     )\n\u001b[1;32m     42\u001b[0m     \u001b[38;5;241m.\u001b[39mwithColumn(\n\u001b[1;32m     43\u001b[0m         \u001b[38;5;124m\"\u001b[39m\u001b[38;5;124mcomparisonTotal\u001b[39m\u001b[38;5;124m\"\u001b[39m,\n\u001b[1;32m     44\u001b[0m         F\u001b[38;5;241m.\u001b[39mcount(\u001b[38;5;124m\"\u001b[39m\u001b[38;5;124mtargetId\u001b[39m\u001b[38;5;124m\"\u001b[39m)\u001b[38;5;241m.\u001b[39mover(wComparison),\n\u001b[1;32m     45\u001b[0m     )\n\u001b[1;32m     46\u001b[0m     \u001b[38;5;241m.\u001b[39mselect(\n\u001b[1;32m     47\u001b[0m         F\u001b[38;5;241m.\u001b[39mcol(predictionColumn)\u001b[38;5;241m.\u001b[39malias(\u001b[38;5;124m\"\u001b[39m\u001b[38;5;124mprediction\u001b[39m\u001b[38;5;124m\"\u001b[39m),\n\u001b[1;32m     48\u001b[0m         F\u001b[38;5;241m.\u001b[39mcol(comparisonColumn)\u001b[38;5;241m.\u001b[39malias(\u001b[38;5;124m\"\u001b[39m\u001b[38;5;124mcomparison\u001b[39m\u001b[38;5;124m\"\u001b[39m),\n\u001b[1;32m     49\u001b[0m         \u001b[38;5;124m\"\u001b[39m\u001b[38;5;124mdataset\u001b[39m\u001b[38;5;124m\"\u001b[39m,\n\u001b[1;32m     50\u001b[0m         \u001b[38;5;124m\"\u001b[39m\u001b[38;5;124mcomparisonColumn\u001b[39m\u001b[38;5;124m\"\u001b[39m,\n\u001b[1;32m     51\u001b[0m         \u001b[38;5;124m\"\u001b[39m\u001b[38;5;124mpredictionColumnValue\u001b[39m\u001b[38;5;124m\"\u001b[39m,\n\u001b[1;32m     52\u001b[0m         \u001b[38;5;124m\"\u001b[39m\u001b[38;5;124mcomparisonType\u001b[39m\u001b[38;5;124m\"\u001b[39m,\n\u001b[1;32m     53\u001b[0m         \u001b[38;5;124m\"\u001b[39m\u001b[38;5;124mpredictionType\u001b[39m\u001b[38;5;124m\"\u001b[39m,\n\u001b[1;32m     54\u001b[0m         \u001b[38;5;124m\"\u001b[39m\u001b[38;5;124ma\u001b[39m\u001b[38;5;124m\"\u001b[39m,\n\u001b[1;32m     55\u001b[0m         \u001b[38;5;124m\"\u001b[39m\u001b[38;5;124mpredictionTotal\u001b[39m\u001b[38;5;124m\"\u001b[39m,\n\u001b[1;32m     56\u001b[0m         \u001b[38;5;124m\"\u001b[39m\u001b[38;5;124mcomparisonTotal\u001b[39m\u001b[38;5;124m\"\u001b[39m,\n\u001b[1;32m     57\u001b[0m     )\n\u001b[1;32m     58\u001b[0m     \u001b[38;5;241m.\u001b[39mfilter(F\u001b[38;5;241m.\u001b[39mcol(\u001b[38;5;124m\"\u001b[39m\u001b[38;5;124mprediction\u001b[39m\u001b[38;5;124m\"\u001b[39m)\u001b[38;5;241m.\u001b[39misNotNull())\n\u001b[1;32m     59\u001b[0m     \u001b[38;5;241m.\u001b[39mfilter(F\u001b[38;5;241m.\u001b[39mcol(\u001b[38;5;124m\"\u001b[39m\u001b[38;5;124mcomparison\u001b[39m\u001b[38;5;124m\"\u001b[39m)\u001b[38;5;241m.\u001b[39misNotNull())\n\u001b[1;32m     60\u001b[0m     \u001b[38;5;241m.\u001b[39mdistinct()\n\u001b[1;32m     61\u001b[0m )\n\u001b[1;32m     63\u001b[0m out\u001b[38;5;241m.\u001b[39mwrite\u001b[38;5;241m.\u001b[39mmode(\u001b[38;5;124m\"\u001b[39m\u001b[38;5;124moverwrite\u001b[39m\u001b[38;5;124m\"\u001b[39m)\u001b[38;5;241m.\u001b[39mparquet(\n\u001b[1;32m     64\u001b[0m     \u001b[38;5;124m\"\u001b[39m\u001b[38;5;124mgs://ot-team/jroldan/\u001b[39m\u001b[38;5;124m\"\u001b[39m\n\u001b[1;32m     65\u001b[0m     \u001b[38;5;241m+\u001b[39m \u001b[38;5;28mstr\u001b[39m(\n\u001b[0;32m   (...)\u001b[0m\n\u001b[1;32m     78\u001b[0m     )\n\u001b[1;32m     79\u001b[0m )\n\u001b[1;32m     81\u001b[0m listado\u001b[38;5;241m.\u001b[39mappend(\n\u001b[1;32m     82\u001b[0m     \u001b[38;5;124m\"\u001b[39m\u001b[38;5;124mgs://ot-team/jroldan/\u001b[39m\u001b[38;5;124m\"\u001b[39m\n\u001b[1;32m     83\u001b[0m     \u001b[38;5;241m+\u001b[39m \u001b[38;5;28mstr\u001b[39m(\n\u001b[0;32m   (...)\u001b[0m\n\u001b[1;32m     96\u001b[0m     )\n\u001b[1;32m     97\u001b[0m )\n",
      "File \u001b[0;32m/usr/lib/spark/python/pyspark/sql/dataframe.py:5176\u001b[0m, in \u001b[0;36mDataFrame.withColumn\u001b[0;34m(self, colName, col)\u001b[0m\n\u001b[1;32m   5171\u001b[0m \u001b[38;5;28;01mif\u001b[39;00m \u001b[38;5;129;01mnot\u001b[39;00m \u001b[38;5;28misinstance\u001b[39m(col, Column):\n\u001b[1;32m   5172\u001b[0m     \u001b[38;5;28;01mraise\u001b[39;00m PySparkTypeError(\n\u001b[1;32m   5173\u001b[0m         error_class\u001b[38;5;241m=\u001b[39m\u001b[38;5;124m\"\u001b[39m\u001b[38;5;124mNOT_COLUMN\u001b[39m\u001b[38;5;124m\"\u001b[39m,\n\u001b[1;32m   5174\u001b[0m         message_parameters\u001b[38;5;241m=\u001b[39m{\u001b[38;5;124m\"\u001b[39m\u001b[38;5;124marg_name\u001b[39m\u001b[38;5;124m\"\u001b[39m: \u001b[38;5;124m\"\u001b[39m\u001b[38;5;124mcol\u001b[39m\u001b[38;5;124m\"\u001b[39m, \u001b[38;5;124m\"\u001b[39m\u001b[38;5;124marg_type\u001b[39m\u001b[38;5;124m\"\u001b[39m: \u001b[38;5;28mtype\u001b[39m(col)\u001b[38;5;241m.\u001b[39m\u001b[38;5;18m__name__\u001b[39m},\n\u001b[1;32m   5175\u001b[0m     )\n\u001b[0;32m-> 5176\u001b[0m \u001b[38;5;28;01mreturn\u001b[39;00m DataFrame(\u001b[38;5;28;43mself\u001b[39;49m\u001b[38;5;241;43m.\u001b[39;49m\u001b[43m_jdf\u001b[49m\u001b[38;5;241;43m.\u001b[39;49m\u001b[43mwithColumn\u001b[49m\u001b[43m(\u001b[49m\u001b[43mcolName\u001b[49m\u001b[43m,\u001b[49m\u001b[43m \u001b[49m\u001b[43mcol\u001b[49m\u001b[38;5;241;43m.\u001b[39;49m\u001b[43m_jc\u001b[49m\u001b[43m)\u001b[49m, \u001b[38;5;28mself\u001b[39m\u001b[38;5;241m.\u001b[39msparkSession)\n",
      "File \u001b[0;32m/usr/lib/spark/python/lib/py4j-0.10.9.7-src.zip/py4j/java_gateway.py:1322\u001b[0m, in \u001b[0;36mJavaMember.__call__\u001b[0;34m(self, *args)\u001b[0m\n\u001b[1;32m   1316\u001b[0m command \u001b[38;5;241m=\u001b[39m proto\u001b[38;5;241m.\u001b[39mCALL_COMMAND_NAME \u001b[38;5;241m+\u001b[39m\\\n\u001b[1;32m   1317\u001b[0m     \u001b[38;5;28mself\u001b[39m\u001b[38;5;241m.\u001b[39mcommand_header \u001b[38;5;241m+\u001b[39m\\\n\u001b[1;32m   1318\u001b[0m     args_command \u001b[38;5;241m+\u001b[39m\\\n\u001b[1;32m   1319\u001b[0m     proto\u001b[38;5;241m.\u001b[39mEND_COMMAND_PART\n\u001b[1;32m   1321\u001b[0m answer \u001b[38;5;241m=\u001b[39m \u001b[38;5;28mself\u001b[39m\u001b[38;5;241m.\u001b[39mgateway_client\u001b[38;5;241m.\u001b[39msend_command(command)\n\u001b[0;32m-> 1322\u001b[0m return_value \u001b[38;5;241m=\u001b[39m \u001b[43mget_return_value\u001b[49m\u001b[43m(\u001b[49m\n\u001b[1;32m   1323\u001b[0m \u001b[43m    \u001b[49m\u001b[43manswer\u001b[49m\u001b[43m,\u001b[49m\u001b[43m \u001b[49m\u001b[38;5;28;43mself\u001b[39;49m\u001b[38;5;241;43m.\u001b[39;49m\u001b[43mgateway_client\u001b[49m\u001b[43m,\u001b[49m\u001b[43m \u001b[49m\u001b[38;5;28;43mself\u001b[39;49m\u001b[38;5;241;43m.\u001b[39;49m\u001b[43mtarget_id\u001b[49m\u001b[43m,\u001b[49m\u001b[43m \u001b[49m\u001b[38;5;28;43mself\u001b[39;49m\u001b[38;5;241;43m.\u001b[39;49m\u001b[43mname\u001b[49m\u001b[43m)\u001b[49m\n\u001b[1;32m   1325\u001b[0m \u001b[38;5;28;01mfor\u001b[39;00m temp_arg \u001b[38;5;129;01min\u001b[39;00m temp_args:\n\u001b[1;32m   1326\u001b[0m     \u001b[38;5;28;01mif\u001b[39;00m \u001b[38;5;28mhasattr\u001b[39m(temp_arg, \u001b[38;5;124m\"\u001b[39m\u001b[38;5;124m_detach\u001b[39m\u001b[38;5;124m\"\u001b[39m):\n",
      "File \u001b[0;32m/usr/lib/spark/python/pyspark/errors/exceptions/captured.py:185\u001b[0m, in \u001b[0;36mcapture_sql_exception.<locals>.deco\u001b[0;34m(*a, **kw)\u001b[0m\n\u001b[1;32m    181\u001b[0m converted \u001b[38;5;241m=\u001b[39m convert_exception(e\u001b[38;5;241m.\u001b[39mjava_exception)\n\u001b[1;32m    182\u001b[0m \u001b[38;5;28;01mif\u001b[39;00m \u001b[38;5;129;01mnot\u001b[39;00m \u001b[38;5;28misinstance\u001b[39m(converted, UnknownException):\n\u001b[1;32m    183\u001b[0m     \u001b[38;5;66;03m# Hide where the exception came from that shows a non-Pythonic\u001b[39;00m\n\u001b[1;32m    184\u001b[0m     \u001b[38;5;66;03m# JVM exception message.\u001b[39;00m\n\u001b[0;32m--> 185\u001b[0m     \u001b[38;5;28;01mraise\u001b[39;00m converted \u001b[38;5;28;01mfrom\u001b[39;00m\u001b[38;5;250m \u001b[39m\u001b[38;5;28;01mNone\u001b[39;00m\n\u001b[1;32m    186\u001b[0m \u001b[38;5;28;01melse\u001b[39;00m:\n\u001b[1;32m    187\u001b[0m     \u001b[38;5;28;01mraise\u001b[39;00m\n",
      "\u001b[0;31mAnalysisException\u001b[0m: [UNRESOLVED_COLUMN.WITH_SUGGESTION] A column or function parameter with name `Phase4` cannot be resolved. Did you mean one of the following? [`PhaseT`, `Phase>=4`, `Phase>=1`, `Phase>=2`, `Phase>=3`].;\n'Project [targetId#2088, diseaseId#2170, maxClinPhase#6197, null#23898, Alasoo_2018#23900, Aygun_2021#23902, BLUEPRINT#23904, Bossini-Castillo_2019#23906, BrainSeq#23908, Braineac2#23910, CAP#23912, CEDAR#23914, CommonMind#23916, Cytoimmgen#23918, FUSION#23920, Fairfax_2012#23922, Fairfax_2014#23924, GENCORD#23926, GEUVADIS#23928, GTEx#23930, HipSci#23932, Jerber_2021#23934, Kasela_2017#23936, Kim-Hellmuth_2017#23938, ... 66 more fields]\n+- Project [targetId#2088, diseaseId#2170, maxClinPhase#6197, null#23898, Alasoo_2018#23900, Aygun_2021#23902, BLUEPRINT#23904, Bossini-Castillo_2019#23906, BrainSeq#23908, Braineac2#23910, CAP#23912, CEDAR#23914, CommonMind#23916, Cytoimmgen#23918, FUSION#23920, Fairfax_2012#23922, Fairfax_2014#23924, GENCORD#23926, GEUVADIS#23928, GTEx#23930, HipSci#23932, Jerber_2021#23934, Kasela_2017#23936, Kim-Hellmuth_2017#23938, ... 65 more fields]\n   +- Project [targetId#2088, diseaseId#2170, maxClinPhase#6197, null#23898, Alasoo_2018#23900, Aygun_2021#23902, BLUEPRINT#23904, Bossini-Castillo_2019#23906, BrainSeq#23908, Braineac2#23910, CAP#23912, CEDAR#23914, CommonMind#23916, Cytoimmgen#23918, FUSION#23920, Fairfax_2012#23922, Fairfax_2014#23924, GENCORD#23926, GEUVADIS#23928, GTEx#23930, HipSci#23932, Jerber_2021#23934, Kasela_2017#23936, Kim-Hellmuth_2017#23938, ... 64 more fields]\n      +- Project [targetId#2088, diseaseId#2170, maxClinPhase#6197, null#23898, Alasoo_2018#23900, Aygun_2021#23902, BLUEPRINT#23904, Bossini-Castillo_2019#23906, BrainSeq#23908, Braineac2#23910, CAP#23912, CEDAR#23914, CommonMind#23916, Cytoimmgen#23918, FUSION#23920, Fairfax_2012#23922, Fairfax_2014#23924, GENCORD#23926, GEUVADIS#23928, GTEx#23930, HipSci#23932, Jerber_2021#23934, Kasela_2017#23936, Kim-Hellmuth_2017#23938, ... 63 more fields]\n         +- Project [targetId#2088, diseaseId#2170, maxClinPhase#6197, null#23898, Alasoo_2018#23900, Aygun_2021#23902, BLUEPRINT#23904, Bossini-Castillo_2019#23906, BrainSeq#23908, Braineac2#23910, CAP#23912, CEDAR#23914, CommonMind#23916, Cytoimmgen#23918, FUSION#23920, Fairfax_2012#23922, Fairfax_2014#23924, GENCORD#23926, GEUVADIS#23928, GTEx#23930, HipSci#23932, Jerber_2021#23934, Kasela_2017#23936, Kim-Hellmuth_2017#23938, ... 62 more fields]\n            +- Project [targetId#2088, diseaseId#2170, maxClinPhase#6197, null#23898, Alasoo_2018#23900, Aygun_2021#23902, BLUEPRINT#23904, Bossini-Castillo_2019#23906, BrainSeq#23908, Braineac2#23910, CAP#23912, CEDAR#23914, CommonMind#23916, Cytoimmgen#23918, FUSION#23920, Fairfax_2012#23922, Fairfax_2014#23924, GENCORD#23926, GEUVADIS#23928, GTEx#23930, HipSci#23932, Jerber_2021#23934, Kasela_2017#23936, Kim-Hellmuth_2017#23938, ... 61 more fields]\n               +- Project [targetId#2088, diseaseId#2170, maxClinPhase#6197, null#23898, Alasoo_2018#23900, Aygun_2021#23902, BLUEPRINT#23904, Bossini-Castillo_2019#23906, BrainSeq#23908, Braineac2#23910, CAP#23912, CEDAR#23914, CommonMind#23916, Cytoimmgen#23918, FUSION#23920, Fairfax_2012#23922, Fairfax_2014#23924, GENCORD#23926, GEUVADIS#23928, GTEx#23930, HipSci#23932, Jerber_2021#23934, Kasela_2017#23936, Kim-Hellmuth_2017#23938, ... 60 more fields]\n                  +- Project [targetId#2088, diseaseId#2170, maxClinPhase#6197, null#23898, Alasoo_2018#23900, Aygun_2021#23902, BLUEPRINT#23904, Bossini-Castillo_2019#23906, BrainSeq#23908, Braineac2#23910, CAP#23912, CEDAR#23914, CommonMind#23916, Cytoimmgen#23918, FUSION#23920, Fairfax_2012#23922, Fairfax_2014#23924, GENCORD#23926, GEUVADIS#23928, GTEx#23930, HipSci#23932, Jerber_2021#23934, Kasela_2017#23936, Kim-Hellmuth_2017#23938, ... 59 more fields]\n                     +- Project [targetId#2088, diseaseId#2170, maxClinPhase#6197, null#23898, Alasoo_2018#23900, Aygun_2021#23902, BLUEPRINT#23904, Bossini-Castillo_2019#23906, BrainSeq#23908, Braineac2#23910, CAP#23912, CEDAR#23914, CommonMind#23916, Cytoimmgen#23918, FUSION#23920, Fairfax_2012#23922, Fairfax_2014#23924, GENCORD#23926, GEUVADIS#23928, GTEx#23930, HipSci#23932, Jerber_2021#23934, Kasela_2017#23936, Kim-Hellmuth_2017#23938, ... 58 more fields]\n                        +- Project [targetId#2088, diseaseId#2170, maxClinPhase#6197, null#23898, Alasoo_2018#23900, Aygun_2021#23902, BLUEPRINT#23904, Bossini-Castillo_2019#23906, BrainSeq#23908, Braineac2#23910, CAP#23912, CEDAR#23914, CommonMind#23916, Cytoimmgen#23918, FUSION#23920, Fairfax_2012#23922, Fairfax_2014#23924, GENCORD#23926, GEUVADIS#23928, GTEx#23930, HipSci#23932, Jerber_2021#23934, Kasela_2017#23936, Kim-Hellmuth_2017#23938, ... 57 more fields]\n                           +- Project [targetId#2088, diseaseId#2170, maxClinPhase#6197, null#23898, Alasoo_2018#23900, Aygun_2021#23902, BLUEPRINT#23904, Bossini-Castillo_2019#23906, BrainSeq#23908, Braineac2#23910, CAP#23912, CEDAR#23914, CommonMind#23916, Cytoimmgen#23918, FUSION#23920, Fairfax_2012#23922, Fairfax_2014#23924, GENCORD#23926, GEUVADIS#23928, GTEx#23930, HipSci#23932, Jerber_2021#23934, Kasela_2017#23936, Kim-Hellmuth_2017#23938, ... 56 more fields]\n                              +- Project [targetId#2088, diseaseId#2170, maxClinPhase#6197, null#23898, Alasoo_2018#23900, Aygun_2021#23902, BLUEPRINT#23904, Bossini-Castillo_2019#23906, BrainSeq#23908, Braineac2#23910, CAP#23912, CEDAR#23914, CommonMind#23916, Cytoimmgen#23918, FUSION#23920, Fairfax_2012#23922, Fairfax_2014#23924, GENCORD#23926, GEUVADIS#23928, GTEx#23930, HipSci#23932, Jerber_2021#23934, Kasela_2017#23936, Kim-Hellmuth_2017#23938, ... 55 more fields]\n                                 +- Project [targetId#2088, diseaseId#2170, maxClinPhase#6197, null#23898, Alasoo_2018#23900, Aygun_2021#23902, BLUEPRINT#23904, Bossini-Castillo_2019#23906, BrainSeq#23908, Braineac2#23910, CAP#23912, CEDAR#23914, CommonMind#23916, Cytoimmgen#23918, FUSION#23920, Fairfax_2012#23922, Fairfax_2014#23924, GENCORD#23926, GEUVADIS#23928, GTEx#23930, HipSci#23932, Jerber_2021#23934, Kasela_2017#23936, Kim-Hellmuth_2017#23938, ... 54 more fields]\n                                    +- Project [targetId#2088, diseaseId#2170, maxClinPhase#6197, null#23898, Alasoo_2018#23900, Aygun_2021#23902, BLUEPRINT#23904, Bossini-Castillo_2019#23906, BrainSeq#23908, Braineac2#23910, CAP#23912, CEDAR#23914, CommonMind#23916, Cytoimmgen#23918, FUSION#23920, Fairfax_2012#23922, Fairfax_2014#23924, GENCORD#23926, GEUVADIS#23928, GTEx#23930, HipSci#23932, Jerber_2021#23934, Kasela_2017#23936, Kim-Hellmuth_2017#23938, ... 53 more fields]\n                                       +- Project [targetId#2088, diseaseId#2170, maxClinPhase#6197, null#23898, Alasoo_2018#23900, Aygun_2021#23902, BLUEPRINT#23904, Bossini-Castillo_2019#23906, BrainSeq#23908, Braineac2#23910, CAP#23912, CEDAR#23914, CommonMind#23916, Cytoimmgen#23918, FUSION#23920, Fairfax_2012#23922, Fairfax_2014#23924, GENCORD#23926, GEUVADIS#23928, GTEx#23930, HipSci#23932, Jerber_2021#23934, Kasela_2017#23936, Kim-Hellmuth_2017#23938, ... 52 more fields]\n                                          +- Project [targetId#2088, diseaseId#2170, maxClinPhase#6197, null#23898, Alasoo_2018#23900, Aygun_2021#23902, BLUEPRINT#23904, Bossini-Castillo_2019#23906, BrainSeq#23908, Braineac2#23910, CAP#23912, CEDAR#23914, CommonMind#23916, Cytoimmgen#23918, FUSION#23920, Fairfax_2012#23922, Fairfax_2014#23924, GENCORD#23926, GEUVADIS#23928, GTEx#23930, HipSci#23932, Jerber_2021#23934, Kasela_2017#23936, Kim-Hellmuth_2017#23938, ... 51 more fields]\n                                             +- Project [targetId#2088, diseaseId#2170, maxClinPhase#6197, null#23898, Alasoo_2018#23900, Aygun_2021#23902, BLUEPRINT#23904, Bossini-Castillo_2019#23906, BrainSeq#23908, Braineac2#23910, CAP#23912, CEDAR#23914, CommonMind#23916, Cytoimmgen#23918, FUSION#23920, Fairfax_2012#23922, Fairfax_2014#23924, GENCORD#23926, GEUVADIS#23928, GTEx#23930, HipSci#23932, Jerber_2021#23934, Kasela_2017#23936, Kim-Hellmuth_2017#23938, ... 50 more fields]\n                                                +- Project [targetId#2088, diseaseId#2170, maxClinPhase#6197, null#23898, Alasoo_2018#23900, Aygun_2021#23902, BLUEPRINT#23904, Bossini-Castillo_2019#23906, BrainSeq#23908, Braineac2#23910, CAP#23912, CEDAR#23914, CommonMind#23916, Cytoimmgen#23918, FUSION#23920, Fairfax_2012#23922, Fairfax_2014#23924, GENCORD#23926, GEUVADIS#23928, GTEx#23930, HipSci#23932, Jerber_2021#23934, Kasela_2017#23936, Kim-Hellmuth_2017#23938, ... 49 more fields]\n                                                   +- Project [targetId#2088, diseaseId#2170, maxClinPhase#6197, null#23898, Alasoo_2018#23900, Aygun_2021#23902, BLUEPRINT#23904, Bossini-Castillo_2019#23906, BrainSeq#23908, Braineac2#23910, CAP#23912, CEDAR#23914, CommonMind#23916, Cytoimmgen#23918, FUSION#23920, Fairfax_2012#23922, Fairfax_2014#23924, GENCORD#23926, GEUVADIS#23928, GTEx#23930, HipSci#23932, Jerber_2021#23934, Kasela_2017#23936, Kim-Hellmuth_2017#23938, ... 48 more fields]\n                                                      +- Project [targetId#2088, diseaseId#2170, maxClinPhase#6197, null#23898, Alasoo_2018#23900, Aygun_2021#23902, BLUEPRINT#23904, Bossini-Castillo_2019#23906, BrainSeq#23908, Braineac2#23910, CAP#23912, CEDAR#23914, CommonMind#23916, Cytoimmgen#23918, FUSION#23920, Fairfax_2012#23922, Fairfax_2014#23924, GENCORD#23926, GEUVADIS#23928, GTEx#23930, HipSci#23932, Jerber_2021#23934, Kasela_2017#23936, Kim-Hellmuth_2017#23938, ... 47 more fields]\n                                                         +- Project [targetId#2088, diseaseId#2170, maxClinPhase#6197, null#23898, Alasoo_2018#23900, Aygun_2021#23902, BLUEPRINT#23904, Bossini-Castillo_2019#23906, BrainSeq#23908, Braineac2#23910, CAP#23912, CEDAR#23914, CommonMind#23916, Cytoimmgen#23918, FUSION#23920, Fairfax_2012#23922, Fairfax_2014#23924, GENCORD#23926, GEUVADIS#23928, GTEx#23930, HipSci#23932, Jerber_2021#23934, Kasela_2017#23936, Kim-Hellmuth_2017#23938, ... 46 more fields]\n                                                            +- Project [targetId#2088, diseaseId#2170, maxClinPhase#6197, null#23898, Alasoo_2018#23900, Aygun_2021#23902, BLUEPRINT#23904, Bossini-Castillo_2019#23906, BrainSeq#23908, Braineac2#23910, CAP#23912, CEDAR#23914, CommonMind#23916, Cytoimmgen#23918, FUSION#23920, Fairfax_2012#23922, Fairfax_2014#23924, GENCORD#23926, GEUVADIS#23928, GTEx#23930, HipSci#23932, Jerber_2021#23934, Kasela_2017#23936, Kim-Hellmuth_2017#23938, ... 45 more fields]\n                                                               +- Project [targetId#2088, diseaseId#2170, maxClinPhase#6197, null#23898, Alasoo_2018#23900, Aygun_2021#23902, BLUEPRINT#23904, Bossini-Castillo_2019#23906, BrainSeq#23908, Braineac2#23910, CAP#23912, CEDAR#23914, CommonMind#23916, Cytoimmgen#23918, FUSION#23920, Fairfax_2012#23922, Fairfax_2014#23924, GENCORD#23926, GEUVADIS#23928, GTEx#23930, HipSci#23932, Jerber_2021#23934, Kasela_2017#23936, Kim-Hellmuth_2017#23938, ... 44 more fields]\n                                                                  +- Project [targetId#2088, diseaseId#2170, maxClinPhase#6197, null#23898, Alasoo_2018#23900, Aygun_2021#23902, BLUEPRINT#23904, Bossini-Castillo_2019#23906, BrainSeq#23908, Braineac2#23910, CAP#23912, CEDAR#23914, CommonMind#23916, Cytoimmgen#23918, FUSION#23920, Fairfax_2012#23922, Fairfax_2014#23924, GENCORD#23926, GEUVADIS#23928, GTEx#23930, HipSci#23932, Jerber_2021#23934, Kasela_2017#23936, Kim-Hellmuth_2017#23938, ... 43 more fields]\n                                                                     +- Project [targetId#2088, diseaseId#2170, maxClinPhase#6197, null#23898, Alasoo_2018#23900, Aygun_2021#23902, BLUEPRINT#23904, Bossini-Castillo_2019#23906, BrainSeq#23908, Braineac2#23910, CAP#23912, CEDAR#23914, CommonMind#23916, Cytoimmgen#23918, FUSION#23920, Fairfax_2012#23922, Fairfax_2014#23924, GENCORD#23926, GEUVADIS#23928, GTEx#23930, HipSci#23932, Jerber_2021#23934, Kasela_2017#23936, Kim-Hellmuth_2017#23938, ... 42 more fields]\n                                                                        +- Project [targetId#2088, diseaseId#2170, maxClinPhase#6197, null#23898, Alasoo_2018#23900, Aygun_2021#23902, BLUEPRINT#23904, Bossini-Castillo_2019#23906, BrainSeq#23908, Braineac2#23910, CAP#23912, CEDAR#23914, CommonMind#23916, Cytoimmgen#23918, FUSION#23920, Fairfax_2012#23922, Fairfax_2014#23924, GENCORD#23926, GEUVADIS#23928, GTEx#23930, HipSci#23932, Jerber_2021#23934, Kasela_2017#23936, Kim-Hellmuth_2017#23938, ... 41 more fields]\n                                                                           +- Project [targetId#2088, diseaseId#2170, maxClinPhase#6197, null#23898, Alasoo_2018#23900, Aygun_2021#23902, BLUEPRINT#23904, Bossini-Castillo_2019#23906, BrainSeq#23908, Braineac2#23910, CAP#23912, CEDAR#23914, CommonMind#23916, Cytoimmgen#23918, FUSION#23920, Fairfax_2012#23922, Fairfax_2014#23924, GENCORD#23926, GEUVADIS#23928, GTEx#23930, HipSci#23932, Jerber_2021#23934, Kasela_2017#23936, Kim-Hellmuth_2017#23938, ... 40 more fields]\n                                                                              +- Project [targetId#2088, diseaseId#2170, maxClinPhase#6197, null#23898, Alasoo_2018#23900, Aygun_2021#23902, BLUEPRINT#23904, Bossini-Castillo_2019#23906, BrainSeq#23908, Braineac2#23910, CAP#23912, CEDAR#23914, CommonMind#23916, Cytoimmgen#23918, FUSION#23920, Fairfax_2012#23922, Fairfax_2014#23924, GENCORD#23926, GEUVADIS#23928, GTEx#23930, HipSci#23932, Jerber_2021#23934, Kasela_2017#23936, Kim-Hellmuth_2017#23938, ... 39 more fields]\n                                                                                 +- Project [targetId#2088, diseaseId#2170, maxClinPhase#6197, null#23898, Alasoo_2018#23900, Aygun_2021#23902, BLUEPRINT#23904, Bossini-Castillo_2019#23906, BrainSeq#23908, Braineac2#23910, CAP#23912, CEDAR#23914, CommonMind#23916, Cytoimmgen#23918, FUSION#23920, Fairfax_2012#23922, Fairfax_2014#23924, GENCORD#23926, GEUVADIS#23928, GTEx#23930, HipSci#23932, Jerber_2021#23934, Kasela_2017#23936, Kim-Hellmuth_2017#23938, ... 38 more fields]\n                                                                                    +- Project [targetId#2088, diseaseId#2170, maxClinPhase#6197, null#23898, Alasoo_2018#23900, Aygun_2021#23902, BLUEPRINT#23904, Bossini-Castillo_2019#23906, BrainSeq#23908, Braineac2#23910, CAP#23912, CEDAR#23914, CommonMind#23916, Cytoimmgen#23918, FUSION#23920, Fairfax_2012#23922, Fairfax_2014#23924, GENCORD#23926, GEUVADIS#23928, GTEx#23930, HipSci#23932, Jerber_2021#23934, Kasela_2017#23936, Kim-Hellmuth_2017#23938, ... 37 more fields]\n                                                                                       +- Project [targetId#2088, diseaseId#2170, maxClinPhase#6197, null#23898, Alasoo_2018#23900, Aygun_2021#23902, BLUEPRINT#23904, Bossini-Castillo_2019#23906, BrainSeq#23908, Braineac2#23910, CAP#23912, CEDAR#23914, CommonMind#23916, Cytoimmgen#23918, FUSION#23920, Fairfax_2012#23922, Fairfax_2014#23924, GENCORD#23926, GEUVADIS#23928, GTEx#23930, HipSci#23932, Jerber_2021#23934, Kasela_2017#23936, Kim-Hellmuth_2017#23938, ... 36 more fields]\n                                                                                          +- Project [targetId#2088, diseaseId#2170, maxClinPhase#6197, null#23898, Alasoo_2018#23900, Aygun_2021#23902, BLUEPRINT#23904, Bossini-Castillo_2019#23906, BrainSeq#23908, Braineac2#23910, CAP#23912, CEDAR#23914, CommonMind#23916, Cytoimmgen#23918, FUSION#23920, Fairfax_2012#23922, Fairfax_2014#23924, GENCORD#23926, GEUVADIS#23928, GTEx#23930, HipSci#23932, Jerber_2021#23934, Kasela_2017#23936, Kim-Hellmuth_2017#23938, ... 35 more fields]\n                                                                                             +- Project [targetId#2088, diseaseId#2170, maxClinPhase#6197, null#23898, Alasoo_2018#23900, Aygun_2021#23902, BLUEPRINT#23904, Bossini-Castillo_2019#23906, BrainSeq#23908, Braineac2#23910, CAP#23912, CEDAR#23914, CommonMind#23916, Cytoimmgen#23918, FUSION#23920, Fairfax_2012#23922, Fairfax_2014#23924, GENCORD#23926, GEUVADIS#23928, GTEx#23930, HipSci#23932, Jerber_2021#23934, Kasela_2017#23936, Kim-Hellmuth_2017#23938, ... 34 more fields]\n                                                                                                +- Project [targetId#2088, diseaseId#2170, maxClinPhase#6197, null#23898, Alasoo_2018#23900, Aygun_2021#23902, BLUEPRINT#23904, Bossini-Castillo_2019#23906, BrainSeq#23908, Braineac2#23910, CAP#23912, CEDAR#23914, CommonMind#23916, Cytoimmgen#23918, FUSION#23920, Fairfax_2012#23922, Fairfax_2014#23924, GENCORD#23926, GEUVADIS#23928, GTEx#23930, HipSci#23932, Jerber_2021#23934, Kasela_2017#23936, Kim-Hellmuth_2017#23938, ... 33 more fields]\n                                                                                                   +- Project [targetId#2088, diseaseId#2170, maxClinPhase#6197, null#23898, Alasoo_2018#23900, Aygun_2021#23902, BLUEPRINT#23904, Bossini-Castillo_2019#23906, BrainSeq#23908, Braineac2#23910, CAP#23912, CEDAR#23914, CommonMind#23916, Cytoimmgen#23918, FUSION#23920, Fairfax_2012#23922, Fairfax_2014#23924, GENCORD#23926, GEUVADIS#23928, GTEx#23930, HipSci#23932, Jerber_2021#23934, Kasela_2017#23936, Kim-Hellmuth_2017#23938, ... 32 more fields]\n                                                                                                      +- Project [targetId#2088, diseaseId#2170, maxClinPhase#6197, null#23898, Alasoo_2018#23900, Aygun_2021#23902, BLUEPRINT#23904, Bossini-Castillo_2019#23906, BrainSeq#23908, Braineac2#23910, CAP#23912, CEDAR#23914, CommonMind#23916, Cytoimmgen#23918, FUSION#23920, Fairfax_2012#23922, Fairfax_2014#23924, GENCORD#23926, GEUVADIS#23928, GTEx#23930, HipSci#23932, Jerber_2021#23934, Kasela_2017#23936, Kim-Hellmuth_2017#23938, ... 31 more fields]\n                                                                                                         +- Project [targetId#2088, diseaseId#2170, maxClinPhase#6197, null#23898, Alasoo_2018#23900, Aygun_2021#23902, BLUEPRINT#23904, Bossini-Castillo_2019#23906, BrainSeq#23908, Braineac2#23910, CAP#23912, CEDAR#23914, CommonMind#23916, Cytoimmgen#23918, FUSION#23920, Fairfax_2012#23922, Fairfax_2014#23924, GENCORD#23926, GEUVADIS#23928, GTEx#23930, HipSci#23932, Jerber_2021#23934, Kasela_2017#23936, Kim-Hellmuth_2017#23938, ... 30 more fields]\n                                                                                                            +- Project [targetId#2088, diseaseId#2170, maxClinPhase#6197, null#23898, Alasoo_2018#23900, Aygun_2021#23902, BLUEPRINT#23904, Bossini-Castillo_2019#23906, BrainSeq#23908, Braineac2#23910, CAP#23912, CEDAR#23914, CommonMind#23916, Cytoimmgen#23918, FUSION#23920, Fairfax_2012#23922, Fairfax_2014#23924, GENCORD#23926, GEUVADIS#23928, GTEx#23930, HipSci#23932, Jerber_2021#23934, Kasela_2017#23936, Kim-Hellmuth_2017#23938, ... 29 more fields]\n                                                                                                               +- Project [targetId#2088, diseaseId#2170, maxClinPhase#6197, null#23898, Alasoo_2018#23900, Aygun_2021#23902, BLUEPRINT#23904, Bossini-Castillo_2019#23906, BrainSeq#23908, Braineac2#23910, CAP#23912, CEDAR#23914, CommonMind#23916, Cytoimmgen#23918, FUSION#23920, Fairfax_2012#23922, Fairfax_2014#23924, GENCORD#23926, GEUVADIS#23928, GTEx#23930, HipSci#23932, Jerber_2021#23934, Kasela_2017#23936, Kim-Hellmuth_2017#23938, ... 28 more fields]\n                                                                                                                  +- Project [targetId#2088, diseaseId#2170, maxClinPhase#6197, null#23898, Alasoo_2018#23900, Aygun_2021#23902, BLUEPRINT#23904, Bossini-Castillo_2019#23906, BrainSeq#23908, Braineac2#23910, CAP#23912, CEDAR#23914, CommonMind#23916, Cytoimmgen#23918, FUSION#23920, Fairfax_2012#23922, Fairfax_2014#23924, GENCORD#23926, GEUVADIS#23928, GTEx#23930, HipSci#23932, Jerber_2021#23934, Kasela_2017#23936, Kim-Hellmuth_2017#23938, ... 27 more fields]\n                                                                                                                     +- Project [targetId#2088, diseaseId#2170, maxClinPhase#6197, null#23898, Alasoo_2018#23900, Aygun_2021#23902, BLUEPRINT#23904, Bossini-Castillo_2019#23906, BrainSeq#23908, Braineac2#23910, CAP#23912, CEDAR#23914, CommonMind#23916, Cytoimmgen#23918, FUSION#23920, Fairfax_2012#23922, Fairfax_2014#23924, GENCORD#23926, GEUVADIS#23928, GTEx#23930, HipSci#23932, Jerber_2021#23934, Kasela_2017#23936, Kim-Hellmuth_2017#23938, ... 26 more fields]\n                                                                                                                        +- Project [targetId#2088, diseaseId#2170, maxClinPhase#6197, null#23898, Alasoo_2018#23900, Aygun_2021#23902, BLUEPRINT#23904, Bossini-Castillo_2019#23906, BrainSeq#23908, Braineac2#23910, CAP#23912, CEDAR#23914, CommonMind#23916, Cytoimmgen#23918, FUSION#23920, Fairfax_2012#23922, Fairfax_2014#23924, GENCORD#23926, GEUVADIS#23928, GTEx#23930, HipSci#23932, Jerber_2021#23934, Kasela_2017#23936, Kim-Hellmuth_2017#23938, ... 25 more fields]\n                                                                                                                           +- Project [targetId#2088, diseaseId#2170, maxClinPhase#6197, null#23898, Alasoo_2018#23900, Aygun_2021#23902, BLUEPRINT#23904, Bossini-Castillo_2019#23906, BrainSeq#23908, Braineac2#23910, CAP#23912, CEDAR#23914, CommonMind#23916, Cytoimmgen#23918, FUSION#23920, Fairfax_2012#23922, Fairfax_2014#23924, GENCORD#23926, GEUVADIS#23928, GTEx#23930, HipSci#23932, Jerber_2021#23934, Kasela_2017#23936, Kim-Hellmuth_2017#23938, ... 24 more fields]\n                                                                                                                              +- Project [targetId#2088, diseaseId#2170, maxClinPhase#6197, null#23898, Alasoo_2018#23900, Aygun_2021#23902, BLUEPRINT#23904, Bossini-Castillo_2019#23906, BrainSeq#23908, Braineac2#23910, CAP#23912, CEDAR#23914, CommonMind#23916, Cytoimmgen#23918, FUSION#23920, Fairfax_2012#23922, Fairfax_2014#23924, GENCORD#23926, GEUVADIS#23928, GTEx#23930, HipSci#23932, Jerber_2021#23934, Kasela_2017#23936, Kim-Hellmuth_2017#23938, ... 23 more fields]\n                                                                                                                                 +- Project [targetId#2088, diseaseId#2170, maxClinPhase#6197, null#23898, Alasoo_2018#23900, Aygun_2021#23902, BLUEPRINT#23904, Bossini-Castillo_2019#23906, BrainSeq#23908, Braineac2#23910, CAP#23912, CEDAR#23914, CommonMind#23916, Cytoimmgen#23918, FUSION#23920, Fairfax_2012#23922, Fairfax_2014#23924, GENCORD#23926, GEUVADIS#23928, GTEx#23930, HipSci#23932, Jerber_2021#23934, Kasela_2017#23936, Kim-Hellmuth_2017#23938, ... 22 more fields]\n                                                                                                                                    +- Project [targetId#2088, diseaseId#2170, maxClinPhase#6197, null#23898, Alasoo_2018#23900, Aygun_2021#23902, BLUEPRINT#23904, Bossini-Castillo_2019#23906, BrainSeq#23908, Braineac2#23910, CAP#23912, CEDAR#23914, CommonMind#23916, Cytoimmgen#23918, FUSION#23920, Fairfax_2012#23922, Fairfax_2014#23924, GENCORD#23926, GEUVADIS#23928, GTEx#23930, HipSci#23932, Jerber_2021#23934, Kasela_2017#23936, Kim-Hellmuth_2017#23938, ... 21 more fields]\n                                                                                                                                       +- Project [targetId#2088, diseaseId#2170, maxClinPhase#6197, null#23898, Alasoo_2018#23900, Aygun_2021#23902, BLUEPRINT#23904, Bossini-Castillo_2019#23906, BrainSeq#23908, Braineac2#23910, CAP#23912, CEDAR#23914, CommonMind#23916, Cytoimmgen#23918, FUSION#23920, Fairfax_2012#23922, Fairfax_2014#23924, GENCORD#23926, GEUVADIS#23928, GTEx#23930, HipSci#23932, Jerber_2021#23934, Kasela_2017#23936, Kim-Hellmuth_2017#23938, ... 20 more fields]\n                                                                                                                                          +- Project [targetId#2088, diseaseId#2170, maxClinPhase#6197, null#23898, Alasoo_2018#23900, Aygun_2021#23902, BLUEPRINT#23904, Bossini-Castillo_2019#23906, BrainSeq#23908, Braineac2#23910, CAP#23912, CEDAR#23914, CommonMind#23916, Cytoimmgen#23918, FUSION#23920, Fairfax_2012#23922, Fairfax_2014#23924, GENCORD#23926, GEUVADIS#23928, GTEx#23930, HipSci#23932, Jerber_2021#23934, Kasela_2017#23936, Kim-Hellmuth_2017#23938, ... 19 more fields]\n                                                                                                                                             +- Join LeftOuter, ((targetId#2088 = targetId#24018) AND (diseaseId#2170 = diseaseId#24100))\n                                                                                                                                                :- Aggregate [targetId#2088, diseaseId#2170, maxClinPhase#6197], [targetId#2088, diseaseId#2170, maxClinPhase#6197, collect_set(if ((projectId#975 <=> cast(null as string))) resolvedAgreeDrug#23579 else cast(null as string), 0, 0) AS null#23898, collect_set(if ((projectId#975 <=> cast(Alasoo_2018 as string))) resolvedAgreeDrug#23579 else cast(null as string), 0, 0) AS Alasoo_2018#23900, collect_set(if ((projectId#975 <=> cast(Aygun_2021 as string))) resolvedAgreeDrug#23579 else cast(null as string), 0, 0) AS Aygun_2021#23902, collect_set(if ((projectId#975 <=> cast(BLUEPRINT as string))) resolvedAgreeDrug#23579 else cast(null as string), 0, 0) AS BLUEPRINT#23904, collect_set(if ((projectId#975 <=> cast(Bossini-Castillo_2019 as string))) resolvedAgreeDrug#23579 else cast(null as string), 0, 0) AS Bossini-Castillo_2019#23906, collect_set(if ((projectId#975 <=> cast(BrainSeq as string))) resolvedAgreeDrug#23579 else cast(null as string), 0, 0) AS BrainSeq#23908, collect_set(if ((projectId#975 <=> cast(Braineac2 as string))) resolvedAgreeDrug#23579 else cast(null as string), 0, 0) AS Braineac2#23910, collect_set(if ((projectId#975 <=> cast(CAP as string))) resolvedAgreeDrug#23579 else cast(null as string), 0, 0) AS CAP#23912, collect_set(if ((projectId#975 <=> cast(CEDAR as string))) resolvedAgreeDrug#23579 else cast(null as string), 0, 0) AS CEDAR#23914, collect_set(if ((projectId#975 <=> cast(CommonMind as string))) resolvedAgreeDrug#23579 else cast(null as string), 0, 0) AS CommonMind#23916, collect_set(if ((projectId#975 <=> cast(Cytoimmgen as string))) resolvedAgreeDrug#23579 else cast(null as string), 0, 0) AS Cytoimmgen#23918, collect_set(if ((projectId#975 <=> cast(FUSION as string))) resolvedAgreeDrug#23579 else cast(null as string), 0, 0) AS FUSION#23920, collect_set(if ((projectId#975 <=> cast(Fairfax_2012 as string))) resolvedAgreeDrug#23579 else cast(null as string), 0, 0) AS Fairfax_2012#23922, collect_set(if ((projectId#975 <=> cast(Fairfax_2014 as string))) resolvedAgreeDrug#23579 else cast(null as string), 0, 0) AS Fairfax_2014#23924, collect_set(if ((projectId#975 <=> cast(GENCORD as string))) resolvedAgreeDrug#23579 else cast(null as string), 0, 0) AS GENCORD#23926, collect_set(if ((projectId#975 <=> cast(GEUVADIS as string))) resolvedAgreeDrug#23579 else cast(null as string), 0, 0) AS GEUVADIS#23928, collect_set(if ((projectId#975 <=> cast(GTEx as string))) resolvedAgreeDrug#23579 else cast(null as string), 0, 0) AS GTEx#23930, collect_set(if ((projectId#975 <=> cast(HipSci as string))) resolvedAgreeDrug#23579 else cast(null as string), 0, 0) AS HipSci#23932, collect_set(if ((projectId#975 <=> cast(Jerber_2021 as string))) resolvedAgreeDrug#23579 else cast(null as string), 0, 0) AS Jerber_2021#23934, collect_set(if ((projectId#975 <=> cast(Kasela_2017 as string))) resolvedAgreeDrug#23579 else cast(null as string), 0, 0) AS Kasela_2017#23936, collect_set(if ((projectId#975 <=> cast(Kim-Hellmuth_2017 as string))) resolvedAgreeDrug#23579 else cast(null as string), 0, 0) AS Kim-Hellmuth_2017#23938, ... 18 more fields]\n                                                                                                                                                :  +- Project [biosampleId#1002, targetId#2088, diseaseId#2170, leftStudyLocusId#1077, rightStudyId#1140, rightStudyLocusId#1078, chromosome#1079, rightStudyType#1080, numberColocalisingVariants#1081L, clpp#1082, colocalisationMethod#1083, betaRatioSignAverage#1084, h0#1094, h1#1095, h2#1096, h3#1097, h4#1098, leftStudyId#1115, leftVariantId#1116, credibleLeftStudyType#1117, rightVariantId#1141, credibleRightStudyType#1142, qtlPValueExponent#1143, isTransQtl#1176, ... 25 more fields]\n                                                                                                                                                :     +- Project [biosampleId#1002, targetId#2088, diseaseId#2170, leftStudyLocusId#1077, rightStudyId#1140, rightStudyLocusId#1078, chromosome#1079, rightStudyType#1080, numberColocalisingVariants#1081L, clpp#1082, colocalisationMethod#1083, betaRatioSignAverage#1084, h0#1094, h1#1095, h2#1096, h3#1097, h4#1098, leftStudyId#1115, leftVariantId#1116, credibleLeftStudyType#1117, rightVariantId#1141, credibleRightStudyType#1142, qtlPValueExponent#1143, isTransQtl#1176, ... 27 more fields]\n                                                                                                                                                :        +- Window [first(AgreeDrug#16545, true) windowspecdefinition(targetId#2088, diseaseId#2170, projectId#975, qtlPValueExponent#1143 ASC NULLS FIRST, specifiedwindowframe(RangeFrame, unboundedpreceding$(), currentrow$())) AS _we1#23581], [targetId#2088, diseaseId#2170, projectId#975], [qtlPValueExponent#1143 ASC NULLS FIRST]\n                                                                                                                                                :           +- Window [first(AgreeDrug#16545, true) windowspecdefinition(targetId#2088, diseaseId#2170, projectId#975, colocalisationMethod#1083 ASC NULLS FIRST, qtlPValueExponent#1143 ASC NULLS FIRST, specifiedwindowframe(RangeFrame, unboundedpreceding$(), currentrow$())) AS _we0#23580], [targetId#2088, diseaseId#2170, projectId#975], [colocalisationMethod#1083 ASC NULLS FIRST, qtlPValueExponent#1143 ASC NULLS FIRST]\n                                                                                                                                                :              +- Project [biosampleId#1002, targetId#2088, diseaseId#2170, leftStudyLocusId#1077, rightStudyId#1140, rightStudyLocusId#1078, chromosome#1079, rightStudyType#1080, numberColocalisingVariants#1081L, clpp#1082, colocalisationMethod#1083, betaRatioSignAverage#1084, h0#1094, h1#1095, h2#1096, h3#1097, h4#1098, leftStudyId#1115, leftVariantId#1116, credibleLeftStudyType#1117, rightVariantId#1141, credibleRightStudyType#1142, qtlPValueExponent#1143, isTransQtl#1176, ... 24 more fields]\n                                                                                                                                                :                 +- Project [biosampleId#1002, targetId#2088, diseaseId#2170, leftStudyLocusId#1077, rightStudyId#1140, rightStudyLocusId#1078, chromosome#1079, rightStudyType#1080, numberColocalisingVariants#1081L, clpp#1082, colocalisationMethod#1083, betaRatioSignAverage#1084, h0#1094, h1#1095, h2#1096, h3#1097, h4#1098, leftStudyId#1115, leftVariantId#1116, credibleLeftStudyType#1117, rightVariantId#1141, credibleRightStudyType#1142, qtlPValueExponent#1143, isTransQtl#1176, ... 24 more fields]\n                                                                                                                                                :                    +- Project [biosampleId#1002, targetId#2088, diseaseId#2170, leftStudyLocusId#1077, rightStudyId#1140, rightStudyLocusId#1078, chromosome#1079, rightStudyType#1080, numberColocalisingVariants#1081L, clpp#1082, colocalisationMethod#1083, betaRatioSignAverage#1084, h0#1094, h1#1095, h2#1096, h3#1097, h4#1098, leftStudyId#1115, leftVariantId#1116, credibleLeftStudyType#1117, rightVariantId#1141, credibleRightStudyType#1142, qtlPValueExponent#1143, isTransQtl#1176, ... 25 more fields]\n                                                                                                                                                :                       +- Window [collect_set(colocalisationMethod#1083, 0, 0) windowspecdefinition(targetId#2088, diseaseId#2170, specifiedwindowframe(RowFrame, unboundedpreceding$(), unboundedfollowing$())) AS _we0#23528], [targetId#2088, diseaseId#2170]\n                                                                                                                                                :                          +- Project [biosampleId#1002, targetId#2088, diseaseId#2170, leftStudyLocusId#1077, rightStudyId#1140, rightStudyLocusId#1078, chromosome#1079, rightStudyType#1080, numberColocalisingVariants#1081L, clpp#1082, colocalisationMethod#1083, betaRatioSignAverage#1084, h0#1094, h1#1095, h2#1096, h3#1097, h4#1098, leftStudyId#1115, leftVariantId#1116, credibleLeftStudyType#1117, rightVariantId#1141, credibleRightStudyType#1142, qtlPValueExponent#1143, isTransQtl#1176, ... 23 more fields]\n                                                                                                                                                :                             +- Project [biosampleId#1002, targetId#2088, diseaseId#2170, leftStudyLocusId#1077, rightStudyId#1140, rightStudyLocusId#1078, chromosome#1079, rightStudyType#1080, numberColocalisingVariants#1081L, clpp#1082, colocalisationMethod#1083, betaRatioSignAverage#1084, h0#1094, h1#1095, h2#1096, h3#1097, h4#1098, leftStudyId#1115, leftVariantId#1116, credibleLeftStudyType#1117, rightVariantId#1141, credibleRightStudyType#1142, qtlPValueExponent#1143, isTransQtl#1176, ... 23 more fields]\n                                                                                                                                                :                                +- Join LeftOuter, (biosampleId#1002 = biosampleId#1059)\n                                                                                                                                                :                                   :- Project [targetId#2088, diseaseId#2170, leftStudyLocusId#1077, rightStudyId#1140, rightStudyLocusId#1078, chromosome#1079, rightStudyType#1080, numberColocalisingVariants#1081L, clpp#1082, colocalisationMethod#1083, betaRatioSignAverage#1084, h0#1094, h1#1095, h2#1096, h3#1097, h4#1098, leftStudyId#1115, leftVariantId#1116, credibleLeftStudyType#1117, rightVariantId#1141, credibleRightStudyType#1142, qtlPValueExponent#1143, isTransQtl#1176, projectId#975, ... 22 more fields]\n                                                                                                                                                :                                   :  +- Project [targetId#2088, diseaseId#2170, leftStudyLocusId#1077, rightStudyId#1140, rightStudyLocusId#1078, chromosome#1079, rightStudyType#1080, numberColocalisingVariants#1081L, clpp#1082, colocalisationMethod#1083, betaRatioSignAverage#1084, h0#1094, h1#1095, h2#1096, h3#1097, h4#1098, leftStudyId#1115, leftVariantId#1116, credibleLeftStudyType#1117, rightVariantId#1141, credibleRightStudyType#1142, qtlPValueExponent#1143, isTransQtl#1176, projectId#975, ... 21 more fields]\n                                                                                                                                                :                                   :     +- Join RightOuter, ((targetId#1801 = targetId#2088) AND (diseaseId#1960 = diseaseId#2170))\n                                                                                                                                                :                                   :        :- Filter NOT (name#691 = COVID-19)\n                                                                                                                                                :                                   :        :  +- Filter (betaGwas#1780 < cast(0 as double))\n                                                                                                                                                :                                   :        :     +- Filter ((clpp#1082 >= 0.01) OR (h4#1098 >= 0.8))\n                                                                                                                                                :                                   :        :        +- Project [diseaseId#1960, leftStudyLocusId#1077, targetId#1801, rightStudyId#1140, rightStudyLocusId#1078, chromosome#1079, rightStudyType#1080, numberColocalisingVariants#1081L, clpp#1082, colocalisationMethod#1083, betaRatioSignAverage#1084, h0#1094, h1#1095, h2#1096, h3#1097, h4#1098, leftStudyId#1115, leftVariantId#1116, credibleLeftStudyType#1117, rightVariantId#1141, credibleRightStudyType#1142, qtlPValueExponent#1143, isTransQtl#1176, projectId#975, ... 18 more fields]\n                                                                                                                                                :                                   :        :           +- Project [diseaseId#1960, leftStudyLocusId#1077, targetId#1801, rightStudyId#1140, rightStudyLocusId#1078, chromosome#1079, rightStudyType#1080, numberColocalisingVariants#1081L, clpp#1082, colocalisationMethod#1083, betaRatioSignAverage#1084, h0#1094, h1#1095, h2#1096, h3#1097, h4#1098, leftStudyId#1115, leftVariantId#1116, credibleLeftStudyType#1117, rightVariantId#1141, credibleRightStudyType#1142, qtlPValueExponent#1143, isTransQtl#1176, projectId#975, ... 17 more fields]\n                                                                                                                                                :                                   :        :              +- Project [diseaseId#1960, leftStudyLocusId#1077, targetId#1801, rightStudyId#1140, rightStudyLocusId#1078, chromosome#1079, rightStudyType#1080, numberColocalisingVariants#1081L, clpp#1082, colocalisationMethod#1083, betaRatioSignAverage#1084, h0#1094, h1#1095, h2#1096, h3#1097, h4#1098, leftStudyId#1115, leftVariantId#1116, credibleLeftStudyType#1117, rightVariantId#1141, credibleRightStudyType#1142, qtlPValueExponent#1143, isTransQtl#1176, projectId#975, ... 18 more fields]\n                                                                                                                                                :                                   :        :                 +- Generate explode(concat(array(diseaseId#800), parents#694)), true, [diseaseId#1960]\n                                                                                                                                                :                                   :        :                    +- Project [diseaseId#800, leftStudyLocusId#1077, targetId#1801, rightStudyId#1140, rightStudyLocusId#1078, chromosome#1079, rightStudyType#1080, numberColocalisingVariants#1081L, clpp#1082, colocalisationMethod#1083, betaRatioSignAverage#1084, h0#1094, h1#1095, h2#1096, h3#1097, h4#1098, leftStudyId#1115, leftVariantId#1116, credibleLeftStudyType#1117, rightVariantId#1141, credibleRightStudyType#1142, qtlPValueExponent#1143, isTransQtl#1176, projectId#975, ... 18 more fields]\n                                                                                                                                                :                                   :        :                       +- Join LeftOuter, (diseaseId#800 = diseaseId#1911)\n                                                                                                                                                :                                   :        :                          :- Project [leftStudyLocusId#1077, targetId#1801, rightStudyId#1140, rightStudyLocusId#1078, chromosome#1079, rightStudyType#1080, numberColocalisingVariants#1081L, clpp#1082, colocalisationMethod#1083, betaRatioSignAverage#1084, h0#1094, h1#1095, h2#1096, h3#1097, h4#1098, leftStudyId#1115, leftVariantId#1116, credibleLeftStudyType#1117, rightVariantId#1141, credibleRightStudyType#1142, qtlPValueExponent#1143, isTransQtl#1176, projectId#975, indexStudyType#1200, ... 15 more fields]\n                                                                                                                                                :                                   :        :                          :  +- Join Inner, ((leftStudyLocusId#1077 = leftStudyLocusId#1828) AND (targetId#1801 = targetId#718))\n                                                                                                                                                :                                   :        :                          :     :- Project [rightStudyId#1140, rightStudyLocusId#1078, leftStudyLocusId#1077, chromosome#1079, rightStudyType#1080, numberColocalisingVariants#1081L, clpp#1082, colocalisationMethod#1083, betaRatioSignAverage#1084, h0#1094, h1#1095, h2#1096, h3#1097, h4#1098, leftStudyId#1115, leftVariantId#1116, credibleLeftStudyType#1117, rightVariantId#1141, credibleRightStudyType#1142, qtlPValueExponent#1143, isTransQtl#1176, geneId#974 AS targetId#1801, projectId#975, indexStudyType#1200, ... 2 more fields]\n                                                                                                                                                :                                   :        :                          :     :  +- Project [rightStudyId#1140, rightStudyLocusId#1078, leftStudyLocusId#1077, chromosome#1079, rightStudyType#1080, numberColocalisingVariants#1081L, clpp#1082, colocalisationMethod#1083, betaRatioSignAverage#1084, h0#1094, h1#1095, h2#1096, h3#1097, h4#1098, leftStudyId#1115, leftVariantId#1116, credibleLeftStudyType#1117, rightVariantId#1141, credibleRightStudyType#1142, qtlPValueExponent#1143, isTransQtl#1176, geneId#974, projectId#975, indexStudyType#1200, ... 2 more fields]\n                                                                                                                                                :                                   :        :                          :     :     +- Join LeftOuter, (rightStudyId#1140 = rightStudyId#1199)\n                                                                                                                                                :                                   :        :                          :     :        :- Project [rightStudyLocusId#1078, leftStudyLocusId#1077, chromosome#1079, rightStudyType#1080, numberColocalisingVariants#1081L, clpp#1082, colocalisationMethod#1083, betaRatioSignAverage#1084, h0#1094, h1#1095, h2#1096, h3#1097, h4#1098, leftStudyId#1115, leftVariantId#1116, credibleLeftStudyType#1117, rightStudyId#1140, rightVariantId#1141, credibleRightStudyType#1142, qtlPValueExponent#1143, isTransQtl#1176]\n                                                                                                                                                :                                   :        :                          :     :        :  +- Join LeftOuter, (rightStudyLocusId#1078 = rightStudyLocusId#1139)\n                                                                                                                                                :                                   :        :                          :     :        :     :- Project [leftStudyLocusId#1077, rightStudyLocusId#1078, chromosome#1079, rightStudyType#1080, numberColocalisingVariants#1081L, clpp#1082, colocalisationMethod#1083, betaRatioSignAverage#1084, h0#1094, h1#1095, h2#1096, h3#1097, h4#1098, leftStudyId#1115, leftVariantId#1116, credibleLeftStudyType#1117]\n                                                                                                                                                :                                   :        :                          :     :        :     :  +- Join LeftOuter, (leftStudyLocusId#1077 = leftStudyLocusId#1114)\n                                                                                                                                                :                                   :        :                          :     :        :     :     :- Union false, false\n                                                                                                                                                :                                   :        :                          :     :        :     :     :  :- Project [leftStudyLocusId#1077, rightStudyLocusId#1078, chromosome#1079, rightStudyType#1080, numberColocalisingVariants#1081L, clpp#1082, colocalisationMethod#1083, betaRatioSignAverage#1084, null AS h0#1094, null AS h1#1095, null AS h2#1096, null AS h3#1097, null AS h4#1098]\n                                                                                                                                                :                                   :        :                          :     :        :     :     :  :  +- Relation [leftStudyLocusId#1077,rightStudyLocusId#1078,chromosome#1079,rightStudyType#1080,numberColocalisingVariants#1081L,clpp#1082,colocalisationMethod#1083,betaRatioSignAverage#1084] parquet\n                                                                                                                                                :                                   :        :                          :     :        :     :     :  +- Project [leftStudyLocusId#949, rightStudyLocusId#950, chromosome#951, rightStudyType#952, numberColocalisingVariants#953L, null AS clpp#1093, colocalisationMethod#959, betaRatioSignAverage#960, h0#954, h1#955, h2#956, h3#957, h4#958]\n                                                                                                                                                :                                   :        :                          :     :        :     :     :     +- Relation [leftStudyLocusId#949,rightStudyLocusId#950,chromosome#951,rightStudyType#952,numberColocalisingVariants#953L,h0#954,h1#955,h2#956,h3#957,h4#958,colocalisationMethod#959,betaRatioSignAverage#960] parquet\n                                                                                                                                                :                                   :        :                          :     :        :     :     +- Project [studyLocusId#895 AS leftStudyLocusId#1114, StudyId#896 AS leftStudyId#1115, variantId#897 AS leftVariantId#1116, studyType#920 AS credibleLeftStudyType#1117]\n                                                                                                                                                :                                   :        :                          :     :        :     :        +- Relation [studyLocusId#895,studyId#896,variantId#897,chromosome#898,position#899,region#900,beta#901,zScore#902,pValueMantissa#903,pValueExponent#904,effectAlleleFrequencyFromSource#905,standardError#906,subStudyDescription#907,qualityControls#908,finemappingMethod#909,credibleSetIndex#910,credibleSetlog10BF#911,purityMeanR2#912,purityMinR2#913,locusStart#914,locusEnd#915,sampleSize#916,ldSet#917,locus#918,... 3 more fields] parquet\n                                                                                                                                                :                                   :        :                          :     :        :     +- Project [studyLocusId#1150 AS rightStudyLocusId#1139, studyId#1151 AS rightStudyId#1140, variantId#1152 AS rightVariantId#1141, studyType#1175 AS credibleRightStudyType#1142, pValueExponent#1159 AS qtlPValueExponent#1143, isTransQtl#1176]\n                                                                                                                                                :                                   :        :                          :     :        :        +- Relation [studyLocusId#1150,studyId#1151,variantId#1152,chromosome#1153,position#1154,region#1155,beta#1156,zScore#1157,pValueMantissa#1158,pValueExponent#1159,effectAlleleFrequencyFromSource#1160,standardError#1161,subStudyDescription#1162,qualityControls#1163,finemappingMethod#1164,credibleSetIndex#1165,credibleSetlog10BF#1166,purityMeanR2#1167,purityMinR2#1168,locusStart#1169,locusEnd#1170,sampleSize#1171,ldSet#1172,locus#1173,... 3 more fields] parquet\n                                                                                                                                                :                                   :        :                          :     :        +- Project [studyId#973 AS rightStudyId#1199, geneId#974, projectId#975, studyType#976 AS indexStudyType#1200, condition#998, biosampleId#1002]\n                                                                                                                                                :                                   :        :                          :     :           +- Relation [studyId#973,geneId#974,projectId#975,studyType#976,traitFromSource#977,traitFromSourceMappedIds#978,biosampleFromSourceId#979,pubmedId#980,publicationTitle#981,publicationFirstAuthor#982,publicationDate#983,publicationJournal#984,backgroundTraitFromSourceMappedIds#985,initialSampleSize#986,nCases#987,nControls#988,nSamples#989,cohorts#990,ldPopulationStructure#991,discoverySamples#992,replicationSamples#993,qualityControls#994,analysisFlags#995,summarystatsLocation#996,... 6 more fields] parquet\n                                                                                                                                                :                                   :        :                          :     +- Project [studyLocusId#798 AS leftStudyLocusId#1828, datasourceId#717, targetId#718, datatypeId#743, diseaseFromSourceMappedId#747, resourceScore#769, targetFromSourceId#784, diseaseId#800, id#801, score#802, sourceId#805, studyId#1845, variantId#1846, betaGwas#1780, pValueExponent#1853]\n                                                                                                                                                :                                   :        :                          :        +- Project [studyLocusId#798, datasourceId#717, targetId#718, datatypeId#743, diseaseFromSourceMappedId#747, resourceScore#769, targetFromSourceId#784, diseaseId#800, id#801, score#802, sourceId#805, studyId#1845, variantId#1846, betaGwas#1780, pValueExponent#1853]\n                                                                                                                                                :                                   :        :                          :           +- Join LeftOuter, (studyLocusId#798 = studyLocusId#1844)\n                                                                                                                                                :                                   :        :                          :              :- Project [datasourceId#717, targetId#718, datatypeId#743, diseaseFromSourceMappedId#747, resourceScore#769, targetFromSourceId#784, studyLocusId#798, diseaseId#800, id#801, score#802, sourceId#805]\n                                                                                                                                                :                                   :        :                          :              :  +- Filter (datasourceId#717 = gwas_credible_sets)\n                                                                                                                                                :                                   :        :                          :              :     +- Relation [datasourceId#717,targetId#718,alleleOrigins#719,allelicRequirements#720,ancestry#721,ancestryId#722,beta#723,betaConfidenceIntervalLower#724,betaConfidenceIntervalUpper#725,biologicalModelAllelicComposition#726,biologicalModelGeneticBackground#727,biologicalModelId#728,biomarkerName#729,biomarkers#730,biosamplesFromSource#731,cellType#732,clinicalPhase#733,clinicalSignificances#734,clinicalStatus#735,cohortDescription#736,cohortId#737,cohortPhenotypes#738,cohortShortName#739,confidence#740,... 65 more fields] parquet\n                                                                                                                                                :                                   :        :                          :              +- Project [studyLocusId#1844, studyId#1845, variantId#1846, beta#1850 AS betaGwas#1780, pValueExponent#1853]\n                                                                                                                                                :                                   :        :                          :                 +- Relation [studyLocusId#1844,studyId#1845,variantId#1846,chromosome#1847,position#1848,region#1849,beta#1850,zScore#1851,pValueMantissa#1852,pValueExponent#1853,effectAlleleFrequencyFromSource#1854,standardError#1855,subStudyDescription#1856,qualityControls#1857,finemappingMethod#1858,credibleSetIndex#1859,credibleSetlog10BF#1860,purityMeanR2#1861,purityMinR2#1862,locusStart#1863,locusEnd#1864,sampleSize#1865,ldSet#1866,locus#1867,... 3 more fields] parquet\n                                                                                                                                                :                                   :        :                          +- Project [id#689 AS diseaseId#1911, name#691, parents#694, therapeuticAreas#700]\n                                                                                                                                                :                                   :        :                             +- Relation [id#689,code#690,name#691,description#692,dbXRefs#693,parents#694,synonyms#695,obsoleteTerms#696,obsoleteXRefs#697,children#698,ancestors#699,therapeuticAreas#700,descendants#701,ontology#702] parquet\n                                                                                                                                                :                                   :        +- Project [targetId#2088, diseaseId#2170, maxClinPhase#6197, drugGoF_protect#11714L, LoF_protect#9894L AS drugLoF_protect#11720L]\n                                                                                                                                                :                                   :           +- Project [targetId#2088, diseaseId#2170, maxClinPhase#6197, GoF_protect#9893L AS drugGoF_protect#11714L, LoF_protect#9894L]\n                                                                                                                                                :                                   :              +- Project [targetId#2088, diseaseId#2170, maxClinPhase#6197, GoF_protect#9893L, LoF_protect#9894L]\n                                                                                                                                                :                                   :                 +- Filter (coherencyDiagonal#11688 = coherent)\n                                                                                                                                                :                                   :                    +- Project [targetId#2088, diseaseId#2170, maxClinPhase#6197, GoF_protect#9893L, LoF_protect#9894L, noEvaluable#9895L, GoF_risk#9908, LoF_risk#11522, coherencyDiagonal#11688, CASE WHEN ((((isnull(LoF_risk#11522) AND isnull(LoF_protect#9894L)) AND isnull(GoF_risk#9908)) AND isnull(GoF_protect#9893L)) AND isnull(noEvaluable#9895L)) THEN noEvid WHEN ((((isnull(LoF_risk#11522) AND isnull(LoF_protect#9894L)) AND isnull(GoF_risk#9908)) AND isnull(GoF_protect#9893L)) AND isnotnull(noEvaluable#9895L)) THEN EvidNotDoE WHEN (((isnotnull(LoF_risk#11522) OR isnotnull(LoF_protect#9894L)) OR isnotnull(GoF_risk#9908)) OR isnotnull(GoF_protect#9893L)) THEN CASE WHEN (isnotnull(LoF_risk#11522) AND ((isnull(LoF_protect#9894L) AND isnull(GoF_risk#9908)) AND isnull(GoF_protect#9893L))) THEN coherent WHEN (isnotnull(GoF_risk#9908) AND ((isnull(LoF_protect#9894L) AND isnull(LoF_risk#11522)) AND isnull(GoF_protect#9893L))) THEN coherent WHEN (isnotnull(LoF_protect#9894L) AND ((isnull(LoF_risk#11522) AND isnull(GoF_risk#9908)) AND isnull(GoF_protect#9893L))) THEN coherent WHEN (isnotnull(GoF_protect#9893L) AND ((isnull(LoF_protect#9894L) AND isnull(GoF_risk#9908)) AND isnull(LoF_risk#11522))) THEN coherent ELSE dispar END END AS coherencyOneCell#11698]\n                                                                                                                                                :                                   :                       +- Project [targetId#2088, diseaseId#2170, maxClinPhase#6197, GoF_protect#9893L, LoF_protect#9894L, noEvaluable#9895L, GoF_risk#9908, LoF_risk#11522, CASE WHEN ((((isnull(LoF_risk#11522) AND isnull(LoF_protect#9894L)) AND isnull(GoF_risk#9908)) AND isnull(GoF_protect#9893L)) AND isnull(noEvaluable#9895L)) THEN noEvid WHEN ((((isnull(LoF_risk#11522) AND isnull(LoF_protect#9894L)) AND isnull(GoF_risk#9908)) AND isnull(GoF_protect#9893L)) AND isnotnull(noEvaluable#9895L)) THEN EvidNotDoE WHEN (((isnotnull(LoF_risk#11522) OR isnotnull(LoF_protect#9894L)) OR isnotnull(GoF_risk#9908)) OR isnotnull(GoF_protect#9893L)) THEN CASE WHEN (isnotnull(GoF_risk#9908) AND isnotnull(LoF_risk#11522)) THEN dispar WHEN (isnotnull(LoF_protect#9894L) AND isnotnull(LoF_risk#11522)) THEN dispar WHEN (isnotnull(GoF_protect#9893L) AND isnotnull(GoF_risk#9908)) THEN dispar WHEN (isnotnull(GoF_protect#9893L) AND isnotnull(LoF_protect#9894L)) THEN dispar ELSE coherent END END AS coherencyDiagonal#11688]\n                                                                                                                                                :                                   :                          +- Project [targetId#2088, diseaseId#2170, maxClinPhase#6197, GoF_protect#9893L, LoF_protect#9894L, noEvaluable#9895L, GoF_risk#9908, null AS LoF_risk#11522]\n                                                                                                                                                :                                   :                             +- Project [targetId#2088, diseaseId#2170, maxClinPhase#6197, GoF_protect#9893L, LoF_protect#9894L, noEvaluable#9895L, null AS GoF_risk#9908]\n                                                                                                                                                :                                   :                                +- Project [targetId#2088, diseaseId#2170, maxClinPhase#6197, __pivot_count(targetId) AS `count(targetId)`#9892[0] AS GoF_protect#9893L, __pivot_count(targetId) AS `count(targetId)`#9892[1] AS LoF_protect#9894L, __pivot_count(targetId) AS `count(targetId)`#9892[2] AS noEvaluable#9895L]\n                                                                                                                                                :                                   :                                   +- Aggregate [targetId#2088, diseaseId#2170, maxClinPhase#6197], [targetId#2088, diseaseId#2170, maxClinPhase#6197, pivotfirst(homogenized#4208, count(targetId)#9884L, GoF_protect, LoF_protect, noEvaluable, 0, 0) AS __pivot_count(targetId) AS `count(targetId)`#9892]\n                                                                                                                                                :                                   :                                      +- Aggregate [targetId#2088, diseaseId#2170, maxClinPhase#6197, homogenized#4208], [targetId#2088, diseaseId#2170, maxClinPhase#6197, homogenized#4208, count(targetId#2088) AS count(targetId)#9884L]\n                                                                                                                                                :                                   :                                         +- Project [datasourceId#2087, targetId#2088, alleleOrigins#2089, allelicRequirements#2090, ancestry#2091, ancestryId#2092, beta#2931, betaConfidenceIntervalLower#2094, betaConfidenceIntervalUpper#2095, biologicalModelAllelicComposition#2096, biologicalModelGeneticBackground#2097, biologicalModelId#2098, biomarkerName#2099, biomarkers#2100, biosamplesFromSource#2101, cellType#2102, clinicalPhase#2103, clinicalSignificances#3113, clinicalStatus#2105, cohortDescription#2106, cohortId#2107, cohortPhenotypes#2108, cohortShortName#2109, confidence#2110, ... 80 more fields]\n                                                                                                                                                :                                   :                                            +- Project [datasourceId#2087, targetId#2088, alleleOrigins#2089, allelicRequirements#2090, ancestry#2091, ancestryId#2092, beta#2931, betaConfidenceIntervalLower#2094, betaConfidenceIntervalUpper#2095, biologicalModelAllelicComposition#2096, biologicalModelGeneticBackground#2097, biologicalModelId#2098, biomarkerName#2099, biomarkers#2100, biosamplesFromSource#2101, cellType#2102, clinicalPhase#2103, clinicalSignificances#3113, clinicalStatus#2105, cohortDescription#2106, cohortId#2107, cohortPhenotypes#2108, cohortShortName#2109, confidence#2110, ... 81 more fields]\n                                                                                                                                                :                                   :                                               +- Window [max(clinicalPhase#2103) windowspecdefinition(targetId#2088, diseaseId#2170, specifiedwindowframe(RowFrame, unboundedpreceding$(), unboundedfollowing$())) AS maxClinPhase#6197], [targetId#2088, diseaseId#2170]\n                                                                                                                                                :                                   :                                                  +- Project [datasourceId#2087, targetId#2088, alleleOrigins#2089, allelicRequirements#2090, ancestry#2091, ancestryId#2092, beta#2931, betaConfidenceIntervalLower#2094, betaConfidenceIntervalUpper#2095, biologicalModelAllelicComposition#2096, biologicalModelGeneticBackground#2097, biologicalModelId#2098, biomarkerName#2099, biomarkers#2100, biosamplesFromSource#2101, cellType#2102, clinicalPhase#2103, clinicalSignificances#3113, clinicalStatus#2105, cohortDescription#2106, cohortId#2107, cohortPhenotypes#2108, cohortShortName#2109, confidence#2110, ... 79 more fields]\n                                                                                                                                                :                                   :                                                     +- Filter (datasourceId#2087 = chembl)\n                                                                                                                                                :                                   :                                                        +- Project [datasourceId#2087, targetId#2088, alleleOrigins#2089, allelicRequirements#2090, ancestry#2091, ancestryId#2092, beta#2931, betaConfidenceIntervalLower#2094, betaConfidenceIntervalUpper#2095, biologicalModelAllelicComposition#2096, biologicalModelGeneticBackground#2097, biologicalModelId#2098, biomarkerName#2099, biomarkers#2100, biosamplesFromSource#2101, cellType#2102, clinicalPhase#2103, clinicalSignificances#3113, clinicalStatus#2105, cohortDescription#2106, cohortId#2107, cohortPhenotypes#2108, cohortShortName#2109, confidence#2110, ... 79 more fields]\n                                                                                                                                                :                                   :                                                           +- Project [datasourceId#2087, targetId#2088, alleleOrigins#2089, allelicRequirements#2090, ancestry#2091, ancestryId#2092, beta#2931, betaConfidenceIntervalLower#2094, betaConfidenceIntervalUpper#2095, biologicalModelAllelicComposition#2096, biologicalModelGeneticBackground#2097, biologicalModelId#2098, biomarkerName#2099, biomarkers#2100, biosamplesFromSource#2101, cellType#2102, clinicalPhase#2103, clinicalSignificances#3113, clinicalStatus#2105, cohortDescription#2106, cohortId#2107, cohortPhenotypes#2108, cohortShortName#2109, confidence#2110, ... 78 more fields]\n                                                                                                                                                :                                   :                                                              +- Project [datasourceId#2087, targetId#2088, alleleOrigins#2089, allelicRequirements#2090, ancestry#2091, ancestryId#2092, beta#2931, betaConfidenceIntervalLower#2094, betaConfidenceIntervalUpper#2095, biologicalModelAllelicComposition#2096, biologicalModelGeneticBackground#2097, biologicalModelId#2098, biomarkerName#2099, biomarkers#2100, biosamplesFromSource#2101, cellType#2102, clinicalPhase#2103, clinicalSignificances#3113, clinicalStatus#2105, cohortDescription#2106, cohortId#2107, cohortPhenotypes#2108, cohortShortName#2109, confidence#2110, ... 78 more fields]\n                                                                                                                                                :                                   :                                                                 +- Project [datasourceId#2087, targetId#2088, alleleOrigins#2089, allelicRequirements#2090, ancestry#2091, ancestryId#2092, beta#2931, betaConfidenceIntervalLower#2094, betaConfidenceIntervalUpper#2095, biologicalModelAllelicComposition#2096, biologicalModelGeneticBackground#2097, biologicalModelId#2098, biomarkerName#2099, biomarkers#2100, biosamplesFromSource#2101, cellType#2102, clinicalPhase#2103, clinicalSignificances#3113, clinicalStatus#2105, cohortDescription#2106, cohortId#2107, cohortPhenotypes#2108, cohortShortName#2109, confidence#2110, ... 78 more fields]\n                                                                                                                                                :                                   :                                                                    +- Project [datasourceId#2087, targetId#2088, alleleOrigins#2089, allelicRequirements#2090, ancestry#2091, ancestryId#2092, beta#2931, betaConfidenceIntervalLower#2094, betaConfidenceIntervalUpper#2095, biologicalModelAllelicComposition#2096, biologicalModelGeneticBackground#2097, biologicalModelId#2098, biomarkerName#2099, biomarkers#2100, biosamplesFromSource#2101, cellType#2102, clinicalPhase#2103, clinicalSignificances#3113, clinicalStatus#2105, cohortDescription#2106, cohortId#2107, cohortPhenotypes#2108, cohortShortName#2109, confidence#2110, ... 79 more fields]\n                                                                                                                                                :                                   :                                                                       +- Window [collect_set(intogen_function#3791, 0, 0) windowspecdefinition(targetId#2088, diseaseId#2170, specifiedwindowframe(RowFrame, unboundedpreceding$(), unboundedfollowing$())) AS _we0#3897], [targetId#2088, diseaseId#2170]\n                                                                                                                                                :                                   :                                                                          +- Project [datasourceId#2087, targetId#2088, alleleOrigins#2089, allelicRequirements#2090, ancestry#2091, ancestryId#2092, beta#2931, betaConfidenceIntervalLower#2094, betaConfidenceIntervalUpper#2095, biologicalModelAllelicComposition#2096, biologicalModelGeneticBackground#2097, biologicalModelId#2098, biomarkerName#2099, biomarkers#2100, biosamplesFromSource#2101, cellType#2102, clinicalPhase#2103, clinicalSignificances#3113, clinicalStatus#2105, cohortDescription#2106, cohortId#2107, cohortPhenotypes#2108, cohortShortName#2109, confidence#2110, ... 77 more fields]\n                                                                                                                                                :                                   :                                                                             +- Project [datasourceId#2087, targetId#2088, alleleOrigins#2089, allelicRequirements#2090, ancestry#2091, ancestryId#2092, beta#2931, betaConfidenceIntervalLower#2094, betaConfidenceIntervalUpper#2095, biologicalModelAllelicComposition#2096, biologicalModelGeneticBackground#2097, biologicalModelId#2098, biomarkerName#2099, biomarkers#2100, biosamplesFromSource#2101, cellType#2102, clinicalPhase#2103, clinicalSignificances#3113, clinicalStatus#2105, cohortDescription#2106, cohortId#2107, cohortPhenotypes#2108, cohortShortName#2109, confidence#2110, ... 77 more fields]\n                                                                                                                                                :                                   :                                                                                +- Project [datasourceId#2087, targetId#2088, alleleOrigins#2089, allelicRequirements#2090, ancestry#2091, ancestryId#2092, beta#2931, betaConfidenceIntervalLower#2094, betaConfidenceIntervalUpper#2095, biologicalModelAllelicComposition#2096, biologicalModelGeneticBackground#2097, biologicalModelId#2098, biomarkerName#2099, biomarkers#2100, biosamplesFromSource#2101, cellType#2102, clinicalPhase#2103, clinicalSignificances#3113, clinicalStatus#2105, cohortDescription#2106, cohortId#2107, cohortPhenotypes#2108, cohortShortName#2109, confidence#2110, ... 76 more fields]\n                                                                                                                                                :                                   :                                                                                   +- Project [datasourceId#2087, targetId#2088, alleleOrigins#2089, allelicRequirements#2090, ancestry#2091, ancestryId#2092, beta#2931, betaConfidenceIntervalLower#2094, betaConfidenceIntervalUpper#2095, biologicalModelAllelicComposition#2096, biologicalModelGeneticBackground#2097, biologicalModelId#2098, biomarkerName#2099, biomarkers#2100, biosamplesFromSource#2101, cellType#2102, clinicalPhase#2103, clinicalSignificances#3113, clinicalStatus#2105, cohortDescription#2106, cohortId#2107, cohortPhenotypes#2108, cohortShortName#2109, confidence#2110, ... 75 more fields]\n                                                                                                                                                :                                   :                                                                                      +- Join LeftOuter, ((drugId2#2875 = drugId#2121) AND (targetId2#2882 = targetId#2088))\n                                                                                                                                                :                                   :                                                                                         :- Join LeftOuter, (target_id#2925 = targetId#2088)\n                                                                                                                                                :                                   :                                                                                         :  :- Project [datasourceId#2087, targetId#2088, alleleOrigins#2089, allelicRequirements#2090, ancestry#2091, ancestryId#2092, beta#2931, betaConfidenceIntervalLower#2094, betaConfidenceIntervalUpper#2095, biologicalModelAllelicComposition#2096, biologicalModelGeneticBackground#2097, biologicalModelId#2098, biomarkerName#2099, biomarkers#2100, biosamplesFromSource#2101, cellType#2102, clinicalPhase#2103, concat_ws(,, clinicalSignificances#2104) AS clinicalSignificances#3113, clinicalStatus#2105, cohortDescription#2106, cohortId#2107, cohortPhenotypes#2108, cohortShortName#2109, confidence#2110, ... 66 more fields]\n                                                                                                                                                :                                   :                                                                                         :  :  +- Project [datasourceId#2087, targetId#2088, alleleOrigins#2089, allelicRequirements#2090, ancestry#2091, ancestryId#2092, beta#2931, betaConfidenceIntervalLower#2094, betaConfidenceIntervalUpper#2095, biologicalModelAllelicComposition#2096, biologicalModelGeneticBackground#2097, biologicalModelId#2098, biomarkerName#2099, biomarkers#2100, biosamplesFromSource#2101, cellType#2102, clinicalPhase#2103, clinicalSignificances#2104, clinicalStatus#2105, cohortDescription#2106, cohortId#2107, cohortPhenotypes#2108, cohortShortName#2109, confidence#2110, ... 66 more fields]\n                                                                                                                                                :                                   :                                                                                         :  :     +- Project [datasourceId#2087, targetId#2088, alleleOrigins#2089, allelicRequirements#2090, ancestry#2091, ancestryId#2092, cast(beta#2093 as double) AS beta#2931, betaConfidenceIntervalLower#2094, betaConfidenceIntervalUpper#2095, biologicalModelAllelicComposition#2096, biologicalModelGeneticBackground#2097, biologicalModelId#2098, biomarkerName#2099, biomarkers#2100, biosamplesFromSource#2101, cellType#2102, clinicalPhase#2103, clinicalSignificances#2104, clinicalStatus#2105, cohortDescription#2106, cohortId#2107, cohortPhenotypes#2108, cohortShortName#2109, confidence#2110, ... 66 more fields]\n                                                                                                                                                :                                   :                                                                                         :  :        +- Project [datasourceId#2087, targetId#2088, alleleOrigins#2089, allelicRequirements#2090, ancestry#2091, ancestryId#2092, beta#2093, betaConfidenceIntervalLower#2094, betaConfidenceIntervalUpper#2095, biologicalModelAllelicComposition#2096, biologicalModelGeneticBackground#2097, biologicalModelId#2098, biomarkerName#2099, biomarkers#2100, biosamplesFromSource#2101, cellType#2102, clinicalPhase#2103, clinicalSignificances#2104, clinicalStatus#2105, cohortDescription#2106, cohortId#2107, cohortPhenotypes#2108, cohortShortName#2109, confidence#2110, ... 66 more fields]\n                                                                                                                                                :                                   :                                                                                         :  :           +- Filter datasourceId#2087 IN (gwas_credible_sets,gene_burden,eva,eva_somatic,gene2phenotype,orphanet,cancer_gene_census,intogen,impc,chembl)\n                                                                                                                                                :                                   :                                                                                         :  :              +- Relation [datasourceId#2087,targetId#2088,alleleOrigins#2089,allelicRequirements#2090,ancestry#2091,ancestryId#2092,beta#2093,betaConfidenceIntervalLower#2094,betaConfidenceIntervalUpper#2095,biologicalModelAllelicComposition#2096,biologicalModelGeneticBackground#2097,biologicalModelId#2098,biomarkerName#2099,biomarkers#2100,biosamplesFromSource#2101,cellType#2102,clinicalPhase#2103,clinicalSignificances#2104,clinicalStatus#2105,cohortDescription#2106,cohortId#2107,cohortPhenotypes#2108,cohortShortName#2109,confidence#2110,... 65 more fields] parquet\n                                                                                                                                                :                                   :                                                                                         :  +- Project [id#2802 AS target_id#2925, approvedSymbol#2803, description#2910, description_splited#2914, TSorOncogene#2919]\n                                                                                                                                                :                                   :                                                                                         :     +- Project [id#2802, approvedSymbol#2803, description#2910, description_splited#2914, CASE WHEN (RLIKE(description_splited#2914, ncogene) AND RLIKE(description_splited#2914, TSG)) THEN bivalent WHEN RLIKE(description_splited#2914, ncogene(\\s|$)) THEN oncogene WHEN RLIKE(description_splited#2914, TSG(\\s|$)) THEN TSG ELSE noEvaluable END AS TSorOncogene#2919]\n                                                                                                                                                :                                   :                                                                                         :        +- Project [id#2802, approvedSymbol#2803, description#2910, concat_ws(,, description#2910) AS description_splited#2914]\n                                                                                                                                                :                                   :                                                                                         :           +- Aggregate [id#2802, approvedSymbol#2803], [id#2802, approvedSymbol#2803, collect_set(description#2902, 0, 0) AS description#2910]\n                                                                                                                                                :                                   :                                                                                         :              +- Filter description#2902 IN (TSG,oncogene,Oncogene,oncogene,oncogene,TSG,TSG,oncogene,fusion,oncogene,oncogene,fusion)\n                                                                                                                                                :                                   :                                                                                         :                 +- Project [id#2802, approvedSymbol#2803, col#2897.description AS description#2902]\n                                                                                                                                                :                                   :                                                                                         :                    +- Project [id#2802, approvedSymbol#2803, col#2897]\n                                                                                                                                                :                                   :                                                                                         :                       +- Generate explode(hallmarks#2812.attributes), true, [col#2897]\n                                                                                                                                                :                                   :                                                                                         :                          +- Relation [id#2802,approvedSymbol#2803,biotype#2804,transcriptIds#2805,canonicalTranscript#2806,canonicalExons#2807,genomicLocation#2808,alternativeGenes#2809,approvedName#2810,go#2811,hallmarks#2812,synonyms#2813,symbolSynonyms#2814,nameSynonyms#2815,functionDescriptions#2816,subcellularLocations#2817,targetClass#2818,obsoleteSymbols#2819,obsoleteNames#2820,constraint#2821,tep#2822,proteinIds#2823,dbXrefs#2824,chemicalProbes#2825,... 5 more fields] parquet\n                                                                                                                                                :                                   :                                                                                         +- Aggregate [targetId2#2882, drugId2#2875], [targetId2#2882, drugId2#2875, collect_set(actionType#2860, 0, 0) AS actionType#2892]\n                                                                                                                                                :                                   :                                                                                            +- Project [targetId2#2882, drugId2#2875, actionType#2860, mechanismOfAction#2861]\n                                                                                                                                                :                                   :                                                                                               +- Generate explode(targets#2865), true, [targetId2#2882]\n                                                                                                                                                :                                   :                                                                                                  +- Project [drugId2#2875, actionType#2860, mechanismOfAction#2861, targets#2865]\n                                                                                                                                                :                                   :                                                                                                     +- Generate explode(chemblIds#2862), true, [drugId2#2875]\n                                                                                                                                                :                                   :                                                                                                        +- Relation [actionType#2860,mechanismOfAction#2861,chemblIds#2862,targetName#2863,targetType#2864,targets#2865,references#2866] parquet\n                                                                                                                                                :                                   +- Project [biosampleId#1059, biosampleName#1060]\n                                                                                                                                                :                                      +- Relation [biosampleId#1059,biosampleName#1060,description#1061,xrefs#1062,synonyms#1063,parents#1064,ancestors#1065,children#1066,descendants#1067] parquet\n                                                                                                                                                +- Project [targetId#24018, diseaseId#24100, stopReason#16492]\n                                                                                                                                                   +- Project [targetId#24018, diseaseId#24100, count#16488L, Negative AS stopReason#16492]\n                                                                                                                                                      +- Aggregate [targetId#24018, diseaseId#24100], [targetId#24018, diseaseId#24100, count(1) AS count#16488L]\n                                                                                                                                                         +- Filter array_contains(studyStopReasonCategories#24082, Negative)\n                                                                                                                                                            +- Project [targetId#24018, diseaseId#24100, studyStopReason#24081, studyStopReasonCategories#24082]\n                                                                                                                                                               +- Filter (datasourceId#24017 = chembl)\n                                                                                                                                                                  +- Project [datasourceId#24017, targetId#24018, alleleOrigins#24019, allelicRequirements#24020, ancestry#24021, ancestryId#24022, beta#24023, betaConfidenceIntervalLower#24024, betaConfidenceIntervalUpper#24025, biologicalModelAllelicComposition#24026, biologicalModelGeneticBackground#24027, biologicalModelId#24028, biomarkerName#24029, biomarkers#24030, biosamplesFromSource#24031, cellType#24032, clinicalPhase#24033, clinicalSignificances#24034, clinicalStatus#24035, cohortDescription#24036, cohortId#24037, cohortPhenotypes#24038, cohortShortName#24039, confidence#24040, ... 66 more fields]\n                                                                                                                                                                     +- Filter datasourceId#24017 IN (gwas_credible_sets,gene_burden,eva,eva_somatic,gene2phenotype,orphanet,cancer_gene_census,intogen,impc,chembl)\n                                                                                                                                                                        +- Relation [datasourceId#24017,targetId#24018,alleleOrigins#24019,allelicRequirements#24020,ancestry#24021,ancestryId#24022,beta#24023,betaConfidenceIntervalLower#24024,betaConfidenceIntervalUpper#24025,biologicalModelAllelicComposition#24026,biologicalModelGeneticBackground#24027,biologicalModelId#24028,biomarkerName#24029,biomarkers#24030,biosamplesFromSource#24031,cellType#24032,clinicalPhase#24033,clinicalSignificances#24034,clinicalStatus#24035,cohortDescription#24036,cohortId#24037,cohortPhenotypes#24038,cohortShortName#24039,confidence#24040,... 65 more fields] parquet\n"
     ]
    }
   ],
   "source": [
    "result = []\n",
    "result_st = []\n",
    "result_ci = []\n",
    "array2 = []\n",
    "listado = []\n",
    "result_all = []\n",
    "today_date = str(date.today())\n",
    "\n",
    "##### PROJECT ID ###### \n",
    "print('working with projectId')\n",
    "pivoted_dfs['projectId'].persist()\n",
    "unique_values = benchmark.select('projectId').filter(F.col('projectId').isNotNull()).distinct().rdd.flatMap(lambda x: x).collect()\n",
    "filter = len(pivoted_dfs['projectId'].drop(*unique_values).columns[10:])\n",
    "print('There are ', filter, 'columns to analyse with phases')\n",
    "rows = comparisons_df_iterative(pivoted_dfs['projectId'].columns[-filter:])\n",
    "\n",
    "# If needed, now process the rest\n",
    "for row in rows:\n",
    "    results = aggregations_original(\n",
    "        pivoted_dfs['projectId'], \"propagated\", listado, *row, today_date\n",
    "    )\n",
    "    result_all.append(results)\n",
    "\n",
    "pivoted_dfs['projectId'].unpersist()\n",
    "print('df unpersisted')\n",
    "\n",
    "##### BIOSAMPLE NAME ###### \n",
    "print('working with biosampleName')\n",
    "pivoted_dfs['biosampleName'].persist()\n",
    "unique_values = benchmark.select('biosampleName').filter(F.col('biosampleName').isNotNull()).distinct().rdd.flatMap(lambda x: x).collect()\n",
    "filter = len(pivoted_dfs['biosampleName'].drop(*unique_values).columns[10:])\n",
    "print('There are ', filter, 'columns to analyse with phases')\n",
    "rows = comparisons_df_iterative(pivoted_dfs['biosampleName'].columns[-filter:])\n",
    "\n",
    "for row in rows:\n",
    "    results = aggregations_original(\n",
    "        pivoted_dfs['biosampleName'], \"propagated\", listado, *row, today_date\n",
    "    )\n",
    "    result_all.append(results)\n",
    "\n",
    "pivoted_dfs['biosampleName'].unpersist()\n",
    "print('df unpersisted')\n",
    "\n",
    "##### RIGHTSTUDYTYPE  ###### \n",
    "print('working with rightStudyType')\n",
    "pivoted_dfs['rightStudyType'].persist()\n",
    "unique_values = benchmark.select('rightStudyType').filter(F.col('rightStudyType').isNotNull()).distinct().rdd.flatMap(lambda x: x).collect()\n",
    "filter = len(pivoted_dfs['rightStudyType'].drop(*unique_values).columns[10:])\n",
    "print('There are ', filter, 'columns to analyse with phases')\n",
    "rows = comparisons_df_iterative(pivoted_dfs['rightStudyType'].columns[-filter:])\n",
    "\n",
    "for row in rows:\n",
    "    results = aggregations_original(\n",
    "        pivoted_dfs['rightStudyType'], \"propagated\", listado, *row, today_date\n",
    "    )\n",
    "    result_all.append(results)\n",
    "pivoted_dfs['rightStudyType'].unpersist()\n",
    "print('df unpersisted')\n",
    "\n",
    "##### COLOC DOE ######\n",
    "print('working with colocDoE')\n",
    "pivoted_dfs['colocDoE'].persist()\n",
    "unique_values = benchmark.select('colocDoE').filter(F.col('colocDoE').isNotNull()).distinct().rdd.flatMap(lambda x: x).collect()\n",
    "filter = len(pivoted_dfs['colocDoE'].drop(*unique_values).columns[10:])\n",
    "print('There are ', filter, 'columns to analyse with phases')\n",
    "rows = comparisons_df_iterative(pivoted_dfs['colocDoE'].columns[-filter:])\n",
    "\n",
    "for row in rows:\n",
    "    results = aggregations_original(\n",
    "        pivoted_dfs['colocDoE'], \"propagated\", listado, *row, today_date\n",
    "    )\n",
    "    result_all.append(results)\n",
    "pivoted_dfs['colocDoE'].unpersist()\n",
    "print('df unpersisted')\n",
    "\n",
    "##### COLOCALISATION METHOD ######\n",
    "print('working with colocalisationMethod')\n",
    "pivoted_dfs['colocalisationMethod'].persist()\n",
    "unique_values = benchmark.select('colocalisationMethod').filter(F.col('colocalisationMethod').isNotNull()).distinct().rdd.flatMap(lambda x: x).collect()\n",
    "filter = len(pivoted_dfs['colocalisationMethod'].drop(*unique_values).columns[10:])\n",
    "print('There are ', filter, 'columns to analyse with phases')\n",
    "rows = comparisons_df_iterative(pivoted_dfs['colocalisationMethod'].columns[-filter:])\n",
    "\n",
    "for row in rows:\n",
    "    results = aggregations_original(\n",
    "        pivoted_dfs['colocalisationMethod'], \"propagated\", listado, *row, today_date\n",
    "    )\n",
    "    result_all.append(results)\n",
    "pivoted_dfs['colocalisationMethod'].unpersist()\n",
    "print('df unpersisted')\n",
    "\n",
    "schema = StructType(\n",
    "    [\n",
    "        StructField(\"group\", StringType(), True),\n",
    "        StructField(\"comparison\", StringType(), True),\n",
    "        StructField(\"phase\", StringType(), True),\n",
    "        StructField(\"oddsRatio\", DoubleType(), True),\n",
    "        StructField(\"pValue\", DoubleType(), True),\n",
    "        StructField(\"lowerInterval\", DoubleType(), True),\n",
    "        StructField(\"upperInterval\", DoubleType(), True),\n",
    "        StructField(\"total\", StringType(), True),\n",
    "        StructField(\"values\", ArrayType(ArrayType(IntegerType())), True),\n",
    "        StructField(\"relSuccess\", DoubleType(), True),\n",
    "        StructField(\"rsLower\", DoubleType(), True),\n",
    "        StructField(\"rsUpper\", DoubleType(), True),\n",
    "        StructField(\"path\", StringType(), True),\n",
    "    ]\n",
    ")\n",
    "import re\n",
    "\n",
    "# Define the list of patterns to search for\n",
    "patterns = [\n",
    "    \"_only\",\n",
    "    #\"_tissue\",\n",
    "    #\"_isSignalFromRightTissue\",\n",
    "    \"_isRightTissueSignalAgreed\",\n",
    "]\n",
    "# Create a regex pattern to match any of the substrings\n",
    "regex_pattern = \"(\" + \"|\".join(map(re.escape, patterns)) + \")\"\n",
    "\n",
    "# Convert list of lists to DataFrame\n",
    "df = (\n",
    "    spreadSheetFormatter(spark.createDataFrame(result_all, schema=schema))\n",
    "    .withColumn(\n",
    "        \"prefix\",\n",
    "        F.regexp_replace(\n",
    "            F.col(\"comparison\"), regex_pattern + \".*\", \"\"\n",
    "        ),  # Extract part before the pattern\n",
    "    )\n",
    "    .withColumn(\n",
    "        \"suffix\",\n",
    "        F.regexp_extract(\n",
    "            F.col(\"comparison\"), regex_pattern, 0\n",
    "        ),  # Extract the pattern itself\n",
    "    )\n",
    ")\n",
    "\n",
    "### annotate projectId, tissue, qtl type and doe type:\n",
    "\n",
    "from pyspark.sql.functions import create_map\n",
    "from itertools import chain\n",
    "\n",
    "mapping_expr=create_map([F.lit(x) for x in chain(*disdic.items())])\n",
    "\n",
    "df_annot=df.withColumn('annotation',mapping_expr.getItem(F.col('prefix')))\n",
    "\n",
    "df_annot.toPandas().to_csv(\n",
    "    f\"gs://ot-team/jroldan/analysis/{today_date}_credibleSetColocDoEanalysis.csv\"\n",
    ")\n",
    "\n",
    "print(\"dataframe written \\n Analysis finished\")"
   ]
  },
  {
   "cell_type": "code",
   "execution_count": null,
   "metadata": {},
   "outputs": [],
   "source": [
    "ecaviar=spark.read.parquet('gs://open-targets-data-releases/25.03/output/colocalisation_ecaviar/')\n",
    "all_coloc=ecaviar.unionByName(new, allowMissingColumns=True)"
   ]
  },
  {
   "cell_type": "code",
   "execution_count": 4,
   "metadata": {},
   "outputs": [
    {
     "data": {
      "text/plain": [
       "59153506"
      ]
     },
     "execution_count": 4,
     "metadata": {},
     "output_type": "execute_result"
    }
   ],
   "source": [
    "ecaviar.count()"
   ]
  },
  {
   "cell_type": "code",
   "execution_count": 6,
   "metadata": {},
   "outputs": [
    {
     "name": "stderr",
     "output_type": "stream",
     "text": [
      "                                                                                \r"
     ]
    },
    {
     "data": {
      "text/plain": [
       "40631820"
      ]
     },
     "execution_count": 6,
     "metadata": {},
     "output_type": "execute_result"
    }
   ],
   "source": [
    "ecaviar.filter(F.col('clpp')>=0.01).count()"
   ]
  },
  {
   "cell_type": "code",
   "execution_count": 11,
   "metadata": {},
   "outputs": [],
   "source": [
    "all_coloc=ecaviar.unionByName(new, allowMissingColumns=True)"
   ]
  },
  {
   "cell_type": "code",
   "execution_count": null,
   "metadata": {},
   "outputs": [
    {
     "name": "stdout",
     "output_type": "stream",
     "text": [
      "root\n",
      " |-- rightStudyId: string (nullable = true)\n",
      " |-- rightStudyLocusId: string (nullable = true)\n",
      " |-- leftStudyLocusId: string (nullable = true)\n",
      " |-- chromosome: string (nullable = true)\n",
      " |-- rightStudyType: string (nullable = true)\n",
      " |-- numberColocalisingVariants: long (nullable = true)\n",
      " |-- h0: double (nullable = true)\n",
      " |-- h1: double (nullable = true)\n",
      " |-- h2: double (nullable = true)\n",
      " |-- h3: double (nullable = true)\n",
      " |-- h4: double (nullable = true)\n",
      " |-- colocalisationMethod: string (nullable = true)\n",
      " |-- betaRatioSignAverage: double (nullable = true)\n",
      " |-- leftStudyId: string (nullable = true)\n",
      " |-- leftVariantId: string (nullable = true)\n",
      " |-- credibleLeftStudyType: string (nullable = true)\n",
      " |-- rightVariantId: string (nullable = true)\n",
      " |-- credibleRightStudyType: string (nullable = true)\n",
      " |-- isTransQtl: boolean (nullable = true)\n",
      " |-- geneId: string (nullable = true)\n",
      " |-- projectId: string (nullable = true)\n",
      " |-- indexStudyType: string (nullable = true)\n",
      " |-- condition: string (nullable = true)\n",
      " |-- biosampleId: string (nullable = true)\n",
      "\n"
     ]
    }
   ],
   "source": [
    "### \n",
    "newColoc.printSchema()\n",
    "### \n"
   ]
  },
  {
   "cell_type": "code",
   "execution_count": 15,
   "metadata": {},
   "outputs": [
    {
     "name": "stderr",
     "output_type": "stream",
     "text": [
      "[Stage 324:====================================================>  (65 + 3) / 68]\r"
     ]
    },
    {
     "name": "stdout",
     "output_type": "stream",
     "text": [
      "+-----------+--------------------+---------------+--------------------+--------------------+----------+--------------+--------------------------+--------------------+--------------------+--------------------+--------------------+-------------------+--------------------+--------------------+------------+----------------+---------------------+-------------------+----------------------+----------+-----------+--------------+--------------------+--------------+------------------+-------------------+-------------------------+-------------------+------------------+--------------------+-------------------+------------------+------------+----------------+--------------------+--------------+--------------------+----------------+-----------+\n",
      "|  diseaseId|    leftStudyLocusId|       targetId|        rightStudyId|   rightStudyLocusId|chromosome|rightStudyType|numberColocalisingVariants|                  h0|                  h1|                  h2|                  h3|                 h4|colocalisationMethod|betaRatioSignAverage| leftStudyId|   leftVariantId|credibleLeftStudyType|     rightVariantId|credibleRightStudyType|isTransQtl|  projectId|indexStudyType|           condition|   biosampleId|      datasourceId|         datatypeId|diseaseFromSourceMappedId|      resourceScore|targetFromSourceId|                  id|              score|          sourceId|     studyId|       variantId|            betaGwas|pValueExponent|                name|therapeuticAreas|   colocDoE|\n",
      "+-----------+--------------------+---------------+--------------------+--------------------+----------+--------------+--------------------------+--------------------+--------------------+--------------------+--------------------+-------------------+--------------------+--------------------+------------+----------------+---------------------+-------------------+----------------------+----------+-----------+--------------+--------------------+--------------+------------------+-------------------+-------------------------+-------------------+------------------+--------------------+-------------------+------------------+------------+----------------+--------------------+--------------+--------------------+----------------+-----------+\n",
      "|EFO_0004308|001c01103ffa2708b...|ENSG00000185989|brainseq_ge_brain...|6eb023b85ef4bddf0...|        13|          eqtl|                         1|1.170136987853543...|1.335459611819019...|8.761937469249524...|1.170136987970565...|  0.999986645403894|               COLOC|                -1.0|GCST90278673|13_114131637_A_G|                 gwas|   13_114131637_A_G|                  eqtl|     false|   BrainSeq|          eqtl|               naive|UBERON_0009834|gwas_credible_sets|genetic_association|              EFO_0004308| 0.5586342462169577|   ENSG00000185989|b7bbca05e904fa7c6...| 0.5586342462169577|gwas_credible_sets|GCST90278673|13_114131637_A_G| 0.06357931506583596|            -6|     leukocyte count|   [EFO_0001444]|   LoF_risk|\n",
      "|EFO_0004586|001c01103ffa2708b...|ENSG00000185989|brainseq_ge_brain...|6eb023b85ef4bddf0...|        13|          eqtl|                         1|1.170136987853543...|1.335459611819019...|8.761937469249524...|1.170136987970565...|  0.999986645403894|               COLOC|                -1.0|GCST90278673|13_114131637_A_G|                 gwas|   13_114131637_A_G|                  eqtl|     false|   BrainSeq|          eqtl|               naive|UBERON_0009834|gwas_credible_sets|genetic_association|              EFO_0004308| 0.5586342462169577|   ENSG00000185989|b7bbca05e904fa7c6...| 0.5586342462169577|gwas_credible_sets|GCST90278673|13_114131637_A_G| 0.06357931506583596|            -6|     leukocyte count|   [EFO_0001444]|   LoF_risk|\n",
      "|EFO_0004346|004a5eea67885e8af...|ENSG00000113119|alasoo_2018_exon_...|a2476acb32ce7f3ce...|         5|          eqtl|                         8|6.961922550345376...|5.285558765592151...|6.688312732264498E-4|  0.5072911151509926|  0.492040053575777|               COLOC|                -1.0|GCST90388551| 5_140560648_G_A|                 gwas|   5_140630316_A_AT|                  eqtl|     false|Alasoo_2018|          eqtl|            IFNg_18h|    CL_0000235|gwas_credible_sets|genetic_association|              EFO_0004346| 0.0808072801149762|   ENSG00000113119|d39ce8f6231b812e5...| 0.0808072801149762|gwas_credible_sets|GCST90388551| 5_140560648_G_A|-0.02633612808447...|            -9|neuroimaging meas...|   [EFO_0001444]|GoF_protect|\n",
      "|EFO_0001444|004a5eea67885e8af...|ENSG00000113119|alasoo_2018_exon_...|a2476acb32ce7f3ce...|         5|          eqtl|                         8|6.961922550345376...|5.285558765592151...|6.688312732264498E-4|  0.5072911151509926|  0.492040053575777|               COLOC|                -1.0|GCST90388551| 5_140560648_G_A|                 gwas|   5_140630316_A_AT|                  eqtl|     false|Alasoo_2018|          eqtl|            IFNg_18h|    CL_0000235|gwas_credible_sets|genetic_association|              EFO_0004346| 0.0808072801149762|   ENSG00000113119|d39ce8f6231b812e5...| 0.0808072801149762|gwas_credible_sets|GCST90388551| 5_140560648_G_A|-0.02633612808447...|            -9|neuroimaging meas...|   [EFO_0001444]|GoF_protect|\n",
      "|EFO_0004346|004a5eea67885e8af...|ENSG00000113119|alasoo_2018_leafc...|20ab981ecf4deba4c...|         5|          sqtl|                        35|1.628631899795687...|1.236480216583460...|1.611180983206374...| 0.12144473064350574| 0.8783929131493242|               COLOC|                -1.0|GCST90388551| 5_140560648_G_A|                 gwas|  5_140612334_C_CTT|                  sqtl|     false|Alasoo_2018|          sqtl|               naive|    CL_0000235|gwas_credible_sets|genetic_association|              EFO_0004346| 0.0808072801149762|   ENSG00000113119|d39ce8f6231b812e5...| 0.0808072801149762|gwas_credible_sets|GCST90388551| 5_140560648_G_A|-0.02633612808447...|            -9|neuroimaging meas...|   [EFO_0001444]|LoF_protect|\n",
      "|EFO_0001444|004a5eea67885e8af...|ENSG00000113119|alasoo_2018_leafc...|20ab981ecf4deba4c...|         5|          sqtl|                        35|1.628631899795687...|1.236480216583460...|1.611180983206374...| 0.12144473064350574| 0.8783929131493242|               COLOC|                -1.0|GCST90388551| 5_140560648_G_A|                 gwas|  5_140612334_C_CTT|                  sqtl|     false|Alasoo_2018|          sqtl|               naive|    CL_0000235|gwas_credible_sets|genetic_association|              EFO_0004346| 0.0808072801149762|   ENSG00000113119|d39ce8f6231b812e5...| 0.0808072801149762|gwas_credible_sets|GCST90388551| 5_140560648_G_A|-0.02633612808447...|            -9|neuroimaging meas...|   [EFO_0001444]|LoF_protect|\n",
      "|EFO_0004346|004a5eea67885e8af...|ENSG00000113119|gtex_txrev_minor_...|c0c41d39baa581035...|         5|         tuqtl|                        11|7.517179405589536E-8|5.707123395849068...|4.762586303278661E-4|  0.3609421463010771| 0.6385244486628436|               COLOC|                 1.0|GCST90388551| 5_140560648_G_A|                 gwas|    5_140628053_C_T|                 tuqtl|     false|       GTEx|         tuqtl|               naive|UBERON_0006330|gwas_credible_sets|genetic_association|              EFO_0004346| 0.0808072801149762|   ENSG00000113119|d39ce8f6231b812e5...| 0.0808072801149762|gwas_credible_sets|GCST90388551| 5_140560648_G_A|-0.02633612808447...|            -9|neuroimaging meas...|   [EFO_0001444]|LoF_protect|\n",
      "|EFO_0001444|004a5eea67885e8af...|ENSG00000113119|gtex_txrev_minor_...|c0c41d39baa581035...|         5|         tuqtl|                        11|7.517179405589536E-8|5.707123395849068...|4.762586303278661E-4|  0.3609421463010771| 0.6385244486628436|               COLOC|                 1.0|GCST90388551| 5_140560648_G_A|                 gwas|    5_140628053_C_T|                 tuqtl|     false|       GTEx|         tuqtl|               naive|UBERON_0006330|gwas_credible_sets|genetic_association|              EFO_0004346| 0.0808072801149762|   ENSG00000113119|d39ce8f6231b812e5...| 0.0808072801149762|gwas_credible_sets|GCST90388551| 5_140560648_G_A|-0.02633612808447...|            -9|neuroimaging meas...|   [EFO_0001444]|LoF_protect|\n",
      "|EFO_0004346|004a5eea67885e8af...|ENSG00000113119|alasoo_2018_ge_ma...|cdfdf59d5d078c2ad...|         5|          eqtl|                         8|4.998693208321849...|3.795057108548822...|3.761517722012344...|  0.2848633691426735| 0.7147604790851272|               COLOC|                -1.0|GCST90388551| 5_140560648_G_A|                 gwas|   5_140628011_C_CT|                  eqtl|     false|Alasoo_2018|          eqtl|               naive|    CL_0000235|gwas_credible_sets|genetic_association|              EFO_0004346| 0.0808072801149762|   ENSG00000113119|d39ce8f6231b812e5...| 0.0808072801149762|gwas_credible_sets|GCST90388551| 5_140560648_G_A|-0.02633612808447...|            -9|neuroimaging meas...|   [EFO_0001444]|GoF_protect|\n",
      "|EFO_0001444|004a5eea67885e8af...|ENSG00000113119|alasoo_2018_ge_ma...|cdfdf59d5d078c2ad...|         5|          eqtl|                         8|4.998693208321849...|3.795057108548822...|3.761517722012344...|  0.2848633691426735| 0.7147604790851272|               COLOC|                -1.0|GCST90388551| 5_140560648_G_A|                 gwas|   5_140628011_C_CT|                  eqtl|     false|Alasoo_2018|          eqtl|               naive|    CL_0000235|gwas_credible_sets|genetic_association|              EFO_0004346| 0.0808072801149762|   ENSG00000113119|d39ce8f6231b812e5...| 0.0808072801149762|gwas_credible_sets|GCST90388551| 5_140560648_G_A|-0.02633612808447...|            -9|neuroimaging meas...|   [EFO_0001444]|GoF_protect|\n",
      "|EFO_0004346|004a5eea67885e8af...|ENSG00000113119|alasoo_2018_ge_ma...|f01e946efb54a39ec...|         5|          eqtl|                        15|4.10452180146683E-12|3.116194602439554...|1.729910029059247E-4|  0.1304671649970195| 0.8693598408797756|               COLOC|                -1.0|GCST90388551| 5_140560648_G_A|                 gwas|5_140622724_CAAAA_C|                  eqtl|     false|Alasoo_2018|          eqtl|       Salmonella_5h|    CL_0000235|gwas_credible_sets|genetic_association|              EFO_0004346| 0.0808072801149762|   ENSG00000113119|d39ce8f6231b812e5...| 0.0808072801149762|gwas_credible_sets|GCST90388551| 5_140560648_G_A|-0.02633612808447...|            -9|neuroimaging meas...|   [EFO_0001444]|GoF_protect|\n",
      "|EFO_0001444|004a5eea67885e8af...|ENSG00000113119|alasoo_2018_ge_ma...|f01e946efb54a39ec...|         5|          eqtl|                        15|4.10452180146683E-12|3.116194602439554...|1.729910029059247E-4|  0.1304671649970195| 0.8693598408797756|               COLOC|                -1.0|GCST90388551| 5_140560648_G_A|                 gwas|5_140622724_CAAAA_C|                  eqtl|     false|Alasoo_2018|          eqtl|       Salmonella_5h|    CL_0000235|gwas_credible_sets|genetic_association|              EFO_0004346| 0.0808072801149762|   ENSG00000113119|d39ce8f6231b812e5...| 0.0808072801149762|gwas_credible_sets|GCST90388551| 5_140560648_G_A|-0.02633612808447...|            -9|neuroimaging meas...|   [EFO_0001444]|GoF_protect|\n",
      "|EFO_0004346|004a5eea67885e8af...|ENSG00000113119|alasoo_2018_ge_ma...|44dadef55d78c602c...|         5|          eqtl|                        12|2.470192218592448...|1.875395245728955...|2.939707831785989E-4| 0.22240833336832116| 0.7772976958484811|               COLOC|                -1.0|GCST90388551| 5_140560648_G_A|                 gwas|    5_140636480_T_A|                  eqtl|     false|Alasoo_2018|          eqtl|IFNg_18h+Salmonel...|    CL_0000235|gwas_credible_sets|genetic_association|              EFO_0004346| 0.0808072801149762|   ENSG00000113119|d39ce8f6231b812e5...| 0.0808072801149762|gwas_credible_sets|GCST90388551| 5_140560648_G_A|-0.02633612808447...|            -9|neuroimaging meas...|   [EFO_0001444]|GoF_protect|\n",
      "|EFO_0001444|004a5eea67885e8af...|ENSG00000113119|alasoo_2018_ge_ma...|44dadef55d78c602c...|         5|          eqtl|                        12|2.470192218592448...|1.875395245728955...|2.939707831785989E-4| 0.22240833336832116| 0.7772976958484811|               COLOC|                -1.0|GCST90388551| 5_140560648_G_A|                 gwas|    5_140636480_T_A|                  eqtl|     false|Alasoo_2018|          eqtl|IFNg_18h+Salmonel...|    CL_0000235|gwas_credible_sets|genetic_association|              EFO_0004346| 0.0808072801149762|   ENSG00000113119|d39ce8f6231b812e5...| 0.0808072801149762|gwas_credible_sets|GCST90388551| 5_140560648_G_A|-0.02633612808447...|            -9|neuroimaging meas...|   [EFO_0001444]|GoF_protect|\n",
      "|EFO_0004346|004a5eea67885e8af...|ENSG00000113119|alasoo_2018_exon_...|3c219c91804c2c56e...|         5|          eqtl|                        13|5.797334995243264E-6|0.004401405992233503|5.373723638928146E-4| 0.40739185537195016| 0.5876635689369277|               COLOC|                -1.0|GCST90388551| 5_140560648_G_A|                 gwas|   5_140610186_TA_T|                  eqtl|     false|Alasoo_2018|          eqtl|               naive|    CL_0000235|gwas_credible_sets|genetic_association|              EFO_0004346| 0.0808072801149762|   ENSG00000113119|d39ce8f6231b812e5...| 0.0808072801149762|gwas_credible_sets|GCST90388551| 5_140560648_G_A|-0.02633612808447...|            -9|neuroimaging meas...|   [EFO_0001444]|GoF_protect|\n",
      "|EFO_0001444|004a5eea67885e8af...|ENSG00000113119|alasoo_2018_exon_...|3c219c91804c2c56e...|         5|          eqtl|                        13|5.797334995243264E-6|0.004401405992233503|5.373723638928146E-4| 0.40739185537195016| 0.5876635689369277|               COLOC|                -1.0|GCST90388551| 5_140560648_G_A|                 gwas|   5_140610186_TA_T|                  eqtl|     false|Alasoo_2018|          eqtl|               naive|    CL_0000235|gwas_credible_sets|genetic_association|              EFO_0004346| 0.0808072801149762|   ENSG00000113119|d39ce8f6231b812e5...| 0.0808072801149762|gwas_credible_sets|GCST90388551| 5_140560648_G_A|-0.02633612808447...|            -9|neuroimaging meas...|   [EFO_0001444]|GoF_protect|\n",
      "|EFO_0004346|005dab05d79c3a38f...|ENSG00000185829|gtex_tx_brain_cor...|cd12063957a0fdf93...|        17|          eqtl|                        17|1.307519388261602...| 0.02697606478255076|3.673291571117933...|  0.7576391623778357|0.21538476903556844|               COLOC|                 1.0|GCST90387811| 17_46685223_G_A|                 gwas|    17_45778205_T_C|                  eqtl|     false|       GTEx|          eqtl|               naive|UBERON_0001870|gwas_credible_sets|genetic_association|              EFO_0004346|0.23904308557819762|   ENSG00000185829|b91e96f416be2b673...|0.23904308557819762|gwas_credible_sets|GCST90387811| 17_46685223_G_A|-0.03702946112312704|           -14|neuroimaging meas...|   [EFO_0001444]|LoF_protect|\n",
      "|EFO_0001444|005dab05d79c3a38f...|ENSG00000185829|gtex_tx_brain_cor...|cd12063957a0fdf93...|        17|          eqtl|                        17|1.307519388261602...| 0.02697606478255076|3.673291571117933...|  0.7576391623778357|0.21538476903556844|               COLOC|                 1.0|GCST90387811| 17_46685223_G_A|                 gwas|    17_45778205_T_C|                  eqtl|     false|       GTEx|          eqtl|               naive|UBERON_0001870|gwas_credible_sets|genetic_association|              EFO_0004346|0.23904308557819762|   ENSG00000185829|b91e96f416be2b673...|0.23904308557819762|gwas_credible_sets|GCST90387811| 17_46685223_G_A|-0.03702946112312704|           -14|neuroimaging meas...|   [EFO_0001444]|LoF_protect|\n",
      "|EFO_0004346|005dab05d79c3a38f...|ENSG00000185829|nathan_2022_ge_cd...|a8d3872e1954efd4f...|        17|        sceqtl|                        19|4.057982541774887...|8.372220005459503E-8|4.207695781093605...| 0.08589690327615332| 0.9141030125808778|               COLOC|                -1.0|GCST90387811| 17_46685223_G_A|                 gwas|    17_46687409_A_C|                sceqtl|     false|Nathan_2022|        sceqtl|               naive|    CL_0000624|gwas_credible_sets|genetic_association|              EFO_0004346|0.23904308557819762|   ENSG00000185829|b91e96f416be2b673...|0.23904308557819762|gwas_credible_sets|GCST90387811| 17_46685223_G_A|-0.03702946112312704|           -14|neuroimaging meas...|   [EFO_0001444]|GoF_protect|\n",
      "|EFO_0001444|005dab05d79c3a38f...|ENSG00000185829|nathan_2022_ge_cd...|a8d3872e1954efd4f...|        17|        sceqtl|                        19|4.057982541774887...|8.372220005459503E-8|4.207695781093605...| 0.08589690327615332| 0.9141030125808778|               COLOC|                -1.0|GCST90387811| 17_46685223_G_A|                 gwas|    17_46687409_A_C|                sceqtl|     false|Nathan_2022|        sceqtl|               naive|    CL_0000624|gwas_credible_sets|genetic_association|              EFO_0004346|0.23904308557819762|   ENSG00000185829|b91e96f416be2b673...|0.23904308557819762|gwas_credible_sets|GCST90387811| 17_46685223_G_A|-0.03702946112312704|           -14|neuroimaging meas...|   [EFO_0001444]|GoF_protect|\n",
      "+-----------+--------------------+---------------+--------------------+--------------------+----------+--------------+--------------------------+--------------------+--------------------+--------------------+--------------------+-------------------+--------------------+--------------------+------------+----------------+---------------------+-------------------+----------------------+----------+-----------+--------------+--------------------+--------------+------------------+-------------------+-------------------------+-------------------+------------------+--------------------+-------------------+------------------+------------+----------------+--------------------+--------------+--------------------+----------------+-----------+\n",
      "only showing top 20 rows\n",
      "\n"
     ]
    },
    {
     "name": "stderr",
     "output_type": "stream",
     "text": [
      "                                                                                \r"
     ]
    }
   ],
   "source": [
    "resolvedColoc.show()"
   ]
  },
  {
   "cell_type": "code",
   "execution_count": null,
   "metadata": {},
   "outputs": [],
   "source": [
    "### TASKS\n",
    "# make the right join with chembl -- CHECK IT!\n",
    "# Test new dataset pivoted_df generated using chatgpt\n",
    "# create new columns asking the questions below\n",
    "# generate the same in the genetic evidence\n",
    "\n",
    "\n",
    "## QUESTIONS TO ANSWER:\n",
    "# HAVE ECAVIAR >=0.8\n",
    "# HAVE COLOC \n",
    "# HAVE COLOC >= 0.8\n",
    "# HAVE COLOC + ECAVIAR >= 0.01\n",
    "# HAVE COLOC >= 0.8 + ECAVIAR >= 0.01\n",
    "# RIGHT JOING WITH CHEMBL \n"
   ]
  },
  {
   "cell_type": "code",
   "execution_count": 14,
   "metadata": {},
   "outputs": [
    {
     "name": "stderr",
     "output_type": "stream",
     "text": [
      "                                                                                ]]\r"
     ]
    },
    {
     "data": {
      "text/plain": [
       "20821482"
      ]
     },
     "execution_count": 14,
     "metadata": {},
     "output_type": "execute_result"
    }
   ],
   "source": [
    "gwasCredibleAssoc_qtlPValue.count()"
   ]
  },
  {
   "cell_type": "code",
   "execution_count": 16,
   "metadata": {},
   "outputs": [
    {
     "name": "stderr",
     "output_type": "stream",
     "text": [
      "[Stage 93359:====================================================>(66 + 1) / 67] 207]\r"
     ]
    },
    {
     "name": "stdout",
     "output_type": "stream",
     "text": [
      "+---------------+-----------+-----------+-----------+\n",
      "|       targetId|  diseaseId|leftStudyId|homogenized|\n",
      "+---------------+-----------+-----------+-----------+\n",
      "|ENSG00000000971|EFO_0004683| GCST003219|noEvaluable|\n",
      "|ENSG00000000971|EFO_0004683| GCST003219|noEvaluable|\n",
      "|ENSG00000000971|EFO_0004683| GCST003219|noEvaluable|\n",
      "|ENSG00000000971|EFO_0004683| GCST003219|noEvaluable|\n",
      "|ENSG00000000971|EFO_0004683| GCST003219|noEvaluable|\n",
      "|ENSG00000000971|EFO_0004683| GCST003219|noEvaluable|\n",
      "|ENSG00000000971|EFO_0004683| GCST003219|noEvaluable|\n",
      "|ENSG00000000971|EFO_0004683| GCST003219|noEvaluable|\n",
      "|ENSG00000000971|EFO_0004683| GCST003219|noEvaluable|\n",
      "|ENSG00000000971|EFO_0004683| GCST003219|noEvaluable|\n",
      "|ENSG00000000971|EFO_0004683| GCST003219|noEvaluable|\n",
      "|ENSG00000000971|EFO_0004683| GCST003219|noEvaluable|\n",
      "|ENSG00000000971|EFO_0004683| GCST003219|noEvaluable|\n",
      "|ENSG00000000971|EFO_0004683| GCST003219|noEvaluable|\n",
      "|ENSG00000000971|EFO_0004683| GCST003219|noEvaluable|\n",
      "|ENSG00000000971|EFO_0004683| GCST003219|noEvaluable|\n",
      "|ENSG00000000971|EFO_0004683| GCST003219|noEvaluable|\n",
      "|ENSG00000000971|EFO_0004683| GCST003219|noEvaluable|\n",
      "|ENSG00000000971|EFO_0004683| GCST003219|noEvaluable|\n",
      "|ENSG00000000971|EFO_0004683| GCST003219|noEvaluable|\n",
      "+---------------+-----------+-----------+-----------+\n",
      "only showing top 20 rows\n",
      "\n"
     ]
    },
    {
     "name": "stderr",
     "output_type": "stream",
     "text": [
      "                                                                                \r"
     ]
    }
   ],
   "source": [
    "gwasCredibleAssoc_qtlPValue.show()"
   ]
  },
  {
   "cell_type": "code",
   "execution_count": 15,
   "metadata": {},
   "outputs": [
    {
     "name": "stderr",
     "output_type": "stream",
     "text": [
      "                                                                                ]]\r"
     ]
    },
    {
     "data": {
      "text/plain": [
       "20821482"
      ]
     },
     "execution_count": 15,
     "metadata": {},
     "output_type": "execute_result"
    }
   ],
   "source": [
    "gwasCredibleAssoc.count()"
   ]
  },
  {
   "cell_type": "code",
   "execution_count": 28,
   "metadata": {},
   "outputs": [
    {
     "name": "stderr",
     "output_type": "stream",
     "text": [
      "                                                                                58]]\r"
     ]
    }
   ],
   "source": [
    "assoc2=gwasCredibleAssoc_qtlPValue.groupBy('targetId','diseaseId').pivot('homogenized').count().persist()"
   ]
  },
  {
   "cell_type": "code",
   "execution_count": 29,
   "metadata": {},
   "outputs": [
    {
     "name": "stderr",
     "output_type": "stream",
     "text": [
      "25/06/18 21:52:45 WARN CacheManager: Asked to cache already cached data.\n"
     ]
    },
    {
     "data": {
      "text/plain": [
       "DataFrame[targetId: string, diseaseId: string, GoF_protect: bigint, GoF_risk: bigint, LoF_protect: bigint, LoF_risk: bigint, noEvaluable: bigint]"
      ]
     },
     "execution_count": 29,
     "metadata": {},
     "output_type": "execute_result"
    }
   ],
   "source": [
    "benchGenEvid2=assoc2.withColumnRenamed('GoF_protect','GoF_protectG').withColumnRenamed('LoF_protect','LoF_protectG').withColumnRenamed('LoF_risk','LoF_riskG').withColumnRenamed('GoF_risk','GoF_riskG').join(analysis_chembl, on=['targetId','diseaseId'],how='right').persist()\n",
    "assoc2.unpersist()"
   ]
  },
  {
   "cell_type": "code",
   "execution_count": 24,
   "metadata": {},
   "outputs": [
    {
     "data": {
      "text/plain": [
       "DataFrame[targetId: string, diseaseId: string, GoF_protect: bigint, GoF_risk: bigint, LoF_protect: bigint, LoF_risk: bigint, noEvaluable: bigint]"
      ]
     },
     "execution_count": 24,
     "metadata": {},
     "output_type": "execute_result"
    }
   ],
   "source": [
    "benchGenEvid=assoc.withColumnRenamed('GoF_protect','GoF_protectG').withColumnRenamed('LoF_protect','LoF_protectG').withColumnRenamed('LoF_risk','LoF_riskG').withColumnRenamed('GoF_risk','GoF_riskG').join(analysis_chembl, on=['targetId','diseaseId'],how='right').persist()\n",
    "assoc.unpersist()"
   ]
  },
  {
   "cell_type": "code",
   "execution_count": 30,
   "metadata": {},
   "outputs": [
    {
     "data": {
      "text/plain": [
       "341"
      ]
     },
     "execution_count": 30,
     "metadata": {},
     "output_type": "execute_result"
    }
   ],
   "source": [
    "benchGenEvid2.filter(F.col('GoF_protectG').isNotNull()|F.col('GoF_riskG').isNotNull()|F.col('LoF_protectG').isNotNull()|F.col('LoF_riskG').isNotNull()).count()"
   ]
  },
  {
   "cell_type": "code",
   "execution_count": null,
   "metadata": {},
   "outputs": [],
   "source": []
  },
  {
   "cell_type": "code",
   "execution_count": 25,
   "metadata": {},
   "outputs": [
    {
     "name": "stderr",
     "output_type": "stream",
     "text": [
      "25/06/18 21:41:15 WARN BatchHelper: Forcibly shutting down batch helper thread pool.\n",
      "                                                                                \r"
     ]
    },
    {
     "name": "stdout",
     "output_type": "stream",
     "text": [
      "+---------------+-------------+------------+---------+------------+---------+-----------+------------+-----------+-----------+-----------+--------+--------+-----------------+----------------+\n",
      "|       targetId|    diseaseId|GoF_protectG|GoF_riskG|LoF_protectG|LoF_riskG|noEvaluable|maxClinPhase|GoF_protect|LoF_protect|noEvaluable|GoF_risk|LoF_risk|coherencyDiagonal|coherencyOneCell|\n",
      "+---------------+-------------+------------+---------+------------+---------+-----------+------------+-----------+-----------+-----------+--------+--------+-----------------+----------------+\n",
      "|ENSG00000112541|  EFO_0000537|           5|     NULL|        NULL|     NULL|       NULL|         1.0|       NULL|          1|       NULL|    NULL|    NULL|         coherent|        coherent|\n",
      "|ENSG00000115232|  EFO_0003767|        NULL|        2|         104|     NULL|       NULL|         1.0|       NULL|          1|       NULL|    NULL|    NULL|         coherent|        coherent|\n",
      "|ENSG00000132855|  EFO_0000589|        NULL|     NULL|           4|     NULL|       NULL|         1.0|       NULL|          1|       NULL|    NULL|    NULL|         coherent|        coherent|\n",
      "|ENSG00000137869|  EFO_1001512|        NULL|       28|        NULL|     NULL|          1|         3.0|       NULL|          3|       NULL|    NULL|    NULL|         coherent|        coherent|\n",
      "|ENSG00000120659|  EFO_0000685|        NULL|     NULL|          10|     NULL|         10|         3.0|       NULL|          3|       NULL|    NULL|    NULL|         coherent|        coherent|\n",
      "|ENSG00000077238|MONDO_0005271|        NULL|     NULL|          80|     NULL|       NULL|         2.0|       NULL|          1|       NULL|    NULL|    NULL|         coherent|        coherent|\n",
      "|ENSG00000120088|  EFO_0001358|        NULL|        4|        NULL|     NULL|       NULL|         2.0|       NULL|          1|       NULL|    NULL|    NULL|         coherent|        coherent|\n",
      "|ENSG00000139626|MONDO_0005147|        NULL|        3|        NULL|     NULL|       NULL|         0.5|       NULL|          1|       NULL|    NULL|    NULL|         coherent|        coherent|\n",
      "|ENSG00000163235|MONDO_0005178|          81|     NULL|        NULL|     NULL|       NULL|         2.0|       NULL|          1|       NULL|    NULL|    NULL|         coherent|        coherent|\n",
      "|ENSG00000117298|  EFO_0000537|        NULL|     NULL|        NULL|        3|       NULL|         2.0|       NULL|          2|       NULL|    NULL|    NULL|         coherent|        coherent|\n",
      "|ENSG00000169083|  EFO_0001663|        NULL|        6|        NULL|     NULL|          2|         4.0|          4|         44|       NULL|    NULL|    NULL|           dispar|          dispar|\n",
      "|ENSG00000145777|  EFO_0004232|        NULL|       65|        NULL|     NULL|         45|         3.0|       NULL|          1|       NULL|    NULL|    NULL|         coherent|        coherent|\n",
      "|ENSG00000175868|MONDO_0005277|        NULL|     NULL|           9|     NULL|          4|         4.0|       NULL|         65|       NULL|    NULL|    NULL|         coherent|        coherent|\n",
      "|ENSG00000186010|  EFO_0000685|        NULL|      129|        NULL|     NULL|       NULL|         2.0|       NULL|          4|       NULL|    NULL|    NULL|         coherent|        coherent|\n",
      "|ENSG00000171105|  EFO_0000537|           4|     NULL|          14|     NULL|          1|         3.0|          6|       NULL|       NULL|    NULL|    NULL|         coherent|        coherent|\n",
      "|ENSG00000079999|MONDO_0005301|           1|     NULL|        NULL|     NULL|       NULL|         4.0|       NULL|         24|       NULL|    NULL|    NULL|         coherent|        coherent|\n",
      "|ENSG00000185633|  EFO_0000195|        NULL|        2|        NULL|     NULL|       NULL|         3.0|       NULL|         10|       NULL|    NULL|    NULL|         coherent|        coherent|\n",
      "|ENSG00000171385|  EFO_0000275|           9|     NULL|        NULL|     NULL|       NULL|         4.0|       NULL|         18|       NULL|    NULL|    NULL|         coherent|        coherent|\n",
      "|ENSG00000185010|   HP_0002140|        NULL|     NULL|          16|     NULL|       NULL|         3.0|       NULL|          2|       NULL|    NULL|    NULL|         coherent|        coherent|\n",
      "|ENSG00000141510|  EFO_0000519|        NULL|       17|        NULL|      124|       NULL|         1.0|       NULL|          1|       NULL|    NULL|    NULL|         coherent|        coherent|\n",
      "+---------------+-------------+------------+---------+------------+---------+-----------+------------+-----------+-----------+-----------+--------+--------+-----------------+----------------+\n",
      "only showing top 20 rows\n",
      "\n"
     ]
    }
   ],
   "source": [
    "\n",
    "benchGenEvid.filter(F.col('GoF_protectG').isNotNull()|F.col('GoF_riskG').isNotNull()|F.col('LoF_protectG').isNotNull()|F.col('LoF_riskG').isNotNull()).count()"
   ]
  },
  {
   "cell_type": "code",
   "execution_count": 26,
   "metadata": {},
   "outputs": [
    {
     "data": {
      "text/plain": [
       "341"
      ]
     },
     "execution_count": 26,
     "metadata": {},
     "output_type": "execute_result"
    }
   ],
   "source": [
    "benchGenEvid.filter(F.col('GoF_protectG').isNotNull()|F.col('GoF_riskG').isNotNull()|F.col('LoF_protectG').isNotNull()|F.col('LoF_riskG').isNotNull()).count()"
   ]
  },
  {
   "cell_type": "code",
   "execution_count": 19,
   "metadata": {},
   "outputs": [
    {
     "name": "stderr",
     "output_type": "stream",
     "text": [
      "                                                                                / 67]\r"
     ]
    },
    {
     "name": "stdout",
     "output_type": "stream",
     "text": [
      "+---------------+-------------+-----------+--------+-----------+--------+-----------+------------+-----------+-----------+-----------+--------+--------+-----------------+----------------+\n",
      "|       targetId|    diseaseId|GoF_protect|GoF_risk|LoF_protect|LoF_risk|noEvaluable|maxClinPhase|GoF_protect|LoF_protect|noEvaluable|GoF_risk|LoF_risk|coherencyDiagonal|coherencyOneCell|\n",
      "+---------------+-------------+-----------+--------+-----------+--------+-----------+------------+-----------+-----------+-----------+--------+--------+-----------------+----------------+\n",
      "|ENSG00000007314|  EFO_0000555|       NULL|    NULL|       NULL|    NULL|       NULL|         2.0|       NULL|          3|       NULL|    NULL|    NULL|         coherent|        coherent|\n",
      "|ENSG00000007314|  EFO_1000249|       NULL|    NULL|       NULL|    NULL|       NULL|         3.0|       NULL|          1|       NULL|    NULL|    NULL|         coherent|        coherent|\n",
      "|ENSG00000008018|  EFO_1000453|       NULL|    NULL|       NULL|    NULL|       NULL|         2.0|       NULL|          1|       NULL|    NULL|    NULL|         coherent|        coherent|\n",
      "|ENSG00000012504|MONDO_0019052|       NULL|    NULL|       NULL|    NULL|       NULL|         4.0|          1|       NULL|       NULL|    NULL|    NULL|         coherent|        coherent|\n",
      "|ENSG00000012779|MONDO_0004235|       NULL|    NULL|       NULL|    NULL|       NULL|         3.0|       NULL|          4|       NULL|    NULL|    NULL|         coherent|        coherent|\n",
      "|ENSG00000014138|  EFO_1001945|       NULL|    NULL|       NULL|    NULL|       NULL|         3.0|       NULL|          4|       NULL|    NULL|    NULL|         coherent|        coherent|\n",
      "|ENSG00000023228|  EFO_1000657|       NULL|    NULL|       NULL|    NULL|       NULL|         2.0|       NULL|          3|       NULL|    NULL|    NULL|         coherent|        coherent|\n",
      "|ENSG00000062822|  EFO_0004991|       NULL|    NULL|       NULL|    NULL|       NULL|         2.0|       NULL|          1|       NULL|    NULL|    NULL|         coherent|        coherent|\n",
      "|ENSG00000065883|  EFO_0001378|       NULL|    NULL|       NULL|    NULL|       NULL|         1.0|       NULL|          1|       NULL|    NULL|    NULL|         coherent|        coherent|\n",
      "|ENSG00000067191|  EFO_0000319|       NULL|    NULL|       NULL|    NULL|       NULL|         4.0|       NULL|          2|       NULL|    NULL|    NULL|         coherent|        coherent|\n",
      "|ENSG00000070886|  EFO_1000489|       NULL|    NULL|       NULL|    NULL|       NULL|         2.0|       NULL|          1|       NULL|    NULL|    NULL|         coherent|        coherent|\n",
      "|ENSG00000077782|MONDO_0008315|       NULL|    NULL|       NULL|    NULL|       NULL|         2.0|       NULL|          6|       NULL|    NULL|    NULL|         coherent|        coherent|\n",
      "|ENSG00000080293|  EFO_0001073|       NULL|    NULL|       NULL|    NULL|       NULL|         2.0|          1|       NULL|       NULL|    NULL|    NULL|         coherent|        coherent|\n",
      "|ENSG00000081248|MONDO_0004992|       NULL|    NULL|       NULL|    NULL|       NULL|         1.0|       NULL|          1|       NULL|    NULL|    NULL|         coherent|        coherent|\n",
      "|ENSG00000082175|  EFO_1000796|       NULL|    NULL|       NULL|    NULL|       NULL|         2.0|          1|       NULL|       NULL|    NULL|    NULL|         coherent|        coherent|\n",
      "|ENSG00000082482|  EFO_1000637|       NULL|    NULL|       NULL|    NULL|       NULL|         3.0|       NULL|       NULL|          4|    NULL|    NULL|       EvidNotDoE|      EvidNotDoE|\n",
      "|ENSG00000082556|  EFO_1000906|       NULL|    NULL|       NULL|    NULL|       NULL|         2.0|       NULL|          1|       NULL|    NULL|    NULL|         coherent|        coherent|\n",
      "|ENSG00000082556|MONDO_0004992|       NULL|    NULL|       NULL|    NULL|       NULL|         2.0|          1|       NULL|       NULL|    NULL|    NULL|         coherent|        coherent|\n",
      "|ENSG00000087085|MONDO_0005301|       NULL|    NULL|       NULL|    NULL|       NULL|         3.0|       NULL|          1|       NULL|    NULL|    NULL|         coherent|        coherent|\n",
      "|ENSG00000087586|MONDO_0002516|       NULL|    NULL|       NULL|    NULL|       NULL|         1.0|       NULL|          1|       NULL|    NULL|    NULL|         coherent|        coherent|\n",
      "+---------------+-------------+-----------+--------+-----------+--------+-----------+------------+-----------+-----------+-----------+--------+--------+-----------------+----------------+\n",
      "only showing top 20 rows\n",
      "\n"
     ]
    }
   ],
   "source": [
    "gwasCredibleAssoc_qtlPValue.groupBy('targetId','diseaseId').pivot('homogenized').count().join(analysis_chembl, on=['targetId','diseaseId'],how='right').show()"
   ]
  },
  {
   "cell_type": "code",
   "execution_count": null,
   "metadata": {},
   "outputs": [],
   "source": []
  },
  {
   "cell_type": "code",
   "execution_count": 17,
   "metadata": {},
   "outputs": [
    {
     "name": "stderr",
     "output_type": "stream",
     "text": [
      "25/06/18 21:29:06 WARN BlockManagerMasterEndpoint: No more replicas available for rdd_76128_204 !\n",
      "25/06/18 21:29:06 WARN BlockManagerMasterEndpoint: No more replicas available for rdd_76140_204 !\n",
      "25/06/18 21:29:06 WARN BlockManagerMasterEndpoint: No more replicas available for rdd_75731_295 !\n",
      "25/06/18 21:29:06 WARN BlockManagerMasterEndpoint: No more replicas available for rdd_94956_344 !\n",
      "25/06/18 21:29:06 WARN BlockManagerMasterEndpoint: No more replicas available for rdd_76134_104 !\n",
      "25/06/18 21:29:06 WARN BlockManagerMasterEndpoint: No more replicas available for rdd_94956_44 !\n",
      "25/06/18 21:29:06 WARN BlockManagerMasterEndpoint: No more replicas available for rdd_76128_29 !\n",
      "25/06/18 21:29:06 WARN BlockManagerMasterEndpoint: No more replicas available for rdd_87632_83 !\n",
      "25/06/18 21:29:06 WARN BlockManagerMasterEndpoint: No more replicas available for rdd_94956_79 !\n",
      "25/06/18 21:29:06 WARN BlockManagerMasterEndpoint: No more replicas available for rdd_75731_45 !\n",
      "25/06/18 21:29:06 WARN BlockManagerMasterEndpoint: No more replicas available for rdd_87632_386 !\n",
      "25/06/18 21:29:06 WARN BlockManagerMasterEndpoint: No more replicas available for rdd_87632_13 !\n",
      "25/06/18 21:29:06 WARN BlockManagerMasterEndpoint: No more replicas available for rdd_75731_129 !\n",
      "25/06/18 21:29:06 WARN BlockManagerMasterEndpoint: No more replicas available for rdd_75731_336 !\n",
      "25/06/18 21:29:06 WARN BlockManagerMasterEndpoint: No more replicas available for rdd_75698_58 !\n",
      "25/06/18 21:29:06 WARN BlockManagerMasterEndpoint: No more replicas available for rdd_75731_152 !\n",
      "25/06/18 21:29:06 WARN BlockManagerMasterEndpoint: No more replicas available for rdd_83578_273 !\n",
      "25/06/18 21:29:06 WARN BlockManagerMasterEndpoint: No more replicas available for rdd_83578_76 !\n",
      "25/06/18 21:29:06 WARN BlockManagerMasterEndpoint: No more replicas available for rdd_76128_136 !\n",
      "25/06/18 21:29:06 WARN BlockManagerMasterEndpoint: No more replicas available for rdd_94950_86 !\n",
      "25/06/18 21:29:06 WARN BlockManagerMasterEndpoint: No more replicas available for rdd_83578_53 !\n",
      "25/06/18 21:29:06 WARN BlockManagerMasterEndpoint: No more replicas available for rdd_94956_86 !\n",
      "25/06/18 21:29:06 WARN BlockManagerMasterEndpoint: No more replicas available for rdd_94956_87 !\n",
      "25/06/18 21:29:06 WARN BlockManagerMasterEndpoint: No more replicas available for rdd_75731_351 !\n",
      "25/06/18 21:29:06 WARN BlockManagerMasterEndpoint: No more replicas available for rdd_83578_233 !\n",
      "25/06/18 21:29:06 WARN BlockManagerMasterEndpoint: No more replicas available for rdd_76128_116 !\n",
      "25/06/18 21:29:06 WARN BlockManagerMasterEndpoint: No more replicas available for rdd_87626_307 !\n",
      "25/06/18 21:29:06 WARN BlockManagerMasterEndpoint: No more replicas available for rdd_83578_386 !\n",
      "25/06/18 21:29:06 WARN BlockManagerMasterEndpoint: No more replicas available for rdd_75698_142 !\n",
      "25/06/18 21:29:06 WARN BlockManagerMasterEndpoint: No more replicas available for rdd_76128_104 !\n",
      "25/06/18 21:29:06 WARN BlockManagerMasterEndpoint: No more replicas available for rdd_87632_273 !\n",
      "25/06/18 21:29:06 WARN BlockManagerMasterEndpoint: No more replicas available for rdd_87626_136 !\n",
      "25/06/18 21:29:06 WARN BlockManagerMasterEndpoint: No more replicas available for rdd_75698_2 !\n",
      "25/06/18 21:29:06 WARN BlockManagerMasterEndpoint: No more replicas available for rdd_76140_116 !\n",
      "25/06/18 21:29:06 WARN BlockManagerMasterEndpoint: No more replicas available for rdd_87632_354 !\n",
      "25/06/18 21:29:06 WARN BlockManagerMasterEndpoint: No more replicas available for rdd_83578_270 !\n",
      "25/06/18 21:29:06 WARN BlockManagerMasterEndpoint: No more replicas available for rdd_87632_152 !\n",
      "25/06/18 21:29:06 WARN BlockManagerMasterEndpoint: No more replicas available for rdd_94950_147 !\n",
      "25/06/18 21:29:06 WARN BlockManagerMasterEndpoint: No more replicas available for rdd_87632_167 !\n",
      "25/06/18 21:29:06 WARN BlockManagerMasterEndpoint: No more replicas available for rdd_76128_254 !\n",
      "25/06/18 21:29:06 WARN BlockManagerMasterEndpoint: No more replicas available for rdd_87626_270 !\n",
      "25/06/18 21:29:06 WARN BlockManagerMasterEndpoint: No more replicas available for rdd_76128_166 !\n",
      "25/06/18 21:29:06 WARN BlockManagerMasterEndpoint: No more replicas available for rdd_75698_148 !\n",
      "25/06/18 21:29:06 WARN BlockManagerMasterEndpoint: No more replicas available for rdd_94950_4 !\n",
      "25/06/18 21:29:06 WARN BlockManagerMasterEndpoint: No more replicas available for rdd_94956_239 !\n",
      "25/06/18 21:29:06 WARN BlockManagerMasterEndpoint: No more replicas available for rdd_87626_37 !\n",
      "25/06/18 21:29:06 WARN BlockManagerMasterEndpoint: No more replicas available for rdd_75731_136 !\n",
      "25/06/18 21:29:06 WARN BlockManagerMasterEndpoint: No more replicas available for rdd_87632_109 !\n",
      "25/06/18 21:29:06 WARN BlockManagerMasterEndpoint: No more replicas available for rdd_83578_354 !\n",
      "25/06/18 21:29:06 WARN BlockManagerMasterEndpoint: No more replicas available for rdd_94950_232 !\n",
      "25/06/18 21:29:06 WARN BlockManagerMasterEndpoint: No more replicas available for rdd_94956_346 !\n",
      "25/06/18 21:29:06 WARN BlockManagerMasterEndpoint: No more replicas available for rdd_75698_71 !\n",
      "25/06/18 21:29:06 WARN BlockManagerMasterEndpoint: No more replicas available for rdd_87632_241 !\n",
      "25/06/18 21:29:06 WARN BlockManagerMasterEndpoint: No more replicas available for rdd_76128_123 !\n",
      "25/06/18 21:29:06 WARN BlockManagerMasterEndpoint: No more replicas available for rdd_76134_61 !\n",
      "25/06/18 21:29:06 WARN BlockManagerMasterEndpoint: No more replicas available for rdd_87626_359 !\n",
      "25/06/18 21:29:06 WARN BlockManagerMasterEndpoint: No more replicas available for rdd_76128_240 !\n",
      "25/06/18 21:29:06 WARN BlockManagerMasterEndpoint: No more replicas available for rdd_87632_37 !\n",
      "25/06/18 21:29:06 WARN BlockManagerMasterEndpoint: No more replicas available for rdd_87632_336 !\n",
      "25/06/18 21:29:06 WARN BlockManagerMasterEndpoint: No more replicas available for rdd_76134_5 !\n",
      "25/06/18 21:29:06 WARN BlockManagerMasterEndpoint: No more replicas available for rdd_83578_359 !\n",
      "25/06/18 21:29:06 WARN BlockManagerMasterEndpoint: No more replicas available for rdd_76128_233 !\n",
      "25/06/18 21:29:06 WARN BlockManagerMasterEndpoint: No more replicas available for rdd_75698_105 !\n",
      "25/06/18 21:29:06 WARN BlockManagerMasterEndpoint: No more replicas available for rdd_76128_351 !\n",
      "25/06/18 21:29:06 WARN BlockManagerMasterEndpoint: No more replicas available for rdd_94950_156 !\n",
      "25/06/18 21:29:06 WARN BlockManagerMasterEndpoint: No more replicas available for rdd_87626_336 !\n",
      "25/06/18 21:29:06 WARN BlockManagerMasterEndpoint: No more replicas available for rdd_76134_123 !\n",
      "25/06/18 21:29:06 WARN BlockManagerMasterEndpoint: No more replicas available for rdd_94950_359 !\n",
      "25/06/18 21:29:06 WARN BlockManagerMasterEndpoint: No more replicas available for rdd_75731_76 !\n",
      "25/06/18 21:29:06 WARN BlockManagerMasterEndpoint: No more replicas available for rdd_83578_254 !\n",
      "25/06/18 21:29:06 WARN BlockManagerMasterEndpoint: No more replicas available for rdd_94956_249 !\n",
      "25/06/18 21:29:06 WARN BlockManagerMasterEndpoint: No more replicas available for rdd_94956_159 !\n",
      "25/06/18 21:29:06 WARN BlockManagerMasterEndpoint: No more replicas available for rdd_76128_392 !\n",
      "25/06/18 21:29:06 WARN BlockManagerMasterEndpoint: No more replicas available for rdd_76134_388 !\n",
      "25/06/18 21:29:06 WARN BlockManagerMasterEndpoint: No more replicas available for rdd_87626_204 !\n",
      "25/06/18 21:29:06 WARN BlockManagerMasterEndpoint: No more replicas available for rdd_76128_109 !\n",
      "25/06/18 21:29:06 WARN BlockManagerMasterEndpoint: No more replicas available for rdd_87632_399 !\n",
      "25/06/18 21:29:06 WARN BlockManagerMasterEndpoint: No more replicas available for rdd_87632_45 !\n",
      "25/06/18 21:29:06 WARN BlockManagerMasterEndpoint: No more replicas available for rdd_76140_301 !\n",
      "25/06/18 21:29:06 WARN BlockManagerMasterEndpoint: No more replicas available for rdd_76134_241 !\n",
      "25/06/18 21:29:06 WARN BlockManagerMasterEndpoint: No more replicas available for rdd_76140_278 !\n",
      "25/06/18 21:29:06 WARN BlockManagerMasterEndpoint: No more replicas available for rdd_94956_359 !\n",
      "25/06/18 21:29:06 WARN BlockManagerMasterEndpoint: No more replicas available for rdd_76140_337 !\n",
      "25/06/18 21:29:06 WARN BlockManagerMasterEndpoint: No more replicas available for rdd_83578_295 !\n",
      "25/06/18 21:29:06 WARN BlockManagerMasterEndpoint: No more replicas available for rdd_87626_322 !\n",
      "25/06/18 21:29:06 WARN BlockManagerMasterEndpoint: No more replicas available for rdd_87632_240 !\n",
      "25/06/18 21:29:06 WARN BlockManagerMasterEndpoint: No more replicas available for rdd_76128_5 !\n",
      "25/06/18 21:29:06 WARN BlockManagerMasterEndpoint: No more replicas available for rdd_76134_336 !\n",
      "25/06/18 21:29:06 WARN BlockManagerMasterEndpoint: No more replicas available for rdd_94956_82 !\n",
      "25/06/18 21:29:06 WARN BlockManagerMasterEndpoint: No more replicas available for rdd_87626_21 !\n",
      "25/06/18 21:29:06 WARN BlockManagerMasterEndpoint: No more replicas available for rdd_87632_295 !\n",
      "25/06/18 21:29:06 WARN BlockManagerMasterEndpoint: No more replicas available for rdd_94956_273 !\n",
      "25/06/18 21:29:06 WARN BlockManagerMasterEndpoint: No more replicas available for rdd_75698_180 !\n",
      "25/06/18 21:29:06 WARN BlockManagerMasterEndpoint: No more replicas available for rdd_87632_304 !\n",
      "25/06/18 21:29:06 WARN BlockManagerMasterEndpoint: No more replicas available for rdd_87632_159 !\n",
      "25/06/18 21:29:06 WARN BlockManagerMasterEndpoint: No more replicas available for rdd_94956_4 !\n",
      "25/06/18 21:29:06 WARN BlockManagerMasterEndpoint: No more replicas available for rdd_75731_104 !\n",
      "25/06/18 21:29:06 WARN BlockManagerMasterEndpoint: No more replicas available for rdd_94950_36 !\n",
      "25/06/18 21:29:06 WARN BlockManagerMasterEndpoint: No more replicas available for rdd_76128_129 !\n",
      "25/06/18 21:29:06 WARN BlockManagerMasterEndpoint: No more replicas available for rdd_94956_227 !\n",
      "25/06/18 21:29:06 WARN BlockManagerMasterEndpoint: No more replicas available for rdd_83578_166 !\n",
      "25/06/18 21:29:06 WARN BlockManagerMasterEndpoint: No more replicas available for rdd_75698_131 !\n",
      "25/06/18 21:29:06 WARN BlockManagerMasterEndpoint: No more replicas available for rdd_76134_109 !\n",
      "25/06/18 21:29:06 WARN BlockManagerMasterEndpoint: No more replicas available for rdd_76140_76 !\n",
      "25/06/18 21:29:06 WARN BlockManagerMasterEndpoint: No more replicas available for rdd_83578_61 !\n",
      "25/06/18 21:29:06 WARN BlockManagerMasterEndpoint: No more replicas available for rdd_75698_76 !\n",
      "25/06/18 21:29:06 WARN BlockManagerMasterEndpoint: No more replicas available for rdd_87626_278 !\n",
      "25/06/18 21:29:06 WARN BlockManagerMasterEndpoint: No more replicas available for rdd_87626_61 !\n",
      "25/06/18 21:29:06 WARN BlockManagerMasterEndpoint: No more replicas available for rdd_87626_171 !\n",
      "25/06/18 21:29:06 WARN BlockManagerMasterEndpoint: No more replicas available for rdd_87626_13 !\n",
      "25/06/18 21:29:06 WARN BlockManagerMasterEndpoint: No more replicas available for rdd_76140_171 !\n",
      "25/06/18 21:29:06 WARN BlockManagerMasterEndpoint: No more replicas available for rdd_76140_21 !\n",
      "25/06/18 21:29:06 WARN BlockManagerMasterEndpoint: No more replicas available for rdd_87626_29 !\n",
      "25/06/18 21:29:06 WARN BlockManagerMasterEndpoint: No more replicas available for rdd_87632_337 !\n",
      "25/06/18 21:29:06 WARN BlockManagerMasterEndpoint: No more replicas available for rdd_87626_5 !\n",
      "25/06/18 21:29:06 WARN BlockManagerMasterEndpoint: No more replicas available for rdd_76140_37 !\n",
      "25/06/18 21:29:06 WARN BlockManagerMasterEndpoint: No more replicas available for rdd_75731_273 !\n",
      "25/06/18 21:29:06 WARN BlockManagerMasterEndpoint: No more replicas available for rdd_76134_270 !\n",
      "25/06/18 21:29:06 WARN BlockManagerMasterEndpoint: No more replicas available for rdd_75731_301 !\n",
      "25/06/18 21:29:06 WARN BlockManagerMasterEndpoint: No more replicas available for rdd_76134_37 !\n",
      "25/06/18 21:29:06 WARN BlockManagerMasterEndpoint: No more replicas available for rdd_87632_254 !\n",
      "25/06/18 21:29:06 WARN BlockManagerMasterEndpoint: No more replicas available for rdd_76134_159 !\n",
      "25/06/18 21:29:06 WARN BlockManagerMasterEndpoint: No more replicas available for rdd_87632_278 !\n",
      "25/06/18 21:29:06 WARN BlockManagerMasterEndpoint: No more replicas available for rdd_83578_152 !\n",
      "25/06/18 21:29:06 WARN BlockManagerMasterEndpoint: No more replicas available for rdd_76140_273 !\n",
      "25/06/18 21:29:06 WARN BlockManagerMasterEndpoint: No more replicas available for rdd_76140_123 !\n",
      "25/06/18 21:29:06 WARN BlockManagerMasterEndpoint: No more replicas available for rdd_76134_166 !\n",
      "25/06/18 21:29:06 WARN BlockManagerMasterEndpoint: No more replicas available for rdd_83578_64 !\n",
      "25/06/18 21:29:06 WARN BlockManagerMasterEndpoint: No more replicas available for rdd_94950_284 !\n",
      "25/06/18 21:29:06 WARN BlockManagerMasterEndpoint: No more replicas available for rdd_94956_334 !\n",
      "25/06/18 21:29:06 WARN BlockManagerMasterEndpoint: No more replicas available for rdd_87626_109 !\n",
      "25/06/18 21:29:06 WARN BlockManagerMasterEndpoint: No more replicas available for rdd_83578_392 !\n",
      "25/06/18 21:29:06 WARN BlockManagerMasterEndpoint: No more replicas available for rdd_87632_64 !\n",
      "25/06/18 21:29:06 WARN BlockManagerMasterEndpoint: No more replicas available for rdd_94950_273 !\n",
      "25/06/18 21:29:06 WARN BlockManagerMasterEndpoint: No more replicas available for rdd_75698_200 !\n",
      "25/06/18 21:29:06 WARN BlockManagerMasterEndpoint: No more replicas available for rdd_87626_233 !\n",
      "25/06/18 21:29:06 WARN BlockManagerMasterEndpoint: No more replicas available for rdd_94956_393 !\n",
      "25/06/18 21:29:06 WARN BlockManagerMasterEndpoint: No more replicas available for rdd_87626_76 !\n",
      "25/06/18 21:29:06 WARN BlockManagerMasterEndpoint: No more replicas available for rdd_87632_136 !\n",
      "25/06/18 21:29:06 WARN BlockManagerMasterEndpoint: No more replicas available for rdd_76134_295 !\n",
      "25/06/18 21:29:06 WARN BlockManagerMasterEndpoint: No more replicas available for rdd_76134_83 !\n",
      "25/06/18 21:29:06 WARN BlockManagerMasterEndpoint: No more replicas available for rdd_87626_241 !\n",
      "25/06/18 21:29:06 WARN BlockManagerMasterEndpoint: No more replicas available for rdd_76134_337 !\n",
      "25/06/18 21:29:06 WARN BlockManagerMasterEndpoint: No more replicas available for rdd_76134_13 !\n",
      "25/06/18 21:29:06 WARN BlockManagerMasterEndpoint: No more replicas available for rdd_83578_278 !\n",
      "25/06/18 21:29:06 WARN BlockManagerMasterEndpoint: No more replicas available for rdd_87626_45 !\n",
      "25/06/18 21:29:06 WARN BlockManagerMasterEndpoint: No more replicas available for rdd_76134_351 !\n",
      "25/06/18 21:29:06 WARN BlockManagerMasterEndpoint: No more replicas available for rdd_94950_229 !\n",
      "25/06/18 21:29:06 WARN BlockManagerMasterEndpoint: No more replicas available for rdd_87626_295 !\n",
      "25/06/18 21:29:06 WARN BlockManagerMasterEndpoint: No more replicas available for rdd_75731_171 !\n",
      "25/06/18 21:29:06 WARN BlockManagerMasterEndpoint: No more replicas available for rdd_75731_116 !\n",
      "25/06/18 21:29:06 WARN BlockManagerMasterEndpoint: No more replicas available for rdd_75731_240 !\n",
      "25/06/18 21:29:06 WARN BlockManagerMasterEndpoint: No more replicas available for rdd_94956_232 !\n",
      "25/06/18 21:29:06 WARN BlockManagerMasterEndpoint: No more replicas available for rdd_76140_388 !\n",
      "25/06/18 21:29:06 WARN BlockManagerMasterEndpoint: No more replicas available for rdd_75698_103 !\n",
      "25/06/18 21:29:06 WARN BlockManagerMasterEndpoint: No more replicas available for rdd_94956_236 !\n",
      "25/06/18 21:29:06 WARN BlockManagerMasterEndpoint: No more replicas available for rdd_75731_322 !\n",
      "25/06/18 21:29:06 WARN BlockManagerMasterEndpoint: No more replicas available for rdd_87626_170 !\n",
      "25/06/18 21:29:06 WARN BlockManagerMasterEndpoint: No more replicas available for rdd_83578_373 !\n",
      "25/06/18 21:29:06 WARN BlockManagerMasterEndpoint: No more replicas available for rdd_75698_171 !\n",
      "25/06/18 21:29:06 WARN BlockManagerMasterEndpoint: No more replicas available for rdd_76134_45 !\n",
      "25/06/18 21:29:06 WARN BlockManagerMasterEndpoint: No more replicas available for rdd_76134_233 !\n",
      "25/06/18 21:29:06 WARN BlockManagerMasterEndpoint: No more replicas available for rdd_76134_273 !\n",
      "25/06/18 21:29:06 WARN BlockManagerMasterEndpoint: No more replicas available for rdd_75698_26 !\n",
      "25/06/18 21:29:06 WARN BlockManagerMasterEndpoint: No more replicas available for rdd_87626_64 !\n",
      "25/06/18 21:29:06 WARN BlockManagerMasterEndpoint: No more replicas available for rdd_94950_52 !\n",
      "25/06/18 21:29:06 WARN BlockManagerMasterEndpoint: No more replicas available for rdd_76140_386 !\n",
      "25/06/18 21:29:06 WARN BlockManagerMasterEndpoint: No more replicas available for rdd_76128_167 !\n",
      "25/06/18 21:29:06 WARN BlockManagerMasterEndpoint: No more replicas available for rdd_76134_331 !\n",
      "25/06/18 21:29:06 WARN BlockManagerMasterEndpoint: No more replicas available for rdd_94956_345 !\n",
      "25/06/18 21:29:06 WARN BlockManagerMasterEndpoint: No more replicas available for rdd_76140_5 !\n",
      "25/06/18 21:29:06 WARN BlockManagerMasterEndpoint: No more replicas available for rdd_75731_53 !\n",
      "25/06/18 21:29:06 WARN BlockManagerMasterEndpoint: No more replicas available for rdd_94956_299 !\n",
      "25/06/18 21:29:06 WARN BlockManagerMasterEndpoint: No more replicas available for rdd_76140_129 !\n",
      "25/06/18 21:29:06 WARN BlockManagerMasterEndpoint: No more replicas available for rdd_83578_37 !\n",
      "25/06/18 21:29:06 WARN BlockManagerMasterEndpoint: No more replicas available for rdd_83578_83 !\n",
      "25/06/18 21:29:06 WARN BlockManagerMasterEndpoint: No more replicas available for rdd_87632_104 !\n",
      "25/06/18 21:29:06 WARN BlockManagerMasterEndpoint: No more replicas available for rdd_76134_301 !\n",
      "25/06/18 21:29:06 WARN BlockManagerMasterEndpoint: No more replicas available for rdd_75698_18 !\n",
      "25/06/18 21:29:06 WARN BlockManagerMasterEndpoint: No more replicas available for rdd_76128_388 !\n",
      "25/06/18 21:29:06 WARN BlockManagerMasterEndpoint: No more replicas available for rdd_75731_373 !\n",
      "25/06/18 21:29:06 WARN BlockManagerMasterEndpoint: No more replicas available for rdd_76140_322 !\n",
      "25/06/18 21:29:06 WARN BlockManagerMasterEndpoint: No more replicas available for rdd_76134_76 !\n",
      "25/06/18 21:29:06 WARN BlockManagerMasterEndpoint: No more replicas available for rdd_75731_359 !\n",
      "25/06/18 21:29:06 WARN BlockManagerMasterEndpoint: No more replicas available for rdd_87632_351 !\n",
      "25/06/18 21:29:06 WARN BlockManagerMasterEndpoint: No more replicas available for rdd_94956_313 !\n",
      "25/06/18 21:29:06 WARN BlockManagerMasterEndpoint: No more replicas available for rdd_76140_270 !\n",
      "25/06/18 21:29:06 WARN BlockManagerMasterEndpoint: No more replicas available for rdd_94950_79 !\n",
      "25/06/18 21:29:06 WARN BlockManagerMasterEndpoint: No more replicas available for rdd_94950_313 !\n",
      "25/06/18 21:29:06 WARN BlockManagerMasterEndpoint: No more replicas available for rdd_75731_119 !\n",
      "25/06/18 21:29:06 WARN BlockManagerMasterEndpoint: No more replicas available for rdd_94956_285 !\n",
      "25/06/18 21:29:06 WARN BlockManagerMasterEndpoint: No more replicas available for rdd_75731_29 !\n",
      "25/06/18 21:29:06 WARN BlockManagerMasterEndpoint: No more replicas available for rdd_94956_281 !\n",
      "25/06/18 21:29:06 WARN BlockManagerMasterEndpoint: No more replicas available for rdd_76140_166 !\n",
      "25/06/18 21:29:06 WARN BlockManagerMasterEndpoint: No more replicas available for rdd_76128_21 !\n",
      "25/06/18 21:29:06 WARN BlockManagerMasterEndpoint: No more replicas available for rdd_87632_53 !\n",
      "25/06/18 21:29:06 WARN BlockManagerMasterEndpoint: No more replicas available for rdd_76128_53 !\n",
      "25/06/18 21:29:06 WARN BlockManagerMasterEndpoint: No more replicas available for rdd_94956_235 !\n",
      "25/06/18 21:29:06 WARN BlockManagerMasterEndpoint: No more replicas available for rdd_87632_61 !\n",
      "25/06/18 21:29:06 WARN BlockManagerMasterEndpoint: No more replicas available for rdd_87626_83 !\n",
      "25/06/18 21:29:06 WARN BlockManagerMasterEndpoint: No more replicas available for rdd_94950_20 !\n",
      "25/06/18 21:29:06 WARN BlockManagerMasterEndpoint: No more replicas available for rdd_75698_187 !\n",
      "25/06/18 21:29:06 WARN BlockManagerMasterEndpoint: No more replicas available for rdd_76128_373 !\n",
      "25/06/18 21:29:06 WARN BlockManagerMasterEndpoint: No more replicas available for rdd_94950_393 !\n",
      "25/06/18 21:29:06 WARN BlockManagerMasterEndpoint: No more replicas available for rdd_83578_29 !\n",
      "25/06/18 21:29:06 WARN BlockManagerMasterEndpoint: No more replicas available for rdd_76128_171 !\n",
      "25/06/18 21:29:06 WARN BlockManagerMasterEndpoint: No more replicas available for rdd_76128_76 !\n",
      "25/06/18 21:29:06 WARN BlockManagerMasterEndpoint: No more replicas available for rdd_76134_373 !\n",
      "25/06/18 21:29:06 WARN BlockManagerMasterEndpoint: No more replicas available for rdd_87626_254 !\n",
      "25/06/18 21:29:06 WARN BlockManagerMasterEndpoint: No more replicas available for rdd_76134_392 !\n",
      "25/06/18 21:29:06 WARN BlockManagerMasterEndpoint: No more replicas available for rdd_87632_373 !\n",
      "25/06/18 21:29:06 WARN BlockManagerMasterEndpoint: No more replicas available for rdd_76134_64 !\n",
      "25/06/18 21:29:06 WARN BlockManagerMasterEndpoint: No more replicas available for rdd_76140_359 !\n",
      "25/06/18 21:29:06 WARN BlockManagerMasterEndpoint: No more replicas available for rdd_87632_392 !\n",
      "25/06/18 21:29:06 WARN BlockManagerMasterEndpoint: No more replicas available for rdd_83578_331 !\n",
      "25/06/18 21:29:06 WARN BlockManagerMasterEndpoint: No more replicas available for rdd_94950_278 !\n",
      "25/06/18 21:29:06 WARN BlockManagerMasterEndpoint: No more replicas available for rdd_75731_83 !\n",
      "25/06/18 21:29:06 WARN BlockManagerMasterEndpoint: No more replicas available for rdd_83578_304 !\n",
      "25/06/18 21:29:06 WARN BlockManagerMasterEndpoint: No more replicas available for rdd_75698_113 !\n",
      "25/06/18 21:29:06 WARN BlockManagerMasterEndpoint: No more replicas available for rdd_76140_136 !\n",
      "25/06/18 21:29:06 WARN BlockManagerMasterEndpoint: No more replicas available for rdd_76128_399 !\n",
      "25/06/18 21:29:06 WARN BlockManagerMasterEndpoint: No more replicas available for rdd_94956_250 !\n",
      "25/06/18 21:29:06 WARN BlockManagerMasterEndpoint: No more replicas available for rdd_76134_304 !\n",
      "25/06/18 21:29:06 WARN BlockManagerMasterEndpoint: No more replicas available for rdd_87626_331 !\n",
      "25/06/18 21:29:06 WARN BlockManagerMasterEndpoint: No more replicas available for rdd_76140_109 !\n",
      "25/06/18 21:29:06 WARN BlockManagerMasterEndpoint: No more replicas available for rdd_94950_341 !\n",
      "25/06/18 21:29:06 WARN BlockManagerMasterEndpoint: No more replicas available for rdd_94956_333 !\n",
      "25/06/18 21:29:06 WARN BlockManagerMasterEndpoint: No more replicas available for rdd_76140_354 !\n",
      "25/06/18 21:29:06 WARN BlockManagerMasterEndpoint: No more replicas available for rdd_94950_158 !\n",
      "25/06/18 21:29:06 WARN BlockManagerMasterEndpoint: No more replicas available for rdd_87632_171 !\n",
      "25/06/18 21:29:06 WARN BlockManagerMasterEndpoint: No more replicas available for rdd_75731_270 !\n",
      "25/06/18 21:29:06 WARN BlockManagerMasterEndpoint: No more replicas available for rdd_94950_249 !\n",
      "25/06/18 21:29:06 WARN BlockManagerMasterEndpoint: No more replicas available for rdd_87632_322 !\n",
      "25/06/18 21:29:06 WARN BlockManagerMasterEndpoint: No more replicas available for rdd_87626_240 !\n",
      "25/06/18 21:29:06 WARN BlockManagerMasterEndpoint: No more replicas available for rdd_94956_341 !\n",
      "25/06/18 21:29:06 WARN BlockManagerMasterEndpoint: No more replicas available for rdd_75731_21 !\n",
      "25/06/18 21:29:06 WARN BlockManagerMasterEndpoint: No more replicas available for rdd_83578_5 !\n",
      "25/06/18 21:29:06 WARN BlockManagerMasterEndpoint: No more replicas available for rdd_76140_159 !\n",
      "25/06/18 21:29:06 WARN BlockManagerMasterEndpoint: No more replicas available for rdd_75698_90 !\n",
      "25/06/18 21:29:06 WARN BlockManagerMasterEndpoint: No more replicas available for rdd_76140_307 !\n",
      "25/06/18 21:29:06 WARN BlockManagerMasterEndpoint: No more replicas available for rdd_76128_307 !\n",
      "25/06/18 21:29:06 WARN BlockManagerMasterEndpoint: No more replicas available for rdd_76140_45 !\n",
      "25/06/18 21:29:06 WARN BlockManagerMasterEndpoint: No more replicas available for rdd_94956_145 !\n",
      "25/06/18 21:29:06 WARN BlockManagerMasterEndpoint: No more replicas available for rdd_76128_170 !\n",
      "25/06/18 21:29:06 WARN BlockManagerMasterEndpoint: No more replicas available for rdd_87626_373 !\n",
      "25/06/18 21:29:06 WARN BlockManagerMasterEndpoint: No more replicas available for rdd_94950_89 !\n",
      "25/06/18 21:29:06 WARN BlockManagerMasterEndpoint: No more replicas available for rdd_83578_119 !\n",
      "25/06/18 21:29:06 WARN BlockManagerMasterEndpoint: No more replicas available for rdd_94956_358 !\n",
      "25/06/18 21:29:06 WARN BlockManagerMasterEndpoint: No more replicas available for rdd_76128_83 !\n",
      "25/06/18 21:29:06 WARN BlockManagerMasterEndpoint: No more replicas available for rdd_94950_82 !\n",
      "25/06/18 21:29:06 WARN BlockManagerMasterEndpoint: No more replicas available for rdd_94950_181 !\n",
      "25/06/18 21:29:06 WARN BlockManagerMasterEndpoint: No more replicas available for rdd_94950_145 !\n",
      "25/06/18 21:29:06 WARN BlockManagerMasterEndpoint: No more replicas available for rdd_94950_344 !\n",
      "25/06/18 21:29:06 WARN BlockManagerMasterEndpoint: No more replicas available for rdd_76134_386 !\n",
      "25/06/18 21:29:06 WARN BlockManagerMasterEndpoint: No more replicas available for rdd_94950_28 !\n",
      "25/06/18 21:29:06 WARN BlockManagerMasterEndpoint: No more replicas available for rdd_76134_136 !\n",
      "25/06/18 21:29:06 WARN BlockManagerMasterEndpoint: No more replicas available for rdd_87626_116 !\n",
      "25/06/18 21:29:06 WARN BlockManagerMasterEndpoint: No more replicas available for rdd_94950_87 !\n",
      "25/06/18 21:29:06 WARN BlockManagerMasterEndpoint: No more replicas available for rdd_87632_119 !\n",
      "25/06/18 21:29:06 WARN BlockManagerMasterEndpoint: No more replicas available for rdd_87632_76 !\n",
      "25/06/18 21:29:06 WARN BlockManagerMasterEndpoint: No more replicas available for rdd_76128_354 !\n",
      "25/06/18 21:29:06 WARN BlockManagerMasterEndpoint: No more replicas available for rdd_83578_388 !\n",
      "25/06/18 21:29:06 WARN BlockManagerMasterEndpoint: No more replicas available for rdd_94950_346 !\n",
      "25/06/18 21:29:06 WARN BlockManagerMasterEndpoint: No more replicas available for rdd_94956_84 !\n",
      "25/06/18 21:29:06 WARN BlockManagerMasterEndpoint: No more replicas available for rdd_75698_10 !\n",
      "25/06/18 21:29:06 WARN BlockManagerMasterEndpoint: No more replicas available for rdd_87626_167 !\n",
      "25/06/18 21:29:06 WARN BlockManagerMasterEndpoint: No more replicas available for rdd_75731_304 !\n",
      "25/06/18 21:29:06 WARN BlockManagerMasterEndpoint: No more replicas available for rdd_87626_388 !\n",
      "25/06/18 21:29:06 WARN BlockManagerMasterEndpoint: No more replicas available for rdd_87632_388 !\n",
      "25/06/18 21:29:06 WARN BlockManagerMasterEndpoint: No more replicas available for rdd_76134_322 !\n",
      "25/06/18 21:29:06 WARN BlockManagerMasterEndpoint: No more replicas available for rdd_83578_241 !\n",
      "25/06/18 21:29:06 WARN BlockManagerMasterEndpoint: No more replicas available for rdd_94950_162 !\n",
      "25/06/18 21:29:06 WARN BlockManagerMasterEndpoint: No more replicas available for rdd_76140_119 !\n",
      "25/06/18 21:29:06 WARN BlockManagerMasterEndpoint: No more replicas available for rdd_87626_354 !\n",
      "25/06/18 21:29:06 WARN BlockManagerMasterEndpoint: No more replicas available for rdd_87626_304 !\n",
      "25/06/18 21:29:06 WARN BlockManagerMasterEndpoint: No more replicas available for rdd_75698_42 !\n",
      "25/06/18 21:29:06 WARN BlockManagerMasterEndpoint: No more replicas available for rdd_94950_90 !\n",
      "25/06/18 21:29:06 WARN BlockManagerMasterEndpoint: No more replicas available for rdd_76128_13 !\n",
      "25/06/18 21:29:06 WARN BlockManagerMasterEndpoint: No more replicas available for rdd_94956_162 !\n",
      "25/06/18 21:29:06 WARN BlockManagerMasterEndpoint: No more replicas available for rdd_76140_351 !\n",
      "25/06/18 21:29:06 WARN BlockManagerMasterEndpoint: No more replicas available for rdd_87632_270 !\n",
      "25/06/18 21:29:06 WARN BlockManagerMasterEndpoint: No more replicas available for rdd_94950_60 !\n",
      "25/06/18 21:29:06 WARN BlockManagerMasterEndpoint: No more replicas available for rdd_87632_233 !\n",
      "25/06/18 21:29:06 WARN BlockManagerMasterEndpoint: No more replicas available for rdd_94950_236 !\n",
      "25/06/18 21:29:06 WARN BlockManagerMasterEndpoint: No more replicas available for rdd_75731_241 !\n",
      "25/06/18 21:29:06 WARN BlockManagerMasterEndpoint: No more replicas available for rdd_83578_109 !\n",
      "25/06/18 21:29:06 WARN BlockManagerMasterEndpoint: No more replicas available for rdd_94956_89 !\n",
      "25/06/18 21:29:06 WARN BlockManagerMasterEndpoint: No more replicas available for rdd_87632_29 !\n",
      "25/06/18 21:29:06 WARN BlockManagerMasterEndpoint: No more replicas available for rdd_87632_331 !\n",
      "25/06/18 21:29:06 WARN BlockManagerMasterEndpoint: No more replicas available for rdd_76128_152 !\n",
      "25/06/18 21:29:06 WARN BlockManagerMasterEndpoint: No more replicas available for rdd_76134_171 !\n",
      "25/06/18 21:29:06 WARN BlockManagerMasterEndpoint: No more replicas available for rdd_76140_254 !\n",
      "25/06/18 21:29:06 WARN BlockManagerMasterEndpoint: No more replicas available for rdd_83578_45 !\n",
      "25/06/18 21:29:06 WARN BlockManagerMasterEndpoint: No more replicas available for rdd_87626_166 !\n",
      "25/06/18 21:29:06 WARN BlockManagerMasterEndpoint: No more replicas available for rdd_76140_240 !\n",
      "25/06/18 21:29:06 WARN BlockManagerMasterEndpoint: No more replicas available for rdd_76128_336 !\n",
      "25/06/18 21:29:06 WARN BlockManagerMasterEndpoint: No more replicas available for rdd_75731_399 !\n",
      "25/06/18 21:29:06 WARN BlockManagerMasterEndpoint: No more replicas available for rdd_75731_13 !\n",
      "25/06/18 21:29:06 WARN BlockManagerMasterEndpoint: No more replicas available for rdd_87632_116 !\n",
      "25/06/18 21:29:06 WARN BlockManagerMasterEndpoint: No more replicas available for rdd_76134_307 !\n",
      "25/06/18 21:29:06 WARN BlockManagerMasterEndpoint: No more replicas available for rdd_76128_159 !\n",
      "25/06/18 21:29:06 WARN BlockManagerMasterEndpoint: No more replicas available for rdd_75731_354 !\n",
      "25/06/18 21:29:06 WARN BlockManagerMasterEndpoint: No more replicas available for rdd_83578_123 !\n",
      "25/06/18 21:29:06 WARN BlockManagerMasterEndpoint: No more replicas available for rdd_76134_152 !\n",
      "25/06/18 21:29:06 WARN BlockManagerMasterEndpoint: No more replicas available for rdd_87632_123 !\n",
      "25/06/18 21:29:06 WARN BlockManagerMasterEndpoint: No more replicas available for rdd_87626_392 !\n",
      "25/06/18 21:29:06 WARN BlockManagerMasterEndpoint: No more replicas available for rdd_94950_299 !\n",
      "25/06/18 21:29:06 WARN BlockManagerMasterEndpoint: No more replicas available for rdd_75698_160 !\n",
      "25/06/18 21:29:06 WARN BlockManagerMasterEndpoint: No more replicas available for rdd_76134_354 !\n",
      "25/06/18 21:29:06 WARN BlockManagerMasterEndpoint: No more replicas available for rdd_94950_285 !\n",
      "25/06/18 21:29:06 WARN BlockManagerMasterEndpoint: No more replicas available for rdd_76140_83 !\n",
      "25/06/18 21:29:06 WARN BlockManagerMasterEndpoint: No more replicas available for rdd_83578_301 !\n",
      "25/06/18 21:29:06 WARN BlockManagerMasterEndpoint: No more replicas available for rdd_94956_20 !\n",
      "25/06/18 21:29:06 WARN BlockManagerMasterEndpoint: No more replicas available for rdd_87632_166 !\n",
      "25/06/18 21:29:06 WARN BlockManagerMasterEndpoint: No more replicas available for rdd_94950_283 !\n",
      "25/06/18 21:29:06 WARN BlockManagerMasterEndpoint: No more replicas available for rdd_94956_181 !\n",
      "25/06/18 21:29:06 WARN BlockManagerMasterEndpoint: No more replicas available for rdd_76134_359 !\n",
      "25/06/18 21:29:06 WARN BlockManagerMasterEndpoint: No more replicas available for rdd_76134_170 !\n",
      "25/06/18 21:29:06 WARN BlockManagerMasterEndpoint: No more replicas available for rdd_76134_254 !\n",
      "25/06/18 21:29:06 WARN BlockManagerMasterEndpoint: No more replicas available for rdd_94956_229 !\n",
      "25/06/18 21:29:06 WARN BlockManagerMasterEndpoint: No more replicas available for rdd_75731_254 !\n",
      "25/06/18 21:29:06 WARN BlockManagerMasterEndpoint: No more replicas available for rdd_75731_167 !\n",
      "25/06/18 21:29:06 WARN BlockManagerMasterEndpoint: No more replicas available for rdd_87632_5 !\n",
      "25/06/18 21:29:06 WARN BlockManagerMasterEndpoint: No more replicas available for rdd_83578_307 !\n",
      "25/06/18 21:29:06 WARN BlockManagerMasterEndpoint: No more replicas available for rdd_76128_45 !\n",
      "25/06/18 21:29:06 WARN BlockManagerMasterEndpoint: No more replicas available for rdd_87626_301 !\n",
      "25/06/18 21:29:06 WARN BlockManagerMasterEndpoint: No more replicas available for rdd_83578_322 !\n",
      "25/06/18 21:29:06 WARN BlockManagerMasterEndpoint: No more replicas available for rdd_94950_159 !\n",
      "25/06/18 21:29:06 WARN BlockManagerMasterEndpoint: No more replicas available for rdd_94956_52 !\n",
      "25/06/18 21:29:06 WARN BlockManagerMasterEndpoint: No more replicas available for rdd_76128_295 !\n",
      "25/06/18 21:29:06 WARN BlockManagerMasterEndpoint: No more replicas available for rdd_87626_273 !\n",
      "25/06/18 21:29:06 WARN BlockManagerMasterEndpoint: No more replicas available for rdd_94950_84 !\n",
      "25/06/18 21:29:06 WARN BlockManagerMasterEndpoint: No more replicas available for rdd_76134_240 !\n",
      "25/06/18 21:29:06 WARN BlockManagerMasterEndpoint: No more replicas available for rdd_83578_129 !\n",
      "25/06/18 21:29:06 WARN BlockManagerMasterEndpoint: No more replicas available for rdd_94956_90 !\n",
      "25/06/18 21:29:06 WARN BlockManagerMasterEndpoint: No more replicas available for rdd_87632_307 !\n",
      "25/06/18 21:29:06 WARN BlockManagerMasterEndpoint: No more replicas available for rdd_83578_351 !\n",
      "25/06/18 21:29:06 WARN BlockManagerMasterEndpoint: No more replicas available for rdd_83578_170 !\n",
      "25/06/18 21:29:06 WARN BlockManagerMasterEndpoint: No more replicas available for rdd_75731_307 !\n",
      "25/06/18 21:29:06 WARN BlockManagerMasterEndpoint: No more replicas available for rdd_76140_304 !\n",
      "25/06/18 21:29:06 WARN BlockManagerMasterEndpoint: No more replicas available for rdd_75731_386 !\n",
      "25/06/18 21:29:06 WARN BlockManagerMasterEndpoint: No more replicas available for rdd_76134_119 !\n",
      "25/06/18 21:29:06 WARN BlockManagerMasterEndpoint: No more replicas available for rdd_94950_12 !\n",
      "25/06/18 21:29:06 WARN BlockManagerMasterEndpoint: No more replicas available for rdd_94950_399 !\n",
      "25/06/18 21:29:06 WARN BlockManagerMasterEndpoint: No more replicas available for rdd_83578_167 !\n",
      "25/06/18 21:29:06 WARN BlockManagerMasterEndpoint: No more replicas available for rdd_75731_159 !\n",
      "25/06/18 21:29:06 WARN BlockManagerMasterEndpoint: No more replicas available for rdd_76140_29 !\n",
      "25/06/18 21:29:06 WARN BlockManagerMasterEndpoint: No more replicas available for rdd_76140_64 !\n",
      "25/06/18 21:29:06 WARN BlockManagerMasterEndpoint: No more replicas available for rdd_94956_158 !\n",
      "25/06/18 21:29:06 WARN BlockManagerMasterEndpoint: No more replicas available for rdd_76128_304 !\n",
      "25/06/18 21:29:06 WARN BlockManagerMasterEndpoint: No more replicas available for rdd_94956_28 !\n",
      "25/06/18 21:29:06 WARN BlockManagerMasterEndpoint: No more replicas available for rdd_83578_171 !\n",
      "25/06/18 21:29:06 WARN BlockManagerMasterEndpoint: No more replicas available for rdd_75698_101 !\n",
      "25/06/18 21:29:06 WARN BlockManagerMasterEndpoint: No more replicas available for rdd_94950_150 !\n",
      "25/06/18 21:29:06 WARN BlockManagerMasterEndpoint: No more replicas available for rdd_75731_337 !\n",
      "25/06/18 21:29:06 WARN BlockManagerMasterEndpoint: No more replicas available for rdd_87626_337 !\n",
      "25/06/18 21:29:06 WARN BlockManagerMasterEndpoint: No more replicas available for rdd_87632_21 !\n",
      "25/06/18 21:29:06 WARN BlockManagerMasterEndpoint: No more replicas available for rdd_76140_170 !\n",
      "25/06/18 21:29:06 WARN BlockManagerMasterEndpoint: No more replicas available for rdd_76128_61 !\n",
      "25/06/18 21:29:06 WARN BlockManagerMasterEndpoint: No more replicas available for rdd_87632_301 !\n",
      "25/06/18 21:29:06 WARN BlockManagerMasterEndpoint: No more replicas available for rdd_94950_281 !\n",
      "25/06/18 21:29:06 WARN BlockManagerMasterEndpoint: No more replicas available for rdd_83578_21 !\n",
      "25/06/18 21:29:06 WARN BlockManagerMasterEndpoint: No more replicas available for rdd_83578_136 !\n",
      "25/06/18 21:29:06 WARN BlockManagerMasterEndpoint: No more replicas available for rdd_76128_359 !\n",
      "25/06/18 21:29:06 WARN BlockManagerMasterEndpoint: No more replicas available for rdd_76134_116 !\n",
      "25/06/18 21:29:06 WARN BlockManagerMasterEndpoint: No more replicas available for rdd_76140_295 !\n",
      "25/06/18 21:29:06 WARN BlockManagerMasterEndpoint: No more replicas available for rdd_87626_119 !\n",
      "25/06/18 21:29:06 WARN BlockManagerMasterEndpoint: No more replicas available for rdd_76140_331 !\n",
      "25/06/18 21:29:06 WARN BlockManagerMasterEndpoint: No more replicas available for rdd_76140_104 !\n",
      "25/06/18 21:29:06 WARN BlockManagerMasterEndpoint: No more replicas available for rdd_76128_278 !\n",
      "25/06/18 21:29:06 WARN BlockManagerMasterEndpoint: No more replicas available for rdd_75731_64 !\n",
      "25/06/18 21:29:06 WARN BlockManagerMasterEndpoint: No more replicas available for rdd_75698_191 !\n",
      "25/06/18 21:29:06 WARN BlockManagerMasterEndpoint: No more replicas available for rdd_94950_334 !\n",
      "25/06/18 21:29:06 WARN BlockManagerMasterEndpoint: No more replicas available for rdd_75731_109 !\n",
      "25/06/18 21:29:06 WARN BlockManagerMasterEndpoint: No more replicas available for rdd_87626_104 !\n",
      "25/06/18 21:29:06 WARN BlockManagerMasterEndpoint: No more replicas available for rdd_76140_13 !\n",
      "25/06/18 21:29:06 WARN BlockManagerMasterEndpoint: No more replicas available for rdd_76140_61 !\n",
      "25/06/18 21:29:06 WARN BlockManagerMasterEndpoint: No more replicas available for rdd_94956_284 !\n",
      "25/06/18 21:29:06 WARN BlockManagerMasterEndpoint: No more replicas available for rdd_87626_152 !\n",
      "25/06/18 21:29:06 WARN BlockManagerMasterEndpoint: No more replicas available for rdd_76128_386 !\n",
      "25/06/18 21:29:06 WARN BlockManagerMasterEndpoint: No more replicas available for rdd_76134_21 !\n",
      "25/06/18 21:29:06 WARN BlockManagerMasterEndpoint: No more replicas available for rdd_76140_336 !\n",
      "25/06/18 21:29:06 WARN BlockManagerMasterEndpoint: No more replicas available for rdd_87626_159 !\n",
      "25/06/18 21:29:06 WARN BlockManagerMasterEndpoint: No more replicas available for rdd_75698_50 !\n",
      "25/06/18 21:29:06 WARN BlockManagerMasterEndpoint: No more replicas available for rdd_76134_399 !\n",
      "25/06/18 21:29:06 WARN BlockManagerMasterEndpoint: No more replicas available for rdd_75731_170 !\n",
      "25/06/18 21:29:06 WARN BlockManagerMasterEndpoint: No more replicas available for rdd_94956_399 !\n",
      "25/06/18 21:29:06 WARN BlockManagerMasterEndpoint: No more replicas available for rdd_75731_61 !\n",
      "25/06/18 21:29:06 WARN BlockManagerMasterEndpoint: No more replicas available for rdd_94950_93 !\n",
      "25/06/18 21:29:06 WARN BlockManagerMasterEndpoint: No more replicas available for rdd_87632_204 !\n",
      "25/06/18 21:29:06 WARN BlockManagerMasterEndpoint: No more replicas available for rdd_76128_322 !\n",
      "25/06/18 21:29:06 WARN BlockManagerMasterEndpoint: No more replicas available for rdd_76128_301 !\n",
      "25/06/18 21:29:06 WARN BlockManagerMasterEndpoint: No more replicas available for rdd_87626_129 !\n",
      "25/06/18 21:29:06 WARN BlockManagerMasterEndpoint: No more replicas available for rdd_76140_53 !\n",
      "25/06/18 21:29:06 WARN BlockManagerMasterEndpoint: No more replicas available for rdd_83578_104 !\n",
      "25/06/18 21:29:06 WARN BlockManagerMasterEndpoint: No more replicas available for rdd_94956_147 !\n",
      "25/06/18 21:29:06 WARN BlockManagerMasterEndpoint: No more replicas available for rdd_75731_5 !\n",
      "25/06/18 21:29:06 WARN BlockManagerMasterEndpoint: No more replicas available for rdd_76140_399 !\n",
      "25/06/18 21:29:06 WARN BlockManagerMasterEndpoint: No more replicas available for rdd_94950_358 !\n",
      "25/06/18 21:29:06 WARN BlockManagerMasterEndpoint: No more replicas available for rdd_75731_233 !\n",
      "25/06/18 21:29:06 WARN BlockManagerMasterEndpoint: No more replicas available for rdd_75731_123 !\n",
      "25/06/18 21:29:06 WARN BlockManagerMasterEndpoint: No more replicas available for rdd_76128_273 !\n",
      "25/06/18 21:29:06 WARN BlockManagerMasterEndpoint: No more replicas available for rdd_76134_29 !\n",
      "25/06/18 21:29:06 WARN BlockManagerMasterEndpoint: No more replicas available for rdd_76134_278 !\n",
      "25/06/18 21:29:06 WARN BlockManagerMasterEndpoint: No more replicas available for rdd_76128_270 !\n",
      "25/06/18 21:29:06 WARN BlockManagerMasterEndpoint: No more replicas available for rdd_83578_337 !\n",
      "25/06/18 21:29:06 WARN BlockManagerMasterEndpoint: No more replicas available for rdd_75698_86 !\n",
      "25/06/18 21:29:06 WARN BlockManagerMasterEndpoint: No more replicas available for rdd_76134_53 !\n",
      "25/06/18 21:29:06 WARN BlockManagerMasterEndpoint: No more replicas available for rdd_87626_386 !\n",
      "25/06/18 21:29:06 WARN BlockManagerMasterEndpoint: No more replicas available for rdd_87626_399 !\n",
      "25/06/18 21:29:06 WARN BlockManagerMasterEndpoint: No more replicas available for rdd_75731_204 !\n",
      "25/06/18 21:29:06 WARN BlockManagerMasterEndpoint: No more replicas available for rdd_87632_359 !\n",
      "25/06/18 21:29:06 WARN BlockManagerMasterEndpoint: No more replicas available for rdd_94950_239 !\n",
      "25/06/18 21:29:06 WARN BlockManagerMasterEndpoint: No more replicas available for rdd_76134_129 !\n",
      "25/06/18 21:29:06 WARN BlockManagerMasterEndpoint: No more replicas available for rdd_75731_278 !\n",
      "25/06/18 21:29:06 WARN BlockManagerMasterEndpoint: No more replicas available for rdd_87626_53 !\n",
      "25/06/18 21:29:06 WARN BlockManagerMasterEndpoint: No more replicas available for rdd_94956_283 !\n",
      "25/06/18 21:29:06 WARN BlockManagerMasterEndpoint: No more replicas available for rdd_94950_297 !\n",
      "25/06/18 21:29:06 WARN BlockManagerMasterEndpoint: No more replicas available for rdd_94950_227 !\n",
      "25/06/18 21:29:06 WARN BlockManagerMasterEndpoint: No more replicas available for rdd_83578_399 !\n",
      "25/06/18 21:29:06 WARN BlockManagerMasterEndpoint: No more replicas available for rdd_76134_204 !\n",
      "25/06/18 21:29:06 WARN BlockManagerMasterEndpoint: No more replicas available for rdd_94950_333 !\n",
      "25/06/18 21:29:06 WARN BlockManagerMasterEndpoint: No more replicas available for rdd_83578_116 !\n",
      "25/06/18 21:29:06 WARN BlockManagerMasterEndpoint: No more replicas available for rdd_76128_64 !\n",
      "25/06/18 21:29:06 WARN BlockManagerMasterEndpoint: No more replicas available for rdd_75698_141 !\n",
      "25/06/18 21:29:06 WARN BlockManagerMasterEndpoint: No more replicas available for rdd_83578_159 !\n",
      "25/06/18 21:29:06 WARN BlockManagerMasterEndpoint: No more replicas available for rdd_87626_351 !\n",
      "25/06/18 21:29:06 WARN BlockManagerMasterEndpoint: No more replicas available for rdd_76140_373 !\n",
      "25/06/18 21:29:06 WARN BlockManagerMasterEndpoint: No more replicas available for rdd_75731_331 !\n",
      "25/06/18 21:29:06 WARN BlockManagerMasterEndpoint: No more replicas available for rdd_76140_233 !\n",
      "25/06/18 21:29:06 WARN BlockManagerMasterEndpoint: No more replicas available for rdd_83578_13 !\n",
      "25/06/18 21:29:06 WARN BlockManagerMasterEndpoint: No more replicas available for rdd_94956_278 !\n",
      "25/06/18 21:29:06 WARN BlockManagerMasterEndpoint: No more replicas available for rdd_94950_345 !\n",
      "25/06/18 21:29:06 WARN BlockManagerMasterEndpoint: No more replicas available for rdd_94956_156 !\n",
      "25/06/18 21:29:06 WARN BlockManagerMasterEndpoint: No more replicas available for rdd_94956_150 !\n",
      "25/06/18 21:29:06 WARN BlockManagerMasterEndpoint: No more replicas available for rdd_76140_167 !\n",
      "25/06/18 21:29:06 WARN BlockManagerMasterEndpoint: No more replicas available for rdd_94956_297 !\n",
      "25/06/18 21:29:06 WARN BlockManagerMasterEndpoint: No more replicas available for rdd_76134_167 !\n",
      "25/06/18 21:29:06 WARN BlockManagerMasterEndpoint: No more replicas available for rdd_94956_36 !\n",
      "25/06/18 21:29:06 WARN BlockManagerMasterEndpoint: No more replicas available for rdd_76140_152 !\n",
      "25/06/18 21:29:06 WARN BlockManagerMasterEndpoint: No more replicas available for rdd_75731_392 !\n",
      "25/06/18 21:29:06 WARN BlockManagerMasterEndpoint: No more replicas available for rdd_94956_93 !\n",
      "25/06/18 21:29:06 WARN BlockManagerMasterEndpoint: No more replicas available for rdd_83578_204 !\n",
      "25/06/18 21:29:06 WARN BlockManagerMasterEndpoint: No more replicas available for rdd_94950_250 !\n",
      "25/06/18 21:29:06 WARN BlockManagerMasterEndpoint: No more replicas available for rdd_87626_123 !\n",
      "25/06/18 21:29:06 WARN BlockManagerMasterEndpoint: No more replicas available for rdd_87632_129 !\n",
      "25/06/18 21:29:06 WARN BlockManagerMasterEndpoint: No more replicas available for rdd_94956_60 !\n",
      "25/06/18 21:29:06 WARN BlockManagerMasterEndpoint: No more replicas available for rdd_76140_392 !\n",
      "25/06/18 21:29:06 WARN BlockManagerMasterEndpoint: No more replicas available for rdd_76140_241 !\n",
      "25/06/18 21:29:06 WARN BlockManagerMasterEndpoint: No more replicas available for rdd_76128_337 !\n",
      "25/06/18 21:29:06 WARN BlockManagerMasterEndpoint: No more replicas available for rdd_87632_170 !\n",
      "25/06/18 21:29:06 WARN BlockManagerMasterEndpoint: No more replicas available for rdd_94950_44 !\n",
      "25/06/18 21:29:06 WARN BlockManagerMasterEndpoint: No more replicas available for rdd_75731_37 !\n",
      "25/06/18 21:29:06 WARN BlockManagerMasterEndpoint: No more replicas available for rdd_75698_65 !\n",
      "25/06/18 21:29:06 WARN BlockManagerMasterEndpoint: No more replicas available for rdd_76128_37 !\n",
      "25/06/18 21:29:06 WARN BlockManagerMasterEndpoint: No more replicas available for rdd_75731_388 !\n",
      "25/06/18 21:29:06 WARN BlockManagerMasterEndpoint: No more replicas available for rdd_94950_235 !\n",
      "25/06/18 21:29:06 WARN BlockManagerMasterEndpoint: No more replicas available for rdd_75698_34 !\n",
      "25/06/18 21:29:06 WARN BlockManagerMasterEndpoint: No more replicas available for rdd_94956_12 !\n",
      "25/06/18 21:29:06 WARN BlockManagerMasterEndpoint: No more replicas available for rdd_83578_240 !\n",
      "25/06/18 21:29:06 WARN BlockManagerMasterEndpoint: No more replicas available for rdd_76128_119 !\n",
      "25/06/18 21:29:06 WARN BlockManagerMasterEndpoint: No more replicas available for rdd_76128_331 !\n",
      "25/06/18 21:29:06 WARN BlockManagerMasterEndpoint: No more replicas available for rdd_75731_166 !\n",
      "25/06/18 21:29:06 WARN BlockManagerMasterEndpoint: No more replicas available for rdd_83578_336 !\n",
      "25/06/18 21:29:06 WARN BlockManagerMasterEndpoint: No more replicas available for rdd_76128_241 !\n",
      "25/06/18 21:29:06 WARN YarnAllocator: Container from a bad node: container_1750267550096_0006_01_000032 on host: jr-temp-m.c.open-targets-eu-dev.internal. Exit status: 137. Diagnostics: [2025-06-18 21:29:06.233]Container killed on request. Exit code is 137\n",
      "[2025-06-18 21:29:06.233]Container exited with a non-zero exit code 137. \n",
      "[2025-06-18 21:29:06.234]Killed by external signal\n",
      ".\n",
      "25/06/18 21:29:06 WARN YarnSchedulerBackend$YarnSchedulerEndpoint: Requesting driver to remove executor 30 for reason Container from a bad node: container_1750267550096_0006_01_000032 on host: jr-temp-m.c.open-targets-eu-dev.internal. Exit status: 137. Diagnostics: [2025-06-18 21:29:06.233]Container killed on request. Exit code is 137\n",
      "[2025-06-18 21:29:06.233]Container exited with a non-zero exit code 137. \n",
      "[2025-06-18 21:29:06.234]Killed by external signal\n",
      ".\n",
      "25/06/18 21:29:06 ERROR YarnScheduler: Lost executor 30 on jr-temp-m.c.open-targets-eu-dev.internal: Container from a bad node: container_1750267550096_0006_01_000032 on host: jr-temp-m.c.open-targets-eu-dev.internal. Exit status: 137. Diagnostics: [2025-06-18 21:29:06.233]Container killed on request. Exit code is 137\n",
      "[2025-06-18 21:29:06.233]Container exited with a non-zero exit code 137. \n",
      "[2025-06-18 21:29:06.234]Killed by external signal\n",
      ".\n",
      "ERROR:root:KeyboardInterrupt while sending command.               (0 + 56) / 66]\n",
      "Traceback (most recent call last):\n",
      "  File \"/usr/lib/spark/python/lib/py4j-0.10.9.7-src.zip/py4j/java_gateway.py\", line 1038, in send_command\n",
      "    response = connection.send_command(command)\n",
      "               ^^^^^^^^^^^^^^^^^^^^^^^^^^^^^^^^\n",
      "  File \"/usr/lib/spark/python/lib/py4j-0.10.9.7-src.zip/py4j/clientserver.py\", line 511, in send_command\n",
      "    answer = smart_decode(self.stream.readline()[:-1])\n",
      "                          ^^^^^^^^^^^^^^^^^^^^^^\n",
      "  File \"/opt/conda/miniconda3/lib/python3.11/socket.py\", line 706, in readinto\n",
      "    return self._sock.recv_into(b)\n",
      "           ^^^^^^^^^^^^^^^^^^^^^^^\n",
      "KeyboardInterrupt\n"
     ]
    },
    {
     "ename": "KeyboardInterrupt",
     "evalue": "",
     "output_type": "error",
     "traceback": [
      "\u001b[0;31m---------------------------------------------------------------------------\u001b[0m",
      "\u001b[0;31mKeyboardInterrupt\u001b[0m                         Traceback (most recent call last)",
      "Cell \u001b[0;32mIn[17], line 1\u001b[0m\n\u001b[0;32m----> 1\u001b[0m \u001b[43manalysis_chembl\u001b[49m\u001b[38;5;241;43m.\u001b[39;49m\u001b[43mjoin\u001b[49m\u001b[43m(\u001b[49m\u001b[43mgwasCredibleAssoc_qtlPValue\u001b[49m\u001b[43m,\u001b[49m\u001b[43m \u001b[49m\u001b[43mon\u001b[49m\u001b[38;5;241;43m=\u001b[39;49m\u001b[43m[\u001b[49m\u001b[38;5;124;43m'\u001b[39;49m\u001b[38;5;124;43mtargetId\u001b[39;49m\u001b[38;5;124;43m'\u001b[39;49m\u001b[43m,\u001b[49m\u001b[38;5;124;43m'\u001b[39;49m\u001b[38;5;124;43mdiseaseId\u001b[39;49m\u001b[38;5;124;43m'\u001b[39;49m\u001b[43m]\u001b[49m\u001b[43m,\u001b[49m\u001b[43mhow\u001b[49m\u001b[38;5;241;43m=\u001b[39;49m\u001b[38;5;124;43m'\u001b[39;49m\u001b[38;5;124;43mright\u001b[39;49m\u001b[38;5;124;43m'\u001b[39;49m\u001b[43m)\u001b[49m\u001b[38;5;241;43m.\u001b[39;49m\u001b[43mshow\u001b[49m\u001b[43m(\u001b[49m\u001b[43m)\u001b[49m\n",
      "File \u001b[0;32m/usr/lib/spark/python/pyspark/sql/dataframe.py:947\u001b[0m, in \u001b[0;36mDataFrame.show\u001b[0;34m(self, n, truncate, vertical)\u001b[0m\n\u001b[1;32m    887\u001b[0m \u001b[38;5;28;01mdef\u001b[39;00m\u001b[38;5;250m \u001b[39m\u001b[38;5;21mshow\u001b[39m(\u001b[38;5;28mself\u001b[39m, n: \u001b[38;5;28mint\u001b[39m \u001b[38;5;241m=\u001b[39m \u001b[38;5;241m20\u001b[39m, truncate: Union[\u001b[38;5;28mbool\u001b[39m, \u001b[38;5;28mint\u001b[39m] \u001b[38;5;241m=\u001b[39m \u001b[38;5;28;01mTrue\u001b[39;00m, vertical: \u001b[38;5;28mbool\u001b[39m \u001b[38;5;241m=\u001b[39m \u001b[38;5;28;01mFalse\u001b[39;00m) \u001b[38;5;241m-\u001b[39m\u001b[38;5;241m>\u001b[39m \u001b[38;5;28;01mNone\u001b[39;00m:\n\u001b[1;32m    888\u001b[0m \u001b[38;5;250m    \u001b[39m\u001b[38;5;124;03m\"\"\"Prints the first ``n`` rows to the console.\u001b[39;00m\n\u001b[1;32m    889\u001b[0m \n\u001b[1;32m    890\u001b[0m \u001b[38;5;124;03m    .. versionadded:: 1.3.0\u001b[39;00m\n\u001b[0;32m   (...)\u001b[0m\n\u001b[1;32m    945\u001b[0m \u001b[38;5;124;03m    name | Bob\u001b[39;00m\n\u001b[1;32m    946\u001b[0m \u001b[38;5;124;03m    \"\"\"\u001b[39;00m\n\u001b[0;32m--> 947\u001b[0m     \u001b[38;5;28mprint\u001b[39m(\u001b[38;5;28;43mself\u001b[39;49m\u001b[38;5;241;43m.\u001b[39;49m\u001b[43m_show_string\u001b[49m\u001b[43m(\u001b[49m\u001b[43mn\u001b[49m\u001b[43m,\u001b[49m\u001b[43m \u001b[49m\u001b[43mtruncate\u001b[49m\u001b[43m,\u001b[49m\u001b[43m \u001b[49m\u001b[43mvertical\u001b[49m\u001b[43m)\u001b[49m)\n",
      "File \u001b[0;32m/usr/lib/spark/python/pyspark/sql/dataframe.py:965\u001b[0m, in \u001b[0;36mDataFrame._show_string\u001b[0;34m(self, n, truncate, vertical)\u001b[0m\n\u001b[1;32m    959\u001b[0m     \u001b[38;5;28;01mraise\u001b[39;00m PySparkTypeError(\n\u001b[1;32m    960\u001b[0m         error_class\u001b[38;5;241m=\u001b[39m\u001b[38;5;124m\"\u001b[39m\u001b[38;5;124mNOT_BOOL\u001b[39m\u001b[38;5;124m\"\u001b[39m,\n\u001b[1;32m    961\u001b[0m         message_parameters\u001b[38;5;241m=\u001b[39m{\u001b[38;5;124m\"\u001b[39m\u001b[38;5;124marg_name\u001b[39m\u001b[38;5;124m\"\u001b[39m: \u001b[38;5;124m\"\u001b[39m\u001b[38;5;124mvertical\u001b[39m\u001b[38;5;124m\"\u001b[39m, \u001b[38;5;124m\"\u001b[39m\u001b[38;5;124marg_type\u001b[39m\u001b[38;5;124m\"\u001b[39m: \u001b[38;5;28mtype\u001b[39m(vertical)\u001b[38;5;241m.\u001b[39m\u001b[38;5;18m__name__\u001b[39m},\n\u001b[1;32m    962\u001b[0m     )\n\u001b[1;32m    964\u001b[0m \u001b[38;5;28;01mif\u001b[39;00m \u001b[38;5;28misinstance\u001b[39m(truncate, \u001b[38;5;28mbool\u001b[39m) \u001b[38;5;129;01mand\u001b[39;00m truncate:\n\u001b[0;32m--> 965\u001b[0m     \u001b[38;5;28;01mreturn\u001b[39;00m \u001b[38;5;28;43mself\u001b[39;49m\u001b[38;5;241;43m.\u001b[39;49m\u001b[43m_jdf\u001b[49m\u001b[38;5;241;43m.\u001b[39;49m\u001b[43mshowString\u001b[49m\u001b[43m(\u001b[49m\u001b[43mn\u001b[49m\u001b[43m,\u001b[49m\u001b[43m \u001b[49m\u001b[38;5;241;43m20\u001b[39;49m\u001b[43m,\u001b[49m\u001b[43m \u001b[49m\u001b[43mvertical\u001b[49m\u001b[43m)\u001b[49m\n\u001b[1;32m    966\u001b[0m \u001b[38;5;28;01melse\u001b[39;00m:\n\u001b[1;32m    967\u001b[0m     \u001b[38;5;28;01mtry\u001b[39;00m:\n",
      "File \u001b[0;32m/usr/lib/spark/python/lib/py4j-0.10.9.7-src.zip/py4j/java_gateway.py:1321\u001b[0m, in \u001b[0;36mJavaMember.__call__\u001b[0;34m(self, *args)\u001b[0m\n\u001b[1;32m   1314\u001b[0m args_command, temp_args \u001b[38;5;241m=\u001b[39m \u001b[38;5;28mself\u001b[39m\u001b[38;5;241m.\u001b[39m_build_args(\u001b[38;5;241m*\u001b[39margs)\n\u001b[1;32m   1316\u001b[0m command \u001b[38;5;241m=\u001b[39m proto\u001b[38;5;241m.\u001b[39mCALL_COMMAND_NAME \u001b[38;5;241m+\u001b[39m\\\n\u001b[1;32m   1317\u001b[0m     \u001b[38;5;28mself\u001b[39m\u001b[38;5;241m.\u001b[39mcommand_header \u001b[38;5;241m+\u001b[39m\\\n\u001b[1;32m   1318\u001b[0m     args_command \u001b[38;5;241m+\u001b[39m\\\n\u001b[1;32m   1319\u001b[0m     proto\u001b[38;5;241m.\u001b[39mEND_COMMAND_PART\n\u001b[0;32m-> 1321\u001b[0m answer \u001b[38;5;241m=\u001b[39m \u001b[38;5;28;43mself\u001b[39;49m\u001b[38;5;241;43m.\u001b[39;49m\u001b[43mgateway_client\u001b[49m\u001b[38;5;241;43m.\u001b[39;49m\u001b[43msend_command\u001b[49m\u001b[43m(\u001b[49m\u001b[43mcommand\u001b[49m\u001b[43m)\u001b[49m\n\u001b[1;32m   1322\u001b[0m return_value \u001b[38;5;241m=\u001b[39m get_return_value(\n\u001b[1;32m   1323\u001b[0m     answer, \u001b[38;5;28mself\u001b[39m\u001b[38;5;241m.\u001b[39mgateway_client, \u001b[38;5;28mself\u001b[39m\u001b[38;5;241m.\u001b[39mtarget_id, \u001b[38;5;28mself\u001b[39m\u001b[38;5;241m.\u001b[39mname)\n\u001b[1;32m   1325\u001b[0m \u001b[38;5;28;01mfor\u001b[39;00m temp_arg \u001b[38;5;129;01min\u001b[39;00m temp_args:\n",
      "File \u001b[0;32m/usr/lib/spark/python/lib/py4j-0.10.9.7-src.zip/py4j/java_gateway.py:1038\u001b[0m, in \u001b[0;36mGatewayClient.send_command\u001b[0;34m(self, command, retry, binary)\u001b[0m\n\u001b[1;32m   1036\u001b[0m connection \u001b[38;5;241m=\u001b[39m \u001b[38;5;28mself\u001b[39m\u001b[38;5;241m.\u001b[39m_get_connection()\n\u001b[1;32m   1037\u001b[0m \u001b[38;5;28;01mtry\u001b[39;00m:\n\u001b[0;32m-> 1038\u001b[0m     response \u001b[38;5;241m=\u001b[39m \u001b[43mconnection\u001b[49m\u001b[38;5;241;43m.\u001b[39;49m\u001b[43msend_command\u001b[49m\u001b[43m(\u001b[49m\u001b[43mcommand\u001b[49m\u001b[43m)\u001b[49m\n\u001b[1;32m   1039\u001b[0m     \u001b[38;5;28;01mif\u001b[39;00m binary:\n\u001b[1;32m   1040\u001b[0m         \u001b[38;5;28;01mreturn\u001b[39;00m response, \u001b[38;5;28mself\u001b[39m\u001b[38;5;241m.\u001b[39m_create_connection_guard(connection)\n",
      "File \u001b[0;32m/usr/lib/spark/python/lib/py4j-0.10.9.7-src.zip/py4j/clientserver.py:511\u001b[0m, in \u001b[0;36mClientServerConnection.send_command\u001b[0;34m(self, command)\u001b[0m\n\u001b[1;32m    509\u001b[0m \u001b[38;5;28;01mtry\u001b[39;00m:\n\u001b[1;32m    510\u001b[0m     \u001b[38;5;28;01mwhile\u001b[39;00m \u001b[38;5;28;01mTrue\u001b[39;00m:\n\u001b[0;32m--> 511\u001b[0m         answer \u001b[38;5;241m=\u001b[39m smart_decode(\u001b[38;5;28mself\u001b[39m\u001b[38;5;241m.\u001b[39mstream\u001b[38;5;241m.\u001b[39mreadline()[:\u001b[38;5;241m-\u001b[39m\u001b[38;5;241m1\u001b[39m])\n\u001b[1;32m    512\u001b[0m         logger\u001b[38;5;241m.\u001b[39mdebug(\u001b[38;5;124m\"\u001b[39m\u001b[38;5;124mAnswer received: \u001b[39m\u001b[38;5;132;01m{0}\u001b[39;00m\u001b[38;5;124m\"\u001b[39m\u001b[38;5;241m.\u001b[39mformat(answer))\n\u001b[1;32m    513\u001b[0m         \u001b[38;5;66;03m# Happens when a the other end is dead. There might be an empty\u001b[39;00m\n\u001b[1;32m    514\u001b[0m         \u001b[38;5;66;03m# answer before the socket raises an error.\u001b[39;00m\n",
      "File \u001b[0;32m/opt/conda/miniconda3/lib/python3.11/socket.py:706\u001b[0m, in \u001b[0;36mSocketIO.readinto\u001b[0;34m(self, b)\u001b[0m\n\u001b[1;32m    704\u001b[0m \u001b[38;5;28;01mwhile\u001b[39;00m \u001b[38;5;28;01mTrue\u001b[39;00m:\n\u001b[1;32m    705\u001b[0m     \u001b[38;5;28;01mtry\u001b[39;00m:\n\u001b[0;32m--> 706\u001b[0m         \u001b[38;5;28;01mreturn\u001b[39;00m \u001b[38;5;28;43mself\u001b[39;49m\u001b[38;5;241;43m.\u001b[39;49m\u001b[43m_sock\u001b[49m\u001b[38;5;241;43m.\u001b[39;49m\u001b[43mrecv_into\u001b[49m\u001b[43m(\u001b[49m\u001b[43mb\u001b[49m\u001b[43m)\u001b[49m\n\u001b[1;32m    707\u001b[0m     \u001b[38;5;28;01mexcept\u001b[39;00m timeout:\n\u001b[1;32m    708\u001b[0m         \u001b[38;5;28mself\u001b[39m\u001b[38;5;241m.\u001b[39m_timeout_occurred \u001b[38;5;241m=\u001b[39m \u001b[38;5;28;01mTrue\u001b[39;00m\n",
      "\u001b[0;31mKeyboardInterrupt\u001b[0m: "
     ]
    }
   ],
   "source": [
    "analysis_chembl.join(gwasCredibleAssoc_qtlPValue, on=['targetId','diseaseId'],how='right').show()"
   ]
  },
  {
   "cell_type": "code",
   "execution_count": 27,
   "metadata": {},
   "outputs": [
    {
     "name": "stdout",
     "output_type": "stream",
     "text": [
      "loaded resolvedColloc\n"
     ]
    },
    {
     "name": "stderr",
     "output_type": "stream",
     "text": [
      "25/06/18 21:51:29 WARN CacheManager: Asked to cache already cached data.\n"
     ]
    },
    {
     "name": "stdout",
     "output_type": "stream",
     "text": [
      "run temporary direction of effect\n"
     ]
    },
    {
     "name": "stderr",
     "output_type": "stream",
     "text": [
      "25/06/18 21:51:30 WARN CacheManager: Asked to cache already cached data.\n"
     ]
    }
   ],
   "source": [
    "resolvedColoc = (\n",
    "    (\n",
    "        newColoc.withColumnRenamed(\"geneId\", \"targetId\")\n",
    "        .join(\n",
    "            gwasComplete.withColumnRenamed(\"studyLocusId\", \"leftStudyLocusId\"),\n",
    "            on=[\"leftStudyLocusId\", \"targetId\"],\n",
    "            how=\"inner\", ### has to be right?\n",
    "        )\n",
    "        #.join(  ### propagated using parent terms\n",
    "        #    diseases.selectExpr(\n",
    "        #        \"id as diseaseId\", \"name\", \"parents\", \"therapeuticAreas\"\n",
    "        #    ),\n",
    "        #    on=\"diseaseId\",\n",
    "        #    how=\"left\",\n",
    "        #)\n",
    "        #.withColumn(\n",
    "        #    \"diseaseId\",\n",
    "        #    F.explode_outer(F.concat(F.array(F.col(\"diseaseId\")), F.col(\"parents\"))),\n",
    "        #)\n",
    "        #.drop(\"parents\", \"oldDiseaseId\")\n",
    "    ).withColumn(\n",
    "        \"colocDoE\",\n",
    "        F.when(\n",
    "            F.col(\"rightStudyType\").isin(\n",
    "                [\"eqtl\", \"pqtl\", \"tuqtl\", \"sceqtl\", \"sctuqtl\"]\n",
    "            ),\n",
    "            F.when(\n",
    "                (F.col(\"betaGwas\") > 0) & (F.col(\"betaRatioSignAverage\") > 0),\n",
    "                F.lit(\"GoF_risk\"),\n",
    "            )\n",
    "            .when(\n",
    "                (F.col(\"betaGwas\") > 0) & (F.col(\"betaRatioSignAverage\") < 0),\n",
    "                F.lit(\"LoF_risk\"),\n",
    "            )\n",
    "            .when(\n",
    "                (F.col(\"betaGwas\") < 0) & (F.col(\"betaRatioSignAverage\") > 0),\n",
    "                F.lit(\"LoF_protect\"),\n",
    "            )\n",
    "            .when(\n",
    "                (F.col(\"betaGwas\") < 0) & (F.col(\"betaRatioSignAverage\") < 0),\n",
    "                F.lit(\"GoF_protect\"),\n",
    "            ),\n",
    "        ).when(\n",
    "            F.col(\"rightStudyType\").isin(\n",
    "                [\"sqtl\", \"scsqtl\"]\n",
    "            ),  ### opposite directionality than sqtl\n",
    "            F.when(\n",
    "                (F.col(\"betaGwas\") > 0) & (F.col(\"betaRatioSignAverage\") > 0),\n",
    "                F.lit(\"LoF_risk\"),\n",
    "            )\n",
    "            .when(\n",
    "                (F.col(\"betaGwas\") > 0) & (F.col(\"betaRatioSignAverage\") < 0),\n",
    "                F.lit(\"GoF_risk\"),\n",
    "            )\n",
    "            .when(\n",
    "                (F.col(\"betaGwas\") < 0) & (F.col(\"betaRatioSignAverage\") > 0),\n",
    "                F.lit(\"GoF_protect\"),\n",
    "            )\n",
    "            .when(\n",
    "                (F.col(\"betaGwas\") < 0) & (F.col(\"betaRatioSignAverage\") < 0),\n",
    "                F.lit(\"LoF_protect\"),\n",
    "            ),\n",
    "        ),\n",
    "    )\n",
    "    # .persist()\n",
    ")\n",
    "print(\"loaded resolvedColloc\")\n",
    "\n",
    "datasource_filter = [\n",
    "    #\"gwas_credible_set\", remove so avoid potential duplicates as it will be incorporated later (DoE is done separately)\n",
    "    \"gene_burden\",\n",
    "    \"eva\",\n",
    "    \"eva_somatic\",\n",
    "    \"gene2phenotype\",\n",
    "    \"orphanet\",\n",
    "    \"cancer_gene_census\",\n",
    "    \"intogen\",\n",
    "    \"impc\",\n",
    "    \"chembl\",\n",
    "]\n",
    "\n",
    "assessment, evidences, actionType, oncolabel = temporary_directionOfEffect(\n",
    "    path_n, datasource_filter\n",
    ")\n",
    "\n",
    "print(\"run temporary direction of effect\")\n",
    "\n",
    "window_spec = Window.partitionBy(\"targetId\", \"diseaseId\",'leftStudyId').orderBy( ### include gwas study\n",
    "    F.col(\"pValueExponent\").asc()\n",
    ")\n",
    "gwasCredibleAssoc = (\n",
    "    resolvedColoc.withColumn(\n",
    "        \"homogenized\", F.first(\"colocDoE\", ignorenulls=True).over(window_spec)\n",
    "    )  ## added 30.01.2025\n",
    "    .select(\"targetId\", \"diseaseId\",'leftStudyId', \"homogenized\")\n",
    "    .withColumn(\n",
    "        \"homogenized\",\n",
    "        F.when(F.col(\"homogenized\").isNull(), F.lit(\"noEvaluable\")).otherwise(\n",
    "            F.col(\"homogenized\")\n",
    "        ),\n",
    "    )\n",
    ")\n",
    "\n",
    "window_spec_qtl = Window.partitionBy(\"targetId\", \"diseaseId\",'leftStudyId').orderBy( ### include gwas study\n",
    "    F.col(\"qtlPValueExponent\").asc()\n",
    ")\n",
    "# qtlPValueExponent\n",
    "gwasCredibleAssoc_qtlPValue = (\n",
    "    resolvedColoc.withColumn(\n",
    "        \"homogenized\", F.first(\"colocDoE\", ignorenulls=True).over(window_spec_qtl)\n",
    "    )  ## added 30.01.2025\n",
    "    .select(\"targetId\", \"diseaseId\",'leftStudyId', \"homogenized\")\n",
    "    .withColumn(\n",
    "        \"homogenized\",\n",
    "        F.when(F.col(\"homogenized\").isNull(), F.lit(\"noEvaluable\")).otherwise(\n",
    "            F.col(\"homogenized\")\n",
    "        ),\n",
    "    )\n",
    ")"
   ]
  },
  {
   "cell_type": "code",
   "execution_count": null,
   "metadata": {},
   "outputs": [
    {
     "name": "stdout",
     "output_type": "stream",
     "text": [
      "loaded files\n",
      "loaded files\n",
      "loaded newColoc\n"
     ]
    },
    {
     "name": "stderr",
     "output_type": "stream",
     "text": [
      "                                                                                \r"
     ]
    },
    {
     "name": "stdout",
     "output_type": "stream",
     "text": [
      "loaded gwasComplete\n",
      "loaded resolvedColloc\n"
     ]
    },
    {
     "name": "stderr",
     "output_type": "stream",
     "text": [
      "25/06/18 22:11:39 WARN CacheManager: Asked to cache already cached data.\n",
      "25/06/18 22:11:41 WARN CacheManager: Asked to cache already cached data.        \n"
     ]
    },
    {
     "name": "stdout",
     "output_type": "stream",
     "text": [
      "run temporary direction of effect\n",
      "Moving to step 2\n",
      "defining non propagated,propagated and analysis_drugs functions\n"
     ]
    },
    {
     "name": "stderr",
     "output_type": "stream",
     "text": [
      "25/06/18 22:11:43 WARN CacheManager: Asked to cache already cached data.        \n",
      "25/06/18 22:11:43 WARN CacheManager: Asked to cache already cached data.\n",
      "25/06/18 22:11:43 WARN CacheManager: Asked to cache already cached data.\n"
     ]
    },
    {
     "name": "stdout",
     "output_type": "stream",
     "text": [
      "defining full_analysis_propagation\n",
      "defining full analysis no propagation\n",
      "moving to Step 3\n",
      "starting dictionaries at 2025-06-18 22:11:43.205945\n",
      "gwas_credible_set\n"
     ]
    },
    {
     "name": "stderr",
     "output_type": "stream",
     "text": [
      "                                                                                 207]\r"
     ]
    },
    {
     "name": "stdout",
     "output_type": "stream",
     "text": [
      "somatic\n"
     ]
    },
    {
     "name": "stderr",
     "output_type": "stream",
     "text": [
      "25/06/18 22:13:03 WARN CacheManager: Asked to cache already cached data.\n",
      "25/06/18 22:13:03 WARN CacheManager: Asked to cache already cached data.\n",
      "25/06/18 22:13:04 WARN CacheManager: Asked to cache already cached data.\n",
      "25/06/18 22:13:04 WARN CacheManager: Asked to cache already cached data.\n"
     ]
    },
    {
     "name": "stdout",
     "output_type": "stream",
     "text": [
      "germline\n"
     ]
    },
    {
     "name": "stderr",
     "output_type": "stream",
     "text": [
      "[Stage 94453:>                                                    (0 + 64) / 85] 207]\r"
     ]
    }
   ],
   "source": [
    "#### testing ecaviar for genevid analysis\n",
    "import time\n",
    "#from array import ArrayType\n",
    "from functions import (\n",
    "    relative_success,\n",
    "    spreadSheetFormatter,\n",
    "    discrepancifier,\n",
    "    temporary_directionOfEffect,\n",
    ")\n",
    "# from stoppedTrials import terminated_td\n",
    "from DoEAssessment import directionOfEffect\n",
    "# from membraneTargets import target_membrane\n",
    "from pyspark.sql import SparkSession, Window\n",
    "import pyspark.sql.functions as F\n",
    "#from itertools import islice\n",
    "from datetime import datetime\n",
    "from datetime import date\n",
    "from pyspark.sql.types import (\n",
    "    StructType,\n",
    "    StructField,\n",
    "    DoubleType,\n",
    "    StringType,\n",
    "    IntegerType,\n",
    "    ArrayType\n",
    ")\n",
    "import pandas as pd\n",
    "\n",
    "\n",
    "spark = SparkSession.builder.getOrCreate()\n",
    "spark.conf.set(\n",
    "    \"spark.sql.shuffle.partitions\", \"400\"\n",
    ")  # Default is 200, increase if needed\n",
    "\n",
    "\n",
    "path_n='gs://open-targets-data-releases/25.03/output/'\n",
    "\n",
    "target = spark.read.parquet(f\"{path_n}target/\")\n",
    "\n",
    "diseases = spark.read.parquet(f\"{path_n}disease/\")\n",
    "\n",
    "evidences = spark.read.parquet(f\"{path_n}evidence\")\n",
    "\n",
    "credible = spark.read.parquet(f\"{path_n}credible_set\")\n",
    "\n",
    "new = spark.read.parquet(f\"{path_n}colocalisation_coloc\") \n",
    "\n",
    "index=spark.read.parquet(f\"{path_n}study/\")\n",
    "\n",
    "variantIndex = spark.read.parquet(f\"{path_n}variant\")\n",
    "\n",
    "biosample = spark.read.parquet(f\"{path_n}biosample\")\n",
    "\n",
    "ecaviar=spark.read.parquet(f\"{path_n}colocalisation_ecaviar\")\n",
    "\n",
    "all_coloc=ecaviar.unionByName(new, allowMissingColumns=True)\n",
    "\n",
    "print(\"loaded files\")\n",
    "\n",
    "print(\"loaded files\")\n",
    "\n",
    "newColoc = (\n",
    "    all_coloc.join(\n",
    "        credible.selectExpr(  #### studyLocusId from credible set to uncover the codified variants on left side\n",
    "            \"studyLocusId as leftStudyLocusId\",\n",
    "            \"StudyId as leftStudyId\",\n",
    "            \"variantId as leftVariantId\",\n",
    "            \"studyType as credibleLeftStudyType\",\n",
    "        ),\n",
    "        on=\"leftStudyLocusId\",\n",
    "        how=\"left\",\n",
    "    )\n",
    "    .join(\n",
    "        credible.selectExpr(  #### studyLocusId from credible set to uncover the codified variants on right side\n",
    "            \"studyLocusId as rightStudyLocusId\",\n",
    "            \"studyId as rightStudyId\",\n",
    "            \"variantId as rightVariantId\",\n",
    "            \"studyType as credibleRightStudyType\",\n",
    "            \"pValueExponent as qtlPValueExponent\",\n",
    "            'isTransQtl'\n",
    "        ),\n",
    "        on=\"rightStudyLocusId\",\n",
    "        how=\"left\",\n",
    "    )\n",
    "    .join(\n",
    "        index.selectExpr(  ### bring modulated target on right side (QTL study)\n",
    "            \"studyId as rightStudyId\",\n",
    "            \"geneId\",\n",
    "            \"projectId\",\n",
    "            \"studyType as indexStudyType\",\n",
    "            \"condition\",\n",
    "            \"biosampleId\",\n",
    "        ),\n",
    "        on=\"rightStudyId\",\n",
    "        how=\"left\",\n",
    ")\n",
    "    # .persist()\n",
    ")\n",
    "\n",
    "print(\"loaded newColoc\")\n",
    "\n",
    "# remove columns without content (only null values on them)\n",
    "df = evidences.filter((F.col(\"datasourceId\") == \"gwas_credible_sets\"))\n",
    "\n",
    "# Use an aggregation to determine non-null columns\n",
    "non_null_counts = df.select(\n",
    "    *[F.sum(F.col(col).isNotNull().cast(\"int\")).alias(col) for col in df.columns]\n",
    ")\n",
    "\n",
    "# Collect the counts for each column\n",
    "non_null_columns = [\n",
    "    row[0] for row in non_null_counts.collect()[0].asDict().items() if row[1] > 0\n",
    "]\n",
    "\n",
    "# Select only the non-null columns\n",
    "filtered_df = df.select(*non_null_columns)  # .persist()\n",
    "\n",
    "## bring studyId, variantId, beta from Gwas and pValue\n",
    "gwasComplete = filtered_df.join(\n",
    "    credible.selectExpr(\n",
    "        \"studyLocusId\", \"studyId\", \"variantId\", \"beta as betaGwas\", \"pValueExponent\"\n",
    "    ),\n",
    "    on=\"studyLocusId\",\n",
    "    how=\"left\",\n",
    ")  # .persist()\n",
    "\n",
    "print(\"loaded gwasComplete\")\n",
    "\n",
    "resolvedColoc = (\n",
    "    (\n",
    "        newColoc.withColumnRenamed(\"geneId\", \"targetId\")\n",
    "        .join(\n",
    "            gwasComplete.withColumnRenamed(\"studyLocusId\", \"leftStudyLocusId\"),\n",
    "            on=[\"leftStudyLocusId\", \"targetId\"],\n",
    "            how=\"right\", ### has to be right?\n",
    "        )\n",
    "        #.join(  ### propagated using parent terms\n",
    "        #    diseases.selectExpr(\n",
    "        #        \"id as diseaseId\", \"name\", \"parents\", \"therapeuticAreas\"\n",
    "        #    ),\n",
    "        #    on=\"diseaseId\",\n",
    "        #    how=\"left\",\n",
    "        #)\n",
    "        #.withColumn(\n",
    "        #    \"diseaseId\",\n",
    "        #    F.explode_outer(F.concat(F.array(F.col(\"diseaseId\")), F.col(\"parents\"))),\n",
    "        #)\n",
    "        #.drop(\"parents\", \"oldDiseaseId\")\n",
    "    ).withColumn(\n",
    "        \"colocDoE\",\n",
    "        F.when(\n",
    "            F.col(\"rightStudyType\").isin(\n",
    "                [\"eqtl\", \"pqtl\", \"tuqtl\", \"sceqtl\", \"sctuqtl\"]\n",
    "            ),\n",
    "            F.when(\n",
    "                (F.col(\"betaGwas\") > 0) & (F.col(\"betaRatioSignAverage\") > 0),\n",
    "                F.lit(\"GoF_risk\"),\n",
    "            )\n",
    "            .when(\n",
    "                (F.col(\"betaGwas\") > 0) & (F.col(\"betaRatioSignAverage\") < 0),\n",
    "                F.lit(\"LoF_risk\"),\n",
    "            )\n",
    "            .when(\n",
    "                (F.col(\"betaGwas\") < 0) & (F.col(\"betaRatioSignAverage\") > 0),\n",
    "                F.lit(\"LoF_protect\"),\n",
    "            )\n",
    "            .when(\n",
    "                (F.col(\"betaGwas\") < 0) & (F.col(\"betaRatioSignAverage\") < 0),\n",
    "                F.lit(\"GoF_protect\"),\n",
    "            ),\n",
    "        ).when(\n",
    "            F.col(\"rightStudyType\").isin(\n",
    "                [\"sqtl\", \"scsqtl\"]\n",
    "            ),  ### opposite directionality than sqtl\n",
    "            F.when(\n",
    "                (F.col(\"betaGwas\") > 0) & (F.col(\"betaRatioSignAverage\") > 0),\n",
    "                F.lit(\"LoF_risk\"),\n",
    "            )\n",
    "            .when(\n",
    "                (F.col(\"betaGwas\") > 0) & (F.col(\"betaRatioSignAverage\") < 0),\n",
    "                F.lit(\"GoF_risk\"),\n",
    "            )\n",
    "            .when(\n",
    "                (F.col(\"betaGwas\") < 0) & (F.col(\"betaRatioSignAverage\") > 0),\n",
    "                F.lit(\"GoF_protect\"),\n",
    "            )\n",
    "            .when(\n",
    "                (F.col(\"betaGwas\") < 0) & (F.col(\"betaRatioSignAverage\") < 0),\n",
    "                F.lit(\"LoF_protect\"),\n",
    "            ),\n",
    "        ),\n",
    "    )\n",
    "    # .persist()\n",
    ")\n",
    "print(\"loaded resolvedColloc\")\n",
    "\n",
    "datasource_filter = [\n",
    "    #\"gwas_credible_set\", remove so avoid potential duplicates as it will be incorporated later (DoE is done separately)\n",
    "    \"gene_burden\",\n",
    "    \"eva\",\n",
    "    \"eva_somatic\",\n",
    "    \"gene2phenotype\",\n",
    "    \"orphanet\",\n",
    "    \"cancer_gene_census\",\n",
    "    \"intogen\",\n",
    "    \"impc\",\n",
    "    \"chembl\",\n",
    "]\n",
    "\n",
    "assessment, evidences, actionType, oncolabel = temporary_directionOfEffect(\n",
    "    path_n, datasource_filter\n",
    ")\n",
    "\n",
    "print(\"run temporary direction of effect\")\n",
    "\n",
    "window_spec = Window.partitionBy(\"targetId\", \"diseaseId\",'leftStudyId').orderBy( ### include gwas study\n",
    "    F.col(\"pValueExponent\").asc()\n",
    ")\n",
    "gwasCredibleAssoc = (\n",
    "    resolvedColoc.withColumn(\n",
    "        \"homogenized\", F.first(\"colocDoE\", ignorenulls=True).over(window_spec)\n",
    "    )  ## added 30.01.2025\n",
    "    .select(\"targetId\", \"diseaseId\",'leftStudyId', \"homogenized\")\n",
    "    .withColumn(\n",
    "        \"homogenized\",\n",
    "        F.when(F.col(\"homogenized\").isNull(), F.lit(\"noEvaluable\")).otherwise(\n",
    "            F.col(\"homogenized\")\n",
    "        ),\n",
    "    )\n",
    ")\n",
    "\n",
    "window_spec_qtl = Window.partitionBy(\"targetId\", \"diseaseId\",'leftStudyId').orderBy( ### include gwas study\n",
    "    F.col(\"qtlPValueExponent\").asc()\n",
    ")\n",
    "# qtlPValueExponent\n",
    "gwasCredibleAssoc_qtlPValue = (\n",
    "    resolvedColoc.withColumn(\n",
    "        \"homogenized\", F.first(\"colocDoE\", ignorenulls=True).over(window_spec_qtl)\n",
    "    )  ## added 30.01.2025\n",
    "    .select(\"targetId\", \"diseaseId\",'leftStudyId', \"homogenized\")\n",
    "    .withColumn(\n",
    "        \"homogenized\",\n",
    "        F.when(F.col(\"homogenized\").isNull(), F.lit(\"noEvaluable\")).otherwise(\n",
    "            F.col(\"homogenized\")\n",
    "        ),\n",
    "    )\n",
    ")\n",
    "\n",
    "\n",
    "print(\"Moving to step 2\")\n",
    "\n",
    "columns_chembl = [\"LoF_protect\", \"GoF_protect\"]\n",
    "columns_dataset = [\"LoF_protect\", \"GoF_protect\", \"LoF_risk\", \"GoF_risk\", \"evidenceDif\"]\n",
    "columns = [\"GoF_risk\", \"LoF_protect\", \"LoF_risk\", \"GoF_protect\"]\n",
    "terms = [\"noEvaluable\", \"bivalent_risk\", \"null\", \"dispar\"]\n",
    "\n",
    "taDf = spark.createDataFrame(\n",
    "    data=[\n",
    "        (\"MONDO_0045024\", \"cell proliferation disorder\", \"Oncology\"),\n",
    "        (\"EFO_0005741\", \"infectious disease\", \"Other\"),\n",
    "        (\"OTAR_0000014\", \"pregnancy or perinatal disease\", \"Other\"),\n",
    "        (\"EFO_0005932\", \"animal disease\", \"Other\"),\n",
    "        (\"MONDO_0024458\", \"disease of visual system\", \"Other\"),\n",
    "        (\"EFO_0000319\", \"cardiovascular disease\", \"Other\"),\n",
    "        (\"EFO_0009605\", \"pancreas disease\", \"Other\"),\n",
    "        (\"EFO_0010282\", \"gastrointestinal disease\", \"Other\"),\n",
    "        (\"OTAR_0000017\", \"reproductive system or breast disease\", \"Other\"),\n",
    "        (\"EFO_0010285\", \"integumentary system disease\", \"Other\"),\n",
    "        (\"EFO_0001379\", \"endocrine system disease\", \"Other\"),\n",
    "        (\"OTAR_0000010\", \"respiratory or thoracic disease\", \"Other\"),\n",
    "        (\"EFO_0009690\", \"urinary system disease\", \"Other\"),\n",
    "        (\"OTAR_0000006\", \"musculoskeletal or connective tissue disease\", \"Other\"),\n",
    "        (\"MONDO_0021205\", \"disease of ear\", \"Other\"),\n",
    "        (\"EFO_0000540\", \"immune system disease\", \"Other\"),\n",
    "        (\"EFO_0005803\", \"hematologic disease\", \"Other\"),\n",
    "        (\"EFO_0000618\", \"nervous system disease\", \"Other\"),\n",
    "        (\"MONDO_0002025\", \"psychiatric disorder\", \"Other\"),\n",
    "        (\"MONDO_0024297\", \"nutritional or metabolic disease\", \"Other\"),\n",
    "        (\"OTAR_0000018\", \"genetic, familial or congenital disease\", \"Other\"),\n",
    "        (\"OTAR_0000009\", \"injury, poisoning or other complication\", \"Other\"),\n",
    "        (\"EFO_0000651\", \"phenotype\", \"Other\"),\n",
    "        (\"EFO_0001444\", \"measurement\", \"Other\"),\n",
    "        (\"GO_0008150\", \"biological process\", \"Other\"),\n",
    "    ],\n",
    "    schema=StructType(\n",
    "        [\n",
    "            StructField(\"taId\", StringType(), True),\n",
    "            StructField(\"taLabel\", StringType(), True),\n",
    "            StructField(\"taLabelSimple\", StringType(), True),\n",
    "        ]\n",
    "    ),\n",
    ").withColumn(\"taRank\", F.monotonically_increasing_id())\n",
    "\n",
    "### give us a classification of Oncology VS non oncology\n",
    "wByDisease = Window.partitionBy(\"diseaseId\")  #### checked 31.05.2023\n",
    "diseaseTA = (\n",
    "    diseases.withColumn(\"taId\", F.explode(\"therapeuticAreas\"))\n",
    "    .select(F.col(\"id\").alias(\"diseaseId\"), \"taId\", \"parents\")\n",
    "    .join(taDf, on=\"taId\", how=\"left\")\n",
    "    .withColumn(\"minRank\", F.min(\"taRank\").over(wByDisease))\n",
    "    .filter(F.col(\"taRank\") == F.col(\"minRank\"))\n",
    "    .drop(\"taRank\", \"minRank\")\n",
    ")\n",
    "\n",
    "#### give us propagation of diseases and list of therapeutic areas associated\n",
    "diseases2 = diseases.select(\"id\", \"parents\").withColumn(\n",
    "    \"diseaseIdPropagated\",\n",
    "    F.explode_outer(F.concat(F.array(F.col(\"id\")), F.col(\"parents\"))),\n",
    ")\n",
    "\n",
    "chembl_trials = (\n",
    "    assessment.filter((F.col(\"datasourceId\").isin([\"chembl\"])))\n",
    "    .groupBy(\"targetId\", \"diseaseId\")\n",
    "    .agg(F.max(F.col(\"clinicalPhase\")).alias(\"maxClinPhase\"))\n",
    ")\n",
    "\n",
    "negativeTD = (\n",
    "    evidences.filter(F.col(\"datasourceId\") == \"chembl\")\n",
    "    .select(\"targetId\", \"diseaseId\", \"studyStopReason\", \"studyStopReasonCategories\")\n",
    "    .filter(F.array_contains(F.col(\"studyStopReasonCategories\"), \"Negative\"))\n",
    "    .groupBy(\"targetId\", \"diseaseId\")\n",
    "    .count()\n",
    "    .withColumn(\"stopReason\", F.lit(\"Negative\"))\n",
    "    .drop(\"count\")\n",
    ")\n",
    "\n",
    "assessment_all = assessment.unionByName(\n",
    "    gwasCredibleAssoc_qtlPValue.withColumn(\"datasourceId\", F.lit(\"gwas_credible_set\")),\n",
    "    allowMissingColumns=True,\n",
    ")\n",
    "\n",
    "print(\"defining non propagated,propagated and analysis_drugs functions\")\n",
    "\n",
    "def analysis_nonPropagated(assessment_all, analysisDatasources):\n",
    "    return discrepancifier(\n",
    "        assessment_all.filter(F.col(\"datasourceId\").isin(analysisDatasources))\n",
    "        .withColumn(\n",
    "            \"datasources\",\n",
    "            F.collect_set(F.col(\"datasourceId\")).over(\n",
    "                Window.partitionBy(\"targetId\", \"diseaseId\")\n",
    "            ),\n",
    "        )\n",
    "        .groupBy(\n",
    "            \"targetId\",\n",
    "            \"diseaseId\",\n",
    "        )\n",
    "        .pivot(\"homogenized\")\n",
    "        .agg(F.count(\"targetId\"))\n",
    "        # .persist()\n",
    "    )\n",
    "\n",
    "\n",
    "def analysis_propagated(assessment_all, analysisDatasources):\n",
    "    return discrepancifier(\n",
    "        assessment_all.filter(F.col(\"datasourceId\").isin(analysisDatasources))\n",
    "        .withColumn(\n",
    "            \"datasources\",\n",
    "            F.collect_set(F.col(\"datasourceId\")).over(\n",
    "                Window.partitionBy(\"targetId\", \"diseaseId\")\n",
    "            ),\n",
    "        )\n",
    "        .join(\n",
    "            diseases2.selectExpr(\"id as diseaseId\", \"diseaseIdPropagated\"),\n",
    "            on=\"diseaseId\",\n",
    "            how=\"left\",\n",
    "        )\n",
    "        .withColumnRenamed(\"diseaseId\", \"oldDiseaseId\")\n",
    "        .withColumnRenamed(\"diseaseIdPropagated\", \"diseaseId\")\n",
    "        .groupBy(\n",
    "            \"targetId\",\n",
    "            \"diseaseId\",\n",
    "        )\n",
    "        .pivot(\"homogenized\")\n",
    "        .agg(F.count(\"targetId\"))\n",
    "        # .persist()\n",
    "    )\n",
    "\n",
    "chembl_ds = [\"chembl\"]\n",
    "\n",
    "def analysis_drugs(assessment_all, chembl_ds):\n",
    "    return discrepancifier(\n",
    "        assessment_all.filter((F.col(\"datasourceId\").isin(chembl_ds))\n",
    "        )\n",
    "        .withColumn(\n",
    "            \"maxClinPhase\",\n",
    "            F.max(F.col(\"clinicalPhase\")).over(\n",
    "                Window.partitionBy(\"targetId\", \"diseaseId\")\n",
    "            ),\n",
    "        )\n",
    "        .groupBy(\"targetId\", \"diseaseId\", \"maxClinPhase\")\n",
    "        .pivot(\"homogenized\")\n",
    "        .agg(F.count(\"targetId\"))\n",
    "        .persist()\n",
    "    )\n",
    "\n",
    "\n",
    "analysis_chembl = analysis_drugs(assessment_all, chembl_ds)\n",
    "\n",
    "#######\n",
    "## include here the analysis\n",
    "#######\n",
    "\n",
    "analysisDatasources = []\n",
    "\n",
    "print(\"defining full_analysis_propagation\")\n",
    "\n",
    "doe_columns=[\"LoF_protect\", \"GoF_risk\", \"LoF_risk\", \"GoF_protect\"]\n",
    "diagonal_lof=['LoF_protect','GoF_risk']\n",
    "diagonal_gof=['LoF_risk','GoF_protect']\n",
    "\n",
    "def full_analysis_propagation(\n",
    "    doe_columns,assessment_all, analysisDatasources, analysis_chembl, negativeTD, diseaseTA,diagonal_lof,diagonal_gof\n",
    "):\n",
    "    conditions = [\n",
    "    F.when(F.col(c) == F.col(\"maxDoE\"), F.lit(c)).otherwise(F.lit(None)) for c in doe_columns\n",
    "    ]\n",
    "    \n",
    "    return (\n",
    "        analysis_propagated(assessment_all, analysisDatasources)\n",
    "        .join(\n",
    "            analysis_chembl.selectExpr(\n",
    "                \"targetId\",\n",
    "                \"diseaseId\",\n",
    "                \"maxClinPhase\",\n",
    "                \"coherencyDiagonal as coherencyDiagonal_ch\",\n",
    "                \"coherencyOneCell as coherencyOneCell_ch\",\n",
    "                \"LoF_protect as LoF_protect_ch\",\n",
    "                \"GoF_protect as GoF_protect_ch\",\n",
    "            ),\n",
    "            on=[\"targetId\", \"diseaseId\"],\n",
    "            how=\"right\",\n",
    "        )\n",
    "        #### Should remove the coherencyDiagonal.isNotNull()\n",
    "        .withColumn(\n",
    "            \"geneticEvidence\",\n",
    "            F.when(\n",
    "                F.col(\"coherencyDiagonal\").isNotNull(), F.lit(\"hasGeneticEvidence\")\n",
    "            ).otherwise(F.lit(\"noGeneticEvidence\")),\n",
    "        )\n",
    "        # .filter(F.col(\"coherencyDiagonal_ch\").isNotNull())\n",
    "        .withColumn(\n",
    "            \"diagonalAgreeWithDrugs\",\n",
    "            F.when(\n",
    "                (F.col(\"coherencyDiagonal_ch\") == \"coherent\")\n",
    "                & (F.col(\"coherencyDiagonal\") == \"coherent\"),\n",
    "                F.when(\n",
    "                    (F.col(\"LoF_protect_ch\").isNotNull())\n",
    "                    & (\n",
    "                        F.col(\"GoF_risk\").isNotNull() | F.col(\"LoF_protect\").isNotNull()\n",
    "                    ),\n",
    "                    F.lit(\"coherent\"),\n",
    "                )\n",
    "                .when(\n",
    "                    F.col(\"GoF_protect_ch\").isNotNull()\n",
    "                    & (\n",
    "                        F.col(\"LoF_risk\").isNotNull() | F.col(\"GoF_protect\").isNotNull()\n",
    "                    ),\n",
    "                    F.lit(\"coherent\"),\n",
    "                )\n",
    "                .otherwise(F.lit(\"dispar\")),\n",
    "            ),\n",
    "        )\n",
    "        .withColumn(\n",
    "            \"oneCellAgreeWithDrugs\",\n",
    "            F.when(\n",
    "                (F.col(\"coherencyOneCell_ch\") == \"coherent\")\n",
    "                & (F.col(\"coherencyOneCell\") == \"coherent\"),\n",
    "                F.when(\n",
    "                    (F.col(\"LoF_protect_ch\").isNotNull())\n",
    "                    & (\n",
    "                        (F.col(\"LoF_protect\").isNotNull())\n",
    "                        & (F.col(\"LoF_risk\").isNull())\n",
    "                        & (F.col(\"GoF_protect\").isNull())\n",
    "                        & (F.col(\"GoF_risk\").isNull())\n",
    "                    ),\n",
    "                    F.lit(\"coherent\"),\n",
    "                )\n",
    "                .when(\n",
    "                    (F.col(\"GoF_protect_ch\").isNotNull())\n",
    "                    & (\n",
    "                        (F.col(\"GoF_protect\").isNotNull())\n",
    "                        & (F.col(\"LoF_risk\").isNull())\n",
    "                        & (F.col(\"LoF_protect\").isNull())\n",
    "                        & (F.col(\"GoF_risk\").isNull())\n",
    "                    ),\n",
    "                    F.lit(\"coherent\"),\n",
    "                )\n",
    "                .otherwise(F.lit(\"dispar\")),\n",
    "            ),\n",
    "        ).withColumn(\n",
    "            \"arrayN\", F.array(*[F.col(c) for c in doe_columns])\n",
    "        ).withColumn(\n",
    "            \"maxDoE\", F.array_max(F.col(\"arrayN\"))\n",
    "        ).withColumn(\"maxDoE_names\", F.array(*conditions)\n",
    "        ).withColumn(\"maxDoE_names\", F.expr(\"filter(maxDoE_names, x -> x is not null)\")\n",
    "        ).withColumn(\n",
    "            \"Phase4\",\n",
    "            F.when(F.col(\"maxClinPhase\") == 4, F.lit(\"yes\")).otherwise(F.lit(\"no\")),\n",
    "        )\n",
    "        .withColumn(\n",
    "            \"Phase>=3\",\n",
    "            F.when(F.col(\"maxClinPhase\") >= 3, F.lit(\"yes\")).otherwise(F.lit(\"no\")),\n",
    "        )\n",
    "        .withColumn(\n",
    "            \"Phase>=2\",\n",
    "            F.when(F.col(\"maxClinPhase\") >= 2, F.lit(\"yes\")).otherwise(F.lit(\"no\")),\n",
    "        )\n",
    "        .withColumn(\n",
    "            \"Phase>=1\",\n",
    "            F.when(F.col(\"maxClinPhase\") >= 1, F.lit(\"yes\")).otherwise(F.lit(\"no\")),\n",
    "        )\n",
    "        .join(negativeTD, on=[\"targetId\", \"diseaseId\"], how=\"left\")\n",
    "        .withColumn(\n",
    "            \"PhaseT\",\n",
    "            F.when(F.col(\"stopReason\") == \"Negative\", F.lit(\"yes\")).otherwise(F.lit(\"no\")),\n",
    "        )\n",
    "        .join(\n",
    "            diseaseTA.select(\"diseaseId\", \"taLabelSimple\"), on=\"diseaseId\", how=\"left\"\n",
    "        )\n",
    "        .withColumn(\n",
    "            \"hasGeneticEvidence\",\n",
    "            F.when(\n",
    "                F.col(\"geneticEvidence\") == \"hasGeneticEvidence\", F.lit(\"yes\")\n",
    "            ).otherwise(F.lit(\"no\")),\n",
    "        )\n",
    "        .withColumn(\n",
    "            \"diagonalYes\",\n",
    "            F.when(\n",
    "                F.col(\"hasGeneticEvidence\") == \"yes\",\n",
    "                F.when(F.col(\"diagonalAgreeWithDrugs\") == \"coherent\", F.lit(\"yes\"))\n",
    "                .when(F.col(\"diagonalAgreeWithDrugs\") == \"dispar\", F.lit(\"no\"))\n",
    "                .otherwise(F.lit(\"no\")),\n",
    "            ).otherwise(F.lit(\"no\")),\n",
    "        )\n",
    "        .withColumn(\n",
    "            \"oneCellYes\",\n",
    "            F.when(\n",
    "                F.col(\"hasGeneticEvidence\") == \"yes\",\n",
    "                F.when(F.col(\"oneCellAgreeWithDrugs\") == \"coherent\", F.lit(\"yes\"))\n",
    "                .when(F.col(\"oneCellAgreeWithDrugs\") == \"dispar\", F.lit(\"no\"))\n",
    "                .otherwise(F.lit(\"no\")),\n",
    "            ).otherwise(F.lit(\"no\")),\n",
    "        )\n",
    "        .withColumn(\n",
    "            \"maxDoEArrayN\",\n",
    "            F.expr(\"aggregate(arrayN, 0, (acc, x) -> acc + IF(x = maxDoE, 1, 0))\")\n",
    "        ).withColumn(\n",
    "            \"NoneCellYes\",\n",
    "            F.when((F.col(\"LoF_protect_ch\").isNotNull() & (F.col('GoF_protect_ch').isNull())) & (F.array_contains(F.col(\"maxDoE_names\"), F.lit(\"LoF_protect\")))==True, F.lit('yes'))\n",
    "            .when((F.col(\"GoF_protect_ch\").isNotNull() & (F.col('LoF_protect_ch').isNull())) & (F.array_contains(F.col(\"maxDoE_names\"), F.lit(\"GoF_protect\")))==True, F.lit('yes')\n",
    "                ).otherwise(F.lit('no'))  # If the value is null, return null # Otherwise, check if name is in array\n",
    "        ).withColumn(\n",
    "            \"NdiagonalYes\",\n",
    "            F.when((F.col(\"LoF_protect_ch\").isNotNull() & (F.col('GoF_protect_ch').isNull())) & \n",
    "                (F.size(F.array_intersect(F.col(\"maxDoE_names\"), F.array([F.lit(x) for x in diagonal_lof]))) > 0),\n",
    "                F.lit(\"yes\")\n",
    "            ).when((F.col(\"GoF_protect_ch\").isNotNull() & (F.col('LoF_protect_ch').isNull())) & \n",
    "                (F.size(F.array_intersect(F.col(\"maxDoE_names\"), F.array([F.lit(x) for x in diagonal_gof]))) > 0),\n",
    "                F.lit(\"yes\")\n",
    "            ).otherwise(F.lit('no'))\n",
    "        )\n",
    "        # .persist()\n",
    "    )\n",
    "\n",
    "\n",
    "#####\n",
    "## no propag\n",
    "#####\n",
    "print(\"defining full analysis no propagation\")\n",
    "\n",
    "\n",
    "def full_analysis_noPropagation(\n",
    "    doe_columns,assessment_all, analysisDatasources, analysis_chembl, negativeTD, diseaseTA,diagonal_lof,diagonal_gof\n",
    "):\n",
    "    conditions = [\n",
    "    F.when(F.col(c) == F.col(\"maxDoE\"), F.lit(c)).otherwise(F.lit(None)) for c in doe_columns\n",
    "    ]\n",
    "    return (\n",
    "        analysis_nonPropagated(assessment_all, analysisDatasources)\n",
    "        .join(\n",
    "            analysis_chembl.selectExpr(\n",
    "                \"targetId\",\n",
    "                \"diseaseId\",\n",
    "                \"maxClinPhase\",\n",
    "                \"coherencyDiagonal as coherencyDiagonal_ch\",\n",
    "                \"coherencyOneCell as coherencyOneCell_ch\",\n",
    "                \"LoF_protect as LoF_protect_ch\",\n",
    "                \"GoF_protect as GoF_protect_ch\",\n",
    "            ),\n",
    "            on=[\"targetId\", \"diseaseId\"],\n",
    "            how=\"right\",\n",
    "        )\n",
    "        .withColumn(\n",
    "            \"geneticEvidence\",\n",
    "            F.when(\n",
    "                F.col(\"coherencyDiagonal\").isNotNull(), F.lit(\"hasGeneticEvidence\")\n",
    "            ).otherwise(F.lit(\"noGeneticEvidence\")),\n",
    "        )\n",
    "        # .filter(F.col(\"coherencyDiagonal_ch\").isNotNull())\n",
    "        .withColumn(\n",
    "            \"diagonalAgreeWithDrugs\",\n",
    "            F.when(\n",
    "                (F.col(\"coherencyDiagonal_ch\") == \"coherent\")\n",
    "                & (F.col(\"coherencyDiagonal\") == \"coherent\"),\n",
    "                F.when(\n",
    "                    (F.col(\"LoF_protect_ch\").isNotNull())\n",
    "                    & (\n",
    "                        F.col(\"GoF_risk\").isNotNull() | F.col(\"LoF_protect\").isNotNull()\n",
    "                    ),\n",
    "                    F.lit(\"coherent\"),\n",
    "                )\n",
    "                .when(\n",
    "                    F.col(\"GoF_protect_ch\").isNotNull()\n",
    "                    & (\n",
    "                        F.col(\"LoF_risk\").isNotNull() | F.col(\"GoF_protect\").isNotNull()\n",
    "                    ),\n",
    "                    F.lit(\"coherent\"),\n",
    "                )\n",
    "                .otherwise(F.lit(\"dispar\")),\n",
    "            ),\n",
    "        )\n",
    "        .withColumn(\n",
    "            \"oneCellAgreeWithDrugs\",\n",
    "            F.when(\n",
    "                (F.col(\"coherencyOneCell_ch\") == \"coherent\")\n",
    "                & (F.col(\"coherencyOneCell\") == \"coherent\"),\n",
    "                F.when(\n",
    "                    (F.col(\"LoF_protect_ch\").isNotNull())\n",
    "                    & (\n",
    "                        (F.col(\"LoF_protect\").isNotNull())\n",
    "                        & (F.col(\"LoF_risk\").isNull())\n",
    "                        & (F.col(\"GoF_protect\").isNull())\n",
    "                        & (F.col(\"GoF_risk\").isNull())\n",
    "                    ),\n",
    "                    F.lit(\"coherent\"),\n",
    "                )\n",
    "                .when(\n",
    "                    (F.col(\"GoF_protect_ch\").isNotNull())\n",
    "                    & (\n",
    "                        (F.col(\"GoF_protect\").isNotNull())\n",
    "                        & (F.col(\"LoF_risk\").isNull())\n",
    "                        & (F.col(\"LoF_protect\").isNull())\n",
    "                        & (F.col(\"GoF_risk\").isNull())\n",
    "                    ),\n",
    "                    F.lit(\"coherent\"),\n",
    "                )\n",
    "                .otherwise(F.lit(\"dispar\")),\n",
    "            ),\n",
    "        ).withColumn(\n",
    "            \"arrayN\", F.array(*[F.col(c) for c in doe_columns])\n",
    "        ).withColumn(\n",
    "            \"maxDoE\", F.array_max(F.col(\"arrayN\"))\n",
    "        ).withColumn(\"maxDoE_names\", F.array(*conditions)\n",
    "        ).withColumn(\"maxDoE_names\", F.expr(\"filter(maxDoE_names, x -> x is not null)\")\n",
    "        )\n",
    "        .withColumn(\n",
    "            \"Phase4\",\n",
    "            F.when(F.col(\"maxClinPhase\") == 4, F.lit(\"yes\")).otherwise(F.lit(\"no\")),\n",
    "        )\n",
    "        .withColumn(\n",
    "            \"Phase>=3\",\n",
    "            F.when(F.col(\"maxClinPhase\") >= 3, F.lit(\"yes\")).otherwise(F.lit(\"no\")),\n",
    "        )\n",
    "        .withColumn(\n",
    "            \"Phase>=2\",\n",
    "            F.when(F.col(\"maxClinPhase\") >= 2, F.lit(\"yes\")).otherwise(F.lit(\"no\")),\n",
    "        )\n",
    "        .withColumn(\n",
    "            \"Phase>=1\",\n",
    "            F.when(F.col(\"maxClinPhase\") >= 1, F.lit(\"yes\")).otherwise(F.lit(\"no\")),\n",
    "        )\n",
    "        .join(negativeTD, on=[\"targetId\", \"diseaseId\"], how=\"left\")\n",
    "        .withColumn(\n",
    "            \"PhaseT\",\n",
    "            F.when(F.col(\"stopReason\") == \"Negative\", F.lit(\"yes\")).otherwise(F.lit(\"no\")),\n",
    "        )\n",
    "        .join(\n",
    "            diseaseTA.select(\"diseaseId\", \"taLabelSimple\"), on=\"diseaseId\", how=\"left\"\n",
    "        )\n",
    "        .withColumn(\n",
    "            \"hasGeneticEvidence\",\n",
    "            F.when(\n",
    "                F.col(\"geneticEvidence\") == \"hasGeneticEvidence\", F.lit(\"yes\")\n",
    "            ).otherwise(F.lit(\"no\")),\n",
    "        )\n",
    "        .withColumn(\n",
    "            \"diagonalYes\",\n",
    "            F.when(\n",
    "                F.col(\"hasGeneticEvidence\") == \"yes\",\n",
    "                F.when(F.col(\"diagonalAgreeWithDrugs\") == \"coherent\", F.lit(\"yes\"))\n",
    "                .when(F.col(\"diagonalAgreeWithDrugs\") == \"dispar\", F.lit(\"no\"))\n",
    "                .otherwise(F.lit(\"no\")),\n",
    "            ).otherwise(F.lit(\"no\")),\n",
    "        )\n",
    "        .withColumn(\n",
    "            \"oneCellYes\",\n",
    "            F.when(\n",
    "                F.col(\"hasGeneticEvidence\") == \"yes\",\n",
    "                F.when(F.col(\"oneCellAgreeWithDrugs\") == \"coherent\", F.lit(\"yes\"))\n",
    "                .when(F.col(\"oneCellAgreeWithDrugs\") == \"dispar\", F.lit(\"no\"))\n",
    "                .otherwise(F.lit(\"no\")),\n",
    "            ).otherwise(F.lit(\"no\")),\n",
    "        ).withColumn(\n",
    "            \"maxDoEArrayN\",\n",
    "            F.expr(\"aggregate(arrayN, 0, (acc, x) -> acc + IF(x = maxDoE, 1, 0))\")\n",
    "        ).withColumn(\n",
    "            \"NoneCellYes\",\n",
    "            F.when(F.col(\"LoF_protect_ch\").isNotNull() & (F.array_contains(F.col(\"maxDoE_names\"), F.lit(\"LoF_protect\")))==True, F.lit('yes'))\n",
    "            .when(F.col(\"GoF_protect_ch\").isNotNull() & (F.array_contains(F.col(\"maxDoE_names\"), F.lit(\"GoF_protect\")))==True, F.lit('yes')\n",
    "                ).otherwise(F.lit('no'))  # If the value is null, return null # Otherwise, check if name is in array\n",
    "        ).withColumn(\n",
    "            \"NdiagonalYes\",\n",
    "            F.when(F.col(\"LoF_protect_ch\").isNotNull() & \n",
    "                (F.size(F.array_intersect(F.col(\"maxDoE_names\"), F.array([F.lit(x) for x in diagonal_lof]))) > 0),\n",
    "                F.lit(\"yes\")\n",
    "            ).when(F.col(\"GoF_protect_ch\").isNotNull() & \n",
    "                (F.size(F.array_intersect(F.col(\"maxDoE_names\"), F.array([F.lit(x) for x in diagonal_gof]))) > 0),\n",
    "                F.lit(\"yes\")\n",
    "            ).otherwise(F.lit('no'))\n",
    "        )\n",
    "        # .persist()\n",
    "    )\n",
    "\n",
    "print(\"moving to Step 3\")\n",
    "\n",
    "from functions import relative_success, spreadSheetFormatter, convertTuple\n",
    "import re\n",
    "import pandas as pd\n",
    "import numpy as np\n",
    "from scipy.stats import fisher_exact\n",
    "from scipy.stats.contingency import odds_ratio, relative_risk\n",
    "\n",
    "full_data = spark.createDataFrame(\n",
    "    data=[\n",
    "        (\"yes\", \"yes\"),\n",
    "        (\"yes\", \"no\"),\n",
    "        (\"no\", \"yes\"),\n",
    "        (\"no\", \"no\"),\n",
    "    ],\n",
    "    schema=StructType(\n",
    "        [\n",
    "            StructField(\"prediction\", StringType(), True),\n",
    "            StructField(\"comparison\", StringType(), True),\n",
    "        ]\n",
    "    ),\n",
    ")\n",
    "c = datetime.now()\n",
    "print(\"starting dictionaries at\", c)\n",
    "\n",
    "#### continue here on 10.07.2024\n",
    "\n",
    "## 1nd dictionary\n",
    "dfs_dict = {}  ### checked and changed on 01.06.2023\n",
    "dfs_dict_propag = {}\n",
    "\n",
    "\n",
    "wocgc_list = [\n",
    "    \"gene_burden\",\n",
    "    \"intogen\",\n",
    "    \"eva\",\n",
    "    \"eva_somatic\",\n",
    "    \"impc\",\n",
    "    \"orphanet\",\n",
    "    \"gene2phenotype\",\n",
    "    \"gwas_credible_set\",\n",
    "]\n",
    "wCgc_list = [\n",
    "    \"gene_burden\",\n",
    "    \"intogen\",\n",
    "    \"eva\",\n",
    "    \"eva_somatic\",\n",
    "    \"impc\",\n",
    "    \"orphanet\",\n",
    "    \"gene2phenotype\",\n",
    "    \"gwas_credible_set\",\n",
    "    \"cancer_gene_census\",\n",
    "]\n",
    "\n",
    "datasource_list = [\n",
    "    #\"gene_burden\",\n",
    "    #\"intogen\",\n",
    "    #\"cancer_gene_census\",\n",
    "    #\"eva\",\n",
    "    #\"eva_somatic\",\n",
    "    \"gwas_credible_set\",\n",
    "    #\"impc\",\n",
    "    #\"orphanet\",\n",
    "    #\"gene2phenotype\",\n",
    "    #\"WOcgc\",\n",
    "    #\"wCgc\",\n",
    "    \"somatic\",\n",
    "    \"germline\",\n",
    "]\n",
    "\n",
    "germline_list = [\n",
    "    \"gene_burden\",\n",
    "    \"eva\",\n",
    "    \"gwas_credible_set\",\n",
    "    \"impc\",\n",
    "    \"orphanet\",\n",
    "    \"gene2phenotype\",\n",
    "]\n",
    "\n",
    "somatic_list = [\"intogen\", \"cancer_gene_census\", \"eva_somatic\"]\n",
    "\n",
    "\n",
    "# assessment = prueba_assessment.filter(F.col(\"datasourceId\").isin(datasources_analysis))\n",
    "def dataset_builder(assessment_all, value, analysis_chembl, negativeTD, diseaseTA):\n",
    "    nonPropagated = full_analysis_noPropagation(\n",
    "        doe_columns,assessment_all, value, analysis_chembl, negativeTD, diseaseTA,diagonal_lof,diagonal_gof\n",
    "    )\n",
    "    propagated = full_analysis_propagation(\n",
    "        doe_columns,assessment_all, value, analysis_chembl, negativeTD, diseaseTA,diagonal_lof,diagonal_gof\n",
    "    )\n",
    "    return (\n",
    "        # Non propagation\n",
    "        ## All\n",
    "        nonPropagated,\n",
    "        ## Other\n",
    "#        nonPropagated.filter(F.col(\"taLabelSimple\") == \"Other\"),\n",
    "#        ## Other&Null\n",
    "#        nonPropagated.filter(\n",
    "#            (F.col(\"taLabelSimple\").isNull()) | (F.col(\"taLabelSimple\") == \"Other\")\n",
    "#        ),\n",
    "#        ## Oncology\n",
    "#        nonPropagated.filter(F.col(\"taLabelSimple\") == \"Oncology\"),\n",
    "        # Propagation\n",
    "        ## All\n",
    "        propagated,\n",
    "        ## Other\n",
    "#        propagated.filter(F.col(\"taLabelSimple\") == \"Other\"),\n",
    "#        ## Other&Null\n",
    "#        propagated.filter(\n",
    "#            (F.col(\"taLabelSimple\").isNull()) | (F.col(\"taLabelSimple\") == \"Other\")\n",
    "#        ),\n",
    "#        ## Oncology\n",
    "#        propagated.filter(F.col(\"taLabelSimple\") == \"Oncology\"),\n",
    "    )\n",
    "\n",
    "\n",
    "for value in datasource_list:\n",
    "    print(value)\n",
    "    if value == \"WOcgc\":\n",
    "        (\n",
    "            dfs_dict[f\"df_{value}_All_original\"],\n",
    "            dfs_dict[f\"df_{value}_Other_original\"],\n",
    "            dfs_dict[f\"df_{value}_OtherNull_original\"],\n",
    "            dfs_dict[f\"df_{value}_Oncology_original\"],\n",
    "            dfs_dict_propag[f\"df_{value}_All_propag\"],\n",
    "            dfs_dict_propag[f\"df_{value}_Other_propag\"],\n",
    "            dfs_dict_propag[f\"df_{value}_OtherNull_propag\"],\n",
    "            dfs_dict_propag[f\"df_{value}_Oncology_propag\"],\n",
    "        ) = dataset_builder(\n",
    "            assessment_all, wocgc_list, analysis_chembl, negativeTD, diseaseTA\n",
    "        )\n",
    "    elif value == \"wCgc\":\n",
    "        (\n",
    "            dfs_dict[f\"df_{value}_All_original\"],\n",
    "            dfs_dict[f\"df_{value}_Other_original\"],\n",
    "            dfs_dict[f\"df_{value}_OtherNull_original\"],\n",
    "            dfs_dict[f\"df_{value}_Oncology_original\"],\n",
    "            dfs_dict_propag[f\"df_{value}_All_propag\"],\n",
    "            dfs_dict_propag[f\"df_{value}_Other_propag\"],\n",
    "            dfs_dict_propag[f\"df_{value}_OtherNull_propag\"],\n",
    "            dfs_dict_propag[f\"df_{value}_Oncology_propag\"],\n",
    "        ) = dataset_builder(\n",
    "            assessment_all, wCgc_list, analysis_chembl, negativeTD, diseaseTA\n",
    "        )\n",
    "    elif value == \"germline\":\n",
    "        (\n",
    "            dfs_dict[f\"df_{value}_All_original\"],\n",
    "            #dfs_dict[f\"df_{value}_Other_original\"],\n",
    "            #dfs_dict[f\"df_{value}_OtherNull_original\"],\n",
    "            #dfs_dict[f\"df_{value}_Oncology_original\"],\n",
    "            dfs_dict_propag[f\"df_{value}_All_propag\"],\n",
    "            #dfs_dict_propag[f\"df_{value}_Other_propag\"],\n",
    "            #dfs_dict_propag[f\"df_{value}_OtherNull_propag\"],\n",
    "            #dfs_dict_propag[f\"df_{value}_Oncology_propag\"],\n",
    "        ) = dataset_builder(\n",
    "            assessment_all,\n",
    "            germline_list,\n",
    "            analysis_chembl,\n",
    "            negativeTD,\n",
    "            diseaseTA,\n",
    "        )\n",
    "\n",
    "    elif value == \"somatic\":\n",
    "        (\n",
    "            dfs_dict[f\"df_{value}_All_original\"],\n",
    "            #dfs_dict[f\"df_{value}_Other_original\"],\n",
    "            #dfs_dict[f\"df_{value}_OtherNull_original\"],\n",
    "            #dfs_dict[f\"df_{value}_Oncology_original\"],\n",
    "            dfs_dict_propag[f\"df_{value}_All_propag\"],\n",
    "            #dfs_dict_propag[f\"df_{value}_Other_propag\"],\n",
    "            #dfs_dict_propag[f\"df_{value}_OtherNull_propag\"],\n",
    "            #dfs_dict_propag[f\"df_{value}_Oncology_propag\"],\n",
    "        ) = dataset_builder(\n",
    "            assessment_all,\n",
    "            somatic_list,\n",
    "            analysis_chembl,\n",
    "            negativeTD,\n",
    "            diseaseTA,\n",
    "        )\n",
    "\n",
    "    else:\n",
    "        (\n",
    "            dfs_dict[f\"df_{value}_All_original\"],\n",
    "            #dfs_dict[f\"df_{value}_Other_original\"],\n",
    "            #dfs_dict[f\"df_{value}_OtherNull_original\"],\n",
    "            #dfs_dict[f\"df_{value}_Oncology_original\"],\n",
    "            dfs_dict_propag[f\"df_{value}_All_propag\"],\n",
    "            #dfs_dict_propag[f\"df_{value}_Other_propag\"],\n",
    "            #dfs_dict_propag[f\"df_{value}_OtherNull_propag\"],\n",
    "            #dfs_dict_propag[f\"df_{value}_Oncology_propag\"]\n",
    "        ) = dataset_builder(\n",
    "            assessment_all, value, analysis_chembl, negativeTD, diseaseTA\n",
    "        )\n",
    "\n",
    "\n",
    "def comparisons_df() -> list:\n",
    "    \"\"\"Return list of all comparisons to be used in the analysis\"\"\"\n",
    "    comparisons = spark.createDataFrame(\n",
    "        data=[\n",
    "            (\"hasGeneticEvidence\", \"byDatatype\"),\n",
    "            (\"diagonalYes\", \"byDatatype\"),\n",
    "            (\"oneCellYes\", \"byDatatype\"),\n",
    "            (\"NdiagonalYes\", \"byDatatype\"),\n",
    "            (\"NoneCellYes\", \"byDatatype\"),\n",
    "        ],\n",
    "        schema=StructType(\n",
    "            [\n",
    "                StructField(\"comparison\", StringType(), True),\n",
    "                StructField(\"comparisonType\", StringType(), True),\n",
    "            ]\n",
    "        ),\n",
    "    )\n",
    "\n",
    "    predictions = spark.createDataFrame(\n",
    "        data=[\n",
    "            (\"Phase4\", \"clinical\"),\n",
    "            (\"Phase>=3\", \"clinical\"),\n",
    "            (\"Phase>=2\", \"clinical\"),\n",
    "            (\"Phase>=1\", \"clinical\"),\n",
    "            (\"PhaseT\", \"clinical\"),\n",
    "        ]\n",
    "    )\n",
    "    return comparisons.join(predictions, how=\"full\").collect()\n",
    "\n",
    "\n",
    "\n",
    "result = []\n",
    "result_st = []\n",
    "result_ci = []\n",
    "array2 = []\n",
    "results = []\n",
    "\n",
    "\n",
    "def aggregations_original(\n",
    "    df,\n",
    "    data,\n",
    "    listado,\n",
    "    comparisonColumn,\n",
    "    comparisonType,\n",
    "    predictionColumn,\n",
    "    predictionType,\n",
    "    today_date,\n",
    "):\n",
    "\n",
    "    wComparison = Window.partitionBy(comparisonColumn)\n",
    "    wPrediction = Window.partitionBy(predictionColumn)\n",
    "    wPredictionComparison = Window.partitionBy(comparisonColumn, predictionColumn)\n",
    "\n",
    "    uniqIds = df.select(\"targetId\", \"diseaseId\").distinct().count()\n",
    "\n",
    "    out = (\n",
    "        df.withColumn(\"comparisonType\", F.lit(comparisonType))\n",
    "        .withColumn(\"predictionType\", F.lit(predictionType))\n",
    "        .withColumn(\"total\", F.lit(uniqIds))\n",
    "        .withColumn(\"a\", F.count(\"targetId\").over(wPredictionComparison))\n",
    "        .withColumn(\n",
    "            \"predictionTotal\",\n",
    "            F.count(\"targetId\").over(wPrediction),\n",
    "        )\n",
    "        .withColumn(\n",
    "            \"comparisonTotal\",\n",
    "            F.count(\"targetId\").over(wComparison),\n",
    "        )\n",
    "        .select(\n",
    "            F.col(predictionColumn).alias(\"prediction\"),\n",
    "            F.col(comparisonColumn).alias(\"comparison\"),\n",
    "            \"comparisonType\",\n",
    "            \"predictionType\",\n",
    "            \"a\",\n",
    "            \"predictionTotal\",\n",
    "            \"comparisonTotal\",\n",
    "            \"total\",\n",
    "        )\n",
    "        .filter(F.col(\"prediction\").isNotNull())\n",
    "        .filter(F.col(\"comparison\").isNotNull())\n",
    "        .distinct()\n",
    "    )\n",
    "\n",
    "    out.write.mode(\"overwrite\").parquet(\n",
    "        \"gs://ot-team/jroldan/\"\n",
    "        + str(\n",
    "            today_date\n",
    "            + \"_\"\n",
    "            + \"analysis/\"\n",
    "            + data\n",
    "            # + \"_propagated\"\n",
    "            + \"/\"\n",
    "            + comparisonColumn\n",
    "            + \"_\"\n",
    "            + predictionColumn\n",
    "            + \".parquet\"\n",
    "        )\n",
    "    )\n",
    "\n",
    "    filePath = \"gs://ot-team/jroldan/\" + str(\n",
    "        today_date\n",
    "        + \"_\"\n",
    "        + \"analysis/\"\n",
    "        + data\n",
    "        # + \"_propagated\"\n",
    "        + \"/\"\n",
    "        + comparisonColumn\n",
    "        + \"_\"\n",
    "        + predictionColumn\n",
    "        + \".parquet\"\n",
    "    )\n",
    "    listado.append(\n",
    "        \"gs://ot-team/jroldan/\"\n",
    "        + str(\n",
    "            today_date\n",
    "            + \"_\"\n",
    "            + \"analysis/\"\n",
    "            + data\n",
    "            # + \"_propagated\"\n",
    "            + \"/\"\n",
    "            + comparisonColumn\n",
    "            + \"_\"\n",
    "            + predictionColumn\n",
    "            + \".parquet\"\n",
    "        )\n",
    "    )\n",
    "    print(\n",
    "        today_date\n",
    "        + \"_\"\n",
    "        + \"analysis/\"\n",
    "        + data\n",
    "        # + \"_propagated\"\n",
    "        + \"/\"\n",
    "        + comparisonColumn\n",
    "        + \"_\"\n",
    "        + predictionColumn\n",
    "        + \".parquet\"\n",
    "    )\n",
    "    c = datetime.now()\n",
    "    c.strftime(\"%H:%M:%S\")\n",
    "    print(c)\n",
    "\n",
    "    array1 = np.delete(\n",
    "        out.join(full_data, on=[\"prediction\", \"comparison\"], how=\"outer\")\n",
    "        .groupBy(\"comparison\")\n",
    "        .pivot(\"prediction\")\n",
    "        .agg(F.first(\"a\"))\n",
    "        .sort(F.col(\"comparison\").desc())\n",
    "        .select(\"comparison\", \"yes\", \"no\")\n",
    "        .fillna(0)\n",
    "        .toPandas()\n",
    "        .to_numpy(),\n",
    "        [0],\n",
    "        1,\n",
    "    )\n",
    "    total = np.sum(array1)\n",
    "    res_npPhaseX = np.array(array1, dtype=int)\n",
    "    resX = convertTuple(fisher_exact(res_npPhaseX, alternative=\"two-sided\"))\n",
    "    resx_CI = convertTuple(\n",
    "        odds_ratio(res_npPhaseX).confidence_interval(confidence_level=0.95)\n",
    "    )\n",
    "\n",
    "    result_st.append(resX)\n",
    "    result_ci.append(resx_CI)\n",
    "    (rs_result, rs_ci) = relative_success(array1)\n",
    "\n",
    "    results.append(\n",
    "        [\n",
    "            data,\n",
    "            comparisonColumn,\n",
    "            predictionColumn,\n",
    "            round(float(resX.split(\",\")[0]), 2),\n",
    "            float(resX.split(\",\")[1]),\n",
    "            round(float(resx_CI.split(\",\")[0]), 2),\n",
    "            round(float(resx_CI.split(\",\")[1]), 2),\n",
    "            str(total),\n",
    "            np.array(res_npPhaseX).tolist(),\n",
    "            round(float(rs_result), 2),\n",
    "            round(float(rs_ci[0]), 2),\n",
    "            round(float(rs_ci[1]), 2),\n",
    "            filePath,\n",
    "        ]\n",
    "    )\n",
    "    return results\n",
    "\n",
    "\n",
    "c = datetime.now()\n",
    "print(\"start doing aggregations and writing\")\n",
    "today_date = str(date.today())\n",
    "aggSetups_original = comparisons_df()\n",
    "listado = []\n",
    "results = []\n",
    "\n",
    "\n",
    "print(\"starting with non-propagated aggregations at\", c)\n",
    "#for key, df in islice(dfs_dict.items(), 1): ## for debugging\n",
    "for key, df in dfs_dict.items():\n",
    "    df = df.persist()\n",
    "    for row in aggSetups_original:\n",
    "        aggregations_original(df, key, listado, *row, today_date)\n",
    "    df.unpersist()\n",
    "    print(key + \" df unpersisted\")\n",
    "\n",
    "print(\"non propagated files wroten succesfully at\", c)\n",
    "\n",
    "\n",
    "print(\"starting with propagated aggregations at\", c)\n",
    "#for key, df in islice(dfs_dict_propag.items(), 1): ## for debugging\n",
    "for key, df in dfs_dict_propag.items():\n",
    "    df = df.persist()\n",
    "    for row in aggSetups_original:\n",
    "        aggregations_original(df, key, listado, *row, today_date)\n",
    "    df.unpersist()\n",
    "    print(key + \" df unpersisted\")\n",
    "\n",
    "print(\"propagated files wroten succesfully at\", c)\n",
    "\n",
    "\n",
    "print(\"creating pandas dataframe with resulting rows\")\n",
    "df_results = pd.DataFrame(\n",
    "    results,\n",
    "    columns=[\n",
    "        \"group\",\n",
    "        \"comparison\",\n",
    "        \"phase\",\n",
    "        \"OR\",\n",
    "        \"pValue\",\n",
    "        \"LowCI\",\n",
    "        \"HighCI\",\n",
    "        \"total\",\n",
    "        \"array\",\n",
    "        \"rs\",\n",
    "        \"lowRs\",\n",
    "        \"HighRs\",\n",
    "        \"path\",\n",
    "    ],\n",
    ")\n",
    "print(\"created pandas dataframe\")\n",
    "print(\"converting to spark dataframe\")\n",
    "print(\"preparing dataframe\")\n",
    "\n",
    "schema = StructType(\n",
    "    [\n",
    "        StructField(\"group\", StringType(), True),\n",
    "        StructField(\"comparison\", StringType(), True),\n",
    "        StructField(\"phase\", StringType(), True),\n",
    "        StructField(\"oddsRatio\", DoubleType(), True),\n",
    "        StructField(\"pValue\", DoubleType(), True),\n",
    "        StructField(\"lowerInterval\", DoubleType(), True),\n",
    "        StructField(\"upperInterval\", DoubleType(), True),\n",
    "        StructField(\"total\", StringType(), True),\n",
    "        StructField(\"values\", ArrayType(ArrayType(IntegerType())), True),\n",
    "        StructField(\"relSuccess\", DoubleType(), True),\n",
    "        StructField(\"rsLower\", DoubleType(), True),\n",
    "        StructField(\"rsUpper\", DoubleType(), True),\n",
    "        StructField(\"path\", StringType(), True),\n",
    "    ]\n",
    ")\n",
    "\n",
    "print(\"read pattern variables\")\n",
    "df = spreadSheetFormatter(spark.createDataFrame(df_results, schema=schema))\n",
    "print(\"processed spreadsheet\")\n",
    "print(\"writting the dataframe\")\n",
    "\n",
    "# Convert list of lists to DataFrame\n",
    "# Regular expressions\n",
    "    \n",
    "value_pattern = r\"df_([^_]+)_\"  # Extracts {value}\n",
    "middle_pattern = r\"df_[^_]+_([^_]+)_\"  # Extracts middle part (All, Other, etc.)\n",
    "suffix_pattern = r\"(original|propag)$\"  # Extracts suffix (original or propag)\n",
    "\n",
    "df.withColumn(\n",
    "    \"datasource\",\n",
    "    F.regexp_extract(F.col(\"group\"), r\"df_(.*?)_(All|Other|OtherNull|Oncology)_(propag|original)\", 1)\n",
    ").withColumn(\n",
    "    \"therArea\",\n",
    "    F.regexp_extract(F.col(\"group\"), r\"_(All|Other|OtherNull|Oncology)_\", 1)\n",
    ").withColumn(\n",
    "    \"type\",\n",
    "    F.regexp_extract(F.col(\"group\"), r\"_(propag|original)$\", 1)\n",
    ").toPandas().to_csv(\n",
    "    f\"gs://ot-team/jroldan/analysis/{today_date}_genEvidAnalysis_new_rightJoin.csv\"\n",
    ")\n",
    "\n",
    "print(\"dataframe written \\n Analysis finished\")\n"
   ]
  },
  {
   "cell_type": "code",
   "execution_count": 13,
   "metadata": {},
   "outputs": [
    {
     "name": "stdout",
     "output_type": "stream",
     "text": [
      "creating pandas dataframe with resulting rows\n",
      "created pandas dataframe\n",
      "converting to spark dataframe\n",
      "preparing dataframe\n",
      "read pattern variables\n",
      "importing functions\n",
      "imported functions\n",
      "processed spreadsheet\n",
      "writting the dataframe\n",
      "dataframe written \n",
      " Analysis finished\n"
     ]
    }
   ],
   "source": [
    "\n",
    "print(\"creating pandas dataframe with resulting rows\")\n",
    "df_results = pd.DataFrame(\n",
    "    results,\n",
    "    columns=[\n",
    "        \"group\",\n",
    "        \"comparison\",\n",
    "        \"phase\",\n",
    "        \"OR\",\n",
    "        \"pValue\",\n",
    "        \"LowCI\",\n",
    "        \"HighCI\",\n",
    "        \"total\",\n",
    "        \"array\",\n",
    "        \"rs\",\n",
    "        \"lowRs\",\n",
    "        \"HighRs\",\n",
    "        \"path\",\n",
    "    ],\n",
    ")\n",
    "print(\"created pandas dataframe\")\n",
    "print(\"converting to spark dataframe\")\n",
    "print(\"preparing dataframe\")\n",
    "\n",
    "schema = StructType(\n",
    "    [\n",
    "        StructField(\"group\", StringType(), True),\n",
    "        StructField(\"comparison\", StringType(), True),\n",
    "        StructField(\"phase\", StringType(), True),\n",
    "        StructField(\"oddsRatio\", DoubleType(), True),\n",
    "        StructField(\"pValue\", DoubleType(), True),\n",
    "        StructField(\"lowerInterval\", DoubleType(), True),\n",
    "        StructField(\"upperInterval\", DoubleType(), True),\n",
    "        StructField(\"total\", StringType(), True),\n",
    "        StructField(\"values\", ArrayType(ArrayType(IntegerType())), True),\n",
    "        StructField(\"relSuccess\", DoubleType(), True),\n",
    "        StructField(\"rsLower\", DoubleType(), True),\n",
    "        StructField(\"rsUpper\", DoubleType(), True),\n",
    "        StructField(\"path\", StringType(), True),\n",
    "    ]\n",
    ")\n",
    "\n",
    "print(\"read pattern variables\")\n",
    "df = spreadSheetFormatter(spark.createDataFrame(df_results, schema=schema))\n",
    "print(\"processed spreadsheet\")\n",
    "print(\"writting the dataframe\")\n",
    "\n",
    "# Convert list of lists to DataFrame\n",
    "# Regular expressions\n",
    "    \n",
    "value_pattern = r\"df_([^_]+)_\"  # Extracts {value}\n",
    "middle_pattern = r\"df_[^_]+_([^_]+)_\"  # Extracts middle part (All, Other, etc.)\n",
    "suffix_pattern = r\"(original|propag)$\"  # Extracts suffix (original or propag)\n",
    "\n",
    "df.withColumn(\n",
    "    \"datasource\",\n",
    "    F.regexp_extract(F.col(\"group\"), r\"df_(.*?)_(All|Other|OtherNull|Oncology)_(propag|original)\", 1)\n",
    ").withColumn(\n",
    "    \"therArea\",\n",
    "    F.regexp_extract(F.col(\"group\"), r\"_(All|Other|OtherNull|Oncology)_\", 1)\n",
    ").withColumn(\n",
    "    \"type\",\n",
    "    F.regexp_extract(F.col(\"group\"), r\"_(propag|original)$\", 1)\n",
    ").toPandas().to_csv(\n",
    "    f\"gs://ot-team/jroldan/analysis/{today_date}_genEvidAnalysis_new.csv\"\n",
    ")\n",
    "\n",
    "print(\"dataframe written \\n Analysis finished\")\n"
   ]
  },
  {
   "cell_type": "code",
   "execution_count": 7,
   "metadata": {},
   "outputs": [
    {
     "name": "stdout",
     "output_type": "stream",
     "text": [
      "loaded files\n",
      "load comparisons_df_iterative function\n",
      "created full_data and lists\n",
      "loaded rightTissue dataset\n",
      "built negativeTD dataset\n",
      "built bench2 dataset\n",
      "looping for variables_study\n",
      "read benchmark\n",
      "Collecting combined distinct values from the cluster...\n"
     ]
    },
    {
     "name": "stderr",
     "output_type": "stream",
     "text": [
      "                                                                                ]\r"
     ]
    },
    {
     "name": "stdout",
     "output_type": "stream",
     "text": [
      "\n",
      "Final disdic: {'Fairfax_2014': 'projectId', 'Walker_2019': 'projectId', 'Sun_2018': 'projectId', 'HipSci': 'projectId', 'van_de_Bunt_2015': 'projectId', 'Nedelec_2016': 'projectId', 'BrainSeq': 'projectId', 'Aygun_2021': 'projectId', 'GEUVADIS': 'projectId', 'OneK1K': 'projectId', 'Kim-Hellmuth_2017': 'projectId', 'GTEx': 'projectId', 'Schmiedel_2018': 'projectId', 'Young_2019': 'projectId', 'Lepik_2017': 'projectId', 'Schwartzentruber_2018': 'projectId', 'Peng_2018': 'projectId', 'Bossini-Castillo_2019': 'projectId', 'CEDAR': 'projectId', 'ROSMAP': 'projectId', 'Braineac2': 'projectId', 'BLUEPRINT': 'projectId', 'TwinsUK': 'projectId', 'UKB_PPP_EUR': 'projectId', 'Alasoo_2018': 'projectId', 'FUSION': 'projectId', 'Perez_2022': 'projectId', 'Cytoimmgen': 'projectId', 'Quach_2016': 'projectId', 'iPSCORE': 'projectId', 'CommonMind': 'projectId', 'PhLiPS': 'projectId', 'GENCORD': 'projectId', 'CAP': 'projectId', 'PISA': 'projectId', 'Jerber_2021': 'projectId', 'Fairfax_2012': 'projectId', 'Kasela_2017': 'projectId', 'CD14-low, CD16-positive monocyte': 'biosampleName', 'microglial cell': 'biosampleName', 'skeletal muscle tissue': 'biosampleName', 'CD4-positive, alpha-beta T cell': 'biosampleName', 'cerebellum': 'biosampleName', 'suprapubic skin': 'biosampleName', 'tibial nerve': 'biosampleName', 'upper lobe of left lung': 'biosampleName', 'prostate gland': 'biosampleName', 'sensory neuron': 'biosampleName', 'placenta': 'biosampleName', 'neutrophil': 'biosampleName', 'gastroesophageal sphincter': 'biosampleName', 'T-helper 17 cell': 'biosampleName', \"Ammon's horn\": 'biosampleName', 'T cell': 'biosampleName', \"Peyer's patch\": 'biosampleName', 'anterior lingual gland': 'biosampleName', 'ascending aorta': 'biosampleName', 'amygdala': 'biosampleName', 'transverse colon': 'biosampleName', 'islet of Langerhans': 'biosampleName', 'induced pluripotent stem cell': 'biosampleName', 'adipose tissue': 'biosampleName', 'substantia nigra': 'biosampleName', 'right atrium auricular region': 'biosampleName', 'blood plasma': 'biosampleName', 'nucleus accumbens': 'biosampleName', 'lymphoblastoid cell line': 'biosampleName', 'CD14-positive, CD16-negative classical monocyte': 'biosampleName', 'sigmoid colon': 'biosampleName', 'T-helper 1 cell': 'biosampleName', 'neural progenitor cell': 'biosampleName', 'stomach': 'biosampleName', 'caudate nucleus': 'biosampleName', 'thyroid gland': 'biosampleName', 'left ventricle myocardium': 'biosampleName', 'breast epithelium': 'biosampleName', 'uterus': 'biosampleName', 'C1 segment of cervical spinal cord': 'biosampleName', 'B cell': 'biosampleName', 'macrophage': 'biosampleName', 'ovary': 'biosampleName', 'frontal cortex': 'biosampleName', 'fibroblast': 'biosampleName', 'right lobe of liver': 'biosampleName', 'spleen': 'biosampleName', 'hypothalamus': 'biosampleName', 'CD8-positive, alpha-beta T cell': 'biosampleName', 'esophagus muscularis mucosa': 'biosampleName', 'memory regulatory T cell': 'biosampleName', 'vagina': 'biosampleName', 'cortex of kidney': 'biosampleName', 'body of pancreas': 'biosampleName', 'pituitary gland': 'biosampleName', 'dorsolateral prefrontal cortex': 'biosampleName', 'central memory CD4-positive, alpha-beta T cell': 'biosampleName', 'omental fat pad': 'biosampleName', 'esophagus squamous epithelium': 'biosampleName', 'hepatocyte': 'biosampleName', 'adrenal gland': 'biosampleName', 'tibial artery': 'biosampleName', 'anterior cingulate cortex': 'biosampleName', 'naive regulatory T cell': 'biosampleName', 'putamen': 'biosampleName', 'neocortex': 'biosampleName', 'blood': 'biosampleName', 'testis': 'biosampleName', 'skin of body': 'biosampleName', 'coronary artery': 'biosampleName', 'T follicular helper cell': 'biosampleName', 'floor plate': 'biosampleName', 'T-helper 2 cell': 'biosampleName', 'tuqtl': 'rightStudyType', 'sqtl': 'rightStudyType', 'pqtl': 'rightStudyType', 'eqtl': 'rightStudyType', 'sceqtl': 'rightStudyType', 'GoF_protect': 'colocDoE', 'LoF_protect': 'colocDoE', 'eCAVIAR': 'colocalisationMethod', 'COLOC': 'colocalisationMethod'}\n",
      "DataFrame successfully read and saved as pivoted_dfs[projectId]\n",
      "DataFrame successfully read and saved as pivoted_dfs[biosampleName]\n"
     ]
    },
    {
     "name": "stderr",
     "output_type": "stream",
     "text": [
      "                                                                                \r"
     ]
    },
    {
     "name": "stdout",
     "output_type": "stream",
     "text": [
      "DataFrame successfully read and saved as pivoted_dfs[rightStudyType]\n",
      "DataFrame successfully read and saved as pivoted_dfs[colocDoE]\n",
      "DataFrame successfully read and saved as pivoted_dfs[colocalisationMethod]\n",
      "working with projectId\n"
     ]
    },
    {
     "name": "stderr",
     "output_type": "stream",
     "text": [
      "                                                                                \r"
     ]
    },
    {
     "name": "stdout",
     "output_type": "stream",
     "text": [
      "There are  38 columns to analyse with phases\n"
     ]
    },
    {
     "name": "stderr",
     "output_type": "stream",
     "text": [
      "                                                                                \r"
     ]
    },
    {
     "name": "stdout",
     "output_type": "stream",
     "text": [
      "gs://ot-team/jroldan/2025-06-18_analysis/propagated/HipSci_only_predictor_Phase>=4.parquet\n"
     ]
    },
    {
     "name": "stderr",
     "output_type": "stream",
     "text": [
      "                                                                                \r"
     ]
    },
    {
     "name": "stdout",
     "output_type": "stream",
     "text": [
      "gs://ot-team/jroldan/2025-06-18_analysis/propagated/HipSci_only_predictor_Phase>=3.parquet\n"
     ]
    },
    {
     "name": "stderr",
     "output_type": "stream",
     "text": [
      "                                                                                \r"
     ]
    },
    {
     "name": "stdout",
     "output_type": "stream",
     "text": [
      "gs://ot-team/jroldan/2025-06-18_analysis/propagated/HipSci_only_predictor_Phase>=2.parquet\n"
     ]
    },
    {
     "name": "stderr",
     "output_type": "stream",
     "text": [
      "                                                                                \r"
     ]
    },
    {
     "name": "stdout",
     "output_type": "stream",
     "text": [
      "gs://ot-team/jroldan/2025-06-18_analysis/propagated/HipSci_only_predictor_Phase>=1.parquet\n"
     ]
    },
    {
     "name": "stderr",
     "output_type": "stream",
     "text": [
      "                                                                                \r"
     ]
    },
    {
     "name": "stdout",
     "output_type": "stream",
     "text": [
      "gs://ot-team/jroldan/2025-06-18_analysis/propagated/HipSci_only_predictor_PhaseT.parquet\n"
     ]
    },
    {
     "name": "stderr",
     "output_type": "stream",
     "text": [
      "                                                                                \r"
     ]
    },
    {
     "name": "stdout",
     "output_type": "stream",
     "text": [
      "gs://ot-team/jroldan/2025-06-18_analysis/propagated/Nedelec_2016_only_predictor_Phase>=4.parquet\n"
     ]
    },
    {
     "name": "stderr",
     "output_type": "stream",
     "text": [
      "                                                                                \r"
     ]
    },
    {
     "name": "stdout",
     "output_type": "stream",
     "text": [
      "gs://ot-team/jroldan/2025-06-18_analysis/propagated/Nedelec_2016_only_predictor_Phase>=3.parquet\n"
     ]
    },
    {
     "name": "stderr",
     "output_type": "stream",
     "text": [
      "                                                                                \r"
     ]
    },
    {
     "name": "stdout",
     "output_type": "stream",
     "text": [
      "gs://ot-team/jroldan/2025-06-18_analysis/propagated/Nedelec_2016_only_predictor_Phase>=2.parquet\n"
     ]
    },
    {
     "name": "stderr",
     "output_type": "stream",
     "text": [
      "                                                                                \r"
     ]
    },
    {
     "name": "stdout",
     "output_type": "stream",
     "text": [
      "gs://ot-team/jroldan/2025-06-18_analysis/propagated/Nedelec_2016_only_predictor_Phase>=1.parquet\n"
     ]
    },
    {
     "name": "stderr",
     "output_type": "stream",
     "text": [
      "                                                                                \r"
     ]
    },
    {
     "name": "stdout",
     "output_type": "stream",
     "text": [
      "gs://ot-team/jroldan/2025-06-18_analysis/propagated/Nedelec_2016_only_predictor_PhaseT.parquet\n",
      "gs://ot-team/jroldan/2025-06-18_analysis/propagated/GTEx_only_predictor_Phase>=4.parquet\n"
     ]
    },
    {
     "name": "stderr",
     "output_type": "stream",
     "text": [
      "                                                                                \r"
     ]
    },
    {
     "name": "stdout",
     "output_type": "stream",
     "text": [
      "gs://ot-team/jroldan/2025-06-18_analysis/propagated/GTEx_only_predictor_Phase>=3.parquet\n"
     ]
    },
    {
     "name": "stderr",
     "output_type": "stream",
     "text": [
      "                                                                                \r"
     ]
    },
    {
     "name": "stdout",
     "output_type": "stream",
     "text": [
      "gs://ot-team/jroldan/2025-06-18_analysis/propagated/GTEx_only_predictor_Phase>=2.parquet\n",
      "gs://ot-team/jroldan/2025-06-18_analysis/propagated/GTEx_only_predictor_Phase>=1.parquet\n",
      "gs://ot-team/jroldan/2025-06-18_analysis/propagated/GTEx_only_predictor_PhaseT.parquet\n"
     ]
    },
    {
     "name": "stderr",
     "output_type": "stream",
     "text": [
      "                                                                                \r"
     ]
    },
    {
     "name": "stdout",
     "output_type": "stream",
     "text": [
      "gs://ot-team/jroldan/2025-06-18_analysis/propagated/Schmiedel_2018_only_predictor_Phase>=4.parquet\n",
      "gs://ot-team/jroldan/2025-06-18_analysis/propagated/Schmiedel_2018_only_predictor_Phase>=3.parquet\n",
      "gs://ot-team/jroldan/2025-06-18_analysis/propagated/Schmiedel_2018_only_predictor_Phase>=2.parquet\n"
     ]
    },
    {
     "name": "stderr",
     "output_type": "stream",
     "text": [
      "                                                                                \r"
     ]
    },
    {
     "name": "stdout",
     "output_type": "stream",
     "text": [
      "gs://ot-team/jroldan/2025-06-18_analysis/propagated/Schmiedel_2018_only_predictor_Phase>=1.parquet\n"
     ]
    },
    {
     "name": "stderr",
     "output_type": "stream",
     "text": [
      "                                                                                \r"
     ]
    },
    {
     "name": "stdout",
     "output_type": "stream",
     "text": [
      "gs://ot-team/jroldan/2025-06-18_analysis/propagated/Schmiedel_2018_only_predictor_PhaseT.parquet\n"
     ]
    },
    {
     "name": "stderr",
     "output_type": "stream",
     "text": [
      "                                                                                \r"
     ]
    },
    {
     "name": "stdout",
     "output_type": "stream",
     "text": [
      "gs://ot-team/jroldan/2025-06-18_analysis/propagated/Jerber_2021_only_predictor_Phase>=4.parquet\n"
     ]
    },
    {
     "name": "stderr",
     "output_type": "stream",
     "text": [
      "                                                                                \r"
     ]
    },
    {
     "name": "stdout",
     "output_type": "stream",
     "text": [
      "gs://ot-team/jroldan/2025-06-18_analysis/propagated/Jerber_2021_only_predictor_Phase>=3.parquet\n"
     ]
    },
    {
     "name": "stderr",
     "output_type": "stream",
     "text": [
      "                                                                                \r"
     ]
    },
    {
     "name": "stdout",
     "output_type": "stream",
     "text": [
      "gs://ot-team/jroldan/2025-06-18_analysis/propagated/Jerber_2021_only_predictor_Phase>=2.parquet\n"
     ]
    },
    {
     "name": "stderr",
     "output_type": "stream",
     "text": [
      "                                                                                \r"
     ]
    },
    {
     "name": "stdout",
     "output_type": "stream",
     "text": [
      "gs://ot-team/jroldan/2025-06-18_analysis/propagated/Jerber_2021_only_predictor_Phase>=1.parquet\n"
     ]
    },
    {
     "name": "stderr",
     "output_type": "stream",
     "text": [
      "                                                                                \r"
     ]
    },
    {
     "name": "stdout",
     "output_type": "stream",
     "text": [
      "gs://ot-team/jroldan/2025-06-18_analysis/propagated/Jerber_2021_only_predictor_PhaseT.parquet\n"
     ]
    },
    {
     "name": "stderr",
     "output_type": "stream",
     "text": [
      "                                                                                \r"
     ]
    },
    {
     "name": "stdout",
     "output_type": "stream",
     "text": [
      "gs://ot-team/jroldan/2025-06-18_analysis/propagated/BLUEPRINT_only_predictor_Phase>=4.parquet\n"
     ]
    },
    {
     "name": "stderr",
     "output_type": "stream",
     "text": [
      "                                                                                \r"
     ]
    },
    {
     "name": "stdout",
     "output_type": "stream",
     "text": [
      "gs://ot-team/jroldan/2025-06-18_analysis/propagated/BLUEPRINT_only_predictor_Phase>=3.parquet\n"
     ]
    },
    {
     "name": "stderr",
     "output_type": "stream",
     "text": [
      "                                                                                \r"
     ]
    },
    {
     "name": "stdout",
     "output_type": "stream",
     "text": [
      "gs://ot-team/jroldan/2025-06-18_analysis/propagated/BLUEPRINT_only_predictor_Phase>=2.parquet\n"
     ]
    },
    {
     "name": "stderr",
     "output_type": "stream",
     "text": [
      "                                                                                \r"
     ]
    },
    {
     "name": "stdout",
     "output_type": "stream",
     "text": [
      "gs://ot-team/jroldan/2025-06-18_analysis/propagated/BLUEPRINT_only_predictor_Phase>=1.parquet\n"
     ]
    },
    {
     "name": "stderr",
     "output_type": "stream",
     "text": [
      "                                                                                \r"
     ]
    },
    {
     "name": "stdout",
     "output_type": "stream",
     "text": [
      "gs://ot-team/jroldan/2025-06-18_analysis/propagated/BLUEPRINT_only_predictor_PhaseT.parquet\n",
      "gs://ot-team/jroldan/2025-06-18_analysis/propagated/Quach_2016_only_predictor_Phase>=4.parquet\n"
     ]
    },
    {
     "name": "stderr",
     "output_type": "stream",
     "text": [
      "                                                                                \r"
     ]
    },
    {
     "name": "stdout",
     "output_type": "stream",
     "text": [
      "gs://ot-team/jroldan/2025-06-18_analysis/propagated/Quach_2016_only_predictor_Phase>=3.parquet\n",
      "gs://ot-team/jroldan/2025-06-18_analysis/propagated/Quach_2016_only_predictor_Phase>=2.parquet\n"
     ]
    },
    {
     "name": "stderr",
     "output_type": "stream",
     "text": [
      "                                                                                \r"
     ]
    },
    {
     "name": "stdout",
     "output_type": "stream",
     "text": [
      "gs://ot-team/jroldan/2025-06-18_analysis/propagated/Quach_2016_only_predictor_Phase>=1.parquet\n"
     ]
    },
    {
     "name": "stderr",
     "output_type": "stream",
     "text": [
      "                                                                                \r"
     ]
    },
    {
     "name": "stdout",
     "output_type": "stream",
     "text": [
      "gs://ot-team/jroldan/2025-06-18_analysis/propagated/Quach_2016_only_predictor_PhaseT.parquet\n"
     ]
    },
    {
     "name": "stderr",
     "output_type": "stream",
     "text": [
      "                                                                                \r"
     ]
    },
    {
     "name": "stdout",
     "output_type": "stream",
     "text": [
      "gs://ot-team/jroldan/2025-06-18_analysis/propagated/BrainSeq_only_predictor_Phase>=4.parquet\n"
     ]
    },
    {
     "name": "stderr",
     "output_type": "stream",
     "text": [
      "                                                                                \r"
     ]
    },
    {
     "name": "stdout",
     "output_type": "stream",
     "text": [
      "gs://ot-team/jroldan/2025-06-18_analysis/propagated/BrainSeq_only_predictor_Phase>=3.parquet\n"
     ]
    },
    {
     "name": "stderr",
     "output_type": "stream",
     "text": [
      "                                                                                \r"
     ]
    },
    {
     "name": "stdout",
     "output_type": "stream",
     "text": [
      "gs://ot-team/jroldan/2025-06-18_analysis/propagated/BrainSeq_only_predictor_Phase>=2.parquet\n"
     ]
    },
    {
     "name": "stderr",
     "output_type": "stream",
     "text": [
      "                                                                                \r"
     ]
    },
    {
     "name": "stdout",
     "output_type": "stream",
     "text": [
      "gs://ot-team/jroldan/2025-06-18_analysis/propagated/BrainSeq_only_predictor_Phase>=1.parquet\n"
     ]
    },
    {
     "name": "stderr",
     "output_type": "stream",
     "text": [
      "                                                                                \r"
     ]
    },
    {
     "name": "stdout",
     "output_type": "stream",
     "text": [
      "gs://ot-team/jroldan/2025-06-18_analysis/propagated/BrainSeq_only_predictor_PhaseT.parquet\n"
     ]
    },
    {
     "name": "stderr",
     "output_type": "stream",
     "text": [
      "                                                                                \r"
     ]
    },
    {
     "name": "stdout",
     "output_type": "stream",
     "text": [
      "gs://ot-team/jroldan/2025-06-18_analysis/propagated/UKB_PPP_EUR_only_predictor_Phase>=4.parquet\n"
     ]
    },
    {
     "name": "stderr",
     "output_type": "stream",
     "text": [
      "                                                                                \r"
     ]
    },
    {
     "name": "stdout",
     "output_type": "stream",
     "text": [
      "gs://ot-team/jroldan/2025-06-18_analysis/propagated/UKB_PPP_EUR_only_predictor_Phase>=3.parquet\n"
     ]
    },
    {
     "name": "stderr",
     "output_type": "stream",
     "text": [
      "                                                                                \r"
     ]
    },
    {
     "name": "stdout",
     "output_type": "stream",
     "text": [
      "gs://ot-team/jroldan/2025-06-18_analysis/propagated/UKB_PPP_EUR_only_predictor_Phase>=2.parquet\n",
      "gs://ot-team/jroldan/2025-06-18_analysis/propagated/UKB_PPP_EUR_only_predictor_Phase>=1.parquet\n"
     ]
    },
    {
     "name": "stderr",
     "output_type": "stream",
     "text": [
      "                                                                                \r"
     ]
    },
    {
     "name": "stdout",
     "output_type": "stream",
     "text": [
      "gs://ot-team/jroldan/2025-06-18_analysis/propagated/UKB_PPP_EUR_only_predictor_PhaseT.parquet\n"
     ]
    },
    {
     "name": "stderr",
     "output_type": "stream",
     "text": [
      "                                                                                \r"
     ]
    },
    {
     "name": "stdout",
     "output_type": "stream",
     "text": [
      "gs://ot-team/jroldan/2025-06-18_analysis/propagated/FUSION_only_predictor_Phase>=4.parquet\n"
     ]
    },
    {
     "name": "stderr",
     "output_type": "stream",
     "text": [
      "                                                                                \r"
     ]
    },
    {
     "name": "stdout",
     "output_type": "stream",
     "text": [
      "gs://ot-team/jroldan/2025-06-18_analysis/propagated/FUSION_only_predictor_Phase>=3.parquet\n"
     ]
    },
    {
     "name": "stderr",
     "output_type": "stream",
     "text": [
      "                                                                                \r"
     ]
    },
    {
     "name": "stdout",
     "output_type": "stream",
     "text": [
      "gs://ot-team/jroldan/2025-06-18_analysis/propagated/FUSION_only_predictor_Phase>=2.parquet\n"
     ]
    },
    {
     "name": "stderr",
     "output_type": "stream",
     "text": [
      "                                                                                \r"
     ]
    },
    {
     "name": "stdout",
     "output_type": "stream",
     "text": [
      "gs://ot-team/jroldan/2025-06-18_analysis/propagated/FUSION_only_predictor_Phase>=1.parquet\n",
      "gs://ot-team/jroldan/2025-06-18_analysis/propagated/FUSION_only_predictor_PhaseT.parquet\n",
      "gs://ot-team/jroldan/2025-06-18_analysis/propagated/Sun_2018_only_predictor_Phase>=4.parquet\n"
     ]
    },
    {
     "name": "stderr",
     "output_type": "stream",
     "text": [
      "                                                                                \r"
     ]
    },
    {
     "name": "stdout",
     "output_type": "stream",
     "text": [
      "gs://ot-team/jroldan/2025-06-18_analysis/propagated/Sun_2018_only_predictor_Phase>=3.parquet\n",
      "gs://ot-team/jroldan/2025-06-18_analysis/propagated/Sun_2018_only_predictor_Phase>=2.parquet\n",
      "gs://ot-team/jroldan/2025-06-18_analysis/propagated/Sun_2018_only_predictor_Phase>=1.parquet\n"
     ]
    },
    {
     "name": "stderr",
     "output_type": "stream",
     "text": [
      "                                                                                \r"
     ]
    },
    {
     "name": "stdout",
     "output_type": "stream",
     "text": [
      "gs://ot-team/jroldan/2025-06-18_analysis/propagated/Sun_2018_only_predictor_PhaseT.parquet\n"
     ]
    },
    {
     "name": "stderr",
     "output_type": "stream",
     "text": [
      "                                                                                \r"
     ]
    },
    {
     "name": "stdout",
     "output_type": "stream",
     "text": [
      "gs://ot-team/jroldan/2025-06-18_analysis/propagated/ROSMAP_only_predictor_Phase>=4.parquet\n"
     ]
    },
    {
     "name": "stderr",
     "output_type": "stream",
     "text": [
      "                                                                                \r"
     ]
    },
    {
     "name": "stdout",
     "output_type": "stream",
     "text": [
      "gs://ot-team/jroldan/2025-06-18_analysis/propagated/ROSMAP_only_predictor_Phase>=3.parquet\n"
     ]
    },
    {
     "name": "stderr",
     "output_type": "stream",
     "text": [
      "                                                                                \r"
     ]
    },
    {
     "name": "stdout",
     "output_type": "stream",
     "text": [
      "gs://ot-team/jroldan/2025-06-18_analysis/propagated/ROSMAP_only_predictor_Phase>=2.parquet\n"
     ]
    },
    {
     "name": "stderr",
     "output_type": "stream",
     "text": [
      "                                                                                \r"
     ]
    },
    {
     "name": "stdout",
     "output_type": "stream",
     "text": [
      "gs://ot-team/jroldan/2025-06-18_analysis/propagated/ROSMAP_only_predictor_Phase>=1.parquet\n"
     ]
    },
    {
     "name": "stderr",
     "output_type": "stream",
     "text": [
      "                                                                                \r"
     ]
    },
    {
     "name": "stdout",
     "output_type": "stream",
     "text": [
      "gs://ot-team/jroldan/2025-06-18_analysis/propagated/ROSMAP_only_predictor_PhaseT.parquet\n"
     ]
    },
    {
     "name": "stderr",
     "output_type": "stream",
     "text": [
      "                                                                                \r"
     ]
    },
    {
     "name": "stdout",
     "output_type": "stream",
     "text": [
      "gs://ot-team/jroldan/2025-06-18_analysis/propagated/Alasoo_2018_only_predictor_Phase>=4.parquet\n"
     ]
    },
    {
     "name": "stderr",
     "output_type": "stream",
     "text": [
      "                                                                                \r"
     ]
    },
    {
     "name": "stdout",
     "output_type": "stream",
     "text": [
      "gs://ot-team/jroldan/2025-06-18_analysis/propagated/Alasoo_2018_only_predictor_Phase>=3.parquet\n",
      "gs://ot-team/jroldan/2025-06-18_analysis/propagated/Alasoo_2018_only_predictor_Phase>=2.parquet\n",
      "gs://ot-team/jroldan/2025-06-18_analysis/propagated/Alasoo_2018_only_predictor_Phase>=1.parquet\n"
     ]
    },
    {
     "name": "stderr",
     "output_type": "stream",
     "text": [
      "                                                                                \r"
     ]
    },
    {
     "name": "stdout",
     "output_type": "stream",
     "text": [
      "gs://ot-team/jroldan/2025-06-18_analysis/propagated/Alasoo_2018_only_predictor_PhaseT.parquet\n"
     ]
    },
    {
     "name": "stderr",
     "output_type": "stream",
     "text": [
      "                                                                                \r"
     ]
    },
    {
     "name": "stdout",
     "output_type": "stream",
     "text": [
      "gs://ot-team/jroldan/2025-06-18_analysis/propagated/GENCORD_only_predictor_Phase>=4.parquet\n"
     ]
    },
    {
     "name": "stderr",
     "output_type": "stream",
     "text": [
      "                                                                                \r"
     ]
    },
    {
     "name": "stdout",
     "output_type": "stream",
     "text": [
      "gs://ot-team/jroldan/2025-06-18_analysis/propagated/GENCORD_only_predictor_Phase>=3.parquet\n"
     ]
    },
    {
     "name": "stderr",
     "output_type": "stream",
     "text": [
      "                                                                                \r"
     ]
    },
    {
     "name": "stdout",
     "output_type": "stream",
     "text": [
      "gs://ot-team/jroldan/2025-06-18_analysis/propagated/GENCORD_only_predictor_Phase>=2.parquet\n"
     ]
    },
    {
     "name": "stderr",
     "output_type": "stream",
     "text": [
      "                                                                                \r"
     ]
    },
    {
     "name": "stdout",
     "output_type": "stream",
     "text": [
      "gs://ot-team/jroldan/2025-06-18_analysis/propagated/GENCORD_only_predictor_Phase>=1.parquet\n"
     ]
    },
    {
     "name": "stderr",
     "output_type": "stream",
     "text": [
      "                                                                                \r"
     ]
    },
    {
     "name": "stdout",
     "output_type": "stream",
     "text": [
      "gs://ot-team/jroldan/2025-06-18_analysis/propagated/GENCORD_only_predictor_PhaseT.parquet\n"
     ]
    },
    {
     "name": "stderr",
     "output_type": "stream",
     "text": [
      "                                                                                \r"
     ]
    },
    {
     "name": "stdout",
     "output_type": "stream",
     "text": [
      "gs://ot-team/jroldan/2025-06-18_analysis/propagated/GEUVADIS_only_predictor_Phase>=4.parquet\n"
     ]
    },
    {
     "name": "stderr",
     "output_type": "stream",
     "text": [
      "                                                                                \r"
     ]
    },
    {
     "name": "stdout",
     "output_type": "stream",
     "text": [
      "gs://ot-team/jroldan/2025-06-18_analysis/propagated/GEUVADIS_only_predictor_Phase>=3.parquet\n"
     ]
    },
    {
     "name": "stderr",
     "output_type": "stream",
     "text": [
      "                                                                                \r"
     ]
    },
    {
     "name": "stdout",
     "output_type": "stream",
     "text": [
      "gs://ot-team/jroldan/2025-06-18_analysis/propagated/GEUVADIS_only_predictor_Phase>=2.parquet\n",
      "gs://ot-team/jroldan/2025-06-18_analysis/propagated/GEUVADIS_only_predictor_Phase>=1.parquet\n"
     ]
    },
    {
     "name": "stderr",
     "output_type": "stream",
     "text": [
      "                                                                                \r"
     ]
    },
    {
     "name": "stdout",
     "output_type": "stream",
     "text": [
      "gs://ot-team/jroldan/2025-06-18_analysis/propagated/GEUVADIS_only_predictor_PhaseT.parquet\n",
      "gs://ot-team/jroldan/2025-06-18_analysis/propagated/Lepik_2017_only_predictor_Phase>=4.parquet\n"
     ]
    },
    {
     "name": "stderr",
     "output_type": "stream",
     "text": [
      "                                                                                \r"
     ]
    },
    {
     "name": "stdout",
     "output_type": "stream",
     "text": [
      "gs://ot-team/jroldan/2025-06-18_analysis/propagated/Lepik_2017_only_predictor_Phase>=3.parquet\n"
     ]
    },
    {
     "name": "stderr",
     "output_type": "stream",
     "text": [
      "                                                                                \r"
     ]
    },
    {
     "name": "stdout",
     "output_type": "stream",
     "text": [
      "gs://ot-team/jroldan/2025-06-18_analysis/propagated/Lepik_2017_only_predictor_Phase>=2.parquet\n"
     ]
    },
    {
     "name": "stderr",
     "output_type": "stream",
     "text": [
      "                                                                                \r"
     ]
    },
    {
     "name": "stdout",
     "output_type": "stream",
     "text": [
      "gs://ot-team/jroldan/2025-06-18_analysis/propagated/Lepik_2017_only_predictor_Phase>=1.parquet\n"
     ]
    },
    {
     "name": "stderr",
     "output_type": "stream",
     "text": [
      "                                                                                \r"
     ]
    },
    {
     "name": "stdout",
     "output_type": "stream",
     "text": [
      "gs://ot-team/jroldan/2025-06-18_analysis/propagated/Lepik_2017_only_predictor_PhaseT.parquet\n"
     ]
    },
    {
     "name": "stderr",
     "output_type": "stream",
     "text": [
      "                                                                                \r"
     ]
    },
    {
     "name": "stdout",
     "output_type": "stream",
     "text": [
      "gs://ot-team/jroldan/2025-06-18_analysis/propagated/TwinsUK_only_predictor_Phase>=4.parquet\n"
     ]
    },
    {
     "name": "stderr",
     "output_type": "stream",
     "text": [
      "                                                                                \r"
     ]
    },
    {
     "name": "stdout",
     "output_type": "stream",
     "text": [
      "gs://ot-team/jroldan/2025-06-18_analysis/propagated/TwinsUK_only_predictor_Phase>=3.parquet\n",
      "gs://ot-team/jroldan/2025-06-18_analysis/propagated/TwinsUK_only_predictor_Phase>=2.parquet\n"
     ]
    },
    {
     "name": "stderr",
     "output_type": "stream",
     "text": [
      "                                                                                \r"
     ]
    },
    {
     "name": "stdout",
     "output_type": "stream",
     "text": [
      "gs://ot-team/jroldan/2025-06-18_analysis/propagated/TwinsUK_only_predictor_Phase>=1.parquet\n"
     ]
    },
    {
     "name": "stderr",
     "output_type": "stream",
     "text": [
      "                                                                                \r"
     ]
    },
    {
     "name": "stdout",
     "output_type": "stream",
     "text": [
      "gs://ot-team/jroldan/2025-06-18_analysis/propagated/TwinsUK_only_predictor_PhaseT.parquet\n"
     ]
    },
    {
     "name": "stderr",
     "output_type": "stream",
     "text": [
      "                                                                                \r"
     ]
    },
    {
     "name": "stdout",
     "output_type": "stream",
     "text": [
      "gs://ot-team/jroldan/2025-06-18_analysis/propagated/CommonMind_only_predictor_Phase>=4.parquet\n",
      "gs://ot-team/jroldan/2025-06-18_analysis/propagated/CommonMind_only_predictor_Phase>=3.parquet\n"
     ]
    },
    {
     "name": "stderr",
     "output_type": "stream",
     "text": [
      "                                                                                \r"
     ]
    },
    {
     "name": "stdout",
     "output_type": "stream",
     "text": [
      "gs://ot-team/jroldan/2025-06-18_analysis/propagated/CommonMind_only_predictor_Phase>=2.parquet\n"
     ]
    },
    {
     "name": "stderr",
     "output_type": "stream",
     "text": [
      "                                                                                \r"
     ]
    },
    {
     "name": "stdout",
     "output_type": "stream",
     "text": [
      "gs://ot-team/jroldan/2025-06-18_analysis/propagated/CommonMind_only_predictor_Phase>=1.parquet\n"
     ]
    },
    {
     "name": "stderr",
     "output_type": "stream",
     "text": [
      "                                                                                \r"
     ]
    },
    {
     "name": "stdout",
     "output_type": "stream",
     "text": [
      "gs://ot-team/jroldan/2025-06-18_analysis/propagated/CommonMind_only_predictor_PhaseT.parquet\n",
      "gs://ot-team/jroldan/2025-06-18_analysis/propagated/PhLiPS_only_predictor_Phase>=4.parquet\n"
     ]
    },
    {
     "name": "stderr",
     "output_type": "stream",
     "text": [
      "                                                                                \r"
     ]
    },
    {
     "name": "stdout",
     "output_type": "stream",
     "text": [
      "gs://ot-team/jroldan/2025-06-18_analysis/propagated/PhLiPS_only_predictor_Phase>=3.parquet\n"
     ]
    },
    {
     "name": "stderr",
     "output_type": "stream",
     "text": [
      "                                                                                \r"
     ]
    },
    {
     "name": "stdout",
     "output_type": "stream",
     "text": [
      "gs://ot-team/jroldan/2025-06-18_analysis/propagated/PhLiPS_only_predictor_Phase>=2.parquet\n"
     ]
    },
    {
     "name": "stderr",
     "output_type": "stream",
     "text": [
      "                                                                                \r"
     ]
    },
    {
     "name": "stdout",
     "output_type": "stream",
     "text": [
      "gs://ot-team/jroldan/2025-06-18_analysis/propagated/PhLiPS_only_predictor_Phase>=1.parquet\n"
     ]
    },
    {
     "name": "stderr",
     "output_type": "stream",
     "text": [
      "                                                                                \r"
     ]
    },
    {
     "name": "stdout",
     "output_type": "stream",
     "text": [
      "gs://ot-team/jroldan/2025-06-18_analysis/propagated/PhLiPS_only_predictor_PhaseT.parquet\n"
     ]
    },
    {
     "name": "stderr",
     "output_type": "stream",
     "text": [
      "                                                                                \r"
     ]
    },
    {
     "name": "stdout",
     "output_type": "stream",
     "text": [
      "gs://ot-team/jroldan/2025-06-18_analysis/propagated/van_de_Bunt_2015_only_predictor_Phase>=4.parquet\n"
     ]
    },
    {
     "name": "stderr",
     "output_type": "stream",
     "text": [
      "                                                                                \r"
     ]
    },
    {
     "name": "stdout",
     "output_type": "stream",
     "text": [
      "gs://ot-team/jroldan/2025-06-18_analysis/propagated/van_de_Bunt_2015_only_predictor_Phase>=3.parquet\n"
     ]
    },
    {
     "name": "stderr",
     "output_type": "stream",
     "text": [
      "                                                                                \r"
     ]
    },
    {
     "name": "stdout",
     "output_type": "stream",
     "text": [
      "gs://ot-team/jroldan/2025-06-18_analysis/propagated/van_de_Bunt_2015_only_predictor_Phase>=2.parquet\n"
     ]
    },
    {
     "name": "stderr",
     "output_type": "stream",
     "text": [
      "                                                                                \r"
     ]
    },
    {
     "name": "stdout",
     "output_type": "stream",
     "text": [
      "gs://ot-team/jroldan/2025-06-18_analysis/propagated/van_de_Bunt_2015_only_predictor_Phase>=1.parquet\n"
     ]
    },
    {
     "name": "stderr",
     "output_type": "stream",
     "text": [
      "                                                                                \r"
     ]
    },
    {
     "name": "stdout",
     "output_type": "stream",
     "text": [
      "gs://ot-team/jroldan/2025-06-18_analysis/propagated/van_de_Bunt_2015_only_predictor_PhaseT.parquet\n"
     ]
    },
    {
     "name": "stderr",
     "output_type": "stream",
     "text": [
      "                                                                                \r"
     ]
    },
    {
     "name": "stdout",
     "output_type": "stream",
     "text": [
      "gs://ot-team/jroldan/2025-06-18_analysis/propagated/Bossini-Castillo_2019_only_predictor_Phase>=4.parquet\n"
     ]
    },
    {
     "name": "stderr",
     "output_type": "stream",
     "text": [
      "                                                                                \r"
     ]
    },
    {
     "name": "stdout",
     "output_type": "stream",
     "text": [
      "gs://ot-team/jroldan/2025-06-18_analysis/propagated/Bossini-Castillo_2019_only_predictor_Phase>=3.parquet\n"
     ]
    },
    {
     "name": "stderr",
     "output_type": "stream",
     "text": [
      "                                                                                \r"
     ]
    },
    {
     "name": "stdout",
     "output_type": "stream",
     "text": [
      "gs://ot-team/jroldan/2025-06-18_analysis/propagated/Bossini-Castillo_2019_only_predictor_Phase>=2.parquet\n"
     ]
    },
    {
     "name": "stderr",
     "output_type": "stream",
     "text": [
      "                                                                                \r"
     ]
    },
    {
     "name": "stdout",
     "output_type": "stream",
     "text": [
      "gs://ot-team/jroldan/2025-06-18_analysis/propagated/Bossini-Castillo_2019_only_predictor_Phase>=1.parquet\n"
     ]
    },
    {
     "name": "stderr",
     "output_type": "stream",
     "text": [
      "                                                                                \r"
     ]
    },
    {
     "name": "stdout",
     "output_type": "stream",
     "text": [
      "gs://ot-team/jroldan/2025-06-18_analysis/propagated/Bossini-Castillo_2019_only_predictor_PhaseT.parquet\n"
     ]
    },
    {
     "name": "stderr",
     "output_type": "stream",
     "text": [
      "                                                                                \r"
     ]
    },
    {
     "name": "stdout",
     "output_type": "stream",
     "text": [
      "gs://ot-team/jroldan/2025-06-18_analysis/propagated/Aygun_2021_only_predictor_Phase>=4.parquet\n"
     ]
    },
    {
     "name": "stderr",
     "output_type": "stream",
     "text": [
      "                                                                                \r"
     ]
    },
    {
     "name": "stdout",
     "output_type": "stream",
     "text": [
      "gs://ot-team/jroldan/2025-06-18_analysis/propagated/Aygun_2021_only_predictor_Phase>=3.parquet\n"
     ]
    },
    {
     "name": "stderr",
     "output_type": "stream",
     "text": [
      "                                                                                \r"
     ]
    },
    {
     "name": "stdout",
     "output_type": "stream",
     "text": [
      "gs://ot-team/jroldan/2025-06-18_analysis/propagated/Aygun_2021_only_predictor_Phase>=2.parquet\n"
     ]
    },
    {
     "name": "stderr",
     "output_type": "stream",
     "text": [
      "                                                                                \r"
     ]
    },
    {
     "name": "stdout",
     "output_type": "stream",
     "text": [
      "gs://ot-team/jroldan/2025-06-18_analysis/propagated/Aygun_2021_only_predictor_Phase>=1.parquet\n"
     ]
    },
    {
     "name": "stderr",
     "output_type": "stream",
     "text": [
      "                                                                                \r"
     ]
    },
    {
     "name": "stdout",
     "output_type": "stream",
     "text": [
      "gs://ot-team/jroldan/2025-06-18_analysis/propagated/Aygun_2021_only_predictor_PhaseT.parquet\n"
     ]
    },
    {
     "name": "stderr",
     "output_type": "stream",
     "text": [
      "                                                                                \r"
     ]
    },
    {
     "name": "stdout",
     "output_type": "stream",
     "text": [
      "gs://ot-team/jroldan/2025-06-18_analysis/propagated/Fairfax_2012_only_predictor_Phase>=4.parquet\n",
      "gs://ot-team/jroldan/2025-06-18_analysis/propagated/Fairfax_2012_only_predictor_Phase>=3.parquet\n"
     ]
    },
    {
     "name": "stderr",
     "output_type": "stream",
     "text": [
      "                                                                                \r"
     ]
    },
    {
     "name": "stdout",
     "output_type": "stream",
     "text": [
      "gs://ot-team/jroldan/2025-06-18_analysis/propagated/Fairfax_2012_only_predictor_Phase>=2.parquet\n"
     ]
    },
    {
     "name": "stderr",
     "output_type": "stream",
     "text": [
      "                                                                                \r"
     ]
    },
    {
     "name": "stdout",
     "output_type": "stream",
     "text": [
      "gs://ot-team/jroldan/2025-06-18_analysis/propagated/Fairfax_2012_only_predictor_Phase>=1.parquet\n"
     ]
    },
    {
     "name": "stderr",
     "output_type": "stream",
     "text": [
      "                                                                                \r"
     ]
    },
    {
     "name": "stdout",
     "output_type": "stream",
     "text": [
      "gs://ot-team/jroldan/2025-06-18_analysis/propagated/Fairfax_2012_only_predictor_PhaseT.parquet\n",
      "gs://ot-team/jroldan/2025-06-18_analysis/propagated/Peng_2018_only_predictor_Phase>=4.parquet\n"
     ]
    },
    {
     "name": "stderr",
     "output_type": "stream",
     "text": [
      "                                                                                \r"
     ]
    },
    {
     "name": "stdout",
     "output_type": "stream",
     "text": [
      "gs://ot-team/jroldan/2025-06-18_analysis/propagated/Peng_2018_only_predictor_Phase>=3.parquet\n"
     ]
    },
    {
     "name": "stderr",
     "output_type": "stream",
     "text": [
      "                                                                                \r"
     ]
    },
    {
     "name": "stdout",
     "output_type": "stream",
     "text": [
      "gs://ot-team/jroldan/2025-06-18_analysis/propagated/Peng_2018_only_predictor_Phase>=2.parquet\n"
     ]
    },
    {
     "name": "stderr",
     "output_type": "stream",
     "text": [
      "                                                                                \r"
     ]
    },
    {
     "name": "stdout",
     "output_type": "stream",
     "text": [
      "gs://ot-team/jroldan/2025-06-18_analysis/propagated/Peng_2018_only_predictor_Phase>=1.parquet\n"
     ]
    },
    {
     "name": "stderr",
     "output_type": "stream",
     "text": [
      "                                                                                \r"
     ]
    },
    {
     "name": "stdout",
     "output_type": "stream",
     "text": [
      "gs://ot-team/jroldan/2025-06-18_analysis/propagated/Peng_2018_only_predictor_PhaseT.parquet\n"
     ]
    },
    {
     "name": "stderr",
     "output_type": "stream",
     "text": [
      "                                                                                \r"
     ]
    },
    {
     "name": "stdout",
     "output_type": "stream",
     "text": [
      "gs://ot-team/jroldan/2025-06-18_analysis/propagated/CAP_only_predictor_Phase>=4.parquet\n"
     ]
    },
    {
     "name": "stderr",
     "output_type": "stream",
     "text": [
      "                                                                                \r"
     ]
    },
    {
     "name": "stdout",
     "output_type": "stream",
     "text": [
      "gs://ot-team/jroldan/2025-06-18_analysis/propagated/CAP_only_predictor_Phase>=3.parquet\n",
      "gs://ot-team/jroldan/2025-06-18_analysis/propagated/CAP_only_predictor_Phase>=2.parquet\n"
     ]
    },
    {
     "name": "stderr",
     "output_type": "stream",
     "text": [
      "                                                                                \r"
     ]
    },
    {
     "name": "stdout",
     "output_type": "stream",
     "text": [
      "gs://ot-team/jroldan/2025-06-18_analysis/propagated/CAP_only_predictor_Phase>=1.parquet\n",
      "gs://ot-team/jroldan/2025-06-18_analysis/propagated/CAP_only_predictor_PhaseT.parquet\n"
     ]
    },
    {
     "name": "stderr",
     "output_type": "stream",
     "text": [
      "                                                                                \r"
     ]
    },
    {
     "name": "stdout",
     "output_type": "stream",
     "text": [
      "gs://ot-team/jroldan/2025-06-18_analysis/propagated/Fairfax_2014_only_predictor_Phase>=4.parquet\n"
     ]
    },
    {
     "name": "stderr",
     "output_type": "stream",
     "text": [
      "                                                                                \r"
     ]
    },
    {
     "name": "stdout",
     "output_type": "stream",
     "text": [
      "gs://ot-team/jroldan/2025-06-18_analysis/propagated/Fairfax_2014_only_predictor_Phase>=3.parquet\n"
     ]
    },
    {
     "name": "stderr",
     "output_type": "stream",
     "text": [
      "                                                                                \r"
     ]
    },
    {
     "name": "stdout",
     "output_type": "stream",
     "text": [
      "gs://ot-team/jroldan/2025-06-18_analysis/propagated/Fairfax_2014_only_predictor_Phase>=2.parquet\n"
     ]
    },
    {
     "name": "stderr",
     "output_type": "stream",
     "text": [
      "                                                                                \r"
     ]
    },
    {
     "name": "stdout",
     "output_type": "stream",
     "text": [
      "gs://ot-team/jroldan/2025-06-18_analysis/propagated/Fairfax_2014_only_predictor_Phase>=1.parquet\n"
     ]
    },
    {
     "name": "stderr",
     "output_type": "stream",
     "text": [
      "                                                                                \r"
     ]
    },
    {
     "name": "stdout",
     "output_type": "stream",
     "text": [
      "gs://ot-team/jroldan/2025-06-18_analysis/propagated/Fairfax_2014_only_predictor_PhaseT.parquet\n"
     ]
    },
    {
     "name": "stderr",
     "output_type": "stream",
     "text": [
      "                                                                                \r"
     ]
    },
    {
     "name": "stdout",
     "output_type": "stream",
     "text": [
      "gs://ot-team/jroldan/2025-06-18_analysis/propagated/Cytoimmgen_only_predictor_Phase>=4.parquet\n",
      "gs://ot-team/jroldan/2025-06-18_analysis/propagated/Cytoimmgen_only_predictor_Phase>=3.parquet\n",
      "gs://ot-team/jroldan/2025-06-18_analysis/propagated/Cytoimmgen_only_predictor_Phase>=2.parquet\n"
     ]
    },
    {
     "name": "stderr",
     "output_type": "stream",
     "text": [
      "                                                                                \r"
     ]
    },
    {
     "name": "stdout",
     "output_type": "stream",
     "text": [
      "gs://ot-team/jroldan/2025-06-18_analysis/propagated/Cytoimmgen_only_predictor_Phase>=1.parquet\n"
     ]
    },
    {
     "name": "stderr",
     "output_type": "stream",
     "text": [
      "                                                                                \r"
     ]
    },
    {
     "name": "stdout",
     "output_type": "stream",
     "text": [
      "gs://ot-team/jroldan/2025-06-18_analysis/propagated/Cytoimmgen_only_predictor_PhaseT.parquet\n"
     ]
    },
    {
     "name": "stderr",
     "output_type": "stream",
     "text": [
      "                                                                                \r"
     ]
    },
    {
     "name": "stdout",
     "output_type": "stream",
     "text": [
      "gs://ot-team/jroldan/2025-06-18_analysis/propagated/Schwartzentruber_2018_only_predictor_Phase>=4.parquet\n"
     ]
    },
    {
     "name": "stderr",
     "output_type": "stream",
     "text": [
      "                                                                                \r"
     ]
    },
    {
     "name": "stdout",
     "output_type": "stream",
     "text": [
      "gs://ot-team/jroldan/2025-06-18_analysis/propagated/Schwartzentruber_2018_only_predictor_Phase>=3.parquet\n",
      "gs://ot-team/jroldan/2025-06-18_analysis/propagated/Schwartzentruber_2018_only_predictor_Phase>=2.parquet\n"
     ]
    },
    {
     "name": "stderr",
     "output_type": "stream",
     "text": [
      "                                                                                \r"
     ]
    },
    {
     "name": "stdout",
     "output_type": "stream",
     "text": [
      "gs://ot-team/jroldan/2025-06-18_analysis/propagated/Schwartzentruber_2018_only_predictor_Phase>=1.parquet\n",
      "gs://ot-team/jroldan/2025-06-18_analysis/propagated/Schwartzentruber_2018_only_predictor_PhaseT.parquet\n",
      "gs://ot-team/jroldan/2025-06-18_analysis/propagated/PISA_only_predictor_Phase>=4.parquet\n"
     ]
    },
    {
     "name": "stderr",
     "output_type": "stream",
     "text": [
      "                                                                                \r"
     ]
    },
    {
     "name": "stdout",
     "output_type": "stream",
     "text": [
      "gs://ot-team/jroldan/2025-06-18_analysis/propagated/PISA_only_predictor_Phase>=3.parquet\n"
     ]
    },
    {
     "name": "stderr",
     "output_type": "stream",
     "text": [
      "                                                                                \r"
     ]
    },
    {
     "name": "stdout",
     "output_type": "stream",
     "text": [
      "gs://ot-team/jroldan/2025-06-18_analysis/propagated/PISA_only_predictor_Phase>=2.parquet\n"
     ]
    },
    {
     "name": "stderr",
     "output_type": "stream",
     "text": [
      "                                                                                \r"
     ]
    },
    {
     "name": "stdout",
     "output_type": "stream",
     "text": [
      "gs://ot-team/jroldan/2025-06-18_analysis/propagated/PISA_only_predictor_Phase>=1.parquet\n"
     ]
    },
    {
     "name": "stderr",
     "output_type": "stream",
     "text": [
      "                                                                                \r"
     ]
    },
    {
     "name": "stdout",
     "output_type": "stream",
     "text": [
      "gs://ot-team/jroldan/2025-06-18_analysis/propagated/PISA_only_predictor_PhaseT.parquet\n",
      "gs://ot-team/jroldan/2025-06-18_analysis/propagated/Walker_2019_only_predictor_Phase>=4.parquet\n"
     ]
    },
    {
     "name": "stderr",
     "output_type": "stream",
     "text": [
      "                                                                                \r"
     ]
    },
    {
     "name": "stdout",
     "output_type": "stream",
     "text": [
      "gs://ot-team/jroldan/2025-06-18_analysis/propagated/Walker_2019_only_predictor_Phase>=3.parquet\n"
     ]
    },
    {
     "name": "stderr",
     "output_type": "stream",
     "text": [
      "                                                                                \r"
     ]
    },
    {
     "name": "stdout",
     "output_type": "stream",
     "text": [
      "gs://ot-team/jroldan/2025-06-18_analysis/propagated/Walker_2019_only_predictor_Phase>=2.parquet\n"
     ]
    },
    {
     "name": "stderr",
     "output_type": "stream",
     "text": [
      "                                                                                \r"
     ]
    },
    {
     "name": "stdout",
     "output_type": "stream",
     "text": [
      "gs://ot-team/jroldan/2025-06-18_analysis/propagated/Walker_2019_only_predictor_Phase>=1.parquet\n"
     ]
    },
    {
     "name": "stderr",
     "output_type": "stream",
     "text": [
      "                                                                                \r"
     ]
    },
    {
     "name": "stdout",
     "output_type": "stream",
     "text": [
      "gs://ot-team/jroldan/2025-06-18_analysis/propagated/Walker_2019_only_predictor_PhaseT.parquet\n",
      "gs://ot-team/jroldan/2025-06-18_analysis/propagated/CEDAR_only_predictor_Phase>=4.parquet\n",
      "gs://ot-team/jroldan/2025-06-18_analysis/propagated/CEDAR_only_predictor_Phase>=3.parquet\n"
     ]
    },
    {
     "name": "stderr",
     "output_type": "stream",
     "text": [
      "                                                                                \r"
     ]
    },
    {
     "name": "stdout",
     "output_type": "stream",
     "text": [
      "gs://ot-team/jroldan/2025-06-18_analysis/propagated/CEDAR_only_predictor_Phase>=2.parquet\n"
     ]
    },
    {
     "name": "stderr",
     "output_type": "stream",
     "text": [
      "                                                                                \r"
     ]
    },
    {
     "name": "stdout",
     "output_type": "stream",
     "text": [
      "gs://ot-team/jroldan/2025-06-18_analysis/propagated/CEDAR_only_predictor_Phase>=1.parquet\n"
     ]
    },
    {
     "name": "stderr",
     "output_type": "stream",
     "text": [
      "                                                                                \r"
     ]
    },
    {
     "name": "stdout",
     "output_type": "stream",
     "text": [
      "gs://ot-team/jroldan/2025-06-18_analysis/propagated/CEDAR_only_predictor_PhaseT.parquet\n"
     ]
    },
    {
     "name": "stderr",
     "output_type": "stream",
     "text": [
      "                                                                                \r"
     ]
    },
    {
     "name": "stdout",
     "output_type": "stream",
     "text": [
      "gs://ot-team/jroldan/2025-06-18_analysis/propagated/Braineac2_only_predictor_Phase>=4.parquet\n",
      "gs://ot-team/jroldan/2025-06-18_analysis/propagated/Braineac2_only_predictor_Phase>=3.parquet\n"
     ]
    },
    {
     "name": "stderr",
     "output_type": "stream",
     "text": [
      "                                                                                \r"
     ]
    },
    {
     "name": "stdout",
     "output_type": "stream",
     "text": [
      "gs://ot-team/jroldan/2025-06-18_analysis/propagated/Braineac2_only_predictor_Phase>=2.parquet\n",
      "gs://ot-team/jroldan/2025-06-18_analysis/propagated/Braineac2_only_predictor_Phase>=1.parquet\n"
     ]
    },
    {
     "name": "stderr",
     "output_type": "stream",
     "text": [
      "                                                                                \r"
     ]
    },
    {
     "name": "stdout",
     "output_type": "stream",
     "text": [
      "gs://ot-team/jroldan/2025-06-18_analysis/propagated/Braineac2_only_predictor_PhaseT.parquet\n"
     ]
    },
    {
     "name": "stderr",
     "output_type": "stream",
     "text": [
      "                                                                                \r"
     ]
    },
    {
     "name": "stdout",
     "output_type": "stream",
     "text": [
      "gs://ot-team/jroldan/2025-06-18_analysis/propagated/iPSCORE_only_predictor_Phase>=4.parquet\n"
     ]
    },
    {
     "name": "stderr",
     "output_type": "stream",
     "text": [
      "                                                                                \r"
     ]
    },
    {
     "name": "stdout",
     "output_type": "stream",
     "text": [
      "gs://ot-team/jroldan/2025-06-18_analysis/propagated/iPSCORE_only_predictor_Phase>=3.parquet\n"
     ]
    },
    {
     "name": "stderr",
     "output_type": "stream",
     "text": [
      "                                                                                \r"
     ]
    },
    {
     "name": "stdout",
     "output_type": "stream",
     "text": [
      "gs://ot-team/jroldan/2025-06-18_analysis/propagated/iPSCORE_only_predictor_Phase>=2.parquet\n",
      "gs://ot-team/jroldan/2025-06-18_analysis/propagated/iPSCORE_only_predictor_Phase>=1.parquet\n"
     ]
    },
    {
     "name": "stderr",
     "output_type": "stream",
     "text": [
      "                                                                                \r"
     ]
    },
    {
     "name": "stdout",
     "output_type": "stream",
     "text": [
      "gs://ot-team/jroldan/2025-06-18_analysis/propagated/iPSCORE_only_predictor_PhaseT.parquet\n"
     ]
    },
    {
     "name": "stderr",
     "output_type": "stream",
     "text": [
      "                                                                                \r"
     ]
    },
    {
     "name": "stdout",
     "output_type": "stream",
     "text": [
      "gs://ot-team/jroldan/2025-06-18_analysis/propagated/Young_2019_only_predictor_Phase>=4.parquet\n",
      "gs://ot-team/jroldan/2025-06-18_analysis/propagated/Young_2019_only_predictor_Phase>=3.parquet\n"
     ]
    },
    {
     "name": "stderr",
     "output_type": "stream",
     "text": [
      "                                                                                \r"
     ]
    },
    {
     "name": "stdout",
     "output_type": "stream",
     "text": [
      "gs://ot-team/jroldan/2025-06-18_analysis/propagated/Young_2019_only_predictor_Phase>=2.parquet\n"
     ]
    },
    {
     "name": "stderr",
     "output_type": "stream",
     "text": [
      "                                                                                \r"
     ]
    },
    {
     "name": "stdout",
     "output_type": "stream",
     "text": [
      "gs://ot-team/jroldan/2025-06-18_analysis/propagated/Young_2019_only_predictor_Phase>=1.parquet\n"
     ]
    },
    {
     "name": "stderr",
     "output_type": "stream",
     "text": [
      "                                                                                \r"
     ]
    },
    {
     "name": "stdout",
     "output_type": "stream",
     "text": [
      "gs://ot-team/jroldan/2025-06-18_analysis/propagated/Young_2019_only_predictor_PhaseT.parquet\n",
      "gs://ot-team/jroldan/2025-06-18_analysis/propagated/Kim-Hellmuth_2017_only_predictor_Phase>=4.parquet\n"
     ]
    },
    {
     "name": "stderr",
     "output_type": "stream",
     "text": [
      "                                                                                \r"
     ]
    },
    {
     "name": "stdout",
     "output_type": "stream",
     "text": [
      "gs://ot-team/jroldan/2025-06-18_analysis/propagated/Kim-Hellmuth_2017_only_predictor_Phase>=3.parquet\n",
      "gs://ot-team/jroldan/2025-06-18_analysis/propagated/Kim-Hellmuth_2017_only_predictor_Phase>=2.parquet\n"
     ]
    },
    {
     "name": "stderr",
     "output_type": "stream",
     "text": [
      "                                                                                \r"
     ]
    },
    {
     "name": "stdout",
     "output_type": "stream",
     "text": [
      "gs://ot-team/jroldan/2025-06-18_analysis/propagated/Kim-Hellmuth_2017_only_predictor_Phase>=1.parquet\n"
     ]
    },
    {
     "name": "stderr",
     "output_type": "stream",
     "text": [
      "                                                                                \r"
     ]
    },
    {
     "name": "stdout",
     "output_type": "stream",
     "text": [
      "gs://ot-team/jroldan/2025-06-18_analysis/propagated/Kim-Hellmuth_2017_only_predictor_PhaseT.parquet\n"
     ]
    },
    {
     "name": "stderr",
     "output_type": "stream",
     "text": [
      "                                                                                \r"
     ]
    },
    {
     "name": "stdout",
     "output_type": "stream",
     "text": [
      "gs://ot-team/jroldan/2025-06-18_analysis/propagated/Perez_2022_only_predictor_Phase>=4.parquet\n"
     ]
    },
    {
     "name": "stderr",
     "output_type": "stream",
     "text": [
      "                                                                                \r"
     ]
    },
    {
     "name": "stdout",
     "output_type": "stream",
     "text": [
      "gs://ot-team/jroldan/2025-06-18_analysis/propagated/Perez_2022_only_predictor_Phase>=3.parquet\n"
     ]
    },
    {
     "name": "stderr",
     "output_type": "stream",
     "text": [
      "                                                                                \r"
     ]
    },
    {
     "name": "stdout",
     "output_type": "stream",
     "text": [
      "gs://ot-team/jroldan/2025-06-18_analysis/propagated/Perez_2022_only_predictor_Phase>=2.parquet\n",
      "gs://ot-team/jroldan/2025-06-18_analysis/propagated/Perez_2022_only_predictor_Phase>=1.parquet\n"
     ]
    },
    {
     "name": "stderr",
     "output_type": "stream",
     "text": [
      "                                                                                \r"
     ]
    },
    {
     "name": "stdout",
     "output_type": "stream",
     "text": [
      "gs://ot-team/jroldan/2025-06-18_analysis/propagated/Perez_2022_only_predictor_PhaseT.parquet\n"
     ]
    },
    {
     "name": "stderr",
     "output_type": "stream",
     "text": [
      "                                                                                \r"
     ]
    },
    {
     "name": "stdout",
     "output_type": "stream",
     "text": [
      "gs://ot-team/jroldan/2025-06-18_analysis/propagated/OneK1K_only_predictor_Phase>=4.parquet\n"
     ]
    },
    {
     "name": "stderr",
     "output_type": "stream",
     "text": [
      "                                                                                \r"
     ]
    },
    {
     "name": "stdout",
     "output_type": "stream",
     "text": [
      "gs://ot-team/jroldan/2025-06-18_analysis/propagated/OneK1K_only_predictor_Phase>=3.parquet\n"
     ]
    },
    {
     "name": "stderr",
     "output_type": "stream",
     "text": [
      "                                                                                \r"
     ]
    },
    {
     "name": "stdout",
     "output_type": "stream",
     "text": [
      "gs://ot-team/jroldan/2025-06-18_analysis/propagated/OneK1K_only_predictor_Phase>=2.parquet\n",
      "gs://ot-team/jroldan/2025-06-18_analysis/propagated/OneK1K_only_predictor_Phase>=1.parquet\n"
     ]
    },
    {
     "name": "stderr",
     "output_type": "stream",
     "text": [
      "                                                                                \r"
     ]
    },
    {
     "name": "stdout",
     "output_type": "stream",
     "text": [
      "gs://ot-team/jroldan/2025-06-18_analysis/propagated/OneK1K_only_predictor_PhaseT.parquet\n"
     ]
    },
    {
     "name": "stderr",
     "output_type": "stream",
     "text": [
      "                                                                                \r"
     ]
    },
    {
     "name": "stdout",
     "output_type": "stream",
     "text": [
      "gs://ot-team/jroldan/2025-06-18_analysis/propagated/Kasela_2017_only_predictor_Phase>=4.parquet\n",
      "gs://ot-team/jroldan/2025-06-18_analysis/propagated/Kasela_2017_only_predictor_Phase>=3.parquet\n"
     ]
    },
    {
     "name": "stderr",
     "output_type": "stream",
     "text": [
      "                                                                                \r"
     ]
    },
    {
     "name": "stdout",
     "output_type": "stream",
     "text": [
      "gs://ot-team/jroldan/2025-06-18_analysis/propagated/Kasela_2017_only_predictor_Phase>=2.parquet\n"
     ]
    },
    {
     "name": "stderr",
     "output_type": "stream",
     "text": [
      "                                                                                \r"
     ]
    },
    {
     "name": "stdout",
     "output_type": "stream",
     "text": [
      "gs://ot-team/jroldan/2025-06-18_analysis/propagated/Kasela_2017_only_predictor_Phase>=1.parquet\n"
     ]
    },
    {
     "name": "stderr",
     "output_type": "stream",
     "text": [
      "                                                                                \r"
     ]
    },
    {
     "name": "stdout",
     "output_type": "stream",
     "text": [
      "gs://ot-team/jroldan/2025-06-18_analysis/propagated/Kasela_2017_only_predictor_PhaseT.parquet\n",
      "df unpersisted\n",
      "working with biosampleName\n"
     ]
    },
    {
     "name": "stderr",
     "output_type": "stream",
     "text": [
      "                                                                                \r"
     ]
    },
    {
     "name": "stdout",
     "output_type": "stream",
     "text": [
      "There are  73 columns to analyse with phases\n"
     ]
    },
    {
     "name": "stderr",
     "output_type": "stream",
     "text": [
      "                                                                                \r"
     ]
    },
    {
     "name": "stdout",
     "output_type": "stream",
     "text": [
      "gs://ot-team/jroldan/2025-06-18_analysis/propagated/skeletal muscle tissue_only_predictor_Phase>=4.parquet\n"
     ]
    },
    {
     "name": "stderr",
     "output_type": "stream",
     "text": [
      "                                                                                \r"
     ]
    },
    {
     "name": "stdout",
     "output_type": "stream",
     "text": [
      "gs://ot-team/jroldan/2025-06-18_analysis/propagated/skeletal muscle tissue_only_predictor_Phase>=3.parquet\n"
     ]
    },
    {
     "name": "stderr",
     "output_type": "stream",
     "text": [
      "                                                                                \r"
     ]
    },
    {
     "name": "stdout",
     "output_type": "stream",
     "text": [
      "gs://ot-team/jroldan/2025-06-18_analysis/propagated/skeletal muscle tissue_only_predictor_Phase>=2.parquet\n"
     ]
    },
    {
     "name": "stderr",
     "output_type": "stream",
     "text": [
      "                                                                                \r"
     ]
    },
    {
     "name": "stdout",
     "output_type": "stream",
     "text": [
      "gs://ot-team/jroldan/2025-06-18_analysis/propagated/skeletal muscle tissue_only_predictor_Phase>=1.parquet\n",
      "gs://ot-team/jroldan/2025-06-18_analysis/propagated/skeletal muscle tissue_only_predictor_PhaseT.parquet\n"
     ]
    },
    {
     "name": "stderr",
     "output_type": "stream",
     "text": [
      "                                                                                \r"
     ]
    },
    {
     "name": "stdout",
     "output_type": "stream",
     "text": [
      "gs://ot-team/jroldan/2025-06-18_analysis/propagated/tibial nerve_only_predictor_Phase>=4.parquet\n"
     ]
    },
    {
     "name": "stderr",
     "output_type": "stream",
     "text": [
      "                                                                                \r"
     ]
    },
    {
     "name": "stdout",
     "output_type": "stream",
     "text": [
      "gs://ot-team/jroldan/2025-06-18_analysis/propagated/tibial nerve_only_predictor_Phase>=3.parquet\n"
     ]
    },
    {
     "name": "stderr",
     "output_type": "stream",
     "text": [
      "                                                                                \r"
     ]
    },
    {
     "name": "stdout",
     "output_type": "stream",
     "text": [
      "gs://ot-team/jroldan/2025-06-18_analysis/propagated/tibial nerve_only_predictor_Phase>=2.parquet\n",
      "gs://ot-team/jroldan/2025-06-18_analysis/propagated/tibial nerve_only_predictor_Phase>=1.parquet\n",
      "gs://ot-team/jroldan/2025-06-18_analysis/propagated/tibial nerve_only_predictor_PhaseT.parquet\n"
     ]
    },
    {
     "name": "stderr",
     "output_type": "stream",
     "text": [
      "                                                                                \r"
     ]
    },
    {
     "name": "stdout",
     "output_type": "stream",
     "text": [
      "gs://ot-team/jroldan/2025-06-18_analysis/propagated/placenta_only_predictor_Phase>=4.parquet\n",
      "gs://ot-team/jroldan/2025-06-18_analysis/propagated/placenta_only_predictor_Phase>=3.parquet\n",
      "gs://ot-team/jroldan/2025-06-18_analysis/propagated/placenta_only_predictor_Phase>=2.parquet\n"
     ]
    },
    {
     "name": "stderr",
     "output_type": "stream",
     "text": [
      "                                                                                \r"
     ]
    },
    {
     "name": "stdout",
     "output_type": "stream",
     "text": [
      "gs://ot-team/jroldan/2025-06-18_analysis/propagated/placenta_only_predictor_Phase>=1.parquet\n"
     ]
    },
    {
     "name": "stderr",
     "output_type": "stream",
     "text": [
      "                                                                                \r"
     ]
    },
    {
     "name": "stdout",
     "output_type": "stream",
     "text": [
      "gs://ot-team/jroldan/2025-06-18_analysis/propagated/placenta_only_predictor_PhaseT.parquet\n"
     ]
    },
    {
     "name": "stderr",
     "output_type": "stream",
     "text": [
      "                                                                                \r"
     ]
    },
    {
     "name": "stdout",
     "output_type": "stream",
     "text": [
      "gs://ot-team/jroldan/2025-06-18_analysis/propagated/induced pluripotent stem cell_only_predictor_Phase>=4.parquet\n"
     ]
    },
    {
     "name": "stderr",
     "output_type": "stream",
     "text": [
      "                                                                                \r"
     ]
    },
    {
     "name": "stdout",
     "output_type": "stream",
     "text": [
      "gs://ot-team/jroldan/2025-06-18_analysis/propagated/induced pluripotent stem cell_only_predictor_Phase>=3.parquet\n",
      "gs://ot-team/jroldan/2025-06-18_analysis/propagated/induced pluripotent stem cell_only_predictor_Phase>=2.parquet\n"
     ]
    },
    {
     "name": "stderr",
     "output_type": "stream",
     "text": [
      "                                                                                \r"
     ]
    },
    {
     "name": "stdout",
     "output_type": "stream",
     "text": [
      "gs://ot-team/jroldan/2025-06-18_analysis/propagated/induced pluripotent stem cell_only_predictor_Phase>=1.parquet\n"
     ]
    },
    {
     "name": "stderr",
     "output_type": "stream",
     "text": [
      "                                                                                \r"
     ]
    },
    {
     "name": "stdout",
     "output_type": "stream",
     "text": [
      "gs://ot-team/jroldan/2025-06-18_analysis/propagated/induced pluripotent stem cell_only_predictor_PhaseT.parquet\n",
      "gs://ot-team/jroldan/2025-06-18_analysis/propagated/adipose tissue_only_predictor_Phase>=4.parquet\n",
      "gs://ot-team/jroldan/2025-06-18_analysis/propagated/adipose tissue_only_predictor_Phase>=3.parquet\n"
     ]
    },
    {
     "name": "stderr",
     "output_type": "stream",
     "text": [
      "                                                                                \r"
     ]
    },
    {
     "name": "stdout",
     "output_type": "stream",
     "text": [
      "gs://ot-team/jroldan/2025-06-18_analysis/propagated/adipose tissue_only_predictor_Phase>=2.parquet\n"
     ]
    },
    {
     "name": "stderr",
     "output_type": "stream",
     "text": [
      "                                                                                \r"
     ]
    },
    {
     "name": "stdout",
     "output_type": "stream",
     "text": [
      "gs://ot-team/jroldan/2025-06-18_analysis/propagated/adipose tissue_only_predictor_Phase>=1.parquet\n",
      "gs://ot-team/jroldan/2025-06-18_analysis/propagated/adipose tissue_only_predictor_PhaseT.parquet\n"
     ]
    },
    {
     "name": "stderr",
     "output_type": "stream",
     "text": [
      "                                                                                \r"
     ]
    },
    {
     "name": "stdout",
     "output_type": "stream",
     "text": [
      "gs://ot-team/jroldan/2025-06-18_analysis/propagated/right atrium auricular region_only_predictor_Phase>=4.parquet\n"
     ]
    },
    {
     "name": "stderr",
     "output_type": "stream",
     "text": [
      "                                                                                \r"
     ]
    },
    {
     "name": "stdout",
     "output_type": "stream",
     "text": [
      "gs://ot-team/jroldan/2025-06-18_analysis/propagated/right atrium auricular region_only_predictor_Phase>=3.parquet\n"
     ]
    },
    {
     "name": "stderr",
     "output_type": "stream",
     "text": [
      "                                                                                \r"
     ]
    },
    {
     "name": "stdout",
     "output_type": "stream",
     "text": [
      "gs://ot-team/jroldan/2025-06-18_analysis/propagated/right atrium auricular region_only_predictor_Phase>=2.parquet\n"
     ]
    },
    {
     "name": "stderr",
     "output_type": "stream",
     "text": [
      "                                                                                \r"
     ]
    },
    {
     "name": "stdout",
     "output_type": "stream",
     "text": [
      "gs://ot-team/jroldan/2025-06-18_analysis/propagated/right atrium auricular region_only_predictor_Phase>=1.parquet\n"
     ]
    },
    {
     "name": "stderr",
     "output_type": "stream",
     "text": [
      "                                                                                \r"
     ]
    },
    {
     "name": "stdout",
     "output_type": "stream",
     "text": [
      "gs://ot-team/jroldan/2025-06-18_analysis/propagated/right atrium auricular region_only_predictor_PhaseT.parquet\n"
     ]
    },
    {
     "name": "stderr",
     "output_type": "stream",
     "text": [
      "                                                                                \r"
     ]
    },
    {
     "name": "stdout",
     "output_type": "stream",
     "text": [
      "gs://ot-team/jroldan/2025-06-18_analysis/propagated/sigmoid colon_only_predictor_Phase>=4.parquet\n"
     ]
    },
    {
     "name": "stderr",
     "output_type": "stream",
     "text": [
      "                                                                                \r"
     ]
    },
    {
     "name": "stdout",
     "output_type": "stream",
     "text": [
      "gs://ot-team/jroldan/2025-06-18_analysis/propagated/sigmoid colon_only_predictor_Phase>=3.parquet\n"
     ]
    },
    {
     "name": "stderr",
     "output_type": "stream",
     "text": [
      "                                                                                \r"
     ]
    },
    {
     "name": "stdout",
     "output_type": "stream",
     "text": [
      "gs://ot-team/jroldan/2025-06-18_analysis/propagated/sigmoid colon_only_predictor_Phase>=2.parquet\n"
     ]
    },
    {
     "name": "stderr",
     "output_type": "stream",
     "text": [
      "                                                                                \r"
     ]
    },
    {
     "name": "stdout",
     "output_type": "stream",
     "text": [
      "gs://ot-team/jroldan/2025-06-18_analysis/propagated/sigmoid colon_only_predictor_Phase>=1.parquet\n",
      "gs://ot-team/jroldan/2025-06-18_analysis/propagated/sigmoid colon_only_predictor_PhaseT.parquet\n"
     ]
    },
    {
     "name": "stderr",
     "output_type": "stream",
     "text": [
      "                                                                                \r"
     ]
    },
    {
     "name": "stdout",
     "output_type": "stream",
     "text": [
      "gs://ot-team/jroldan/2025-06-18_analysis/propagated/left ventricle myocardium_only_predictor_Phase>=4.parquet\n"
     ]
    },
    {
     "name": "stderr",
     "output_type": "stream",
     "text": [
      "                                                                                \r"
     ]
    },
    {
     "name": "stdout",
     "output_type": "stream",
     "text": [
      "gs://ot-team/jroldan/2025-06-18_analysis/propagated/left ventricle myocardium_only_predictor_Phase>=3.parquet\n"
     ]
    },
    {
     "name": "stderr",
     "output_type": "stream",
     "text": [
      "                                                                                \r"
     ]
    },
    {
     "name": "stdout",
     "output_type": "stream",
     "text": [
      "gs://ot-team/jroldan/2025-06-18_analysis/propagated/left ventricle myocardium_only_predictor_Phase>=2.parquet\n"
     ]
    },
    {
     "name": "stderr",
     "output_type": "stream",
     "text": [
      "                                                                                \r"
     ]
    },
    {
     "name": "stdout",
     "output_type": "stream",
     "text": [
      "gs://ot-team/jroldan/2025-06-18_analysis/propagated/left ventricle myocardium_only_predictor_Phase>=1.parquet\n"
     ]
    },
    {
     "name": "stderr",
     "output_type": "stream",
     "text": [
      "                                                                                \r"
     ]
    },
    {
     "name": "stdout",
     "output_type": "stream",
     "text": [
      "gs://ot-team/jroldan/2025-06-18_analysis/propagated/left ventricle myocardium_only_predictor_PhaseT.parquet\n"
     ]
    },
    {
     "name": "stderr",
     "output_type": "stream",
     "text": [
      "                                                                                \r"
     ]
    },
    {
     "name": "stdout",
     "output_type": "stream",
     "text": [
      "gs://ot-team/jroldan/2025-06-18_analysis/propagated/macrophage_only_predictor_Phase>=4.parquet\n"
     ]
    },
    {
     "name": "stderr",
     "output_type": "stream",
     "text": [
      "                                                                                \r"
     ]
    },
    {
     "name": "stdout",
     "output_type": "stream",
     "text": [
      "gs://ot-team/jroldan/2025-06-18_analysis/propagated/macrophage_only_predictor_Phase>=3.parquet\n",
      "gs://ot-team/jroldan/2025-06-18_analysis/propagated/macrophage_only_predictor_Phase>=2.parquet\n"
     ]
    },
    {
     "name": "stderr",
     "output_type": "stream",
     "text": [
      "                                                                                \r"
     ]
    },
    {
     "name": "stdout",
     "output_type": "stream",
     "text": [
      "gs://ot-team/jroldan/2025-06-18_analysis/propagated/macrophage_only_predictor_Phase>=1.parquet\n"
     ]
    },
    {
     "name": "stderr",
     "output_type": "stream",
     "text": [
      "                                                                                \r"
     ]
    },
    {
     "name": "stdout",
     "output_type": "stream",
     "text": [
      "gs://ot-team/jroldan/2025-06-18_analysis/propagated/macrophage_only_predictor_PhaseT.parquet\n",
      "gs://ot-team/jroldan/2025-06-18_analysis/propagated/frontal cortex_only_predictor_Phase>=4.parquet\n",
      "gs://ot-team/jroldan/2025-06-18_analysis/propagated/frontal cortex_only_predictor_Phase>=3.parquet\n"
     ]
    },
    {
     "name": "stderr",
     "output_type": "stream",
     "text": [
      "                                                                                \r"
     ]
    },
    {
     "name": "stdout",
     "output_type": "stream",
     "text": [
      "gs://ot-team/jroldan/2025-06-18_analysis/propagated/frontal cortex_only_predictor_Phase>=2.parquet\n",
      "gs://ot-team/jroldan/2025-06-18_analysis/propagated/frontal cortex_only_predictor_Phase>=1.parquet\n"
     ]
    },
    {
     "name": "stderr",
     "output_type": "stream",
     "text": [
      "                                                                                \r"
     ]
    },
    {
     "name": "stdout",
     "output_type": "stream",
     "text": [
      "gs://ot-team/jroldan/2025-06-18_analysis/propagated/frontal cortex_only_predictor_PhaseT.parquet\n",
      "gs://ot-team/jroldan/2025-06-18_analysis/propagated/fibroblast_only_predictor_Phase>=4.parquet\n",
      "gs://ot-team/jroldan/2025-06-18_analysis/propagated/fibroblast_only_predictor_Phase>=3.parquet\n"
     ]
    },
    {
     "name": "stderr",
     "output_type": "stream",
     "text": [
      "                                                                                \r"
     ]
    },
    {
     "name": "stdout",
     "output_type": "stream",
     "text": [
      "gs://ot-team/jroldan/2025-06-18_analysis/propagated/fibroblast_only_predictor_Phase>=2.parquet\n",
      "gs://ot-team/jroldan/2025-06-18_analysis/propagated/fibroblast_only_predictor_Phase>=1.parquet\n"
     ]
    },
    {
     "name": "stderr",
     "output_type": "stream",
     "text": [
      "                                                                                \r"
     ]
    },
    {
     "name": "stdout",
     "output_type": "stream",
     "text": [
      "gs://ot-team/jroldan/2025-06-18_analysis/propagated/fibroblast_only_predictor_PhaseT.parquet\n"
     ]
    },
    {
     "name": "stderr",
     "output_type": "stream",
     "text": [
      "                                                                                \r"
     ]
    },
    {
     "name": "stdout",
     "output_type": "stream",
     "text": [
      "gs://ot-team/jroldan/2025-06-18_analysis/propagated/esophagus muscularis mucosa_only_predictor_Phase>=4.parquet\n"
     ]
    },
    {
     "name": "stderr",
     "output_type": "stream",
     "text": [
      "                                                                                \r"
     ]
    },
    {
     "name": "stdout",
     "output_type": "stream",
     "text": [
      "gs://ot-team/jroldan/2025-06-18_analysis/propagated/esophagus muscularis mucosa_only_predictor_Phase>=3.parquet\n",
      "gs://ot-team/jroldan/2025-06-18_analysis/propagated/esophagus muscularis mucosa_only_predictor_Phase>=2.parquet\n",
      "gs://ot-team/jroldan/2025-06-18_analysis/propagated/esophagus muscularis mucosa_only_predictor_Phase>=1.parquet\n",
      "gs://ot-team/jroldan/2025-06-18_analysis/propagated/esophagus muscularis mucosa_only_predictor_PhaseT.parquet\n"
     ]
    },
    {
     "name": "stderr",
     "output_type": "stream",
     "text": [
      "                                                                                \r"
     ]
    },
    {
     "name": "stdout",
     "output_type": "stream",
     "text": [
      "gs://ot-team/jroldan/2025-06-18_analysis/propagated/vagina_only_predictor_Phase>=4.parquet\n"
     ]
    },
    {
     "name": "stderr",
     "output_type": "stream",
     "text": [
      "                                                                                \r"
     ]
    },
    {
     "name": "stdout",
     "output_type": "stream",
     "text": [
      "gs://ot-team/jroldan/2025-06-18_analysis/propagated/vagina_only_predictor_Phase>=3.parquet\n",
      "gs://ot-team/jroldan/2025-06-18_analysis/propagated/vagina_only_predictor_Phase>=2.parquet\n"
     ]
    },
    {
     "name": "stderr",
     "output_type": "stream",
     "text": [
      "                                                                                \r"
     ]
    },
    {
     "name": "stdout",
     "output_type": "stream",
     "text": [
      "gs://ot-team/jroldan/2025-06-18_analysis/propagated/vagina_only_predictor_Phase>=1.parquet\n",
      "gs://ot-team/jroldan/2025-06-18_analysis/propagated/vagina_only_predictor_PhaseT.parquet\n"
     ]
    },
    {
     "name": "stderr",
     "output_type": "stream",
     "text": [
      "                                                                                \r"
     ]
    },
    {
     "name": "stdout",
     "output_type": "stream",
     "text": [
      "gs://ot-team/jroldan/2025-06-18_analysis/propagated/body of pancreas_only_predictor_Phase>=4.parquet\n"
     ]
    },
    {
     "name": "stderr",
     "output_type": "stream",
     "text": [
      "                                                                                \r"
     ]
    },
    {
     "name": "stdout",
     "output_type": "stream",
     "text": [
      "gs://ot-team/jroldan/2025-06-18_analysis/propagated/body of pancreas_only_predictor_Phase>=3.parquet\n"
     ]
    },
    {
     "name": "stderr",
     "output_type": "stream",
     "text": [
      "                                                                                \r"
     ]
    },
    {
     "name": "stdout",
     "output_type": "stream",
     "text": [
      "gs://ot-team/jroldan/2025-06-18_analysis/propagated/body of pancreas_only_predictor_Phase>=2.parquet\n"
     ]
    },
    {
     "name": "stderr",
     "output_type": "stream",
     "text": [
      "                                                                                \r"
     ]
    },
    {
     "name": "stdout",
     "output_type": "stream",
     "text": [
      "gs://ot-team/jroldan/2025-06-18_analysis/propagated/body of pancreas_only_predictor_Phase>=1.parquet\n"
     ]
    },
    {
     "name": "stderr",
     "output_type": "stream",
     "text": [
      "                                                                                \r"
     ]
    },
    {
     "name": "stdout",
     "output_type": "stream",
     "text": [
      "gs://ot-team/jroldan/2025-06-18_analysis/propagated/body of pancreas_only_predictor_PhaseT.parquet\n"
     ]
    },
    {
     "name": "stderr",
     "output_type": "stream",
     "text": [
      "                                                                                \r"
     ]
    },
    {
     "name": "stdout",
     "output_type": "stream",
     "text": [
      "gs://ot-team/jroldan/2025-06-18_analysis/propagated/pituitary gland_only_predictor_Phase>=4.parquet\n"
     ]
    },
    {
     "name": "stderr",
     "output_type": "stream",
     "text": [
      "                                                                                \r"
     ]
    },
    {
     "name": "stdout",
     "output_type": "stream",
     "text": [
      "gs://ot-team/jroldan/2025-06-18_analysis/propagated/pituitary gland_only_predictor_Phase>=3.parquet\n"
     ]
    },
    {
     "name": "stderr",
     "output_type": "stream",
     "text": [
      "                                                                                \r"
     ]
    },
    {
     "name": "stdout",
     "output_type": "stream",
     "text": [
      "gs://ot-team/jroldan/2025-06-18_analysis/propagated/pituitary gland_only_predictor_Phase>=2.parquet\n",
      "gs://ot-team/jroldan/2025-06-18_analysis/propagated/pituitary gland_only_predictor_Phase>=1.parquet\n",
      "gs://ot-team/jroldan/2025-06-18_analysis/propagated/pituitary gland_only_predictor_PhaseT.parquet\n",
      "gs://ot-team/jroldan/2025-06-18_analysis/propagated/dorsolateral prefrontal cortex_only_predictor_Phase>=4.parquet\n",
      "gs://ot-team/jroldan/2025-06-18_analysis/propagated/dorsolateral prefrontal cortex_only_predictor_Phase>=3.parquet\n"
     ]
    },
    {
     "name": "stderr",
     "output_type": "stream",
     "text": [
      "                                                                                \r"
     ]
    },
    {
     "name": "stdout",
     "output_type": "stream",
     "text": [
      "gs://ot-team/jroldan/2025-06-18_analysis/propagated/dorsolateral prefrontal cortex_only_predictor_Phase>=2.parquet\n",
      "gs://ot-team/jroldan/2025-06-18_analysis/propagated/dorsolateral prefrontal cortex_only_predictor_Phase>=1.parquet\n"
     ]
    },
    {
     "name": "stderr",
     "output_type": "stream",
     "text": [
      "                                                                                \r"
     ]
    },
    {
     "name": "stdout",
     "output_type": "stream",
     "text": [
      "gs://ot-team/jroldan/2025-06-18_analysis/propagated/dorsolateral prefrontal cortex_only_predictor_PhaseT.parquet\n"
     ]
    },
    {
     "name": "stderr",
     "output_type": "stream",
     "text": [
      "                                                                                \r"
     ]
    },
    {
     "name": "stdout",
     "output_type": "stream",
     "text": [
      "gs://ot-team/jroldan/2025-06-18_analysis/propagated/tibial artery_only_predictor_Phase>=4.parquet\n",
      "gs://ot-team/jroldan/2025-06-18_analysis/propagated/tibial artery_only_predictor_Phase>=3.parquet\n"
     ]
    },
    {
     "name": "stderr",
     "output_type": "stream",
     "text": [
      "                                                                                \r"
     ]
    },
    {
     "name": "stdout",
     "output_type": "stream",
     "text": [
      "gs://ot-team/jroldan/2025-06-18_analysis/propagated/tibial artery_only_predictor_Phase>=2.parquet\n"
     ]
    },
    {
     "name": "stderr",
     "output_type": "stream",
     "text": [
      "                                                                                \r"
     ]
    },
    {
     "name": "stdout",
     "output_type": "stream",
     "text": [
      "gs://ot-team/jroldan/2025-06-18_analysis/propagated/tibial artery_only_predictor_Phase>=1.parquet\n"
     ]
    },
    {
     "name": "stderr",
     "output_type": "stream",
     "text": [
      "                                                                                \r"
     ]
    },
    {
     "name": "stdout",
     "output_type": "stream",
     "text": [
      "gs://ot-team/jroldan/2025-06-18_analysis/propagated/tibial artery_only_predictor_PhaseT.parquet\n"
     ]
    },
    {
     "name": "stderr",
     "output_type": "stream",
     "text": [
      "                                                                                \r"
     ]
    },
    {
     "name": "stdout",
     "output_type": "stream",
     "text": [
      "gs://ot-team/jroldan/2025-06-18_analysis/propagated/blood_only_predictor_Phase>=4.parquet\n",
      "gs://ot-team/jroldan/2025-06-18_analysis/propagated/blood_only_predictor_Phase>=3.parquet\n",
      "gs://ot-team/jroldan/2025-06-18_analysis/propagated/blood_only_predictor_Phase>=2.parquet\n"
     ]
    },
    {
     "name": "stderr",
     "output_type": "stream",
     "text": [
      "                                                                                \r"
     ]
    },
    {
     "name": "stdout",
     "output_type": "stream",
     "text": [
      "gs://ot-team/jroldan/2025-06-18_analysis/propagated/blood_only_predictor_Phase>=1.parquet\n",
      "gs://ot-team/jroldan/2025-06-18_analysis/propagated/blood_only_predictor_PhaseT.parquet\n"
     ]
    },
    {
     "name": "stderr",
     "output_type": "stream",
     "text": [
      "                                                                                \r"
     ]
    },
    {
     "name": "stdout",
     "output_type": "stream",
     "text": [
      "gs://ot-team/jroldan/2025-06-18_analysis/propagated/CD4-positive, alpha-beta T cell_only_predictor_Phase>=4.parquet\n"
     ]
    },
    {
     "name": "stderr",
     "output_type": "stream",
     "text": [
      "                                                                                \r"
     ]
    },
    {
     "name": "stdout",
     "output_type": "stream",
     "text": [
      "gs://ot-team/jroldan/2025-06-18_analysis/propagated/CD4-positive, alpha-beta T cell_only_predictor_Phase>=3.parquet\n"
     ]
    },
    {
     "name": "stderr",
     "output_type": "stream",
     "text": [
      "                                                                                \r"
     ]
    },
    {
     "name": "stdout",
     "output_type": "stream",
     "text": [
      "gs://ot-team/jroldan/2025-06-18_analysis/propagated/CD4-positive, alpha-beta T cell_only_predictor_Phase>=2.parquet\n"
     ]
    },
    {
     "name": "stderr",
     "output_type": "stream",
     "text": [
      "                                                                                \r"
     ]
    },
    {
     "name": "stdout",
     "output_type": "stream",
     "text": [
      "gs://ot-team/jroldan/2025-06-18_analysis/propagated/CD4-positive, alpha-beta T cell_only_predictor_Phase>=1.parquet\n"
     ]
    },
    {
     "name": "stderr",
     "output_type": "stream",
     "text": [
      "                                                                                \r"
     ]
    },
    {
     "name": "stdout",
     "output_type": "stream",
     "text": [
      "gs://ot-team/jroldan/2025-06-18_analysis/propagated/CD4-positive, alpha-beta T cell_only_predictor_PhaseT.parquet\n"
     ]
    },
    {
     "name": "stderr",
     "output_type": "stream",
     "text": [
      "                                                                                \r"
     ]
    },
    {
     "name": "stdout",
     "output_type": "stream",
     "text": [
      "gs://ot-team/jroldan/2025-06-18_analysis/propagated/cerebellum_only_predictor_Phase>=4.parquet\n"
     ]
    },
    {
     "name": "stderr",
     "output_type": "stream",
     "text": [
      "                                                                                \r"
     ]
    },
    {
     "name": "stdout",
     "output_type": "stream",
     "text": [
      "gs://ot-team/jroldan/2025-06-18_analysis/propagated/cerebellum_only_predictor_Phase>=3.parquet\n"
     ]
    },
    {
     "name": "stderr",
     "output_type": "stream",
     "text": [
      "                                                                                \r"
     ]
    },
    {
     "name": "stdout",
     "output_type": "stream",
     "text": [
      "gs://ot-team/jroldan/2025-06-18_analysis/propagated/cerebellum_only_predictor_Phase>=2.parquet\n"
     ]
    },
    {
     "name": "stderr",
     "output_type": "stream",
     "text": [
      "                                                                                \r"
     ]
    },
    {
     "name": "stdout",
     "output_type": "stream",
     "text": [
      "gs://ot-team/jroldan/2025-06-18_analysis/propagated/cerebellum_only_predictor_Phase>=1.parquet\n"
     ]
    },
    {
     "name": "stderr",
     "output_type": "stream",
     "text": [
      "                                                                                \r"
     ]
    },
    {
     "name": "stdout",
     "output_type": "stream",
     "text": [
      "gs://ot-team/jroldan/2025-06-18_analysis/propagated/cerebellum_only_predictor_PhaseT.parquet\n",
      "gs://ot-team/jroldan/2025-06-18_analysis/propagated/upper lobe of left lung_only_predictor_Phase>=4.parquet\n"
     ]
    },
    {
     "name": "stderr",
     "output_type": "stream",
     "text": [
      "                                                                                \r"
     ]
    },
    {
     "name": "stdout",
     "output_type": "stream",
     "text": [
      "gs://ot-team/jroldan/2025-06-18_analysis/propagated/upper lobe of left lung_only_predictor_Phase>=3.parquet\n"
     ]
    },
    {
     "name": "stderr",
     "output_type": "stream",
     "text": [
      "                                                                                \r"
     ]
    },
    {
     "name": "stdout",
     "output_type": "stream",
     "text": [
      "gs://ot-team/jroldan/2025-06-18_analysis/propagated/upper lobe of left lung_only_predictor_Phase>=2.parquet\n"
     ]
    },
    {
     "name": "stderr",
     "output_type": "stream",
     "text": [
      "                                                                                \r"
     ]
    },
    {
     "name": "stdout",
     "output_type": "stream",
     "text": [
      "gs://ot-team/jroldan/2025-06-18_analysis/propagated/upper lobe of left lung_only_predictor_Phase>=1.parquet\n"
     ]
    },
    {
     "name": "stderr",
     "output_type": "stream",
     "text": [
      "                                                                                \r"
     ]
    },
    {
     "name": "stdout",
     "output_type": "stream",
     "text": [
      "gs://ot-team/jroldan/2025-06-18_analysis/propagated/upper lobe of left lung_only_predictor_PhaseT.parquet\n"
     ]
    },
    {
     "name": "stderr",
     "output_type": "stream",
     "text": [
      "                                                                                \r"
     ]
    },
    {
     "name": "stdout",
     "output_type": "stream",
     "text": [
      "gs://ot-team/jroldan/2025-06-18_analysis/propagated/prostate gland_only_predictor_Phase>=4.parquet\n",
      "gs://ot-team/jroldan/2025-06-18_analysis/propagated/prostate gland_only_predictor_Phase>=3.parquet\n"
     ]
    },
    {
     "name": "stderr",
     "output_type": "stream",
     "text": [
      "                                                                                \r"
     ]
    },
    {
     "name": "stdout",
     "output_type": "stream",
     "text": [
      "gs://ot-team/jroldan/2025-06-18_analysis/propagated/prostate gland_only_predictor_Phase>=2.parquet\n",
      "gs://ot-team/jroldan/2025-06-18_analysis/propagated/prostate gland_only_predictor_Phase>=1.parquet\n",
      "gs://ot-team/jroldan/2025-06-18_analysis/propagated/prostate gland_only_predictor_PhaseT.parquet\n"
     ]
    },
    {
     "name": "stderr",
     "output_type": "stream",
     "text": [
      "                                                                                \r"
     ]
    },
    {
     "name": "stdout",
     "output_type": "stream",
     "text": [
      "gs://ot-team/jroldan/2025-06-18_analysis/propagated/gastroesophageal sphincter_only_predictor_Phase>=4.parquet\n"
     ]
    },
    {
     "name": "stderr",
     "output_type": "stream",
     "text": [
      "                                                                                \r"
     ]
    },
    {
     "name": "stdout",
     "output_type": "stream",
     "text": [
      "gs://ot-team/jroldan/2025-06-18_analysis/propagated/gastroesophageal sphincter_only_predictor_Phase>=3.parquet\n"
     ]
    },
    {
     "name": "stderr",
     "output_type": "stream",
     "text": [
      "                                                                                \r"
     ]
    },
    {
     "name": "stdout",
     "output_type": "stream",
     "text": [
      "gs://ot-team/jroldan/2025-06-18_analysis/propagated/gastroesophageal sphincter_only_predictor_Phase>=2.parquet\n",
      "gs://ot-team/jroldan/2025-06-18_analysis/propagated/gastroesophageal sphincter_only_predictor_Phase>=1.parquet\n",
      "gs://ot-team/jroldan/2025-06-18_analysis/propagated/gastroesophageal sphincter_only_predictor_PhaseT.parquet\n"
     ]
    },
    {
     "name": "stderr",
     "output_type": "stream",
     "text": [
      "                                                                                \r"
     ]
    },
    {
     "name": "stdout",
     "output_type": "stream",
     "text": [
      "gs://ot-team/jroldan/2025-06-18_analysis/propagated/transverse colon_only_predictor_Phase>=4.parquet\n"
     ]
    },
    {
     "name": "stderr",
     "output_type": "stream",
     "text": [
      "                                                                                \r"
     ]
    },
    {
     "name": "stdout",
     "output_type": "stream",
     "text": [
      "gs://ot-team/jroldan/2025-06-18_analysis/propagated/transverse colon_only_predictor_Phase>=3.parquet\n"
     ]
    },
    {
     "name": "stderr",
     "output_type": "stream",
     "text": [
      "                                                                                \r"
     ]
    },
    {
     "name": "stdout",
     "output_type": "stream",
     "text": [
      "gs://ot-team/jroldan/2025-06-18_analysis/propagated/transverse colon_only_predictor_Phase>=2.parquet\n"
     ]
    },
    {
     "name": "stderr",
     "output_type": "stream",
     "text": [
      "                                                                                \r"
     ]
    },
    {
     "name": "stdout",
     "output_type": "stream",
     "text": [
      "gs://ot-team/jroldan/2025-06-18_analysis/propagated/transverse colon_only_predictor_Phase>=1.parquet\n"
     ]
    },
    {
     "name": "stderr",
     "output_type": "stream",
     "text": [
      "                                                                                \r"
     ]
    },
    {
     "name": "stdout",
     "output_type": "stream",
     "text": [
      "gs://ot-team/jroldan/2025-06-18_analysis/propagated/transverse colon_only_predictor_PhaseT.parquet\n"
     ]
    },
    {
     "name": "stderr",
     "output_type": "stream",
     "text": [
      "                                                                                \r"
     ]
    },
    {
     "name": "stdout",
     "output_type": "stream",
     "text": [
      "gs://ot-team/jroldan/2025-06-18_analysis/propagated/lymphoblastoid cell line_only_predictor_Phase>=4.parquet\n"
     ]
    },
    {
     "name": "stderr",
     "output_type": "stream",
     "text": [
      "                                                                                \r"
     ]
    },
    {
     "name": "stdout",
     "output_type": "stream",
     "text": [
      "gs://ot-team/jroldan/2025-06-18_analysis/propagated/lymphoblastoid cell line_only_predictor_Phase>=3.parquet\n"
     ]
    },
    {
     "name": "stderr",
     "output_type": "stream",
     "text": [
      "                                                                                \r"
     ]
    },
    {
     "name": "stdout",
     "output_type": "stream",
     "text": [
      "gs://ot-team/jroldan/2025-06-18_analysis/propagated/lymphoblastoid cell line_only_predictor_Phase>=2.parquet\n"
     ]
    },
    {
     "name": "stderr",
     "output_type": "stream",
     "text": [
      "                                                                                \r"
     ]
    },
    {
     "name": "stdout",
     "output_type": "stream",
     "text": [
      "gs://ot-team/jroldan/2025-06-18_analysis/propagated/lymphoblastoid cell line_only_predictor_Phase>=1.parquet\n"
     ]
    },
    {
     "name": "stderr",
     "output_type": "stream",
     "text": [
      "                                                                                \r"
     ]
    },
    {
     "name": "stdout",
     "output_type": "stream",
     "text": [
      "gs://ot-team/jroldan/2025-06-18_analysis/propagated/lymphoblastoid cell line_only_predictor_PhaseT.parquet\n",
      "gs://ot-team/jroldan/2025-06-18_analysis/propagated/CD14-positive, CD16-negative classical monocyte_only_predictor_Phase>=4.parquet\n"
     ]
    },
    {
     "name": "stderr",
     "output_type": "stream",
     "text": [
      "                                                                                \r"
     ]
    },
    {
     "name": "stdout",
     "output_type": "stream",
     "text": [
      "gs://ot-team/jroldan/2025-06-18_analysis/propagated/CD14-positive, CD16-negative classical monocyte_only_predictor_Phase>=3.parquet\n"
     ]
    },
    {
     "name": "stderr",
     "output_type": "stream",
     "text": [
      "                                                                                \r"
     ]
    },
    {
     "name": "stdout",
     "output_type": "stream",
     "text": [
      "gs://ot-team/jroldan/2025-06-18_analysis/propagated/CD14-positive, CD16-negative classical monocyte_only_predictor_Phase>=2.parquet\n"
     ]
    },
    {
     "name": "stderr",
     "output_type": "stream",
     "text": [
      "                                                                                \r"
     ]
    },
    {
     "name": "stdout",
     "output_type": "stream",
     "text": [
      "gs://ot-team/jroldan/2025-06-18_analysis/propagated/CD14-positive, CD16-negative classical monocyte_only_predictor_Phase>=1.parquet\n"
     ]
    },
    {
     "name": "stderr",
     "output_type": "stream",
     "text": [
      "                                                                                \r"
     ]
    },
    {
     "name": "stdout",
     "output_type": "stream",
     "text": [
      "gs://ot-team/jroldan/2025-06-18_analysis/propagated/CD14-positive, CD16-negative classical monocyte_only_predictor_PhaseT.parquet\n",
      "gs://ot-team/jroldan/2025-06-18_analysis/propagated/thyroid gland_only_predictor_Phase>=4.parquet\n",
      "gs://ot-team/jroldan/2025-06-18_analysis/propagated/thyroid gland_only_predictor_Phase>=3.parquet\n"
     ]
    },
    {
     "name": "stderr",
     "output_type": "stream",
     "text": [
      "                                                                                \r"
     ]
    },
    {
     "name": "stdout",
     "output_type": "stream",
     "text": [
      "gs://ot-team/jroldan/2025-06-18_analysis/propagated/thyroid gland_only_predictor_Phase>=2.parquet\n"
     ]
    },
    {
     "name": "stderr",
     "output_type": "stream",
     "text": [
      "                                                                                \r"
     ]
    },
    {
     "name": "stdout",
     "output_type": "stream",
     "text": [
      "gs://ot-team/jroldan/2025-06-18_analysis/propagated/thyroid gland_only_predictor_Phase>=1.parquet\n"
     ]
    },
    {
     "name": "stderr",
     "output_type": "stream",
     "text": [
      "                                                                                \r"
     ]
    },
    {
     "name": "stdout",
     "output_type": "stream",
     "text": [
      "gs://ot-team/jroldan/2025-06-18_analysis/propagated/thyroid gland_only_predictor_PhaseT.parquet\n"
     ]
    },
    {
     "name": "stderr",
     "output_type": "stream",
     "text": [
      "                                                                                \r"
     ]
    },
    {
     "name": "stdout",
     "output_type": "stream",
     "text": [
      "gs://ot-team/jroldan/2025-06-18_analysis/propagated/breast epithelium_only_predictor_Phase>=4.parquet\n",
      "gs://ot-team/jroldan/2025-06-18_analysis/propagated/breast epithelium_only_predictor_Phase>=3.parquet\n"
     ]
    },
    {
     "name": "stderr",
     "output_type": "stream",
     "text": [
      "                                                                                \r"
     ]
    },
    {
     "name": "stdout",
     "output_type": "stream",
     "text": [
      "gs://ot-team/jroldan/2025-06-18_analysis/propagated/breast epithelium_only_predictor_Phase>=2.parquet\n"
     ]
    },
    {
     "name": "stderr",
     "output_type": "stream",
     "text": [
      "                                                                                \r"
     ]
    },
    {
     "name": "stdout",
     "output_type": "stream",
     "text": [
      "gs://ot-team/jroldan/2025-06-18_analysis/propagated/breast epithelium_only_predictor_Phase>=1.parquet\n"
     ]
    },
    {
     "name": "stderr",
     "output_type": "stream",
     "text": [
      "                                                                                \r"
     ]
    },
    {
     "name": "stdout",
     "output_type": "stream",
     "text": [
      "gs://ot-team/jroldan/2025-06-18_analysis/propagated/breast epithelium_only_predictor_PhaseT.parquet\n"
     ]
    },
    {
     "name": "stderr",
     "output_type": "stream",
     "text": [
      "                                                                                \r"
     ]
    },
    {
     "name": "stdout",
     "output_type": "stream",
     "text": [
      "gs://ot-team/jroldan/2025-06-18_analysis/propagated/hypothalamus_only_predictor_Phase>=4.parquet\n"
     ]
    },
    {
     "name": "stderr",
     "output_type": "stream",
     "text": [
      "                                                                                \r"
     ]
    },
    {
     "name": "stdout",
     "output_type": "stream",
     "text": [
      "gs://ot-team/jroldan/2025-06-18_analysis/propagated/hypothalamus_only_predictor_Phase>=3.parquet\n"
     ]
    },
    {
     "name": "stderr",
     "output_type": "stream",
     "text": [
      "                                                                                \r"
     ]
    },
    {
     "name": "stdout",
     "output_type": "stream",
     "text": [
      "gs://ot-team/jroldan/2025-06-18_analysis/propagated/hypothalamus_only_predictor_Phase>=2.parquet\n"
     ]
    },
    {
     "name": "stderr",
     "output_type": "stream",
     "text": [
      "                                                                                \r"
     ]
    },
    {
     "name": "stdout",
     "output_type": "stream",
     "text": [
      "gs://ot-team/jroldan/2025-06-18_analysis/propagated/hypothalamus_only_predictor_Phase>=1.parquet\n"
     ]
    },
    {
     "name": "stderr",
     "output_type": "stream",
     "text": [
      "                                                                                \r"
     ]
    },
    {
     "name": "stdout",
     "output_type": "stream",
     "text": [
      "gs://ot-team/jroldan/2025-06-18_analysis/propagated/hypothalamus_only_predictor_PhaseT.parquet\n"
     ]
    },
    {
     "name": "stderr",
     "output_type": "stream",
     "text": [
      "                                                                                \r"
     ]
    },
    {
     "name": "stdout",
     "output_type": "stream",
     "text": [
      "gs://ot-team/jroldan/2025-06-18_analysis/propagated/CD8-positive, alpha-beta T cell_only_predictor_Phase>=4.parquet\n"
     ]
    },
    {
     "name": "stderr",
     "output_type": "stream",
     "text": [
      "                                                                                \r"
     ]
    },
    {
     "name": "stdout",
     "output_type": "stream",
     "text": [
      "gs://ot-team/jroldan/2025-06-18_analysis/propagated/CD8-positive, alpha-beta T cell_only_predictor_Phase>=3.parquet\n"
     ]
    },
    {
     "name": "stderr",
     "output_type": "stream",
     "text": [
      "                                                                                \r"
     ]
    },
    {
     "name": "stdout",
     "output_type": "stream",
     "text": [
      "gs://ot-team/jroldan/2025-06-18_analysis/propagated/CD8-positive, alpha-beta T cell_only_predictor_Phase>=2.parquet\n"
     ]
    },
    {
     "name": "stderr",
     "output_type": "stream",
     "text": [
      "                                                                                \r"
     ]
    },
    {
     "name": "stdout",
     "output_type": "stream",
     "text": [
      "gs://ot-team/jroldan/2025-06-18_analysis/propagated/CD8-positive, alpha-beta T cell_only_predictor_Phase>=1.parquet\n"
     ]
    },
    {
     "name": "stderr",
     "output_type": "stream",
     "text": [
      "                                                                                \r"
     ]
    },
    {
     "name": "stdout",
     "output_type": "stream",
     "text": [
      "gs://ot-team/jroldan/2025-06-18_analysis/propagated/CD8-positive, alpha-beta T cell_only_predictor_PhaseT.parquet\n"
     ]
    },
    {
     "name": "stderr",
     "output_type": "stream",
     "text": [
      "                                                                                \r"
     ]
    },
    {
     "name": "stdout",
     "output_type": "stream",
     "text": [
      "gs://ot-team/jroldan/2025-06-18_analysis/propagated/memory regulatory T cell_only_predictor_Phase>=4.parquet\n"
     ]
    },
    {
     "name": "stderr",
     "output_type": "stream",
     "text": [
      "                                                                                \r"
     ]
    },
    {
     "name": "stdout",
     "output_type": "stream",
     "text": [
      "gs://ot-team/jroldan/2025-06-18_analysis/propagated/memory regulatory T cell_only_predictor_Phase>=3.parquet\n"
     ]
    },
    {
     "name": "stderr",
     "output_type": "stream",
     "text": [
      "                                                                                \r"
     ]
    },
    {
     "name": "stdout",
     "output_type": "stream",
     "text": [
      "gs://ot-team/jroldan/2025-06-18_analysis/propagated/memory regulatory T cell_only_predictor_Phase>=2.parquet\n"
     ]
    },
    {
     "name": "stderr",
     "output_type": "stream",
     "text": [
      "                                                                                \r"
     ]
    },
    {
     "name": "stdout",
     "output_type": "stream",
     "text": [
      "gs://ot-team/jroldan/2025-06-18_analysis/propagated/memory regulatory T cell_only_predictor_Phase>=1.parquet\n"
     ]
    },
    {
     "name": "stderr",
     "output_type": "stream",
     "text": [
      "                                                                                \r"
     ]
    },
    {
     "name": "stdout",
     "output_type": "stream",
     "text": [
      "gs://ot-team/jroldan/2025-06-18_analysis/propagated/memory regulatory T cell_only_predictor_PhaseT.parquet\n"
     ]
    },
    {
     "name": "stderr",
     "output_type": "stream",
     "text": [
      "                                                                                \r"
     ]
    },
    {
     "name": "stdout",
     "output_type": "stream",
     "text": [
      "gs://ot-team/jroldan/2025-06-18_analysis/propagated/testis_only_predictor_Phase>=4.parquet\n"
     ]
    },
    {
     "name": "stderr",
     "output_type": "stream",
     "text": [
      "                                                                                \r"
     ]
    },
    {
     "name": "stdout",
     "output_type": "stream",
     "text": [
      "gs://ot-team/jroldan/2025-06-18_analysis/propagated/testis_only_predictor_Phase>=3.parquet\n"
     ]
    },
    {
     "name": "stderr",
     "output_type": "stream",
     "text": [
      "                                                                                \r"
     ]
    },
    {
     "name": "stdout",
     "output_type": "stream",
     "text": [
      "gs://ot-team/jroldan/2025-06-18_analysis/propagated/testis_only_predictor_Phase>=2.parquet\n",
      "gs://ot-team/jroldan/2025-06-18_analysis/propagated/testis_only_predictor_Phase>=1.parquet\n"
     ]
    },
    {
     "name": "stderr",
     "output_type": "stream",
     "text": [
      "                                                                                \r"
     ]
    },
    {
     "name": "stdout",
     "output_type": "stream",
     "text": [
      "gs://ot-team/jroldan/2025-06-18_analysis/propagated/testis_only_predictor_PhaseT.parquet\n"
     ]
    },
    {
     "name": "stderr",
     "output_type": "stream",
     "text": [
      "                                                                                \r"
     ]
    },
    {
     "name": "stdout",
     "output_type": "stream",
     "text": [
      "gs://ot-team/jroldan/2025-06-18_analysis/propagated/neutrophil_only_predictor_Phase>=4.parquet\n"
     ]
    },
    {
     "name": "stderr",
     "output_type": "stream",
     "text": [
      "                                                                                \r"
     ]
    },
    {
     "name": "stdout",
     "output_type": "stream",
     "text": [
      "gs://ot-team/jroldan/2025-06-18_analysis/propagated/neutrophil_only_predictor_Phase>=3.parquet\n"
     ]
    },
    {
     "name": "stderr",
     "output_type": "stream",
     "text": [
      "                                                                                \r"
     ]
    },
    {
     "name": "stdout",
     "output_type": "stream",
     "text": [
      "gs://ot-team/jroldan/2025-06-18_analysis/propagated/neutrophil_only_predictor_Phase>=2.parquet\n"
     ]
    },
    {
     "name": "stderr",
     "output_type": "stream",
     "text": [
      "                                                                                \r"
     ]
    },
    {
     "name": "stdout",
     "output_type": "stream",
     "text": [
      "gs://ot-team/jroldan/2025-06-18_analysis/propagated/neutrophil_only_predictor_Phase>=1.parquet\n"
     ]
    },
    {
     "name": "stderr",
     "output_type": "stream",
     "text": [
      "                                                                                \r"
     ]
    },
    {
     "name": "stdout",
     "output_type": "stream",
     "text": [
      "gs://ot-team/jroldan/2025-06-18_analysis/propagated/neutrophil_only_predictor_PhaseT.parquet\n"
     ]
    },
    {
     "name": "stderr",
     "output_type": "stream",
     "text": [
      "                                                                                \r"
     ]
    },
    {
     "name": "stdout",
     "output_type": "stream",
     "text": [
      "gs://ot-team/jroldan/2025-06-18_analysis/propagated/caudate nucleus_only_predictor_Phase>=4.parquet\n"
     ]
    },
    {
     "name": "stderr",
     "output_type": "stream",
     "text": [
      "                                                                                \r"
     ]
    },
    {
     "name": "stdout",
     "output_type": "stream",
     "text": [
      "gs://ot-team/jroldan/2025-06-18_analysis/propagated/caudate nucleus_only_predictor_Phase>=3.parquet\n"
     ]
    },
    {
     "name": "stderr",
     "output_type": "stream",
     "text": [
      "                                                                                \r"
     ]
    },
    {
     "name": "stdout",
     "output_type": "stream",
     "text": [
      "gs://ot-team/jroldan/2025-06-18_analysis/propagated/caudate nucleus_only_predictor_Phase>=2.parquet\n",
      "gs://ot-team/jroldan/2025-06-18_analysis/propagated/caudate nucleus_only_predictor_Phase>=1.parquet\n"
     ]
    },
    {
     "name": "stderr",
     "output_type": "stream",
     "text": [
      "                                                                                \r"
     ]
    },
    {
     "name": "stdout",
     "output_type": "stream",
     "text": [
      "gs://ot-team/jroldan/2025-06-18_analysis/propagated/caudate nucleus_only_predictor_PhaseT.parquet\n"
     ]
    },
    {
     "name": "stderr",
     "output_type": "stream",
     "text": [
      "                                                                                \r"
     ]
    },
    {
     "name": "stdout",
     "output_type": "stream",
     "text": [
      "gs://ot-team/jroldan/2025-06-18_analysis/propagated/cortex of kidney_only_predictor_Phase>=4.parquet\n"
     ]
    },
    {
     "name": "stderr",
     "output_type": "stream",
     "text": [
      "                                                                                \r"
     ]
    },
    {
     "name": "stdout",
     "output_type": "stream",
     "text": [
      "gs://ot-team/jroldan/2025-06-18_analysis/propagated/cortex of kidney_only_predictor_Phase>=3.parquet\n"
     ]
    },
    {
     "name": "stderr",
     "output_type": "stream",
     "text": [
      "                                                                                \r"
     ]
    },
    {
     "name": "stdout",
     "output_type": "stream",
     "text": [
      "gs://ot-team/jroldan/2025-06-18_analysis/propagated/cortex of kidney_only_predictor_Phase>=2.parquet\n"
     ]
    },
    {
     "name": "stderr",
     "output_type": "stream",
     "text": [
      "                                                                                \r"
     ]
    },
    {
     "name": "stdout",
     "output_type": "stream",
     "text": [
      "gs://ot-team/jroldan/2025-06-18_analysis/propagated/cortex of kidney_only_predictor_Phase>=1.parquet\n"
     ]
    },
    {
     "name": "stderr",
     "output_type": "stream",
     "text": [
      "                                                                                \r"
     ]
    },
    {
     "name": "stdout",
     "output_type": "stream",
     "text": [
      "gs://ot-team/jroldan/2025-06-18_analysis/propagated/cortex of kidney_only_predictor_PhaseT.parquet\n",
      "gs://ot-team/jroldan/2025-06-18_analysis/propagated/esophagus squamous epithelium_only_predictor_Phase>=4.parquet\n",
      "gs://ot-team/jroldan/2025-06-18_analysis/propagated/esophagus squamous epithelium_only_predictor_Phase>=3.parquet\n",
      "gs://ot-team/jroldan/2025-06-18_analysis/propagated/esophagus squamous epithelium_only_predictor_Phase>=2.parquet\n",
      "gs://ot-team/jroldan/2025-06-18_analysis/propagated/esophagus squamous epithelium_only_predictor_Phase>=1.parquet\n"
     ]
    },
    {
     "name": "stderr",
     "output_type": "stream",
     "text": [
      "                                                                                \r"
     ]
    },
    {
     "name": "stdout",
     "output_type": "stream",
     "text": [
      "gs://ot-team/jroldan/2025-06-18_analysis/propagated/esophagus squamous epithelium_only_predictor_PhaseT.parquet\n"
     ]
    },
    {
     "name": "stderr",
     "output_type": "stream",
     "text": [
      "                                                                                \r"
     ]
    },
    {
     "name": "stdout",
     "output_type": "stream",
     "text": [
      "gs://ot-team/jroldan/2025-06-18_analysis/propagated/CD14-low, CD16-positive monocyte_only_predictor_Phase>=4.parquet\n"
     ]
    },
    {
     "name": "stderr",
     "output_type": "stream",
     "text": [
      "                                                                                \r"
     ]
    },
    {
     "name": "stdout",
     "output_type": "stream",
     "text": [
      "gs://ot-team/jroldan/2025-06-18_analysis/propagated/CD14-low, CD16-positive monocyte_only_predictor_Phase>=3.parquet\n"
     ]
    },
    {
     "name": "stderr",
     "output_type": "stream",
     "text": [
      "                                                                                \r"
     ]
    },
    {
     "name": "stdout",
     "output_type": "stream",
     "text": [
      "gs://ot-team/jroldan/2025-06-18_analysis/propagated/CD14-low, CD16-positive monocyte_only_predictor_Phase>=2.parquet\n"
     ]
    },
    {
     "name": "stderr",
     "output_type": "stream",
     "text": [
      "                                                                                \r"
     ]
    },
    {
     "name": "stdout",
     "output_type": "stream",
     "text": [
      "gs://ot-team/jroldan/2025-06-18_analysis/propagated/CD14-low, CD16-positive monocyte_only_predictor_Phase>=1.parquet\n"
     ]
    },
    {
     "name": "stderr",
     "output_type": "stream",
     "text": [
      "                                                                                \r"
     ]
    },
    {
     "name": "stdout",
     "output_type": "stream",
     "text": [
      "gs://ot-team/jroldan/2025-06-18_analysis/propagated/CD14-low, CD16-positive monocyte_only_predictor_PhaseT.parquet\n"
     ]
    },
    {
     "name": "stderr",
     "output_type": "stream",
     "text": [
      "                                                                                \r"
     ]
    },
    {
     "name": "stdout",
     "output_type": "stream",
     "text": [
      "gs://ot-team/jroldan/2025-06-18_analysis/propagated/ascending aorta_only_predictor_Phase>=4.parquet\n"
     ]
    },
    {
     "name": "stderr",
     "output_type": "stream",
     "text": [
      "                                                                                \r"
     ]
    },
    {
     "name": "stdout",
     "output_type": "stream",
     "text": [
      "gs://ot-team/jroldan/2025-06-18_analysis/propagated/ascending aorta_only_predictor_Phase>=3.parquet\n"
     ]
    },
    {
     "name": "stderr",
     "output_type": "stream",
     "text": [
      "                                                                                \r"
     ]
    },
    {
     "name": "stdout",
     "output_type": "stream",
     "text": [
      "gs://ot-team/jroldan/2025-06-18_analysis/propagated/ascending aorta_only_predictor_Phase>=2.parquet\n"
     ]
    },
    {
     "name": "stderr",
     "output_type": "stream",
     "text": [
      "                                                                                \r"
     ]
    },
    {
     "name": "stdout",
     "output_type": "stream",
     "text": [
      "gs://ot-team/jroldan/2025-06-18_analysis/propagated/ascending aorta_only_predictor_Phase>=1.parquet\n",
      "gs://ot-team/jroldan/2025-06-18_analysis/propagated/ascending aorta_only_predictor_PhaseT.parquet\n"
     ]
    },
    {
     "name": "stderr",
     "output_type": "stream",
     "text": [
      "                                                                                \r"
     ]
    },
    {
     "name": "stdout",
     "output_type": "stream",
     "text": [
      "gs://ot-team/jroldan/2025-06-18_analysis/propagated/blood plasma_only_predictor_Phase>=4.parquet\n"
     ]
    },
    {
     "name": "stderr",
     "output_type": "stream",
     "text": [
      "                                                                                \r"
     ]
    },
    {
     "name": "stdout",
     "output_type": "stream",
     "text": [
      "gs://ot-team/jroldan/2025-06-18_analysis/propagated/blood plasma_only_predictor_Phase>=3.parquet\n"
     ]
    },
    {
     "name": "stderr",
     "output_type": "stream",
     "text": [
      "                                                                                \r"
     ]
    },
    {
     "name": "stdout",
     "output_type": "stream",
     "text": [
      "gs://ot-team/jroldan/2025-06-18_analysis/propagated/blood plasma_only_predictor_Phase>=2.parquet\n"
     ]
    },
    {
     "name": "stderr",
     "output_type": "stream",
     "text": [
      "                                                                                \r"
     ]
    },
    {
     "name": "stdout",
     "output_type": "stream",
     "text": [
      "gs://ot-team/jroldan/2025-06-18_analysis/propagated/blood plasma_only_predictor_Phase>=1.parquet\n"
     ]
    },
    {
     "name": "stderr",
     "output_type": "stream",
     "text": [
      "                                                                                \r"
     ]
    },
    {
     "name": "stdout",
     "output_type": "stream",
     "text": [
      "gs://ot-team/jroldan/2025-06-18_analysis/propagated/blood plasma_only_predictor_PhaseT.parquet\n"
     ]
    },
    {
     "name": "stderr",
     "output_type": "stream",
     "text": [
      "                                                                                \r"
     ]
    },
    {
     "name": "stdout",
     "output_type": "stream",
     "text": [
      "gs://ot-team/jroldan/2025-06-18_analysis/propagated/adrenal gland_only_predictor_Phase>=4.parquet\n",
      "gs://ot-team/jroldan/2025-06-18_analysis/propagated/adrenal gland_only_predictor_Phase>=3.parquet\n",
      "gs://ot-team/jroldan/2025-06-18_analysis/propagated/adrenal gland_only_predictor_Phase>=2.parquet\n",
      "gs://ot-team/jroldan/2025-06-18_analysis/propagated/adrenal gland_only_predictor_Phase>=1.parquet\n"
     ]
    },
    {
     "name": "stderr",
     "output_type": "stream",
     "text": [
      "                                                                                \r"
     ]
    },
    {
     "name": "stdout",
     "output_type": "stream",
     "text": [
      "gs://ot-team/jroldan/2025-06-18_analysis/propagated/adrenal gland_only_predictor_PhaseT.parquet\n"
     ]
    },
    {
     "name": "stderr",
     "output_type": "stream",
     "text": [
      "                                                                                \r"
     ]
    },
    {
     "name": "stdout",
     "output_type": "stream",
     "text": [
      "gs://ot-team/jroldan/2025-06-18_analysis/propagated/omental fat pad_only_predictor_Phase>=4.parquet\n",
      "gs://ot-team/jroldan/2025-06-18_analysis/propagated/omental fat pad_only_predictor_Phase>=3.parquet\n",
      "gs://ot-team/jroldan/2025-06-18_analysis/propagated/omental fat pad_only_predictor_Phase>=2.parquet\n"
     ]
    },
    {
     "name": "stderr",
     "output_type": "stream",
     "text": [
      "                                                                                \r"
     ]
    },
    {
     "name": "stdout",
     "output_type": "stream",
     "text": [
      "gs://ot-team/jroldan/2025-06-18_analysis/propagated/omental fat pad_only_predictor_Phase>=1.parquet\n"
     ]
    },
    {
     "name": "stderr",
     "output_type": "stream",
     "text": [
      "                                                                                \r"
     ]
    },
    {
     "name": "stdout",
     "output_type": "stream",
     "text": [
      "gs://ot-team/jroldan/2025-06-18_analysis/propagated/omental fat pad_only_predictor_PhaseT.parquet\n"
     ]
    },
    {
     "name": "stderr",
     "output_type": "stream",
     "text": [
      "                                                                                \r"
     ]
    },
    {
     "name": "stdout",
     "output_type": "stream",
     "text": [
      "gs://ot-team/jroldan/2025-06-18_analysis/propagated/neocortex_only_predictor_Phase>=4.parquet\n"
     ]
    },
    {
     "name": "stderr",
     "output_type": "stream",
     "text": [
      "                                                                                \r"
     ]
    },
    {
     "name": "stdout",
     "output_type": "stream",
     "text": [
      "gs://ot-team/jroldan/2025-06-18_analysis/propagated/neocortex_only_predictor_Phase>=3.parquet\n"
     ]
    },
    {
     "name": "stderr",
     "output_type": "stream",
     "text": [
      "                                                                                \r"
     ]
    },
    {
     "name": "stdout",
     "output_type": "stream",
     "text": [
      "gs://ot-team/jroldan/2025-06-18_analysis/propagated/neocortex_only_predictor_Phase>=2.parquet\n"
     ]
    },
    {
     "name": "stderr",
     "output_type": "stream",
     "text": [
      "                                                                                \r"
     ]
    },
    {
     "name": "stdout",
     "output_type": "stream",
     "text": [
      "gs://ot-team/jroldan/2025-06-18_analysis/propagated/neocortex_only_predictor_Phase>=1.parquet\n"
     ]
    },
    {
     "name": "stderr",
     "output_type": "stream",
     "text": [
      "                                                                                \r"
     ]
    },
    {
     "name": "stdout",
     "output_type": "stream",
     "text": [
      "gs://ot-team/jroldan/2025-06-18_analysis/propagated/neocortex_only_predictor_PhaseT.parquet\n"
     ]
    },
    {
     "name": "stderr",
     "output_type": "stream",
     "text": [
      "                                                                                \r"
     ]
    },
    {
     "name": "stdout",
     "output_type": "stream",
     "text": [
      "gs://ot-team/jroldan/2025-06-18_analysis/propagated/skin of body_only_predictor_Phase>=4.parquet\n"
     ]
    },
    {
     "name": "stderr",
     "output_type": "stream",
     "text": [
      "                                                                                \r"
     ]
    },
    {
     "name": "stdout",
     "output_type": "stream",
     "text": [
      "gs://ot-team/jroldan/2025-06-18_analysis/propagated/skin of body_only_predictor_Phase>=3.parquet\n"
     ]
    },
    {
     "name": "stderr",
     "output_type": "stream",
     "text": [
      "                                                                                \r"
     ]
    },
    {
     "name": "stdout",
     "output_type": "stream",
     "text": [
      "gs://ot-team/jroldan/2025-06-18_analysis/propagated/skin of body_only_predictor_Phase>=2.parquet\n"
     ]
    },
    {
     "name": "stderr",
     "output_type": "stream",
     "text": [
      "                                                                                \r"
     ]
    },
    {
     "name": "stdout",
     "output_type": "stream",
     "text": [
      "gs://ot-team/jroldan/2025-06-18_analysis/propagated/skin of body_only_predictor_Phase>=1.parquet\n",
      "gs://ot-team/jroldan/2025-06-18_analysis/propagated/skin of body_only_predictor_PhaseT.parquet\n"
     ]
    },
    {
     "name": "stderr",
     "output_type": "stream",
     "text": [
      "                                                                                \r"
     ]
    },
    {
     "name": "stdout",
     "output_type": "stream",
     "text": [
      "gs://ot-team/jroldan/2025-06-18_analysis/propagated/nucleus accumbens_only_predictor_Phase>=4.parquet\n"
     ]
    },
    {
     "name": "stderr",
     "output_type": "stream",
     "text": [
      "                                                                                \r"
     ]
    },
    {
     "name": "stdout",
     "output_type": "stream",
     "text": [
      "gs://ot-team/jroldan/2025-06-18_analysis/propagated/nucleus accumbens_only_predictor_Phase>=3.parquet\n"
     ]
    },
    {
     "name": "stderr",
     "output_type": "stream",
     "text": [
      "                                                                                \r"
     ]
    },
    {
     "name": "stdout",
     "output_type": "stream",
     "text": [
      "gs://ot-team/jroldan/2025-06-18_analysis/propagated/nucleus accumbens_only_predictor_Phase>=2.parquet\n"
     ]
    },
    {
     "name": "stderr",
     "output_type": "stream",
     "text": [
      "                                                                                \r"
     ]
    },
    {
     "name": "stdout",
     "output_type": "stream",
     "text": [
      "gs://ot-team/jroldan/2025-06-18_analysis/propagated/nucleus accumbens_only_predictor_Phase>=1.parquet\n"
     ]
    },
    {
     "name": "stderr",
     "output_type": "stream",
     "text": [
      "                                                                                \r"
     ]
    },
    {
     "name": "stdout",
     "output_type": "stream",
     "text": [
      "gs://ot-team/jroldan/2025-06-18_analysis/propagated/nucleus accumbens_only_predictor_PhaseT.parquet\n",
      "gs://ot-team/jroldan/2025-06-18_analysis/propagated/C1 segment of cervical spinal cord_only_predictor_Phase>=4.parquet\n",
      "gs://ot-team/jroldan/2025-06-18_analysis/propagated/C1 segment of cervical spinal cord_only_predictor_Phase>=3.parquet\n",
      "gs://ot-team/jroldan/2025-06-18_analysis/propagated/C1 segment of cervical spinal cord_only_predictor_Phase>=2.parquet\n",
      "gs://ot-team/jroldan/2025-06-18_analysis/propagated/C1 segment of cervical spinal cord_only_predictor_Phase>=1.parquet\n",
      "gs://ot-team/jroldan/2025-06-18_analysis/propagated/C1 segment of cervical spinal cord_only_predictor_PhaseT.parquet\n"
     ]
    },
    {
     "name": "stderr",
     "output_type": "stream",
     "text": [
      "                                                                                \r"
     ]
    },
    {
     "name": "stdout",
     "output_type": "stream",
     "text": [
      "gs://ot-team/jroldan/2025-06-18_analysis/propagated/naive regulatory T cell_only_predictor_Phase>=4.parquet\n"
     ]
    },
    {
     "name": "stderr",
     "output_type": "stream",
     "text": [
      "                                                                                \r"
     ]
    },
    {
     "name": "stdout",
     "output_type": "stream",
     "text": [
      "gs://ot-team/jroldan/2025-06-18_analysis/propagated/naive regulatory T cell_only_predictor_Phase>=3.parquet\n"
     ]
    },
    {
     "name": "stderr",
     "output_type": "stream",
     "text": [
      "                                                                                \r"
     ]
    },
    {
     "name": "stdout",
     "output_type": "stream",
     "text": [
      "gs://ot-team/jroldan/2025-06-18_analysis/propagated/naive regulatory T cell_only_predictor_Phase>=2.parquet\n"
     ]
    },
    {
     "name": "stderr",
     "output_type": "stream",
     "text": [
      "                                                                                \r"
     ]
    },
    {
     "name": "stdout",
     "output_type": "stream",
     "text": [
      "gs://ot-team/jroldan/2025-06-18_analysis/propagated/naive regulatory T cell_only_predictor_Phase>=1.parquet\n"
     ]
    },
    {
     "name": "stderr",
     "output_type": "stream",
     "text": [
      "                                                                                \r"
     ]
    },
    {
     "name": "stdout",
     "output_type": "stream",
     "text": [
      "gs://ot-team/jroldan/2025-06-18_analysis/propagated/naive regulatory T cell_only_predictor_PhaseT.parquet\n"
     ]
    },
    {
     "name": "stderr",
     "output_type": "stream",
     "text": [
      "                                                                                \r"
     ]
    },
    {
     "name": "stdout",
     "output_type": "stream",
     "text": [
      "gs://ot-team/jroldan/2025-06-18_analysis/propagated/T-helper 2 cell_only_predictor_Phase>=4.parquet\n"
     ]
    },
    {
     "name": "stderr",
     "output_type": "stream",
     "text": [
      "                                                                                \r"
     ]
    },
    {
     "name": "stdout",
     "output_type": "stream",
     "text": [
      "gs://ot-team/jroldan/2025-06-18_analysis/propagated/T-helper 2 cell_only_predictor_Phase>=3.parquet\n"
     ]
    },
    {
     "name": "stderr",
     "output_type": "stream",
     "text": [
      "                                                                                \r"
     ]
    },
    {
     "name": "stdout",
     "output_type": "stream",
     "text": [
      "gs://ot-team/jroldan/2025-06-18_analysis/propagated/T-helper 2 cell_only_predictor_Phase>=2.parquet\n"
     ]
    },
    {
     "name": "stderr",
     "output_type": "stream",
     "text": [
      "                                                                                \r"
     ]
    },
    {
     "name": "stdout",
     "output_type": "stream",
     "text": [
      "gs://ot-team/jroldan/2025-06-18_analysis/propagated/T-helper 2 cell_only_predictor_Phase>=1.parquet\n",
      "gs://ot-team/jroldan/2025-06-18_analysis/propagated/T-helper 2 cell_only_predictor_PhaseT.parquet\n"
     ]
    },
    {
     "name": "stderr",
     "output_type": "stream",
     "text": [
      "                                                                                \r"
     ]
    },
    {
     "name": "stdout",
     "output_type": "stream",
     "text": [
      "gs://ot-team/jroldan/2025-06-18_analysis/propagated/sensory neuron_only_predictor_Phase>=4.parquet\n"
     ]
    },
    {
     "name": "stderr",
     "output_type": "stream",
     "text": [
      "                                                                                \r"
     ]
    },
    {
     "name": "stdout",
     "output_type": "stream",
     "text": [
      "gs://ot-team/jroldan/2025-06-18_analysis/propagated/sensory neuron_only_predictor_Phase>=3.parquet\n"
     ]
    },
    {
     "name": "stderr",
     "output_type": "stream",
     "text": [
      "                                                                                \r"
     ]
    },
    {
     "name": "stdout",
     "output_type": "stream",
     "text": [
      "gs://ot-team/jroldan/2025-06-18_analysis/propagated/sensory neuron_only_predictor_Phase>=2.parquet\n"
     ]
    },
    {
     "name": "stderr",
     "output_type": "stream",
     "text": [
      "                                                                                \r"
     ]
    },
    {
     "name": "stdout",
     "output_type": "stream",
     "text": [
      "gs://ot-team/jroldan/2025-06-18_analysis/propagated/sensory neuron_only_predictor_Phase>=1.parquet\n",
      "gs://ot-team/jroldan/2025-06-18_analysis/propagated/sensory neuron_only_predictor_PhaseT.parquet\n"
     ]
    },
    {
     "name": "stderr",
     "output_type": "stream",
     "text": [
      "                                                                                \r"
     ]
    },
    {
     "name": "stdout",
     "output_type": "stream",
     "text": [
      "gs://ot-team/jroldan/2025-06-18_analysis/propagated/uterus_only_predictor_Phase>=4.parquet\n"
     ]
    },
    {
     "name": "stderr",
     "output_type": "stream",
     "text": [
      "                                                                                \r"
     ]
    },
    {
     "name": "stdout",
     "output_type": "stream",
     "text": [
      "gs://ot-team/jroldan/2025-06-18_analysis/propagated/uterus_only_predictor_Phase>=3.parquet\n"
     ]
    },
    {
     "name": "stderr",
     "output_type": "stream",
     "text": [
      "                                                                                \r"
     ]
    },
    {
     "name": "stdout",
     "output_type": "stream",
     "text": [
      "gs://ot-team/jroldan/2025-06-18_analysis/propagated/uterus_only_predictor_Phase>=2.parquet\n"
     ]
    },
    {
     "name": "stderr",
     "output_type": "stream",
     "text": [
      "                                                                                \r"
     ]
    },
    {
     "name": "stdout",
     "output_type": "stream",
     "text": [
      "gs://ot-team/jroldan/2025-06-18_analysis/propagated/uterus_only_predictor_Phase>=1.parquet\n"
     ]
    },
    {
     "name": "stderr",
     "output_type": "stream",
     "text": [
      "                                                                                \r"
     ]
    },
    {
     "name": "stdout",
     "output_type": "stream",
     "text": [
      "gs://ot-team/jroldan/2025-06-18_analysis/propagated/uterus_only_predictor_PhaseT.parquet\n"
     ]
    },
    {
     "name": "stderr",
     "output_type": "stream",
     "text": [
      "                                                                                \r"
     ]
    },
    {
     "name": "stdout",
     "output_type": "stream",
     "text": [
      "gs://ot-team/jroldan/2025-06-18_analysis/propagated/floor plate_only_predictor_Phase>=4.parquet\n"
     ]
    },
    {
     "name": "stderr",
     "output_type": "stream",
     "text": [
      "                                                                                \r"
     ]
    },
    {
     "name": "stdout",
     "output_type": "stream",
     "text": [
      "gs://ot-team/jroldan/2025-06-18_analysis/propagated/floor plate_only_predictor_Phase>=3.parquet\n"
     ]
    },
    {
     "name": "stderr",
     "output_type": "stream",
     "text": [
      "                                                                                \r"
     ]
    },
    {
     "name": "stdout",
     "output_type": "stream",
     "text": [
      "gs://ot-team/jroldan/2025-06-18_analysis/propagated/floor plate_only_predictor_Phase>=2.parquet\n"
     ]
    },
    {
     "name": "stderr",
     "output_type": "stream",
     "text": [
      "                                                                                \r"
     ]
    },
    {
     "name": "stdout",
     "output_type": "stream",
     "text": [
      "gs://ot-team/jroldan/2025-06-18_analysis/propagated/floor plate_only_predictor_Phase>=1.parquet\n"
     ]
    },
    {
     "name": "stderr",
     "output_type": "stream",
     "text": [
      "                                                                                \r"
     ]
    },
    {
     "name": "stdout",
     "output_type": "stream",
     "text": [
      "gs://ot-team/jroldan/2025-06-18_analysis/propagated/floor plate_only_predictor_PhaseT.parquet\n"
     ]
    },
    {
     "name": "stderr",
     "output_type": "stream",
     "text": [
      "                                                                                \r"
     ]
    },
    {
     "name": "stdout",
     "output_type": "stream",
     "text": [
      "gs://ot-team/jroldan/2025-06-18_analysis/propagated/coronary artery_only_predictor_Phase>=4.parquet\n"
     ]
    },
    {
     "name": "stderr",
     "output_type": "stream",
     "text": [
      "                                                                                \r"
     ]
    },
    {
     "name": "stdout",
     "output_type": "stream",
     "text": [
      "gs://ot-team/jroldan/2025-06-18_analysis/propagated/coronary artery_only_predictor_Phase>=3.parquet\n",
      "gs://ot-team/jroldan/2025-06-18_analysis/propagated/coronary artery_only_predictor_Phase>=2.parquet\n",
      "gs://ot-team/jroldan/2025-06-18_analysis/propagated/coronary artery_only_predictor_Phase>=1.parquet\n",
      "gs://ot-team/jroldan/2025-06-18_analysis/propagated/coronary artery_only_predictor_PhaseT.parquet\n"
     ]
    },
    {
     "name": "stderr",
     "output_type": "stream",
     "text": [
      "                                                                                \r"
     ]
    },
    {
     "name": "stdout",
     "output_type": "stream",
     "text": [
      "gs://ot-team/jroldan/2025-06-18_analysis/propagated/suprapubic skin_only_predictor_Phase>=4.parquet\n"
     ]
    },
    {
     "name": "stderr",
     "output_type": "stream",
     "text": [
      "                                                                                \r"
     ]
    },
    {
     "name": "stdout",
     "output_type": "stream",
     "text": [
      "gs://ot-team/jroldan/2025-06-18_analysis/propagated/suprapubic skin_only_predictor_Phase>=3.parquet\n",
      "gs://ot-team/jroldan/2025-06-18_analysis/propagated/suprapubic skin_only_predictor_Phase>=2.parquet\n"
     ]
    },
    {
     "name": "stderr",
     "output_type": "stream",
     "text": [
      "                                                                                \r"
     ]
    },
    {
     "name": "stdout",
     "output_type": "stream",
     "text": [
      "gs://ot-team/jroldan/2025-06-18_analysis/propagated/suprapubic skin_only_predictor_Phase>=1.parquet\n"
     ]
    },
    {
     "name": "stderr",
     "output_type": "stream",
     "text": [
      "                                                                                \r"
     ]
    },
    {
     "name": "stdout",
     "output_type": "stream",
     "text": [
      "gs://ot-team/jroldan/2025-06-18_analysis/propagated/suprapubic skin_only_predictor_PhaseT.parquet\n"
     ]
    },
    {
     "name": "stderr",
     "output_type": "stream",
     "text": [
      "                                                                                \r"
     ]
    },
    {
     "name": "stdout",
     "output_type": "stream",
     "text": [
      "gs://ot-team/jroldan/2025-06-18_analysis/propagated/T-helper 17 cell_only_predictor_Phase>=4.parquet\n",
      "gs://ot-team/jroldan/2025-06-18_analysis/propagated/T-helper 17 cell_only_predictor_Phase>=3.parquet\n"
     ]
    },
    {
     "name": "stderr",
     "output_type": "stream",
     "text": [
      "                                                                                \r"
     ]
    },
    {
     "name": "stdout",
     "output_type": "stream",
     "text": [
      "gs://ot-team/jroldan/2025-06-18_analysis/propagated/T-helper 17 cell_only_predictor_Phase>=2.parquet\n",
      "gs://ot-team/jroldan/2025-06-18_analysis/propagated/T-helper 17 cell_only_predictor_Phase>=1.parquet\n"
     ]
    },
    {
     "name": "stderr",
     "output_type": "stream",
     "text": [
      "                                                                                \r"
     ]
    },
    {
     "name": "stdout",
     "output_type": "stream",
     "text": [
      "gs://ot-team/jroldan/2025-06-18_analysis/propagated/T-helper 17 cell_only_predictor_PhaseT.parquet\n"
     ]
    },
    {
     "name": "stderr",
     "output_type": "stream",
     "text": [
      "                                                                                \r"
     ]
    },
    {
     "name": "stdout",
     "output_type": "stream",
     "text": [
      "gs://ot-team/jroldan/2025-06-18_analysis/propagated/stomach_only_predictor_Phase>=4.parquet\n",
      "gs://ot-team/jroldan/2025-06-18_analysis/propagated/stomach_only_predictor_Phase>=3.parquet\n"
     ]
    },
    {
     "name": "stderr",
     "output_type": "stream",
     "text": [
      "                                                                                \r"
     ]
    },
    {
     "name": "stdout",
     "output_type": "stream",
     "text": [
      "gs://ot-team/jroldan/2025-06-18_analysis/propagated/stomach_only_predictor_Phase>=2.parquet\n"
     ]
    },
    {
     "name": "stderr",
     "output_type": "stream",
     "text": [
      "                                                                                \r"
     ]
    },
    {
     "name": "stdout",
     "output_type": "stream",
     "text": [
      "gs://ot-team/jroldan/2025-06-18_analysis/propagated/stomach_only_predictor_Phase>=1.parquet\n"
     ]
    },
    {
     "name": "stderr",
     "output_type": "stream",
     "text": [
      "                                                                                \r"
     ]
    },
    {
     "name": "stdout",
     "output_type": "stream",
     "text": [
      "gs://ot-team/jroldan/2025-06-18_analysis/propagated/stomach_only_predictor_PhaseT.parquet\n"
     ]
    },
    {
     "name": "stderr",
     "output_type": "stream",
     "text": [
      "                                                                                \r"
     ]
    },
    {
     "name": "stdout",
     "output_type": "stream",
     "text": [
      "gs://ot-team/jroldan/2025-06-18_analysis/propagated/putamen_only_predictor_Phase>=4.parquet\n"
     ]
    },
    {
     "name": "stderr",
     "output_type": "stream",
     "text": [
      "                                                                                \r"
     ]
    },
    {
     "name": "stdout",
     "output_type": "stream",
     "text": [
      "gs://ot-team/jroldan/2025-06-18_analysis/propagated/putamen_only_predictor_Phase>=3.parquet\n"
     ]
    },
    {
     "name": "stderr",
     "output_type": "stream",
     "text": [
      "                                                                                \r"
     ]
    },
    {
     "name": "stdout",
     "output_type": "stream",
     "text": [
      "gs://ot-team/jroldan/2025-06-18_analysis/propagated/putamen_only_predictor_Phase>=2.parquet\n"
     ]
    },
    {
     "name": "stderr",
     "output_type": "stream",
     "text": [
      "                                                                                \r"
     ]
    },
    {
     "name": "stdout",
     "output_type": "stream",
     "text": [
      "gs://ot-team/jroldan/2025-06-18_analysis/propagated/putamen_only_predictor_Phase>=1.parquet\n"
     ]
    },
    {
     "name": "stderr",
     "output_type": "stream",
     "text": [
      "                                                                                \r"
     ]
    },
    {
     "name": "stdout",
     "output_type": "stream",
     "text": [
      "gs://ot-team/jroldan/2025-06-18_analysis/propagated/putamen_only_predictor_PhaseT.parquet\n"
     ]
    },
    {
     "name": "stderr",
     "output_type": "stream",
     "text": [
      "                                                                                \r"
     ]
    },
    {
     "name": "stdout",
     "output_type": "stream",
     "text": [
      "gs://ot-team/jroldan/2025-06-18_analysis/propagated/amygdala_only_predictor_Phase>=4.parquet\n",
      "gs://ot-team/jroldan/2025-06-18_analysis/propagated/amygdala_only_predictor_Phase>=3.parquet\n"
     ]
    },
    {
     "name": "stderr",
     "output_type": "stream",
     "text": [
      "                                                                                \r"
     ]
    },
    {
     "name": "stdout",
     "output_type": "stream",
     "text": [
      "gs://ot-team/jroldan/2025-06-18_analysis/propagated/amygdala_only_predictor_Phase>=2.parquet\n"
     ]
    },
    {
     "name": "stderr",
     "output_type": "stream",
     "text": [
      "                                                                                \r"
     ]
    },
    {
     "name": "stdout",
     "output_type": "stream",
     "text": [
      "gs://ot-team/jroldan/2025-06-18_analysis/propagated/amygdala_only_predictor_Phase>=1.parquet\n",
      "gs://ot-team/jroldan/2025-06-18_analysis/propagated/amygdala_only_predictor_PhaseT.parquet\n"
     ]
    },
    {
     "name": "stderr",
     "output_type": "stream",
     "text": [
      "                                                                                \r"
     ]
    },
    {
     "name": "stdout",
     "output_type": "stream",
     "text": [
      "gs://ot-team/jroldan/2025-06-18_analysis/propagated/neural progenitor cell_only_predictor_Phase>=4.parquet\n"
     ]
    },
    {
     "name": "stderr",
     "output_type": "stream",
     "text": [
      "                                                                                \r"
     ]
    },
    {
     "name": "stdout",
     "output_type": "stream",
     "text": [
      "gs://ot-team/jroldan/2025-06-18_analysis/propagated/neural progenitor cell_only_predictor_Phase>=3.parquet\n"
     ]
    },
    {
     "name": "stderr",
     "output_type": "stream",
     "text": [
      "                                                                                \r"
     ]
    },
    {
     "name": "stdout",
     "output_type": "stream",
     "text": [
      "gs://ot-team/jroldan/2025-06-18_analysis/propagated/neural progenitor cell_only_predictor_Phase>=2.parquet\n"
     ]
    },
    {
     "name": "stderr",
     "output_type": "stream",
     "text": [
      "                                                                                \r"
     ]
    },
    {
     "name": "stdout",
     "output_type": "stream",
     "text": [
      "gs://ot-team/jroldan/2025-06-18_analysis/propagated/neural progenitor cell_only_predictor_Phase>=1.parquet\n",
      "gs://ot-team/jroldan/2025-06-18_analysis/propagated/neural progenitor cell_only_predictor_PhaseT.parquet\n"
     ]
    },
    {
     "name": "stderr",
     "output_type": "stream",
     "text": [
      "                                                                                \r"
     ]
    },
    {
     "name": "stdout",
     "output_type": "stream",
     "text": [
      "gs://ot-team/jroldan/2025-06-18_analysis/propagated/anterior lingual gland_only_predictor_Phase>=4.parquet\n"
     ]
    },
    {
     "name": "stderr",
     "output_type": "stream",
     "text": [
      "                                                                                \r"
     ]
    },
    {
     "name": "stdout",
     "output_type": "stream",
     "text": [
      "gs://ot-team/jroldan/2025-06-18_analysis/propagated/anterior lingual gland_only_predictor_Phase>=3.parquet\n"
     ]
    },
    {
     "name": "stderr",
     "output_type": "stream",
     "text": [
      "                                                                                \r"
     ]
    },
    {
     "name": "stdout",
     "output_type": "stream",
     "text": [
      "gs://ot-team/jroldan/2025-06-18_analysis/propagated/anterior lingual gland_only_predictor_Phase>=2.parquet\n",
      "gs://ot-team/jroldan/2025-06-18_analysis/propagated/anterior lingual gland_only_predictor_Phase>=1.parquet\n",
      "gs://ot-team/jroldan/2025-06-18_analysis/propagated/anterior lingual gland_only_predictor_PhaseT.parquet\n",
      "gs://ot-team/jroldan/2025-06-18_analysis/propagated/spleen_only_predictor_Phase>=4.parquet\n"
     ]
    },
    {
     "name": "stderr",
     "output_type": "stream",
     "text": [
      "                                                                                \r"
     ]
    },
    {
     "name": "stdout",
     "output_type": "stream",
     "text": [
      "gs://ot-team/jroldan/2025-06-18_analysis/propagated/spleen_only_predictor_Phase>=3.parquet\n"
     ]
    },
    {
     "name": "stderr",
     "output_type": "stream",
     "text": [
      "                                                                                \r"
     ]
    },
    {
     "name": "stdout",
     "output_type": "stream",
     "text": [
      "gs://ot-team/jroldan/2025-06-18_analysis/propagated/spleen_only_predictor_Phase>=2.parquet\n"
     ]
    },
    {
     "name": "stderr",
     "output_type": "stream",
     "text": [
      "                                                                                \r"
     ]
    },
    {
     "name": "stdout",
     "output_type": "stream",
     "text": [
      "gs://ot-team/jroldan/2025-06-18_analysis/propagated/spleen_only_predictor_Phase>=1.parquet\n",
      "gs://ot-team/jroldan/2025-06-18_analysis/propagated/spleen_only_predictor_PhaseT.parquet\n",
      "gs://ot-team/jroldan/2025-06-18_analysis/propagated/microglial cell_only_predictor_Phase>=4.parquet\n",
      "gs://ot-team/jroldan/2025-06-18_analysis/propagated/microglial cell_only_predictor_Phase>=3.parquet\n"
     ]
    },
    {
     "name": "stderr",
     "output_type": "stream",
     "text": [
      "                                                                                \r"
     ]
    },
    {
     "name": "stdout",
     "output_type": "stream",
     "text": [
      "gs://ot-team/jroldan/2025-06-18_analysis/propagated/microglial cell_only_predictor_Phase>=2.parquet\n",
      "gs://ot-team/jroldan/2025-06-18_analysis/propagated/microglial cell_only_predictor_Phase>=1.parquet\n",
      "gs://ot-team/jroldan/2025-06-18_analysis/propagated/microglial cell_only_predictor_PhaseT.parquet\n",
      "gs://ot-team/jroldan/2025-06-18_analysis/propagated/Peyer's patch_only_predictor_Phase>=4.parquet\n"
     ]
    },
    {
     "name": "stderr",
     "output_type": "stream",
     "text": [
      "                                                                                \r"
     ]
    },
    {
     "name": "stdout",
     "output_type": "stream",
     "text": [
      "gs://ot-team/jroldan/2025-06-18_analysis/propagated/Peyer's patch_only_predictor_Phase>=3.parquet\n",
      "gs://ot-team/jroldan/2025-06-18_analysis/propagated/Peyer's patch_only_predictor_Phase>=2.parquet\n",
      "gs://ot-team/jroldan/2025-06-18_analysis/propagated/Peyer's patch_only_predictor_Phase>=1.parquet\n",
      "gs://ot-team/jroldan/2025-06-18_analysis/propagated/Peyer's patch_only_predictor_PhaseT.parquet\n",
      "gs://ot-team/jroldan/2025-06-18_analysis/propagated/anterior cingulate cortex_only_predictor_Phase>=4.parquet\n"
     ]
    },
    {
     "name": "stderr",
     "output_type": "stream",
     "text": [
      "                                                                                \r"
     ]
    },
    {
     "name": "stdout",
     "output_type": "stream",
     "text": [
      "gs://ot-team/jroldan/2025-06-18_analysis/propagated/anterior cingulate cortex_only_predictor_Phase>=3.parquet\n"
     ]
    },
    {
     "name": "stderr",
     "output_type": "stream",
     "text": [
      "                                                                                \r"
     ]
    },
    {
     "name": "stdout",
     "output_type": "stream",
     "text": [
      "gs://ot-team/jroldan/2025-06-18_analysis/propagated/anterior cingulate cortex_only_predictor_Phase>=2.parquet\n"
     ]
    },
    {
     "name": "stderr",
     "output_type": "stream",
     "text": [
      "                                                                                \r"
     ]
    },
    {
     "name": "stdout",
     "output_type": "stream",
     "text": [
      "gs://ot-team/jroldan/2025-06-18_analysis/propagated/anterior cingulate cortex_only_predictor_Phase>=1.parquet\n",
      "gs://ot-team/jroldan/2025-06-18_analysis/propagated/anterior cingulate cortex_only_predictor_PhaseT.parquet\n"
     ]
    },
    {
     "name": "stderr",
     "output_type": "stream",
     "text": [
      "                                                                                \r"
     ]
    },
    {
     "name": "stdout",
     "output_type": "stream",
     "text": [
      "gs://ot-team/jroldan/2025-06-18_analysis/propagated/T cell_only_predictor_Phase>=4.parquet\n"
     ]
    },
    {
     "name": "stderr",
     "output_type": "stream",
     "text": [
      "                                                                                \r"
     ]
    },
    {
     "name": "stdout",
     "output_type": "stream",
     "text": [
      "gs://ot-team/jroldan/2025-06-18_analysis/propagated/T cell_only_predictor_Phase>=3.parquet\n"
     ]
    },
    {
     "name": "stderr",
     "output_type": "stream",
     "text": [
      "                                                                                \r"
     ]
    },
    {
     "name": "stdout",
     "output_type": "stream",
     "text": [
      "gs://ot-team/jroldan/2025-06-18_analysis/propagated/T cell_only_predictor_Phase>=2.parquet\n"
     ]
    },
    {
     "name": "stderr",
     "output_type": "stream",
     "text": [
      "                                                                                \r"
     ]
    },
    {
     "name": "stdout",
     "output_type": "stream",
     "text": [
      "gs://ot-team/jroldan/2025-06-18_analysis/propagated/T cell_only_predictor_Phase>=1.parquet\n"
     ]
    },
    {
     "name": "stderr",
     "output_type": "stream",
     "text": [
      "                                                                                \r"
     ]
    },
    {
     "name": "stdout",
     "output_type": "stream",
     "text": [
      "gs://ot-team/jroldan/2025-06-18_analysis/propagated/T cell_only_predictor_PhaseT.parquet\n"
     ]
    },
    {
     "name": "stderr",
     "output_type": "stream",
     "text": [
      "                                                                                \r"
     ]
    },
    {
     "name": "stdout",
     "output_type": "stream",
     "text": [
      "gs://ot-team/jroldan/2025-06-18_analysis/propagated/T-helper 1 cell_only_predictor_Phase>=4.parquet\n"
     ]
    },
    {
     "name": "stderr",
     "output_type": "stream",
     "text": [
      "                                                                                \r"
     ]
    },
    {
     "name": "stdout",
     "output_type": "stream",
     "text": [
      "gs://ot-team/jroldan/2025-06-18_analysis/propagated/T-helper 1 cell_only_predictor_Phase>=3.parquet\n",
      "gs://ot-team/jroldan/2025-06-18_analysis/propagated/T-helper 1 cell_only_predictor_Phase>=2.parquet\n",
      "gs://ot-team/jroldan/2025-06-18_analysis/propagated/T-helper 1 cell_only_predictor_Phase>=1.parquet\n"
     ]
    },
    {
     "name": "stderr",
     "output_type": "stream",
     "text": [
      "                                                                                \r"
     ]
    },
    {
     "name": "stdout",
     "output_type": "stream",
     "text": [
      "gs://ot-team/jroldan/2025-06-18_analysis/propagated/T-helper 1 cell_only_predictor_PhaseT.parquet\n",
      "gs://ot-team/jroldan/2025-06-18_analysis/propagated/T follicular helper cell_only_predictor_Phase>=4.parquet\n"
     ]
    },
    {
     "name": "stderr",
     "output_type": "stream",
     "text": [
      "                                                                                \r"
     ]
    },
    {
     "name": "stdout",
     "output_type": "stream",
     "text": [
      "gs://ot-team/jroldan/2025-06-18_analysis/propagated/T follicular helper cell_only_predictor_Phase>=3.parquet\n"
     ]
    },
    {
     "name": "stderr",
     "output_type": "stream",
     "text": [
      "                                                                                \r"
     ]
    },
    {
     "name": "stdout",
     "output_type": "stream",
     "text": [
      "gs://ot-team/jroldan/2025-06-18_analysis/propagated/T follicular helper cell_only_predictor_Phase>=2.parquet\n",
      "gs://ot-team/jroldan/2025-06-18_analysis/propagated/T follicular helper cell_only_predictor_Phase>=1.parquet\n"
     ]
    },
    {
     "name": "stderr",
     "output_type": "stream",
     "text": [
      "                                                                                \r"
     ]
    },
    {
     "name": "stdout",
     "output_type": "stream",
     "text": [
      "gs://ot-team/jroldan/2025-06-18_analysis/propagated/T follicular helper cell_only_predictor_PhaseT.parquet\n"
     ]
    },
    {
     "name": "stderr",
     "output_type": "stream",
     "text": [
      "                                                                                \r"
     ]
    },
    {
     "name": "stdout",
     "output_type": "stream",
     "text": [
      "gs://ot-team/jroldan/2025-06-18_analysis/propagated/right lobe of liver_only_predictor_Phase>=4.parquet\n",
      "gs://ot-team/jroldan/2025-06-18_analysis/propagated/right lobe of liver_only_predictor_Phase>=3.parquet\n"
     ]
    },
    {
     "name": "stderr",
     "output_type": "stream",
     "text": [
      "                                                                                \r"
     ]
    },
    {
     "name": "stdout",
     "output_type": "stream",
     "text": [
      "gs://ot-team/jroldan/2025-06-18_analysis/propagated/right lobe of liver_only_predictor_Phase>=2.parquet\n",
      "gs://ot-team/jroldan/2025-06-18_analysis/propagated/right lobe of liver_only_predictor_Phase>=1.parquet\n"
     ]
    },
    {
     "name": "stderr",
     "output_type": "stream",
     "text": [
      "                                                                                \r"
     ]
    },
    {
     "name": "stdout",
     "output_type": "stream",
     "text": [
      "gs://ot-team/jroldan/2025-06-18_analysis/propagated/right lobe of liver_only_predictor_PhaseT.parquet\n"
     ]
    },
    {
     "name": "stderr",
     "output_type": "stream",
     "text": [
      "                                                                                \r"
     ]
    },
    {
     "name": "stdout",
     "output_type": "stream",
     "text": [
      "gs://ot-team/jroldan/2025-06-18_analysis/propagated/islet of Langerhans_only_predictor_Phase>=4.parquet\n"
     ]
    },
    {
     "name": "stderr",
     "output_type": "stream",
     "text": [
      "                                                                                \r"
     ]
    },
    {
     "name": "stdout",
     "output_type": "stream",
     "text": [
      "gs://ot-team/jroldan/2025-06-18_analysis/propagated/islet of Langerhans_only_predictor_Phase>=3.parquet\n",
      "gs://ot-team/jroldan/2025-06-18_analysis/propagated/islet of Langerhans_only_predictor_Phase>=2.parquet\n"
     ]
    },
    {
     "name": "stderr",
     "output_type": "stream",
     "text": [
      "                                                                                \r"
     ]
    },
    {
     "name": "stdout",
     "output_type": "stream",
     "text": [
      "gs://ot-team/jroldan/2025-06-18_analysis/propagated/islet of Langerhans_only_predictor_Phase>=1.parquet\n"
     ]
    },
    {
     "name": "stderr",
     "output_type": "stream",
     "text": [
      "                                                                                \r"
     ]
    },
    {
     "name": "stdout",
     "output_type": "stream",
     "text": [
      "gs://ot-team/jroldan/2025-06-18_analysis/propagated/islet of Langerhans_only_predictor_PhaseT.parquet\n"
     ]
    },
    {
     "name": "stderr",
     "output_type": "stream",
     "text": [
      "                                                                                \r"
     ]
    },
    {
     "name": "stdout",
     "output_type": "stream",
     "text": [
      "gs://ot-team/jroldan/2025-06-18_analysis/propagated/ovary_only_predictor_Phase>=4.parquet\n"
     ]
    },
    {
     "name": "stderr",
     "output_type": "stream",
     "text": [
      "                                                                                \r"
     ]
    },
    {
     "name": "stdout",
     "output_type": "stream",
     "text": [
      "gs://ot-team/jroldan/2025-06-18_analysis/propagated/ovary_only_predictor_Phase>=3.parquet\n",
      "gs://ot-team/jroldan/2025-06-18_analysis/propagated/ovary_only_predictor_Phase>=2.parquet\n",
      "gs://ot-team/jroldan/2025-06-18_analysis/propagated/ovary_only_predictor_Phase>=1.parquet\n"
     ]
    },
    {
     "name": "stderr",
     "output_type": "stream",
     "text": [
      "                                                                                \r"
     ]
    },
    {
     "name": "stdout",
     "output_type": "stream",
     "text": [
      "gs://ot-team/jroldan/2025-06-18_analysis/propagated/ovary_only_predictor_PhaseT.parquet\n"
     ]
    },
    {
     "name": "stderr",
     "output_type": "stream",
     "text": [
      "                                                                                \r"
     ]
    },
    {
     "name": "stdout",
     "output_type": "stream",
     "text": [
      "gs://ot-team/jroldan/2025-06-18_analysis/propagated/central memory CD4-positive, alpha-beta T cell_only_predictor_Phase>=4.parquet\n"
     ]
    },
    {
     "name": "stderr",
     "output_type": "stream",
     "text": [
      "                                                                                \r"
     ]
    },
    {
     "name": "stdout",
     "output_type": "stream",
     "text": [
      "gs://ot-team/jroldan/2025-06-18_analysis/propagated/central memory CD4-positive, alpha-beta T cell_only_predictor_Phase>=3.parquet\n"
     ]
    },
    {
     "name": "stderr",
     "output_type": "stream",
     "text": [
      "                                                                                \r"
     ]
    },
    {
     "name": "stdout",
     "output_type": "stream",
     "text": [
      "gs://ot-team/jroldan/2025-06-18_analysis/propagated/central memory CD4-positive, alpha-beta T cell_only_predictor_Phase>=2.parquet\n"
     ]
    },
    {
     "name": "stderr",
     "output_type": "stream",
     "text": [
      "                                                                                \r"
     ]
    },
    {
     "name": "stdout",
     "output_type": "stream",
     "text": [
      "gs://ot-team/jroldan/2025-06-18_analysis/propagated/central memory CD4-positive, alpha-beta T cell_only_predictor_Phase>=1.parquet\n"
     ]
    },
    {
     "name": "stderr",
     "output_type": "stream",
     "text": [
      "                                                                                \r"
     ]
    },
    {
     "name": "stdout",
     "output_type": "stream",
     "text": [
      "gs://ot-team/jroldan/2025-06-18_analysis/propagated/central memory CD4-positive, alpha-beta T cell_only_predictor_PhaseT.parquet\n"
     ]
    },
    {
     "name": "stderr",
     "output_type": "stream",
     "text": [
      "                                                                                \r"
     ]
    },
    {
     "name": "stdout",
     "output_type": "stream",
     "text": [
      "gs://ot-team/jroldan/2025-06-18_analysis/propagated/B cell_only_predictor_Phase>=4.parquet\n"
     ]
    },
    {
     "name": "stderr",
     "output_type": "stream",
     "text": [
      "                                                                                \r"
     ]
    },
    {
     "name": "stdout",
     "output_type": "stream",
     "text": [
      "gs://ot-team/jroldan/2025-06-18_analysis/propagated/B cell_only_predictor_Phase>=3.parquet\n"
     ]
    },
    {
     "name": "stderr",
     "output_type": "stream",
     "text": [
      "                                                                                \r"
     ]
    },
    {
     "name": "stdout",
     "output_type": "stream",
     "text": [
      "gs://ot-team/jroldan/2025-06-18_analysis/propagated/B cell_only_predictor_Phase>=2.parquet\n",
      "gs://ot-team/jroldan/2025-06-18_analysis/propagated/B cell_only_predictor_Phase>=1.parquet\n"
     ]
    },
    {
     "name": "stderr",
     "output_type": "stream",
     "text": [
      "                                                                                \r"
     ]
    },
    {
     "name": "stdout",
     "output_type": "stream",
     "text": [
      "gs://ot-team/jroldan/2025-06-18_analysis/propagated/B cell_only_predictor_PhaseT.parquet\n"
     ]
    },
    {
     "name": "stderr",
     "output_type": "stream",
     "text": [
      "                                                                                \r"
     ]
    },
    {
     "name": "stdout",
     "output_type": "stream",
     "text": [
      "gs://ot-team/jroldan/2025-06-18_analysis/propagated/substantia nigra_only_predictor_Phase>=4.parquet\n",
      "gs://ot-team/jroldan/2025-06-18_analysis/propagated/substantia nigra_only_predictor_Phase>=3.parquet\n"
     ]
    },
    {
     "name": "stderr",
     "output_type": "stream",
     "text": [
      "                                                                                \r"
     ]
    },
    {
     "name": "stdout",
     "output_type": "stream",
     "text": [
      "gs://ot-team/jroldan/2025-06-18_analysis/propagated/substantia nigra_only_predictor_Phase>=2.parquet\n"
     ]
    },
    {
     "name": "stderr",
     "output_type": "stream",
     "text": [
      "                                                                                \r"
     ]
    },
    {
     "name": "stdout",
     "output_type": "stream",
     "text": [
      "gs://ot-team/jroldan/2025-06-18_analysis/propagated/substantia nigra_only_predictor_Phase>=1.parquet\n"
     ]
    },
    {
     "name": "stderr",
     "output_type": "stream",
     "text": [
      "                                                                                \r"
     ]
    },
    {
     "name": "stdout",
     "output_type": "stream",
     "text": [
      "gs://ot-team/jroldan/2025-06-18_analysis/propagated/substantia nigra_only_predictor_PhaseT.parquet\n",
      "gs://ot-team/jroldan/2025-06-18_analysis/propagated/Ammon's horn_only_predictor_Phase>=4.parquet\n"
     ]
    },
    {
     "name": "stderr",
     "output_type": "stream",
     "text": [
      "                                                                                \r"
     ]
    },
    {
     "name": "stdout",
     "output_type": "stream",
     "text": [
      "gs://ot-team/jroldan/2025-06-18_analysis/propagated/Ammon's horn_only_predictor_Phase>=3.parquet\n"
     ]
    },
    {
     "name": "stderr",
     "output_type": "stream",
     "text": [
      "                                                                                \r"
     ]
    },
    {
     "name": "stdout",
     "output_type": "stream",
     "text": [
      "gs://ot-team/jroldan/2025-06-18_analysis/propagated/Ammon's horn_only_predictor_Phase>=2.parquet\n"
     ]
    },
    {
     "name": "stderr",
     "output_type": "stream",
     "text": [
      "                                                                                \r"
     ]
    },
    {
     "name": "stdout",
     "output_type": "stream",
     "text": [
      "gs://ot-team/jroldan/2025-06-18_analysis/propagated/Ammon's horn_only_predictor_Phase>=1.parquet\n",
      "gs://ot-team/jroldan/2025-06-18_analysis/propagated/Ammon's horn_only_predictor_PhaseT.parquet\n"
     ]
    },
    {
     "name": "stderr",
     "output_type": "stream",
     "text": [
      "                                                                                \r"
     ]
    },
    {
     "name": "stdout",
     "output_type": "stream",
     "text": [
      "gs://ot-team/jroldan/2025-06-18_analysis/propagated/hepatocyte_only_predictor_Phase>=4.parquet\n"
     ]
    },
    {
     "name": "stderr",
     "output_type": "stream",
     "text": [
      "                                                                                \r"
     ]
    },
    {
     "name": "stdout",
     "output_type": "stream",
     "text": [
      "gs://ot-team/jroldan/2025-06-18_analysis/propagated/hepatocyte_only_predictor_Phase>=3.parquet\n"
     ]
    },
    {
     "name": "stderr",
     "output_type": "stream",
     "text": [
      "                                                                                \r"
     ]
    },
    {
     "name": "stdout",
     "output_type": "stream",
     "text": [
      "gs://ot-team/jroldan/2025-06-18_analysis/propagated/hepatocyte_only_predictor_Phase>=2.parquet\n"
     ]
    },
    {
     "name": "stderr",
     "output_type": "stream",
     "text": [
      "                                                                                \r"
     ]
    },
    {
     "name": "stdout",
     "output_type": "stream",
     "text": [
      "gs://ot-team/jroldan/2025-06-18_analysis/propagated/hepatocyte_only_predictor_Phase>=1.parquet\n",
      "gs://ot-team/jroldan/2025-06-18_analysis/propagated/hepatocyte_only_predictor_PhaseT.parquet\n",
      "df unpersisted\n",
      "working with rightStudyType\n"
     ]
    },
    {
     "name": "stderr",
     "output_type": "stream",
     "text": [
      "                                                                                \r"
     ]
    },
    {
     "name": "stdout",
     "output_type": "stream",
     "text": [
      "There are  5 columns to analyse with phases\n"
     ]
    },
    {
     "name": "stderr",
     "output_type": "stream",
     "text": [
      "                                                                                \r"
     ]
    },
    {
     "name": "stdout",
     "output_type": "stream",
     "text": [
      "gs://ot-team/jroldan/2025-06-18_analysis/propagated/tuqtl_only_predictor_Phase>=4.parquet\n"
     ]
    },
    {
     "name": "stderr",
     "output_type": "stream",
     "text": [
      "                                                                                \r"
     ]
    },
    {
     "name": "stdout",
     "output_type": "stream",
     "text": [
      "gs://ot-team/jroldan/2025-06-18_analysis/propagated/tuqtl_only_predictor_Phase>=3.parquet\n",
      "gs://ot-team/jroldan/2025-06-18_analysis/propagated/tuqtl_only_predictor_Phase>=2.parquet\n"
     ]
    },
    {
     "name": "stderr",
     "output_type": "stream",
     "text": [
      "                                                                                \r"
     ]
    },
    {
     "name": "stdout",
     "output_type": "stream",
     "text": [
      "gs://ot-team/jroldan/2025-06-18_analysis/propagated/tuqtl_only_predictor_Phase>=1.parquet\n",
      "gs://ot-team/jroldan/2025-06-18_analysis/propagated/tuqtl_only_predictor_PhaseT.parquet\n"
     ]
    },
    {
     "name": "stderr",
     "output_type": "stream",
     "text": [
      "                                                                                \r"
     ]
    },
    {
     "name": "stdout",
     "output_type": "stream",
     "text": [
      "gs://ot-team/jroldan/2025-06-18_analysis/propagated/sqtl_only_predictor_Phase>=4.parquet\n"
     ]
    },
    {
     "name": "stderr",
     "output_type": "stream",
     "text": [
      "                                                                                \r"
     ]
    },
    {
     "name": "stdout",
     "output_type": "stream",
     "text": [
      "gs://ot-team/jroldan/2025-06-18_analysis/propagated/sqtl_only_predictor_Phase>=3.parquet\n"
     ]
    },
    {
     "name": "stderr",
     "output_type": "stream",
     "text": [
      "                                                                                \r"
     ]
    },
    {
     "name": "stdout",
     "output_type": "stream",
     "text": [
      "gs://ot-team/jroldan/2025-06-18_analysis/propagated/sqtl_only_predictor_Phase>=2.parquet\n"
     ]
    },
    {
     "name": "stderr",
     "output_type": "stream",
     "text": [
      "                                                                                \r"
     ]
    },
    {
     "name": "stdout",
     "output_type": "stream",
     "text": [
      "gs://ot-team/jroldan/2025-06-18_analysis/propagated/sqtl_only_predictor_Phase>=1.parquet\n"
     ]
    },
    {
     "name": "stderr",
     "output_type": "stream",
     "text": [
      "                                                                                \r"
     ]
    },
    {
     "name": "stdout",
     "output_type": "stream",
     "text": [
      "gs://ot-team/jroldan/2025-06-18_analysis/propagated/sqtl_only_predictor_PhaseT.parquet\n"
     ]
    },
    {
     "name": "stderr",
     "output_type": "stream",
     "text": [
      "                                                                                \r"
     ]
    },
    {
     "name": "stdout",
     "output_type": "stream",
     "text": [
      "gs://ot-team/jroldan/2025-06-18_analysis/propagated/pqtl_only_predictor_Phase>=4.parquet\n",
      "gs://ot-team/jroldan/2025-06-18_analysis/propagated/pqtl_only_predictor_Phase>=3.parquet\n"
     ]
    },
    {
     "name": "stderr",
     "output_type": "stream",
     "text": [
      "                                                                                \r"
     ]
    },
    {
     "name": "stdout",
     "output_type": "stream",
     "text": [
      "gs://ot-team/jroldan/2025-06-18_analysis/propagated/pqtl_only_predictor_Phase>=2.parquet\n",
      "gs://ot-team/jroldan/2025-06-18_analysis/propagated/pqtl_only_predictor_Phase>=1.parquet\n"
     ]
    },
    {
     "name": "stderr",
     "output_type": "stream",
     "text": [
      "                                                                                \r"
     ]
    },
    {
     "name": "stdout",
     "output_type": "stream",
     "text": [
      "gs://ot-team/jroldan/2025-06-18_analysis/propagated/pqtl_only_predictor_PhaseT.parquet\n"
     ]
    },
    {
     "name": "stderr",
     "output_type": "stream",
     "text": [
      "                                                                                \r"
     ]
    },
    {
     "name": "stdout",
     "output_type": "stream",
     "text": [
      "gs://ot-team/jroldan/2025-06-18_analysis/propagated/eqtl_only_predictor_Phase>=4.parquet\n",
      "gs://ot-team/jroldan/2025-06-18_analysis/propagated/eqtl_only_predictor_Phase>=3.parquet\n",
      "gs://ot-team/jroldan/2025-06-18_analysis/propagated/eqtl_only_predictor_Phase>=2.parquet\n"
     ]
    },
    {
     "name": "stderr",
     "output_type": "stream",
     "text": [
      "                                                                                \r"
     ]
    },
    {
     "name": "stdout",
     "output_type": "stream",
     "text": [
      "gs://ot-team/jroldan/2025-06-18_analysis/propagated/eqtl_only_predictor_Phase>=1.parquet\n"
     ]
    },
    {
     "name": "stderr",
     "output_type": "stream",
     "text": [
      "                                                                                \r"
     ]
    },
    {
     "name": "stdout",
     "output_type": "stream",
     "text": [
      "gs://ot-team/jroldan/2025-06-18_analysis/propagated/eqtl_only_predictor_PhaseT.parquet\n"
     ]
    },
    {
     "name": "stderr",
     "output_type": "stream",
     "text": [
      "                                                                                \r"
     ]
    },
    {
     "name": "stdout",
     "output_type": "stream",
     "text": [
      "gs://ot-team/jroldan/2025-06-18_analysis/propagated/sceqtl_only_predictor_Phase>=4.parquet\n"
     ]
    },
    {
     "name": "stderr",
     "output_type": "stream",
     "text": [
      "                                                                                \r"
     ]
    },
    {
     "name": "stdout",
     "output_type": "stream",
     "text": [
      "gs://ot-team/jroldan/2025-06-18_analysis/propagated/sceqtl_only_predictor_Phase>=3.parquet\n"
     ]
    },
    {
     "name": "stderr",
     "output_type": "stream",
     "text": [
      "                                                                                \r"
     ]
    },
    {
     "name": "stdout",
     "output_type": "stream",
     "text": [
      "gs://ot-team/jroldan/2025-06-18_analysis/propagated/sceqtl_only_predictor_Phase>=2.parquet\n",
      "gs://ot-team/jroldan/2025-06-18_analysis/propagated/sceqtl_only_predictor_Phase>=1.parquet\n"
     ]
    },
    {
     "name": "stderr",
     "output_type": "stream",
     "text": [
      "                                                                                \r"
     ]
    },
    {
     "name": "stdout",
     "output_type": "stream",
     "text": [
      "gs://ot-team/jroldan/2025-06-18_analysis/propagated/sceqtl_only_predictor_PhaseT.parquet\n",
      "df unpersisted\n",
      "working with colocDoE\n"
     ]
    },
    {
     "name": "stderr",
     "output_type": "stream",
     "text": [
      "                                                                                \r"
     ]
    },
    {
     "name": "stdout",
     "output_type": "stream",
     "text": [
      "There are  2 columns to analyse with phases\n"
     ]
    },
    {
     "name": "stderr",
     "output_type": "stream",
     "text": [
      "                                                                                \r"
     ]
    },
    {
     "name": "stdout",
     "output_type": "stream",
     "text": [
      "gs://ot-team/jroldan/2025-06-18_analysis/propagated/GoF_protect_only_predictor_Phase>=4.parquet\n",
      "gs://ot-team/jroldan/2025-06-18_analysis/propagated/GoF_protect_only_predictor_Phase>=3.parquet\n"
     ]
    },
    {
     "name": "stderr",
     "output_type": "stream",
     "text": [
      "                                                                                \r"
     ]
    },
    {
     "name": "stdout",
     "output_type": "stream",
     "text": [
      "gs://ot-team/jroldan/2025-06-18_analysis/propagated/GoF_protect_only_predictor_Phase>=2.parquet\n",
      "gs://ot-team/jroldan/2025-06-18_analysis/propagated/GoF_protect_only_predictor_Phase>=1.parquet\n",
      "gs://ot-team/jroldan/2025-06-18_analysis/propagated/GoF_protect_only_predictor_PhaseT.parquet\n"
     ]
    },
    {
     "name": "stderr",
     "output_type": "stream",
     "text": [
      "                                                                                \r"
     ]
    },
    {
     "name": "stdout",
     "output_type": "stream",
     "text": [
      "gs://ot-team/jroldan/2025-06-18_analysis/propagated/LoF_protect_only_predictor_Phase>=4.parquet\n",
      "gs://ot-team/jroldan/2025-06-18_analysis/propagated/LoF_protect_only_predictor_Phase>=3.parquet\n"
     ]
    },
    {
     "name": "stderr",
     "output_type": "stream",
     "text": [
      "                                                                                \r"
     ]
    },
    {
     "name": "stdout",
     "output_type": "stream",
     "text": [
      "gs://ot-team/jroldan/2025-06-18_analysis/propagated/LoF_protect_only_predictor_Phase>=2.parquet\n",
      "gs://ot-team/jroldan/2025-06-18_analysis/propagated/LoF_protect_only_predictor_Phase>=1.parquet\n"
     ]
    },
    {
     "name": "stderr",
     "output_type": "stream",
     "text": [
      "                                                                                \r"
     ]
    },
    {
     "name": "stdout",
     "output_type": "stream",
     "text": [
      "gs://ot-team/jroldan/2025-06-18_analysis/propagated/LoF_protect_only_predictor_PhaseT.parquet\n",
      "df unpersisted\n",
      "working with colocalisationMethod\n"
     ]
    },
    {
     "name": "stderr",
     "output_type": "stream",
     "text": [
      "                                                                                \r"
     ]
    },
    {
     "name": "stdout",
     "output_type": "stream",
     "text": [
      "There are  2 columns to analyse with phases\n"
     ]
    },
    {
     "name": "stderr",
     "output_type": "stream",
     "text": [
      "                                                                                \r"
     ]
    },
    {
     "name": "stdout",
     "output_type": "stream",
     "text": [
      "gs://ot-team/jroldan/2025-06-18_analysis/propagated/eCAVIAR_only_predictor_Phase>=4.parquet\n"
     ]
    },
    {
     "name": "stderr",
     "output_type": "stream",
     "text": [
      "                                                                                \r"
     ]
    },
    {
     "name": "stdout",
     "output_type": "stream",
     "text": [
      "gs://ot-team/jroldan/2025-06-18_analysis/propagated/eCAVIAR_only_predictor_Phase>=3.parquet\n",
      "gs://ot-team/jroldan/2025-06-18_analysis/propagated/eCAVIAR_only_predictor_Phase>=2.parquet\n",
      "gs://ot-team/jroldan/2025-06-18_analysis/propagated/eCAVIAR_only_predictor_Phase>=1.parquet\n"
     ]
    },
    {
     "name": "stderr",
     "output_type": "stream",
     "text": [
      "                                                                                \r"
     ]
    },
    {
     "name": "stdout",
     "output_type": "stream",
     "text": [
      "gs://ot-team/jroldan/2025-06-18_analysis/propagated/eCAVIAR_only_predictor_PhaseT.parquet\n"
     ]
    },
    {
     "name": "stderr",
     "output_type": "stream",
     "text": [
      "                                                                                \r"
     ]
    },
    {
     "name": "stdout",
     "output_type": "stream",
     "text": [
      "gs://ot-team/jroldan/2025-06-18_analysis/propagated/COLOC_only_predictor_Phase>=4.parquet\n",
      "gs://ot-team/jroldan/2025-06-18_analysis/propagated/COLOC_only_predictor_Phase>=3.parquet\n",
      "gs://ot-team/jroldan/2025-06-18_analysis/propagated/COLOC_only_predictor_Phase>=2.parquet\n",
      "gs://ot-team/jroldan/2025-06-18_analysis/propagated/COLOC_only_predictor_Phase>=1.parquet\n"
     ]
    },
    {
     "name": "stderr",
     "output_type": "stream",
     "text": [
      "                                                                                \r"
     ]
    },
    {
     "name": "stdout",
     "output_type": "stream",
     "text": [
      "gs://ot-team/jroldan/2025-06-18_analysis/propagated/COLOC_only_predictor_PhaseT.parquet\n",
      "df unpersisted\n",
      "importing functions\n",
      "imported functions\n"
     ]
    },
    {
     "name": "stderr",
     "output_type": "stream",
     "text": [
      "/usr/lib/spark/python/pyspark/sql/column.py:460: FutureWarning: A column as 'key' in getItem is deprecated as of Spark 3.0, and will not be supported in the future release. Use `column[key]` or `column.key` syntax instead.\n",
      "  warnings.warn(\n"
     ]
    },
    {
     "name": "stdout",
     "output_type": "stream",
     "text": [
      "dataframe written \n",
      " Analysis finished\n"
     ]
    }
   ],
   "source": [
    "import time\n",
    "from array import ArrayType\n",
    "from functions import (\n",
    "    relative_success,\n",
    "    spreadSheetFormatter,\n",
    "    discrepancifier,\n",
    "    temporary_directionOfEffect,\n",
    ")\n",
    "# from stoppedTrials import terminated_td\n",
    "from DoEAssessment import directionOfEffect\n",
    "# from membraneTargets import target_membrane\n",
    "from pyspark.sql import SparkSession, Window\n",
    "import pyspark.sql.functions as F\n",
    "from datetime import datetime\n",
    "from datetime import date\n",
    "from pyspark.sql.types import StructType, StructField, StringType, IntegerType\n",
    "from pyspark.sql.types import (\n",
    "    StructType,\n",
    "    StructField,\n",
    "    DoubleType,\n",
    "    DecimalType,\n",
    "    StringType,\n",
    "    FloatType,\n",
    ")\n",
    "import pandas as pd\n",
    "\n",
    "spark = SparkSession.builder.getOrCreate()\n",
    "spark.conf.set(\n",
    "    \"spark.sql.shuffle.partitions\", \"400\"\n",
    ")  # Default is 200, increase if needed\n",
    "\n",
    "\n",
    "path_n='gs://open-targets-data-releases/25.03/output/'\n",
    "\n",
    "target = spark.read.parquet(f\"{path_n}target/\")\n",
    "\n",
    "diseases = spark.read.parquet(f\"{path_n}disease/\")\n",
    "\n",
    "evidences = spark.read.parquet(f\"{path_n}evidence\")\n",
    "\n",
    "credible = spark.read.parquet(f\"{path_n}credible_set\")\n",
    "\n",
    "new = spark.read.parquet(f\"{path_n}colocalisation_coloc\") \n",
    "\n",
    "index=spark.read.parquet(f\"{path_n}study/\")\n",
    "\n",
    "variantIndex = spark.read.parquet(f\"{path_n}variant\")\n",
    "\n",
    "biosample = spark.read.parquet(f\"{path_n}biosample\")\n",
    "\n",
    "ecaviar=spark.read.parquet(f\"{path_n}colocalisation_ecaviar\")\n",
    "\n",
    "all_coloc=ecaviar.unionByName(new, allowMissingColumns=True)\n",
    "\n",
    "print(\"loaded files\")\n",
    "\n",
    "datasource_filter = [\n",
    "#   \"ot_genetics_portal\",\n",
    "    \"gwas_credible_sets\",\n",
    "    \"gene_burden\",\n",
    "    \"eva\",\n",
    "    \"eva_somatic\",\n",
    "    \"gene2phenotype\",\n",
    "    \"orphanet\",\n",
    "    \"cancer_gene_census\",\n",
    "    \"intogen\",\n",
    "    \"impc\",\n",
    "    \"chembl\",\n",
    "]\n",
    "\n",
    "####2 Define agregation function\n",
    "import pandas as pd\n",
    "import numpy as np\n",
    "from scipy.stats import fisher_exact\n",
    "from scipy.stats.contingency import odds_ratio\n",
    "from pyspark.sql.types import *\n",
    "\n",
    "\n",
    "def convertTuple(tup):\n",
    "    st = \",\".join(map(str, tup))\n",
    "    return st\n",
    "\n",
    "\n",
    "#####3 run in a function\n",
    "def aggregations_original(\n",
    "    df,\n",
    "    data,\n",
    "    listado,\n",
    "    comparisonColumn,\n",
    "    comparisonType,\n",
    "    predictionColumn,\n",
    "    predictionType,\n",
    "    today_date,\n",
    "):\n",
    "    wComparison = Window.partitionBy(comparisonColumn)\n",
    "    wPrediction = Window.partitionBy(predictionColumn)\n",
    "    wPredictionComparison = Window.partitionBy(comparisonColumn, predictionColumn)\n",
    "    results = []\n",
    "    # uniqIds = df.select(\"targetId\", \"diseaseId\").distinct().count()\n",
    "    out = (\n",
    "        df.withColumn(\"comparisonType\", F.lit(comparisonType))\n",
    "        .withColumn(\"dataset\", F.lit(data))\n",
    "        .withColumn(\"predictionType\", F.lit(predictionType))\n",
    "        # .withColumn(\"total\", F.lit(uniqIds))\n",
    "        .withColumn(\"a\", F.count(\"targetId\").over(wPredictionComparison))\n",
    "        .withColumn(\"comparisonColumn\", F.lit(comparisonColumn))\n",
    "        .withColumn(\"predictionColumnValue\", F.lit(predictionColumn))\n",
    "        .withColumn(\n",
    "            \"predictionTotal\",\n",
    "            F.count(\"targetId\").over(wPrediction),\n",
    "        )\n",
    "        .withColumn(\n",
    "            \"comparisonTotal\",\n",
    "            F.count(\"targetId\").over(wComparison),\n",
    "        )\n",
    "        .select(\n",
    "            F.col(predictionColumn).alias(\"prediction\"),\n",
    "            F.col(comparisonColumn).alias(\"comparison\"),\n",
    "            \"dataset\",\n",
    "            \"comparisonColumn\",\n",
    "            \"predictionColumnValue\",\n",
    "            \"comparisonType\",\n",
    "            \"predictionType\",\n",
    "            \"a\",\n",
    "            \"predictionTotal\",\n",
    "            \"comparisonTotal\",\n",
    "        )\n",
    "        .filter(F.col(\"prediction\").isNotNull())\n",
    "        .filter(F.col(\"comparison\").isNotNull())\n",
    "        .distinct()\n",
    "    )\n",
    "\n",
    "    out.write.mode(\"overwrite\").parquet(\n",
    "        \"gs://ot-team/jroldan/\"\n",
    "        + str(\n",
    "            today_date\n",
    "            + \"_\"\n",
    "            + \"analysis/\"\n",
    "            + data\n",
    "            # + \"_propagated\"\n",
    "            + \"/\"\n",
    "            + comparisonColumn\n",
    "            + \"_\"\n",
    "            + comparisonType\n",
    "            + \"_\"\n",
    "            + predictionColumn\n",
    "            + \".parquet\"\n",
    "        )\n",
    "    )\n",
    "\n",
    "    listado.append(\n",
    "        \"gs://ot-team/jroldan/\"\n",
    "        + str(\n",
    "            today_date\n",
    "            + \"_\"\n",
    "            + \"analysis/\"\n",
    "            + data\n",
    "            # + \"_propagated\"\n",
    "            + \"/\"\n",
    "            + comparisonColumn\n",
    "            + \"_\"\n",
    "            + comparisonType\n",
    "            + \"_\"\n",
    "            + predictionColumn\n",
    "            + \".parquet\"\n",
    "        )\n",
    "    )\n",
    "    path = \"gs://ot-team/jroldan/\" + str(\n",
    "        today_date\n",
    "        + \"_\"\n",
    "        + \"analysis/\"\n",
    "        + data\n",
    "        # + \"_propagated\"\n",
    "        + \"/\"\n",
    "        + comparisonColumn\n",
    "        + \"_\"\n",
    "        + comparisonType\n",
    "        + \"_\"\n",
    "        + predictionColumn\n",
    "        + \".parquet\"\n",
    "    )\n",
    "    print(path)\n",
    "    \n",
    "    ### making analysis\n",
    "    array1 = np.delete(\n",
    "        out.join(full_data, on=[\"prediction\", \"comparison\"], how=\"outer\")\n",
    "        .groupBy(\"comparison\")\n",
    "        .pivot(\"prediction\")\n",
    "        .agg(F.first(\"a\"))\n",
    "        .sort(F.col(\"comparison\").desc())\n",
    "        .select(\"comparison\", \"yes\", \"no\")\n",
    "        .fillna(0)\n",
    "        .toPandas()\n",
    "        .to_numpy(),\n",
    "        [0],\n",
    "        1,\n",
    "    )\n",
    "    total = np.sum(array1)\n",
    "    res_npPhaseX = np.array(array1, dtype=int)\n",
    "    resX = convertTuple(fisher_exact(res_npPhaseX, alternative=\"two-sided\"))\n",
    "    resx_CI = convertTuple(\n",
    "        odds_ratio(res_npPhaseX).confidence_interval(confidence_level=0.95)\n",
    "    )\n",
    "\n",
    "    result_st.append(resX)\n",
    "    result_ci.append(resx_CI)\n",
    "    (rs_result, rs_ci) = relative_success(array1)\n",
    "    results.extend(\n",
    "        [\n",
    "            comparisonType,\n",
    "            comparisonColumn,\n",
    "            predictionColumn,\n",
    "            round(float(resX.split(\",\")[0]), 2),\n",
    "            float(resX.split(\",\")[1]),\n",
    "            round(float(resx_CI.split(\",\")[0]), 2),\n",
    "            round(float(resx_CI.split(\",\")[1]), 2),\n",
    "            str(total),\n",
    "            np.array(res_npPhaseX).tolist(),\n",
    "            round(float(rs_result), 2),\n",
    "            round(float(rs_ci[0]), 2),\n",
    "            round(float(rs_ci[1]), 2),\n",
    "            # studies,\n",
    "            # tissues,\n",
    "            path,\n",
    "        ]\n",
    "    )\n",
    "    return results\n",
    "\n",
    "\n",
    "#### 3 Loop over different datasets (as they will have different rows and columns)\n",
    "\n",
    "\n",
    "def comparisons_df_iterative(elements):\n",
    "    # toAnalysis = [(key, value) for key, value in disdic.items() if value == projectId]\n",
    "    toAnalysis = [(col, \"predictor\") for col in elements]\n",
    "    schema = StructType(\n",
    "        [\n",
    "            StructField(\"comparison\", StringType(), True),\n",
    "            StructField(\"comparisonType\", StringType(), True),\n",
    "        ]\n",
    "    )\n",
    "\n",
    "    comparisons = spark.createDataFrame(toAnalysis, schema=schema)\n",
    "    ### include all the columns as predictor\n",
    "\n",
    "    predictions = spark.createDataFrame(\n",
    "        data=[\n",
    "            (\"Phase>=4\", \"clinical\"),\n",
    "            ('Phase>=3','clinical'),\n",
    "            ('Phase>=2','clinical'),\n",
    "            ('Phase>=1','clinical'),\n",
    "            (\"PhaseT\", \"clinical\"),\n",
    "        ]\n",
    "    )\n",
    "    return comparisons.join(predictions, how=\"full\").collect()\n",
    "\n",
    "\n",
    "print(\"load comparisons_df_iterative function\")\n",
    "\n",
    "\n",
    "full_data = spark.createDataFrame(\n",
    "    data=[\n",
    "        (\"yes\", \"yes\"),\n",
    "        (\"yes\", \"no\"),\n",
    "        (\"no\", \"yes\"),\n",
    "        (\"no\", \"no\"),\n",
    "    ],\n",
    "    schema=StructType(\n",
    "        [\n",
    "            StructField(\"prediction\", StringType(), True),\n",
    "            StructField(\"comparison\", StringType(), True),\n",
    "        ]\n",
    "    ),\n",
    ")\n",
    "print(\"created full_data and lists\")\n",
    "\n",
    "#rightTissue = spark.read.csv(\n",
    "#    'gs://ot-team/jroldan/analysis/20250526_rightTissue.csv',\n",
    "#    header=True,\n",
    "#).drop(\"_c0\")\n",
    "\n",
    "print(\"loaded rightTissue dataset\")\n",
    "\n",
    "negativeTD = (\n",
    "    evidences.filter(F.col(\"datasourceId\") == \"chembl\")\n",
    "    .select(\"targetId\", \"diseaseId\", \"studyStopReason\", \"studyStopReasonCategories\")\n",
    "    .filter(F.array_contains(F.col(\"studyStopReasonCategories\"), \"Negative\"))\n",
    "    .groupBy(\"targetId\", \"diseaseId\")\n",
    "    .count()\n",
    "    .withColumn(\"stopReason\", F.lit(\"Negative\"))\n",
    "    .drop(\"count\")\n",
    ")\n",
    "\n",
    "print(\"built negativeTD dataset\")\n",
    "\n",
    "print(\"built bench2 dataset\")\n",
    "\n",
    "###### cut from here\n",
    "print(\"looping for variables_study\")\n",
    "\n",
    "#### new part with chatgpt -- TEST\n",
    "\n",
    "## QUESTIONS TO ANSWER:\n",
    "# HAVE ECAVIAR >=0.8\n",
    "# HAVE COLOC \n",
    "# HAVE COLOC >= 0.8\n",
    "# HAVE COLOC + ECAVIAR >= 0.01\n",
    "# HAVE COLOC >= 0.8 + ECAVIAR >= 0.01\n",
    "# RIGHT JOING WITH CHEMBL \n",
    "\n",
    "\n",
    "## write the benchmark \n",
    "name='benchmark'\n",
    "input_partitioned_path = f\"gs://ot-team/jroldan/analysis/parquetFiles/{name}\"\n",
    "benchmark=spark.read.parquet(input_partitioned_path)\n",
    "print(f'read {name}')\n",
    "#### Analysis\n",
    "\n",
    "#### 1 Build a dictionary with the distinct values as key and column names as value\n",
    "variables_study = [\"projectId\", \"biosampleName\", \"rightStudyType\", \"colocDoE\",\"colocalisationMethod\"]\n",
    "\n",
    "# List to hold temporary DataFrames\n",
    "temp_dfs_for_union = []\n",
    "# Iterate over the column names to prepare DataFrames for union\n",
    "for col_name in variables_study:\n",
    "    # Select the current column, alias it to 'distinct_value' for consistent schema\n",
    "    # Filter out nulls, then get distinct values\n",
    "    # Add a literal column with the original 'col_name'\n",
    "    df_temp = (\n",
    "        benchmark.select(F.col(col_name).alias(\"distinct_value\"))\n",
    "        .filter(F.col(\"distinct_value\").isNotNull()) # Exclude None (null) values\n",
    "        .distinct()\n",
    "        .withColumn(\"column_name\", F.lit(col_name))\n",
    "    )\n",
    "    temp_dfs_for_union.append(df_temp)\n",
    "\n",
    "disdic = {}\n",
    "\n",
    "if temp_dfs_for_union:\n",
    "    # Union all the temporary DataFrames.\n",
    "    # unionByName is crucial to handle potential schema differences (e.g., if columns have same name but different types)\n",
    "    # and ensures columns are matched by name.\n",
    "    combined_distinct_values_df = temp_dfs_for_union[0]\n",
    "    for i in range(1, len(temp_dfs_for_union)):\n",
    "        combined_distinct_values_df = combined_distinct_values_df.unionByName(temp_dfs_for_union[i])\n",
    "\n",
    "    # Now, collect the combined distinct values.\n",
    "    # This is a single collect operation on the aggregated DataFrame.\n",
    "    print(\"Collecting combined distinct values from the cluster...\")\n",
    "    collected_rows = combined_distinct_values_df.collect()\n",
    "\n",
    "    # Populate the dictionary from the collected rows\n",
    "    for row in collected_rows:\n",
    "        disdic[row.distinct_value] = row.column_name\n",
    "else:\n",
    "    print(\"variables_study list is empty, disdic will be empty.\")\n",
    "\n",
    "\n",
    "print(\"\\nFinal disdic:\", disdic)\n",
    "\n",
    "pivoted_dfs={}\n",
    "# Iterate over the column names to prepare DataFrames for union\n",
    "for col_name in variables_study:\n",
    "\n",
    "    input_partitioned_path = f\"gs://ot-team/jroldan/analysis/parquetFiles/pivoted_df_{col_name}\"\n",
    "    pivoted_df=spark.read.parquet(input_partitioned_path)\n",
    "    pivoted_dfs[col_name] = pivoted_df\n",
    "    print(f\"DataFrame successfully read and saved as pivoted_dfs[{col_name}]\")\n",
    "    # If not writing to GCS, just store the DF in memory (be cautious for large number of DFs)\n",
    "    \n",
    "\n",
    "# Example of how to access a result\n",
    "# if 'some_col_name' in pivoted_dfs:\n",
    "#     pivoted_dfs['some_col_name'].show()\n",
    "\n",
    "# If benchmark_processed was cached, unpersist it after the loop\n",
    "# benchmark_processed.unpersist()\n",
    "\n",
    "result = []\n",
    "result_st = []\n",
    "result_ci = []\n",
    "array2 = []\n",
    "listado = []\n",
    "result_all = []\n",
    "today_date = str(date.today())\n",
    "\n",
    "##### PROJECT ID ###### \n",
    "print('working with projectId')\n",
    "pivoted_dfs['projectId'].persist()\n",
    "unique_values = benchmark.select('projectId').filter(F.col('projectId').isNotNull()).distinct().rdd.flatMap(lambda x: x).collect()\n",
    "filter = len(pivoted_dfs['projectId'].drop(*unique_values).columns[10:])\n",
    "print('There are ', filter, 'columns to analyse with phases')\n",
    "rows = comparisons_df_iterative(pivoted_dfs['projectId'].columns[-filter:])\n",
    "\n",
    "# If needed, now process the rest\n",
    "for row in rows:\n",
    "    results = aggregations_original(\n",
    "        pivoted_dfs['projectId'], \"propagated\", listado, *row, today_date\n",
    "    )\n",
    "    result_all.append(results)\n",
    "\n",
    "pivoted_dfs['projectId'].unpersist()\n",
    "print('df unpersisted')\n",
    "\n",
    "##### BIOSAMPLE NAME ###### \n",
    "print('working with biosampleName')\n",
    "pivoted_dfs['biosampleName'].persist()\n",
    "unique_values = benchmark.select('biosampleName').filter(F.col('biosampleName').isNotNull()).distinct().rdd.flatMap(lambda x: x).collect()\n",
    "filter = len(pivoted_dfs['biosampleName'].drop(*unique_values).columns[10:])\n",
    "print('There are ', filter, 'columns to analyse with phases')\n",
    "rows = comparisons_df_iterative(pivoted_dfs['biosampleName'].columns[-filter:])\n",
    "\n",
    "for row in rows:\n",
    "    results = aggregations_original(\n",
    "        pivoted_dfs['biosampleName'], \"propagated\", listado, *row, today_date\n",
    "    )\n",
    "    result_all.append(results)\n",
    "\n",
    "pivoted_dfs['biosampleName'].unpersist()\n",
    "print('df unpersisted')\n",
    "\n",
    "##### RIGHTSTUDYTYPE  ###### \n",
    "print('working with rightStudyType')\n",
    "pivoted_dfs['rightStudyType'].persist()\n",
    "unique_values = benchmark.select('rightStudyType').filter(F.col('rightStudyType').isNotNull()).distinct().rdd.flatMap(lambda x: x).collect()\n",
    "filter = len(pivoted_dfs['rightStudyType'].drop(*unique_values).columns[10:])\n",
    "print('There are ', filter, 'columns to analyse with phases')\n",
    "rows = comparisons_df_iterative(pivoted_dfs['rightStudyType'].columns[-filter:])\n",
    "\n",
    "for row in rows:\n",
    "    results = aggregations_original(\n",
    "        pivoted_dfs['rightStudyType'], \"propagated\", listado, *row, today_date\n",
    "    )\n",
    "    result_all.append(results)\n",
    "pivoted_dfs['rightStudyType'].unpersist()\n",
    "print('df unpersisted')\n",
    "\n",
    "##### COLOC DOE ######\n",
    "print('working with colocDoE')\n",
    "pivoted_dfs['colocDoE'].persist()\n",
    "unique_values = benchmark.select('colocDoE').filter(F.col('colocDoE').isNotNull()).distinct().rdd.flatMap(lambda x: x).collect()\n",
    "filter = len(pivoted_dfs['colocDoE'].drop(*unique_values).columns[10:])\n",
    "print('There are ', filter, 'columns to analyse with phases')\n",
    "rows = comparisons_df_iterative(pivoted_dfs['colocDoE'].columns[-filter:])\n",
    "\n",
    "for row in rows:\n",
    "    results = aggregations_original(\n",
    "        pivoted_dfs['colocDoE'], \"propagated\", listado, *row, today_date\n",
    "    )\n",
    "    result_all.append(results)\n",
    "pivoted_dfs['colocDoE'].unpersist()\n",
    "print('df unpersisted')\n",
    "\n",
    "##### COLOCALISATION METHOD ######\n",
    "print('working with colocalisationMethod')\n",
    "pivoted_dfs['colocalisationMethod'].persist()\n",
    "unique_values = benchmark.select('colocalisationMethod').filter(F.col('colocalisationMethod').isNotNull()).distinct().rdd.flatMap(lambda x: x).collect()\n",
    "filter = len(pivoted_dfs['colocalisationMethod'].drop(*unique_values).columns[10:])\n",
    "print('There are ', filter, 'columns to analyse with phases')\n",
    "rows = comparisons_df_iterative(pivoted_dfs['colocalisationMethod'].columns[-filter:])\n",
    "\n",
    "for row in rows:\n",
    "    results = aggregations_original(\n",
    "        pivoted_dfs['colocalisationMethod'], \"propagated\", listado, *row, today_date\n",
    "    )\n",
    "    result_all.append(results)\n",
    "pivoted_dfs['colocalisationMethod'].unpersist()\n",
    "print('df unpersisted')\n",
    "\n",
    "schema = StructType(\n",
    "    [\n",
    "        StructField(\"group\", StringType(), True),\n",
    "        StructField(\"comparison\", StringType(), True),\n",
    "        StructField(\"phase\", StringType(), True),\n",
    "        StructField(\"oddsRatio\", DoubleType(), True),\n",
    "        StructField(\"pValue\", DoubleType(), True),\n",
    "        StructField(\"lowerInterval\", DoubleType(), True),\n",
    "        StructField(\"upperInterval\", DoubleType(), True),\n",
    "        StructField(\"total\", StringType(), True),\n",
    "        StructField(\"values\", ArrayType(ArrayType(IntegerType())), True),\n",
    "        StructField(\"relSuccess\", DoubleType(), True),\n",
    "        StructField(\"rsLower\", DoubleType(), True),\n",
    "        StructField(\"rsUpper\", DoubleType(), True),\n",
    "        StructField(\"path\", StringType(), True),\n",
    "    ]\n",
    ")\n",
    "import re\n",
    "\n",
    "# Define the list of patterns to search for\n",
    "patterns = [\n",
    "    \"_only\",\n",
    "    #\"_tissue\",\n",
    "    #\"_isSignalFromRightTissue\",\n",
    "    \"_isRightTissueSignalAgreed\",\n",
    "]\n",
    "# Create a regex pattern to match any of the substrings\n",
    "regex_pattern = \"(\" + \"|\".join(map(re.escape, patterns)) + \")\"\n",
    "\n",
    "# Convert list of lists to DataFrame\n",
    "df = (\n",
    "    spreadSheetFormatter(spark.createDataFrame(result_all, schema=schema))\n",
    "    .withColumn(\n",
    "        \"prefix\",\n",
    "        F.regexp_replace(\n",
    "            F.col(\"comparison\"), regex_pattern + \".*\", \"\"\n",
    "        ),  # Extract part before the pattern\n",
    "    )\n",
    "    .withColumn(\n",
    "        \"suffix\",\n",
    "        F.regexp_extract(\n",
    "            F.col(\"comparison\"), regex_pattern, 0\n",
    "        ),  # Extract the pattern itself\n",
    "    )\n",
    ")\n",
    "\n",
    "### annotate projectId, tissue, qtl type and doe type:\n",
    "\n",
    "from pyspark.sql.functions import create_map\n",
    "from itertools import chain\n",
    "\n",
    "mapping_expr=create_map([F.lit(x) for x in chain(*disdic.items())])\n",
    "\n",
    "df_annot=df.withColumn('annotation',mapping_expr.getItem(F.col('prefix')))\n",
    "\n",
    "df_annot.toPandas().to_csv(\n",
    "    f\"gs://ot-team/jroldan/analysis/{today_date}_credibleSetColocDoEanalysis.csv\"\n",
    ")\n",
    "\n",
    "print(\"dataframe written \\n Analysis finished\")"
   ]
  },
  {
   "cell_type": "code",
   "execution_count": null,
   "metadata": {},
   "outputs": [],
   "source": []
  },
  {
   "cell_type": "code",
   "execution_count": 2,
   "metadata": {},
   "outputs": [
    {
     "name": "stdout",
     "output_type": "stream",
     "text": [
      "This time we want to have all Coloc and ecaviar >0.01\n",
      "loaded files\n",
      "loaded files\n",
      "loaded newColoc\n"
     ]
    },
    {
     "name": "stderr",
     "output_type": "stream",
     "text": [
      "                                                                                \r"
     ]
    },
    {
     "name": "stdout",
     "output_type": "stream",
     "text": [
      "loaded gwasComplete\n",
      "loaded resolvedColloc\n"
     ]
    },
    {
     "name": "stderr",
     "output_type": "stream",
     "text": [
      "25/06/19 08:04:24 WARN CacheManager: Asked to cache already cached data.\n"
     ]
    },
    {
     "name": "stdout",
     "output_type": "stream",
     "text": [
      "run temporary direction of effect\n",
      "Moving to step 2\n"
     ]
    },
    {
     "name": "stderr",
     "output_type": "stream",
     "text": [
      "25/06/19 08:04:25 WARN CacheManager: Asked to cache already cached data.\n"
     ]
    }
   ],
   "source": [
    "#### testing ecaviar for genevid analysis\n",
    "import time\n",
    "#from array import ArrayType\n",
    "from functions import (\n",
    "    relative_success,\n",
    "    spreadSheetFormatter,\n",
    "    discrepancifier,\n",
    "    temporary_directionOfEffect,\n",
    ")\n",
    "# from stoppedTrials import terminated_td\n",
    "from DoEAssessment import directionOfEffect\n",
    "# from membraneTargets import target_membrane\n",
    "from pyspark.sql import SparkSession, Window\n",
    "import pyspark.sql.functions as F\n",
    "#from itertools import islice\n",
    "from datetime import datetime\n",
    "from datetime import date\n",
    "from pyspark.sql.types import (\n",
    "    StructType,\n",
    "    StructField,\n",
    "    DoubleType,\n",
    "    StringType,\n",
    "    IntegerType,\n",
    "    ArrayType\n",
    ")\n",
    "import pandas as pd\n",
    "\n",
    "\n",
    "spark = SparkSession.builder.getOrCreate()\n",
    "spark.conf.set(\n",
    "    \"spark.sql.shuffle.partitions\", \"400\"\n",
    ")  # Default is 200, increase if needed\n",
    "print('This time we want to have all Coloc and ecaviar >0.01')\n",
    "\n",
    "path_n='gs://open-targets-data-releases/25.03/output/'\n",
    "\n",
    "target = spark.read.parquet(f\"{path_n}target/\")\n",
    "\n",
    "diseases = spark.read.parquet(f\"{path_n}disease/\")\n",
    "\n",
    "evidences = spark.read.parquet(f\"{path_n}evidence\")\n",
    "\n",
    "credible = spark.read.parquet(f\"{path_n}credible_set\")\n",
    "\n",
    "new = spark.read.parquet(f\"{path_n}colocalisation_coloc\") \n",
    "\n",
    "index=spark.read.parquet(f\"{path_n}study/\")\n",
    "\n",
    "variantIndex = spark.read.parquet(f\"{path_n}variant\")\n",
    "\n",
    "biosample = spark.read.parquet(f\"{path_n}biosample\")\n",
    "\n",
    "ecaviar=spark.read.parquet(f\"{path_n}colocalisation_ecaviar\")\n",
    "\n",
    "all_coloc=ecaviar.unionByName(new, allowMissingColumns=True)\n",
    "\n",
    "print(\"loaded files\")\n",
    "\n",
    "print(\"loaded files\")\n",
    "\n",
    "newColoc = (\n",
    "    all_coloc.join(\n",
    "        credible.selectExpr(  #### studyLocusId from credible set to uncover the codified variants on left side\n",
    "            \"studyLocusId as leftStudyLocusId\",\n",
    "            \"StudyId as leftStudyId\",\n",
    "            \"variantId as leftVariantId\",\n",
    "            \"studyType as credibleLeftStudyType\",\n",
    "        ),\n",
    "        on=\"leftStudyLocusId\",\n",
    "        how=\"left\",\n",
    "    )\n",
    "    .join(\n",
    "        credible.selectExpr(  #### studyLocusId from credible set to uncover the codified variants on right side\n",
    "            \"studyLocusId as rightStudyLocusId\",\n",
    "            \"studyId as rightStudyId\",\n",
    "            \"variantId as rightVariantId\",\n",
    "            \"studyType as credibleRightStudyType\",\n",
    "            \"pValueExponent as qtlPValueExponent\",\n",
    "            'isTransQtl'\n",
    "        ),\n",
    "        on=\"rightStudyLocusId\",\n",
    "        how=\"left\",\n",
    "    )\n",
    "    .join(\n",
    "        index.selectExpr(  ### bring modulated target on right side (QTL study)\n",
    "            \"studyId as rightStudyId\",\n",
    "            \"geneId\",\n",
    "            \"projectId\",\n",
    "            \"studyType as indexStudyType\",\n",
    "            \"condition\",\n",
    "            \"biosampleId\",\n",
    "        ),\n",
    "        on=\"rightStudyId\",\n",
    "        how=\"left\",\n",
    ")\n",
    "    # .persist()\n",
    ")\n",
    "\n",
    "print(\"loaded newColoc\")\n",
    "\n",
    "# remove columns without content (only null values on them)\n",
    "df = evidences.filter((F.col(\"datasourceId\") == \"gwas_credible_sets\"))\n",
    "\n",
    "# Use an aggregation to determine non-null columns\n",
    "non_null_counts = df.select(\n",
    "    *[F.sum(F.col(col).isNotNull().cast(\"int\")).alias(col) for col in df.columns]\n",
    ")\n",
    "\n",
    "# Collect the counts for each column\n",
    "non_null_columns = [\n",
    "    row[0] for row in non_null_counts.collect()[0].asDict().items() if row[1] > 0\n",
    "]\n",
    "\n",
    "# Select only the non-null columns\n",
    "filtered_df = df.select(*non_null_columns)  # .persist()\n",
    "\n",
    "## bring studyId, variantId, beta from Gwas and pValue\n",
    "gwasComplete = filtered_df.join(\n",
    "    credible.selectExpr(\n",
    "        \"studyLocusId\", \"studyId\", \"variantId\", \"beta as betaGwas\", \"pValueExponent\"\n",
    "    ),\n",
    "    on=\"studyLocusId\",\n",
    "    how=\"left\",\n",
    ")  # .persist()\n",
    "\n",
    "print(\"loaded gwasComplete\")\n",
    "\n",
    "resolvedColoc = (\n",
    "    (\n",
    "        newColoc.withColumnRenamed(\"geneId\", \"targetId\")\n",
    "        .join(\n",
    "            gwasComplete.withColumnRenamed(\"studyLocusId\", \"leftStudyLocusId\"),\n",
    "            on=[\"leftStudyLocusId\", \"targetId\"],\n",
    "            how=\"right\", ## has to be right to have the whole genetic evidence subset (having doe or not)\n",
    "        )\n",
    "        #.join(  ### propagated using parent terms\n",
    "        #    diseases.selectExpr(\n",
    "        #        \"id as diseaseId\", \"name\", \"parents\", \"therapeuticAreas\"\n",
    "        #    ),\n",
    "        #    on=\"diseaseId\",\n",
    "        #    how=\"left\",\n",
    "        #)\n",
    "        #.withColumn(\n",
    "        #    \"diseaseId\",\n",
    "        #    F.explode_outer(F.concat(F.array(F.col(\"diseaseId\")), F.col(\"parents\"))),\n",
    "        #)\n",
    "        #.drop(\"parents\", \"oldDiseaseId\")\n",
    "    ).withColumn(\n",
    "        \"colocDoE\",\n",
    "        F.when(\n",
    "            F.col(\"rightStudyType\").isin(\n",
    "                [\"eqtl\", \"pqtl\", \"tuqtl\", \"sceqtl\", \"sctuqtl\"]\n",
    "            ),\n",
    "            F.when(\n",
    "                (F.col(\"betaGwas\") > 0) & (F.col(\"betaRatioSignAverage\") > 0),\n",
    "                F.lit(\"GoF_risk\"),\n",
    "            )\n",
    "            .when(\n",
    "                (F.col(\"betaGwas\") > 0) & (F.col(\"betaRatioSignAverage\") < 0),\n",
    "                F.lit(\"LoF_risk\"),\n",
    "            )\n",
    "            .when(\n",
    "                (F.col(\"betaGwas\") < 0) & (F.col(\"betaRatioSignAverage\") > 0),\n",
    "                F.lit(\"LoF_protect\"),\n",
    "            )\n",
    "            .when(\n",
    "                (F.col(\"betaGwas\") < 0) & (F.col(\"betaRatioSignAverage\") < 0),\n",
    "                F.lit(\"GoF_protect\"),\n",
    "            ),\n",
    "        ).when(\n",
    "            F.col(\"rightStudyType\").isin(\n",
    "                [\"sqtl\", \"scsqtl\"]\n",
    "            ),  ### opposite directionality than sqtl\n",
    "            F.when(\n",
    "                (F.col(\"betaGwas\") > 0) & (F.col(\"betaRatioSignAverage\") > 0),\n",
    "                F.lit(\"LoF_risk\"),\n",
    "            )\n",
    "            .when(\n",
    "                (F.col(\"betaGwas\") > 0) & (F.col(\"betaRatioSignAverage\") < 0),\n",
    "                F.lit(\"GoF_risk\"),\n",
    "            )\n",
    "            .when(\n",
    "                (F.col(\"betaGwas\") < 0) & (F.col(\"betaRatioSignAverage\") > 0),\n",
    "                F.lit(\"GoF_protect\"),\n",
    "            )\n",
    "            .when(\n",
    "                (F.col(\"betaGwas\") < 0) & (F.col(\"betaRatioSignAverage\") < 0),\n",
    "                F.lit(\"LoF_protect\"),\n",
    "            ),\n",
    "        ),\n",
    "    )\n",
    "    # .persist()\n",
    ")\n",
    "print(\"loaded resolvedColloc\")\n",
    "resolvedColocFiltered = resolvedColoc.filter((F.col('clpp')>=0.01) | F.col('h4').isNotNull()) #| (F.col('h4')>=0.8))\n",
    "datasource_filter = [\n",
    "    #\"gwas_credible_set\", remove so avoid potential duplicates as it will be incorporated later (DoE is done separately)\n",
    "    \"gene_burden\",\n",
    "    \"eva\",\n",
    "    \"eva_somatic\",\n",
    "    \"gene2phenotype\",\n",
    "    \"orphanet\",\n",
    "    \"cancer_gene_census\",\n",
    "    \"intogen\",\n",
    "    \"impc\",\n",
    "    \"chembl\",\n",
    "]\n",
    "\n",
    "assessment, evidences, actionType, oncolabel = temporary_directionOfEffect(\n",
    "    path_n, datasource_filter\n",
    ")\n",
    "\n",
    "print(\"run temporary direction of effect\")\n",
    "\n",
    "window_spec = Window.partitionBy(\"targetId\", \"diseaseId\",'leftStudyId').orderBy( ### include gwas study\n",
    "    F.col(\"pValueExponent\").asc()\n",
    ")\n",
    "gwasCredibleAssoc = (\n",
    "    resolvedColocFiltered.withColumn(\n",
    "        \"homogenized\", F.first(\"colocDoE\", ignorenulls=True).over(window_spec)\n",
    "    )  ## added 30.01.2025\n",
    "    .select(\"targetId\", \"diseaseId\",'leftStudyId', \"homogenized\")\n",
    "    .withColumn(\n",
    "        \"homogenized\",\n",
    "        F.when(F.col(\"homogenized\").isNull(), F.lit(\"noEvaluable\")).otherwise(\n",
    "            F.col(\"homogenized\")\n",
    "        ),\n",
    "    )\n",
    ")\n",
    "\n",
    "window_spec_qtl = Window.partitionBy(\"targetId\", \"diseaseId\",'leftStudyId').orderBy( ### include gwas study\n",
    "    F.col(\"qtlPValueExponent\").asc()\n",
    ")\n",
    "# qtlPValueExponent\n",
    "gwasCredibleAssoc_qtlPValue = (\n",
    "    resolvedColocFiltered.withColumn(\n",
    "        \"homogenized\", F.first(\"colocDoE\", ignorenulls=True).over(window_spec_qtl)\n",
    "    )  ## added 30.01.2025\n",
    "    .select(\"targetId\", \"diseaseId\",'leftStudyId', \"homogenized\")\n",
    "    .withColumn(\n",
    "        \"homogenized\",\n",
    "        F.when(F.col(\"homogenized\").isNull(), F.lit(\"noEvaluable\")).otherwise(\n",
    "            F.col(\"homogenized\")\n",
    "        ),\n",
    "    )\n",
    ")\n",
    "\n",
    "\n",
    "print(\"Moving to step 2\")\n",
    "\n",
    "columns_chembl = [\"LoF_protect\", \"GoF_protect\"]\n",
    "columns_dataset = [\"LoF_protect\", \"GoF_protect\", \"LoF_risk\", \"GoF_risk\", \"evidenceDif\"]\n",
    "columns = [\"GoF_risk\", \"LoF_protect\", \"LoF_risk\", \"GoF_protect\"]\n",
    "terms = [\"noEvaluable\", \"bivalent_risk\", \"null\", \"dispar\"]\n",
    "\n",
    "taDf = spark.createDataFrame(\n",
    "    data=[\n",
    "        (\"MONDO_0045024\", \"cell proliferation disorder\", \"Oncology\"),\n",
    "        (\"EFO_0005741\", \"infectious disease\", \"Other\"),\n",
    "        (\"OTAR_0000014\", \"pregnancy or perinatal disease\", \"Other\"),\n",
    "        (\"EFO_0005932\", \"animal disease\", \"Other\"),\n",
    "        (\"MONDO_0024458\", \"disease of visual system\", \"Other\"),\n",
    "        (\"EFO_0000319\", \"cardiovascular disease\", \"Other\"),\n",
    "        (\"EFO_0009605\", \"pancreas disease\", \"Other\"),\n",
    "        (\"EFO_0010282\", \"gastrointestinal disease\", \"Other\"),\n",
    "        (\"OTAR_0000017\", \"reproductive system or breast disease\", \"Other\"),\n",
    "        (\"EFO_0010285\", \"integumentary system disease\", \"Other\"),\n",
    "        (\"EFO_0001379\", \"endocrine system disease\", \"Other\"),\n",
    "        (\"OTAR_0000010\", \"respiratory or thoracic disease\", \"Other\"),\n",
    "        (\"EFO_0009690\", \"urinary system disease\", \"Other\"),\n",
    "        (\"OTAR_0000006\", \"musculoskeletal or connective tissue disease\", \"Other\"),\n",
    "        (\"MONDO_0021205\", \"disease of ear\", \"Other\"),\n",
    "        (\"EFO_0000540\", \"immune system disease\", \"Other\"),\n",
    "        (\"EFO_0005803\", \"hematologic disease\", \"Other\"),\n",
    "        (\"EFO_0000618\", \"nervous system disease\", \"Other\"),\n",
    "        (\"MONDO_0002025\", \"psychiatric disorder\", \"Other\"),\n",
    "        (\"MONDO_0024297\", \"nutritional or metabolic disease\", \"Other\"),\n",
    "        (\"OTAR_0000018\", \"genetic, familial or congenital disease\", \"Other\"),\n",
    "        (\"OTAR_0000009\", \"injury, poisoning or other complication\", \"Other\"),\n",
    "        (\"EFO_0000651\", \"phenotype\", \"Other\"),\n",
    "        (\"EFO_0001444\", \"measurement\", \"Other\"),\n",
    "        (\"GO_0008150\", \"biological process\", \"Other\"),\n",
    "    ],\n",
    "    schema=StructType(\n",
    "        [\n",
    "            StructField(\"taId\", StringType(), True),\n",
    "            StructField(\"taLabel\", StringType(), True),\n",
    "            StructField(\"taLabelSimple\", StringType(), True),\n",
    "        ]\n",
    "    ),\n",
    ").withColumn(\"taRank\", F.monotonically_increasing_id())\n",
    "\n",
    "### give us a classification of Oncology VS non oncology\n",
    "wByDisease = Window.partitionBy(\"diseaseId\")  #### checked 31.05.2023\n",
    "diseaseTA = (\n",
    "    diseases.withColumn(\"taId\", F.explode(\"therapeuticAreas\"))\n",
    "    .select(F.col(\"id\").alias(\"diseaseId\"), \"taId\", \"parents\")\n",
    "    .join(taDf, on=\"taId\", how=\"left\")\n",
    "    .withColumn(\"minRank\", F.min(\"taRank\").over(wByDisease))\n",
    "    .filter(F.col(\"taRank\") == F.col(\"minRank\"))\n",
    "    .drop(\"taRank\", \"minRank\")\n",
    ")\n",
    "\n",
    "#### give us propagation of diseases and list of therapeutic areas associated\n",
    "diseases2 = diseases.select(\"id\", \"parents\").withColumn(\n",
    "    \"diseaseIdPropagated\",\n",
    "    F.explode_outer(F.concat(F.array(F.col(\"id\")), F.col(\"parents\"))),\n",
    ")\n",
    "\n",
    "chembl_trials = (\n",
    "    assessment.filter((F.col(\"datasourceId\").isin([\"chembl\"])))\n",
    "    .groupBy(\"targetId\", \"diseaseId\")\n",
    "    .agg(F.max(F.col(\"clinicalPhase\")).alias(\"maxClinPhase\"))\n",
    ")\n",
    "\n",
    "negativeTD = (\n",
    "    evidences.filter(F.col(\"datasourceId\") == \"chembl\")\n",
    "    .select(\"targetId\", \"diseaseId\", \"studyStopReason\", \"studyStopReasonCategories\")\n",
    "    .filter(F.array_contains(F.col(\"studyStopReasonCategories\"), \"Negative\"))\n",
    "    .groupBy(\"targetId\", \"diseaseId\")\n",
    "    .count()\n",
    "    .withColumn(\"stopReason\", F.lit(\"Negative\"))\n",
    "    .drop(\"count\")\n",
    ")\n",
    "\n",
    "assessment_all = assessment.unionByName(\n",
    "    gwasCredibleAssoc_qtlPValue.withColumn(\"datasourceId\", F.lit(\"gwas_credible_set\")),\n",
    "    allowMissingColumns=True,\n",
    ")\n"
   ]
  },
  {
   "cell_type": "code",
   "execution_count": 4,
   "metadata": {},
   "outputs": [
    {
     "name": "stdout",
     "output_type": "stream",
     "text": [
      "defining non propagated,propagated and analysis_drugs functions\n"
     ]
    },
    {
     "name": "stderr",
     "output_type": "stream",
     "text": [
      "                                                                                \r"
     ]
    }
   ],
   "source": [
    "\n",
    "### give us a classification of Oncology VS non oncology\n",
    "wByDisease = Window.partitionBy(\"diseaseId\")  #### checked 31.05.2023\n",
    "diseaseTA = (\n",
    "    diseases.withColumn(\"taId\", F.explode(\"therapeuticAreas\"))\n",
    "    .select(F.col(\"id\").alias(\"diseaseId\"), \"taId\", \"parents\")\n",
    "    .join(taDf, on=\"taId\", how=\"left\")\n",
    "    .withColumn(\"minRank\", F.min(\"taRank\").over(wByDisease))\n",
    "    .filter(F.col(\"taRank\") == F.col(\"minRank\"))\n",
    "    .drop(\"taRank\", \"minRank\")\n",
    ")\n",
    "\n",
    "#### give us propagation of diseases and list of therapeutic areas associated\n",
    "diseases2 = diseases.select(\"id\", \"parents\").withColumn(\n",
    "    \"diseaseIdPropagated\",\n",
    "    F.explode_outer(F.concat(F.array(F.col(\"id\")), F.col(\"parents\"))),\n",
    ")\n",
    "\n",
    "chembl_trials = (\n",
    "    assessment.filter((F.col(\"datasourceId\").isin([\"chembl\"])))\n",
    "    .groupBy(\"targetId\", \"diseaseId\")\n",
    "    .agg(F.max(F.col(\"clinicalPhase\")).alias(\"maxClinPhase\"))\n",
    ")\n",
    "\n",
    "negativeTD = (\n",
    "    evidences.filter(F.col(\"datasourceId\") == \"chembl\")\n",
    "    .select(\"targetId\", \"diseaseId\", \"studyStopReason\", \"studyStopReasonCategories\")\n",
    "    .filter(F.array_contains(F.col(\"studyStopReasonCategories\"), \"Negative\"))\n",
    "    .groupBy(\"targetId\", \"diseaseId\")\n",
    "    .count()\n",
    "    .withColumn(\"stopReason\", F.lit(\"Negative\"))\n",
    "    .drop(\"count\")\n",
    ")\n",
    "\n",
    "assessment_all = assessment.unionByName(\n",
    "    gwasCredibleAssoc_qtlPValue.withColumn(\"datasourceId\", F.lit(\"gwas_credible_set\")),\n",
    "    allowMissingColumns=True,\n",
    ")\n",
    "\n",
    "print(\"defining non propagated,propagated and analysis_drugs functions\")\n",
    "\n",
    "def analysis_nonPropagated(assessment_all, analysisDatasources):\n",
    "    return discrepancifier(\n",
    "        assessment_all.filter(F.col(\"datasourceId\").isin(analysisDatasources))\n",
    "        .withColumn(\n",
    "            \"datasources\",\n",
    "            F.collect_set(F.col(\"datasourceId\")).over(\n",
    "                Window.partitionBy(\"targetId\", \"diseaseId\")\n",
    "            ),\n",
    "        )\n",
    "        .groupBy(\n",
    "            \"targetId\",\n",
    "            \"diseaseId\",\n",
    "        )\n",
    "        .pivot(\"homogenized\")\n",
    "        .agg(F.count(\"targetId\"))\n",
    "        # .persist()\n",
    "    )\n",
    "\n",
    "\n",
    "def analysis_propagated(assessment_all, analysisDatasources):\n",
    "    return discrepancifier(\n",
    "        assessment_all.filter(F.col(\"datasourceId\").isin(analysisDatasources))\n",
    "        .withColumn(\n",
    "            \"datasources\",\n",
    "            F.collect_set(F.col(\"datasourceId\")).over(\n",
    "                Window.partitionBy(\"targetId\", \"diseaseId\")\n",
    "            ),\n",
    "        )\n",
    "        .join(\n",
    "            diseases2.selectExpr(\"id as diseaseId\", \"diseaseIdPropagated\"),\n",
    "            on=\"diseaseId\",\n",
    "            how=\"left\",\n",
    "        )\n",
    "        .withColumnRenamed(\"diseaseId\", \"oldDiseaseId\")\n",
    "        .withColumnRenamed(\"diseaseIdPropagated\", \"diseaseId\")\n",
    "        .groupBy(\n",
    "            \"targetId\",\n",
    "            \"diseaseId\",\n",
    "        )\n",
    "        .pivot(\"homogenized\")\n",
    "        .agg(F.count(\"targetId\"))\n",
    "        # .persist()\n",
    "    )\n",
    "\n",
    "chembl_ds = [\"chembl\"]\n",
    "\n",
    "def analysis_drugs(assessment_all, chembl_ds):\n",
    "    return discrepancifier(\n",
    "        assessment_all.filter((F.col(\"datasourceId\").isin(chembl_ds))\n",
    "        )\n",
    "        .withColumn(\n",
    "            \"maxClinPhase\",\n",
    "            F.max(F.col(\"clinicalPhase\")).over(\n",
    "                Window.partitionBy(\"targetId\", \"diseaseId\")\n",
    "            ),\n",
    "        )\n",
    "        .groupBy(\"targetId\", \"diseaseId\", \"maxClinPhase\")\n",
    "        .pivot(\"homogenized\")\n",
    "        .agg(F.count(\"targetId\"))\n",
    "        .persist()\n",
    "    )\n",
    "\n",
    "\n",
    "analysis_chembl = analysis_drugs(assessment_all, chembl_ds)\n"
   ]
  },
  {
   "cell_type": "code",
   "execution_count": 2,
   "metadata": {},
   "outputs": [
    {
     "name": "stderr",
     "output_type": "stream",
     "text": [
      "                                                                                \r"
     ]
    },
    {
     "name": "stdout",
     "output_type": "stream",
     "text": [
      "+--------------------+--------------------+----------+--------------+--------------------------+--------------------+--------------------+--------------------+----+----+----+----+----+\n",
      "|    leftStudyLocusId|   rightStudyLocusId|chromosome|rightStudyType|numberColocalisingVariants|                clpp|colocalisationMethod|betaRatioSignAverage|  h0|  h1|  h2|  h3|  h4|\n",
      "+--------------------+--------------------+----------+--------------+--------------------------+--------------------+--------------------+--------------------+----+----+----+----+----+\n",
      "|000d05393cd5863b3...|9651cca8bc8386a72...|        17|          eqtl|                        14|0.041950637555999475|             eCAVIAR|                 1.0|NULL|NULL|NULL|NULL|NULL|\n",
      "|000d24cc7709a9f40...|6a985202a00d48c5a...|        11|          pqtl|                        23|0.023020449155915983|             eCAVIAR|                -1.0|NULL|NULL|NULL|NULL|NULL|\n",
      "|000eab0795d970c4e...|8b80e731719d98526...|        16|          eqtl|                         1|0.009061183105220527|             eCAVIAR|                -1.0|NULL|NULL|NULL|NULL|NULL|\n",
      "|0013403cb7ae471dc...|e126f636a924b1024...|         7|        sceqtl|                         1| 0.09817250675463088|             eCAVIAR|                -1.0|NULL|NULL|NULL|NULL|NULL|\n",
      "|001bf216fd75501df...|f362fe46e6cef0a0c...|         1|          eqtl|                         1| 0.10365998977775084|             eCAVIAR|                NULL|NULL|NULL|NULL|NULL|NULL|\n",
      "|002378a16cdf145ef...|20fa332a3343e3cba...|        17|         tuqtl|                      2029|2.984998814325562...|             eCAVIAR|                NULL|NULL|NULL|NULL|NULL|NULL|\n",
      "|002378a16cdf145ef...|2b30a61169c8f9384...|        17|          eqtl|                      1962|3.019727994642026...|             eCAVIAR|                NULL|NULL|NULL|NULL|NULL|NULL|\n",
      "|002378a16cdf145ef...|dd4fb18fbe0ca5c42...|        17|          eqtl|                         1|4.201469801124222E-6|             eCAVIAR|                NULL|NULL|NULL|NULL|NULL|NULL|\n",
      "|002400f2be68c57cc...|64eadaec3a9110b42...|        11|          eqtl|                        17|0.040788699458302574|             eCAVIAR|                 1.0|NULL|NULL|NULL|NULL|NULL|\n",
      "|002ee561cb0167bb2...|aec95d71575c1f590...|         1|         tuqtl|                        25|0.004822544980474193|             eCAVIAR|                NULL|NULL|NULL|NULL|NULL|NULL|\n",
      "|0036b7760593472fe...|9022be3e10dc46387...|         2|          pqtl|                         3| 0.06212034092934679|             eCAVIAR|                -1.0|NULL|NULL|NULL|NULL|NULL|\n",
      "|0037e9c70d54b687a...|458cbf2db8e0a406e...|        17|          eqtl|                      1551|5.560722269778858E-5|             eCAVIAR|                 1.0|NULL|NULL|NULL|NULL|NULL|\n",
      "|0037e9c70d54b687a...|56244d8837deca440...|        17|          sqtl|                      2070|2.893428681857374...|             eCAVIAR|                 1.0|NULL|NULL|NULL|NULL|NULL|\n",
      "|0046d4f1f760b041c...|0cf0f91acc0dc49aa...|        11|          eqtl|                        31| 0.02002250751037928|             eCAVIAR|                 1.0|NULL|NULL|NULL|NULL|NULL|\n",
      "|004805bc8c5885283...|3b0f0dc18bafea56a...|        11|          eqtl|                       112|0.005277501908239901|             eCAVIAR|                -1.0|NULL|NULL|NULL|NULL|NULL|\n",
      "|0051069c8d2eb2f07...|763708fccd8166369...|        16|         tuqtl|                         3|5.620485952550831E-5|             eCAVIAR|                 1.0|NULL|NULL|NULL|NULL|NULL|\n",
      "|0051d0afb44621bae...|1e11c006b5506ea75...|         6|          sqtl|                         1| 0.05284382506507667|             eCAVIAR|                NULL|NULL|NULL|NULL|NULL|NULL|\n",
      "|005324e0384e1076e...|f1ca2d01b7c63bd9f...|         1|        sceqtl|                         1| 0.06349164244439687|             eCAVIAR|                 1.0|NULL|NULL|NULL|NULL|NULL|\n",
      "|005760db4fdece276...|a8e8af83111802f0c...|         1|         tuqtl|                        74|2.476445335912195...|             eCAVIAR|                 1.0|NULL|NULL|NULL|NULL|NULL|\n",
      "|005940aa33204af0b...|22fccb3992607b535...|        20|          eqtl|                        91|0.009088104442818653|             eCAVIAR|                NULL|NULL|NULL|NULL|NULL|NULL|\n",
      "+--------------------+--------------------+----------+--------------+--------------------------+--------------------+--------------------+--------------------+----+----+----+----+----+\n",
      "only showing top 20 rows\n",
      "\n"
     ]
    }
   ],
   "source": [
    "all_coloc.show()"
   ]
  },
  {
   "cell_type": "code",
   "execution_count": 3,
   "metadata": {},
   "outputs": [
    {
     "name": "stderr",
     "output_type": "stream",
     "text": [
      "[Stage 34:>                                                         (0 + 1) / 1]\r"
     ]
    },
    {
     "name": "stdout",
     "output_type": "stream",
     "text": [
      "+--------------------+--------------------+--------------------+----------+--------------+--------------------------+--------------------+--------------------+--------------------+--------------------+--------------------+--------------------+--------------------+------------------+------------+----------------+---------------------+--------------------+----------------------+-----------------+----------+---------------+------------+--------------+-----------+--------------+\n",
      "|        rightStudyId|   rightStudyLocusId|    leftStudyLocusId|chromosome|rightStudyType|numberColocalisingVariants|                clpp|colocalisationMethod|betaRatioSignAverage|                  h0|                  h1|                  h2|                  h3|                h4| leftStudyId|   leftVariantId|credibleLeftStudyType|      rightVariantId|credibleRightStudyType|qtlPValueExponent|isTransQtl|         geneId|   projectId|indexStudyType|  condition|   biosampleId|\n",
      "+--------------------+--------------------+--------------------+----------+--------------+--------------------------+--------------------+--------------------+--------------------+--------------------+--------------------+--------------------+--------------------+------------------+------------+----------------+---------------------+--------------------+----------------------+-----------------+----------+---------------+------------+--------------+-----------+--------------+\n",
      "|geuvadis_exon_lcl...|09f73a7245c86ba1e...|0016528da39bf369d...|         3|          eqtl|                         1|3.727787946092196...|             eCAVIAR|                -1.0|                NULL|                NULL|                NULL|                NULL|              NULL|GCST90018951|  3_52433247_G_A|                 gwas|     3_52559946_G_GA|                  eqtl|               -4|     false|ENSG00000168268|    GEUVADIS|          eqtl|      naive|   EFO_0005292|\n",
      "|        GCST90007324|128fe96acccc2dfed...|d62870ad18ec11d35...|         3|          gwas|                         7| 0.04467073973669651|             eCAVIAR|                NULL|                NULL|                NULL|                NULL|                NULL|              NULL|GCST90002363| 3_157077679_A_G|                 gwas|     3_157080943_A_G|                  gwas|              -10|      NULL|           NULL|        GCST|          gwas|       NULL|          NULL|\n",
      "|UKB_PPP_EUR_TCTN3...|1970f9d642b45cacb...|000d24cc7709a9f40...|        11|          pqtl|                        18|                NULL|               COLOC|                -1.0|2.107852453589530...|1.977290622020737...|3.124076709194328...|0.028334026505333603|0.9716659734926834|GCST90269693| 11_61785208_G_T|                 gwas|    11_61827448_CT_C|                  pqtl|              -16|      true|ENSG00000119977| UKB_PPP_EUR|          pqtl|       NULL|UBERON_0001969|\n",
      "|UKB_PPP_EUR_TCTN3...|1970f9d642b45cacb...|000d24cc7709a9f40...|        11|          pqtl|                        18|0.030275321814417493|             eCAVIAR|                -1.0|                NULL|                NULL|                NULL|                NULL|              NULL|GCST90269693| 11_61785208_G_T|                 gwas|    11_61827448_CT_C|                  pqtl|              -16|      true|ENSG00000119977| UKB_PPP_EUR|          pqtl|       NULL|UBERON_0001969|\n",
      "|nedelec_2016_txre...|2d858c726866753d8...|d7c04b1499fea8de8...|        22|         tuqtl|                        31|0.001280430477020...|             eCAVIAR|                NULL|                NULL|                NULL|                NULL|                NULL|              NULL|GCST90309878| 22_41365286_T_C|                 gwas|     22_41373750_A_G|                 tuqtl|              -11|     false|ENSG00000100413|Nedelec_2016|         tuqtl|Listeria_5h|    CL_0000235|\n",
      "|gtex_exon_brain_s...|5859225fe70eaf768...|002378a16cdf145ef...|        17|          eqtl|                      2090|3.306167404357966E-4|             eCAVIAR|                NULL|                NULL|                NULL|                NULL|                NULL|              NULL|GCST90309881| 17_46169798_A_G|                 gwas|     17_45640437_T_C|                  eqtl|              -23|     false|ENSG00000238083|        GTEx|          eqtl|      naive|UBERON_0006469|\n",
      "|        GCST90247892|6082d55d8aa9b30a7...|d7baab5e213108361...|        19|          gwas|                         2|  0.1673306539527345|             eCAVIAR|                NULL|                NULL|                NULL|                NULL|                NULL|              NULL|  GCST004243| 19_44908822_C_T|                 gwas|     19_44909976_G_T|                  gwas|              -27|      NULL|           NULL|        GCST|          gwas|       NULL|          NULL|\n",
      "|        GCST90132739|666d62e6626b89a9d...|d5501840e2d446198...|        15|          gwas|                         4|0.034623965882577025|             eCAVIAR|                NULL|                NULL|                NULL|                NULL|                NULL|              NULL|GCST90060315| 15_58434545_G_C|                 gwas|     15_58431476_C_T|                  gwas|              -19|      NULL|           NULL|        GCST|          gwas|       NULL|          NULL|\n",
      "|gtex_tx_uterus_en...|78c74984efa375141...|d9526519e3a7baadd...|        22|          eqtl|                         2|0.002565283002130706|             eCAVIAR|                NULL|                NULL|                NULL|                NULL|                NULL|              NULL|  GCST009518| 22_37742277_A_T|                 gwas|     22_37804117_C_T|                  eqtl|              -13|     false|ENSG00000100116|        GTEx|          eqtl|      naive|UBERON_0000995|\n",
      "|          GCST008079|7cc4aa7b6517ad638...|d12856b7fa3d10e37...|         9|          gwas|                         3|  0.2670692183923683|             eCAVIAR|                NULL|                NULL|                NULL|                NULL|                NULL|              NULL|GCST90302164| 9_104899461_A_C|                 gwas|     9_104903458_G_A|                  gwas|              -13|      NULL|           NULL|        GCST|          gwas|       NULL|          NULL|\n",
      "|UKB_PPP_EUR_BRAP_...|7f3d17e2fe55de66a...|00367b209b095434b...|         3|          pqtl|                         1|  0.9920581432266821|             eCAVIAR|                -1.0|                NULL|                NULL|                NULL|                NULL|              NULL|GCST90247634|  3_56815721_T_C|                 gwas|      3_56815721_T_C|                  pqtl|              -23|      true|ENSG00000089234| UKB_PPP_EUR|          pqtl|       NULL|UBERON_0001969|\n",
      "|blueprint_exon_mo...|8a9f5a8fae2bc3995...|002616dea00fa92b5...|         9|          eqtl|                         1|  0.3162287419477689|             eCAVIAR|                 1.0|                NULL|                NULL|                NULL|                NULL|              NULL|GCST90445905|  9_15304784_C_A|                 gwas|      9_15303585_G_A|                  eqtl|              -29|     false|ENSG00000155158|   BLUEPRINT|          eqtl|      naive|    CL_0002057|\n",
      "|blueprint_exon_mo...|8a9f5a8fae2bc3995...|002616dea00fa92b5...|         9|          eqtl|                         1|                NULL|               COLOC|                 1.0|                 0.0|1.884142065812761...|                 0.0|0.002000146436028673|0.9979998535640016|GCST90445905|  9_15304784_C_A|                 gwas|      9_15303585_G_A|                  eqtl|              -29|     false|ENSG00000155158|   BLUEPRINT|          eqtl|      naive|    CL_0002057|\n",
      "|blueprint_exon_t-...|a90f64c9b5ab3526d...|000eab0795d970c4e...|        16|          eqtl|                         1|0.002582570837954...|             eCAVIAR|                -1.0|                NULL|                NULL|                NULL|                NULL|              NULL|GCST90445962| 16_68328071_T_G|                 gwas|16_68329876_T_TAC...|                  eqtl|              -13|     false|ENSG00000132600|   BLUEPRINT|          eqtl|      naive|    CL_0000624|\n",
      "|quach_2016_ge_mon...|b658767531f1c3d37...|d46f4ad7c154622d4...|         8|          eqtl|                         1| 0.02634980090627129|             eCAVIAR|                -1.0|                NULL|                NULL|                NULL|                NULL|              NULL|GCST90013980|  8_23548829_T_C|                 gwas|      8_23544969_G_A|                  eqtl|              -53|     false|ENSG00000147454|  Quach_2016|          eqtl|Pam3CSK4_6h|    CL_0002057|\n",
      "|        GCST90019515|be5f44628c978c904...|cd9e9d86064de51ef...|         2|          gwas|                         2|  0.8110955046979478|             eCAVIAR|                 1.0|                NULL|                NULL|                NULL|                NULL|              NULL|GCST90103162| 2_210675783_C_A|                 gwas|     2_210675783_C_A|                  gwas|              -34|      NULL|           NULL|        GCST|          gwas|       NULL|          NULL|\n",
      "|gtex_tx_colon_sig...|cd40e6809cc868347...|0016060cd3d5c7b4e...|         9|          eqtl|                         1| 0.30457764703556567|             eCAVIAR|                -1.0|                NULL|                NULL|                NULL|                NULL|              NULL|GCST90078993|9_133257521_T_TC|                 gwas|    9_133257521_T_TC|                  eqtl|              -22|     false|ENSG00000175164|        GTEx|          eqtl|      naive|UBERON_0001159|\n",
      "|gtex_exon_testis_...|e19899bdecb5aba7f...|0004381517e293bf2...|         1|          eqtl|                         1|0.002285631066420029|             eCAVIAR|                -1.0|                NULL|                NULL|                NULL|                NULL|              NULL|GCST90002322|  1_25414356_A_C|                 gwas|      1_25420072_C_T|                  eqtl|              -14|     false|ENSG00000204178|        GTEx|          eqtl|      naive|UBERON_0000473|\n",
      "|alasoo_2018_ge_ma...|febe0fc2bc4185ff4...|001083ebbf37bf86a...|        17|          eqtl|                        23| 6.00029540551548E-4|             eCAVIAR|                NULL|                NULL|                NULL|                NULL|                NULL|              NULL|GCST90061371| 17_68093252_C_G|                 gwas|     17_68089067_T_C|                  eqtl|              -12|     false|ENSG00000278730| Alasoo_2018|          eqtl|      naive|    CL_0000235|\n",
      "|nathan_2022_ge_cd...|03e8af81b6a55f7c9...|0037e9c70d54b687a...|        17|        sceqtl|                      1564|8.577989212277184E-5|             eCAVIAR|                 1.0|                NULL|                NULL|                NULL|                NULL|              NULL|GCST90013984| 17_45855432_G_T|                 gwas|     17_46261658_C_T|                sceqtl|              -13|     false|ENSG00000228696| Nathan_2022|        sceqtl|      naive|    CL_0000624|\n",
      "+--------------------+--------------------+--------------------+----------+--------------+--------------------------+--------------------+--------------------+--------------------+--------------------+--------------------+--------------------+--------------------+------------------+------------+----------------+---------------------+--------------------+----------------------+-----------------+----------+---------------+------------+--------------+-----------+--------------+\n",
      "only showing top 20 rows\n",
      "\n"
     ]
    },
    {
     "name": "stderr",
     "output_type": "stream",
     "text": [
      "                                                                                \r"
     ]
    }
   ],
   "source": [
    "newColoc.show()"
   ]
  },
  {
   "cell_type": "code",
   "execution_count": null,
   "metadata": {},
   "outputs": [],
   "source": []
  },
  {
   "cell_type": "code",
   "execution_count": 3,
   "metadata": {},
   "outputs": [
    {
     "name": "stderr",
     "output_type": "stream",
     "text": [
      "[Stage 76:=======================================================>(66 + 1) / 67]\r"
     ]
    },
    {
     "name": "stdout",
     "output_type": "stream",
     "text": [
      "+---------------+-------------+-----+-------+\n",
      "|       targetId|    diseaseId|COLOC|eCAVIAR|\n",
      "+---------------+-------------+-----+-------+\n",
      "|ENSG00000082641|  EFO_0007629|   89|     38|\n",
      "|ENSG00000093010|  EFO_0006794|   30|     38|\n",
      "|ENSG00000148655|  EFO_0004309|  251|    358|\n",
      "|ENSG00000130203|  EFO_0022323|   14|     18|\n",
      "|ENSG00000092445|  EFO_0004713|    6|     10|\n",
      "|ENSG00000214300|  EFO_0004509|    3|      5|\n",
      "|ENSG00000134824|MONDO_0008903|    2|      2|\n",
      "|ENSG00000182263|  EFO_0000612|    1|      1|\n",
      "|ENSG00000167840|MONDO_0004979| NULL|      2|\n",
      "|ENSG00000240230|  EFO_0004518|    1|      2|\n",
      "|ENSG00000151617|  EFO_0000612|    3|      5|\n",
      "|ENSG00000091583|  EFO_0004339| NULL|      1|\n",
      "|ENSG00000132763|  EFO_0004509|   16|     10|\n",
      "|ENSG00000118271|MONDO_0100096| NULL|      1|\n",
      "|ENSG00000124207|  EFO_0004735|    8|      9|\n",
      "|ENSG00000198945|  EFO_0004696|  189|     68|\n",
      "|ENSG00000178202|  EFO_0004526|    5|      8|\n",
      "|ENSG00000092929|  EFO_0000537|   12|      6|\n",
      "|ENSG00000134365|  EFO_0004346| NULL|      2|\n",
      "|ENSG00000177479|  EFO_0011011| NULL|      1|\n",
      "+---------------+-------------+-----+-------+\n",
      "only showing top 20 rows\n",
      "\n"
     ]
    },
    {
     "name": "stderr",
     "output_type": "stream",
     "text": [
      "                                                                                \r"
     ]
    }
   ],
   "source": [
    "resolvedColocFiltered.groupBy('targetId','diseaseId').pivot('colocalisationMethod').count().show()"
   ]
  },
  {
   "cell_type": "code",
   "execution_count": 5,
   "metadata": {},
   "outputs": [
    {
     "name": "stdout",
     "output_type": "stream",
     "text": [
      "loaded files\n",
      "loaded newColoc\n"
     ]
    },
    {
     "name": "stderr",
     "output_type": "stream",
     "text": [
      "                                                                                \r"
     ]
    },
    {
     "name": "stdout",
     "output_type": "stream",
     "text": [
      "loaded gwasComplete\n",
      "loaded resolvedColloc\n",
      "run temporary direction of effect\n",
      "built drugApproved dataset\n"
     ]
    },
    {
     "name": "stderr",
     "output_type": "stream",
     "text": [
      "                                                                                \r"
     ]
    },
    {
     "name": "stdout",
     "output_type": "stream",
     "text": [
      "built chemblAssoc dataset\n",
      "load comparisons_df_iterative function\n",
      "created full_data and lists\n",
      "loaded rightTissue dataset\n",
      "built negativeTD dataset\n",
      "built bench2 dataset\n",
      "looping for variables_study\n"
     ]
    }
   ],
   "source": [
    "### numbers of ecaviar and coloc (FILTERED )\n",
    "\n",
    "import time\n",
    "from array import ArrayType\n",
    "from functions import (\n",
    "    relative_success,\n",
    "    spreadSheetFormatter,\n",
    "    discrepancifier,\n",
    "    temporary_directionOfEffect,\n",
    ")\n",
    "# from stoppedTrials import terminated_td\n",
    "from DoEAssessment import directionOfEffect\n",
    "# from membraneTargets import target_membrane\n",
    "from pyspark.sql import SparkSession, Window\n",
    "import pyspark.sql.functions as F\n",
    "from datetime import datetime\n",
    "from datetime import date\n",
    "from pyspark.sql.types import StructType, StructField, StringType, IntegerType\n",
    "from pyspark.sql.types import (\n",
    "    StructType,\n",
    "    StructField,\n",
    "    DoubleType,\n",
    "    DecimalType,\n",
    "    StringType,\n",
    "    FloatType,\n",
    ")\n",
    "import pandas as pd\n",
    "\n",
    "spark = SparkSession.builder.getOrCreate()\n",
    "spark.conf.set(\n",
    "    \"spark.sql.shuffle.partitions\", \"400\"\n",
    ")  # Default is 200, increase if needed\n",
    "\n",
    "\n",
    "path_n='gs://open-targets-data-releases/25.03/output/'\n",
    "\n",
    "target = spark.read.parquet(f\"{path_n}target/\")\n",
    "\n",
    "diseases = spark.read.parquet(f\"{path_n}disease/\")\n",
    "\n",
    "evidences = spark.read.parquet(f\"{path_n}evidence\")\n",
    "\n",
    "credible = spark.read.parquet(f\"{path_n}credible_set\")\n",
    "\n",
    "new = spark.read.parquet(f\"{path_n}colocalisation_coloc\") \n",
    "\n",
    "index=spark.read.parquet(f\"{path_n}study/\")\n",
    "\n",
    "variantIndex = spark.read.parquet(f\"{path_n}variant\")\n",
    "\n",
    "biosample = spark.read.parquet(f\"{path_n}biosample\")\n",
    "\n",
    "ecaviar=spark.read.parquet(f\"{path_n}colocalisation_ecaviar\")\n",
    "\n",
    "all_coloc=ecaviar.unionByName(new, allowMissingColumns=True)\n",
    "\n",
    "print(\"loaded files\")\n",
    "\n",
    "newColoc = (\n",
    "    all_coloc.join(\n",
    "        credible.selectExpr(  #### studyLocusId from credible set to uncover the codified variants on left side\n",
    "            \"studyLocusId as leftStudyLocusId\",\n",
    "            \"StudyId as leftStudyId\",\n",
    "            \"variantId as leftVariantId\",\n",
    "            \"studyType as credibleLeftStudyType\",\n",
    "        ),\n",
    "        on=\"leftStudyLocusId\",\n",
    "        how=\"left\",\n",
    "    )\n",
    "    .join(\n",
    "        credible.selectExpr(  #### studyLocusId from credible set to uncover the codified variants on right side\n",
    "            \"studyLocusId as rightStudyLocusId\",\n",
    "            \"studyId as rightStudyId\",\n",
    "            \"variantId as rightVariantId\",\n",
    "            \"studyType as credibleRightStudyType\",\n",
    "            \"pValueExponent as qtlPValueExponent\",\n",
    "            'isTransQtl'\n",
    "        ),\n",
    "        on=\"rightStudyLocusId\",\n",
    "        how=\"left\",\n",
    "    )\n",
    "    .join(\n",
    "        index.selectExpr(  ### bring modulated target on right side (QTL study)\n",
    "            \"studyId as rightStudyId\",\n",
    "            \"geneId\",\n",
    "            \"projectId\",\n",
    "            \"studyType as indexStudyType\",\n",
    "            \"condition\",\n",
    "            \"biosampleId\",\n",
    "        ),\n",
    "        on=\"rightStudyId\",\n",
    "        how=\"left\",\n",
    ")\n",
    "    # .persist()\n",
    ")\n",
    "\n",
    "print(\"loaded newColoc\")\n",
    "\n",
    "# remove columns without content (only null values on them)\n",
    "df = evidences.filter((F.col(\"datasourceId\") == \"gwas_credible_sets\"))\n",
    "\n",
    "# Use an aggregation to determine non-null columns\n",
    "non_null_counts = df.select(\n",
    "    *[F.sum(F.col(col).isNotNull().cast(\"int\")).alias(col) for col in df.columns]\n",
    ")\n",
    "\n",
    "# Collect the counts for each column\n",
    "non_null_columns = [\n",
    "    row[0] for row in non_null_counts.collect()[0].asDict().items() if row[1] > 0\n",
    "]\n",
    "\n",
    "# Select only the non-null columns\n",
    "filtered_df = df.select(*non_null_columns)  # .persist()\n",
    "\n",
    "## bring studyId, variantId, beta from Gwas and pValue\n",
    "gwasComplete = filtered_df.join(\n",
    "    credible.selectExpr(\n",
    "        \"studyLocusId\", \"studyId\", \"variantId\", \"beta as betaGwas\", \"pValueExponent\"\n",
    "    ),\n",
    "    on=\"studyLocusId\",\n",
    "    how=\"left\",\n",
    ")  # .persist()\n",
    "\n",
    "print(\"loaded gwasComplete\")\n",
    "\n",
    "resolvedColoc = (\n",
    "    (\n",
    "        newColoc.withColumnRenamed(\"geneId\", \"targetId\")\n",
    "        .join(\n",
    "            gwasComplete.withColumnRenamed(\"studyLocusId\", \"leftStudyLocusId\"),\n",
    "            on=[\"leftStudyLocusId\", \"targetId\"],\n",
    "            how=\"inner\",\n",
    "        )\n",
    "        .join(  ### propagated using parent terms\n",
    "            diseases.selectExpr(\n",
    "                \"id as diseaseId\", \"name\", \"parents\", \"therapeuticAreas\"\n",
    "            ),\n",
    "            on=\"diseaseId\",\n",
    "            how=\"left\",\n",
    "        )\n",
    "        .withColumn(\n",
    "            \"diseaseId\",\n",
    "            F.explode_outer(F.concat(F.array(F.col(\"diseaseId\")), F.col(\"parents\"))),\n",
    "        )\n",
    "        .drop(\"parents\", \"oldDiseaseId\")\n",
    "    ).withColumn(\n",
    "        \"colocDoE\",\n",
    "        F.when(\n",
    "            F.col(\"rightStudyType\").isin(\n",
    "                [\"eqtl\", \"pqtl\", \"tuqtl\", \"sceqtl\", \"sctuqtl\"]\n",
    "            ),\n",
    "            F.when(\n",
    "                (F.col(\"betaGwas\") > 0) & (F.col(\"betaRatioSignAverage\") > 0),\n",
    "                F.lit(\"GoF_risk\"),\n",
    "            )\n",
    "            .when(\n",
    "                (F.col(\"betaGwas\") > 0) & (F.col(\"betaRatioSignAverage\") < 0),\n",
    "                F.lit(\"LoF_risk\"),\n",
    "            )\n",
    "            .when(\n",
    "                (F.col(\"betaGwas\") < 0) & (F.col(\"betaRatioSignAverage\") > 0),\n",
    "                F.lit(\"LoF_protect\"),\n",
    "            )\n",
    "            .when(\n",
    "                (F.col(\"betaGwas\") < 0) & (F.col(\"betaRatioSignAverage\") < 0),\n",
    "                F.lit(\"GoF_protect\"),\n",
    "            ),\n",
    "        ).when(\n",
    "            F.col(\"rightStudyType\").isin(\n",
    "                [\"sqtl\", \"scsqtl\"]\n",
    "            ),  ### opposite directionality than sqtl\n",
    "            F.when(\n",
    "                (F.col(\"betaGwas\") > 0) & (F.col(\"betaRatioSignAverage\") > 0),\n",
    "                F.lit(\"LoF_risk\"),\n",
    "            )\n",
    "            .when(\n",
    "                (F.col(\"betaGwas\") > 0) & (F.col(\"betaRatioSignAverage\") < 0),\n",
    "                F.lit(\"GoF_risk\"),\n",
    "            )\n",
    "            .when(\n",
    "                (F.col(\"betaGwas\") < 0) & (F.col(\"betaRatioSignAverage\") > 0),\n",
    "                F.lit(\"GoF_protect\"),\n",
    "            )\n",
    "            .when(\n",
    "                (F.col(\"betaGwas\") < 0) & (F.col(\"betaRatioSignAverage\") < 0),\n",
    "                F.lit(\"LoF_protect\"),\n",
    "            ),\n",
    "        ),\n",
    "    )\n",
    "    # .persist()\n",
    ")\n",
    "print(\"loaded resolvedColloc\")\n",
    "\n",
    "datasource_filter = [\n",
    "#   \"ot_genetics_portal\",\n",
    "    \"gwas_credible_sets\",\n",
    "    \"gene_burden\",\n",
    "    \"eva\",\n",
    "    \"eva_somatic\",\n",
    "    \"gene2phenotype\",\n",
    "    \"orphanet\",\n",
    "    \"cancer_gene_census\",\n",
    "    \"intogen\",\n",
    "    \"impc\",\n",
    "    \"chembl\",\n",
    "]\n",
    "\n",
    "assessment, evidences, actionType, oncolabel = temporary_directionOfEffect(\n",
    "    path_n, datasource_filter\n",
    ")\n",
    "\n",
    "print(\"run temporary direction of effect\")\n",
    "\n",
    "\n",
    "print(\"built drugApproved dataset\")\n",
    "\n",
    "analysis_chembl_indication = (\n",
    "    discrepancifier(\n",
    "        assessment.filter((F.col(\"datasourceId\") == \"chembl\"))\n",
    "        .withColumn(\n",
    "            \"maxClinPhase\",\n",
    "            F.max(F.col(\"clinicalPhase\")).over(\n",
    "                Window.partitionBy(\"targetId\", \"diseaseId\")\n",
    "            ),\n",
    "        )\n",
    "        .groupBy(\"targetId\", \"diseaseId\", \"maxClinPhase\")\n",
    "        .pivot(\"homogenized\")\n",
    "        .agg(F.count(\"targetId\"))\n",
    "    )\n",
    "    .filter(F.col(\"coherencyDiagonal\") == \"coherent\")\n",
    "    .drop(\n",
    "        \"coherencyDiagonal\", \"coherencyOneCell\", \"noEvaluable\", \"GoF_risk\", \"LoF_risk\"\n",
    "    )\n",
    "    .withColumnRenamed(\"GoF_protect\", \"drugGoF_protect\")\n",
    "    .withColumnRenamed(\"LoF_protect\", \"drugLoF_protect\")\n",
    "    # .persist()\n",
    ")\n",
    "\n",
    "chemblAssoc = (\n",
    "    discrepancifier(\n",
    "        assessment.filter(\n",
    "            (F.col(\"datasourceId\") == \"chembl\")\n",
    "            & (F.col(\"homogenized\") != \"noEvaluable\")\n",
    "        )\n",
    "        .withColumn(\n",
    "            \"maxClinPhase\",\n",
    "            F.max(\"clinicalPhase\").over(Window.partitionBy(\"targetId\", \"diseaseId\")),\n",
    "        )\n",
    "        .groupBy(\"targetId\", \"diseaseId\", \"maxClinPhase\")\n",
    "        .pivot(\"homogenized\")\n",
    "        .count()\n",
    "    )\n",
    "    .filter(F.col(\"coherencyDiagonal\") == \"coherent\")\n",
    "    .drop(\n",
    "        \"coherencyDiagonal\", \"coherencyOneCell\", \"noEvaluable\", \"GoF_risk\", \"LoF_risk\"\n",
    "    )\n",
    "    .withColumnRenamed(\"GoF_protect\", \"drugGoF_protect\")\n",
    "    .withColumnRenamed(\"LoF_protect\", \"drugLoF_protect\")\n",
    ")\n",
    "\n",
    "print(\"built chemblAssoc dataset\")\n",
    "\n",
    "####2 Define agregation function\n",
    "import pandas as pd\n",
    "import numpy as np\n",
    "from scipy.stats import fisher_exact\n",
    "from scipy.stats.contingency import odds_ratio\n",
    "from pyspark.sql.types import *\n",
    "\n",
    "\n",
    "def convertTuple(tup):\n",
    "    st = \",\".join(map(str, tup))\n",
    "    return st\n",
    "\n",
    "\n",
    "#####3 run in a function\n",
    "def aggregations_original(\n",
    "    df,\n",
    "    data,\n",
    "    listado,\n",
    "    comparisonColumn,\n",
    "    comparisonType,\n",
    "    predictionColumn,\n",
    "    predictionType,\n",
    "    today_date,\n",
    "):\n",
    "    wComparison = Window.partitionBy(comparisonColumn)\n",
    "    wPrediction = Window.partitionBy(predictionColumn)\n",
    "    wPredictionComparison = Window.partitionBy(comparisonColumn, predictionColumn)\n",
    "    results = []\n",
    "    # uniqIds = df.select(\"targetId\", \"diseaseId\").distinct().count()\n",
    "    out = (\n",
    "        df.withColumn(\"comparisonType\", F.lit(comparisonType))\n",
    "        .withColumn(\"dataset\", F.lit(data))\n",
    "        .withColumn(\"predictionType\", F.lit(predictionType))\n",
    "        # .withColumn(\"total\", F.lit(uniqIds))\n",
    "        .withColumn(\"a\", F.count(\"targetId\").over(wPredictionComparison))\n",
    "        .withColumn(\"comparisonColumn\", F.lit(comparisonColumn))\n",
    "        .withColumn(\"predictionColumnValue\", F.lit(predictionColumn))\n",
    "        .withColumn(\n",
    "            \"predictionTotal\",\n",
    "            F.count(\"targetId\").over(wPrediction),\n",
    "        )\n",
    "        .withColumn(\n",
    "            \"comparisonTotal\",\n",
    "            F.count(\"targetId\").over(wComparison),\n",
    "        )\n",
    "        .select(\n",
    "            F.col(predictionColumn).alias(\"prediction\"),\n",
    "            F.col(comparisonColumn).alias(\"comparison\"),\n",
    "            \"dataset\",\n",
    "            \"comparisonColumn\",\n",
    "            \"predictionColumnValue\",\n",
    "            \"comparisonType\",\n",
    "            \"predictionType\",\n",
    "            \"a\",\n",
    "            \"predictionTotal\",\n",
    "            \"comparisonTotal\",\n",
    "        )\n",
    "        .filter(F.col(\"prediction\").isNotNull())\n",
    "        .filter(F.col(\"comparison\").isNotNull())\n",
    "        .distinct()\n",
    "    )\n",
    "\n",
    "    out.write.mode(\"overwrite\").parquet(\n",
    "        \"gs://ot-team/jroldan/\"\n",
    "        + str(\n",
    "            today_date\n",
    "            + \"_\"\n",
    "            + \"analysis/\"\n",
    "            + data\n",
    "            # + \"_propagated\"\n",
    "            + \"/\"\n",
    "            + comparisonColumn\n",
    "            + \"_\"\n",
    "            + comparisonType\n",
    "            + \"_\"\n",
    "            + predictionColumn\n",
    "            + \".parquet\"\n",
    "        )\n",
    "    )\n",
    "\n",
    "    listado.append(\n",
    "        \"gs://ot-team/jroldan/\"\n",
    "        + str(\n",
    "            today_date\n",
    "            + \"_\"\n",
    "            + \"analysis/\"\n",
    "            + data\n",
    "            # + \"_propagated\"\n",
    "            + \"/\"\n",
    "            + comparisonColumn\n",
    "            + \"_\"\n",
    "            + comparisonType\n",
    "            + \"_\"\n",
    "            + predictionColumn\n",
    "            + \".parquet\"\n",
    "        )\n",
    "    )\n",
    "    path = \"gs://ot-team/jroldan/\" + str(\n",
    "        today_date\n",
    "        + \"_\"\n",
    "        + \"analysis/\"\n",
    "        + data\n",
    "        # + \"_propagated\"\n",
    "        + \"/\"\n",
    "        + comparisonColumn\n",
    "        + \"_\"\n",
    "        + comparisonType\n",
    "        + \"_\"\n",
    "        + predictionColumn\n",
    "        + \".parquet\"\n",
    "    )\n",
    "    print(path)\n",
    "    \n",
    "    ### making analysis\n",
    "    array1 = np.delete(\n",
    "        out.join(full_data, on=[\"prediction\", \"comparison\"], how=\"outer\")\n",
    "        .groupBy(\"comparison\")\n",
    "        .pivot(\"prediction\")\n",
    "        .agg(F.first(\"a\"))\n",
    "        .sort(F.col(\"comparison\").desc())\n",
    "        .select(\"comparison\", \"yes\", \"no\")\n",
    "        .fillna(0)\n",
    "        .toPandas()\n",
    "        .to_numpy(),\n",
    "        [0],\n",
    "        1,\n",
    "    )\n",
    "    total = np.sum(array1)\n",
    "    res_npPhaseX = np.array(array1, dtype=int)\n",
    "    resX = convertTuple(fisher_exact(res_npPhaseX, alternative=\"two-sided\"))\n",
    "    resx_CI = convertTuple(\n",
    "        odds_ratio(res_npPhaseX).confidence_interval(confidence_level=0.95)\n",
    "    )\n",
    "\n",
    "    result_st.append(resX)\n",
    "    result_ci.append(resx_CI)\n",
    "    (rs_result, rs_ci) = relative_success(array1)\n",
    "    results.extend(\n",
    "        [\n",
    "            comparisonType,\n",
    "            comparisonColumn,\n",
    "            predictionColumn,\n",
    "            round(float(resX.split(\",\")[0]), 2),\n",
    "            float(resX.split(\",\")[1]),\n",
    "            round(float(resx_CI.split(\",\")[0]), 2),\n",
    "            round(float(resx_CI.split(\",\")[1]), 2),\n",
    "            str(total),\n",
    "            np.array(res_npPhaseX).tolist(),\n",
    "            round(float(rs_result), 2),\n",
    "            round(float(rs_ci[0]), 2),\n",
    "            round(float(rs_ci[1]), 2),\n",
    "            # studies,\n",
    "            # tissues,\n",
    "            path,\n",
    "        ]\n",
    "    )\n",
    "    return results\n",
    "\n",
    "\n",
    "#### 3 Loop over different datasets (as they will have different rows and columns)\n",
    "\n",
    "\n",
    "def comparisons_df_iterative(elements):\n",
    "    # toAnalysis = [(key, value) for key, value in disdic.items() if value == projectId]\n",
    "    toAnalysis = [(col, \"predictor\") for col in elements]\n",
    "    schema = StructType(\n",
    "        [\n",
    "            StructField(\"comparison\", StringType(), True),\n",
    "            StructField(\"comparisonType\", StringType(), True),\n",
    "        ]\n",
    "    )\n",
    "\n",
    "    comparisons = spark.createDataFrame(toAnalysis, schema=schema)\n",
    "    ### include all the columns as predictor\n",
    "\n",
    "    predictions = spark.createDataFrame(\n",
    "        data=[\n",
    "            (\"Phase>=4\", \"clinical\"),\n",
    "            #('Phase>=3','clinical'),\n",
    "            #('Phase>=2','clinical'),\n",
    "            #('Phase>=1','clinical'),\n",
    "            #(\"PhaseT\", \"clinical\"),\n",
    "        ]\n",
    "    )\n",
    "    return comparisons.join(predictions, how=\"full\").collect()\n",
    "\n",
    "\n",
    "print(\"load comparisons_df_iterative function\")\n",
    "\n",
    "\n",
    "full_data = spark.createDataFrame(\n",
    "    data=[\n",
    "        (\"yes\", \"yes\"),\n",
    "        (\"yes\", \"no\"),\n",
    "        (\"no\", \"yes\"),\n",
    "        (\"no\", \"no\"),\n",
    "    ],\n",
    "    schema=StructType(\n",
    "        [\n",
    "            StructField(\"prediction\", StringType(), True),\n",
    "            StructField(\"comparison\", StringType(), True),\n",
    "        ]\n",
    "    ),\n",
    ")\n",
    "print(\"created full_data and lists\")\n",
    "\n",
    "#rightTissue = spark.read.csv(\n",
    "#    'gs://ot-team/jroldan/analysis/20250526_rightTissue.csv',\n",
    "#    header=True,\n",
    "#).drop(\"_c0\")\n",
    "\n",
    "print(\"loaded rightTissue dataset\")\n",
    "\n",
    "negativeTD = (\n",
    "    evidences.filter(F.col(\"datasourceId\") == \"chembl\")\n",
    "    .select(\"targetId\", \"diseaseId\", \"studyStopReason\", \"studyStopReasonCategories\")\n",
    "    .filter(F.array_contains(F.col(\"studyStopReasonCategories\"), \"Negative\"))\n",
    "    .groupBy(\"targetId\", \"diseaseId\")\n",
    "    .count()\n",
    "    .withColumn(\"stopReason\", F.lit(\"Negative\"))\n",
    "    .drop(\"count\")\n",
    ")\n",
    "\n",
    "print(\"built negativeTD dataset\")\n",
    "\n",
    "print(\"built bench2 dataset\")\n",
    "\n",
    "###### cut from here\n",
    "print(\"looping for variables_study\")\n",
    "\n",
    "#### new part with chatgpt -- TEST\n",
    "\n",
    "## QUESTIONS TO ANSWER:\n",
    "# HAVE ECAVIAR >=0.8\n",
    "# HAVE COLOC \n",
    "# HAVE COLOC >= 0.8\n",
    "# HAVE COLOC + ECAVIAR >= 0.01\n",
    "# HAVE COLOC >= 0.8 + ECAVIAR >= 0.01\n",
    "# RIGHT JOING WITH CHEMBL \n",
    "\n",
    "resolvedColocFiltered = resolvedColoc.filter((F.col('clpp')>=0.01) | (F.col('h4')>=0.8))\n",
    "benchmark = (\n",
    "    (\n",
    "        resolvedColocFiltered.filter(F.col(\"betaGwas\") < 0).filter(\n",
    "        F.col(\"name\") != \"COVID-19\"\n",
    "    )\n",
    "        .join(  ### select just GWAS giving protection\n",
    "            analysis_chembl_indication, on=[\"targetId\", \"diseaseId\"], how=\"right\"  ### RIGHT SIDE\n",
    "        )\n",
    "        .withColumn(\n",
    "            \"AgreeDrug\",\n",
    "            F.when(\n",
    "                (F.col(\"drugGoF_protect\").isNotNull())\n",
    "                & (F.col(\"colocDoE\") == \"GoF_protect\"),\n",
    "                F.lit(\"yes\"),\n",
    "            )\n",
    "            .when(\n",
    "                (F.col(\"drugLoF_protect\").isNotNull())\n",
    "                & (F.col(\"colocDoE\") == \"LoF_protect\"),\n",
    "                F.lit(\"yes\"),\n",
    "            )\n",
    "            .otherwise(F.lit(\"no\")),\n",
    "        )\n",
    "    )  #### remove COVID-19 associations\n",
    ").join(biosample.select(\"biosampleId\", \"biosampleName\"), on=\"biosampleId\", how=\"left\")\n"
   ]
  },
  {
   "cell_type": "code",
   "execution_count": 10,
   "metadata": {},
   "outputs": [
    {
     "name": "stderr",
     "output_type": "stream",
     "text": [
      "[Stage 447:====================================================>  (64 + 3) / 67]\r"
     ]
    },
    {
     "name": "stdout",
     "output_type": "stream",
     "text": [
      "+--------+----------+-----+\n",
      "|hasColoc|hasEcaviar|count|\n",
      "+--------+----------+-----+\n",
      "|      no|        no|68453|\n",
      "|      no|       yes|   77|\n",
      "|     yes|        no|   26|\n",
      "|     yes|       yes|  146|\n",
      "+--------+----------+-----+\n",
      "\n"
     ]
    },
    {
     "name": "stderr",
     "output_type": "stream",
     "text": [
      "                                                                                \r"
     ]
    }
   ],
   "source": [
    "resolvedColocFiltered = resolvedColoc.filter((F.col('clpp')>=0.01) | (F.col('h4').isNotNull()))\n",
    "benchmark = (\n",
    "    (\n",
    "        resolvedColocFiltered.filter(F.col(\"betaGwas\") < 0).filter(\n",
    "        F.col(\"name\") != \"COVID-19\"\n",
    "    )\n",
    "        .join(  ### select just GWAS giving protection\n",
    "            analysis_chembl_indication, on=[\"targetId\", \"diseaseId\"], how=\"right\"  ### RIGHT SIDE\n",
    "        )\n",
    "        .withColumn(\n",
    "            \"AgreeDrug\",\n",
    "            F.when(\n",
    "                (F.col(\"drugGoF_protect\").isNotNull())\n",
    "                & (F.col(\"colocDoE\") == \"GoF_protect\"),\n",
    "                F.lit(\"yes\"),\n",
    "            )\n",
    "            .when(\n",
    "                (F.col(\"drugLoF_protect\").isNotNull())\n",
    "                & (F.col(\"colocDoE\") == \"LoF_protect\"),\n",
    "                F.lit(\"yes\"),\n",
    "            )\n",
    "            .otherwise(F.lit(\"no\")),\n",
    "        )\n",
    "    )  #### remove COVID-19 associations\n",
    ").join(biosample.select(\"biosampleId\", \"biosampleName\"), on=\"biosampleId\", how=\"left\")\n",
    "#### Coloc no filtered\n",
    "\n",
    "benchmark.groupBy(\"targetId\", \"diseaseId\").pivot(\n",
    "    \"colocalisationMethod\"\n",
    ").count().withColumn(\n",
    "    \"hasColoc\", F.when(F.col(\"COLOC\").isNotNull(), F.lit(\"yes\")).otherwise(F.lit('no'))\n",
    ").withColumn(\n",
    "    \"hasEcaviar\", F.when(F.col(\"eCAVIAR\").isNotNull(), F.lit(\"yes\")).otherwise(F.lit('no'))\n",
    ").groupBy('hasColoc','hasEcaviar').count().show()"
   ]
  },
  {
   "cell_type": "code",
   "execution_count": null,
   "metadata": {},
   "outputs": [
    {
     "name": "stderr",
     "output_type": "stream",
     "text": [
      "[Stage 291:=================================================>  (381 + 18) / 400]\r"
     ]
    },
    {
     "name": "stdout",
     "output_type": "stream",
     "text": [
      "+--------+----------+-----+\n",
      "|hasColoc|hasEcaviar|count|\n",
      "+--------+----------+-----+\n",
      "|      no|        no|68464|\n",
      "|     yes|       yes|  144|\n",
      "|      no|       yes|   79|\n",
      "|     yes|        no|   15|\n",
      "+--------+----------+-----+\n",
      "\n"
     ]
    },
    {
     "name": "stderr",
     "output_type": "stream",
     "text": [
      "                                                                                \r"
     ]
    }
   ],
   "source": [
    "\n",
    "### Coloc >=0.8\n",
    "benchmark.groupBy(\"targetId\", \"diseaseId\").pivot(\n",
    "    \"colocalisationMethod\"\n",
    ").count().withColumn(\n",
    "    \"hasColoc\", F.when(F.col(\"COLOC\").isNotNull(), F.lit(\"yes\")).otherwise(F.lit('no'))\n",
    ").withColumn(\n",
    "    \"hasEcaviar\", F.when(F.col(\"eCAVIAR\").isNotNull(), F.lit(\"yes\")).otherwise(F.lit('no'))\n",
    ").groupBy('hasColoc','hasEcaviar').count().show()"
   ]
  }
 ],
 "metadata": {
  "kernelspec": {
   "display_name": "PySpark",
   "language": "python",
   "name": "pyspark"
  },
  "language_info": {
   "codemirror_mode": {
    "name": "ipython",
    "version": 3
   },
   "file_extension": ".py",
   "mimetype": "text/x-python",
   "name": "python",
   "nbconvert_exporter": "python",
   "pygments_lexer": "ipython3",
   "version": "3.11.8"
  }
 },
 "nbformat": 4,
 "nbformat_minor": 2
}
