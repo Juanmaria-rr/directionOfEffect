{
 "cells": [
  {
   "cell_type": "code",
   "execution_count": 1,
   "metadata": {},
   "outputs": [
    {
     "name": "stdout",
     "output_type": "stream",
     "text": [
      "spark session created at 2025-07-15 14:16:54.226009\n",
      "Analysis started on 2025-07-15 at  2025-07-15 14:16:54.226009\n"
     ]
    },
    {
     "name": "stderr",
     "output_type": "stream",
     "text": [
      "25/07/15 14:16:59 WARN SparkStringUtils: Truncated the string representation of a plan since it was too large. This behavior can be adjusted by setting 'spark.sql.debug.maxToStringFields'.\n",
      "25/07/15 14:16:59 WARN SparkSession: Using an existing Spark session; only runtime SQL configurations will take effect.\n"
     ]
    },
    {
     "name": "stdout",
     "output_type": "stream",
     "text": [
      "SparkSession created successfully with the following configurations:\n",
      "  spark.driver.memory: 4g\n",
      "  spark.executor.memory: 8g\n",
      "  spark.executor.cores: 4\n",
      "  spark.executor.instances: 10\n",
      "  spark.yarn.executor.memoryOverhead: 2g\n",
      "  spark.sql.shuffle.partitions: 150\n",
      "  spark.default.parallelism: 80\n",
      "Spark UI available at: http://jr-temp-doe-m.c.open-targets-eu-dev.internal:40257\n"
     ]
    },
    {
     "name": "stderr",
     "output_type": "stream",
     "text": [
      "                                                                                \r"
     ]
    },
    {
     "name": "stdout",
     "output_type": "stream",
     "text": [
      "loaded files\n",
      "loaded newColoc\n"
     ]
    },
    {
     "name": "stderr",
     "output_type": "stream",
     "text": [
      "                                                                                \r"
     ]
    },
    {
     "name": "stdout",
     "output_type": "stream",
     "text": [
      "loaded gwasComplete\n",
      "loaded resolvedColloc\n",
      "run temporary direction of effect\n",
      "built drugApproved dataset\n"
     ]
    },
    {
     "name": "stderr",
     "output_type": "stream",
     "text": [
      "                                                                                \r"
     ]
    },
    {
     "name": "stdout",
     "output_type": "stream",
     "text": [
      "load comparisons_df_iterative function\n",
      "created full_data and lists\n",
      "loaded rightTissue dataset\n",
      "built negativeTD dataset\n",
      "built bench2 dataset\n",
      "looping for variables_study\n"
     ]
    }
   ],
   "source": [
    "import time\n",
    "from array import ArrayType\n",
    "from functions import (\n",
    "    relative_success,\n",
    "    spreadSheetFormatter,\n",
    "    discrepancifier,\n",
    "    temporary_directionOfEffect,\n",
    "    buildColocData,\n",
    "    gwasDataset,\n",
    ")\n",
    "# from stoppedTrials import terminated_td\n",
    "from DoEAssessment import directionOfEffect\n",
    "# from membraneTargets import target_membrane\n",
    "from pyspark.sql import SparkSession, Window\n",
    "import pyspark.sql.functions as F\n",
    "from datetime import datetime\n",
    "from datetime import date\n",
    "from pyspark.sql.types import StructType, StructField, StringType, IntegerType\n",
    "from pyspark.sql.types import (\n",
    "    StructType,\n",
    "    StructField,\n",
    "    DoubleType,\n",
    "    DecimalType,\n",
    "    StringType,\n",
    "    FloatType,\n",
    ")\n",
    "import pandas as pd\n",
    "from functools import reduce\n",
    "\n",
    "from pyspark.sql import SparkSession\n",
    "\n",
    "# --- YARN and Spark Configuration Parameters ---\n",
    "# These parameters directly influence how Spark requests resources from YARN\n",
    "# and how memory is managed within your Spark application.\n",
    "\n",
    "# 1. spark.driver.memory: Memory allocated to the Spark driver program.\n",
    "#    The driver is responsible for coordinating tasks, scheduling, and collecting\n",
    "#    results. If you're doing operations like 'collect()' on large datasets,\n",
    "#    or working with large broadcast variables, increase this.\n",
    "#    General Guideline: Start with 2g-4g for interactive use, up to 8g-16g\n",
    "#    for very large metadata or small result collection.\n",
    "driver_memory = \"4g\"\n",
    "\n",
    "# 2. spark.executor.memory: Memory allocated to each Spark executor JVM.\n",
    "#    Executors are the worker processes that perform the actual data processing.\n",
    "#    This is *the most critical* setting for memory-related YARN issues.\n",
    "#    If your tasks are failing due to OOM errors, increase this significantly.\n",
    "#    General Guideline: Depends on your node size and data. Common values are\n",
    "#    4g, 8g, 16g, or even more. Ensure it doesn't exceed YARN's max container size.\n",
    "executor_memory = \"8g\"\n",
    "\n",
    "# 3. spark.executor.cores: Number of virtual cores (CPU) allocated to each executor.\n",
    "#    More cores means an executor can run more tasks concurrently.\n",
    "#    General Guideline: Typically 2-5 cores per executor. Avoid 1 core (poor parallelism)\n",
    "#    and too many cores (can lead to fewer executors and memory contention).\n",
    "executor_cores = \"4\"\n",
    "\n",
    "# 4. spark.executor.instances: The total number of executors to launch.\n",
    "#    This determines the overall parallelism of your application across the cluster.\n",
    "#    General Guideline: Calculate based on your total cluster resources.\n",
    "#    (Total available cores on cluster / executor_cores).\n",
    "#    Start with a reasonable number, e.g., 5-20, and scale up.\n",
    "num_executors = \"10\" # Example: 10 executors\n",
    "\n",
    "# 5. spark.yarn.executor.memoryOverhead: Additional memory for the YARN container\n",
    "#    beyond the JVM heap (spark.executor.memory). This includes off-heap memory,\n",
    "#    PySpark's Python process memory, thread stacks, etc.\n",
    "#    Crucial for PySpark! If this is too low, YARN can kill your containers\n",
    "#    even if your Java heap (executor_memory) is fine.\n",
    "#    General Guideline: 10-20% of spark.executor.memory, or a fixed amount like 1g-2g.\n",
    "#    For PySpark, it's often safer to allocate more.\n",
    "executor_memory_overhead = \"2g\" # For an 8g executor, 2g overhead is reasonable (25%)\n",
    "\n",
    "# 6. spark.sql.shuffle.partitions: The number of partitions used for shuffling data\n",
    "#    during operations like `groupBy`, `join`, `agg`, `sort`.\n",
    "#    If this is too low: You can get OOM errors if partitions are too large,\n",
    "#    or task failures due to data skew.\n",
    "#    If this is too high: Creates many small tasks, leading to overhead.\n",
    "#    General Guideline: A common heuristic is 2-4 times the total number of CPU cores\n",
    "#    available in your application (executor_cores * num_executors).\n",
    "#    For your current setup (4 cores * 10 executors = 40 cores), 400 is very high.\n",
    "#    Consider (num_executors * executor_cores * 2) as a starting point.\n",
    "#    Example: 10 executors * 4 cores/executor = 40 total cores. 40 * 2 = 80 partitions.\n",
    "#    However, if you have *very* large datasets or significant data skew, 400 might be okay,\n",
    "#    but it's usually better to start lower and increase if you see skew/large partition processing.\n",
    "shuffle_partitions = \"150\" # Adjust based on data size and parallelism\n",
    "\n",
    "# 7. spark.default.parallelism: This parameter is important for RDD operations (less so for DataFrames,\n",
    "#    where spark.sql.shuffle.partitions is more relevant for shuffles). It suggests the default\n",
    "#    number of partitions for RDDs created from scratch, and also influences the number of tasks.\n",
    "#    It's often set to match or be a multiple of the total number of cores.\n",
    "default_parallelism = str(int(executor_cores) * int(num_executors) * 2) # A common heuristic\n",
    "\n",
    "# --- Build the SparkSession ---\n",
    "# Use the .config() method to set these parameters before calling .getOrCreate()\n",
    "# This ensures Spark requests the correct resources from YARN at the start.\n",
    "\n",
    "spark = SparkSession.builder \\\n",
    "    .appName(\"MyOptimizedPySparkApp\") \\\n",
    "    .config(\"spark.master\", \"yarn\") \\\n",
    "    .config(\"spark.driver.memory\", driver_memory) \\\n",
    "    .config(\"spark.executor.memory\", executor_memory) \\\n",
    "    .config(\"spark.executor.cores\", executor_cores) \\\n",
    "    .config(\"spark.executor.instances\", num_executors) \\\n",
    "    .config(\"spark.yarn.executor.memoryOverhead\", executor_memory_overhead) \\\n",
    "    .config(\"spark.sql.shuffle.partitions\", shuffle_partitions) \\\n",
    "    .config(\"spark.default.parallelism\", default_parallelism) \\\n",
    "    .getOrCreate()\n",
    "\n",
    "print(f\"SparkSession created successfully with the following configurations:\")\n",
    "print(f\"  spark.driver.memory: {spark.conf.get('spark.driver.memory')}\")\n",
    "print(f\"  spark.executor.memory: {spark.conf.get('spark.executor.memory')}\")\n",
    "print(f\"  spark.executor.cores: {spark.conf.get('spark.executor.cores')}\")\n",
    "print(f\"  spark.executor.instances: {spark.conf.get('spark.executor.instances')}\")\n",
    "print(f\"  spark.yarn.executor.memoryOverhead: {spark.conf.get('spark.yarn.executor.memoryOverhead')}\")\n",
    "print(f\"  spark.sql.shuffle.partitions: {spark.conf.get('spark.sql.shuffle.partitions')}\")\n",
    "print(f\"  spark.default.parallelism: {spark.conf.get('spark.default.parallelism')}\")\n",
    "print(f\"Spark UI available at: {spark.sparkContext.uiWebUrl}\")\n",
    "\n",
    "# --- Your PySpark Code Here ---\n",
    "# Now you can proceed with your data loading and processing.\n",
    "# Example:\n",
    "# df = spark.read.parquet(\"hdfs:///user/your_user/your_large_data.parquet\")\n",
    "# print(f\"Number of rows in DataFrame: {df.count()}\")\n",
    "# df.groupBy(\"some_column\").agg({\"another_column\": \"sum\"}).show()\n",
    "\n",
    "# Remember to stop the SparkSession when you are done\n",
    "# spark.stop()\n",
    "\n",
    "path_n='gs://open-targets-data-releases/25.06/output/'\n",
    "\n",
    "target = spark.read.parquet(f\"{path_n}target/\")\n",
    "\n",
    "diseases = spark.read.parquet(f\"{path_n}disease/\")\n",
    "\n",
    "evidences = spark.read.parquet(f\"{path_n}evidence\")\n",
    "\n",
    "credible = spark.read.parquet(f\"{path_n}credible_set\")\n",
    "\n",
    "new = spark.read.parquet(f\"{path_n}colocalisation_coloc\") \n",
    "\n",
    "index=spark.read.parquet(f\"{path_n}study/\")\n",
    "\n",
    "variantIndex = spark.read.parquet(f\"{path_n}variant\")\n",
    "\n",
    "biosample = spark.read.parquet(f\"{path_n}biosample\")\n",
    "\n",
    "ecaviar=spark.read.parquet(f\"{path_n}colocalisation_ecaviar\")\n",
    "\n",
    "all_coloc=ecaviar.unionByName(new, allowMissingColumns=True)\n",
    "\n",
    "print(\"loaded files\")\n",
    "\n",
    "#### FIRST MODULE: BUILDING COLOC \n",
    "newColoc=buildColocData(all_coloc,credible,index)\n",
    "\n",
    "print(\"loaded newColoc\")\n",
    "\n",
    "### SECOND MODULE: PROCESS EVIDENCES TO AVOID EXCESS OF COLUMNS \n",
    "gwasComplete = gwasDataset(evidences,credible)\n",
    "\n",
    "#### THIRD MODULE: INCLUDE COLOC IN THE \n",
    "resolvedColoc = (\n",
    "    (\n",
    "        newColoc.withColumnRenamed(\"geneId\", \"targetId\")\n",
    "        .join(\n",
    "            gwasComplete.withColumnRenamed(\"studyLocusId\", \"leftStudyLocusId\"),\n",
    "            on=[\"leftStudyLocusId\", \"targetId\"],\n",
    "            how=\"inner\",\n",
    "        )\n",
    "        .join(  ### propagated using parent terms\n",
    "            diseases.selectExpr(\n",
    "                \"id as diseaseId\", \"name\", \"parents\", \"therapeuticAreas\"\n",
    "            ),\n",
    "            on=\"diseaseId\",\n",
    "            how=\"left\",\n",
    "        )\n",
    "        .withColumn(\n",
    "            \"diseaseId\",\n",
    "            F.explode_outer(F.concat(F.array(F.col(\"diseaseId\")), F.col(\"parents\"))),\n",
    "        )\n",
    "        .drop(\"parents\", \"oldDiseaseId\")\n",
    "    ).withColumn(\n",
    "        \"colocDoE\",\n",
    "        F.when(\n",
    "            F.col(\"rightStudyType\").isin(\n",
    "                [\"eqtl\", \"pqtl\", \"tuqtl\", \"sceqtl\", \"sctuqtl\"]\n",
    "            ),\n",
    "            F.when(\n",
    "                (F.col(\"betaGwas\") > 0) & (F.col(\"betaRatioSignAverage\") > 0),\n",
    "                F.lit(\"GoF_risk\"),\n",
    "            )\n",
    "            .when(\n",
    "                (F.col(\"betaGwas\") > 0) & (F.col(\"betaRatioSignAverage\") < 0),\n",
    "                F.lit(\"LoF_risk\"),\n",
    "            )\n",
    "            .when(\n",
    "                (F.col(\"betaGwas\") < 0) & (F.col(\"betaRatioSignAverage\") > 0),\n",
    "                F.lit(\"LoF_protect\"),\n",
    "            )\n",
    "            .when(\n",
    "                (F.col(\"betaGwas\") < 0) & (F.col(\"betaRatioSignAverage\") < 0),\n",
    "                F.lit(\"GoF_protect\"),\n",
    "            ),\n",
    "        ).when(\n",
    "            F.col(\"rightStudyType\").isin(\n",
    "                [\"sqtl\", \"scsqtl\"]\n",
    "            ),  ### opposite directionality than sqtl\n",
    "            F.when(\n",
    "                (F.col(\"betaGwas\") > 0) & (F.col(\"betaRatioSignAverage\") > 0),\n",
    "                F.lit(\"LoF_risk\"),\n",
    "            )\n",
    "            .when(\n",
    "                (F.col(\"betaGwas\") > 0) & (F.col(\"betaRatioSignAverage\") < 0),\n",
    "                F.lit(\"GoF_risk\"),\n",
    "            )\n",
    "            .when(\n",
    "                (F.col(\"betaGwas\") < 0) & (F.col(\"betaRatioSignAverage\") > 0),\n",
    "                F.lit(\"GoF_protect\"),\n",
    "            )\n",
    "            .when(\n",
    "                (F.col(\"betaGwas\") < 0) & (F.col(\"betaRatioSignAverage\") < 0),\n",
    "                F.lit(\"LoF_protect\"),\n",
    "            ),\n",
    "        ),\n",
    "    )\n",
    "    # .persist()\n",
    ")\n",
    "print(\"loaded resolvedColloc\")\n",
    "\n",
    "datasource_filter = [\n",
    "#   \"ot_genetics_portal\",\n",
    "    \"gwas_credible_sets\",\n",
    "    \"gene_burden\",\n",
    "    \"eva\",\n",
    "    \"eva_somatic\",\n",
    "    \"gene2phenotype\",\n",
    "    \"orphanet\",\n",
    "    \"cancer_gene_census\",\n",
    "    \"intogen\",\n",
    "    \"impc\",\n",
    "    \"chembl\",\n",
    "]\n",
    "\n",
    "assessment, evidences, actionType, oncolabel = temporary_directionOfEffect(\n",
    "    path_n, datasource_filter\n",
    ")\n",
    "\n",
    "print(\"run temporary direction of effect\")\n",
    "\n",
    "\n",
    "print(\"built drugApproved dataset\")\n",
    "\n",
    "\n",
    "#### FOURTH MODULE BUILDING CHEMBL ASSOCIATIONS - HERE TAKE CARE WITH FILTERING STEP \n",
    "analysis_chembl_indication = (\n",
    "    discrepancifier(\n",
    "        assessment.filter((F.col(\"datasourceId\") == \"chembl\"))\n",
    "        .withColumn(\n",
    "            \"maxClinPhase\",\n",
    "            F.max(F.col(\"clinicalPhase\")).over(\n",
    "                Window.partitionBy(\"targetId\", \"diseaseId\")\n",
    "            ),\n",
    "        )\n",
    "        .groupBy(\"targetId\", \"diseaseId\", \"maxClinPhase\")\n",
    "        .pivot(\"homogenized\")\n",
    "        .agg(F.count(\"targetId\"))\n",
    "    )\n",
    "    #.filter(F.col(\"coherencyDiagonal\") == \"coherent\")\n",
    "    .drop(\n",
    "        \"coherencyDiagonal\", \"coherencyOneCell\", \"noEvaluable\", \"GoF_risk\", \"LoF_risk\"\n",
    "    )\n",
    "    .withColumnRenamed(\"GoF_protect\", \"drugGoF_protect\")\n",
    "    .withColumnRenamed(\"LoF_protect\", \"drugLoF_protect\")\n",
    "    # .persist()\n",
    ")\n",
    "\n",
    "####2 Define agregation function\n",
    "import pandas as pd\n",
    "import numpy as np\n",
    "from scipy.stats import fisher_exact\n",
    "from scipy.stats.contingency import odds_ratio\n",
    "from pyspark.sql.types import *\n",
    "\n",
    "\n",
    "def convertTuple(tup):\n",
    "    st = \",\".join(map(str, tup))\n",
    "    return st\n",
    "\n",
    "\n",
    "#####3 run in a function\n",
    "def aggregations_original(\n",
    "    df,\n",
    "    data,\n",
    "    listado,\n",
    "    comparisonColumn,\n",
    "    comparisonType,\n",
    "    predictionColumn,\n",
    "    predictionType,\n",
    "    today_date,\n",
    "):\n",
    "    wComparison = Window.partitionBy(comparisonColumn)\n",
    "    wPrediction = Window.partitionBy(predictionColumn)\n",
    "    wPredictionComparison = Window.partitionBy(comparisonColumn, predictionColumn)\n",
    "    results = []\n",
    "    # uniqIds = df.select(\"targetId\", \"diseaseId\").distinct().count()\n",
    "    out = (\n",
    "        df.withColumn(\"comparisonType\", F.lit(comparisonType))\n",
    "        .withColumn(\"dataset\", F.lit(data))\n",
    "        .withColumn(\"predictionType\", F.lit(predictionType))\n",
    "        # .withColumn(\"total\", F.lit(uniqIds))\n",
    "        .withColumn(\"a\", F.count(\"targetId\").over(wPredictionComparison))\n",
    "        .withColumn(\"comparisonColumn\", F.lit(comparisonColumn))\n",
    "        .withColumn(\"predictionColumnValue\", F.lit(predictionColumn))\n",
    "        .withColumn(\n",
    "            \"predictionTotal\",\n",
    "            F.count(\"targetId\").over(wPrediction),\n",
    "        )\n",
    "        .withColumn(\n",
    "            \"comparisonTotal\",\n",
    "            F.count(\"targetId\").over(wComparison),\n",
    "        )\n",
    "        .select(\n",
    "            F.col(predictionColumn).alias(\"prediction\"),\n",
    "            F.col(comparisonColumn).alias(\"comparison\"),\n",
    "            \"dataset\",\n",
    "            \"comparisonColumn\",\n",
    "            \"predictionColumnValue\",\n",
    "            \"comparisonType\",\n",
    "            \"predictionType\",\n",
    "            \"a\",\n",
    "            \"predictionTotal\",\n",
    "            \"comparisonTotal\",\n",
    "        )\n",
    "        .filter(F.col(\"prediction\").isNotNull())\n",
    "        .filter(F.col(\"comparison\").isNotNull())\n",
    "        .distinct()\n",
    "    )\n",
    "\n",
    "    out.write.mode(\"overwrite\").parquet(\n",
    "        \"gs://ot-team/jroldan/\"\n",
    "        + str(\n",
    "            today_date\n",
    "            + \"_\"\n",
    "            + \"analysis/\"\n",
    "            + data\n",
    "            # + \"_propagated\"\n",
    "            + \"/\"\n",
    "            + comparisonColumn\n",
    "            + \"_\"\n",
    "            + comparisonType\n",
    "            + \"_\"\n",
    "            + predictionColumn\n",
    "            + \".parquet\"\n",
    "        )\n",
    "    )\n",
    "\n",
    "    listado.append(\n",
    "        \"gs://ot-team/jroldan/\"\n",
    "        + str(\n",
    "            today_date\n",
    "            + \"_\"\n",
    "            + \"analysis/\"\n",
    "            + data\n",
    "            # + \"_propagated\"\n",
    "            + \"/\"\n",
    "            + comparisonColumn\n",
    "            + \"_\"\n",
    "            + comparisonType\n",
    "            + \"_\"\n",
    "            + predictionColumn\n",
    "            + \".parquet\"\n",
    "        )\n",
    "    )\n",
    "    path = \"gs://ot-team/jroldan/\" + str(\n",
    "        today_date\n",
    "        + \"_\"\n",
    "        + \"analysis/\"\n",
    "        + data\n",
    "        # + \"_propagated\"\n",
    "        + \"/\"\n",
    "        + comparisonColumn\n",
    "        + \"_\"\n",
    "        + comparisonType\n",
    "        + \"_\"\n",
    "        + predictionColumn\n",
    "        + \".parquet\"\n",
    "    )\n",
    "    print(path)\n",
    "    \n",
    "    ### making analysis\n",
    "    array1 = np.delete(\n",
    "        out.join(full_data, on=[\"prediction\", \"comparison\"], how=\"outer\")\n",
    "        .groupBy(\"comparison\")\n",
    "        .pivot(\"prediction\")\n",
    "        .agg(F.first(\"a\"))\n",
    "        .sort(F.col(\"comparison\").desc())\n",
    "        .select(\"comparison\", \"yes\", \"no\")\n",
    "        .fillna(0)\n",
    "        .toPandas()\n",
    "        .to_numpy(),\n",
    "        [0],\n",
    "        1,\n",
    "    )\n",
    "    total = np.sum(array1)\n",
    "    res_npPhaseX = np.array(array1, dtype=int)\n",
    "    resX = convertTuple(fisher_exact(res_npPhaseX, alternative=\"two-sided\"))\n",
    "    resx_CI = convertTuple(\n",
    "        odds_ratio(res_npPhaseX).confidence_interval(confidence_level=0.95)\n",
    "    )\n",
    "\n",
    "    result_st.append(resX)\n",
    "    result_ci.append(resx_CI)\n",
    "    (rs_result, rs_ci) = relative_success(array1)\n",
    "    results.extend(\n",
    "        [\n",
    "            comparisonType,\n",
    "            comparisonColumn,\n",
    "            predictionColumn,\n",
    "            round(float(resX.split(\",\")[0]), 2),\n",
    "            float(resX.split(\",\")[1]),\n",
    "            round(float(resx_CI.split(\",\")[0]), 2),\n",
    "            round(float(resx_CI.split(\",\")[1]), 2),\n",
    "            str(total),\n",
    "            np.array(res_npPhaseX).tolist(),\n",
    "            round(float(rs_result), 2),\n",
    "            round(float(rs_ci[0]), 2),\n",
    "            round(float(rs_ci[1]), 2),\n",
    "            # studies,\n",
    "            # tissues,\n",
    "            path,\n",
    "        ]\n",
    "    )\n",
    "    return results\n",
    "\n",
    "\n",
    "#### 3 Loop over different datasets (as they will have different rows and columns)\n",
    "\n",
    "\n",
    "def comparisons_df_iterative(elements):\n",
    "    # toAnalysis = [(key, value) for key, value in disdic.items() if value == projectId]\n",
    "    toAnalysis = [(col, \"predictor\") for col in elements]\n",
    "    schema = StructType(\n",
    "        [\n",
    "            StructField(\"comparison\", StringType(), True),\n",
    "            StructField(\"comparisonType\", StringType(), True),\n",
    "        ]\n",
    "    )\n",
    "\n",
    "    comparisons = spark.createDataFrame(toAnalysis, schema=schema)\n",
    "    ### include all the columns as predictor\n",
    "\n",
    "    predictions = spark.createDataFrame(\n",
    "        data=[\n",
    "            (\"Phase>=4\", \"clinical\"),\n",
    "            ('Phase>=3','clinical'),\n",
    "            ('Phase>=2','clinical'),\n",
    "            ('Phase>=1','clinical'),\n",
    "            (\"PhaseT\", \"clinical\"),\n",
    "        ]\n",
    "    )\n",
    "    return comparisons.join(predictions, how=\"full\").collect()\n",
    "\n",
    "\n",
    "print(\"load comparisons_df_iterative function\")\n",
    "\n",
    "\n",
    "full_data = spark.createDataFrame(\n",
    "    data=[\n",
    "        (\"yes\", \"yes\"),\n",
    "        (\"yes\", \"no\"),\n",
    "        (\"no\", \"yes\"),\n",
    "        (\"no\", \"no\"),\n",
    "    ],\n",
    "    schema=StructType(\n",
    "        [\n",
    "            StructField(\"prediction\", StringType(), True),\n",
    "            StructField(\"comparison\", StringType(), True),\n",
    "        ]\n",
    "    ),\n",
    ")\n",
    "print(\"created full_data and lists\")\n",
    "\n",
    "#rightTissue = spark.read.csv(\n",
    "#    'gs://ot-team/jroldan/analysis/20250526_rightTissue.csv',\n",
    "#    header=True,\n",
    "#).drop(\"_c0\")\n",
    "\n",
    "print(\"loaded rightTissue dataset\")\n",
    "\n",
    "negativeTD = (\n",
    "    evidences.filter(F.col(\"datasourceId\") == \"chembl\")\n",
    "    .select(\"targetId\", \"diseaseId\", \"studyStopReason\", \"studyStopReasonCategories\")\n",
    "    .filter(F.array_contains(F.col(\"studyStopReasonCategories\"), \"Negative\"))\n",
    "    .groupBy(\"targetId\", \"diseaseId\")\n",
    "    .count()\n",
    "    .withColumn(\"stopReason\", F.lit(\"Negative\"))\n",
    "    .drop(\"count\")\n",
    ")\n",
    "\n",
    "print(\"built negativeTD dataset\")\n",
    "\n",
    "print(\"built bench2 dataset\")\n",
    "\n",
    "###### cut from here\n",
    "print(\"looping for variables_study\")\n",
    "\n",
    "#### new part with chatgpt -- TEST\n",
    "\n",
    "## QUESTIONS TO ANSWER:\n",
    "# HAVE ECAVIAR >=0.8\n",
    "# HAVE COLOC \n",
    "# HAVE COLOC >= 0.8\n",
    "# HAVE COLOC + ECAVIAR >= 0.01\n",
    "# HAVE COLOC >= 0.8 + ECAVIAR >= 0.01\n",
    "# RIGHT JOING WITH CHEMBL \n",
    "\n",
    "### FIFTH MODULE: BUILDING BENCHMARK OF THE DATASET TO EXTRACT EHE ANALYSIS \n",
    "\n",
    "resolvedColocFiltered = resolvedColoc.filter((F.col('clpp')>=0.01) | (F.col('h4')>=0.8))\n",
    "benchmark = (\n",
    "    (\n",
    "        resolvedColocFiltered.filter( ## .filter(F.col(\"betaGwas\") < 0)\n",
    "        F.col(\"name\") != \"COVID-19\"\n",
    "    )\n",
    "        .join(  ### select just GWAS giving protection\n",
    "            analysis_chembl_indication, on=[\"targetId\", \"diseaseId\"], how=\"right\"  ### RIGHT SIDE\n",
    "        )\n",
    "        .withColumn(\n",
    "            \"AgreeDrug\",\n",
    "            F.when(\n",
    "                (F.col(\"drugGoF_protect\").isNotNull())\n",
    "                & (F.col(\"colocDoE\") == \"GoF_protect\"),\n",
    "                F.lit(\"yes\"),\n",
    "            )\n",
    "            .when(\n",
    "                (F.col(\"drugLoF_protect\").isNotNull())\n",
    "                & (F.col(\"colocDoE\") == \"LoF_protect\"),\n",
    "                F.lit(\"yes\"),\n",
    "            )\n",
    "            .otherwise(F.lit(\"no\")),\n",
    "        )\n",
    "    )  #### remove COVID-19 associations\n",
    ").join(biosample.select(\"biosampleId\", \"biosampleName\"), on=\"biosampleId\", how=\"left\")\n"
   ]
  },
  {
   "cell_type": "code",
   "execution_count": 2,
   "metadata": {},
   "outputs": [],
   "source": [
    "doe_columns=[\"LoF_protect\", \"GoF_risk\", \"LoF_risk\", \"GoF_protect\"]\n",
    "diagonal_lof=['LoF_protect','GoF_risk']\n",
    "diagonal_gof=['LoF_risk','GoF_protect']\n",
    "\n",
    "conditions = [\n",
    "    F.when(F.col(c) == F.col(\"maxDoE\"), F.lit(c)).otherwise(F.lit(None)) for c in doe_columns\n",
    "    ]"
   ]
  },
  {
   "cell_type": "code",
   "execution_count": 4,
   "metadata": {},
   "outputs": [
    {
     "data": {
      "text/plain": [
       "['biosampleId',\n",
       " 'targetId',\n",
       " 'diseaseId',\n",
       " 'leftStudyLocusId',\n",
       " 'rightStudyId',\n",
       " 'rightStudyLocusId',\n",
       " 'chromosome',\n",
       " 'rightStudyType',\n",
       " 'numberColocalisingVariants',\n",
       " 'clpp',\n",
       " 'colocalisationMethod',\n",
       " 'betaRatioSignAverage',\n",
       " 'h0',\n",
       " 'h1',\n",
       " 'h2',\n",
       " 'h3',\n",
       " 'h4',\n",
       " 'leftStudyId',\n",
       " 'leftVariantId',\n",
       " 'credibleLeftStudyType',\n",
       " 'rightVariantId',\n",
       " 'credibleRightStudyType',\n",
       " 'qtlPValueExponent',\n",
       " 'isTransQtl',\n",
       " 'projectId',\n",
       " 'indexStudyType',\n",
       " 'condition',\n",
       " 'datasourceId',\n",
       " 'datatypeId',\n",
       " 'diseaseFromSourceMappedId',\n",
       " 'resourceScore',\n",
       " 'targetFromSourceId',\n",
       " 'id',\n",
       " 'score',\n",
       " 'sourceId',\n",
       " 'studyId',\n",
       " 'variantId',\n",
       " 'betaGwas',\n",
       " 'pValueExponent',\n",
       " 'name',\n",
       " 'therapeuticAreas',\n",
       " 'colocDoE',\n",
       " 'maxClinPhase',\n",
       " 'drugGoF_protect',\n",
       " 'drugLoF_protect',\n",
       " 'AgreeDrug',\n",
       " 'biosampleName']"
      ]
     },
     "execution_count": 4,
     "metadata": {},
     "output_type": "execute_result"
    }
   ],
   "source": [
    "benchmark.columns"
   ]
  },
  {
   "cell_type": "code",
   "execution_count": 3,
   "metadata": {},
   "outputs": [
    {
     "name": "stderr",
     "output_type": "stream",
     "text": [
      "                                                                                \r"
     ]
    },
    {
     "ename": "AnalysisException",
     "evalue": "[UNRESOLVED_COLUMN.WITH_SUGGESTION] A column or function parameter with name `actionType2` cannot be resolved. Did you mean one of the following? [`chromosome`, `clpp`, `colocDoE`, `name`, `score`].;\n'Pivot ArrayBuffer(targetId#2088, diseaseId#2170, maxClinPhase#6197, drugLoF_protect#11720L, drugGoF_protect#11714L, 'actionType2), colocDoE#2044: string, [null, GoF_protect, GoF_risk, LoF_protect, LoF_risk], [count(1)]\n+- Project [biosampleId#1002, targetId#2088, diseaseId#2170, leftStudyLocusId#1077, rightStudyId#1140, rightStudyLocusId#1078, chromosome#1079, rightStudyType#1080, numberColocalisingVariants#1081L, clpp#1082, colocalisationMethod#1083, betaRatioSignAverage#1084, h0#1094, h1#1095, h2#1096, h3#1097, h4#1098, leftStudyId#1115, leftVariantId#1116, credibleLeftStudyType#1117, rightVariantId#1141, credibleRightStudyType#1142, qtlPValueExponent#1143, isTransQtl#1176, ... 23 more fields]\n   +- Join LeftOuter, (biosampleId#1002 = biosampleId#1059)\n      :- Project [targetId#2088, diseaseId#2170, leftStudyLocusId#1077, rightStudyId#1140, rightStudyLocusId#1078, chromosome#1079, rightStudyType#1080, numberColocalisingVariants#1081L, clpp#1082, colocalisationMethod#1083, betaRatioSignAverage#1084, h0#1094, h1#1095, h2#1096, h3#1097, h4#1098, leftStudyId#1115, leftVariantId#1116, credibleLeftStudyType#1117, rightVariantId#1141, credibleRightStudyType#1142, qtlPValueExponent#1143, isTransQtl#1176, projectId#975, ... 22 more fields]\n      :  +- Project [targetId#2088, diseaseId#2170, leftStudyLocusId#1077, rightStudyId#1140, rightStudyLocusId#1078, chromosome#1079, rightStudyType#1080, numberColocalisingVariants#1081L, clpp#1082, colocalisationMethod#1083, betaRatioSignAverage#1084, h0#1094, h1#1095, h2#1096, h3#1097, h4#1098, leftStudyId#1115, leftVariantId#1116, credibleLeftStudyType#1117, rightVariantId#1141, credibleRightStudyType#1142, qtlPValueExponent#1143, isTransQtl#1176, projectId#975, ... 21 more fields]\n      :     +- Join RightOuter, ((targetId#1801 = targetId#2088) AND (diseaseId#1960 = diseaseId#2170))\n      :        :- Filter NOT (name#691 = COVID-19)\n      :        :  +- Filter ((clpp#1082 >= 0.01) OR (h4#1098 >= 0.8))\n      :        :     +- Project [diseaseId#1960, leftStudyLocusId#1077, targetId#1801, rightStudyId#1140, rightStudyLocusId#1078, chromosome#1079, rightStudyType#1080, numberColocalisingVariants#1081L, clpp#1082, colocalisationMethod#1083, betaRatioSignAverage#1084, h0#1094, h1#1095, h2#1096, h3#1097, h4#1098, leftStudyId#1115, leftVariantId#1116, credibleLeftStudyType#1117, rightVariantId#1141, credibleRightStudyType#1142, qtlPValueExponent#1143, isTransQtl#1176, projectId#975, ... 18 more fields]\n      :        :        +- Project [diseaseId#1960, leftStudyLocusId#1077, targetId#1801, rightStudyId#1140, rightStudyLocusId#1078, chromosome#1079, rightStudyType#1080, numberColocalisingVariants#1081L, clpp#1082, colocalisationMethod#1083, betaRatioSignAverage#1084, h0#1094, h1#1095, h2#1096, h3#1097, h4#1098, leftStudyId#1115, leftVariantId#1116, credibleLeftStudyType#1117, rightVariantId#1141, credibleRightStudyType#1142, qtlPValueExponent#1143, isTransQtl#1176, projectId#975, ... 17 more fields]\n      :        :           +- Project [diseaseId#1960, leftStudyLocusId#1077, targetId#1801, rightStudyId#1140, rightStudyLocusId#1078, chromosome#1079, rightStudyType#1080, numberColocalisingVariants#1081L, clpp#1082, colocalisationMethod#1083, betaRatioSignAverage#1084, h0#1094, h1#1095, h2#1096, h3#1097, h4#1098, leftStudyId#1115, leftVariantId#1116, credibleLeftStudyType#1117, rightVariantId#1141, credibleRightStudyType#1142, qtlPValueExponent#1143, isTransQtl#1176, projectId#975, ... 18 more fields]\n      :        :              +- Generate explode(concat(array(diseaseId#800), parents#694)), true, [diseaseId#1960]\n      :        :                 +- Project [diseaseId#800, leftStudyLocusId#1077, targetId#1801, rightStudyId#1140, rightStudyLocusId#1078, chromosome#1079, rightStudyType#1080, numberColocalisingVariants#1081L, clpp#1082, colocalisationMethod#1083, betaRatioSignAverage#1084, h0#1094, h1#1095, h2#1096, h3#1097, h4#1098, leftStudyId#1115, leftVariantId#1116, credibleLeftStudyType#1117, rightVariantId#1141, credibleRightStudyType#1142, qtlPValueExponent#1143, isTransQtl#1176, projectId#975, ... 18 more fields]\n      :        :                    +- Join LeftOuter, (diseaseId#800 = diseaseId#1911)\n      :        :                       :- Project [leftStudyLocusId#1077, targetId#1801, rightStudyId#1140, rightStudyLocusId#1078, chromosome#1079, rightStudyType#1080, numberColocalisingVariants#1081L, clpp#1082, colocalisationMethod#1083, betaRatioSignAverage#1084, h0#1094, h1#1095, h2#1096, h3#1097, h4#1098, leftStudyId#1115, leftVariantId#1116, credibleLeftStudyType#1117, rightVariantId#1141, credibleRightStudyType#1142, qtlPValueExponent#1143, isTransQtl#1176, projectId#975, indexStudyType#1200, ... 15 more fields]\n      :        :                       :  +- Join Inner, ((leftStudyLocusId#1077 = leftStudyLocusId#1828) AND (targetId#1801 = targetId#718))\n      :        :                       :     :- Project [rightStudyId#1140, rightStudyLocusId#1078, leftStudyLocusId#1077, chromosome#1079, rightStudyType#1080, numberColocalisingVariants#1081L, clpp#1082, colocalisationMethod#1083, betaRatioSignAverage#1084, h0#1094, h1#1095, h2#1096, h3#1097, h4#1098, leftStudyId#1115, leftVariantId#1116, credibleLeftStudyType#1117, rightVariantId#1141, credibleRightStudyType#1142, qtlPValueExponent#1143, isTransQtl#1176, geneId#974 AS targetId#1801, projectId#975, indexStudyType#1200, ... 2 more fields]\n      :        :                       :     :  +- Project [rightStudyId#1140, rightStudyLocusId#1078, leftStudyLocusId#1077, chromosome#1079, rightStudyType#1080, numberColocalisingVariants#1081L, clpp#1082, colocalisationMethod#1083, betaRatioSignAverage#1084, h0#1094, h1#1095, h2#1096, h3#1097, h4#1098, leftStudyId#1115, leftVariantId#1116, credibleLeftStudyType#1117, rightVariantId#1141, credibleRightStudyType#1142, qtlPValueExponent#1143, isTransQtl#1176, geneId#974, projectId#975, indexStudyType#1200, ... 2 more fields]\n      :        :                       :     :     +- Join LeftOuter, (rightStudyId#1140 = rightStudyId#1199)\n      :        :                       :     :        :- Project [rightStudyLocusId#1078, leftStudyLocusId#1077, chromosome#1079, rightStudyType#1080, numberColocalisingVariants#1081L, clpp#1082, colocalisationMethod#1083, betaRatioSignAverage#1084, h0#1094, h1#1095, h2#1096, h3#1097, h4#1098, leftStudyId#1115, leftVariantId#1116, credibleLeftStudyType#1117, rightStudyId#1140, rightVariantId#1141, credibleRightStudyType#1142, qtlPValueExponent#1143, isTransQtl#1176]\n      :        :                       :     :        :  +- Join LeftOuter, (rightStudyLocusId#1078 = rightStudyLocusId#1139)\n      :        :                       :     :        :     :- Project [leftStudyLocusId#1077, rightStudyLocusId#1078, chromosome#1079, rightStudyType#1080, numberColocalisingVariants#1081L, clpp#1082, colocalisationMethod#1083, betaRatioSignAverage#1084, h0#1094, h1#1095, h2#1096, h3#1097, h4#1098, leftStudyId#1115, leftVariantId#1116, credibleLeftStudyType#1117]\n      :        :                       :     :        :     :  +- Join LeftOuter, (leftStudyLocusId#1077 = leftStudyLocusId#1114)\n      :        :                       :     :        :     :     :- Union false, false\n      :        :                       :     :        :     :     :  :- Project [leftStudyLocusId#1077, rightStudyLocusId#1078, chromosome#1079, rightStudyType#1080, numberColocalisingVariants#1081L, clpp#1082, colocalisationMethod#1083, betaRatioSignAverage#1084, null AS h0#1094, null AS h1#1095, null AS h2#1096, null AS h3#1097, null AS h4#1098]\n      :        :                       :     :        :     :     :  :  +- Relation [leftStudyLocusId#1077,rightStudyLocusId#1078,chromosome#1079,rightStudyType#1080,numberColocalisingVariants#1081L,clpp#1082,colocalisationMethod#1083,betaRatioSignAverage#1084] parquet\n      :        :                       :     :        :     :     :  +- Project [leftStudyLocusId#949, rightStudyLocusId#950, chromosome#951, rightStudyType#952, numberColocalisingVariants#953L, null AS clpp#1093, colocalisationMethod#959, betaRatioSignAverage#960, h0#954, h1#955, h2#956, h3#957, h4#958]\n      :        :                       :     :        :     :     :     +- Relation [leftStudyLocusId#949,rightStudyLocusId#950,chromosome#951,rightStudyType#952,numberColocalisingVariants#953L,h0#954,h1#955,h2#956,h3#957,h4#958,colocalisationMethod#959,betaRatioSignAverage#960] parquet\n      :        :                       :     :        :     :     +- Project [studyLocusId#895 AS leftStudyLocusId#1114, StudyId#896 AS leftStudyId#1115, variantId#897 AS leftVariantId#1116, studyType#920 AS credibleLeftStudyType#1117]\n      :        :                       :     :        :     :        +- Relation [studyLocusId#895,studyId#896,variantId#897,chromosome#898,position#899,region#900,beta#901,zScore#902,pValueMantissa#903,pValueExponent#904,effectAlleleFrequencyFromSource#905,standardError#906,subStudyDescription#907,qualityControls#908,finemappingMethod#909,credibleSetIndex#910,credibleSetlog10BF#911,purityMeanR2#912,purityMinR2#913,locusStart#914,locusEnd#915,sampleSize#916,ldSet#917,locus#918,... 3 more fields] parquet\n      :        :                       :     :        :     +- Project [studyLocusId#1150 AS rightStudyLocusId#1139, studyId#1151 AS rightStudyId#1140, variantId#1152 AS rightVariantId#1141, studyType#1175 AS credibleRightStudyType#1142, pValueExponent#1159 AS qtlPValueExponent#1143, isTransQtl#1176]\n      :        :                       :     :        :        +- Relation [studyLocusId#1150,studyId#1151,variantId#1152,chromosome#1153,position#1154,region#1155,beta#1156,zScore#1157,pValueMantissa#1158,pValueExponent#1159,effectAlleleFrequencyFromSource#1160,standardError#1161,subStudyDescription#1162,qualityControls#1163,finemappingMethod#1164,credibleSetIndex#1165,credibleSetlog10BF#1166,purityMeanR2#1167,purityMinR2#1168,locusStart#1169,locusEnd#1170,sampleSize#1171,ldSet#1172,locus#1173,... 3 more fields] parquet\n      :        :                       :     :        +- Project [studyId#973 AS rightStudyId#1199, geneId#974, projectId#975, studyType#976 AS indexStudyType#1200, condition#998, biosampleId#1002]\n      :        :                       :     :           +- Relation [studyId#973,geneId#974,projectId#975,studyType#976,traitFromSource#977,traitFromSourceMappedIds#978,biosampleFromSourceId#979,pubmedId#980,publicationTitle#981,publicationFirstAuthor#982,publicationDate#983,publicationJournal#984,backgroundTraitFromSourceMappedIds#985,initialSampleSize#986,nCases#987,nControls#988,nSamples#989,cohorts#990,ldPopulationStructure#991,discoverySamples#992,replicationSamples#993,qualityControls#994,analysisFlags#995,summarystatsLocation#996,... 6 more fields] parquet\n      :        :                       :     +- Project [studyLocusId#798 AS leftStudyLocusId#1828, datasourceId#717, targetId#718, datatypeId#743, diseaseFromSourceMappedId#747, resourceScore#769, targetFromSourceId#784, diseaseId#800, id#801, score#802, sourceId#805, studyId#1845, variantId#1846, betaGwas#1780, pValueExponent#1853]\n      :        :                       :        +- Project [studyLocusId#798, datasourceId#717, targetId#718, datatypeId#743, diseaseFromSourceMappedId#747, resourceScore#769, targetFromSourceId#784, diseaseId#800, id#801, score#802, sourceId#805, studyId#1845, variantId#1846, betaGwas#1780, pValueExponent#1853]\n      :        :                       :           +- Join LeftOuter, (studyLocusId#798 = studyLocusId#1844)\n      :        :                       :              :- Project [datasourceId#717, targetId#718, datatypeId#743, diseaseFromSourceMappedId#747, resourceScore#769, targetFromSourceId#784, studyLocusId#798, diseaseId#800, id#801, score#802, sourceId#805]\n      :        :                       :              :  +- Filter (datasourceId#717 = gwas_credible_sets)\n      :        :                       :              :     +- Relation [datasourceId#717,targetId#718,alleleOrigins#719,allelicRequirements#720,ancestry#721,ancestryId#722,beta#723,betaConfidenceIntervalLower#724,betaConfidenceIntervalUpper#725,biologicalModelAllelicComposition#726,biologicalModelGeneticBackground#727,biologicalModelId#728,biomarkerName#729,biomarkers#730,biosamplesFromSource#731,cellType#732,clinicalPhase#733,clinicalSignificances#734,clinicalStatus#735,cohortDescription#736,cohortId#737,cohortPhenotypes#738,cohortShortName#739,confidence#740,... 65 more fields] parquet\n      :        :                       :              +- Project [studyLocusId#1844, studyId#1845, variantId#1846, beta#1850 AS betaGwas#1780, pValueExponent#1853]\n      :        :                       :                 +- Relation [studyLocusId#1844,studyId#1845,variantId#1846,chromosome#1847,position#1848,region#1849,beta#1850,zScore#1851,pValueMantissa#1852,pValueExponent#1853,effectAlleleFrequencyFromSource#1854,standardError#1855,subStudyDescription#1856,qualityControls#1857,finemappingMethod#1858,credibleSetIndex#1859,credibleSetlog10BF#1860,purityMeanR2#1861,purityMinR2#1862,locusStart#1863,locusEnd#1864,sampleSize#1865,ldSet#1866,locus#1867,... 3 more fields] parquet\n      :        :                       +- Project [id#689 AS diseaseId#1911, name#691, parents#694, therapeuticAreas#700]\n      :        :                          +- Relation [id#689,code#690,name#691,description#692,dbXRefs#693,parents#694,synonyms#695,obsoleteTerms#696,obsoleteXRefs#697,children#698,ancestors#699,therapeuticAreas#700,descendants#701,ontology#702] parquet\n      :        +- Project [targetId#2088, diseaseId#2170, maxClinPhase#6197, drugGoF_protect#11714L, LoF_protect#9894L AS drugLoF_protect#11720L]\n      :           +- Project [targetId#2088, diseaseId#2170, maxClinPhase#6197, GoF_protect#9893L AS drugGoF_protect#11714L, LoF_protect#9894L]\n      :              +- Project [targetId#2088, diseaseId#2170, maxClinPhase#6197, GoF_protect#9893L, LoF_protect#9894L]\n      :                 +- Project [targetId#2088, diseaseId#2170, maxClinPhase#6197, GoF_protect#9893L, LoF_protect#9894L, noEvaluable#9895L, GoF_risk#9908, LoF_risk#11522, coherencyDiagonal#11688, CASE WHEN ((((isnull(LoF_risk#11522) AND isnull(LoF_protect#9894L)) AND isnull(GoF_risk#9908)) AND isnull(GoF_protect#9893L)) AND isnull(noEvaluable#9895L)) THEN noEvid WHEN ((((isnull(LoF_risk#11522) AND isnull(LoF_protect#9894L)) AND isnull(GoF_risk#9908)) AND isnull(GoF_protect#9893L)) AND isnotnull(noEvaluable#9895L)) THEN EvidNotDoE WHEN (((isnotnull(LoF_risk#11522) OR isnotnull(LoF_protect#9894L)) OR isnotnull(GoF_risk#9908)) OR isnotnull(GoF_protect#9893L)) THEN CASE WHEN (isnotnull(LoF_risk#11522) AND ((isnull(LoF_protect#9894L) AND isnull(GoF_risk#9908)) AND isnull(GoF_protect#9893L))) THEN coherent WHEN (isnotnull(GoF_risk#9908) AND ((isnull(LoF_protect#9894L) AND isnull(LoF_risk#11522)) AND isnull(GoF_protect#9893L))) THEN coherent WHEN (isnotnull(LoF_protect#9894L) AND ((isnull(LoF_risk#11522) AND isnull(GoF_risk#9908)) AND isnull(GoF_protect#9893L))) THEN coherent WHEN (isnotnull(GoF_protect#9893L) AND ((isnull(LoF_protect#9894L) AND isnull(GoF_risk#9908)) AND isnull(LoF_risk#11522))) THEN coherent ELSE dispar END END AS coherencyOneCell#11698]\n      :                    +- Project [targetId#2088, diseaseId#2170, maxClinPhase#6197, GoF_protect#9893L, LoF_protect#9894L, noEvaluable#9895L, GoF_risk#9908, LoF_risk#11522, CASE WHEN ((((isnull(LoF_risk#11522) AND isnull(LoF_protect#9894L)) AND isnull(GoF_risk#9908)) AND isnull(GoF_protect#9893L)) AND isnull(noEvaluable#9895L)) THEN noEvid WHEN ((((isnull(LoF_risk#11522) AND isnull(LoF_protect#9894L)) AND isnull(GoF_risk#9908)) AND isnull(GoF_protect#9893L)) AND isnotnull(noEvaluable#9895L)) THEN EvidNotDoE WHEN (((isnotnull(LoF_risk#11522) OR isnotnull(LoF_protect#9894L)) OR isnotnull(GoF_risk#9908)) OR isnotnull(GoF_protect#9893L)) THEN CASE WHEN (isnotnull(GoF_risk#9908) AND isnotnull(LoF_risk#11522)) THEN dispar WHEN (isnotnull(LoF_protect#9894L) AND isnotnull(LoF_risk#11522)) THEN dispar WHEN (isnotnull(GoF_protect#9893L) AND isnotnull(GoF_risk#9908)) THEN dispar WHEN (isnotnull(GoF_protect#9893L) AND isnotnull(LoF_protect#9894L)) THEN dispar ELSE coherent END END AS coherencyDiagonal#11688]\n      :                       +- Project [targetId#2088, diseaseId#2170, maxClinPhase#6197, GoF_protect#9893L, LoF_protect#9894L, noEvaluable#9895L, GoF_risk#9908, null AS LoF_risk#11522]\n      :                          +- Project [targetId#2088, diseaseId#2170, maxClinPhase#6197, GoF_protect#9893L, LoF_protect#9894L, noEvaluable#9895L, null AS GoF_risk#9908]\n      :                             +- Project [targetId#2088, diseaseId#2170, maxClinPhase#6197, __pivot_count(targetId) AS `count(targetId)`#9892[0] AS GoF_protect#9893L, __pivot_count(targetId) AS `count(targetId)`#9892[1] AS LoF_protect#9894L, __pivot_count(targetId) AS `count(targetId)`#9892[2] AS noEvaluable#9895L]\n      :                                +- Aggregate [targetId#2088, diseaseId#2170, maxClinPhase#6197], [targetId#2088, diseaseId#2170, maxClinPhase#6197, pivotfirst(homogenized#4208, count(targetId)#9884L, GoF_protect, LoF_protect, noEvaluable, 0, 0) AS __pivot_count(targetId) AS `count(targetId)`#9892]\n      :                                   +- Aggregate [targetId#2088, diseaseId#2170, maxClinPhase#6197, homogenized#4208], [targetId#2088, diseaseId#2170, maxClinPhase#6197, homogenized#4208, count(targetId#2088) AS count(targetId)#9884L]\n      :                                      +- Project [datasourceId#2087, targetId#2088, alleleOrigins#2089, allelicRequirements#2090, ancestry#2091, ancestryId#2092, beta#2931, betaConfidenceIntervalLower#2094, betaConfidenceIntervalUpper#2095, biologicalModelAllelicComposition#2096, biologicalModelGeneticBackground#2097, biologicalModelId#2098, biomarkerName#2099, biomarkers#2100, biosamplesFromSource#2101, cellType#2102, clinicalPhase#2103, clinicalSignificances#3113, clinicalStatus#2105, cohortDescription#2106, cohortId#2107, cohortPhenotypes#2108, cohortShortName#2109, confidence#2110, ... 80 more fields]\n      :                                         +- Project [datasourceId#2087, targetId#2088, alleleOrigins#2089, allelicRequirements#2090, ancestry#2091, ancestryId#2092, beta#2931, betaConfidenceIntervalLower#2094, betaConfidenceIntervalUpper#2095, biologicalModelAllelicComposition#2096, biologicalModelGeneticBackground#2097, biologicalModelId#2098, biomarkerName#2099, biomarkers#2100, biosamplesFromSource#2101, cellType#2102, clinicalPhase#2103, clinicalSignificances#3113, clinicalStatus#2105, cohortDescription#2106, cohortId#2107, cohortPhenotypes#2108, cohortShortName#2109, confidence#2110, ... 81 more fields]\n      :                                            +- Window [max(clinicalPhase#2103) windowspecdefinition(targetId#2088, diseaseId#2170, specifiedwindowframe(RowFrame, unboundedpreceding$(), unboundedfollowing$())) AS maxClinPhase#6197], [targetId#2088, diseaseId#2170]\n      :                                               +- Project [datasourceId#2087, targetId#2088, alleleOrigins#2089, allelicRequirements#2090, ancestry#2091, ancestryId#2092, beta#2931, betaConfidenceIntervalLower#2094, betaConfidenceIntervalUpper#2095, biologicalModelAllelicComposition#2096, biologicalModelGeneticBackground#2097, biologicalModelId#2098, biomarkerName#2099, biomarkers#2100, biosamplesFromSource#2101, cellType#2102, clinicalPhase#2103, clinicalSignificances#3113, clinicalStatus#2105, cohortDescription#2106, cohortId#2107, cohortPhenotypes#2108, cohortShortName#2109, confidence#2110, ... 79 more fields]\n      :                                                  +- Filter (datasourceId#2087 = chembl)\n      :                                                     +- Project [datasourceId#2087, targetId#2088, alleleOrigins#2089, allelicRequirements#2090, ancestry#2091, ancestryId#2092, beta#2931, betaConfidenceIntervalLower#2094, betaConfidenceIntervalUpper#2095, biologicalModelAllelicComposition#2096, biologicalModelGeneticBackground#2097, biologicalModelId#2098, biomarkerName#2099, biomarkers#2100, biosamplesFromSource#2101, cellType#2102, clinicalPhase#2103, clinicalSignificances#3113, clinicalStatus#2105, cohortDescription#2106, cohortId#2107, cohortPhenotypes#2108, cohortShortName#2109, confidence#2110, ... 79 more fields]\n      :                                                        +- Project [datasourceId#2087, targetId#2088, alleleOrigins#2089, allelicRequirements#2090, ancestry#2091, ancestryId#2092, beta#2931, betaConfidenceIntervalLower#2094, betaConfidenceIntervalUpper#2095, biologicalModelAllelicComposition#2096, biologicalModelGeneticBackground#2097, biologicalModelId#2098, biomarkerName#2099, biomarkers#2100, biosamplesFromSource#2101, cellType#2102, clinicalPhase#2103, clinicalSignificances#3113, clinicalStatus#2105, cohortDescription#2106, cohortId#2107, cohortPhenotypes#2108, cohortShortName#2109, confidence#2110, ... 78 more fields]\n      :                                                           +- Project [datasourceId#2087, targetId#2088, alleleOrigins#2089, allelicRequirements#2090, ancestry#2091, ancestryId#2092, beta#2931, betaConfidenceIntervalLower#2094, betaConfidenceIntervalUpper#2095, biologicalModelAllelicComposition#2096, biologicalModelGeneticBackground#2097, biologicalModelId#2098, biomarkerName#2099, biomarkers#2100, biosamplesFromSource#2101, cellType#2102, clinicalPhase#2103, clinicalSignificances#3113, clinicalStatus#2105, cohortDescription#2106, cohortId#2107, cohortPhenotypes#2108, cohortShortName#2109, confidence#2110, ... 78 more fields]\n      :                                                              +- Project [datasourceId#2087, targetId#2088, alleleOrigins#2089, allelicRequirements#2090, ancestry#2091, ancestryId#2092, beta#2931, betaConfidenceIntervalLower#2094, betaConfidenceIntervalUpper#2095, biologicalModelAllelicComposition#2096, biologicalModelGeneticBackground#2097, biologicalModelId#2098, biomarkerName#2099, biomarkers#2100, biosamplesFromSource#2101, cellType#2102, clinicalPhase#2103, clinicalSignificances#3113, clinicalStatus#2105, cohortDescription#2106, cohortId#2107, cohortPhenotypes#2108, cohortShortName#2109, confidence#2110, ... 78 more fields]\n      :                                                                 +- Project [datasourceId#2087, targetId#2088, alleleOrigins#2089, allelicRequirements#2090, ancestry#2091, ancestryId#2092, beta#2931, betaConfidenceIntervalLower#2094, betaConfidenceIntervalUpper#2095, biologicalModelAllelicComposition#2096, biologicalModelGeneticBackground#2097, biologicalModelId#2098, biomarkerName#2099, biomarkers#2100, biosamplesFromSource#2101, cellType#2102, clinicalPhase#2103, clinicalSignificances#3113, clinicalStatus#2105, cohortDescription#2106, cohortId#2107, cohortPhenotypes#2108, cohortShortName#2109, confidence#2110, ... 79 more fields]\n      :                                                                    +- Window [collect_set(intogen_function#3791, 0, 0) windowspecdefinition(targetId#2088, diseaseId#2170, specifiedwindowframe(RowFrame, unboundedpreceding$(), unboundedfollowing$())) AS _we0#3897], [targetId#2088, diseaseId#2170]\n      :                                                                       +- Project [datasourceId#2087, targetId#2088, alleleOrigins#2089, allelicRequirements#2090, ancestry#2091, ancestryId#2092, beta#2931, betaConfidenceIntervalLower#2094, betaConfidenceIntervalUpper#2095, biologicalModelAllelicComposition#2096, biologicalModelGeneticBackground#2097, biologicalModelId#2098, biomarkerName#2099, biomarkers#2100, biosamplesFromSource#2101, cellType#2102, clinicalPhase#2103, clinicalSignificances#3113, clinicalStatus#2105, cohortDescription#2106, cohortId#2107, cohortPhenotypes#2108, cohortShortName#2109, confidence#2110, ... 77 more fields]\n      :                                                                          +- Project [datasourceId#2087, targetId#2088, alleleOrigins#2089, allelicRequirements#2090, ancestry#2091, ancestryId#2092, beta#2931, betaConfidenceIntervalLower#2094, betaConfidenceIntervalUpper#2095, biologicalModelAllelicComposition#2096, biologicalModelGeneticBackground#2097, biologicalModelId#2098, biomarkerName#2099, biomarkers#2100, biosamplesFromSource#2101, cellType#2102, clinicalPhase#2103, clinicalSignificances#3113, clinicalStatus#2105, cohortDescription#2106, cohortId#2107, cohortPhenotypes#2108, cohortShortName#2109, confidence#2110, ... 77 more fields]\n      :                                                                             +- Project [datasourceId#2087, targetId#2088, alleleOrigins#2089, allelicRequirements#2090, ancestry#2091, ancestryId#2092, beta#2931, betaConfidenceIntervalLower#2094, betaConfidenceIntervalUpper#2095, biologicalModelAllelicComposition#2096, biologicalModelGeneticBackground#2097, biologicalModelId#2098, biomarkerName#2099, biomarkers#2100, biosamplesFromSource#2101, cellType#2102, clinicalPhase#2103, clinicalSignificances#3113, clinicalStatus#2105, cohortDescription#2106, cohortId#2107, cohortPhenotypes#2108, cohortShortName#2109, confidence#2110, ... 76 more fields]\n      :                                                                                +- Project [datasourceId#2087, targetId#2088, alleleOrigins#2089, allelicRequirements#2090, ancestry#2091, ancestryId#2092, beta#2931, betaConfidenceIntervalLower#2094, betaConfidenceIntervalUpper#2095, biologicalModelAllelicComposition#2096, biologicalModelGeneticBackground#2097, biologicalModelId#2098, biomarkerName#2099, biomarkers#2100, biosamplesFromSource#2101, cellType#2102, clinicalPhase#2103, clinicalSignificances#3113, clinicalStatus#2105, cohortDescription#2106, cohortId#2107, cohortPhenotypes#2108, cohortShortName#2109, confidence#2110, ... 75 more fields]\n      :                                                                                   +- Join LeftOuter, ((drugId2#2875 = drugId#2121) AND (targetId2#2882 = targetId#2088))\n      :                                                                                      :- Join LeftOuter, (target_id#2925 = targetId#2088)\n      :                                                                                      :  :- Project [datasourceId#2087, targetId#2088, alleleOrigins#2089, allelicRequirements#2090, ancestry#2091, ancestryId#2092, beta#2931, betaConfidenceIntervalLower#2094, betaConfidenceIntervalUpper#2095, biologicalModelAllelicComposition#2096, biologicalModelGeneticBackground#2097, biologicalModelId#2098, biomarkerName#2099, biomarkers#2100, biosamplesFromSource#2101, cellType#2102, clinicalPhase#2103, concat_ws(,, clinicalSignificances#2104) AS clinicalSignificances#3113, clinicalStatus#2105, cohortDescription#2106, cohortId#2107, cohortPhenotypes#2108, cohortShortName#2109, confidence#2110, ... 66 more fields]\n      :                                                                                      :  :  +- Project [datasourceId#2087, targetId#2088, alleleOrigins#2089, allelicRequirements#2090, ancestry#2091, ancestryId#2092, beta#2931, betaConfidenceIntervalLower#2094, betaConfidenceIntervalUpper#2095, biologicalModelAllelicComposition#2096, biologicalModelGeneticBackground#2097, biologicalModelId#2098, biomarkerName#2099, biomarkers#2100, biosamplesFromSource#2101, cellType#2102, clinicalPhase#2103, clinicalSignificances#2104, clinicalStatus#2105, cohortDescription#2106, cohortId#2107, cohortPhenotypes#2108, cohortShortName#2109, confidence#2110, ... 66 more fields]\n      :                                                                                      :  :     +- Project [datasourceId#2087, targetId#2088, alleleOrigins#2089, allelicRequirements#2090, ancestry#2091, ancestryId#2092, cast(beta#2093 as double) AS beta#2931, betaConfidenceIntervalLower#2094, betaConfidenceIntervalUpper#2095, biologicalModelAllelicComposition#2096, biologicalModelGeneticBackground#2097, biologicalModelId#2098, biomarkerName#2099, biomarkers#2100, biosamplesFromSource#2101, cellType#2102, clinicalPhase#2103, clinicalSignificances#2104, clinicalStatus#2105, cohortDescription#2106, cohortId#2107, cohortPhenotypes#2108, cohortShortName#2109, confidence#2110, ... 66 more fields]\n      :                                                                                      :  :        +- Project [datasourceId#2087, targetId#2088, alleleOrigins#2089, allelicRequirements#2090, ancestry#2091, ancestryId#2092, beta#2093, betaConfidenceIntervalLower#2094, betaConfidenceIntervalUpper#2095, biologicalModelAllelicComposition#2096, biologicalModelGeneticBackground#2097, biologicalModelId#2098, biomarkerName#2099, biomarkers#2100, biosamplesFromSource#2101, cellType#2102, clinicalPhase#2103, clinicalSignificances#2104, clinicalStatus#2105, cohortDescription#2106, cohortId#2107, cohortPhenotypes#2108, cohortShortName#2109, confidence#2110, ... 66 more fields]\n      :                                                                                      :  :           +- Filter datasourceId#2087 IN (gwas_credible_sets,gene_burden,eva,eva_somatic,gene2phenotype,orphanet,cancer_gene_census,intogen,impc,chembl)\n      :                                                                                      :  :              +- Relation [datasourceId#2087,targetId#2088,alleleOrigins#2089,allelicRequirements#2090,ancestry#2091,ancestryId#2092,beta#2093,betaConfidenceIntervalLower#2094,betaConfidenceIntervalUpper#2095,biologicalModelAllelicComposition#2096,biologicalModelGeneticBackground#2097,biologicalModelId#2098,biomarkerName#2099,biomarkers#2100,biosamplesFromSource#2101,cellType#2102,clinicalPhase#2103,clinicalSignificances#2104,clinicalStatus#2105,cohortDescription#2106,cohortId#2107,cohortPhenotypes#2108,cohortShortName#2109,confidence#2110,... 65 more fields] parquet\n      :                                                                                      :  +- Project [id#2802 AS target_id#2925, approvedSymbol#2803, description#2910, description_splited#2914, TSorOncogene#2919]\n      :                                                                                      :     +- Project [id#2802, approvedSymbol#2803, description#2910, description_splited#2914, CASE WHEN (RLIKE(description_splited#2914, ncogene) AND RLIKE(description_splited#2914, TSG)) THEN bivalent WHEN RLIKE(description_splited#2914, ncogene(\\s|$)) THEN oncogene WHEN RLIKE(description_splited#2914, TSG(\\s|$)) THEN TSG ELSE noEvaluable END AS TSorOncogene#2919]\n      :                                                                                      :        +- Project [id#2802, approvedSymbol#2803, description#2910, concat_ws(,, description#2910) AS description_splited#2914]\n      :                                                                                      :           +- Aggregate [id#2802, approvedSymbol#2803], [id#2802, approvedSymbol#2803, collect_set(description#2902, 0, 0) AS description#2910]\n      :                                                                                      :              +- Filter description#2902 IN (TSG,oncogene,Oncogene,oncogene,oncogene,TSG,TSG,oncogene,fusion,oncogene,oncogene,fusion)\n      :                                                                                      :                 +- Project [id#2802, approvedSymbol#2803, col#2897.description AS description#2902]\n      :                                                                                      :                    +- Project [id#2802, approvedSymbol#2803, col#2897]\n      :                                                                                      :                       +- Generate explode(hallmarks#2812.attributes), true, [col#2897]\n      :                                                                                      :                          +- Relation [id#2802,approvedSymbol#2803,biotype#2804,transcriptIds#2805,canonicalTranscript#2806,canonicalExons#2807,genomicLocation#2808,alternativeGenes#2809,approvedName#2810,go#2811,hallmarks#2812,synonyms#2813,symbolSynonyms#2814,nameSynonyms#2815,functionDescriptions#2816,subcellularLocations#2817,targetClass#2818,obsoleteSymbols#2819,obsoleteNames#2820,constraint#2821,tep#2822,proteinIds#2823,dbXrefs#2824,chemicalProbes#2825,... 5 more fields] parquet\n      :                                                                                      +- Aggregate [targetId2#2882, drugId2#2875], [targetId2#2882, drugId2#2875, collect_set(actionType#2860, 0, 0) AS actionType#2892]\n      :                                                                                         +- Project [targetId2#2882, drugId2#2875, actionType#2860, mechanismOfAction#2861]\n      :                                                                                            +- Generate explode(targets#2865), true, [targetId2#2882]\n      :                                                                                               +- Project [drugId2#2875, actionType#2860, mechanismOfAction#2861, targets#2865]\n      :                                                                                                  +- Generate explode(chemblIds#2862), true, [drugId2#2875]\n      :                                                                                                     +- Relation [actionType#2860,mechanismOfAction#2861,chemblIds#2862,targetName#2863,targetType#2864,targets#2865,references#2866] parquet\n      +- Project [biosampleId#1059, biosampleName#1060]\n         +- Relation [biosampleId#1059,biosampleName#1060,description#1061,xrefs#1062,synonyms#1063,parents#1064,ancestors#1065,children#1066,descendants#1067] parquet\n",
     "output_type": "error",
     "traceback": [
      "\u001b[0;31m---------------------------------------------------------------------------\u001b[0m",
      "\u001b[0;31mAnalysisException\u001b[0m                         Traceback (most recent call last)",
      "Cell \u001b[0;32mIn[3], line 6\u001b[0m\n\u001b[1;32m      1\u001b[0m test\u001b[38;5;241m=\u001b[39mdiscrepancifier(\n\u001b[1;32m      2\u001b[0m     \u001b[43mbenchmark\u001b[49m\u001b[38;5;241;43m.\u001b[39;49m\u001b[43mgroupBy\u001b[49m\u001b[43m(\u001b[49m\n\u001b[1;32m      3\u001b[0m \u001b[43m        \u001b[49m\u001b[38;5;124;43m\"\u001b[39;49m\u001b[38;5;124;43mtargetId\u001b[39;49m\u001b[38;5;124;43m\"\u001b[39;49m\u001b[43m,\u001b[49m\u001b[43m \u001b[49m\u001b[38;5;124;43m\"\u001b[39;49m\u001b[38;5;124;43mdiseaseId\u001b[39;49m\u001b[38;5;124;43m\"\u001b[39;49m\u001b[43m,\u001b[49m\u001b[43m \u001b[49m\u001b[38;5;124;43m\"\u001b[39;49m\u001b[38;5;124;43mmaxClinPhase\u001b[39;49m\u001b[38;5;124;43m\"\u001b[39;49m\u001b[43m,\u001b[49m\u001b[43m \u001b[49m\u001b[38;5;124;43m\"\u001b[39;49m\u001b[38;5;124;43mdrugLoF_protect\u001b[39;49m\u001b[38;5;124;43m\"\u001b[39;49m\u001b[43m,\u001b[49m\u001b[43m \u001b[49m\u001b[38;5;124;43m\"\u001b[39;49m\u001b[38;5;124;43mdrugGoF_protect\u001b[39;49m\u001b[38;5;124;43m\"\u001b[39;49m\u001b[43m,\u001b[49m\u001b[43m \u001b[49m\u001b[38;5;124;43m'\u001b[39;49m\u001b[38;5;124;43mactionType2\u001b[39;49m\u001b[38;5;124;43m'\u001b[39;49m\n\u001b[1;32m      4\u001b[0m \u001b[43m    \u001b[49m\u001b[43m)\u001b[49m\n\u001b[1;32m      5\u001b[0m \u001b[43m    \u001b[49m\u001b[38;5;241;43m.\u001b[39;49m\u001b[43mpivot\u001b[49m\u001b[43m(\u001b[49m\u001b[38;5;124;43m\"\u001b[39;49m\u001b[38;5;124;43mcolocDoE\u001b[39;49m\u001b[38;5;124;43m\"\u001b[39;49m\u001b[43m)\u001b[49m\n\u001b[0;32m----> 6\u001b[0m \u001b[43m    \u001b[49m\u001b[38;5;241;43m.\u001b[39;49m\u001b[43mcount\u001b[49m\u001b[43m(\u001b[49m\u001b[43m)\u001b[49m\n\u001b[1;32m      7\u001b[0m     \u001b[38;5;241m.\u001b[39mwithColumnRenamed(\u001b[38;5;124m'\u001b[39m\u001b[38;5;124mdrugLoF_protect\u001b[39m\u001b[38;5;124m'\u001b[39m, \u001b[38;5;124m'\u001b[39m\u001b[38;5;124mLoF_protect_ch\u001b[39m\u001b[38;5;124m'\u001b[39m)\n\u001b[1;32m      8\u001b[0m     \u001b[38;5;241m.\u001b[39mwithColumnRenamed(\u001b[38;5;124m'\u001b[39m\u001b[38;5;124mdrugGoF_protect\u001b[39m\u001b[38;5;124m'\u001b[39m, \u001b[38;5;124m'\u001b[39m\u001b[38;5;124mGoF_protect_ch\u001b[39m\u001b[38;5;124m'\u001b[39m)\n\u001b[1;32m      9\u001b[0m \n\u001b[1;32m     10\u001b[0m )\u001b[38;5;241m.\u001b[39mwithColumn( \u001b[38;5;66;03m## .filter(F.col('coherencyDiagonal')!='noEvid')\u001b[39;00m\n\u001b[1;32m     11\u001b[0m     \u001b[38;5;124m\"\u001b[39m\u001b[38;5;124marrayN\u001b[39m\u001b[38;5;124m\"\u001b[39m, F\u001b[38;5;241m.\u001b[39marray(\u001b[38;5;241m*\u001b[39m[F\u001b[38;5;241m.\u001b[39mcol(c) \u001b[38;5;28;01mfor\u001b[39;00m c \u001b[38;5;129;01min\u001b[39;00m doe_columns])\n\u001b[1;32m     12\u001b[0m )\u001b[38;5;241m.\u001b[39mwithColumn(\n\u001b[1;32m     13\u001b[0m     \u001b[38;5;124m\"\u001b[39m\u001b[38;5;124mmaxDoE\u001b[39m\u001b[38;5;124m\"\u001b[39m, F\u001b[38;5;241m.\u001b[39marray_max(F\u001b[38;5;241m.\u001b[39mcol(\u001b[38;5;124m\"\u001b[39m\u001b[38;5;124marrayN\u001b[39m\u001b[38;5;124m\"\u001b[39m))\n\u001b[1;32m     14\u001b[0m )\u001b[38;5;241m.\u001b[39mwithColumn(\u001b[38;5;124m\"\u001b[39m\u001b[38;5;124mmaxDoE_names\u001b[39m\u001b[38;5;124m\"\u001b[39m, F\u001b[38;5;241m.\u001b[39marray(\u001b[38;5;241m*\u001b[39mconditions)\n\u001b[1;32m     15\u001b[0m )\u001b[38;5;241m.\u001b[39mwithColumn(\u001b[38;5;124m\"\u001b[39m\u001b[38;5;124mmaxDoE_names\u001b[39m\u001b[38;5;124m\"\u001b[39m, F\u001b[38;5;241m.\u001b[39mexpr(\u001b[38;5;124m\"\u001b[39m\u001b[38;5;124mfilter(maxDoE_names, x -> x is not null)\u001b[39m\u001b[38;5;124m\"\u001b[39m)\n\u001b[1;32m     16\u001b[0m )\u001b[38;5;241m.\u001b[39mwithColumn(\n\u001b[1;32m     17\u001b[0m     \u001b[38;5;124m\"\u001b[39m\u001b[38;5;124mNoneCellYes\u001b[39m\u001b[38;5;124m\"\u001b[39m,\n\u001b[1;32m     18\u001b[0m     F\u001b[38;5;241m.\u001b[39mwhen((F\u001b[38;5;241m.\u001b[39mcol(\u001b[38;5;124m\"\u001b[39m\u001b[38;5;124mLoF_protect_ch\u001b[39m\u001b[38;5;124m\"\u001b[39m)\u001b[38;5;241m.\u001b[39misNotNull() \u001b[38;5;241m&\u001b[39m (F\u001b[38;5;241m.\u001b[39mcol(\u001b[38;5;124m'\u001b[39m\u001b[38;5;124mGoF_protect_ch\u001b[39m\u001b[38;5;124m'\u001b[39m)\u001b[38;5;241m.\u001b[39misNull())) \u001b[38;5;241m&\u001b[39m (F\u001b[38;5;241m.\u001b[39marray_contains(F\u001b[38;5;241m.\u001b[39mcol(\u001b[38;5;124m\"\u001b[39m\u001b[38;5;124mmaxDoE_names\u001b[39m\u001b[38;5;124m\"\u001b[39m), F\u001b[38;5;241m.\u001b[39mlit(\u001b[38;5;124m\"\u001b[39m\u001b[38;5;124mLoF_protect\u001b[39m\u001b[38;5;124m\"\u001b[39m)))\u001b[38;5;241m==\u001b[39m\u001b[38;5;28;01mTrue\u001b[39;00m, F\u001b[38;5;241m.\u001b[39mlit(\u001b[38;5;124m'\u001b[39m\u001b[38;5;124myes\u001b[39m\u001b[38;5;124m'\u001b[39m))\n\u001b[1;32m     19\u001b[0m     \u001b[38;5;241m.\u001b[39mwhen((F\u001b[38;5;241m.\u001b[39mcol(\u001b[38;5;124m\"\u001b[39m\u001b[38;5;124mGoF_protect_ch\u001b[39m\u001b[38;5;124m\"\u001b[39m)\u001b[38;5;241m.\u001b[39misNotNull() \u001b[38;5;241m&\u001b[39m (F\u001b[38;5;241m.\u001b[39mcol(\u001b[38;5;124m'\u001b[39m\u001b[38;5;124mLoF_protect_ch\u001b[39m\u001b[38;5;124m'\u001b[39m)\u001b[38;5;241m.\u001b[39misNull())) \u001b[38;5;241m&\u001b[39m (F\u001b[38;5;241m.\u001b[39marray_contains(F\u001b[38;5;241m.\u001b[39mcol(\u001b[38;5;124m\"\u001b[39m\u001b[38;5;124mmaxDoE_names\u001b[39m\u001b[38;5;124m\"\u001b[39m), F\u001b[38;5;241m.\u001b[39mlit(\u001b[38;5;124m\"\u001b[39m\u001b[38;5;124mGoF_protect\u001b[39m\u001b[38;5;124m\"\u001b[39m)))\u001b[38;5;241m==\u001b[39m\u001b[38;5;28;01mTrue\u001b[39;00m, F\u001b[38;5;241m.\u001b[39mlit(\u001b[38;5;124m'\u001b[39m\u001b[38;5;124myes\u001b[39m\u001b[38;5;124m'\u001b[39m)\n\u001b[1;32m     20\u001b[0m         )\u001b[38;5;241m.\u001b[39motherwise(F\u001b[38;5;241m.\u001b[39mlit(\u001b[38;5;124m'\u001b[39m\u001b[38;5;124mno\u001b[39m\u001b[38;5;124m'\u001b[39m))  \u001b[38;5;66;03m# If the value is null, return null # Otherwise, check if name is in array\u001b[39;00m\n\u001b[1;32m     21\u001b[0m )\u001b[38;5;241m.\u001b[39mwithColumn(\n\u001b[1;32m     22\u001b[0m     \u001b[38;5;124m\"\u001b[39m\u001b[38;5;124mNdiagonalYes\u001b[39m\u001b[38;5;124m\"\u001b[39m,\n\u001b[1;32m     23\u001b[0m     F\u001b[38;5;241m.\u001b[39mwhen((F\u001b[38;5;241m.\u001b[39mcol(\u001b[38;5;124m\"\u001b[39m\u001b[38;5;124mLoF_protect_ch\u001b[39m\u001b[38;5;124m\"\u001b[39m)\u001b[38;5;241m.\u001b[39misNotNull() \u001b[38;5;241m&\u001b[39m (F\u001b[38;5;241m.\u001b[39mcol(\u001b[38;5;124m'\u001b[39m\u001b[38;5;124mGoF_protect_ch\u001b[39m\u001b[38;5;124m'\u001b[39m)\u001b[38;5;241m.\u001b[39misNull())) \u001b[38;5;241m&\u001b[39m \n\u001b[1;32m     24\u001b[0m         (F\u001b[38;5;241m.\u001b[39msize(F\u001b[38;5;241m.\u001b[39marray_intersect(F\u001b[38;5;241m.\u001b[39mcol(\u001b[38;5;124m\"\u001b[39m\u001b[38;5;124mmaxDoE_names\u001b[39m\u001b[38;5;124m\"\u001b[39m), F\u001b[38;5;241m.\u001b[39marray([F\u001b[38;5;241m.\u001b[39mlit(x) \u001b[38;5;28;01mfor\u001b[39;00m x \u001b[38;5;129;01min\u001b[39;00m diagonal_lof]))) \u001b[38;5;241m>\u001b[39m \u001b[38;5;241m0\u001b[39m),\n\u001b[1;32m     25\u001b[0m         F\u001b[38;5;241m.\u001b[39mlit(\u001b[38;5;124m\"\u001b[39m\u001b[38;5;124myes\u001b[39m\u001b[38;5;124m\"\u001b[39m)\n\u001b[1;32m     26\u001b[0m     )\u001b[38;5;241m.\u001b[39mwhen((F\u001b[38;5;241m.\u001b[39mcol(\u001b[38;5;124m\"\u001b[39m\u001b[38;5;124mGoF_protect_ch\u001b[39m\u001b[38;5;124m\"\u001b[39m)\u001b[38;5;241m.\u001b[39misNotNull() \u001b[38;5;241m&\u001b[39m (F\u001b[38;5;241m.\u001b[39mcol(\u001b[38;5;124m'\u001b[39m\u001b[38;5;124mLoF_protect_ch\u001b[39m\u001b[38;5;124m'\u001b[39m)\u001b[38;5;241m.\u001b[39misNull())) \u001b[38;5;241m&\u001b[39m \n\u001b[1;32m     27\u001b[0m         (F\u001b[38;5;241m.\u001b[39msize(F\u001b[38;5;241m.\u001b[39marray_intersect(F\u001b[38;5;241m.\u001b[39mcol(\u001b[38;5;124m\"\u001b[39m\u001b[38;5;124mmaxDoE_names\u001b[39m\u001b[38;5;124m\"\u001b[39m), F\u001b[38;5;241m.\u001b[39marray([F\u001b[38;5;241m.\u001b[39mlit(x) \u001b[38;5;28;01mfor\u001b[39;00m x \u001b[38;5;129;01min\u001b[39;00m diagonal_gof]))) \u001b[38;5;241m>\u001b[39m \u001b[38;5;241m0\u001b[39m),\n\u001b[1;32m     28\u001b[0m         F\u001b[38;5;241m.\u001b[39mlit(\u001b[38;5;124m\"\u001b[39m\u001b[38;5;124myes\u001b[39m\u001b[38;5;124m\"\u001b[39m)\n\u001b[1;32m     29\u001b[0m     )\u001b[38;5;241m.\u001b[39motherwise(F\u001b[38;5;241m.\u001b[39mlit(\u001b[38;5;124m'\u001b[39m\u001b[38;5;124mno\u001b[39m\u001b[38;5;124m'\u001b[39m))\n\u001b[1;32m     30\u001b[0m )\u001b[38;5;241m.\u001b[39mwithColumn(\n\u001b[1;32m     31\u001b[0m     \u001b[38;5;124m\"\u001b[39m\u001b[38;5;124mdrugCoherency\u001b[39m\u001b[38;5;124m\"\u001b[39m,\n\u001b[1;32m     32\u001b[0m     F\u001b[38;5;241m.\u001b[39mwhen(\n\u001b[1;32m     33\u001b[0m         (F\u001b[38;5;241m.\u001b[39mcol(\u001b[38;5;124m\"\u001b[39m\u001b[38;5;124mLoF_protect_ch\u001b[39m\u001b[38;5;124m\"\u001b[39m)\u001b[38;5;241m.\u001b[39misNotNull())\n\u001b[1;32m     34\u001b[0m         \u001b[38;5;241m&\u001b[39m (F\u001b[38;5;241m.\u001b[39mcol(\u001b[38;5;124m\"\u001b[39m\u001b[38;5;124mGoF_protect_ch\u001b[39m\u001b[38;5;124m\"\u001b[39m)\u001b[38;5;241m.\u001b[39misNull()), F\u001b[38;5;241m.\u001b[39mlit(\u001b[38;5;124m\"\u001b[39m\u001b[38;5;124mcoherent\u001b[39m\u001b[38;5;124m\"\u001b[39m)\n\u001b[1;32m     35\u001b[0m     )\n\u001b[1;32m     36\u001b[0m     \u001b[38;5;241m.\u001b[39mwhen(\n\u001b[1;32m     37\u001b[0m         (F\u001b[38;5;241m.\u001b[39mcol(\u001b[38;5;124m\"\u001b[39m\u001b[38;5;124mLoF_protect_ch\u001b[39m\u001b[38;5;124m\"\u001b[39m)\u001b[38;5;241m.\u001b[39misNull())\n\u001b[1;32m     38\u001b[0m         \u001b[38;5;241m&\u001b[39m (F\u001b[38;5;241m.\u001b[39mcol(\u001b[38;5;124m\"\u001b[39m\u001b[38;5;124mGoF_protect_ch\u001b[39m\u001b[38;5;124m\"\u001b[39m)\u001b[38;5;241m.\u001b[39misNotNull()), F\u001b[38;5;241m.\u001b[39mlit(\u001b[38;5;124m\"\u001b[39m\u001b[38;5;124mcoherent\u001b[39m\u001b[38;5;124m\"\u001b[39m)\n\u001b[1;32m     39\u001b[0m     )\n\u001b[1;32m     40\u001b[0m     \u001b[38;5;241m.\u001b[39mwhen(\n\u001b[1;32m     41\u001b[0m         (F\u001b[38;5;241m.\u001b[39mcol(\u001b[38;5;124m\"\u001b[39m\u001b[38;5;124mLoF_protect_ch\u001b[39m\u001b[38;5;124m\"\u001b[39m)\u001b[38;5;241m.\u001b[39misNotNull())\n\u001b[1;32m     42\u001b[0m         \u001b[38;5;241m&\u001b[39m (F\u001b[38;5;241m.\u001b[39mcol(\u001b[38;5;124m\"\u001b[39m\u001b[38;5;124mGoF_protect_ch\u001b[39m\u001b[38;5;124m\"\u001b[39m)\u001b[38;5;241m.\u001b[39misNotNull()), F\u001b[38;5;241m.\u001b[39mlit(\u001b[38;5;124m\"\u001b[39m\u001b[38;5;124mdispar\u001b[39m\u001b[38;5;124m\"\u001b[39m)\n\u001b[1;32m     43\u001b[0m     )\n\u001b[1;32m     44\u001b[0m     \u001b[38;5;241m.\u001b[39motherwise(F\u001b[38;5;241m.\u001b[39mlit(\u001b[38;5;124m\"\u001b[39m\u001b[38;5;124mother\u001b[39m\u001b[38;5;124m\"\u001b[39m)),\n\u001b[1;32m     45\u001b[0m )\u001b[38;5;241m.\u001b[39mpersist()\n",
      "File \u001b[0;32m/usr/lib/spark/python/pyspark/sql/group.py:38\u001b[0m, in \u001b[0;36mdfapi.<locals>._api\u001b[0;34m(self)\u001b[0m\n\u001b[1;32m     36\u001b[0m \u001b[38;5;28;01mdef\u001b[39;00m\u001b[38;5;250m \u001b[39m\u001b[38;5;21m_api\u001b[39m(\u001b[38;5;28mself\u001b[39m: \u001b[38;5;124m\"\u001b[39m\u001b[38;5;124mGroupedData\u001b[39m\u001b[38;5;124m\"\u001b[39m) \u001b[38;5;241m-\u001b[39m\u001b[38;5;241m>\u001b[39m DataFrame:\n\u001b[1;32m     37\u001b[0m     name \u001b[38;5;241m=\u001b[39m f\u001b[38;5;241m.\u001b[39m\u001b[38;5;18m__name__\u001b[39m\n\u001b[0;32m---> 38\u001b[0m     jdf \u001b[38;5;241m=\u001b[39m \u001b[38;5;28;43mgetattr\u001b[39;49m\u001b[43m(\u001b[49m\u001b[38;5;28;43mself\u001b[39;49m\u001b[38;5;241;43m.\u001b[39;49m\u001b[43m_jgd\u001b[49m\u001b[43m,\u001b[49m\u001b[43m \u001b[49m\u001b[43mname\u001b[49m\u001b[43m)\u001b[49m\u001b[43m(\u001b[49m\u001b[43m)\u001b[49m\n\u001b[1;32m     39\u001b[0m     \u001b[38;5;28;01mreturn\u001b[39;00m DataFrame(jdf, \u001b[38;5;28mself\u001b[39m\u001b[38;5;241m.\u001b[39msession)\n",
      "File \u001b[0;32m/usr/lib/spark/python/lib/py4j-0.10.9.7-src.zip/py4j/java_gateway.py:1322\u001b[0m, in \u001b[0;36mJavaMember.__call__\u001b[0;34m(self, *args)\u001b[0m\n\u001b[1;32m   1316\u001b[0m command \u001b[38;5;241m=\u001b[39m proto\u001b[38;5;241m.\u001b[39mCALL_COMMAND_NAME \u001b[38;5;241m+\u001b[39m\\\n\u001b[1;32m   1317\u001b[0m     \u001b[38;5;28mself\u001b[39m\u001b[38;5;241m.\u001b[39mcommand_header \u001b[38;5;241m+\u001b[39m\\\n\u001b[1;32m   1318\u001b[0m     args_command \u001b[38;5;241m+\u001b[39m\\\n\u001b[1;32m   1319\u001b[0m     proto\u001b[38;5;241m.\u001b[39mEND_COMMAND_PART\n\u001b[1;32m   1321\u001b[0m answer \u001b[38;5;241m=\u001b[39m \u001b[38;5;28mself\u001b[39m\u001b[38;5;241m.\u001b[39mgateway_client\u001b[38;5;241m.\u001b[39msend_command(command)\n\u001b[0;32m-> 1322\u001b[0m return_value \u001b[38;5;241m=\u001b[39m \u001b[43mget_return_value\u001b[49m\u001b[43m(\u001b[49m\n\u001b[1;32m   1323\u001b[0m \u001b[43m    \u001b[49m\u001b[43manswer\u001b[49m\u001b[43m,\u001b[49m\u001b[43m \u001b[49m\u001b[38;5;28;43mself\u001b[39;49m\u001b[38;5;241;43m.\u001b[39;49m\u001b[43mgateway_client\u001b[49m\u001b[43m,\u001b[49m\u001b[43m \u001b[49m\u001b[38;5;28;43mself\u001b[39;49m\u001b[38;5;241;43m.\u001b[39;49m\u001b[43mtarget_id\u001b[49m\u001b[43m,\u001b[49m\u001b[43m \u001b[49m\u001b[38;5;28;43mself\u001b[39;49m\u001b[38;5;241;43m.\u001b[39;49m\u001b[43mname\u001b[49m\u001b[43m)\u001b[49m\n\u001b[1;32m   1325\u001b[0m \u001b[38;5;28;01mfor\u001b[39;00m temp_arg \u001b[38;5;129;01min\u001b[39;00m temp_args:\n\u001b[1;32m   1326\u001b[0m     \u001b[38;5;28;01mif\u001b[39;00m \u001b[38;5;28mhasattr\u001b[39m(temp_arg, \u001b[38;5;124m\"\u001b[39m\u001b[38;5;124m_detach\u001b[39m\u001b[38;5;124m\"\u001b[39m):\n",
      "File \u001b[0;32m/usr/lib/spark/python/pyspark/errors/exceptions/captured.py:185\u001b[0m, in \u001b[0;36mcapture_sql_exception.<locals>.deco\u001b[0;34m(*a, **kw)\u001b[0m\n\u001b[1;32m    181\u001b[0m converted \u001b[38;5;241m=\u001b[39m convert_exception(e\u001b[38;5;241m.\u001b[39mjava_exception)\n\u001b[1;32m    182\u001b[0m \u001b[38;5;28;01mif\u001b[39;00m \u001b[38;5;129;01mnot\u001b[39;00m \u001b[38;5;28misinstance\u001b[39m(converted, UnknownException):\n\u001b[1;32m    183\u001b[0m     \u001b[38;5;66;03m# Hide where the exception came from that shows a non-Pythonic\u001b[39;00m\n\u001b[1;32m    184\u001b[0m     \u001b[38;5;66;03m# JVM exception message.\u001b[39;00m\n\u001b[0;32m--> 185\u001b[0m     \u001b[38;5;28;01mraise\u001b[39;00m converted \u001b[38;5;28;01mfrom\u001b[39;00m\u001b[38;5;250m \u001b[39m\u001b[38;5;28;01mNone\u001b[39;00m\n\u001b[1;32m    186\u001b[0m \u001b[38;5;28;01melse\u001b[39;00m:\n\u001b[1;32m    187\u001b[0m     \u001b[38;5;28;01mraise\u001b[39;00m\n",
      "\u001b[0;31mAnalysisException\u001b[0m: [UNRESOLVED_COLUMN.WITH_SUGGESTION] A column or function parameter with name `actionType2` cannot be resolved. Did you mean one of the following? [`chromosome`, `clpp`, `colocDoE`, `name`, `score`].;\n'Pivot ArrayBuffer(targetId#2088, diseaseId#2170, maxClinPhase#6197, drugLoF_protect#11720L, drugGoF_protect#11714L, 'actionType2), colocDoE#2044: string, [null, GoF_protect, GoF_risk, LoF_protect, LoF_risk], [count(1)]\n+- Project [biosampleId#1002, targetId#2088, diseaseId#2170, leftStudyLocusId#1077, rightStudyId#1140, rightStudyLocusId#1078, chromosome#1079, rightStudyType#1080, numberColocalisingVariants#1081L, clpp#1082, colocalisationMethod#1083, betaRatioSignAverage#1084, h0#1094, h1#1095, h2#1096, h3#1097, h4#1098, leftStudyId#1115, leftVariantId#1116, credibleLeftStudyType#1117, rightVariantId#1141, credibleRightStudyType#1142, qtlPValueExponent#1143, isTransQtl#1176, ... 23 more fields]\n   +- Join LeftOuter, (biosampleId#1002 = biosampleId#1059)\n      :- Project [targetId#2088, diseaseId#2170, leftStudyLocusId#1077, rightStudyId#1140, rightStudyLocusId#1078, chromosome#1079, rightStudyType#1080, numberColocalisingVariants#1081L, clpp#1082, colocalisationMethod#1083, betaRatioSignAverage#1084, h0#1094, h1#1095, h2#1096, h3#1097, h4#1098, leftStudyId#1115, leftVariantId#1116, credibleLeftStudyType#1117, rightVariantId#1141, credibleRightStudyType#1142, qtlPValueExponent#1143, isTransQtl#1176, projectId#975, ... 22 more fields]\n      :  +- Project [targetId#2088, diseaseId#2170, leftStudyLocusId#1077, rightStudyId#1140, rightStudyLocusId#1078, chromosome#1079, rightStudyType#1080, numberColocalisingVariants#1081L, clpp#1082, colocalisationMethod#1083, betaRatioSignAverage#1084, h0#1094, h1#1095, h2#1096, h3#1097, h4#1098, leftStudyId#1115, leftVariantId#1116, credibleLeftStudyType#1117, rightVariantId#1141, credibleRightStudyType#1142, qtlPValueExponent#1143, isTransQtl#1176, projectId#975, ... 21 more fields]\n      :     +- Join RightOuter, ((targetId#1801 = targetId#2088) AND (diseaseId#1960 = diseaseId#2170))\n      :        :- Filter NOT (name#691 = COVID-19)\n      :        :  +- Filter ((clpp#1082 >= 0.01) OR (h4#1098 >= 0.8))\n      :        :     +- Project [diseaseId#1960, leftStudyLocusId#1077, targetId#1801, rightStudyId#1140, rightStudyLocusId#1078, chromosome#1079, rightStudyType#1080, numberColocalisingVariants#1081L, clpp#1082, colocalisationMethod#1083, betaRatioSignAverage#1084, h0#1094, h1#1095, h2#1096, h3#1097, h4#1098, leftStudyId#1115, leftVariantId#1116, credibleLeftStudyType#1117, rightVariantId#1141, credibleRightStudyType#1142, qtlPValueExponent#1143, isTransQtl#1176, projectId#975, ... 18 more fields]\n      :        :        +- Project [diseaseId#1960, leftStudyLocusId#1077, targetId#1801, rightStudyId#1140, rightStudyLocusId#1078, chromosome#1079, rightStudyType#1080, numberColocalisingVariants#1081L, clpp#1082, colocalisationMethod#1083, betaRatioSignAverage#1084, h0#1094, h1#1095, h2#1096, h3#1097, h4#1098, leftStudyId#1115, leftVariantId#1116, credibleLeftStudyType#1117, rightVariantId#1141, credibleRightStudyType#1142, qtlPValueExponent#1143, isTransQtl#1176, projectId#975, ... 17 more fields]\n      :        :           +- Project [diseaseId#1960, leftStudyLocusId#1077, targetId#1801, rightStudyId#1140, rightStudyLocusId#1078, chromosome#1079, rightStudyType#1080, numberColocalisingVariants#1081L, clpp#1082, colocalisationMethod#1083, betaRatioSignAverage#1084, h0#1094, h1#1095, h2#1096, h3#1097, h4#1098, leftStudyId#1115, leftVariantId#1116, credibleLeftStudyType#1117, rightVariantId#1141, credibleRightStudyType#1142, qtlPValueExponent#1143, isTransQtl#1176, projectId#975, ... 18 more fields]\n      :        :              +- Generate explode(concat(array(diseaseId#800), parents#694)), true, [diseaseId#1960]\n      :        :                 +- Project [diseaseId#800, leftStudyLocusId#1077, targetId#1801, rightStudyId#1140, rightStudyLocusId#1078, chromosome#1079, rightStudyType#1080, numberColocalisingVariants#1081L, clpp#1082, colocalisationMethod#1083, betaRatioSignAverage#1084, h0#1094, h1#1095, h2#1096, h3#1097, h4#1098, leftStudyId#1115, leftVariantId#1116, credibleLeftStudyType#1117, rightVariantId#1141, credibleRightStudyType#1142, qtlPValueExponent#1143, isTransQtl#1176, projectId#975, ... 18 more fields]\n      :        :                    +- Join LeftOuter, (diseaseId#800 = diseaseId#1911)\n      :        :                       :- Project [leftStudyLocusId#1077, targetId#1801, rightStudyId#1140, rightStudyLocusId#1078, chromosome#1079, rightStudyType#1080, numberColocalisingVariants#1081L, clpp#1082, colocalisationMethod#1083, betaRatioSignAverage#1084, h0#1094, h1#1095, h2#1096, h3#1097, h4#1098, leftStudyId#1115, leftVariantId#1116, credibleLeftStudyType#1117, rightVariantId#1141, credibleRightStudyType#1142, qtlPValueExponent#1143, isTransQtl#1176, projectId#975, indexStudyType#1200, ... 15 more fields]\n      :        :                       :  +- Join Inner, ((leftStudyLocusId#1077 = leftStudyLocusId#1828) AND (targetId#1801 = targetId#718))\n      :        :                       :     :- Project [rightStudyId#1140, rightStudyLocusId#1078, leftStudyLocusId#1077, chromosome#1079, rightStudyType#1080, numberColocalisingVariants#1081L, clpp#1082, colocalisationMethod#1083, betaRatioSignAverage#1084, h0#1094, h1#1095, h2#1096, h3#1097, h4#1098, leftStudyId#1115, leftVariantId#1116, credibleLeftStudyType#1117, rightVariantId#1141, credibleRightStudyType#1142, qtlPValueExponent#1143, isTransQtl#1176, geneId#974 AS targetId#1801, projectId#975, indexStudyType#1200, ... 2 more fields]\n      :        :                       :     :  +- Project [rightStudyId#1140, rightStudyLocusId#1078, leftStudyLocusId#1077, chromosome#1079, rightStudyType#1080, numberColocalisingVariants#1081L, clpp#1082, colocalisationMethod#1083, betaRatioSignAverage#1084, h0#1094, h1#1095, h2#1096, h3#1097, h4#1098, leftStudyId#1115, leftVariantId#1116, credibleLeftStudyType#1117, rightVariantId#1141, credibleRightStudyType#1142, qtlPValueExponent#1143, isTransQtl#1176, geneId#974, projectId#975, indexStudyType#1200, ... 2 more fields]\n      :        :                       :     :     +- Join LeftOuter, (rightStudyId#1140 = rightStudyId#1199)\n      :        :                       :     :        :- Project [rightStudyLocusId#1078, leftStudyLocusId#1077, chromosome#1079, rightStudyType#1080, numberColocalisingVariants#1081L, clpp#1082, colocalisationMethod#1083, betaRatioSignAverage#1084, h0#1094, h1#1095, h2#1096, h3#1097, h4#1098, leftStudyId#1115, leftVariantId#1116, credibleLeftStudyType#1117, rightStudyId#1140, rightVariantId#1141, credibleRightStudyType#1142, qtlPValueExponent#1143, isTransQtl#1176]\n      :        :                       :     :        :  +- Join LeftOuter, (rightStudyLocusId#1078 = rightStudyLocusId#1139)\n      :        :                       :     :        :     :- Project [leftStudyLocusId#1077, rightStudyLocusId#1078, chromosome#1079, rightStudyType#1080, numberColocalisingVariants#1081L, clpp#1082, colocalisationMethod#1083, betaRatioSignAverage#1084, h0#1094, h1#1095, h2#1096, h3#1097, h4#1098, leftStudyId#1115, leftVariantId#1116, credibleLeftStudyType#1117]\n      :        :                       :     :        :     :  +- Join LeftOuter, (leftStudyLocusId#1077 = leftStudyLocusId#1114)\n      :        :                       :     :        :     :     :- Union false, false\n      :        :                       :     :        :     :     :  :- Project [leftStudyLocusId#1077, rightStudyLocusId#1078, chromosome#1079, rightStudyType#1080, numberColocalisingVariants#1081L, clpp#1082, colocalisationMethod#1083, betaRatioSignAverage#1084, null AS h0#1094, null AS h1#1095, null AS h2#1096, null AS h3#1097, null AS h4#1098]\n      :        :                       :     :        :     :     :  :  +- Relation [leftStudyLocusId#1077,rightStudyLocusId#1078,chromosome#1079,rightStudyType#1080,numberColocalisingVariants#1081L,clpp#1082,colocalisationMethod#1083,betaRatioSignAverage#1084] parquet\n      :        :                       :     :        :     :     :  +- Project [leftStudyLocusId#949, rightStudyLocusId#950, chromosome#951, rightStudyType#952, numberColocalisingVariants#953L, null AS clpp#1093, colocalisationMethod#959, betaRatioSignAverage#960, h0#954, h1#955, h2#956, h3#957, h4#958]\n      :        :                       :     :        :     :     :     +- Relation [leftStudyLocusId#949,rightStudyLocusId#950,chromosome#951,rightStudyType#952,numberColocalisingVariants#953L,h0#954,h1#955,h2#956,h3#957,h4#958,colocalisationMethod#959,betaRatioSignAverage#960] parquet\n      :        :                       :     :        :     :     +- Project [studyLocusId#895 AS leftStudyLocusId#1114, StudyId#896 AS leftStudyId#1115, variantId#897 AS leftVariantId#1116, studyType#920 AS credibleLeftStudyType#1117]\n      :        :                       :     :        :     :        +- Relation [studyLocusId#895,studyId#896,variantId#897,chromosome#898,position#899,region#900,beta#901,zScore#902,pValueMantissa#903,pValueExponent#904,effectAlleleFrequencyFromSource#905,standardError#906,subStudyDescription#907,qualityControls#908,finemappingMethod#909,credibleSetIndex#910,credibleSetlog10BF#911,purityMeanR2#912,purityMinR2#913,locusStart#914,locusEnd#915,sampleSize#916,ldSet#917,locus#918,... 3 more fields] parquet\n      :        :                       :     :        :     +- Project [studyLocusId#1150 AS rightStudyLocusId#1139, studyId#1151 AS rightStudyId#1140, variantId#1152 AS rightVariantId#1141, studyType#1175 AS credibleRightStudyType#1142, pValueExponent#1159 AS qtlPValueExponent#1143, isTransQtl#1176]\n      :        :                       :     :        :        +- Relation [studyLocusId#1150,studyId#1151,variantId#1152,chromosome#1153,position#1154,region#1155,beta#1156,zScore#1157,pValueMantissa#1158,pValueExponent#1159,effectAlleleFrequencyFromSource#1160,standardError#1161,subStudyDescription#1162,qualityControls#1163,finemappingMethod#1164,credibleSetIndex#1165,credibleSetlog10BF#1166,purityMeanR2#1167,purityMinR2#1168,locusStart#1169,locusEnd#1170,sampleSize#1171,ldSet#1172,locus#1173,... 3 more fields] parquet\n      :        :                       :     :        +- Project [studyId#973 AS rightStudyId#1199, geneId#974, projectId#975, studyType#976 AS indexStudyType#1200, condition#998, biosampleId#1002]\n      :        :                       :     :           +- Relation [studyId#973,geneId#974,projectId#975,studyType#976,traitFromSource#977,traitFromSourceMappedIds#978,biosampleFromSourceId#979,pubmedId#980,publicationTitle#981,publicationFirstAuthor#982,publicationDate#983,publicationJournal#984,backgroundTraitFromSourceMappedIds#985,initialSampleSize#986,nCases#987,nControls#988,nSamples#989,cohorts#990,ldPopulationStructure#991,discoverySamples#992,replicationSamples#993,qualityControls#994,analysisFlags#995,summarystatsLocation#996,... 6 more fields] parquet\n      :        :                       :     +- Project [studyLocusId#798 AS leftStudyLocusId#1828, datasourceId#717, targetId#718, datatypeId#743, diseaseFromSourceMappedId#747, resourceScore#769, targetFromSourceId#784, diseaseId#800, id#801, score#802, sourceId#805, studyId#1845, variantId#1846, betaGwas#1780, pValueExponent#1853]\n      :        :                       :        +- Project [studyLocusId#798, datasourceId#717, targetId#718, datatypeId#743, diseaseFromSourceMappedId#747, resourceScore#769, targetFromSourceId#784, diseaseId#800, id#801, score#802, sourceId#805, studyId#1845, variantId#1846, betaGwas#1780, pValueExponent#1853]\n      :        :                       :           +- Join LeftOuter, (studyLocusId#798 = studyLocusId#1844)\n      :        :                       :              :- Project [datasourceId#717, targetId#718, datatypeId#743, diseaseFromSourceMappedId#747, resourceScore#769, targetFromSourceId#784, studyLocusId#798, diseaseId#800, id#801, score#802, sourceId#805]\n      :        :                       :              :  +- Filter (datasourceId#717 = gwas_credible_sets)\n      :        :                       :              :     +- Relation [datasourceId#717,targetId#718,alleleOrigins#719,allelicRequirements#720,ancestry#721,ancestryId#722,beta#723,betaConfidenceIntervalLower#724,betaConfidenceIntervalUpper#725,biologicalModelAllelicComposition#726,biologicalModelGeneticBackground#727,biologicalModelId#728,biomarkerName#729,biomarkers#730,biosamplesFromSource#731,cellType#732,clinicalPhase#733,clinicalSignificances#734,clinicalStatus#735,cohortDescription#736,cohortId#737,cohortPhenotypes#738,cohortShortName#739,confidence#740,... 65 more fields] parquet\n      :        :                       :              +- Project [studyLocusId#1844, studyId#1845, variantId#1846, beta#1850 AS betaGwas#1780, pValueExponent#1853]\n      :        :                       :                 +- Relation [studyLocusId#1844,studyId#1845,variantId#1846,chromosome#1847,position#1848,region#1849,beta#1850,zScore#1851,pValueMantissa#1852,pValueExponent#1853,effectAlleleFrequencyFromSource#1854,standardError#1855,subStudyDescription#1856,qualityControls#1857,finemappingMethod#1858,credibleSetIndex#1859,credibleSetlog10BF#1860,purityMeanR2#1861,purityMinR2#1862,locusStart#1863,locusEnd#1864,sampleSize#1865,ldSet#1866,locus#1867,... 3 more fields] parquet\n      :        :                       +- Project [id#689 AS diseaseId#1911, name#691, parents#694, therapeuticAreas#700]\n      :        :                          +- Relation [id#689,code#690,name#691,description#692,dbXRefs#693,parents#694,synonyms#695,obsoleteTerms#696,obsoleteXRefs#697,children#698,ancestors#699,therapeuticAreas#700,descendants#701,ontology#702] parquet\n      :        +- Project [targetId#2088, diseaseId#2170, maxClinPhase#6197, drugGoF_protect#11714L, LoF_protect#9894L AS drugLoF_protect#11720L]\n      :           +- Project [targetId#2088, diseaseId#2170, maxClinPhase#6197, GoF_protect#9893L AS drugGoF_protect#11714L, LoF_protect#9894L]\n      :              +- Project [targetId#2088, diseaseId#2170, maxClinPhase#6197, GoF_protect#9893L, LoF_protect#9894L]\n      :                 +- Project [targetId#2088, diseaseId#2170, maxClinPhase#6197, GoF_protect#9893L, LoF_protect#9894L, noEvaluable#9895L, GoF_risk#9908, LoF_risk#11522, coherencyDiagonal#11688, CASE WHEN ((((isnull(LoF_risk#11522) AND isnull(LoF_protect#9894L)) AND isnull(GoF_risk#9908)) AND isnull(GoF_protect#9893L)) AND isnull(noEvaluable#9895L)) THEN noEvid WHEN ((((isnull(LoF_risk#11522) AND isnull(LoF_protect#9894L)) AND isnull(GoF_risk#9908)) AND isnull(GoF_protect#9893L)) AND isnotnull(noEvaluable#9895L)) THEN EvidNotDoE WHEN (((isnotnull(LoF_risk#11522) OR isnotnull(LoF_protect#9894L)) OR isnotnull(GoF_risk#9908)) OR isnotnull(GoF_protect#9893L)) THEN CASE WHEN (isnotnull(LoF_risk#11522) AND ((isnull(LoF_protect#9894L) AND isnull(GoF_risk#9908)) AND isnull(GoF_protect#9893L))) THEN coherent WHEN (isnotnull(GoF_risk#9908) AND ((isnull(LoF_protect#9894L) AND isnull(LoF_risk#11522)) AND isnull(GoF_protect#9893L))) THEN coherent WHEN (isnotnull(LoF_protect#9894L) AND ((isnull(LoF_risk#11522) AND isnull(GoF_risk#9908)) AND isnull(GoF_protect#9893L))) THEN coherent WHEN (isnotnull(GoF_protect#9893L) AND ((isnull(LoF_protect#9894L) AND isnull(GoF_risk#9908)) AND isnull(LoF_risk#11522))) THEN coherent ELSE dispar END END AS coherencyOneCell#11698]\n      :                    +- Project [targetId#2088, diseaseId#2170, maxClinPhase#6197, GoF_protect#9893L, LoF_protect#9894L, noEvaluable#9895L, GoF_risk#9908, LoF_risk#11522, CASE WHEN ((((isnull(LoF_risk#11522) AND isnull(LoF_protect#9894L)) AND isnull(GoF_risk#9908)) AND isnull(GoF_protect#9893L)) AND isnull(noEvaluable#9895L)) THEN noEvid WHEN ((((isnull(LoF_risk#11522) AND isnull(LoF_protect#9894L)) AND isnull(GoF_risk#9908)) AND isnull(GoF_protect#9893L)) AND isnotnull(noEvaluable#9895L)) THEN EvidNotDoE WHEN (((isnotnull(LoF_risk#11522) OR isnotnull(LoF_protect#9894L)) OR isnotnull(GoF_risk#9908)) OR isnotnull(GoF_protect#9893L)) THEN CASE WHEN (isnotnull(GoF_risk#9908) AND isnotnull(LoF_risk#11522)) THEN dispar WHEN (isnotnull(LoF_protect#9894L) AND isnotnull(LoF_risk#11522)) THEN dispar WHEN (isnotnull(GoF_protect#9893L) AND isnotnull(GoF_risk#9908)) THEN dispar WHEN (isnotnull(GoF_protect#9893L) AND isnotnull(LoF_protect#9894L)) THEN dispar ELSE coherent END END AS coherencyDiagonal#11688]\n      :                       +- Project [targetId#2088, diseaseId#2170, maxClinPhase#6197, GoF_protect#9893L, LoF_protect#9894L, noEvaluable#9895L, GoF_risk#9908, null AS LoF_risk#11522]\n      :                          +- Project [targetId#2088, diseaseId#2170, maxClinPhase#6197, GoF_protect#9893L, LoF_protect#9894L, noEvaluable#9895L, null AS GoF_risk#9908]\n      :                             +- Project [targetId#2088, diseaseId#2170, maxClinPhase#6197, __pivot_count(targetId) AS `count(targetId)`#9892[0] AS GoF_protect#9893L, __pivot_count(targetId) AS `count(targetId)`#9892[1] AS LoF_protect#9894L, __pivot_count(targetId) AS `count(targetId)`#9892[2] AS noEvaluable#9895L]\n      :                                +- Aggregate [targetId#2088, diseaseId#2170, maxClinPhase#6197], [targetId#2088, diseaseId#2170, maxClinPhase#6197, pivotfirst(homogenized#4208, count(targetId)#9884L, GoF_protect, LoF_protect, noEvaluable, 0, 0) AS __pivot_count(targetId) AS `count(targetId)`#9892]\n      :                                   +- Aggregate [targetId#2088, diseaseId#2170, maxClinPhase#6197, homogenized#4208], [targetId#2088, diseaseId#2170, maxClinPhase#6197, homogenized#4208, count(targetId#2088) AS count(targetId)#9884L]\n      :                                      +- Project [datasourceId#2087, targetId#2088, alleleOrigins#2089, allelicRequirements#2090, ancestry#2091, ancestryId#2092, beta#2931, betaConfidenceIntervalLower#2094, betaConfidenceIntervalUpper#2095, biologicalModelAllelicComposition#2096, biologicalModelGeneticBackground#2097, biologicalModelId#2098, biomarkerName#2099, biomarkers#2100, biosamplesFromSource#2101, cellType#2102, clinicalPhase#2103, clinicalSignificances#3113, clinicalStatus#2105, cohortDescription#2106, cohortId#2107, cohortPhenotypes#2108, cohortShortName#2109, confidence#2110, ... 80 more fields]\n      :                                         +- Project [datasourceId#2087, targetId#2088, alleleOrigins#2089, allelicRequirements#2090, ancestry#2091, ancestryId#2092, beta#2931, betaConfidenceIntervalLower#2094, betaConfidenceIntervalUpper#2095, biologicalModelAllelicComposition#2096, biologicalModelGeneticBackground#2097, biologicalModelId#2098, biomarkerName#2099, biomarkers#2100, biosamplesFromSource#2101, cellType#2102, clinicalPhase#2103, clinicalSignificances#3113, clinicalStatus#2105, cohortDescription#2106, cohortId#2107, cohortPhenotypes#2108, cohortShortName#2109, confidence#2110, ... 81 more fields]\n      :                                            +- Window [max(clinicalPhase#2103) windowspecdefinition(targetId#2088, diseaseId#2170, specifiedwindowframe(RowFrame, unboundedpreceding$(), unboundedfollowing$())) AS maxClinPhase#6197], [targetId#2088, diseaseId#2170]\n      :                                               +- Project [datasourceId#2087, targetId#2088, alleleOrigins#2089, allelicRequirements#2090, ancestry#2091, ancestryId#2092, beta#2931, betaConfidenceIntervalLower#2094, betaConfidenceIntervalUpper#2095, biologicalModelAllelicComposition#2096, biologicalModelGeneticBackground#2097, biologicalModelId#2098, biomarkerName#2099, biomarkers#2100, biosamplesFromSource#2101, cellType#2102, clinicalPhase#2103, clinicalSignificances#3113, clinicalStatus#2105, cohortDescription#2106, cohortId#2107, cohortPhenotypes#2108, cohortShortName#2109, confidence#2110, ... 79 more fields]\n      :                                                  +- Filter (datasourceId#2087 = chembl)\n      :                                                     +- Project [datasourceId#2087, targetId#2088, alleleOrigins#2089, allelicRequirements#2090, ancestry#2091, ancestryId#2092, beta#2931, betaConfidenceIntervalLower#2094, betaConfidenceIntervalUpper#2095, biologicalModelAllelicComposition#2096, biologicalModelGeneticBackground#2097, biologicalModelId#2098, biomarkerName#2099, biomarkers#2100, biosamplesFromSource#2101, cellType#2102, clinicalPhase#2103, clinicalSignificances#3113, clinicalStatus#2105, cohortDescription#2106, cohortId#2107, cohortPhenotypes#2108, cohortShortName#2109, confidence#2110, ... 79 more fields]\n      :                                                        +- Project [datasourceId#2087, targetId#2088, alleleOrigins#2089, allelicRequirements#2090, ancestry#2091, ancestryId#2092, beta#2931, betaConfidenceIntervalLower#2094, betaConfidenceIntervalUpper#2095, biologicalModelAllelicComposition#2096, biologicalModelGeneticBackground#2097, biologicalModelId#2098, biomarkerName#2099, biomarkers#2100, biosamplesFromSource#2101, cellType#2102, clinicalPhase#2103, clinicalSignificances#3113, clinicalStatus#2105, cohortDescription#2106, cohortId#2107, cohortPhenotypes#2108, cohortShortName#2109, confidence#2110, ... 78 more fields]\n      :                                                           +- Project [datasourceId#2087, targetId#2088, alleleOrigins#2089, allelicRequirements#2090, ancestry#2091, ancestryId#2092, beta#2931, betaConfidenceIntervalLower#2094, betaConfidenceIntervalUpper#2095, biologicalModelAllelicComposition#2096, biologicalModelGeneticBackground#2097, biologicalModelId#2098, biomarkerName#2099, biomarkers#2100, biosamplesFromSource#2101, cellType#2102, clinicalPhase#2103, clinicalSignificances#3113, clinicalStatus#2105, cohortDescription#2106, cohortId#2107, cohortPhenotypes#2108, cohortShortName#2109, confidence#2110, ... 78 more fields]\n      :                                                              +- Project [datasourceId#2087, targetId#2088, alleleOrigins#2089, allelicRequirements#2090, ancestry#2091, ancestryId#2092, beta#2931, betaConfidenceIntervalLower#2094, betaConfidenceIntervalUpper#2095, biologicalModelAllelicComposition#2096, biologicalModelGeneticBackground#2097, biologicalModelId#2098, biomarkerName#2099, biomarkers#2100, biosamplesFromSource#2101, cellType#2102, clinicalPhase#2103, clinicalSignificances#3113, clinicalStatus#2105, cohortDescription#2106, cohortId#2107, cohortPhenotypes#2108, cohortShortName#2109, confidence#2110, ... 78 more fields]\n      :                                                                 +- Project [datasourceId#2087, targetId#2088, alleleOrigins#2089, allelicRequirements#2090, ancestry#2091, ancestryId#2092, beta#2931, betaConfidenceIntervalLower#2094, betaConfidenceIntervalUpper#2095, biologicalModelAllelicComposition#2096, biologicalModelGeneticBackground#2097, biologicalModelId#2098, biomarkerName#2099, biomarkers#2100, biosamplesFromSource#2101, cellType#2102, clinicalPhase#2103, clinicalSignificances#3113, clinicalStatus#2105, cohortDescription#2106, cohortId#2107, cohortPhenotypes#2108, cohortShortName#2109, confidence#2110, ... 79 more fields]\n      :                                                                    +- Window [collect_set(intogen_function#3791, 0, 0) windowspecdefinition(targetId#2088, diseaseId#2170, specifiedwindowframe(RowFrame, unboundedpreceding$(), unboundedfollowing$())) AS _we0#3897], [targetId#2088, diseaseId#2170]\n      :                                                                       +- Project [datasourceId#2087, targetId#2088, alleleOrigins#2089, allelicRequirements#2090, ancestry#2091, ancestryId#2092, beta#2931, betaConfidenceIntervalLower#2094, betaConfidenceIntervalUpper#2095, biologicalModelAllelicComposition#2096, biologicalModelGeneticBackground#2097, biologicalModelId#2098, biomarkerName#2099, biomarkers#2100, biosamplesFromSource#2101, cellType#2102, clinicalPhase#2103, clinicalSignificances#3113, clinicalStatus#2105, cohortDescription#2106, cohortId#2107, cohortPhenotypes#2108, cohortShortName#2109, confidence#2110, ... 77 more fields]\n      :                                                                          +- Project [datasourceId#2087, targetId#2088, alleleOrigins#2089, allelicRequirements#2090, ancestry#2091, ancestryId#2092, beta#2931, betaConfidenceIntervalLower#2094, betaConfidenceIntervalUpper#2095, biologicalModelAllelicComposition#2096, biologicalModelGeneticBackground#2097, biologicalModelId#2098, biomarkerName#2099, biomarkers#2100, biosamplesFromSource#2101, cellType#2102, clinicalPhase#2103, clinicalSignificances#3113, clinicalStatus#2105, cohortDescription#2106, cohortId#2107, cohortPhenotypes#2108, cohortShortName#2109, confidence#2110, ... 77 more fields]\n      :                                                                             +- Project [datasourceId#2087, targetId#2088, alleleOrigins#2089, allelicRequirements#2090, ancestry#2091, ancestryId#2092, beta#2931, betaConfidenceIntervalLower#2094, betaConfidenceIntervalUpper#2095, biologicalModelAllelicComposition#2096, biologicalModelGeneticBackground#2097, biologicalModelId#2098, biomarkerName#2099, biomarkers#2100, biosamplesFromSource#2101, cellType#2102, clinicalPhase#2103, clinicalSignificances#3113, clinicalStatus#2105, cohortDescription#2106, cohortId#2107, cohortPhenotypes#2108, cohortShortName#2109, confidence#2110, ... 76 more fields]\n      :                                                                                +- Project [datasourceId#2087, targetId#2088, alleleOrigins#2089, allelicRequirements#2090, ancestry#2091, ancestryId#2092, beta#2931, betaConfidenceIntervalLower#2094, betaConfidenceIntervalUpper#2095, biologicalModelAllelicComposition#2096, biologicalModelGeneticBackground#2097, biologicalModelId#2098, biomarkerName#2099, biomarkers#2100, biosamplesFromSource#2101, cellType#2102, clinicalPhase#2103, clinicalSignificances#3113, clinicalStatus#2105, cohortDescription#2106, cohortId#2107, cohortPhenotypes#2108, cohortShortName#2109, confidence#2110, ... 75 more fields]\n      :                                                                                   +- Join LeftOuter, ((drugId2#2875 = drugId#2121) AND (targetId2#2882 = targetId#2088))\n      :                                                                                      :- Join LeftOuter, (target_id#2925 = targetId#2088)\n      :                                                                                      :  :- Project [datasourceId#2087, targetId#2088, alleleOrigins#2089, allelicRequirements#2090, ancestry#2091, ancestryId#2092, beta#2931, betaConfidenceIntervalLower#2094, betaConfidenceIntervalUpper#2095, biologicalModelAllelicComposition#2096, biologicalModelGeneticBackground#2097, biologicalModelId#2098, biomarkerName#2099, biomarkers#2100, biosamplesFromSource#2101, cellType#2102, clinicalPhase#2103, concat_ws(,, clinicalSignificances#2104) AS clinicalSignificances#3113, clinicalStatus#2105, cohortDescription#2106, cohortId#2107, cohortPhenotypes#2108, cohortShortName#2109, confidence#2110, ... 66 more fields]\n      :                                                                                      :  :  +- Project [datasourceId#2087, targetId#2088, alleleOrigins#2089, allelicRequirements#2090, ancestry#2091, ancestryId#2092, beta#2931, betaConfidenceIntervalLower#2094, betaConfidenceIntervalUpper#2095, biologicalModelAllelicComposition#2096, biologicalModelGeneticBackground#2097, biologicalModelId#2098, biomarkerName#2099, biomarkers#2100, biosamplesFromSource#2101, cellType#2102, clinicalPhase#2103, clinicalSignificances#2104, clinicalStatus#2105, cohortDescription#2106, cohortId#2107, cohortPhenotypes#2108, cohortShortName#2109, confidence#2110, ... 66 more fields]\n      :                                                                                      :  :     +- Project [datasourceId#2087, targetId#2088, alleleOrigins#2089, allelicRequirements#2090, ancestry#2091, ancestryId#2092, cast(beta#2093 as double) AS beta#2931, betaConfidenceIntervalLower#2094, betaConfidenceIntervalUpper#2095, biologicalModelAllelicComposition#2096, biologicalModelGeneticBackground#2097, biologicalModelId#2098, biomarkerName#2099, biomarkers#2100, biosamplesFromSource#2101, cellType#2102, clinicalPhase#2103, clinicalSignificances#2104, clinicalStatus#2105, cohortDescription#2106, cohortId#2107, cohortPhenotypes#2108, cohortShortName#2109, confidence#2110, ... 66 more fields]\n      :                                                                                      :  :        +- Project [datasourceId#2087, targetId#2088, alleleOrigins#2089, allelicRequirements#2090, ancestry#2091, ancestryId#2092, beta#2093, betaConfidenceIntervalLower#2094, betaConfidenceIntervalUpper#2095, biologicalModelAllelicComposition#2096, biologicalModelGeneticBackground#2097, biologicalModelId#2098, biomarkerName#2099, biomarkers#2100, biosamplesFromSource#2101, cellType#2102, clinicalPhase#2103, clinicalSignificances#2104, clinicalStatus#2105, cohortDescription#2106, cohortId#2107, cohortPhenotypes#2108, cohortShortName#2109, confidence#2110, ... 66 more fields]\n      :                                                                                      :  :           +- Filter datasourceId#2087 IN (gwas_credible_sets,gene_burden,eva,eva_somatic,gene2phenotype,orphanet,cancer_gene_census,intogen,impc,chembl)\n      :                                                                                      :  :              +- Relation [datasourceId#2087,targetId#2088,alleleOrigins#2089,allelicRequirements#2090,ancestry#2091,ancestryId#2092,beta#2093,betaConfidenceIntervalLower#2094,betaConfidenceIntervalUpper#2095,biologicalModelAllelicComposition#2096,biologicalModelGeneticBackground#2097,biologicalModelId#2098,biomarkerName#2099,biomarkers#2100,biosamplesFromSource#2101,cellType#2102,clinicalPhase#2103,clinicalSignificances#2104,clinicalStatus#2105,cohortDescription#2106,cohortId#2107,cohortPhenotypes#2108,cohortShortName#2109,confidence#2110,... 65 more fields] parquet\n      :                                                                                      :  +- Project [id#2802 AS target_id#2925, approvedSymbol#2803, description#2910, description_splited#2914, TSorOncogene#2919]\n      :                                                                                      :     +- Project [id#2802, approvedSymbol#2803, description#2910, description_splited#2914, CASE WHEN (RLIKE(description_splited#2914, ncogene) AND RLIKE(description_splited#2914, TSG)) THEN bivalent WHEN RLIKE(description_splited#2914, ncogene(\\s|$)) THEN oncogene WHEN RLIKE(description_splited#2914, TSG(\\s|$)) THEN TSG ELSE noEvaluable END AS TSorOncogene#2919]\n      :                                                                                      :        +- Project [id#2802, approvedSymbol#2803, description#2910, concat_ws(,, description#2910) AS description_splited#2914]\n      :                                                                                      :           +- Aggregate [id#2802, approvedSymbol#2803], [id#2802, approvedSymbol#2803, collect_set(description#2902, 0, 0) AS description#2910]\n      :                                                                                      :              +- Filter description#2902 IN (TSG,oncogene,Oncogene,oncogene,oncogene,TSG,TSG,oncogene,fusion,oncogene,oncogene,fusion)\n      :                                                                                      :                 +- Project [id#2802, approvedSymbol#2803, col#2897.description AS description#2902]\n      :                                                                                      :                    +- Project [id#2802, approvedSymbol#2803, col#2897]\n      :                                                                                      :                       +- Generate explode(hallmarks#2812.attributes), true, [col#2897]\n      :                                                                                      :                          +- Relation [id#2802,approvedSymbol#2803,biotype#2804,transcriptIds#2805,canonicalTranscript#2806,canonicalExons#2807,genomicLocation#2808,alternativeGenes#2809,approvedName#2810,go#2811,hallmarks#2812,synonyms#2813,symbolSynonyms#2814,nameSynonyms#2815,functionDescriptions#2816,subcellularLocations#2817,targetClass#2818,obsoleteSymbols#2819,obsoleteNames#2820,constraint#2821,tep#2822,proteinIds#2823,dbXrefs#2824,chemicalProbes#2825,... 5 more fields] parquet\n      :                                                                                      +- Aggregate [targetId2#2882, drugId2#2875], [targetId2#2882, drugId2#2875, collect_set(actionType#2860, 0, 0) AS actionType#2892]\n      :                                                                                         +- Project [targetId2#2882, drugId2#2875, actionType#2860, mechanismOfAction#2861]\n      :                                                                                            +- Generate explode(targets#2865), true, [targetId2#2882]\n      :                                                                                               +- Project [drugId2#2875, actionType#2860, mechanismOfAction#2861, targets#2865]\n      :                                                                                                  +- Generate explode(chemblIds#2862), true, [drugId2#2875]\n      :                                                                                                     +- Relation [actionType#2860,mechanismOfAction#2861,chemblIds#2862,targetName#2863,targetType#2864,targets#2865,references#2866] parquet\n      +- Project [biosampleId#1059, biosampleName#1060]\n         +- Relation [biosampleId#1059,biosampleName#1060,description#1061,xrefs#1062,synonyms#1063,parents#1064,ancestors#1065,children#1066,descendants#1067] parquet\n"
     ]
    }
   ],
   "source": [
    "test=discrepancifier(\n",
    "    benchmark.groupBy(\n",
    "        \"targetId\", \"diseaseId\", \"maxClinPhase\", \"drugLoF_protect\", \"drugGoF_protect\", 'actionType2'\n",
    "    )\n",
    "    .pivot(\"colocDoE\")\n",
    "    .count()\n",
    "    .withColumnRenamed('drugLoF_protect', 'LoF_protect_ch')\n",
    "    .withColumnRenamed('drugGoF_protect', 'GoF_protect_ch')\n",
    "\n",
    ").withColumn( ## .filter(F.col('coherencyDiagonal')!='noEvid')\n",
    "    \"arrayN\", F.array(*[F.col(c) for c in doe_columns])\n",
    ").withColumn(\n",
    "    \"maxDoE\", F.array_max(F.col(\"arrayN\"))\n",
    ").withColumn(\"maxDoE_names\", F.array(*conditions)\n",
    ").withColumn(\"maxDoE_names\", F.expr(\"filter(maxDoE_names, x -> x is not null)\")\n",
    ").withColumn(\n",
    "    \"NoneCellYes\",\n",
    "    F.when((F.col(\"LoF_protect_ch\").isNotNull() & (F.col('GoF_protect_ch').isNull())) & (F.array_contains(F.col(\"maxDoE_names\"), F.lit(\"LoF_protect\")))==True, F.lit('yes'))\n",
    "    .when((F.col(\"GoF_protect_ch\").isNotNull() & (F.col('LoF_protect_ch').isNull())) & (F.array_contains(F.col(\"maxDoE_names\"), F.lit(\"GoF_protect\")))==True, F.lit('yes')\n",
    "        ).otherwise(F.lit('no'))  # If the value is null, return null # Otherwise, check if name is in array\n",
    ").withColumn(\n",
    "    \"NdiagonalYes\",\n",
    "    F.when((F.col(\"LoF_protect_ch\").isNotNull() & (F.col('GoF_protect_ch').isNull())) & \n",
    "        (F.size(F.array_intersect(F.col(\"maxDoE_names\"), F.array([F.lit(x) for x in diagonal_lof]))) > 0),\n",
    "        F.lit(\"yes\")\n",
    "    ).when((F.col(\"GoF_protect_ch\").isNotNull() & (F.col('LoF_protect_ch').isNull())) & \n",
    "        (F.size(F.array_intersect(F.col(\"maxDoE_names\"), F.array([F.lit(x) for x in diagonal_gof]))) > 0),\n",
    "        F.lit(\"yes\")\n",
    "    ).otherwise(F.lit('no'))\n",
    ").withColumn(\n",
    "    \"drugCoherency\",\n",
    "    F.when(\n",
    "        (F.col(\"LoF_protect_ch\").isNotNull())\n",
    "        & (F.col(\"GoF_protect_ch\").isNull()), F.lit(\"coherent\")\n",
    "    )\n",
    "    .when(\n",
    "        (F.col(\"LoF_protect_ch\").isNull())\n",
    "        & (F.col(\"GoF_protect_ch\").isNotNull()), F.lit(\"coherent\")\n",
    "    )\n",
    "    .when(\n",
    "        (F.col(\"LoF_protect_ch\").isNotNull())\n",
    "        & (F.col(\"GoF_protect_ch\").isNotNull()), F.lit(\"dispar\")\n",
    "    )\n",
    "    .otherwise(F.lit(\"other\")),\n",
    ").persist()"
   ]
  },
  {
   "cell_type": "code",
   "execution_count": 33,
   "metadata": {},
   "outputs": [
    {
     "name": "stderr",
     "output_type": "stream",
     "text": [
      "                                                                                \r"
     ]
    },
    {
     "data": {
      "text/plain": [
       "74187"
      ]
     },
     "execution_count": 33,
     "metadata": {},
     "output_type": "execute_result"
    }
   ],
   "source": [
    "test.count()"
   ]
  },
  {
   "cell_type": "code",
   "execution_count": 14,
   "metadata": {},
   "outputs": [
    {
     "name": "stderr",
     "output_type": "stream",
     "text": [
      "                                                                                \r"
     ]
    },
    {
     "name": "stdout",
     "output_type": "stream",
     "text": [
      "+------------+-----------+---+---+---+---+---+\n",
      "|NdiagonalYes|NOneCellYes|0.5|1.0|2.0|3.0|4.0|\n",
      "+------------+-----------+---+---+---+---+---+\n",
      "|         yes|         no|  1| 15| 41| 36| 38|\n",
      "|          no|         no|  1| 21| 78| 56| 61|\n",
      "|         yes|        yes|  3| 13| 34| 49| 41|\n",
      "+------------+-----------+---+---+---+---+---+\n",
      "\n"
     ]
    }
   ],
   "source": [
    "test.groupBy('NdiagonalYes','NOneCellYes').pivot('maxClinPhase').count().show()"
   ]
  },
  {
   "cell_type": "code",
   "execution_count": 48,
   "metadata": {},
   "outputs": [
    {
     "name": "stdout",
     "output_type": "stream",
     "text": [
      "+-----------------+-----+\n",
      "|coherencyDiagonal|count|\n",
      "+-----------------+-----+\n",
      "|           noEvid|73699|\n",
      "|           dispar|  225|\n",
      "|         coherent|  263|\n",
      "+-----------------+-----+\n",
      "\n"
     ]
    }
   ],
   "source": [
    "test.groupBy('coherencyDiagonal').count().show()"
   ]
  },
  {
   "cell_type": "code",
   "execution_count": 52,
   "metadata": {},
   "outputs": [
    {
     "name": "stderr",
     "output_type": "stream",
     "text": [
      "[Stage 2227:=================================================>  (381 + 8) / 400]\r"
     ]
    },
    {
     "name": "stdout",
     "output_type": "stream",
     "text": [
      "+-----------+-----+-----+\n",
      "|hasGenetics|  yes|   no|\n",
      "+-----------+-----+-----+\n",
      "|        yes|  242|  246|\n",
      "|         no|23145|50554|\n",
      "+-----------+-----+-----+\n",
      "\n"
     ]
    },
    {
     "name": "stderr",
     "output_type": "stream",
     "text": [
      "                                                                                \r"
     ]
    }
   ],
   "source": [
    "test.join(negativeTD, on=[\"targetId\", \"diseaseId\"], how=\"left\").withColumn(\n",
    "    \"PhaseT\",\n",
    "    F.when(F.col(\"stopReason\") == \"Negative\", F.lit(\"yes\")).otherwise(F.lit(\"no\")),\n",
    ").withColumn(\n",
    "    \"phase4Clean\",\n",
    "    F.when(\n",
    "        (F.col(\"maxClinPhase\") == 4) & (F.col(\"PhaseT\") == \"no\"), F.lit(\"yes\")\n",
    "    ).otherwise(F.lit(\"no\")),\n",
    ").withColumn(\n",
    "    \"phase3Clean\",\n",
    "    F.when(\n",
    "        (F.col(\"maxClinPhase\") >= 3) & (F.col(\"PhaseT\") == \"no\"), F.lit(\"yes\")\n",
    "    ).otherwise(F.lit(\"no\")),\n",
    ").withColumn(\n",
    "    \"phase2Clean\",\n",
    "    F.when(\n",
    "        (F.col(\"maxClinPhase\") >= 2) & (F.col(\"PhaseT\") == \"no\"), F.lit(\"yes\")\n",
    "    ).otherwise(F.lit(\"no\")),\n",
    ").withColumn(\n",
    "    \"phase1Clean\",\n",
    "    F.when(\n",
    "        (F.col(\"maxClinPhase\") >= 1) & (F.col(\"PhaseT\") == \"no\"), F.lit(\"yes\")\n",
    "    ).otherwise(F.lit(\"no\")),\n",
    ").withColumn(\n",
    "    \"hasGenetics\",\n",
    "    F.when(F.col(\"coherencyDiagonal\") != \"noEvid\", F.lit(\"yes\")).otherwise(F.lit(\"no\")),\n",
    ").groupBy(\n",
    "    \"hasGenetics\"\n",
    ").pivot(\n",
    "    \"phase3Clean\"\n",
    ").count().sort(\n",
    "    F.col(\"hasGenetics\").desc()\n",
    ").select(\n",
    "    \"hasGenetics\", \"yes\", \"no\"\n",
    ").show()"
   ]
  },
  {
   "cell_type": "code",
   "execution_count": 53,
   "metadata": {},
   "outputs": [
    {
     "name": "stdout",
     "output_type": "stream",
     "text": [
      "NoneCellYes Phase4Clean 3.752393840601997\n",
      "NoneCellYes Phase3Clean 2.819253644003185\n",
      "NdiagonalYes Phase4Clean 3.933118645800545\n",
      "NdiagonalYes Phase3Clean 2.471970055500581\n",
      "hasGenetics Phase4Clean 3.8590198576245784\n",
      "hasGenetics Phase3Clean 2.1487139226544567\n"
     ]
    }
   ],
   "source": [
    "print('NoneCellYes','Phase4Clean',(32*68628)/(5419*108))\n",
    "print('NoneCellYes','Phase3Clean',(79*50739)/(23308*61))\n",
    "print('NdiagonalYes','Phase4Clean',(64*68529)/(5387*207))\n",
    "print('NdiagonalYes','Phase3Clean',(144*50673)/(23243*127))\n",
    "print('hasGenetics','Phase4Clean',(113*68361)/(375*5338))\n",
    "print('hasGenetics','Phase3Clean',(242*50554)/(23145*246))"
   ]
  },
  {
   "cell_type": "markdown",
   "metadata": {},
   "source": [
    "### Now let´s curate the mechanism of action"
   ]
  },
  {
   "cell_type": "code",
   "execution_count": 3,
   "metadata": {},
   "outputs": [],
   "source": [
    "### drug mechanism of action\n",
    "mecact_path = f\"{path_n}drug_mechanism_of_action/\" #  mechanismOfAction == old version\n",
    "mecact = spark.read.parquet(mecact_path)\n",
    "\n",
    "inhibitors = [\n",
    "    \"RNAI INHIBITOR\",\n",
    "    \"NEGATIVE MODULATOR\",\n",
    "    \"NEGATIVE ALLOSTERIC MODULATOR\",\n",
    "    \"ANTAGONIST\",\n",
    "    \"ANTISENSE INHIBITOR\",\n",
    "    \"BLOCKER\",\n",
    "    \"INHIBITOR\",\n",
    "    \"DEGRADER\",\n",
    "    \"INVERSE AGONIST\",\n",
    "    \"ALLOSTERIC ANTAGONIST\",\n",
    "    \"DISRUPTING AGENT\",\n",
    "]\n",
    "\n",
    "activators = [\n",
    "    \"PARTIAL AGONIST\",\n",
    "    \"ACTIVATOR\",\n",
    "    \"POSITIVE ALLOSTERIC MODULATOR\",\n",
    "    \"POSITIVE MODULATOR\",\n",
    "    \"AGONIST\",\n",
    "    \"SEQUESTERING AGENT\",  ## lost at 31.01.2025\n",
    "    \"STABILISER\",\n",
    "    # \"EXOGENOUS GENE\", ## added 24.06.2025\n",
    "    # \"EXOGENOUS PROTEIN\" ## added 24.06.2025\n",
    "]\n",
    "\n",
    "\n",
    "actionType = (\n",
    "        mecact.select(\n",
    "            F.explode_outer(\"chemblIds\").alias(\"drugId\"),\n",
    "            \"actionType\",\n",
    "            \"mechanismOfAction\",\n",
    "            \"targets\",\n",
    "        )\n",
    "        .select(\n",
    "            F.explode_outer(\"targets\").alias(\"targetId\"),\n",
    "            \"drugId\",\n",
    "            \"actionType\",\n",
    "            \"mechanismOfAction\",\n",
    "        )\n",
    "        .groupBy(\"targetId\", \"drugId\")\n",
    "        .agg(F.collect_set(\"actionType\").alias(\"actionType2\"))\n",
    "    ).withColumn('nMoA', F.size(F.col('actionType2')))"
   ]
  },
  {
   "cell_type": "code",
   "execution_count": 4,
   "metadata": {},
   "outputs": [
    {
     "name": "stderr",
     "output_type": "stream",
     "text": [
      "                                                                                \r"
     ]
    }
   ],
   "source": [
    "analysis_chembl_indication = (\n",
    "    discrepancifier(\n",
    "        assessment.filter((F.col(\"datasourceId\") == \"chembl\")).join(actionType, on=['targetId','drugId'], how='left')\n",
    "        .withColumn(\n",
    "            \"maxClinPhase\",\n",
    "            F.max(F.col(\"clinicalPhase\")).over(\n",
    "                Window.partitionBy(\"targetId\", \"diseaseId\")\n",
    "            ),\n",
    "        )\n",
    "        .groupBy(\"targetId\", \"diseaseId\", \"maxClinPhase\",'actionType2')\n",
    "        .pivot(\"homogenized\")\n",
    "        .agg(F.count(\"targetId\"))\n",
    "    )\n",
    "    #.filter(F.col(\"coherencyDiagonal\") == \"coherent\")\n",
    "    .drop(\n",
    "        \"coherencyDiagonal\", \"coherencyOneCell\", \"noEvaluable\", \"GoF_risk\", \"LoF_risk\"\n",
    "    )\n",
    "    .withColumnRenamed(\"GoF_protect\", \"drugGoF_protect\")\n",
    "    .withColumnRenamed(\"LoF_protect\", \"drugLoF_protect\")\n",
    ")"
   ]
  },
  {
   "cell_type": "code",
   "execution_count": 5,
   "metadata": {},
   "outputs": [],
   "source": [
    "benchmark = (\n",
    "    (\n",
    "        resolvedColocFiltered.filter( ## .filter(F.col(\"betaGwas\") < 0)\n",
    "        F.col(\"name\") != \"COVID-19\"\n",
    "    )\n",
    "        .join(  ### select just GWAS giving protection\n",
    "            analysis_chembl_indication, on=[\"targetId\", \"diseaseId\"], how=\"right\"  ### RIGHT SIDE\n",
    "        )\n",
    "        .withColumn(\n",
    "            \"AgreeDrug\",\n",
    "            F.when(\n",
    "                (F.col(\"drugGoF_protect\").isNotNull())\n",
    "                & (F.col(\"colocDoE\") == \"GoF_protect\"),\n",
    "                F.lit(\"yes\"),\n",
    "            )\n",
    "            .when(\n",
    "                (F.col(\"drugLoF_protect\").isNotNull())\n",
    "                & (F.col(\"colocDoE\") == \"LoF_protect\"),\n",
    "                F.lit(\"yes\"),\n",
    "            )\n",
    "            .otherwise(F.lit(\"no\")),\n",
    "        )\n",
    "    )  #### remove COVID-19 associations\n",
    ").join(biosample.select(\"biosampleId\", \"biosampleName\"), on=\"biosampleId\", how=\"left\")"
   ]
  },
  {
   "cell_type": "code",
   "execution_count": 8,
   "metadata": {},
   "outputs": [
    {
     "name": "stderr",
     "output_type": "stream",
     "text": [
      "                                                                                \r"
     ]
    }
   ],
   "source": [
    "test2=discrepancifier(\n",
    "    benchmark.groupBy(\n",
    "        \"targetId\", \"diseaseId\", \"maxClinPhase\", \"drugLoF_protect\", \"drugGoF_protect\", 'actionType2'\n",
    "    )\n",
    "    .pivot(\"colocDoE\")\n",
    "    .count()\n",
    "    .withColumnRenamed('drugLoF_protect', 'LoF_protect_ch')\n",
    "    .withColumnRenamed('drugGoF_protect', 'GoF_protect_ch')\n",
    "\n",
    ").withColumn( ## .filter(F.col('coherencyDiagonal')!='noEvid')\n",
    "    \"arrayN\", F.array(*[F.col(c) for c in doe_columns])\n",
    ").withColumn(\n",
    "    \"maxDoE\", F.array_max(F.col(\"arrayN\"))\n",
    ").withColumn(\"maxDoE_names\", F.array(*conditions)\n",
    ").withColumn(\"maxDoE_names\", F.expr(\"filter(maxDoE_names, x -> x is not null)\")\n",
    ").withColumn(\n",
    "    \"NoneCellYes\",\n",
    "    F.when((F.col(\"LoF_protect_ch\").isNotNull() & (F.col('GoF_protect_ch').isNull())) & (F.array_contains(F.col(\"maxDoE_names\"), F.lit(\"LoF_protect\")))==True, F.lit('yes'))\n",
    "    .when((F.col(\"GoF_protect_ch\").isNotNull() & (F.col('LoF_protect_ch').isNull())) & (F.array_contains(F.col(\"maxDoE_names\"), F.lit(\"GoF_protect\")))==True, F.lit('yes')\n",
    "        ).otherwise(F.lit('no'))  # If the value is null, return null # Otherwise, check if name is in array\n",
    ").withColumn(\n",
    "    \"NdiagonalYes\",\n",
    "    F.when((F.col(\"LoF_protect_ch\").isNotNull() & (F.col('GoF_protect_ch').isNull())) & \n",
    "        (F.size(F.array_intersect(F.col(\"maxDoE_names\"), F.array([F.lit(x) for x in diagonal_lof]))) > 0),\n",
    "        F.lit(\"yes\")\n",
    "    ).when((F.col(\"GoF_protect_ch\").isNotNull() & (F.col('LoF_protect_ch').isNull())) & \n",
    "        (F.size(F.array_intersect(F.col(\"maxDoE_names\"), F.array([F.lit(x) for x in diagonal_gof]))) > 0),\n",
    "        F.lit(\"yes\")\n",
    "    ).otherwise(F.lit('no'))\n",
    ").withColumn(\n",
    "    \"drugCoherency\",\n",
    "    F.when(\n",
    "        (F.col(\"LoF_protect_ch\").isNotNull())\n",
    "        & (F.col(\"GoF_protect_ch\").isNull()), F.lit(\"coherent\")\n",
    "    )\n",
    "    .when(\n",
    "        (F.col(\"LoF_protect_ch\").isNull())\n",
    "        & (F.col(\"GoF_protect_ch\").isNotNull()), F.lit(\"coherent\")\n",
    "    )\n",
    "    .when(\n",
    "        (F.col(\"LoF_protect_ch\").isNotNull())\n",
    "        & (F.col(\"GoF_protect_ch\").isNotNull()), F.lit(\"dispar\")\n",
    "    )\n",
    "    .otherwise(F.lit(\"other\")),\n",
    ").join(negativeTD, on=[\"targetId\", \"diseaseId\"], how=\"left\").withColumn(\n",
    "    \"PhaseT\",\n",
    "    F.when(F.col(\"stopReason\") == \"Negative\", F.lit(\"yes\")).otherwise(F.lit(\"no\")),\n",
    ").withColumn(\n",
    "    \"phase4Clean\",\n",
    "    F.when(\n",
    "        (F.col(\"maxClinPhase\") == 4) & (F.col(\"PhaseT\") == \"no\"), F.lit(\"yes\")\n",
    "    ).otherwise(F.lit(\"no\")),\n",
    ").withColumn(\n",
    "    \"phase3Clean\",\n",
    "    F.when(\n",
    "        (F.col(\"maxClinPhase\") >= 3) & (F.col(\"PhaseT\") == \"no\"), F.lit(\"yes\")\n",
    "    ).otherwise(F.lit(\"no\")),\n",
    ").withColumn(\n",
    "    \"phase2Clean\",\n",
    "    F.when(\n",
    "        (F.col(\"maxClinPhase\") >= 2) & (F.col(\"PhaseT\") == \"no\"), F.lit(\"yes\")\n",
    "    ).otherwise(F.lit(\"no\")),\n",
    ").withColumn(\n",
    "    \"phase1Clean\",\n",
    "    F.when(\n",
    "        (F.col(\"maxClinPhase\") >= 1) & (F.col(\"PhaseT\") == \"no\"), F.lit(\"yes\")\n",
    "    ).otherwise(F.lit(\"no\")),\n",
    ").withColumn(\n",
    "    \"hasGenetics\",\n",
    "    F.when(F.col(\"coherencyDiagonal\") != \"noEvid\", F.lit(\"yes\")).otherwise(F.lit(\"no\")),\n",
    ").withColumn( ### convert array column actionType2 to string\n",
    "    \"actionType\",\n",
    "    F.concat_ws(\", \", F.col(\"actionType2\"))\n",
    ").persist()\n",
    "\n",
    "### for NoneCellYes\n",
    "test3=test2.groupBy('targetId','diseaseId','NoneCellYes','phase4Clean').pivot('actionType').agg(F.collect_set(F.col('NoneCellYes'))).fillna(0).withColumn('data', F.lit('Drug_NoneCellYes'))\n",
    "### for NdiagonalYes\n",
    "test4=test2.groupBy('targetId','diseaseId','NoneCellYes','phase4Clean').pivot('actionType').agg(F.collect_set(F.col('NdiagonalYes'))).fillna(0).withColumn('data', F.lit('Drug_NdiagonalYes'))\n"
   ]
  },
  {
   "cell_type": "code",
   "execution_count": 34,
   "metadata": {},
   "outputs": [
    {
     "name": "stdout",
     "output_type": "stream",
     "text": [
      "40 40\n"
     ]
    }
   ],
   "source": [
    "print(len(test3.columns),\n",
    "len(test4.columns))"
   ]
  },
  {
   "cell_type": "markdown",
   "metadata": {},
   "source": [
    "#### continue here on 14.07.2025\n",
    " - How to make the comparisons of the drug MoA\n",
    " - the column of clinical phases is curated with PhaseT"
   ]
  },
  {
   "cell_type": "code",
   "execution_count": null,
   "metadata": {},
   "outputs": [],
   "source": [
    "array_columns_to_transform=test3.columns[5:]\n",
    "# Iterate over the columns and apply the transformation\n",
    "for col_name in array_columns_to_transform:\n",
    "    test3 = test3.withColumn(\n",
    "        col_name,\n",
    "        F.when(\n",
    "            F.array_contains(F.col(col_name),'yes'), F.lit('yes')\n",
    "        )\n",
    "        .otherwise(\n",
    "            \"no\" \n",
    "        )\n",
    "    )\n",
    "    test4 = test4.withColumn(\n",
    "        col_name,\n",
    "        F.when(\n",
    "            F.array_contains(F.col(col_name),'yes'), F.lit('yes')\n",
    "        )\n",
    "        .otherwise(\n",
    "            \"no\"\n",
    "        )\n",
    "    )"
   ]
  },
  {
   "cell_type": "code",
   "execution_count": 10,
   "metadata": {},
   "outputs": [],
   "source": [
    "### Select columns to convert to yes/no\n",
    "columns_to_transform = test3.columns[5:]"
   ]
  },
  {
   "cell_type": "code",
   "execution_count": 6,
   "metadata": {},
   "outputs": [],
   "source": [
    "negativeTD = (\n",
    "    evidences.filter(F.col(\"datasourceId\") == \"chembl\")\n",
    "    .select(\"targetId\", \"diseaseId\", \"studyStopReason\", \"studyStopReasonCategories\")\n",
    "    .filter(F.array_contains(F.col(\"studyStopReasonCategories\"), \"Negative\"))\n",
    "    .groupBy(\"targetId\", \"diseaseId\")\n",
    "    .count()\n",
    "    .withColumn(\"stopReason\", F.lit(\"Negative\"))\n",
    "    .drop(\"count\")\n",
    ")"
   ]
  },
  {
   "cell_type": "markdown",
   "metadata": {},
   "source": [
    "#### testing pivoting operations\n"
   ]
  },
  {
   "cell_type": "code",
   "execution_count": null,
   "metadata": {},
   "outputs": [
    {
     "data": {
      "text/plain": [
       "DataFrame[biosampleId: string, targetId: string, diseaseId: string, leftStudyLocusId: string, rightStudyId: string, rightStudyLocusId: string, chromosome: string, rightStudyType: string, numberColocalisingVariants: bigint, clpp: double, colocalisationMethod: string, betaRatioSignAverage: double, h0: double, h1: double, h2: double, h3: double, h4: double, leftStudyId: string, leftVariantId: string, credibleLeftStudyType: string, rightVariantId: string, credibleRightStudyType: string, qtlPValueExponent: int, isTransQtl: boolean, projectId: string, indexStudyType: string, condition: string, datasourceId: string, datatypeId: string, diseaseFromSourceMappedId: string, resourceScore: double, targetFromSourceId: string, id: string, score: double, sourceId: string, studyId: string, variantId: string, betaGwas: double, pValueExponent: int, name: string, therapeuticAreas: array<string>, colocDoE: string, maxClinPhase: double, actionType2: array<string>, drugGoF_protect: bigint, drugLoF_protect: bigint, AgreeDrug: string, biosampleName: string]"
      ]
     },
     "execution_count": 17,
     "metadata": {},
     "output_type": "execute_result"
    },
    {
     "name": "stderr",
     "output_type": "stream",
     "text": [
      "[Stage 362:=======>       (38 + 8) / 80][Stage 365:==========>  (141 + 8) / 174]\r"
     ]
    }
   ],
   "source": [
    "benchmark.persist()"
   ]
  },
  {
   "cell_type": "code",
   "execution_count": 22,
   "metadata": {},
   "outputs": [
    {
     "data": {
      "text/plain": [
       "['biosampleId',\n",
       " 'targetId',\n",
       " 'diseaseId',\n",
       " 'leftStudyLocusId',\n",
       " 'rightStudyId',\n",
       " 'rightStudyLocusId',\n",
       " 'chromosome',\n",
       " 'rightStudyType',\n",
       " 'numberColocalisingVariants',\n",
       " 'clpp',\n",
       " 'colocalisationMethod',\n",
       " 'betaRatioSignAverage',\n",
       " 'h0',\n",
       " 'h1',\n",
       " 'h2',\n",
       " 'h3',\n",
       " 'h4',\n",
       " 'leftStudyId',\n",
       " 'leftVariantId',\n",
       " 'credibleLeftStudyType',\n",
       " 'rightVariantId',\n",
       " 'credibleRightStudyType',\n",
       " 'qtlPValueExponent',\n",
       " 'isTransQtl',\n",
       " 'projectId',\n",
       " 'indexStudyType',\n",
       " 'condition',\n",
       " 'datasourceId',\n",
       " 'datatypeId',\n",
       " 'diseaseFromSourceMappedId',\n",
       " 'resourceScore',\n",
       " 'targetFromSourceId',\n",
       " 'id',\n",
       " 'score',\n",
       " 'sourceId',\n",
       " 'studyId',\n",
       " 'variantId',\n",
       " 'betaGwas',\n",
       " 'pValueExponent',\n",
       " 'name',\n",
       " 'therapeuticAreas',\n",
       " 'colocDoE',\n",
       " 'maxClinPhase',\n",
       " 'actionType2',\n",
       " 'drugGoF_protect',\n",
       " 'drugLoF_protect',\n",
       " 'AgreeDrug',\n",
       " 'biosampleName']"
      ]
     },
     "execution_count": 22,
     "metadata": {},
     "output_type": "execute_result"
    }
   ],
   "source": [
    "benchmark.columns"
   ]
  },
  {
   "cell_type": "code",
   "execution_count": 26,
   "metadata": {},
   "outputs": [
    {
     "name": "stdout",
     "output_type": "stream",
     "text": [
      "+-----------+---------------+-------------+----------------+------------+-----------------+----------+--------------+--------------------------+----+--------------------+--------------------+----+----+----+----+----+-----------+-------------+---------------------+--------------+----------------------+-----------------+----------+---------+--------------+---------+------------+----------+-------------------------+-------------+------------------+----+-----+--------+-------+---------+--------+--------------+----+----------------+--------+------------+------------+---------------+---------------+---------+-------------+-----------+\n",
      "|biosampleId|       targetId|    diseaseId|leftStudyLocusId|rightStudyId|rightStudyLocusId|chromosome|rightStudyType|numberColocalisingVariants|clpp|colocalisationMethod|betaRatioSignAverage|  h0|  h1|  h2|  h3|  h4|leftStudyId|leftVariantId|credibleLeftStudyType|rightVariantId|credibleRightStudyType|qtlPValueExponent|isTransQtl|projectId|indexStudyType|condition|datasourceId|datatypeId|diseaseFromSourceMappedId|resourceScore|targetFromSourceId|  id|score|sourceId|studyId|variantId|betaGwas|pValueExponent|name|therapeuticAreas|colocDoE|maxClinPhase| actionType2|drugGoF_protect|drugLoF_protect|AgreeDrug|biosampleName|qtlColocDoE|\n",
      "+-----------+---------------+-------------+----------------+------------+-----------------+----------+--------------+--------------------------+----+--------------------+--------------------+----+----+----+----+----+-----------+-------------+---------------------+--------------+----------------------+-----------------+----------+---------+--------------+---------+------------+----------+-------------------------+-------------+------------------+----+-----+--------+-------+---------+--------+--------------+----+----------------+--------+------------+------------+---------------+---------------+---------+-------------+-----------+\n",
      "|       NULL|ENSG00000007314|  EFO_0000555|            NULL|        NULL|             NULL|      NULL|          NULL|                      NULL|NULL|                NULL|                NULL|NULL|NULL|NULL|NULL|NULL|       NULL|         NULL|                 NULL|          NULL|                  NULL|             NULL|      NULL|     NULL|          NULL|     NULL|        NULL|      NULL|                     NULL|         NULL|              NULL|NULL| NULL|    NULL|   NULL|     NULL|    NULL|          NULL|NULL|            NULL|    NULL|         2.0|   [BLOCKER]|           NULL|              3|       no|         NULL|       NULL|\n",
      "|       NULL|ENSG00000007314|  EFO_1000249|            NULL|        NULL|             NULL|      NULL|          NULL|                      NULL|NULL|                NULL|                NULL|NULL|NULL|NULL|NULL|NULL|       NULL|         NULL|                 NULL|          NULL|                  NULL|             NULL|      NULL|     NULL|          NULL|     NULL|        NULL|      NULL|                     NULL|         NULL|              NULL|NULL| NULL|    NULL|   NULL|     NULL|    NULL|          NULL|NULL|            NULL|    NULL|         3.0|   [BLOCKER]|           NULL|              1|       no|         NULL|       NULL|\n",
      "|       NULL|ENSG00000008018|  EFO_1000453|            NULL|        NULL|             NULL|      NULL|          NULL|                      NULL|NULL|                NULL|                NULL|NULL|NULL|NULL|NULL|NULL|       NULL|         NULL|                 NULL|          NULL|                  NULL|             NULL|      NULL|     NULL|          NULL|     NULL|        NULL|      NULL|                     NULL|         NULL|              NULL|NULL| NULL|    NULL|   NULL|     NULL|    NULL|          NULL|NULL|            NULL|    NULL|         2.0| [INHIBITOR]|           NULL|              1|       no|         NULL|       NULL|\n",
      "|       NULL|ENSG00000012504|MONDO_0019052|            NULL|        NULL|             NULL|      NULL|          NULL|                      NULL|NULL|                NULL|                NULL|NULL|NULL|NULL|NULL|NULL|       NULL|         NULL|                 NULL|          NULL|                  NULL|             NULL|      NULL|     NULL|          NULL|     NULL|        NULL|      NULL|                     NULL|         NULL|              NULL|NULL| NULL|    NULL|   NULL|     NULL|    NULL|          NULL|NULL|            NULL|    NULL|         4.0|   [AGONIST]|              1|           NULL|       no|         NULL|       NULL|\n",
      "|       NULL|ENSG00000012779|MONDO_0004235|            NULL|        NULL|             NULL|      NULL|          NULL|                      NULL|NULL|                NULL|                NULL|NULL|NULL|NULL|NULL|NULL|       NULL|         NULL|                 NULL|          NULL|                  NULL|             NULL|      NULL|     NULL|          NULL|     NULL|        NULL|      NULL|                     NULL|         NULL|              NULL|NULL| NULL|    NULL|   NULL|     NULL|    NULL|          NULL|NULL|            NULL|    NULL|         3.0| [INHIBITOR]|           NULL|              4|       no|         NULL|       NULL|\n",
      "|       NULL|ENSG00000014138|  EFO_1001945|            NULL|        NULL|             NULL|      NULL|          NULL|                      NULL|NULL|                NULL|                NULL|NULL|NULL|NULL|NULL|NULL|       NULL|         NULL|                 NULL|          NULL|                  NULL|             NULL|      NULL|     NULL|          NULL|     NULL|        NULL|      NULL|                     NULL|         NULL|              NULL|NULL| NULL|    NULL|   NULL|     NULL|    NULL|          NULL|NULL|            NULL|    NULL|         3.0| [INHIBITOR]|           NULL|              4|       no|         NULL|       NULL|\n",
      "|       NULL|ENSG00000023228|  EFO_1000657|            NULL|        NULL|             NULL|      NULL|          NULL|                      NULL|NULL|                NULL|                NULL|NULL|NULL|NULL|NULL|NULL|       NULL|         NULL|                 NULL|          NULL|                  NULL|             NULL|      NULL|     NULL|          NULL|     NULL|        NULL|      NULL|                     NULL|         NULL|              NULL|NULL| NULL|    NULL|   NULL|     NULL|    NULL|          NULL|NULL|            NULL|    NULL|         2.0| [INHIBITOR]|           NULL|              3|       no|         NULL|       NULL|\n",
      "|       NULL|ENSG00000062822|  EFO_0004991|            NULL|        NULL|             NULL|      NULL|          NULL|                      NULL|NULL|                NULL|                NULL|NULL|NULL|NULL|NULL|NULL|       NULL|         NULL|                 NULL|          NULL|                  NULL|             NULL|      NULL|     NULL|          NULL|     NULL|        NULL|      NULL|                     NULL|         NULL|              NULL|NULL| NULL|    NULL|   NULL|     NULL|    NULL|          NULL|NULL|            NULL|    NULL|         2.0| [INHIBITOR]|           NULL|              1|       no|         NULL|       NULL|\n",
      "|       NULL|ENSG00000065883|  EFO_0001378|            NULL|        NULL|             NULL|      NULL|          NULL|                      NULL|NULL|                NULL|                NULL|NULL|NULL|NULL|NULL|NULL|       NULL|         NULL|                 NULL|          NULL|                  NULL|             NULL|      NULL|     NULL|          NULL|     NULL|        NULL|      NULL|                     NULL|         NULL|              NULL|NULL| NULL|    NULL|   NULL|     NULL|    NULL|          NULL|NULL|            NULL|    NULL|         1.0| [INHIBITOR]|           NULL|              1|       no|         NULL|       NULL|\n",
      "|       NULL|ENSG00000067191|  EFO_0000319|            NULL|        NULL|             NULL|      NULL|          NULL|                      NULL|NULL|                NULL|                NULL|NULL|NULL|NULL|NULL|NULL|       NULL|         NULL|                 NULL|          NULL|                  NULL|             NULL|      NULL|     NULL|          NULL|     NULL|        NULL|      NULL|                     NULL|         NULL|              NULL|NULL| NULL|    NULL|   NULL|     NULL|    NULL|          NULL|NULL|            NULL|    NULL|         4.0|   [BLOCKER]|           NULL|              2|       no|         NULL|       NULL|\n",
      "|       NULL|ENSG00000070886|  EFO_1000489|            NULL|        NULL|             NULL|      NULL|          NULL|                      NULL|NULL|                NULL|                NULL|NULL|NULL|NULL|NULL|NULL|       NULL|         NULL|                 NULL|          NULL|                  NULL|             NULL|      NULL|     NULL|          NULL|     NULL|        NULL|      NULL|                     NULL|         NULL|              NULL|NULL| NULL|    NULL|   NULL|     NULL|    NULL|          NULL|NULL|            NULL|    NULL|         2.0| [INHIBITOR]|           NULL|              1|       no|         NULL|       NULL|\n",
      "|       NULL|ENSG00000077782|MONDO_0008315|            NULL|        NULL|             NULL|      NULL|          NULL|                      NULL|NULL|                NULL|                NULL|NULL|NULL|NULL|NULL|NULL|       NULL|         NULL|                 NULL|          NULL|                  NULL|             NULL|      NULL|     NULL|          NULL|     NULL|        NULL|      NULL|                     NULL|         NULL|              NULL|NULL| NULL|    NULL|   NULL|     NULL|    NULL|          NULL|NULL|            NULL|    NULL|         2.0| [INHIBITOR]|           NULL|              6|       no|         NULL|       NULL|\n",
      "|       NULL|ENSG00000080293|  EFO_0001073|            NULL|        NULL|             NULL|      NULL|          NULL|                      NULL|NULL|                NULL|                NULL|NULL|NULL|NULL|NULL|NULL|       NULL|         NULL|                 NULL|          NULL|                  NULL|             NULL|      NULL|     NULL|          NULL|     NULL|        NULL|      NULL|                     NULL|         NULL|              NULL|NULL| NULL|    NULL|   NULL|     NULL|    NULL|          NULL|NULL|            NULL|    NULL|         2.0|   [AGONIST]|              1|           NULL|       no|         NULL|       NULL|\n",
      "|       NULL|ENSG00000081248|MONDO_0004992|            NULL|        NULL|             NULL|      NULL|          NULL|                      NULL|NULL|                NULL|                NULL|NULL|NULL|NULL|NULL|NULL|       NULL|         NULL|                 NULL|          NULL|                  NULL|             NULL|      NULL|     NULL|          NULL|     NULL|        NULL|      NULL|                     NULL|         NULL|              NULL|NULL| NULL|    NULL|   NULL|     NULL|    NULL|          NULL|NULL|            NULL|    NULL|         1.0|   [BLOCKER]|           NULL|              1|       no|         NULL|       NULL|\n",
      "|       NULL|ENSG00000082175|  EFO_1000796|            NULL|        NULL|             NULL|      NULL|          NULL|                      NULL|NULL|                NULL|                NULL|NULL|NULL|NULL|NULL|NULL|       NULL|         NULL|                 NULL|          NULL|                  NULL|             NULL|      NULL|     NULL|          NULL|     NULL|        NULL|      NULL|                     NULL|         NULL|              NULL|NULL| NULL|    NULL|   NULL|     NULL|    NULL|          NULL|NULL|            NULL|    NULL|         2.0|   [AGONIST]|              1|           NULL|       no|         NULL|       NULL|\n",
      "|       NULL|ENSG00000082482|  EFO_1000637|            NULL|        NULL|             NULL|      NULL|          NULL|                      NULL|NULL|                NULL|                NULL|NULL|NULL|NULL|NULL|NULL|       NULL|         NULL|                 NULL|          NULL|                  NULL|             NULL|      NULL|     NULL|          NULL|     NULL|        NULL|      NULL|                     NULL|         NULL|              NULL|NULL| NULL|    NULL|   NULL|     NULL|    NULL|          NULL|NULL|            NULL|    NULL|         3.0|    [OPENER]|           NULL|           NULL|       no|         NULL|       NULL|\n",
      "|       NULL|ENSG00000082556|  EFO_1000906|            NULL|        NULL|             NULL|      NULL|          NULL|                      NULL|NULL|                NULL|                NULL|NULL|NULL|NULL|NULL|NULL|       NULL|         NULL|                 NULL|          NULL|                  NULL|             NULL|      NULL|     NULL|          NULL|     NULL|        NULL|      NULL|                     NULL|         NULL|              NULL|NULL| NULL|    NULL|   NULL|     NULL|    NULL|          NULL|NULL|            NULL|    NULL|         2.0|[ANTAGONIST]|           NULL|              1|       no|         NULL|       NULL|\n",
      "|       NULL|ENSG00000082556|MONDO_0004992|            NULL|        NULL|             NULL|      NULL|          NULL|                      NULL|NULL|                NULL|                NULL|NULL|NULL|NULL|NULL|NULL|       NULL|         NULL|                 NULL|          NULL|                  NULL|             NULL|      NULL|     NULL|          NULL|     NULL|        NULL|      NULL|                     NULL|         NULL|              NULL|NULL| NULL|    NULL|   NULL|     NULL|    NULL|          NULL|NULL|            NULL|    NULL|         2.0|   [AGONIST]|              1|           NULL|       no|         NULL|       NULL|\n",
      "|       NULL|ENSG00000087085|MONDO_0005301|            NULL|        NULL|             NULL|      NULL|          NULL|                      NULL|NULL|                NULL|                NULL|NULL|NULL|NULL|NULL|NULL|       NULL|         NULL|                 NULL|          NULL|                  NULL|             NULL|      NULL|     NULL|          NULL|     NULL|        NULL|      NULL|                     NULL|         NULL|              NULL|NULL| NULL|    NULL|   NULL|     NULL|    NULL|          NULL|NULL|            NULL|    NULL|         3.0| [INHIBITOR]|           NULL|              1|       no|         NULL|       NULL|\n",
      "|       NULL|ENSG00000087586|MONDO_0002516|            NULL|        NULL|             NULL|      NULL|          NULL|                      NULL|NULL|                NULL|                NULL|NULL|NULL|NULL|NULL|NULL|       NULL|         NULL|                 NULL|          NULL|                  NULL|             NULL|      NULL|     NULL|          NULL|     NULL|        NULL|      NULL|                     NULL|         NULL|              NULL|NULL| NULL|    NULL|   NULL|     NULL|    NULL|          NULL|NULL|            NULL|    NULL|         1.0| [INHIBITOR]|           NULL|              1|       no|         NULL|       NULL|\n",
      "+-----------+---------------+-------------+----------------+------------+-----------------+----------+--------------+--------------------------+----+--------------------+--------------------+----+----+----+----+----+-----------+-------------+---------------------+--------------+----------------------+-----------------+----------+---------+--------------+---------+------------+----------+-------------------------+-------------+------------------+----+-----+--------+-------+---------+--------+--------------+----+----------------+--------+------------+------------+---------------+---------------+---------+-------------+-----------+\n",
      "only showing top 20 rows\n",
      "\n"
     ]
    }
   ],
   "source": [
    "current_col_pvalue_order_window = Window.partitionBy(\"targetId\", \"diseaseId\", \"maxClinPhase\", \"projectId\").orderBy(F.col('colocalisationMethod').asc(), F.col(\"qtlPValueExponent\").asc())\n",
    "benchmark.withColumn('qtlColocDoE',F.first('colocDoE').over(current_col_pvalue_order_window)).show()"
   ]
  },
  {
   "cell_type": "code",
   "execution_count": 19,
   "metadata": {},
   "outputs": [
    {
     "name": "stdout",
     "output_type": "stream",
     "text": [
      "+--------------+---------------+-----------+--------------------+--------------------+--------------------+----------+--------------+--------------------------+--------------------+--------------------+--------------------+--------------------+--------------------+--------------------+--------------------+------------------+--------------------+---------------+---------------------+-----------------+----------------------+-----------------+----------+--------------+--------------+------------+------------------+-------------------+-------------------------+------------------+------------------+--------------------+------------------+------------------+--------------------+---------------+-------------------+--------------+--------------------+--------------------+-----------+------------+--------------------+---------------+---------------+---------+--------------------+\n",
      "|   biosampleId|       targetId|  diseaseId|    leftStudyLocusId|        rightStudyId|   rightStudyLocusId|chromosome|rightStudyType|numberColocalisingVariants|                clpp|colocalisationMethod|betaRatioSignAverage|                  h0|                  h1|                  h2|                  h3|                h4|         leftStudyId|  leftVariantId|credibleLeftStudyType|   rightVariantId|credibleRightStudyType|qtlPValueExponent|isTransQtl|     projectId|indexStudyType|   condition|      datasourceId|         datatypeId|diseaseFromSourceMappedId|     resourceScore|targetFromSourceId|                  id|             score|          sourceId|             studyId|      variantId|           betaGwas|pValueExponent|                name|    therapeuticAreas|   colocDoE|maxClinPhase|         actionType2|drugGoF_protect|drugLoF_protect|AgreeDrug|       biosampleName|\n",
      "+--------------+---------------+-----------+--------------------+--------------------+--------------------+----------+--------------+--------------------------+--------------------+--------------------+--------------------+--------------------+--------------------+--------------------+--------------------+------------------+--------------------+---------------+---------------------+-----------------+----------------------+-----------------+----------+--------------+--------------+------------+------------------+-------------------+-------------------------+------------------+------------------+--------------------+------------------+------------------+--------------------+---------------+-------------------+--------------+--------------------+--------------------+-----------+------------+--------------------+---------------+---------------+---------+--------------------+\n",
      "|UBERON_0009834|ENSG00000160716|EFO_0003768|6e3571a25778d24fa...|rosmap_exon_brain...|68cb32554e073b768...|         1|          eqtl|                        12| 0.07461188118783058|             eCAVIAR|                NULL|                NULL|                NULL|                NULL|                NULL|              NULL|        GCST90274728|1_154576470_C_T|                 gwas|  1_154578556_C_T|                  eqtl|               -8|     false|        ROSMAP|          eqtl|       naive|gwas_credible_sets|genetic_association|              EFO_0003768|0.5976826096146161|   ENSG00000160716|c83f98853963a9c4f...|0.5976826096146161|gwas_credible_sets|        GCST90274728|1_154576470_C_T|               NULL|            -8| nicotine dependence|[MONDO_0002025, E...|       NULL|         4.0|[AGONIST, PARTIAL...|             76|           NULL|       no|dorsolateral pref...|\n",
      "|UBERON_0009834|ENSG00000160716|EFO_0003768|6e3571a25778d24fa...|rosmap_exon_brain...|68cb32554e073b768...|         1|          eqtl|                        12| 0.07461188118783058|             eCAVIAR|                NULL|                NULL|                NULL|                NULL|                NULL|              NULL|        GCST90274728|1_154576470_C_T|                 gwas|  1_154578556_C_T|                  eqtl|               -8|     false|        ROSMAP|          eqtl|       naive|gwas_credible_sets|genetic_association|              EFO_0003768|0.5976826096146161|   ENSG00000160716|c83f98853963a9c4f...|0.5976826096146161|gwas_credible_sets|        GCST90274728|1_154576470_C_T|               NULL|            -8| nicotine dependence|[MONDO_0002025, E...|       NULL|         4.0|           [AGONIST]|            210|           NULL|       no|dorsolateral pref...|\n",
      "|UBERON_0009834|ENSG00000160716|EFO_0003768|6e3571a25778d24fa...|rosmap_exon_brain...|68cb32554e073b768...|         1|          eqtl|                        12| 0.07461188118783058|             eCAVIAR|                NULL|                NULL|                NULL|                NULL|                NULL|              NULL|        GCST90274728|1_154576470_C_T|                 gwas|  1_154578556_C_T|                  eqtl|               -8|     false|        ROSMAP|          eqtl|       naive|gwas_credible_sets|genetic_association|              EFO_0003768|0.5976826096146161|   ENSG00000160716|c83f98853963a9c4f...|0.5976826096146161|gwas_credible_sets|        GCST90274728|1_154576470_C_T|               NULL|            -8| nicotine dependence|[MONDO_0002025, E...|       NULL|         4.0|   [PARTIAL AGONIST]|              4|           NULL|       no|dorsolateral pref...|\n",
      "|    CL_0002057|ENSG00000115232|EFO_0003767|6ec059679c313e956...|fairfax_2014_micr...|1f7d554e9a4a035e2...|         2|          eqtl|                         3|  0.1228883373842138|             eCAVIAR|                 1.0|                NULL|                NULL|                NULL|                NULL|              NULL|          GCST011501|2_181446867_A_G|                 gwas|  2_181450903_G_A|                  eqtl|              -10|     false|  Fairfax_2014|          eqtl|    IFNg_24h|gwas_credible_sets|genetic_association|              EFO_0003767|0.9217713573830587|   ENSG00000115232|2e4bb953cc2cea3ae...|0.9217713573830587|gwas_credible_sets|          GCST011501|2_181446867_A_G|0.10536051565782635|            -9|inflammatory bowe...|[OTAR_0000018, EF...|   GoF_risk|         1.0|         [INHIBITOR]|           NULL|              1|       no|CD14-positive, CD...|\n",
      "|    CL_0000775|ENSG00000115232|EFO_0003767|faa6715e24a5b91a9...|cedar_microarray_...|5a8b6638f4a1d5761...|         2|          eqtl|                        10|  0.1013793175469302|             eCAVIAR|                 1.0|                NULL|                NULL|                NULL|                NULL|              NULL|FINNGEN_R12_K11_I...|2_181463487_G_A|                 gwas|2_181459459_CTT_C|                  eqtl|              -10|     false|         CEDAR|          eqtl|       naive|gwas_credible_sets|genetic_association|              EFO_0003767|0.9689002626744269|   ENSG00000115232|25c329216fa26744b...|0.9689002626744269|gwas_credible_sets|FINNGEN_R12_K11_I...|2_181463487_G_A| -0.035696772931153|            -8|inflammatory bowe...|[OTAR_0000018, EF...|LoF_protect|         1.0|         [INHIBITOR]|           NULL|              1|      yes|          neutrophil|\n",
      "|    CL_0000775|ENSG00000115232|EFO_0003767|faa6715e24a5b91a9...|cedar_microarray_...|5a8b6638f4a1d5761...|         2|          eqtl|                        10|                NULL|               COLOC|                 1.0|2.242372190892783...|1.855880689056423...|1.071308558812560...|0.007874577890271977|0.9920182724708012|FINNGEN_R12_K11_I...|2_181463487_G_A|                 gwas|2_181459459_CTT_C|                  eqtl|              -10|     false|         CEDAR|          eqtl|       naive|gwas_credible_sets|genetic_association|              EFO_0003767|0.9689002626744269|   ENSG00000115232|25c329216fa26744b...|0.9689002626744269|gwas_credible_sets|FINNGEN_R12_K11_I...|2_181463487_G_A| -0.035696772931153|            -8|inflammatory bowe...|[OTAR_0000018, EF...|LoF_protect|         1.0|         [INHIBITOR]|           NULL|              1|      yes|          neutrophil|\n",
      "|    CL_0002057|ENSG00000115232|EFO_0003767|faa6715e24a5b91a9...|quach_2016_ge_mon...|4376f0fdf4a5f1f0b...|         2|          eqtl|                         6|0.024747871210864823|             eCAVIAR|                 1.0|                NULL|                NULL|                NULL|                NULL|              NULL|FINNGEN_R12_K11_I...|2_181463487_G_A|                 gwas|  2_181443625_A_G|                  eqtl|               -9|     false|    Quach_2016|          eqtl|Influenza_6h|gwas_credible_sets|genetic_association|              EFO_0003767|0.9689002626744269|   ENSG00000115232|25c329216fa26744b...|0.9689002626744269|gwas_credible_sets|FINNGEN_R12_K11_I...|2_181463487_G_A| -0.035696772931153|            -8|inflammatory bowe...|[OTAR_0000018, EF...|LoF_protect|         1.0|         [INHIBITOR]|           NULL|              1|      yes|CD14-positive, CD...|\n",
      "|    CL_0002057|ENSG00000115232|EFO_0003767|faa6715e24a5b91a9...|quach_2016_ge_mon...|4376f0fdf4a5f1f0b...|         2|          eqtl|                         6|                NULL|               COLOC|                 1.0|1.612617392313968...|1.334669369066894...|4.269845961322880...|0.034373825705802094|0.9651991761901099|FINNGEN_R12_K11_I...|2_181463487_G_A|                 gwas|  2_181443625_A_G|                  eqtl|               -9|     false|    Quach_2016|          eqtl|Influenza_6h|gwas_credible_sets|genetic_association|              EFO_0003767|0.9689002626744269|   ENSG00000115232|25c329216fa26744b...|0.9689002626744269|gwas_credible_sets|FINNGEN_R12_K11_I...|2_181463487_G_A| -0.035696772931153|            -8|inflammatory bowe...|[OTAR_0000018, EF...|LoF_protect|         1.0|         [INHIBITOR]|           NULL|              1|      yes|CD14-positive, CD...|\n",
      "|    CL_0002057|ENSG00000115232|EFO_0003767|faa6715e24a5b91a9...|schmiedel_2018_ge...|d3612d7ec273cfc78...|         2|          eqtl|                         4| 0.05258271142149103|             eCAVIAR|                 1.0|                NULL|                NULL|                NULL|                NULL|              NULL|FINNGEN_R12_K11_I...|2_181463487_G_A|                 gwas|2_181459459_CTT_C|                  eqtl|              -15|     false|Schmiedel_2018|          eqtl|       naive|gwas_credible_sets|genetic_association|              EFO_0003767|0.9689002626744269|   ENSG00000115232|25c329216fa26744b...|0.9689002626744269|gwas_credible_sets|FINNGEN_R12_K11_I...|2_181463487_G_A| -0.035696772931153|            -8|inflammatory bowe...|[OTAR_0000018, EF...|LoF_protect|         1.0|         [INHIBITOR]|           NULL|              1|      yes|CD14-positive, CD...|\n",
      "|    CL_0002057|ENSG00000115232|EFO_0003767|faa6715e24a5b91a9...|schmiedel_2018_ge...|d3612d7ec273cfc78...|         2|          eqtl|                         4|                NULL|               COLOC|                 1.0|1.108235468661615...|9.172207577731434...|2.048421268887806...| 0.01596974231998342| 0.983825415553128|FINNGEN_R12_K11_I...|2_181463487_G_A|                 gwas|2_181459459_CTT_C|                  eqtl|              -15|     false|Schmiedel_2018|          eqtl|       naive|gwas_credible_sets|genetic_association|              EFO_0003767|0.9689002626744269|   ENSG00000115232|25c329216fa26744b...|0.9689002626744269|gwas_credible_sets|FINNGEN_R12_K11_I...|2_181463487_G_A| -0.035696772931153|            -8|inflammatory bowe...|[OTAR_0000018, EF...|LoF_protect|         1.0|         [INHIBITOR]|           NULL|              1|      yes|CD14-positive, CD...|\n",
      "|    CL_0000899|ENSG00000115232|EFO_0003767|faa6715e24a5b91a9...|schmiedel_2018_tx...|ca3be1c1cf77f4dec...|         2|         tuqtl|                         7| 0.14000421996173298|             eCAVIAR|                -1.0|                NULL|                NULL|                NULL|                NULL|              NULL|FINNGEN_R12_K11_I...|2_181463487_G_A|                 gwas|  2_181463487_G_A|                 tuqtl|               -8|     false|Schmiedel_2018|         tuqtl|       naive|gwas_credible_sets|genetic_association|              EFO_0003767|0.9689002626744269|   ENSG00000115232|25c329216fa26744b...|0.9689002626744269|gwas_credible_sets|FINNGEN_R12_K11_I...|2_181463487_G_A| -0.035696772931153|            -8|inflammatory bowe...|[OTAR_0000018, EF...|GoF_protect|         1.0|         [INHIBITOR]|           NULL|              1|       no|    T-helper 17 cell|\n",
      "|    CL_0000899|ENSG00000115232|EFO_0003767|faa6715e24a5b91a9...|schmiedel_2018_tx...|ca3be1c1cf77f4dec...|         2|         tuqtl|                         7|                NULL|               COLOC|                -1.0|2.707137664344669...|2.240534552408018...|7.737967296786947E-5|0.005409735921847723| 0.994512861729125|FINNGEN_R12_K11_I...|2_181463487_G_A|                 gwas|  2_181463487_G_A|                 tuqtl|               -8|     false|Schmiedel_2018|         tuqtl|       naive|gwas_credible_sets|genetic_association|              EFO_0003767|0.9689002626744269|   ENSG00000115232|25c329216fa26744b...|0.9689002626744269|gwas_credible_sets|FINNGEN_R12_K11_I...|2_181463487_G_A| -0.035696772931153|            -8|inflammatory bowe...|[OTAR_0000018, EF...|GoF_protect|         1.0|         [INHIBITOR]|           NULL|              1|       no|    T-helper 17 cell|\n",
      "|    CL_0002057|ENSG00000115232|EFO_0003767|faa6715e24a5b91a9...|fairfax_2014_micr...|4e50f07cab96ab7fd...|         2|          eqtl|                         4|  0.0166562389324015|             eCAVIAR|                 1.0|                NULL|                NULL|                NULL|                NULL|              NULL|FINNGEN_R12_K11_I...|2_181463487_G_A|                 gwas|  2_181451158_G_T|                  eqtl|              -14|     false|  Fairfax_2014|          eqtl|       naive|gwas_credible_sets|genetic_association|              EFO_0003767|0.9689002626744269|   ENSG00000115232|25c329216fa26744b...|0.9689002626744269|gwas_credible_sets|FINNGEN_R12_K11_I...|2_181463487_G_A| -0.035696772931153|            -8|inflammatory bowe...|[OTAR_0000018, EF...|LoF_protect|         1.0|         [INHIBITOR]|           NULL|              1|      yes|CD14-positive, CD...|\n",
      "|    CL_0002057|ENSG00000115232|EFO_0003767|faa6715e24a5b91a9...|fairfax_2014_micr...|4e50f07cab96ab7fd...|         2|          eqtl|                         4|                NULL|               COLOC|                 1.0|8.855255560096955...|7.328969740443266...|6.235905443691965E-4| 0.05066217603498331|0.9487142334205751|FINNGEN_R12_K11_I...|2_181463487_G_A|                 gwas|  2_181451158_G_T|                  eqtl|              -14|     false|  Fairfax_2014|          eqtl|       naive|gwas_credible_sets|genetic_association|              EFO_0003767|0.9689002626744269|   ENSG00000115232|25c329216fa26744b...|0.9689002626744269|gwas_credible_sets|FINNGEN_R12_K11_I...|2_181463487_G_A| -0.035696772931153|            -8|inflammatory bowe...|[OTAR_0000018, EF...|LoF_protect|         1.0|         [INHIBITOR]|           NULL|              1|      yes|CD14-positive, CD...|\n",
      "|    CL_0002057|ENSG00000115232|EFO_0003767|faa6715e24a5b91a9...|blueprint_txrev_m...|4f8766f48f62c18ad...|         2|         tuqtl|                        11| 0.09386908077075351|             eCAVIAR|                -1.0|                NULL|                NULL|                NULL|                NULL|              NULL|FINNGEN_R12_K11_I...|2_181463487_G_A|                 gwas|  2_181469957_C_T|                 tuqtl|               -8|     false|     BLUEPRINT|         tuqtl|       naive|gwas_credible_sets|genetic_association|              EFO_0003767|0.9689002626744269|   ENSG00000115232|25c329216fa26744b...|0.9689002626744269|gwas_credible_sets|FINNGEN_R12_K11_I...|2_181463487_G_A| -0.035696772931153|            -8|inflammatory bowe...|[OTAR_0000018, EF...|GoF_protect|         1.0|         [INHIBITOR]|           NULL|              1|       no|CD14-positive, CD...|\n",
      "|    CL_0002057|ENSG00000115232|EFO_0003767|faa6715e24a5b91a9...|blueprint_txrev_m...|4f8766f48f62c18ad...|         2|         tuqtl|                        11|                NULL|               COLOC|                -1.0|1.210043274491829...|1.001481039501519...|1.153403998264575...|0.008554812214407502| 0.991228489238541|FINNGEN_R12_K11_I...|2_181463487_G_A|                 gwas|  2_181469957_C_T|                 tuqtl|               -8|     false|     BLUEPRINT|         tuqtl|       naive|gwas_credible_sets|genetic_association|              EFO_0003767|0.9689002626744269|   ENSG00000115232|25c329216fa26744b...|0.9689002626744269|gwas_credible_sets|FINNGEN_R12_K11_I...|2_181463487_G_A| -0.035696772931153|            -8|inflammatory bowe...|[OTAR_0000018, EF...|GoF_protect|         1.0|         [INHIBITOR]|           NULL|              1|       no|CD14-positive, CD...|\n",
      "|    CL_0002057|ENSG00000115232|EFO_0003767|faa6715e24a5b91a9...|cedar_microarray_...|8236d168047e458de...|         2|          eqtl|                         4|                NULL|               COLOC|                 1.0|7.703258867280315...|6.375538116576542...|0.002066687817903765|  0.1702199846029248|0.8277133275727202|FINNGEN_R12_K11_I...|2_181463487_G_A|                 gwas|  2_181443625_A_G|                  eqtl|              -14|     false|         CEDAR|          eqtl|       naive|gwas_credible_sets|genetic_association|              EFO_0003767|0.9689002626744269|   ENSG00000115232|25c329216fa26744b...|0.9689002626744269|gwas_credible_sets|FINNGEN_R12_K11_I...|2_181463487_G_A| -0.035696772931153|            -8|inflammatory bowe...|[OTAR_0000018, EF...|LoF_protect|         1.0|         [INHIBITOR]|           NULL|              1|      yes|CD14-positive, CD...|\n",
      "|UBERON_0002369|ENSG00000115232|EFO_0003767|faa6715e24a5b91a9...|gtex_ge_adrenal_g...|3c0931cfd8c8bf62d...|         2|          eqtl|                         9| 0.09877935584021581|             eCAVIAR|                 1.0|                NULL|                NULL|                NULL|                NULL|              NULL|FINNGEN_R12_K11_I...|2_181463487_G_A|                 gwas|  2_181463487_G_A|                  eqtl|               -7|     false|          GTEx|          eqtl|       naive|gwas_credible_sets|genetic_association|              EFO_0003767|0.9689002626744269|   ENSG00000115232|25c329216fa26744b...|0.9689002626744269|gwas_credible_sets|FINNGEN_R12_K11_I...|2_181463487_G_A| -0.035696772931153|            -8|inflammatory bowe...|[OTAR_0000018, EF...|LoF_protect|         1.0|         [INHIBITOR]|           NULL|              1|      yes|       adrenal gland|\n",
      "|UBERON_0002369|ENSG00000115232|EFO_0003767|faa6715e24a5b91a9...|gtex_ge_adrenal_g...|3c0931cfd8c8bf62d...|         2|          eqtl|                         9|                NULL|               COLOC|                 1.0|7.272145340134922E-8|6.018723320207689...|1.096838060941941...|0.008086079849987242|0.9917981448991456|FINNGEN_R12_K11_I...|2_181463487_G_A|                 gwas|  2_181463487_G_A|                  eqtl|               -7|     false|          GTEx|          eqtl|       naive|gwas_credible_sets|genetic_association|              EFO_0003767|0.9689002626744269|   ENSG00000115232|25c329216fa26744b...|0.9689002626744269|gwas_credible_sets|FINNGEN_R12_K11_I...|2_181463487_G_A| -0.035696772931153|            -8|inflammatory bowe...|[OTAR_0000018, EF...|LoF_protect|         1.0|         [INHIBITOR]|           NULL|              1|      yes|       adrenal gland|\n",
      "|    CL_0002057|ENSG00000115232|EFO_0003767|faa6715e24a5b91a9...|perez_2022_ge_cm_...|abbe5a5081c01be60...|         2|        sceqtl|                         6|  0.0596040569164886|             eCAVIAR|                 1.0|                NULL|                NULL|                NULL|                NULL|              NULL|FINNGEN_R12_K11_I...|2_181463487_G_A|                 gwas|2_181459459_CTT_C|                sceqtl|               -8|     false|    Perez_2022|        sceqtl|       naive|gwas_credible_sets|genetic_association|              EFO_0003767|0.9689002626744269|   ENSG00000115232|25c329216fa26744b...|0.9689002626744269|gwas_credible_sets|FINNGEN_R12_K11_I...|2_181463487_G_A| -0.035696772931153|            -8|inflammatory bowe...|[OTAR_0000018, EF...|LoF_protect|         1.0|         [INHIBITOR]|           NULL|              1|      yes|CD14-positive, CD...|\n",
      "+--------------+---------------+-----------+--------------------+--------------------+--------------------+----------+--------------+--------------------------+--------------------+--------------------+--------------------+--------------------+--------------------+--------------------+--------------------+------------------+--------------------+---------------+---------------------+-----------------+----------------------+-----------------+----------+--------------+--------------+------------+------------------+-------------------+-------------------------+------------------+------------------+--------------------+------------------+------------------+--------------------+---------------+-------------------+--------------+--------------------+--------------------+-----------+------------+--------------------+---------------+---------------+---------+--------------------+\n",
      "only showing top 20 rows\n",
      "\n"
     ]
    }
   ],
   "source": [
    "benchmark.filter(F.col('biosampleId').isNotNull()).show()"
   ]
  },
  {
   "cell_type": "code",
   "execution_count": null,
   "metadata": {},
   "outputs": [],
   "source": []
  },
  {
   "cell_type": "code",
   "execution_count": null,
   "metadata": {},
   "outputs": [],
   "source": [
    "# --- Prepare dataset for iterative pivoting ---\n",
    "current_col_pvalue_order_window = Window.partitionBy(\"targetId\", \"diseaseId\", \"maxClinPhase\", col_name).orderBy(F.col('colocalisationMethod').asc(), F.col(\"qtlPValueExponent\").asc())\n",
    "test2=discrepancifier(\n",
    "    benchmark\n",
    "    .withColumn('colocDoE',)\n",
    "    .groupBy(\n",
    "        \"targetId\", \"diseaseId\", \"maxClinPhase\", \"drugLoF_protect\", \"drugGoF_protect\",'actionType2', 'biosampleName', 'projectId', 'rightStudyType','colocalisationMethod','qtlPValueExponent'\n",
    "    )\n",
    "    .pivot(\"colocDoE\")\n",
    "    .count()\n",
    "    .withColumnRenamed('drugLoF_protect', 'LoF_protect_ch')\n",
    "    .withColumnRenamed('drugGoF_protect', 'GoF_protect_ch')\n",
    "\n",
    ").withColumn( ## .filter(F.col('coherencyDiagonal')!='noEvid')\n",
    "    \"arrayN\", F.array(*[F.col(c) for c in doe_columns])\n",
    ").withColumn(\n",
    "    \"maxDoE\", F.array_max(F.col(\"arrayN\"))\n",
    ").withColumn(\"maxDoE_names\", F.array(*conditions)\n",
    ").withColumn(\"maxDoE_names\", F.expr(\"filter(maxDoE_names, x -> x is not null)\")\n",
    ").withColumn(\n",
    "    \"NoneCellYes\",\n",
    "    F.when((F.col(\"LoF_protect_ch\").isNotNull() & (F.col('GoF_protect_ch').isNull())) & (F.array_contains(F.col(\"maxDoE_names\"), F.lit(\"LoF_protect\")))==True, F.lit('yes'))\n",
    "    .when((F.col(\"GoF_protect_ch\").isNotNull() & (F.col('LoF_protect_ch').isNull())) & (F.array_contains(F.col(\"maxDoE_names\"), F.lit(\"GoF_protect\")))==True, F.lit('yes')\n",
    "        ).otherwise(F.lit('no'))  # If the value is null, return null # Otherwise, check if name is in array\n",
    ").withColumn(\n",
    "    \"NdiagonalYes\",\n",
    "    F.when((F.col(\"LoF_protect_ch\").isNotNull() & (F.col('GoF_protect_ch').isNull())) & \n",
    "        (F.size(F.array_intersect(F.col(\"maxDoE_names\"), F.array([F.lit(x) for x in diagonal_lof]))) > 0),\n",
    "        F.lit(\"yes\")\n",
    "    ).when((F.col(\"GoF_protect_ch\").isNotNull() & (F.col('LoF_protect_ch').isNull())) & \n",
    "        (F.size(F.array_intersect(F.col(\"maxDoE_names\"), F.array([F.lit(x) for x in diagonal_gof]))) > 0),\n",
    "        F.lit(\"yes\")\n",
    "    ).otherwise(F.lit('no'))\n",
    ").withColumn(\n",
    "    \"drugCoherency\",\n",
    "    F.when(\n",
    "        (F.col(\"LoF_protect_ch\").isNotNull())\n",
    "        & (F.col(\"GoF_protect_ch\").isNull()), F.lit(\"coherent\")\n",
    "    )\n",
    "    .when(\n",
    "        (F.col(\"LoF_protect_ch\").isNull())\n",
    "        & (F.col(\"GoF_protect_ch\").isNotNull()), F.lit(\"coherent\")\n",
    "    )\n",
    "    .when(\n",
    "        (F.col(\"LoF_protect_ch\").isNotNull())\n",
    "        & (F.col(\"GoF_protect_ch\").isNotNull()), F.lit(\"dispar\")\n",
    "    )\n",
    "    .otherwise(F.lit(\"other\")),\n",
    ").join(negativeTD, on=[\"targetId\", \"diseaseId\"], how=\"left\").withColumn(\n",
    "    \"PhaseT\",\n",
    "    F.when(F.col(\"stopReason\") == \"Negative\", F.lit(\"yes\")).otherwise(F.lit(\"no\")),\n",
    ").withColumn(\n",
    "    \"phase4Clean\",\n",
    "    F.when(\n",
    "        (F.col(\"maxClinPhase\") == 4) & (F.col(\"PhaseT\") == \"no\"), F.lit(\"yes\")\n",
    "    ).otherwise(F.lit(\"no\")),\n",
    ").withColumn(\n",
    "    \"phase3Clean\",\n",
    "    F.when(\n",
    "        (F.col(\"maxClinPhase\") >= 3) & (F.col(\"PhaseT\") == \"no\"), F.lit(\"yes\")\n",
    "    ).otherwise(F.lit(\"no\")),\n",
    ").withColumn(\n",
    "    \"phase2Clean\",\n",
    "    F.when(\n",
    "        (F.col(\"maxClinPhase\") >= 2) & (F.col(\"PhaseT\") == \"no\"), F.lit(\"yes\")\n",
    "    ).otherwise(F.lit(\"no\")),\n",
    ").withColumn(\n",
    "    \"phase1Clean\",\n",
    "    F.when(\n",
    "        (F.col(\"maxClinPhase\") >= 1) & (F.col(\"PhaseT\") == \"no\"), F.lit(\"yes\")\n",
    "    ).otherwise(F.lit(\"no\")),\n",
    ").withColumn(\n",
    "    \"hasGenetics\",\n",
    "    F.when(F.col(\"coherencyDiagonal\") != \"noEvid\", F.lit(\"yes\")).otherwise(F.lit(\"no\")),\n",
    ").withColumn( ### convert array column actionType2 to string\n",
    "    \"actionType2\",\n",
    "    F.concat_ws(\", \", F.col(\"actionType2\"))\n",
    ").persist()\n"
   ]
  },
  {
   "cell_type": "code",
   "execution_count": null,
   "metadata": {},
   "outputs": [
    {
     "name": "stderr",
     "output_type": "stream",
     "text": [
      "                                                                                \r"
     ]
    }
   ],
   "source": [
    "# --- Prepare dataset for iterative pivoting ---\n",
    "test2=discrepancifier(\n",
    "    benchmark.groupBy(\n",
    "        \"targetId\", \"diseaseId\", \"maxClinPhase\", \"drugLoF_protect\", \"drugGoF_protect\",'actionType2', 'biosampleName', 'projectId', 'rightStudyType',\n",
    "    )\n",
    "    .pivot(\"colocDoE\")\n",
    "    .count()\n",
    "    .withColumnRenamed('drugLoF_protect', 'LoF_protect_ch')\n",
    "    .withColumnRenamed('drugGoF_protect', 'GoF_protect_ch')\n",
    "\n",
    ").withColumn( ## .filter(F.col('coherencyDiagonal')!='noEvid')\n",
    "    \"arrayN\", F.array(*[F.col(c) for c in doe_columns])\n",
    ").withColumn(\n",
    "    \"maxDoE\", F.array_max(F.col(\"arrayN\"))\n",
    ").withColumn(\"maxDoE_names\", F.array(*conditions)\n",
    ").withColumn(\"maxDoE_names\", F.expr(\"filter(maxDoE_names, x -> x is not null)\")\n",
    ").withColumn(\n",
    "    \"NoneCellYes\",\n",
    "    F.when((F.col(\"LoF_protect_ch\").isNotNull() & (F.col('GoF_protect_ch').isNull())) & (F.array_contains(F.col(\"maxDoE_names\"), F.lit(\"LoF_protect\")))==True, F.lit('yes'))\n",
    "    .when((F.col(\"GoF_protect_ch\").isNotNull() & (F.col('LoF_protect_ch').isNull())) & (F.array_contains(F.col(\"maxDoE_names\"), F.lit(\"GoF_protect\")))==True, F.lit('yes')\n",
    "        ).otherwise(F.lit('no'))  # If the value is null, return null # Otherwise, check if name is in array\n",
    ").withColumn(\n",
    "    \"NdiagonalYes\",\n",
    "    F.when((F.col(\"LoF_protect_ch\").isNotNull() & (F.col('GoF_protect_ch').isNull())) & \n",
    "        (F.size(F.array_intersect(F.col(\"maxDoE_names\"), F.array([F.lit(x) for x in diagonal_lof]))) > 0),\n",
    "        F.lit(\"yes\")\n",
    "    ).when((F.col(\"GoF_protect_ch\").isNotNull() & (F.col('LoF_protect_ch').isNull())) & \n",
    "        (F.size(F.array_intersect(F.col(\"maxDoE_names\"), F.array([F.lit(x) for x in diagonal_gof]))) > 0),\n",
    "        F.lit(\"yes\")\n",
    "    ).otherwise(F.lit('no'))\n",
    ").withColumn(\n",
    "    \"drugCoherency\",\n",
    "    F.when(\n",
    "        (F.col(\"LoF_protect_ch\").isNotNull())\n",
    "        & (F.col(\"GoF_protect_ch\").isNull()), F.lit(\"coherent\")\n",
    "    )\n",
    "    .when(\n",
    "        (F.col(\"LoF_protect_ch\").isNull())\n",
    "        & (F.col(\"GoF_protect_ch\").isNotNull()), F.lit(\"coherent\")\n",
    "    )\n",
    "    .when(\n",
    "        (F.col(\"LoF_protect_ch\").isNotNull())\n",
    "        & (F.col(\"GoF_protect_ch\").isNotNull()), F.lit(\"dispar\")\n",
    "    )\n",
    "    .otherwise(F.lit(\"other\")),\n",
    ").join(negativeTD, on=[\"targetId\", \"diseaseId\"], how=\"left\").withColumn(\n",
    "    \"PhaseT\",\n",
    "    F.when(F.col(\"stopReason\") == \"Negative\", F.lit(\"yes\")).otherwise(F.lit(\"no\")),\n",
    ").withColumn(\n",
    "    \"phase4Clean\",\n",
    "    F.when(\n",
    "        (F.col(\"maxClinPhase\") == 4) & (F.col(\"PhaseT\") == \"no\"), F.lit(\"yes\")\n",
    "    ).otherwise(F.lit(\"no\")),\n",
    ").withColumn(\n",
    "    \"phase3Clean\",\n",
    "    F.when(\n",
    "        (F.col(\"maxClinPhase\") >= 3) & (F.col(\"PhaseT\") == \"no\"), F.lit(\"yes\")\n",
    "    ).otherwise(F.lit(\"no\")),\n",
    ").withColumn(\n",
    "    \"phase2Clean\",\n",
    "    F.when(\n",
    "        (F.col(\"maxClinPhase\") >= 2) & (F.col(\"PhaseT\") == \"no\"), F.lit(\"yes\")\n",
    "    ).otherwise(F.lit(\"no\")),\n",
    ").withColumn(\n",
    "    \"phase1Clean\",\n",
    "    F.when(\n",
    "        (F.col(\"maxClinPhase\") >= 1) & (F.col(\"PhaseT\") == \"no\"), F.lit(\"yes\")\n",
    "    ).otherwise(F.lit(\"no\")),\n",
    ").withColumn(\n",
    "    \"hasGenetics\",\n",
    "    F.when(F.col(\"coherencyDiagonal\") != \"noEvid\", F.lit(\"yes\")).otherwise(F.lit(\"no\")),\n",
    ").withColumn( ### convert array column actionType2 to string\n",
    "    \"actionType2\",\n",
    "    F.concat_ws(\", \", F.col(\"actionType2\"))\n",
    ").persist()\n"
   ]
  },
  {
   "cell_type": "code",
   "execution_count": null,
   "metadata": {},
   "outputs": [],
   "source": [
    "# --- Configuration for your iterative pivoting ---\n",
    "group_by_columns = ['targetId', 'diseaseId','phase4Clean','phase3Clean','phase2Clean','phase1Clean','PhaseT']\n",
    "columns_to_pivot_on = ['actionType2', 'biosampleName', 'projectId', 'rightStudyType']\n",
    "columns_to_aggregate = ['NoneCellYes', 'NdiagonalYes','hasGenetics'] # The values you want to collect in the pivoted cells\n",
    "all_pivoted_dfs = {}\n",
    "current_col_pvalue_order_window = Window.partitionBy(\"targetId\", \"diseaseId\", col_name).orderBy(F.col('colocalisationMethod').asc(), F.col(\"qtlPValueExponent\").asc())"
   ]
  },
  {
   "cell_type": "code",
   "execution_count": 29,
   "metadata": {},
   "outputs": [
    {
     "data": {
      "text/plain": [
       "['biosampleId',\n",
       " 'targetId',\n",
       " 'diseaseId',\n",
       " 'leftStudyLocusId',\n",
       " 'rightStudyId',\n",
       " 'rightStudyLocusId',\n",
       " 'chromosome',\n",
       " 'rightStudyType',\n",
       " 'numberColocalisingVariants',\n",
       " 'clpp',\n",
       " 'colocalisationMethod',\n",
       " 'betaRatioSignAverage',\n",
       " 'h0',\n",
       " 'h1',\n",
       " 'h2',\n",
       " 'h3',\n",
       " 'h4',\n",
       " 'leftStudyId',\n",
       " 'leftVariantId',\n",
       " 'credibleLeftStudyType',\n",
       " 'rightVariantId',\n",
       " 'credibleRightStudyType',\n",
       " 'qtlPValueExponent',\n",
       " 'isTransQtl',\n",
       " 'projectId',\n",
       " 'indexStudyType',\n",
       " 'condition',\n",
       " 'datasourceId',\n",
       " 'datatypeId',\n",
       " 'diseaseFromSourceMappedId',\n",
       " 'resourceScore',\n",
       " 'targetFromSourceId',\n",
       " 'id',\n",
       " 'score',\n",
       " 'sourceId',\n",
       " 'studyId',\n",
       " 'variantId',\n",
       " 'betaGwas',\n",
       " 'pValueExponent',\n",
       " 'name',\n",
       " 'therapeuticAreas',\n",
       " 'colocDoE',\n",
       " 'maxClinPhase',\n",
       " 'actionType2',\n",
       " 'drugGoF_protect',\n",
       " 'drugLoF_protect',\n",
       " 'AgreeDrug',\n",
       " 'biosampleName']"
      ]
     },
     "execution_count": 29,
     "metadata": {},
     "output_type": "execute_result"
    }
   ],
   "source": [
    "benchmark.columns"
   ]
  },
  {
   "cell_type": "code",
   "execution_count": 68,
   "metadata": {},
   "outputs": [
    {
     "name": "stdout",
     "output_type": "stream",
     "text": [
      "\n",
      "--- Creating DataFrame for Aggregation: 'NoneCellYes' and Pivot: 'actionType2' ---\n"
     ]
    },
    {
     "name": "stderr",
     "output_type": "stream",
     "text": [
      "25/07/15 08:24:24 WARN CacheManager: Asked to cache already cached data.        \n",
      "                                                                                \r"
     ]
    },
    {
     "name": "stdout",
     "output_type": "stream",
     "text": [
      "Distinct values for 'actionType2': ['NEGATIVE ALLOSTERIC MODULATOR', 'CROSS-LINKING AGENT', 'ANTAGONIST', 'BINDING AGENT', 'ACTIVATOR', 'BLOCKER', 'INHIBITOR', 'POSITIVE MODULATOR', 'OTHER', 'AGONIST', 'OPENER', 'HYDROLYTIC ENZYME', 'STABILISER', 'DISRUPTING AGENT', 'POSITIVE ALLOSTERIC MODULATOR', 'INVERSE AGONIST', 'RELEASING AGENT', 'MODULATOR', 'EXOGENOUS PROTEIN', 'EXOGENOUS GENE', 'PARTIAL AGONIST', 'INHIBITOR,DISRUPTING AGENT', 'INHIBITOR,NEGATIVE ALLOSTERIC MODULATOR', 'BINDING AGENT,AGONIST', '', 'AGONIST,PARTIAL AGONIST', 'ALLOSTERIC ANTAGONIST', 'RNAI INHIBITOR', 'ANTISENSE INHIBITOR', 'AGONIST,MODULATOR', 'VACCINE ANTIGEN', 'NEGATIVE MODULATOR', 'SUBSTRATE', 'DEGRADER', 'ANTAGONIST,INHIBITOR', 'PROTEOLYTIC ENZYME']\n",
      "Identified ArrayType columns for conversion: ['NEGATIVE ALLOSTERIC MODULATOR', 'CROSS-LINKING AGENT', 'ANTAGONIST', 'BINDING AGENT', 'ACTIVATOR', 'BLOCKER', 'INHIBITOR', 'POSITIVE MODULATOR', 'OTHER', 'AGONIST', 'OPENER', 'HYDROLYTIC ENZYME', 'STABILISER', 'DISRUPTING AGENT', 'POSITIVE ALLOSTERIC MODULATOR', 'INVERSE AGONIST', 'RELEASING AGENT', 'MODULATOR', 'EXOGENOUS PROTEIN', 'EXOGENOUS GENE', 'PARTIAL AGONIST', 'INHIBITOR,DISRUPTING AGENT', 'INHIBITOR,NEGATIVE ALLOSTERIC MODULATOR', 'BINDING AGENT,AGONIST', '', 'AGONIST,PARTIAL AGONIST', 'ALLOSTERIC ANTAGONIST', 'RNAI INHIBITOR', 'ANTISENSE INHIBITOR', 'AGONIST,MODULATOR', 'VACCINE ANTIGEN', 'NEGATIVE MODULATOR', 'SUBSTRATE', 'DEGRADER', 'ANTAGONIST,INHIBITOR', 'PROTEOLYTIC ENZYME']\n",
      "\n",
      "--- Creating DataFrame for Aggregation: 'NoneCellYes' and Pivot: 'biosampleName' ---\n"
     ]
    },
    {
     "name": "stderr",
     "output_type": "stream",
     "text": [
      "25/07/15 08:24:28 WARN CacheManager: Asked to cache already cached data.        \n",
      "                                                                                \r"
     ]
    },
    {
     "name": "stdout",
     "output_type": "stream",
     "text": [
      "Distinct values for 'biosampleName': ['dorsolateral prefrontal cortex', 'lymphoblastoid cell line', 'skeletal muscle tissue', 'tibial nerve', 'upper lobe of left lung', 'prostate gland', 'gastroesophageal sphincter', 'T-helper 17 cell', 'ascending aorta', 'induced pluripotent stem cell', 'adipose tissue', 'right atrium auricular region', 'blood plasma', 'CD14-positive, CD16-negative classical monocyte', 'stomach', 'left ventricle myocardium', 'thyroid gland', 'breast epithelium', 'right lobe of liver', 'spleen', 'esophagus muscularis mucosa', 'omental fat pad', 'esophagus squamous epithelium', 'tibial artery', 'blood', 'skin of body', 'CD4-positive, alpha-beta T cell', 'cerebellum', 'suprapubic skin', \"Ammon's horn\", \"Peyer's patch\", 'amygdala', 'transverse colon', 'substantia nigra', 'nucleus accumbens', 'sigmoid colon', 'caudate nucleus', 'C1 segment of cervical spinal cord', 'ovary', 'fibroblast', 'hypothalamus', 'CD8-positive, alpha-beta T cell', 'body of pancreas', 'pituitary gland', 'adrenal gland', 'putamen', 'testis', 'coronary artery', 'placenta', 'islet of Langerhans', 'cartilage tissue', 'neutrophil', 'anterior lingual gland', 'uterus', 'macrophage', 'vagina', 'naive regulatory T cell', 'T-helper 1 cell', 'frontal cortex', 'T-helper 2 cell', 'neocortex', 'anterior cingulate cortex', 'CD14-low, CD16-positive monocyte', 'natural killer cell', 'sensory neuron', 'neural progenitor cell', 'effector memory CD8-positive, alpha-beta T cell', 'dopaminergic neuron', 'T cell', 'floor plate', 'microglial cell', 'B cell', 'cortex of kidney', 'T follicular helper cell', 'memory regulatory T cell', 'central memory CD4-positive, alpha-beta T cell', 'layer of synovial tissue', 'CD4-positive, alpha-beta memory T cell', 'hepatocyte', 'ileum', 'rectum', 'mucosal invariant T cell', 'double negative thymocyte', 'gamma-delta T cell', 'dendritic cell', 'CD16-negative, CD56-bright natural killer cell, human', 'memory B cell', 'neuron', 'plasmablast', 'plasmacytoid dendritic cell', 'astrocyte', 'CD4-positive, alpha-beta cytotoxic T cell', 'central memory CD8-positive, alpha-beta T cell', 'platelet', 'ependymal cell', 'hematopoietic precursor cell', 'serotonergic neuron', 'effector memory CD4-positive, alpha-beta T cell', None]\n",
      "Identified ArrayType columns for conversion: ['dorsolateral prefrontal cortex', 'lymphoblastoid cell line', 'skeletal muscle tissue', 'tibial nerve', 'upper lobe of left lung', 'prostate gland', 'gastroesophageal sphincter', 'T-helper 17 cell', 'ascending aorta', 'induced pluripotent stem cell', 'adipose tissue', 'right atrium auricular region', 'blood plasma', 'CD14-positive, CD16-negative classical monocyte', 'stomach', 'left ventricle myocardium', 'thyroid gland', 'breast epithelium', 'right lobe of liver', 'spleen', 'esophagus muscularis mucosa', 'omental fat pad', 'esophagus squamous epithelium', 'tibial artery', 'blood', 'skin of body', 'CD4-positive, alpha-beta T cell', 'cerebellum', 'suprapubic skin', \"Ammon's horn\", \"Peyer's patch\", 'amygdala', 'transverse colon', 'substantia nigra', 'nucleus accumbens', 'sigmoid colon', 'caudate nucleus', 'C1 segment of cervical spinal cord', 'ovary', 'fibroblast', 'hypothalamus', 'CD8-positive, alpha-beta T cell', 'body of pancreas', 'pituitary gland', 'adrenal gland', 'putamen', 'testis', 'coronary artery', 'placenta', 'islet of Langerhans', 'cartilage tissue', 'neutrophil', 'anterior lingual gland', 'uterus', 'macrophage', 'vagina', 'naive regulatory T cell', 'T-helper 1 cell', 'frontal cortex', 'T-helper 2 cell', 'neocortex', 'anterior cingulate cortex', 'CD14-low, CD16-positive monocyte', 'natural killer cell', 'sensory neuron', 'neural progenitor cell', 'effector memory CD8-positive, alpha-beta T cell', 'dopaminergic neuron', 'T cell', 'floor plate', 'microglial cell', 'B cell', 'cortex of kidney', 'T follicular helper cell', 'memory regulatory T cell', 'central memory CD4-positive, alpha-beta T cell', 'layer of synovial tissue', 'CD4-positive, alpha-beta memory T cell', 'hepatocyte', 'ileum', 'rectum', 'mucosal invariant T cell', 'double negative thymocyte', 'gamma-delta T cell', 'dendritic cell', 'CD16-negative, CD56-bright natural killer cell, human', 'memory B cell', 'neuron', 'plasmablast', 'plasmacytoid dendritic cell', 'astrocyte', 'CD4-positive, alpha-beta cytotoxic T cell', 'central memory CD8-positive, alpha-beta T cell', 'platelet', 'ependymal cell', 'hematopoietic precursor cell', 'serotonergic neuron', 'effector memory CD4-positive, alpha-beta T cell', 'null']\n",
      "\n",
      "--- Creating DataFrame for Aggregation: 'NoneCellYes' and Pivot: 'projectId' ---\n"
     ]
    },
    {
     "name": "stderr",
     "output_type": "stream",
     "text": [
      "25/07/15 08:24:36 WARN CacheManager: Asked to cache already cached data.\n"
     ]
    },
    {
     "name": "stdout",
     "output_type": "stream",
     "text": [
      "Distinct values for 'projectId': ['ROSMAP', 'GENCORD', 'HipSci', 'GTEx', 'Schmiedel_2018', 'Lepik_2017', 'TwinsUK', 'UKB_PPP_EUR', 'FUSION', 'Quach_2016', 'GEUVADIS', 'Cytoimmgen', 'CommonMind', 'PhLiPS', 'Peng_2018', 'BrainSeq', 'van_de_Bunt_2015', 'PISA', 'Fairfax_2014', 'Nedelec_2016', 'Bossini-Castillo_2019', 'BLUEPRINT', 'Alasoo_2018', 'Steinberg_2020', 'iPSCORE', 'CAP', 'OneK1K', 'Walker_2019', 'Gilchrist_2021', 'Aygun_2021', 'Schwartzentruber_2018', 'Sun_2018', 'Kim-Hellmuth_2017', 'Jerber_2021', 'CEDAR', 'Young_2019', 'Fairfax_2012', 'Perez_2022', 'Nathan_2022', 'Kasela_2017', 'Braineac2', 'Naranbhai_2015', 'Randolph_2021', None]\n",
      "Identified ArrayType columns for conversion: ['ROSMAP', 'GENCORD', 'HipSci', 'GTEx', 'Schmiedel_2018', 'Lepik_2017', 'TwinsUK', 'UKB_PPP_EUR', 'FUSION', 'Quach_2016', 'GEUVADIS', 'Cytoimmgen', 'CommonMind', 'PhLiPS', 'Peng_2018', 'BrainSeq', 'van_de_Bunt_2015', 'PISA', 'Fairfax_2014', 'Nedelec_2016', 'Bossini-Castillo_2019', 'BLUEPRINT', 'Alasoo_2018', 'Steinberg_2020', 'iPSCORE', 'CAP', 'OneK1K', 'Walker_2019', 'Gilchrist_2021', 'Aygun_2021', 'Schwartzentruber_2018', 'Sun_2018', 'Kim-Hellmuth_2017', 'Jerber_2021', 'CEDAR', 'Young_2019', 'Fairfax_2012', 'Perez_2022', 'Nathan_2022', 'Kasela_2017', 'Braineac2', 'Naranbhai_2015', 'Randolph_2021', 'null']\n",
      "\n",
      "--- Creating DataFrame for Aggregation: 'NoneCellYes' and Pivot: 'rightStudyType' ---\n"
     ]
    },
    {
     "name": "stderr",
     "output_type": "stream",
     "text": [
      "25/07/15 08:24:40 WARN CacheManager: Asked to cache already cached data.        \n"
     ]
    },
    {
     "name": "stdout",
     "output_type": "stream",
     "text": [
      "Distinct values for 'rightStudyType': ['eqtl', 'tuqtl', 'pqtl', 'sqtl', 'sceqtl', None]\n",
      "Identified ArrayType columns for conversion: ['eqtl', 'tuqtl', 'pqtl', 'sqtl', 'sceqtl', 'null']\n",
      "\n",
      "--- Creating DataFrame for Aggregation: 'NdiagonalYes' and Pivot: 'actionType2' ---\n"
     ]
    },
    {
     "name": "stderr",
     "output_type": "stream",
     "text": [
      "25/07/15 08:24:43 WARN CacheManager: Asked to cache already cached data.        \n",
      "                                                                                \r"
     ]
    },
    {
     "name": "stdout",
     "output_type": "stream",
     "text": [
      "Distinct values for 'actionType2': ['NEGATIVE ALLOSTERIC MODULATOR', 'CROSS-LINKING AGENT', 'ANTAGONIST', 'BINDING AGENT', 'ACTIVATOR', 'BLOCKER', 'INHIBITOR', 'POSITIVE MODULATOR', 'OTHER', 'AGONIST', 'OPENER', 'HYDROLYTIC ENZYME', 'STABILISER', 'DISRUPTING AGENT', 'POSITIVE ALLOSTERIC MODULATOR', 'INVERSE AGONIST', 'RELEASING AGENT', 'MODULATOR', 'EXOGENOUS PROTEIN', 'EXOGENOUS GENE', 'PARTIAL AGONIST', 'INHIBITOR,DISRUPTING AGENT', 'INHIBITOR,NEGATIVE ALLOSTERIC MODULATOR', 'BINDING AGENT,AGONIST', '', 'AGONIST,PARTIAL AGONIST', 'ALLOSTERIC ANTAGONIST', 'RNAI INHIBITOR', 'ANTISENSE INHIBITOR', 'AGONIST,MODULATOR', 'VACCINE ANTIGEN', 'NEGATIVE MODULATOR', 'SUBSTRATE', 'DEGRADER', 'ANTAGONIST,INHIBITOR', 'PROTEOLYTIC ENZYME']\n",
      "Identified ArrayType columns for conversion: ['NEGATIVE ALLOSTERIC MODULATOR', 'CROSS-LINKING AGENT', 'ANTAGONIST', 'BINDING AGENT', 'ACTIVATOR', 'BLOCKER', 'INHIBITOR', 'POSITIVE MODULATOR', 'OTHER', 'AGONIST', 'OPENER', 'HYDROLYTIC ENZYME', 'STABILISER', 'DISRUPTING AGENT', 'POSITIVE ALLOSTERIC MODULATOR', 'INVERSE AGONIST', 'RELEASING AGENT', 'MODULATOR', 'EXOGENOUS PROTEIN', 'EXOGENOUS GENE', 'PARTIAL AGONIST', 'INHIBITOR,DISRUPTING AGENT', 'INHIBITOR,NEGATIVE ALLOSTERIC MODULATOR', 'BINDING AGENT,AGONIST', '', 'AGONIST,PARTIAL AGONIST', 'ALLOSTERIC ANTAGONIST', 'RNAI INHIBITOR', 'ANTISENSE INHIBITOR', 'AGONIST,MODULATOR', 'VACCINE ANTIGEN', 'NEGATIVE MODULATOR', 'SUBSTRATE', 'DEGRADER', 'ANTAGONIST,INHIBITOR', 'PROTEOLYTIC ENZYME']\n",
      "\n",
      "--- Creating DataFrame for Aggregation: 'NdiagonalYes' and Pivot: 'biosampleName' ---\n"
     ]
    },
    {
     "name": "stderr",
     "output_type": "stream",
     "text": [
      "25/07/15 08:24:48 WARN CacheManager: Asked to cache already cached data.\n"
     ]
    },
    {
     "name": "stdout",
     "output_type": "stream",
     "text": [
      "Distinct values for 'biosampleName': ['dorsolateral prefrontal cortex', 'lymphoblastoid cell line', 'skeletal muscle tissue', 'tibial nerve', 'upper lobe of left lung', 'prostate gland', 'gastroesophageal sphincter', 'T-helper 17 cell', 'ascending aorta', 'induced pluripotent stem cell', 'adipose tissue', 'right atrium auricular region', 'blood plasma', 'CD14-positive, CD16-negative classical monocyte', 'stomach', 'left ventricle myocardium', 'thyroid gland', 'breast epithelium', 'right lobe of liver', 'spleen', 'esophagus muscularis mucosa', 'omental fat pad', 'esophagus squamous epithelium', 'tibial artery', 'blood', 'skin of body', 'CD4-positive, alpha-beta T cell', 'cerebellum', 'suprapubic skin', \"Ammon's horn\", \"Peyer's patch\", 'amygdala', 'transverse colon', 'substantia nigra', 'nucleus accumbens', 'sigmoid colon', 'caudate nucleus', 'C1 segment of cervical spinal cord', 'ovary', 'fibroblast', 'hypothalamus', 'CD8-positive, alpha-beta T cell', 'body of pancreas', 'pituitary gland', 'adrenal gland', 'putamen', 'testis', 'coronary artery', 'placenta', 'islet of Langerhans', 'cartilage tissue', 'neutrophil', 'anterior lingual gland', 'uterus', 'macrophage', 'vagina', 'naive regulatory T cell', 'T-helper 1 cell', 'frontal cortex', 'T-helper 2 cell', 'neocortex', 'anterior cingulate cortex', 'CD14-low, CD16-positive monocyte', 'natural killer cell', 'sensory neuron', 'neural progenitor cell', 'effector memory CD8-positive, alpha-beta T cell', 'dopaminergic neuron', 'T cell', 'floor plate', 'microglial cell', 'B cell', 'cortex of kidney', 'T follicular helper cell', 'memory regulatory T cell', 'central memory CD4-positive, alpha-beta T cell', 'layer of synovial tissue', 'CD4-positive, alpha-beta memory T cell', 'hepatocyte', 'ileum', 'rectum', 'mucosal invariant T cell', 'double negative thymocyte', 'gamma-delta T cell', 'dendritic cell', 'CD16-negative, CD56-bright natural killer cell, human', 'memory B cell', 'neuron', 'plasmablast', 'plasmacytoid dendritic cell', 'astrocyte', 'CD4-positive, alpha-beta cytotoxic T cell', 'central memory CD8-positive, alpha-beta T cell', 'platelet', 'ependymal cell', 'hematopoietic precursor cell', 'serotonergic neuron', 'effector memory CD4-positive, alpha-beta T cell', None]\n",
      "Identified ArrayType columns for conversion: ['dorsolateral prefrontal cortex', 'lymphoblastoid cell line', 'skeletal muscle tissue', 'tibial nerve', 'upper lobe of left lung', 'prostate gland', 'gastroesophageal sphincter', 'T-helper 17 cell', 'ascending aorta', 'induced pluripotent stem cell', 'adipose tissue', 'right atrium auricular region', 'blood plasma', 'CD14-positive, CD16-negative classical monocyte', 'stomach', 'left ventricle myocardium', 'thyroid gland', 'breast epithelium', 'right lobe of liver', 'spleen', 'esophagus muscularis mucosa', 'omental fat pad', 'esophagus squamous epithelium', 'tibial artery', 'blood', 'skin of body', 'CD4-positive, alpha-beta T cell', 'cerebellum', 'suprapubic skin', \"Ammon's horn\", \"Peyer's patch\", 'amygdala', 'transverse colon', 'substantia nigra', 'nucleus accumbens', 'sigmoid colon', 'caudate nucleus', 'C1 segment of cervical spinal cord', 'ovary', 'fibroblast', 'hypothalamus', 'CD8-positive, alpha-beta T cell', 'body of pancreas', 'pituitary gland', 'adrenal gland', 'putamen', 'testis', 'coronary artery', 'placenta', 'islet of Langerhans', 'cartilage tissue', 'neutrophil', 'anterior lingual gland', 'uterus', 'macrophage', 'vagina', 'naive regulatory T cell', 'T-helper 1 cell', 'frontal cortex', 'T-helper 2 cell', 'neocortex', 'anterior cingulate cortex', 'CD14-low, CD16-positive monocyte', 'natural killer cell', 'sensory neuron', 'neural progenitor cell', 'effector memory CD8-positive, alpha-beta T cell', 'dopaminergic neuron', 'T cell', 'floor plate', 'microglial cell', 'B cell', 'cortex of kidney', 'T follicular helper cell', 'memory regulatory T cell', 'central memory CD4-positive, alpha-beta T cell', 'layer of synovial tissue', 'CD4-positive, alpha-beta memory T cell', 'hepatocyte', 'ileum', 'rectum', 'mucosal invariant T cell', 'double negative thymocyte', 'gamma-delta T cell', 'dendritic cell', 'CD16-negative, CD56-bright natural killer cell, human', 'memory B cell', 'neuron', 'plasmablast', 'plasmacytoid dendritic cell', 'astrocyte', 'CD4-positive, alpha-beta cytotoxic T cell', 'central memory CD8-positive, alpha-beta T cell', 'platelet', 'ependymal cell', 'hematopoietic precursor cell', 'serotonergic neuron', 'effector memory CD4-positive, alpha-beta T cell', 'null']\n",
      "\n",
      "--- Creating DataFrame for Aggregation: 'NdiagonalYes' and Pivot: 'projectId' ---\n"
     ]
    },
    {
     "name": "stderr",
     "output_type": "stream",
     "text": [
      "25/07/15 08:24:56 WARN CacheManager: Asked to cache already cached data.\n",
      "                                                                                \r"
     ]
    },
    {
     "name": "stdout",
     "output_type": "stream",
     "text": [
      "Distinct values for 'projectId': ['Fairfax_2014', 'Nedelec_2016', 'OneK1K', 'GTEx', 'Schmiedel_2018', 'Lepik_2017', 'CEDAR', 'BLUEPRINT', 'TwinsUK', 'UKB_PPP_EUR', 'FUSION', 'Perez_2022', 'Quach_2016', 'HipSci', 'BrainSeq', 'ROSMAP', 'iPSCORE', 'PhLiPS', 'GEUVADIS', 'Kim-Hellmuth_2017', 'Alasoo_2018', 'Cytoimmgen', 'CAP', 'Peng_2018', 'Steinberg_2020', 'Kasela_2017', 'Bossini-Castillo_2019', 'Nathan_2022', 'CommonMind', 'Walker_2019', 'van_de_Bunt_2015', 'Schwartzentruber_2018', 'PISA', 'GENCORD', 'Aygun_2021', 'Fairfax_2012', 'Jerber_2021', 'Braineac2', 'Gilchrist_2021', 'Naranbhai_2015', 'Randolph_2021', 'Sun_2018', 'Young_2019', None]\n",
      "Identified ArrayType columns for conversion: ['Fairfax_2014', 'Nedelec_2016', 'OneK1K', 'GTEx', 'Schmiedel_2018', 'Lepik_2017', 'CEDAR', 'BLUEPRINT', 'TwinsUK', 'UKB_PPP_EUR', 'FUSION', 'Perez_2022', 'Quach_2016', 'HipSci', 'BrainSeq', 'ROSMAP', 'iPSCORE', 'PhLiPS', 'GEUVADIS', 'Kim-Hellmuth_2017', 'Alasoo_2018', 'Cytoimmgen', 'CAP', 'Peng_2018', 'Steinberg_2020', 'Kasela_2017', 'Bossini-Castillo_2019', 'Nathan_2022', 'CommonMind', 'Walker_2019', 'van_de_Bunt_2015', 'Schwartzentruber_2018', 'PISA', 'GENCORD', 'Aygun_2021', 'Fairfax_2012', 'Jerber_2021', 'Braineac2', 'Gilchrist_2021', 'Naranbhai_2015', 'Randolph_2021', 'Sun_2018', 'Young_2019', 'null']\n",
      "\n",
      "--- Creating DataFrame for Aggregation: 'NdiagonalYes' and Pivot: 'rightStudyType' ---\n"
     ]
    },
    {
     "name": "stderr",
     "output_type": "stream",
     "text": [
      "25/07/15 08:25:00 WARN CacheManager: Asked to cache already cached data.\n"
     ]
    },
    {
     "name": "stdout",
     "output_type": "stream",
     "text": [
      "Distinct values for 'rightStudyType': ['eqtl', 'tuqtl', 'pqtl', 'sqtl', 'sceqtl', None]\n",
      "Identified ArrayType columns for conversion: ['eqtl', 'tuqtl', 'pqtl', 'sqtl', 'sceqtl', 'null']\n",
      "\n",
      "--- Creating DataFrame for Aggregation: 'hasGenetics' and Pivot: 'actionType2' ---\n"
     ]
    },
    {
     "name": "stderr",
     "output_type": "stream",
     "text": [
      "25/07/15 08:25:03 WARN CacheManager: Asked to cache already cached data.        \n"
     ]
    },
    {
     "name": "stdout",
     "output_type": "stream",
     "text": [
      "Distinct values for 'actionType2': ['NEGATIVE ALLOSTERIC MODULATOR', 'ANTAGONIST', 'BINDING AGENT', 'EXOGENOUS PROTEIN', 'PARTIAL AGONIST', 'BLOCKER', 'INHIBITOR', 'POSITIVE MODULATOR', 'AGONIST', 'OPENER', 'HYDROLYTIC ENZYME', 'STABILISER', 'VACCINE ANTIGEN', 'DISRUPTING AGENT', 'POSITIVE ALLOSTERIC MODULATOR', 'MODULATOR', 'CROSS-LINKING AGENT', 'ACTIVATOR', 'OTHER', 'INHIBITOR,DISRUPTING AGENT', 'RNAI INHIBITOR', 'AGONIST,PARTIAL AGONIST', 'BINDING AGENT,AGONIST', 'SUBSTRATE', 'RELEASING AGENT', 'ANTISENSE INHIBITOR', 'INVERSE AGONIST', 'PROTEOLYTIC ENZYME', '', 'EXOGENOUS GENE', 'ALLOSTERIC ANTAGONIST', 'ANTAGONIST,INHIBITOR', 'NEGATIVE MODULATOR', 'INHIBITOR,NEGATIVE ALLOSTERIC MODULATOR', 'DEGRADER', 'AGONIST,MODULATOR']\n",
      "Identified ArrayType columns for conversion: ['NEGATIVE ALLOSTERIC MODULATOR', 'ANTAGONIST', 'BINDING AGENT', 'EXOGENOUS PROTEIN', 'PARTIAL AGONIST', 'BLOCKER', 'INHIBITOR', 'POSITIVE MODULATOR', 'AGONIST', 'OPENER', 'HYDROLYTIC ENZYME', 'STABILISER', 'VACCINE ANTIGEN', 'DISRUPTING AGENT', 'POSITIVE ALLOSTERIC MODULATOR', 'MODULATOR', 'CROSS-LINKING AGENT', 'ACTIVATOR', 'OTHER', 'INHIBITOR,DISRUPTING AGENT', 'RNAI INHIBITOR', 'AGONIST,PARTIAL AGONIST', 'BINDING AGENT,AGONIST', 'SUBSTRATE', 'RELEASING AGENT', 'ANTISENSE INHIBITOR', 'INVERSE AGONIST', 'PROTEOLYTIC ENZYME', '', 'EXOGENOUS GENE', 'ALLOSTERIC ANTAGONIST', 'ANTAGONIST,INHIBITOR', 'NEGATIVE MODULATOR', 'INHIBITOR,NEGATIVE ALLOSTERIC MODULATOR', 'DEGRADER', 'AGONIST,MODULATOR']\n",
      "\n",
      "--- Creating DataFrame for Aggregation: 'hasGenetics' and Pivot: 'biosampleName' ---\n"
     ]
    },
    {
     "name": "stderr",
     "output_type": "stream",
     "text": [
      "25/07/15 08:25:07 WARN CacheManager: Asked to cache already cached data.        \n"
     ]
    },
    {
     "name": "stdout",
     "output_type": "stream",
     "text": [
      "Distinct values for 'biosampleName': ['dorsolateral prefrontal cortex', 'lymphoblastoid cell line', 'skeletal muscle tissue', 'tibial nerve', 'upper lobe of left lung', 'prostate gland', 'gastroesophageal sphincter', 'T-helper 17 cell', 'ascending aorta', 'induced pluripotent stem cell', 'adipose tissue', 'right atrium auricular region', 'blood plasma', 'CD14-positive, CD16-negative classical monocyte', 'stomach', 'left ventricle myocardium', 'thyroid gland', 'breast epithelium', 'right lobe of liver', 'spleen', 'esophagus muscularis mucosa', 'omental fat pad', 'esophagus squamous epithelium', 'tibial artery', 'blood', 'skin of body', 'CD4-positive, alpha-beta T cell', 'cerebellum', 'suprapubic skin', \"Ammon's horn\", \"Peyer's patch\", 'amygdala', 'transverse colon', 'substantia nigra', 'nucleus accumbens', 'sigmoid colon', 'caudate nucleus', 'C1 segment of cervical spinal cord', 'ovary', 'fibroblast', 'hypothalamus', 'CD8-positive, alpha-beta T cell', 'body of pancreas', 'pituitary gland', 'adrenal gland', 'putamen', 'testis', 'coronary artery', 'placenta', 'islet of Langerhans', 'cartilage tissue', 'neutrophil', 'anterior lingual gland', 'uterus', 'macrophage', 'vagina', 'naive regulatory T cell', 'T-helper 1 cell', 'frontal cortex', 'T-helper 2 cell', 'neocortex', 'anterior cingulate cortex', 'CD14-low, CD16-positive monocyte', 'natural killer cell', 'sensory neuron', 'neural progenitor cell', 'effector memory CD8-positive, alpha-beta T cell', 'dopaminergic neuron', 'T cell', 'floor plate', 'microglial cell', 'B cell', 'cortex of kidney', 'T follicular helper cell', 'memory regulatory T cell', 'central memory CD4-positive, alpha-beta T cell', 'layer of synovial tissue', 'CD4-positive, alpha-beta memory T cell', 'hepatocyte', 'ileum', 'rectum', 'mucosal invariant T cell', 'double negative thymocyte', 'gamma-delta T cell', 'dendritic cell', 'CD16-negative, CD56-bright natural killer cell, human', 'memory B cell', 'neuron', 'plasmablast', 'plasmacytoid dendritic cell', 'astrocyte', 'CD4-positive, alpha-beta cytotoxic T cell', 'central memory CD8-positive, alpha-beta T cell', 'platelet', 'ependymal cell', 'hematopoietic precursor cell', 'serotonergic neuron', 'effector memory CD4-positive, alpha-beta T cell', None]\n",
      "Identified ArrayType columns for conversion: ['dorsolateral prefrontal cortex', 'lymphoblastoid cell line', 'skeletal muscle tissue', 'tibial nerve', 'upper lobe of left lung', 'prostate gland', 'gastroesophageal sphincter', 'T-helper 17 cell', 'ascending aorta', 'induced pluripotent stem cell', 'adipose tissue', 'right atrium auricular region', 'blood plasma', 'CD14-positive, CD16-negative classical monocyte', 'stomach', 'left ventricle myocardium', 'thyroid gland', 'breast epithelium', 'right lobe of liver', 'spleen', 'esophagus muscularis mucosa', 'omental fat pad', 'esophagus squamous epithelium', 'tibial artery', 'blood', 'skin of body', 'CD4-positive, alpha-beta T cell', 'cerebellum', 'suprapubic skin', \"Ammon's horn\", \"Peyer's patch\", 'amygdala', 'transverse colon', 'substantia nigra', 'nucleus accumbens', 'sigmoid colon', 'caudate nucleus', 'C1 segment of cervical spinal cord', 'ovary', 'fibroblast', 'hypothalamus', 'CD8-positive, alpha-beta T cell', 'body of pancreas', 'pituitary gland', 'adrenal gland', 'putamen', 'testis', 'coronary artery', 'placenta', 'islet of Langerhans', 'cartilage tissue', 'neutrophil', 'anterior lingual gland', 'uterus', 'macrophage', 'vagina', 'naive regulatory T cell', 'T-helper 1 cell', 'frontal cortex', 'T-helper 2 cell', 'neocortex', 'anterior cingulate cortex', 'CD14-low, CD16-positive monocyte', 'natural killer cell', 'sensory neuron', 'neural progenitor cell', 'effector memory CD8-positive, alpha-beta T cell', 'dopaminergic neuron', 'T cell', 'floor plate', 'microglial cell', 'B cell', 'cortex of kidney', 'T follicular helper cell', 'memory regulatory T cell', 'central memory CD4-positive, alpha-beta T cell', 'layer of synovial tissue', 'CD4-positive, alpha-beta memory T cell', 'hepatocyte', 'ileum', 'rectum', 'mucosal invariant T cell', 'double negative thymocyte', 'gamma-delta T cell', 'dendritic cell', 'CD16-negative, CD56-bright natural killer cell, human', 'memory B cell', 'neuron', 'plasmablast', 'plasmacytoid dendritic cell', 'astrocyte', 'CD4-positive, alpha-beta cytotoxic T cell', 'central memory CD8-positive, alpha-beta T cell', 'platelet', 'ependymal cell', 'hematopoietic precursor cell', 'serotonergic neuron', 'effector memory CD4-positive, alpha-beta T cell', 'null']\n",
      "\n",
      "--- Creating DataFrame for Aggregation: 'hasGenetics' and Pivot: 'projectId' ---\n"
     ]
    },
    {
     "name": "stderr",
     "output_type": "stream",
     "text": [
      "25/07/15 08:25:15 WARN CacheManager: Asked to cache already cached data.\n"
     ]
    },
    {
     "name": "stdout",
     "output_type": "stream",
     "text": [
      "Distinct values for 'projectId': ['Fairfax_2014', 'Nedelec_2016', 'OneK1K', 'GTEx', 'Schmiedel_2018', 'Lepik_2017', 'CEDAR', 'BLUEPRINT', 'TwinsUK', 'UKB_PPP_EUR', 'FUSION', 'Perez_2022', 'Quach_2016', 'HipSci', 'BrainSeq', 'ROSMAP', 'iPSCORE', 'PhLiPS', 'GEUVADIS', 'Kim-Hellmuth_2017', 'Alasoo_2018', 'Cytoimmgen', 'CAP', 'Peng_2018', 'Steinberg_2020', 'Kasela_2017', 'Bossini-Castillo_2019', 'Nathan_2022', 'CommonMind', 'Walker_2019', 'van_de_Bunt_2015', 'Schwartzentruber_2018', 'PISA', 'GENCORD', 'Aygun_2021', 'Fairfax_2012', 'Jerber_2021', 'Braineac2', 'Gilchrist_2021', 'Naranbhai_2015', 'Randolph_2021', 'Sun_2018', 'Young_2019', None]\n",
      "Identified ArrayType columns for conversion: ['Fairfax_2014', 'Nedelec_2016', 'OneK1K', 'GTEx', 'Schmiedel_2018', 'Lepik_2017', 'CEDAR', 'BLUEPRINT', 'TwinsUK', 'UKB_PPP_EUR', 'FUSION', 'Perez_2022', 'Quach_2016', 'HipSci', 'BrainSeq', 'ROSMAP', 'iPSCORE', 'PhLiPS', 'GEUVADIS', 'Kim-Hellmuth_2017', 'Alasoo_2018', 'Cytoimmgen', 'CAP', 'Peng_2018', 'Steinberg_2020', 'Kasela_2017', 'Bossini-Castillo_2019', 'Nathan_2022', 'CommonMind', 'Walker_2019', 'van_de_Bunt_2015', 'Schwartzentruber_2018', 'PISA', 'GENCORD', 'Aygun_2021', 'Fairfax_2012', 'Jerber_2021', 'Braineac2', 'Gilchrist_2021', 'Naranbhai_2015', 'Randolph_2021', 'Sun_2018', 'Young_2019', 'null']\n",
      "\n",
      "--- Creating DataFrame for Aggregation: 'hasGenetics' and Pivot: 'rightStudyType' ---\n"
     ]
    },
    {
     "name": "stderr",
     "output_type": "stream",
     "text": [
      "25/07/15 08:25:20 WARN CacheManager: Asked to cache already cached data.\n",
      "                                                                                \r"
     ]
    },
    {
     "name": "stdout",
     "output_type": "stream",
     "text": [
      "Distinct values for 'rightStudyType': ['tuqtl', 'pqtl', 'eqtl', 'sceqtl', 'sqtl', None]\n",
      "Identified ArrayType columns for conversion: ['tuqtl', 'pqtl', 'eqtl', 'sceqtl', 'sqtl', 'null']\n",
      "\n",
      "--- All generated DataFrames are stored in 'all_pivoted_dfs' dictionary ---\n",
      "Keys available: dict_keys(['df_pivot_nonecellyes_by_actiontype2', 'df_pivot_nonecellyes_by_biosamplename', 'df_pivot_nonecellyes_by_projectid', 'df_pivot_nonecellyes_by_rightstudytype', 'df_pivot_ndiagonalyes_by_actiontype2', 'df_pivot_ndiagonalyes_by_biosamplename', 'df_pivot_ndiagonalyes_by_projectid', 'df_pivot_ndiagonalyes_by_rightstudytype', 'df_pivot_hasgenetics_by_actiontype2', 'df_pivot_hasgenetics_by_biosamplename', 'df_pivot_hasgenetics_by_projectid', 'df_pivot_hasgenetics_by_rightstudytype'])\n"
     ]
    }
   ],
   "source": [
    "# --- Nested Loops for Dynamic Pivoting ---\n",
    "for agg_col_name in columns_to_aggregate:\n",
    "    for pivot_col_name in columns_to_pivot_on:\n",
    "        print(f\"\\n--- Creating DataFrame for Aggregation: '{agg_col_name}' and Pivot: '{pivot_col_name}' ---\")\n",
    "        current_col_pvalue_order_window = Window.partitionBy(\"targetId\", \"diseaseId\", \"maxClinPhase\", pivot_col_name).orderBy(F.col('colocalisationMethod').asc(), F.col(\"qtlPValueExponent\").asc())\n",
    "        test2=discrepancifier(benchmark.withColumn('actionType2', F.concat_ws(\",\", F.col(\"actionType2\"))).withColumn('qtlColocDoE',F.first('colocDoE').over(current_col_pvalue_order_window)).groupBy(\n",
    "        \"targetId\", \"diseaseId\", \"maxClinPhase\", \"drugLoF_protect\", \"drugGoF_protect\",pivot_col_name)\n",
    "        .pivot(\"colocDoE\")\n",
    "        .count()\n",
    "        .withColumnRenamed('drugLoF_protect', 'LoF_protect_ch')\n",
    "        .withColumnRenamed('drugGoF_protect', 'GoF_protect_ch')).withColumn( ## .filter(F.col('coherencyDiagonal')!='noEvid')\n",
    "    \"arrayN\", F.array(*[F.col(c) for c in doe_columns])\n",
    "    ).withColumn(\n",
    "        \"maxDoE\", F.array_max(F.col(\"arrayN\"))\n",
    "    ).withColumn(\"maxDoE_names\", F.array(*conditions)\n",
    "    ).withColumn(\"maxDoE_names\", F.expr(\"filter(maxDoE_names, x -> x is not null)\")\n",
    "    ).withColumn(\n",
    "        \"NoneCellYes\",\n",
    "        F.when((F.col(\"LoF_protect_ch\").isNotNull() & (F.col('GoF_protect_ch').isNull())) & (F.array_contains(F.col(\"maxDoE_names\"), F.lit(\"LoF_protect\")))==True, F.lit('yes'))\n",
    "        .when((F.col(\"GoF_protect_ch\").isNotNull() & (F.col('LoF_protect_ch').isNull())) & (F.array_contains(F.col(\"maxDoE_names\"), F.lit(\"GoF_protect\")))==True, F.lit('yes')\n",
    "            ).otherwise(F.lit('no'))  # If the value is null, return null # Otherwise, check if name is in array\n",
    "    ).withColumn(\n",
    "        \"NdiagonalYes\",\n",
    "        F.when((F.col(\"LoF_protect_ch\").isNotNull() & (F.col('GoF_protect_ch').isNull())) & \n",
    "            (F.size(F.array_intersect(F.col(\"maxDoE_names\"), F.array([F.lit(x) for x in diagonal_lof]))) > 0),\n",
    "            F.lit(\"yes\")\n",
    "        ).when((F.col(\"GoF_protect_ch\").isNotNull() & (F.col('LoF_protect_ch').isNull())) & \n",
    "            (F.size(F.array_intersect(F.col(\"maxDoE_names\"), F.array([F.lit(x) for x in diagonal_gof]))) > 0),\n",
    "            F.lit(\"yes\")\n",
    "        ).otherwise(F.lit('no'))\n",
    "    ).withColumn(\n",
    "        \"drugCoherency\",\n",
    "        F.when(\n",
    "            (F.col(\"LoF_protect_ch\").isNotNull())\n",
    "            & (F.col(\"GoF_protect_ch\").isNull()), F.lit(\"coherent\")\n",
    "        )\n",
    "        .when(\n",
    "            (F.col(\"LoF_protect_ch\").isNull())\n",
    "            & (F.col(\"GoF_protect_ch\").isNotNull()), F.lit(\"coherent\")\n",
    "        )\n",
    "        .when(\n",
    "            (F.col(\"LoF_protect_ch\").isNotNull())\n",
    "            & (F.col(\"GoF_protect_ch\").isNotNull()), F.lit(\"dispar\")\n",
    "        )\n",
    "        .otherwise(F.lit(\"other\")),\n",
    "    ).join(negativeTD, on=[\"targetId\", \"diseaseId\"], how=\"left\").withColumn(\n",
    "        \"PhaseT\",\n",
    "        F.when(F.col(\"stopReason\") == \"Negative\", F.lit(\"yes\")).otherwise(F.lit(\"no\")),\n",
    "    ).withColumn(\n",
    "        \"phase4Clean\",\n",
    "        F.when(\n",
    "            (F.col(\"maxClinPhase\") == 4) & (F.col(\"PhaseT\") == \"no\"), F.lit(\"yes\")\n",
    "        ).otherwise(F.lit(\"no\")),\n",
    "    ).withColumn(\n",
    "        \"phase3Clean\",\n",
    "        F.when(\n",
    "            (F.col(\"maxClinPhase\") >= 3) & (F.col(\"PhaseT\") == \"no\"), F.lit(\"yes\")\n",
    "        ).otherwise(F.lit(\"no\")),\n",
    "    ).withColumn(\n",
    "        \"phase2Clean\",\n",
    "        F.when(\n",
    "            (F.col(\"maxClinPhase\") >= 2) & (F.col(\"PhaseT\") == \"no\"), F.lit(\"yes\")\n",
    "        ).otherwise(F.lit(\"no\")),\n",
    "    ).withColumn(\n",
    "        \"phase1Clean\",\n",
    "        F.when(\n",
    "            (F.col(\"maxClinPhase\") >= 1) & (F.col(\"PhaseT\") == \"no\"), F.lit(\"yes\")\n",
    "        ).otherwise(F.lit(\"no\")),\n",
    "    ).withColumn(\n",
    "        \"hasGenetics\",\n",
    "        F.when(F.col(\"coherencyDiagonal\") != \"noEvid\", F.lit(\"yes\")).otherwise(F.lit(\"no\")),\n",
    "    )\n",
    "        # 1. Get distinct values for the pivot column (essential for pivot())\n",
    "        # This brings a small amount of data to the driver, but is necessary for the pivot schema.\n",
    "        distinct_pivot_values = [row[0] for row in test2.select(pivot_col_name).distinct().collect()]\n",
    "        print(f\"Distinct values for '{pivot_col_name}': {distinct_pivot_values}\")\n",
    "\n",
    "        # 2. Perform the groupBy, pivot, and aggregate operations\n",
    "        # The .pivot() function requires the list of distinct values for better performance\n",
    "        # and correct schema inference.\n",
    "        pivoted_df = (\n",
    "            test2.groupBy(*group_by_columns)\n",
    "            .pivot(pivot_col_name, distinct_pivot_values) # Provide distinct values\n",
    "            .agg(F.collect_set(F.col(agg_col_name))) # Collect all values into a set\n",
    "            .fillna(0) # Fill cells that have no data with an empty list instead of null\n",
    "        )\n",
    "\n",
    "        # 3. Add the 'data' literal column dynamically\n",
    "        # This column indicates which aggregation column was used.\n",
    "        pivoted_df = pivoted_df.withColumn('data', F.lit(f'Drug_{agg_col_name}'))\n",
    "\n",
    "        array_columns_to_convert = [\n",
    "            field.name for field in pivoted_df.schema.fields\n",
    "            if isinstance(field.dataType, ArrayType)\n",
    "        ]\n",
    "        print(f\"Identified ArrayType columns for conversion: {array_columns_to_convert}\")\n",
    "\n",
    "        # 4. Apply the conversion logic to each identified array column\n",
    "        df_after_conversion = pivoted_df # Start with the pivoted_df\n",
    "        for col_to_convert in array_columns_to_convert:\n",
    "            df_after_conversion = df_after_conversion.withColumn(\n",
    "                col_to_convert,\n",
    "                F.when(F.col(col_to_convert).isNull(), F.lit('no'))          # Handle NULLs (from pivot for no data)\n",
    "                .when(F.size(F.col(col_to_convert)) == 0, F.lit('no'))       # Empty array -> 'no'\n",
    "                .when(F.array_contains(F.col(col_to_convert), F.lit('yes')), F.lit('yes')) # Contains 'yes' -> 'yes'\n",
    "                .when(F.array_contains(F.col(col_to_convert), F.lit('no')), F.lit('no'))   # Contains 'no' -> 'no'\n",
    "                .otherwise(F.lit('no')) # Fallback for unexpected array content (e.g., ['other'], ['yes','no'])\n",
    "            )\n",
    "\n",
    "        # 4. Generate a unique name for this DataFrame and store it\n",
    "        df_key = f\"df_pivot_{agg_col_name.lower()}_by_{pivot_col_name.lower()}\"\n",
    "        all_pivoted_dfs[df_key] = df_after_conversion.withColumnRenamed( 'phase4Clean','Phase>=4'\n",
    "        ).withColumnRenamed('phase3Clean','Phase>=3'\n",
    "        ).withColumnRenamed('phase2Clean','Phase>=2'\n",
    "        ).withColumnRenamed('phase1Clean','Phase>=1')\n",
    "\n",
    "\n",
    "# --- Accessing your generated DataFrames ---\n",
    "print(\"\\n--- All generated DataFrames are stored in 'all_pivoted_dfs' dictionary ---\")\n",
    "print(\"Keys available:\", all_pivoted_dfs.keys())\n",
    "\n",
    "# Example of accessing a specific DataFrame:\n",
    "#if 'df_pivot_nonecellyes_by_actiontype' in all_pivoted_dfs:\n",
    "#    print(\"\\nExample: Showing df_pivot_nonecellyes_by_actiontype:\")\n",
    "#    all_pivoted_dfs['df_pivot_nonecellyes_by_actiontype'].show(truncate=False)\n",
    "\n",
    "#if 'df_pivot_ndiagonallyes_by_biosamplename' in all_pivoted_dfs:\n",
    "#    print(\"\\nExample: Showing df_pivot_ndiagonallyes_by_biosamplename:\")\n",
    "#    all_pivoted_dfs['df_pivot_ndiagonallyes_by_biosamplename'].show(truncate=False)\n"
   ]
  },
  {
   "cell_type": "code",
   "execution_count": 57,
   "metadata": {},
   "outputs": [
    {
     "data": {
      "text/plain": [
       "['NEGATIVE ALLOSTERIC MODULATOR',\n",
       " 'CROSS-LINKING AGENT',\n",
       " 'ANTAGONIST',\n",
       " 'BINDING AGENT',\n",
       " 'ACTIVATOR',\n",
       " 'BLOCKER',\n",
       " 'INHIBITOR',\n",
       " 'POSITIVE MODULATOR',\n",
       " 'OTHER',\n",
       " 'AGONIST',\n",
       " 'OPENER',\n",
       " 'HYDROLYTIC ENZYME',\n",
       " 'STABILISER',\n",
       " 'DISRUPTING AGENT',\n",
       " 'POSITIVE ALLOSTERIC MODULATOR',\n",
       " 'INVERSE AGONIST',\n",
       " 'RELEASING AGENT',\n",
       " 'MODULATOR',\n",
       " 'EXOGENOUS PROTEIN',\n",
       " 'EXOGENOUS GENE',\n",
       " 'PARTIAL AGONIST',\n",
       " 'INHIBITOR,DISRUPTING AGENT',\n",
       " 'INHIBITOR,NEGATIVE ALLOSTERIC MODULATOR',\n",
       " 'BINDING AGENT,AGONIST',\n",
       " '',\n",
       " 'AGONIST,PARTIAL AGONIST',\n",
       " 'ALLOSTERIC ANTAGONIST',\n",
       " 'RNAI INHIBITOR',\n",
       " 'ANTISENSE INHIBITOR',\n",
       " 'AGONIST,MODULATOR',\n",
       " 'VACCINE ANTIGEN',\n",
       " 'NEGATIVE MODULATOR',\n",
       " 'SUBSTRATE',\n",
       " 'DEGRADER',\n",
       " 'ANTAGONIST,INHIBITOR',\n",
       " 'PROTEOLYTIC ENZYME']"
      ]
     },
     "execution_count": 57,
     "metadata": {},
     "output_type": "execute_result"
    }
   ],
   "source": [
    "unique_values"
   ]
  },
  {
   "cell_type": "code",
   "execution_count": 56,
   "metadata": {},
   "outputs": [
    {
     "data": {
      "text/plain": [
       "['targetId',\n",
       " 'diseaseId',\n",
       " 'phase4Clean',\n",
       " 'phase3Clean',\n",
       " 'phase2Clean',\n",
       " 'phase1Clean',\n",
       " 'PhaseT',\n",
       " 'data']"
      ]
     },
     "execution_count": 56,
     "metadata": {},
     "output_type": "execute_result"
    }
   ],
   "source": [
    "all_pivoted_dfs[key].drop(*unique_values).columns"
   ]
  },
  {
   "cell_type": "code",
   "execution_count": 54,
   "metadata": {},
   "outputs": [
    {
     "data": {
      "text/plain": [
       "1"
      ]
     },
     "execution_count": 54,
     "metadata": {},
     "output_type": "execute_result"
    }
   ],
   "source": [
    "len(all_pivoted_dfs[key].drop(*unique_values).columns[7:])"
   ]
  },
  {
   "cell_type": "code",
   "execution_count": 59,
   "metadata": {},
   "outputs": [
    {
     "data": {
      "text/plain": [
       "'actiontype2'"
      ]
     },
     "execution_count": 59,
     "metadata": {},
     "output_type": "execute_result"
    }
   ],
   "source": [
    "column_name"
   ]
  },
  {
   "cell_type": "code",
   "execution_count": 62,
   "metadata": {},
   "outputs": [
    {
     "data": {
      "text/plain": [
       "{'df_pivot_nonecellyes_by_actiontype2': DataFrame[targetId: string, diseaseId: string, phase4Clean: string, phase3Clean: string, phase2Clean: string, phase1Clean: string, PhaseT: string, NEGATIVE ALLOSTERIC MODULATOR: string, CROSS-LINKING AGENT: string, ANTAGONIST: string, BINDING AGENT: string, ACTIVATOR: string, BLOCKER: string, INHIBITOR: string, POSITIVE MODULATOR: string, OTHER: string, AGONIST: string, OPENER: string, HYDROLYTIC ENZYME: string, STABILISER: string, DISRUPTING AGENT: string, POSITIVE ALLOSTERIC MODULATOR: string, INVERSE AGONIST: string, RELEASING AGENT: string, MODULATOR: string, EXOGENOUS PROTEIN: string, EXOGENOUS GENE: string, PARTIAL AGONIST: string, INHIBITOR,DISRUPTING AGENT: string, INHIBITOR,NEGATIVE ALLOSTERIC MODULATOR: string, BINDING AGENT,AGONIST: string, : string, AGONIST,PARTIAL AGONIST: string, ALLOSTERIC ANTAGONIST: string, RNAI INHIBITOR: string, ANTISENSE INHIBITOR: string, AGONIST,MODULATOR: string, VACCINE ANTIGEN: string, NEGATIVE MODULATOR: string, SUBSTRATE: string, DEGRADER: string, ANTAGONIST,INHIBITOR: string, PROTEOLYTIC ENZYME: string, data: string],\n",
       " 'df_pivot_nonecellyes_by_biosamplename': DataFrame[targetId: string, diseaseId: string, phase4Clean: string, phase3Clean: string, phase2Clean: string, phase1Clean: string, PhaseT: string, CD14-low, CD16-positive monocyte: string, tibial nerve: string, neutrophil: string, T-helper 17 cell: string, adipose tissue: string, blood plasma: string, lymphoblastoid cell line: string, CD14-positive, CD16-negative classical monocyte: string, macrophage: string, right lobe of liver: string, adrenal gland: string, blood: string, induced pluripotent stem cell: string, dorsolateral prefrontal cortex: string, omental fat pad: string, testis: string, nucleus accumbens: string, CD4-positive, alpha-beta T cell: string, cerebellum: string, central memory CD4-positive, alpha-beta T cell: string, cartilage tissue: string, placenta: string, fibroblast: string, spleen: string, skeletal muscle tissue: string, gastroesophageal sphincter: string, ascending aorta: string, thyroid gland: string, esophagus muscularis mucosa: string, caudate nucleus: string, frontal cortex: string, CD8-positive, alpha-beta T cell: string, memory regulatory T cell: string, naive regulatory T cell: string, putamen: string, suprapubic skin: string, body of pancreas: string, pituitary gland: string, upper lobe of left lung: string, prostate gland: string, sensory neuron: string, Peyer's patch: string, transverse colon: string, islet of Langerhans: string, right atrium auricular region: string, sigmoid colon: string, stomach: string, left ventricle myocardium: string, breast epithelium: string, uterus: string, ovary: string, vagina: string, cortex of kidney: string, esophagus squamous epithelium: string, tibial artery: string, neocortex: string, skin of body: string, coronary artery: string, anterior lingual gland: string, rectum: string, mucosal invariant T cell: string, double negative thymocyte: string, Ammon's horn: string, gamma-delta T cell: string, dendritic cell: string, T cell: string, CD16-negative, CD56-bright natural killer cell, human: string, memory B cell: string, effector memory CD8-positive, alpha-beta T cell: string, amygdala: string, CD4-positive, alpha-beta memory T cell: string, substantia nigra: string, neuron: string, plasmablast: string, ileum: string, T-helper 1 cell: string, neural progenitor cell: string, natural killer cell: string, plasmacytoid dendritic cell: string, astrocyte: string, C1 segment of cervical spinal cord: string, B cell: string, T follicular helper cell: string, CD4-positive, alpha-beta cytotoxic T cell: string, hypothalamus: string, layer of synovial tissue: string, central memory CD8-positive, alpha-beta T cell: string, floor plate: string, dopaminergic neuron: string, platelet: string, ependymal cell: string, T-helper 2 cell: string, hematopoietic precursor cell: string, hepatocyte: string, anterior cingulate cortex: string, serotonergic neuron: string, effector memory CD4-positive, alpha-beta T cell: string, microglial cell: string, null: string, data: string],\n",
       " 'df_pivot_nonecellyes_by_projectid': DataFrame[targetId: string, diseaseId: string, phase4Clean: string, phase3Clean: string, phase2Clean: string, phase1Clean: string, PhaseT: string, Fairfax_2014: string, Nedelec_2016: string, OneK1K: string, GTEx: string, Schmiedel_2018: string, Lepik_2017: string, CEDAR: string, BLUEPRINT: string, TwinsUK: string, UKB_PPP_EUR: string, FUSION: string, Perez_2022: string, Quach_2016: string, HipSci: string, BrainSeq: string, ROSMAP: string, iPSCORE: string, PhLiPS: string, GEUVADIS: string, Kim-Hellmuth_2017: string, Alasoo_2018: string, Cytoimmgen: string, CAP: string, Peng_2018: string, Steinberg_2020: string, Kasela_2017: string, Bossini-Castillo_2019: string, Nathan_2022: string, CommonMind: string, Walker_2019: string, van_de_Bunt_2015: string, Schwartzentruber_2018: string, PISA: string, GENCORD: string, Aygun_2021: string, Fairfax_2012: string, Jerber_2021: string, Braineac2: string, Gilchrist_2021: string, Naranbhai_2015: string, Randolph_2021: string, Sun_2018: string, Young_2019: string, null: string, data: string],\n",
       " 'df_pivot_nonecellyes_by_rightstudytype': DataFrame[targetId: string, diseaseId: string, phase4Clean: string, phase3Clean: string, phase2Clean: string, phase1Clean: string, PhaseT: string, eqtl: string, tuqtl: string, pqtl: string, sqtl: string, sceqtl: string, null: string, data: string],\n",
       " 'df_pivot_ndiagonalyes_by_actiontype2': DataFrame[targetId: string, diseaseId: string, phase4Clean: string, phase3Clean: string, phase2Clean: string, phase1Clean: string, PhaseT: string, NEGATIVE ALLOSTERIC MODULATOR: string, ANTAGONIST: string, BINDING AGENT: string, EXOGENOUS PROTEIN: string, PARTIAL AGONIST: string, BLOCKER: string, INHIBITOR: string, POSITIVE MODULATOR: string, AGONIST: string, OPENER: string, HYDROLYTIC ENZYME: string, STABILISER: string, VACCINE ANTIGEN: string, DISRUPTING AGENT: string, POSITIVE ALLOSTERIC MODULATOR: string, MODULATOR: string, CROSS-LINKING AGENT: string, ACTIVATOR: string, OTHER: string, INHIBITOR,DISRUPTING AGENT: string, RNAI INHIBITOR: string, AGONIST,PARTIAL AGONIST: string, BINDING AGENT,AGONIST: string, SUBSTRATE: string, RELEASING AGENT: string, ANTISENSE INHIBITOR: string, INVERSE AGONIST: string, PROTEOLYTIC ENZYME: string, : string, EXOGENOUS GENE: string, ALLOSTERIC ANTAGONIST: string, ANTAGONIST,INHIBITOR: string, NEGATIVE MODULATOR: string, INHIBITOR,NEGATIVE ALLOSTERIC MODULATOR: string, DEGRADER: string, AGONIST,MODULATOR: string, data: string],\n",
       " 'df_pivot_ndiagonalyes_by_biosamplename': DataFrame[targetId: string, diseaseId: string, phase4Clean: string, phase3Clean: string, phase2Clean: string, phase1Clean: string, PhaseT: string, dorsolateral prefrontal cortex: string, lymphoblastoid cell line: string, skeletal muscle tissue: string, tibial nerve: string, upper lobe of left lung: string, prostate gland: string, gastroesophageal sphincter: string, T-helper 17 cell: string, ascending aorta: string, induced pluripotent stem cell: string, adipose tissue: string, right atrium auricular region: string, blood plasma: string, CD14-positive, CD16-negative classical monocyte: string, stomach: string, left ventricle myocardium: string, thyroid gland: string, breast epithelium: string, right lobe of liver: string, spleen: string, esophagus muscularis mucosa: string, omental fat pad: string, esophagus squamous epithelium: string, tibial artery: string, blood: string, skin of body: string, CD4-positive, alpha-beta T cell: string, cerebellum: string, suprapubic skin: string, Ammon's horn: string, Peyer's patch: string, amygdala: string, transverse colon: string, substantia nigra: string, nucleus accumbens: string, sigmoid colon: string, caudate nucleus: string, C1 segment of cervical spinal cord: string, ovary: string, fibroblast: string, hypothalamus: string, CD8-positive, alpha-beta T cell: string, body of pancreas: string, pituitary gland: string, adrenal gland: string, putamen: string, testis: string, coronary artery: string, placenta: string, islet of Langerhans: string, cartilage tissue: string, neutrophil: string, anterior lingual gland: string, uterus: string, macrophage: string, vagina: string, naive regulatory T cell: string, T-helper 1 cell: string, frontal cortex: string, T-helper 2 cell: string, neocortex: string, anterior cingulate cortex: string, CD14-low, CD16-positive monocyte: string, natural killer cell: string, sensory neuron: string, neural progenitor cell: string, effector memory CD8-positive, alpha-beta T cell: string, dopaminergic neuron: string, T cell: string, floor plate: string, microglial cell: string, B cell: string, cortex of kidney: string, T follicular helper cell: string, memory regulatory T cell: string, central memory CD4-positive, alpha-beta T cell: string, layer of synovial tissue: string, CD4-positive, alpha-beta memory T cell: string, hepatocyte: string, ileum: string, rectum: string, mucosal invariant T cell: string, double negative thymocyte: string, gamma-delta T cell: string, dendritic cell: string, CD16-negative, CD56-bright natural killer cell, human: string, memory B cell: string, neuron: string, plasmablast: string, plasmacytoid dendritic cell: string, astrocyte: string, CD4-positive, alpha-beta cytotoxic T cell: string, central memory CD8-positive, alpha-beta T cell: string, platelet: string, ependymal cell: string, hematopoietic precursor cell: string, serotonergic neuron: string, effector memory CD4-positive, alpha-beta T cell: string, null: string, data: string],\n",
       " 'df_pivot_ndiagonalyes_by_projectid': DataFrame[targetId: string, diseaseId: string, phase4Clean: string, phase3Clean: string, phase2Clean: string, phase1Clean: string, PhaseT: string, ROSMAP: string, GENCORD: string, HipSci: string, GTEx: string, Schmiedel_2018: string, Lepik_2017: string, TwinsUK: string, UKB_PPP_EUR: string, FUSION: string, Quach_2016: string, GEUVADIS: string, Cytoimmgen: string, CommonMind: string, PhLiPS: string, Peng_2018: string, BrainSeq: string, van_de_Bunt_2015: string, PISA: string, Fairfax_2014: string, Nedelec_2016: string, Bossini-Castillo_2019: string, BLUEPRINT: string, Alasoo_2018: string, Steinberg_2020: string, iPSCORE: string, CAP: string, OneK1K: string, Walker_2019: string, Gilchrist_2021: string, Aygun_2021: string, Schwartzentruber_2018: string, Sun_2018: string, Kim-Hellmuth_2017: string, Jerber_2021: string, CEDAR: string, Young_2019: string, Fairfax_2012: string, Perez_2022: string, Nathan_2022: string, Kasela_2017: string, Braineac2: string, Naranbhai_2015: string, Randolph_2021: string, null: string, data: string],\n",
       " 'df_pivot_ndiagonalyes_by_rightstudytype': DataFrame[targetId: string, diseaseId: string, phase4Clean: string, phase3Clean: string, phase2Clean: string, phase1Clean: string, PhaseT: string, tuqtl: string, pqtl: string, eqtl: string, sceqtl: string, sqtl: string, null: string, data: string],\n",
       " 'df_pivot_hasgenetics_by_actiontype2': DataFrame[targetId: string, diseaseId: string, phase4Clean: string, phase3Clean: string, phase2Clean: string, phase1Clean: string, PhaseT: string, NEGATIVE ALLOSTERIC MODULATOR: string, CROSS-LINKING AGENT: string, ANTAGONIST: string, BINDING AGENT: string, ACTIVATOR: string, BLOCKER: string, INHIBITOR: string, POSITIVE MODULATOR: string, OTHER: string, AGONIST: string, OPENER: string, HYDROLYTIC ENZYME: string, STABILISER: string, DISRUPTING AGENT: string, POSITIVE ALLOSTERIC MODULATOR: string, INVERSE AGONIST: string, RELEASING AGENT: string, MODULATOR: string, EXOGENOUS PROTEIN: string, EXOGENOUS GENE: string, PARTIAL AGONIST: string, INHIBITOR,DISRUPTING AGENT: string, INHIBITOR,NEGATIVE ALLOSTERIC MODULATOR: string, BINDING AGENT,AGONIST: string, : string, AGONIST,PARTIAL AGONIST: string, ALLOSTERIC ANTAGONIST: string, RNAI INHIBITOR: string, ANTISENSE INHIBITOR: string, AGONIST,MODULATOR: string, VACCINE ANTIGEN: string, NEGATIVE MODULATOR: string, SUBSTRATE: string, DEGRADER: string, ANTAGONIST,INHIBITOR: string, PROTEOLYTIC ENZYME: string, data: string],\n",
       " 'df_pivot_hasgenetics_by_biosamplename': DataFrame[targetId: string, diseaseId: string, phase4Clean: string, phase3Clean: string, phase2Clean: string, phase1Clean: string, PhaseT: string, CD14-low, CD16-positive monocyte: string, tibial nerve: string, neutrophil: string, T-helper 17 cell: string, adipose tissue: string, blood plasma: string, lymphoblastoid cell line: string, CD14-positive, CD16-negative classical monocyte: string, macrophage: string, right lobe of liver: string, adrenal gland: string, blood: string, induced pluripotent stem cell: string, dorsolateral prefrontal cortex: string, omental fat pad: string, testis: string, nucleus accumbens: string, CD4-positive, alpha-beta T cell: string, cerebellum: string, central memory CD4-positive, alpha-beta T cell: string, cartilage tissue: string, placenta: string, fibroblast: string, spleen: string, skeletal muscle tissue: string, gastroesophageal sphincter: string, ascending aorta: string, thyroid gland: string, esophagus muscularis mucosa: string, caudate nucleus: string, frontal cortex: string, CD8-positive, alpha-beta T cell: string, memory regulatory T cell: string, naive regulatory T cell: string, putamen: string, suprapubic skin: string, body of pancreas: string, pituitary gland: string, upper lobe of left lung: string, prostate gland: string, sensory neuron: string, Peyer's patch: string, transverse colon: string, islet of Langerhans: string, right atrium auricular region: string, sigmoid colon: string, stomach: string, left ventricle myocardium: string, breast epithelium: string, uterus: string, ovary: string, vagina: string, cortex of kidney: string, esophagus squamous epithelium: string, tibial artery: string, neocortex: string, skin of body: string, coronary artery: string, anterior lingual gland: string, rectum: string, mucosal invariant T cell: string, double negative thymocyte: string, Ammon's horn: string, gamma-delta T cell: string, dendritic cell: string, T cell: string, CD16-negative, CD56-bright natural killer cell, human: string, memory B cell: string, effector memory CD8-positive, alpha-beta T cell: string, amygdala: string, CD4-positive, alpha-beta memory T cell: string, substantia nigra: string, neuron: string, plasmablast: string, ileum: string, T-helper 1 cell: string, neural progenitor cell: string, natural killer cell: string, plasmacytoid dendritic cell: string, astrocyte: string, C1 segment of cervical spinal cord: string, B cell: string, T follicular helper cell: string, CD4-positive, alpha-beta cytotoxic T cell: string, hypothalamus: string, layer of synovial tissue: string, central memory CD8-positive, alpha-beta T cell: string, floor plate: string, dopaminergic neuron: string, platelet: string, ependymal cell: string, T-helper 2 cell: string, hematopoietic precursor cell: string, hepatocyte: string, anterior cingulate cortex: string, serotonergic neuron: string, effector memory CD4-positive, alpha-beta T cell: string, microglial cell: string, null: string, data: string],\n",
       " 'df_pivot_hasgenetics_by_projectid': DataFrame[targetId: string, diseaseId: string, phase4Clean: string, phase3Clean: string, phase2Clean: string, phase1Clean: string, PhaseT: string, ROSMAP: string, GENCORD: string, HipSci: string, GTEx: string, Schmiedel_2018: string, Lepik_2017: string, TwinsUK: string, UKB_PPP_EUR: string, FUSION: string, Quach_2016: string, GEUVADIS: string, Cytoimmgen: string, CommonMind: string, PhLiPS: string, Peng_2018: string, BrainSeq: string, van_de_Bunt_2015: string, PISA: string, Fairfax_2014: string, Nedelec_2016: string, Bossini-Castillo_2019: string, BLUEPRINT: string, Alasoo_2018: string, Steinberg_2020: string, iPSCORE: string, CAP: string, OneK1K: string, Walker_2019: string, Gilchrist_2021: string, Aygun_2021: string, Schwartzentruber_2018: string, Sun_2018: string, Kim-Hellmuth_2017: string, Jerber_2021: string, CEDAR: string, Young_2019: string, Fairfax_2012: string, Perez_2022: string, Nathan_2022: string, Kasela_2017: string, Braineac2: string, Naranbhai_2015: string, Randolph_2021: string, null: string, data: string],\n",
       " 'df_pivot_hasgenetics_by_rightstudytype': DataFrame[targetId: string, diseaseId: string, phase4Clean: string, phase3Clean: string, phase2Clean: string, phase1Clean: string, PhaseT: string, eqtl: string, tuqtl: string, pqtl: string, sqtl: string, sceqtl: string, null: string, data: string]}"
      ]
     },
     "execution_count": 62,
     "metadata": {},
     "output_type": "execute_result"
    }
   ],
   "source": [
    "all_pivoted_dfs"
   ]
  },
  {
   "cell_type": "code",
   "execution_count": 65,
   "metadata": {},
   "outputs": [
    {
     "data": {
      "text/plain": [
       "['NEGATIVE ALLOSTERIC MODULATOR',\n",
       " 'ANTAGONIST',\n",
       " 'BINDING AGENT',\n",
       " 'EXOGENOUS PROTEIN',\n",
       " 'PARTIAL AGONIST',\n",
       " 'BLOCKER',\n",
       " 'INHIBITOR',\n",
       " 'POSITIVE MODULATOR',\n",
       " 'AGONIST',\n",
       " 'OPENER',\n",
       " 'HYDROLYTIC ENZYME',\n",
       " 'STABILISER',\n",
       " 'VACCINE ANTIGEN',\n",
       " 'DISRUPTING AGENT',\n",
       " 'POSITIVE ALLOSTERIC MODULATOR',\n",
       " 'MODULATOR',\n",
       " 'CROSS-LINKING AGENT',\n",
       " 'ACTIVATOR',\n",
       " 'OTHER',\n",
       " 'INHIBITOR,DISRUPTING AGENT',\n",
       " 'RNAI INHIBITOR',\n",
       " 'AGONIST,PARTIAL AGONIST',\n",
       " 'BINDING AGENT,AGONIST',\n",
       " 'SUBSTRATE',\n",
       " 'RELEASING AGENT',\n",
       " 'ANTISENSE INHIBITOR',\n",
       " 'INVERSE AGONIST',\n",
       " 'PROTEOLYTIC ENZYME',\n",
       " '',\n",
       " 'EXOGENOUS GENE',\n",
       " 'ALLOSTERIC ANTAGONIST',\n",
       " 'ANTAGONIST,INHIBITOR',\n",
       " 'NEGATIVE MODULATOR',\n",
       " 'INHIBITOR,NEGATIVE ALLOSTERIC MODULATOR',\n",
       " 'DEGRADER',\n",
       " 'AGONIST,MODULATOR',\n",
       " 'data']"
      ]
     },
     "execution_count": 65,
     "metadata": {},
     "output_type": "execute_result"
    }
   ],
   "source": [
    "all_pivoted_dfs['df_pivot_ndiagonalyes_by_actiontype2'].columns[7:]"
   ]
  },
  {
   "cell_type": "code",
   "execution_count": null,
   "metadata": {},
   "outputs": [
    {
     "name": "stdout",
     "output_type": "stream",
     "text": [
      "working with df_pivot_nonecellyes_by_actiontype2\n",
      "There are  37 columns to analyse with phases\n",
      "performing Row(comparison='NEGATIVE ALLOSTERIC MODULATOR', comparisonType='predictor', _1='Phase>=4', _2='clinical')\n"
     ]
    },
    {
     "name": "stderr",
     "output_type": "stream",
     "text": [
      "                                                                                \r"
     ]
    },
    {
     "name": "stdout",
     "output_type": "stream",
     "text": [
      "gs://ot-team/jroldan/2025-07-15_analysis/propagated/NEGATIVE ALLOSTERIC MODULATOR_predictor_Phase>=4.parquet\n"
     ]
    },
    {
     "name": "stderr",
     "output_type": "stream",
     "text": [
      "                                                                                \r"
     ]
    },
    {
     "name": "stdout",
     "output_type": "stream",
     "text": [
      "results appended\n",
      "performing Row(comparison='NEGATIVE ALLOSTERIC MODULATOR', comparisonType='predictor', _1='Phase>=3', _2='clinical')\n"
     ]
    },
    {
     "name": "stderr",
     "output_type": "stream",
     "text": [
      "                                                                                \r"
     ]
    },
    {
     "name": "stdout",
     "output_type": "stream",
     "text": [
      "gs://ot-team/jroldan/2025-07-15_analysis/propagated/NEGATIVE ALLOSTERIC MODULATOR_predictor_Phase>=3.parquet\n"
     ]
    },
    {
     "name": "stderr",
     "output_type": "stream",
     "text": [
      "                                                                                \r"
     ]
    },
    {
     "name": "stdout",
     "output_type": "stream",
     "text": [
      "results appended\n",
      "performing Row(comparison='NEGATIVE ALLOSTERIC MODULATOR', comparisonType='predictor', _1='Phase>=2', _2='clinical')\n"
     ]
    },
    {
     "name": "stderr",
     "output_type": "stream",
     "text": [
      "                                                                                \r"
     ]
    },
    {
     "name": "stdout",
     "output_type": "stream",
     "text": [
      "gs://ot-team/jroldan/2025-07-15_analysis/propagated/NEGATIVE ALLOSTERIC MODULATOR_predictor_Phase>=2.parquet\n"
     ]
    },
    {
     "name": "stderr",
     "output_type": "stream",
     "text": [
      "                                                                                \r"
     ]
    },
    {
     "name": "stdout",
     "output_type": "stream",
     "text": [
      "results appended\n",
      "performing Row(comparison='NEGATIVE ALLOSTERIC MODULATOR', comparisonType='predictor', _1='Phase>=1', _2='clinical')\n"
     ]
    },
    {
     "name": "stderr",
     "output_type": "stream",
     "text": [
      "                                                                                \r"
     ]
    },
    {
     "name": "stdout",
     "output_type": "stream",
     "text": [
      "gs://ot-team/jroldan/2025-07-15_analysis/propagated/NEGATIVE ALLOSTERIC MODULATOR_predictor_Phase>=1.parquet\n"
     ]
    },
    {
     "name": "stderr",
     "output_type": "stream",
     "text": [
      "                                                                                \r"
     ]
    },
    {
     "name": "stdout",
     "output_type": "stream",
     "text": [
      "results appended\n",
      "performing Row(comparison='NEGATIVE ALLOSTERIC MODULATOR', comparisonType='predictor', _1='PhaseT', _2='clinical')\n"
     ]
    },
    {
     "name": "stderr",
     "output_type": "stream",
     "text": [
      "                                                                                \r"
     ]
    },
    {
     "name": "stdout",
     "output_type": "stream",
     "text": [
      "gs://ot-team/jroldan/2025-07-15_analysis/propagated/NEGATIVE ALLOSTERIC MODULATOR_predictor_PhaseT.parquet\n"
     ]
    },
    {
     "name": "stderr",
     "output_type": "stream",
     "text": [
      "                                                                                \r"
     ]
    },
    {
     "name": "stdout",
     "output_type": "stream",
     "text": [
      "results appended\n",
      "performing Row(comparison='CROSS-LINKING AGENT', comparisonType='predictor', _1='Phase>=4', _2='clinical')\n"
     ]
    },
    {
     "name": "stderr",
     "output_type": "stream",
     "text": [
      "                                                                                \r"
     ]
    },
    {
     "name": "stdout",
     "output_type": "stream",
     "text": [
      "gs://ot-team/jroldan/2025-07-15_analysis/propagated/CROSS-LINKING AGENT_predictor_Phase>=4.parquet\n"
     ]
    },
    {
     "name": "stderr",
     "output_type": "stream",
     "text": [
      "                                                                                \r"
     ]
    },
    {
     "name": "stdout",
     "output_type": "stream",
     "text": [
      "results appended\n",
      "performing Row(comparison='CROSS-LINKING AGENT', comparisonType='predictor', _1='Phase>=3', _2='clinical')\n"
     ]
    },
    {
     "name": "stderr",
     "output_type": "stream",
     "text": [
      "                                                                                \r"
     ]
    },
    {
     "name": "stdout",
     "output_type": "stream",
     "text": [
      "gs://ot-team/jroldan/2025-07-15_analysis/propagated/CROSS-LINKING AGENT_predictor_Phase>=3.parquet\n"
     ]
    },
    {
     "name": "stderr",
     "output_type": "stream",
     "text": [
      "                                                                                \r"
     ]
    },
    {
     "name": "stdout",
     "output_type": "stream",
     "text": [
      "results appended\n",
      "performing Row(comparison='CROSS-LINKING AGENT', comparisonType='predictor', _1='Phase>=2', _2='clinical')\n"
     ]
    },
    {
     "name": "stderr",
     "output_type": "stream",
     "text": [
      "                                                                                \r"
     ]
    },
    {
     "name": "stdout",
     "output_type": "stream",
     "text": [
      "gs://ot-team/jroldan/2025-07-15_analysis/propagated/CROSS-LINKING AGENT_predictor_Phase>=2.parquet\n"
     ]
    },
    {
     "name": "stderr",
     "output_type": "stream",
     "text": [
      "                                                                                \r"
     ]
    },
    {
     "name": "stdout",
     "output_type": "stream",
     "text": [
      "results appended\n",
      "performing Row(comparison='CROSS-LINKING AGENT', comparisonType='predictor', _1='Phase>=1', _2='clinical')\n"
     ]
    },
    {
     "name": "stderr",
     "output_type": "stream",
     "text": [
      "                                                                                \r"
     ]
    },
    {
     "name": "stdout",
     "output_type": "stream",
     "text": [
      "gs://ot-team/jroldan/2025-07-15_analysis/propagated/CROSS-LINKING AGENT_predictor_Phase>=1.parquet\n"
     ]
    },
    {
     "name": "stderr",
     "output_type": "stream",
     "text": [
      "                                                                                \r"
     ]
    },
    {
     "name": "stdout",
     "output_type": "stream",
     "text": [
      "results appended\n",
      "performing Row(comparison='CROSS-LINKING AGENT', comparisonType='predictor', _1='PhaseT', _2='clinical')\n"
     ]
    },
    {
     "name": "stderr",
     "output_type": "stream",
     "text": [
      "                                                                                \r"
     ]
    },
    {
     "name": "stdout",
     "output_type": "stream",
     "text": [
      "gs://ot-team/jroldan/2025-07-15_analysis/propagated/CROSS-LINKING AGENT_predictor_PhaseT.parquet\n"
     ]
    },
    {
     "name": "stderr",
     "output_type": "stream",
     "text": [
      "                                                                                \r"
     ]
    },
    {
     "name": "stdout",
     "output_type": "stream",
     "text": [
      "results appended\n",
      "performing Row(comparison='ANTAGONIST', comparisonType='predictor', _1='Phase>=4', _2='clinical')\n"
     ]
    },
    {
     "name": "stderr",
     "output_type": "stream",
     "text": [
      "                                                                                \r"
     ]
    },
    {
     "name": "stdout",
     "output_type": "stream",
     "text": [
      "gs://ot-team/jroldan/2025-07-15_analysis/propagated/ANTAGONIST_predictor_Phase>=4.parquet\n"
     ]
    },
    {
     "name": "stderr",
     "output_type": "stream",
     "text": [
      "                                                                                \r"
     ]
    },
    {
     "name": "stdout",
     "output_type": "stream",
     "text": [
      "results appended\n",
      "performing Row(comparison='ANTAGONIST', comparisonType='predictor', _1='Phase>=3', _2='clinical')\n"
     ]
    },
    {
     "name": "stderr",
     "output_type": "stream",
     "text": [
      "                                                                                \r"
     ]
    },
    {
     "name": "stdout",
     "output_type": "stream",
     "text": [
      "gs://ot-team/jroldan/2025-07-15_analysis/propagated/ANTAGONIST_predictor_Phase>=3.parquet\n"
     ]
    },
    {
     "name": "stderr",
     "output_type": "stream",
     "text": [
      "                                                                                \r"
     ]
    },
    {
     "name": "stdout",
     "output_type": "stream",
     "text": [
      "results appended\n",
      "performing Row(comparison='ANTAGONIST', comparisonType='predictor', _1='Phase>=2', _2='clinical')\n"
     ]
    },
    {
     "name": "stderr",
     "output_type": "stream",
     "text": [
      "                                                                                \r"
     ]
    },
    {
     "name": "stdout",
     "output_type": "stream",
     "text": [
      "gs://ot-team/jroldan/2025-07-15_analysis/propagated/ANTAGONIST_predictor_Phase>=2.parquet\n"
     ]
    },
    {
     "name": "stderr",
     "output_type": "stream",
     "text": [
      "                                                                                \r"
     ]
    },
    {
     "name": "stdout",
     "output_type": "stream",
     "text": [
      "results appended\n",
      "performing Row(comparison='ANTAGONIST', comparisonType='predictor', _1='Phase>=1', _2='clinical')\n"
     ]
    },
    {
     "name": "stderr",
     "output_type": "stream",
     "text": [
      "                                                                                \r"
     ]
    },
    {
     "name": "stdout",
     "output_type": "stream",
     "text": [
      "gs://ot-team/jroldan/2025-07-15_analysis/propagated/ANTAGONIST_predictor_Phase>=1.parquet\n"
     ]
    },
    {
     "name": "stderr",
     "output_type": "stream",
     "text": [
      "                                                                                \r"
     ]
    },
    {
     "name": "stdout",
     "output_type": "stream",
     "text": [
      "results appended\n",
      "performing Row(comparison='ANTAGONIST', comparisonType='predictor', _1='PhaseT', _2='clinical')\n"
     ]
    },
    {
     "name": "stderr",
     "output_type": "stream",
     "text": [
      "                                                                                \r"
     ]
    },
    {
     "name": "stdout",
     "output_type": "stream",
     "text": [
      "gs://ot-team/jroldan/2025-07-15_analysis/propagated/ANTAGONIST_predictor_PhaseT.parquet\n"
     ]
    },
    {
     "name": "stderr",
     "output_type": "stream",
     "text": [
      "                                                                                \r"
     ]
    },
    {
     "name": "stdout",
     "output_type": "stream",
     "text": [
      "results appended\n",
      "performing Row(comparison='BINDING AGENT', comparisonType='predictor', _1='Phase>=4', _2='clinical')\n"
     ]
    },
    {
     "name": "stderr",
     "output_type": "stream",
     "text": [
      "                                                                                \r"
     ]
    },
    {
     "name": "stdout",
     "output_type": "stream",
     "text": [
      "gs://ot-team/jroldan/2025-07-15_analysis/propagated/BINDING AGENT_predictor_Phase>=4.parquet\n"
     ]
    },
    {
     "name": "stderr",
     "output_type": "stream",
     "text": [
      "                                                                                \r"
     ]
    },
    {
     "name": "stdout",
     "output_type": "stream",
     "text": [
      "results appended\n",
      "performing Row(comparison='BINDING AGENT', comparisonType='predictor', _1='Phase>=3', _2='clinical')\n"
     ]
    },
    {
     "name": "stderr",
     "output_type": "stream",
     "text": [
      "                                                                                \r"
     ]
    },
    {
     "name": "stdout",
     "output_type": "stream",
     "text": [
      "gs://ot-team/jroldan/2025-07-15_analysis/propagated/BINDING AGENT_predictor_Phase>=3.parquet\n"
     ]
    },
    {
     "name": "stderr",
     "output_type": "stream",
     "text": [
      "                                                                                \r"
     ]
    },
    {
     "name": "stdout",
     "output_type": "stream",
     "text": [
      "results appended\n",
      "performing Row(comparison='BINDING AGENT', comparisonType='predictor', _1='Phase>=2', _2='clinical')\n"
     ]
    },
    {
     "name": "stderr",
     "output_type": "stream",
     "text": [
      "                                                                                \r"
     ]
    },
    {
     "name": "stdout",
     "output_type": "stream",
     "text": [
      "gs://ot-team/jroldan/2025-07-15_analysis/propagated/BINDING AGENT_predictor_Phase>=2.parquet\n"
     ]
    },
    {
     "name": "stderr",
     "output_type": "stream",
     "text": [
      "                                                                                \r"
     ]
    },
    {
     "name": "stdout",
     "output_type": "stream",
     "text": [
      "results appended\n",
      "performing Row(comparison='BINDING AGENT', comparisonType='predictor', _1='Phase>=1', _2='clinical')\n"
     ]
    },
    {
     "name": "stderr",
     "output_type": "stream",
     "text": [
      "                                                                                \r"
     ]
    },
    {
     "name": "stdout",
     "output_type": "stream",
     "text": [
      "gs://ot-team/jroldan/2025-07-15_analysis/propagated/BINDING AGENT_predictor_Phase>=1.parquet\n"
     ]
    },
    {
     "name": "stderr",
     "output_type": "stream",
     "text": [
      "                                                                                \r"
     ]
    },
    {
     "name": "stdout",
     "output_type": "stream",
     "text": [
      "results appended\n",
      "performing Row(comparison='BINDING AGENT', comparisonType='predictor', _1='PhaseT', _2='clinical')\n"
     ]
    },
    {
     "name": "stderr",
     "output_type": "stream",
     "text": [
      "                                                                                \r"
     ]
    },
    {
     "name": "stdout",
     "output_type": "stream",
     "text": [
      "gs://ot-team/jroldan/2025-07-15_analysis/propagated/BINDING AGENT_predictor_PhaseT.parquet\n"
     ]
    },
    {
     "name": "stderr",
     "output_type": "stream",
     "text": [
      "                                                                                \r"
     ]
    },
    {
     "name": "stdout",
     "output_type": "stream",
     "text": [
      "results appended\n",
      "performing Row(comparison='ACTIVATOR', comparisonType='predictor', _1='Phase>=4', _2='clinical')\n"
     ]
    },
    {
     "name": "stderr",
     "output_type": "stream",
     "text": [
      "                                                                                \r"
     ]
    },
    {
     "name": "stdout",
     "output_type": "stream",
     "text": [
      "gs://ot-team/jroldan/2025-07-15_analysis/propagated/ACTIVATOR_predictor_Phase>=4.parquet\n",
      "results appended\n",
      "performing Row(comparison='ACTIVATOR', comparisonType='predictor', _1='Phase>=3', _2='clinical')\n"
     ]
    },
    {
     "name": "stderr",
     "output_type": "stream",
     "text": [
      "                                                                                \r"
     ]
    },
    {
     "name": "stdout",
     "output_type": "stream",
     "text": [
      "gs://ot-team/jroldan/2025-07-15_analysis/propagated/ACTIVATOR_predictor_Phase>=3.parquet\n",
      "results appended\n",
      "performing Row(comparison='ACTIVATOR', comparisonType='predictor', _1='Phase>=2', _2='clinical')\n"
     ]
    },
    {
     "name": "stderr",
     "output_type": "stream",
     "text": [
      "                                                                                \r"
     ]
    },
    {
     "name": "stdout",
     "output_type": "stream",
     "text": [
      "gs://ot-team/jroldan/2025-07-15_analysis/propagated/ACTIVATOR_predictor_Phase>=2.parquet\n"
     ]
    },
    {
     "name": "stderr",
     "output_type": "stream",
     "text": [
      "                                                                                \r"
     ]
    },
    {
     "name": "stdout",
     "output_type": "stream",
     "text": [
      "results appended\n",
      "performing Row(comparison='ACTIVATOR', comparisonType='predictor', _1='Phase>=1', _2='clinical')\n"
     ]
    },
    {
     "name": "stderr",
     "output_type": "stream",
     "text": [
      "                                                                                \r"
     ]
    },
    {
     "name": "stdout",
     "output_type": "stream",
     "text": [
      "gs://ot-team/jroldan/2025-07-15_analysis/propagated/ACTIVATOR_predictor_Phase>=1.parquet\n"
     ]
    },
    {
     "name": "stderr",
     "output_type": "stream",
     "text": [
      "                                                                                \r"
     ]
    },
    {
     "name": "stdout",
     "output_type": "stream",
     "text": [
      "results appended\n",
      "performing Row(comparison='ACTIVATOR', comparisonType='predictor', _1='PhaseT', _2='clinical')\n"
     ]
    },
    {
     "name": "stderr",
     "output_type": "stream",
     "text": [
      "                                                                                \r"
     ]
    },
    {
     "name": "stdout",
     "output_type": "stream",
     "text": [
      "gs://ot-team/jroldan/2025-07-15_analysis/propagated/ACTIVATOR_predictor_PhaseT.parquet\n"
     ]
    },
    {
     "name": "stderr",
     "output_type": "stream",
     "text": [
      "                                                                                \r"
     ]
    },
    {
     "name": "stdout",
     "output_type": "stream",
     "text": [
      "results appended\n",
      "performing Row(comparison='BLOCKER', comparisonType='predictor', _1='Phase>=4', _2='clinical')\n"
     ]
    },
    {
     "name": "stderr",
     "output_type": "stream",
     "text": [
      "                                                                                \r"
     ]
    },
    {
     "name": "stdout",
     "output_type": "stream",
     "text": [
      "gs://ot-team/jroldan/2025-07-15_analysis/propagated/BLOCKER_predictor_Phase>=4.parquet\n"
     ]
    },
    {
     "name": "stderr",
     "output_type": "stream",
     "text": [
      "                                                                                \r"
     ]
    },
    {
     "name": "stdout",
     "output_type": "stream",
     "text": [
      "results appended\n",
      "performing Row(comparison='BLOCKER', comparisonType='predictor', _1='Phase>=3', _2='clinical')\n"
     ]
    },
    {
     "name": "stderr",
     "output_type": "stream",
     "text": [
      "                                                                                \r"
     ]
    },
    {
     "name": "stdout",
     "output_type": "stream",
     "text": [
      "gs://ot-team/jroldan/2025-07-15_analysis/propagated/BLOCKER_predictor_Phase>=3.parquet\n"
     ]
    },
    {
     "name": "stderr",
     "output_type": "stream",
     "text": [
      "                                                                                \r"
     ]
    },
    {
     "name": "stdout",
     "output_type": "stream",
     "text": [
      "results appended\n",
      "performing Row(comparison='BLOCKER', comparisonType='predictor', _1='Phase>=2', _2='clinical')\n"
     ]
    },
    {
     "name": "stderr",
     "output_type": "stream",
     "text": [
      "                                                                                \r"
     ]
    },
    {
     "name": "stdout",
     "output_type": "stream",
     "text": [
      "gs://ot-team/jroldan/2025-07-15_analysis/propagated/BLOCKER_predictor_Phase>=2.parquet\n"
     ]
    },
    {
     "name": "stderr",
     "output_type": "stream",
     "text": [
      "                                                                                \r"
     ]
    },
    {
     "name": "stdout",
     "output_type": "stream",
     "text": [
      "results appended\n",
      "performing Row(comparison='BLOCKER', comparisonType='predictor', _1='Phase>=1', _2='clinical')\n"
     ]
    },
    {
     "name": "stderr",
     "output_type": "stream",
     "text": [
      "                                                                                \r"
     ]
    },
    {
     "name": "stdout",
     "output_type": "stream",
     "text": [
      "gs://ot-team/jroldan/2025-07-15_analysis/propagated/BLOCKER_predictor_Phase>=1.parquet\n"
     ]
    },
    {
     "name": "stderr",
     "output_type": "stream",
     "text": [
      "                                                                                \r"
     ]
    },
    {
     "name": "stdout",
     "output_type": "stream",
     "text": [
      "results appended\n",
      "performing Row(comparison='BLOCKER', comparisonType='predictor', _1='PhaseT', _2='clinical')\n"
     ]
    },
    {
     "name": "stderr",
     "output_type": "stream",
     "text": [
      "                                                                                \r"
     ]
    },
    {
     "name": "stdout",
     "output_type": "stream",
     "text": [
      "gs://ot-team/jroldan/2025-07-15_analysis/propagated/BLOCKER_predictor_PhaseT.parquet\n"
     ]
    },
    {
     "name": "stderr",
     "output_type": "stream",
     "text": [
      "                                                                                \r"
     ]
    },
    {
     "name": "stdout",
     "output_type": "stream",
     "text": [
      "results appended\n",
      "performing Row(comparison='INHIBITOR', comparisonType='predictor', _1='Phase>=4', _2='clinical')\n"
     ]
    },
    {
     "name": "stderr",
     "output_type": "stream",
     "text": [
      "                                                                                \r"
     ]
    },
    {
     "name": "stdout",
     "output_type": "stream",
     "text": [
      "gs://ot-team/jroldan/2025-07-15_analysis/propagated/INHIBITOR_predictor_Phase>=4.parquet\n"
     ]
    },
    {
     "name": "stderr",
     "output_type": "stream",
     "text": [
      "                                                                                \r"
     ]
    },
    {
     "name": "stdout",
     "output_type": "stream",
     "text": [
      "results appended\n",
      "performing Row(comparison='INHIBITOR', comparisonType='predictor', _1='Phase>=3', _2='clinical')\n"
     ]
    },
    {
     "name": "stderr",
     "output_type": "stream",
     "text": [
      "                                                                                \r"
     ]
    },
    {
     "name": "stdout",
     "output_type": "stream",
     "text": [
      "gs://ot-team/jroldan/2025-07-15_analysis/propagated/INHIBITOR_predictor_Phase>=3.parquet\n"
     ]
    },
    {
     "name": "stderr",
     "output_type": "stream",
     "text": [
      "                                                                                \r"
     ]
    },
    {
     "name": "stdout",
     "output_type": "stream",
     "text": [
      "results appended\n",
      "performing Row(comparison='INHIBITOR', comparisonType='predictor', _1='Phase>=2', _2='clinical')\n"
     ]
    },
    {
     "name": "stderr",
     "output_type": "stream",
     "text": [
      "                                                                                \r"
     ]
    },
    {
     "name": "stdout",
     "output_type": "stream",
     "text": [
      "gs://ot-team/jroldan/2025-07-15_analysis/propagated/INHIBITOR_predictor_Phase>=2.parquet\n"
     ]
    },
    {
     "name": "stderr",
     "output_type": "stream",
     "text": [
      "                                                                                \r"
     ]
    },
    {
     "name": "stdout",
     "output_type": "stream",
     "text": [
      "results appended\n",
      "performing Row(comparison='INHIBITOR', comparisonType='predictor', _1='Phase>=1', _2='clinical')\n"
     ]
    },
    {
     "name": "stderr",
     "output_type": "stream",
     "text": [
      "                                                                                \r"
     ]
    },
    {
     "name": "stdout",
     "output_type": "stream",
     "text": [
      "gs://ot-team/jroldan/2025-07-15_analysis/propagated/INHIBITOR_predictor_Phase>=1.parquet\n"
     ]
    },
    {
     "name": "stderr",
     "output_type": "stream",
     "text": [
      "                                                                                \r"
     ]
    },
    {
     "name": "stdout",
     "output_type": "stream",
     "text": [
      "results appended\n",
      "performing Row(comparison='INHIBITOR', comparisonType='predictor', _1='PhaseT', _2='clinical')\n"
     ]
    },
    {
     "name": "stderr",
     "output_type": "stream",
     "text": [
      "                                                                                \r"
     ]
    },
    {
     "name": "stdout",
     "output_type": "stream",
     "text": [
      "gs://ot-team/jroldan/2025-07-15_analysis/propagated/INHIBITOR_predictor_PhaseT.parquet\n"
     ]
    },
    {
     "name": "stderr",
     "output_type": "stream",
     "text": [
      "                                                                                \r"
     ]
    },
    {
     "name": "stdout",
     "output_type": "stream",
     "text": [
      "results appended\n",
      "performing Row(comparison='POSITIVE MODULATOR', comparisonType='predictor', _1='Phase>=4', _2='clinical')\n"
     ]
    },
    {
     "name": "stderr",
     "output_type": "stream",
     "text": [
      "                                                                                \r"
     ]
    },
    {
     "name": "stdout",
     "output_type": "stream",
     "text": [
      "gs://ot-team/jroldan/2025-07-15_analysis/propagated/POSITIVE MODULATOR_predictor_Phase>=4.parquet\n"
     ]
    },
    {
     "name": "stderr",
     "output_type": "stream",
     "text": [
      "                                                                                \r"
     ]
    },
    {
     "name": "stdout",
     "output_type": "stream",
     "text": [
      "results appended\n",
      "performing Row(comparison='POSITIVE MODULATOR', comparisonType='predictor', _1='Phase>=3', _2='clinical')\n"
     ]
    },
    {
     "name": "stderr",
     "output_type": "stream",
     "text": [
      "                                                                                \r"
     ]
    },
    {
     "name": "stdout",
     "output_type": "stream",
     "text": [
      "gs://ot-team/jroldan/2025-07-15_analysis/propagated/POSITIVE MODULATOR_predictor_Phase>=3.parquet\n"
     ]
    },
    {
     "name": "stderr",
     "output_type": "stream",
     "text": [
      "                                                                                \r"
     ]
    },
    {
     "name": "stdout",
     "output_type": "stream",
     "text": [
      "results appended\n",
      "performing Row(comparison='POSITIVE MODULATOR', comparisonType='predictor', _1='Phase>=2', _2='clinical')\n"
     ]
    },
    {
     "name": "stderr",
     "output_type": "stream",
     "text": [
      "                                                                                \r"
     ]
    },
    {
     "name": "stdout",
     "output_type": "stream",
     "text": [
      "gs://ot-team/jroldan/2025-07-15_analysis/propagated/POSITIVE MODULATOR_predictor_Phase>=2.parquet\n"
     ]
    },
    {
     "name": "stderr",
     "output_type": "stream",
     "text": [
      "                                                                                \r"
     ]
    },
    {
     "name": "stdout",
     "output_type": "stream",
     "text": [
      "results appended\n",
      "performing Row(comparison='POSITIVE MODULATOR', comparisonType='predictor', _1='Phase>=1', _2='clinical')\n"
     ]
    },
    {
     "name": "stderr",
     "output_type": "stream",
     "text": [
      "                                                                                \r"
     ]
    },
    {
     "name": "stdout",
     "output_type": "stream",
     "text": [
      "gs://ot-team/jroldan/2025-07-15_analysis/propagated/POSITIVE MODULATOR_predictor_Phase>=1.parquet\n"
     ]
    },
    {
     "name": "stderr",
     "output_type": "stream",
     "text": [
      "                                                                                \r"
     ]
    },
    {
     "name": "stdout",
     "output_type": "stream",
     "text": [
      "results appended\n",
      "performing Row(comparison='POSITIVE MODULATOR', comparisonType='predictor', _1='PhaseT', _2='clinical')\n"
     ]
    },
    {
     "name": "stderr",
     "output_type": "stream",
     "text": [
      "                                                                                \r"
     ]
    },
    {
     "name": "stdout",
     "output_type": "stream",
     "text": [
      "gs://ot-team/jroldan/2025-07-15_analysis/propagated/POSITIVE MODULATOR_predictor_PhaseT.parquet\n",
      "results appended\n",
      "performing Row(comparison='OTHER', comparisonType='predictor', _1='Phase>=4', _2='clinical')\n"
     ]
    },
    {
     "name": "stderr",
     "output_type": "stream",
     "text": [
      "                                                                                \r"
     ]
    },
    {
     "name": "stdout",
     "output_type": "stream",
     "text": [
      "gs://ot-team/jroldan/2025-07-15_analysis/propagated/OTHER_predictor_Phase>=4.parquet\n"
     ]
    },
    {
     "name": "stderr",
     "output_type": "stream",
     "text": [
      "                                                                                \r"
     ]
    },
    {
     "name": "stdout",
     "output_type": "stream",
     "text": [
      "results appended\n",
      "performing Row(comparison='OTHER', comparisonType='predictor', _1='Phase>=3', _2='clinical')\n"
     ]
    },
    {
     "name": "stderr",
     "output_type": "stream",
     "text": [
      "                                                                                \r"
     ]
    },
    {
     "name": "stdout",
     "output_type": "stream",
     "text": [
      "gs://ot-team/jroldan/2025-07-15_analysis/propagated/OTHER_predictor_Phase>=3.parquet\n",
      "results appended\n",
      "performing Row(comparison='OTHER', comparisonType='predictor', _1='Phase>=2', _2='clinical')\n"
     ]
    },
    {
     "name": "stderr",
     "output_type": "stream",
     "text": [
      "                                                                                \r"
     ]
    },
    {
     "name": "stdout",
     "output_type": "stream",
     "text": [
      "gs://ot-team/jroldan/2025-07-15_analysis/propagated/OTHER_predictor_Phase>=2.parquet\n"
     ]
    },
    {
     "name": "stderr",
     "output_type": "stream",
     "text": [
      "                                                                                \r"
     ]
    },
    {
     "name": "stdout",
     "output_type": "stream",
     "text": [
      "results appended\n",
      "performing Row(comparison='OTHER', comparisonType='predictor', _1='Phase>=1', _2='clinical')\n"
     ]
    },
    {
     "name": "stderr",
     "output_type": "stream",
     "text": [
      "                                                                                \r"
     ]
    },
    {
     "name": "stdout",
     "output_type": "stream",
     "text": [
      "gs://ot-team/jroldan/2025-07-15_analysis/propagated/OTHER_predictor_Phase>=1.parquet\n"
     ]
    },
    {
     "name": "stderr",
     "output_type": "stream",
     "text": [
      "                                                                                \r"
     ]
    },
    {
     "name": "stdout",
     "output_type": "stream",
     "text": [
      "results appended\n",
      "performing Row(comparison='OTHER', comparisonType='predictor', _1='PhaseT', _2='clinical')\n"
     ]
    },
    {
     "name": "stderr",
     "output_type": "stream",
     "text": [
      "                                                                                \r"
     ]
    },
    {
     "name": "stdout",
     "output_type": "stream",
     "text": [
      "gs://ot-team/jroldan/2025-07-15_analysis/propagated/OTHER_predictor_PhaseT.parquet\n",
      "results appended\n",
      "performing Row(comparison='AGONIST', comparisonType='predictor', _1='Phase>=4', _2='clinical')\n"
     ]
    },
    {
     "name": "stderr",
     "output_type": "stream",
     "text": [
      "                                                                                \r"
     ]
    },
    {
     "name": "stdout",
     "output_type": "stream",
     "text": [
      "gs://ot-team/jroldan/2025-07-15_analysis/propagated/AGONIST_predictor_Phase>=4.parquet\n"
     ]
    },
    {
     "name": "stderr",
     "output_type": "stream",
     "text": [
      "                                                                                \r"
     ]
    },
    {
     "name": "stdout",
     "output_type": "stream",
     "text": [
      "results appended\n",
      "performing Row(comparison='AGONIST', comparisonType='predictor', _1='Phase>=3', _2='clinical')\n"
     ]
    },
    {
     "name": "stderr",
     "output_type": "stream",
     "text": [
      "                                                                                \r"
     ]
    },
    {
     "name": "stdout",
     "output_type": "stream",
     "text": [
      "gs://ot-team/jroldan/2025-07-15_analysis/propagated/AGONIST_predictor_Phase>=3.parquet\n"
     ]
    },
    {
     "name": "stderr",
     "output_type": "stream",
     "text": [
      "                                                                                \r"
     ]
    },
    {
     "name": "stdout",
     "output_type": "stream",
     "text": [
      "results appended\n",
      "performing Row(comparison='AGONIST', comparisonType='predictor', _1='Phase>=2', _2='clinical')\n"
     ]
    },
    {
     "name": "stderr",
     "output_type": "stream",
     "text": [
      "                                                                                \r"
     ]
    },
    {
     "name": "stdout",
     "output_type": "stream",
     "text": [
      "gs://ot-team/jroldan/2025-07-15_analysis/propagated/AGONIST_predictor_Phase>=2.parquet\n"
     ]
    },
    {
     "name": "stderr",
     "output_type": "stream",
     "text": [
      "                                                                                \r"
     ]
    },
    {
     "name": "stdout",
     "output_type": "stream",
     "text": [
      "results appended\n",
      "performing Row(comparison='AGONIST', comparisonType='predictor', _1='Phase>=1', _2='clinical')\n"
     ]
    },
    {
     "name": "stderr",
     "output_type": "stream",
     "text": [
      "                                                                                \r"
     ]
    },
    {
     "name": "stdout",
     "output_type": "stream",
     "text": [
      "gs://ot-team/jroldan/2025-07-15_analysis/propagated/AGONIST_predictor_Phase>=1.parquet\n"
     ]
    },
    {
     "name": "stderr",
     "output_type": "stream",
     "text": [
      "                                                                                \r"
     ]
    },
    {
     "name": "stdout",
     "output_type": "stream",
     "text": [
      "results appended\n",
      "performing Row(comparison='AGONIST', comparisonType='predictor', _1='PhaseT', _2='clinical')\n"
     ]
    },
    {
     "name": "stderr",
     "output_type": "stream",
     "text": [
      "                                                                                \r"
     ]
    },
    {
     "name": "stdout",
     "output_type": "stream",
     "text": [
      "gs://ot-team/jroldan/2025-07-15_analysis/propagated/AGONIST_predictor_PhaseT.parquet\n",
      "results appended\n",
      "performing Row(comparison='OPENER', comparisonType='predictor', _1='Phase>=4', _2='clinical')\n"
     ]
    },
    {
     "name": "stderr",
     "output_type": "stream",
     "text": [
      "                                                                                \r"
     ]
    },
    {
     "name": "stdout",
     "output_type": "stream",
     "text": [
      "gs://ot-team/jroldan/2025-07-15_analysis/propagated/OPENER_predictor_Phase>=4.parquet\n"
     ]
    },
    {
     "name": "stderr",
     "output_type": "stream",
     "text": [
      "                                                                                \r"
     ]
    },
    {
     "name": "stdout",
     "output_type": "stream",
     "text": [
      "results appended\n",
      "performing Row(comparison='OPENER', comparisonType='predictor', _1='Phase>=3', _2='clinical')\n"
     ]
    },
    {
     "name": "stderr",
     "output_type": "stream",
     "text": [
      "                                                                                \r"
     ]
    },
    {
     "name": "stdout",
     "output_type": "stream",
     "text": [
      "gs://ot-team/jroldan/2025-07-15_analysis/propagated/OPENER_predictor_Phase>=3.parquet\n",
      "results appended\n",
      "performing Row(comparison='OPENER', comparisonType='predictor', _1='Phase>=2', _2='clinical')\n"
     ]
    },
    {
     "name": "stderr",
     "output_type": "stream",
     "text": [
      "                                                                                \r"
     ]
    },
    {
     "name": "stdout",
     "output_type": "stream",
     "text": [
      "gs://ot-team/jroldan/2025-07-15_analysis/propagated/OPENER_predictor_Phase>=2.parquet\n"
     ]
    },
    {
     "name": "stderr",
     "output_type": "stream",
     "text": [
      "                                                                                \r"
     ]
    },
    {
     "name": "stdout",
     "output_type": "stream",
     "text": [
      "results appended\n",
      "performing Row(comparison='OPENER', comparisonType='predictor', _1='Phase>=1', _2='clinical')\n"
     ]
    },
    {
     "name": "stderr",
     "output_type": "stream",
     "text": [
      "                                                                                \r"
     ]
    },
    {
     "name": "stdout",
     "output_type": "stream",
     "text": [
      "gs://ot-team/jroldan/2025-07-15_analysis/propagated/OPENER_predictor_Phase>=1.parquet\n"
     ]
    },
    {
     "name": "stderr",
     "output_type": "stream",
     "text": [
      "                                                                                \r"
     ]
    },
    {
     "name": "stdout",
     "output_type": "stream",
     "text": [
      "results appended\n",
      "performing Row(comparison='OPENER', comparisonType='predictor', _1='PhaseT', _2='clinical')\n"
     ]
    },
    {
     "name": "stderr",
     "output_type": "stream",
     "text": [
      "                                                                                \r"
     ]
    },
    {
     "name": "stdout",
     "output_type": "stream",
     "text": [
      "gs://ot-team/jroldan/2025-07-15_analysis/propagated/OPENER_predictor_PhaseT.parquet\n",
      "results appended\n",
      "performing Row(comparison='HYDROLYTIC ENZYME', comparisonType='predictor', _1='Phase>=4', _2='clinical')\n"
     ]
    },
    {
     "name": "stderr",
     "output_type": "stream",
     "text": [
      "                                                                                \r"
     ]
    },
    {
     "name": "stdout",
     "output_type": "stream",
     "text": [
      "gs://ot-team/jroldan/2025-07-15_analysis/propagated/HYDROLYTIC ENZYME_predictor_Phase>=4.parquet\n"
     ]
    },
    {
     "name": "stderr",
     "output_type": "stream",
     "text": [
      "                                                                                \r"
     ]
    },
    {
     "name": "stdout",
     "output_type": "stream",
     "text": [
      "results appended\n",
      "performing Row(comparison='HYDROLYTIC ENZYME', comparisonType='predictor', _1='Phase>=3', _2='clinical')\n"
     ]
    },
    {
     "name": "stderr",
     "output_type": "stream",
     "text": [
      "                                                                                \r"
     ]
    },
    {
     "name": "stdout",
     "output_type": "stream",
     "text": [
      "gs://ot-team/jroldan/2025-07-15_analysis/propagated/HYDROLYTIC ENZYME_predictor_Phase>=3.parquet\n"
     ]
    },
    {
     "name": "stderr",
     "output_type": "stream",
     "text": [
      "                                                                                \r"
     ]
    },
    {
     "name": "stdout",
     "output_type": "stream",
     "text": [
      "results appended\n",
      "performing Row(comparison='HYDROLYTIC ENZYME', comparisonType='predictor', _1='Phase>=2', _2='clinical')\n"
     ]
    },
    {
     "name": "stderr",
     "output_type": "stream",
     "text": [
      "                                                                                \r"
     ]
    },
    {
     "name": "stdout",
     "output_type": "stream",
     "text": [
      "gs://ot-team/jroldan/2025-07-15_analysis/propagated/HYDROLYTIC ENZYME_predictor_Phase>=2.parquet\n"
     ]
    },
    {
     "name": "stderr",
     "output_type": "stream",
     "text": [
      "                                                                                \r"
     ]
    },
    {
     "name": "stdout",
     "output_type": "stream",
     "text": [
      "results appended\n",
      "performing Row(comparison='HYDROLYTIC ENZYME', comparisonType='predictor', _1='Phase>=1', _2='clinical')\n"
     ]
    },
    {
     "name": "stderr",
     "output_type": "stream",
     "text": [
      "                                                                                \r"
     ]
    },
    {
     "name": "stdout",
     "output_type": "stream",
     "text": [
      "gs://ot-team/jroldan/2025-07-15_analysis/propagated/HYDROLYTIC ENZYME_predictor_Phase>=1.parquet\n"
     ]
    },
    {
     "name": "stderr",
     "output_type": "stream",
     "text": [
      "                                                                                \r"
     ]
    },
    {
     "name": "stdout",
     "output_type": "stream",
     "text": [
      "results appended\n",
      "performing Row(comparison='HYDROLYTIC ENZYME', comparisonType='predictor', _1='PhaseT', _2='clinical')\n"
     ]
    },
    {
     "name": "stderr",
     "output_type": "stream",
     "text": [
      "                                                                                \r"
     ]
    },
    {
     "name": "stdout",
     "output_type": "stream",
     "text": [
      "gs://ot-team/jroldan/2025-07-15_analysis/propagated/HYDROLYTIC ENZYME_predictor_PhaseT.parquet\n"
     ]
    },
    {
     "name": "stderr",
     "output_type": "stream",
     "text": [
      "                                                                                \r"
     ]
    },
    {
     "name": "stdout",
     "output_type": "stream",
     "text": [
      "results appended\n",
      "performing Row(comparison='STABILISER', comparisonType='predictor', _1='Phase>=4', _2='clinical')\n"
     ]
    },
    {
     "name": "stderr",
     "output_type": "stream",
     "text": [
      "                                                                                \r"
     ]
    },
    {
     "name": "stdout",
     "output_type": "stream",
     "text": [
      "gs://ot-team/jroldan/2025-07-15_analysis/propagated/STABILISER_predictor_Phase>=4.parquet\n",
      "results appended\n",
      "performing Row(comparison='STABILISER', comparisonType='predictor', _1='Phase>=3', _2='clinical')\n"
     ]
    },
    {
     "name": "stderr",
     "output_type": "stream",
     "text": [
      "                                                                                \r"
     ]
    },
    {
     "name": "stdout",
     "output_type": "stream",
     "text": [
      "gs://ot-team/jroldan/2025-07-15_analysis/propagated/STABILISER_predictor_Phase>=3.parquet\n",
      "results appended\n",
      "performing Row(comparison='STABILISER', comparisonType='predictor', _1='Phase>=2', _2='clinical')\n"
     ]
    },
    {
     "name": "stderr",
     "output_type": "stream",
     "text": [
      "                                                                                \r"
     ]
    },
    {
     "name": "stdout",
     "output_type": "stream",
     "text": [
      "gs://ot-team/jroldan/2025-07-15_analysis/propagated/STABILISER_predictor_Phase>=2.parquet\n"
     ]
    },
    {
     "name": "stderr",
     "output_type": "stream",
     "text": [
      "                                                                                \r"
     ]
    },
    {
     "name": "stdout",
     "output_type": "stream",
     "text": [
      "results appended\n",
      "performing Row(comparison='STABILISER', comparisonType='predictor', _1='Phase>=1', _2='clinical')\n"
     ]
    },
    {
     "name": "stderr",
     "output_type": "stream",
     "text": [
      "                                                                                \r"
     ]
    },
    {
     "name": "stdout",
     "output_type": "stream",
     "text": [
      "gs://ot-team/jroldan/2025-07-15_analysis/propagated/STABILISER_predictor_Phase>=1.parquet\n",
      "results appended\n",
      "performing Row(comparison='STABILISER', comparisonType='predictor', _1='PhaseT', _2='clinical')\n"
     ]
    },
    {
     "name": "stderr",
     "output_type": "stream",
     "text": [
      "                                                                                \r"
     ]
    },
    {
     "name": "stdout",
     "output_type": "stream",
     "text": [
      "gs://ot-team/jroldan/2025-07-15_analysis/propagated/STABILISER_predictor_PhaseT.parquet\n"
     ]
    },
    {
     "name": "stderr",
     "output_type": "stream",
     "text": [
      "                                                                                \r"
     ]
    },
    {
     "name": "stdout",
     "output_type": "stream",
     "text": [
      "results appended\n",
      "performing Row(comparison='DISRUPTING AGENT', comparisonType='predictor', _1='Phase>=4', _2='clinical')\n"
     ]
    },
    {
     "name": "stderr",
     "output_type": "stream",
     "text": [
      "                                                                                \r"
     ]
    },
    {
     "name": "stdout",
     "output_type": "stream",
     "text": [
      "gs://ot-team/jroldan/2025-07-15_analysis/propagated/DISRUPTING AGENT_predictor_Phase>=4.parquet\n"
     ]
    },
    {
     "name": "stderr",
     "output_type": "stream",
     "text": [
      "                                                                                \r"
     ]
    },
    {
     "name": "stdout",
     "output_type": "stream",
     "text": [
      "results appended\n",
      "performing Row(comparison='DISRUPTING AGENT', comparisonType='predictor', _1='Phase>=3', _2='clinical')\n"
     ]
    },
    {
     "name": "stderr",
     "output_type": "stream",
     "text": [
      "                                                                                \r"
     ]
    },
    {
     "name": "stdout",
     "output_type": "stream",
     "text": [
      "gs://ot-team/jroldan/2025-07-15_analysis/propagated/DISRUPTING AGENT_predictor_Phase>=3.parquet\n",
      "results appended\n",
      "performing Row(comparison='DISRUPTING AGENT', comparisonType='predictor', _1='Phase>=2', _2='clinical')\n"
     ]
    },
    {
     "name": "stderr",
     "output_type": "stream",
     "text": [
      "                                                                                \r"
     ]
    },
    {
     "name": "stdout",
     "output_type": "stream",
     "text": [
      "gs://ot-team/jroldan/2025-07-15_analysis/propagated/DISRUPTING AGENT_predictor_Phase>=2.parquet\n"
     ]
    },
    {
     "name": "stderr",
     "output_type": "stream",
     "text": [
      "                                                                                \r"
     ]
    },
    {
     "name": "stdout",
     "output_type": "stream",
     "text": [
      "results appended\n",
      "performing Row(comparison='DISRUPTING AGENT', comparisonType='predictor', _1='Phase>=1', _2='clinical')\n"
     ]
    },
    {
     "name": "stderr",
     "output_type": "stream",
     "text": [
      "                                                                                \r"
     ]
    },
    {
     "name": "stdout",
     "output_type": "stream",
     "text": [
      "gs://ot-team/jroldan/2025-07-15_analysis/propagated/DISRUPTING AGENT_predictor_Phase>=1.parquet\n",
      "results appended\n",
      "performing Row(comparison='DISRUPTING AGENT', comparisonType='predictor', _1='PhaseT', _2='clinical')\n"
     ]
    },
    {
     "name": "stderr",
     "output_type": "stream",
     "text": [
      "                                                                                \r"
     ]
    },
    {
     "name": "stdout",
     "output_type": "stream",
     "text": [
      "gs://ot-team/jroldan/2025-07-15_analysis/propagated/DISRUPTING AGENT_predictor_PhaseT.parquet\n"
     ]
    },
    {
     "name": "stderr",
     "output_type": "stream",
     "text": [
      "                                                                                \r"
     ]
    },
    {
     "name": "stdout",
     "output_type": "stream",
     "text": [
      "results appended\n",
      "performing Row(comparison='POSITIVE ALLOSTERIC MODULATOR', comparisonType='predictor', _1='Phase>=4', _2='clinical')\n"
     ]
    },
    {
     "name": "stderr",
     "output_type": "stream",
     "text": [
      "                                                                                \r"
     ]
    },
    {
     "name": "stdout",
     "output_type": "stream",
     "text": [
      "gs://ot-team/jroldan/2025-07-15_analysis/propagated/POSITIVE ALLOSTERIC MODULATOR_predictor_Phase>=4.parquet\n"
     ]
    },
    {
     "name": "stderr",
     "output_type": "stream",
     "text": [
      "                                                                                \r"
     ]
    },
    {
     "name": "stdout",
     "output_type": "stream",
     "text": [
      "results appended\n",
      "performing Row(comparison='POSITIVE ALLOSTERIC MODULATOR', comparisonType='predictor', _1='Phase>=3', _2='clinical')\n"
     ]
    },
    {
     "name": "stderr",
     "output_type": "stream",
     "text": [
      "                                                                                \r"
     ]
    },
    {
     "name": "stdout",
     "output_type": "stream",
     "text": [
      "gs://ot-team/jroldan/2025-07-15_analysis/propagated/POSITIVE ALLOSTERIC MODULATOR_predictor_Phase>=3.parquet\n"
     ]
    },
    {
     "name": "stderr",
     "output_type": "stream",
     "text": [
      "                                                                                \r"
     ]
    },
    {
     "name": "stdout",
     "output_type": "stream",
     "text": [
      "results appended\n",
      "performing Row(comparison='POSITIVE ALLOSTERIC MODULATOR', comparisonType='predictor', _1='Phase>=2', _2='clinical')\n"
     ]
    },
    {
     "name": "stderr",
     "output_type": "stream",
     "text": [
      "                                                                                \r"
     ]
    },
    {
     "name": "stdout",
     "output_type": "stream",
     "text": [
      "gs://ot-team/jroldan/2025-07-15_analysis/propagated/POSITIVE ALLOSTERIC MODULATOR_predictor_Phase>=2.parquet\n"
     ]
    },
    {
     "name": "stderr",
     "output_type": "stream",
     "text": [
      "                                                                                \r"
     ]
    },
    {
     "name": "stdout",
     "output_type": "stream",
     "text": [
      "results appended\n",
      "performing Row(comparison='POSITIVE ALLOSTERIC MODULATOR', comparisonType='predictor', _1='Phase>=1', _2='clinical')\n"
     ]
    },
    {
     "name": "stderr",
     "output_type": "stream",
     "text": [
      "                                                                                \r"
     ]
    },
    {
     "name": "stdout",
     "output_type": "stream",
     "text": [
      "gs://ot-team/jroldan/2025-07-15_analysis/propagated/POSITIVE ALLOSTERIC MODULATOR_predictor_Phase>=1.parquet\n"
     ]
    },
    {
     "name": "stderr",
     "output_type": "stream",
     "text": [
      "                                                                                \r"
     ]
    },
    {
     "name": "stdout",
     "output_type": "stream",
     "text": [
      "results appended\n",
      "performing Row(comparison='POSITIVE ALLOSTERIC MODULATOR', comparisonType='predictor', _1='PhaseT', _2='clinical')\n"
     ]
    },
    {
     "name": "stderr",
     "output_type": "stream",
     "text": [
      "                                                                                \r"
     ]
    },
    {
     "name": "stdout",
     "output_type": "stream",
     "text": [
      "gs://ot-team/jroldan/2025-07-15_analysis/propagated/POSITIVE ALLOSTERIC MODULATOR_predictor_PhaseT.parquet\n"
     ]
    },
    {
     "name": "stderr",
     "output_type": "stream",
     "text": [
      "                                                                                \r"
     ]
    },
    {
     "name": "stdout",
     "output_type": "stream",
     "text": [
      "results appended\n",
      "performing Row(comparison='INVERSE AGONIST', comparisonType='predictor', _1='Phase>=4', _2='clinical')\n"
     ]
    },
    {
     "name": "stderr",
     "output_type": "stream",
     "text": [
      "                                                                                \r"
     ]
    },
    {
     "name": "stdout",
     "output_type": "stream",
     "text": [
      "gs://ot-team/jroldan/2025-07-15_analysis/propagated/INVERSE AGONIST_predictor_Phase>=4.parquet\n"
     ]
    },
    {
     "name": "stderr",
     "output_type": "stream",
     "text": [
      "                                                                                \r"
     ]
    },
    {
     "name": "stdout",
     "output_type": "stream",
     "text": [
      "results appended\n",
      "performing Row(comparison='INVERSE AGONIST', comparisonType='predictor', _1='Phase>=3', _2='clinical')\n"
     ]
    },
    {
     "name": "stderr",
     "output_type": "stream",
     "text": [
      "                                                                                \r"
     ]
    },
    {
     "name": "stdout",
     "output_type": "stream",
     "text": [
      "gs://ot-team/jroldan/2025-07-15_analysis/propagated/INVERSE AGONIST_predictor_Phase>=3.parquet\n"
     ]
    },
    {
     "name": "stderr",
     "output_type": "stream",
     "text": [
      "                                                                                \r"
     ]
    },
    {
     "name": "stdout",
     "output_type": "stream",
     "text": [
      "results appended\n",
      "performing Row(comparison='INVERSE AGONIST', comparisonType='predictor', _1='Phase>=2', _2='clinical')\n"
     ]
    },
    {
     "name": "stderr",
     "output_type": "stream",
     "text": [
      "                                                                                \r"
     ]
    },
    {
     "name": "stdout",
     "output_type": "stream",
     "text": [
      "gs://ot-team/jroldan/2025-07-15_analysis/propagated/INVERSE AGONIST_predictor_Phase>=2.parquet\n"
     ]
    },
    {
     "name": "stderr",
     "output_type": "stream",
     "text": [
      "                                                                                \r"
     ]
    },
    {
     "name": "stdout",
     "output_type": "stream",
     "text": [
      "results appended\n",
      "performing Row(comparison='INVERSE AGONIST', comparisonType='predictor', _1='Phase>=1', _2='clinical')\n"
     ]
    },
    {
     "name": "stderr",
     "output_type": "stream",
     "text": [
      "                                                                                \r"
     ]
    },
    {
     "name": "stdout",
     "output_type": "stream",
     "text": [
      "gs://ot-team/jroldan/2025-07-15_analysis/propagated/INVERSE AGONIST_predictor_Phase>=1.parquet\n"
     ]
    },
    {
     "name": "stderr",
     "output_type": "stream",
     "text": [
      "                                                                                \r"
     ]
    },
    {
     "name": "stdout",
     "output_type": "stream",
     "text": [
      "results appended\n",
      "performing Row(comparison='INVERSE AGONIST', comparisonType='predictor', _1='PhaseT', _2='clinical')\n"
     ]
    },
    {
     "name": "stderr",
     "output_type": "stream",
     "text": [
      "                                                                                \r"
     ]
    },
    {
     "name": "stdout",
     "output_type": "stream",
     "text": [
      "gs://ot-team/jroldan/2025-07-15_analysis/propagated/INVERSE AGONIST_predictor_PhaseT.parquet\n",
      "results appended\n",
      "performing Row(comparison='RELEASING AGENT', comparisonType='predictor', _1='Phase>=4', _2='clinical')\n"
     ]
    },
    {
     "name": "stderr",
     "output_type": "stream",
     "text": [
      "                                                                                \r"
     ]
    },
    {
     "name": "stdout",
     "output_type": "stream",
     "text": [
      "gs://ot-team/jroldan/2025-07-15_analysis/propagated/RELEASING AGENT_predictor_Phase>=4.parquet\n"
     ]
    },
    {
     "name": "stderr",
     "output_type": "stream",
     "text": [
      "                                                                                \r"
     ]
    },
    {
     "name": "stdout",
     "output_type": "stream",
     "text": [
      "results appended\n",
      "performing Row(comparison='RELEASING AGENT', comparisonType='predictor', _1='Phase>=3', _2='clinical')\n"
     ]
    },
    {
     "name": "stderr",
     "output_type": "stream",
     "text": [
      "                                                                                \r"
     ]
    },
    {
     "name": "stdout",
     "output_type": "stream",
     "text": [
      "gs://ot-team/jroldan/2025-07-15_analysis/propagated/RELEASING AGENT_predictor_Phase>=3.parquet\n"
     ]
    },
    {
     "name": "stderr",
     "output_type": "stream",
     "text": [
      "                                                                                \r"
     ]
    },
    {
     "name": "stdout",
     "output_type": "stream",
     "text": [
      "results appended\n",
      "performing Row(comparison='RELEASING AGENT', comparisonType='predictor', _1='Phase>=2', _2='clinical')\n"
     ]
    },
    {
     "name": "stderr",
     "output_type": "stream",
     "text": [
      "                                                                                \r"
     ]
    },
    {
     "name": "stdout",
     "output_type": "stream",
     "text": [
      "gs://ot-team/jroldan/2025-07-15_analysis/propagated/RELEASING AGENT_predictor_Phase>=2.parquet\n"
     ]
    },
    {
     "name": "stderr",
     "output_type": "stream",
     "text": [
      "                                                                                \r"
     ]
    },
    {
     "name": "stdout",
     "output_type": "stream",
     "text": [
      "results appended\n",
      "performing Row(comparison='RELEASING AGENT', comparisonType='predictor', _1='Phase>=1', _2='clinical')\n"
     ]
    },
    {
     "name": "stderr",
     "output_type": "stream",
     "text": [
      "                                                                                \r"
     ]
    },
    {
     "name": "stdout",
     "output_type": "stream",
     "text": [
      "gs://ot-team/jroldan/2025-07-15_analysis/propagated/RELEASING AGENT_predictor_Phase>=1.parquet\n"
     ]
    },
    {
     "name": "stderr",
     "output_type": "stream",
     "text": [
      "                                                                                \r"
     ]
    },
    {
     "name": "stdout",
     "output_type": "stream",
     "text": [
      "results appended\n",
      "performing Row(comparison='RELEASING AGENT', comparisonType='predictor', _1='PhaseT', _2='clinical')\n"
     ]
    },
    {
     "name": "stderr",
     "output_type": "stream",
     "text": [
      "                                                                                \r"
     ]
    },
    {
     "name": "stdout",
     "output_type": "stream",
     "text": [
      "gs://ot-team/jroldan/2025-07-15_analysis/propagated/RELEASING AGENT_predictor_PhaseT.parquet\n"
     ]
    },
    {
     "name": "stderr",
     "output_type": "stream",
     "text": [
      "                                                                                \r"
     ]
    },
    {
     "name": "stdout",
     "output_type": "stream",
     "text": [
      "results appended\n",
      "performing Row(comparison='MODULATOR', comparisonType='predictor', _1='Phase>=4', _2='clinical')\n"
     ]
    },
    {
     "name": "stderr",
     "output_type": "stream",
     "text": [
      "                                                                                \r"
     ]
    },
    {
     "name": "stdout",
     "output_type": "stream",
     "text": [
      "gs://ot-team/jroldan/2025-07-15_analysis/propagated/MODULATOR_predictor_Phase>=4.parquet\n"
     ]
    },
    {
     "name": "stderr",
     "output_type": "stream",
     "text": [
      "                                                                                \r"
     ]
    },
    {
     "name": "stdout",
     "output_type": "stream",
     "text": [
      "results appended\n",
      "performing Row(comparison='MODULATOR', comparisonType='predictor', _1='Phase>=3', _2='clinical')\n"
     ]
    },
    {
     "name": "stderr",
     "output_type": "stream",
     "text": [
      "                                                                                \r"
     ]
    },
    {
     "name": "stdout",
     "output_type": "stream",
     "text": [
      "gs://ot-team/jroldan/2025-07-15_analysis/propagated/MODULATOR_predictor_Phase>=3.parquet\n",
      "results appended\n",
      "performing Row(comparison='MODULATOR', comparisonType='predictor', _1='Phase>=2', _2='clinical')\n"
     ]
    },
    {
     "name": "stderr",
     "output_type": "stream",
     "text": [
      "                                                                                \r"
     ]
    },
    {
     "name": "stdout",
     "output_type": "stream",
     "text": [
      "gs://ot-team/jroldan/2025-07-15_analysis/propagated/MODULATOR_predictor_Phase>=2.parquet\n"
     ]
    },
    {
     "name": "stderr",
     "output_type": "stream",
     "text": [
      "                                                                                \r"
     ]
    },
    {
     "name": "stdout",
     "output_type": "stream",
     "text": [
      "results appended\n",
      "performing Row(comparison='MODULATOR', comparisonType='predictor', _1='Phase>=1', _2='clinical')\n"
     ]
    },
    {
     "name": "stderr",
     "output_type": "stream",
     "text": [
      "                                                                                \r"
     ]
    },
    {
     "name": "stdout",
     "output_type": "stream",
     "text": [
      "gs://ot-team/jroldan/2025-07-15_analysis/propagated/MODULATOR_predictor_Phase>=1.parquet\n"
     ]
    },
    {
     "name": "stderr",
     "output_type": "stream",
     "text": [
      "                                                                                \r"
     ]
    },
    {
     "name": "stdout",
     "output_type": "stream",
     "text": [
      "results appended\n",
      "performing Row(comparison='MODULATOR', comparisonType='predictor', _1='PhaseT', _2='clinical')\n"
     ]
    },
    {
     "name": "stderr",
     "output_type": "stream",
     "text": [
      "                                                                                \r"
     ]
    },
    {
     "name": "stdout",
     "output_type": "stream",
     "text": [
      "gs://ot-team/jroldan/2025-07-15_analysis/propagated/MODULATOR_predictor_PhaseT.parquet\n"
     ]
    },
    {
     "name": "stderr",
     "output_type": "stream",
     "text": [
      "                                                                                \r"
     ]
    },
    {
     "name": "stdout",
     "output_type": "stream",
     "text": [
      "results appended\n",
      "performing Row(comparison='EXOGENOUS PROTEIN', comparisonType='predictor', _1='Phase>=4', _2='clinical')\n"
     ]
    },
    {
     "name": "stderr",
     "output_type": "stream",
     "text": [
      "                                                                                \r"
     ]
    },
    {
     "name": "stdout",
     "output_type": "stream",
     "text": [
      "gs://ot-team/jroldan/2025-07-15_analysis/propagated/EXOGENOUS PROTEIN_predictor_Phase>=4.parquet\n"
     ]
    },
    {
     "name": "stderr",
     "output_type": "stream",
     "text": [
      "                                                                                \r"
     ]
    },
    {
     "name": "stdout",
     "output_type": "stream",
     "text": [
      "results appended\n",
      "performing Row(comparison='EXOGENOUS PROTEIN', comparisonType='predictor', _1='Phase>=3', _2='clinical')\n"
     ]
    },
    {
     "name": "stderr",
     "output_type": "stream",
     "text": [
      "                                                                                \r"
     ]
    },
    {
     "name": "stdout",
     "output_type": "stream",
     "text": [
      "gs://ot-team/jroldan/2025-07-15_analysis/propagated/EXOGENOUS PROTEIN_predictor_Phase>=3.parquet\n"
     ]
    },
    {
     "name": "stderr",
     "output_type": "stream",
     "text": [
      "                                                                                \r"
     ]
    },
    {
     "name": "stdout",
     "output_type": "stream",
     "text": [
      "results appended\n",
      "performing Row(comparison='EXOGENOUS PROTEIN', comparisonType='predictor', _1='Phase>=2', _2='clinical')\n"
     ]
    },
    {
     "name": "stderr",
     "output_type": "stream",
     "text": [
      "                                                                                \r"
     ]
    },
    {
     "name": "stdout",
     "output_type": "stream",
     "text": [
      "gs://ot-team/jroldan/2025-07-15_analysis/propagated/EXOGENOUS PROTEIN_predictor_Phase>=2.parquet\n"
     ]
    },
    {
     "name": "stderr",
     "output_type": "stream",
     "text": [
      "                                                                                \r"
     ]
    },
    {
     "name": "stdout",
     "output_type": "stream",
     "text": [
      "results appended\n",
      "performing Row(comparison='EXOGENOUS PROTEIN', comparisonType='predictor', _1='Phase>=1', _2='clinical')\n"
     ]
    },
    {
     "name": "stderr",
     "output_type": "stream",
     "text": [
      "                                                                                \r"
     ]
    },
    {
     "name": "stdout",
     "output_type": "stream",
     "text": [
      "gs://ot-team/jroldan/2025-07-15_analysis/propagated/EXOGENOUS PROTEIN_predictor_Phase>=1.parquet\n",
      "results appended\n",
      "performing Row(comparison='EXOGENOUS PROTEIN', comparisonType='predictor', _1='PhaseT', _2='clinical')\n"
     ]
    },
    {
     "name": "stderr",
     "output_type": "stream",
     "text": [
      "                                                                                \r"
     ]
    },
    {
     "name": "stdout",
     "output_type": "stream",
     "text": [
      "gs://ot-team/jroldan/2025-07-15_analysis/propagated/EXOGENOUS PROTEIN_predictor_PhaseT.parquet\n"
     ]
    },
    {
     "name": "stderr",
     "output_type": "stream",
     "text": [
      "                                                                                \r"
     ]
    },
    {
     "name": "stdout",
     "output_type": "stream",
     "text": [
      "results appended\n",
      "performing Row(comparison='EXOGENOUS GENE', comparisonType='predictor', _1='Phase>=4', _2='clinical')\n"
     ]
    },
    {
     "name": "stderr",
     "output_type": "stream",
     "text": [
      "                                                                                \r"
     ]
    },
    {
     "name": "stdout",
     "output_type": "stream",
     "text": [
      "gs://ot-team/jroldan/2025-07-15_analysis/propagated/EXOGENOUS GENE_predictor_Phase>=4.parquet\n"
     ]
    },
    {
     "name": "stderr",
     "output_type": "stream",
     "text": [
      "                                                                                \r"
     ]
    },
    {
     "name": "stdout",
     "output_type": "stream",
     "text": [
      "results appended\n",
      "performing Row(comparison='EXOGENOUS GENE', comparisonType='predictor', _1='Phase>=3', _2='clinical')\n"
     ]
    },
    {
     "name": "stderr",
     "output_type": "stream",
     "text": [
      "                                                                                \r"
     ]
    },
    {
     "name": "stdout",
     "output_type": "stream",
     "text": [
      "gs://ot-team/jroldan/2025-07-15_analysis/propagated/EXOGENOUS GENE_predictor_Phase>=3.parquet\n"
     ]
    },
    {
     "name": "stderr",
     "output_type": "stream",
     "text": [
      "                                                                                \r"
     ]
    },
    {
     "name": "stdout",
     "output_type": "stream",
     "text": [
      "results appended\n",
      "performing Row(comparison='EXOGENOUS GENE', comparisonType='predictor', _1='Phase>=2', _2='clinical')\n"
     ]
    },
    {
     "name": "stderr",
     "output_type": "stream",
     "text": [
      "                                                                                \r"
     ]
    },
    {
     "name": "stdout",
     "output_type": "stream",
     "text": [
      "gs://ot-team/jroldan/2025-07-15_analysis/propagated/EXOGENOUS GENE_predictor_Phase>=2.parquet\n"
     ]
    },
    {
     "name": "stderr",
     "output_type": "stream",
     "text": [
      "                                                                                \r"
     ]
    },
    {
     "name": "stdout",
     "output_type": "stream",
     "text": [
      "results appended\n",
      "performing Row(comparison='EXOGENOUS GENE', comparisonType='predictor', _1='Phase>=1', _2='clinical')\n"
     ]
    },
    {
     "name": "stderr",
     "output_type": "stream",
     "text": [
      "                                                                                \r"
     ]
    },
    {
     "name": "stdout",
     "output_type": "stream",
     "text": [
      "gs://ot-team/jroldan/2025-07-15_analysis/propagated/EXOGENOUS GENE_predictor_Phase>=1.parquet\n"
     ]
    },
    {
     "name": "stderr",
     "output_type": "stream",
     "text": [
      "                                                                                \r"
     ]
    },
    {
     "name": "stdout",
     "output_type": "stream",
     "text": [
      "results appended\n",
      "performing Row(comparison='EXOGENOUS GENE', comparisonType='predictor', _1='PhaseT', _2='clinical')\n"
     ]
    },
    {
     "name": "stderr",
     "output_type": "stream",
     "text": [
      "                                                                                \r"
     ]
    },
    {
     "name": "stdout",
     "output_type": "stream",
     "text": [
      "gs://ot-team/jroldan/2025-07-15_analysis/propagated/EXOGENOUS GENE_predictor_PhaseT.parquet\n"
     ]
    },
    {
     "name": "stderr",
     "output_type": "stream",
     "text": [
      "                                                                                \r"
     ]
    },
    {
     "name": "stdout",
     "output_type": "stream",
     "text": [
      "results appended\n",
      "performing Row(comparison='PARTIAL AGONIST', comparisonType='predictor', _1='Phase>=4', _2='clinical')\n"
     ]
    },
    {
     "name": "stderr",
     "output_type": "stream",
     "text": [
      "                                                                                \r"
     ]
    },
    {
     "name": "stdout",
     "output_type": "stream",
     "text": [
      "gs://ot-team/jroldan/2025-07-15_analysis/propagated/PARTIAL AGONIST_predictor_Phase>=4.parquet\n"
     ]
    },
    {
     "name": "stderr",
     "output_type": "stream",
     "text": [
      "                                                                                \r"
     ]
    },
    {
     "name": "stdout",
     "output_type": "stream",
     "text": [
      "results appended\n",
      "performing Row(comparison='PARTIAL AGONIST', comparisonType='predictor', _1='Phase>=3', _2='clinical')\n"
     ]
    },
    {
     "name": "stderr",
     "output_type": "stream",
     "text": [
      "                                                                                \r"
     ]
    },
    {
     "name": "stdout",
     "output_type": "stream",
     "text": [
      "gs://ot-team/jroldan/2025-07-15_analysis/propagated/PARTIAL AGONIST_predictor_Phase>=3.parquet\n"
     ]
    },
    {
     "name": "stderr",
     "output_type": "stream",
     "text": [
      "                                                                                \r"
     ]
    },
    {
     "name": "stdout",
     "output_type": "stream",
     "text": [
      "results appended\n",
      "performing Row(comparison='PARTIAL AGONIST', comparisonType='predictor', _1='Phase>=2', _2='clinical')\n"
     ]
    },
    {
     "name": "stderr",
     "output_type": "stream",
     "text": [
      "                                                                                \r"
     ]
    },
    {
     "name": "stdout",
     "output_type": "stream",
     "text": [
      "gs://ot-team/jroldan/2025-07-15_analysis/propagated/PARTIAL AGONIST_predictor_Phase>=2.parquet\n"
     ]
    },
    {
     "name": "stderr",
     "output_type": "stream",
     "text": [
      "                                                                                \r"
     ]
    },
    {
     "name": "stdout",
     "output_type": "stream",
     "text": [
      "results appended\n",
      "performing Row(comparison='PARTIAL AGONIST', comparisonType='predictor', _1='Phase>=1', _2='clinical')\n"
     ]
    },
    {
     "name": "stderr",
     "output_type": "stream",
     "text": [
      "                                                                                \r"
     ]
    },
    {
     "name": "stdout",
     "output_type": "stream",
     "text": [
      "gs://ot-team/jroldan/2025-07-15_analysis/propagated/PARTIAL AGONIST_predictor_Phase>=1.parquet\n"
     ]
    },
    {
     "name": "stderr",
     "output_type": "stream",
     "text": [
      "                                                                                \r"
     ]
    },
    {
     "name": "stdout",
     "output_type": "stream",
     "text": [
      "results appended\n",
      "performing Row(comparison='PARTIAL AGONIST', comparisonType='predictor', _1='PhaseT', _2='clinical')\n"
     ]
    },
    {
     "name": "stderr",
     "output_type": "stream",
     "text": [
      "                                                                                \r"
     ]
    },
    {
     "name": "stdout",
     "output_type": "stream",
     "text": [
      "gs://ot-team/jroldan/2025-07-15_analysis/propagated/PARTIAL AGONIST_predictor_PhaseT.parquet\n"
     ]
    },
    {
     "name": "stderr",
     "output_type": "stream",
     "text": [
      "                                                                                \r"
     ]
    },
    {
     "name": "stdout",
     "output_type": "stream",
     "text": [
      "results appended\n",
      "performing Row(comparison='INHIBITOR,DISRUPTING AGENT', comparisonType='predictor', _1='Phase>=4', _2='clinical')\n"
     ]
    },
    {
     "name": "stderr",
     "output_type": "stream",
     "text": [
      "                                                                                \r"
     ]
    },
    {
     "name": "stdout",
     "output_type": "stream",
     "text": [
      "gs://ot-team/jroldan/2025-07-15_analysis/propagated/INHIBITOR,DISRUPTING AGENT_predictor_Phase>=4.parquet\n",
      "results appended\n",
      "performing Row(comparison='INHIBITOR,DISRUPTING AGENT', comparisonType='predictor', _1='Phase>=3', _2='clinical')\n"
     ]
    },
    {
     "name": "stderr",
     "output_type": "stream",
     "text": [
      "                                                                                \r"
     ]
    },
    {
     "name": "stdout",
     "output_type": "stream",
     "text": [
      "gs://ot-team/jroldan/2025-07-15_analysis/propagated/INHIBITOR,DISRUPTING AGENT_predictor_Phase>=3.parquet\n"
     ]
    },
    {
     "name": "stderr",
     "output_type": "stream",
     "text": [
      "                                                                                \r"
     ]
    },
    {
     "name": "stdout",
     "output_type": "stream",
     "text": [
      "results appended\n",
      "performing Row(comparison='INHIBITOR,DISRUPTING AGENT', comparisonType='predictor', _1='Phase>=2', _2='clinical')\n"
     ]
    },
    {
     "name": "stderr",
     "output_type": "stream",
     "text": [
      "                                                                                \r"
     ]
    },
    {
     "name": "stdout",
     "output_type": "stream",
     "text": [
      "gs://ot-team/jroldan/2025-07-15_analysis/propagated/INHIBITOR,DISRUPTING AGENT_predictor_Phase>=2.parquet\n"
     ]
    },
    {
     "name": "stderr",
     "output_type": "stream",
     "text": [
      "                                                                                \r"
     ]
    },
    {
     "name": "stdout",
     "output_type": "stream",
     "text": [
      "results appended\n",
      "performing Row(comparison='INHIBITOR,DISRUPTING AGENT', comparisonType='predictor', _1='Phase>=1', _2='clinical')\n"
     ]
    },
    {
     "name": "stderr",
     "output_type": "stream",
     "text": [
      "                                                                                \r"
     ]
    },
    {
     "name": "stdout",
     "output_type": "stream",
     "text": [
      "gs://ot-team/jroldan/2025-07-15_analysis/propagated/INHIBITOR,DISRUPTING AGENT_predictor_Phase>=1.parquet\n"
     ]
    },
    {
     "name": "stderr",
     "output_type": "stream",
     "text": [
      "                                                                                \r"
     ]
    },
    {
     "name": "stdout",
     "output_type": "stream",
     "text": [
      "results appended\n",
      "performing Row(comparison='INHIBITOR,DISRUPTING AGENT', comparisonType='predictor', _1='PhaseT', _2='clinical')\n"
     ]
    },
    {
     "name": "stderr",
     "output_type": "stream",
     "text": [
      "                                                                                \r"
     ]
    },
    {
     "name": "stdout",
     "output_type": "stream",
     "text": [
      "gs://ot-team/jroldan/2025-07-15_analysis/propagated/INHIBITOR,DISRUPTING AGENT_predictor_PhaseT.parquet\n"
     ]
    },
    {
     "name": "stderr",
     "output_type": "stream",
     "text": [
      "                                                                                \r"
     ]
    },
    {
     "name": "stdout",
     "output_type": "stream",
     "text": [
      "results appended\n",
      "performing Row(comparison='INHIBITOR,NEGATIVE ALLOSTERIC MODULATOR', comparisonType='predictor', _1='Phase>=4', _2='clinical')\n"
     ]
    },
    {
     "name": "stderr",
     "output_type": "stream",
     "text": [
      "                                                                                \r"
     ]
    },
    {
     "name": "stdout",
     "output_type": "stream",
     "text": [
      "gs://ot-team/jroldan/2025-07-15_analysis/propagated/INHIBITOR,NEGATIVE ALLOSTERIC MODULATOR_predictor_Phase>=4.parquet\n"
     ]
    },
    {
     "name": "stderr",
     "output_type": "stream",
     "text": [
      "                                                                                \r"
     ]
    },
    {
     "name": "stdout",
     "output_type": "stream",
     "text": [
      "results appended\n",
      "performing Row(comparison='INHIBITOR,NEGATIVE ALLOSTERIC MODULATOR', comparisonType='predictor', _1='Phase>=3', _2='clinical')\n"
     ]
    },
    {
     "name": "stderr",
     "output_type": "stream",
     "text": [
      "                                                                                \r"
     ]
    },
    {
     "name": "stdout",
     "output_type": "stream",
     "text": [
      "gs://ot-team/jroldan/2025-07-15_analysis/propagated/INHIBITOR,NEGATIVE ALLOSTERIC MODULATOR_predictor_Phase>=3.parquet\n"
     ]
    },
    {
     "name": "stderr",
     "output_type": "stream",
     "text": [
      "                                                                                \r"
     ]
    },
    {
     "name": "stdout",
     "output_type": "stream",
     "text": [
      "results appended\n",
      "performing Row(comparison='INHIBITOR,NEGATIVE ALLOSTERIC MODULATOR', comparisonType='predictor', _1='Phase>=2', _2='clinical')\n"
     ]
    },
    {
     "name": "stderr",
     "output_type": "stream",
     "text": [
      "                                                                                \r"
     ]
    },
    {
     "name": "stdout",
     "output_type": "stream",
     "text": [
      "gs://ot-team/jroldan/2025-07-15_analysis/propagated/INHIBITOR,NEGATIVE ALLOSTERIC MODULATOR_predictor_Phase>=2.parquet\n"
     ]
    },
    {
     "name": "stderr",
     "output_type": "stream",
     "text": [
      "                                                                                \r"
     ]
    },
    {
     "name": "stdout",
     "output_type": "stream",
     "text": [
      "results appended\n",
      "performing Row(comparison='INHIBITOR,NEGATIVE ALLOSTERIC MODULATOR', comparisonType='predictor', _1='Phase>=1', _2='clinical')\n"
     ]
    },
    {
     "name": "stderr",
     "output_type": "stream",
     "text": [
      "                                                                                \r"
     ]
    },
    {
     "name": "stdout",
     "output_type": "stream",
     "text": [
      "gs://ot-team/jroldan/2025-07-15_analysis/propagated/INHIBITOR,NEGATIVE ALLOSTERIC MODULATOR_predictor_Phase>=1.parquet\n",
      "results appended\n",
      "performing Row(comparison='INHIBITOR,NEGATIVE ALLOSTERIC MODULATOR', comparisonType='predictor', _1='PhaseT', _2='clinical')\n"
     ]
    },
    {
     "name": "stderr",
     "output_type": "stream",
     "text": [
      "                                                                                \r"
     ]
    },
    {
     "name": "stdout",
     "output_type": "stream",
     "text": [
      "gs://ot-team/jroldan/2025-07-15_analysis/propagated/INHIBITOR,NEGATIVE ALLOSTERIC MODULATOR_predictor_PhaseT.parquet\n",
      "results appended\n",
      "performing Row(comparison='BINDING AGENT,AGONIST', comparisonType='predictor', _1='Phase>=4', _2='clinical')\n"
     ]
    },
    {
     "name": "stderr",
     "output_type": "stream",
     "text": [
      "                                                                                \r"
     ]
    },
    {
     "name": "stdout",
     "output_type": "stream",
     "text": [
      "gs://ot-team/jroldan/2025-07-15_analysis/propagated/BINDING AGENT,AGONIST_predictor_Phase>=4.parquet\n"
     ]
    },
    {
     "name": "stderr",
     "output_type": "stream",
     "text": [
      "                                                                                \r"
     ]
    },
    {
     "name": "stdout",
     "output_type": "stream",
     "text": [
      "results appended\n",
      "performing Row(comparison='BINDING AGENT,AGONIST', comparisonType='predictor', _1='Phase>=3', _2='clinical')\n"
     ]
    },
    {
     "name": "stderr",
     "output_type": "stream",
     "text": [
      "                                                                                \r"
     ]
    },
    {
     "name": "stdout",
     "output_type": "stream",
     "text": [
      "gs://ot-team/jroldan/2025-07-15_analysis/propagated/BINDING AGENT,AGONIST_predictor_Phase>=3.parquet\n"
     ]
    },
    {
     "name": "stderr",
     "output_type": "stream",
     "text": [
      "                                                                                \r"
     ]
    },
    {
     "name": "stdout",
     "output_type": "stream",
     "text": [
      "results appended\n",
      "performing Row(comparison='BINDING AGENT,AGONIST', comparisonType='predictor', _1='Phase>=2', _2='clinical')\n"
     ]
    },
    {
     "name": "stderr",
     "output_type": "stream",
     "text": [
      "                                                                                \r"
     ]
    },
    {
     "name": "stdout",
     "output_type": "stream",
     "text": [
      "gs://ot-team/jroldan/2025-07-15_analysis/propagated/BINDING AGENT,AGONIST_predictor_Phase>=2.parquet\n"
     ]
    },
    {
     "name": "stderr",
     "output_type": "stream",
     "text": [
      "                                                                                \r"
     ]
    },
    {
     "name": "stdout",
     "output_type": "stream",
     "text": [
      "results appended\n",
      "performing Row(comparison='BINDING AGENT,AGONIST', comparisonType='predictor', _1='Phase>=1', _2='clinical')\n"
     ]
    },
    {
     "name": "stderr",
     "output_type": "stream",
     "text": [
      "                                                                                \r"
     ]
    },
    {
     "name": "stdout",
     "output_type": "stream",
     "text": [
      "gs://ot-team/jroldan/2025-07-15_analysis/propagated/BINDING AGENT,AGONIST_predictor_Phase>=1.parquet\n"
     ]
    },
    {
     "name": "stderr",
     "output_type": "stream",
     "text": [
      "                                                                                \r"
     ]
    },
    {
     "name": "stdout",
     "output_type": "stream",
     "text": [
      "results appended\n",
      "performing Row(comparison='BINDING AGENT,AGONIST', comparisonType='predictor', _1='PhaseT', _2='clinical')\n"
     ]
    },
    {
     "name": "stderr",
     "output_type": "stream",
     "text": [
      "                                                                                \r"
     ]
    },
    {
     "name": "stdout",
     "output_type": "stream",
     "text": [
      "gs://ot-team/jroldan/2025-07-15_analysis/propagated/BINDING AGENT,AGONIST_predictor_PhaseT.parquet\n"
     ]
    },
    {
     "name": "stderr",
     "output_type": "stream",
     "text": [
      "                                                                                \r"
     ]
    },
    {
     "name": "stdout",
     "output_type": "stream",
     "text": [
      "results appended\n",
      "performing Row(comparison='', comparisonType='predictor', _1='Phase>=4', _2='clinical')\n"
     ]
    },
    {
     "name": "stderr",
     "output_type": "stream",
     "text": [
      "                                                                                \r"
     ]
    },
    {
     "name": "stdout",
     "output_type": "stream",
     "text": [
      "gs://ot-team/jroldan/2025-07-15_analysis/propagated/_predictor_Phase>=4.parquet\n"
     ]
    },
    {
     "name": "stderr",
     "output_type": "stream",
     "text": [
      "                                                                                \r"
     ]
    },
    {
     "name": "stdout",
     "output_type": "stream",
     "text": [
      "results appended\n",
      "performing Row(comparison='', comparisonType='predictor', _1='Phase>=3', _2='clinical')\n"
     ]
    },
    {
     "name": "stderr",
     "output_type": "stream",
     "text": [
      "                                                                                \r"
     ]
    },
    {
     "name": "stdout",
     "output_type": "stream",
     "text": [
      "gs://ot-team/jroldan/2025-07-15_analysis/propagated/_predictor_Phase>=3.parquet\n",
      "results appended\n",
      "performing Row(comparison='', comparisonType='predictor', _1='Phase>=2', _2='clinical')\n"
     ]
    },
    {
     "name": "stderr",
     "output_type": "stream",
     "text": [
      "                                                                                \r"
     ]
    },
    {
     "name": "stdout",
     "output_type": "stream",
     "text": [
      "gs://ot-team/jroldan/2025-07-15_analysis/propagated/_predictor_Phase>=2.parquet\n"
     ]
    },
    {
     "name": "stderr",
     "output_type": "stream",
     "text": [
      "                                                                                \r"
     ]
    },
    {
     "name": "stdout",
     "output_type": "stream",
     "text": [
      "results appended\n",
      "performing Row(comparison='', comparisonType='predictor', _1='Phase>=1', _2='clinical')\n"
     ]
    },
    {
     "name": "stderr",
     "output_type": "stream",
     "text": [
      "                                                                                \r"
     ]
    },
    {
     "name": "stdout",
     "output_type": "stream",
     "text": [
      "gs://ot-team/jroldan/2025-07-15_analysis/propagated/_predictor_Phase>=1.parquet\n"
     ]
    },
    {
     "name": "stderr",
     "output_type": "stream",
     "text": [
      "                                                                                \r"
     ]
    },
    {
     "name": "stdout",
     "output_type": "stream",
     "text": [
      "results appended\n",
      "performing Row(comparison='', comparisonType='predictor', _1='PhaseT', _2='clinical')\n",
      "gs://ot-team/jroldan/2025-07-15_analysis/propagated/_predictor_PhaseT.parquet\n"
     ]
    },
    {
     "name": "stderr",
     "output_type": "stream",
     "text": [
      "                                                                                \r"
     ]
    },
    {
     "name": "stdout",
     "output_type": "stream",
     "text": [
      "results appended\n",
      "performing Row(comparison='AGONIST,PARTIAL AGONIST', comparisonType='predictor', _1='Phase>=4', _2='clinical')\n"
     ]
    },
    {
     "name": "stderr",
     "output_type": "stream",
     "text": [
      "                                                                                \r"
     ]
    },
    {
     "name": "stdout",
     "output_type": "stream",
     "text": [
      "gs://ot-team/jroldan/2025-07-15_analysis/propagated/AGONIST,PARTIAL AGONIST_predictor_Phase>=4.parquet\n"
     ]
    },
    {
     "name": "stderr",
     "output_type": "stream",
     "text": [
      "                                                                                \r"
     ]
    },
    {
     "name": "stdout",
     "output_type": "stream",
     "text": [
      "results appended\n",
      "performing Row(comparison='AGONIST,PARTIAL AGONIST', comparisonType='predictor', _1='Phase>=3', _2='clinical')\n"
     ]
    },
    {
     "name": "stderr",
     "output_type": "stream",
     "text": [
      "                                                                                \r"
     ]
    },
    {
     "name": "stdout",
     "output_type": "stream",
     "text": [
      "gs://ot-team/jroldan/2025-07-15_analysis/propagated/AGONIST,PARTIAL AGONIST_predictor_Phase>=3.parquet\n"
     ]
    },
    {
     "name": "stderr",
     "output_type": "stream",
     "text": [
      "                                                                                \r"
     ]
    },
    {
     "name": "stdout",
     "output_type": "stream",
     "text": [
      "results appended\n",
      "performing Row(comparison='AGONIST,PARTIAL AGONIST', comparisonType='predictor', _1='Phase>=2', _2='clinical')\n"
     ]
    },
    {
     "name": "stderr",
     "output_type": "stream",
     "text": [
      "                                                                                \r"
     ]
    },
    {
     "name": "stdout",
     "output_type": "stream",
     "text": [
      "gs://ot-team/jroldan/2025-07-15_analysis/propagated/AGONIST,PARTIAL AGONIST_predictor_Phase>=2.parquet\n"
     ]
    },
    {
     "name": "stderr",
     "output_type": "stream",
     "text": [
      "                                                                                \r"
     ]
    },
    {
     "name": "stdout",
     "output_type": "stream",
     "text": [
      "results appended\n",
      "performing Row(comparison='AGONIST,PARTIAL AGONIST', comparisonType='predictor', _1='Phase>=1', _2='clinical')\n"
     ]
    },
    {
     "name": "stderr",
     "output_type": "stream",
     "text": [
      "                                                                                \r"
     ]
    },
    {
     "name": "stdout",
     "output_type": "stream",
     "text": [
      "gs://ot-team/jroldan/2025-07-15_analysis/propagated/AGONIST,PARTIAL AGONIST_predictor_Phase>=1.parquet\n"
     ]
    },
    {
     "name": "stderr",
     "output_type": "stream",
     "text": [
      "                                                                                \r"
     ]
    },
    {
     "name": "stdout",
     "output_type": "stream",
     "text": [
      "results appended\n",
      "performing Row(comparison='AGONIST,PARTIAL AGONIST', comparisonType='predictor', _1='PhaseT', _2='clinical')\n"
     ]
    },
    {
     "name": "stderr",
     "output_type": "stream",
     "text": [
      "                                                                                \r"
     ]
    },
    {
     "name": "stdout",
     "output_type": "stream",
     "text": [
      "gs://ot-team/jroldan/2025-07-15_analysis/propagated/AGONIST,PARTIAL AGONIST_predictor_PhaseT.parquet\n"
     ]
    },
    {
     "name": "stderr",
     "output_type": "stream",
     "text": [
      "                                                                                \r"
     ]
    },
    {
     "name": "stdout",
     "output_type": "stream",
     "text": [
      "results appended\n",
      "performing Row(comparison='ALLOSTERIC ANTAGONIST', comparisonType='predictor', _1='Phase>=4', _2='clinical')\n"
     ]
    },
    {
     "name": "stderr",
     "output_type": "stream",
     "text": [
      "                                                                                \r"
     ]
    },
    {
     "name": "stdout",
     "output_type": "stream",
     "text": [
      "gs://ot-team/jroldan/2025-07-15_analysis/propagated/ALLOSTERIC ANTAGONIST_predictor_Phase>=4.parquet\n"
     ]
    },
    {
     "name": "stderr",
     "output_type": "stream",
     "text": [
      "                                                                                \r"
     ]
    },
    {
     "name": "stdout",
     "output_type": "stream",
     "text": [
      "results appended\n",
      "performing Row(comparison='ALLOSTERIC ANTAGONIST', comparisonType='predictor', _1='Phase>=3', _2='clinical')\n"
     ]
    },
    {
     "name": "stderr",
     "output_type": "stream",
     "text": [
      "                                                                                \r"
     ]
    },
    {
     "name": "stdout",
     "output_type": "stream",
     "text": [
      "gs://ot-team/jroldan/2025-07-15_analysis/propagated/ALLOSTERIC ANTAGONIST_predictor_Phase>=3.parquet\n"
     ]
    },
    {
     "name": "stderr",
     "output_type": "stream",
     "text": [
      "                                                                                \r"
     ]
    },
    {
     "name": "stdout",
     "output_type": "stream",
     "text": [
      "results appended\n",
      "performing Row(comparison='ALLOSTERIC ANTAGONIST', comparisonType='predictor', _1='Phase>=2', _2='clinical')\n"
     ]
    },
    {
     "name": "stderr",
     "output_type": "stream",
     "text": [
      "                                                                                \r"
     ]
    },
    {
     "name": "stdout",
     "output_type": "stream",
     "text": [
      "gs://ot-team/jroldan/2025-07-15_analysis/propagated/ALLOSTERIC ANTAGONIST_predictor_Phase>=2.parquet\n"
     ]
    },
    {
     "name": "stderr",
     "output_type": "stream",
     "text": [
      "                                                                                \r"
     ]
    },
    {
     "name": "stdout",
     "output_type": "stream",
     "text": [
      "results appended\n",
      "performing Row(comparison='ALLOSTERIC ANTAGONIST', comparisonType='predictor', _1='Phase>=1', _2='clinical')\n"
     ]
    },
    {
     "name": "stderr",
     "output_type": "stream",
     "text": [
      "                                                                                \r"
     ]
    },
    {
     "name": "stdout",
     "output_type": "stream",
     "text": [
      "gs://ot-team/jroldan/2025-07-15_analysis/propagated/ALLOSTERIC ANTAGONIST_predictor_Phase>=1.parquet\n"
     ]
    },
    {
     "name": "stderr",
     "output_type": "stream",
     "text": [
      "                                                                                \r"
     ]
    },
    {
     "name": "stdout",
     "output_type": "stream",
     "text": [
      "results appended\n",
      "performing Row(comparison='ALLOSTERIC ANTAGONIST', comparisonType='predictor', _1='PhaseT', _2='clinical')\n"
     ]
    },
    {
     "name": "stderr",
     "output_type": "stream",
     "text": [
      "                                                                                \r"
     ]
    },
    {
     "name": "stdout",
     "output_type": "stream",
     "text": [
      "gs://ot-team/jroldan/2025-07-15_analysis/propagated/ALLOSTERIC ANTAGONIST_predictor_PhaseT.parquet\n"
     ]
    },
    {
     "name": "stderr",
     "output_type": "stream",
     "text": [
      "                                                                                \r"
     ]
    },
    {
     "name": "stdout",
     "output_type": "stream",
     "text": [
      "results appended\n",
      "performing Row(comparison='RNAI INHIBITOR', comparisonType='predictor', _1='Phase>=4', _2='clinical')\n"
     ]
    },
    {
     "name": "stderr",
     "output_type": "stream",
     "text": [
      "                                                                                \r"
     ]
    },
    {
     "name": "stdout",
     "output_type": "stream",
     "text": [
      "gs://ot-team/jroldan/2025-07-15_analysis/propagated/RNAI INHIBITOR_predictor_Phase>=4.parquet\n"
     ]
    },
    {
     "name": "stderr",
     "output_type": "stream",
     "text": [
      "                                                                                \r"
     ]
    },
    {
     "name": "stdout",
     "output_type": "stream",
     "text": [
      "results appended\n",
      "performing Row(comparison='RNAI INHIBITOR', comparisonType='predictor', _1='Phase>=3', _2='clinical')\n"
     ]
    },
    {
     "name": "stderr",
     "output_type": "stream",
     "text": [
      "                                                                                \r"
     ]
    },
    {
     "name": "stdout",
     "output_type": "stream",
     "text": [
      "gs://ot-team/jroldan/2025-07-15_analysis/propagated/RNAI INHIBITOR_predictor_Phase>=3.parquet\n"
     ]
    },
    {
     "name": "stderr",
     "output_type": "stream",
     "text": [
      "                                                                                \r"
     ]
    },
    {
     "name": "stdout",
     "output_type": "stream",
     "text": [
      "results appended\n",
      "performing Row(comparison='RNAI INHIBITOR', comparisonType='predictor', _1='Phase>=2', _2='clinical')\n"
     ]
    },
    {
     "name": "stderr",
     "output_type": "stream",
     "text": [
      "                                                                                \r"
     ]
    },
    {
     "name": "stdout",
     "output_type": "stream",
     "text": [
      "gs://ot-team/jroldan/2025-07-15_analysis/propagated/RNAI INHIBITOR_predictor_Phase>=2.parquet\n"
     ]
    },
    {
     "name": "stderr",
     "output_type": "stream",
     "text": [
      "                                                                                \r"
     ]
    },
    {
     "name": "stdout",
     "output_type": "stream",
     "text": [
      "results appended\n",
      "performing Row(comparison='RNAI INHIBITOR', comparisonType='predictor', _1='Phase>=1', _2='clinical')\n"
     ]
    },
    {
     "name": "stderr",
     "output_type": "stream",
     "text": [
      "                                                                                \r"
     ]
    },
    {
     "name": "stdout",
     "output_type": "stream",
     "text": [
      "gs://ot-team/jroldan/2025-07-15_analysis/propagated/RNAI INHIBITOR_predictor_Phase>=1.parquet\n"
     ]
    },
    {
     "name": "stderr",
     "output_type": "stream",
     "text": [
      "                                                                                \r"
     ]
    },
    {
     "name": "stdout",
     "output_type": "stream",
     "text": [
      "results appended\n",
      "performing Row(comparison='RNAI INHIBITOR', comparisonType='predictor', _1='PhaseT', _2='clinical')\n"
     ]
    },
    {
     "name": "stderr",
     "output_type": "stream",
     "text": [
      "                                                                                \r"
     ]
    },
    {
     "name": "stdout",
     "output_type": "stream",
     "text": [
      "gs://ot-team/jroldan/2025-07-15_analysis/propagated/RNAI INHIBITOR_predictor_PhaseT.parquet\n"
     ]
    },
    {
     "name": "stderr",
     "output_type": "stream",
     "text": [
      "                                                                                \r"
     ]
    },
    {
     "name": "stdout",
     "output_type": "stream",
     "text": [
      "results appended\n",
      "performing Row(comparison='ANTISENSE INHIBITOR', comparisonType='predictor', _1='Phase>=4', _2='clinical')\n"
     ]
    },
    {
     "name": "stderr",
     "output_type": "stream",
     "text": [
      "                                                                                \r"
     ]
    },
    {
     "name": "stdout",
     "output_type": "stream",
     "text": [
      "gs://ot-team/jroldan/2025-07-15_analysis/propagated/ANTISENSE INHIBITOR_predictor_Phase>=4.parquet\n"
     ]
    },
    {
     "name": "stderr",
     "output_type": "stream",
     "text": [
      "                                                                                \r"
     ]
    },
    {
     "name": "stdout",
     "output_type": "stream",
     "text": [
      "results appended\n",
      "performing Row(comparison='ANTISENSE INHIBITOR', comparisonType='predictor', _1='Phase>=3', _2='clinical')\n"
     ]
    },
    {
     "name": "stderr",
     "output_type": "stream",
     "text": [
      "                                                                                \r"
     ]
    },
    {
     "name": "stdout",
     "output_type": "stream",
     "text": [
      "gs://ot-team/jroldan/2025-07-15_analysis/propagated/ANTISENSE INHIBITOR_predictor_Phase>=3.parquet\n"
     ]
    },
    {
     "name": "stderr",
     "output_type": "stream",
     "text": [
      "                                                                                \r"
     ]
    },
    {
     "name": "stdout",
     "output_type": "stream",
     "text": [
      "results appended\n",
      "performing Row(comparison='ANTISENSE INHIBITOR', comparisonType='predictor', _1='Phase>=2', _2='clinical')\n"
     ]
    },
    {
     "name": "stderr",
     "output_type": "stream",
     "text": [
      "                                                                                \r"
     ]
    },
    {
     "name": "stdout",
     "output_type": "stream",
     "text": [
      "gs://ot-team/jroldan/2025-07-15_analysis/propagated/ANTISENSE INHIBITOR_predictor_Phase>=2.parquet\n"
     ]
    },
    {
     "name": "stderr",
     "output_type": "stream",
     "text": [
      "                                                                                \r"
     ]
    },
    {
     "name": "stdout",
     "output_type": "stream",
     "text": [
      "results appended\n",
      "performing Row(comparison='ANTISENSE INHIBITOR', comparisonType='predictor', _1='Phase>=1', _2='clinical')\n"
     ]
    },
    {
     "name": "stderr",
     "output_type": "stream",
     "text": [
      "                                                                                \r"
     ]
    },
    {
     "name": "stdout",
     "output_type": "stream",
     "text": [
      "gs://ot-team/jroldan/2025-07-15_analysis/propagated/ANTISENSE INHIBITOR_predictor_Phase>=1.parquet\n"
     ]
    },
    {
     "name": "stderr",
     "output_type": "stream",
     "text": [
      "                                                                                \r"
     ]
    },
    {
     "name": "stdout",
     "output_type": "stream",
     "text": [
      "results appended\n",
      "performing Row(comparison='ANTISENSE INHIBITOR', comparisonType='predictor', _1='PhaseT', _2='clinical')\n"
     ]
    },
    {
     "name": "stderr",
     "output_type": "stream",
     "text": [
      "                                                                                \r"
     ]
    },
    {
     "name": "stdout",
     "output_type": "stream",
     "text": [
      "gs://ot-team/jroldan/2025-07-15_analysis/propagated/ANTISENSE INHIBITOR_predictor_PhaseT.parquet\n"
     ]
    },
    {
     "name": "stderr",
     "output_type": "stream",
     "text": [
      "                                                                                \r"
     ]
    },
    {
     "name": "stdout",
     "output_type": "stream",
     "text": [
      "results appended\n",
      "performing Row(comparison='AGONIST,MODULATOR', comparisonType='predictor', _1='Phase>=4', _2='clinical')\n"
     ]
    },
    {
     "name": "stderr",
     "output_type": "stream",
     "text": [
      "                                                                                \r"
     ]
    },
    {
     "name": "stdout",
     "output_type": "stream",
     "text": [
      "gs://ot-team/jroldan/2025-07-15_analysis/propagated/AGONIST,MODULATOR_predictor_Phase>=4.parquet\n",
      "results appended\n",
      "performing Row(comparison='AGONIST,MODULATOR', comparisonType='predictor', _1='Phase>=3', _2='clinical')\n"
     ]
    },
    {
     "name": "stderr",
     "output_type": "stream",
     "text": [
      "                                                                                \r"
     ]
    },
    {
     "name": "stdout",
     "output_type": "stream",
     "text": [
      "gs://ot-team/jroldan/2025-07-15_analysis/propagated/AGONIST,MODULATOR_predictor_Phase>=3.parquet\n"
     ]
    },
    {
     "name": "stderr",
     "output_type": "stream",
     "text": [
      "                                                                                \r"
     ]
    },
    {
     "name": "stdout",
     "output_type": "stream",
     "text": [
      "results appended\n",
      "performing Row(comparison='AGONIST,MODULATOR', comparisonType='predictor', _1='Phase>=2', _2='clinical')\n"
     ]
    },
    {
     "name": "stderr",
     "output_type": "stream",
     "text": [
      "                                                                                \r"
     ]
    },
    {
     "name": "stdout",
     "output_type": "stream",
     "text": [
      "gs://ot-team/jroldan/2025-07-15_analysis/propagated/AGONIST,MODULATOR_predictor_Phase>=2.parquet\n"
     ]
    },
    {
     "name": "stderr",
     "output_type": "stream",
     "text": [
      "                                                                                \r"
     ]
    },
    {
     "name": "stdout",
     "output_type": "stream",
     "text": [
      "results appended\n",
      "performing Row(comparison='AGONIST,MODULATOR', comparisonType='predictor', _1='Phase>=1', _2='clinical')\n"
     ]
    },
    {
     "name": "stderr",
     "output_type": "stream",
     "text": [
      "                                                                                \r"
     ]
    },
    {
     "name": "stdout",
     "output_type": "stream",
     "text": [
      "gs://ot-team/jroldan/2025-07-15_analysis/propagated/AGONIST,MODULATOR_predictor_Phase>=1.parquet\n",
      "results appended\n",
      "performing Row(comparison='AGONIST,MODULATOR', comparisonType='predictor', _1='PhaseT', _2='clinical')\n"
     ]
    },
    {
     "name": "stderr",
     "output_type": "stream",
     "text": [
      "                                                                                \r"
     ]
    },
    {
     "name": "stdout",
     "output_type": "stream",
     "text": [
      "gs://ot-team/jroldan/2025-07-15_analysis/propagated/AGONIST,MODULATOR_predictor_PhaseT.parquet\n"
     ]
    },
    {
     "name": "stderr",
     "output_type": "stream",
     "text": [
      "                                                                                \r"
     ]
    },
    {
     "name": "stdout",
     "output_type": "stream",
     "text": [
      "results appended\n",
      "performing Row(comparison='VACCINE ANTIGEN', comparisonType='predictor', _1='Phase>=4', _2='clinical')\n"
     ]
    },
    {
     "name": "stderr",
     "output_type": "stream",
     "text": [
      "                                                                                \r"
     ]
    },
    {
     "name": "stdout",
     "output_type": "stream",
     "text": [
      "gs://ot-team/jroldan/2025-07-15_analysis/propagated/VACCINE ANTIGEN_predictor_Phase>=4.parquet\n"
     ]
    },
    {
     "name": "stderr",
     "output_type": "stream",
     "text": [
      "                                                                                \r"
     ]
    },
    {
     "name": "stdout",
     "output_type": "stream",
     "text": [
      "results appended\n",
      "performing Row(comparison='VACCINE ANTIGEN', comparisonType='predictor', _1='Phase>=3', _2='clinical')\n"
     ]
    },
    {
     "name": "stderr",
     "output_type": "stream",
     "text": [
      "                                                                                \r"
     ]
    },
    {
     "name": "stdout",
     "output_type": "stream",
     "text": [
      "gs://ot-team/jroldan/2025-07-15_analysis/propagated/VACCINE ANTIGEN_predictor_Phase>=3.parquet\n"
     ]
    },
    {
     "name": "stderr",
     "output_type": "stream",
     "text": [
      "                                                                                \r"
     ]
    },
    {
     "name": "stdout",
     "output_type": "stream",
     "text": [
      "results appended\n",
      "performing Row(comparison='VACCINE ANTIGEN', comparisonType='predictor', _1='Phase>=2', _2='clinical')\n"
     ]
    },
    {
     "name": "stderr",
     "output_type": "stream",
     "text": [
      "                                                                                \r"
     ]
    },
    {
     "name": "stdout",
     "output_type": "stream",
     "text": [
      "gs://ot-team/jroldan/2025-07-15_analysis/propagated/VACCINE ANTIGEN_predictor_Phase>=2.parquet\n"
     ]
    },
    {
     "name": "stderr",
     "output_type": "stream",
     "text": [
      "                                                                                \r"
     ]
    },
    {
     "name": "stdout",
     "output_type": "stream",
     "text": [
      "results appended\n",
      "performing Row(comparison='VACCINE ANTIGEN', comparisonType='predictor', _1='Phase>=1', _2='clinical')\n"
     ]
    },
    {
     "name": "stderr",
     "output_type": "stream",
     "text": [
      "                                                                                \r"
     ]
    },
    {
     "name": "stdout",
     "output_type": "stream",
     "text": [
      "gs://ot-team/jroldan/2025-07-15_analysis/propagated/VACCINE ANTIGEN_predictor_Phase>=1.parquet\n"
     ]
    },
    {
     "name": "stderr",
     "output_type": "stream",
     "text": [
      "                                                                                \r"
     ]
    },
    {
     "name": "stdout",
     "output_type": "stream",
     "text": [
      "results appended\n",
      "performing Row(comparison='VACCINE ANTIGEN', comparisonType='predictor', _1='PhaseT', _2='clinical')\n"
     ]
    },
    {
     "name": "stderr",
     "output_type": "stream",
     "text": [
      "                                                                                \r"
     ]
    },
    {
     "name": "stdout",
     "output_type": "stream",
     "text": [
      "gs://ot-team/jroldan/2025-07-15_analysis/propagated/VACCINE ANTIGEN_predictor_PhaseT.parquet\n"
     ]
    },
    {
     "name": "stderr",
     "output_type": "stream",
     "text": [
      "                                                                                \r"
     ]
    },
    {
     "name": "stdout",
     "output_type": "stream",
     "text": [
      "results appended\n",
      "performing Row(comparison='NEGATIVE MODULATOR', comparisonType='predictor', _1='Phase>=4', _2='clinical')\n"
     ]
    },
    {
     "name": "stderr",
     "output_type": "stream",
     "text": [
      "                                                                                \r"
     ]
    },
    {
     "name": "stdout",
     "output_type": "stream",
     "text": [
      "gs://ot-team/jroldan/2025-07-15_analysis/propagated/NEGATIVE MODULATOR_predictor_Phase>=4.parquet\n"
     ]
    },
    {
     "name": "stderr",
     "output_type": "stream",
     "text": [
      "                                                                                \r"
     ]
    },
    {
     "name": "stdout",
     "output_type": "stream",
     "text": [
      "results appended\n",
      "performing Row(comparison='NEGATIVE MODULATOR', comparisonType='predictor', _1='Phase>=3', _2='clinical')\n"
     ]
    },
    {
     "name": "stderr",
     "output_type": "stream",
     "text": [
      "                                                                                \r"
     ]
    },
    {
     "name": "stdout",
     "output_type": "stream",
     "text": [
      "gs://ot-team/jroldan/2025-07-15_analysis/propagated/NEGATIVE MODULATOR_predictor_Phase>=3.parquet\n"
     ]
    },
    {
     "name": "stderr",
     "output_type": "stream",
     "text": [
      "                                                                                \r"
     ]
    },
    {
     "name": "stdout",
     "output_type": "stream",
     "text": [
      "results appended\n",
      "performing Row(comparison='NEGATIVE MODULATOR', comparisonType='predictor', _1='Phase>=2', _2='clinical')\n"
     ]
    },
    {
     "name": "stderr",
     "output_type": "stream",
     "text": [
      "                                                                                \r"
     ]
    },
    {
     "name": "stdout",
     "output_type": "stream",
     "text": [
      "gs://ot-team/jroldan/2025-07-15_analysis/propagated/NEGATIVE MODULATOR_predictor_Phase>=2.parquet\n"
     ]
    },
    {
     "name": "stderr",
     "output_type": "stream",
     "text": [
      "                                                                                \r"
     ]
    },
    {
     "name": "stdout",
     "output_type": "stream",
     "text": [
      "results appended\n",
      "performing Row(comparison='NEGATIVE MODULATOR', comparisonType='predictor', _1='Phase>=1', _2='clinical')\n"
     ]
    },
    {
     "name": "stderr",
     "output_type": "stream",
     "text": [
      "                                                                                \r"
     ]
    },
    {
     "name": "stdout",
     "output_type": "stream",
     "text": [
      "gs://ot-team/jroldan/2025-07-15_analysis/propagated/NEGATIVE MODULATOR_predictor_Phase>=1.parquet\n"
     ]
    },
    {
     "name": "stderr",
     "output_type": "stream",
     "text": [
      "                                                                                \r"
     ]
    },
    {
     "name": "stdout",
     "output_type": "stream",
     "text": [
      "results appended\n",
      "performing Row(comparison='NEGATIVE MODULATOR', comparisonType='predictor', _1='PhaseT', _2='clinical')\n"
     ]
    },
    {
     "name": "stderr",
     "output_type": "stream",
     "text": [
      "                                                                                \r"
     ]
    },
    {
     "name": "stdout",
     "output_type": "stream",
     "text": [
      "gs://ot-team/jroldan/2025-07-15_analysis/propagated/NEGATIVE MODULATOR_predictor_PhaseT.parquet\n"
     ]
    },
    {
     "name": "stderr",
     "output_type": "stream",
     "text": [
      "                                                                                \r"
     ]
    },
    {
     "name": "stdout",
     "output_type": "stream",
     "text": [
      "results appended\n",
      "performing Row(comparison='SUBSTRATE', comparisonType='predictor', _1='Phase>=4', _2='clinical')\n"
     ]
    },
    {
     "name": "stderr",
     "output_type": "stream",
     "text": [
      "                                                                                \r"
     ]
    },
    {
     "name": "stdout",
     "output_type": "stream",
     "text": [
      "gs://ot-team/jroldan/2025-07-15_analysis/propagated/SUBSTRATE_predictor_Phase>=4.parquet\n"
     ]
    },
    {
     "name": "stderr",
     "output_type": "stream",
     "text": [
      "                                                                                \r"
     ]
    },
    {
     "name": "stdout",
     "output_type": "stream",
     "text": [
      "results appended\n",
      "performing Row(comparison='SUBSTRATE', comparisonType='predictor', _1='Phase>=3', _2='clinical')\n"
     ]
    },
    {
     "name": "stderr",
     "output_type": "stream",
     "text": [
      "                                                                                \r"
     ]
    },
    {
     "name": "stdout",
     "output_type": "stream",
     "text": [
      "gs://ot-team/jroldan/2025-07-15_analysis/propagated/SUBSTRATE_predictor_Phase>=3.parquet\n"
     ]
    },
    {
     "name": "stderr",
     "output_type": "stream",
     "text": [
      "                                                                                \r"
     ]
    },
    {
     "name": "stdout",
     "output_type": "stream",
     "text": [
      "results appended\n",
      "performing Row(comparison='SUBSTRATE', comparisonType='predictor', _1='Phase>=2', _2='clinical')\n"
     ]
    },
    {
     "name": "stderr",
     "output_type": "stream",
     "text": [
      "                                                                                \r"
     ]
    },
    {
     "name": "stdout",
     "output_type": "stream",
     "text": [
      "gs://ot-team/jroldan/2025-07-15_analysis/propagated/SUBSTRATE_predictor_Phase>=2.parquet\n"
     ]
    },
    {
     "name": "stderr",
     "output_type": "stream",
     "text": [
      "                                                                                \r"
     ]
    },
    {
     "name": "stdout",
     "output_type": "stream",
     "text": [
      "results appended\n",
      "performing Row(comparison='SUBSTRATE', comparisonType='predictor', _1='Phase>=1', _2='clinical')\n"
     ]
    },
    {
     "name": "stderr",
     "output_type": "stream",
     "text": [
      "                                                                                \r"
     ]
    },
    {
     "name": "stdout",
     "output_type": "stream",
     "text": [
      "gs://ot-team/jroldan/2025-07-15_analysis/propagated/SUBSTRATE_predictor_Phase>=1.parquet\n"
     ]
    },
    {
     "name": "stderr",
     "output_type": "stream",
     "text": [
      "                                                                                \r"
     ]
    },
    {
     "name": "stdout",
     "output_type": "stream",
     "text": [
      "results appended\n",
      "performing Row(comparison='SUBSTRATE', comparisonType='predictor', _1='PhaseT', _2='clinical')\n"
     ]
    },
    {
     "name": "stderr",
     "output_type": "stream",
     "text": [
      "                                                                                \r"
     ]
    },
    {
     "name": "stdout",
     "output_type": "stream",
     "text": [
      "gs://ot-team/jroldan/2025-07-15_analysis/propagated/SUBSTRATE_predictor_PhaseT.parquet\n"
     ]
    },
    {
     "name": "stderr",
     "output_type": "stream",
     "text": [
      "                                                                                \r"
     ]
    },
    {
     "name": "stdout",
     "output_type": "stream",
     "text": [
      "results appended\n",
      "performing Row(comparison='DEGRADER', comparisonType='predictor', _1='Phase>=4', _2='clinical')\n"
     ]
    },
    {
     "name": "stderr",
     "output_type": "stream",
     "text": [
      "                                                                                \r"
     ]
    },
    {
     "name": "stdout",
     "output_type": "stream",
     "text": [
      "gs://ot-team/jroldan/2025-07-15_analysis/propagated/DEGRADER_predictor_Phase>=4.parquet\n"
     ]
    },
    {
     "name": "stderr",
     "output_type": "stream",
     "text": [
      "                                                                                \r"
     ]
    },
    {
     "name": "stdout",
     "output_type": "stream",
     "text": [
      "results appended\n",
      "performing Row(comparison='DEGRADER', comparisonType='predictor', _1='Phase>=3', _2='clinical')\n"
     ]
    },
    {
     "name": "stderr",
     "output_type": "stream",
     "text": [
      "                                                                                \r"
     ]
    },
    {
     "name": "stdout",
     "output_type": "stream",
     "text": [
      "gs://ot-team/jroldan/2025-07-15_analysis/propagated/DEGRADER_predictor_Phase>=3.parquet\n"
     ]
    },
    {
     "name": "stderr",
     "output_type": "stream",
     "text": [
      "                                                                                \r"
     ]
    },
    {
     "name": "stdout",
     "output_type": "stream",
     "text": [
      "results appended\n",
      "performing Row(comparison='DEGRADER', comparisonType='predictor', _1='Phase>=2', _2='clinical')\n"
     ]
    },
    {
     "name": "stderr",
     "output_type": "stream",
     "text": [
      "                                                                                \r"
     ]
    },
    {
     "name": "stdout",
     "output_type": "stream",
     "text": [
      "gs://ot-team/jroldan/2025-07-15_analysis/propagated/DEGRADER_predictor_Phase>=2.parquet\n"
     ]
    },
    {
     "name": "stderr",
     "output_type": "stream",
     "text": [
      "                                                                                \r"
     ]
    },
    {
     "name": "stdout",
     "output_type": "stream",
     "text": [
      "results appended\n",
      "performing Row(comparison='DEGRADER', comparisonType='predictor', _1='Phase>=1', _2='clinical')\n"
     ]
    },
    {
     "name": "stderr",
     "output_type": "stream",
     "text": [
      "                                                                                \r"
     ]
    },
    {
     "name": "stdout",
     "output_type": "stream",
     "text": [
      "gs://ot-team/jroldan/2025-07-15_analysis/propagated/DEGRADER_predictor_Phase>=1.parquet\n"
     ]
    },
    {
     "name": "stderr",
     "output_type": "stream",
     "text": [
      "                                                                                \r"
     ]
    },
    {
     "name": "stdout",
     "output_type": "stream",
     "text": [
      "results appended\n",
      "performing Row(comparison='DEGRADER', comparisonType='predictor', _1='PhaseT', _2='clinical')\n"
     ]
    },
    {
     "name": "stderr",
     "output_type": "stream",
     "text": [
      "                                                                                \r"
     ]
    },
    {
     "name": "stdout",
     "output_type": "stream",
     "text": [
      "gs://ot-team/jroldan/2025-07-15_analysis/propagated/DEGRADER_predictor_PhaseT.parquet\n",
      "results appended\n",
      "performing Row(comparison='ANTAGONIST,INHIBITOR', comparisonType='predictor', _1='Phase>=4', _2='clinical')\n"
     ]
    },
    {
     "name": "stderr",
     "output_type": "stream",
     "text": [
      "                                                                                \r"
     ]
    },
    {
     "name": "stdout",
     "output_type": "stream",
     "text": [
      "gs://ot-team/jroldan/2025-07-15_analysis/propagated/ANTAGONIST,INHIBITOR_predictor_Phase>=4.parquet\n"
     ]
    },
    {
     "name": "stderr",
     "output_type": "stream",
     "text": [
      "                                                                                \r"
     ]
    },
    {
     "name": "stdout",
     "output_type": "stream",
     "text": [
      "results appended\n",
      "performing Row(comparison='ANTAGONIST,INHIBITOR', comparisonType='predictor', _1='Phase>=3', _2='clinical')\n"
     ]
    },
    {
     "name": "stderr",
     "output_type": "stream",
     "text": [
      "ERROR:root:KeyboardInterrupt while sending command.\n",
      "Traceback (most recent call last):\n",
      "  File \"/usr/lib/spark/python/lib/py4j-0.10.9.7-src.zip/py4j/java_gateway.py\", line 1038, in send_command\n",
      "    response = connection.send_command(command)\n",
      "               ^^^^^^^^^^^^^^^^^^^^^^^^^^^^^^^^\n",
      "  File \"/usr/lib/spark/python/lib/py4j-0.10.9.7-src.zip/py4j/clientserver.py\", line 511, in send_command\n",
      "    answer = smart_decode(self.stream.readline()[:-1])\n",
      "                          ^^^^^^^^^^^^^^^^^^^^^^\n",
      "  File \"/opt/conda/miniconda3/lib/python3.11/socket.py\", line 706, in readinto\n",
      "    return self._sock.recv_into(b)\n",
      "           ^^^^^^^^^^^^^^^^^^^^^^^\n",
      "KeyboardInterrupt\n"
     ]
    },
    {
     "ename": "KeyboardInterrupt",
     "evalue": "",
     "output_type": "error",
     "traceback": [
      "\u001b[0;31m---------------------------------------------------------------------------\u001b[0m",
      "\u001b[0;31mKeyboardInterrupt\u001b[0m                         Traceback (most recent call last)",
      "Cell \u001b[0;32mIn[69], line 21\u001b[0m\n\u001b[1;32m     19\u001b[0m \u001b[38;5;28;01mfor\u001b[39;00m row \u001b[38;5;129;01min\u001b[39;00m rows:\n\u001b[1;32m     20\u001b[0m     \u001b[38;5;28mprint\u001b[39m(\u001b[38;5;124m'\u001b[39m\u001b[38;5;124mperforming\u001b[39m\u001b[38;5;124m'\u001b[39m, row)\n\u001b[0;32m---> 21\u001b[0m     results \u001b[38;5;241m=\u001b[39m \u001b[43maggregations_original\u001b[49m\u001b[43m(\u001b[49m\n\u001b[1;32m     22\u001b[0m \u001b[43m        \u001b[49m\u001b[43mall_pivoted_dfs\u001b[49m\u001b[43m[\u001b[49m\u001b[43mkey\u001b[49m\u001b[43m]\u001b[49m\u001b[43m,\u001b[49m\u001b[43m \u001b[49m\u001b[38;5;124;43m\"\u001b[39;49m\u001b[38;5;124;43mpropagated\u001b[39;49m\u001b[38;5;124;43m\"\u001b[39;49m\u001b[43m,\u001b[49m\u001b[43m \u001b[49m\u001b[43mlistado\u001b[49m\u001b[43m,\u001b[49m\u001b[43m \u001b[49m\u001b[38;5;241;43m*\u001b[39;49m\u001b[43mrow\u001b[49m\u001b[43m,\u001b[49m\u001b[43m \u001b[49m\u001b[43mtoday_date\u001b[49m\n\u001b[1;32m     23\u001b[0m \u001b[43m    \u001b[49m\u001b[43m)\u001b[49m\n\u001b[1;32m     24\u001b[0m     result_all\u001b[38;5;241m.\u001b[39mappend(results)\n\u001b[1;32m     25\u001b[0m     \u001b[38;5;28mprint\u001b[39m(\u001b[38;5;124m'\u001b[39m\u001b[38;5;124mresults appended\u001b[39m\u001b[38;5;124m'\u001b[39m)\n",
      "Cell \u001b[0;32mIn[1], line 245\u001b[0m, in \u001b[0;36maggregations_original\u001b[0;34m(df, data, listado, comparisonColumn, comparisonType, predictionColumn, predictionType, today_date)\u001b[0m\n\u001b[1;32m    211\u001b[0m \u001b[38;5;66;03m# uniqIds = df.select(\"targetId\", \"diseaseId\").distinct().count()\u001b[39;00m\n\u001b[1;32m    212\u001b[0m out \u001b[38;5;241m=\u001b[39m (\n\u001b[1;32m    213\u001b[0m     df\u001b[38;5;241m.\u001b[39mwithColumn(\u001b[38;5;124m\"\u001b[39m\u001b[38;5;124mcomparisonType\u001b[39m\u001b[38;5;124m\"\u001b[39m, F\u001b[38;5;241m.\u001b[39mlit(comparisonType))\n\u001b[1;32m    214\u001b[0m     \u001b[38;5;241m.\u001b[39mwithColumn(\u001b[38;5;124m\"\u001b[39m\u001b[38;5;124mdataset\u001b[39m\u001b[38;5;124m\"\u001b[39m, F\u001b[38;5;241m.\u001b[39mlit(data))\n\u001b[0;32m   (...)\u001b[0m\n\u001b[1;32m    242\u001b[0m     \u001b[38;5;241m.\u001b[39mdistinct()\n\u001b[1;32m    243\u001b[0m )\n\u001b[0;32m--> 245\u001b[0m \u001b[43mout\u001b[49m\u001b[38;5;241;43m.\u001b[39;49m\u001b[43mwrite\u001b[49m\u001b[38;5;241;43m.\u001b[39;49m\u001b[43mmode\u001b[49m\u001b[43m(\u001b[49m\u001b[38;5;124;43m\"\u001b[39;49m\u001b[38;5;124;43moverwrite\u001b[39;49m\u001b[38;5;124;43m\"\u001b[39;49m\u001b[43m)\u001b[49m\u001b[38;5;241;43m.\u001b[39;49m\u001b[43mparquet\u001b[49m\u001b[43m(\u001b[49m\n\u001b[1;32m    246\u001b[0m \u001b[43m    \u001b[49m\u001b[38;5;124;43m\"\u001b[39;49m\u001b[38;5;124;43mgs://ot-team/jroldan/\u001b[39;49m\u001b[38;5;124;43m\"\u001b[39;49m\n\u001b[1;32m    247\u001b[0m \u001b[43m    \u001b[49m\u001b[38;5;241;43m+\u001b[39;49m\u001b[43m \u001b[49m\u001b[38;5;28;43mstr\u001b[39;49m\u001b[43m(\u001b[49m\n\u001b[1;32m    248\u001b[0m \u001b[43m        \u001b[49m\u001b[43mtoday_date\u001b[49m\n\u001b[1;32m    249\u001b[0m \u001b[43m        \u001b[49m\u001b[38;5;241;43m+\u001b[39;49m\u001b[43m \u001b[49m\u001b[38;5;124;43m\"\u001b[39;49m\u001b[38;5;124;43m_\u001b[39;49m\u001b[38;5;124;43m\"\u001b[39;49m\n\u001b[1;32m    250\u001b[0m \u001b[43m        \u001b[49m\u001b[38;5;241;43m+\u001b[39;49m\u001b[43m \u001b[49m\u001b[38;5;124;43m\"\u001b[39;49m\u001b[38;5;124;43manalysis/\u001b[39;49m\u001b[38;5;124;43m\"\u001b[39;49m\n\u001b[1;32m    251\u001b[0m \u001b[43m        \u001b[49m\u001b[38;5;241;43m+\u001b[39;49m\u001b[43m \u001b[49m\u001b[43mdata\u001b[49m\n\u001b[1;32m    252\u001b[0m \u001b[43m        \u001b[49m\u001b[38;5;66;43;03m# + \"_propagated\"\u001b[39;49;00m\n\u001b[1;32m    253\u001b[0m \u001b[43m        \u001b[49m\u001b[38;5;241;43m+\u001b[39;49m\u001b[43m \u001b[49m\u001b[38;5;124;43m\"\u001b[39;49m\u001b[38;5;124;43m/\u001b[39;49m\u001b[38;5;124;43m\"\u001b[39;49m\n\u001b[1;32m    254\u001b[0m \u001b[43m        \u001b[49m\u001b[38;5;241;43m+\u001b[39;49m\u001b[43m \u001b[49m\u001b[43mcomparisonColumn\u001b[49m\n\u001b[1;32m    255\u001b[0m \u001b[43m        \u001b[49m\u001b[38;5;241;43m+\u001b[39;49m\u001b[43m \u001b[49m\u001b[38;5;124;43m\"\u001b[39;49m\u001b[38;5;124;43m_\u001b[39;49m\u001b[38;5;124;43m\"\u001b[39;49m\n\u001b[1;32m    256\u001b[0m \u001b[43m        \u001b[49m\u001b[38;5;241;43m+\u001b[39;49m\u001b[43m \u001b[49m\u001b[43mcomparisonType\u001b[49m\n\u001b[1;32m    257\u001b[0m \u001b[43m        \u001b[49m\u001b[38;5;241;43m+\u001b[39;49m\u001b[43m \u001b[49m\u001b[38;5;124;43m\"\u001b[39;49m\u001b[38;5;124;43m_\u001b[39;49m\u001b[38;5;124;43m\"\u001b[39;49m\n\u001b[1;32m    258\u001b[0m \u001b[43m        \u001b[49m\u001b[38;5;241;43m+\u001b[39;49m\u001b[43m \u001b[49m\u001b[43mpredictionColumn\u001b[49m\n\u001b[1;32m    259\u001b[0m \u001b[43m        \u001b[49m\u001b[38;5;241;43m+\u001b[39;49m\u001b[43m \u001b[49m\u001b[38;5;124;43m\"\u001b[39;49m\u001b[38;5;124;43m.parquet\u001b[39;49m\u001b[38;5;124;43m\"\u001b[39;49m\n\u001b[1;32m    260\u001b[0m \u001b[43m    \u001b[49m\u001b[43m)\u001b[49m\n\u001b[1;32m    261\u001b[0m \u001b[43m\u001b[49m\u001b[43m)\u001b[49m\n\u001b[1;32m    263\u001b[0m listado\u001b[38;5;241m.\u001b[39mappend(\n\u001b[1;32m    264\u001b[0m     \u001b[38;5;124m\"\u001b[39m\u001b[38;5;124mgs://ot-team/jroldan/\u001b[39m\u001b[38;5;124m\"\u001b[39m\n\u001b[1;32m    265\u001b[0m     \u001b[38;5;241m+\u001b[39m \u001b[38;5;28mstr\u001b[39m(\n\u001b[0;32m   (...)\u001b[0m\n\u001b[1;32m    278\u001b[0m     )\n\u001b[1;32m    279\u001b[0m )\n\u001b[1;32m    280\u001b[0m path \u001b[38;5;241m=\u001b[39m \u001b[38;5;124m\"\u001b[39m\u001b[38;5;124mgs://ot-team/jroldan/\u001b[39m\u001b[38;5;124m\"\u001b[39m \u001b[38;5;241m+\u001b[39m \u001b[38;5;28mstr\u001b[39m(\n\u001b[1;32m    281\u001b[0m     today_date\n\u001b[1;32m    282\u001b[0m     \u001b[38;5;241m+\u001b[39m \u001b[38;5;124m\"\u001b[39m\u001b[38;5;124m_\u001b[39m\u001b[38;5;124m\"\u001b[39m\n\u001b[0;32m   (...)\u001b[0m\n\u001b[1;32m    292\u001b[0m     \u001b[38;5;241m+\u001b[39m \u001b[38;5;124m\"\u001b[39m\u001b[38;5;124m.parquet\u001b[39m\u001b[38;5;124m\"\u001b[39m\n\u001b[1;32m    293\u001b[0m )\n",
      "File \u001b[0;32m/usr/lib/spark/python/pyspark/sql/readwriter.py:1721\u001b[0m, in \u001b[0;36mDataFrameWriter.parquet\u001b[0;34m(self, path, mode, partitionBy, compression)\u001b[0m\n\u001b[1;32m   1719\u001b[0m     \u001b[38;5;28mself\u001b[39m\u001b[38;5;241m.\u001b[39mpartitionBy(partitionBy)\n\u001b[1;32m   1720\u001b[0m \u001b[38;5;28mself\u001b[39m\u001b[38;5;241m.\u001b[39m_set_opts(compression\u001b[38;5;241m=\u001b[39mcompression)\n\u001b[0;32m-> 1721\u001b[0m \u001b[38;5;28;43mself\u001b[39;49m\u001b[38;5;241;43m.\u001b[39;49m\u001b[43m_jwrite\u001b[49m\u001b[38;5;241;43m.\u001b[39;49m\u001b[43mparquet\u001b[49m\u001b[43m(\u001b[49m\u001b[43mpath\u001b[49m\u001b[43m)\u001b[49m\n",
      "File \u001b[0;32m/usr/lib/spark/python/lib/py4j-0.10.9.7-src.zip/py4j/java_gateway.py:1321\u001b[0m, in \u001b[0;36mJavaMember.__call__\u001b[0;34m(self, *args)\u001b[0m\n\u001b[1;32m   1314\u001b[0m args_command, temp_args \u001b[38;5;241m=\u001b[39m \u001b[38;5;28mself\u001b[39m\u001b[38;5;241m.\u001b[39m_build_args(\u001b[38;5;241m*\u001b[39margs)\n\u001b[1;32m   1316\u001b[0m command \u001b[38;5;241m=\u001b[39m proto\u001b[38;5;241m.\u001b[39mCALL_COMMAND_NAME \u001b[38;5;241m+\u001b[39m\\\n\u001b[1;32m   1317\u001b[0m     \u001b[38;5;28mself\u001b[39m\u001b[38;5;241m.\u001b[39mcommand_header \u001b[38;5;241m+\u001b[39m\\\n\u001b[1;32m   1318\u001b[0m     args_command \u001b[38;5;241m+\u001b[39m\\\n\u001b[1;32m   1319\u001b[0m     proto\u001b[38;5;241m.\u001b[39mEND_COMMAND_PART\n\u001b[0;32m-> 1321\u001b[0m answer \u001b[38;5;241m=\u001b[39m \u001b[38;5;28;43mself\u001b[39;49m\u001b[38;5;241;43m.\u001b[39;49m\u001b[43mgateway_client\u001b[49m\u001b[38;5;241;43m.\u001b[39;49m\u001b[43msend_command\u001b[49m\u001b[43m(\u001b[49m\u001b[43mcommand\u001b[49m\u001b[43m)\u001b[49m\n\u001b[1;32m   1322\u001b[0m return_value \u001b[38;5;241m=\u001b[39m get_return_value(\n\u001b[1;32m   1323\u001b[0m     answer, \u001b[38;5;28mself\u001b[39m\u001b[38;5;241m.\u001b[39mgateway_client, \u001b[38;5;28mself\u001b[39m\u001b[38;5;241m.\u001b[39mtarget_id, \u001b[38;5;28mself\u001b[39m\u001b[38;5;241m.\u001b[39mname)\n\u001b[1;32m   1325\u001b[0m \u001b[38;5;28;01mfor\u001b[39;00m temp_arg \u001b[38;5;129;01min\u001b[39;00m temp_args:\n",
      "File \u001b[0;32m/usr/lib/spark/python/lib/py4j-0.10.9.7-src.zip/py4j/java_gateway.py:1038\u001b[0m, in \u001b[0;36mGatewayClient.send_command\u001b[0;34m(self, command, retry, binary)\u001b[0m\n\u001b[1;32m   1036\u001b[0m connection \u001b[38;5;241m=\u001b[39m \u001b[38;5;28mself\u001b[39m\u001b[38;5;241m.\u001b[39m_get_connection()\n\u001b[1;32m   1037\u001b[0m \u001b[38;5;28;01mtry\u001b[39;00m:\n\u001b[0;32m-> 1038\u001b[0m     response \u001b[38;5;241m=\u001b[39m \u001b[43mconnection\u001b[49m\u001b[38;5;241;43m.\u001b[39;49m\u001b[43msend_command\u001b[49m\u001b[43m(\u001b[49m\u001b[43mcommand\u001b[49m\u001b[43m)\u001b[49m\n\u001b[1;32m   1039\u001b[0m     \u001b[38;5;28;01mif\u001b[39;00m binary:\n\u001b[1;32m   1040\u001b[0m         \u001b[38;5;28;01mreturn\u001b[39;00m response, \u001b[38;5;28mself\u001b[39m\u001b[38;5;241m.\u001b[39m_create_connection_guard(connection)\n",
      "File \u001b[0;32m/usr/lib/spark/python/lib/py4j-0.10.9.7-src.zip/py4j/clientserver.py:511\u001b[0m, in \u001b[0;36mClientServerConnection.send_command\u001b[0;34m(self, command)\u001b[0m\n\u001b[1;32m    509\u001b[0m \u001b[38;5;28;01mtry\u001b[39;00m:\n\u001b[1;32m    510\u001b[0m     \u001b[38;5;28;01mwhile\u001b[39;00m \u001b[38;5;28;01mTrue\u001b[39;00m:\n\u001b[0;32m--> 511\u001b[0m         answer \u001b[38;5;241m=\u001b[39m smart_decode(\u001b[38;5;28mself\u001b[39m\u001b[38;5;241m.\u001b[39mstream\u001b[38;5;241m.\u001b[39mreadline()[:\u001b[38;5;241m-\u001b[39m\u001b[38;5;241m1\u001b[39m])\n\u001b[1;32m    512\u001b[0m         logger\u001b[38;5;241m.\u001b[39mdebug(\u001b[38;5;124m\"\u001b[39m\u001b[38;5;124mAnswer received: \u001b[39m\u001b[38;5;132;01m{0}\u001b[39;00m\u001b[38;5;124m\"\u001b[39m\u001b[38;5;241m.\u001b[39mformat(answer))\n\u001b[1;32m    513\u001b[0m         \u001b[38;5;66;03m# Happens when a the other end is dead. There might be an empty\u001b[39;00m\n\u001b[1;32m    514\u001b[0m         \u001b[38;5;66;03m# answer before the socket raises an error.\u001b[39;00m\n",
      "File \u001b[0;32m/opt/conda/miniconda3/lib/python3.11/socket.py:706\u001b[0m, in \u001b[0;36mSocketIO.readinto\u001b[0;34m(self, b)\u001b[0m\n\u001b[1;32m    704\u001b[0m \u001b[38;5;28;01mwhile\u001b[39;00m \u001b[38;5;28;01mTrue\u001b[39;00m:\n\u001b[1;32m    705\u001b[0m     \u001b[38;5;28;01mtry\u001b[39;00m:\n\u001b[0;32m--> 706\u001b[0m         \u001b[38;5;28;01mreturn\u001b[39;00m \u001b[38;5;28;43mself\u001b[39;49m\u001b[38;5;241;43m.\u001b[39;49m\u001b[43m_sock\u001b[49m\u001b[38;5;241;43m.\u001b[39;49m\u001b[43mrecv_into\u001b[49m\u001b[43m(\u001b[49m\u001b[43mb\u001b[49m\u001b[43m)\u001b[49m\n\u001b[1;32m    707\u001b[0m     \u001b[38;5;28;01mexcept\u001b[39;00m timeout:\n\u001b[1;32m    708\u001b[0m         \u001b[38;5;28mself\u001b[39m\u001b[38;5;241m.\u001b[39m_timeout_occurred \u001b[38;5;241m=\u001b[39m \u001b[38;5;28;01mTrue\u001b[39;00m\n",
      "\u001b[0;31mKeyboardInterrupt\u001b[0m: "
     ]
    },
    {
     "name": "stderr",
     "output_type": "stream",
     "text": [
      "                                                                                \r"
     ]
    }
   ],
   "source": [
    "result = []\n",
    "result_st = []\n",
    "result_ci = []\n",
    "array2 = []\n",
    "listado = []\n",
    "result_all = []\n",
    "today_date = str(date.today())\n",
    "for key,df in all_pivoted_dfs.items():\n",
    "\n",
    "    print(f'working with {key}')\n",
    "    parts = key.split('_by_') ### take the part of key belonging to column name\n",
    "    column_name = parts[1] ### take the last part which is column name\n",
    "    all_pivoted_dfs[key].persist()\n",
    "    unique_values = all_pivoted_dfs[key].drop('null').columns[7:]\n",
    "    print('There are ', len(unique_values), 'columns to analyse with phases')\n",
    "    rows = comparisons_df_iterative(unique_values)\n",
    "\n",
    "    # If needed, now process the rest\n",
    "    for row in rows:\n",
    "        print('performing', row)\n",
    "        results = aggregations_original(\n",
    "            all_pivoted_dfs[key], \"propagated\", listado, *row, today_date\n",
    "        )\n",
    "        result_all.append(results)\n",
    "        print('results appended')\n",
    "    all_pivoted_dfs[key].unpersist()\n",
    "    print('df unpersisted')"
   ]
  },
  {
   "cell_type": "code",
   "execution_count": null,
   "metadata": {},
   "outputs": [],
   "source": [
    "def comparisons_df_iterative(elements):\n",
    "    # toAnalysis = [(key, value) for key, value in disdic.items() if value == projectId]\n",
    "    toAnalysis = [(col, \"predictor\") for col in elements]\n",
    "    schema = StructType(\n",
    "        [\n",
    "            StructField(\"comparison\", StringType(), True),\n",
    "            StructField(\"comparisonType\", StringType(), True),\n",
    "        ]\n",
    "    )\n",
    "\n",
    "    comparisons = spark.createDataFrame(toAnalysis, schema=schema)\n",
    "    ### include all the columns as predictor\n",
    "\n",
    "    predictions = spark.createDataFrame(\n",
    "        data=[\n",
    "            (\"Phase>=4\", \"clinical\"),\n",
    "            ('Phase>=3','clinical'),\n",
    "            ('Phase>=2','clinical'),\n",
    "            ('Phase>=1','clinical'),\n",
    "            (\"PhaseT\", \"clinical\"),\n",
    "        ]\n",
    "    )\n",
    "    return comparisons.join(predictions, how=\"full\").collect()\n",
    "\n",
    "\n",
    "print(\"load comparisons_df_iterative function\")"
   ]
  },
  {
   "cell_type": "code",
   "execution_count": null,
   "metadata": {},
   "outputs": [],
   "source": [
    "\n",
    "schema = StructType(\n",
    "    [\n",
    "        StructField(\"group\", StringType(), True),\n",
    "        StructField(\"comparison\", StringType(), True),\n",
    "        StructField(\"phase\", StringType(), True),\n",
    "        StructField(\"oddsRatio\", DoubleType(), True),\n",
    "        StructField(\"pValue\", DoubleType(), True),\n",
    "        StructField(\"lowerInterval\", DoubleType(), True),\n",
    "        StructField(\"upperInterval\", DoubleType(), True),\n",
    "        StructField(\"total\", StringType(), True),\n",
    "        StructField(\"values\", ArrayType(ArrayType(IntegerType())), True),\n",
    "        StructField(\"relSuccess\", DoubleType(), True),\n",
    "        StructField(\"rsLower\", DoubleType(), True),\n",
    "        StructField(\"rsUpper\", DoubleType(), True),\n",
    "        StructField(\"path\", StringType(), True),\n",
    "    ]\n",
    ")\n",
    "import re\n",
    "\n",
    "# Define the list of patterns to search for\n",
    "patterns = [\n",
    "    \"_only\",\n",
    "    #\"_tissue\",\n",
    "    #\"_isSignalFromRightTissue\",\n",
    "    \"_isRightTissueSignalAgreed\",\n",
    "]\n",
    "# Create a regex pattern to match any of the substrings\n",
    "regex_pattern = \"(\" + \"|\".join(map(re.escape, patterns)) + \")\"\n",
    "\n",
    "# Convert list of lists to DataFrame\n",
    "df = (\n",
    "    spreadSheetFormatter(spark.createDataFrame(result_all, schema=schema))\n",
    "    .withColumn(\n",
    "        \"prefix\",\n",
    "        F.regexp_replace(\n",
    "            F.col(\"comparison\"), regex_pattern + \".*\", \"\"\n",
    "        ),  # Extract part before the pattern\n",
    "    )\n",
    "    .withColumn(\n",
    "        \"suffix\",\n",
    "        F.regexp_extract(\n",
    "            F.col(\"comparison\"), regex_pattern, 0\n",
    "        ),  # Extract the pattern itself\n",
    "    )\n",
    ")\n",
    "\n",
    "### annotate projectId, tissue, qtl type and doe type:\n",
    "\n",
    "from pyspark.sql.functions import create_map\n",
    "from itertools import chain\n",
    "\n",
    "mapping_expr=create_map([F.lit(x) for x in chain(*disdic.items())])\n",
    "\n",
    "df_annot=df.withColumn('annotation',mapping_expr.getItem(F.col('prefix')))\n",
    "\n",
    "df_annot.toPandas().to_csv(\n",
    "    f\"gs://ot-team/jroldan/analysis/{today_date}_credibleSetColocDoEanalysis_filteredColocAndCaviarWithOthers4phases.csv\"\n",
    ")\n",
    "\n",
    "print(\"dataframe written \\n Analysis finished\")"
   ]
  },
  {
   "cell_type": "code",
   "execution_count": null,
   "metadata": {},
   "outputs": [],
   "source": []
  },
  {
   "cell_type": "code",
   "execution_count": null,
   "metadata": {},
   "outputs": [],
   "source": [
    "\n",
    "#bench2 = benchmark.join(\n",
    "#    rightTissue, on=[\"name\", \"bioSampleName\"], how=\"left\"\n",
    "#).withColumn(\n",
    "#    \"rightTissue\",\n",
    "#    F.when(F.col(\"rightTissue1\") == \"yes\", F.lit(\"yes\")).otherwise(F.lit(\"no\")),\n",
    "#)\n",
    "\n",
    "print(\"built benchmark dataset\")\n",
    "\n",
    "## write the benchmark \n",
    "#name='benchmark'\n",
    "#output_partitioned_path = f\"gs://ot-team/jroldan/analysis/parquetFiles/{name}\"\n",
    "#benchmark.write.mode(\"overwrite\").parquet(output_partitioned_path)\n",
    "#print(f'written {name}')\n",
    "#### Analysis\n",
    "\n",
    "#### 1 Build a dictionary with the distinct values as key and column names as value\n",
    "variables_study = [\"projectId\", \"biosampleName\", \"rightStudyType\", \"colocDoE\",\"colocalisationMethod\"]\n",
    "\n",
    "# List to hold temporary DataFrames\n",
    "temp_dfs_for_union = []\n",
    "\n",
    "# Iterate over the column names to prepare DataFrames for union\n",
    "for col_name in variables_study:\n",
    "    # Select the current column, alias it to 'distinct_value' for consistent schema\n",
    "    # Filter out nulls, then get distinct values\n",
    "    # Add a literal column with the original 'col_name'\n",
    "    df_temp = (\n",
    "        benchmark.select(F.col(col_name).alias(\"distinct_value\"))\n",
    "        .filter(F.col(\"distinct_value\").isNotNull()) # Exclude None (null) values\n",
    "        .distinct()\n",
    "        .withColumn(\"column_name\", F.lit(col_name))\n",
    "    )\n",
    "    temp_dfs_for_union.append(df_temp)\n",
    "\n",
    "disdic = {}\n",
    "\n",
    "if temp_dfs_for_union:\n",
    "    # Union all the temporary DataFrames.\n",
    "    # unionByName is crucial to handle potential schema differences (e.g., if columns have same name but different types)\n",
    "    # and ensures columns are matched by name.\n",
    "    combined_distinct_values_df = temp_dfs_for_union[0]\n",
    "    for i in range(1, len(temp_dfs_for_union)):\n",
    "        combined_distinct_values_df = combined_distinct_values_df.unionByName(temp_dfs_for_union[i])\n",
    "\n",
    "    # Now, collect the combined distinct values.\n",
    "    # This is a single collect operation on the aggregated DataFrame.\n",
    "    print(\"Collecting combined distinct values from the cluster...\")\n",
    "    collected_rows = combined_distinct_values_df.collect()\n",
    "\n",
    "    # Populate the dictionary from the collected rows\n",
    "    for row in collected_rows:\n",
    "        disdic[row.distinct_value] = row.column_name\n",
    "else:\n",
    "    print(\"variables_study list is empty, disdic will be empty.\")\n",
    "\n",
    "\n",
    "print(\"\\nFinal disdic:\", disdic)\n",
    "\n",
    "# Assuming 'spark' session, 'benchmark' DataFrame, 'negativeTD' DataFrame, and 'disdic' dictionary are defined\n",
    "\n",
    "# --- Step 1: Pre-compute 'hasboth' ONCE ---\n",
    "# This is a shuffle, but only happens once.\n",
    "print(\"Pre-computing 'hasboth' column...\")\n",
    "window_target_disease_only = Window.partitionBy('targetId', 'diseaseId')\n",
    "benchmark_processed = benchmark.withColumn(\n",
    "    'hasboth',\n",
    "    F.size(F.collect_set('colocalisationMethod').over(window_target_disease_only))\n",
    ")\n",
    "\n",
    "# You might consider caching this intermediate result if 'benchmark' is very large\n",
    "# and you have enough memory, to avoid re-reading from source if possible.\n",
    "# benchmark_processed.cache() # or .persist(StorageLevel.MEMORY_AND_DISK)\n",
    "# benchmark_processed.count() # Force computation if you cache\n",
    "\n",
    "pivoted_dfs = {}\n",
    "\n",
    "# --- Step 2: Loop for each variable_study column ---\n",
    "for col_name in variables_study:\n",
    "    print(f\"Processing pivot for: {col_name}\")\n",
    "\n",
    "    # Define window specs for the current iteration, including 'col_name' in partition\n",
    "    # (This shuffle is still per iteration, but unavoidable if 'resolvedAgreeDrug' depends on 'col_name' values)\n",
    "    current_col_window_spec_qtl = Window.partitionBy(\"targetId\", \"diseaseId\", col_name).orderBy(F.col(\"qtlPValueExponent\").asc())\n",
    "    current_col_pvalue_order_window = Window.partitionBy(\"targetId\", \"diseaseId\", col_name).orderBy(F.col('colocalisationMethod').asc(), F.col(\"qtlPValueExponent\").asc())\n",
    "\n",
    "    # Calculate 'resolvedAgreeDrug' for the current 'col_name'\n",
    "    # This involves a shuffle per iteration.\n",
    "    temp_df_with_resolved = benchmark_processed.withColumn('resolvedAgreeDrug',\n",
    "        F.when(F.col('hasboth') > 1,\n",
    "            F.first(F.col('AgreeDrug'), ignorenulls=True).over(current_col_pvalue_order_window)\n",
    "        ).otherwise(F.first(F.col('AgreeDrug'), ignorenulls=True).over(current_col_window_spec_qtl))\n",
    "    )\n",
    "\n",
    "    # --- Step 3: Perform the pivot and join ---\n",
    "    # This is an expensive operation (shuffle, potential wide dataframe)\n",
    "    pivoted_df = (\n",
    "        temp_df_with_resolved\n",
    "        .groupBy(\n",
    "            \"targetId\",\n",
    "            \"diseaseId\",\n",
    "            \"maxClinPhase\",\n",
    "        )\n",
    "        .pivot(col_name) # Pivoting on values of the 'col_name' column\n",
    "        .agg(F.collect_set(\"resolvedAgreeDrug\"))\n",
    "        .join(negativeTD, on=[\"targetId\", \"diseaseId\"], how=\"left\") # Ensure negativeTD is broadcast if small\n",
    "    )\n",
    "\n",
    "    # --- Step 4: Add derived columns (these are generally cheap) ---\n",
    "    for phase in [1, 2, 3, 4]:\n",
    "        pivoted_df = pivoted_df.withColumn(\n",
    "            f\"Phase>={phase}\",\n",
    "            F.when(F.col(\"maxClinPhase\") >= phase, F.lit(\"yes\")).otherwise(F.lit(\"no\")),\n",
    "        )\n",
    "\n",
    "    pivoted_df = pivoted_df.withColumn(\n",
    "        \"PhaseT\",\n",
    "        F.when(F.col(\"stopReason\") == \"Negative\", F.lit(\"yes\")).otherwise(F.lit(\"no\")),\n",
    "    )\n",
    "\n",
    "    # Add _only columns dynamically based on disdic values matching current column\n",
    "    matching_keys = [key for key, val in disdic.items() if val == col_name]\n",
    "\n",
    "    for key in matching_keys:\n",
    "        # F.col(key) assumes 'key' refers to a column that exists in pivoted_df after the pivot.\n",
    "        pivoted_df = pivoted_df.withColumn(\n",
    "            f\"{key}_only\",\n",
    "            F.when(F.array_contains(F.col(key), \"yes\"), F.lit(\"yes\")).otherwise(F.lit(\"no\")),\n",
    "        )\n",
    "\n",
    "### making columns for the \n",
    "\n",
    "    # --- Step 5: Store result. Consider writing to GCS to break lineage if memory is an issue ---\n",
    "    # This is highly recommended if 'variables_study' is very large.\n",
    "    # Write to Parquet for efficient storage and schema preservation.\n",
    "    # output_path = f\"gs://your-bucket/temp_pivoted_results/{col_name}\"\n",
    "    # print(f\"Writing results for {col_name} to {output_path}\")\n",
    "    # pivoted_df.write.mode(\"overwrite\").parquet(output_path)\n",
    "    # pivoted_dfs[col_name] = spark.read.parquet(output_path) # Read back if needed later\n",
    "    # output_partitioned_path = f\"gs://ot-team/jroldan/analysis/parquetFiles/pivoted_df_{col_name}\"\n",
    "    # pivoted_df.write.mode(\"overwrite\").parquet(output_partitioned_path)\n",
    "    # print(f\"DataFrame successfully written and partitioned to {output_partitioned_path}\")\n",
    "    # If not writing to GCS, just store the DF in memory (be cautious for large number of DFs)\n",
    "\n",
    "    pivoted_dfs[col_name] = pivoted_df\n",
    "\n",
    "##### PROJECTID\n",
    "project_keys=[f\"{k}_only\" for k,v in disdic.items() if v == 'projectId']\n",
    "main=['GTEx_only', 'UKB_PPP_EUR_only']\n",
    "others=[item for item in project_keys if item not in main]\n",
    "\n",
    "# First condition: any \"yes\" in list1\n",
    "condition1 = reduce(lambda acc, col: acc | (F.col(col) == \"yes\"), others[1:], F.col(others[0]) == \"yes\")\n",
    "# Add both columns\n",
    "pivoted_dfs['projectId'] = pivoted_dfs['projectId'].withColumn(\"othersProjectId_only\", F.when(condition1, \"yes\").otherwise(\"no\")) \n",
    "\n",
    "##### BIOSAMPLE NAME\n",
    "biosample_keys=[f\"{k}_only\" for k,v in disdic.items() if v == 'biosampleName']\n",
    "main=['tibial nerve_only', 'upper lobe of left lung_only','blood plasma_only','lymphoblastoid cell line_only']\n",
    "others=[item for item in biosample_keys if item not in main]\n",
    "\n",
    "# First condition: any \"yes\" in list1\n",
    "condition1 = reduce(lambda acc, col: acc | (F.col(col) == \"yes\"), others[1:], F.col(others[0]) == \"yes\")\n",
    "# Add both columns\n",
    "pivoted_dfs['biosampleName'] = pivoted_dfs['biosampleName'].withColumn(\"othersBiosampleName_only\", F.when(condition1, \"yes\").otherwise(\"no\")) \n",
    "\n",
    "\n",
    "##### RIGHTSTUDYTYPE \n",
    "rightStudy_keys=[f\"{k}_only\" for k,v in disdic.items() if v == 'rightStudyType']\n",
    "main=['eqtl_only', 'pqtl_only']\n",
    "others=[item for item in rightStudy_keys if item not in main]\n",
    "\n",
    "# First condition: any \"yes\" in list1\n",
    "condition1 = reduce(lambda acc, col: acc | (F.col(col) == \"yes\"), others[1:], F.col(others[0]) == \"yes\")\n",
    "# Add both columns\n",
    "pivoted_dfs['rightStudyType'] = pivoted_dfs['rightStudyType'].withColumn(\"otherRightStudyType_only\", F.when(condition1, \"yes\").otherwise(\"no\")) \n",
    "\n",
    "\n",
    "###append to dictionary\n",
    "\n",
    "disdic.update({'othersProjectId': 'projectId', 'othersBiosampleName_only': 'biosampleName', 'otherRightStudyType':'rightStudyType'})\n",
    "\n",
    "\n",
    "result = []\n",
    "result_st = []\n",
    "result_ci = []\n",
    "array2 = []\n",
    "listado = []\n",
    "result_all = []\n",
    "today_date = str(date.today())\n",
    "\n",
    "##### PROJECT ID ###### \n",
    "print('working with projectId')\n",
    "pivoted_dfs['projectId'].persist()\n",
    "unique_values = benchmark.select('projectId').filter(F.col('projectId').isNotNull()).distinct().rdd.flatMap(lambda x: x).collect()\n",
    "filter = len(pivoted_dfs['projectId'].drop(*unique_values).columns[10:])\n",
    "print('There are ', filter, 'columns to analyse with phases')\n",
    "rows = comparisons_df_iterative(pivoted_dfs['projectId'].columns[-filter:])\n",
    "\n",
    "# If needed, now process the rest\n",
    "for row in rows:\n",
    "    results = aggregations_original(\n",
    "        pivoted_dfs['projectId'], \"propagated\", listado, *row, today_date\n",
    "    )\n",
    "    result_all.append(results)\n",
    "\n",
    "pivoted_dfs['projectId'].unpersist()\n",
    "print('df unpersisted')\n",
    "\n",
    "##### BIOSAMPLE NAME ###### \n",
    "print('working with biosampleName')\n",
    "pivoted_dfs['biosampleName'].persist()\n",
    "unique_values = benchmark.select('biosampleName').filter(F.col('biosampleName').isNotNull()).distinct().rdd.flatMap(lambda x: x).collect()\n",
    "filter = len(pivoted_dfs['biosampleName'].drop(*unique_values).columns[10:])\n",
    "print('There are ', filter, 'columns to analyse with phases')\n",
    "rows = comparisons_df_iterative(pivoted_dfs['biosampleName'].columns[-filter:])\n",
    "\n",
    "for row in rows:\n",
    "    results = aggregations_original(\n",
    "        pivoted_dfs['biosampleName'], \"propagated\", listado, *row, today_date\n",
    "    )\n",
    "    result_all.append(results)\n",
    "\n",
    "pivoted_dfs['biosampleName'].unpersist()\n",
    "print('df unpersisted')\n",
    "\n",
    "##### RIGHTSTUDYTYPE  ###### \n",
    "print('working with rightStudyType')\n",
    "pivoted_dfs['rightStudyType'].persist()\n",
    "unique_values = benchmark.select('rightStudyType').filter(F.col('rightStudyType').isNotNull()).distinct().rdd.flatMap(lambda x: x).collect()\n",
    "filter = len(pivoted_dfs['rightStudyType'].drop(*unique_values).columns[10:])\n",
    "print('There are ', filter, 'columns to analyse with phases')\n",
    "rows = comparisons_df_iterative(pivoted_dfs['rightStudyType'].columns[-filter:])\n",
    "\n",
    "for row in rows:\n",
    "    results = aggregations_original(\n",
    "        pivoted_dfs['rightStudyType'], \"propagated\", listado, *row, today_date\n",
    "    )\n",
    "    result_all.append(results)\n",
    "pivoted_dfs['rightStudyType'].unpersist()\n",
    "print('df unpersisted')\n",
    "\n",
    "##### COLOC DOE ######\n",
    "print('working with colocDoE')\n",
    "pivoted_dfs['colocDoE'].persist()\n",
    "unique_values = benchmark.select('colocDoE').filter(F.col('colocDoE').isNotNull()).distinct().rdd.flatMap(lambda x: x).collect()\n",
    "filter = len(pivoted_dfs['colocDoE'].drop(*unique_values).columns[10:])\n",
    "print('There are ', filter, 'columns to analyse with phases')\n",
    "rows = comparisons_df_iterative(pivoted_dfs['colocDoE'].columns[-filter:])\n",
    "\n",
    "for row in rows:\n",
    "    results = aggregations_original(\n",
    "        pivoted_dfs['colocDoE'], \"propagated\", listado, *row, today_date\n",
    "    )\n",
    "    result_all.append(results)\n",
    "pivoted_dfs['colocDoE'].unpersist()\n",
    "print('df unpersisted')\n",
    "\n",
    "##### COLOCALISATION METHOD ######\n",
    "print('working with colocalisationMethod')\n",
    "pivoted_dfs['colocalisationMethod'].persist()\n",
    "unique_values = benchmark.select('colocalisationMethod').filter(F.col('colocalisationMethod').isNotNull()).distinct().rdd.flatMap(lambda x: x).collect()\n",
    "filter = len(pivoted_dfs['colocalisationMethod'].drop(*unique_values).columns[10:])\n",
    "print('There are ', filter, 'columns to analyse with phases')\n",
    "rows = comparisons_df_iterative(pivoted_dfs['colocalisationMethod'].columns[-filter:])\n",
    "\n",
    "for row in rows:\n",
    "    results = aggregations_original(\n",
    "        pivoted_dfs['colocalisationMethod'], \"propagated\", listado, *row, today_date\n",
    "    )\n",
    "    result_all.append(results)\n",
    "pivoted_dfs['colocalisationMethod'].unpersist()\n",
    "print('df unpersisted')\n",
    "\n",
    "schema = StructType(\n",
    "    [\n",
    "        StructField(\"group\", StringType(), True),\n",
    "        StructField(\"comparison\", StringType(), True),\n",
    "        StructField(\"phase\", StringType(), True),\n",
    "        StructField(\"oddsRatio\", DoubleType(), True),\n",
    "        StructField(\"pValue\", DoubleType(), True),\n",
    "        StructField(\"lowerInterval\", DoubleType(), True),\n",
    "        StructField(\"upperInterval\", DoubleType(), True),\n",
    "        StructField(\"total\", StringType(), True),\n",
    "        StructField(\"values\", ArrayType(ArrayType(IntegerType())), True),\n",
    "        StructField(\"relSuccess\", DoubleType(), True),\n",
    "        StructField(\"rsLower\", DoubleType(), True),\n",
    "        StructField(\"rsUpper\", DoubleType(), True),\n",
    "        StructField(\"path\", StringType(), True),\n",
    "    ]\n",
    ")\n",
    "import re\n",
    "\n",
    "# Define the list of patterns to search for\n",
    "patterns = [\n",
    "    \"_only\",\n",
    "    #\"_tissue\",\n",
    "    #\"_isSignalFromRightTissue\",\n",
    "    \"_isRightTissueSignalAgreed\",\n",
    "]\n",
    "# Create a regex pattern to match any of the substrings\n",
    "regex_pattern = \"(\" + \"|\".join(map(re.escape, patterns)) + \")\"\n",
    "\n",
    "# Convert list of lists to DataFrame\n",
    "df = (\n",
    "    spreadSheetFormatter(spark.createDataFrame(result_all, schema=schema))\n",
    "    .withColumn(\n",
    "        \"prefix\",\n",
    "        F.regexp_replace(\n",
    "            F.col(\"comparison\"), regex_pattern + \".*\", \"\"\n",
    "        ),  # Extract part before the pattern\n",
    "    )\n",
    "    .withColumn(\n",
    "        \"suffix\",\n",
    "        F.regexp_extract(\n",
    "            F.col(\"comparison\"), regex_pattern, 0\n",
    "        ),  # Extract the pattern itself\n",
    "    )\n",
    ")\n",
    "\n",
    "### annotate projectId, tissue, qtl type and doe type:\n",
    "\n",
    "from pyspark.sql.functions import create_map\n",
    "from itertools import chain\n",
    "\n",
    "mapping_expr=create_map([F.lit(x) for x in chain(*disdic.items())])\n",
    "\n",
    "df_annot=df.withColumn('annotation',mapping_expr.getItem(F.col('prefix')))\n",
    "\n",
    "df_annot.toPandas().to_csv(\n",
    "    f\"gs://ot-team/jroldan/analysis/{today_date}_credibleSetColocDoEanalysis_filteredColocAndCaviarWithOthers4phases.csv\"\n",
    ")\n",
    "\n",
    "print(\"dataframe written \\n Analysis finished\")"
   ]
  },
  {
   "cell_type": "code",
   "execution_count": null,
   "metadata": {},
   "outputs": [],
   "source": []
  },
  {
   "cell_type": "code",
   "execution_count": null,
   "metadata": {},
   "outputs": [],
   "source": []
  },
  {
   "cell_type": "code",
   "execution_count": null,
   "metadata": {},
   "outputs": [],
   "source": [
    "import time\n",
    "from array import ArrayType\n",
    "from functions import (\n",
    "    relative_success,\n",
    "    spreadSheetFormatter,\n",
    "    discrepancifier,\n",
    "    temporary_directionOfEffect,\n",
    "    buildColocData,\n",
    "    gwasDataset,\n",
    ")\n",
    "# from stoppedTrials import terminated_td\n",
    "from DoEAssessment import directionOfEffect\n",
    "# from membraneTargets import target_membrane\n",
    "from pyspark.sql import SparkSession, Window\n",
    "import pyspark.sql.functions as F\n",
    "from datetime import datetime\n",
    "from datetime import date\n",
    "from pyspark.sql.types import StructType, StructField, StringType, IntegerType\n",
    "from pyspark.sql.types import (\n",
    "    StructType,\n",
    "    StructField,\n",
    "    DoubleType,\n",
    "    DecimalType,\n",
    "    StringType,\n",
    "    FloatType,\n",
    ")\n",
    "import pandas as pd\n",
    "from functools import reduce\n",
    "\n",
    "spark = SparkSession.builder.getOrCreate()\n",
    "spark.conf.set(\n",
    "    \"spark.sql.shuffle.partitions\", \"400\"\n",
    ")  # Default is 200, increase if needed\n",
    "\n",
    "path_n='gs://open-targets-data-releases/25.06/output/'\n",
    "\n",
    "target = spark.read.parquet(f\"{path_n}target/\")\n",
    "\n",
    "diseases = spark.read.parquet(f\"{path_n}disease/\")\n",
    "\n",
    "evidences = spark.read.parquet(f\"{path_n}evidence\")\n",
    "\n",
    "credible = spark.read.parquet(f\"{path_n}credible_set\")\n",
    "\n",
    "new = spark.read.parquet(f\"{path_n}colocalisation_coloc\") \n",
    "\n",
    "index=spark.read.parquet(f\"{path_n}study/\")\n",
    "\n",
    "variantIndex = spark.read.parquet(f\"{path_n}variant\")\n",
    "\n",
    "biosample = spark.read.parquet(f\"{path_n}biosample\")\n",
    "\n",
    "ecaviar=spark.read.parquet(f\"{path_n}colocalisation_ecaviar\")\n",
    "\n",
    "all_coloc=ecaviar.unionByName(new, allowMissingColumns=True)\n",
    "\n",
    "print(\"loaded files\")\n",
    "\n",
    "#### FIRST MODULE: BUILDING COLOC \n",
    "newColoc=buildColocData(all_coloc,credible,index)\n",
    "\n",
    "print(\"loaded newColoc\")\n",
    "\n",
    "### SECOND MODULE: PROCESS EVIDENCES TO AVOID EXCESS OF COLUMNS \n",
    "gwasComplete = gwasDataset(evidences,credible)\n",
    "\n",
    "#### THIRD MODULE: INCLUDE COLOC IN THE \n",
    "resolvedColoc = (\n",
    "    (\n",
    "        newColoc.withColumnRenamed(\"geneId\", \"targetId\")\n",
    "        .join(\n",
    "            gwasComplete.withColumnRenamed(\"studyLocusId\", \"leftStudyLocusId\"),\n",
    "            on=[\"leftStudyLocusId\", \"targetId\"],\n",
    "            how=\"inner\",\n",
    "        )\n",
    "        .join(  ### propagated using parent terms\n",
    "            diseases.selectExpr(\n",
    "                \"id as diseaseId\", \"name\", \"parents\", \"therapeuticAreas\"\n",
    "            ),\n",
    "            on=\"diseaseId\",\n",
    "            how=\"left\",\n",
    "        )\n",
    "        .withColumn(\n",
    "            \"diseaseId\",\n",
    "            F.explode_outer(F.concat(F.array(F.col(\"diseaseId\")), F.col(\"parents\"))),\n",
    "        )\n",
    "        .drop(\"parents\", \"oldDiseaseId\")\n",
    "    ).withColumn(\n",
    "        \"colocDoE\",\n",
    "        F.when(\n",
    "            F.col(\"rightStudyType\").isin(\n",
    "                [\"eqtl\", \"pqtl\", \"tuqtl\", \"sceqtl\", \"sctuqtl\"]\n",
    "            ),\n",
    "            F.when(\n",
    "                (F.col(\"betaGwas\") > 0) & (F.col(\"betaRatioSignAverage\") > 0),\n",
    "                F.lit(\"GoF_risk\"),\n",
    "            )\n",
    "            .when(\n",
    "                (F.col(\"betaGwas\") > 0) & (F.col(\"betaRatioSignAverage\") < 0),\n",
    "                F.lit(\"LoF_risk\"),\n",
    "            )\n",
    "            .when(\n",
    "                (F.col(\"betaGwas\") < 0) & (F.col(\"betaRatioSignAverage\") > 0),\n",
    "                F.lit(\"LoF_protect\"),\n",
    "            )\n",
    "            .when(\n",
    "                (F.col(\"betaGwas\") < 0) & (F.col(\"betaRatioSignAverage\") < 0),\n",
    "                F.lit(\"GoF_protect\"),\n",
    "            ),\n",
    "        ).when(\n",
    "            F.col(\"rightStudyType\").isin(\n",
    "                [\"sqtl\", \"scsqtl\"]\n",
    "            ),  ### opposite directionality than sqtl\n",
    "            F.when(\n",
    "                (F.col(\"betaGwas\") > 0) & (F.col(\"betaRatioSignAverage\") > 0),\n",
    "                F.lit(\"LoF_risk\"),\n",
    "            )\n",
    "            .when(\n",
    "                (F.col(\"betaGwas\") > 0) & (F.col(\"betaRatioSignAverage\") < 0),\n",
    "                F.lit(\"GoF_risk\"),\n",
    "            )\n",
    "            .when(\n",
    "                (F.col(\"betaGwas\") < 0) & (F.col(\"betaRatioSignAverage\") > 0),\n",
    "                F.lit(\"GoF_protect\"),\n",
    "            )\n",
    "            .when(\n",
    "                (F.col(\"betaGwas\") < 0) & (F.col(\"betaRatioSignAverage\") < 0),\n",
    "                F.lit(\"LoF_protect\"),\n",
    "            ),\n",
    "        ),\n",
    "    )\n",
    "    # .persist()\n",
    ")\n",
    "print(\"loaded resolvedColloc\")\n",
    "\n",
    "datasource_filter = [\n",
    "#   \"ot_genetics_portal\",\n",
    "    \"gwas_credible_sets\",\n",
    "    \"gene_burden\",\n",
    "    \"eva\",\n",
    "    \"eva_somatic\",\n",
    "    \"gene2phenotype\",\n",
    "    \"orphanet\",\n",
    "    \"cancer_gene_census\",\n",
    "    \"intogen\",\n",
    "    \"impc\",\n",
    "    \"chembl\",\n",
    "]\n",
    "\n",
    "assessment, evidences, actionType, oncolabel = temporary_directionOfEffect(\n",
    "    path_n, datasource_filter\n",
    ")\n",
    "\n",
    "print(\"run temporary direction of effect\")\n",
    "\n",
    "\n",
    "print(\"built drugApproved dataset\")\n",
    "\n",
    "\n",
    "#### FOURTH MODULE BUILDING CHEMBL ASSOCIATIONS - HERE TAKE CARE WITH FILTERING STEP \n",
    "analysis_chembl_indication = (\n",
    "    discrepancifier(\n",
    "        assessment.filter((F.col(\"datasourceId\") == \"chembl\"))\n",
    "        .withColumn(\n",
    "            \"maxClinPhase\",\n",
    "            F.max(F.col(\"clinicalPhase\")).over(\n",
    "                Window.partitionBy(\"targetId\", \"diseaseId\")\n",
    "            ),\n",
    "        )\n",
    "        .groupBy(\"targetId\", \"diseaseId\", \"maxClinPhase\")\n",
    "        .pivot(\"homogenized\")\n",
    "        .agg(F.count(\"targetId\"))\n",
    "    )\n",
    "    #.filter(F.col(\"coherencyDiagonal\") == \"coherent\")\n",
    "    .drop(\n",
    "        \"coherencyDiagonal\", \"coherencyOneCell\", \"noEvaluable\", \"GoF_risk\", \"LoF_risk\"\n",
    "    )\n",
    "    .withColumnRenamed(\"GoF_protect\", \"drugGoF_protect\")\n",
    "    .withColumnRenamed(\"LoF_protect\", \"drugLoF_protect\")\n",
    "    # .persist()\n",
    ")\n",
    "\n",
    "####2 Define agregation function\n",
    "import pandas as pd\n",
    "import numpy as np\n",
    "from scipy.stats import fisher_exact\n",
    "from scipy.stats.contingency import odds_ratio\n",
    "from pyspark.sql.types import *\n",
    "\n",
    "\n",
    "def convertTuple(tup):\n",
    "    st = \",\".join(map(str, tup))\n",
    "    return st\n",
    "\n",
    "\n",
    "#####3 run in a function\n",
    "def aggregations_original(\n",
    "    df,\n",
    "    data,\n",
    "    listado,\n",
    "    comparisonColumn,\n",
    "    comparisonType,\n",
    "    predictionColumn,\n",
    "    predictionType,\n",
    "    today_date,\n",
    "):\n",
    "    wComparison = Window.partitionBy(comparisonColumn)\n",
    "    wPrediction = Window.partitionBy(predictionColumn)\n",
    "    wPredictionComparison = Window.partitionBy(comparisonColumn, predictionColumn)\n",
    "    results = []\n",
    "    # uniqIds = df.select(\"targetId\", \"diseaseId\").distinct().count()\n",
    "    out = (\n",
    "        df.withColumn(\"comparisonType\", F.lit(comparisonType))\n",
    "        .withColumn(\"dataset\", F.lit(data))\n",
    "        .withColumn(\"predictionType\", F.lit(predictionType))\n",
    "        # .withColumn(\"total\", F.lit(uniqIds))\n",
    "        .withColumn(\"a\", F.count(\"targetId\").over(wPredictionComparison))\n",
    "        .withColumn(\"comparisonColumn\", F.lit(comparisonColumn))\n",
    "        .withColumn(\"predictionColumnValue\", F.lit(predictionColumn))\n",
    "        .withColumn(\n",
    "            \"predictionTotal\",\n",
    "            F.count(\"targetId\").over(wPrediction),\n",
    "        )\n",
    "        .withColumn(\n",
    "            \"comparisonTotal\",\n",
    "            F.count(\"targetId\").over(wComparison),\n",
    "        )\n",
    "        .select(\n",
    "            F.col(predictionColumn).alias(\"prediction\"),\n",
    "            F.col(comparisonColumn).alias(\"comparison\"),\n",
    "            \"dataset\",\n",
    "            \"comparisonColumn\",\n",
    "            \"predictionColumnValue\",\n",
    "            \"comparisonType\",\n",
    "            \"predictionType\",\n",
    "            \"a\",\n",
    "            \"predictionTotal\",\n",
    "            \"comparisonTotal\",\n",
    "        )\n",
    "        .filter(F.col(\"prediction\").isNotNull())\n",
    "        .filter(F.col(\"comparison\").isNotNull())\n",
    "        .distinct()\n",
    "    )\n",
    "\n",
    "    out.write.mode(\"overwrite\").parquet(\n",
    "        \"gs://ot-team/jroldan/\"\n",
    "        + str(\n",
    "            today_date\n",
    "            + \"_\"\n",
    "            + \"analysis/\"\n",
    "            + data\n",
    "            # + \"_propagated\"\n",
    "            + \"/\"\n",
    "            + comparisonColumn\n",
    "            + \"_\"\n",
    "            + comparisonType\n",
    "            + \"_\"\n",
    "            + predictionColumn\n",
    "            + \".parquet\"\n",
    "        )\n",
    "    )\n",
    "\n",
    "    listado.append(\n",
    "        \"gs://ot-team/jroldan/\"\n",
    "        + str(\n",
    "            today_date\n",
    "            + \"_\"\n",
    "            + \"analysis/\"\n",
    "            + data\n",
    "            # + \"_propagated\"\n",
    "            + \"/\"\n",
    "            + comparisonColumn\n",
    "            + \"_\"\n",
    "            + comparisonType\n",
    "            + \"_\"\n",
    "            + predictionColumn\n",
    "            + \".parquet\"\n",
    "        )\n",
    "    )\n",
    "    path = \"gs://ot-team/jroldan/\" + str(\n",
    "        today_date\n",
    "        + \"_\"\n",
    "        + \"analysis/\"\n",
    "        + data\n",
    "        # + \"_propagated\"\n",
    "        + \"/\"\n",
    "        + comparisonColumn\n",
    "        + \"_\"\n",
    "        + comparisonType\n",
    "        + \"_\"\n",
    "        + predictionColumn\n",
    "        + \".parquet\"\n",
    "    )\n",
    "    print(path)\n",
    "    \n",
    "    ### making analysis\n",
    "    array1 = np.delete(\n",
    "        out.join(full_data, on=[\"prediction\", \"comparison\"], how=\"outer\")\n",
    "        .groupBy(\"comparison\")\n",
    "        .pivot(\"prediction\")\n",
    "        .agg(F.first(\"a\"))\n",
    "        .sort(F.col(\"comparison\").desc())\n",
    "        .select(\"comparison\", \"yes\", \"no\")\n",
    "        .fillna(0)\n",
    "        .toPandas()\n",
    "        .to_numpy(),\n",
    "        [0],\n",
    "        1,\n",
    "    )\n",
    "    total = np.sum(array1)\n",
    "    print(total)\n",
    "    res_npPhaseX = np.array(array1, dtype=int)\n",
    "    resX = convertTuple(fisher_exact(res_npPhaseX, alternative=\"two-sided\"))\n",
    "    resx_CI = convertTuple(\n",
    "        odds_ratio(res_npPhaseX).confidence_interval(confidence_level=0.95)\n",
    "    )\n",
    "\n",
    "    result_st.append(resX)\n",
    "    result_ci.append(resx_CI)\n",
    "    (rs_result, rs_ci) = relative_success(array1)\n",
    "    results.extend(\n",
    "        [\n",
    "            comparisonType,\n",
    "            comparisonColumn,\n",
    "            predictionColumn,\n",
    "            round(float(resX.split(\",\")[0]), 2),\n",
    "            float(resX.split(\",\")[1]),\n",
    "            round(float(resx_CI.split(\",\")[0]), 2),\n",
    "            round(float(resx_CI.split(\",\")[1]), 2),\n",
    "            str(total),\n",
    "            np.array(res_npPhaseX).tolist(),\n",
    "            round(float(rs_result), 2),\n",
    "            round(float(rs_ci[0]), 2),\n",
    "            round(float(rs_ci[1]), 2),\n",
    "            # studies,\n",
    "            # tissues,\n",
    "            path,\n",
    "        ]\n",
    "    )\n",
    "    return results\n",
    "\n",
    "\n",
    "#### 3 Loop over different datasets (as they will have different rows and columns)\n",
    "\n",
    "\n",
    "def comparisons_df_iterative(elements):\n",
    "    # toAnalysis = [(key, value) for key, value in disdic.items() if value == projectId]\n",
    "    toAnalysis = [(col, \"predictor\") for col in elements]\n",
    "    schema = StructType(\n",
    "        [\n",
    "            StructField(\"comparison\", StringType(), True),\n",
    "            StructField(\"comparisonType\", StringType(), True),\n",
    "        ]\n",
    "    )\n",
    "\n",
    "    comparisons = spark.createDataFrame(toAnalysis, schema=schema)\n",
    "    ### include all the columns as predictor\n",
    "\n",
    "    predictions = spark.createDataFrame(\n",
    "        data=[\n",
    "            (\"Phase>=4\", \"clinical\"),\n",
    "            #('Phase>=3','clinical'),\n",
    "            #('Phase>=2','clinical'),\n",
    "            #('Phase>=1','clinical'),\n",
    "            #(\"PhaseT\", \"clinical\"),\n",
    "        ]\n",
    "    )\n",
    "    return comparisons.join(predictions, how=\"full\").collect()\n",
    "\n",
    "\n",
    "print(\"load comparisons_df_iterative function\")\n",
    "\n",
    "\n",
    "full_data = spark.createDataFrame(\n",
    "    data=[\n",
    "        (\"yes\", \"yes\"),\n",
    "        (\"yes\", \"no\"),\n",
    "        (\"no\", \"yes\"),\n",
    "        (\"no\", \"no\"),\n",
    "    ],\n",
    "    schema=StructType(\n",
    "        [\n",
    "            StructField(\"prediction\", StringType(), True),\n",
    "            StructField(\"comparison\", StringType(), True),\n",
    "        ]\n",
    "    ),\n",
    ")\n",
    "print(\"created full_data and lists\")\n",
    "\n",
    "#rightTissue = spark.read.csv(\n",
    "#    'gs://ot-team/jroldan/analysis/20250526_rightTissue.csv',\n",
    "#    header=True,\n",
    "#).drop(\"_c0\")\n",
    "\n",
    "print(\"loaded rightTissue dataset\")\n",
    "\n",
    "negativeTD = (\n",
    "    evidences.filter(F.col(\"datasourceId\") == \"chembl\")\n",
    "    .select(\"targetId\", \"diseaseId\", \"studyStopReason\", \"studyStopReasonCategories\")\n",
    "    .filter(F.array_contains(F.col(\"studyStopReasonCategories\"), \"Negative\"))\n",
    "    .groupBy(\"targetId\", \"diseaseId\")\n",
    "    .count()\n",
    "    .withColumn(\"stopReason\", F.lit(\"Negative\"))\n",
    "    .drop(\"count\")\n",
    ")\n",
    "\n",
    "print(\"built negativeTD dataset\")\n",
    "\n",
    "print(\"built bench2 dataset\")\n",
    "\n",
    "###### cut from here\n",
    "print(\"looping for variables_study\")\n",
    "\n",
    "#### new part with chatgpt -- TEST\n",
    "\n",
    "## QUESTIONS TO ANSWER:\n",
    "# HAVE ECAVIAR >=0.8\n",
    "# HAVE COLOC \n",
    "# HAVE COLOC >= 0.8\n",
    "# HAVE COLOC + ECAVIAR >= 0.01\n",
    "# HAVE COLOC >= 0.8 + ECAVIAR >= 0.01\n",
    "# RIGHT JOING WITH CHEMBL \n",
    "\n",
    "### FIFTH MODULE: BUILDING BENCHMARK OF THE DATASET TO EXTRACT EHE ANALYSIS \n",
    "\n",
    "resolvedColocFiltered = resolvedColoc.filter((F.col('clpp')>=0.01) | (F.col('h4')>=0.8))\n",
    "benchmark = (\n",
    "    (\n",
    "        resolvedColocFiltered.filter( ## .filter(F.col(\"betaGwas\") < 0)\n",
    "        F.col(\"name\") != \"COVID-19\"\n",
    "    )\n",
    "        .join(  ### select just GWAS giving protection\n",
    "            analysis_chembl_indication, on=[\"targetId\", \"diseaseId\"], how=\"right\"  ### RIGHT SIDE\n",
    "        )\n",
    "        .withColumn(\n",
    "            \"AgreeDrug\",\n",
    "            F.when(\n",
    "                (F.col(\"drugGoF_protect\").isNotNull())\n",
    "                & (F.col(\"colocDoE\") == \"GoF_protect\"),\n",
    "                F.lit(\"yes\"),\n",
    "            )\n",
    "            .when(\n",
    "                (F.col(\"drugLoF_protect\").isNotNull())\n",
    "                & (F.col(\"colocDoE\") == \"LoF_protect\"),\n",
    "                F.lit(\"yes\"),\n",
    "            )\n",
    "            .otherwise(F.lit(\"no\")),\n",
    "        )\n",
    "    )  #### remove COVID-19 associations\n",
    ").join(biosample.select(\"biosampleId\", \"biosampleName\"), on=\"biosampleId\", how=\"left\")\n",
    "\n",
    "\n",
    "### drug mechanism of action\n",
    "mecact_path = f\"{path_n}drug_mechanism_of_action/\" #  mechanismOfAction == old version\n",
    "mecact = spark.read.parquet(mecact_path)\n",
    "\n",
    "inhibitors = [\n",
    "    \"RNAI INHIBITOR\",\n",
    "    \"NEGATIVE MODULATOR\",\n",
    "    \"NEGATIVE ALLOSTERIC MODULATOR\",\n",
    "    \"ANTAGONIST\",\n",
    "    \"ANTISENSE INHIBITOR\",\n",
    "    \"BLOCKER\",\n",
    "    \"INHIBITOR\",\n",
    "    \"DEGRADER\",\n",
    "    \"INVERSE AGONIST\",\n",
    "    \"ALLOSTERIC ANTAGONIST\",\n",
    "    \"DISRUPTING AGENT\",\n",
    "]\n",
    "\n",
    "activators = [\n",
    "    \"PARTIAL AGONIST\",\n",
    "    \"ACTIVATOR\",\n",
    "    \"POSITIVE ALLOSTERIC MODULATOR\",\n",
    "    \"POSITIVE MODULATOR\",\n",
    "    \"AGONIST\",\n",
    "    \"SEQUESTERING AGENT\",  ## lost at 31.01.2025\n",
    "    \"STABILISER\",\n",
    "    # \"EXOGENOUS GENE\", ## added 24.06.2025\n",
    "    # \"EXOGENOUS PROTEIN\" ## added 24.06.2025\n",
    "]\n",
    "\n",
    "\n",
    "actionType = (\n",
    "        mecact.select(\n",
    "            F.explode_outer(\"chemblIds\").alias(\"drugId\"),\n",
    "            \"actionType\",\n",
    "            \"mechanismOfAction\",\n",
    "            \"targets\",\n",
    "        )\n",
    "        .select(\n",
    "            F.explode_outer(\"targets\").alias(\"targetId\"),\n",
    "            \"drugId\",\n",
    "            \"actionType\",\n",
    "            \"mechanismOfAction\",\n",
    "        )\n",
    "        .groupBy(\"targetId\", \"drugId\")\n",
    "        .agg(F.collect_set(\"actionType\").alias(\"actionType2\"))\n",
    "    ).withColumn('nMoA', F.size(F.col('actionType2')))\n",
    "\n",
    "analysis_chembl_indication = (\n",
    "    discrepancifier(\n",
    "        assessment.filter((F.col(\"datasourceId\") == \"chembl\")).join(actionType, on=['targetId','drugId'], how='left')\n",
    "        .withColumn(\n",
    "            \"maxClinPhase\",\n",
    "            F.max(F.col(\"clinicalPhase\")).over(\n",
    "                Window.partitionBy(\"targetId\", \"diseaseId\")\n",
    "            ),\n",
    "        )\n",
    "        .groupBy(\"targetId\", \"diseaseId\", \"maxClinPhase\",'actionType2')\n",
    "        .pivot(\"homogenized\")\n",
    "        .agg(F.count(\"targetId\"))\n",
    "    )\n",
    "    #.filter(F.col(\"coherencyDiagonal\") == \"coherent\")\n",
    "    .drop(\n",
    "        \"coherencyDiagonal\", \"coherencyOneCell\", \"noEvaluable\", \"GoF_risk\", \"LoF_risk\"\n",
    "    )\n",
    "    .withColumnRenamed(\"GoF_protect\", \"drugGoF_protect\")\n",
    "    .withColumnRenamed(\"LoF_protect\", \"drugLoF_protect\")\n",
    ")\n",
    "\n",
    "benchmark = (\n",
    "    (\n",
    "        resolvedColocFiltered.filter( ## .filter(F.col(\"betaGwas\") < 0)\n",
    "        F.col(\"name\") != \"COVID-19\"\n",
    "    )\n",
    "        .join(  ### select just GWAS giving protection\n",
    "            analysis_chembl_indication, on=[\"targetId\", \"diseaseId\"], how=\"right\"  ### RIGHT SIDE\n",
    "        )\n",
    "        .withColumn(\n",
    "            \"AgreeDrug\",\n",
    "            F.when(\n",
    "                (F.col(\"drugGoF_protect\").isNotNull())\n",
    "                & (F.col(\"colocDoE\") == \"GoF_protect\"),\n",
    "                F.lit(\"yes\"),\n",
    "            )\n",
    "            .when(\n",
    "                (F.col(\"drugLoF_protect\").isNotNull())\n",
    "                & (F.col(\"colocDoE\") == \"LoF_protect\"),\n",
    "                F.lit(\"yes\"),\n",
    "            )\n",
    "            .otherwise(F.lit(\"no\")),\n",
    "        )\n",
    "    )  #### remove COVID-19 associations\n",
    ").join(biosample.select(\"biosampleId\", \"biosampleName\"), on=\"biosampleId\", how=\"left\")\n",
    "\n",
    "negativeTD = (\n",
    "    evidences.filter(F.col(\"datasourceId\") == \"chembl\")\n",
    "    .select(\"targetId\", \"diseaseId\", \"studyStopReason\", \"studyStopReasonCategories\")\n",
    "    .filter(F.array_contains(F.col(\"studyStopReasonCategories\"), \"Negative\"))\n",
    "    .groupBy(\"targetId\", \"diseaseId\")\n",
    "    .count()\n",
    "    .withColumn(\"stopReason\", F.lit(\"Negative\"))\n",
    "    .drop(\"count\")\n",
    ")\n",
    "\n",
    "# --- Configuration for your iterative pivoting ---\n",
    "group_by_columns = ['targetId', 'diseaseId','phase4Clean','phase3Clean','phase2Clean','phase1Clean','PhaseT']\n",
    "columns_to_pivot_on = ['actionType2', 'biosampleName', 'projectId', 'rightStudyType']\n",
    "columns_to_aggregate = ['NoneCellYes', 'NdiagonalYes','hasGenetics'] # The values you want to collect in the pivoted cells\n",
    "all_pivoted_dfs = {}\n",
    "\n",
    "doe_columns=[\"LoF_protect\", \"GoF_risk\", \"LoF_risk\", \"GoF_protect\"]\n",
    "diagonal_lof=['LoF_protect','GoF_risk']\n",
    "diagonal_gof=['LoF_risk','GoF_protect']\n",
    "\n",
    "conditions = [\n",
    "    F.when(F.col(c) == F.col(\"maxDoE\"), F.lit(c)).otherwise(F.lit(None)) for c in doe_columns\n",
    "    ]\n",
    "\n",
    "# --- Nested Loops for Dynamic Pivoting ---\n",
    "for agg_col_name in columns_to_aggregate:\n",
    "    for pivot_col_name in columns_to_pivot_on:\n",
    "        print(f\"\\n--- Creating DataFrame for Aggregation: '{agg_col_name}' and Pivot: '{pivot_col_name}' ---\")\n",
    "        current_col_pvalue_order_window = Window.partitionBy(\"targetId\", \"diseaseId\", \"maxClinPhase\", pivot_col_name).orderBy(F.col('colocalisationMethod').asc(), F.col(\"qtlPValueExponent\").asc())\n",
    "        test2=discrepancifier(benchmark.withColumn('actionType2', F.concat_ws(\",\", F.col(\"actionType2\"))).withColumn('qtlColocDoE',F.first('colocDoE').over(current_col_pvalue_order_window)).groupBy(\n",
    "        \"targetId\", \"diseaseId\", \"maxClinPhase\", \"drugLoF_protect\", \"drugGoF_protect\",pivot_col_name)\n",
    "        .pivot(\"colocDoE\")\n",
    "        .count()\n",
    "        .withColumnRenamed('drugLoF_protect', 'LoF_protect_ch')\n",
    "        .withColumnRenamed('drugGoF_protect', 'GoF_protect_ch')).withColumn( ## .filter(F.col('coherencyDiagonal')!='noEvid')\n",
    "    \"arrayN\", F.array(*[F.col(c) for c in doe_columns])\n",
    "    ).withColumn(\n",
    "        \"maxDoE\", F.array_max(F.col(\"arrayN\"))\n",
    "    ).withColumn(\"maxDoE_names\", F.array(*conditions)\n",
    "    ).withColumn(\"maxDoE_names\", F.expr(\"filter(maxDoE_names, x -> x is not null)\")\n",
    "    ).withColumn(\n",
    "        \"NoneCellYes\",\n",
    "        F.when((F.col(\"LoF_protect_ch\").isNotNull() & (F.col('GoF_protect_ch').isNull())) & (F.array_contains(F.col(\"maxDoE_names\"), F.lit(\"LoF_protect\")))==True, F.lit('yes'))\n",
    "        .when((F.col(\"GoF_protect_ch\").isNotNull() & (F.col('LoF_protect_ch').isNull())) & (F.array_contains(F.col(\"maxDoE_names\"), F.lit(\"GoF_protect\")))==True, F.lit('yes')\n",
    "            ).otherwise(F.lit('no'))  # If the value is null, return null # Otherwise, check if name is in array\n",
    "    ).withColumn(\n",
    "        \"NdiagonalYes\",\n",
    "        F.when((F.col(\"LoF_protect_ch\").isNotNull() & (F.col('GoF_protect_ch').isNull())) & \n",
    "            (F.size(F.array_intersect(F.col(\"maxDoE_names\"), F.array([F.lit(x) for x in diagonal_lof]))) > 0),\n",
    "            F.lit(\"yes\")\n",
    "        ).when((F.col(\"GoF_protect_ch\").isNotNull() & (F.col('LoF_protect_ch').isNull())) & \n",
    "            (F.size(F.array_intersect(F.col(\"maxDoE_names\"), F.array([F.lit(x) for x in diagonal_gof]))) > 0),\n",
    "            F.lit(\"yes\")\n",
    "        ).otherwise(F.lit('no'))\n",
    "    ).withColumn(\n",
    "        \"drugCoherency\",\n",
    "        F.when(\n",
    "            (F.col(\"LoF_protect_ch\").isNotNull())\n",
    "            & (F.col(\"GoF_protect_ch\").isNull()), F.lit(\"coherent\")\n",
    "        )\n",
    "        .when(\n",
    "            (F.col(\"LoF_protect_ch\").isNull())\n",
    "            & (F.col(\"GoF_protect_ch\").isNotNull()), F.lit(\"coherent\")\n",
    "        )\n",
    "        .when(\n",
    "            (F.col(\"LoF_protect_ch\").isNotNull())\n",
    "            & (F.col(\"GoF_protect_ch\").isNotNull()), F.lit(\"dispar\")\n",
    "        )\n",
    "        .otherwise(F.lit(\"other\")),\n",
    "    ).join(negativeTD, on=[\"targetId\", \"diseaseId\"], how=\"left\").withColumn(\n",
    "        \"PhaseT\",\n",
    "        F.when(F.col(\"stopReason\") == \"Negative\", F.lit(\"yes\")).otherwise(F.lit(\"no\")),\n",
    "    ).withColumn(\n",
    "        \"phase4Clean\",\n",
    "        F.when(\n",
    "            (F.col(\"maxClinPhase\") == 4) & (F.col(\"PhaseT\") == \"no\"), F.lit(\"yes\")\n",
    "        ).otherwise(F.lit(\"no\")),\n",
    "    ).withColumn(\n",
    "        \"phase3Clean\",\n",
    "        F.when(\n",
    "            (F.col(\"maxClinPhase\") >= 3) & (F.col(\"PhaseT\") == \"no\"), F.lit(\"yes\")\n",
    "        ).otherwise(F.lit(\"no\")),\n",
    "    ).withColumn(\n",
    "        \"phase2Clean\",\n",
    "        F.when(\n",
    "            (F.col(\"maxClinPhase\") >= 2) & (F.col(\"PhaseT\") == \"no\"), F.lit(\"yes\")\n",
    "        ).otherwise(F.lit(\"no\")),\n",
    "    ).withColumn(\n",
    "        \"phase1Clean\",\n",
    "        F.when(\n",
    "            (F.col(\"maxClinPhase\") >= 1) & (F.col(\"PhaseT\") == \"no\"), F.lit(\"yes\")\n",
    "        ).otherwise(F.lit(\"no\")),\n",
    "    ).withColumn(\n",
    "        \"hasGenetics\",\n",
    "        F.when(F.col(\"coherencyDiagonal\") != \"noEvid\", F.lit(\"yes\")).otherwise(F.lit(\"no\")),\n",
    "    )\n",
    "        # 1. Get distinct values for the pivot column (essential for pivot())\n",
    "        # This brings a small amount of data to the driver, but is necessary for the pivot schema.\n",
    "        distinct_pivot_values = [row[0] for row in test2.select(pivot_col_name).distinct().collect()]\n",
    "        print(f\"Distinct values for '{pivot_col_name}': {distinct_pivot_values}\")\n",
    "\n",
    "        # 2. Perform the groupBy, pivot, and aggregate operations\n",
    "        # The .pivot() function requires the list of distinct values for better performance\n",
    "        # and correct schema inference.\n",
    "        pivoted_df = (\n",
    "            test2.groupBy(*group_by_columns)\n",
    "            .pivot(pivot_col_name, distinct_pivot_values) # Provide distinct values\n",
    "            .agg(F.collect_set(F.col(agg_col_name))) # Collect all values into a set\n",
    "            .fillna(0) # Fill cells that have no data with an empty list instead of null\n",
    "        )\n",
    "\n",
    "        # 3. Add the 'data' literal column dynamically\n",
    "        # This column indicates which aggregation column was used.\n",
    "        pivoted_df = pivoted_df.withColumn('data', F.lit(f'Drug_{agg_col_name}'))\n",
    "\n",
    "        array_columns_to_convert = [\n",
    "            field.name for field in pivoted_df.schema.fields\n",
    "            if isinstance(field.dataType, ArrayType)\n",
    "        ]\n",
    "        print(f\"Identified ArrayType columns for conversion: {array_columns_to_convert}\")\n",
    "\n",
    "        # 4. Apply the conversion logic to each identified array column\n",
    "        df_after_conversion = pivoted_df # Start with the pivoted_df\n",
    "        for col_to_convert in array_columns_to_convert:\n",
    "            df_after_conversion = df_after_conversion.withColumn(\n",
    "                col_to_convert,\n",
    "                F.when(F.col(col_to_convert).isNull(), F.lit('no'))          # Handle NULLs (from pivot for no data)\n",
    "                .when(F.size(F.col(col_to_convert)) == 0, F.lit('no'))       # Empty array -> 'no'\n",
    "                .when(F.array_contains(F.col(col_to_convert), F.lit('yes')), F.lit('yes')) # Contains 'yes' -> 'yes'\n",
    "                .when(F.array_contains(F.col(col_to_convert), F.lit('no')), F.lit('no'))   # Contains 'no' -> 'no'\n",
    "                .otherwise(F.lit('no')) # Fallback for unexpected array content (e.g., ['other'], ['yes','no'])\n",
    "            )\n",
    "\n",
    "        # 4. Generate a unique name for this DataFrame and store it\n",
    "        df_key = f\"df_pivot_{agg_col_name.lower()}_by_{pivot_col_name.lower()}\"\n",
    "        all_pivoted_dfs[df_key] = df_after_conversion.withColumnRenamed( 'phase4Clean','Phase>=4'\n",
    "        ).withColumnRenamed('phase3Clean','Phase>=3'\n",
    "        ).withColumnRenamed('phase2Clean','Phase>=2'\n",
    "        ).withColumnRenamed('phase1Clean','Phase>=1')\n",
    "\n",
    "\n",
    "# --- Accessing your generated DataFrames ---\n",
    "print(\"\\n--- All generated DataFrames are stored in 'all_pivoted_dfs' dictionary ---\")\n",
    "print(\"Keys available:\", all_pivoted_dfs.keys())\n",
    "\n",
    "\n",
    "result = []\n",
    "result_st = []\n",
    "result_ci = []\n",
    "array2 = []\n",
    "listado = []\n",
    "result_all = []\n",
    "today_date = str(date.today())\n",
    "for key,df in all_pivoted_dfs.items():\n",
    "\n",
    "    print(f'working with {key}')\n",
    "    parts = key.split('_by_') ### take the part of key belonging to column name\n",
    "    column_name = parts[1] ### take the last part which is column name\n",
    "    all_pivoted_dfs[key].persist()\n",
    "    unique_values = all_pivoted_dfs[key].drop('null').columns[7:]\n",
    "    print('There are ', len(unique_values), 'columns to analyse with phases')\n",
    "    rows = comparisons_df_iterative(unique_values)\n",
    "\n",
    "    # If needed, now process the rest\n",
    "    for row in rows:\n",
    "        print('performing', row)\n",
    "        results = aggregations_original(\n",
    "            all_pivoted_dfs[key], \"propagated\", listado, *row, today_date\n",
    "        )\n",
    "        result_all.append(results)\n",
    "        print('results appended')\n",
    "    all_pivoted_dfs[key].unpersist()\n",
    "    print('df unpersisted')\n",
    "\n",
    "\n",
    "schema = StructType(\n",
    "    [\n",
    "        StructField(\"group\", StringType(), True),\n",
    "        StructField(\"comparison\", StringType(), True),\n",
    "        StructField(\"phase\", StringType(), True),\n",
    "        StructField(\"oddsRatio\", DoubleType(), True),\n",
    "        StructField(\"pValue\", DoubleType(), True),\n",
    "        StructField(\"lowerInterval\", DoubleType(), True),\n",
    "        StructField(\"upperInterval\", DoubleType(), True),\n",
    "        StructField(\"total\", StringType(), True),\n",
    "        StructField(\"values\", ArrayType(ArrayType(IntegerType())), True),\n",
    "        StructField(\"relSuccess\", DoubleType(), True),\n",
    "        StructField(\"rsLower\", DoubleType(), True),\n",
    "        StructField(\"rsUpper\", DoubleType(), True),\n",
    "        StructField(\"path\", StringType(), True),\n",
    "    ]\n",
    ")\n",
    "import re\n",
    "\n",
    "# Define the list of patterns to search for\n",
    "patterns = [\n",
    "    \"_only\",\n",
    "    #\"_tissue\",\n",
    "    #\"_isSignalFromRightTissue\",\n",
    "    \"_isRightTissueSignalAgreed\",\n",
    "]\n",
    "# Create a regex pattern to match any of the substrings\n",
    "regex_pattern = \"(\" + \"|\".join(map(re.escape, patterns)) + \")\"\n",
    "\n",
    "# Convert list of lists to DataFrame\n",
    "df = (\n",
    "    spreadSheetFormatter(spark.createDataFrame(result_all, schema=schema))\n",
    "    .withColumn(\n",
    "        \"prefix\",\n",
    "        F.regexp_replace(\n",
    "            F.col(\"comparison\"), regex_pattern + \".*\", \"\"\n",
    "        ),  # Extract part before the pattern\n",
    "    )\n",
    "    .withColumn(\n",
    "        \"suffix\",\n",
    "        F.regexp_extract(\n",
    "            F.col(\"comparison\"), regex_pattern, 0\n",
    "        ),  # Extract the pattern itself\n",
    "    )\n",
    ")\n",
    "\n",
    "### annotate projectId, tissue, qtl type and doe type:\n",
    "\n",
    "from pyspark.sql.functions import create_map\n",
    "from itertools import chain\n",
    "\n",
    "#mapping_expr=create_map([F.lit(x) for x in chain(*disdic.items())])\n",
    "\n",
    "#df_annot=df.withColumn('annotation',mapping_expr.getItem(F.col('prefix')))\n",
    "\n",
    "df_annot.toPandas().to_csv(\n",
    "    f\"gs://ot-team/jroldan/analysis/{today_date}_credibleSetColocDoEanalysis_filteredColocAndCaviarWithOthers4phases.csv\"\n",
    ")\n",
    "\n",
    "print(\"dataframe written \\n Analysis finished\")"
   ]
  },
  {
   "cell_type": "code",
   "execution_count": null,
   "metadata": {},
   "outputs": [],
   "source": []
  },
  {
   "cell_type": "code",
   "execution_count": null,
   "metadata": {},
   "outputs": [],
   "source": [
    "#### I need to incrase performance of dataset"
   ]
  },
  {
   "cell_type": "code",
   "execution_count": 1,
   "metadata": {},
   "outputs": [
    {
     "name": "stdout",
     "output_type": "stream",
     "text": [
      "spark session created at 2025-07-16 07:36:45.161017\n",
      "Analysis started on 2025-07-16 at  2025-07-16 07:36:45.161017\n"
     ]
    },
    {
     "name": "stderr",
     "output_type": "stream",
     "text": [
      "25/07/16 07:36:50 WARN SparkStringUtils: Truncated the string representation of a plan since it was too large. This behavior can be adjusted by setting 'spark.sql.debug.maxToStringFields'.\n",
      "25/07/16 07:36:50 WARN SparkSession: Using an existing Spark session; only runtime SQL configurations will take effect.\n"
     ]
    },
    {
     "name": "stdout",
     "output_type": "stream",
     "text": [
      "SparkSession created successfully with the following configurations:\n",
      "  spark.driver.memory: 4g\n",
      "  spark.executor.memory: 8g\n",
      "  spark.executor.cores: 4\n",
      "  spark.executor.instances: 10\n",
      "  spark.yarn.executor.memoryOverhead: 2g\n",
      "  spark.sql.shuffle.partitions: 150\n",
      "  spark.default.parallelism: 80\n",
      "Spark UI available at: http://jr-temp-doe-m.c.open-targets-eu-dev.internal:42303\n"
     ]
    },
    {
     "name": "stderr",
     "output_type": "stream",
     "text": [
      "                                                                                \r"
     ]
    },
    {
     "name": "stdout",
     "output_type": "stream",
     "text": [
      "loaded files\n",
      "loaded newColoc\n"
     ]
    },
    {
     "name": "stderr",
     "output_type": "stream",
     "text": [
      "                                                                                \r"
     ]
    },
    {
     "name": "stdout",
     "output_type": "stream",
     "text": [
      "loaded gwasComplete\n",
      "loaded resolvedColloc\n",
      "run temporary direction of effect\n",
      "built drugApproved dataset\n"
     ]
    },
    {
     "name": "stderr",
     "output_type": "stream",
     "text": [
      "                                                                                \r"
     ]
    },
    {
     "name": "stdout",
     "output_type": "stream",
     "text": [
      "load comparisons_df_iterative function\n",
      "created full_data and lists\n",
      "loaded rightTissue dataset\n",
      "built negativeTD dataset\n",
      "built bench2 dataset\n",
      "looping for variables_study\n"
     ]
    }
   ],
   "source": [
    "import time\n",
    "from array import ArrayType\n",
    "from functions import (\n",
    "    relative_success,\n",
    "    spreadSheetFormatter,\n",
    "    discrepancifier,\n",
    "    temporary_directionOfEffect,\n",
    "    buildColocData,\n",
    "    gwasDataset,\n",
    ")\n",
    "# from stoppedTrials import terminated_td\n",
    "from DoEAssessment import directionOfEffect\n",
    "# from membraneTargets import target_membrane\n",
    "from pyspark.sql import SparkSession, Window\n",
    "import pyspark.sql.functions as F\n",
    "from datetime import datetime\n",
    "from datetime import date\n",
    "from pyspark.sql.types import StructType, StructField, StringType, IntegerType\n",
    "from pyspark.sql.types import (\n",
    "    StructType,\n",
    "    StructField,\n",
    "    DoubleType,\n",
    "    DecimalType,\n",
    "    StringType,\n",
    "    FloatType,\n",
    ")\n",
    "import pandas as pd\n",
    "from functools import reduce\n",
    "\n",
    "# --- YARN and Spark Configuration Parameters ---\n",
    "# These parameters directly influence how Spark requests resources from YARN\n",
    "# and how memory is managed within your Spark application.\n",
    "\n",
    "# 1. spark.driver.memory: Memory allocated to the Spark driver program.\n",
    "#    The driver is responsible for coordinating tasks, scheduling, and collecting\n",
    "#    results. If you're doing operations like 'collect()' on large datasets,\n",
    "#    or working with large broadcast variables, increase this.\n",
    "#    General Guideline: Start with 2g-4g for interactive use, up to 8g-16g\n",
    "#    for very large metadata or small result collection.\n",
    "driver_memory = \"4g\"\n",
    "\n",
    "# 2. spark.executor.memory: Memory allocated to each Spark executor JVM.\n",
    "#    Executors are the worker processes that perform the actual data processing.\n",
    "#    This is *the most critical* setting for memory-related YARN issues.\n",
    "#    If your tasks are failing due to OOM errors, increase this significantly.\n",
    "#    General Guideline: Depends on your node size and data. Common values are\n",
    "#    4g, 8g, 16g, or even more. Ensure it doesn't exceed YARN's max container size.\n",
    "executor_memory = \"8g\"\n",
    "\n",
    "# 3. spark.executor.cores: Number of virtual cores (CPU) allocated to each executor.\n",
    "#    More cores means an executor can run more tasks concurrently.\n",
    "#    General Guideline: Typically 2-5 cores per executor. Avoid 1 core (poor parallelism)\n",
    "#    and too many cores (can lead to fewer executors and memory contention).\n",
    "executor_cores = \"4\"\n",
    "\n",
    "# 4. spark.executor.instances: The total number of executors to launch.\n",
    "#    This determines the overall parallelism of your application across the cluster.\n",
    "#    General Guideline: Calculate based on your total cluster resources.\n",
    "#    (Total available cores on cluster / executor_cores).\n",
    "#    Start with a reasonable number, e.g., 5-20, and scale up.\n",
    "num_executors = \"10\" # Example: 10 executors\n",
    "\n",
    "# 5. spark.yarn.executor.memoryOverhead: Additional memory for the YARN container\n",
    "#    beyond the JVM heap (spark.executor.memory). This includes off-heap memory,\n",
    "#    PySpark's Python process memory, thread stacks, etc.\n",
    "#    Crucial for PySpark! If this is too low, YARN can kill your containers\n",
    "#    even if your Java heap (executor_memory) is fine.\n",
    "#    General Guideline: 10-20% of spark.executor.memory, or a fixed amount like 1g-2g.\n",
    "#    For PySpark, it's often safer to allocate more.\n",
    "executor_memory_overhead = \"2g\" # For an 8g executor, 2g overhead is reasonable (25%)\n",
    "\n",
    "# 6. spark.sql.shuffle.partitions: The number of partitions used for shuffling data\n",
    "#    during operations like `groupBy`, `join`, `agg`, `sort`.\n",
    "#    If this is too low: You can get OOM errors if partitions are too large,\n",
    "#    or task failures due to data skew.\n",
    "#    If this is too high: Creates many small tasks, leading to overhead.\n",
    "#    General Guideline: A common heuristic is 2-4 times the total number of CPU cores\n",
    "#    available in your application (executor_cores * num_executors).\n",
    "#    For your current setup (4 cores * 10 executors = 40 cores), 400 is very high.\n",
    "#    Consider (num_executors * executor_cores * 2) as a starting point.\n",
    "#    Example: 10 executors * 4 cores/executor = 40 total cores. 40 * 2 = 80 partitions.\n",
    "#    However, if you have *very* large datasets or significant data skew, 400 might be okay,\n",
    "#    but it's usually better to start lower and increase if you see skew/large partition processing.\n",
    "shuffle_partitions = \"150\" # Adjust based on data size and parallelism\n",
    "\n",
    "# 7. spark.default.parallelism: This parameter is important for RDD operations (less so for DataFrames,\n",
    "#    where spark.sql.shuffle.partitions is more relevant for shuffles). It suggests the default\n",
    "#    number of partitions for RDDs created from scratch, and also influences the number of tasks.\n",
    "#    It's often set to match or be a multiple of the total number of cores.\n",
    "default_parallelism = str(int(executor_cores) * int(num_executors) * 2) # A common heuristic\n",
    "\n",
    "# --- Build the SparkSession ---\n",
    "# Use the .config() method to set these parameters before calling .getOrCreate()\n",
    "# This ensures Spark requests the correct resources from YARN at the start.\n",
    "\n",
    "spark = SparkSession.builder \\\n",
    "    .appName(\"MyOptimizedPySparkApp\") \\\n",
    "    .config(\"spark.master\", \"yarn\") \\\n",
    "    .config(\"spark.driver.memory\", driver_memory) \\\n",
    "    .config(\"spark.executor.memory\", executor_memory) \\\n",
    "    .config(\"spark.executor.cores\", executor_cores) \\\n",
    "    .config(\"spark.executor.instances\", num_executors) \\\n",
    "    .config(\"spark.yarn.executor.memoryOverhead\", executor_memory_overhead) \\\n",
    "    .config(\"spark.sql.shuffle.partitions\", shuffle_partitions) \\\n",
    "    .config(\"spark.default.parallelism\", default_parallelism) \\\n",
    "    .getOrCreate()\n",
    "\n",
    "print(f\"SparkSession created successfully with the following configurations:\")\n",
    "print(f\"  spark.driver.memory: {spark.conf.get('spark.driver.memory')}\")\n",
    "print(f\"  spark.executor.memory: {spark.conf.get('spark.executor.memory')}\")\n",
    "print(f\"  spark.executor.cores: {spark.conf.get('spark.executor.cores')}\")\n",
    "print(f\"  spark.executor.instances: {spark.conf.get('spark.executor.instances')}\")\n",
    "print(f\"  spark.yarn.executor.memoryOverhead: {spark.conf.get('spark.yarn.executor.memoryOverhead')}\")\n",
    "print(f\"  spark.sql.shuffle.partitions: {spark.conf.get('spark.sql.shuffle.partitions')}\")\n",
    "print(f\"  spark.default.parallelism: {spark.conf.get('spark.default.parallelism')}\")\n",
    "print(f\"Spark UI available at: {spark.sparkContext.uiWebUrl}\")\n",
    "\n",
    "# --- Your PySpark Code Here ---\n",
    "# Now you can proceed with your data loading and processing.\n",
    "# Example:\n",
    "# df = spark.read.parquet(\"hdfs:///user/your_user/your_large_data.parquet\")\n",
    "# print(f\"Number of rows in DataFrame: {df.count()}\")\n",
    "# df.groupBy(\"some_column\").agg({\"another_column\": \"sum\"}).show()\n",
    "\n",
    "# Remember to stop the SparkSession when you are done\n",
    "# spark.stop()\n",
    "\n",
    "path_n='gs://open-targets-data-releases/25.06/output/'\n",
    "\n",
    "target = spark.read.parquet(f\"{path_n}target/\")\n",
    "\n",
    "diseases = spark.read.parquet(f\"{path_n}disease/\")\n",
    "\n",
    "evidences = spark.read.parquet(f\"{path_n}evidence\")\n",
    "\n",
    "credible = spark.read.parquet(f\"{path_n}credible_set\")\n",
    "\n",
    "new = spark.read.parquet(f\"{path_n}colocalisation_coloc\") \n",
    "\n",
    "index=spark.read.parquet(f\"{path_n}study/\")\n",
    "\n",
    "variantIndex = spark.read.parquet(f\"{path_n}variant\")\n",
    "\n",
    "biosample = spark.read.parquet(f\"{path_n}biosample\")\n",
    "\n",
    "ecaviar=spark.read.parquet(f\"{path_n}colocalisation_ecaviar\")\n",
    "\n",
    "all_coloc=ecaviar.unionByName(new, allowMissingColumns=True)\n",
    "\n",
    "print(\"loaded files\")\n",
    "\n",
    "#### FIRST MODULE: BUILDING COLOC \n",
    "newColoc=buildColocData(all_coloc,credible,index)\n",
    "\n",
    "print(\"loaded newColoc\")\n",
    "\n",
    "### SECOND MODULE: PROCESS EVIDENCES TO AVOID EXCESS OF COLUMNS \n",
    "gwasComplete = gwasDataset(evidences,credible)\n",
    "\n",
    "#### THIRD MODULE: INCLUDE COLOC IN THE \n",
    "resolvedColoc = (\n",
    "    (\n",
    "        newColoc.withColumnRenamed(\"geneId\", \"targetId\")\n",
    "        .join(\n",
    "            gwasComplete.withColumnRenamed(\"studyLocusId\", \"leftStudyLocusId\"),\n",
    "            on=[\"leftStudyLocusId\", \"targetId\"],\n",
    "            how=\"inner\",\n",
    "        )\n",
    "        .join(  ### propagated using parent terms\n",
    "            diseases.selectExpr(\n",
    "                \"id as diseaseId\", \"name\", \"parents\", \"therapeuticAreas\"\n",
    "            ),\n",
    "            on=\"diseaseId\",\n",
    "            how=\"left\",\n",
    "        )\n",
    "        .withColumn(\n",
    "            \"diseaseId\",\n",
    "            F.explode_outer(F.concat(F.array(F.col(\"diseaseId\")), F.col(\"parents\"))),\n",
    "        )\n",
    "        .drop(\"parents\", \"oldDiseaseId\")\n",
    "    ).withColumn(\n",
    "        \"colocDoE\",\n",
    "        F.when(\n",
    "            F.col(\"rightStudyType\").isin(\n",
    "                [\"eqtl\", \"pqtl\", \"tuqtl\", \"sceqtl\", \"sctuqtl\"]\n",
    "            ),\n",
    "            F.when(\n",
    "                (F.col(\"betaGwas\") > 0) & (F.col(\"betaRatioSignAverage\") > 0),\n",
    "                F.lit(\"GoF_risk\"),\n",
    "            )\n",
    "            .when(\n",
    "                (F.col(\"betaGwas\") > 0) & (F.col(\"betaRatioSignAverage\") < 0),\n",
    "                F.lit(\"LoF_risk\"),\n",
    "            )\n",
    "            .when(\n",
    "                (F.col(\"betaGwas\") < 0) & (F.col(\"betaRatioSignAverage\") > 0),\n",
    "                F.lit(\"LoF_protect\"),\n",
    "            )\n",
    "            .when(\n",
    "                (F.col(\"betaGwas\") < 0) & (F.col(\"betaRatioSignAverage\") < 0),\n",
    "                F.lit(\"GoF_protect\"),\n",
    "            ),\n",
    "        ).when(\n",
    "            F.col(\"rightStudyType\").isin(\n",
    "                [\"sqtl\", \"scsqtl\"]\n",
    "            ),  ### opposite directionality than sqtl\n",
    "            F.when(\n",
    "                (F.col(\"betaGwas\") > 0) & (F.col(\"betaRatioSignAverage\") > 0),\n",
    "                F.lit(\"LoF_risk\"),\n",
    "            )\n",
    "            .when(\n",
    "                (F.col(\"betaGwas\") > 0) & (F.col(\"betaRatioSignAverage\") < 0),\n",
    "                F.lit(\"GoF_risk\"),\n",
    "            )\n",
    "            .when(\n",
    "                (F.col(\"betaGwas\") < 0) & (F.col(\"betaRatioSignAverage\") > 0),\n",
    "                F.lit(\"GoF_protect\"),\n",
    "            )\n",
    "            .when(\n",
    "                (F.col(\"betaGwas\") < 0) & (F.col(\"betaRatioSignAverage\") < 0),\n",
    "                F.lit(\"LoF_protect\"),\n",
    "            ),\n",
    "        ),\n",
    "    )\n",
    "    # .persist()\n",
    ")\n",
    "print(\"loaded resolvedColloc\")\n",
    "\n",
    "datasource_filter = [\n",
    "#   \"ot_genetics_portal\",\n",
    "    \"gwas_credible_sets\",\n",
    "    \"gene_burden\",\n",
    "    \"eva\",\n",
    "    \"eva_somatic\",\n",
    "    \"gene2phenotype\",\n",
    "    \"orphanet\",\n",
    "    \"cancer_gene_census\",\n",
    "    \"intogen\",\n",
    "    \"impc\",\n",
    "    \"chembl\",\n",
    "]\n",
    "\n",
    "assessment, evidences, actionType, oncolabel = temporary_directionOfEffect(\n",
    "    path_n, datasource_filter\n",
    ")\n",
    "\n",
    "print(\"run temporary direction of effect\")\n",
    "\n",
    "\n",
    "print(\"built drugApproved dataset\")\n",
    "\n",
    "\n",
    "#### FOURTH MODULE BUILDING CHEMBL ASSOCIATIONS - HERE TAKE CARE WITH FILTERING STEP \n",
    "analysis_chembl_indication = (\n",
    "    discrepancifier(\n",
    "        assessment.filter((F.col(\"datasourceId\") == \"chembl\"))\n",
    "        .withColumn(\n",
    "            \"maxClinPhase\",\n",
    "            F.max(F.col(\"clinicalPhase\")).over(\n",
    "                Window.partitionBy(\"targetId\", \"diseaseId\")\n",
    "            ),\n",
    "        )\n",
    "        .groupBy(\"targetId\", \"diseaseId\", \"maxClinPhase\")\n",
    "        .pivot(\"homogenized\")\n",
    "        .agg(F.count(\"targetId\"))\n",
    "    )\n",
    "    #.filter(F.col(\"coherencyDiagonal\") == \"coherent\")\n",
    "    .drop(\n",
    "        \"coherencyDiagonal\", \"coherencyOneCell\", \"noEvaluable\", \"GoF_risk\", \"LoF_risk\"\n",
    "    )\n",
    "    .withColumnRenamed(\"GoF_protect\", \"drugGoF_protect\")\n",
    "    .withColumnRenamed(\"LoF_protect\", \"drugLoF_protect\")\n",
    "    # .persist()\n",
    ")\n",
    "\n",
    "####2 Define agregation function\n",
    "import pandas as pd\n",
    "import numpy as np\n",
    "from scipy.stats import fisher_exact\n",
    "from scipy.stats.contingency import odds_ratio\n",
    "from pyspark.sql.types import *\n",
    "\n",
    "\n",
    "def convertTuple(tup):\n",
    "    st = \",\".join(map(str, tup))\n",
    "    return st\n",
    "\n",
    "\n",
    "#####3 run in a function\n",
    "def aggregations_original(\n",
    "    df,\n",
    "    data,\n",
    "    listado,\n",
    "    comparisonColumn,\n",
    "    comparisonType,\n",
    "    predictionColumn,\n",
    "    predictionType,\n",
    "    today_date,\n",
    "):\n",
    "    wComparison = Window.partitionBy(comparisonColumn)\n",
    "    wPrediction = Window.partitionBy(predictionColumn)\n",
    "    wPredictionComparison = Window.partitionBy(comparisonColumn, predictionColumn)\n",
    "    results = []\n",
    "    # uniqIds = df.select(\"targetId\", \"diseaseId\").distinct().count()\n",
    "    out = (\n",
    "        df.withColumn(\"comparisonType\", F.lit(comparisonType))\n",
    "        .withColumn(\"dataset\", F.lit(data))\n",
    "        .withColumn(\"predictionType\", F.lit(predictionType))\n",
    "        # .withColumn(\"total\", F.lit(uniqIds))\n",
    "        .withColumn(\"a\", F.count(\"targetId\").over(wPredictionComparison))\n",
    "        .withColumn(\"comparisonColumn\", F.lit(comparisonColumn))\n",
    "        .withColumn(\"predictionColumnValue\", F.lit(predictionColumn))\n",
    "        .withColumn(\n",
    "            \"predictionTotal\",\n",
    "            F.count(\"targetId\").over(wPrediction),\n",
    "        )\n",
    "        .withColumn(\n",
    "            \"comparisonTotal\",\n",
    "            F.count(\"targetId\").over(wComparison),\n",
    "        )\n",
    "        .select(\n",
    "            F.col(predictionColumn).alias(\"prediction\"),\n",
    "            F.col(comparisonColumn).alias(\"comparison\"),\n",
    "            \"dataset\",\n",
    "            \"comparisonColumn\",\n",
    "            \"predictionColumnValue\",\n",
    "            \"comparisonType\",\n",
    "            \"predictionType\",\n",
    "            \"a\",\n",
    "            \"predictionTotal\",\n",
    "            \"comparisonTotal\",\n",
    "        )\n",
    "        .filter(F.col(\"prediction\").isNotNull())\n",
    "        .filter(F.col(\"comparison\").isNotNull())\n",
    "        .distinct()\n",
    "    )\n",
    "\n",
    "    out.write.mode(\"overwrite\").parquet(\n",
    "        \"gs://ot-team/jroldan/\"\n",
    "        + str(\n",
    "            today_date\n",
    "            + \"_\"\n",
    "            + \"analysis/\"\n",
    "            + data\n",
    "            # + \"_propagated\"\n",
    "            + \"/\"\n",
    "            + comparisonColumn\n",
    "            + \"_\"\n",
    "            + comparisonType\n",
    "            + \"_\"\n",
    "            + predictionColumn\n",
    "            + \".parquet\"\n",
    "        )\n",
    "    )\n",
    "\n",
    "    listado.append(\n",
    "        \"gs://ot-team/jroldan/\"\n",
    "        + str(\n",
    "            today_date\n",
    "            + \"_\"\n",
    "            + \"analysis/\"\n",
    "            + data\n",
    "            # + \"_propagated\"\n",
    "            + \"/\"\n",
    "            + comparisonColumn\n",
    "            + \"_\"\n",
    "            + comparisonType\n",
    "            + \"_\"\n",
    "            + predictionColumn\n",
    "            + \".parquet\"\n",
    "        )\n",
    "    )\n",
    "    path = \"gs://ot-team/jroldan/\" + str(\n",
    "        today_date\n",
    "        + \"_\"\n",
    "        + \"analysis/\"\n",
    "        + data\n",
    "        # + \"_propagated\"\n",
    "        + \"/\"\n",
    "        + comparisonColumn\n",
    "        + \"_\"\n",
    "        + comparisonType\n",
    "        + \"_\"\n",
    "        + predictionColumn\n",
    "        + \".parquet\"\n",
    "    )\n",
    "    print(path)\n",
    "    \n",
    "    ### making analysis\n",
    "    array1 = np.delete(\n",
    "        out.join(full_data, on=[\"prediction\", \"comparison\"], how=\"outer\")\n",
    "        .groupBy(\"comparison\")\n",
    "        .pivot(\"prediction\")\n",
    "        .agg(F.first(\"a\"))\n",
    "        .sort(F.col(\"comparison\").desc())\n",
    "        .select(\"comparison\", \"yes\", \"no\")\n",
    "        .fillna(0)\n",
    "        .toPandas()\n",
    "        .to_numpy(),\n",
    "        [0],\n",
    "        1,\n",
    "    )\n",
    "    total = np.sum(array1)\n",
    "    res_npPhaseX = np.array(array1, dtype=int)\n",
    "    resX = convertTuple(fisher_exact(res_npPhaseX, alternative=\"two-sided\"))\n",
    "    resx_CI = convertTuple(\n",
    "        odds_ratio(res_npPhaseX).confidence_interval(confidence_level=0.95)\n",
    "    )\n",
    "\n",
    "    result_st.append(resX)\n",
    "    result_ci.append(resx_CI)\n",
    "    (rs_result, rs_ci) = relative_success(array1)\n",
    "    results.extend(\n",
    "        [\n",
    "            comparisonType,\n",
    "            comparisonColumn,\n",
    "            predictionColumn,\n",
    "            round(float(resX.split(\",\")[0]), 2),\n",
    "            float(resX.split(\",\")[1]),\n",
    "            round(float(resx_CI.split(\",\")[0]), 2),\n",
    "            round(float(resx_CI.split(\",\")[1]), 2),\n",
    "            str(total),\n",
    "            np.array(res_npPhaseX).tolist(),\n",
    "            round(float(rs_result), 2),\n",
    "            round(float(rs_ci[0]), 2),\n",
    "            round(float(rs_ci[1]), 2),\n",
    "            # studies,\n",
    "            # tissues,\n",
    "            path,\n",
    "        ]\n",
    "    )\n",
    "    return results\n",
    "\n",
    "\n",
    "#### 3 Loop over different datasets (as they will have different rows and columns)\n",
    "\n",
    "\n",
    "def comparisons_df_iterative(elements):\n",
    "    #toAnalysis = [(key, value) for key, value in disdic.items() if value == projectId]\n",
    "    toAnalysis = [(col, \"predictor\") for col in elements]\n",
    "    schema = StructType(\n",
    "        [\n",
    "            StructField(\"comparison\", StringType(), True),\n",
    "            StructField(\"comparisonType\", StringType(), True),\n",
    "        ]\n",
    "    )\n",
    "\n",
    "    comparisons = spark.createDataFrame(toAnalysis, schema=schema)\n",
    "    ### include all the columns as predictor\n",
    "\n",
    "    predictions = spark.createDataFrame(\n",
    "        data=[\n",
    "            (\"Phase>=4\", \"clinical\"),\n",
    "            #('Phase>=3','clinical'),\n",
    "            #('Phase>=2','clinical'),\n",
    "            #('Phase>=1','clinical'),\n",
    "            #(\"PhaseT\", \"clinical\"),\n",
    "        ]\n",
    "    )\n",
    "    return comparisons.join(predictions, how=\"full\").collect()\n",
    "\n",
    "\n",
    "print(\"load comparisons_df_iterative function\")\n",
    "\n",
    "\n",
    "full_data = spark.createDataFrame(\n",
    "    data=[\n",
    "        (\"yes\", \"yes\"),\n",
    "        (\"yes\", \"no\"),\n",
    "        (\"no\", \"yes\"),\n",
    "        (\"no\", \"no\"),\n",
    "    ],\n",
    "    schema=StructType(\n",
    "        [\n",
    "            StructField(\"prediction\", StringType(), True),\n",
    "            StructField(\"comparison\", StringType(), True),\n",
    "        ]\n",
    "    ),\n",
    ")\n",
    "print(\"created full_data and lists\")\n",
    "\n",
    "#rightTissue = spark.read.csv(\n",
    "#    'gs://ot-team/jroldan/analysis/20250526_rightTissue.csv',\n",
    "#    header=True,\n",
    "#).drop(\"_c0\")\n",
    "\n",
    "print(\"loaded rightTissue dataset\")\n",
    "\n",
    "negativeTD = (\n",
    "    evidences.filter(F.col(\"datasourceId\") == \"chembl\")\n",
    "    .select(\"targetId\", \"diseaseId\", \"studyStopReason\", \"studyStopReasonCategories\")\n",
    "    .filter(F.array_contains(F.col(\"studyStopReasonCategories\"), \"Negative\"))\n",
    "    .groupBy(\"targetId\", \"diseaseId\")\n",
    "    .count()\n",
    "    .withColumn(\"stopReason\", F.lit(\"Negative\"))\n",
    "    .drop(\"count\")\n",
    ")\n",
    "\n",
    "print(\"built negativeTD dataset\")\n",
    "\n",
    "print(\"built bench2 dataset\")\n",
    "\n",
    "###### cut from here\n",
    "print(\"looping for variables_study\")\n",
    "\n",
    "#### new part with chatgpt -- TEST\n",
    "\n",
    "## QUESTIONS TO ANSWER:\n",
    "# HAVE ECAVIAR >=0.8\n",
    "# HAVE COLOC \n",
    "# HAVE COLOC >= 0.8\n",
    "# HAVE COLOC + ECAVIAR >= 0.01\n",
    "# HAVE COLOC >= 0.8 + ECAVIAR >= 0.01\n",
    "# RIGHT JOING WITH CHEMBL \n",
    "\n",
    "### FIFTH MODULE: BUILDING BENCHMARK OF THE DATASET TO EXTRACT EHE ANALYSIS \n",
    "\n",
    "resolvedColocFiltered = resolvedColoc.filter((F.col('clpp')>=0.01) | (F.col('h4')>=0.8))\n",
    "benchmark = (\n",
    "    (\n",
    "        resolvedColocFiltered.filter( ## .filter(F.col(\"betaGwas\") < 0)\n",
    "        F.col(\"name\") != \"COVID-19\"\n",
    "    )\n",
    "        .join(  ### select just GWAS giving protection\n",
    "            analysis_chembl_indication, on=[\"targetId\", \"diseaseId\"], how=\"right\"  ### RIGHT SIDE\n",
    "        )\n",
    "        .withColumn(\n",
    "            \"AgreeDrug\",\n",
    "            F.when(\n",
    "                (F.col(\"drugGoF_protect\").isNotNull())\n",
    "                & (F.col(\"colocDoE\") == \"GoF_protect\"),\n",
    "                F.lit(\"yes\"),\n",
    "            )\n",
    "            .when(\n",
    "                (F.col(\"drugLoF_protect\").isNotNull())\n",
    "                & (F.col(\"colocDoE\") == \"LoF_protect\"),\n",
    "                F.lit(\"yes\"),\n",
    "            )\n",
    "            .otherwise(F.lit(\"no\")),\n",
    "        )\n",
    "    )  #### remove COVID-19 associations\n",
    ").join(biosample.select(\"biosampleId\", \"biosampleName\"), on=\"biosampleId\", how=\"left\")\n",
    "\n",
    "\n",
    "### drug mechanism of action\n",
    "mecact_path = f\"{path_n}drug_mechanism_of_action/\" #  mechanismOfAction == old version\n",
    "mecact = spark.read.parquet(mecact_path)\n",
    "\n",
    "inhibitors = [\n",
    "    \"RNAI INHIBITOR\",\n",
    "    \"NEGATIVE MODULATOR\",\n",
    "    \"NEGATIVE ALLOSTERIC MODULATOR\",\n",
    "    \"ANTAGONIST\",\n",
    "    \"ANTISENSE INHIBITOR\",\n",
    "    \"BLOCKER\",\n",
    "    \"INHIBITOR\",\n",
    "    \"DEGRADER\",\n",
    "    \"INVERSE AGONIST\",\n",
    "    \"ALLOSTERIC ANTAGONIST\",\n",
    "    \"DISRUPTING AGENT\",\n",
    "]\n",
    "\n",
    "activators = [\n",
    "    \"PARTIAL AGONIST\",\n",
    "    \"ACTIVATOR\",\n",
    "    \"POSITIVE ALLOSTERIC MODULATOR\",\n",
    "    \"POSITIVE MODULATOR\",\n",
    "    \"AGONIST\",\n",
    "    \"SEQUESTERING AGENT\",  ## lost at 31.01.2025\n",
    "    \"STABILISER\",\n",
    "    # \"EXOGENOUS GENE\", ## added 24.06.2025\n",
    "    # \"EXOGENOUS PROTEIN\" ## added 24.06.2025\n",
    "]\n",
    "\n",
    "\n",
    "actionType = (\n",
    "        mecact.select(\n",
    "            F.explode_outer(\"chemblIds\").alias(\"drugId\"),\n",
    "            \"actionType\",\n",
    "            \"mechanismOfAction\",\n",
    "            \"targets\",\n",
    "        )\n",
    "        .select(\n",
    "            F.explode_outer(\"targets\").alias(\"targetId\"),\n",
    "            \"drugId\",\n",
    "            \"actionType\",\n",
    "            \"mechanismOfAction\",\n",
    "        )\n",
    "        .groupBy(\"targetId\", \"drugId\")\n",
    "        .agg(F.collect_set(\"actionType\").alias(\"actionType2\"))\n",
    "    ).withColumn('nMoA', F.size(F.col('actionType2')))\n",
    "\n",
    "analysis_chembl_indication = (\n",
    "    discrepancifier(\n",
    "        assessment.filter((F.col(\"datasourceId\") == \"chembl\")).join(actionType, on=['targetId','drugId'], how='left')\n",
    "        .withColumn(\n",
    "            \"maxClinPhase\",\n",
    "            F.max(F.col(\"clinicalPhase\")).over(\n",
    "                Window.partitionBy(\"targetId\", \"diseaseId\")\n",
    "            ),\n",
    "        )\n",
    "        .groupBy(\"targetId\", \"diseaseId\", \"maxClinPhase\",'actionType2')\n",
    "        .pivot(\"homogenized\")\n",
    "        .agg(F.count(\"targetId\"))\n",
    "    )\n",
    "    #.filter(F.col(\"coherencyDiagonal\") == \"coherent\")\n",
    "    .drop(\n",
    "        \"coherencyDiagonal\", \"coherencyOneCell\", \"noEvaluable\", \"GoF_risk\", \"LoF_risk\"\n",
    "    )\n",
    "    .withColumnRenamed(\"GoF_protect\", \"drugGoF_protect\")\n",
    "    .withColumnRenamed(\"LoF_protect\", \"drugLoF_protect\")\n",
    ")\n",
    "\n",
    "benchmark = (\n",
    "    (\n",
    "        resolvedColocFiltered.filter( ## .filter(F.col(\"betaGwas\") < 0)\n",
    "        F.col(\"name\") != \"COVID-19\"\n",
    "    )\n",
    "        .join(  ### select just GWAS giving protection\n",
    "            analysis_chembl_indication, on=[\"targetId\", \"diseaseId\"], how=\"right\"  ### RIGHT SIDE\n",
    "        )\n",
    "        .withColumn(\n",
    "            \"AgreeDrug\",\n",
    "            F.when(\n",
    "                (F.col(\"drugGoF_protect\").isNotNull())\n",
    "                & (F.col(\"colocDoE\") == \"GoF_protect\"),\n",
    "                F.lit(\"yes\"),\n",
    "            )\n",
    "            .when(\n",
    "                (F.col(\"drugLoF_protect\").isNotNull())\n",
    "                & (F.col(\"colocDoE\") == \"LoF_protect\"),\n",
    "                F.lit(\"yes\"),\n",
    "            )\n",
    "            .otherwise(F.lit(\"no\")),\n",
    "        )\n",
    "    )  #### remove COVID-19 associations\n",
    ").join(biosample.select(\"biosampleId\", \"biosampleName\"), on=\"biosampleId\", how=\"left\")\n",
    "\n",
    "negativeTD = (\n",
    "    evidences.filter(F.col(\"datasourceId\") == \"chembl\")\n",
    "    .select(\"targetId\", \"diseaseId\", \"studyStopReason\", \"studyStopReasonCategories\")\n",
    "    .filter(F.array_contains(F.col(\"studyStopReasonCategories\"), \"Negative\"))\n",
    "    .groupBy(\"targetId\", \"diseaseId\")\n",
    "    .count()\n",
    "    .withColumn(\"stopReason\", F.lit(\"Negative\"))\n",
    "    .drop(\"count\")\n",
    ")\n"
   ]
  },
  {
   "cell_type": "code",
   "execution_count": 4,
   "metadata": {},
   "outputs": [],
   "source": [
    "current_col_pvalue_order_window=['actionType2', 'biosampleName', 'projectId', 'rightStudyType','colocalisationMethod']"
   ]
  },
  {
   "cell_type": "code",
   "execution_count": 5,
   "metadata": {},
   "outputs": [
    {
     "ename": "PySparkTypeError",
     "evalue": "[NOT_WINDOWSPEC] Argument `window` should be a WindowSpec, got list.",
     "output_type": "error",
     "traceback": [
      "\u001b[0;31m---------------------------------------------------------------------------\u001b[0m",
      "\u001b[0;31mPySparkTypeError\u001b[0m                          Traceback (most recent call last)",
      "Cell \u001b[0;32mIn[5], line 1\u001b[0m\n\u001b[0;32m----> 1\u001b[0m benchmark\u001b[38;5;241m.\u001b[39mwithColumn(\u001b[38;5;124m'\u001b[39m\u001b[38;5;124mqtlColocDoE\u001b[39m\u001b[38;5;124m'\u001b[39m,\u001b[43mF\u001b[49m\u001b[38;5;241;43m.\u001b[39;49m\u001b[43mfirst\u001b[49m\u001b[43m(\u001b[49m\u001b[38;5;124;43m'\u001b[39;49m\u001b[38;5;124;43mcolocDoE\u001b[39;49m\u001b[38;5;124;43m'\u001b[39;49m\u001b[43m)\u001b[49m\u001b[38;5;241;43m.\u001b[39;49m\u001b[43mover\u001b[49m\u001b[43m(\u001b[49m\u001b[43mcurrent_col_pvalue_order_window\u001b[49m\u001b[43m)\u001b[49m)\u001b[38;5;241m.\u001b[39mgroupBy(\n\u001b[1;32m      2\u001b[0m     \u001b[38;5;124m\"\u001b[39m\u001b[38;5;124mtargetId\u001b[39m\u001b[38;5;124m\"\u001b[39m,\n\u001b[1;32m      3\u001b[0m     \u001b[38;5;124m\"\u001b[39m\u001b[38;5;124mdiseaseId\u001b[39m\u001b[38;5;124m\"\u001b[39m,\n\u001b[1;32m      4\u001b[0m     \u001b[38;5;124m\"\u001b[39m\u001b[38;5;124mmaxClinPhase\u001b[39m\u001b[38;5;124m\"\u001b[39m,\n\u001b[1;32m      5\u001b[0m     \u001b[38;5;124m\"\u001b[39m\u001b[38;5;124mdrugLoF_protect\u001b[39m\u001b[38;5;124m\"\u001b[39m,\n\u001b[1;32m      6\u001b[0m     \u001b[38;5;124m\"\u001b[39m\u001b[38;5;124mdrugGoF_protect\u001b[39m\u001b[38;5;124m\"\u001b[39m,\n\u001b[1;32m      7\u001b[0m     \u001b[38;5;124m\"\u001b[39m\u001b[38;5;124mactionType2\u001b[39m\u001b[38;5;124m\"\u001b[39m,\n\u001b[1;32m      8\u001b[0m     \u001b[38;5;124m\"\u001b[39m\u001b[38;5;124mbiosampleName\u001b[39m\u001b[38;5;124m\"\u001b[39m,\n\u001b[1;32m      9\u001b[0m     \u001b[38;5;124m\"\u001b[39m\u001b[38;5;124mprojectId\u001b[39m\u001b[38;5;124m\"\u001b[39m,\n\u001b[1;32m     10\u001b[0m     \u001b[38;5;124m\"\u001b[39m\u001b[38;5;124mrightStudyType\u001b[39m\u001b[38;5;124m\"\u001b[39m,\n\u001b[1;32m     11\u001b[0m     \u001b[38;5;124m\"\u001b[39m\u001b[38;5;124mcolocalisationMethod\u001b[39m\u001b[38;5;124m\"\u001b[39m,\n\u001b[1;32m     12\u001b[0m )\u001b[38;5;241m.\u001b[39mcount()\u001b[38;5;241m.\u001b[39mshow()\n",
      "File \u001b[0;32m/usr/lib/spark/python/pyspark/sql/column.py:1392\u001b[0m, in \u001b[0;36mColumn.over\u001b[0;34m(self, window)\u001b[0m\n\u001b[1;32m   1389\u001b[0m \u001b[38;5;28;01mfrom\u001b[39;00m\u001b[38;5;250m \u001b[39m\u001b[38;5;21;01mpyspark\u001b[39;00m\u001b[38;5;21;01m.\u001b[39;00m\u001b[38;5;21;01msql\u001b[39;00m\u001b[38;5;21;01m.\u001b[39;00m\u001b[38;5;21;01mwindow\u001b[39;00m\u001b[38;5;250m \u001b[39m\u001b[38;5;28;01mimport\u001b[39;00m WindowSpec\n\u001b[1;32m   1391\u001b[0m \u001b[38;5;28;01mif\u001b[39;00m \u001b[38;5;129;01mnot\u001b[39;00m \u001b[38;5;28misinstance\u001b[39m(window, WindowSpec):\n\u001b[0;32m-> 1392\u001b[0m     \u001b[38;5;28;01mraise\u001b[39;00m PySparkTypeError(\n\u001b[1;32m   1393\u001b[0m         error_class\u001b[38;5;241m=\u001b[39m\u001b[38;5;124m\"\u001b[39m\u001b[38;5;124mNOT_WINDOWSPEC\u001b[39m\u001b[38;5;124m\"\u001b[39m,\n\u001b[1;32m   1394\u001b[0m         message_parameters\u001b[38;5;241m=\u001b[39m{\u001b[38;5;124m\"\u001b[39m\u001b[38;5;124marg_name\u001b[39m\u001b[38;5;124m\"\u001b[39m: \u001b[38;5;124m\"\u001b[39m\u001b[38;5;124mwindow\u001b[39m\u001b[38;5;124m\"\u001b[39m, \u001b[38;5;124m\"\u001b[39m\u001b[38;5;124marg_type\u001b[39m\u001b[38;5;124m\"\u001b[39m: \u001b[38;5;28mtype\u001b[39m(window)\u001b[38;5;241m.\u001b[39m\u001b[38;5;18m__name__\u001b[39m},\n\u001b[1;32m   1395\u001b[0m     )\n\u001b[1;32m   1396\u001b[0m jc \u001b[38;5;241m=\u001b[39m \u001b[38;5;28mself\u001b[39m\u001b[38;5;241m.\u001b[39m_jc\u001b[38;5;241m.\u001b[39mover(window\u001b[38;5;241m.\u001b[39m_jspec)\n\u001b[1;32m   1397\u001b[0m \u001b[38;5;28;01mreturn\u001b[39;00m Column(jc)\n",
      "\u001b[0;31mPySparkTypeError\u001b[0m: [NOT_WINDOWSPEC] Argument `window` should be a WindowSpec, got list."
     ]
    }
   ],
   "source": [
    "benchmark.withColumn('qtlColocDoE',F.first('colocDoE').over(current_col_pvalue_order_window)).groupBy(\n",
    "    \"targetId\",\n",
    "    \"diseaseId\",\n",
    "    \"maxClinPhase\",\n",
    "    \"drugLoF_protect\",\n",
    "    \"drugGoF_protect\",\n",
    "    \"actionType2\",\n",
    "    \"biosampleName\",\n",
    "    \"projectId\",\n",
    "    \"rightStudyType\",\n",
    "    \"colocalisationMethod\",\n",
    ").count().show()"
   ]
  },
  {
   "cell_type": "code",
   "execution_count": null,
   "metadata": {},
   "outputs": [],
   "source": [
    "### create disdic dictionary\n",
    "disdic={}\n",
    "\n",
    "# --- Configuration for your iterative pivoting ---\n",
    "group_by_columns = ['targetId', 'diseaseId','phase4Clean','phase3Clean','phase2Clean','phase1Clean','PhaseT']\n",
    "columns_to_pivot_on = ['actionType2', 'biosampleName', 'projectId', 'rightStudyType','colocalisationMethod']\n",
    "columns_to_aggregate = ['NoneCellYes', 'NdiagonalYes','hasGenetics'] # The values you want to collect in the pivoted cells\n",
    "all_pivoted_dfs = {}\n",
    "\n",
    "doe_columns=[\"LoF_protect\", \"GoF_risk\", \"LoF_risk\", \"GoF_protect\"]\n",
    "diagonal_lof=['LoF_protect','GoF_risk']\n",
    "diagonal_gof=['LoF_risk','GoF_protect']\n",
    "\n",
    "conditions = [\n",
    "    F.when(F.col(c) == F.col(\"maxDoE\"), F.lit(c)).otherwise(F.lit(None)) for c in doe_columns\n",
    "    ]\n",
    "\n",
    "# --- Nested Loops for Dynamic Pivoting ---\n",
    "for agg_col_name in columns_to_aggregate:\n",
    "    for pivot_col_name in columns_to_pivot_on:\n",
    "        print(f\"\\n--- Creating DataFrame for Aggregation: '{agg_col_name}' and Pivot: '{pivot_col_name}' ---\")\n",
    "        current_col_pvalue_order_window = Window.partitionBy(\"targetId\", \"diseaseId\", \"maxClinPhase\", pivot_col_name).orderBy(F.col('colocalisationMethod').asc(), F.col(\"qtlPValueExponent\").asc())\n",
    "        test2=discrepancifier(benchmark.withColumn('actionType2', F.concat_ws(\",\", F.col(\"actionType2\"))).withColumn('qtlColocDoE',F.first('colocDoE').over(current_col_pvalue_order_window)).groupBy(\n",
    "        \"targetId\", \"diseaseId\", \"maxClinPhase\", \"drugLoF_protect\", \"drugGoF_protect\",pivot_col_name)\n",
    "        .pivot(\"colocDoE\")\n",
    "        .count()\n",
    "        .withColumnRenamed('drugLoF_protect', 'LoF_protect_ch')\n",
    "        .withColumnRenamed('drugGoF_protect', 'GoF_protect_ch')).withColumn( ## .filter(F.col('coherencyDiagonal')!='noEvid')\n",
    "    \"arrayN\", F.array(*[F.col(c) for c in doe_columns])\n",
    "    ).withColumn(\n",
    "        \"maxDoE\", F.array_max(F.col(\"arrayN\"))\n",
    "    ).withColumn(\"maxDoE_names\", F.array(*conditions)\n",
    "    ).withColumn(\"maxDoE_names\", F.expr(\"filter(maxDoE_names, x -> x is not null)\")\n",
    "    ).withColumn(\n",
    "        \"NoneCellYes\",\n",
    "        F.when((F.col(\"LoF_protect_ch\").isNotNull() & (F.col('GoF_protect_ch').isNull())) & (F.array_contains(F.col(\"maxDoE_names\"), F.lit(\"LoF_protect\")))==True, F.lit('yes'))\n",
    "        .when((F.col(\"GoF_protect_ch\").isNotNull() & (F.col('LoF_protect_ch').isNull())) & (F.array_contains(F.col(\"maxDoE_names\"), F.lit(\"GoF_protect\")))==True, F.lit('yes')\n",
    "            ).otherwise(F.lit('no'))  # If the value is null, return null # Otherwise, check if name is in array\n",
    "    ).withColumn(\n",
    "        \"NdiagonalYes\",\n",
    "        F.when((F.col(\"LoF_protect_ch\").isNotNull() & (F.col('GoF_protect_ch').isNull())) & \n",
    "            (F.size(F.array_intersect(F.col(\"maxDoE_names\"), F.array([F.lit(x) for x in diagonal_lof]))) > 0),\n",
    "            F.lit(\"yes\")\n",
    "        ).when((F.col(\"GoF_protect_ch\").isNotNull() & (F.col('LoF_protect_ch').isNull())) & \n",
    "            (F.size(F.array_intersect(F.col(\"maxDoE_names\"), F.array([F.lit(x) for x in diagonal_gof]))) > 0),\n",
    "            F.lit(\"yes\")\n",
    "        ).otherwise(F.lit('no'))\n",
    "    ).withColumn(\n",
    "        \"drugCoherency\",\n",
    "        F.when(\n",
    "            (F.col(\"LoF_protect_ch\").isNotNull())\n",
    "            & (F.col(\"GoF_protect_ch\").isNull()), F.lit(\"coherent\")\n",
    "        )\n",
    "        .when(\n",
    "            (F.col(\"LoF_protect_ch\").isNull())\n",
    "            & (F.col(\"GoF_protect_ch\").isNotNull()), F.lit(\"coherent\")\n",
    "        )\n",
    "        .when(\n",
    "            (F.col(\"LoF_protect_ch\").isNotNull())\n",
    "            & (F.col(\"GoF_protect_ch\").isNotNull()), F.lit(\"dispar\")\n",
    "        )\n",
    "        .otherwise(F.lit(\"other\")),\n",
    "    ).join(negativeTD, on=[\"targetId\", \"diseaseId\"], how=\"left\").withColumn(\n",
    "        \"PhaseT\",\n",
    "        F.when(F.col(\"stopReason\") == \"Negative\", F.lit(\"yes\")).otherwise(F.lit(\"no\")),\n",
    "    ).withColumn(\n",
    "        \"phase4Clean\",\n",
    "        F.when(\n",
    "            (F.col(\"maxClinPhase\") == 4) & (F.col(\"PhaseT\") == \"no\"), F.lit(\"yes\")\n",
    "        ).otherwise(F.lit(\"no\")),\n",
    "    ).withColumn(\n",
    "        \"phase3Clean\",\n",
    "        F.when(\n",
    "            (F.col(\"maxClinPhase\") >= 3) & (F.col(\"PhaseT\") == \"no\"), F.lit(\"yes\")\n",
    "        ).otherwise(F.lit(\"no\")),\n",
    "    ).withColumn(\n",
    "        \"phase2Clean\",\n",
    "        F.when(\n",
    "            (F.col(\"maxClinPhase\") >= 2) & (F.col(\"PhaseT\") == \"no\"), F.lit(\"yes\")\n",
    "        ).otherwise(F.lit(\"no\")),\n",
    "    ).withColumn(\n",
    "        \"phase1Clean\",\n",
    "        F.when(\n",
    "            (F.col(\"maxClinPhase\") >= 1) & (F.col(\"PhaseT\") == \"no\"), F.lit(\"yes\")\n",
    "        ).otherwise(F.lit(\"no\")),\n",
    "    ).withColumn(\n",
    "        \"hasGenetics\",\n",
    "        F.when(F.col(\"coherencyDiagonal\") != \"noEvid\", F.lit(\"yes\")).otherwise(F.lit(\"no\")),\n",
    "    )\n",
    "        # 1. Get distinct values for the pivot column (essential for pivot())\n",
    "        # This brings a small amount of data to the driver, but is necessary for the pivot schema.\n",
    "        distinct_pivot_values = [row[0] for row in test2.select(pivot_col_name).distinct().collect()]\n",
    "        print(f\"Distinct values for '{pivot_col_name}': {distinct_pivot_values}\")\n",
    "\n",
    "        # 2. Perform the groupBy, pivot, and aggregate operations\n",
    "        # The .pivot() function requires the list of distinct values for better performance\n",
    "        # and correct schema inference.\n",
    "        pivoted_df = (\n",
    "            test2.groupBy(*group_by_columns)\n",
    "            .pivot(pivot_col_name, distinct_pivot_values) # Provide distinct values\n",
    "            .agg(F.collect_set(F.col(agg_col_name))) # Collect all values into a set\n",
    "            .fillna(0) # Fill cells that have no data with an empty list instead of null\n",
    "        )\n",
    "        # 3. Add items to dictionary to map the columns:\n",
    "        # filter out None and 'null':\n",
    "        filtered = [x for x in distinct_pivot_values if x is not None and x != 'null']\n",
    "        # using list comprehension\n",
    "        disdic = {item: pivot_col_name for item in filtered} \n",
    "\n",
    "        # 3. Add the 'data' literal column dynamically\n",
    "        # This column indicates which aggregation column was used.\n",
    "        #pivoted_df = pivoted_df.withColumn('data', F.lit(f'Drug_{agg_col_name}'))\n",
    "\n",
    "        array_columns_to_convert = [\n",
    "            field.name for field in pivoted_df.schema.fields\n",
    "            if isinstance(field.dataType, ArrayType)\n",
    "        ]\n",
    "        print(f\"Identified ArrayType columns for conversion: {array_columns_to_convert}\")\n",
    "\n",
    "        # 4. Apply the conversion logic to each identified array column\n",
    "        df_after_conversion = pivoted_df # Start with the pivoted_df\n",
    "        for col_to_convert in array_columns_to_convert:\n",
    "            df_after_conversion = df_after_conversion.withColumn(\n",
    "                col_to_convert,\n",
    "                F.when(F.col(col_to_convert).isNull(), F.lit('no'))          # Handle NULLs (from pivot for no data)\n",
    "                .when(F.size(F.col(col_to_convert)) == 0, F.lit('no'))       # Empty array -> 'no'\n",
    "                .when(F.array_contains(F.col(col_to_convert), F.lit('yes')), F.lit('yes')) # Contains 'yes' -> 'yes'\n",
    "                .when(F.array_contains(F.col(col_to_convert), F.lit('no')), F.lit('no'))   # Contains 'no' -> 'no'\n",
    "                .otherwise(F.lit('no')) # Fallback for unexpected array content (e.g., ['other'], ['yes','no'])\n",
    "            )\n",
    "\n",
    "        # 4. Generate a unique name for this DataFrame and store it\n",
    "        df_key = f\"df_pivot_{agg_col_name.lower()}_by_{pivot_col_name.lower()}\"\n",
    "        all_pivoted_dfs[df_key] = df_after_conversion.withColumnRenamed( 'phase4Clean','Phase>=4'\n",
    "        ).withColumnRenamed('phase3Clean','Phase>=3'\n",
    "        ).withColumnRenamed('phase2Clean','Phase>=2'\n",
    "        ).withColumnRenamed('phase1Clean','Phase>=1')\n",
    "\n",
    "\n",
    "# --- Accessing your generated DataFrames ---\n",
    "print(\"\\n--- All generated DataFrames are stored in 'all_pivoted_dfs' dictionary ---\")\n",
    "print(\"Keys available:\", all_pivoted_dfs.keys())"
   ]
  },
  {
   "cell_type": "code",
   "execution_count": null,
   "metadata": {},
   "outputs": [],
   "source": []
  },
  {
   "cell_type": "code",
   "execution_count": null,
   "metadata": {},
   "outputs": [],
   "source": []
  },
  {
   "cell_type": "code",
   "execution_count": 10,
   "metadata": {},
   "outputs": [
    {
     "name": "stderr",
     "output_type": "stream",
     "text": [
      "                                                                                \r"
     ]
    },
    {
     "ename": "AnalysisException",
     "evalue": "[UNRESOLVED_COLUMN.WITH_SUGGESTION] A column or function parameter with name `coherencyDiagonal` cannot be resolved. Did you mean one of the following? [`phase1Clean`, `phase2Clean`, `phase3Clean`, `phase4Clean`, `NdiagonalYes`].;\n'Project [targetId#2088, diseaseId#2170, maxClinPhase#17918, LoF_protect_ch#17919L, GoF_protect_ch#17920L, actionType2#16878, biosampleName#1060, projectId#975, rightStudyType#1080, colocalisationMethod#1083, null#17921L, GoF_protect#17922L, GoF_risk#17923L, LoF_protect#17924L, LoF_risk#17925L, arrayN#17941, maxDoE#17958L, maxDoE_names#17995, NoneCellYes#18015, NdiagonalYes#18035, drugCoherency#18056, stopReason#16867, PhaseT#18190, phase4Clean#18214, ... 4 more fields]\n+- Project [targetId#2088, diseaseId#2170, maxClinPhase#17918, LoF_protect_ch#17919L, GoF_protect_ch#17920L, actionType2#16878, biosampleName#1060, projectId#975, rightStudyType#1080, colocalisationMethod#1083, null#17921L, GoF_protect#17922L, GoF_risk#17923L, LoF_protect#17924L, LoF_risk#17925L, arrayN#17941, maxDoE#17958L, maxDoE_names#17995, NoneCellYes#18015, NdiagonalYes#18035, drugCoherency#18056, stopReason#16867, PhaseT#18190, phase4Clean#18214, ... 3 more fields]\n   +- Project [targetId#2088, diseaseId#2170, maxClinPhase#17918, LoF_protect_ch#17919L, GoF_protect_ch#17920L, actionType2#16878, biosampleName#1060, projectId#975, rightStudyType#1080, colocalisationMethod#1083, null#17921L, GoF_protect#17922L, GoF_risk#17923L, LoF_protect#17924L, LoF_risk#17925L, arrayN#17941, maxDoE#17958L, maxDoE_names#17995, NoneCellYes#18015, NdiagonalYes#18035, drugCoherency#18056, stopReason#16867, PhaseT#18190, phase4Clean#18214, ... 2 more fields]\n      +- Project [targetId#2088, diseaseId#2170, maxClinPhase#17918, LoF_protect_ch#17919L, GoF_protect_ch#17920L, actionType2#16878, biosampleName#1060, projectId#975, rightStudyType#1080, colocalisationMethod#1083, null#17921L, GoF_protect#17922L, GoF_risk#17923L, LoF_protect#17924L, LoF_risk#17925L, arrayN#17941, maxDoE#17958L, maxDoE_names#17995, NoneCellYes#18015, NdiagonalYes#18035, drugCoherency#18056, stopReason#16867, PhaseT#18190, phase4Clean#18214, CASE WHEN ((maxClinPhase#17918 >= cast(3 as double)) AND (PhaseT#18190 = no)) THEN yes ELSE no END AS phase3Clean#18239]\n         +- Project [targetId#2088, diseaseId#2170, maxClinPhase#17918, LoF_protect_ch#17919L, GoF_protect_ch#17920L, actionType2#16878, biosampleName#1060, projectId#975, rightStudyType#1080, colocalisationMethod#1083, null#17921L, GoF_protect#17922L, GoF_risk#17923L, LoF_protect#17924L, LoF_risk#17925L, arrayN#17941, maxDoE#17958L, maxDoE_names#17995, NoneCellYes#18015, NdiagonalYes#18035, drugCoherency#18056, stopReason#16867, PhaseT#18190, CASE WHEN ((maxClinPhase#17918 = cast(4 as double)) AND (PhaseT#18190 = no)) THEN yes ELSE no END AS phase4Clean#18214]\n            +- Project [targetId#2088, diseaseId#2170, maxClinPhase#17918, LoF_protect_ch#17919L, GoF_protect_ch#17920L, actionType2#16878, biosampleName#1060, projectId#975, rightStudyType#1080, colocalisationMethod#1083, null#17921L, GoF_protect#17922L, GoF_risk#17923L, LoF_protect#17924L, LoF_risk#17925L, arrayN#17941, maxDoE#17958L, maxDoE_names#17995, NoneCellYes#18015, NdiagonalYes#18035, drugCoherency#18056, stopReason#16867, CASE WHEN (stopReason#16867 = Negative) THEN yes ELSE no END AS PhaseT#18190]\n               +- Project [targetId#2088, diseaseId#2170, maxClinPhase#17918, LoF_protect_ch#17919L, GoF_protect_ch#17920L, actionType2#16878, biosampleName#1060, projectId#975, rightStudyType#1080, colocalisationMethod#1083, null#17921L, GoF_protect#17922L, GoF_risk#17923L, LoF_protect#17924L, LoF_risk#17925L, arrayN#17941, maxDoE#17958L, maxDoE_names#17995, NoneCellYes#18015, NdiagonalYes#18035, drugCoherency#18056, stopReason#16867]\n                  +- Join LeftOuter, ((targetId#2088 = targetId#18079) AND (diseaseId#2170 = diseaseId#18161))\n                     :- Project [targetId#2088, diseaseId#2170, maxClinPhase#17918, LoF_protect_ch#17919L, GoF_protect_ch#17920L, actionType2#16878, biosampleName#1060, projectId#975, rightStudyType#1080, colocalisationMethod#1083, null#17921L, GoF_protect#17922L, GoF_risk#17923L, LoF_protect#17924L, LoF_risk#17925L, arrayN#17941, maxDoE#17958L, maxDoE_names#17995, NoneCellYes#18015, NdiagonalYes#18035, CASE WHEN (isnotnull(LoF_protect_ch#17919L) AND isnull(GoF_protect_ch#17920L)) THEN coherent WHEN (isnull(LoF_protect_ch#17919L) AND isnotnull(GoF_protect_ch#17920L)) THEN coherent WHEN (isnotnull(LoF_protect_ch#17919L) AND isnotnull(GoF_protect_ch#17920L)) THEN dispar ELSE other END AS drugCoherency#18056]\n                     :  +- Project [targetId#2088, diseaseId#2170, maxClinPhase#17918, LoF_protect_ch#17919L, GoF_protect_ch#17920L, actionType2#16878, biosampleName#1060, projectId#975, rightStudyType#1080, colocalisationMethod#1083, null#17921L, GoF_protect#17922L, GoF_risk#17923L, LoF_protect#17924L, LoF_risk#17925L, arrayN#17941, maxDoE#17958L, maxDoE_names#17995, NoneCellYes#18015, CASE WHEN ((isnotnull(LoF_protect_ch#17919L) AND isnull(GoF_protect_ch#17920L)) AND (size(array_intersect(maxDoE_names#17995, array(LoF_protect, GoF_risk)), true) > 0)) THEN yes WHEN ((isnotnull(GoF_protect_ch#17920L) AND isnull(LoF_protect_ch#17919L)) AND (size(array_intersect(maxDoE_names#17995, array(LoF_risk, GoF_protect)), true) > 0)) THEN yes ELSE no END AS NdiagonalYes#18035]\n                     :     +- Project [targetId#2088, diseaseId#2170, maxClinPhase#17918, LoF_protect_ch#17919L, GoF_protect_ch#17920L, actionType2#16878, biosampleName#1060, projectId#975, rightStudyType#1080, colocalisationMethod#1083, null#17921L, GoF_protect#17922L, GoF_risk#17923L, LoF_protect#17924L, LoF_risk#17925L, arrayN#17941, maxDoE#17958L, maxDoE_names#17995, CASE WHEN (((isnotnull(LoF_protect_ch#17919L) AND isnull(GoF_protect_ch#17920L)) AND array_contains(maxDoE_names#17995, LoF_protect)) = true) THEN yes WHEN (((isnotnull(GoF_protect_ch#17920L) AND isnull(LoF_protect_ch#17919L)) AND array_contains(maxDoE_names#17995, GoF_protect)) = true) THEN yes ELSE no END AS NoneCellYes#18015]\n                     :        +- Project [targetId#2088, diseaseId#2170, maxClinPhase#17918, LoF_protect_ch#17919L, GoF_protect_ch#17920L, actionType2#16878, biosampleName#1060, projectId#975, rightStudyType#1080, colocalisationMethod#1083, null#17921L, GoF_protect#17922L, GoF_risk#17923L, LoF_protect#17924L, LoF_risk#17925L, arrayN#17941, maxDoE#17958L, filter(maxDoE_names#17976, lambdafunction(isnotnull(lambda x#17996), lambda x#17996, false)) AS maxDoE_names#17995]\n                     :           +- Project [targetId#2088, diseaseId#2170, maxClinPhase#17918, LoF_protect_ch#17919L, GoF_protect_ch#17920L, actionType2#16878, biosampleName#1060, projectId#975, rightStudyType#1080, colocalisationMethod#1083, null#17921L, GoF_protect#17922L, GoF_risk#17923L, LoF_protect#17924L, LoF_risk#17925L, arrayN#17941, maxDoE#17958L, array(CASE WHEN (LoF_protect#17924L = maxDoE#17958L) THEN LoF_protect ELSE cast(null as string) END, CASE WHEN (GoF_risk#17923L = maxDoE#17958L) THEN GoF_risk ELSE cast(null as string) END, CASE WHEN (LoF_risk#17925L = maxDoE#17958L) THEN LoF_risk ELSE cast(null as string) END, CASE WHEN (GoF_protect#17922L = maxDoE#17958L) THEN GoF_protect ELSE cast(null as string) END) AS maxDoE_names#17976]\n                     :              +- Project [targetId#2088, diseaseId#2170, maxClinPhase#17918, LoF_protect_ch#17919L, GoF_protect_ch#17920L, actionType2#16878, biosampleName#1060, projectId#975, rightStudyType#1080, colocalisationMethod#1083, null#17921L, GoF_protect#17922L, GoF_risk#17923L, LoF_protect#17924L, LoF_risk#17925L, arrayN#17941, array_max(arrayN#17941) AS maxDoE#17958L]\n                     :                 +- Project [targetId#2088, diseaseId#2170, maxClinPhase#17918, LoF_protect_ch#17919L, GoF_protect_ch#17920L, actionType2#16878, biosampleName#1060, projectId#975, rightStudyType#1080, colocalisationMethod#1083, null#17921L, GoF_protect#17922L, GoF_risk#17923L, LoF_protect#17924L, LoF_risk#17925L, array(LoF_protect#17924L, GoF_risk#17923L, LoF_risk#17925L, GoF_protect#17922L) AS arrayN#17941]\n                     :                    +- Project [targetId#2088, diseaseId#2170, coalesce(nanvl(maxClinPhase#12040, cast(null as double)), cast(0.0 as double)) AS maxClinPhase#17918, coalesce(LoF_protect_ch#17871L, cast(0.0 as bigint)) AS LoF_protect_ch#17919L, coalesce(GoF_protect_ch#17887L, cast(0.0 as bigint)) AS GoF_protect_ch#17920L, actionType2#16878, biosampleName#1060, projectId#975, rightStudyType#1080, colocalisationMethod#1083, coalesce(null#17841L, cast(0.0 as bigint)) AS null#17921L, coalesce(GoF_protect#17842L, cast(0.0 as bigint)) AS GoF_protect#17922L, coalesce(GoF_risk#17843L, cast(0.0 as bigint)) AS GoF_risk#17923L, coalesce(LoF_protect#17844L, cast(0.0 as bigint)) AS LoF_protect#17924L, coalesce(LoF_risk#17845L, cast(0.0 as bigint)) AS LoF_risk#17925L]\n                     :                       +- Project [targetId#2088, diseaseId#2170, maxClinPhase#12040, LoF_protect_ch#17871L, drugGoF_protect#16696L AS GoF_protect_ch#17887L, actionType2#16878, biosampleName#1060, projectId#975, rightStudyType#1080, colocalisationMethod#1083, null#17841L, GoF_protect#17842L, GoF_risk#17843L, LoF_protect#17844L, LoF_risk#17845L]\n                     :                          +- Project [targetId#2088, diseaseId#2170, maxClinPhase#12040, drugLoF_protect#16703L AS LoF_protect_ch#17871L, drugGoF_protect#16696L, actionType2#16878, biosampleName#1060, projectId#975, rightStudyType#1080, colocalisationMethod#1083, null#17841L, GoF_protect#17842L, GoF_risk#17843L, LoF_protect#17844L, LoF_risk#17845L]\n                     :                             +- Project [targetId#2088, diseaseId#2170, maxClinPhase#12040, drugLoF_protect#16703L, drugGoF_protect#16696L, actionType2#16878, biosampleName#1060, projectId#975, rightStudyType#1080, colocalisationMethod#1083, __pivot_count(1) AS count AS `count(1) AS count`#17840[0] AS null#17841L, __pivot_count(1) AS count AS `count(1) AS count`#17840[1] AS GoF_protect#17842L, __pivot_count(1) AS count AS `count(1) AS count`#17840[2] AS GoF_risk#17843L, __pivot_count(1) AS count AS `count(1) AS count`#17840[3] AS LoF_protect#17844L, __pivot_count(1) AS count AS `count(1) AS count`#17840[4] AS LoF_risk#17845L]\n                     :                                +- Aggregate [targetId#2088, diseaseId#2170, maxClinPhase#12040, drugLoF_protect#16703L, drugGoF_protect#16696L, actionType2#16878, biosampleName#1060, projectId#975, rightStudyType#1080, colocalisationMethod#1083], [targetId#2088, diseaseId#2170, maxClinPhase#12040, drugLoF_protect#16703L, drugGoF_protect#16696L, actionType2#16878, biosampleName#1060, projectId#975, rightStudyType#1080, colocalisationMethod#1083, pivotfirst(colocDoE#2044, count(1) AS count#17828L, null, GoF_protect, GoF_risk, LoF_protect, LoF_risk, 0, 0) AS __pivot_count(1) AS count AS `count(1) AS count`#17840]\n                     :                                   +- Aggregate [targetId#2088, diseaseId#2170, maxClinPhase#12040, drugLoF_protect#16703L, drugGoF_protect#16696L, actionType2#16878, biosampleName#1060, projectId#975, rightStudyType#1080, colocalisationMethod#1083, colocDoE#2044], [targetId#2088, diseaseId#2170, maxClinPhase#12040, drugLoF_protect#16703L, drugGoF_protect#16696L, actionType2#16878, biosampleName#1060, projectId#975, rightStudyType#1080, colocalisationMethod#1083, colocDoE#2044, count(1) AS count(1) AS count#17828L]\n                     :                                      +- Project [biosampleId#1002, targetId#2088, diseaseId#2170, leftStudyLocusId#1077, rightStudyId#1140, rightStudyLocusId#1078, chromosome#1079, rightStudyType#1080, numberColocalisingVariants#1081L, clpp#1082, colocalisationMethod#1083, betaRatioSignAverage#1084, h0#1094, h1#1095, h2#1096, h3#1097, h4#1098, leftStudyId#1115, leftVariantId#1116, credibleLeftStudyType#1117, rightVariantId#1141, credibleRightStudyType#1142, qtlPValueExponent#1143, isTransQtl#1176, ... 25 more fields]\n                     :                                         +- Project [biosampleId#1002, targetId#2088, diseaseId#2170, leftStudyLocusId#1077, rightStudyId#1140, rightStudyLocusId#1078, chromosome#1079, rightStudyType#1080, numberColocalisingVariants#1081L, clpp#1082, colocalisationMethod#1083, betaRatioSignAverage#1084, h0#1094, h1#1095, h2#1096, h3#1097, h4#1098, leftStudyId#1115, leftVariantId#1116, credibleLeftStudyType#1117, rightVariantId#1141, credibleRightStudyType#1142, qtlPValueExponent#1143, isTransQtl#1176, ... 26 more fields]\n                     :                                            +- Window [first(colocDoE#2044, false) windowspecdefinition(targetId#2088, diseaseId#2170, maxClinPhase#12040, colocalisationMethod#1083 ASC NULLS FIRST, qtlPValueExponent#1143 ASC NULLS FIRST, specifiedwindowframe(RangeFrame, unboundedpreceding$(), currentrow$())) AS qtlColocDoE#16928], [targetId#2088, diseaseId#2170, maxClinPhase#12040], [colocalisationMethod#1083 ASC NULLS FIRST, qtlPValueExponent#1143 ASC NULLS FIRST]\n                     :                                               +- Project [biosampleId#1002, targetId#2088, diseaseId#2170, leftStudyLocusId#1077, rightStudyId#1140, rightStudyLocusId#1078, chromosome#1079, rightStudyType#1080, numberColocalisingVariants#1081L, clpp#1082, colocalisationMethod#1083, betaRatioSignAverage#1084, h0#1094, h1#1095, h2#1096, h3#1097, h4#1098, leftStudyId#1115, leftVariantId#1116, credibleLeftStudyType#1117, rightVariantId#1141, credibleRightStudyType#1142, qtlPValueExponent#1143, isTransQtl#1176, ... 24 more fields]\n                     :                                                  +- Project [biosampleId#1002, targetId#2088, diseaseId#2170, leftStudyLocusId#1077, rightStudyId#1140, rightStudyLocusId#1078, chromosome#1079, rightStudyType#1080, numberColocalisingVariants#1081L, clpp#1082, colocalisationMethod#1083, betaRatioSignAverage#1084, h0#1094, h1#1095, h2#1096, h3#1097, h4#1098, leftStudyId#1115, leftVariantId#1116, credibleLeftStudyType#1117, rightVariantId#1141, credibleRightStudyType#1142, qtlPValueExponent#1143, isTransQtl#1176, ... 24 more fields]\n                     :                                                     +- Project [biosampleId#1002, targetId#2088, diseaseId#2170, leftStudyLocusId#1077, rightStudyId#1140, rightStudyLocusId#1078, chromosome#1079, rightStudyType#1080, numberColocalisingVariants#1081L, clpp#1082, colocalisationMethod#1083, betaRatioSignAverage#1084, h0#1094, h1#1095, h2#1096, h3#1097, h4#1098, leftStudyId#1115, leftVariantId#1116, credibleLeftStudyType#1117, rightVariantId#1141, credibleRightStudyType#1142, qtlPValueExponent#1143, isTransQtl#1176, ... 24 more fields]\n                     :                                                        +- Join LeftOuter, (biosampleId#1002 = biosampleId#1059)\n                     :                                                           :- Project [targetId#2088, diseaseId#2170, leftStudyLocusId#1077, rightStudyId#1140, rightStudyLocusId#1078, chromosome#1079, rightStudyType#1080, numberColocalisingVariants#1081L, clpp#1082, colocalisationMethod#1083, betaRatioSignAverage#1084, h0#1094, h1#1095, h2#1096, h3#1097, h4#1098, leftStudyId#1115, leftVariantId#1116, credibleLeftStudyType#1117, rightVariantId#1141, credibleRightStudyType#1142, qtlPValueExponent#1143, isTransQtl#1176, projectId#975, ... 23 more fields]\n                     :                                                           :  +- Project [targetId#2088, diseaseId#2170, leftStudyLocusId#1077, rightStudyId#1140, rightStudyLocusId#1078, chromosome#1079, rightStudyType#1080, numberColocalisingVariants#1081L, clpp#1082, colocalisationMethod#1083, betaRatioSignAverage#1084, h0#1094, h1#1095, h2#1096, h3#1097, h4#1098, leftStudyId#1115, leftVariantId#1116, credibleLeftStudyType#1117, rightVariantId#1141, credibleRightStudyType#1142, qtlPValueExponent#1143, isTransQtl#1176, projectId#975, ... 22 more fields]\n                     :                                                           :     +- Join RightOuter, ((targetId#1801 = targetId#2088) AND (diseaseId#1960 = diseaseId#2170))\n                     :                                                           :        :- Filter NOT (name#691 = COVID-19)\n                     :                                                           :        :  +- Filter ((clpp#1082 >= 0.01) OR (h4#1098 >= 0.8))\n                     :                                                           :        :     +- Project [diseaseId#1960, leftStudyLocusId#1077, targetId#1801, rightStudyId#1140, rightStudyLocusId#1078, chromosome#1079, rightStudyType#1080, numberColocalisingVariants#1081L, clpp#1082, colocalisationMethod#1083, betaRatioSignAverage#1084, h0#1094, h1#1095, h2#1096, h3#1097, h4#1098, leftStudyId#1115, leftVariantId#1116, credibleLeftStudyType#1117, rightVariantId#1141, credibleRightStudyType#1142, qtlPValueExponent#1143, isTransQtl#1176, projectId#975, ... 18 more fields]\n                     :                                                           :        :        +- Project [diseaseId#1960, leftStudyLocusId#1077, targetId#1801, rightStudyId#1140, rightStudyLocusId#1078, chromosome#1079, rightStudyType#1080, numberColocalisingVariants#1081L, clpp#1082, colocalisationMethod#1083, betaRatioSignAverage#1084, h0#1094, h1#1095, h2#1096, h3#1097, h4#1098, leftStudyId#1115, leftVariantId#1116, credibleLeftStudyType#1117, rightVariantId#1141, credibleRightStudyType#1142, qtlPValueExponent#1143, isTransQtl#1176, projectId#975, ... 17 more fields]\n                     :                                                           :        :           +- Project [diseaseId#1960, leftStudyLocusId#1077, targetId#1801, rightStudyId#1140, rightStudyLocusId#1078, chromosome#1079, rightStudyType#1080, numberColocalisingVariants#1081L, clpp#1082, colocalisationMethod#1083, betaRatioSignAverage#1084, h0#1094, h1#1095, h2#1096, h3#1097, h4#1098, leftStudyId#1115, leftVariantId#1116, credibleLeftStudyType#1117, rightVariantId#1141, credibleRightStudyType#1142, qtlPValueExponent#1143, isTransQtl#1176, projectId#975, ... 18 more fields]\n                     :                                                           :        :              +- Generate explode(concat(array(diseaseId#800), parents#694)), true, [diseaseId#1960]\n                     :                                                           :        :                 +- Project [diseaseId#800, leftStudyLocusId#1077, targetId#1801, rightStudyId#1140, rightStudyLocusId#1078, chromosome#1079, rightStudyType#1080, numberColocalisingVariants#1081L, clpp#1082, colocalisationMethod#1083, betaRatioSignAverage#1084, h0#1094, h1#1095, h2#1096, h3#1097, h4#1098, leftStudyId#1115, leftVariantId#1116, credibleLeftStudyType#1117, rightVariantId#1141, credibleRightStudyType#1142, qtlPValueExponent#1143, isTransQtl#1176, projectId#975, ... 18 more fields]\n                     :                                                           :        :                    +- Join LeftOuter, (diseaseId#800 = diseaseId#1911)\n                     :                                                           :        :                       :- Project [leftStudyLocusId#1077, targetId#1801, rightStudyId#1140, rightStudyLocusId#1078, chromosome#1079, rightStudyType#1080, numberColocalisingVariants#1081L, clpp#1082, colocalisationMethod#1083, betaRatioSignAverage#1084, h0#1094, h1#1095, h2#1096, h3#1097, h4#1098, leftStudyId#1115, leftVariantId#1116, credibleLeftStudyType#1117, rightVariantId#1141, credibleRightStudyType#1142, qtlPValueExponent#1143, isTransQtl#1176, projectId#975, indexStudyType#1200, ... 15 more fields]\n                     :                                                           :        :                       :  +- Join Inner, ((leftStudyLocusId#1077 = leftStudyLocusId#1828) AND (targetId#1801 = targetId#718))\n                     :                                                           :        :                       :     :- Project [rightStudyId#1140, rightStudyLocusId#1078, leftStudyLocusId#1077, chromosome#1079, rightStudyType#1080, numberColocalisingVariants#1081L, clpp#1082, colocalisationMethod#1083, betaRatioSignAverage#1084, h0#1094, h1#1095, h2#1096, h3#1097, h4#1098, leftStudyId#1115, leftVariantId#1116, credibleLeftStudyType#1117, rightVariantId#1141, credibleRightStudyType#1142, qtlPValueExponent#1143, isTransQtl#1176, geneId#974 AS targetId#1801, projectId#975, indexStudyType#1200, ... 2 more fields]\n                     :                                                           :        :                       :     :  +- Project [rightStudyId#1140, rightStudyLocusId#1078, leftStudyLocusId#1077, chromosome#1079, rightStudyType#1080, numberColocalisingVariants#1081L, clpp#1082, colocalisationMethod#1083, betaRatioSignAverage#1084, h0#1094, h1#1095, h2#1096, h3#1097, h4#1098, leftStudyId#1115, leftVariantId#1116, credibleLeftStudyType#1117, rightVariantId#1141, credibleRightStudyType#1142, qtlPValueExponent#1143, isTransQtl#1176, geneId#974, projectId#975, indexStudyType#1200, ... 2 more fields]\n                     :                                                           :        :                       :     :     +- Join LeftOuter, (rightStudyId#1140 = rightStudyId#1199)\n                     :                                                           :        :                       :     :        :- Project [rightStudyLocusId#1078, leftStudyLocusId#1077, chromosome#1079, rightStudyType#1080, numberColocalisingVariants#1081L, clpp#1082, colocalisationMethod#1083, betaRatioSignAverage#1084, h0#1094, h1#1095, h2#1096, h3#1097, h4#1098, leftStudyId#1115, leftVariantId#1116, credibleLeftStudyType#1117, rightStudyId#1140, rightVariantId#1141, credibleRightStudyType#1142, qtlPValueExponent#1143, isTransQtl#1176]\n                     :                                                           :        :                       :     :        :  +- Join LeftOuter, (rightStudyLocusId#1078 = rightStudyLocusId#1139)\n                     :                                                           :        :                       :     :        :     :- Project [leftStudyLocusId#1077, rightStudyLocusId#1078, chromosome#1079, rightStudyType#1080, numberColocalisingVariants#1081L, clpp#1082, colocalisationMethod#1083, betaRatioSignAverage#1084, h0#1094, h1#1095, h2#1096, h3#1097, h4#1098, leftStudyId#1115, leftVariantId#1116, credibleLeftStudyType#1117]\n                     :                                                           :        :                       :     :        :     :  +- Join LeftOuter, (leftStudyLocusId#1077 = leftStudyLocusId#1114)\n                     :                                                           :        :                       :     :        :     :     :- Union false, false\n                     :                                                           :        :                       :     :        :     :     :  :- Project [leftStudyLocusId#1077, rightStudyLocusId#1078, chromosome#1079, rightStudyType#1080, numberColocalisingVariants#1081L, clpp#1082, colocalisationMethod#1083, betaRatioSignAverage#1084, null AS h0#1094, null AS h1#1095, null AS h2#1096, null AS h3#1097, null AS h4#1098]\n                     :                                                           :        :                       :     :        :     :     :  :  +- Relation [leftStudyLocusId#1077,rightStudyLocusId#1078,chromosome#1079,rightStudyType#1080,numberColocalisingVariants#1081L,clpp#1082,colocalisationMethod#1083,betaRatioSignAverage#1084] parquet\n                     :                                                           :        :                       :     :        :     :     :  +- Project [leftStudyLocusId#949, rightStudyLocusId#950, chromosome#951, rightStudyType#952, numberColocalisingVariants#953L, null AS clpp#1093, colocalisationMethod#959, betaRatioSignAverage#960, h0#954, h1#955, h2#956, h3#957, h4#958]\n                     :                                                           :        :                       :     :        :     :     :     +- Relation [leftStudyLocusId#949,rightStudyLocusId#950,chromosome#951,rightStudyType#952,numberColocalisingVariants#953L,h0#954,h1#955,h2#956,h3#957,h4#958,colocalisationMethod#959,betaRatioSignAverage#960] parquet\n                     :                                                           :        :                       :     :        :     :     +- Project [studyLocusId#895 AS leftStudyLocusId#1114, StudyId#896 AS leftStudyId#1115, variantId#897 AS leftVariantId#1116, studyType#920 AS credibleLeftStudyType#1117]\n                     :                                                           :        :                       :     :        :     :        +- Relation [studyLocusId#895,studyId#896,variantId#897,chromosome#898,position#899,region#900,beta#901,zScore#902,pValueMantissa#903,pValueExponent#904,effectAlleleFrequencyFromSource#905,standardError#906,subStudyDescription#907,qualityControls#908,finemappingMethod#909,credibleSetIndex#910,credibleSetlog10BF#911,purityMeanR2#912,purityMinR2#913,locusStart#914,locusEnd#915,sampleSize#916,ldSet#917,locus#918,... 3 more fields] parquet\n                     :                                                           :        :                       :     :        :     +- Project [studyLocusId#1150 AS rightStudyLocusId#1139, studyId#1151 AS rightStudyId#1140, variantId#1152 AS rightVariantId#1141, studyType#1175 AS credibleRightStudyType#1142, pValueExponent#1159 AS qtlPValueExponent#1143, isTransQtl#1176]\n                     :                                                           :        :                       :     :        :        +- Relation [studyLocusId#1150,studyId#1151,variantId#1152,chromosome#1153,position#1154,region#1155,beta#1156,zScore#1157,pValueMantissa#1158,pValueExponent#1159,effectAlleleFrequencyFromSource#1160,standardError#1161,subStudyDescription#1162,qualityControls#1163,finemappingMethod#1164,credibleSetIndex#1165,credibleSetlog10BF#1166,purityMeanR2#1167,purityMinR2#1168,locusStart#1169,locusEnd#1170,sampleSize#1171,ldSet#1172,locus#1173,... 3 more fields] parquet\n                     :                                                           :        :                       :     :        +- Project [studyId#973 AS rightStudyId#1199, geneId#974, projectId#975, studyType#976 AS indexStudyType#1200, condition#998, biosampleId#1002]\n                     :                                                           :        :                       :     :           +- Relation [studyId#973,geneId#974,projectId#975,studyType#976,traitFromSource#977,traitFromSourceMappedIds#978,biosampleFromSourceId#979,pubmedId#980,publicationTitle#981,publicationFirstAuthor#982,publicationDate#983,publicationJournal#984,backgroundTraitFromSourceMappedIds#985,initialSampleSize#986,nCases#987,nControls#988,nSamples#989,cohorts#990,ldPopulationStructure#991,discoverySamples#992,replicationSamples#993,qualityControls#994,analysisFlags#995,summarystatsLocation#996,... 6 more fields] parquet\n                     :                                                           :        :                       :     +- Project [studyLocusId#798 AS leftStudyLocusId#1828, datasourceId#717, targetId#718, datatypeId#743, diseaseFromSourceMappedId#747, resourceScore#769, targetFromSourceId#784, diseaseId#800, id#801, score#802, sourceId#805, studyId#1845, variantId#1846, betaGwas#1780, pValueExponent#1853]\n                     :                                                           :        :                       :        +- Project [studyLocusId#798, datasourceId#717, targetId#718, datatypeId#743, diseaseFromSourceMappedId#747, resourceScore#769, targetFromSourceId#784, diseaseId#800, id#801, score#802, sourceId#805, studyId#1845, variantId#1846, betaGwas#1780, pValueExponent#1853]\n                     :                                                           :        :                       :           +- Join LeftOuter, (studyLocusId#798 = studyLocusId#1844)\n                     :                                                           :        :                       :              :- Project [datasourceId#717, targetId#718, datatypeId#743, diseaseFromSourceMappedId#747, resourceScore#769, targetFromSourceId#784, studyLocusId#798, diseaseId#800, id#801, score#802, sourceId#805]\n                     :                                                           :        :                       :              :  +- Filter (datasourceId#717 = gwas_credible_sets)\n                     :                                                           :        :                       :              :     +- Relation [datasourceId#717,targetId#718,alleleOrigins#719,allelicRequirements#720,ancestry#721,ancestryId#722,beta#723,betaConfidenceIntervalLower#724,betaConfidenceIntervalUpper#725,biologicalModelAllelicComposition#726,biologicalModelGeneticBackground#727,biologicalModelId#728,biomarkerName#729,biomarkers#730,biosamplesFromSource#731,cellType#732,clinicalPhase#733,clinicalSignificances#734,clinicalStatus#735,cohortDescription#736,cohortId#737,cohortPhenotypes#738,cohortShortName#739,confidence#740,... 65 more fields] parquet\n                     :                                                           :        :                       :              +- Project [studyLocusId#1844, studyId#1845, variantId#1846, beta#1850 AS betaGwas#1780, pValueExponent#1853]\n                     :                                                           :        :                       :                 +- Relation [studyLocusId#1844,studyId#1845,variantId#1846,chromosome#1847,position#1848,region#1849,beta#1850,zScore#1851,pValueMantissa#1852,pValueExponent#1853,effectAlleleFrequencyFromSource#1854,standardError#1855,subStudyDescription#1856,qualityControls#1857,finemappingMethod#1858,credibleSetIndex#1859,credibleSetlog10BF#1860,purityMeanR2#1861,purityMinR2#1862,locusStart#1863,locusEnd#1864,sampleSize#1865,ldSet#1866,locus#1867,... 3 more fields] parquet\n                     :                                                           :        :                       +- Project [id#689 AS diseaseId#1911, name#691, parents#694, therapeuticAreas#700]\n                     :                                                           :        :                          +- Relation [id#689,code#690,name#691,description#692,dbXRefs#693,parents#694,synonyms#695,obsoleteTerms#696,obsoleteXRefs#697,children#698,ancestors#699,therapeuticAreas#700,descendants#701,ontology#702] parquet\n                     :                                                           :        +- Project [targetId#2088, diseaseId#2170, maxClinPhase#12040, actionType2#11925, drugGoF_protect#16696L, LoF_protect#14843L AS drugLoF_protect#16703L]\n                     :                                                           :           +- Project [targetId#2088, diseaseId#2170, maxClinPhase#12040, actionType2#11925, GoF_protect#14842L AS drugGoF_protect#16696L, LoF_protect#14843L]\n                     :                                                           :              +- Project [targetId#2088, diseaseId#2170, maxClinPhase#12040, actionType2#11925, GoF_protect#14842L, LoF_protect#14843L]\n                     :                                                           :                 +- Project [targetId#2088, diseaseId#2170, maxClinPhase#12040, actionType2#11925, GoF_protect#14842L, LoF_protect#14843L, noEvaluable#14844L, GoF_risk#14858, LoF_risk#16480, coherencyDiagonal#16667, CASE WHEN ((((isnull(LoF_risk#16480) AND isnull(LoF_protect#14843L)) AND isnull(GoF_risk#14858)) AND isnull(GoF_protect#14842L)) AND isnull(noEvaluable#14844L)) THEN noEvid WHEN ((((isnull(LoF_risk#16480) AND isnull(LoF_protect#14843L)) AND isnull(GoF_risk#14858)) AND isnull(GoF_protect#14842L)) AND isnotnull(noEvaluable#14844L)) THEN EvidNotDoE WHEN (((isnotnull(LoF_risk#16480) OR isnotnull(LoF_protect#14843L)) OR isnotnull(GoF_risk#14858)) OR isnotnull(GoF_protect#14842L)) THEN CASE WHEN (isnotnull(LoF_risk#16480) AND ((isnull(LoF_protect#14843L) AND isnull(GoF_risk#14858)) AND isnull(GoF_protect#14842L))) THEN coherent WHEN (isnotnull(GoF_risk#14858) AND ((isnull(LoF_protect#14843L) AND isnull(LoF_risk#16480)) AND isnull(GoF_protect#14842L))) THEN coherent WHEN (isnotnull(LoF_protect#14843L) AND ((isnull(LoF_risk#16480) AND isnull(GoF_risk#14858)) AND isnull(GoF_protect#14842L))) THEN coherent WHEN (isnotnull(GoF_protect#14842L) AND ((isnull(LoF_protect#14843L) AND isnull(GoF_risk#14858)) AND isnull(LoF_risk#16480))) THEN coherent ELSE dispar END END AS coherencyOneCell#16678]\n                     :                                                           :                    +- Project [targetId#2088, diseaseId#2170, maxClinPhase#12040, actionType2#11925, GoF_protect#14842L, LoF_protect#14843L, noEvaluable#14844L, GoF_risk#14858, LoF_risk#16480, CASE WHEN ((((isnull(LoF_risk#16480) AND isnull(LoF_protect#14843L)) AND isnull(GoF_risk#14858)) AND isnull(GoF_protect#14842L)) AND isnull(noEvaluable#14844L)) THEN noEvid WHEN ((((isnull(LoF_risk#16480) AND isnull(LoF_protect#14843L)) AND isnull(GoF_risk#14858)) AND isnull(GoF_protect#14842L)) AND isnotnull(noEvaluable#14844L)) THEN EvidNotDoE WHEN (((isnotnull(LoF_risk#16480) OR isnotnull(LoF_protect#14843L)) OR isnotnull(GoF_risk#14858)) OR isnotnull(GoF_protect#14842L)) THEN CASE WHEN (isnotnull(GoF_risk#14858) AND isnotnull(LoF_risk#16480)) THEN dispar WHEN (isnotnull(LoF_protect#14843L) AND isnotnull(LoF_risk#16480)) THEN dispar WHEN (isnotnull(GoF_protect#14842L) AND isnotnull(GoF_risk#14858)) THEN dispar WHEN (isnotnull(GoF_protect#14842L) AND isnotnull(LoF_protect#14843L)) THEN dispar ELSE coherent END END AS coherencyDiagonal#16667]\n                     :                                                           :                       +- Project [targetId#2088, diseaseId#2170, maxClinPhase#12040, actionType2#11925, GoF_protect#14842L, LoF_protect#14843L, noEvaluable#14844L, GoF_risk#14858, null AS LoF_risk#16480]\n                     :                                                           :                          +- Project [targetId#2088, diseaseId#2170, maxClinPhase#12040, actionType2#11925, GoF_protect#14842L, LoF_protect#14843L, noEvaluable#14844L, null AS GoF_risk#14858]\n                     :                                                           :                             +- Project [targetId#2088, diseaseId#2170, maxClinPhase#12040, actionType2#11925, __pivot_count(targetId) AS `count(targetId)`#14841[0] AS GoF_protect#14842L, __pivot_count(targetId) AS `count(targetId)`#14841[1] AS LoF_protect#14843L, __pivot_count(targetId) AS `count(targetId)`#14841[2] AS noEvaluable#14844L]\n                     :                                                           :                                +- Aggregate [targetId#2088, diseaseId#2170, maxClinPhase#12040, actionType2#11925], [targetId#2088, diseaseId#2170, maxClinPhase#12040, actionType2#11925, pivotfirst(homogenized#4208, count(targetId)#14833L, GoF_protect, LoF_protect, noEvaluable, 0, 0) AS __pivot_count(targetId) AS `count(targetId)`#14841]\n                     :                                                           :                                   +- Aggregate [targetId#2088, diseaseId#2170, maxClinPhase#12040, actionType2#11925, homogenized#4208], [targetId#2088, diseaseId#2170, maxClinPhase#12040, actionType2#11925, homogenized#4208, count(targetId#2088) AS count(targetId)#14833L]\n                     :                                                           :                                      +- Project [targetId#2088, drugId#2121, datasourceId#2087, alleleOrigins#2089, allelicRequirements#2090, ancestry#2091, ancestryId#2092, beta#2931, betaConfidenceIntervalLower#2094, betaConfidenceIntervalUpper#2095, biologicalModelAllelicComposition#2096, biologicalModelGeneticBackground#2097, biologicalModelId#2098, biomarkerName#2099, biomarkers#2100, biosamplesFromSource#2101, cellType#2102, clinicalPhase#2103, clinicalSignificances#3113, clinicalStatus#2105, cohortDescription#2106, cohortId#2107, cohortPhenotypes#2108, cohortShortName#2109, ... 82 more fields]\n                     :                                                           :                                         +- Project [targetId#2088, drugId#2121, datasourceId#2087, alleleOrigins#2089, allelicRequirements#2090, ancestry#2091, ancestryId#2092, beta#2931, betaConfidenceIntervalLower#2094, betaConfidenceIntervalUpper#2095, biologicalModelAllelicComposition#2096, biologicalModelGeneticBackground#2097, biologicalModelId#2098, biomarkerName#2099, biomarkers#2100, biosamplesFromSource#2101, cellType#2102, clinicalPhase#2103, clinicalSignificances#3113, clinicalStatus#2105, cohortDescription#2106, cohortId#2107, cohortPhenotypes#2108, cohortShortName#2109, ... 83 more fields]\n                     :                                                           :                                            +- Window [max(clinicalPhase#2103) windowspecdefinition(targetId#2088, diseaseId#2170, specifiedwindowframe(RowFrame, unboundedpreceding$(), unboundedfollowing$())) AS maxClinPhase#12040], [targetId#2088, diseaseId#2170]\n                     :                                                           :                                               +- Project [targetId#2088, drugId#2121, datasourceId#2087, alleleOrigins#2089, allelicRequirements#2090, ancestry#2091, ancestryId#2092, beta#2931, betaConfidenceIntervalLower#2094, betaConfidenceIntervalUpper#2095, biologicalModelAllelicComposition#2096, biologicalModelGeneticBackground#2097, biologicalModelId#2098, biomarkerName#2099, biomarkers#2100, biosamplesFromSource#2101, cellType#2102, clinicalPhase#2103, clinicalSignificances#3113, clinicalStatus#2105, cohortDescription#2106, cohortId#2107, cohortPhenotypes#2108, cohortShortName#2109, ... 81 more fields]\n                     :                                                           :                                                  +- Project [targetId#2088, drugId#2121, datasourceId#2087, alleleOrigins#2089, allelicRequirements#2090, ancestry#2091, ancestryId#2092, beta#2931, betaConfidenceIntervalLower#2094, betaConfidenceIntervalUpper#2095, biologicalModelAllelicComposition#2096, biologicalModelGeneticBackground#2097, biologicalModelId#2098, biomarkerName#2099, biomarkers#2100, biosamplesFromSource#2101, cellType#2102, clinicalPhase#2103, clinicalSignificances#3113, clinicalStatus#2105, cohortDescription#2106, cohortId#2107, cohortPhenotypes#2108, cohortShortName#2109, ... 81 more fields]\n                     :                                                           :                                                     +- Join LeftOuter, ((targetId#2088 = targetId#11915) AND (drugId#2121 = drugId#11908))\n                     :                                                           :                                                        :- Filter (datasourceId#2087 = chembl)\n                     :                                                           :                                                        :  +- Project [datasourceId#2087, targetId#2088, alleleOrigins#2089, allelicRequirements#2090, ancestry#2091, ancestryId#2092, beta#2931, betaConfidenceIntervalLower#2094, betaConfidenceIntervalUpper#2095, biologicalModelAllelicComposition#2096, biologicalModelGeneticBackground#2097, biologicalModelId#2098, biomarkerName#2099, biomarkers#2100, biosamplesFromSource#2101, cellType#2102, clinicalPhase#2103, clinicalSignificances#3113, clinicalStatus#2105, cohortDescription#2106, cohortId#2107, cohortPhenotypes#2108, cohortShortName#2109, confidence#2110, ... 79 more fields]\n                     :                                                           :                                                        :     +- Project [datasourceId#2087, targetId#2088, alleleOrigins#2089, allelicRequirements#2090, ancestry#2091, ancestryId#2092, beta#2931, betaConfidenceIntervalLower#2094, betaConfidenceIntervalUpper#2095, biologicalModelAllelicComposition#2096, biologicalModelGeneticBackground#2097, biologicalModelId#2098, biomarkerName#2099, biomarkers#2100, biosamplesFromSource#2101, cellType#2102, clinicalPhase#2103, clinicalSignificances#3113, clinicalStatus#2105, cohortDescription#2106, cohortId#2107, cohortPhenotypes#2108, cohortShortName#2109, confidence#2110, ... 78 more fields]\n                     :                                                           :                                                        :        +- Project [datasourceId#2087, targetId#2088, alleleOrigins#2089, allelicRequirements#2090, ancestry#2091, ancestryId#2092, beta#2931, betaConfidenceIntervalLower#2094, betaConfidenceIntervalUpper#2095, biologicalModelAllelicComposition#2096, biologicalModelGeneticBackground#2097, biologicalModelId#2098, biomarkerName#2099, biomarkers#2100, biosamplesFromSource#2101, cellType#2102, clinicalPhase#2103, clinicalSignificances#3113, clinicalStatus#2105, cohortDescription#2106, cohortId#2107, cohortPhenotypes#2108, cohortShortName#2109, confidence#2110, ... 78 more fields]\n                     :                                                           :                                                        :           +- Project [datasourceId#2087, targetId#2088, alleleOrigins#2089, allelicRequirements#2090, ancestry#2091, ancestryId#2092, beta#2931, betaConfidenceIntervalLower#2094, betaConfidenceIntervalUpper#2095, biologicalModelAllelicComposition#2096, biologicalModelGeneticBackground#2097, biologicalModelId#2098, biomarkerName#2099, biomarkers#2100, biosamplesFromSource#2101, cellType#2102, clinicalPhase#2103, clinicalSignificances#3113, clinicalStatus#2105, cohortDescription#2106, cohortId#2107, cohortPhenotypes#2108, cohortShortName#2109, confidence#2110, ... 78 more fields]\n                     :                                                           :                                                        :              +- Project [datasourceId#2087, targetId#2088, alleleOrigins#2089, allelicRequirements#2090, ancestry#2091, ancestryId#2092, beta#2931, betaConfidenceIntervalLower#2094, betaConfidenceIntervalUpper#2095, biologicalModelAllelicComposition#2096, biologicalModelGeneticBackground#2097, biologicalModelId#2098, biomarkerName#2099, biomarkers#2100, biosamplesFromSource#2101, cellType#2102, clinicalPhase#2103, clinicalSignificances#3113, clinicalStatus#2105, cohortDescription#2106, cohortId#2107, cohortPhenotypes#2108, cohortShortName#2109, confidence#2110, ... 79 more fields]\n                     :                                                           :                                                        :                 +- Window [collect_set(intogen_function#3791, 0, 0) windowspecdefinition(targetId#2088, diseaseId#2170, specifiedwindowframe(RowFrame, unboundedpreceding$(), unboundedfollowing$())) AS _we0#3897], [targetId#2088, diseaseId#2170]\n                     :                                                           :                                                        :                    +- Project [datasourceId#2087, targetId#2088, alleleOrigins#2089, allelicRequirements#2090, ancestry#2091, ancestryId#2092, beta#2931, betaConfidenceIntervalLower#2094, betaConfidenceIntervalUpper#2095, biologicalModelAllelicComposition#2096, biologicalModelGeneticBackground#2097, biologicalModelId#2098, biomarkerName#2099, biomarkers#2100, biosamplesFromSource#2101, cellType#2102, clinicalPhase#2103, clinicalSignificances#3113, clinicalStatus#2105, cohortDescription#2106, cohortId#2107, cohortPhenotypes#2108, cohortShortName#2109, confidence#2110, ... 77 more fields]\n                     :                                                           :                                                        :                       +- Project [datasourceId#2087, targetId#2088, alleleOrigins#2089, allelicRequirements#2090, ancestry#2091, ancestryId#2092, beta#2931, betaConfidenceIntervalLower#2094, betaConfidenceIntervalUpper#2095, biologicalModelAllelicComposition#2096, biologicalModelGeneticBackground#2097, biologicalModelId#2098, biomarkerName#2099, biomarkers#2100, biosamplesFromSource#2101, cellType#2102, clinicalPhase#2103, clinicalSignificances#3113, clinicalStatus#2105, cohortDescription#2106, cohortId#2107, cohortPhenotypes#2108, cohortShortName#2109, confidence#2110, ... 77 more fields]\n                     :                                                           :                                                        :                          +- Project [datasourceId#2087, targetId#2088, alleleOrigins#2089, allelicRequirements#2090, ancestry#2091, ancestryId#2092, beta#2931, betaConfidenceIntervalLower#2094, betaConfidenceIntervalUpper#2095, biologicalModelAllelicComposition#2096, biologicalModelGeneticBackground#2097, biologicalModelId#2098, biomarkerName#2099, biomarkers#2100, biosamplesFromSource#2101, cellType#2102, clinicalPhase#2103, clinicalSignificances#3113, clinicalStatus#2105, cohortDescription#2106, cohortId#2107, cohortPhenotypes#2108, cohortShortName#2109, confidence#2110, ... 76 more fields]\n                     :                                                           :                                                        :                             +- Project [datasourceId#2087, targetId#2088, alleleOrigins#2089, allelicRequirements#2090, ancestry#2091, ancestryId#2092, beta#2931, betaConfidenceIntervalLower#2094, betaConfidenceIntervalUpper#2095, biologicalModelAllelicComposition#2096, biologicalModelGeneticBackground#2097, biologicalModelId#2098, biomarkerName#2099, biomarkers#2100, biosamplesFromSource#2101, cellType#2102, clinicalPhase#2103, clinicalSignificances#3113, clinicalStatus#2105, cohortDescription#2106, cohortId#2107, cohortPhenotypes#2108, cohortShortName#2109, confidence#2110, ... 75 more fields]\n                     :                                                           :                                                        :                                +- Join LeftOuter, ((drugId2#2875 = drugId#2121) AND (targetId2#2882 = targetId#2088))\n                     :                                                           :                                                        :                                   :- Join LeftOuter, (target_id#2925 = targetId#2088)\n                     :                                                           :                                                        :                                   :  :- Project [datasourceId#2087, targetId#2088, alleleOrigins#2089, allelicRequirements#2090, ancestry#2091, ancestryId#2092, beta#2931, betaConfidenceIntervalLower#2094, betaConfidenceIntervalUpper#2095, biologicalModelAllelicComposition#2096, biologicalModelGeneticBackground#2097, biologicalModelId#2098, biomarkerName#2099, biomarkers#2100, biosamplesFromSource#2101, cellType#2102, clinicalPhase#2103, concat_ws(,, clinicalSignificances#2104) AS clinicalSignificances#3113, clinicalStatus#2105, cohortDescription#2106, cohortId#2107, cohortPhenotypes#2108, cohortShortName#2109, confidence#2110, ... 66 more fields]\n                     :                                                           :                                                        :                                   :  :  +- Project [datasourceId#2087, targetId#2088, alleleOrigins#2089, allelicRequirements#2090, ancestry#2091, ancestryId#2092, beta#2931, betaConfidenceIntervalLower#2094, betaConfidenceIntervalUpper#2095, biologicalModelAllelicComposition#2096, biologicalModelGeneticBackground#2097, biologicalModelId#2098, biomarkerName#2099, biomarkers#2100, biosamplesFromSource#2101, cellType#2102, clinicalPhase#2103, clinicalSignificances#2104, clinicalStatus#2105, cohortDescription#2106, cohortId#2107, cohortPhenotypes#2108, cohortShortName#2109, confidence#2110, ... 66 more fields]\n                     :                                                           :                                                        :                                   :  :     +- Project [datasourceId#2087, targetId#2088, alleleOrigins#2089, allelicRequirements#2090, ancestry#2091, ancestryId#2092, cast(beta#2093 as double) AS beta#2931, betaConfidenceIntervalLower#2094, betaConfidenceIntervalUpper#2095, biologicalModelAllelicComposition#2096, biologicalModelGeneticBackground#2097, biologicalModelId#2098, biomarkerName#2099, biomarkers#2100, biosamplesFromSource#2101, cellType#2102, clinicalPhase#2103, clinicalSignificances#2104, clinicalStatus#2105, cohortDescription#2106, cohortId#2107, cohortPhenotypes#2108, cohortShortName#2109, confidence#2110, ... 66 more fields]\n                     :                                                           :                                                        :                                   :  :        +- Project [datasourceId#2087, targetId#2088, alleleOrigins#2089, allelicRequirements#2090, ancestry#2091, ancestryId#2092, beta#2093, betaConfidenceIntervalLower#2094, betaConfidenceIntervalUpper#2095, biologicalModelAllelicComposition#2096, biologicalModelGeneticBackground#2097, biologicalModelId#2098, biomarkerName#2099, biomarkers#2100, biosamplesFromSource#2101, cellType#2102, clinicalPhase#2103, clinicalSignificances#2104, clinicalStatus#2105, cohortDescription#2106, cohortId#2107, cohortPhenotypes#2108, cohortShortName#2109, confidence#2110, ... 66 more fields]\n                     :                                                           :                                                        :                                   :  :           +- Filter datasourceId#2087 IN (gwas_credible_sets,gene_burden,eva,eva_somatic,gene2phenotype,orphanet,cancer_gene_census,intogen,impc,chembl)\n                     :                                                           :                                                        :                                   :  :              +- Relation [datasourceId#2087,targetId#2088,alleleOrigins#2089,allelicRequirements#2090,ancestry#2091,ancestryId#2092,beta#2093,betaConfidenceIntervalLower#2094,betaConfidenceIntervalUpper#2095,biologicalModelAllelicComposition#2096,biologicalModelGeneticBackground#2097,biologicalModelId#2098,biomarkerName#2099,biomarkers#2100,biosamplesFromSource#2101,cellType#2102,clinicalPhase#2103,clinicalSignificances#2104,clinicalStatus#2105,cohortDescription#2106,cohortId#2107,cohortPhenotypes#2108,cohortShortName#2109,confidence#2110,... 65 more fields] parquet\n                     :                                                           :                                                        :                                   :  +- Project [id#2802 AS target_id#2925, approvedSymbol#2803, description#2910, description_splited#2914, TSorOncogene#2919]\n                     :                                                           :                                                        :                                   :     +- Project [id#2802, approvedSymbol#2803, description#2910, description_splited#2914, CASE WHEN (RLIKE(description_splited#2914, ncogene) AND RLIKE(description_splited#2914, TSG)) THEN bivalent WHEN RLIKE(description_splited#2914, ncogene(\\s|$)) THEN oncogene WHEN RLIKE(description_splited#2914, TSG(\\s|$)) THEN TSG ELSE noEvaluable END AS TSorOncogene#2919]\n                     :                                                           :                                                        :                                   :        +- Project [id#2802, approvedSymbol#2803, description#2910, concat_ws(,, description#2910) AS description_splited#2914]\n                     :                                                           :                                                        :                                   :           +- Aggregate [id#2802, approvedSymbol#2803], [id#2802, approvedSymbol#2803, collect_set(description#2902, 0, 0) AS description#2910]\n                     :                                                           :                                                        :                                   :              +- Filter description#2902 IN (TSG,oncogene,Oncogene,oncogene,oncogene,TSG,TSG,oncogene,fusion,oncogene,oncogene,fusion)\n                     :                                                           :                                                        :                                   :                 +- Project [id#2802, approvedSymbol#2803, col#2897.description AS description#2902]\n                     :                                                           :                                                        :                                   :                    +- Project [id#2802, approvedSymbol#2803, col#2897]\n                     :                                                           :                                                        :                                   :                       +- Generate explode(hallmarks#2812.attributes), true, [col#2897]\n                     :                                                           :                                                        :                                   :                          +- Relation [id#2802,approvedSymbol#2803,biotype#2804,transcriptIds#2805,canonicalTranscript#2806,canonicalExons#2807,genomicLocation#2808,alternativeGenes#2809,approvedName#2810,go#2811,hallmarks#2812,synonyms#2813,symbolSynonyms#2814,nameSynonyms#2815,functionDescriptions#2816,subcellularLocations#2817,targetClass#2818,obsoleteSymbols#2819,obsoleteNames#2820,constraint#2821,tep#2822,proteinIds#2823,dbXrefs#2824,chemicalProbes#2825,... 5 more fields] parquet\n                     :                                                           :                                                        :                                   +- Aggregate [targetId2#2882, drugId2#2875], [targetId2#2882, drugId2#2875, collect_set(actionType#2860, 0, 0) AS actionType#2892]\n                     :                                                           :                                                        :                                      +- Project [targetId2#2882, drugId2#2875, actionType#2860, mechanismOfAction#2861]\n                     :                                                           :                                                        :                                         +- Generate explode(targets#2865), true, [targetId2#2882]\n                     :                                                           :                                                        :                                            +- Project [drugId2#2875, actionType#2860, mechanismOfAction#2861, targets#2865]\n                     :                                                           :                                                        :                                               +- Generate explode(chemblIds#2862), true, [drugId2#2875]\n                     :                                                           :                                                        :                                                  +- Relation [actionType#2860,mechanismOfAction#2861,chemblIds#2862,targetName#2863,targetType#2864,targets#2865,references#2866] parquet\n                     :                                                           :                                                        +- Project [targetId#11915, drugId#11908, actionType2#11925, size(actionType2#11925, true) AS nMoA#11929]\n                     :                                                           :                                                           +- Aggregate [targetId#11915, drugId#11908], [targetId#11915, drugId#11908, collect_set(actionType#11893, 0, 0) AS actionType2#11925]\n                     :                                                           :                                                              +- Project [targetId#11915, drugId#11908, actionType#11893, mechanismOfAction#11894]\n                     :                                                           :                                                                 +- Generate explode(targets#11898), true, [targetId#11915]\n                     :                                                           :                                                                    +- Project [drugId#11908, actionType#11893, mechanismOfAction#11894, targets#11898]\n                     :                                                           :                                                                       +- Generate explode(chemblIds#11895), true, [drugId#11908]\n                     :                                                           :                                                                          +- Relation [actionType#11893,mechanismOfAction#11894,chemblIds#11895,targetName#11896,targetType#11897,targets#11898,references#11899] parquet\n                     :                                                           +- Project [biosampleId#1059, biosampleName#1060]\n                     :                                                              +- Relation [biosampleId#1059,biosampleName#1060,description#1061,xrefs#1062,synonyms#1063,parents#1064,ancestors#1065,children#1066,descendants#1067] parquet\n                     +- Project [targetId#18079, diseaseId#18161, stopReason#16867]\n                        +- Project [targetId#18079, diseaseId#18161, count#16863L, Negative AS stopReason#16867]\n                           +- Aggregate [targetId#18079, diseaseId#18161], [targetId#18079, diseaseId#18161, count(1) AS count#16863L]\n                              +- Filter array_contains(studyStopReasonCategories#18143, Negative)\n                                 +- Project [targetId#18079, diseaseId#18161, studyStopReason#18142, studyStopReasonCategories#18143]\n                                    +- Filter (datasourceId#18078 = chembl)\n                                       +- Project [datasourceId#18078, targetId#18079, alleleOrigins#18080, allelicRequirements#18081, ancestry#18082, ancestryId#18083, beta#18084, betaConfidenceIntervalLower#18085, betaConfidenceIntervalUpper#18086, biologicalModelAllelicComposition#18087, biologicalModelGeneticBackground#18088, biologicalModelId#18089, biomarkerName#18090, biomarkers#18091, biosamplesFromSource#18092, cellType#18093, clinicalPhase#18094, clinicalSignificances#18095, clinicalStatus#18096, cohortDescription#18097, cohortId#18098, cohortPhenotypes#18099, cohortShortName#18100, confidence#18101, ... 66 more fields]\n                                          +- Filter datasourceId#18078 IN (gwas_credible_sets,gene_burden,eva,eva_somatic,gene2phenotype,orphanet,cancer_gene_census,intogen,impc,chembl)\n                                             +- Relation [datasourceId#18078,targetId#18079,alleleOrigins#18080,allelicRequirements#18081,ancestry#18082,ancestryId#18083,beta#18084,betaConfidenceIntervalLower#18085,betaConfidenceIntervalUpper#18086,biologicalModelAllelicComposition#18087,biologicalModelGeneticBackground#18088,biologicalModelId#18089,biomarkerName#18090,biomarkers#18091,biosamplesFromSource#18092,cellType#18093,clinicalPhase#18094,clinicalSignificances#18095,clinicalStatus#18096,cohortDescription#18097,cohortId#18098,cohortPhenotypes#18099,cohortShortName#18100,confidence#18101,... 65 more fields] parquet\n",
     "output_type": "error",
     "traceback": [
      "\u001b[0;31m---------------------------------------------------------------------------\u001b[0m",
      "\u001b[0;31mAnalysisException\u001b[0m                         Traceback (most recent call last)",
      "Cell \u001b[0;32mIn[10], line 107\u001b[0m\n\u001b[1;32m     43\u001b[0m transformed_df \u001b[38;5;241m=\u001b[39m transformed_df\u001b[38;5;241m.\u001b[39mwithColumn(\n\u001b[1;32m     44\u001b[0m     \u001b[38;5;124m\"\u001b[39m\u001b[38;5;124marrayN\u001b[39m\u001b[38;5;124m\"\u001b[39m, F\u001b[38;5;241m.\u001b[39marray(\u001b[38;5;241m*\u001b[39m[F\u001b[38;5;241m.\u001b[39mcol(c) \u001b[38;5;28;01mfor\u001b[39;00m c \u001b[38;5;129;01min\u001b[39;00m doe_columns])\n\u001b[1;32m     45\u001b[0m )\u001b[38;5;241m.\u001b[39mwithColumn(\n\u001b[0;32m   (...)\u001b[0m\n\u001b[1;32m     79\u001b[0m     \u001b[38;5;241m.\u001b[39motherwise(F\u001b[38;5;241m.\u001b[39mlit(\u001b[38;5;124m\"\u001b[39m\u001b[38;5;124mother\u001b[39m\u001b[38;5;124m\"\u001b[39m)),\n\u001b[1;32m     80\u001b[0m )\n\u001b[1;32m     82\u001b[0m transformed_df \u001b[38;5;241m=\u001b[39m transformed_df\u001b[38;5;241m.\u001b[39mjoin(negativeTD, on\u001b[38;5;241m=\u001b[39m[\u001b[38;5;124m\"\u001b[39m\u001b[38;5;124mtargetId\u001b[39m\u001b[38;5;124m\"\u001b[39m, \u001b[38;5;124m\"\u001b[39m\u001b[38;5;124mdiseaseId\u001b[39m\u001b[38;5;124m\"\u001b[39m], how\u001b[38;5;241m=\u001b[39m\u001b[38;5;124m\"\u001b[39m\u001b[38;5;124mleft\u001b[39m\u001b[38;5;124m\"\u001b[39m)\n\u001b[1;32m     84\u001b[0m transformed_df \u001b[38;5;241m=\u001b[39m \u001b[43mtransformed_df\u001b[49m\u001b[38;5;241;43m.\u001b[39;49m\u001b[43mwithColumn\u001b[49m\u001b[43m(\u001b[49m\n\u001b[1;32m     85\u001b[0m \u001b[43m    \u001b[49m\u001b[38;5;124;43m\"\u001b[39;49m\u001b[38;5;124;43mPhaseT\u001b[39;49m\u001b[38;5;124;43m\"\u001b[39;49m\u001b[43m,\u001b[49m\n\u001b[1;32m     86\u001b[0m \u001b[43m    \u001b[49m\u001b[43mF\u001b[49m\u001b[38;5;241;43m.\u001b[39;49m\u001b[43mwhen\u001b[49m\u001b[43m(\u001b[49m\u001b[43mF\u001b[49m\u001b[38;5;241;43m.\u001b[39;49m\u001b[43mcol\u001b[49m\u001b[43m(\u001b[49m\u001b[38;5;124;43m\"\u001b[39;49m\u001b[38;5;124;43mstopReason\u001b[39;49m\u001b[38;5;124;43m\"\u001b[39;49m\u001b[43m)\u001b[49m\u001b[43m \u001b[49m\u001b[38;5;241;43m==\u001b[39;49m\u001b[43m \u001b[49m\u001b[38;5;124;43m\"\u001b[39;49m\u001b[38;5;124;43mNegative\u001b[39;49m\u001b[38;5;124;43m\"\u001b[39;49m\u001b[43m,\u001b[49m\u001b[43m \u001b[49m\u001b[43mF\u001b[49m\u001b[38;5;241;43m.\u001b[39;49m\u001b[43mlit\u001b[49m\u001b[43m(\u001b[49m\u001b[38;5;124;43m\"\u001b[39;49m\u001b[38;5;124;43myes\u001b[39;49m\u001b[38;5;124;43m\"\u001b[39;49m\u001b[43m)\u001b[49m\u001b[43m)\u001b[49m\u001b[38;5;241;43m.\u001b[39;49m\u001b[43motherwise\u001b[49m\u001b[43m(\u001b[49m\u001b[43mF\u001b[49m\u001b[38;5;241;43m.\u001b[39;49m\u001b[43mlit\u001b[49m\u001b[43m(\u001b[49m\u001b[38;5;124;43m\"\u001b[39;49m\u001b[38;5;124;43mno\u001b[39;49m\u001b[38;5;124;43m\"\u001b[39;49m\u001b[43m)\u001b[49m\u001b[43m)\u001b[49m\u001b[43m,\u001b[49m\n\u001b[1;32m     87\u001b[0m \u001b[43m)\u001b[49m\u001b[38;5;241;43m.\u001b[39;49m\u001b[43mwithColumn\u001b[49m\u001b[43m(\u001b[49m\n\u001b[1;32m     88\u001b[0m \u001b[43m    \u001b[49m\u001b[38;5;124;43m\"\u001b[39;49m\u001b[38;5;124;43mphase4Clean\u001b[39;49m\u001b[38;5;124;43m\"\u001b[39;49m\u001b[43m,\u001b[49m\n\u001b[1;32m     89\u001b[0m \u001b[43m    \u001b[49m\u001b[43mF\u001b[49m\u001b[38;5;241;43m.\u001b[39;49m\u001b[43mwhen\u001b[49m\u001b[43m(\u001b[49m\n\u001b[1;32m     90\u001b[0m \u001b[43m        \u001b[49m\u001b[43m(\u001b[49m\u001b[43mF\u001b[49m\u001b[38;5;241;43m.\u001b[39;49m\u001b[43mcol\u001b[49m\u001b[43m(\u001b[49m\u001b[38;5;124;43m\"\u001b[39;49m\u001b[38;5;124;43mmaxClinPhase\u001b[39;49m\u001b[38;5;124;43m\"\u001b[39;49m\u001b[43m)\u001b[49m\u001b[43m \u001b[49m\u001b[38;5;241;43m==\u001b[39;49m\u001b[43m \u001b[49m\u001b[38;5;241;43m4\u001b[39;49m\u001b[43m)\u001b[49m\u001b[43m \u001b[49m\u001b[38;5;241;43m&\u001b[39;49m\u001b[43m \u001b[49m\u001b[43m(\u001b[49m\u001b[43mF\u001b[49m\u001b[38;5;241;43m.\u001b[39;49m\u001b[43mcol\u001b[49m\u001b[43m(\u001b[49m\u001b[38;5;124;43m\"\u001b[39;49m\u001b[38;5;124;43mPhaseT\u001b[39;49m\u001b[38;5;124;43m\"\u001b[39;49m\u001b[43m)\u001b[49m\u001b[43m \u001b[49m\u001b[38;5;241;43m==\u001b[39;49m\u001b[43m \u001b[49m\u001b[38;5;124;43m\"\u001b[39;49m\u001b[38;5;124;43mno\u001b[39;49m\u001b[38;5;124;43m\"\u001b[39;49m\u001b[43m)\u001b[49m\u001b[43m,\u001b[49m\u001b[43m \u001b[49m\u001b[43mF\u001b[49m\u001b[38;5;241;43m.\u001b[39;49m\u001b[43mlit\u001b[49m\u001b[43m(\u001b[49m\u001b[38;5;124;43m\"\u001b[39;49m\u001b[38;5;124;43myes\u001b[39;49m\u001b[38;5;124;43m\"\u001b[39;49m\u001b[43m)\u001b[49m\n\u001b[1;32m     91\u001b[0m \u001b[43m    \u001b[49m\u001b[43m)\u001b[49m\u001b[38;5;241;43m.\u001b[39;49m\u001b[43motherwise\u001b[49m\u001b[43m(\u001b[49m\u001b[43mF\u001b[49m\u001b[38;5;241;43m.\u001b[39;49m\u001b[43mlit\u001b[49m\u001b[43m(\u001b[49m\u001b[38;5;124;43m\"\u001b[39;49m\u001b[38;5;124;43mno\u001b[39;49m\u001b[38;5;124;43m\"\u001b[39;49m\u001b[43m)\u001b[49m\u001b[43m)\u001b[49m\u001b[43m,\u001b[49m\n\u001b[1;32m     92\u001b[0m \u001b[43m)\u001b[49m\u001b[38;5;241;43m.\u001b[39;49m\u001b[43mwithColumn\u001b[49m\u001b[43m(\u001b[49m\n\u001b[1;32m     93\u001b[0m \u001b[43m    \u001b[49m\u001b[38;5;124;43m\"\u001b[39;49m\u001b[38;5;124;43mphase3Clean\u001b[39;49m\u001b[38;5;124;43m\"\u001b[39;49m\u001b[43m,\u001b[49m\n\u001b[1;32m     94\u001b[0m \u001b[43m    \u001b[49m\u001b[43mF\u001b[49m\u001b[38;5;241;43m.\u001b[39;49m\u001b[43mwhen\u001b[49m\u001b[43m(\u001b[49m\n\u001b[1;32m     95\u001b[0m \u001b[43m        \u001b[49m\u001b[43m(\u001b[49m\u001b[43mF\u001b[49m\u001b[38;5;241;43m.\u001b[39;49m\u001b[43mcol\u001b[49m\u001b[43m(\u001b[49m\u001b[38;5;124;43m\"\u001b[39;49m\u001b[38;5;124;43mmaxClinPhase\u001b[39;49m\u001b[38;5;124;43m\"\u001b[39;49m\u001b[43m)\u001b[49m\u001b[43m \u001b[49m\u001b[38;5;241;43m>\u001b[39;49m\u001b[38;5;241;43m=\u001b[39;49m\u001b[43m \u001b[49m\u001b[38;5;241;43m3\u001b[39;49m\u001b[43m)\u001b[49m\u001b[43m \u001b[49m\u001b[38;5;241;43m&\u001b[39;49m\u001b[43m \u001b[49m\u001b[43m(\u001b[49m\u001b[43mF\u001b[49m\u001b[38;5;241;43m.\u001b[39;49m\u001b[43mcol\u001b[49m\u001b[43m(\u001b[49m\u001b[38;5;124;43m\"\u001b[39;49m\u001b[38;5;124;43mPhaseT\u001b[39;49m\u001b[38;5;124;43m\"\u001b[39;49m\u001b[43m)\u001b[49m\u001b[43m \u001b[49m\u001b[38;5;241;43m==\u001b[39;49m\u001b[43m \u001b[49m\u001b[38;5;124;43m\"\u001b[39;49m\u001b[38;5;124;43mno\u001b[39;49m\u001b[38;5;124;43m\"\u001b[39;49m\u001b[43m)\u001b[49m\u001b[43m,\u001b[49m\u001b[43m \u001b[49m\u001b[43mF\u001b[49m\u001b[38;5;241;43m.\u001b[39;49m\u001b[43mlit\u001b[49m\u001b[43m(\u001b[49m\u001b[38;5;124;43m\"\u001b[39;49m\u001b[38;5;124;43myes\u001b[39;49m\u001b[38;5;124;43m\"\u001b[39;49m\u001b[43m)\u001b[49m\n\u001b[1;32m     96\u001b[0m \u001b[43m    \u001b[49m\u001b[43m)\u001b[49m\u001b[38;5;241;43m.\u001b[39;49m\u001b[43motherwise\u001b[49m\u001b[43m(\u001b[49m\u001b[43mF\u001b[49m\u001b[38;5;241;43m.\u001b[39;49m\u001b[43mlit\u001b[49m\u001b[43m(\u001b[49m\u001b[38;5;124;43m\"\u001b[39;49m\u001b[38;5;124;43mno\u001b[39;49m\u001b[38;5;124;43m\"\u001b[39;49m\u001b[43m)\u001b[49m\u001b[43m)\u001b[49m\u001b[43m,\u001b[49m\n\u001b[1;32m     97\u001b[0m \u001b[43m)\u001b[49m\u001b[38;5;241;43m.\u001b[39;49m\u001b[43mwithColumn\u001b[49m\u001b[43m(\u001b[49m\n\u001b[1;32m     98\u001b[0m \u001b[43m    \u001b[49m\u001b[38;5;124;43m\"\u001b[39;49m\u001b[38;5;124;43mphase2Clean\u001b[39;49m\u001b[38;5;124;43m\"\u001b[39;49m\u001b[43m,\u001b[49m\n\u001b[1;32m     99\u001b[0m \u001b[43m    \u001b[49m\u001b[43mF\u001b[49m\u001b[38;5;241;43m.\u001b[39;49m\u001b[43mwhen\u001b[49m\u001b[43m(\u001b[49m\n\u001b[1;32m    100\u001b[0m \u001b[43m        \u001b[49m\u001b[43m(\u001b[49m\u001b[43mF\u001b[49m\u001b[38;5;241;43m.\u001b[39;49m\u001b[43mcol\u001b[49m\u001b[43m(\u001b[49m\u001b[38;5;124;43m\"\u001b[39;49m\u001b[38;5;124;43mmaxClinPhase\u001b[39;49m\u001b[38;5;124;43m\"\u001b[39;49m\u001b[43m)\u001b[49m\u001b[43m \u001b[49m\u001b[38;5;241;43m>\u001b[39;49m\u001b[38;5;241;43m=\u001b[39;49m\u001b[43m \u001b[49m\u001b[38;5;241;43m2\u001b[39;49m\u001b[43m)\u001b[49m\u001b[43m \u001b[49m\u001b[38;5;241;43m&\u001b[39;49m\u001b[43m \u001b[49m\u001b[43m(\u001b[49m\u001b[43mF\u001b[49m\u001b[38;5;241;43m.\u001b[39;49m\u001b[43mcol\u001b[49m\u001b[43m(\u001b[49m\u001b[38;5;124;43m\"\u001b[39;49m\u001b[38;5;124;43mPhaseT\u001b[39;49m\u001b[38;5;124;43m\"\u001b[39;49m\u001b[43m)\u001b[49m\u001b[43m \u001b[49m\u001b[38;5;241;43m==\u001b[39;49m\u001b[43m \u001b[49m\u001b[38;5;124;43m\"\u001b[39;49m\u001b[38;5;124;43mno\u001b[39;49m\u001b[38;5;124;43m\"\u001b[39;49m\u001b[43m)\u001b[49m\u001b[43m,\u001b[49m\u001b[43m \u001b[49m\u001b[43mF\u001b[49m\u001b[38;5;241;43m.\u001b[39;49m\u001b[43mlit\u001b[49m\u001b[43m(\u001b[49m\u001b[38;5;124;43m\"\u001b[39;49m\u001b[38;5;124;43myes\u001b[39;49m\u001b[38;5;124;43m\"\u001b[39;49m\u001b[43m)\u001b[49m\n\u001b[1;32m    101\u001b[0m \u001b[43m    \u001b[49m\u001b[43m)\u001b[49m\u001b[38;5;241;43m.\u001b[39;49m\u001b[43motherwise\u001b[49m\u001b[43m(\u001b[49m\u001b[43mF\u001b[49m\u001b[38;5;241;43m.\u001b[39;49m\u001b[43mlit\u001b[49m\u001b[43m(\u001b[49m\u001b[38;5;124;43m\"\u001b[39;49m\u001b[38;5;124;43mno\u001b[39;49m\u001b[38;5;124;43m\"\u001b[39;49m\u001b[43m)\u001b[49m\u001b[43m)\u001b[49m\u001b[43m,\u001b[49m\n\u001b[1;32m    102\u001b[0m \u001b[43m)\u001b[49m\u001b[38;5;241;43m.\u001b[39;49m\u001b[43mwithColumn\u001b[49m\u001b[43m(\u001b[49m\n\u001b[1;32m    103\u001b[0m \u001b[43m    \u001b[49m\u001b[38;5;124;43m\"\u001b[39;49m\u001b[38;5;124;43mphase1Clean\u001b[39;49m\u001b[38;5;124;43m\"\u001b[39;49m\u001b[43m,\u001b[49m\n\u001b[1;32m    104\u001b[0m \u001b[43m    \u001b[49m\u001b[43mF\u001b[49m\u001b[38;5;241;43m.\u001b[39;49m\u001b[43mwhen\u001b[49m\u001b[43m(\u001b[49m\n\u001b[1;32m    105\u001b[0m \u001b[43m        \u001b[49m\u001b[43m(\u001b[49m\u001b[43mF\u001b[49m\u001b[38;5;241;43m.\u001b[39;49m\u001b[43mcol\u001b[49m\u001b[43m(\u001b[49m\u001b[38;5;124;43m\"\u001b[39;49m\u001b[38;5;124;43mmaxClinPhase\u001b[39;49m\u001b[38;5;124;43m\"\u001b[39;49m\u001b[43m)\u001b[49m\u001b[43m \u001b[49m\u001b[38;5;241;43m>\u001b[39;49m\u001b[38;5;241;43m=\u001b[39;49m\u001b[43m \u001b[49m\u001b[38;5;241;43m1\u001b[39;49m\u001b[43m)\u001b[49m\u001b[43m \u001b[49m\u001b[38;5;241;43m&\u001b[39;49m\u001b[43m \u001b[49m\u001b[43m(\u001b[49m\u001b[43mF\u001b[49m\u001b[38;5;241;43m.\u001b[39;49m\u001b[43mcol\u001b[49m\u001b[43m(\u001b[49m\u001b[38;5;124;43m\"\u001b[39;49m\u001b[38;5;124;43mPhaseT\u001b[39;49m\u001b[38;5;124;43m\"\u001b[39;49m\u001b[43m)\u001b[49m\u001b[43m \u001b[49m\u001b[38;5;241;43m==\u001b[39;49m\u001b[43m \u001b[49m\u001b[38;5;124;43m\"\u001b[39;49m\u001b[38;5;124;43mno\u001b[39;49m\u001b[38;5;124;43m\"\u001b[39;49m\u001b[43m)\u001b[49m\u001b[43m,\u001b[49m\u001b[43m \u001b[49m\u001b[43mF\u001b[49m\u001b[38;5;241;43m.\u001b[39;49m\u001b[43mlit\u001b[49m\u001b[43m(\u001b[49m\u001b[38;5;124;43m\"\u001b[39;49m\u001b[38;5;124;43myes\u001b[39;49m\u001b[38;5;124;43m\"\u001b[39;49m\u001b[43m)\u001b[49m\n\u001b[1;32m    106\u001b[0m \u001b[43m    \u001b[49m\u001b[43m)\u001b[49m\u001b[38;5;241;43m.\u001b[39;49m\u001b[43motherwise\u001b[49m\u001b[43m(\u001b[49m\u001b[43mF\u001b[49m\u001b[38;5;241;43m.\u001b[39;49m\u001b[43mlit\u001b[49m\u001b[43m(\u001b[49m\u001b[38;5;124;43m\"\u001b[39;49m\u001b[38;5;124;43mno\u001b[39;49m\u001b[38;5;124;43m\"\u001b[39;49m\u001b[43m)\u001b[49m\u001b[43m)\u001b[49m\u001b[43m,\u001b[49m\n\u001b[0;32m--> 107\u001b[0m \u001b[43m)\u001b[49m\u001b[38;5;241;43m.\u001b[39;49m\u001b[43mwithColumn\u001b[49m\u001b[43m(\u001b[49m\n\u001b[1;32m    108\u001b[0m \u001b[43m    \u001b[49m\u001b[38;5;124;43m\"\u001b[39;49m\u001b[38;5;124;43mhasGenetics\u001b[39;49m\u001b[38;5;124;43m\"\u001b[39;49m\u001b[43m,\u001b[49m\n\u001b[1;32m    109\u001b[0m \u001b[43m    \u001b[49m\u001b[43mF\u001b[49m\u001b[38;5;241;43m.\u001b[39;49m\u001b[43mwhen\u001b[49m\u001b[43m(\u001b[49m\u001b[43mF\u001b[49m\u001b[38;5;241;43m.\u001b[39;49m\u001b[43mcol\u001b[49m\u001b[43m(\u001b[49m\u001b[38;5;124;43m\"\u001b[39;49m\u001b[38;5;124;43mcoherencyDiagonal\u001b[39;49m\u001b[38;5;124;43m\"\u001b[39;49m\u001b[43m)\u001b[49m\u001b[43m \u001b[49m\u001b[38;5;241;43m!=\u001b[39;49m\u001b[43m \u001b[49m\u001b[38;5;124;43m\"\u001b[39;49m\u001b[38;5;124;43mnoEvid\u001b[39;49m\u001b[38;5;124;43m\"\u001b[39;49m\u001b[43m,\u001b[49m\u001b[43m \u001b[49m\u001b[43mF\u001b[49m\u001b[38;5;241;43m.\u001b[39;49m\u001b[43mlit\u001b[49m\u001b[43m(\u001b[49m\u001b[38;5;124;43m\"\u001b[39;49m\u001b[38;5;124;43myes\u001b[39;49m\u001b[38;5;124;43m\"\u001b[39;49m\u001b[43m)\u001b[49m\u001b[43m)\u001b[49m\u001b[38;5;241;43m.\u001b[39;49m\u001b[43motherwise\u001b[49m\u001b[43m(\u001b[49m\u001b[43mF\u001b[49m\u001b[38;5;241;43m.\u001b[39;49m\u001b[43mlit\u001b[49m\u001b[43m(\u001b[49m\u001b[38;5;124;43m\"\u001b[39;49m\u001b[38;5;124;43mno\u001b[39;49m\u001b[38;5;124;43m\"\u001b[39;49m\u001b[43m)\u001b[49m\u001b[43m)\u001b[49m\u001b[43m,\u001b[49m\n\u001b[1;32m    110\u001b[0m \u001b[43m)\u001b[49m\n\u001b[1;32m    113\u001b[0m base_df_for_unpivot \u001b[38;5;241m=\u001b[39m transformed_df\u001b[38;5;241m.\u001b[39mselect(\n\u001b[1;32m    114\u001b[0m     \u001b[38;5;241m*\u001b[39mgroup_by_columns,\n\u001b[1;32m    115\u001b[0m     \u001b[38;5;241m*\u001b[39mcolumns_to_pivot_on,\n\u001b[1;32m    116\u001b[0m     \u001b[38;5;241m*\u001b[39mcolumns_to_aggregate\n\u001b[1;32m    117\u001b[0m )\n\u001b[1;32m    119\u001b[0m pivot_col_expressions \u001b[38;5;241m=\u001b[39m [F\u001b[38;5;241m.\u001b[39mstruct(F\u001b[38;5;241m.\u001b[39mlit(col)\u001b[38;5;241m.\u001b[39malias(\u001b[38;5;124m\"\u001b[39m\u001b[38;5;124mpivot_col_name\u001b[39m\u001b[38;5;124m\"\u001b[39m), F\u001b[38;5;241m.\u001b[39mcol(col)\u001b[38;5;241m.\u001b[39malias(\u001b[38;5;124m\"\u001b[39m\u001b[38;5;124mpivot_col_value\u001b[39m\u001b[38;5;124m\"\u001b[39m)) \u001b[38;5;28;01mfor\u001b[39;00m col \u001b[38;5;129;01min\u001b[39;00m columns_to_pivot_on]\n",
      "File \u001b[0;32m/usr/lib/spark/python/pyspark/sql/dataframe.py:5176\u001b[0m, in \u001b[0;36mDataFrame.withColumn\u001b[0;34m(self, colName, col)\u001b[0m\n\u001b[1;32m   5171\u001b[0m \u001b[38;5;28;01mif\u001b[39;00m \u001b[38;5;129;01mnot\u001b[39;00m \u001b[38;5;28misinstance\u001b[39m(col, Column):\n\u001b[1;32m   5172\u001b[0m     \u001b[38;5;28;01mraise\u001b[39;00m PySparkTypeError(\n\u001b[1;32m   5173\u001b[0m         error_class\u001b[38;5;241m=\u001b[39m\u001b[38;5;124m\"\u001b[39m\u001b[38;5;124mNOT_COLUMN\u001b[39m\u001b[38;5;124m\"\u001b[39m,\n\u001b[1;32m   5174\u001b[0m         message_parameters\u001b[38;5;241m=\u001b[39m{\u001b[38;5;124m\"\u001b[39m\u001b[38;5;124marg_name\u001b[39m\u001b[38;5;124m\"\u001b[39m: \u001b[38;5;124m\"\u001b[39m\u001b[38;5;124mcol\u001b[39m\u001b[38;5;124m\"\u001b[39m, \u001b[38;5;124m\"\u001b[39m\u001b[38;5;124marg_type\u001b[39m\u001b[38;5;124m\"\u001b[39m: \u001b[38;5;28mtype\u001b[39m(col)\u001b[38;5;241m.\u001b[39m\u001b[38;5;18m__name__\u001b[39m},\n\u001b[1;32m   5175\u001b[0m     )\n\u001b[0;32m-> 5176\u001b[0m \u001b[38;5;28;01mreturn\u001b[39;00m DataFrame(\u001b[38;5;28;43mself\u001b[39;49m\u001b[38;5;241;43m.\u001b[39;49m\u001b[43m_jdf\u001b[49m\u001b[38;5;241;43m.\u001b[39;49m\u001b[43mwithColumn\u001b[49m\u001b[43m(\u001b[49m\u001b[43mcolName\u001b[49m\u001b[43m,\u001b[49m\u001b[43m \u001b[49m\u001b[43mcol\u001b[49m\u001b[38;5;241;43m.\u001b[39;49m\u001b[43m_jc\u001b[49m\u001b[43m)\u001b[49m, \u001b[38;5;28mself\u001b[39m\u001b[38;5;241m.\u001b[39msparkSession)\n",
      "File \u001b[0;32m/usr/lib/spark/python/lib/py4j-0.10.9.7-src.zip/py4j/java_gateway.py:1322\u001b[0m, in \u001b[0;36mJavaMember.__call__\u001b[0;34m(self, *args)\u001b[0m\n\u001b[1;32m   1316\u001b[0m command \u001b[38;5;241m=\u001b[39m proto\u001b[38;5;241m.\u001b[39mCALL_COMMAND_NAME \u001b[38;5;241m+\u001b[39m\\\n\u001b[1;32m   1317\u001b[0m     \u001b[38;5;28mself\u001b[39m\u001b[38;5;241m.\u001b[39mcommand_header \u001b[38;5;241m+\u001b[39m\\\n\u001b[1;32m   1318\u001b[0m     args_command \u001b[38;5;241m+\u001b[39m\\\n\u001b[1;32m   1319\u001b[0m     proto\u001b[38;5;241m.\u001b[39mEND_COMMAND_PART\n\u001b[1;32m   1321\u001b[0m answer \u001b[38;5;241m=\u001b[39m \u001b[38;5;28mself\u001b[39m\u001b[38;5;241m.\u001b[39mgateway_client\u001b[38;5;241m.\u001b[39msend_command(command)\n\u001b[0;32m-> 1322\u001b[0m return_value \u001b[38;5;241m=\u001b[39m \u001b[43mget_return_value\u001b[49m\u001b[43m(\u001b[49m\n\u001b[1;32m   1323\u001b[0m \u001b[43m    \u001b[49m\u001b[43manswer\u001b[49m\u001b[43m,\u001b[49m\u001b[43m \u001b[49m\u001b[38;5;28;43mself\u001b[39;49m\u001b[38;5;241;43m.\u001b[39;49m\u001b[43mgateway_client\u001b[49m\u001b[43m,\u001b[49m\u001b[43m \u001b[49m\u001b[38;5;28;43mself\u001b[39;49m\u001b[38;5;241;43m.\u001b[39;49m\u001b[43mtarget_id\u001b[49m\u001b[43m,\u001b[49m\u001b[43m \u001b[49m\u001b[38;5;28;43mself\u001b[39;49m\u001b[38;5;241;43m.\u001b[39;49m\u001b[43mname\u001b[49m\u001b[43m)\u001b[49m\n\u001b[1;32m   1325\u001b[0m \u001b[38;5;28;01mfor\u001b[39;00m temp_arg \u001b[38;5;129;01min\u001b[39;00m temp_args:\n\u001b[1;32m   1326\u001b[0m     \u001b[38;5;28;01mif\u001b[39;00m \u001b[38;5;28mhasattr\u001b[39m(temp_arg, \u001b[38;5;124m\"\u001b[39m\u001b[38;5;124m_detach\u001b[39m\u001b[38;5;124m\"\u001b[39m):\n",
      "File \u001b[0;32m/usr/lib/spark/python/pyspark/errors/exceptions/captured.py:185\u001b[0m, in \u001b[0;36mcapture_sql_exception.<locals>.deco\u001b[0;34m(*a, **kw)\u001b[0m\n\u001b[1;32m    181\u001b[0m converted \u001b[38;5;241m=\u001b[39m convert_exception(e\u001b[38;5;241m.\u001b[39mjava_exception)\n\u001b[1;32m    182\u001b[0m \u001b[38;5;28;01mif\u001b[39;00m \u001b[38;5;129;01mnot\u001b[39;00m \u001b[38;5;28misinstance\u001b[39m(converted, UnknownException):\n\u001b[1;32m    183\u001b[0m     \u001b[38;5;66;03m# Hide where the exception came from that shows a non-Pythonic\u001b[39;00m\n\u001b[1;32m    184\u001b[0m     \u001b[38;5;66;03m# JVM exception message.\u001b[39;00m\n\u001b[0;32m--> 185\u001b[0m     \u001b[38;5;28;01mraise\u001b[39;00m converted \u001b[38;5;28;01mfrom\u001b[39;00m\u001b[38;5;250m \u001b[39m\u001b[38;5;28;01mNone\u001b[39;00m\n\u001b[1;32m    186\u001b[0m \u001b[38;5;28;01melse\u001b[39;00m:\n\u001b[1;32m    187\u001b[0m     \u001b[38;5;28;01mraise\u001b[39;00m\n",
      "\u001b[0;31mAnalysisException\u001b[0m: [UNRESOLVED_COLUMN.WITH_SUGGESTION] A column or function parameter with name `coherencyDiagonal` cannot be resolved. Did you mean one of the following? [`phase1Clean`, `phase2Clean`, `phase3Clean`, `phase4Clean`, `NdiagonalYes`].;\n'Project [targetId#2088, diseaseId#2170, maxClinPhase#17918, LoF_protect_ch#17919L, GoF_protect_ch#17920L, actionType2#16878, biosampleName#1060, projectId#975, rightStudyType#1080, colocalisationMethod#1083, null#17921L, GoF_protect#17922L, GoF_risk#17923L, LoF_protect#17924L, LoF_risk#17925L, arrayN#17941, maxDoE#17958L, maxDoE_names#17995, NoneCellYes#18015, NdiagonalYes#18035, drugCoherency#18056, stopReason#16867, PhaseT#18190, phase4Clean#18214, ... 4 more fields]\n+- Project [targetId#2088, diseaseId#2170, maxClinPhase#17918, LoF_protect_ch#17919L, GoF_protect_ch#17920L, actionType2#16878, biosampleName#1060, projectId#975, rightStudyType#1080, colocalisationMethod#1083, null#17921L, GoF_protect#17922L, GoF_risk#17923L, LoF_protect#17924L, LoF_risk#17925L, arrayN#17941, maxDoE#17958L, maxDoE_names#17995, NoneCellYes#18015, NdiagonalYes#18035, drugCoherency#18056, stopReason#16867, PhaseT#18190, phase4Clean#18214, ... 3 more fields]\n   +- Project [targetId#2088, diseaseId#2170, maxClinPhase#17918, LoF_protect_ch#17919L, GoF_protect_ch#17920L, actionType2#16878, biosampleName#1060, projectId#975, rightStudyType#1080, colocalisationMethod#1083, null#17921L, GoF_protect#17922L, GoF_risk#17923L, LoF_protect#17924L, LoF_risk#17925L, arrayN#17941, maxDoE#17958L, maxDoE_names#17995, NoneCellYes#18015, NdiagonalYes#18035, drugCoherency#18056, stopReason#16867, PhaseT#18190, phase4Clean#18214, ... 2 more fields]\n      +- Project [targetId#2088, diseaseId#2170, maxClinPhase#17918, LoF_protect_ch#17919L, GoF_protect_ch#17920L, actionType2#16878, biosampleName#1060, projectId#975, rightStudyType#1080, colocalisationMethod#1083, null#17921L, GoF_protect#17922L, GoF_risk#17923L, LoF_protect#17924L, LoF_risk#17925L, arrayN#17941, maxDoE#17958L, maxDoE_names#17995, NoneCellYes#18015, NdiagonalYes#18035, drugCoherency#18056, stopReason#16867, PhaseT#18190, phase4Clean#18214, CASE WHEN ((maxClinPhase#17918 >= cast(3 as double)) AND (PhaseT#18190 = no)) THEN yes ELSE no END AS phase3Clean#18239]\n         +- Project [targetId#2088, diseaseId#2170, maxClinPhase#17918, LoF_protect_ch#17919L, GoF_protect_ch#17920L, actionType2#16878, biosampleName#1060, projectId#975, rightStudyType#1080, colocalisationMethod#1083, null#17921L, GoF_protect#17922L, GoF_risk#17923L, LoF_protect#17924L, LoF_risk#17925L, arrayN#17941, maxDoE#17958L, maxDoE_names#17995, NoneCellYes#18015, NdiagonalYes#18035, drugCoherency#18056, stopReason#16867, PhaseT#18190, CASE WHEN ((maxClinPhase#17918 = cast(4 as double)) AND (PhaseT#18190 = no)) THEN yes ELSE no END AS phase4Clean#18214]\n            +- Project [targetId#2088, diseaseId#2170, maxClinPhase#17918, LoF_protect_ch#17919L, GoF_protect_ch#17920L, actionType2#16878, biosampleName#1060, projectId#975, rightStudyType#1080, colocalisationMethod#1083, null#17921L, GoF_protect#17922L, GoF_risk#17923L, LoF_protect#17924L, LoF_risk#17925L, arrayN#17941, maxDoE#17958L, maxDoE_names#17995, NoneCellYes#18015, NdiagonalYes#18035, drugCoherency#18056, stopReason#16867, CASE WHEN (stopReason#16867 = Negative) THEN yes ELSE no END AS PhaseT#18190]\n               +- Project [targetId#2088, diseaseId#2170, maxClinPhase#17918, LoF_protect_ch#17919L, GoF_protect_ch#17920L, actionType2#16878, biosampleName#1060, projectId#975, rightStudyType#1080, colocalisationMethod#1083, null#17921L, GoF_protect#17922L, GoF_risk#17923L, LoF_protect#17924L, LoF_risk#17925L, arrayN#17941, maxDoE#17958L, maxDoE_names#17995, NoneCellYes#18015, NdiagonalYes#18035, drugCoherency#18056, stopReason#16867]\n                  +- Join LeftOuter, ((targetId#2088 = targetId#18079) AND (diseaseId#2170 = diseaseId#18161))\n                     :- Project [targetId#2088, diseaseId#2170, maxClinPhase#17918, LoF_protect_ch#17919L, GoF_protect_ch#17920L, actionType2#16878, biosampleName#1060, projectId#975, rightStudyType#1080, colocalisationMethod#1083, null#17921L, GoF_protect#17922L, GoF_risk#17923L, LoF_protect#17924L, LoF_risk#17925L, arrayN#17941, maxDoE#17958L, maxDoE_names#17995, NoneCellYes#18015, NdiagonalYes#18035, CASE WHEN (isnotnull(LoF_protect_ch#17919L) AND isnull(GoF_protect_ch#17920L)) THEN coherent WHEN (isnull(LoF_protect_ch#17919L) AND isnotnull(GoF_protect_ch#17920L)) THEN coherent WHEN (isnotnull(LoF_protect_ch#17919L) AND isnotnull(GoF_protect_ch#17920L)) THEN dispar ELSE other END AS drugCoherency#18056]\n                     :  +- Project [targetId#2088, diseaseId#2170, maxClinPhase#17918, LoF_protect_ch#17919L, GoF_protect_ch#17920L, actionType2#16878, biosampleName#1060, projectId#975, rightStudyType#1080, colocalisationMethod#1083, null#17921L, GoF_protect#17922L, GoF_risk#17923L, LoF_protect#17924L, LoF_risk#17925L, arrayN#17941, maxDoE#17958L, maxDoE_names#17995, NoneCellYes#18015, CASE WHEN ((isnotnull(LoF_protect_ch#17919L) AND isnull(GoF_protect_ch#17920L)) AND (size(array_intersect(maxDoE_names#17995, array(LoF_protect, GoF_risk)), true) > 0)) THEN yes WHEN ((isnotnull(GoF_protect_ch#17920L) AND isnull(LoF_protect_ch#17919L)) AND (size(array_intersect(maxDoE_names#17995, array(LoF_risk, GoF_protect)), true) > 0)) THEN yes ELSE no END AS NdiagonalYes#18035]\n                     :     +- Project [targetId#2088, diseaseId#2170, maxClinPhase#17918, LoF_protect_ch#17919L, GoF_protect_ch#17920L, actionType2#16878, biosampleName#1060, projectId#975, rightStudyType#1080, colocalisationMethod#1083, null#17921L, GoF_protect#17922L, GoF_risk#17923L, LoF_protect#17924L, LoF_risk#17925L, arrayN#17941, maxDoE#17958L, maxDoE_names#17995, CASE WHEN (((isnotnull(LoF_protect_ch#17919L) AND isnull(GoF_protect_ch#17920L)) AND array_contains(maxDoE_names#17995, LoF_protect)) = true) THEN yes WHEN (((isnotnull(GoF_protect_ch#17920L) AND isnull(LoF_protect_ch#17919L)) AND array_contains(maxDoE_names#17995, GoF_protect)) = true) THEN yes ELSE no END AS NoneCellYes#18015]\n                     :        +- Project [targetId#2088, diseaseId#2170, maxClinPhase#17918, LoF_protect_ch#17919L, GoF_protect_ch#17920L, actionType2#16878, biosampleName#1060, projectId#975, rightStudyType#1080, colocalisationMethod#1083, null#17921L, GoF_protect#17922L, GoF_risk#17923L, LoF_protect#17924L, LoF_risk#17925L, arrayN#17941, maxDoE#17958L, filter(maxDoE_names#17976, lambdafunction(isnotnull(lambda x#17996), lambda x#17996, false)) AS maxDoE_names#17995]\n                     :           +- Project [targetId#2088, diseaseId#2170, maxClinPhase#17918, LoF_protect_ch#17919L, GoF_protect_ch#17920L, actionType2#16878, biosampleName#1060, projectId#975, rightStudyType#1080, colocalisationMethod#1083, null#17921L, GoF_protect#17922L, GoF_risk#17923L, LoF_protect#17924L, LoF_risk#17925L, arrayN#17941, maxDoE#17958L, array(CASE WHEN (LoF_protect#17924L = maxDoE#17958L) THEN LoF_protect ELSE cast(null as string) END, CASE WHEN (GoF_risk#17923L = maxDoE#17958L) THEN GoF_risk ELSE cast(null as string) END, CASE WHEN (LoF_risk#17925L = maxDoE#17958L) THEN LoF_risk ELSE cast(null as string) END, CASE WHEN (GoF_protect#17922L = maxDoE#17958L) THEN GoF_protect ELSE cast(null as string) END) AS maxDoE_names#17976]\n                     :              +- Project [targetId#2088, diseaseId#2170, maxClinPhase#17918, LoF_protect_ch#17919L, GoF_protect_ch#17920L, actionType2#16878, biosampleName#1060, projectId#975, rightStudyType#1080, colocalisationMethod#1083, null#17921L, GoF_protect#17922L, GoF_risk#17923L, LoF_protect#17924L, LoF_risk#17925L, arrayN#17941, array_max(arrayN#17941) AS maxDoE#17958L]\n                     :                 +- Project [targetId#2088, diseaseId#2170, maxClinPhase#17918, LoF_protect_ch#17919L, GoF_protect_ch#17920L, actionType2#16878, biosampleName#1060, projectId#975, rightStudyType#1080, colocalisationMethod#1083, null#17921L, GoF_protect#17922L, GoF_risk#17923L, LoF_protect#17924L, LoF_risk#17925L, array(LoF_protect#17924L, GoF_risk#17923L, LoF_risk#17925L, GoF_protect#17922L) AS arrayN#17941]\n                     :                    +- Project [targetId#2088, diseaseId#2170, coalesce(nanvl(maxClinPhase#12040, cast(null as double)), cast(0.0 as double)) AS maxClinPhase#17918, coalesce(LoF_protect_ch#17871L, cast(0.0 as bigint)) AS LoF_protect_ch#17919L, coalesce(GoF_protect_ch#17887L, cast(0.0 as bigint)) AS GoF_protect_ch#17920L, actionType2#16878, biosampleName#1060, projectId#975, rightStudyType#1080, colocalisationMethod#1083, coalesce(null#17841L, cast(0.0 as bigint)) AS null#17921L, coalesce(GoF_protect#17842L, cast(0.0 as bigint)) AS GoF_protect#17922L, coalesce(GoF_risk#17843L, cast(0.0 as bigint)) AS GoF_risk#17923L, coalesce(LoF_protect#17844L, cast(0.0 as bigint)) AS LoF_protect#17924L, coalesce(LoF_risk#17845L, cast(0.0 as bigint)) AS LoF_risk#17925L]\n                     :                       +- Project [targetId#2088, diseaseId#2170, maxClinPhase#12040, LoF_protect_ch#17871L, drugGoF_protect#16696L AS GoF_protect_ch#17887L, actionType2#16878, biosampleName#1060, projectId#975, rightStudyType#1080, colocalisationMethod#1083, null#17841L, GoF_protect#17842L, GoF_risk#17843L, LoF_protect#17844L, LoF_risk#17845L]\n                     :                          +- Project [targetId#2088, diseaseId#2170, maxClinPhase#12040, drugLoF_protect#16703L AS LoF_protect_ch#17871L, drugGoF_protect#16696L, actionType2#16878, biosampleName#1060, projectId#975, rightStudyType#1080, colocalisationMethod#1083, null#17841L, GoF_protect#17842L, GoF_risk#17843L, LoF_protect#17844L, LoF_risk#17845L]\n                     :                             +- Project [targetId#2088, diseaseId#2170, maxClinPhase#12040, drugLoF_protect#16703L, drugGoF_protect#16696L, actionType2#16878, biosampleName#1060, projectId#975, rightStudyType#1080, colocalisationMethod#1083, __pivot_count(1) AS count AS `count(1) AS count`#17840[0] AS null#17841L, __pivot_count(1) AS count AS `count(1) AS count`#17840[1] AS GoF_protect#17842L, __pivot_count(1) AS count AS `count(1) AS count`#17840[2] AS GoF_risk#17843L, __pivot_count(1) AS count AS `count(1) AS count`#17840[3] AS LoF_protect#17844L, __pivot_count(1) AS count AS `count(1) AS count`#17840[4] AS LoF_risk#17845L]\n                     :                                +- Aggregate [targetId#2088, diseaseId#2170, maxClinPhase#12040, drugLoF_protect#16703L, drugGoF_protect#16696L, actionType2#16878, biosampleName#1060, projectId#975, rightStudyType#1080, colocalisationMethod#1083], [targetId#2088, diseaseId#2170, maxClinPhase#12040, drugLoF_protect#16703L, drugGoF_protect#16696L, actionType2#16878, biosampleName#1060, projectId#975, rightStudyType#1080, colocalisationMethod#1083, pivotfirst(colocDoE#2044, count(1) AS count#17828L, null, GoF_protect, GoF_risk, LoF_protect, LoF_risk, 0, 0) AS __pivot_count(1) AS count AS `count(1) AS count`#17840]\n                     :                                   +- Aggregate [targetId#2088, diseaseId#2170, maxClinPhase#12040, drugLoF_protect#16703L, drugGoF_protect#16696L, actionType2#16878, biosampleName#1060, projectId#975, rightStudyType#1080, colocalisationMethod#1083, colocDoE#2044], [targetId#2088, diseaseId#2170, maxClinPhase#12040, drugLoF_protect#16703L, drugGoF_protect#16696L, actionType2#16878, biosampleName#1060, projectId#975, rightStudyType#1080, colocalisationMethod#1083, colocDoE#2044, count(1) AS count(1) AS count#17828L]\n                     :                                      +- Project [biosampleId#1002, targetId#2088, diseaseId#2170, leftStudyLocusId#1077, rightStudyId#1140, rightStudyLocusId#1078, chromosome#1079, rightStudyType#1080, numberColocalisingVariants#1081L, clpp#1082, colocalisationMethod#1083, betaRatioSignAverage#1084, h0#1094, h1#1095, h2#1096, h3#1097, h4#1098, leftStudyId#1115, leftVariantId#1116, credibleLeftStudyType#1117, rightVariantId#1141, credibleRightStudyType#1142, qtlPValueExponent#1143, isTransQtl#1176, ... 25 more fields]\n                     :                                         +- Project [biosampleId#1002, targetId#2088, diseaseId#2170, leftStudyLocusId#1077, rightStudyId#1140, rightStudyLocusId#1078, chromosome#1079, rightStudyType#1080, numberColocalisingVariants#1081L, clpp#1082, colocalisationMethod#1083, betaRatioSignAverage#1084, h0#1094, h1#1095, h2#1096, h3#1097, h4#1098, leftStudyId#1115, leftVariantId#1116, credibleLeftStudyType#1117, rightVariantId#1141, credibleRightStudyType#1142, qtlPValueExponent#1143, isTransQtl#1176, ... 26 more fields]\n                     :                                            +- Window [first(colocDoE#2044, false) windowspecdefinition(targetId#2088, diseaseId#2170, maxClinPhase#12040, colocalisationMethod#1083 ASC NULLS FIRST, qtlPValueExponent#1143 ASC NULLS FIRST, specifiedwindowframe(RangeFrame, unboundedpreceding$(), currentrow$())) AS qtlColocDoE#16928], [targetId#2088, diseaseId#2170, maxClinPhase#12040], [colocalisationMethod#1083 ASC NULLS FIRST, qtlPValueExponent#1143 ASC NULLS FIRST]\n                     :                                               +- Project [biosampleId#1002, targetId#2088, diseaseId#2170, leftStudyLocusId#1077, rightStudyId#1140, rightStudyLocusId#1078, chromosome#1079, rightStudyType#1080, numberColocalisingVariants#1081L, clpp#1082, colocalisationMethod#1083, betaRatioSignAverage#1084, h0#1094, h1#1095, h2#1096, h3#1097, h4#1098, leftStudyId#1115, leftVariantId#1116, credibleLeftStudyType#1117, rightVariantId#1141, credibleRightStudyType#1142, qtlPValueExponent#1143, isTransQtl#1176, ... 24 more fields]\n                     :                                                  +- Project [biosampleId#1002, targetId#2088, diseaseId#2170, leftStudyLocusId#1077, rightStudyId#1140, rightStudyLocusId#1078, chromosome#1079, rightStudyType#1080, numberColocalisingVariants#1081L, clpp#1082, colocalisationMethod#1083, betaRatioSignAverage#1084, h0#1094, h1#1095, h2#1096, h3#1097, h4#1098, leftStudyId#1115, leftVariantId#1116, credibleLeftStudyType#1117, rightVariantId#1141, credibleRightStudyType#1142, qtlPValueExponent#1143, isTransQtl#1176, ... 24 more fields]\n                     :                                                     +- Project [biosampleId#1002, targetId#2088, diseaseId#2170, leftStudyLocusId#1077, rightStudyId#1140, rightStudyLocusId#1078, chromosome#1079, rightStudyType#1080, numberColocalisingVariants#1081L, clpp#1082, colocalisationMethod#1083, betaRatioSignAverage#1084, h0#1094, h1#1095, h2#1096, h3#1097, h4#1098, leftStudyId#1115, leftVariantId#1116, credibleLeftStudyType#1117, rightVariantId#1141, credibleRightStudyType#1142, qtlPValueExponent#1143, isTransQtl#1176, ... 24 more fields]\n                     :                                                        +- Join LeftOuter, (biosampleId#1002 = biosampleId#1059)\n                     :                                                           :- Project [targetId#2088, diseaseId#2170, leftStudyLocusId#1077, rightStudyId#1140, rightStudyLocusId#1078, chromosome#1079, rightStudyType#1080, numberColocalisingVariants#1081L, clpp#1082, colocalisationMethod#1083, betaRatioSignAverage#1084, h0#1094, h1#1095, h2#1096, h3#1097, h4#1098, leftStudyId#1115, leftVariantId#1116, credibleLeftStudyType#1117, rightVariantId#1141, credibleRightStudyType#1142, qtlPValueExponent#1143, isTransQtl#1176, projectId#975, ... 23 more fields]\n                     :                                                           :  +- Project [targetId#2088, diseaseId#2170, leftStudyLocusId#1077, rightStudyId#1140, rightStudyLocusId#1078, chromosome#1079, rightStudyType#1080, numberColocalisingVariants#1081L, clpp#1082, colocalisationMethod#1083, betaRatioSignAverage#1084, h0#1094, h1#1095, h2#1096, h3#1097, h4#1098, leftStudyId#1115, leftVariantId#1116, credibleLeftStudyType#1117, rightVariantId#1141, credibleRightStudyType#1142, qtlPValueExponent#1143, isTransQtl#1176, projectId#975, ... 22 more fields]\n                     :                                                           :     +- Join RightOuter, ((targetId#1801 = targetId#2088) AND (diseaseId#1960 = diseaseId#2170))\n                     :                                                           :        :- Filter NOT (name#691 = COVID-19)\n                     :                                                           :        :  +- Filter ((clpp#1082 >= 0.01) OR (h4#1098 >= 0.8))\n                     :                                                           :        :     +- Project [diseaseId#1960, leftStudyLocusId#1077, targetId#1801, rightStudyId#1140, rightStudyLocusId#1078, chromosome#1079, rightStudyType#1080, numberColocalisingVariants#1081L, clpp#1082, colocalisationMethod#1083, betaRatioSignAverage#1084, h0#1094, h1#1095, h2#1096, h3#1097, h4#1098, leftStudyId#1115, leftVariantId#1116, credibleLeftStudyType#1117, rightVariantId#1141, credibleRightStudyType#1142, qtlPValueExponent#1143, isTransQtl#1176, projectId#975, ... 18 more fields]\n                     :                                                           :        :        +- Project [diseaseId#1960, leftStudyLocusId#1077, targetId#1801, rightStudyId#1140, rightStudyLocusId#1078, chromosome#1079, rightStudyType#1080, numberColocalisingVariants#1081L, clpp#1082, colocalisationMethod#1083, betaRatioSignAverage#1084, h0#1094, h1#1095, h2#1096, h3#1097, h4#1098, leftStudyId#1115, leftVariantId#1116, credibleLeftStudyType#1117, rightVariantId#1141, credibleRightStudyType#1142, qtlPValueExponent#1143, isTransQtl#1176, projectId#975, ... 17 more fields]\n                     :                                                           :        :           +- Project [diseaseId#1960, leftStudyLocusId#1077, targetId#1801, rightStudyId#1140, rightStudyLocusId#1078, chromosome#1079, rightStudyType#1080, numberColocalisingVariants#1081L, clpp#1082, colocalisationMethod#1083, betaRatioSignAverage#1084, h0#1094, h1#1095, h2#1096, h3#1097, h4#1098, leftStudyId#1115, leftVariantId#1116, credibleLeftStudyType#1117, rightVariantId#1141, credibleRightStudyType#1142, qtlPValueExponent#1143, isTransQtl#1176, projectId#975, ... 18 more fields]\n                     :                                                           :        :              +- Generate explode(concat(array(diseaseId#800), parents#694)), true, [diseaseId#1960]\n                     :                                                           :        :                 +- Project [diseaseId#800, leftStudyLocusId#1077, targetId#1801, rightStudyId#1140, rightStudyLocusId#1078, chromosome#1079, rightStudyType#1080, numberColocalisingVariants#1081L, clpp#1082, colocalisationMethod#1083, betaRatioSignAverage#1084, h0#1094, h1#1095, h2#1096, h3#1097, h4#1098, leftStudyId#1115, leftVariantId#1116, credibleLeftStudyType#1117, rightVariantId#1141, credibleRightStudyType#1142, qtlPValueExponent#1143, isTransQtl#1176, projectId#975, ... 18 more fields]\n                     :                                                           :        :                    +- Join LeftOuter, (diseaseId#800 = diseaseId#1911)\n                     :                                                           :        :                       :- Project [leftStudyLocusId#1077, targetId#1801, rightStudyId#1140, rightStudyLocusId#1078, chromosome#1079, rightStudyType#1080, numberColocalisingVariants#1081L, clpp#1082, colocalisationMethod#1083, betaRatioSignAverage#1084, h0#1094, h1#1095, h2#1096, h3#1097, h4#1098, leftStudyId#1115, leftVariantId#1116, credibleLeftStudyType#1117, rightVariantId#1141, credibleRightStudyType#1142, qtlPValueExponent#1143, isTransQtl#1176, projectId#975, indexStudyType#1200, ... 15 more fields]\n                     :                                                           :        :                       :  +- Join Inner, ((leftStudyLocusId#1077 = leftStudyLocusId#1828) AND (targetId#1801 = targetId#718))\n                     :                                                           :        :                       :     :- Project [rightStudyId#1140, rightStudyLocusId#1078, leftStudyLocusId#1077, chromosome#1079, rightStudyType#1080, numberColocalisingVariants#1081L, clpp#1082, colocalisationMethod#1083, betaRatioSignAverage#1084, h0#1094, h1#1095, h2#1096, h3#1097, h4#1098, leftStudyId#1115, leftVariantId#1116, credibleLeftStudyType#1117, rightVariantId#1141, credibleRightStudyType#1142, qtlPValueExponent#1143, isTransQtl#1176, geneId#974 AS targetId#1801, projectId#975, indexStudyType#1200, ... 2 more fields]\n                     :                                                           :        :                       :     :  +- Project [rightStudyId#1140, rightStudyLocusId#1078, leftStudyLocusId#1077, chromosome#1079, rightStudyType#1080, numberColocalisingVariants#1081L, clpp#1082, colocalisationMethod#1083, betaRatioSignAverage#1084, h0#1094, h1#1095, h2#1096, h3#1097, h4#1098, leftStudyId#1115, leftVariantId#1116, credibleLeftStudyType#1117, rightVariantId#1141, credibleRightStudyType#1142, qtlPValueExponent#1143, isTransQtl#1176, geneId#974, projectId#975, indexStudyType#1200, ... 2 more fields]\n                     :                                                           :        :                       :     :     +- Join LeftOuter, (rightStudyId#1140 = rightStudyId#1199)\n                     :                                                           :        :                       :     :        :- Project [rightStudyLocusId#1078, leftStudyLocusId#1077, chromosome#1079, rightStudyType#1080, numberColocalisingVariants#1081L, clpp#1082, colocalisationMethod#1083, betaRatioSignAverage#1084, h0#1094, h1#1095, h2#1096, h3#1097, h4#1098, leftStudyId#1115, leftVariantId#1116, credibleLeftStudyType#1117, rightStudyId#1140, rightVariantId#1141, credibleRightStudyType#1142, qtlPValueExponent#1143, isTransQtl#1176]\n                     :                                                           :        :                       :     :        :  +- Join LeftOuter, (rightStudyLocusId#1078 = rightStudyLocusId#1139)\n                     :                                                           :        :                       :     :        :     :- Project [leftStudyLocusId#1077, rightStudyLocusId#1078, chromosome#1079, rightStudyType#1080, numberColocalisingVariants#1081L, clpp#1082, colocalisationMethod#1083, betaRatioSignAverage#1084, h0#1094, h1#1095, h2#1096, h3#1097, h4#1098, leftStudyId#1115, leftVariantId#1116, credibleLeftStudyType#1117]\n                     :                                                           :        :                       :     :        :     :  +- Join LeftOuter, (leftStudyLocusId#1077 = leftStudyLocusId#1114)\n                     :                                                           :        :                       :     :        :     :     :- Union false, false\n                     :                                                           :        :                       :     :        :     :     :  :- Project [leftStudyLocusId#1077, rightStudyLocusId#1078, chromosome#1079, rightStudyType#1080, numberColocalisingVariants#1081L, clpp#1082, colocalisationMethod#1083, betaRatioSignAverage#1084, null AS h0#1094, null AS h1#1095, null AS h2#1096, null AS h3#1097, null AS h4#1098]\n                     :                                                           :        :                       :     :        :     :     :  :  +- Relation [leftStudyLocusId#1077,rightStudyLocusId#1078,chromosome#1079,rightStudyType#1080,numberColocalisingVariants#1081L,clpp#1082,colocalisationMethod#1083,betaRatioSignAverage#1084] parquet\n                     :                                                           :        :                       :     :        :     :     :  +- Project [leftStudyLocusId#949, rightStudyLocusId#950, chromosome#951, rightStudyType#952, numberColocalisingVariants#953L, null AS clpp#1093, colocalisationMethod#959, betaRatioSignAverage#960, h0#954, h1#955, h2#956, h3#957, h4#958]\n                     :                                                           :        :                       :     :        :     :     :     +- Relation [leftStudyLocusId#949,rightStudyLocusId#950,chromosome#951,rightStudyType#952,numberColocalisingVariants#953L,h0#954,h1#955,h2#956,h3#957,h4#958,colocalisationMethod#959,betaRatioSignAverage#960] parquet\n                     :                                                           :        :                       :     :        :     :     +- Project [studyLocusId#895 AS leftStudyLocusId#1114, StudyId#896 AS leftStudyId#1115, variantId#897 AS leftVariantId#1116, studyType#920 AS credibleLeftStudyType#1117]\n                     :                                                           :        :                       :     :        :     :        +- Relation [studyLocusId#895,studyId#896,variantId#897,chromosome#898,position#899,region#900,beta#901,zScore#902,pValueMantissa#903,pValueExponent#904,effectAlleleFrequencyFromSource#905,standardError#906,subStudyDescription#907,qualityControls#908,finemappingMethod#909,credibleSetIndex#910,credibleSetlog10BF#911,purityMeanR2#912,purityMinR2#913,locusStart#914,locusEnd#915,sampleSize#916,ldSet#917,locus#918,... 3 more fields] parquet\n                     :                                                           :        :                       :     :        :     +- Project [studyLocusId#1150 AS rightStudyLocusId#1139, studyId#1151 AS rightStudyId#1140, variantId#1152 AS rightVariantId#1141, studyType#1175 AS credibleRightStudyType#1142, pValueExponent#1159 AS qtlPValueExponent#1143, isTransQtl#1176]\n                     :                                                           :        :                       :     :        :        +- Relation [studyLocusId#1150,studyId#1151,variantId#1152,chromosome#1153,position#1154,region#1155,beta#1156,zScore#1157,pValueMantissa#1158,pValueExponent#1159,effectAlleleFrequencyFromSource#1160,standardError#1161,subStudyDescription#1162,qualityControls#1163,finemappingMethod#1164,credibleSetIndex#1165,credibleSetlog10BF#1166,purityMeanR2#1167,purityMinR2#1168,locusStart#1169,locusEnd#1170,sampleSize#1171,ldSet#1172,locus#1173,... 3 more fields] parquet\n                     :                                                           :        :                       :     :        +- Project [studyId#973 AS rightStudyId#1199, geneId#974, projectId#975, studyType#976 AS indexStudyType#1200, condition#998, biosampleId#1002]\n                     :                                                           :        :                       :     :           +- Relation [studyId#973,geneId#974,projectId#975,studyType#976,traitFromSource#977,traitFromSourceMappedIds#978,biosampleFromSourceId#979,pubmedId#980,publicationTitle#981,publicationFirstAuthor#982,publicationDate#983,publicationJournal#984,backgroundTraitFromSourceMappedIds#985,initialSampleSize#986,nCases#987,nControls#988,nSamples#989,cohorts#990,ldPopulationStructure#991,discoverySamples#992,replicationSamples#993,qualityControls#994,analysisFlags#995,summarystatsLocation#996,... 6 more fields] parquet\n                     :                                                           :        :                       :     +- Project [studyLocusId#798 AS leftStudyLocusId#1828, datasourceId#717, targetId#718, datatypeId#743, diseaseFromSourceMappedId#747, resourceScore#769, targetFromSourceId#784, diseaseId#800, id#801, score#802, sourceId#805, studyId#1845, variantId#1846, betaGwas#1780, pValueExponent#1853]\n                     :                                                           :        :                       :        +- Project [studyLocusId#798, datasourceId#717, targetId#718, datatypeId#743, diseaseFromSourceMappedId#747, resourceScore#769, targetFromSourceId#784, diseaseId#800, id#801, score#802, sourceId#805, studyId#1845, variantId#1846, betaGwas#1780, pValueExponent#1853]\n                     :                                                           :        :                       :           +- Join LeftOuter, (studyLocusId#798 = studyLocusId#1844)\n                     :                                                           :        :                       :              :- Project [datasourceId#717, targetId#718, datatypeId#743, diseaseFromSourceMappedId#747, resourceScore#769, targetFromSourceId#784, studyLocusId#798, diseaseId#800, id#801, score#802, sourceId#805]\n                     :                                                           :        :                       :              :  +- Filter (datasourceId#717 = gwas_credible_sets)\n                     :                                                           :        :                       :              :     +- Relation [datasourceId#717,targetId#718,alleleOrigins#719,allelicRequirements#720,ancestry#721,ancestryId#722,beta#723,betaConfidenceIntervalLower#724,betaConfidenceIntervalUpper#725,biologicalModelAllelicComposition#726,biologicalModelGeneticBackground#727,biologicalModelId#728,biomarkerName#729,biomarkers#730,biosamplesFromSource#731,cellType#732,clinicalPhase#733,clinicalSignificances#734,clinicalStatus#735,cohortDescription#736,cohortId#737,cohortPhenotypes#738,cohortShortName#739,confidence#740,... 65 more fields] parquet\n                     :                                                           :        :                       :              +- Project [studyLocusId#1844, studyId#1845, variantId#1846, beta#1850 AS betaGwas#1780, pValueExponent#1853]\n                     :                                                           :        :                       :                 +- Relation [studyLocusId#1844,studyId#1845,variantId#1846,chromosome#1847,position#1848,region#1849,beta#1850,zScore#1851,pValueMantissa#1852,pValueExponent#1853,effectAlleleFrequencyFromSource#1854,standardError#1855,subStudyDescription#1856,qualityControls#1857,finemappingMethod#1858,credibleSetIndex#1859,credibleSetlog10BF#1860,purityMeanR2#1861,purityMinR2#1862,locusStart#1863,locusEnd#1864,sampleSize#1865,ldSet#1866,locus#1867,... 3 more fields] parquet\n                     :                                                           :        :                       +- Project [id#689 AS diseaseId#1911, name#691, parents#694, therapeuticAreas#700]\n                     :                                                           :        :                          +- Relation [id#689,code#690,name#691,description#692,dbXRefs#693,parents#694,synonyms#695,obsoleteTerms#696,obsoleteXRefs#697,children#698,ancestors#699,therapeuticAreas#700,descendants#701,ontology#702] parquet\n                     :                                                           :        +- Project [targetId#2088, diseaseId#2170, maxClinPhase#12040, actionType2#11925, drugGoF_protect#16696L, LoF_protect#14843L AS drugLoF_protect#16703L]\n                     :                                                           :           +- Project [targetId#2088, diseaseId#2170, maxClinPhase#12040, actionType2#11925, GoF_protect#14842L AS drugGoF_protect#16696L, LoF_protect#14843L]\n                     :                                                           :              +- Project [targetId#2088, diseaseId#2170, maxClinPhase#12040, actionType2#11925, GoF_protect#14842L, LoF_protect#14843L]\n                     :                                                           :                 +- Project [targetId#2088, diseaseId#2170, maxClinPhase#12040, actionType2#11925, GoF_protect#14842L, LoF_protect#14843L, noEvaluable#14844L, GoF_risk#14858, LoF_risk#16480, coherencyDiagonal#16667, CASE WHEN ((((isnull(LoF_risk#16480) AND isnull(LoF_protect#14843L)) AND isnull(GoF_risk#14858)) AND isnull(GoF_protect#14842L)) AND isnull(noEvaluable#14844L)) THEN noEvid WHEN ((((isnull(LoF_risk#16480) AND isnull(LoF_protect#14843L)) AND isnull(GoF_risk#14858)) AND isnull(GoF_protect#14842L)) AND isnotnull(noEvaluable#14844L)) THEN EvidNotDoE WHEN (((isnotnull(LoF_risk#16480) OR isnotnull(LoF_protect#14843L)) OR isnotnull(GoF_risk#14858)) OR isnotnull(GoF_protect#14842L)) THEN CASE WHEN (isnotnull(LoF_risk#16480) AND ((isnull(LoF_protect#14843L) AND isnull(GoF_risk#14858)) AND isnull(GoF_protect#14842L))) THEN coherent WHEN (isnotnull(GoF_risk#14858) AND ((isnull(LoF_protect#14843L) AND isnull(LoF_risk#16480)) AND isnull(GoF_protect#14842L))) THEN coherent WHEN (isnotnull(LoF_protect#14843L) AND ((isnull(LoF_risk#16480) AND isnull(GoF_risk#14858)) AND isnull(GoF_protect#14842L))) THEN coherent WHEN (isnotnull(GoF_protect#14842L) AND ((isnull(LoF_protect#14843L) AND isnull(GoF_risk#14858)) AND isnull(LoF_risk#16480))) THEN coherent ELSE dispar END END AS coherencyOneCell#16678]\n                     :                                                           :                    +- Project [targetId#2088, diseaseId#2170, maxClinPhase#12040, actionType2#11925, GoF_protect#14842L, LoF_protect#14843L, noEvaluable#14844L, GoF_risk#14858, LoF_risk#16480, CASE WHEN ((((isnull(LoF_risk#16480) AND isnull(LoF_protect#14843L)) AND isnull(GoF_risk#14858)) AND isnull(GoF_protect#14842L)) AND isnull(noEvaluable#14844L)) THEN noEvid WHEN ((((isnull(LoF_risk#16480) AND isnull(LoF_protect#14843L)) AND isnull(GoF_risk#14858)) AND isnull(GoF_protect#14842L)) AND isnotnull(noEvaluable#14844L)) THEN EvidNotDoE WHEN (((isnotnull(LoF_risk#16480) OR isnotnull(LoF_protect#14843L)) OR isnotnull(GoF_risk#14858)) OR isnotnull(GoF_protect#14842L)) THEN CASE WHEN (isnotnull(GoF_risk#14858) AND isnotnull(LoF_risk#16480)) THEN dispar WHEN (isnotnull(LoF_protect#14843L) AND isnotnull(LoF_risk#16480)) THEN dispar WHEN (isnotnull(GoF_protect#14842L) AND isnotnull(GoF_risk#14858)) THEN dispar WHEN (isnotnull(GoF_protect#14842L) AND isnotnull(LoF_protect#14843L)) THEN dispar ELSE coherent END END AS coherencyDiagonal#16667]\n                     :                                                           :                       +- Project [targetId#2088, diseaseId#2170, maxClinPhase#12040, actionType2#11925, GoF_protect#14842L, LoF_protect#14843L, noEvaluable#14844L, GoF_risk#14858, null AS LoF_risk#16480]\n                     :                                                           :                          +- Project [targetId#2088, diseaseId#2170, maxClinPhase#12040, actionType2#11925, GoF_protect#14842L, LoF_protect#14843L, noEvaluable#14844L, null AS GoF_risk#14858]\n                     :                                                           :                             +- Project [targetId#2088, diseaseId#2170, maxClinPhase#12040, actionType2#11925, __pivot_count(targetId) AS `count(targetId)`#14841[0] AS GoF_protect#14842L, __pivot_count(targetId) AS `count(targetId)`#14841[1] AS LoF_protect#14843L, __pivot_count(targetId) AS `count(targetId)`#14841[2] AS noEvaluable#14844L]\n                     :                                                           :                                +- Aggregate [targetId#2088, diseaseId#2170, maxClinPhase#12040, actionType2#11925], [targetId#2088, diseaseId#2170, maxClinPhase#12040, actionType2#11925, pivotfirst(homogenized#4208, count(targetId)#14833L, GoF_protect, LoF_protect, noEvaluable, 0, 0) AS __pivot_count(targetId) AS `count(targetId)`#14841]\n                     :                                                           :                                   +- Aggregate [targetId#2088, diseaseId#2170, maxClinPhase#12040, actionType2#11925, homogenized#4208], [targetId#2088, diseaseId#2170, maxClinPhase#12040, actionType2#11925, homogenized#4208, count(targetId#2088) AS count(targetId)#14833L]\n                     :                                                           :                                      +- Project [targetId#2088, drugId#2121, datasourceId#2087, alleleOrigins#2089, allelicRequirements#2090, ancestry#2091, ancestryId#2092, beta#2931, betaConfidenceIntervalLower#2094, betaConfidenceIntervalUpper#2095, biologicalModelAllelicComposition#2096, biologicalModelGeneticBackground#2097, biologicalModelId#2098, biomarkerName#2099, biomarkers#2100, biosamplesFromSource#2101, cellType#2102, clinicalPhase#2103, clinicalSignificances#3113, clinicalStatus#2105, cohortDescription#2106, cohortId#2107, cohortPhenotypes#2108, cohortShortName#2109, ... 82 more fields]\n                     :                                                           :                                         +- Project [targetId#2088, drugId#2121, datasourceId#2087, alleleOrigins#2089, allelicRequirements#2090, ancestry#2091, ancestryId#2092, beta#2931, betaConfidenceIntervalLower#2094, betaConfidenceIntervalUpper#2095, biologicalModelAllelicComposition#2096, biologicalModelGeneticBackground#2097, biologicalModelId#2098, biomarkerName#2099, biomarkers#2100, biosamplesFromSource#2101, cellType#2102, clinicalPhase#2103, clinicalSignificances#3113, clinicalStatus#2105, cohortDescription#2106, cohortId#2107, cohortPhenotypes#2108, cohortShortName#2109, ... 83 more fields]\n                     :                                                           :                                            +- Window [max(clinicalPhase#2103) windowspecdefinition(targetId#2088, diseaseId#2170, specifiedwindowframe(RowFrame, unboundedpreceding$(), unboundedfollowing$())) AS maxClinPhase#12040], [targetId#2088, diseaseId#2170]\n                     :                                                           :                                               +- Project [targetId#2088, drugId#2121, datasourceId#2087, alleleOrigins#2089, allelicRequirements#2090, ancestry#2091, ancestryId#2092, beta#2931, betaConfidenceIntervalLower#2094, betaConfidenceIntervalUpper#2095, biologicalModelAllelicComposition#2096, biologicalModelGeneticBackground#2097, biologicalModelId#2098, biomarkerName#2099, biomarkers#2100, biosamplesFromSource#2101, cellType#2102, clinicalPhase#2103, clinicalSignificances#3113, clinicalStatus#2105, cohortDescription#2106, cohortId#2107, cohortPhenotypes#2108, cohortShortName#2109, ... 81 more fields]\n                     :                                                           :                                                  +- Project [targetId#2088, drugId#2121, datasourceId#2087, alleleOrigins#2089, allelicRequirements#2090, ancestry#2091, ancestryId#2092, beta#2931, betaConfidenceIntervalLower#2094, betaConfidenceIntervalUpper#2095, biologicalModelAllelicComposition#2096, biologicalModelGeneticBackground#2097, biologicalModelId#2098, biomarkerName#2099, biomarkers#2100, biosamplesFromSource#2101, cellType#2102, clinicalPhase#2103, clinicalSignificances#3113, clinicalStatus#2105, cohortDescription#2106, cohortId#2107, cohortPhenotypes#2108, cohortShortName#2109, ... 81 more fields]\n                     :                                                           :                                                     +- Join LeftOuter, ((targetId#2088 = targetId#11915) AND (drugId#2121 = drugId#11908))\n                     :                                                           :                                                        :- Filter (datasourceId#2087 = chembl)\n                     :                                                           :                                                        :  +- Project [datasourceId#2087, targetId#2088, alleleOrigins#2089, allelicRequirements#2090, ancestry#2091, ancestryId#2092, beta#2931, betaConfidenceIntervalLower#2094, betaConfidenceIntervalUpper#2095, biologicalModelAllelicComposition#2096, biologicalModelGeneticBackground#2097, biologicalModelId#2098, biomarkerName#2099, biomarkers#2100, biosamplesFromSource#2101, cellType#2102, clinicalPhase#2103, clinicalSignificances#3113, clinicalStatus#2105, cohortDescription#2106, cohortId#2107, cohortPhenotypes#2108, cohortShortName#2109, confidence#2110, ... 79 more fields]\n                     :                                                           :                                                        :     +- Project [datasourceId#2087, targetId#2088, alleleOrigins#2089, allelicRequirements#2090, ancestry#2091, ancestryId#2092, beta#2931, betaConfidenceIntervalLower#2094, betaConfidenceIntervalUpper#2095, biologicalModelAllelicComposition#2096, biologicalModelGeneticBackground#2097, biologicalModelId#2098, biomarkerName#2099, biomarkers#2100, biosamplesFromSource#2101, cellType#2102, clinicalPhase#2103, clinicalSignificances#3113, clinicalStatus#2105, cohortDescription#2106, cohortId#2107, cohortPhenotypes#2108, cohortShortName#2109, confidence#2110, ... 78 more fields]\n                     :                                                           :                                                        :        +- Project [datasourceId#2087, targetId#2088, alleleOrigins#2089, allelicRequirements#2090, ancestry#2091, ancestryId#2092, beta#2931, betaConfidenceIntervalLower#2094, betaConfidenceIntervalUpper#2095, biologicalModelAllelicComposition#2096, biologicalModelGeneticBackground#2097, biologicalModelId#2098, biomarkerName#2099, biomarkers#2100, biosamplesFromSource#2101, cellType#2102, clinicalPhase#2103, clinicalSignificances#3113, clinicalStatus#2105, cohortDescription#2106, cohortId#2107, cohortPhenotypes#2108, cohortShortName#2109, confidence#2110, ... 78 more fields]\n                     :                                                           :                                                        :           +- Project [datasourceId#2087, targetId#2088, alleleOrigins#2089, allelicRequirements#2090, ancestry#2091, ancestryId#2092, beta#2931, betaConfidenceIntervalLower#2094, betaConfidenceIntervalUpper#2095, biologicalModelAllelicComposition#2096, biologicalModelGeneticBackground#2097, biologicalModelId#2098, biomarkerName#2099, biomarkers#2100, biosamplesFromSource#2101, cellType#2102, clinicalPhase#2103, clinicalSignificances#3113, clinicalStatus#2105, cohortDescription#2106, cohortId#2107, cohortPhenotypes#2108, cohortShortName#2109, confidence#2110, ... 78 more fields]\n                     :                                                           :                                                        :              +- Project [datasourceId#2087, targetId#2088, alleleOrigins#2089, allelicRequirements#2090, ancestry#2091, ancestryId#2092, beta#2931, betaConfidenceIntervalLower#2094, betaConfidenceIntervalUpper#2095, biologicalModelAllelicComposition#2096, biologicalModelGeneticBackground#2097, biologicalModelId#2098, biomarkerName#2099, biomarkers#2100, biosamplesFromSource#2101, cellType#2102, clinicalPhase#2103, clinicalSignificances#3113, clinicalStatus#2105, cohortDescription#2106, cohortId#2107, cohortPhenotypes#2108, cohortShortName#2109, confidence#2110, ... 79 more fields]\n                     :                                                           :                                                        :                 +- Window [collect_set(intogen_function#3791, 0, 0) windowspecdefinition(targetId#2088, diseaseId#2170, specifiedwindowframe(RowFrame, unboundedpreceding$(), unboundedfollowing$())) AS _we0#3897], [targetId#2088, diseaseId#2170]\n                     :                                                           :                                                        :                    +- Project [datasourceId#2087, targetId#2088, alleleOrigins#2089, allelicRequirements#2090, ancestry#2091, ancestryId#2092, beta#2931, betaConfidenceIntervalLower#2094, betaConfidenceIntervalUpper#2095, biologicalModelAllelicComposition#2096, biologicalModelGeneticBackground#2097, biologicalModelId#2098, biomarkerName#2099, biomarkers#2100, biosamplesFromSource#2101, cellType#2102, clinicalPhase#2103, clinicalSignificances#3113, clinicalStatus#2105, cohortDescription#2106, cohortId#2107, cohortPhenotypes#2108, cohortShortName#2109, confidence#2110, ... 77 more fields]\n                     :                                                           :                                                        :                       +- Project [datasourceId#2087, targetId#2088, alleleOrigins#2089, allelicRequirements#2090, ancestry#2091, ancestryId#2092, beta#2931, betaConfidenceIntervalLower#2094, betaConfidenceIntervalUpper#2095, biologicalModelAllelicComposition#2096, biologicalModelGeneticBackground#2097, biologicalModelId#2098, biomarkerName#2099, biomarkers#2100, biosamplesFromSource#2101, cellType#2102, clinicalPhase#2103, clinicalSignificances#3113, clinicalStatus#2105, cohortDescription#2106, cohortId#2107, cohortPhenotypes#2108, cohortShortName#2109, confidence#2110, ... 77 more fields]\n                     :                                                           :                                                        :                          +- Project [datasourceId#2087, targetId#2088, alleleOrigins#2089, allelicRequirements#2090, ancestry#2091, ancestryId#2092, beta#2931, betaConfidenceIntervalLower#2094, betaConfidenceIntervalUpper#2095, biologicalModelAllelicComposition#2096, biologicalModelGeneticBackground#2097, biologicalModelId#2098, biomarkerName#2099, biomarkers#2100, biosamplesFromSource#2101, cellType#2102, clinicalPhase#2103, clinicalSignificances#3113, clinicalStatus#2105, cohortDescription#2106, cohortId#2107, cohortPhenotypes#2108, cohortShortName#2109, confidence#2110, ... 76 more fields]\n                     :                                                           :                                                        :                             +- Project [datasourceId#2087, targetId#2088, alleleOrigins#2089, allelicRequirements#2090, ancestry#2091, ancestryId#2092, beta#2931, betaConfidenceIntervalLower#2094, betaConfidenceIntervalUpper#2095, biologicalModelAllelicComposition#2096, biologicalModelGeneticBackground#2097, biologicalModelId#2098, biomarkerName#2099, biomarkers#2100, biosamplesFromSource#2101, cellType#2102, clinicalPhase#2103, clinicalSignificances#3113, clinicalStatus#2105, cohortDescription#2106, cohortId#2107, cohortPhenotypes#2108, cohortShortName#2109, confidence#2110, ... 75 more fields]\n                     :                                                           :                                                        :                                +- Join LeftOuter, ((drugId2#2875 = drugId#2121) AND (targetId2#2882 = targetId#2088))\n                     :                                                           :                                                        :                                   :- Join LeftOuter, (target_id#2925 = targetId#2088)\n                     :                                                           :                                                        :                                   :  :- Project [datasourceId#2087, targetId#2088, alleleOrigins#2089, allelicRequirements#2090, ancestry#2091, ancestryId#2092, beta#2931, betaConfidenceIntervalLower#2094, betaConfidenceIntervalUpper#2095, biologicalModelAllelicComposition#2096, biologicalModelGeneticBackground#2097, biologicalModelId#2098, biomarkerName#2099, biomarkers#2100, biosamplesFromSource#2101, cellType#2102, clinicalPhase#2103, concat_ws(,, clinicalSignificances#2104) AS clinicalSignificances#3113, clinicalStatus#2105, cohortDescription#2106, cohortId#2107, cohortPhenotypes#2108, cohortShortName#2109, confidence#2110, ... 66 more fields]\n                     :                                                           :                                                        :                                   :  :  +- Project [datasourceId#2087, targetId#2088, alleleOrigins#2089, allelicRequirements#2090, ancestry#2091, ancestryId#2092, beta#2931, betaConfidenceIntervalLower#2094, betaConfidenceIntervalUpper#2095, biologicalModelAllelicComposition#2096, biologicalModelGeneticBackground#2097, biologicalModelId#2098, biomarkerName#2099, biomarkers#2100, biosamplesFromSource#2101, cellType#2102, clinicalPhase#2103, clinicalSignificances#2104, clinicalStatus#2105, cohortDescription#2106, cohortId#2107, cohortPhenotypes#2108, cohortShortName#2109, confidence#2110, ... 66 more fields]\n                     :                                                           :                                                        :                                   :  :     +- Project [datasourceId#2087, targetId#2088, alleleOrigins#2089, allelicRequirements#2090, ancestry#2091, ancestryId#2092, cast(beta#2093 as double) AS beta#2931, betaConfidenceIntervalLower#2094, betaConfidenceIntervalUpper#2095, biologicalModelAllelicComposition#2096, biologicalModelGeneticBackground#2097, biologicalModelId#2098, biomarkerName#2099, biomarkers#2100, biosamplesFromSource#2101, cellType#2102, clinicalPhase#2103, clinicalSignificances#2104, clinicalStatus#2105, cohortDescription#2106, cohortId#2107, cohortPhenotypes#2108, cohortShortName#2109, confidence#2110, ... 66 more fields]\n                     :                                                           :                                                        :                                   :  :        +- Project [datasourceId#2087, targetId#2088, alleleOrigins#2089, allelicRequirements#2090, ancestry#2091, ancestryId#2092, beta#2093, betaConfidenceIntervalLower#2094, betaConfidenceIntervalUpper#2095, biologicalModelAllelicComposition#2096, biologicalModelGeneticBackground#2097, biologicalModelId#2098, biomarkerName#2099, biomarkers#2100, biosamplesFromSource#2101, cellType#2102, clinicalPhase#2103, clinicalSignificances#2104, clinicalStatus#2105, cohortDescription#2106, cohortId#2107, cohortPhenotypes#2108, cohortShortName#2109, confidence#2110, ... 66 more fields]\n                     :                                                           :                                                        :                                   :  :           +- Filter datasourceId#2087 IN (gwas_credible_sets,gene_burden,eva,eva_somatic,gene2phenotype,orphanet,cancer_gene_census,intogen,impc,chembl)\n                     :                                                           :                                                        :                                   :  :              +- Relation [datasourceId#2087,targetId#2088,alleleOrigins#2089,allelicRequirements#2090,ancestry#2091,ancestryId#2092,beta#2093,betaConfidenceIntervalLower#2094,betaConfidenceIntervalUpper#2095,biologicalModelAllelicComposition#2096,biologicalModelGeneticBackground#2097,biologicalModelId#2098,biomarkerName#2099,biomarkers#2100,biosamplesFromSource#2101,cellType#2102,clinicalPhase#2103,clinicalSignificances#2104,clinicalStatus#2105,cohortDescription#2106,cohortId#2107,cohortPhenotypes#2108,cohortShortName#2109,confidence#2110,... 65 more fields] parquet\n                     :                                                           :                                                        :                                   :  +- Project [id#2802 AS target_id#2925, approvedSymbol#2803, description#2910, description_splited#2914, TSorOncogene#2919]\n                     :                                                           :                                                        :                                   :     +- Project [id#2802, approvedSymbol#2803, description#2910, description_splited#2914, CASE WHEN (RLIKE(description_splited#2914, ncogene) AND RLIKE(description_splited#2914, TSG)) THEN bivalent WHEN RLIKE(description_splited#2914, ncogene(\\s|$)) THEN oncogene WHEN RLIKE(description_splited#2914, TSG(\\s|$)) THEN TSG ELSE noEvaluable END AS TSorOncogene#2919]\n                     :                                                           :                                                        :                                   :        +- Project [id#2802, approvedSymbol#2803, description#2910, concat_ws(,, description#2910) AS description_splited#2914]\n                     :                                                           :                                                        :                                   :           +- Aggregate [id#2802, approvedSymbol#2803], [id#2802, approvedSymbol#2803, collect_set(description#2902, 0, 0) AS description#2910]\n                     :                                                           :                                                        :                                   :              +- Filter description#2902 IN (TSG,oncogene,Oncogene,oncogene,oncogene,TSG,TSG,oncogene,fusion,oncogene,oncogene,fusion)\n                     :                                                           :                                                        :                                   :                 +- Project [id#2802, approvedSymbol#2803, col#2897.description AS description#2902]\n                     :                                                           :                                                        :                                   :                    +- Project [id#2802, approvedSymbol#2803, col#2897]\n                     :                                                           :                                                        :                                   :                       +- Generate explode(hallmarks#2812.attributes), true, [col#2897]\n                     :                                                           :                                                        :                                   :                          +- Relation [id#2802,approvedSymbol#2803,biotype#2804,transcriptIds#2805,canonicalTranscript#2806,canonicalExons#2807,genomicLocation#2808,alternativeGenes#2809,approvedName#2810,go#2811,hallmarks#2812,synonyms#2813,symbolSynonyms#2814,nameSynonyms#2815,functionDescriptions#2816,subcellularLocations#2817,targetClass#2818,obsoleteSymbols#2819,obsoleteNames#2820,constraint#2821,tep#2822,proteinIds#2823,dbXrefs#2824,chemicalProbes#2825,... 5 more fields] parquet\n                     :                                                           :                                                        :                                   +- Aggregate [targetId2#2882, drugId2#2875], [targetId2#2882, drugId2#2875, collect_set(actionType#2860, 0, 0) AS actionType#2892]\n                     :                                                           :                                                        :                                      +- Project [targetId2#2882, drugId2#2875, actionType#2860, mechanismOfAction#2861]\n                     :                                                           :                                                        :                                         +- Generate explode(targets#2865), true, [targetId2#2882]\n                     :                                                           :                                                        :                                            +- Project [drugId2#2875, actionType#2860, mechanismOfAction#2861, targets#2865]\n                     :                                                           :                                                        :                                               +- Generate explode(chemblIds#2862), true, [drugId2#2875]\n                     :                                                           :                                                        :                                                  +- Relation [actionType#2860,mechanismOfAction#2861,chemblIds#2862,targetName#2863,targetType#2864,targets#2865,references#2866] parquet\n                     :                                                           :                                                        +- Project [targetId#11915, drugId#11908, actionType2#11925, size(actionType2#11925, true) AS nMoA#11929]\n                     :                                                           :                                                           +- Aggregate [targetId#11915, drugId#11908], [targetId#11915, drugId#11908, collect_set(actionType#11893, 0, 0) AS actionType2#11925]\n                     :                                                           :                                                              +- Project [targetId#11915, drugId#11908, actionType#11893, mechanismOfAction#11894]\n                     :                                                           :                                                                 +- Generate explode(targets#11898), true, [targetId#11915]\n                     :                                                           :                                                                    +- Project [drugId#11908, actionType#11893, mechanismOfAction#11894, targets#11898]\n                     :                                                           :                                                                       +- Generate explode(chemblIds#11895), true, [drugId#11908]\n                     :                                                           :                                                                          +- Relation [actionType#11893,mechanismOfAction#11894,chemblIds#11895,targetName#11896,targetType#11897,targets#11898,references#11899] parquet\n                     :                                                           +- Project [biosampleId#1059, biosampleName#1060]\n                     :                                                              +- Relation [biosampleId#1059,biosampleName#1060,description#1061,xrefs#1062,synonyms#1063,parents#1064,ancestors#1065,children#1066,descendants#1067] parquet\n                     +- Project [targetId#18079, diseaseId#18161, stopReason#16867]\n                        +- Project [targetId#18079, diseaseId#18161, count#16863L, Negative AS stopReason#16867]\n                           +- Aggregate [targetId#18079, diseaseId#18161], [targetId#18079, diseaseId#18161, count(1) AS count#16863L]\n                              +- Filter array_contains(studyStopReasonCategories#18143, Negative)\n                                 +- Project [targetId#18079, diseaseId#18161, studyStopReason#18142, studyStopReasonCategories#18143]\n                                    +- Filter (datasourceId#18078 = chembl)\n                                       +- Project [datasourceId#18078, targetId#18079, alleleOrigins#18080, allelicRequirements#18081, ancestry#18082, ancestryId#18083, beta#18084, betaConfidenceIntervalLower#18085, betaConfidenceIntervalUpper#18086, biologicalModelAllelicComposition#18087, biologicalModelGeneticBackground#18088, biologicalModelId#18089, biomarkerName#18090, biomarkers#18091, biosamplesFromSource#18092, cellType#18093, clinicalPhase#18094, clinicalSignificances#18095, clinicalStatus#18096, cohortDescription#18097, cohortId#18098, cohortPhenotypes#18099, cohortShortName#18100, confidence#18101, ... 66 more fields]\n                                          +- Filter datasourceId#18078 IN (gwas_credible_sets,gene_burden,eva,eva_somatic,gene2phenotype,orphanet,cancer_gene_census,intogen,impc,chembl)\n                                             +- Relation [datasourceId#18078,targetId#18079,alleleOrigins#18080,allelicRequirements#18081,ancestry#18082,ancestryId#18083,beta#18084,betaConfidenceIntervalLower#18085,betaConfidenceIntervalUpper#18086,biologicalModelAllelicComposition#18087,biologicalModelGeneticBackground#18088,biologicalModelId#18089,biomarkerName#18090,biomarkers#18091,biosamplesFromSource#18092,cellType#18093,clinicalPhase#18094,clinicalSignificances#18095,clinicalStatus#18096,cohortDescription#18097,cohortId#18098,cohortPhenotypes#18099,cohortShortName#18100,confidence#18101,... 65 more fields] parquet\n"
     ]
    }
   ],
   "source": [
    "from pyspark.sql import SparkSession\n",
    "from pyspark.sql import functions as F\n",
    "from pyspark.sql.window import Window\n",
    "from pyspark.sql.types import ArrayType\n",
    "\n",
    "# Assume 'spark' SparkSession is already created with optimized configurations\n",
    "# as discussed in the previous responses.\n",
    "\n",
    "# Make sure benchmark and negativeTD DataFrames are defined or loaded here\n",
    "# Example (replace with your actual loading logic):\n",
    "# benchmark = spark.read.parquet(\"hdfs:///path/to/your/benchmark_data.parquet\")\n",
    "# negativeTD = spark.read.parquet(\"hdfs:///path/to/your/negativeTD_data.parquet\")\n",
    "\n",
    "\n",
    "group_by_columns = ['targetId', 'diseaseId', 'phase4Clean', 'phase3Clean', 'phase2Clean', 'phase1Clean', 'PhaseT']\n",
    "columns_to_pivot_on = ['actionType2', 'biosampleName', 'projectId', 'rightStudyType', 'colocalisationMethod']\n",
    "columns_to_aggregate = ['NoneCellYes', 'NdiagonalYes', 'hasGenetics']\n",
    "doe_columns = [\"LoF_protect\", \"GoF_risk\", \"LoF_risk\", \"GoF_protect\"]\n",
    "diagonal_lof = ['LoF_protect', 'GoF_risk']\n",
    "diagonal_gof = ['LoF_risk', 'GoF_protect']\n",
    "conditions = [\n",
    "    F.when(F.col(c) == F.col(\"maxDoE\"), F.lit(c)).otherwise(F.lit(None)) for c in doe_columns\n",
    "]\n",
    "\n",
    "transformed_df = benchmark.withColumn('actionType2', F.concat_ws(\",\", F.col(\"actionType2\")))\n",
    "\n",
    "current_col_pvalue_order_window_unified = Window.partitionBy(\"targetId\", \"diseaseId\", \"maxClinPhase\").orderBy(F.col('colocalisationMethod').asc(), F.col(\"qtlPValueExponent\").asc())\n",
    "\n",
    "transformed_df = (\n",
    "    transformed_df\n",
    "    .withColumn('qtlColocDoE', F.first('colocDoE').over(current_col_pvalue_order_window_unified))\n",
    "    .groupBy(\n",
    "        \"targetId\", \"diseaseId\", \"maxClinPhase\", \"drugLoF_protect\", \"drugGoF_protect\",\n",
    "        *columns_to_pivot_on\n",
    "    )\n",
    "    .pivot(\"colocDoE\")\n",
    "    .count()\n",
    "    .withColumnRenamed('drugLoF_protect', 'LoF_protect_ch')\n",
    "    .withColumnRenamed('drugGoF_protect', 'GoF_protect_ch')\n",
    "    .fillna(0)\n",
    ")\n",
    "\n",
    "transformed_df = transformed_df.withColumn(\n",
    "    \"arrayN\", F.array(*[F.col(c) for c in doe_columns])\n",
    ").withColumn(\n",
    "    \"maxDoE\", F.array_max(F.col(\"arrayN\"))\n",
    ").withColumn(\n",
    "    \"maxDoE_names\", F.array(*conditions)\n",
    ").withColumn(\n",
    "    \"maxDoE_names\", F.expr(\"filter(maxDoE_names, x -> x is not null)\")\n",
    ").withColumn(\n",
    "    \"NoneCellYes\",\n",
    "    F.when((F.col(\"LoF_protect_ch\").isNotNull() & (F.col('GoF_protect_ch').isNull())) & (F.array_contains(F.col(\"maxDoE_names\"), F.lit(\"LoF_protect\")))==True, F.lit('yes'))\n",
    "    .when((F.col(\"GoF_protect_ch\").isNotNull() & (F.col('LoF_protect_ch').isNull())) & (F.array_contains(F.col(\"maxDoE_names\"), F.lit(\"GoF_protect\")))==True, F.lit('yes')\n",
    "        ).otherwise(F.lit('no'))\n",
    ").withColumn(\n",
    "    \"NdiagonalYes\",\n",
    "    F.when((F.col(\"LoF_protect_ch\").isNotNull() & (F.col('GoF_protect_ch').isNull())) &\n",
    "        (F.size(F.array_intersect(F.col(\"maxDoE_names\"), F.array([F.lit(x) for x in diagonal_lof]))) > 0),\n",
    "        F.lit(\"yes\")\n",
    "    ).when((F.col(\"GoF_protect_ch\").isNotNull() & (F.col('LoF_protect_ch').isNull())) &\n",
    "        (F.size(F.array_intersect(F.col(\"maxDoE_names\"), F.array([F.lit(x) for x in diagonal_gof]))) > 0),\n",
    "        F.lit(\"yes\")\n",
    "    ).otherwise(F.lit('no'))\n",
    ").withColumn(\n",
    "    \"drugCoherency\",\n",
    "    F.when(\n",
    "        (F.col(\"LoF_protect_ch\").isNotNull())\n",
    "        & (F.col(\"GoF_protect_ch\").isNull()), F.lit(\"coherent\")\n",
    "    )\n",
    "    .when(\n",
    "        (F.col(\"LoF_protect_ch\").isNull())\n",
    "        & (F.col(\"GoF_protect_ch\").isNotNull()), F.lit(\"coherent\")\n",
    "    )\n",
    "    .when(\n",
    "        (F.col(\"LoF_protect_ch\").isNotNull())\n",
    "        & (F.col(\"GoF_protect_ch\").isNotNull()), F.lit(\"dispar\")\n",
    "    )\n",
    "    .otherwise(F.lit(\"other\")),\n",
    ")\n",
    "\n",
    "transformed_df = transformed_df.join(negativeTD, on=[\"targetId\", \"diseaseId\"], how=\"left\")\n",
    "\n",
    "transformed_df = transformed_df.withColumn(\n",
    "    \"PhaseT\",\n",
    "    F.when(F.col(\"stopReason\") == \"Negative\", F.lit(\"yes\")).otherwise(F.lit(\"no\")),\n",
    ").withColumn(\n",
    "    \"phase4Clean\",\n",
    "    F.when(\n",
    "        (F.col(\"maxClinPhase\") == 4) & (F.col(\"PhaseT\") == \"no\"), F.lit(\"yes\")\n",
    "    ).otherwise(F.lit(\"no\")),\n",
    ").withColumn(\n",
    "    \"phase3Clean\",\n",
    "    F.when(\n",
    "        (F.col(\"maxClinPhase\") >= 3) & (F.col(\"PhaseT\") == \"no\"), F.lit(\"yes\")\n",
    "    ).otherwise(F.lit(\"no\")),\n",
    ").withColumn(\n",
    "    \"phase2Clean\",\n",
    "    F.when(\n",
    "        (F.col(\"maxClinPhase\") >= 2) & (F.col(\"PhaseT\") == \"no\"), F.lit(\"yes\")\n",
    "    ).otherwise(F.lit(\"no\")),\n",
    ").withColumn(\n",
    "    \"phase1Clean\",\n",
    "    F.when(\n",
    "        (F.col(\"maxClinPhase\") >= 1) & (F.col(\"PhaseT\") == \"no\"), F.lit(\"yes\")\n",
    "    ).otherwise(F.lit(\"no\")),\n",
    ").withColumn(\n",
    "    \"hasGenetics\",\n",
    "    F.when(F.col(\"coherencyDiagonal\") != \"noEvid\", F.lit(\"yes\")).otherwise(F.lit(\"no\")),\n",
    ")\n",
    "\n",
    "\n",
    "base_df_for_unpivot = transformed_df.select(\n",
    "    *group_by_columns,\n",
    "    *columns_to_pivot_on,\n",
    "    *columns_to_aggregate\n",
    ")\n",
    "\n",
    "pivot_col_expressions = [F.struct(F.lit(col).alias(\"pivot_col_name\"), F.col(col).alias(\"pivot_col_value\")) for col in columns_to_pivot_on]\n",
    "agg_col_expressions = [F.struct(F.lit(col).alias(\"agg_col_name\"), F.col(col).alias(\"agg_col_value\")) for col in columns_to_aggregate]\n",
    "\n",
    "\n",
    "unpivoted_pivot_cols = base_df_for_unpivot.select(\n",
    "    *group_by_columns,\n",
    "    F.explode(F.array(*pivot_col_expressions)).alias(\"pivot_data\"),\n",
    "    *columns_to_aggregate\n",
    ").select(\n",
    "    *group_by_columns,\n",
    "    F.col(\"pivot_data.pivot_col_name\"),\n",
    "    F.col(\"pivot_data.pivot_col_value\"),\n",
    "    *columns_to_aggregate\n",
    ")\n",
    "\n",
    "final_unpivoted_df = unpivoted_pivot_cols.select(\n",
    "    *group_by_columns,\n",
    "    F.col(\"pivot_col_name\"),\n",
    "    F.col(\"pivot_col_value\"),\n",
    "    F.explode(F.array(*agg_col_expressions)).alias(\"agg_data\")\n",
    ").select(\n",
    "    *group_by_columns,\n",
    "    F.col(\"pivot_col_name\"),\n",
    "    F.col(\"pivot_col_value\"),\n",
    "    F.col(\"agg_data.agg_col_name\"),\n",
    "    F.col(\"agg_data.agg_col_value\")\n",
    ")\n",
    "\n",
    "all_distinct_pivot_values = [\n",
    "    row[0] for row in final_unpivoted_df.select(\"pivot_col_value\").distinct().collect()\n",
    "    if row[0] is not None\n",
    "]\n",
    "\n",
    "\n",
    "final_pivoted_df = (\n",
    "    final_unpivoted_df\n",
    "    .groupBy(*group_by_columns, \"pivot_col_name\", \"agg_col_name\")\n",
    "    .pivot(\"pivot_col_value\", all_distinct_pivot_values)\n",
    "    .agg(F.collect_set(F.col(\"agg_col_value\")))\n",
    "    .fillna(F.array())\n",
    ")\n",
    "\n",
    "columns_to_process = [col_name for col_name in final_pivoted_df.columns if col_name in all_distinct_pivot_values]\n",
    "\n",
    "for col_to_convert in columns_to_process:\n",
    "    final_pivoted_df = final_pivoted_df.withColumn(\n",
    "        col_to_convert,\n",
    "        F.when(F.col(col_to_convert).isNull(), F.lit('no'))\n",
    "        .when(F.size(F.col(col_to_convert)) == 0, F.lit('no'))\n",
    "        .when(F.array_contains(F.col(col_to_convert), F.lit('yes')), F.lit('yes'))\n",
    "        .when(F.array_contains(F.col(col_to_convert), F.lit('no')), F.lit('no'))\n",
    "        .otherwise(F.lit('no'))\n",
    "    )\n",
    "\n",
    "unpivoted_values_df = final_pivoted_df.unpivot(\n",
    "    pivot_cols=all_distinct_pivot_values,\n",
    "    key_col=\"pivoted_value_key\",\n",
    "    value_col=\"pivoted_agg_result\"\n",
    ")\n",
    "\n",
    "final_combined_df = unpivoted_values_df.withColumn(\n",
    "    \"final_col_name\",\n",
    "    F.concat_ws(\"_\",\n",
    "                F.lit(\"Drug\"),\n",
    "                F.col(\"agg_col_name\"),\n",
    "                F.col(\"pivot_col_name\"),\n",
    "                F.col(\"pivoted_value_key\"))\n",
    ")\n",
    "\n",
    "all_final_column_names = [\n",
    "    row[0] for row in final_combined_df.select(\"final_col_name\").distinct().collect()\n",
    "    if row[0] is not None\n",
    "]\n",
    "\n",
    "final_wide_df = (\n",
    "    final_combined_df\n",
    "    .groupBy(*group_by_columns)\n",
    "    .pivot(\"final_col_name\", all_final_column_names)\n",
    "    .agg(F.first(F.col(\"pivoted_agg_result\")))\n",
    "    .fillna(\"no\")\n",
    ")\n",
    "\n",
    "final_wide_df = final_wide_df.withColumnRenamed('phase4Clean', 'Phase>=4') \\\n",
    "                             .withColumnRenamed('phase3Clean', 'Phase>=3') \\\n",
    "                             .withColumnRenamed('phase2Clean', 'Phase>=2') \\\n",
    "                             .withColumnRenamed('phase1Clean', 'Phase>=1')\n",
    "\n",
    "final_disdic_map = {col_name: parts[2] for col_name in all_final_column_names if len(parts := col_name.split('_')) >= 3 and parts[0] == 'Drug'}"
   ]
  },
  {
   "cell_type": "code",
   "execution_count": null,
   "metadata": {},
   "outputs": [],
   "source": []
  },
  {
   "cell_type": "code",
   "execution_count": null,
   "metadata": {},
   "outputs": [],
   "source": [
    "import time\n",
    "from array import ArrayType\n",
    "from functions import (\n",
    "    relative_success,\n",
    "    spreadSheetFormatter,\n",
    "    discrepancifier,\n",
    "    temporary_directionOfEffect,\n",
    "    buildColocData,\n",
    "    gwasDataset,\n",
    ")\n",
    "# from stoppedTrials import terminated_td\n",
    "from DoEAssessment import directionOfEffect\n",
    "# from membraneTargets import target_membrane\n",
    "from pyspark.sql import SparkSession, Window\n",
    "import pyspark.sql.functions as F\n",
    "from datetime import datetime\n",
    "from datetime import date\n",
    "from pyspark.sql.types import StructType, StructField, StringType, IntegerType\n",
    "from pyspark.sql.types import (\n",
    "    StructType,\n",
    "    StructField,\n",
    "    DoubleType,\n",
    "    DecimalType,\n",
    "    StringType,\n",
    "    FloatType,\n",
    ")\n",
    "import pandas as pd\n",
    "from functools import reduce\n",
    "\n",
    "# --- YARN and Spark Configuration Parameters ---\n",
    "# These parameters directly influence how Spark requests resources from YARN\n",
    "# and how memory is managed within your Spark application.\n",
    "\n",
    "# 1. spark.driver.memory: Memory allocated to the Spark driver program.\n",
    "#    The driver is responsible for coordinating tasks, scheduling, and collecting\n",
    "#    results. If you're doing operations like 'collect()' on large datasets,\n",
    "#    or working with large broadcast variables, increase this.\n",
    "#    General Guideline: Start with 2g-4g for interactive use, up to 8g-16g\n",
    "#    for very large metadata or small result collection.\n",
    "driver_memory = \"4g\"\n",
    "\n",
    "# 2. spark.executor.memory: Memory allocated to each Spark executor JVM.\n",
    "#    Executors are the worker processes that perform the actual data processing.\n",
    "#    This is *the most critical* setting for memory-related YARN issues.\n",
    "#    If your tasks are failing due to OOM errors, increase this significantly.\n",
    "#    General Guideline: Depends on your node size and data. Common values are\n",
    "#    4g, 8g, 16g, or even more. Ensure it doesn't exceed YARN's max container size.\n",
    "executor_memory = \"8g\"\n",
    "\n",
    "# 3. spark.executor.cores: Number of virtual cores (CPU) allocated to each executor.\n",
    "#    More cores means an executor can run more tasks concurrently.\n",
    "#    General Guideline: Typically 2-5 cores per executor. Avoid 1 core (poor parallelism)\n",
    "#    and too many cores (can lead to fewer executors and memory contention).\n",
    "executor_cores = \"4\"\n",
    "\n",
    "# 4. spark.executor.instances: The total number of executors to launch.\n",
    "#    This determines the overall parallelism of your application across the cluster.\n",
    "#    General Guideline: Calculate based on your total cluster resources.\n",
    "#    (Total available cores on cluster / executor_cores).\n",
    "#    Start with a reasonable number, e.g., 5-20, and scale up.\n",
    "num_executors = \"10\" # Example: 10 executors\n",
    "\n",
    "# 5. spark.yarn.executor.memoryOverhead: Additional memory for the YARN container\n",
    "#    beyond the JVM heap (spark.executor.memory). This includes off-heap memory,\n",
    "#    PySpark's Python process memory, thread stacks, etc.\n",
    "#    Crucial for PySpark! If this is too low, YARN can kill your containers\n",
    "#    even if your Java heap (executor_memory) is fine.\n",
    "#    General Guideline: 10-20% of spark.executor.memory, or a fixed amount like 1g-2g.\n",
    "#    For PySpark, it's often safer to allocate more.\n",
    "executor_memory_overhead = \"2g\" # For an 8g executor, 2g overhead is reasonable (25%)\n",
    "\n",
    "# 6. spark.sql.shuffle.partitions: The number of partitions used for shuffling data\n",
    "#    during operations like `groupBy`, `join`, `agg`, `sort`.\n",
    "#    If this is too low: You can get OOM errors if partitions are too large,\n",
    "#    or task failures due to data skew.\n",
    "#    If this is too high: Creates many small tasks, leading to overhead.\n",
    "#    General Guideline: A common heuristic is 2-4 times the total number of CPU cores\n",
    "#    available in your application (executor_cores * num_executors).\n",
    "#    For your current setup (4 cores * 10 executors = 40 cores), 400 is very high.\n",
    "#    Consider (num_executors * executor_cores * 2) as a starting point.\n",
    "#    Example: 10 executors * 4 cores/executor = 40 total cores. 40 * 2 = 80 partitions.\n",
    "#    However, if you have *very* large datasets or significant data skew, 400 might be okay,\n",
    "#    but it's usually better to start lower and increase if you see skew/large partition processing.\n",
    "shuffle_partitions = \"150\" # Adjust based on data size and parallelism\n",
    "\n",
    "# 7. spark.default.parallelism: This parameter is important for RDD operations (less so for DataFrames,\n",
    "#    where spark.sql.shuffle.partitions is more relevant for shuffles). It suggests the default\n",
    "#    number of partitions for RDDs created from scratch, and also influences the number of tasks.\n",
    "#    It's often set to match or be a multiple of the total number of cores.\n",
    "default_parallelism = str(int(executor_cores) * int(num_executors) * 2) # A common heuristic\n",
    "\n",
    "# --- Build the SparkSession ---\n",
    "# Use the .config() method to set these parameters before calling .getOrCreate()\n",
    "# This ensures Spark requests the correct resources from YARN at the start.\n",
    "\n",
    "spark = SparkSession.builder \\\n",
    "    .appName(\"MyOptimizedPySparkApp\") \\\n",
    "    .config(\"spark.master\", \"yarn\") \\\n",
    "    .config(\"spark.driver.memory\", driver_memory) \\\n",
    "    .config(\"spark.executor.memory\", executor_memory) \\\n",
    "    .config(\"spark.executor.cores\", executor_cores) \\\n",
    "    .config(\"spark.executor.instances\", num_executors) \\\n",
    "    .config(\"spark.yarn.executor.memoryOverhead\", executor_memory_overhead) \\\n",
    "    .config(\"spark.sql.shuffle.partitions\", shuffle_partitions) \\\n",
    "    .config(\"spark.default.parallelism\", default_parallelism) \\\n",
    "    .getOrCreate()\n",
    "\n",
    "print(f\"SparkSession created successfully with the following configurations:\")\n",
    "print(f\"  spark.driver.memory: {spark.conf.get('spark.driver.memory')}\")\n",
    "print(f\"  spark.executor.memory: {spark.conf.get('spark.executor.memory')}\")\n",
    "print(f\"  spark.executor.cores: {spark.conf.get('spark.executor.cores')}\")\n",
    "print(f\"  spark.executor.instances: {spark.conf.get('spark.executor.instances')}\")\n",
    "print(f\"  spark.yarn.executor.memoryOverhead: {spark.conf.get('spark.yarn.executor.memoryOverhead')}\")\n",
    "print(f\"  spark.sql.shuffle.partitions: {spark.conf.get('spark.sql.shuffle.partitions')}\")\n",
    "print(f\"  spark.default.parallelism: {spark.conf.get('spark.default.parallelism')}\")\n",
    "print(f\"Spark UI available at: {spark.sparkContext.uiWebUrl}\")\n",
    "\n",
    "# --- Your PySpark Code Here ---\n",
    "# Now you can proceed with your data loading and processing.\n",
    "# Example:\n",
    "# df = spark.read.parquet(\"hdfs:///user/your_user/your_large_data.parquet\")\n",
    "# print(f\"Number of rows in DataFrame: {df.count()}\")\n",
    "# df.groupBy(\"some_column\").agg({\"another_column\": \"sum\"}).show()\n",
    "\n",
    "# Remember to stop the SparkSession when you are done\n",
    "# spark.stop()\n",
    "\n",
    "path_n='gs://open-targets-data-releases/25.06/output/'\n",
    "\n",
    "target = spark.read.parquet(f\"{path_n}target/\")\n",
    "\n",
    "diseases = spark.read.parquet(f\"{path_n}disease/\")\n",
    "\n",
    "evidences = spark.read.parquet(f\"{path_n}evidence\")\n",
    "\n",
    "credible = spark.read.parquet(f\"{path_n}credible_set\")\n",
    "\n",
    "new = spark.read.parquet(f\"{path_n}colocalisation_coloc\") \n",
    "\n",
    "index=spark.read.parquet(f\"{path_n}study/\")\n",
    "\n",
    "variantIndex = spark.read.parquet(f\"{path_n}variant\")\n",
    "\n",
    "biosample = spark.read.parquet(f\"{path_n}biosample\")\n",
    "\n",
    "ecaviar=spark.read.parquet(f\"{path_n}colocalisation_ecaviar\")\n",
    "\n",
    "all_coloc=ecaviar.unionByName(new, allowMissingColumns=True)\n",
    "\n",
    "print(\"loaded files\")\n",
    "\n",
    "#### FIRST MODULE: BUILDING COLOC \n",
    "newColoc=buildColocData(all_coloc,credible,index)\n",
    "\n",
    "print(\"loaded newColoc\")\n",
    "\n",
    "### SECOND MODULE: PROCESS EVIDENCES TO AVOID EXCESS OF COLUMNS \n",
    "gwasComplete = gwasDataset(evidences,credible)\n",
    "\n",
    "#### THIRD MODULE: INCLUDE COLOC IN THE \n",
    "resolvedColoc = (\n",
    "    (\n",
    "        newColoc.withColumnRenamed(\"geneId\", \"targetId\")\n",
    "        .join(\n",
    "            gwasComplete.withColumnRenamed(\"studyLocusId\", \"leftStudyLocusId\"),\n",
    "            on=[\"leftStudyLocusId\", \"targetId\"],\n",
    "            how=\"inner\",\n",
    "        )\n",
    "        .join(  ### propagated using parent terms\n",
    "            diseases.selectExpr(\n",
    "                \"id as diseaseId\", \"name\", \"parents\", \"therapeuticAreas\"\n",
    "            ),\n",
    "            on=\"diseaseId\",\n",
    "            how=\"left\",\n",
    "        )\n",
    "        .withColumn(\n",
    "            \"diseaseId\",\n",
    "            F.explode_outer(F.concat(F.array(F.col(\"diseaseId\")), F.col(\"parents\"))),\n",
    "        )\n",
    "        .drop(\"parents\", \"oldDiseaseId\")\n",
    "    ).withColumn(\n",
    "        \"colocDoE\",\n",
    "        F.when(\n",
    "            F.col(\"rightStudyType\").isin(\n",
    "                [\"eqtl\", \"pqtl\", \"tuqtl\", \"sceqtl\", \"sctuqtl\"]\n",
    "            ),\n",
    "            F.when(\n",
    "                (F.col(\"betaGwas\") > 0) & (F.col(\"betaRatioSignAverage\") > 0),\n",
    "                F.lit(\"GoF_risk\"),\n",
    "            )\n",
    "            .when(\n",
    "                (F.col(\"betaGwas\") > 0) & (F.col(\"betaRatioSignAverage\") < 0),\n",
    "                F.lit(\"LoF_risk\"),\n",
    "            )\n",
    "            .when(\n",
    "                (F.col(\"betaGwas\") < 0) & (F.col(\"betaRatioSignAverage\") > 0),\n",
    "                F.lit(\"LoF_protect\"),\n",
    "            )\n",
    "            .when(\n",
    "                (F.col(\"betaGwas\") < 0) & (F.col(\"betaRatioSignAverage\") < 0),\n",
    "                F.lit(\"GoF_protect\"),\n",
    "            ),\n",
    "        ).when(\n",
    "            F.col(\"rightStudyType\").isin(\n",
    "                [\"sqtl\", \"scsqtl\"]\n",
    "            ),  ### opposite directionality than sqtl\n",
    "            F.when(\n",
    "                (F.col(\"betaGwas\") > 0) & (F.col(\"betaRatioSignAverage\") > 0),\n",
    "                F.lit(\"LoF_risk\"),\n",
    "            )\n",
    "            .when(\n",
    "                (F.col(\"betaGwas\") > 0) & (F.col(\"betaRatioSignAverage\") < 0),\n",
    "                F.lit(\"GoF_risk\"),\n",
    "            )\n",
    "            .when(\n",
    "                (F.col(\"betaGwas\") < 0) & (F.col(\"betaRatioSignAverage\") > 0),\n",
    "                F.lit(\"GoF_protect\"),\n",
    "            )\n",
    "            .when(\n",
    "                (F.col(\"betaGwas\") < 0) & (F.col(\"betaRatioSignAverage\") < 0),\n",
    "                F.lit(\"LoF_protect\"),\n",
    "            ),\n",
    "        ),\n",
    "    )\n",
    "    # .persist()\n",
    ")\n",
    "print(\"loaded resolvedColloc\")\n",
    "\n",
    "datasource_filter = [\n",
    "#   \"ot_genetics_portal\",\n",
    "    \"gwas_credible_sets\",\n",
    "    \"gene_burden\",\n",
    "    \"eva\",\n",
    "    \"eva_somatic\",\n",
    "    \"gene2phenotype\",\n",
    "    \"orphanet\",\n",
    "    \"cancer_gene_census\",\n",
    "    \"intogen\",\n",
    "    \"impc\",\n",
    "    \"chembl\",\n",
    "]\n",
    "\n",
    "assessment, evidences, actionType, oncolabel = temporary_directionOfEffect(\n",
    "    path_n, datasource_filter\n",
    ")\n",
    "\n",
    "print(\"run temporary direction of effect\")\n",
    "\n",
    "\n",
    "print(\"built drugApproved dataset\")\n",
    "\n",
    "\n",
    "#### FOURTH MODULE BUILDING CHEMBL ASSOCIATIONS - HERE TAKE CARE WITH FILTERING STEP \n",
    "analysis_chembl_indication = (\n",
    "    discrepancifier(\n",
    "        assessment.filter((F.col(\"datasourceId\") == \"chembl\"))\n",
    "        .withColumn(\n",
    "            \"maxClinPhase\",\n",
    "            F.max(F.col(\"clinicalPhase\")).over(\n",
    "                Window.partitionBy(\"targetId\", \"diseaseId\")\n",
    "            ),\n",
    "        )\n",
    "        .groupBy(\"targetId\", \"diseaseId\", \"maxClinPhase\")\n",
    "        .pivot(\"homogenized\")\n",
    "        .agg(F.count(\"targetId\"))\n",
    "    )\n",
    "    #.filter(F.col(\"coherencyDiagonal\") == \"coherent\")\n",
    "    .drop(\n",
    "        \"coherencyDiagonal\", \"coherencyOneCell\", \"noEvaluable\", \"GoF_risk\", \"LoF_risk\"\n",
    "    )\n",
    "    .withColumnRenamed(\"GoF_protect\", \"drugGoF_protect\")\n",
    "    .withColumnRenamed(\"LoF_protect\", \"drugLoF_protect\")\n",
    "    # .persist()\n",
    ")\n",
    "\n",
    "####2 Define agregation function\n",
    "import pandas as pd\n",
    "import numpy as np\n",
    "from scipy.stats import fisher_exact\n",
    "from scipy.stats.contingency import odds_ratio\n",
    "from pyspark.sql.types import *\n",
    "\n",
    "\n",
    "def convertTuple(tup):\n",
    "    st = \",\".join(map(str, tup))\n",
    "    return st\n",
    "\n",
    "\n",
    "#####3 run in a function\n",
    "def aggregations_original(\n",
    "    df,\n",
    "    data,\n",
    "    listado,\n",
    "    comparisonColumn,\n",
    "    comparisonType,\n",
    "    predictionColumn,\n",
    "    predictionType,\n",
    "    today_date,\n",
    "):\n",
    "    wComparison = Window.partitionBy(comparisonColumn)\n",
    "    wPrediction = Window.partitionBy(predictionColumn)\n",
    "    wPredictionComparison = Window.partitionBy(comparisonColumn, predictionColumn)\n",
    "    results = []\n",
    "    # uniqIds = df.select(\"targetId\", \"diseaseId\").distinct().count()\n",
    "    out = (\n",
    "        df.withColumn(\"comparisonType\", F.lit(comparisonType))\n",
    "        .withColumn(\"dataset\", F.lit(data))\n",
    "        .withColumn(\"predictionType\", F.lit(predictionType))\n",
    "        # .withColumn(\"total\", F.lit(uniqIds))\n",
    "        .withColumn(\"a\", F.count(\"targetId\").over(wPredictionComparison))\n",
    "        .withColumn(\"comparisonColumn\", F.lit(comparisonColumn))\n",
    "        .withColumn(\"predictionColumnValue\", F.lit(predictionColumn))\n",
    "        .withColumn(\n",
    "            \"predictionTotal\",\n",
    "            F.count(\"targetId\").over(wPrediction),\n",
    "        )\n",
    "        .withColumn(\n",
    "            \"comparisonTotal\",\n",
    "            F.count(\"targetId\").over(wComparison),\n",
    "        )\n",
    "        .select(\n",
    "            F.col(predictionColumn).alias(\"prediction\"),\n",
    "            F.col(comparisonColumn).alias(\"comparison\"),\n",
    "            \"dataset\",\n",
    "            \"comparisonColumn\",\n",
    "            \"predictionColumnValue\",\n",
    "            \"comparisonType\",\n",
    "            \"predictionType\",\n",
    "            \"a\",\n",
    "            \"predictionTotal\",\n",
    "            \"comparisonTotal\",\n",
    "        )\n",
    "        .filter(F.col(\"prediction\").isNotNull())\n",
    "        .filter(F.col(\"comparison\").isNotNull())\n",
    "        .distinct()\n",
    "    )\n",
    "\n",
    "    out.write.mode(\"overwrite\").parquet(\n",
    "        \"gs://ot-team/jroldan/\"\n",
    "        + str(\n",
    "            today_date\n",
    "            + \"_\"\n",
    "            + \"analysis/\"\n",
    "            + data\n",
    "            # + \"_propagated\"\n",
    "            + \"/\"\n",
    "            + comparisonColumn\n",
    "            + \"_\"\n",
    "            + comparisonType\n",
    "            + \"_\"\n",
    "            + predictionColumn\n",
    "            + \".parquet\"\n",
    "        )\n",
    "    )\n",
    "\n",
    "    listado.append(\n",
    "        \"gs://ot-team/jroldan/\"\n",
    "        + str(\n",
    "            today_date\n",
    "            + \"_\"\n",
    "            + \"analysis/\"\n",
    "            + data\n",
    "            # + \"_propagated\"\n",
    "            + \"/\"\n",
    "            + comparisonColumn\n",
    "            + \"_\"\n",
    "            + comparisonType\n",
    "            + \"_\"\n",
    "            + predictionColumn\n",
    "            + \".parquet\"\n",
    "        )\n",
    "    )\n",
    "    path = \"gs://ot-team/jroldan/\" + str(\n",
    "        today_date\n",
    "        + \"_\"\n",
    "        + \"analysis/\"\n",
    "        + data\n",
    "        # + \"_propagated\"\n",
    "        + \"/\"\n",
    "        + comparisonColumn\n",
    "        + \"_\"\n",
    "        + comparisonType\n",
    "        + \"_\"\n",
    "        + predictionColumn\n",
    "        + \".parquet\"\n",
    "    )\n",
    "    print(path)\n",
    "    \n",
    "    ### making analysis\n",
    "    array1 = np.delete(\n",
    "        out.join(full_data, on=[\"prediction\", \"comparison\"], how=\"outer\")\n",
    "        .groupBy(\"comparison\")\n",
    "        .pivot(\"prediction\")\n",
    "        .agg(F.first(\"a\"))\n",
    "        .sort(F.col(\"comparison\").desc())\n",
    "        .select(\"comparison\", \"yes\", \"no\")\n",
    "        .fillna(0)\n",
    "        .toPandas()\n",
    "        .to_numpy(),\n",
    "        [0],\n",
    "        1,\n",
    "    )\n",
    "    total = np.sum(array1)\n",
    "    res_npPhaseX = np.array(array1, dtype=int)\n",
    "    resX = convertTuple(fisher_exact(res_npPhaseX, alternative=\"two-sided\"))\n",
    "    resx_CI = convertTuple(\n",
    "        odds_ratio(res_npPhaseX).confidence_interval(confidence_level=0.95)\n",
    "    )\n",
    "\n",
    "    result_st.append(resX)\n",
    "    result_ci.append(resx_CI)\n",
    "    (rs_result, rs_ci) = relative_success(array1)\n",
    "    results.extend(\n",
    "        [\n",
    "            comparisonType,\n",
    "            comparisonColumn,\n",
    "            predictionColumn,\n",
    "            round(float(resX.split(\",\")[0]), 2),\n",
    "            float(resX.split(\",\")[1]),\n",
    "            round(float(resx_CI.split(\",\")[0]), 2),\n",
    "            round(float(resx_CI.split(\",\")[1]), 2),\n",
    "            str(total),\n",
    "            np.array(res_npPhaseX).tolist(),\n",
    "            round(float(rs_result), 2),\n",
    "            round(float(rs_ci[0]), 2),\n",
    "            round(float(rs_ci[1]), 2),\n",
    "            # studies,\n",
    "            # tissues,\n",
    "            path,\n",
    "        ]\n",
    "    )\n",
    "    return results\n",
    "\n",
    "\n",
    "#### 3 Loop over different datasets (as they will have different rows and columns)\n",
    "\n",
    "\n",
    "def comparisons_df_iterative(elements):\n",
    "    #toAnalysis = [(key, value) for key, value in disdic.items() if value == projectId]\n",
    "    toAnalysis = [(col, \"predictor\") for col in elements]\n",
    "    schema = StructType(\n",
    "        [\n",
    "            StructField(\"comparison\", StringType(), True),\n",
    "            StructField(\"comparisonType\", StringType(), True),\n",
    "        ]\n",
    "    )\n",
    "\n",
    "    comparisons = spark.createDataFrame(toAnalysis, schema=schema)\n",
    "    ### include all the columns as predictor\n",
    "\n",
    "    predictions = spark.createDataFrame(\n",
    "        data=[\n",
    "            (\"Phase>=4\", \"clinical\"),\n",
    "            #('Phase>=3','clinical'),\n",
    "            #('Phase>=2','clinical'),\n",
    "            #('Phase>=1','clinical'),\n",
    "            #(\"PhaseT\", \"clinical\"),\n",
    "        ]\n",
    "    )\n",
    "    return comparisons.join(predictions, how=\"full\").collect()\n",
    "\n",
    "\n",
    "print(\"load comparisons_df_iterative function\")\n",
    "\n",
    "\n",
    "full_data = spark.createDataFrame(\n",
    "    data=[\n",
    "        (\"yes\", \"yes\"),\n",
    "        (\"yes\", \"no\"),\n",
    "        (\"no\", \"yes\"),\n",
    "        (\"no\", \"no\"),\n",
    "    ],\n",
    "    schema=StructType(\n",
    "        [\n",
    "            StructField(\"prediction\", StringType(), True),\n",
    "            StructField(\"comparison\", StringType(), True),\n",
    "        ]\n",
    "    ),\n",
    ")\n",
    "print(\"created full_data and lists\")\n",
    "\n",
    "#rightTissue = spark.read.csv(\n",
    "#    'gs://ot-team/jroldan/analysis/20250526_rightTissue.csv',\n",
    "#    header=True,\n",
    "#).drop(\"_c0\")\n",
    "\n",
    "print(\"loaded rightTissue dataset\")\n",
    "\n",
    "negativeTD = (\n",
    "    evidences.filter(F.col(\"datasourceId\") == \"chembl\")\n",
    "    .select(\"targetId\", \"diseaseId\", \"studyStopReason\", \"studyStopReasonCategories\")\n",
    "    .filter(F.array_contains(F.col(\"studyStopReasonCategories\"), \"Negative\"))\n",
    "    .groupBy(\"targetId\", \"diseaseId\")\n",
    "    .count()\n",
    "    .withColumn(\"stopReason\", F.lit(\"Negative\"))\n",
    "    .drop(\"count\")\n",
    ")\n",
    "\n",
    "print(\"built negativeTD dataset\")\n",
    "\n",
    "print(\"built bench2 dataset\")\n",
    "\n",
    "###### cut from here\n",
    "print(\"looping for variables_study\")\n",
    "\n",
    "#### new part with chatgpt -- TEST\n",
    "\n",
    "## QUESTIONS TO ANSWER:\n",
    "# HAVE ECAVIAR >=0.8\n",
    "# HAVE COLOC \n",
    "# HAVE COLOC >= 0.8\n",
    "# HAVE COLOC + ECAVIAR >= 0.01\n",
    "# HAVE COLOC >= 0.8 + ECAVIAR >= 0.01\n",
    "# RIGHT JOING WITH CHEMBL \n",
    "\n",
    "### FIFTH MODULE: BUILDING BENCHMARK OF THE DATASET TO EXTRACT EHE ANALYSIS \n",
    "\n",
    "resolvedColocFiltered = resolvedColoc.filter((F.col('clpp')>=0.01) | (F.col('h4')>=0.8))\n",
    "benchmark = (\n",
    "    (\n",
    "        resolvedColocFiltered.filter( ## .filter(F.col(\"betaGwas\") < 0)\n",
    "        F.col(\"name\") != \"COVID-19\"\n",
    "    )\n",
    "        .join(  ### select just GWAS giving protection\n",
    "            analysis_chembl_indication, on=[\"targetId\", \"diseaseId\"], how=\"right\"  ### RIGHT SIDE\n",
    "        )\n",
    "        .withColumn(\n",
    "            \"AgreeDrug\",\n",
    "            F.when(\n",
    "                (F.col(\"drugGoF_protect\").isNotNull())\n",
    "                & (F.col(\"colocDoE\") == \"GoF_protect\"),\n",
    "                F.lit(\"yes\"),\n",
    "            )\n",
    "            .when(\n",
    "                (F.col(\"drugLoF_protect\").isNotNull())\n",
    "                & (F.col(\"colocDoE\") == \"LoF_protect\"),\n",
    "                F.lit(\"yes\"),\n",
    "            )\n",
    "            .otherwise(F.lit(\"no\")),\n",
    "        )\n",
    "    )  #### remove COVID-19 associations\n",
    ").join(biosample.select(\"biosampleId\", \"biosampleName\"), on=\"biosampleId\", how=\"left\")\n",
    "\n",
    "\n",
    "### drug mechanism of action\n",
    "mecact_path = f\"{path_n}drug_mechanism_of_action/\" #  mechanismOfAction == old version\n",
    "mecact = spark.read.parquet(mecact_path)\n",
    "\n",
    "inhibitors = [\n",
    "    \"RNAI INHIBITOR\",\n",
    "    \"NEGATIVE MODULATOR\",\n",
    "    \"NEGATIVE ALLOSTERIC MODULATOR\",\n",
    "    \"ANTAGONIST\",\n",
    "    \"ANTISENSE INHIBITOR\",\n",
    "    \"BLOCKER\",\n",
    "    \"INHIBITOR\",\n",
    "    \"DEGRADER\",\n",
    "    \"INVERSE AGONIST\",\n",
    "    \"ALLOSTERIC ANTAGONIST\",\n",
    "    \"DISRUPTING AGENT\",\n",
    "]\n",
    "\n",
    "activators = [\n",
    "    \"PARTIAL AGONIST\",\n",
    "    \"ACTIVATOR\",\n",
    "    \"POSITIVE ALLOSTERIC MODULATOR\",\n",
    "    \"POSITIVE MODULATOR\",\n",
    "    \"AGONIST\",\n",
    "    \"SEQUESTERING AGENT\",  ## lost at 31.01.2025\n",
    "    \"STABILISER\",\n",
    "    # \"EXOGENOUS GENE\", ## added 24.06.2025\n",
    "    # \"EXOGENOUS PROTEIN\" ## added 24.06.2025\n",
    "]\n",
    "\n",
    "\n",
    "actionType = (\n",
    "        mecact.select(\n",
    "            F.explode_outer(\"chemblIds\").alias(\"drugId\"),\n",
    "            \"actionType\",\n",
    "            \"mechanismOfAction\",\n",
    "            \"targets\",\n",
    "        )\n",
    "        .select(\n",
    "            F.explode_outer(\"targets\").alias(\"targetId\"),\n",
    "            \"drugId\",\n",
    "            \"actionType\",\n",
    "            \"mechanismOfAction\",\n",
    "        )\n",
    "        .groupBy(\"targetId\", \"drugId\")\n",
    "        .agg(F.collect_set(\"actionType\").alias(\"actionType2\"))\n",
    "    ).withColumn('nMoA', F.size(F.col('actionType2')))\n",
    "\n",
    "analysis_chembl_indication = (\n",
    "    discrepancifier(\n",
    "        assessment.filter((F.col(\"datasourceId\") == \"chembl\")).join(actionType, on=['targetId','drugId'], how='left')\n",
    "        .withColumn(\n",
    "            \"maxClinPhase\",\n",
    "            F.max(F.col(\"clinicalPhase\")).over(\n",
    "                Window.partitionBy(\"targetId\", \"diseaseId\")\n",
    "            ),\n",
    "        )\n",
    "        .groupBy(\"targetId\", \"diseaseId\", \"maxClinPhase\",'actionType2')\n",
    "        .pivot(\"homogenized\")\n",
    "        .agg(F.count(\"targetId\"))\n",
    "    )\n",
    "    #.filter(F.col(\"coherencyDiagonal\") == \"coherent\")\n",
    "    .drop(\n",
    "        \"coherencyDiagonal\", \"coherencyOneCell\", \"noEvaluable\", \"GoF_risk\", \"LoF_risk\"\n",
    "    )\n",
    "    .withColumnRenamed(\"GoF_protect\", \"drugGoF_protect\")\n",
    "    .withColumnRenamed(\"LoF_protect\", \"drugLoF_protect\")\n",
    ")\n",
    "\n",
    "benchmark = (\n",
    "    (\n",
    "        resolvedColocFiltered.filter( ## .filter(F.col(\"betaGwas\") < 0)\n",
    "        F.col(\"name\") != \"COVID-19\"\n",
    "    )\n",
    "        .join(  ### select just GWAS giving protection\n",
    "            analysis_chembl_indication, on=[\"targetId\", \"diseaseId\"], how=\"right\"  ### RIGHT SIDE\n",
    "        )\n",
    "        .withColumn(\n",
    "            \"AgreeDrug\",\n",
    "            F.when(\n",
    "                (F.col(\"drugGoF_protect\").isNotNull())\n",
    "                & (F.col(\"colocDoE\") == \"GoF_protect\"),\n",
    "                F.lit(\"yes\"),\n",
    "            )\n",
    "            .when(\n",
    "                (F.col(\"drugLoF_protect\").isNotNull())\n",
    "                & (F.col(\"colocDoE\") == \"LoF_protect\"),\n",
    "                F.lit(\"yes\"),\n",
    "            )\n",
    "            .otherwise(F.lit(\"no\")),\n",
    "        )\n",
    "    )  #### remove COVID-19 associations\n",
    ").join(biosample.select(\"biosampleId\", \"biosampleName\"), on=\"biosampleId\", how=\"left\")\n",
    "\n",
    "negativeTD = (\n",
    "    evidences.filter(F.col(\"datasourceId\") == \"chembl\")\n",
    "    .select(\"targetId\", \"diseaseId\", \"studyStopReason\", \"studyStopReasonCategories\")\n",
    "    .filter(F.array_contains(F.col(\"studyStopReasonCategories\"), \"Negative\"))\n",
    "    .groupBy(\"targetId\", \"diseaseId\")\n",
    "    .count()\n",
    "    .withColumn(\"stopReason\", F.lit(\"Negative\"))\n",
    "    .drop(\"count\")\n",
    ")\n",
    "\n",
    "### create disdic dictionary\n",
    "disdic={}\n",
    "\n",
    "# --- Configuration for your iterative pivoting ---\n",
    "group_by_columns = ['targetId', 'diseaseId','phase4Clean','phase3Clean','phase2Clean','phase1Clean','PhaseT']\n",
    "columns_to_pivot_on = ['actionType2', 'biosampleName', 'projectId', 'rightStudyType','colocalisationMethod']\n",
    "columns_to_aggregate = ['NoneCellYes', 'NdiagonalYes','hasGenetics'] # The values you want to collect in the pivoted cells\n",
    "all_pivoted_dfs = {}\n",
    "\n",
    "doe_columns=[\"LoF_protect\", \"GoF_risk\", \"LoF_risk\", \"GoF_protect\"]\n",
    "diagonal_lof=['LoF_protect','GoF_risk']\n",
    "diagonal_gof=['LoF_risk','GoF_protect']\n",
    "\n",
    "conditions = [\n",
    "    F.when(F.col(c) == F.col(\"maxDoE\"), F.lit(c)).otherwise(F.lit(None)) for c in doe_columns\n",
    "    ]\n",
    "\n",
    "# --- Nested Loops for Dynamic Pivoting ---\n",
    "for agg_col_name in columns_to_aggregate:\n",
    "    for pivot_col_name in columns_to_pivot_on:\n",
    "        print(f\"\\n--- Creating DataFrame for Aggregation: '{agg_col_name}' and Pivot: '{pivot_col_name}' ---\")\n",
    "        current_col_pvalue_order_window = Window.partitionBy(\"targetId\", \"diseaseId\", \"maxClinPhase\", pivot_col_name).orderBy(F.col('colocalisationMethod').asc(), F.col(\"qtlPValueExponent\").asc())\n",
    "        test2=discrepancifier(benchmark.withColumn('actionType2', F.concat_ws(\",\", F.col(\"actionType2\"))).withColumn('qtlColocDoE',F.first('colocDoE').over(current_col_pvalue_order_window)).groupBy(\n",
    "        \"targetId\", \"diseaseId\", \"maxClinPhase\", \"drugLoF_protect\", \"drugGoF_protect\",pivot_col_name)\n",
    "        .pivot(\"colocDoE\")\n",
    "        .count()\n",
    "        .withColumnRenamed('drugLoF_protect', 'LoF_protect_ch')\n",
    "        .withColumnRenamed('drugGoF_protect', 'GoF_protect_ch')).withColumn( ## .filter(F.col('coherencyDiagonal')!='noEvid')\n",
    "    \"arrayN\", F.array(*[F.col(c) for c in doe_columns])\n",
    "    ).withColumn(\n",
    "        \"maxDoE\", F.array_max(F.col(\"arrayN\"))\n",
    "    ).withColumn(\"maxDoE_names\", F.array(*conditions)\n",
    "    ).withColumn(\"maxDoE_names\", F.expr(\"filter(maxDoE_names, x -> x is not null)\")\n",
    "    ).withColumn(\n",
    "        \"NoneCellYes\",\n",
    "        F.when((F.col(\"LoF_protect_ch\").isNotNull() & (F.col('GoF_protect_ch').isNull())) & (F.array_contains(F.col(\"maxDoE_names\"), F.lit(\"LoF_protect\")))==True, F.lit('yes'))\n",
    "        .when((F.col(\"GoF_protect_ch\").isNotNull() & (F.col('LoF_protect_ch').isNull())) & (F.array_contains(F.col(\"maxDoE_names\"), F.lit(\"GoF_protect\")))==True, F.lit('yes')\n",
    "            ).otherwise(F.lit('no'))  # If the value is null, return null # Otherwise, check if name is in array\n",
    "    ).withColumn(\n",
    "        \"NdiagonalYes\",\n",
    "        F.when((F.col(\"LoF_protect_ch\").isNotNull() & (F.col('GoF_protect_ch').isNull())) & \n",
    "            (F.size(F.array_intersect(F.col(\"maxDoE_names\"), F.array([F.lit(x) for x in diagonal_lof]))) > 0),\n",
    "            F.lit(\"yes\")\n",
    "        ).when((F.col(\"GoF_protect_ch\").isNotNull() & (F.col('LoF_protect_ch').isNull())) & \n",
    "            (F.size(F.array_intersect(F.col(\"maxDoE_names\"), F.array([F.lit(x) for x in diagonal_gof]))) > 0),\n",
    "            F.lit(\"yes\")\n",
    "        ).otherwise(F.lit('no'))\n",
    "    ).withColumn(\n",
    "        \"drugCoherency\",\n",
    "        F.when(\n",
    "            (F.col(\"LoF_protect_ch\").isNotNull())\n",
    "            & (F.col(\"GoF_protect_ch\").isNull()), F.lit(\"coherent\")\n",
    "        )\n",
    "        .when(\n",
    "            (F.col(\"LoF_protect_ch\").isNull())\n",
    "            & (F.col(\"GoF_protect_ch\").isNotNull()), F.lit(\"coherent\")\n",
    "        )\n",
    "        .when(\n",
    "            (F.col(\"LoF_protect_ch\").isNotNull())\n",
    "            & (F.col(\"GoF_protect_ch\").isNotNull()), F.lit(\"dispar\")\n",
    "        )\n",
    "        .otherwise(F.lit(\"other\")),\n",
    "    ).join(negativeTD, on=[\"targetId\", \"diseaseId\"], how=\"left\").withColumn(\n",
    "        \"PhaseT\",\n",
    "        F.when(F.col(\"stopReason\") == \"Negative\", F.lit(\"yes\")).otherwise(F.lit(\"no\")),\n",
    "    ).withColumn(\n",
    "        \"phase4Clean\",\n",
    "        F.when(\n",
    "            (F.col(\"maxClinPhase\") == 4) & (F.col(\"PhaseT\") == \"no\"), F.lit(\"yes\")\n",
    "        ).otherwise(F.lit(\"no\")),\n",
    "    ).withColumn(\n",
    "        \"phase3Clean\",\n",
    "        F.when(\n",
    "            (F.col(\"maxClinPhase\") >= 3) & (F.col(\"PhaseT\") == \"no\"), F.lit(\"yes\")\n",
    "        ).otherwise(F.lit(\"no\")),\n",
    "    ).withColumn(\n",
    "        \"phase2Clean\",\n",
    "        F.when(\n",
    "            (F.col(\"maxClinPhase\") >= 2) & (F.col(\"PhaseT\") == \"no\"), F.lit(\"yes\")\n",
    "        ).otherwise(F.lit(\"no\")),\n",
    "    ).withColumn(\n",
    "        \"phase1Clean\",\n",
    "        F.when(\n",
    "            (F.col(\"maxClinPhase\") >= 1) & (F.col(\"PhaseT\") == \"no\"), F.lit(\"yes\")\n",
    "        ).otherwise(F.lit(\"no\")),\n",
    "    ).withColumn(\n",
    "        \"hasGenetics\",\n",
    "        F.when(F.col(\"coherencyDiagonal\") != \"noEvid\", F.lit(\"yes\")).otherwise(F.lit(\"no\")),\n",
    "    )\n",
    "        # 1. Get distinct values for the pivot column (essential for pivot())\n",
    "        # This brings a small amount of data to the driver, but is necessary for the pivot schema.\n",
    "        # distinct_pivot_values = [row[0] for row in test2.select(pivot_col_name).distinct().collect()]\n",
    "        print(f\"Distinct values for '{pivot_col_name}': {distinct_pivot_values}\")\n",
    "\n",
    "        # 2. Perform the groupBy, pivot, and aggregate operations\n",
    "        # The .pivot() function requires the list of distinct values for better performance\n",
    "        # and correct schema inference.\n",
    "        pivoted_df = (\n",
    "            test2.groupBy(*group_by_columns)\n",
    "            .pivot(pivot_col_name) # Provide distinct values\n",
    "            .agg(F.collect_set(F.col(agg_col_name))) # Collect all values into a set\n",
    "            .fillna(0) # Fill cells that have no data with an empty list instead of null\n",
    "        )\n",
    "        # 3. Add items to dictionary to map the columns:\n",
    "        # filter out None and 'null':\n",
    "        filtered = [x for x in pivoted_df.columns if x is not None and x != 'null']\n",
    "        # using list comprehension\n",
    "        for item in filtered:\n",
    "            disdic[item] = pivot_col_name \n",
    "\n",
    "        # 3. Add the 'data' literal column dynamically\n",
    "        # This column indicates which aggregation column was used.\n",
    "        #pivoted_df = pivoted_df.withColumn('data', F.lit(f'Drug_{agg_col_name}'))\n",
    "\n",
    "        array_columns_to_convert = [\n",
    "            field.name for field in pivoted_df.schema.fields\n",
    "            if isinstance(field.dataType, ArrayType)\n",
    "        ]\n",
    "        print(f\"Identified ArrayType columns for conversion: {array_columns_to_convert}\")\n",
    "\n",
    "        # 4. Apply the conversion logic to each identified array column\n",
    "        df_after_conversion = pivoted_df # Start with the pivoted_df\n",
    "        for col_to_convert in array_columns_to_convert:\n",
    "            df_after_conversion = df_after_conversion.withColumn(\n",
    "                col_to_convert,\n",
    "                F.when(F.col(col_to_convert).isNull(), F.lit('no'))          # Handle NULLs (from pivot for no data)\n",
    "                .when(F.size(F.col(col_to_convert)) == 0, F.lit('no'))       # Empty array -> 'no'\n",
    "                .when(F.array_contains(F.col(col_to_convert), F.lit('yes')), F.lit('yes')) # Contains 'yes' -> 'yes'\n",
    "                .when(F.array_contains(F.col(col_to_convert), F.lit('no')), F.lit('no'))   # Contains 'no' -> 'no'\n",
    "                .otherwise(F.lit('no')) # Fallback for unexpected array content (e.g., ['other'], ['yes','no'])\n",
    "            )\n",
    "\n",
    "        # 4. Generate a unique name for this DataFrame and store it\n",
    "        df_key = f\"df_pivot_{agg_col_name.lower()}_by_{pivot_col_name.lower()}\"\n",
    "        all_pivoted_dfs[df_key] = df_after_conversion.withColumnRenamed( 'phase4Clean','Phase>=4'\n",
    "        ).withColumnRenamed('phase3Clean','Phase>=3'\n",
    "        ).withColumnRenamed('phase2Clean','Phase>=2'\n",
    "        ).withColumnRenamed('phase1Clean','Phase>=1')\n",
    "\n",
    "\n",
    "# --- Accessing your generated DataFrames ---\n",
    "print(\"\\n--- All generated DataFrames are stored in 'all_pivoted_dfs' dictionary ---\")\n",
    "print(\"Keys available:\", all_pivoted_dfs.keys())\n",
    "\n"
   ]
  }
 ],
 "metadata": {
  "kernelspec": {
   "display_name": "PySpark",
   "language": "python",
   "name": "pyspark"
  },
  "language_info": {
   "codemirror_mode": {
    "name": "ipython",
    "version": 3
   },
   "file_extension": ".py",
   "mimetype": "text/x-python",
   "name": "python",
   "nbconvert_exporter": "python",
   "pygments_lexer": "ipython3",
   "version": "3.11.8"
  }
 },
 "nbformat": 4,
 "nbformat_minor": 2
}
