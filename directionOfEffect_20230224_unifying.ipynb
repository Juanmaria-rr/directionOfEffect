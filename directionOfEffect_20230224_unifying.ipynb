{
 "cells": [
  {
   "cell_type": "code",
   "execution_count": 1,
   "metadata": {},
   "outputs": [
    {
     "name": "stderr",
     "output_type": "stream",
     "text": [
      "Setting default log level to \"WARN\".\n",
      "To adjust logging level use sc.setLogLevel(newLevel). For SparkR, use setLogLevel(newLevel).\n"
     ]
    },
    {
     "name": "stdout",
     "output_type": "stream",
     "text": [
      "23/02/24 10:54:38 WARN NativeCodeLoader: Unable to load native-hadoop library for your platform... using builtin-java classes where applicable\n",
      "23/02/24 10:54:38 WARN Utils: Service 'SparkUI' could not bind on port 4040. Attempting port 4041.\n"
     ]
    }
   ],
   "source": [
    "#### \n",
    "\n",
    "import pyspark\n",
    "from pyspark.sql import DataFrame, SparkSession\n",
    "import pyspark.sql.functions as F\n",
    "from pyspark.sql import Window\n",
    "\n",
    "from psutil import virtual_memory\n",
    "from pyspark import SparkFiles\n",
    "from pyspark.conf import SparkConf\n",
    "from pyspark.sql import DataFrame, SparkSession\n",
    "from pyspark.sql.functions import col\n",
    "\n",
    "\n",
    "def detect_spark_memory_limit():\n",
    "    \"\"\"Spark does not automatically use all available memory on a machine. When working on large datasets, this may\n",
    "    cause Java heap space errors, even though there is plenty of RAM available. To fix this, we detect the total amount\n",
    "    of physical memory and allow Spark to use (almost) all of it.\"\"\"\n",
    "    mem_gib = virtual_memory().total >> 30\n",
    "    return int(mem_gib * 0.9)\n",
    "\n",
    "\n",
    "spark_mem_limit = detect_spark_memory_limit()\n",
    "spark_conf = (\n",
    "    SparkConf()\n",
    "    .set(\"spark.driver.memory\", f\"{spark_mem_limit}g\")\n",
    "    .set(\"spark.executor.memory\", f\"{spark_mem_limit}g\")\n",
    "    .set(\"spark.driver.maxResultSize\", \"0\")\n",
    "    .set(\"spark.debug.maxToStringFields\", \"2000000000\")\n",
    "    .set(\"spark.sql.execution.arrow.maxRecordsPerBatch\", \"500000\")\n",
    "    ###.set(\"spark.executor.heartbeatInterval\", \"3600s\")\n",
    "    .set(\n",
    "        \"spark.sql.execution.arrow.pyspark.enabled\", \"true\"\n",
    "    )  ## esto lo pongo por esto: https://stackoverflow.com/questions/69973790/pyspark-spark-sparkexception-job-aborted-due-to-stage-failure-task-0-in-stage\n",
    "    .set(\"spark.ui.showConsoleProgress\", \"false\")\n",
    ")\n",
    "\n",
    "spark = (\n",
    "    SparkSession.builder.config(conf=spark_conf)\n",
    "    .master(\"local[*]\")\n",
    "    .config(\"spark.driver.bindAddress\", \"127.0.0.1\")\n",
    "    .config(\"spark.driver.host\",\"localhost\") ### Run locally \n",
    "    .getOrCreate()\n",
    ")\n"
   ]
  },
  {
   "cell_type": "code",
   "execution_count": 2,
   "metadata": {},
   "outputs": [],
   "source": [
    "#1# Make a list of variant of interest (Sequence ontology terms) to subset data of interest. \n",
    "\n",
    "### Bear in mind that SO works with ontology structure as: SO:XXXXXX, but databases has the SO as: SO_XXXXXX\n",
    "\n",
    "var_filter_lof = [\n",
    "    ### High impact variants https://www.ensembl.org/info/genome/variation/prediction/predicted_data.html\n",
    "    \"SO_0001589\",## frameshit_variant\n",
    "    \"SO_0001587\",## stop_gained\n",
    "    \"SO_0001574\",## splice_acceptor_variant\n",
    "    \"SO_0001575\",## splice_donor_variant\n",
    "    \"SO_0002012\",## start_lost\n",
    "    \"SO_0001578\",## stop_lost\n",
    "    \"SO_0001893\",## transcript_ablation\n",
    "    # \"SO:0001889\", ## transcript_amplification ## the Only HIGH impact that increase protein.\n",
    "]\n",
    "\n",
    "gof=['SO_0002053']\n",
    "lof=['SO_0002054']\n"
   ]
  },
  {
   "cell_type": "code",
   "execution_count": 3,
   "metadata": {},
   "outputs": [],
   "source": [
    "## https://stackoverflow.com/questions/45629781/drop-if-all-entries-in-a-spark-dataframes-specific-column-is-null\n",
    "## drop columns with all values = Null\n",
    "\n",
    "def drop_fully_null_columns(df, but_keep_these=[]):\n",
    "    \"\"\"Drops DataFrame columns that are fully null\n",
    "    (i.e. the maximum value is null)\n",
    "\n",
    "    Arguments:\n",
    "        df {spark DataFrame} -- spark dataframe\n",
    "        but_keep_these {list} -- list of columns to keep without checking for nulls\n",
    "\n",
    "    Returns:\n",
    "        spark DataFrame -- dataframe with fully null columns removed\n",
    "    \"\"\"\n",
    "\n",
    "    # skip checking some columns\n",
    "    cols_to_check = [col for col in df.columns if col not in but_keep_these]\n",
    "    if len(cols_to_check) > 0:\n",
    "        # drop columns for which the max is None\n",
    "        rows_with_data = df.select(*cols_to_check).groupby().agg(*[F.max(c).alias(c) for c in cols_to_check]).take(1)[0]\n",
    "        cols_to_drop = [c for c, const in rows_with_data.asDict().items() if const == None]\n",
    "        new_df = df.drop(*cols_to_drop)\n",
    "\n",
    "        return new_df\n",
    "    else:\n",
    "        return df"
   ]
  },
  {
   "cell_type": "code",
   "execution_count": 4,
   "metadata": {},
   "outputs": [
    {
     "name": "stdout",
     "output_type": "stream",
     "text": [
      "23/02/20 14:40:11 WARN package: Truncated the string representation of a plan since it was too large. This behavior can be adjusted by setting 'spark.sql.debug.maxToStringFields'.\n"
     ]
    }
   ],
   "source": [
    "otgenetics_evidence_path2=\"/Users/juanr/Desktop/Target_Engine/DownloadFebruary_Release23.02/evidence/sourceId=ot_genetics_portal\"\n",
    "otgenetics2=spark.read.parquet(otgenetics_evidence_path2)\n",
    "prueba=drop_fully_null_columns(otgenetics2, but_keep_these=['targetId'])\n",
    "otgenetics2.filter(F.col('variantFunctionalConsequenceFromQtlId').isNotNull()).count()\n",
    "otgenetics2.filter(F.col('variantFunctionalConsequenceId').isin(var_filter_lof)).count()\n",
    "(otgenetics2\n",
    ".filter(F.col('variantFunctionalConsequenceFromQtlId').isNotNull())\n",
    ".groupBy('targetId','diseaseId')\n",
    ".agg(F.collect_set('beta'),F.collect_set('oddsRatio'),F.collect_set('variantFunctionalConsequenceFromQtlId'),F.collect_set('variantFunctionalConsequenceId'))\n",
    ").toPandas().to_csv('cologwas.csv')"
   ]
  },
  {
   "cell_type": "code",
   "execution_count": 4,
   "metadata": {},
   "outputs": [],
   "source": [
    "## Building Sequence Ontology \n",
    "so_path=\"/Users/juanr/Desktop/Target_Engine/data_download/sequenceOntology_20221118.csv\"\n",
    "so_ontology=spark.read.csv(so_path, header=True)\n",
    "building=(so_ontology\n",
    ".select(F.col('Accession'), F.col('Parents'))\n",
    ".withColumn('Parentalind',\n",
    "    F.split(F.col('Parents'), \",\"))\n",
    ".withColumn('Parentalind', F.explode_outer('Parentalind'))\n",
    ".groupBy('Parentalind')\n",
    ".agg(F.collect_list(F.col('Accession')).alias('childrens'))\n",
    ".join(so_ontology, F.col('Parentalind')==so_ontology.Accession, 'right')\n",
    ")\n",
    "\n",
    "\n",
    "### Load evidence datasources downloaded in January 2023: \n",
    "\n",
    "otgenetics_evidence_path=\"/Users/juanr/Desktop/Target_Engine/DownloadFebruary_Release23.02/evidence/sourceId=ot_genetics_portal\"\n",
    "otgenetics=spark.read.parquet(otgenetics_evidence_path)\n",
    "gene_burden_path=\"/Users/juanr/Desktop/Target_Engine/DownloadFebruary_Release23.02/evidence/sourceId=gene_burden\"\n",
    "gene_burden=spark.read.parquet(gene_burden_path)\n",
    "eva_path=\"/Users/juanr/Desktop/Target_Engine/DownloadFebruary_Release23.02/evidence/sourceId=eva\"\n",
    "eva_germline=spark.read.parquet(eva_path)\n",
    "eva_somatic_path=\"/Users/juanr/Desktop/Target_Engine/DownloadFebruary_Release23.02/evidence/sourceId=eva_somatic\"\n",
    "eva_somatic=spark.read.parquet(eva_somatic_path)\n",
    "gel_path=\"/Users/juanr/Desktop/Target_Engine/DownloadFebruary_Release23.02/evidence/sourceId=genomics_england\"\n",
    "gel=spark.read.parquet(gel_path)\n",
    "g2p_path=\"/Users/juanr/Desktop/Target_Engine/DownloadFebruary_Release23.02/evidence/sourceId=gene2phenotype\"\n",
    "g2p=spark.read.parquet(g2p_path)\n",
    "uniprot_path=\"/Users/juanr/Desktop/Target_Engine/DownloadFebruary_Release23.02/evidence/sourceId=uniprot_literature\"\n",
    "uniprot=spark.read.parquet(uniprot_path)\n",
    "uniprotvar_path=\"/Users/juanr/Desktop/Target_Engine/DownloadFebruary_Release23.02/evidence/sourceId=uniprot_variants\"\n",
    "uniprotvar=spark.read.parquet(uniprotvar_path)\n",
    "orphanet_path=\"/Users/juanr/Desktop/Target_Engine/DownloadFebruary_Release23.02/evidence/sourceId=orphanet\"\n",
    "orphanet=spark.read.parquet(orphanet_path)\n",
    "clingen_path=\"/Users/juanr/Desktop/Target_Engine/DownloadFebruary_Release23.02/evidence/sourceId=clingen\"\n",
    "clingen=spark.read.parquet(clingen_path)\n",
    "cgc_path=\"/Users/juanr/Desktop/Target_Engine/DownloadFebruary_Release23.02/evidence/sourceId=cancer_gene_census\"\n",
    "cgc=spark.read.parquet(cgc_path)\n",
    "intogen_path=\"/Users/juanr/Desktop/Target_Engine/DownloadFebruary_Release23.02/evidence/sourceId=intogen\"\n",
    "intogen=spark.read.parquet(intogen_path)\n",
    "impc_path=\"/Users/juanr/Desktop/Target_Engine/DownloadFebruary_Release23.02/evidence/sourceId=impc\"\n",
    "impc=spark.read.parquet(impc_path)\n",
    "chembl_evidences=\"/Users/juanr/Desktop/Target_Engine/DownloadFebruary_Release23.02/evidence/sourceId=chembl/\"\n",
    "chembl=spark.read.parquet(chembl_evidences)\n",
    "\n",
    "\n",
    "## others\n",
    "target_path=\"/Users/juanr/Desktop/Target_Engine/DownloadFebruary_Release23.02/targets/\"\n",
    "target=spark.read.parquet(target_path)\n",
    "disease_path=\"/Users/juanr/Desktop/Target_Engine/DownloadFebruary_Release23.02/diseases/\"\n",
    "diseases=spark.read.parquet(disease_path)\n",
    "dis_name=diseases.select('id','name')\n",
    "indication_path=\"/Users/juanr/Desktop/Target_Engine/DownloadFebruary_Release23.02/indication/\"\n",
    "indication=spark.read.parquet(indication_path)\n",
    "## drug_path=\"/Users/juanr/Desktop/Target_Engine/downloadedEvidencesJanuary/molecule/\"\n",
    "## drug=spark.read.parquet(drug_path)\n",
    "mecact_path=\"/Users/juanr/Desktop/Target_Engine/DownloadFebruary_Release23.02/mechanismOfAction/\"\n",
    "mecact=spark.read.parquet(mecact_path)\n",
    "\n",
    "#### GENE BURDEN\n",
    "\n",
    "### We manually annotated those studies using LoF or PTV variants\n",
    "\n",
    "burden_lof_path=\"/Users/juanr/Desktop/Target_Engine/Conteo_estudios_geneBurden_20230117.csv\"\n",
    "burden_lof=spark.read.csv(burden_lof_path, header=True)\n",
    "burden_lof=burden_lof.withColumnRenamed('statisticalMethodOverview','stMethod')\n",
    "\n",
    "#### Para gene burden la funcion no tiene que hacer un filtrado de variantes\n",
    "\n",
    "### EVA/ClinVar \n",
    "\n",
    "##- Manually annotate which are the clinicalSignificances meaningfull: pathogenic, risk factor, protective\n",
    "\n",
    "clinSign_germline_path=\"/Users/juanr/Desktop/Target_Engine/eva_clinSig_20230117.csv\"\n",
    "clinSign_somatic_path=\"/Users/juanr/Desktop/Target_Engine/eva_somatic_clinSig_20230117.csv\"\n",
    "\n",
    "clinSign_germline=spark.read.csv(clinSign_germline_path, header=True)\n",
    "clinSign_germline=clinSign_germline.withColumnRenamed('clinicalSignificances','significances')\n",
    "clinSign_somatic=spark.read.csv(clinSign_somatic_path, header=True)\n",
    "clinSign_somatic=clinSign_somatic.withColumnRenamed('clinicalSignificances','significances')\n",
    "\n",
    "##-  Transform array of clinicalSignificances into Strings to check them.\n",
    "\n",
    "eva_somatic_toAsses=(eva_somatic\n",
    ".withColumn('clinicalSignificances',F.concat_ws(\",\",F.col(\"clinicalSignificances\"))))\n",
    "\n",
    "eva_germline_toAsses=(eva_germline\n",
    ".withColumn('clinicalSignificances',F.concat_ws(\",\",F.col(\"clinicalSignificances\"))))\n",
    "\n",
    "\n",
    "## annotate TSG/oncogene/bivalent using 'hallmarks.attributes'\n",
    "\n",
    "oncotsg_list = ['TSG','oncogene','Oncogene','oncogene','oncogene,TSG','TSG,oncogene','fusion,oncogene','oncogene,fusion']\n",
    "\n",
    "oncolabel=(target\n",
    ".select('id','approvedSymbol',F.explode_outer(F.col('hallmarks.attributes')))\n",
    ".select('id','approvedSymbol','col.description')\n",
    ".filter(F.col('description').isin(oncotsg_list))\n",
    ".groupBy('id','approvedSymbol')\n",
    ".agg(F.collect_set('description').alias('description'))\n",
    ".withColumn('description_splited',\n",
    "    F.concat_ws(\",\", F.col('description')))\n",
    ".withColumn('TSorOncogene', \n",
    "    F.when(\n",
    "        (F.col('description_splited').rlike('ncogene') &\n",
    "        F.col('description_splited').rlike('TSG'))\n",
    "        , F.lit('bivalent'))\n",
    "    .when(\n",
    "        F.col('description_splited').rlike('ncogene(\\s|$)')\n",
    "        , F.lit('oncogene'))\n",
    "    .when(\n",
    "        F.col('description_splited').rlike('TSG(\\s|$)')\n",
    "        , F.lit('TSG'))       \n",
    "    .otherwise(F.lit('noEvaluable')))\n",
    ".withColumnRenamed('id','target_id')\n",
    "\n",
    ")\n",
    "\n",
    "#### rlike('('+Keywords+')(\\s|$)'\n",
    "\n",
    "\n",
    "\n",
    "### Hacer el join del actionType con el chembl para sacar los mecanismos de accion. \n",
    "inhibitors = [\n",
    "'RNAI INHIBITOR',\n",
    "'NEGATIVE MODULATOR',\n",
    "'NEGATIVE ALLOSTERIC MODULATOR',\n",
    "'ANTAGONIST',\n",
    "'ANTISENSE INHIBITOR',\n",
    "'BLOCKER',\n",
    "'INHIBITOR',\n",
    "'DEGRADER',\n",
    "'INVERSE AGONIST',\n",
    "'ALLOSTERIC ANTAGONIST']\n",
    "\n",
    "activators=[\n",
    "'PARTIAL AGONIST',\n",
    "'ACTIVATOR',\n",
    "'POSITIVE ALLOSTERIC MODULATOR',\n",
    "'POSITIVE MODULATOR',\n",
    "'AGONIST',\n",
    "'SEQUESTERING AGENT']\n",
    "\n",
    "columnas= ['activator','inhibitor']\n",
    "both=activators+inhibitors\n",
    "\n",
    "actiontype2=(mecact\n",
    ".select('chemblIds','actionType','mechanismOfAction','targets')\n",
    ".select(F.explode_outer('chemblIds').alias('drugId2'),'actionType','mechanismOfAction','targets')\n",
    ".select(F.explode_outer('targets').alias('targetId2'), 'drugId2','actionType','mechanismOfAction')\n",
    ".dropDuplicates())\n",
    "\n",
    "\n",
    "chembl1=chembl.select('targetId','drugId','diseaseId','clinicalPhase','diseaseFromSourceId')\n",
    "chembl2=(chembl1\n",
    ".join(actiontype2,\n",
    "    (actiontype2.drugId2==F.col('drugId')) & \n",
    "    (actiontype2.targetId2==F.col('targetId')),\n",
    " 'left')\n",
    ".drop('targetId2','drugId2')\n",
    "###.dropDuplicates()\n",
    ".withColumn('twoCategories_new',\n",
    "    F.when(F.col('actionType').isin(inhibitors), F.lit('inhibitor'))\n",
    "    .when(F.col('actionType').isin(activators), F.lit('activator'))\n",
    "    .otherwise(F.lit('noEvaluable'))))\n",
    "\n",
    "chembl3=(chembl2\n",
    ".filter(F.col('twoCategories_new')!='noEvaluable')\n",
    ".groupBy('targetId','diseaseId')\n",
    ".pivot('twoCategories_new')\n",
    ".agg(F.count('targetId')))\n",
    "\n",
    "chembl4=(chembl3\n",
    ".select(\n",
    "    'targetId',\n",
    "    'diseaseId',\n",
    "    ##'clinicalPhase',\n",
    "    *(F.col(c).cast(\"int\").alias(c) for c in columnas))\n",
    ".withColumn('coherency',\n",
    "    F.when(\n",
    "        (\n",
    "        (F.col('activator').isNotNull()) &\n",
    "        (F.col('inhibitor').isNotNull())\n",
    "        ),\n",
    "            F.when(\n",
    "                (F.col('activator'))-(F.col('inhibitor'))!=(F.col('activator'))\n",
    "                ,F.lit('dispar'))\n",
    "    )\n",
    "))"
   ]
  },
  {
   "cell_type": "code",
   "execution_count": 8,
   "metadata": {},
   "outputs": [
    {
     "name": "stdout",
     "output_type": "stream",
     "text": [
      "23/02/03 10:36:53 WARN package: Truncated the string representation of a plan since it was too large. This behavior can be adjusted by setting 'spark.sql.debug.maxToStringFields'.\n"
     ]
    }
   ],
   "source": [
    "chembl_clean=drop_fully_null_columns(chembl, but_keep_these=['targetId'])"
   ]
  },
  {
   "cell_type": "code",
   "execution_count": 5,
   "metadata": {},
   "outputs": [
    {
     "data": {
      "text/plain": [
       "4741517"
      ]
     },
     "execution_count": 5,
     "metadata": {},
     "output_type": "execute_result"
    }
   ],
   "source": [
    "### Join all datasets\n",
    "\n",
    "dfs=[otgenetics,gene_burden,eva_germline,eva_somatic,g2p,orphanet,cgc,intogen,impc,chembl]\n",
    "\n",
    "all = dfs[0]\n",
    "for df in dfs[1:]:\n",
    "    all = all.unionByName(df, allowMissingColumns=True)\n",
    "all.count()"
   ]
  },
  {
   "cell_type": "code",
   "execution_count": 6,
   "metadata": {},
   "outputs": [],
   "source": [
    "#### 20230203 ### \n",
    "prueba_assessment=(all\n",
    ".withColumn(\"beta\",F.col(\"beta\").cast('float')) ## from ot genetics & gene burden\n",
    ".withColumn(\"OddsRatio\",F.col(\"OddsRatio\").cast('float')) ## from ot genetics & gene burden\n",
    ".withColumn('clinicalSignificances',F.concat_ws(\",\",F.col(\"clinicalSignificances\"))) ### from eva\n",
    ".withColumn('exploded',F.explode_outer(F.col('mutatedSamples'))) ### para cgc e intogen\n",
    ".withColumn('variantConsequence',F.col('exploded.functionalConsequenceId'))### para cgc e intogen\n",
    "### .withColumn('numberSamplesSameMutationType',F.col('exploded.numberSamplesWithMutationType'))### para cgc e intogen\n",
    ".withColumn(\"mutatedSamplesVariantInfo\", F.coalesce(F.col('mutatedSamples.functionalConsequenceId'), F.array()))### para cgc e intogen\n",
    "\n",
    ".join(oncolabel, \n",
    "oncolabel.target_id==F.col('targetId'), 'left')### para cgc \n",
    ".join(burden_lof, \n",
    "burden_lof.stMethod == F.col('statisticalMethodOverview'), 'left') ### para gene burden\n",
    ".join(actiontype2, ## para chembl\n",
    "    (actiontype2.drugId2==F.col('drugId')) & \n",
    "    (actiontype2.targetId2==F.col('targetId')),\n",
    " 'left')\n",
    "##.drop('targetId2','drugId2')\n",
    "###.dropDuplicates()\n",
    "\n",
    ".withColumn('Assessment',\n",
    "\n",
    "#### Ot_genetics Portal ### updated to include the coloc+gwas analysis \n",
    "        F.when(F.col('datasourceId')=='ot_genetics_portal',\n",
    "\n",
    "                F.when(  ### label 14 evidences that are contradictory\n",
    "                        (                       \n",
    "                        (F.col('variantFunctionalConsequenceFromQtlId')=='SO_0002315') &\n",
    "                        (F.col('variantFunctionalConsequenceId').isin(var_filter_lof)) \n",
    "                        )\n",
    "                        ,\n",
    "                        F.lit('dispar'))\n",
    "                ### evidences with gwas+coloc increased expression without +var_lof\n",
    "                .when(  \n",
    "                        (\n",
    "                        (F.col('beta').isNull()) &\n",
    "                        (F.col('variantFunctionalConsequenceFromQtlId')=='SO_0002315') &\n",
    "                        (F.col('variantFunctionalConsequenceId').isin(var_filter_lof) == False)\n",
    "                        ),\n",
    "                                F.when((F.col('OddsRatio') >1), F.lit('GoF_risk'))\n",
    "                                 .when((F.col('OddsRatio') <1) , F.lit('GoF_protect'))                 \n",
    "                        )\n",
    "                .when(\n",
    "                        (\n",
    "                        (F.col('oddsRatio').isNull()) &\n",
    "                        (F.col('variantFunctionalConsequenceFromQtlId')=='SO_0002315') &\n",
    "                        (F.col('variantFunctionalConsequenceId').isin(var_filter_lof) == False)\n",
    "                        ),\n",
    "                                F.when((F.col('beta') <0), F.lit('GoF_protect'))\n",
    "                                .when((F.col('beta') >0), F.lit('GoF_risk'))\n",
    "                        ) \n",
    "\n",
    "\n",
    "                ### evidences with coherent Gwas-coloc + var_lof\n",
    "                .when(  \n",
    "                        (\n",
    "                        (F.col('beta').isNull()) &\n",
    "                        (F.col('variantFunctionalConsequenceFromQtlId')=='SO_0002316') &\n",
    "                        (F.col('variantFunctionalConsequenceId').isin(var_filter_lof))\n",
    "                        ),\n",
    "                                F.when((F.col('OddsRatio') >1), F.lit('LoF_risk'))\n",
    "                                 .when((F.col('OddsRatio') <1) , F.lit('LoF_protect'))                 \n",
    "                        )\n",
    "                .when(\n",
    "                        (\n",
    "                        (F.col('oddsRatio').isNull()) &\n",
    "                        (F.col('variantFunctionalConsequenceFromQtlId')=='SO_0002316') &\n",
    "                        (F.col('variantFunctionalConsequenceId').isin(var_filter_lof))\n",
    "                        ),\n",
    "                                F.when((F.col('beta') <0), F.lit('LoF_protect'))\n",
    "                                .when((F.col('beta') >0), F.lit('LoF_risk'))\n",
    "                        ) \n",
    "                ### evidences with colo+Gwas data but not variants\n",
    "                .when(  \n",
    "                        (\n",
    "                        (F.col('beta').isNull()) &\n",
    "                        (F.col('variantFunctionalConsequenceFromQtlId')=='SO_0002316') &\n",
    "                        (F.col('variantFunctionalConsequenceId').isin(var_filter_lof) == False)\n",
    "                        ),\n",
    "                                F.when((F.col('OddsRatio') >1), F.lit('LoF_risk'))\n",
    "                                 .when((F.col('OddsRatio') <1) , F.lit('LoF_protect'))                 \n",
    "                        )\n",
    "                .when(\n",
    "                        (\n",
    "                        (F.col('oddsRatio').isNull()) &\n",
    "                        (F.col('variantFunctionalConsequenceFromQtlId')=='SO_0002316') &\n",
    "                        (F.col('variantFunctionalConsequenceId').isin(var_filter_lof) == False)\n",
    "                        ),\n",
    "                                F.when((F.col('beta') <0), F.lit('LoF_protect'))\n",
    "                                .when((F.col('beta') >0), F.lit('LoF_risk'))\n",
    "                        ) \n",
    "                ### evidences with coherent non/inconclusive gwas+coloc + var_lof\n",
    "                .when(  \n",
    "                        (\n",
    "                        (F.col('beta').isNull()) &\n",
    "                                (\n",
    "                                (F.col('variantFunctionalConsequenceFromQtlId')=='SO_0002314') |\n",
    "                                (F.col('variantFunctionalConsequenceFromQtlId').isNull())\n",
    "                                ) &\n",
    "                        (F.col('variantFunctionalConsequenceId').isin(var_filter_lof))\n",
    "                        ),\n",
    "                                F.when((F.col('OddsRatio') >1), F.lit('LoF_risk'))\n",
    "                                 .when((F.col('OddsRatio') <1) , F.lit('LoF_protect'))                 \n",
    "                        )\n",
    "                .when(  \n",
    "                        (\n",
    "                        (F.col('oddsRatio').isNull()) &\n",
    "                                (\n",
    "                                (F.col('variantFunctionalConsequenceFromQtlId')=='SO_0002314') |\n",
    "                                (F.col('variantFunctionalConsequenceFromQtlId').isNull())\n",
    "                                ) &\n",
    "                        (F.col('variantFunctionalConsequenceId').isin(var_filter_lof))\n",
    "                        ),\n",
    "                                F.when((F.col('beta') <0), F.lit('LoF_protect'))\n",
    "                                .when((F.col('beta') >0), F.lit('LoF_risk'))\n",
    "                        ) \n",
    "                \n",
    "                .otherwise(F.lit('noEvaluable')))  ### son tambien no data las que tiene riesgo pero no tienen LoF\n",
    "\n",
    "#### Gene burden                            \n",
    "        .when(F.col('datasourceId')=='gene_burden',\n",
    "        ### .filter(F.col('variantType').isin(var_filter))\n",
    "                F.when(\n",
    "                        (\n",
    "                        (F.col('whatToDo')=='get')&\n",
    "                        (F.col('beta').isNull()) &  \n",
    "                        (F.col('OddsRatio') > 1)\n",
    "                        ), \n",
    "                        F.lit('LoF_risk')\n",
    "                        )\n",
    "                .when(\n",
    "                        (\n",
    "                        (F.col('whatToDo')=='get')&\n",
    "                        (F.col('beta').isNull()) & \n",
    "                        (F.col('OddsRatio') <1) \n",
    "                        ),\n",
    "                        F.lit('LoF_protect')\n",
    "                )\n",
    "                .when(\n",
    "                        (\n",
    "                        (F.col('whatToDo')=='get')&\n",
    "                        (F.col('OddsRatio').isNull()) & \n",
    "                        (F.col('beta') >0)\n",
    "                        ), \n",
    "                        F.lit('LoF_risk')\n",
    "                )\n",
    "                .when(\n",
    "                        (\n",
    "                        (F.col('whatToDo')=='get')&\n",
    "                        (F.col('OddsRatio').isNull()) & \n",
    "                        (F.col('beta') <0) \n",
    "                        ),\n",
    "                        F.lit('LoF_protect')\n",
    "                )\n",
    "                .otherwise(F.lit('noEvaluable')) ### son tambien no data las que tiene riesgo pero no se ensayan LoF o PT \n",
    "                        )\n",
    "#### Eva_germline                        \n",
    "        .when(F.col('datasourceId')=='eva',              \n",
    "        #### .filter(F.col('variantFunctionalConsequenceId').isin(var_filter_lof))\n",
    "                F.when(\n",
    "                        (\n",
    "                        ## (F.col('clinicalSignificances')!='likely pathogenic') &  \n",
    "                        (F.col('variantFunctionalConsequenceId').isin(var_filter_lof)) &\n",
    "                        F.col('clinicalSignificances').rlike('(pathogenic)$')\n",
    "                        ),\n",
    "                        F.lit('LoF_risk'))\n",
    "                .when(\n",
    "                        (\n",
    "                        F.col('clinicalSignificances').contains('protective')&  \n",
    "                        F.col('variantFunctionalConsequenceId').isin(var_filter_lof)),\n",
    "                        F.lit('LoF_protect'))\n",
    "                .otherwise(F.lit('noEvaluable')) ### Son todas aquellas que tenen info pero no son patogenicas/protective  + LoF\n",
    "                        )\n",
    "        #### Eva_somatic  \n",
    "        .when(F.col('datasourceId')=='eva_somatic',              \n",
    "        #### .filter(F.col('variantFunctionalConsequenceId').isin(var_filter_lof))\n",
    "                F.when(\n",
    "                        (\n",
    "                        ##(F.col('clinicalSignificances')!='likely pathogenic') &  \n",
    "                        (F.col('variantFunctionalConsequenceId').isin(var_filter_lof)) &\n",
    "                        F.col('clinicalSignificances').rlike('(pathogenic)$')\n",
    "                        ),\n",
    "                        F.lit('LoF_risk'))\n",
    "                .when(\n",
    "                        (\n",
    "                        F.col('clinicalSignificances').contains('protective')&  \n",
    "                        F.col('variantFunctionalConsequenceId').isin(var_filter_lof)),\n",
    "                        F.lit('LoF_protect'))\n",
    "                .otherwise(F.lit('noEvaluable')) ### Son todas aquellas que tenen info pero no son patogenicas/protective  + LoF\n",
    "                        )\n",
    "#### G2P                     \n",
    "        .when(F.col('datasourceId')=='gene2phenotype',  \n",
    "                F.when(\n",
    "                        F.col('variantFunctionalConsequenceId')=='SO_0002317', F.lit('LoF_risk')\n",
    "                        ) ### absent gene product\n",
    "                .when(\n",
    "                        F.col('variantFunctionalConsequenceId')=='SO_0002315', F.lit('GoF_risk')\n",
    "                        ) ### increased gene product level\n",
    "                .otherwise(F.lit('noEvaluable')))\n",
    "#### Orphanet \n",
    "        .when(F.col('datasourceId')=='orphanet',  \n",
    "                F.when(\n",
    "                        F.col('variantFunctionalConsequenceId')=='SO_0002054', F.lit('LoF_risk')\n",
    "                        ) ### Loss of Function Variant\n",
    "                .when(\n",
    "                        F.col('variantFunctionalConsequenceId')=='SO_0002053', F.lit('GoF_risk')\n",
    "                        ) ### Gain_of_Function Variant\n",
    "                .otherwise(F.lit('noEvaluable')))\n",
    " #### CGC               \n",
    "        .when(F.col('datasourceId')=='cancer_gene_census',          \n",
    "                F.when(\n",
    "                        F.col('TSorOncogene')=='oncogene', F.lit('GoF_risk')\n",
    "                )\n",
    "                .when(\n",
    "                        F.col('TSorOncogene')=='TSG', F.lit('LoF_risk')\n",
    "                        )\n",
    "                .when(\n",
    "                        F.col('TSorOncogene')=='bivalent', F.lit('bivalent_risk'))\n",
    "\n",
    "                .otherwise(\n",
    "                        F.when(\n",
    "                                F.arrays_overlap(\n",
    "                                F.col('mutatedSamples.functionalConsequenceId'),\n",
    "                                F.array([F.lit(i) for i in (var_filter_lof)])\n",
    "                                ), F.lit('LoF_risk')\n",
    "                                )\n",
    "                        .otherwise(F.lit('noEvaluable'))\n",
    "                        )\n",
    "                ) #### Aqui asumimos que todo lo que esta incluido da riesgo, pero solo podemos dar LoF porque ya no tienen dato de TSG/oncogen\n",
    "#### intogen\n",
    "        .when(F.col('datasourceId')=='intogen',     \n",
    "                F.when(\n",
    "                        F.arrays_overlap(\n",
    "                                F.col('mutatedSamples.functionalConsequenceId'),\n",
    "                                F.array([F.lit(i) for i in (gof)])\n",
    "                                ), F.lit('GoF_risk'))\n",
    "                .when(\n",
    "                        F.arrays_overlap(\n",
    "                                F.col('mutatedSamples.functionalConsequenceId'),\n",
    "                                F.array([F.lit(i) for i in (lof)])\n",
    "                                ), F.lit('LoF_risk'))\n",
    "\n",
    "                .otherwise(F.lit('noEvaluable'))\n",
    "        )\n",
    "#### impc        \n",
    "        .when(F.col('datasourceId')=='impc', \n",
    "                F.when(\n",
    "                        F.col('diseaseId').isNotNull(), F.lit('KO_risk')\n",
    "                        )\n",
    "                .otherwise(F.lit('noEvaluable')))\n",
    "### chembl        \n",
    "        .when(F.col('datasourceId')=='chembl',\n",
    "                F.when(\n",
    "                        F.col('actionType').isin(inhibitors), F.lit('LoF_protect')\n",
    "                        )\n",
    "                .when(\n",
    "                        F.col('actionType').isin(activators), F.lit('GoF_protect')\n",
    "                )\n",
    "                .otherwise(F.lit('noEvaluable'))\n",
    "                )\n",
    ")\n",
    "\n",
    "### Homogenizar para contar todos los datos juntos:\n",
    ".withColumn('homogenized',\n",
    "    F.when(F.col('Assessment')=='KO_risk', F.lit('LoF_risk'))\n",
    "    .otherwise(F.col('Assessment')))\n",
    ".withColumn('tendency',\n",
    "    F.when(F.col('homogenized').contains('risk'), F.lit('Risk'))\n",
    "    .when(F.col('homogenized').contains('protect'), F.lit('Protect'))\n",
    "    .otherwise(F.lit('noEvaluable')))\n",
    ".withColumn('variation',\n",
    "    F.when(F.col('homogenized').contains('LoF'), F.lit('LoF'))\n",
    "    .when(F.col('homogenized').contains('GoF'), F.lit('GoF'))\n",
    "    .otherwise(F.lit('noEvaluable')))\n",
    ")"
   ]
  },
  {
   "cell_type": "code",
   "execution_count": 7,
   "metadata": {},
   "outputs": [
    {
     "name": "stdout",
     "output_type": "stream",
     "text": [
      "+-------------+-----------+-----------+-------+\n",
      "|   Assessment|   tendency|  variation| counts|\n",
      "+-------------+-----------+-----------+-------+\n",
      "|  noEvaluable|noEvaluable|noEvaluable|2623752|\n",
      "|     GoF_risk|       Risk|        GoF|  78680|\n",
      "|  LoF_protect|    Protect|        LoF| 558312|\n",
      "|       dispar|noEvaluable|noEvaluable|     21|\n",
      "|         null|noEvaluable|noEvaluable|     34|\n",
      "|  GoF_protect|    Protect|        GoF| 137373|\n",
      "|     LoF_risk|       Risk|        LoF| 347761|\n",
      "|bivalent_risk|       Risk|noEvaluable|  15274|\n",
      "|      KO_risk|       Risk|        LoF|1047024|\n",
      "+-------------+-----------+-----------+-------+\n",
      "\n"
     ]
    }
   ],
   "source": [
    "### 1###  Number of assessment per category of Assessment\n",
    "(prueba_assessment\n",
    "##.filter((F.col('Assessment')).isin(terms)==False )\n",
    ".groupBy('Assessment','tendency','variation')\n",
    ".agg(F.count('targetId').alias('counts'))\n",
    ").show()"
   ]
  },
  {
   "cell_type": "code",
   "execution_count": 8,
   "metadata": {},
   "outputs": [],
   "source": [
    "### PIE \n",
    "### 1###  Number of assessment per category of Assessment\n",
    "unopie=(prueba_assessment\n",
    "##.filter((F.col('Assessment')).isin(terms)==False )\n",
    ".groupBy('Assessment','tendency','variation')\n",
    ".agg(F.count('targetId').alias('counts'))\n",
    ")\n",
    "### unopie.toPandas().to_csv('unopie.csv')"
   ]
  },
  {
   "cell_type": "code",
   "execution_count": 9,
   "metadata": {},
   "outputs": [
    {
     "name": "stdout",
     "output_type": "stream",
     "text": [
      "+-------------+-----------+-----------+---------------+\n",
      "|  homogenized|   tendency|  variation|count(targetId)|\n",
      "+-------------+-----------+-----------+---------------+\n",
      "|  noEvaluable|noEvaluable|noEvaluable|        2623752|\n",
      "|     GoF_risk|       Risk|        GoF|          78680|\n",
      "|  LoF_protect|    Protect|        LoF|         558312|\n",
      "|       dispar|noEvaluable|noEvaluable|             21|\n",
      "|         null|noEvaluable|noEvaluable|             34|\n",
      "|  GoF_protect|    Protect|        GoF|         137373|\n",
      "|     LoF_risk|       Risk|        LoF|        1394785|\n",
      "|bivalent_risk|       Risk|noEvaluable|          15274|\n",
      "+-------------+-----------+-----------+---------------+\n",
      "\n"
     ]
    }
   ],
   "source": [
    "### 2###  Number of assessment per category of homogenized\n",
    "(prueba_assessment\n",
    "##.filter((F.col('Assessment')).isin(terms)==False )\n",
    ".groupBy('homogenized','tendency','variation')\n",
    ".agg(F.count('targetId'))\n",
    ").show()"
   ]
  },
  {
   "cell_type": "code",
   "execution_count": 10,
   "metadata": {},
   "outputs": [
    {
     "name": "stdout",
     "output_type": "stream",
     "text": [
      "+------------------+-----------+--------+-----------+--------+\n",
      "|      datasourceId|GoF_protect|GoF_risk|LoF_protect|LoF_risk|\n",
      "+------------------+-----------+--------+-----------+--------+\n",
      "|       gene_burden|       null|    null|       6259|   11386|\n",
      "|            chembl|      85165|    null|     498966|    null|\n",
      "|           intogen|       null|    1080|       null|    1826|\n",
      "|          orphanet|       null|     194|       null|    1136|\n",
      "|cancer_gene_census|       null|   23563|       null|   61859|\n",
      "|               eva|       null|    null|          8|  213867|\n",
      "|    gene2phenotype|       null|       7|       null|    2009|\n",
      "|       eva_somatic|       null|    null|       null|    1423|\n",
      "|ot_genetics_portal|      52208|   53836|      53079|   54255|\n",
      "|              impc|       null|    null|       null| 1047024|\n",
      "+------------------+-----------+--------+-----------+--------+\n",
      "\n"
     ]
    }
   ],
   "source": [
    "### 3 ###  Conteo evidences by datasourceId unicas agrupando por datasource\n",
    "terms=['noEvaluable','bivalent_risk','null','dispar']\n",
    "\n",
    "(prueba_assessment\n",
    ".filter((F.col('Assessment')).isin(terms)==False )\n",
    ".groupBy('datasourceId')\n",
    ".pivot('homogenized')\n",
    ".agg(F.count('targetId').alias('N_assessed'))\n",
    ").show()\n",
    "##).toPandas().to_csv('datasource.csv')"
   ]
  },
  {
   "cell_type": "code",
   "execution_count": 13,
   "metadata": {},
   "outputs": [
    {
     "data": {
      "text/plain": [
       "34768"
      ]
     },
     "execution_count": 13,
     "metadata": {},
     "output_type": "execute_result"
    }
   ],
   "source": [
    "(prueba_assessment\n",
    ".filter(\n",
    "    (F.col('Assessment').isin(terms)==False) &\n",
    "    (F.col('datasourceId')=='ot_genetics_portal')& \n",
    "    (F.col('homogenized')=='LoF_risk'))\n",
    ".groupBy('targetId','diseaseId').agg(F.count('targetId'))).count()"
   ]
  },
  {
   "cell_type": "code",
   "execution_count": 11,
   "metadata": {},
   "outputs": [],
   "source": [
    "### 3 bis ### conteo parejas target-disease por datasource\n",
    "\n",
    "terms=['noEvaluable','bivalent_risk','null','dispar']\n",
    "\n",
    "(prueba_assessment\n",
    ".filter((F.col('Assessment')).isin(terms)==False )\n",
    ".groupBy('targetId','diseaseId','datasourceId')\n",
    ".pivot('homogenized')\n",
    ".agg(F.count('targetId').alias('N_assessed'))\n",
    ".groupBy('datasourceId')\n",
    ".agg(F.count('GoF_protect'),\n",
    "F.count('LoF_protect'),\n",
    "F.count('GoF_risk'),\n",
    "F.count('LoF_risk'))\n",
    "\n",
    ").toPandas().to_csv('tardis_datasource2.csv')"
   ]
  },
  {
   "cell_type": "code",
   "execution_count": 12,
   "metadata": {},
   "outputs": [
    {
     "data": {
      "text/plain": [
       "807799"
      ]
     },
     "execution_count": 12,
     "metadata": {},
     "output_type": "execute_result"
    }
   ],
   "source": [
    "(prueba_assessment\n",
    ".filter((F.col('homogenized')).isin(terms)==False)\n",
    ".groupBy('homogenized','targetid','diseaseId')\n",
    ".agg(F.count('targetId'))).count()"
   ]
  },
  {
   "cell_type": "code",
   "execution_count": 13,
   "metadata": {},
   "outputs": [
    {
     "name": "stdout",
     "output_type": "stream",
     "text": [
      "+-----------+---------------+----------------+\n",
      "|homogenized|count(targetId)|count(diseaseId)|\n",
      "+-----------+---------------+----------------+\n",
      "|LoF_protect|          92289|           92289|\n",
      "|   LoF_risk|         621036|          621036|\n",
      "|GoF_protect|          45963|           45963|\n",
      "|   GoF_risk|          48511|           48511|\n",
      "+-----------+---------------+----------------+\n",
      "\n"
     ]
    }
   ],
   "source": [
    "### 4###  Conteo TargetId and diseaseId agrupando homogenized, targetId y diseaseId\n",
    "terms=['noEvaluable','bivalent_risk','null','dispar']\n",
    "\n",
    "(prueba_assessment\n",
    ".filter((F.col('homogenized')).isin(terms)==False)\n",
    ".groupBy('homogenized','targetid','diseaseId')\n",
    ".agg(F.count('targetId'))\n",
    ".groupBy('homogenized')\n",
    ".agg(F.count('targetId'),F.count('diseaseId'))\n",
    ").show()\n",
    "##).toPandas().to_csv('pruebesita.csv')"
   ]
  },
  {
   "cell_type": "code",
   "execution_count": 14,
   "metadata": {},
   "outputs": [
    {
     "name": "stdout",
     "output_type": "stream",
     "text": [
      "+--------+----+-----+\n",
      "|tendency| GoF|  LoF|\n",
      "+--------+----+-----+\n",
      "| Protect|9124| 9770|\n",
      "|    Risk|9192|14847|\n",
      "+--------+----+-----+\n",
      "\n"
     ]
    }
   ],
   "source": [
    "### 5#### Conteo targetId unicas agrupando por variation & tendency\n",
    "terms=['noEvaluable','bivalent_risk','null','dispar']\n",
    "\n",
    "(prueba_assessment\n",
    ".filter((F.col('homogenized')).isin(terms)==False)\n",
    ".groupBy('tendency')\n",
    ".pivot('variation')\n",
    ".agg(F.countDistinct('targetId'))\n",
    ").show()\n",
    "##).toPandas().to_csv('pruebesita.csv')"
   ]
  },
  {
   "cell_type": "code",
   "execution_count": 15,
   "metadata": {},
   "outputs": [
    {
     "name": "stdout",
     "output_type": "stream",
     "text": [
      "+--------+----+----+\n",
      "|tendency| GoF| LoF|\n",
      "+--------+----+----+\n",
      "| Protect|2135|2731|\n",
      "|    Risk|1831|9414|\n",
      "+--------+----+----+\n",
      "\n"
     ]
    }
   ],
   "source": [
    "### 6#### Conteo diseaseId unicas agrupando por variation & tendency\n",
    "terms=['noEvaluable','bivalent_risk','null','dispar']\n",
    "\n",
    "(prueba_assessment\n",
    ".filter((F.col('homogenized')).isin(terms)==False)\n",
    ".groupBy('tendency')\n",
    ".pivot('variation')\n",
    ".agg(F.countDistinct('diseaseId'))\n",
    ").show()"
   ]
  },
  {
   "cell_type": "code",
   "execution_count": 16,
   "metadata": {},
   "outputs": [
    {
     "name": "stdout",
     "output_type": "stream",
     "text": [
      "+--------+----------+----------+\n",
      "|tendency|count(GoF)|count(LoF)|\n",
      "+--------+----------+----------+\n",
      "| Protect|     45963|     92289|\n",
      "|    Risk|     48511|    621036|\n",
      "+--------+----------+----------+\n",
      "\n"
     ]
    }
   ],
   "source": [
    "### 7#### Numero de combinaciones target-diseases agrupadas en Protect/Risk & GoF/LoF\n",
    "terms=['noEvaluable','bivalent_risk','null','dispar']\n",
    "\n",
    "uno=(prueba_assessment\n",
    ".filter((F.col('homogenized')).isin(terms)==False)\n",
    ".groupBy('targetId','diseaseId','tendency')\n",
    ".pivot('variation')\n",
    ".agg(\n",
    "    F.countDistinct('targetId').alias('contar'),\n",
    "    )\n",
    ".groupBy('tendency')\n",
    ".agg(F.count('GoF'),\n",
    "    F.count('LoF')\n",
    "    )\n",
    ").show()"
   ]
  },
  {
   "cell_type": "code",
   "execution_count": 70,
   "metadata": {},
   "outputs": [],
   "source": [
    "#### CONTRADICTIONS INTRADATASOURCES #### "
   ]
  },
  {
   "cell_type": "code",
   "execution_count": 17,
   "metadata": {},
   "outputs": [],
   "source": [
    "#### checking contradictions intra datasources 03.02.2023 #### \n",
    "\n",
    "terms=['noEvaluable','bivalent_risk','null','dispar']\n",
    "\n",
    "\n",
    "coherency_toAssess=(prueba_assessment\n",
    ".filter((F.col('Assessment')).isin(terms)==False)\n",
    ".groupBy('targetId','diseaseId','datasourceId')\n",
    ".pivot('homogenized')\n",
    ".agg(F.count('targetId')))\n",
    "\n",
    "columns=[\n",
    " 'GoF_risk',\n",
    " 'LoF_protect',\n",
    " 'LoF_risk',\n",
    " 'GoF_protect']\n",
    "\n",
    "coherency_assessed=(coherency_toAssess\n",
    ".select(\n",
    "    F.col('targetId').alias('targetId3'),\n",
    "    F.col('datasourceId').alias('datasourceId3'),\n",
    "    F.col('diseaseId').alias('diseaseId3'),\n",
    "    *(F.col(c).cast(\"int\").alias(c) for c in columns))\n",
    "\n",
    ".withColumn('coherency',\n",
    "    F.when(\n",
    "        (\n",
    "        (F.col('GoF_risk').isNotNull()) &\n",
    "        (F.col('LoF_risk').isNotNull())\n",
    "        ),\n",
    "            F.when(\n",
    "                (F.col('GoF_risk'))-(F.col('LoF_risk'))!=(F.col('GoF_risk'))\n",
    "                ,F.lit('dispar'))\n",
    "        )\n",
    "    .when(\n",
    "        (\n",
    "        (F.col('LoF_protect').isNotNull()) &\n",
    "        (F.col('LoF_risk').isNotNull())\n",
    "        ),\n",
    "            F.when(\n",
    "                (F.col('LoF_protect'))-(F.col('LoF_risk'))!=(F.col('LoF_protect'))\n",
    "                ,F.lit('dispar'))\n",
    "        )   \n",
    "    .when(\n",
    "        (\n",
    "        (F.col('GoF_protect').isNotNull()) &\n",
    "        (F.col('GoF_risk').isNotNull())\n",
    "        ),\n",
    "            F.when(\n",
    "                (F.col('GoF_protect'))-(F.col('GoF_risk'))!=(F.col('GoF_protect'))\n",
    "                ,F.lit('dispar'))\n",
    "        )   \n",
    "    .when(\n",
    "        (\n",
    "        (F.col('GoF_protect').isNotNull()) &\n",
    "        (F.col('LoF_protect').isNotNull())\n",
    "        ),\n",
    "            F.when(\n",
    "                (F.col('GoF_protect'))-(F.col('LoF_protect'))!=(F.col('GoF_protect'))\n",
    "                ,F.lit('dispar'))\n",
    "        )      \n",
    "        \n",
    "        ))"
   ]
  },
  {
   "cell_type": "code",
   "execution_count": 18,
   "metadata": {},
   "outputs": [
    {
     "name": "stdout",
     "output_type": "stream",
     "text": [
      "+------------------+----------------+\n",
      "|     datasourceId3|count(targetId3)|\n",
      "+------------------+----------------+\n",
      "|       gene_burden|              59|\n",
      "|            chembl|             973|\n",
      "|ot_genetics_portal|           11037|\n",
      "|               eva|               1|\n",
      "+------------------+----------------+\n",
      "\n"
     ]
    }
   ],
   "source": [
    "coherency_assessed.filter(F.col('coherency')=='dispar').groupBy('datasourceId3').agg(F.count('targetId3')).show()"
   ]
  },
  {
   "cell_type": "code",
   "execution_count": 19,
   "metadata": {},
   "outputs": [],
   "source": [
    "#### Build dataset for checking intradatasource disparities \n",
    "\n",
    "columnstoassess=prueba_assessment.drop('targetId','diseaseId','datasourceId').columns\n",
    "terms=['noEvaluable','bivalent_risk','null','dispar']\n",
    "### Make the incoherencies dataset: join disease name, approved symbol and collect how many evidences are supporting every column\n",
    "\n",
    "intradatasource_disparities=(coherency_assessed\n",
    ".filter(F.col('coherency')=='dispar')\n",
    ".groupBy('datasourceId3','targetId3','diseaseId3')\n",
    ".agg(F.count('targetId3').alias('targetI'))\n",
    ".withColumnRenamed('targetId3','targetIdU')\n",
    ".withColumnRenamed('datasourceId3','datasourceI')\n",
    ".withColumnRenamed('diseaseId3','diseaseI')\n",
    "\n",
    ".join((prueba_assessment.filter(F.col('Assessment').isin(terms)==False)), \n",
    "    (F.col('targetIdU')==prueba_assessment.targetId)&\n",
    "    (F.col('datasourceI')==prueba_assessment.datasourceId) &\n",
    "    (F.col('diseaseI')==prueba_assessment.diseaseId),'left')\n",
    ".join(diseases.select('id','name',), F.col('diseaseId')==diseases.id,'left')\n",
    ".groupBy('targetId','diseaseI','name','datasourceI')\n",
    ".agg(F.collect_list('clinicalSignificances').alias('clinicalSignificances'),\n",
    "    F.collect_list('beta').alias('betaValues'),\n",
    "    F.collect_list('OddsRatio').alias('oddsRatio'),\n",
    "    F.collect_list('variantFunctionalConsequenceId').alias('varFunctConsId'),\n",
    "    F.collect_list('drugId').alias('drugId'),\n",
    "    F.collect_set('actionType').alias('actionTypeDif'),\n",
    "    F.collect_list('diseaseFromSource'))\n",
    ".withColumnRenamed('targetId','targetiddd')\n",
    ".withColumnRenamed('name','diseaseName')\n",
    ".join(coherency_assessed, \n",
    "    (F.col('targetIddd')==coherency_assessed.targetId3) &\n",
    "    (F.col('datasourceI')==coherency_assessed.datasourceId3) &\n",
    "    (F.col('diseaseI')==coherency_assessed.diseaseId3)\n",
    ")\n",
    "### anadir el approved symbol:\n",
    ".join(target.select('id','approvedSymbol'), F.col('targetiddd')==target.id, 'left')\n",
    ")"
   ]
  },
  {
   "cell_type": "code",
   "execution_count": null,
   "metadata": {},
   "outputs": [
    {
     "name": "stderr",
     "output_type": "stream",
     "text": [
      "/opt/anaconda3/envs/python/lib/python3.10/site-packages/pandas/core/internals/blocks.py:2323: RuntimeWarning: invalid value encountered in cast\n",
      "  values = values.astype(str)\n"
     ]
    }
   ],
   "source": [
    "### dataset de contradictions!! working!\n",
    "\n",
    "intradatasource_disparities.toPandas().to_csv('contradictions3.csv')"
   ]
  },
  {
   "cell_type": "code",
   "execution_count": 20,
   "metadata": {},
   "outputs": [
    {
     "name": "stdout",
     "output_type": "stream",
     "text": [
      "target-trait pairs from evidences asssssed: 4808231\n",
      "target-trait pairs from evidences with assessment dif from noEvaluable/bivalent: 2169150\n",
      "783826 793235\n",
      "9409\n"
     ]
    }
   ],
   "source": [
    "### some numbers: \n",
    "\n",
    "all_targetTrait=prueba_assessment.count()\n",
    "targetTraitWObivalent_noEvaluable=(prueba_assessment.filter((F.col('Assessment')).isin(terms)==False)).count()\n",
    "one=(prueba_assessment\n",
    ".filter(\n",
    "    (F.col('Assessment').isin(terms)==False))\n",
    ".groupBy('targetId','diseaseId')\n",
    ".pivot('homogenized')\n",
    ".agg(F.count('targetId'))).count()\n",
    "\n",
    "\n",
    "two=(prueba_assessment\n",
    ".filter((F.col('Assessment')).isin(terms)==False)\n",
    ".groupBy('targetId','diseaseId','datasourceId')\n",
    ".pivot('homogenized')\n",
    ".agg(F.count('targetId'))).count()\n",
    "\n",
    "print('target-trait pairs from evidences asssssed: ' + str(int(all_targetTrait)))\n",
    "print('target-trait pairs from evidences with assessment dif from noEvaluable/bivalent: ' + str(int(targetTraitWObivalent_noEvaluable)))\n",
    "print(one, two)\n",
    "print(two-one)"
   ]
  },
  {
   "cell_type": "code",
   "execution_count": 21,
   "metadata": {},
   "outputs": [],
   "source": [
    "#### For now we should remove the not resolved contradictions :\n",
    "\n",
    "contradictIntra=(coherency_assessed\n",
    ".filter(F.col('coherency')=='dispar')\n",
    "#.select('targetId3','diseaseId3','datasourceId3','coherency')\n",
    ".groupBy('targetId3','diseaseId3')\n",
    ".agg(\n",
    "    F.count('targetId3').alias('targetId'),\n",
    "    F.collect_set('datasourceId3').alias('datasourceId'))\n",
    ".withColumn('size', \n",
    "    F.size('datasourceId').alias('size'))\n",
    ".sort(F.col('size').desc())\n",
    ".withColumn('filterOut',F.lit('out')))\n",
    "\n",
    "### Make the join with the dataset containing information for the asessments to tag the pairs for removing them\n",
    "\n",
    "terms=['noEvaluable','bivalent_risk']\n",
    "toprocess=(prueba_assessment\n",
    ".filter(\n",
    "    (F.col('Assessment').isin(terms)==False))\n",
    ".groupBy('targetId','diseaseId')\n",
    ".pivot('homogenized')\n",
    ".agg(F.count('targetId'))\n",
    ".join(contradictIntra.select('targetId3','diseaseId3','filterOut'),\n",
    "    (F.col('targetId')==contradictIntra.targetId3) & \n",
    "    (F.col('diseaseId')==contradictIntra.diseaseId3)\n",
    "    ,'left')\n",
    ".withColumn('filterOut',\n",
    "    F.when(F.col('filterOut')=='out', F.lit(F.col('filterOut')))\n",
    "    .otherwise(F.lit('keep'))))\n"
   ]
  },
  {
   "cell_type": "code",
   "execution_count": 22,
   "metadata": {},
   "outputs": [],
   "source": [
    "cols =  ['cancer_gene_census',\n",
    " 'chembl',\n",
    " 'eva',\n",
    " 'eva_somatic',\n",
    " 'gene2phenotype',\n",
    " 'gene_burden',\n",
    " 'impc',\n",
    " 'intogen',\n",
    " 'orphanet',\n",
    " 'ot_genetics_portal']"
   ]
  },
  {
   "cell_type": "code",
   "execution_count": 23,
   "metadata": {},
   "outputs": [],
   "source": [
    "##### testing \n",
    "\n",
    "terms=['noEvaluable','bivalent_risk','null','dispar']\n",
    "\n",
    "test=(prueba_assessment\n",
    ".filter(\n",
    "    (F.col('Assessment').isin(terms)==False))\n",
    ".groupBy('targetId','diseaseId','homogenized','datasourceId')\n",
    ".pivot('homogenized')\n",
    ".agg(F.count('targetId'))\n",
    ".join(contradictIntra.select('targetId3','diseaseId3','filterOut'),\n",
    "    (F.col('targetId')==contradictIntra.targetId3) & \n",
    "    (F.col('diseaseId')==contradictIntra.diseaseId3)\n",
    "    ,'left')\n",
    ".withColumn('filterOut',\n",
    "    F.when(F.col('filterOut')=='out', F.lit(F.col('filterOut')))\n",
    "    .otherwise(F.lit('keep')))\n",
    ".filter(F.col('filterOut')=='keep')\n",
    ".drop('targetId3','diseaseId3','filterOut')\n",
    ")\n"
   ]
  },
  {
   "cell_type": "code",
   "execution_count": null,
   "metadata": {},
   "outputs": [],
   "source": [
    "#### COHERENCY INTERDATASET #####"
   ]
  },
  {
   "cell_type": "code",
   "execution_count": 24,
   "metadata": {},
   "outputs": [
    {
     "data": {
      "text/plain": [
       "783826"
      ]
     },
     "execution_count": 24,
     "metadata": {},
     "output_type": "execute_result"
    }
   ],
   "source": [
    "(prueba_assessment\n",
    ".filter(\n",
    "    (F.col('Assessment').isin(terms)==False))\n",
    ".groupBy('targetId','diseaseId')\n",
    ".agg(F.count('targetId'))).count()"
   ]
  },
  {
   "cell_type": "code",
   "execution_count": 25,
   "metadata": {},
   "outputs": [],
   "source": [
    "### Include the calculation of overlapping\n",
    "terms=['noEvaluable','bivalent_risk','null','dispar']\n",
    "#### reminder of 'toprocess': \n",
    "toprocess=(prueba_assessment\n",
    ".filter(\n",
    "    (F.col('Assessment').isin(terms)==False))\n",
    ".groupBy('targetId','diseaseId')\n",
    ".pivot('homogenized')\n",
    ".agg(F.count('targetId'))\n",
    ".join(contradictIntra.select('targetId3','diseaseId3','filterOut'),\n",
    "    (F.col('targetId')==contradictIntra.targetId3) & \n",
    "    (F.col('diseaseId')==contradictIntra.diseaseId3)\n",
    "    ,'left')\n",
    ".withColumn('filterOut',\n",
    "    F.when(F.col('filterOut')=='out', F.lit(F.col('filterOut')))\n",
    "    .otherwise(F.lit('keep'))))\n",
    "#####\n",
    "\n",
    "\n",
    "columns=[\n",
    " 'GoF_risk',\n",
    " 'LoF_protect',\n",
    " 'LoF_risk',\n",
    " 'GoF_protect']\n",
    "\n",
    "coherencyInter_assessed_wOut=(toprocess\n",
    "##.filter(F.col('filterOut')!='out')\n",
    ".select(\n",
    "    F.col('targetId'),#.alias('targetId3'),\n",
    "    F.col('diseaseId'),#.alias('diseaseId3'),\n",
    "    F.col('filterOut'),\n",
    "    *(F.col(c).cast(\"int\").alias(c) for c in columns))\n",
    "\n",
    ".withColumn('coherency',\n",
    "    F.when(\n",
    "        (\n",
    "        (F.col('GoF_risk').isNotNull()) &\n",
    "        (F.col('LoF_risk').isNotNull())\n",
    "        ),\n",
    "            F.when(\n",
    "                (F.col('GoF_risk'))-(F.col('LoF_risk'))!=(F.col('GoF_risk'))\n",
    "                ,F.lit('dispar'))\n",
    "        )\n",
    "    .when(\n",
    "        (\n",
    "        (F.col('LoF_protect').isNotNull()) &\n",
    "        (F.col('LoF_risk').isNotNull())\n",
    "        ),\n",
    "            F.when(\n",
    "                (F.col('LoF_protect'))-(F.col('LoF_risk'))!=(F.col('LoF_protect'))\n",
    "                ,F.lit('dispar'))\n",
    "        )   \n",
    "    .when(\n",
    "        (\n",
    "        (F.col('GoF_protect').isNotNull()) &\n",
    "        (F.col('GoF_risk').isNotNull())\n",
    "        ),\n",
    "            F.when(\n",
    "                (F.col('GoF_protect'))-(F.col('GoF_risk'))!=(F.col('GoF_protect'))\n",
    "                ,F.lit('dispar'))\n",
    "        )   \n",
    "    .when(\n",
    "        (\n",
    "        (F.col('GoF_protect').isNotNull()) &\n",
    "        (F.col('LoF_protect').isNotNull())\n",
    "        ),\n",
    "            F.when(\n",
    "                (F.col('GoF_protect'))-(F.col('LoF_protect'))!=(F.col('GoF_protect'))\n",
    "                ,F.lit('dispar'))\n",
    "        )      \n",
    "    .when(\n",
    "        (\n",
    "        (F.col('GoF_protect').isNotNull()) &\n",
    "        (F.col('LoF_risk').isNotNull())\n",
    "        ),\n",
    "            F.when(\n",
    "                (F.col('GoF_protect'))-(F.col('LoF_risk'))!=(F.col('GoF_protect'))\n",
    "                ,F.lit('coherent'))\n",
    "    )      \n",
    "    .when(\n",
    "        (\n",
    "        (F.col('LoF_protect').isNotNull()) &\n",
    "        (F.col('GoF_risk').isNotNull())\n",
    "        ),\n",
    "            F.when(\n",
    "                (F.col('LoF_protect'))-(F.col('GoF_risk'))!=(F.col('LoF_protect'))\n",
    "                ,F.lit('coherent'))\n",
    "        )   \n",
    "    .otherwise(F.lit('take')))\n",
    ")"
   ]
  },
  {
   "cell_type": "code",
   "execution_count": null,
   "metadata": {},
   "outputs": [],
   "source": [
    "\n",
    "countPairsEvidences=(coherencyInter_assessed_wOut\n",
    ".filter(\n",
    "    (F.col('coherency')=='take')))\n",
    "#####countPairsEvidences.count()\n",
    "## 762208"
   ]
  },
  {
   "cell_type": "code",
   "execution_count": 26,
   "metadata": {},
   "outputs": [],
   "source": [
    "### Build the dataset for Disparities inter datasource: \n",
    "\n",
    "\n",
    "terms=['noEvaluable','bivalent_risk','null','dispar']\n",
    "\n",
    "### Make the incoherencies dataset: join disease name, approved symbol and collect how many evidences are supporting every column\n",
    "\n",
    "interdatasource=(coherencyInter_assessed_wOut\n",
    ".filter(F.col('coherency')=='dispar')\n",
    ".groupBy('targetId','diseaseId')\n",
    ".agg(F.count('targetId').alias('targetI'))\n",
    ".withColumnRenamed('targetId','targetIdU')\n",
    ".withColumnRenamed('diseaseId','diseaseI')\n",
    "\n",
    ".join((prueba_assessment.filter(F.col('Assessment').isin(terms)==False)), \n",
    "    (F.col('targetIdU')==prueba_assessment.targetId)&\n",
    "###    (F.col('datasourceI')==prueba_assessment.datasourceId) &\n",
    "    (F.col('diseaseI')==prueba_assessment.diseaseId),'left')\n",
    ".join(diseases.select('id','name',), F.col('diseaseId')==diseases.id,'left')\n",
    ".groupBy('targetId','diseaseI','name')\n",
    ".agg(F.collect_list('clinicalSignificances').alias('clinicalSignificances'),\n",
    "    F.collect_list('beta').alias('betaValues'),\n",
    "    F.collect_list('OddsRatio').alias('oddsRatio'),\n",
    "    F.collect_list('variantFunctionalConsequenceId').alias('varFunctConsId'),\n",
    "    F.collect_list('drugId').alias('drugId'),\n",
    "    F.collect_set('actionType').alias('actionTypeDif'),\n",
    "    F.collect_set('datasourceId'),\n",
    "    F.collect_list('diseaseFromSource'))\n",
    ".withColumnRenamed('targetId','targetiddd')\n",
    ".withColumnRenamed('name','diseaseName')\n",
    ".join(coherencyInter_assessed_wOut, \n",
    "    (F.col('targetIddd')==coherencyInter_assessed_wOut.targetId) &\n",
    "##    (F.col('datasourceI')==coherency_assessed.datasourceId3) &\n",
    "    (F.col('diseaseI')==coherencyInter_assessed_wOut.diseaseId)\n",
    ")\n",
    "### anadir el approved symbol:\n",
    ".join(target.select('id','approvedSymbol'), F.col('targetiddd')==target.id, 'left')\n",
    ")\n",
    "\n",
    "##interdatasource.count()\n",
    "### 13.548 counts"
   ]
  },
  {
   "cell_type": "code",
   "execution_count": 27,
   "metadata": {},
   "outputs": [],
   "source": [
    "### las columnas con null no nos valen para las operaciones, necesitamos cambiarlas por 0: \n",
    "\n",
    "##interdatasource.fillna(value=0, subset=[\"GoF_risk\",\"LoF_protect\",\"LoF_risk\",\"GoF_protect\",'totalEvidences'])\n",
    "\n",
    "interdatasourcePercentage=(interdatasource\n",
    "\n",
    ".withColumn('minoritaryPercentage',\n",
    "    F.when(\n",
    "            F.col('LoF_protect')>= F.col('LoF_risk'), F.lit((F.col('LoF_risk')/(F.col('LoF_risk')+F.col('LoF_protect')))*100))\n",
    "    .when(\n",
    "            F.col('LoF_protect') < F.col('LoF_risk'), F.lit((F.col('LoF_protect')/(F.col('LoF_risk')+F.col('LoF_protect')))*100))\n",
    "\n",
    "    .when(\n",
    "            F.col('GoF_protect') < F.col('GoF_risk'), F.lit((F.col('GoF_protect')/(F.col('GoF_protect')+F.col('GoF_risk')))*100))\n",
    "    .when(\n",
    "            F.col('GoF_protect') >= F.col('GoF_risk'), F.lit((F.col('GoF_risk')/(F.col('GoF_protect')+F.col('GoF_risk')))*100))\n",
    "            \n",
    "    .when(\n",
    "            F.col('GoF_risk') < F.col('LoF_risk'), F.lit((F.col('GoF_risk')/(F.col('GoF_risk')+F.col('LoF_risk')))*100))\n",
    "    .when(\n",
    "            F.col('GoF_risk') >= F.col('LoF_risk'), F.lit((F.col('LoF_risk')/(F.col('GoF_risk')+F.col('LoF_risk')))*100))    \n",
    "\n",
    "    .when(\n",
    "            F.col('GoF_protect') < F.col('LoF_protect'), F.lit((F.col('GoF_protect')/(F.col('GoF_protect')+F.col('LoF_protect')))*100))\n",
    "    .when(\n",
    "            F.col('GoF_protect') >= F.col('LoF_protect'), F.lit((F.col('LoF_protect')/(F.col('GoF_protect')+F.col('LoF_protect')))*100))   \n",
    "    \n",
    "    )\n",
    ".fillna(value=0, subset=[\"GoF_risk\",\"LoF_protect\",\"LoF_risk\",\"GoF_protect\"])\n",
    ".withColumn('totalEvidences',\n",
    "        F.expr(\"GoF_risk + LoF_protect + LoF_risk + GoF_protect\")\n",
    "))\n",
    "\n",
    "###.toPandas().to_csv('interdatasourcetest_TODAY.csv')\n"
   ]
  },
  {
   "cell_type": "code",
   "execution_count": 35,
   "metadata": {},
   "outputs": [
    {
     "name": "stdout",
     "output_type": "stream",
     "text": [
      "root\n",
      " |-- targetiddd: string (nullable = true)\n",
      " |-- diseaseI: string (nullable = true)\n",
      " |-- diseaseName: string (nullable = true)\n",
      " |-- clinicalSignificances: array (nullable = false)\n",
      " |    |-- element: string (containsNull = false)\n",
      " |-- betaValues: array (nullable = false)\n",
      " |    |-- element: float (containsNull = false)\n",
      " |-- oddsRatio: array (nullable = false)\n",
      " |    |-- element: float (containsNull = false)\n",
      " |-- varFunctConsId: array (nullable = false)\n",
      " |    |-- element: string (containsNull = false)\n",
      " |-- drugId: array (nullable = false)\n",
      " |    |-- element: string (containsNull = false)\n",
      " |-- actionTypeDif: array (nullable = false)\n",
      " |    |-- element: string (containsNull = false)\n",
      " |-- collect_set(datasourceId): array (nullable = false)\n",
      " |    |-- element: string (containsNull = false)\n",
      " |-- collect_list(diseaseFromSource): array (nullable = false)\n",
      " |    |-- element: string (containsNull = false)\n",
      " |-- targetId: string (nullable = true)\n",
      " |-- diseaseId: string (nullable = true)\n",
      " |-- filterOut: string (nullable = true)\n",
      " |-- GoF_risk: integer (nullable = true)\n",
      " |-- LoF_protect: integer (nullable = true)\n",
      " |-- LoF_risk: integer (nullable = true)\n",
      " |-- GoF_protect: integer (nullable = true)\n",
      " |-- coherency: string (nullable = true)\n",
      " |-- id: string (nullable = true)\n",
      " |-- approvedSymbol: string (nullable = true)\n",
      " |-- minoritaryPercentage: double (nullable = true)\n",
      " |-- totalEvidences: integer (nullable = true)\n",
      "\n"
     ]
    }
   ],
   "source": [
    "interdatasourcePercentage.printSchema()"
   ]
  },
  {
   "cell_type": "code",
   "execution_count": 43,
   "metadata": {},
   "outputs": [
    {
     "name": "stdout",
     "output_type": "stream",
     "text": [
      "+-----------+--------------------+------+\n",
      "|  diseaseId|         diseaseName|counts|\n",
      "+-----------+--------------------+------+\n",
      "|EFO_0004526|mean corpuscular ...|   508|\n",
      "|EFO_0004339|         body height|   424|\n",
      "|EFO_0004309|      platelet count|   406|\n",
      "|EFO_0007986|  reticulocyte count|   388|\n",
      "|EFO_0004995|      lean body mass|   369|\n",
      "|EFO_0004584|mean platelet volume|   368|\n",
      "|EFO_0004528|mean corpuscular ...|   335|\n",
      "|EFO_0004696|sex hormone-bindi...|   310|\n",
      "|EFO_0004980|appendicular lean...|   270|\n",
      "|EFO_0004587|    lymphocyte count|   268|\n",
      "|EFO_0004842|    eosinophil count|   253|\n",
      "|EFO_0004833|    neutrophil count|   249|\n",
      "|EFO_0005192|red blood cell di...|   245|\n",
      "|EFO_0004305|   erythrocyte count|   240|\n",
      "|EFO_0009270|heel bone mineral...|   235|\n",
      "|EFO_0005409|       fat body mass|   231|\n",
      "|EFO_0004308|     leukocyte count|   220|\n",
      "|EFO_0005091|      monocyte count|   213|\n",
      "|EFO_0004509|hemoglobin measur...|   210|\n",
      "|EFO_0010700|reticulocyte meas...|   181|\n",
      "+-----------+--------------------+------+\n",
      "only showing top 20 rows\n",
      "\n"
     ]
    }
   ],
   "source": [
    "## Recoger los datos de diseaseName\n",
    "interdatasourcePercentage.groupBy('diseaseId','diseaseName').agg(F.count('targetiddd').alias('counts')).orderBy(F.col('counts').desc()).show()"
   ]
  },
  {
   "cell_type": "code",
   "execution_count": 57,
   "metadata": {},
   "outputs": [
    {
     "data": {
      "text/plain": [
       "762208"
      ]
     },
     "execution_count": 57,
     "metadata": {},
     "output_type": "execute_result"
    }
   ],
   "source": [
    "### contar dispares\n",
    "#coherencyInter_assessed_wOut.filter(F.col('coherency')=='dispar').count()\n",
    "### dispares = 13.584\n",
    "\n",
    "### contar takes\n",
    "# coherencyInter_assessed_wOut.filter(F.col('coherency')=='take').count()\n",
    "### 762.208"
   ]
  },
  {
   "cell_type": "code",
   "execution_count": 81,
   "metadata": {},
   "outputs": [
    {
     "name": "stdout",
     "output_type": "stream",
     "text": [
      "root\n",
      " |-- diseaseId: string (nullable = true)\n",
      " |-- coherent: long (nullable = true)\n",
      " |-- dispar: long (nullable = true)\n",
      " |-- take: long (nullable = true)\n",
      " |-- percentageTrue: double (nullable = true)\n",
      " |-- percentageContradic: double (nullable = true)\n",
      "\n"
     ]
    },
    {
     "ename": "TypeError",
     "evalue": "'NoneType' object is not callable",
     "output_type": "error",
     "traceback": [
      "\u001b[0;31m---------------------------------------------------------------------------\u001b[0m",
      "\u001b[0;31mTypeError\u001b[0m                                 Traceback (most recent call last)",
      "Cell \u001b[0;32mIn[81], line 1\u001b[0m\n\u001b[0;32m----> 1\u001b[0m uno\u001b[39m.\u001b[39;49mprintSchema()()\n",
      "\u001b[0;31mTypeError\u001b[0m: 'NoneType' object is not callable"
     ]
    }
   ],
   "source": [
    "uno.printSchema()()"
   ]
  },
  {
   "cell_type": "code",
   "execution_count": 72,
   "metadata": {},
   "outputs": [
    {
     "name": "stdout",
     "output_type": "stream",
     "text": [
      "+-----------+--------------------+--------------------+--------------------+--------------------+\n",
      "|  diseaseId|         GoF_protect|            GoF_risk|         LoF_protect|            LoF_risk|\n",
      "+-----------+--------------------+--------------------+--------------------+--------------------+\n",
      "|  DOID_7551|                  []|                  []|         [gonorrhea]|                  []|\n",
      "|EFO_0000174|[Ewing's Sarcoma,...|   [Ewing's sarcoma]|[EWINGS SARCOMA, ...|[Ewing Sarcoma, E...|\n",
      "|EFO_0000191|[Extranodal Margi...|                  []|[Antibiotics-unre...|[Malt Lymphoma, L...|\n",
      "|EFO_0000198|[Anemia in Myelod...|                  []|[Myelodysplastic ...|[41202#D46#D46 My...|\n",
      "|EFO_0000199|[Squamous Cell Ca...|                  []|[Squamous Cell Ca...|                  []|\n",
      "|EFO_0000233|[Adenosquamous Ce...|                  []|[Adenosquamous Ce...|                  []|\n",
      "|EFO_0000274|[Dermatitis, Atop...|[\"Atopic  dermati...|[Dermatitis, Atop...|[Dermatitis, atop...|\n",
      "|EFO_0000348|                  []|                  []|[Ovarian Clear Ce...|                  []|\n",
      "|EFO_0000402|                  []|                  []|[Diffuse Adenocar...|                  []|\n",
      "|EFO_0000499|                  []|                  []|                  []|   [Thyroid adenoma]|\n",
      "|EFO_0000565|[Acute Leukaemia,...|                  []|[Large Granular L...|[20001#1048#leuka...|\n",
      "|EFO_0000569|       [Liposarcoma]|                  []|[Metastatic Lipos...|       [Liposarcoma]|\n",
      "|EFO_0000571|[Adenocarcinoma o...|[Lung adenocarcin...|[Lung Adenocarcin...|[Lung adenocarcin...|\n",
      "|EFO_0000595|                  []|                  []|                  []|                  []|\n",
      "|EFO_0000632|[Oligodendrogliom...|                  []|[Oligodendrogliom...|[Oligodendrogliom...|\n",
      "|EFO_0000701|[Hematological or...|[Hematological or...|[contact dermatos...|[Union#Q828#Q82.8...|\n",
      "|EFO_0000713|[Headaches Associ...|                  []|[Subarachnoid Hae...|                  []|\n",
      "|EFO_0000772|                  []|                  []|[Pneumococcal Vac...|                  []|\n",
      "|EFO_0001063|   [Sudden Deafness]|                  []|   [Sudden Deafness]|[Autosomal recess...|\n",
      "|EFO_0002615|[Carotid Stenosis...|                  []|[Carotid Stenosis...|                  []|\n",
      "+-----------+--------------------+--------------------+--------------------+--------------------+\n",
      "only showing top 20 rows\n",
      "\n"
     ]
    }
   ],
   "source": [
    "#### sacar el numero de eventos \n",
    "terms=['noEvaluable','bivalent_risk','null','dispar']\n",
    "\n",
    "toprocess_datasource=(prueba_assessment\n",
    ".filter(\n",
    "    (F.col('Assessment').isin(terms)==False))\n",
    ".groupBy(\n",
    "    ##'targetId',\n",
    "    'diseaseId')\n",
    ".pivot('homogenized')\n",
    ".agg(F.collect_set('diseaseFromSource'))\n",
    ").show()\n",
    "#####"
   ]
  },
  {
   "cell_type": "code",
   "execution_count": 28,
   "metadata": {},
   "outputs": [],
   "source": [
    "\n",
    "### make percentage of diseases\n",
    "uno=(coherencyInter_assessed_wOut\n",
    ".groupBy('diseaseId')\n",
    ".pivot('coherency')\n",
    ".agg(F.count('targetId'))\n",
    "\n",
    ".withColumn('percentageTrue',\n",
    "    F.lit(F.col('take')/762208*100))\n",
    ".withColumn('percentageContradic',\n",
    "    F.lit(F.col('dispar')/13584*100))\n",
    ".withColumn('suspicious',\n",
    "    F.when(F.col('percentageContradic')>F.col('percentageTrue'),F.lit('suspicious'))\n",
    "    .when(F.col('percentageContradic')<=F.col('percentageTrue'),F.lit('nonSuspicious')))\n",
    ".withColumn('foldChange',\n",
    "    F.when(F.col('suspicious')=='suspicious', F.lit(F.col('percentageContradic')/F.col('percentageTrue')))\n",
    "))\n",
    "###.toPandas().to_csv('percentages.csv')\n"
   ]
  },
  {
   "cell_type": "code",
   "execution_count": 96,
   "metadata": {},
   "outputs": [
    {
     "name": "stderr",
     "output_type": "stream",
     "text": [
      "/opt/anaconda3/envs/python/lib/python3.10/site-packages/pandas/core/internals/blocks.py:2323: RuntimeWarning: invalid value encountered in cast\n",
      "  values = values.astype(str)\n"
     ]
    }
   ],
   "source": [
    "uno.join(diseases.select('id','name'), diseases.id==F.col('diseaseId')).toPandas().to_csv('percentages3.csv')"
   ]
  },
  {
   "cell_type": "code",
   "execution_count": 362,
   "metadata": {},
   "outputs": [],
   "source": [
    "#### 28.02.2023\n",
    "### count the number of unique target id involved\n",
    "pruebe=(coherencyInter_assessed_wOut\n",
    ".groupBy('diseaseId') \n",
    ".pivot('coherency')\n",
    ".agg(F.countDistinct('targetId'))\n",
    "\n",
    ".withColumn('percentageContradict',\n",
    "    F.lit(F.col('dispar')/(F.col('take')+F.col('dispar')+F.col('coherent'))*100))\n",
    ")\n",
    "\n",
    "### falta hacer el join con las contradicciones para mostrar solo contradict \n"
   ]
  },
  {
   "cell_type": "code",
   "execution_count": 356,
   "metadata": {},
   "outputs": [
    {
     "name": "stdout",
     "output_type": "stream",
     "text": [
      "+---------------+--------+------+----+--------------------+\n",
      "|      diseaseId|coherent|dispar|take|percentageContradict|\n",
      "+---------------+--------+------+----+--------------------+\n",
      "|  MONDO_0009148|    null|  null|  38|                null|\n",
      "| Orphanet_85182|    null|  null|  20|                null|\n",
      "|  MONDO_0016485|    null|  null|  38|                null|\n",
      "|  MONDO_0015028|    null|  null|  11|                null|\n",
      "|  Orphanet_1259|    null|  null|  65|                null|\n",
      "| Orphanet_98261|    null|  null| 213|                null|\n",
      "|    EFO_0004254|       1|     1|  27|   93.10344827586206|\n",
      "|  MONDO_0012980|    null|  null|  20|                null|\n",
      "|  MONDO_0021193|    null|  null|  20|                null|\n",
      "|    EFO_1000179|       2|  null|  34|                null|\n",
      "|  Orphanet_1766|    null|  null| 239|                null|\n",
      "|   Orphanet_590|    null|  null| 122|                null|\n",
      "|  MONDO_0007216|    null|  null|  91|                null|\n",
      "|  MONDO_0015270|    null|  null|  27|                null|\n",
      "|  MONDO_0030006|    null|  null|  24|                null|\n",
      "|  MONDO_0014162|    null|  null|  56|                null|\n",
      "|  MONDO_0011929|    null|  null|  11|                null|\n",
      "|Orphanet_309816|       2|     2|   2|   33.33333333333333|\n",
      "|  MONDO_0007604|    null|  null|  75|                null|\n",
      "|  MONDO_0011765|    null|  null| 202|                null|\n",
      "+---------------+--------+------+----+--------------------+\n",
      "only showing top 20 rows\n",
      "\n"
     ]
    }
   ],
   "source": [
    "pruebe.show()"
   ]
  },
  {
   "cell_type": "code",
   "execution_count": 46,
   "metadata": {},
   "outputs": [
    {
     "name": "stdout",
     "output_type": "stream",
     "text": [
      "+---------------+--------------+------+\n",
      "|     targetiddd|approvedSymbol|counts|\n",
      "+---------------+--------------+------+\n",
      "|ENSG00000177084|          POLE|    59|\n",
      "|ENSG00000112038|         OPRM1|    55|\n",
      "|ENSG00000149295|          DRD2|    51|\n",
      "|ENSG00000169252|         ADRB2|    47|\n",
      "|ENSG00000119772|        DNMT3A|    46|\n",
      "|ENSG00000062822|         POLD1|    44|\n",
      "|ENSG00000043591|         ADRB1|    42|\n",
      "|ENSG00000150594|        ADRA2A|    40|\n",
      "|ENSG00000184160|        ADRA2C|    39|\n",
      "|ENSG00000274286|        ADRA2B|    39|\n",
      "|ENSG00000170214|        ADRA1B|    38|\n",
      "|ENSG00000120907|        ADRA1A|    36|\n",
      "|ENSG00000171873|        ADRA1D|    34|\n",
      "|ENSG00000119535|         CSF3R|    33|\n",
      "|ENSG00000082556|         OPRK1|    32|\n",
      "|ENSG00000122025|          FLT3|    31|\n",
      "|ENSG00000113721|        PDGFRB|    30|\n",
      "|ENSG00000118432|          CNR1|    30|\n",
      "|ENSG00000113580|         NR3C1|    29|\n",
      "|ENSG00000145675|        PIK3R1|    27|\n",
      "+---------------+--------------+------+\n",
      "only showing top 20 rows\n",
      "\n"
     ]
    }
   ],
   "source": [
    "interdatasourcePercentage.groupBy('targetiddd','approvedSymbol').agg(F.count('targetiddd').alias('counts')).orderBy(F.col('counts').desc()).show()"
   ]
  },
  {
   "cell_type": "code",
   "execution_count": 47,
   "metadata": {},
   "outputs": [
    {
     "name": "stdout",
     "output_type": "stream",
     "text": [
      "+--------------------+--------------+------+\n",
      "|         diseaseName|approvedSymbol|counts|\n",
      "+--------------------+--------------+------+\n",
      "|                null|          TLR7|     2|\n",
      "|                null|          ESR1|     2|\n",
      "|eosinophil percen...|         TRNT1|     1|\n",
      "|mean corpuscular ...|          NPC1|     1|\n",
      "|      lean body mass|        TBXAS1|     1|\n",
      "|   erythrocyte count|        SLC4A8|     1|\n",
      "|      monocyte count|        ZNF366|     1|\n",
      "|      lean body mass|         ACBD4|     1|\n",
      "|     body mass index|          PHF2|     1|\n",
      "|testosterone meas...|      BAIAP2L1|     1|\n",
      "|      vital capacity|          CMIP|     1|\n",
      "|systolic blood pr...|      IRAK1BP1|     1|\n",
      "|granulocyte perce...|          CDK6|     1|\n",
      "|testosterone meas...|         OVOL1|     1|\n",
      "|Immature Reticulo...|          HEY2|     1|\n",
      "|heel bone mineral...|         WNT2B|     1|\n",
      "|    lymphocyte count|         TTC19|     1|\n",
      "|testosterone meas...|      HSD17B13|     1|\n",
      "|  reticulocyte count|        TMEM91|     1|\n",
      "|     leukocyte count|         REEP3|     1|\n",
      "+--------------------+--------------+------+\n",
      "only showing top 20 rows\n",
      "\n"
     ]
    }
   ],
   "source": [
    "interdatasourcePercentage.groupBy('diseaseName','approvedSymbol').agg(F.count('targetiddd').alias('counts')).orderBy(F.col('counts').desc()).show()"
   ]
  },
  {
   "cell_type": "code",
   "execution_count": 29,
   "metadata": {},
   "outputs": [],
   "source": [
    "#### Filter by 'take' and study the distribution of evidences\n",
    "\n",
    "countPairsEvidences=(coherencyInter_assessed_wOut\n",
    ".filter(\n",
    "    (F.col('coherency')=='take'))\n",
    ".fillna(value=0, subset=[\"GoF_risk\",\"LoF_protect\",\"LoF_risk\",\"GoF_protect\"])\n",
    ".withColumn('totalEvidences',\n",
    "        F.expr(\"GoF_risk + LoF_protect + LoF_risk + GoF_protect\"))\n",
    ".withColumn('totalEvidences_woLR',\n",
    "        F.expr(\"GoF_risk + LoF_protect + GoF_protect\")\n",
    "))\n",
    "### countPairsEvidences2=countPairsEvidences.toPandas()\n"
   ]
  },
  {
   "cell_type": "code",
   "execution_count": 77,
   "metadata": {},
   "outputs": [
    {
     "data": {
      "image/png": "[encoded data removed]",
      "text/plain": [
       "<Figure size 1000x800 with 1 Axes>"
      ]
     },
     "metadata": {},
     "output_type": "display_data"
    }
   ],
   "source": [
    "import numpy as np \n",
    "import matplotlib.pyplot as plt\n",
    "var = 'Total Evidences'\n",
    "p = countPairsEvidences2['totalEvidences']\n",
    "bins = np.arange(0, 100, 10.0)\n",
    "\n",
    "plt.figure(figsize=(10,8))\n",
    "# the histogram of the data\n",
    "plt.hist(p, bins, alpha=0.8, histtype='bar', color='lavender',\n",
    "         ec='black',weights=np.zeros_like(p) + 100. / p.size)\n",
    "\n",
    "plt.xlabel(var)\n",
    "plt.ylabel('percentage')\n",
    "plt.xticks(bins)\n",
    "plt.show()"
   ]
  },
  {
   "cell_type": "code",
   "execution_count": null,
   "metadata": {},
   "outputs": [
    {
     "data": {
      "image/png": "[encoded data removed]",
      "text/plain": [
       "<Figure size 1000x800 with 1 Axes>"
      ]
     },
     "metadata": {},
     "output_type": "display_data"
    }
   ],
   "source": [
    "var = 'Total Evidences_WO_LoF_risk'\n",
    "p = countPairsEvidences2['totalEvidences_woLR']\n",
    "bins = np.arange(0, 100, 10.0)\n",
    "\n",
    "plt.figure(figsize=(10,8))\n",
    "# the histogram of the data\n",
    "plt.hist(p, bins, alpha=0.8, histtype='bar', color='lavender',\n",
    "         ec='black',weights=np.zeros_like(p) + 100. / p.size)\n",
    "\n",
    "plt.xlabel(var)\n",
    "plt.ylabel('percentage')\n",
    "plt.xticks(bins)\n",
    "plt.show()"
   ]
  },
  {
   "cell_type": "code",
   "execution_count": null,
   "metadata": {},
   "outputs": [
    {
     "data": {
      "image/png": "[encoded data removed]",
      "text/plain": [
       "<Figure size 1000x800 with 1 Axes>"
      ]
     },
     "metadata": {},
     "output_type": "display_data"
    }
   ],
   "source": [
    "var = 'Total Evidences_LoF_risk'\n",
    "p = countPairsEvidences2['LoF_risk']\n",
    "bins = np.arange(0, 100, 10.0)\n",
    "\n",
    "plt.figure(figsize=(10,8))\n",
    "# the histogram of the data\n",
    "plt.hist(p, bins, alpha=0.8, histtype='bar', color='lavender',\n",
    "         ec='black',weights=np.zeros_like(p) + 100. / p.size)\n",
    "\n",
    "plt.xlabel(var)\n",
    "plt.ylabel('percentage')\n",
    "plt.xticks(bins)\n",
    "plt.show()"
   ]
  },
  {
   "cell_type": "code",
   "execution_count": null,
   "metadata": {},
   "outputs": [
    {
     "name": "stderr",
     "output_type": "stream",
     "text": [
      "/var/folders/21/__kt0v8x593748hpg_k1sx200000gp/T/ipykernel_73088/556046060.py:1: FutureWarning: The default value of numeric_only in DataFrame.quantile is deprecated. In a future version, it will default to False. Select only valid columns or specify the value of numeric_only to silence this warning.\n",
      "  countPairsEvidences2.quantile([.25, .5, .75])\n"
     ]
    },
    {
     "data": {
      "text/html": [
       "<div>\n",
       "<style scoped>\n",
       "    .dataframe tbody tr th:only-of-type {\n",
       "        vertical-align: middle;\n",
       "    }\n",
       "\n",
       "    .dataframe tbody tr th {\n",
       "        vertical-align: top;\n",
       "    }\n",
       "\n",
       "    .dataframe thead th {\n",
       "        text-align: right;\n",
       "    }\n",
       "</style>\n",
       "<table border=\"1\" class=\"dataframe\">\n",
       "  <thead>\n",
       "    <tr style=\"text-align: right;\">\n",
       "      <th></th>\n",
       "      <th>GoF_risk</th>\n",
       "      <th>LoF_protect</th>\n",
       "      <th>LoF_risk</th>\n",
       "      <th>GoF_protect</th>\n",
       "      <th>totalEvidences</th>\n",
       "      <th>totalEvidences_woLR</th>\n",
       "    </tr>\n",
       "  </thead>\n",
       "  <tbody>\n",
       "    <tr>\n",
       "      <th>0.25</th>\n",
       "      <td>0.0</td>\n",
       "      <td>0.0</td>\n",
       "      <td>1.0</td>\n",
       "      <td>0.0</td>\n",
       "      <td>1.0</td>\n",
       "      <td>0.0</td>\n",
       "    </tr>\n",
       "    <tr>\n",
       "      <th>0.50</th>\n",
       "      <td>0.0</td>\n",
       "      <td>0.0</td>\n",
       "      <td>1.0</td>\n",
       "      <td>0.0</td>\n",
       "      <td>1.0</td>\n",
       "      <td>0.0</td>\n",
       "    </tr>\n",
       "    <tr>\n",
       "      <th>0.75</th>\n",
       "      <td>0.0</td>\n",
       "      <td>0.0</td>\n",
       "      <td>2.0</td>\n",
       "      <td>0.0</td>\n",
       "      <td>2.0</td>\n",
       "      <td>0.0</td>\n",
       "    </tr>\n",
       "  </tbody>\n",
       "</table>\n",
       "</div>"
      ],
      "text/plain": [
       "      GoF_risk  LoF_protect  LoF_risk  GoF_protect  totalEvidences  \\\n",
       "0.25       0.0          0.0       1.0          0.0             1.0   \n",
       "0.50       0.0          0.0       1.0          0.0             1.0   \n",
       "0.75       0.0          0.0       2.0          0.0             2.0   \n",
       "\n",
       "      totalEvidences_woLR  \n",
       "0.25                  0.0  \n",
       "0.50                  0.0  \n",
       "0.75                  0.0  "
      ]
     },
     "execution_count": 139,
     "metadata": {},
     "output_type": "execute_result"
    }
   ],
   "source": [
    "\n",
    "countPairsEvidences2.quantile([.25, .5, .75])\n"
   ]
  },
  {
   "cell_type": "code",
   "execution_count": null,
   "metadata": {},
   "outputs": [
    {
     "name": "stderr",
     "output_type": "stream",
     "text": [
      "/opt/anaconda3/envs/python/lib/python3.10/site-packages/pandas/core/internals/blocks.py:2323: RuntimeWarning: invalid value encountered in cast\n",
      "  values = values.astype(str)\n"
     ]
    }
   ],
   "source": [
    "interdatasourcePercentage.toPandas().to_csv('interdatasourcePercentage2.csv')"
   ]
  },
  {
   "cell_type": "code",
   "execution_count": null,
   "metadata": {},
   "outputs": [
    {
     "name": "stdout",
     "output_type": "stream",
     "text": [
      "+--------+-----------+--------+-----------+--------------------+--------------+\n",
      "|GoF_risk|LoF_protect|LoF_risk|GoF_protect|minoritaryPercentage|totalEvidences|\n",
      "+--------+-----------+--------+-----------+--------------------+--------------+\n",
      "|       2|          0|       1|          0|   33.33333333333333|             3|\n",
      "|       1|          0|       1|          1|                50.0|             3|\n",
      "|       1|          0|       1|          0|                50.0|             2|\n",
      "|       0|          2|       0|          3|                40.0|             5|\n",
      "|       1|          0|       2|          0|   33.33333333333333|             3|\n",
      "|       0|          3|       4|          0|  42.857142857142854|             7|\n",
      "|       0|          6|       1|          2|  14.285714285714285|             9|\n",
      "|       0|          3|       1|          3|                25.0|             7|\n",
      "|       0|          3|       0|          2|                40.0|             5|\n",
      "|       0|          2|       1|          1|   33.33333333333333|             4|\n",
      "|       2|          1|       5|          0|  16.666666666666664|             8|\n",
      "|       0|          3|       1|          0|                25.0|             4|\n",
      "|       0|          1|       1|          1|                50.0|             3|\n",
      "|       0|          2|       3|          0|                40.0|             5|\n",
      "|       1|         12|       0|          1|                50.0|            14|\n",
      "|       0|          1|       0|          1|                50.0|             2|\n",
      "|       0|          1|       0|          1|                50.0|             2|\n",
      "|       3|          1|       0|          4|  42.857142857142854|             8|\n",
      "|       1|          1|       1|          0|                50.0|             3|\n",
      "|       0|          1|       0|          1|                50.0|             2|\n",
      "+--------+-----------+--------+-----------+--------------------+--------------+\n",
      "only showing top 20 rows\n",
      "\n"
     ]
    }
   ],
   "source": [
    "interdatasourcePercentage.select(\"GoF_risk\",\"LoF_protect\",\"LoF_risk\",\"GoF_protect\",\"minoritaryPercentage\",'totalEvidences').show()"
   ]
  },
  {
   "cell_type": "code",
   "execution_count": 88,
   "metadata": {},
   "outputs": [
    {
     "data": {
      "image/png": "[encoded data removed]",
      "text/plain": [
       "<Figure size 1000x800 with 1 Axes>"
      ]
     },
     "metadata": {},
     "output_type": "display_data"
    }
   ],
   "source": [
    "import numpy as np\n",
    "import matplotlib.pyplot as plt\n",
    "x0=-1\n",
    "var = 'Percentage of minority (%)'\n",
    "x = data['minoritaryPercentage']\n",
    "bins = np.arange(0, 100 + x0, 10.0)\n",
    "\n",
    "plt.figure(figsize=(10,8))\n",
    "# the histogram of the data\n",
    "\n",
    "plt.hist(x+x0, bins, alpha=0.8, histtype='bar', color='dodgerblue',\n",
    "         ec='black',weights=np.zeros_like(x) + 100. / x.size)\n",
    "\n",
    "#plt.hist(x, bins, alpha=0.8, histtype='bar', color='dodgerblue',\n",
    "#         ec='black',weights=np.zeros_like(x) + 100. / x.size)\n",
    "\n",
    "plt.xlabel(var)\n",
    "plt.ylabel('percentage')\n",
    "plt.xticks(bins)\n",
    "plt.show()\n"
   ]
  },
  {
   "cell_type": "code",
   "execution_count": null,
   "metadata": {},
   "outputs": [
    {
     "data": {
      "image/png": "[encoded data removed]",
      "text/plain": [
       "<Figure size 640x480 with 2 Axes>"
      ]
     },
     "metadata": {},
     "output_type": "display_data"
    }
   ],
   "source": [
    "x=data['totalEvidences']\n",
    "y=data['minoritaryPercentage']\n",
    "fig,(ax,ax2) = plt.subplots(1,2,sharey=True, facecolor='w')\n",
    "\n",
    "ax.scatter(x,y,s=4)\n",
    "ax2.scatter(x,y,s=4)\n",
    "\n",
    "ax.set_xlim(0,20)\n",
    "ax2.set_xlim(20,400)\n",
    "\n",
    "ax.spines['right'].set_visible(False)\n",
    "ax2.spines['left'].set_visible(False)\n",
    "ax.yaxis.tick_left()\n",
    "##ax.tick_params(labeltop='off') # don't put tick labels at the top\n",
    "ax2.yaxis.tick_right()\n",
    "\n",
    "# Make the spacing between the two axes a bit smaller\n",
    "plt.subplots_adjust(wspace=0.05)\n",
    "\n",
    "fig.text(0.5, 0.04, 'totalEvidences', ha='center', va='center')\n",
    "fig.text(0.06, 0.5, 'minoritaryPercentage', ha='center', va='center', rotation='vertical')\n",
    "plt.show()\n",
    "\n"
   ]
  },
  {
   "cell_type": "code",
   "execution_count": 86,
   "metadata": {},
   "outputs": [
    {
     "data": {
      "image/png": "[encoded data removed]",
      "text/plain": [
       "<Figure size 640x480 with 1 Axes>"
      ]
     },
     "metadata": {},
     "output_type": "display_data"
    }
   ],
   "source": [
    "fig = data.plot.scatter(x='totalEvidences', y='minoritaryPercentage')\n",
    "#fig.update_layout(template=\"plotly_dark\")"
   ]
  },
  {
   "cell_type": "code",
   "execution_count": null,
   "metadata": {},
   "outputs": [],
   "source": [
    "interdatasourcePercentage.groupBy('diseaseId','diseaseName').agg(F.count('targetId'))"
   ]
  },
  {
   "cell_type": "code",
   "execution_count": 29,
   "metadata": {},
   "outputs": [
    {
     "data": {
      "text/plain": [
       "783373"
      ]
     },
     "execution_count": 29,
     "metadata": {},
     "output_type": "execute_result"
    }
   ],
   "source": [
    "coherencyInter_assessed_wOut.count()"
   ]
  },
  {
   "cell_type": "code",
   "execution_count": 30,
   "metadata": {},
   "outputs": [
    {
     "ename": "AttributeError",
     "evalue": "'NoneType' object has no attribute 'count'",
     "output_type": "error",
     "traceback": [
      "\u001b[0;31m---------------------------------------------------------------------------\u001b[0m",
      "\u001b[0;31mAttributeError\u001b[0m                            Traceback (most recent call last)",
      "Cell \u001b[0;32mIn[30], line 1\u001b[0m\n\u001b[0;32m----> 1\u001b[0m interdatasourcePercentage\u001b[39m.\u001b[39;49mcount()\n",
      "\u001b[0;31mAttributeError\u001b[0m: 'NoneType' object has no attribute 'count'"
     ]
    }
   ],
   "source": [
    "interdatasourcePercentage.count()"
   ]
  },
  {
   "cell_type": "code",
   "execution_count": null,
   "metadata": {},
   "outputs": [
    {
     "name": "stdout",
     "output_type": "stream",
     "text": [
      "+---------+---------+---------------+\n",
      "|coherency|filterOut|count(targetId)|\n",
      "+---------+---------+---------------+\n",
      "|   dispar|      out|          12062|\n",
      "|   dispar|     keep|           1522|\n",
      "|     take|     keep|         762208|\n",
      "| coherent|     keep|           7581|\n",
      "+---------+---------+---------------+\n",
      "\n"
     ]
    }
   ],
   "source": [
    "coherencyInter_assessed_wOut.groupBy('coherency','filterOut').agg(F.count('targetId')).show()\n",
    "\n",
    "toprocess_matrix2=(prueba_assessment\n",
    ".filter(\n",
    "    (F.col('Assessment').isin(terms)==False))\n",
    ".groupBy('targetId','diseaseId')\n",
    ".pivot('datasourceId')\n",
    ".agg(F.count('targetId')))"
   ]
  },
  {
   "cell_type": "code",
   "execution_count": null,
   "metadata": {},
   "outputs": [],
   "source": [
    "### https://stackoverflow.com/questions/69455085/create-item-item-interaction-matrix-in-pyspark\n",
    "\n",
    "### Stack: create item-item interaction matrix in pyspark \n",
    "### \n"
   ]
  },
  {
   "cell_type": "code",
   "execution_count": 30,
   "metadata": {},
   "outputs": [],
   "source": [
    "\n",
    "### make the matrix of coincidences between datasources:\n",
    "from pyspark.sql.functions import monotonically_increasing_id \n",
    "\n",
    "\n",
    "terms=['noEvaluable','bivalent_risk','null','dispar']\n",
    "\n",
    "tdds=(prueba_assessment ### order target-traits pairs by datasource\n",
    ".filter(\n",
    "    (F.col('Assessment').isin(terms)==False))\n",
    ".groupBy('targetId','diseaseId','datasourceId')\n",
    ".agg(F.count('targetId'))\n",
    ".select(F.col('targetId').alias('targetIddd'),\n",
    "    F.col('diseaseId').alias('diseaseIdddd'),\n",
    "    F.col('datasourceId')))\n",
    "\n",
    " ### multiply every target-trait by every datasource they appear on. \n",
    " # Add an unique ID to identify and count distinctly\n",
    "\n",
    "analysis=(prueba_assessment\n",
    ".filter(\n",
    "    (F.col('Assessment').isin(terms)==False))\n",
    ".groupBy('targetId','diseaseId')\n",
    ".agg(F.count('targetId'))\n",
    ".withColumn('nr',monotonically_increasing_id())\n",
    ".join(tdds, (F.col('targetId')==tdds.targetIddd) & (F.col('diseaseId')==tdds.diseaseIdddd),'left')\n",
    ")\n",
    "analysisdo=analysis.select('targetId','diseaseId','nr','datasourceId')\n",
    "\n",
    "df_collect = (analysisdo\n",
    "## user_id = nr\n",
    "## item_id = datasourceId\n",
    "        .select(\"nr\", \"datasourceId\")\n",
    "        .groupBy(\"datasourceId\")\n",
    "        .agg(F.collect_set(\"nr\").alias(\"nrs\")))\n",
    "### Step 2. Cross join df_collect with itself to get all item-item combinations\n",
    "\n",
    "df_crossjoin = (df_collect\n",
    "                    .join(df_collect\n",
    "                            .withColumnRenamed(\"datasourceId\", \"datasourceId_y\")\n",
    "                            .withColumnRenamed(\"nrs\", \"nrs_y\")))\n",
    "### Step 2. Find user union and intersection and the count\n",
    "\n",
    "df_ui = (df_crossjoin\n",
    "                 .withColumn(\"nrs_union\", \n",
    "                         F.size((F.array_union(\"nrs\", \"nrs_y\"))))\n",
    "                 .withColumn(\"nrs_intersect\", \n",
    "                             F.size(F.array_intersect(\"nrs\", \"nrs_y\"))))\n",
    "    \n",
    "### Step 3. Pivot to get item-item matrix\n",
    "\n",
    "df_matrix_union = (df_ui\n",
    "                   .groupBy(\"datasourceId\")\n",
    "                   .pivot(\"datasourceId_y\")\n",
    "                   .agg(F.first(\"nrs_union\"))\n",
    "                   .orderBy(\"datasourceId\"))\n",
    "\n",
    "df_matrix_intrsct = (df_ui\n",
    "                   .groupBy(\"datasourceId\")\n",
    "                   .pivot(\"datasourceId_y\")\n",
    "                   .agg(F.first(\"nrs_intersect\"))\n",
    "                   .orderBy(\"datasourceId\"))"
   ]
  },
  {
   "cell_type": "code",
   "execution_count": 31,
   "metadata": {},
   "outputs": [
    {
     "name": "stdout",
     "output_type": "stream",
     "text": [
      "+------------------+------------------+------+-----+-----------+--------------+-----------+------+-------+--------+------------------+\n",
      "|      datasourceId|cancer_gene_census|chembl|  eva|eva_somatic|gene2phenotype|gene_burden|  impc|intogen|orphanet|ot_genetics_portal|\n",
      "+------------------+------------------+------+-----+-----------+--------------+-----------+------+-------+--------+------------------+\n",
      "|cancer_gene_census|             40201|  1418|  103|         67|             8|         63|   351|    668|       2|                35|\n",
      "|            chembl|              1418| 68915|   88|         20|             3|         34|   709|    151|      11|               188|\n",
      "|               eva|               103|    88|13041|        139|          1276|        107|  2155|     23|     736|                54|\n",
      "|       eva_somatic|                67|    20|  139|        379|            24|         18|    70|     35|      10|                 2|\n",
      "|    gene2phenotype|                 8|     3| 1276|         24|          1609|          4|   364|      3|     242|                 1|\n",
      "|       gene_burden|                63|    34|  107|         18|             4|       3460|    58|     17|       0|               946|\n",
      "|              impc|               351|   709| 2155|         70|           364|         58|545740|     53|     311|               123|\n",
      "|           intogen|               668|   151|   23|         35|             3|         17|    53|   1735|       0|                 2|\n",
      "|          orphanet|                 2|    11|  736|         10|           242|          0|   311|      0|    1327|                 1|\n",
      "|ot_genetics_portal|                35|   188|   54|          2|             1|        946|   123|      2|       1|            116828|\n",
      "+------------------+------------------+------+-----+-----------+--------------+-----------+------+-------+--------+------------------+\n",
      "\n"
     ]
    }
   ],
   "source": [
    "df_matrix_intrsct.show()"
   ]
  },
  {
   "cell_type": "code",
   "execution_count": 32,
   "metadata": {},
   "outputs": [],
   "source": [
    "toprocess=(prueba_assessment\n",
    ".filter(\n",
    "    (F.col('Assessment').isin(terms)==False))\n",
    ".groupBy('targetId','diseaseId')\n",
    ".pivot('homogenized')\n",
    ".agg(F.count('targetId'))\n",
    ".join(contradictIntra.select('targetId3','diseaseId3','filterOut'),\n",
    "    (F.col('targetId')==contradictIntra.targetId3) & \n",
    "    (F.col('diseaseId')==contradictIntra.diseaseId3)\n",
    "    ,'left')\n",
    ".withColumn('filterOut',\n",
    "    F.when(F.col('filterOut')=='out', F.lit(F.col('filterOut')))\n",
    "    .otherwise(F.lit('keep')))\n",
    ")\n"
   ]
  },
  {
   "cell_type": "code",
   "execution_count": 33,
   "metadata": {},
   "outputs": [],
   "source": [
    "### Matrix of contradictions per datasource and intradatasource \n",
    "###\n",
    "######\n",
    "## to construct the matrix of coincidences between datasources we need to get: coherent and dispar. \n",
    "\n",
    "## 1) Get pairs target-diseases with label dispar/coherent\n",
    "toget=['dispar','coherent']\n",
    "pairs_analysis=(coherencyInter_assessed_wOut\n",
    ".filter(F.col('coherency').isin(toget))\n",
    ".withColumnRenamed('targetId','targetId2')\n",
    ".withColumnRenamed('diseaseId','diseaseId2')\n",
    ")\n",
    "testeado=toprocess.join(pairs_analysis, (pairs_analysis.targetId2==F.col('targetId')) & (pairs_analysis.diseaseId2==F.col('diseaseId')), 'right')\n",
    "\n",
    "#######\n",
    "\n",
    "toprocess=(prueba_assessment\n",
    ".filter(\n",
    "    (F.col('Assessment').isin(terms)==False))\n",
    ".groupBy('targetId','diseaseId')\n",
    ".pivot('homogenized')\n",
    ".agg(F.count('targetId'))\n",
    ".join(contradictIntra.select('targetId3','diseaseId3','filterOut'),\n",
    "    (F.col('targetId')==contradictIntra.targetId3) & \n",
    "    (F.col('diseaseId')==contradictIntra.diseaseId3)\n",
    "    ,'left')\n",
    ".withColumn('filterOut2',\n",
    "    F.when(F.col('filterOut')=='out', F.lit(F.col('filterOut')))\n",
    "    .otherwise(F.lit('keep')))\n",
    ".drop('filterOut')\n",
    "\n",
    ")\n",
    "\n",
    "pairs_analysis=(coherencyInter_assessed_wOut\n",
    ".filter(F.col('coherency').isin(toget))\n",
    ".withColumnRenamed('targetId','targetId2')\n",
    ".withColumnRenamed('diseaseId','diseaseId2')\n",
    ")\n",
    "testeado=toprocess.join(pairs_analysis, (pairs_analysis.targetId2==F.col('targetId')) & (pairs_analysis.diseaseId2==F.col('diseaseId')), 'right')\n",
    "\n",
    "allcontradict_coherent=(testeado\n",
    ".filter( \n",
    "    (F.col('coherency')=='dispar') & (F.col('filterOut')=='out') | \n",
    "    (F.col('coherency')=='dispar') & (F.col('filterOut')=='keep') | \n",
    "    (F.col('coherency')=='coherent') & (F.col('filterOut')=='keep'))\n",
    ".select('targetId','diseaseId')\n",
    ".withColumn('nr',monotonically_increasing_id())\n",
    ".join(tdds, (F.col('targetId')==tdds.targetIddd) & (F.col('diseaseId')==tdds.diseaseIdddd),'left')\n",
    ".select('targetId','diseaseId','nr','datasourceId'))\n",
    "\n",
    "\n",
    "#### make the pipeline \n",
    "\n",
    "\n",
    "\n",
    "df_collect = (allcontradict_coherent\n",
    "## user_id = nr\n",
    "## item_id = datasourceId\n",
    "        .select(\"nr\", \"datasourceId\")\n",
    "        .groupBy(\"datasourceId\")\n",
    "        .agg(F.collect_set(\"nr\").alias(\"nrs\")))\n",
    "### Step 2. Cross join df_collect with itself to get all item-item combinations\n",
    "\n",
    "df_crossjoin = (df_collect\n",
    "                    .join(df_collect\n",
    "                            .withColumnRenamed(\"datasourceId\", \"datasourceId_y\")\n",
    "                            .withColumnRenamed(\"nrs\", \"nrs_y\")))\n",
    "### Step 2. Find user union and intersection and the count\n",
    "\n",
    "df_ui = (df_crossjoin\n",
    "                 .withColumn(\"nrs_union\", \n",
    "                         F.size((F.array_union(\"nrs\", \"nrs_y\"))))\n",
    "                 .withColumn(\"nrs_intersect\", \n",
    "                             F.size(F.array_intersect(\"nrs\", \"nrs_y\"))))\n",
    "    \n",
    "### Step 3. Pivot to get item-item matrix\n",
    "\n",
    "df_matrix_union = (df_ui\n",
    "                   .groupBy(\"datasourceId\")\n",
    "                   .pivot(\"datasourceId_y\")\n",
    "                   .agg(F.first(\"nrs_union\"))\n",
    "                   .orderBy(\"datasourceId\"))\n",
    "\n",
    "df_matrix_intrsct = (df_ui\n",
    "                   .groupBy(\"datasourceId\")\n",
    "                   .pivot(\"datasourceId_y\")\n",
    "                   .agg(F.first(\"nrs_intersect\"))\n",
    "                   .orderBy(\"datasourceId\"))"
   ]
  },
  {
   "cell_type": "code",
   "execution_count": 34,
   "metadata": {},
   "outputs": [],
   "source": [
    "### Matrix of contradictions per datasource and intradatasource <<removing COHERENT>>\n",
    "\n",
    "allcontradict_WOcoherent=(testeado\n",
    ".filter( \n",
    "    (F.col('coherency')=='dispar') & (F.col('filterOut')=='out') | \n",
    "    (F.col('coherency')=='dispar') & (F.col('filterOut')=='keep')\n",
    "    ## | (F.col('coherency')=='coherent') & (F.col('filterOut')=='keep')\n",
    "    )\n",
    ".select('targetId','diseaseId')\n",
    ".withColumn('nr',monotonically_increasing_id())\n",
    ".join(tdds, (F.col('targetId')==tdds.targetIddd) & (F.col('diseaseId')==tdds.diseaseIdddd),'left')\n",
    ".select('targetId','diseaseId','nr','datasourceId'))\n",
    "\n",
    "\n",
    "#### make the pipeline \n",
    "\n",
    "df_collect = (allcontradict_WOcoherent\n",
    "## user_id = nr\n",
    "## item_id = datasourceId\n",
    "        .select(\"nr\", \"datasourceId\")\n",
    "        .groupBy(\"datasourceId\")\n",
    "        .agg(F.collect_set(\"nr\").alias(\"nrs\")))\n",
    "### Step 2. Cross join df_collect with itself to get all item-item combinations\n",
    "\n",
    "df_crossjoin = (df_collect\n",
    "                    .join(df_collect\n",
    "                            .withColumnRenamed(\"datasourceId\", \"datasourceId_y\")\n",
    "                            .withColumnRenamed(\"nrs\", \"nrs_y\")))\n",
    "### Step 2. Find user union and intersection and the count\n",
    "\n",
    "df_ui = (df_crossjoin\n",
    "                 .withColumn(\"nrs_union\", \n",
    "                         F.size((F.array_union(\"nrs\", \"nrs_y\"))))\n",
    "                 .withColumn(\"nrs_intersect\", \n",
    "                             F.size(F.array_intersect(\"nrs\", \"nrs_y\"))))\n",
    "    \n",
    "### Step 3. Pivot to get item-item matrix\n",
    "\n",
    "df_matrix_union = (df_ui\n",
    "                   .groupBy(\"datasourceId\")\n",
    "                   .pivot(\"datasourceId_y\")\n",
    "                   .agg(F.first(\"nrs_union\"))\n",
    "                   .orderBy(\"datasourceId\"))\n",
    "\n",
    "df_matrix_intrsct_alldispar = (df_ui\n",
    "                   .groupBy(\"datasourceId\")\n",
    "                   .pivot(\"datasourceId_y\")\n",
    "                   .agg(F.first(\"nrs_intersect\"))\n",
    "                   .orderBy(\"datasourceId\"))"
   ]
  },
  {
   "cell_type": "code",
   "execution_count": null,
   "metadata": {},
   "outputs": [],
   "source": []
  },
  {
   "cell_type": "code",
   "execution_count": 35,
   "metadata": {},
   "outputs": [],
   "source": [
    "### Matrix of ONLY <contradictions per datasource>> and intradatasource <<removing COHERENT and INTRAdatasource. \n",
    "\n",
    "allcontradict_WOcoherentWOintradata=(testeado\n",
    ".filter( \n",
    "    (F.col('coherency')=='dispar') & (F.col('filterOut')=='keep') \n",
    "    ## | (F.col('coherency')=='dispar') & (F.col('filterOut')=='keep')\n",
    "    ## | (F.col('coherency')=='coherent') & (F.col('filterOut')=='keep')\n",
    "    )\n",
    ".select('targetId','diseaseId')\n",
    ".withColumn('nr',monotonically_increasing_id())\n",
    ".join(tdds, (F.col('targetId')==tdds.targetIddd) & (F.col('diseaseId')==tdds.diseaseIdddd),'left')\n",
    ".select('targetId','diseaseId','nr','datasourceId'))\n",
    "\n",
    "\n",
    "#### make the pipeline \n",
    "\n",
    "\n",
    "\n",
    "df_collect = (allcontradict_WOcoherentWOintradata\n",
    "## user_id = nr\n",
    "## item_id = datasourceId\n",
    "        .select(\"nr\", \"datasourceId\")\n",
    "        .groupBy(\"datasourceId\")\n",
    "        .agg(F.collect_set(\"nr\").alias(\"nrs\")))\n",
    "### Step 2. Cross join df_collect with itself to get all item-item combinations\n",
    "\n",
    "df_crossjoin = (df_collect\n",
    "                    .join(df_collect\n",
    "                            .withColumnRenamed(\"datasourceId\", \"datasourceId_y\")\n",
    "                            .withColumnRenamed(\"nrs\", \"nrs_y\")))\n",
    "### Step 2. Find user union and intersection and the count\n",
    "\n",
    "df_ui = (df_crossjoin\n",
    "                 .withColumn(\"nrs_union\", \n",
    "                         F.size((F.array_union(\"nrs\", \"nrs_y\"))))\n",
    "                 .withColumn(\"nrs_intersect\", \n",
    "                             F.size(F.array_intersect(\"nrs\", \"nrs_y\"))))\n",
    "    \n",
    "### Step 3. Pivot to get item-item matrix\n",
    "\n",
    "df_matrix_union = (df_ui\n",
    "                   .groupBy(\"datasourceId\")\n",
    "                   .pivot(\"datasourceId_y\")\n",
    "                   .agg(F.first(\"nrs_union\"))\n",
    "                   .orderBy(\"datasourceId\"))\n",
    "\n",
    "df_matrix_intrsct_alldispar_WOintradata = (df_ui\n",
    "                   .groupBy(\"datasourceId\")\n",
    "                   .pivot(\"datasourceId_y\")\n",
    "                   .agg(F.first(\"nrs_intersect\"))\n",
    "                   .orderBy(\"datasourceId\"))"
   ]
  },
  {
   "cell_type": "code",
   "execution_count": 85,
   "metadata": {},
   "outputs": [],
   "source": [
    "df_matrix_intrsct_alldispar_WOintradata.toPandas().to_csv('onlyinterdatasource.csv')"
   ]
  },
  {
   "cell_type": "code",
   "execution_count": 37,
   "metadata": {},
   "outputs": [
    {
     "data": {
      "text/plain": [
       "21164"
      ]
     },
     "execution_count": 37,
     "metadata": {},
     "output_type": "execute_result"
    }
   ],
   "source": [
    "testeado.count()"
   ]
  },
  {
   "cell_type": "code",
   "execution_count": 38,
   "metadata": {},
   "outputs": [
    {
     "name": "stdout",
     "output_type": "stream",
     "text": [
      "+---------+---------------+\n",
      "|coherency|count(targetId)|\n",
      "+---------+---------------+\n",
      "|   dispar|          13571|\n",
      "| coherent|           7593|\n",
      "+---------+---------------+\n",
      "\n"
     ]
    }
   ],
   "source": [
    "testeado.groupBy('coherency').agg(F.count('targetId')).show()"
   ]
  },
  {
   "cell_type": "code",
   "execution_count": null,
   "metadata": {},
   "outputs": [
    {
     "name": "stderr",
     "output_type": "stream",
     "text": [
      "/opt/anaconda3/envs/python/lib/python3.10/site-packages/pandas/core/internals/blocks.py:2323: RuntimeWarning: invalid value encountered in cast\n",
      "  values = values.astype(str)\n"
     ]
    }
   ],
   "source": [
    "testeado.toPandas().to_csv('testeado.csv')"
   ]
  },
  {
   "cell_type": "code",
   "execution_count": 39,
   "metadata": {},
   "outputs": [
    {
     "name": "stdout",
     "output_type": "stream",
     "text": [
      "+---------+---------+---------------+\n",
      "|filterOut|coherency|count(targetId)|\n",
      "+---------+---------+---------------+\n",
      "|     keep|   dispar|           1509|\n",
      "|      out|   dispar|          12062|\n",
      "|     keep| coherent|           7593|\n",
      "+---------+---------+---------------+\n",
      "\n"
     ]
    }
   ],
   "source": [
    "testeado.groupBy('targetId','diseaseId','filterOut','coherency').agg(F.count('targetId')).groupBy('filterOut','coherency').agg(F.count('targetId')).show()"
   ]
  },
  {
   "cell_type": "code",
   "execution_count": null,
   "metadata": {
    "tags": [
     "not used"
    ]
   },
   "outputs": [],
   "source": [
    "### coincidences matrix for contradictions intra-datasources\n",
    "\n",
    "import numpy as np\n",
    "import pyspark.sql.functions as f\n",
    "\n",
    "\n",
    "cols =  [\n",
    " 'chembl',\n",
    " 'eva',\n",
    " 'gene_burden',\n",
    " 'ot_genetics_portal']\n",
    "intra = np.array([\n",
    "  [contrad_intra.agg(F.count(F.col(x) * F.col(y))).first()[0] if x != y else contrad_intra.agg(F.count(F.col(x))).first()[0] for y in cols] \n",
    "  for x in cols\n",
    "])\n",
    "intra_datasource_contrad = pd.DataFrame(intra, cols)\n",
    "intra_datasource_contrad.to_csv('intra_datasource.csv')\n",
    "\n",
    "terms=['noEvaluable','bivalent_risk']\n",
    "filtered=(prueba_assessment\n",
    ".filter(\n",
    "    (F.col('Assessment').isin(terms)==False)))\n",
    "df2=filtered.groupBy('targetId','diseaseId').pivot('datasourceId').agg(F.count('targetId').alias('count'))\n",
    "### este es el bueno!!!! \n",
    "import numpy as np\n",
    "import pyspark.sql.functions as f\n",
    "\n",
    "cols =  ['cancer_gene_census',\n",
    " 'chembl',\n",
    " 'eva',\n",
    " 'eva_somatic',\n",
    " 'gene2phenotype',\n",
    " 'gene_burden',\n",
    " 'impc',\n",
    " 'intogen',\n",
    " 'orphanet',\n",
    " 'ot_genetics_portal']\n",
    "res2 = np.array([\n",
    "  [df2.agg(f.count(f.col(x) * f.col(y))).first()[0] if x != y else df2.agg(f.count(f.col(x))).first()[0] for y in cols] \n",
    "  for x in cols\n",
    "])\n",
    "res2_ver = pd.DataFrame(res2, cols)\n",
    "res2_ver.head\n",
    "\n",
    "## convert from string to array\n",
    "convert=['chemblIds','targets']\n",
    "## transform from multiple string to one \n",
    "## transform=['adverse_effects_coloc_h4','outcome_trait']\n",
    "\n",
    "demon=(df2.select(\n",
    "    # Exploding p-value text:\n",
    "        *[F.explode_outer(col).alias(col) if col in convert else col for col in df2.columns]\n",
    "))\n"
   ]
  },
  {
   "cell_type": "code",
   "execution_count": null,
   "metadata": {},
   "outputs": [],
   "source": [
    "#### Question from David: Which is the percentage of LoF/GoF protection that already have ChEMBL evidence\n",
    "\n",
    "## "
   ]
  },
  {
   "cell_type": "code",
   "execution_count": 124,
   "metadata": {},
   "outputs": [],
   "source": [
    "terms2=['LoF_protect','GoF_protect']\n",
    "\n",
    "\n",
    "chembl=prueba_assessment.filter( (F.col('datasourceId')=='chembl') & (F.col('Assessment').isin(terms2)))\n",
    "rest=prueba_assessment.filter( (F.col('datasourceId')!='chembl') & (F.col('Assessment').isin(terms2)))\n",
    "##& (F.col('Assessment').rlike('protect'))) \n",
    "\n",
    "chembl2=chembl.groupBy('targetId','diseaseId').pivot('Assessment').agg(F.count('targetId')).select(F.col('targetId').alias('targetIdC'),F.col('diseaseId').alias('diseaseIdC'),F.col('GoF_protect').alias('gof_chembl'),F.col('LoF_protect').alias('lof_chembl'))\n",
    "rest2=rest.groupBy('targetId','diseaseId').pivot('Assessment').agg(F.count('targetId')).select(F.col('targetId').alias('targetIdR'),F.col('diseaseId').alias('diseaseIdR'),F.col('GoF_protect').alias('gof_rest'),F.col('LoF_protect').alias('lof_rest'))\n",
    "\n",
    "crossed=rest2.join(chembl2, (chembl2.targetIdC==F.col('targetIdR')) & (chembl2.diseaseIdC==F.col('diseaseIdR')),'left')"
   ]
  },
  {
   "cell_type": "code",
   "execution_count": 129,
   "metadata": {},
   "outputs": [
    {
     "data": {
      "text/plain": [
       "106"
      ]
     },
     "execution_count": 129,
     "metadata": {},
     "output_type": "execute_result"
    }
   ],
   "source": [
    "crossed.filter(F.col('targetIdC')!='null').count()"
   ]
  },
  {
   "cell_type": "code",
   "execution_count": 90,
   "metadata": {},
   "outputs": [],
   "source": [
    "restarget=rest.select('targetId')\n",
    "chembltarget=chembl.select('targetId')"
   ]
  },
  {
   "cell_type": "code",
   "execution_count": 44,
   "metadata": {},
   "outputs": [],
   "source": [
    "cross=rest_pairs.join(chembl_pairs, (chembl_pairs.targetIdC==F.col('targetIdR')) & (chembl_pairs.diseaseIdC ==F.col('diseaseIdR')), 'left')"
   ]
  },
  {
   "cell_type": "code",
   "execution_count": 45,
   "metadata": {},
   "outputs": [
    {
     "data": {
      "text/plain": [
       "64261"
      ]
     },
     "execution_count": 45,
     "metadata": {},
     "output_type": "execute_result"
    }
   ],
   "source": [
    "cross.groupBy('targetIdR','targetIdC','diseaseIdC','diseaseIdR').agg(F.count('targetIdC'),F.count('targetIdR')).count()"
   ]
  },
  {
   "cell_type": "code",
   "execution_count": 52,
   "metadata": {},
   "outputs": [],
   "source": [
    "terms=['noEvaluable','bivalent_risk','null','dispar']\n",
    "columns=[\n",
    " ##'GoF_risk',\n",
    " 'LoF_protect',\n",
    " ##'LoF_risk',\n",
    " 'GoF_protect']\n",
    "\n",
    "restPairs=(rest\n",
    ".filter( \n",
    "    ##(F.col('Assessment')).isin(terms)==False)\n",
    "    F.col('Assessment').isin(columns))\n",
    ".groupBy('targetId','diseaseId')\n",
    ".pivot('homogenized')\n",
    ".agg(F.count('targetId'))\n",
    ".withColumnRenamed('targetId','targetIdR').withColumnRenamed('diseaseId','diseaseIdR'))\n",
    "\n",
    "chemblPairs=(chembl\n",
    ".filter( \n",
    "    ##(F.col('Assessment')).isin(terms)==False)\n",
    "    F.col('Assessment').isin(columns))\n",
    ".groupBy('targetId','diseaseId')\n",
    ".pivot('homogenized')\n",
    ".agg(F.count('targetId'))\n",
    ".withColumnRenamed('targetId','targetIdC').withColumnRenamed('diseaseId','diseaseIdC'))\n"
   ]
  },
  {
   "cell_type": "code",
   "execution_count": 51,
   "metadata": {},
   "outputs": [
    {
     "data": {
      "text/plain": [
       "68915"
      ]
     },
     "execution_count": 51,
     "metadata": {},
     "output_type": "execute_result"
    }
   ],
   "source": [
    "chemblPairs.count()\n",
    "cross=restPairs.join(chemblPairs, (F.col('targetIdR')==chemblPairs.targetIdC) & (F.col('diseaseIdR')==chemblPairs.diseaseIdC),'left')\n",
    "\n",
    "cross2=(cross\n",
    ".groupBy('targetIdR','diseaseIdR')\n",
    ".agg(F.count('targetIdR').alias('targetIdRs'),F.count('targetIdC').alias('targetIdCs'))\n",
    ".withColumn('coincidences',\n",
    "    F.when(F.col('targetIdCs')==0, F.lit('No'))\n",
    "    .when(F.col('targetIdCs')==1,F.lit('Yes'))\n",
    ")\n",
    ".filter(F.col('coincidences')=='Yes')\n",
    ".select(F.col('targetIdR').alias('targetIdRc'),F.col('diseaseIdR').alias('diseaseIdRc'))\n",
    ")\n",
    "\n",
    "cross3=(cross2\n",
    ".join(chemblPairs, (chemblPairs.targetIdC==F.col('targetIdRc')) & (chemblPairs.diseaseIdC==F.col('diseaseIdRc')),'left')\n",
    ".withColumnRenamed('GoF_protect','GoF_protect_chembl')\n",
    ".withColumnRenamed('LoF_protect','LoF_protect_chembl')\n",
    ".join(restPairs, (restPairs.targetIdR==F.col('targetIdRc')) & (restPairs.diseaseIdR==F.col('diseaseIdRc')), 'left')\n",
    ".withColumnRenamed('GoF_protect','GoF_protect_rest')\n",
    ".withColumnRenamed('LoF_protect','LoF_protect_rest')\n",
    ")\n",
    "cross4=cross3.withColumn('assessed_',\n",
    "F.when(\n",
    "        (F.col('GoF_protect_chembl').isNull()) &\n",
    "        (F.col('GoF_protect_rest').isNull()), F.lit('sameDirec'))\n",
    ".when(\n",
    "        (F.col('LoF_protect_chembl').isNull()) &\n",
    "        (F.col('LoF_protect_rest').isNull()), F.lit('sameDirec'))\n",
    ".otherwise(F.lit('difDirec'))\n",
    ")"
   ]
  },
  {
   "cell_type": "code",
   "execution_count": 89,
   "metadata": {},
   "outputs": [
    {
     "name": "stdout",
     "output_type": "stream",
     "text": [
      "+---------+----------------+\n",
      "|assessed_|count(assessed_)|\n",
      "+---------+----------------+\n",
      "| difDirec|              39|\n",
      "|sameDirec|              67|\n",
      "+---------+----------------+\n",
      "\n"
     ]
    }
   ],
   "source": [
    "cross4.groupBy('assessed_').agg(F.count('assessed_')).show()"
   ]
  },
  {
   "cell_type": "code",
   "execution_count": 109,
   "metadata": {},
   "outputs": [
    {
     "name": "stdout",
     "output_type": "stream",
     "text": [
      "+-----------+------------------+\n",
      "|coincidence|count(coincidence)|\n",
      "+-----------+------------------+\n",
      "|         No|             17598|\n",
      "|        yes|              1438|\n",
      "+-----------+------------------+\n",
      "\n"
     ]
    }
   ],
   "source": [
    "restarget=rest.select('targetId')\n",
    "chembltarget=chembl.select('targetId').withColumnRenamed('targetId','targetIdCtest')\n",
    "\n",
    "check_targets=restarget.join(chembltarget,chembltarget.targetIdCtest==F.col('targetId'),'left').dropDuplicates()\n",
    "check_targets.withColumn('coincidence', F.when(F.col('targetIdCtest') == F.col('targetId'), F.lit('yes')).otherwise(F.lit('No'))).groupBy('coincidence').agg(F.count('coincidence')).show()"
   ]
  },
  {
   "cell_type": "code",
   "execution_count": 108,
   "metadata": {},
   "outputs": [
    {
     "name": "stdout",
     "output_type": "stream",
     "text": [
      "+-----------+------------------+\n",
      "|coincidence|count(coincidence)|\n",
      "+-----------+------------------+\n",
      "|         No|             10565|\n",
      "|        yes|              1829|\n",
      "+-----------+------------------+\n",
      "\n"
     ]
    }
   ],
   "source": [
    "restrait=rest.select('diseaseId')\n",
    "chembltrait=chembl.select('diseaseId').withColumnRenamed('diseaseId','diseaseIdCtest')\n",
    "\n",
    "check_traits=restrait.join(chembltrait,chembltrait.diseaseIdCtest==F.col('diseaseId'), 'left').dropDuplicates()\n",
    "\n",
    "(check_traits\n",
    ".withColumn('coincidence', \n",
    "    F.when(F.col('diseaseIdCtest') == F.col('diseaseId'), F.lit('yes'))\n",
    "    .otherwise(F.lit('No')))\n",
    ".groupBy('coincidence')\n",
    ".agg(F.count('coincidence'))).show()"
   ]
  },
  {
   "cell_type": "code",
   "execution_count": 112,
   "metadata": {},
   "outputs": [
    {
     "name": "stdout",
     "output_type": "stream",
     "text": [
      "+-----------+------------------+\n",
      "|coincidence|count(coincidence)|\n",
      "+-----------+------------------+\n",
      "|         No|             10831|\n",
      "|        yes|               928|\n",
      "+-----------+------------------+\n",
      "\n"
     ]
    }
   ],
   "source": [
    "### filter by the ones having assessments: \n",
    "terms=['noEvaluable','bivalent_risk','null','dispar']\n",
    "terms2=['LoF_protect','GoF_protect']\n",
    "restarget_filt=rest.filter(F.col('Assessment').isin(terms2)).select('targetId')\n",
    "chembltarget_filt=chembl.filter(F.col('Assessment').isin(terms2)).select('targetId').withColumnRenamed('targetId','targetIdCtest')\n",
    "\n",
    "check_targets_filt=restarget_filt.join(chembltarget_filt,chembltarget_filt.targetIdCtest==F.col('targetId'),'left').dropDuplicates()\n",
    "check_targets_filt.withColumn('coincidence', F.when(F.col('targetIdCtest') == F.col('targetId'), F.lit('yes')).otherwise(F.lit('No'))).groupBy('coincidence').agg(F.count('coincidence')).show()"
   ]
  },
  {
   "cell_type": "code",
   "execution_count": 114,
   "metadata": {},
   "outputs": [
    {
     "name": "stdout",
     "output_type": "stream",
     "text": [
      "+-----------+------------------+\n",
      "|coincidence|count(coincidence)|\n",
      "+-----------+------------------+\n",
      "|         No|               551|\n",
      "|        yes|               314|\n",
      "+-----------+------------------+\n",
      "\n"
     ]
    }
   ],
   "source": [
    "### filter by the ones having assessments: \n",
    "terms=['noEvaluable','bivalent_risk','null','dispar']\n",
    "terms2=['LoF_protect','GoF_protect']\n",
    "restrait_filt=rest.filter(F.col('Assessment').isin(terms2)).select('diseaseId')\n",
    "chembltrait_filt=chembl.filter(F.col('Assessment').isin(terms2)).select('diseaseId').withColumnRenamed('diseaseId','diseaseIdCtest')\n",
    "\n",
    "check_traits_filt=restrait_filt.join(chembltrait_filt,chembltrait_filt.diseaseIdCtest==F.col('diseaseId'), 'left').dropDuplicates()\n",
    "\n",
    "(check_traits_filt\n",
    ".withColumn('coincidence', \n",
    "    F.when(F.col('diseaseIdCtest') == F.col('diseaseId'), F.lit('yes'))\n",
    "    .otherwise(F.lit('No')))\n",
    ".groupBy('coincidence')\n",
    ".agg(F.count('coincidence'))).show()"
   ]
  },
  {
   "cell_type": "code",
   "execution_count": 137,
   "metadata": {},
   "outputs": [
    {
     "name": "stdout",
     "output_type": "stream",
     "text": [
      "+---------------+-------------+------+----+-----------+------------------+\n",
      "|       targetId|    diseaseId|chembl| eva|gene_burden|ot_genetics_portal|\n",
      "+---------------+-------------+------+----+-----------+------------------+\n",
      "|ENSG00000100347|  EFO_0004530|  null|null|       null|                 2|\n",
      "|ENSG00000183549|  EFO_0004995|  null|null|       null|                 6|\n",
      "|ENSG00000122545|  EFO_0007989|  null|null|       null|                 1|\n",
      "|ENSG00000205423|  EFO_0005409|  null|null|       null|                 1|\n",
      "|ENSG00000165355|  EFO_0004309|  null|null|       null|                 2|\n",
      "|ENSG00000178209|  EFO_0004995|  null|null|       null|                 4|\n",
      "|ENSG00000139641|  EFO_0004338|  null|null|       null|                 2|\n",
      "|ENSG00000121210|  EFO_0004584|  null|null|       null|                 3|\n",
      "|ENSG00000110243|  EFO_0020064|  null|null|       null|                 1|\n",
      "|ENSG00000138246|  EFO_0004528|  null|null|       null|                 4|\n",
      "|ENSG00000143630|  EFO_0000384|  null|null|       null|                 1|\n",
      "|ENSG00000095209|  EFO_0009749|  null|null|       null|                 2|\n",
      "|ENSG00000173889|  EFO_0004842|  null|null|       null|                 1|\n",
      "|ENSG00000225968|MONDO_0002025|  null|null|       null|                 1|\n",
      "|ENSG00000166923|  EFO_0004526|  null|null|       null|                 1|\n",
      "|ENSG00000242366|  EFO_0004570|  null|null|       null|                 4|\n",
      "|ENSG00000154678|  EFO_0004995|  null|null|       null|                 4|\n",
      "|ENSG00000112414|  EFO_0007777|  null|null|       null|                 2|\n",
      "|ENSG00000078399|  EFO_0005091|  null|null|       null|                 4|\n",
      "|ENSG00000159110|  EFO_0004842|  null|null|       null|                 3|\n",
      "+---------------+-------------+------+----+-----------+------------------+\n",
      "only showing top 20 rows\n",
      "\n"
     ]
    }
   ],
   "source": [
    "testing=prueba_assessment.filter(F.col('Assessment').isin(terms2)).groupBy('targetId','diseaseId').pivot('datasourceId').agg(F.count('targetId'))\n",
    "testing.show()"
   ]
  },
  {
   "cell_type": "code",
   "execution_count": 143,
   "metadata": {},
   "outputs": [
    {
     "data": {
      "text/plain": [
       "106"
      ]
     },
     "execution_count": 143,
     "metadata": {},
     "output_type": "execute_result"
    }
   ],
   "source": [
    "testing.filter( \n",
    "    (F.col('chembl').isNotNull()) &\n",
    "    ((F.col('eva').isNotNull()) | (F.col('gene_burden').isNotNull()) | (F.col('ot_genetics_portal').isNotNull()))).count()"
   ]
  },
  {
   "cell_type": "code",
   "execution_count": null,
   "metadata": {},
   "outputs": [],
   "source": [
    "\n",
    "coherency_assessed=(coherency_toAssess\n",
    ".select(\n",
    "    F.col('targetId').alias('targetId3'),\n",
    "    F.col('datasourceId').alias('datasourceId3'),\n",
    "    F.col('diseaseId').alias('diseaseId3'),\n",
    "    *(F.col(c).cast(\"int\").alias(c) for c in columns))\n",
    "\n",
    ".withColumn('coherency',\n",
    "    F.when(\n",
    "        (\n",
    "        (F.col('GoF_risk').isNotNull()) &\n",
    "        (F.col('LoF_risk').isNotNull())\n",
    "        ),\n",
    "            F.when(\n",
    "                (F.col('GoF_risk'))-(F.col('LoF_risk'))!=(F.col('GoF_risk'))\n",
    "                ,F.lit('dispar'))\n",
    "        )\n",
    "    .when(\n",
    "        (\n",
    "        (F.col('LoF_protect').isNotNull()) &\n",
    "        (F.col('LoF_risk').isNotNull())\n",
    "        ),\n",
    "            F.when(\n",
    "                (F.col('LoF_protect'))-(F.col('LoF_risk'))!=(F.col('LoF_protect'))\n",
    "                ,F.lit('dispar'))\n",
    "        )   \n",
    "    .when(\n",
    "        (\n",
    "        (F.col('GoF_protect').isNotNull()) &\n",
    "        (F.col('GoF_risk').isNotNull())\n",
    "        ),\n",
    "            F.when(\n",
    "                (F.col('GoF_protect'))-(F.col('GoF_risk'))!=(F.col('GoF_protect'))\n",
    "                ,F.lit('dispar'))\n",
    "        )   \n",
    "    .when(\n",
    "        (\n",
    "        (F.col('GoF_protect').isNotNull()) &\n",
    "        (F.col('LoF_protect').isNotNull())\n",
    "        ),\n",
    "            F.when(\n",
    "                (F.col('GoF_protect'))-(F.col('LoF_protect'))!=(F.col('GoF_protect'))\n",
    "                ,F.lit('dispar'))\n",
    "        )      \n",
    "        \n",
    "        ))"
   ]
  },
  {
   "cell_type": "code",
   "execution_count": null,
   "metadata": {},
   "outputs": [],
   "source": [
    "### Incluir los datos de diseaseFromSource en el analisis de las contradicciones \n",
    "### \n",
    "### \n",
    "### "
   ]
  },
  {
   "cell_type": "code",
   "execution_count": 40,
   "metadata": {},
   "outputs": [],
   "source": [
    "### make percentage of diseases\n",
    "uno=(coherencyInter_assessed_wOut\n",
    ".groupBy('diseaseId')\n",
    ".pivot('coherency')\n",
    ".agg(F.count('targetId'))\n",
    "\n",
    ".withColumn('percentageTrue',\n",
    "    F.lit(F.col('take')/762208*100))\n",
    ".withColumn('percentageContradic',\n",
    "    F.lit(F.col('dispar')/13584*100))\n",
    ".withColumn('suspicious',\n",
    "    F.when(F.col('percentageContradic')>F.col('percentageTrue'),F.lit('suspicious'))\n",
    "    .when(F.col('percentageContradic')<=F.col('percentageTrue'),F.lit('nonSuspicious')))\n",
    ".withColumn('foldChange',\n",
    "    F.when(F.col('suspicious')=='suspicious', F.lit(F.col('percentageContradic')/F.col('percentageTrue')))\n",
    "))\n",
    "###.toPandas().to_csv('percentages.csv')\n"
   ]
  },
  {
   "cell_type": "code",
   "execution_count": 61,
   "metadata": {},
   "outputs": [
    {
     "ename": "AnalysisException",
     "evalue": "Column 'diseaseFromSource' does not exist. Did you mean one of the following? [diseaseId, filterOut, GoF_protect, LoF_protect, coherency, name, targetId, GoF_risk, LoF_risk, id];\n'Project [targetId#72 AS targetId#2154227, diseaseId#148 AS diseaseId#2154228, 'diseaseFromSource AS diseaseFromSource#2154229, filterOut#2154175 AS filterOut#2154230, coherency#2154196 AS coherency#2154231, id#2367 AS id#2154232, name#2371 AS name#2154233, struct(GoF_risk, GoF_risk#2154185, LoF_protect, LoF_protect#2154186, LoF_risk, LoF_risk#2154187, GoF_protect, GoF_protect#2154188) AS values#2154234]\n+- Join LeftOuter, (id#2367 = diseaseId#148)\n   :- Project [targetId#72, diseaseId#148, filterOut#2154175, GoF_risk#2154185, LoF_protect#2154186, LoF_risk#2154187, GoF_protect#2154188, CASE WHEN (isnotnull(GoF_risk#2154185) AND isnotnull(LoF_risk#2154187)) THEN CASE WHEN NOT ((GoF_risk#2154185 - LoF_risk#2154187) = GoF_risk#2154185) THEN dispar END WHEN (isnotnull(LoF_protect#2154186) AND isnotnull(LoF_risk#2154187)) THEN CASE WHEN NOT ((LoF_protect#2154186 - LoF_risk#2154187) = LoF_protect#2154186) THEN dispar END WHEN (isnotnull(GoF_protect#2154188) AND isnotnull(GoF_risk#2154185)) THEN CASE WHEN NOT ((GoF_protect#2154188 - GoF_risk#2154185) = GoF_protect#2154188) THEN dispar END WHEN (isnotnull(GoF_protect#2154188) AND isnotnull(LoF_protect#2154186)) THEN CASE WHEN NOT ((GoF_protect#2154188 - LoF_protect#2154186) = GoF_protect#2154188) THEN dispar END WHEN (isnotnull(GoF_protect#2154188) AND isnotnull(LoF_risk#2154187)) THEN CASE WHEN NOT ((GoF_protect#2154188 - LoF_risk#2154187) = GoF_protect#2154188) THEN coherent END WHEN (isnotnull(LoF_protect#2154186) AND isnotnull(GoF_risk#2154185)) THEN CASE WHEN NOT ((LoF_protect#2154186 - GoF_risk#2154185) = LoF_protect#2154186) THEN coherent END ELSE take END AS coherency#2154196]\n   :  +- Project [targetId#72, diseaseId#148, filterOut#2154175, cast(GoF_risk#2153286L as int) AS GoF_risk#2154185, cast(LoF_protect#2153287L as int) AS LoF_protect#2154186, cast(LoF_risk#2153288L as int) AS LoF_risk#2154187, cast(GoF_protect#2153285L as int) AS GoF_protect#2154188]\n   :     +- Project [targetId#72, diseaseId#148, GoF_protect#2153285L, GoF_risk#2153286L, LoF_protect#2153287L, LoF_risk#2153288L, targetId3#361219, diseaseId3#361221, CASE WHEN (filterOut#515263 = out) THEN filterOut#515263 ELSE keep END AS filterOut#2154175]\n   :        +- Join LeftOuter, ((targetId#72 = targetId3#361219) AND (diseaseId#148 = diseaseId3#361221))\n   :           :- Project [targetId#72, diseaseId#148, __pivot_count(targetId) AS `count(targetId)`#2153284[0] AS GoF_protect#2153285L, __pivot_count(targetId) AS `count(targetId)`#2153284[1] AS GoF_risk#2153286L, __pivot_count(targetId) AS `count(targetId)`#2153284[2] AS LoF_protect#2153287L, __pivot_count(targetId) AS `count(targetId)`#2153284[3] AS LoF_risk#2153288L]\n   :           :  +- Aggregate [targetId#72, diseaseId#148], [targetId#72, diseaseId#148, pivotfirst(homogenized#5572, count(targetId)#2153274L, GoF_protect, GoF_risk, LoF_protect, LoF_risk, 0, 0) AS __pivot_count(targetId) AS `count(targetId)`#2153284]\n   :           :     +- Aggregate [targetId#72, diseaseId#148, homogenized#5572], [targetId#72, diseaseId#148, homogenized#5572, count(targetId#72) AS count(targetId)#2153274L]\n   :           :        +- Filter (Assessment#5471 IN (noEvaluable,bivalent_risk,null,dispar) = false)\n   :           :           +- Project [datasourceId#71, targetId#72, alleleOrigins#73, allelicRequirements#74, ancestry#75, ancestryId#76, beta#4424, betaConfidenceIntervalLower#78, betaConfidenceIntervalUpper#79, biologicalModelAllelicComposition#80, biologicalModelGeneticBackground#81, biologicalModelId#82, biomarkerName#83, biomarkers#84, biosamplesFromSource#85, clinicalPhase#86L, clinicalSignificances#4586, clinicalStatus#88, cohortDescription#89, cohortId#90, cohortPhenotypes#91, cohortShortName#92, confidence#93, contrast#94, ... 76 more fields]\n   :           :              +- Project [datasourceId#71, targetId#72, alleleOrigins#73, allelicRequirements#74, ancestry#75, ancestryId#76, beta#4424, betaConfidenceIntervalLower#78, betaConfidenceIntervalUpper#79, biologicalModelAllelicComposition#80, biologicalModelGeneticBackground#81, biologicalModelId#82, biomarkerName#83, biomarkers#84, biosamplesFromSource#85, clinicalPhase#86L, clinicalSignificances#4586, clinicalStatus#88, cohortDescription#89, cohortId#90, cohortPhenotypes#91, cohortShortName#92, confidence#93, contrast#94, ... 75 more fields]\n   :           :                 +- Project [datasourceId#71, targetId#72, alleleOrigins#73, allelicRequirements#74, ancestry#75, ancestryId#76, beta#4424, betaConfidenceIntervalLower#78, betaConfidenceIntervalUpper#79, biologicalModelAllelicComposition#80, biologicalModelGeneticBackground#81, biologicalModelId#82, biomarkerName#83, biomarkers#84, biosamplesFromSource#85, clinicalPhase#86L, clinicalSignificances#4586, clinicalStatus#88, cohortDescription#89, cohortId#90, cohortPhenotypes#91, cohortShortName#92, confidence#93, contrast#94, ... 74 more fields]\n   :           :                    +- Project [datasourceId#71, targetId#72, alleleOrigins#73, allelicRequirements#74, ancestry#75, ancestryId#76, beta#4424, betaConfidenceIntervalLower#78, betaConfidenceIntervalUpper#79, biologicalModelAllelicComposition#80, biologicalModelGeneticBackground#81, biologicalModelId#82, biomarkerName#83, biomarkers#84, biosamplesFromSource#85, clinicalPhase#86L, clinicalSignificances#4586, clinicalStatus#88, cohortDescription#89, cohortId#90, cohortPhenotypes#91, cohortShortName#92, confidence#93, contrast#94, ... 73 more fields]\n   :           :                       +- Join LeftOuter, ((drugId2#2720 = drugId#103) AND (targetId2#2726 = targetId#72))\n   :           :                          :- Join LeftOuter, (stMethod#2447 = statisticalMethodOverview#125)\n   :           :                          :  :- Join LeftOuter, (target_id#2708 = targetId#72)\n   :           :                          :  :  :- Project [datasourceId#71, targetId#72, alleleOrigins#73, allelicRequirements#74, ancestry#75, ancestryId#76, beta#4424, betaConfidenceIntervalLower#78, betaConfidenceIntervalUpper#79, biologicalModelAllelicComposition#80, biologicalModelGeneticBackground#81, biologicalModelId#82, biomarkerName#83, biomarkers#84, biosamplesFromSource#85, clinicalPhase#86L, clinicalSignificances#4586, clinicalStatus#88, cohortDescription#89, cohortId#90, cohortPhenotypes#91, cohortShortName#92, confidence#93, contrast#94, ... 59 more fields]\n   :           :                          :  :  :  +- Project [datasourceId#71, targetId#72, alleleOrigins#73, allelicRequirements#74, ancestry#75, ancestryId#76, beta#4424, betaConfidenceIntervalLower#78, betaConfidenceIntervalUpper#79, biologicalModelAllelicComposition#80, biologicalModelGeneticBackground#81, biologicalModelId#82, biomarkerName#83, biomarkers#84, biosamplesFromSource#85, clinicalPhase#86L, clinicalSignificances#4586, clinicalStatus#88, cohortDescription#89, cohortId#90, cohortPhenotypes#91, cohortShortName#92, confidence#93, contrast#94, ... 58 more fields]\n   :           :                          :  :  :     +- Project [datasourceId#71, targetId#72, alleleOrigins#73, allelicRequirements#74, ancestry#75, ancestryId#76, beta#4424, betaConfidenceIntervalLower#78, betaConfidenceIntervalUpper#79, biologicalModelAllelicComposition#80, biologicalModelGeneticBackground#81, biologicalModelId#82, biomarkerName#83, biomarkers#84, biosamplesFromSource#85, clinicalPhase#86L, clinicalSignificances#4586, clinicalStatus#88, cohortDescription#89, cohortId#90, cohortPhenotypes#91, cohortShortName#92, confidence#93, contrast#94, ... 57 more fields]\n   :           :                          :  :  :        +- Generate explode(mutatedSamples#108), true, [exploded#4668]\n   :           :                          :  :  :           +- Project [datasourceId#71, targetId#72, alleleOrigins#73, allelicRequirements#74, ancestry#75, ancestryId#76, beta#4424, betaConfidenceIntervalLower#78, betaConfidenceIntervalUpper#79, biologicalModelAllelicComposition#80, biologicalModelGeneticBackground#81, biologicalModelId#82, biomarkerName#83, biomarkers#84, biosamplesFromSource#85, clinicalPhase#86L, concat_ws(,, clinicalSignificances#87) AS clinicalSignificances#4586, clinicalStatus#88, cohortDescription#89, cohortId#90, cohortPhenotypes#91, cohortShortName#92, confidence#93, contrast#94, ... 56 more fields]\n   :           :                          :  :  :              +- Project [datasourceId#71, targetId#72, alleleOrigins#73, allelicRequirements#74, ancestry#75, ancestryId#76, beta#4424, betaConfidenceIntervalLower#78, betaConfidenceIntervalUpper#79, biologicalModelAllelicComposition#80, biologicalModelGeneticBackground#81, biologicalModelId#82, biomarkerName#83, biomarkers#84, biosamplesFromSource#85, clinicalPhase#86L, clinicalSignificances#87, clinicalStatus#88, cohortDescription#89, cohortId#90, cohortPhenotypes#91, cohortShortName#92, confidence#93, contrast#94, ... 56 more fields]\n   :           :                          :  :  :                 +- Project [datasourceId#71, targetId#72, alleleOrigins#73, allelicRequirements#74, ancestry#75, ancestryId#76, cast(beta#77 as float) AS beta#4424, betaConfidenceIntervalLower#78, betaConfidenceIntervalUpper#79, biologicalModelAllelicComposition#80, biologicalModelGeneticBackground#81, biologicalModelId#82, biomarkerName#83, biomarkers#84, biosamplesFromSource#85, clinicalPhase#86L, clinicalSignificances#87, clinicalStatus#88, cohortDescription#89, cohortId#90, cohortPhenotypes#91, cohortShortName#92, confidence#93, contrast#94, ... 56 more fields]\n   :           :                          :  :  :                    +- Union false, false\n   :           :                          :  :  :                       :- Relation [datasourceId#71,targetId#72,alleleOrigins#73,allelicRequirements#74,ancestry#75,ancestryId#76,beta#77,betaConfidenceIntervalLower#78,betaConfidenceIntervalUpper#79,biologicalModelAllelicComposition#80,biologicalModelGeneticBackground#81,biologicalModelId#82,biomarkerName#83,biomarkers#84,biosamplesFromSource#85,clinicalPhase#86L,clinicalSignificances#87,clinicalStatus#88,cohortDescription#89,cohortId#90,cohortPhenotypes#91,cohortShortName#92,confidence#93,contrast#94,... 56 more fields] parquet\n   :           :                          :  :  :                       :- Project [datasourceId#231, targetId#232, alleleOrigins#233, allelicRequirements#234, ancestry#235, ancestryId#236, beta#237, betaConfidenceIntervalLower#238, betaConfidenceIntervalUpper#239, biologicalModelAllelicComposition#240, biologicalModelGeneticBackground#241, biologicalModelId#242, biomarkerName#243, biomarkers#244, biosamplesFromSource#245, clinicalPhase#246L, clinicalSignificances#247, clinicalStatus#248, cohortDescription#249, cohortId#250, cohortPhenotypes#251, cohortShortName#252, confidence#253, contrast#254, ... 56 more fields]\n   :           :                          :  :  :                       :  +- Relation [datasourceId#231,targetId#232,alleleOrigins#233,allelicRequirements#234,ancestry#235,ancestryId#236,beta#237,betaConfidenceIntervalLower#238,betaConfidenceIntervalUpper#239,biologicalModelAllelicComposition#240,biologicalModelGeneticBackground#241,biologicalModelId#242,biomarkerName#243,biomarkers#244,biosamplesFromSource#245,clinicalPhase#246L,clinicalSignificances#247,clinicalStatus#248,cohortDescription#249,cohortId#250,cohortPhenotypes#251,cohortShortName#252,confidence#253,contrast#254,... 56 more fields] parquet\n   :           :                          :  :  :                       :- Project [datasourceId#391, targetId#392, alleleOrigins#393, allelicRequirements#394, ancestry#395, ancestryId#396, beta#397, betaConfidenceIntervalLower#398, betaConfidenceIntervalUpper#399, biologicalModelAllelicComposition#400, biologicalModelGeneticBackground#401, biologicalModelId#402, biomarkerName#403, biomarkers#404, biosamplesFromSource#405, clinicalPhase#406L, clinicalSignificances#407, clinicalStatus#408, cohortDescription#409, cohortId#410, cohortPhenotypes#411, cohortShortName#412, confidence#413, contrast#414, ... 56 more fields]\n   :           :                          :  :  :                       :  +- Relation [datasourceId#391,targetId#392,alleleOrigins#393,allelicRequirements#394,ancestry#395,ancestryId#396,beta#397,betaConfidenceIntervalLower#398,betaConfidenceIntervalUpper#399,biologicalModelAllelicComposition#400,biologicalModelGeneticBackground#401,biologicalModelId#402,biomarkerName#403,biomarkers#404,biosamplesFromSource#405,clinicalPhase#406L,clinicalSignificances#407,clinicalStatus#408,cohortDescription#409,cohortId#410,cohortPhenotypes#411,cohortShortName#412,confidence#413,contrast#414,... 56 more fields] parquet\n   :           :                          :  :  :                       :- Project [datasourceId#551, targetId#552, alleleOrigins#553, allelicRequirements#554, ancestry#555, ancestryId#556, beta#557, betaConfidenceIntervalLower#558, betaConfidenceIntervalUpper#559, biologicalModelAllelicComposition#560, biologicalModelGeneticBackground#561, biologicalModelId#562, biomarkerName#563, biomarkers#564, biosamplesFromSource#565, clinicalPhase#566L, clinicalSignificances#567, clinicalStatus#568, cohortDescription#569, cohortId#570, cohortPhenotypes#571, cohortShortName#572, confidence#573, contrast#574, ... 56 more fields]\n   :           :                          :  :  :                       :  +- Relation [datasourceId#551,targetId#552,alleleOrigins#553,allelicRequirements#554,ancestry#555,ancestryId#556,beta#557,betaConfidenceIntervalLower#558,betaConfidenceIntervalUpper#559,biologicalModelAllelicComposition#560,biologicalModelGeneticBackground#561,biologicalModelId#562,biomarkerName#563,biomarkers#564,biosamplesFromSource#565,clinicalPhase#566L,clinicalSignificances#567,clinicalStatus#568,cohortDescription#569,cohortId#570,cohortPhenotypes#571,cohortShortName#572,confidence#573,contrast#574,... 56 more fields] parquet\n   :           :                          :  :  :                       :- Project [datasourceId#871, targetId#872, alleleOrigins#873, allelicRequirements#874, ancestry#875, ancestryId#876, beta#877, betaConfidenceIntervalLower#878, betaConfidenceIntervalUpper#879, biologicalModelAllelicComposition#880, biologicalModelGeneticBackground#881, biologicalModelId#882, biomarkerName#883, biomarkers#884, biosamplesFromSource#885, clinicalPhase#886L, clinicalSignificances#887, clinicalStatus#888, cohortDescription#889, cohortId#890, cohortPhenotypes#891, cohortShortName#892, confidence#893, contrast#894, ... 56 more fields]\n   :           :                          :  :  :                       :  +- Relation [datasourceId#871,targetId#872,alleleOrigins#873,allelicRequirements#874,ancestry#875,ancestryId#876,beta#877,betaConfidenceIntervalLower#878,betaConfidenceIntervalUpper#879,biologicalModelAllelicComposition#880,biologicalModelGeneticBackground#881,biologicalModelId#882,biomarkerName#883,biomarkers#884,biosamplesFromSource#885,clinicalPhase#886L,clinicalSignificances#887,clinicalStatus#888,cohortDescription#889,cohortId#890,cohortPhenotypes#891,cohortShortName#892,confidence#893,contrast#894,... 56 more fields] parquet\n   :           :                          :  :  :                       :- Project [datasourceId#1351, targetId#1352, alleleOrigins#1353, allelicRequirements#1354, ancestry#1355, ancestryId#1356, beta#1357, betaConfidenceIntervalLower#1358, betaConfidenceIntervalUpper#1359, biologicalModelAllelicComposition#1360, biologicalModelGeneticBackground#1361, biologicalModelId#1362, biomarkerName#1363, biomarkers#1364, biosamplesFromSource#1365, clinicalPhase#1366L, clinicalSignificances#1367, clinicalStatus#1368, cohortDescription#1369, cohortId#1370, cohortPhenotypes#1371, cohortShortName#1372, confidence#1373, contrast#1374, ... 56 more fields]\n   :           :                          :  :  :                       :  +- Relation [datasourceId#1351,targetId#1352,alleleOrigins#1353,allelicRequirements#1354,ancestry#1355,ancestryId#1356,beta#1357,betaConfidenceIntervalLower#1358,betaConfidenceIntervalUpper#1359,biologicalModelAllelicComposition#1360,biologicalModelGeneticBackground#1361,biologicalModelId#1362,biomarkerName#1363,biomarkers#1364,biosamplesFromSource#1365,clinicalPhase#1366L,clinicalSignificances#1367,clinicalStatus#1368,cohortDescription#1369,cohortId#1370,cohortPhenotypes#1371,cohortShortName#1372,confidence#1373,contrast#1374,... 56 more fields] parquet\n   :           :                          :  :  :                       :- Project [datasourceId#1671, targetId#1672, alleleOrigins#1673, allelicRequirements#1674, ancestry#1675, ancestryId#1676, beta#1677, betaConfidenceIntervalLower#1678, betaConfidenceIntervalUpper#1679, biologicalModelAllelicComposition#1680, biologicalModelGeneticBackground#1681, biologicalModelId#1682, biomarkerName#1683, biomarkers#1684, biosamplesFromSource#1685, clinicalPhase#1686L, clinicalSignificances#1687, clinicalStatus#1688, cohortDescription#1689, cohortId#1690, cohortPhenotypes#1691, cohortShortName#1692, confidence#1693, contrast#1694, ... 56 more fields]\n   :           :                          :  :  :                       :  +- Relation [datasourceId#1671,targetId#1672,alleleOrigins#1673,allelicRequirements#1674,ancestry#1675,ancestryId#1676,beta#1677,betaConfidenceIntervalLower#1678,betaConfidenceIntervalUpper#1679,biologicalModelAllelicComposition#1680,biologicalModelGeneticBackground#1681,biologicalModelId#1682,biomarkerName#1683,biomarkers#1684,biosamplesFromSource#1685,clinicalPhase#1686L,clinicalSignificances#1687,clinicalStatus#1688,cohortDescription#1689,cohortId#1690,cohortPhenotypes#1691,cohortShortName#1692,confidence#1693,contrast#1694,... 56 more fields] parquet\n   :           :                          :  :  :                       :- Project [datasourceId#1831, targetId#1832, alleleOrigins#1833, allelicRequirements#1834, ancestry#1835, ancestryId#1836, beta#1837, betaConfidenceIntervalLower#1838, betaConfidenceIntervalUpper#1839, biologicalModelAllelicComposition#1840, biologicalModelGeneticBackground#1841, biologicalModelId#1842, biomarkerName#1843, biomarkers#1844, biosamplesFromSource#1845, clinicalPhase#1846L, clinicalSignificances#1847, clinicalStatus#1848, cohortDescription#1849, cohortId#1850, cohortPhenotypes#1851, cohortShortName#1852, confidence#1853, contrast#1854, ... 56 more fields]\n   :           :                          :  :  :                       :  +- Relation [datasourceId#1831,targetId#1832,alleleOrigins#1833,allelicRequirements#1834,ancestry#1835,ancestryId#1836,beta#1837,betaConfidenceIntervalLower#1838,betaConfidenceIntervalUpper#1839,biologicalModelAllelicComposition#1840,biologicalModelGeneticBackground#1841,biologicalModelId#1842,biomarkerName#1843,biomarkers#1844,biosamplesFromSource#1845,clinicalPhase#1846L,clinicalSignificances#1847,clinicalStatus#1848,cohortDescription#1849,cohortId#1850,cohortPhenotypes#1851,cohortShortName#1852,confidence#1853,contrast#1854,... 56 more fields] parquet\n   :           :                          :  :  :                       :- Project [datasourceId#1991, targetId#1992, alleleOrigins#1993, allelicRequirements#1994, ancestry#1995, ancestryId#1996, beta#1997, betaConfidenceIntervalLower#1998, betaConfidenceIntervalUpper#1999, biologicalModelAllelicComposition#2000, biologicalModelGeneticBackground#2001, biologicalModelId#2002, biomarkerName#2003, biomarkers#2004, biosamplesFromSource#2005, clinicalPhase#2006L, clinicalSignificances#2007, clinicalStatus#2008, cohortDescription#2009, cohortId#2010, cohortPhenotypes#2011, cohortShortName#2012, confidence#2013, contrast#2014, ... 56 more fields]\n   :           :                          :  :  :                       :  +- Relation [datasourceId#1991,targetId#1992,alleleOrigins#1993,allelicRequirements#1994,ancestry#1995,ancestryId#1996,beta#1997,betaConfidenceIntervalLower#1998,betaConfidenceIntervalUpper#1999,biologicalModelAllelicComposition#2000,biologicalModelGeneticBackground#2001,biologicalModelId#2002,biomarkerName#2003,biomarkers#2004,biosamplesFromSource#2005,clinicalPhase#2006L,clinicalSignificances#2007,clinicalStatus#2008,cohortDescription#2009,cohortId#2010,cohortPhenotypes#2011,cohortShortName#2012,confidence#2013,contrast#2014,... 56 more fields] parquet\n   :           :                          :  :  :                       +- Project [datasourceId#2151, targetId#2152, alleleOrigins#2153, allelicRequirements#2154, ancestry#2155, ancestryId#2156, beta#2157, betaConfidenceIntervalLower#2158, betaConfidenceIntervalUpper#2159, biologicalModelAllelicComposition#2160, biologicalModelGeneticBackground#2161, biologicalModelId#2162, biomarkerName#2163, biomarkers#2164, biosamplesFromSource#2165, clinicalPhase#2166L, clinicalSignificances#2167, clinicalStatus#2168, cohortDescription#2169, cohortId#2170, cohortPhenotypes#2171, cohortShortName#2172, confidence#2173, contrast#2174, ... 56 more fields]\n   :           :                          :  :  :                          +- Relation [datasourceId#2151,targetId#2152,alleleOrigins#2153,allelicRequirements#2154,ancestry#2155,ancestryId#2156,beta#2157,betaConfidenceIntervalLower#2158,betaConfidenceIntervalUpper#2159,biologicalModelAllelicComposition#2160,biologicalModelGeneticBackground#2161,biologicalModelId#2162,biomarkerName#2163,biomarkers#2164,biosamplesFromSource#2165,clinicalPhase#2166L,clinicalSignificances#2167,clinicalStatus#2168,cohortDescription#2169,cohortId#2170,cohortPhenotypes#2171,cohortShortName#2172,confidence#2173,contrast#2174,... 56 more fields] parquet\n   :           :                          :  :  +- Project [id#2311 AS target_id#2708, approvedSymbol#2312, description#2693, description_splited#2697, TSorOncogene#2702]\n   :           :                          :  :     +- Project [id#2311, approvedSymbol#2312, description#2693, description_splited#2697, CASE WHEN (RLIKE(description_splited#2697, ncogene) AND RLIKE(description_splited#2697, TSG)) THEN bivalent WHEN RLIKE(description_splited#2697, ncogene(\\s|$)) THEN oncogene WHEN RLIKE(description_splited#2697, TSG(\\s|$)) THEN TSG ELSE noEvaluable END AS TSorOncogene#2702]\n   :           :                          :  :        +- Project [id#2311, approvedSymbol#2312, description#2693, concat_ws(,, description#2693) AS description_splited#2697]\n   :           :                          :  :           +- Aggregate [id#2311, approvedSymbol#2312], [id#2311, approvedSymbol#2312, collect_set(description#2685, 0, 0) AS description#2693]\n   :           :                          :  :              +- Filter description#2685 IN (TSG,oncogene,Oncogene,oncogene,oncogene,TSG,TSG,oncogene,fusion,oncogene,oncogene,fusion)\n   :           :                          :  :                 +- Project [id#2311, approvedSymbol#2312, col#2680.description AS description#2685]\n   :           :                          :  :                    +- Project [id#2311, approvedSymbol#2312, col#2680]\n   :           :                          :  :                       +- Generate explode(hallmarks#2321.attributes), true, [col#2680]\n   :           :                          :  :                          +- Relation [id#2311,approvedSymbol#2312,biotype#2313,transcriptIds#2314,canonicalTranscript#2315,canonicalExons#2316,genomicLocation#2317,alternativeGenes#2318,approvedName#2319,go#2320,hallmarks#2321,synonyms#2322,symbolSynonyms#2323,nameSynonyms#2324,functionDescriptions#2325,subcellularLocations#2326,targetClass#2327,obsoleteSymbols#2328,obsoleteNames#2329,constraint#2330,tep#2331,proteinIds#2332,dbXrefs#2333,chemicalProbes#2334,... 4 more fields] parquet\n   :           :                          :  +- Project [statisticalMethodOverview#2439 AS stMethod#2447, counts#2440, comment#2441, whatToDo#2442]\n   :           :                          :     +- Relation [statisticalMethodOverview#2439,counts#2440,comment#2441,whatToDo#2442] csv\n   :           :                          +- Deduplicate [targetId2#2726, drugId2#2720, actionType#2408, mechanismOfAction#2409]\n   :           :                             +- Project [targetId2#2726, drugId2#2720, actionType#2408, mechanismOfAction#2409]\n   :           :                                +- Generate explode(targets#2413), true, [targetId2#2726]\n   :           :                                   +- Project [drugId2#2720, actionType#2408, mechanismOfAction#2409, targets#2413]\n   :           :                                      +- Generate explode(chemblIds#2410), true, [drugId2#2720]\n   :           :                                         +- Project [chemblIds#2410, actionType#2408, mechanismOfAction#2409, targets#2413]\n   :           :                                            +- Relation [actionType#2408,mechanismOfAction#2409,chemblIds#2410,targetName#2411,targetType#2412,targets#2413,references#2414] parquet\n   :           +- Project [targetId3#361219, diseaseId3#361221, filterOut#515263]\n   :              +- Project [targetId3#361219, diseaseId3#361221, targetId#515249L, datasourceId#515251, size#515257, out AS filterOut#515263]\n   :                 +- Sort [size#515257 DESC NULLS LAST], true\n   :                    +- Project [targetId3#361219, diseaseId3#361221, targetId#515249L, datasourceId#515251, size(datasourceId#515251, true) AS size#515257]\n   :                       +- Aggregate [targetId3#361219, diseaseId3#361221], [targetId3#361219, diseaseId3#361221, count(targetId3#361219) AS targetId#515249L, collect_set(datasourceId3#361220, 0, 0) AS datasourceId#515251]\n   :                          +- Filter (coherency#361233 = dispar)\n   :                             +- Project [targetId3#361219, datasourceId3#361220, diseaseId3#361221, GoF_risk#361222, LoF_protect#361223, LoF_risk#361224, GoF_protect#361225, CASE WHEN (isnotnull(GoF_risk#361222) AND isnotnull(LoF_risk#361224)) THEN CASE WHEN NOT ((GoF_risk#361222 - LoF_risk#361224) = GoF_risk#361222) THEN dispar END WHEN (isnotnull(LoF_protect#361223) AND isnotnull(LoF_risk#361224)) THEN CASE WHEN NOT ((LoF_protect#361223 - LoF_risk#361224) = LoF_protect#361223) THEN dispar END WHEN (isnotnull(GoF_protect#361225) AND isnotnull(GoF_risk#361222)) THEN CASE WHEN NOT ((GoF_protect#361225 - GoF_risk#361222) = GoF_protect#361225) THEN dispar END WHEN (isnotnull(GoF_protect#361225) AND isnotnull(LoF_protect#361223)) THEN CASE WHEN NOT ((GoF_protect#361225 - LoF_protect#361223) = GoF_protect#361225) THEN dispar END END AS coherency#361233]\n   :                                +- Project [targetId#2153307 AS targetId3#361219, datasourceId#2153306 AS datasourceId3#361220, diseaseId#2153383 AS diseaseId3#361221, cast(GoF_risk#361201L as int) AS GoF_risk#361222, cast(LoF_protect#361202L as int) AS LoF_protect#361223, cast(LoF_risk#361203L as int) AS LoF_risk#361224, cast(GoF_protect#361200L as int) AS GoF_protect#361225]\n   :                                   +- Project [targetId#2153307, diseaseId#2153383, datasourceId#2153306, __pivot_count(targetId) AS `count(targetId)`#361199[0] AS GoF_protect#361200L, __pivot_count(targetId) AS `count(targetId)`#361199[1] AS GoF_risk#361201L, __pivot_count(targetId) AS `count(targetId)`#361199[2] AS LoF_protect#361202L, __pivot_count(targetId) AS `count(targetId)`#361199[3] AS LoF_risk#361203L]\n   :                                      +- Aggregate [targetId#2153307, diseaseId#2153383, datasourceId#2153306], [targetId#2153307, diseaseId#2153383, datasourceId#2153306, pivotfirst(homogenized#5572, count(targetId)#361189L, GoF_protect, GoF_risk, LoF_protect, LoF_risk, 0, 0) AS __pivot_count(targetId) AS `count(targetId)`#361199]\n   :                                         +- Aggregate [targetId#2153307, diseaseId#2153383, datasourceId#2153306, homogenized#5572], [targetId#2153307, diseaseId#2153383, datasourceId#2153306, homogenized#5572, count(targetId#2153307) AS count(targetId)#361189L]\n   :                                            +- Filter (Assessment#5471 IN (noEvaluable,bivalent_risk,null,dispar) = false)\n   :                                               +- Project [datasourceId#2153306, targetId#2153307, alleleOrigins#2153308, allelicRequirements#2153309, ancestry#2153310, ancestryId#2153311, beta#4424, betaConfidenceIntervalLower#2153313, betaConfidenceIntervalUpper#2153314, biologicalModelAllelicComposition#2153315, biologicalModelGeneticBackground#2153316, biologicalModelId#2153317, biomarkerName#2153318, biomarkers#2153319, biosamplesFromSource#2153320, clinicalPhase#2153321L, clinicalSignificances#4586, clinicalStatus#2153323, cohortDescription#2153324, cohortId#2153325, cohortPhenotypes#2153326, cohortShortName#2153327, confidence#2153328, contrast#2153329, ... 76 more fields]\n   :                                                  +- Project [datasourceId#2153306, targetId#2153307, alleleOrigins#2153308, allelicRequirements#2153309, ancestry#2153310, ancestryId#2153311, beta#4424, betaConfidenceIntervalLower#2153313, betaConfidenceIntervalUpper#2153314, biologicalModelAllelicComposition#2153315, biologicalModelGeneticBackground#2153316, biologicalModelId#2153317, biomarkerName#2153318, biomarkers#2153319, biosamplesFromSource#2153320, clinicalPhase#2153321L, clinicalSignificances#4586, clinicalStatus#2153323, cohortDescription#2153324, cohortId#2153325, cohortPhenotypes#2153326, cohortShortName#2153327, confidence#2153328, contrast#2153329, ... 75 more fields]\n   :                                                     +- Project [datasourceId#2153306, targetId#2153307, alleleOrigins#2153308, allelicRequirements#2153309, ancestry#2153310, ancestryId#2153311, beta#4424, betaConfidenceIntervalLower#2153313, betaConfidenceIntervalUpper#2153314, biologicalModelAllelicComposition#2153315, biologicalModelGeneticBackground#2153316, biologicalModelId#2153317, biomarkerName#2153318, biomarkers#2153319, biosamplesFromSource#2153320, clinicalPhase#2153321L, clinicalSignificances#4586, clinicalStatus#2153323, cohortDescription#2153324, cohortId#2153325, cohortPhenotypes#2153326, cohortShortName#2153327, confidence#2153328, contrast#2153329, ... 74 more fields]\n   :                                                        +- Project [datasourceId#2153306, targetId#2153307, alleleOrigins#2153308, allelicRequirements#2153309, ancestry#2153310, ancestryId#2153311, beta#4424, betaConfidenceIntervalLower#2153313, betaConfidenceIntervalUpper#2153314, biologicalModelAllelicComposition#2153315, biologicalModelGeneticBackground#2153316, biologicalModelId#2153317, biomarkerName#2153318, biomarkers#2153319, biosamplesFromSource#2153320, clinicalPhase#2153321L, clinicalSignificances#4586, clinicalStatus#2153323, cohortDescription#2153324, cohortId#2153325, cohortPhenotypes#2153326, cohortShortName#2153327, confidence#2153328, contrast#2153329, ... 73 more fields]\n   :                                                           +- Join LeftOuter, ((drugId2#2720 = drugId#2153338) AND (targetId2#2726 = targetId#2153307))\n   :                                                              :- Join LeftOuter, (stMethod#2447 = statisticalMethodOverview#2153360)\n   :                                                              :  :- Join LeftOuter, (target_id#2708 = targetId#2153307)\n   :                                                              :  :  :- Project [datasourceId#2153306, targetId#2153307, alleleOrigins#2153308, allelicRequirements#2153309, ancestry#2153310, ancestryId#2153311, beta#4424, betaConfidenceIntervalLower#2153313, betaConfidenceIntervalUpper#2153314, biologicalModelAllelicComposition#2153315, biologicalModelGeneticBackground#2153316, biologicalModelId#2153317, biomarkerName#2153318, biomarkers#2153319, biosamplesFromSource#2153320, clinicalPhase#2153321L, clinicalSignificances#4586, clinicalStatus#2153323, cohortDescription#2153324, cohortId#2153325, cohortPhenotypes#2153326, cohortShortName#2153327, confidence#2153328, contrast#2153329, ... 59 more fields]\n   :                                                              :  :  :  +- Project [datasourceId#2153306, targetId#2153307, alleleOrigins#2153308, allelicRequirements#2153309, ancestry#2153310, ancestryId#2153311, beta#4424, betaConfidenceIntervalLower#2153313, betaConfidenceIntervalUpper#2153314, biologicalModelAllelicComposition#2153315, biologicalModelGeneticBackground#2153316, biologicalModelId#2153317, biomarkerName#2153318, biomarkers#2153319, biosamplesFromSource#2153320, clinicalPhase#2153321L, clinicalSignificances#4586, clinicalStatus#2153323, cohortDescription#2153324, cohortId#2153325, cohortPhenotypes#2153326, cohortShortName#2153327, confidence#2153328, contrast#2153329, ... 58 more fields]\n   :                                                              :  :  :     +- Project [datasourceId#2153306, targetId#2153307, alleleOrigins#2153308, allelicRequirements#2153309, ancestry#2153310, ancestryId#2153311, beta#4424, betaConfidenceIntervalLower#2153313, betaConfidenceIntervalUpper#2153314, biologicalModelAllelicComposition#2153315, biologicalModelGeneticBackground#2153316, biologicalModelId#2153317, biomarkerName#2153318, biomarkers#2153319, biosamplesFromSource#2153320, clinicalPhase#2153321L, clinicalSignificances#4586, clinicalStatus#2153323, cohortDescription#2153324, cohortId#2153325, cohortPhenotypes#2153326, cohortShortName#2153327, confidence#2153328, contrast#2153329, ... 57 more fields]\n   :                                                              :  :  :        +- Generate explode(mutatedSamples#2153343), true, [exploded#4668]\n   :                                                              :  :  :           +- Project [datasourceId#2153306, targetId#2153307, alleleOrigins#2153308, allelicRequirements#2153309, ancestry#2153310, ancestryId#2153311, beta#4424, betaConfidenceIntervalLower#2153313, betaConfidenceIntervalUpper#2153314, biologicalModelAllelicComposition#2153315, biologicalModelGeneticBackground#2153316, biologicalModelId#2153317, biomarkerName#2153318, biomarkers#2153319, biosamplesFromSource#2153320, clinicalPhase#2153321L, concat_ws(,, clinicalSignificances#2153322) AS clinicalSignificances#4586, clinicalStatus#2153323, cohortDescription#2153324, cohortId#2153325, cohortPhenotypes#2153326, cohortShortName#2153327, confidence#2153328, contrast#2153329, ... 56 more fields]\n   :                                                              :  :  :              +- Project [datasourceId#2153306, targetId#2153307, alleleOrigins#2153308, allelicRequirements#2153309, ancestry#2153310, ancestryId#2153311, beta#4424, betaConfidenceIntervalLower#2153313, betaConfidenceIntervalUpper#2153314, biologicalModelAllelicComposition#2153315, biologicalModelGeneticBackground#2153316, biologicalModelId#2153317, biomarkerName#2153318, biomarkers#2153319, biosamplesFromSource#2153320, clinicalPhase#2153321L, clinicalSignificances#2153322, clinicalStatus#2153323, cohortDescription#2153324, cohortId#2153325, cohortPhenotypes#2153326, cohortShortName#2153327, confidence#2153328, contrast#2153329, ... 56 more fields]\n   :                                                              :  :  :                 +- Project [datasourceId#2153306, targetId#2153307, alleleOrigins#2153308, allelicRequirements#2153309, ancestry#2153310, ancestryId#2153311, cast(beta#2153312 as float) AS beta#4424, betaConfidenceIntervalLower#2153313, betaConfidenceIntervalUpper#2153314, biologicalModelAllelicComposition#2153315, biologicalModelGeneticBackground#2153316, biologicalModelId#2153317, biomarkerName#2153318, biomarkers#2153319, biosamplesFromSource#2153320, clinicalPhase#2153321L, clinicalSignificances#2153322, clinicalStatus#2153323, cohortDescription#2153324, cohortId#2153325, cohortPhenotypes#2153326, cohortShortName#2153327, confidence#2153328, contrast#2153329, ... 56 more fields]\n   :                                                              :  :  :                    +- Union false, false\n   :                                                              :  :  :                       :- Relation [datasourceId#2153306,targetId#2153307,alleleOrigins#2153308,allelicRequirements#2153309,ancestry#2153310,ancestryId#2153311,beta#2153312,betaConfidenceIntervalLower#2153313,betaConfidenceIntervalUpper#2153314,biologicalModelAllelicComposition#2153315,biologicalModelGeneticBackground#2153316,biologicalModelId#2153317,biomarkerName#2153318,biomarkers#2153319,biosamplesFromSource#2153320,clinicalPhase#2153321L,clinicalSignificances#2153322,clinicalStatus#2153323,cohortDescription#2153324,cohortId#2153325,cohortPhenotypes#2153326,cohortShortName#2153327,confidence#2153328,contrast#2153329,... 56 more fields] parquet\n   :                                                              :  :  :                       :- Project [datasourceId#2153386, targetId#2153387, alleleOrigins#2153388, allelicRequirements#2153389, ancestry#2153390, ancestryId#2153391, beta#2153392, betaConfidenceIntervalLower#2153393, betaConfidenceIntervalUpper#2153394, biologicalModelAllelicComposition#2153395, biologicalModelGeneticBackground#2153396, biologicalModelId#2153397, biomarkerName#2153398, biomarkers#2153399, biosamplesFromSource#2153400, clinicalPhase#2153401L, clinicalSignificances#2153402, clinicalStatus#2153403, cohortDescription#2153404, cohortId#2153405, cohortPhenotypes#2153406, cohortShortName#2153407, confidence#2153408, contrast#2153409, ... 56 more fields]\n   :                                                              :  :  :                       :  +- Relation [datasourceId#2153386,targetId#2153387,alleleOrigins#2153388,allelicRequirements#2153389,ancestry#2153390,ancestryId#2153391,beta#2153392,betaConfidenceIntervalLower#2153393,betaConfidenceIntervalUpper#2153394,biologicalModelAllelicComposition#2153395,biologicalModelGeneticBackground#2153396,biologicalModelId#2153397,biomarkerName#2153398,biomarkers#2153399,biosamplesFromSource#2153400,clinicalPhase#2153401L,clinicalSignificances#2153402,clinicalStatus#2153403,cohortDescription#2153404,cohortId#2153405,cohortPhenotypes#2153406,cohortShortName#2153407,confidence#2153408,contrast#2153409,... 56 more fields] parquet\n   :                                                              :  :  :                       :- Project [datasourceId#2153466, targetId#2153467, alleleOrigins#2153468, allelicRequirements#2153469, ancestry#2153470, ancestryId#2153471, beta#2153472, betaConfidenceIntervalLower#2153473, betaConfidenceIntervalUpper#2153474, biologicalModelAllelicComposition#2153475, biologicalModelGeneticBackground#2153476, biologicalModelId#2153477, biomarkerName#2153478, biomarkers#2153479, biosamplesFromSource#2153480, clinicalPhase#2153481L, clinicalSignificances#2153482, clinicalStatus#2153483, cohortDescription#2153484, cohortId#2153485, cohortPhenotypes#2153486, cohortShortName#2153487, confidence#2153488, contrast#2153489, ... 56 more fields]\n   :                                                              :  :  :                       :  +- Relation [datasourceId#2153466,targetId#2153467,alleleOrigins#2153468,allelicRequirements#2153469,ancestry#2153470,ancestryId#2153471,beta#2153472,betaConfidenceIntervalLower#2153473,betaConfidenceIntervalUpper#2153474,biologicalModelAllelicComposition#2153475,biologicalModelGeneticBackground#2153476,biologicalModelId#2153477,biomarkerName#2153478,biomarkers#2153479,biosamplesFromSource#2153480,clinicalPhase#2153481L,clinicalSignificances#2153482,clinicalStatus#2153483,cohortDescription#2153484,cohortId#2153485,cohortPhenotypes#2153486,cohortShortName#2153487,confidence#2153488,contrast#2153489,... 56 more fields] parquet\n   :                                                              :  :  :                       :- Project [datasourceId#2153546, targetId#2153547, alleleOrigins#2153548, allelicRequirements#2153549, ancestry#2153550, ancestryId#2153551, beta#2153552, betaConfidenceIntervalLower#2153553, betaConfidenceIntervalUpper#2153554, biologicalModelAllelicComposition#2153555, biologicalModelGeneticBackground#2153556, biologicalModelId#2153557, biomarkerName#2153558, biomarkers#2153559, biosamplesFromSource#2153560, clinicalPhase#2153561L, clinicalSignificances#2153562, clinicalStatus#2153563, cohortDescription#2153564, cohortId#2153565, cohortPhenotypes#2153566, cohortShortName#2153567, confidence#2153568, contrast#2153569, ... 56 more fields]\n   :                                                              :  :  :                       :  +- Relation [datasourceId#2153546,targetId#2153547,alleleOrigins#2153548,allelicRequirements#2153549,ancestry#2153550,ancestryId#2153551,beta#2153552,betaConfidenceIntervalLower#2153553,betaConfidenceIntervalUpper#2153554,biologicalModelAllelicComposition#2153555,biologicalModelGeneticBackground#2153556,biologicalModelId#2153557,biomarkerName#2153558,biomarkers#2153559,biosamplesFromSource#2153560,clinicalPhase#2153561L,clinicalSignificances#2153562,clinicalStatus#2153563,cohortDescription#2153564,cohortId#2153565,cohortPhenotypes#2153566,cohortShortName#2153567,confidence#2153568,contrast#2153569,... 56 more fields] parquet\n   :                                                              :  :  :                       :- Project [datasourceId#2153626, targetId#2153627, alleleOrigins#2153628, allelicRequirements#2153629, ancestry#2153630, ancestryId#2153631, beta#2153632, betaConfidenceIntervalLower#2153633, betaConfidenceIntervalUpper#2153634, biologicalModelAllelicComposition#2153635, biologicalModelGeneticBackground#2153636, biologicalModelId#2153637, biomarkerName#2153638, biomarkers#2153639, biosamplesFromSource#2153640, clinicalPhase#2153641L, clinicalSignificances#2153642, clinicalStatus#2153643, cohortDescription#2153644, cohortId#2153645, cohortPhenotypes#2153646, cohortShortName#2153647, confidence#2153648, contrast#2153649, ... 56 more fields]\n   :                                                              :  :  :                       :  +- Relation [datasourceId#2153626,targetId#2153627,alleleOrigins#2153628,allelicRequirements#2153629,ancestry#2153630,ancestryId#2153631,beta#2153632,betaConfidenceIntervalLower#2153633,betaConfidenceIntervalUpper#2153634,biologicalModelAllelicComposition#2153635,biologicalModelGeneticBackground#2153636,biologicalModelId#2153637,biomarkerName#2153638,biomarkers#2153639,biosamplesFromSource#2153640,clinicalPhase#2153641L,clinicalSignificances#2153642,clinicalStatus#2153643,cohortDescription#2153644,cohortId#2153645,cohortPhenotypes#2153646,cohortShortName#2153647,confidence#2153648,contrast#2153649,... 56 more fields] parquet\n   :                                                              :  :  :                       :- Project [datasourceId#2153706, targetId#2153707, alleleOrigins#2153708, allelicRequirements#2153709, ancestry#2153710, ancestryId#2153711, beta#2153712, betaConfidenceIntervalLower#2153713, betaConfidenceIntervalUpper#2153714, biologicalModelAllelicComposition#2153715, biologicalModelGeneticBackground#2153716, biologicalModelId#2153717, biomarkerName#2153718, biomarkers#2153719, biosamplesFromSource#2153720, clinicalPhase#2153721L, clinicalSignificances#2153722, clinicalStatus#2153723, cohortDescription#2153724, cohortId#2153725, cohortPhenotypes#2153726, cohortShortName#2153727, confidence#2153728, contrast#2153729, ... 56 more fields]\n   :                                                              :  :  :                       :  +- Relation [datasourceId#2153706,targetId#2153707,alleleOrigins#2153708,allelicRequirements#2153709,ancestry#2153710,ancestryId#2153711,beta#2153712,betaConfidenceIntervalLower#2153713,betaConfidenceIntervalUpper#2153714,biologicalModelAllelicComposition#2153715,biologicalModelGeneticBackground#2153716,biologicalModelId#2153717,biomarkerName#2153718,biomarkers#2153719,biosamplesFromSource#2153720,clinicalPhase#2153721L,clinicalSignificances#2153722,clinicalStatus#2153723,cohortDescription#2153724,cohortId#2153725,cohortPhenotypes#2153726,cohortShortName#2153727,confidence#2153728,contrast#2153729,... 56 more fields] parquet\n   :                                                              :  :  :                       :- Project [datasourceId#2153786, targetId#2153787, alleleOrigins#2153788, allelicRequirements#2153789, ancestry#2153790, ancestryId#2153791, beta#2153792, betaConfidenceIntervalLower#2153793, betaConfidenceIntervalUpper#2153794, biologicalModelAllelicComposition#2153795, biologicalModelGeneticBackground#2153796, biologicalModelId#2153797, biomarkerName#2153798, biomarkers#2153799, biosamplesFromSource#2153800, clinicalPhase#2153801L, clinicalSignificances#2153802, clinicalStatus#2153803, cohortDescription#2153804, cohortId#2153805, cohortPhenotypes#2153806, cohortShortName#2153807, confidence#2153808, contrast#2153809, ... 56 more fields]\n   :                                                              :  :  :                       :  +- Relation [datasourceId#2153786,targetId#2153787,alleleOrigins#2153788,allelicRequirements#2153789,ancestry#2153790,ancestryId#2153791,beta#2153792,betaConfidenceIntervalLower#2153793,betaConfidenceIntervalUpper#2153794,biologicalModelAllelicComposition#2153795,biologicalModelGeneticBackground#2153796,biologicalModelId#2153797,biomarkerName#2153798,biomarkers#2153799,biosamplesFromSource#2153800,clinicalPhase#2153801L,clinicalSignificances#2153802,clinicalStatus#2153803,cohortDescription#2153804,cohortId#2153805,cohortPhenotypes#2153806,cohortShortName#2153807,confidence#2153808,contrast#2153809,... 56 more fields] parquet\n   :                                                              :  :  :                       :- Project [datasourceId#2153866, targetId#2153867, alleleOrigins#2153868, allelicRequirements#2153869, ancestry#2153870, ancestryId#2153871, beta#2153872, betaConfidenceIntervalLower#2153873, betaConfidenceIntervalUpper#2153874, biologicalModelAllelicComposition#2153875, biologicalModelGeneticBackground#2153876, biologicalModelId#2153877, biomarkerName#2153878, biomarkers#2153879, biosamplesFromSource#2153880, clinicalPhase#2153881L, clinicalSignificances#2153882, clinicalStatus#2153883, cohortDescription#2153884, cohortId#2153885, cohortPhenotypes#2153886, cohortShortName#2153887, confidence#2153888, contrast#2153889, ... 56 more fields]\n   :                                                              :  :  :                       :  +- Relation [datasourceId#2153866,targetId#2153867,alleleOrigins#2153868,allelicRequirements#2153869,ancestry#2153870,ancestryId#2153871,beta#2153872,betaConfidenceIntervalLower#2153873,betaConfidenceIntervalUpper#2153874,biologicalModelAllelicComposition#2153875,biologicalModelGeneticBackground#2153876,biologicalModelId#2153877,biomarkerName#2153878,biomarkers#2153879,biosamplesFromSource#2153880,clinicalPhase#2153881L,clinicalSignificances#2153882,clinicalStatus#2153883,cohortDescription#2153884,cohortId#2153885,cohortPhenotypes#2153886,cohortShortName#2153887,confidence#2153888,contrast#2153889,... 56 more fields] parquet\n   :                                                              :  :  :                       :- Project [datasourceId#2153946, targetId#2153947, alleleOrigins#2153948, allelicRequirements#2153949, ancestry#2153950, ancestryId#2153951, beta#2153952, betaConfidenceIntervalLower#2153953, betaConfidenceIntervalUpper#2153954, biologicalModelAllelicComposition#2153955, biologicalModelGeneticBackground#2153956, biologicalModelId#2153957, biomarkerName#2153958, biomarkers#2153959, biosamplesFromSource#2153960, clinicalPhase#2153961L, clinicalSignificances#2153962, clinicalStatus#2153963, cohortDescription#2153964, cohortId#2153965, cohortPhenotypes#2153966, cohortShortName#2153967, confidence#2153968, contrast#2153969, ... 56 more fields]\n   :                                                              :  :  :                       :  +- Relation [datasourceId#2153946,targetId#2153947,alleleOrigins#2153948,allelicRequirements#2153949,ancestry#2153950,ancestryId#2153951,beta#2153952,betaConfidenceIntervalLower#2153953,betaConfidenceIntervalUpper#2153954,biologicalModelAllelicComposition#2153955,biologicalModelGeneticBackground#2153956,biologicalModelId#2153957,biomarkerName#2153958,biomarkers#2153959,biosamplesFromSource#2153960,clinicalPhase#2153961L,clinicalSignificances#2153962,clinicalStatus#2153963,cohortDescription#2153964,cohortId#2153965,cohortPhenotypes#2153966,cohortShortName#2153967,confidence#2153968,contrast#2153969,... 56 more fields] parquet\n   :                                                              :  :  :                       +- Project [datasourceId#2154026, targetId#2154027, alleleOrigins#2154028, allelicRequirements#2154029, ancestry#2154030, ancestryId#2154031, beta#2154032, betaConfidenceIntervalLower#2154033, betaConfidenceIntervalUpper#2154034, biologicalModelAllelicComposition#2154035, biologicalModelGeneticBackground#2154036, biologicalModelId#2154037, biomarkerName#2154038, biomarkers#2154039, biosamplesFromSource#2154040, clinicalPhase#2154041L, clinicalSignificances#2154042, clinicalStatus#2154043, cohortDescription#2154044, cohortId#2154045, cohortPhenotypes#2154046, cohortShortName#2154047, confidence#2154048, contrast#2154049, ... 56 more fields]\n   :                                                              :  :  :                          +- Relation [datasourceId#2154026,targetId#2154027,alleleOrigins#2154028,allelicRequirements#2154029,ancestry#2154030,ancestryId#2154031,beta#2154032,betaConfidenceIntervalLower#2154033,betaConfidenceIntervalUpper#2154034,biologicalModelAllelicComposition#2154035,biologicalModelGeneticBackground#2154036,biologicalModelId#2154037,biomarkerName#2154038,biomarkers#2154039,biosamplesFromSource#2154040,clinicalPhase#2154041L,clinicalSignificances#2154042,clinicalStatus#2154043,cohortDescription#2154044,cohortId#2154045,cohortPhenotypes#2154046,cohortShortName#2154047,confidence#2154048,contrast#2154049,... 56 more fields] parquet\n   :                                                              :  :  +- Project [id#2154106 AS target_id#2708, approvedSymbol#2154107, description#2693, description_splited#2697, TSorOncogene#2702]\n   :                                                              :  :     +- Project [id#2154106, approvedSymbol#2154107, description#2693, description_splited#2697, CASE WHEN (RLIKE(description_splited#2697, ncogene) AND RLIKE(description_splited#2697, TSG)) THEN bivalent WHEN RLIKE(description_splited#2697, ncogene(\\s|$)) THEN oncogene WHEN RLIKE(description_splited#2697, TSG(\\s|$)) THEN TSG ELSE noEvaluable END AS TSorOncogene#2702]\n   :                                                              :  :        +- Project [id#2154106, approvedSymbol#2154107, description#2693, concat_ws(,, description#2693) AS description_splited#2697]\n   :                                                              :  :           +- Aggregate [id#2154106, approvedSymbol#2154107], [id#2154106, approvedSymbol#2154107, collect_set(description#2685, 0, 0) AS description#2693]\n   :                                                              :  :              +- Filter description#2685 IN (TSG,oncogene,Oncogene,oncogene,oncogene,TSG,TSG,oncogene,fusion,oncogene,oncogene,fusion)\n   :                                                              :  :                 +- Project [id#2154106, approvedSymbol#2154107, col#2680.description AS description#2685]\n   :                                                              :  :                    +- Project [id#2154106, approvedSymbol#2154107, col#2680]\n   :                                                              :  :                       +- Generate explode(hallmarks#2154116.attributes), true, [col#2680]\n   :                                                              :  :                          +- Relation [id#2154106,approvedSymbol#2154107,biotype#2154108,transcriptIds#2154109,canonicalTranscript#2154110,canonicalExons#2154111,genomicLocation#2154112,alternativeGenes#2154113,approvedName#2154114,go#2154115,hallmarks#2154116,synonyms#2154117,symbolSynonyms#2154118,nameSynonyms#2154119,functionDescriptions#2154120,subcellularLocations#2154121,targetClass#2154122,obsoleteSymbols#2154123,obsoleteNames#2154124,constraint#2154125,tep#2154126,proteinIds#2154127,dbXrefs#2154128,chemicalProbes#2154129,... 4 more fields] parquet\n   :                                                              :  +- Project [statisticalMethodOverview#2154134 AS stMethod#2447, counts#2154135, comment#2154136, whatToDo#2154137]\n   :                                                              :     +- Relation [statisticalMethodOverview#2154134,counts#2154135,comment#2154136,whatToDo#2154137] csv\n   :                                                              +- Deduplicate [targetId2#2726, drugId2#2720, actionType#2154138, mechanismOfAction#2154139]\n   :                                                                 +- Project [targetId2#2726, drugId2#2720, actionType#2154138, mechanismOfAction#2154139]\n   :                                                                    +- Generate explode(targets#2154143), true, [targetId2#2726]\n   :                                                                       +- Project [drugId2#2720, actionType#2154138, mechanismOfAction#2154139, targets#2154143]\n   :                                                                          +- Generate explode(chemblIds#2154140), true, [drugId2#2720]\n   :                                                                             +- Project [chemblIds#2154140, actionType#2154138, mechanismOfAction#2154139, targets#2154143]\n   :                                                                                +- Relation [actionType#2154138,mechanismOfAction#2154139,chemblIds#2154140,targetName#2154141,targetType#2154142,targets#2154143,references#2154144] parquet\n   +- Project [id#2367, name#2371]\n      +- Relation [id#2367,code#2368,dbXRefs#2369,description#2370,name#2371,directLocationIds#2372,obsoleteTerms#2373,parents#2374,synonyms#2375,ancestors#2376,descendants#2377,children#2378,therapeuticAreas#2379,indirectLocationIds#2380,ontology#2381] parquet\n",
     "output_type": "error",
     "traceback": [
      "\u001b[0;31m---------------------------------------------------------------------------\u001b[0m",
      "\u001b[0;31mAnalysisException\u001b[0m                         Traceback (most recent call last)",
      "Cell \u001b[0;32mIn[61], line 115\u001b[0m\n\u001b[1;32m    110\u001b[0m \u001b[39m### continue here: 22.02.2023\u001b[39;00m\n\u001b[1;32m    111\u001b[0m \u001b[39m### define columns for the next steps\u001b[39;00m\n\u001b[1;32m    112\u001b[0m columnsX\u001b[39m=\u001b[39m[\u001b[39m'\u001b[39m\u001b[39mtargetId\u001b[39m\u001b[39m'\u001b[39m, \u001b[39m'\u001b[39m\u001b[39mdiseaseId\u001b[39m\u001b[39m'\u001b[39m,  \u001b[39m'\u001b[39m\u001b[39mdiseaseFromSource\u001b[39m\u001b[39m'\u001b[39m, \u001b[39m'\u001b[39m\u001b[39mfilterOut\u001b[39m\u001b[39m'\u001b[39m,\u001b[39m'\u001b[39m\u001b[39mcoherency\u001b[39m\u001b[39m'\u001b[39m, \u001b[39m'\u001b[39m\u001b[39mid\u001b[39m\u001b[39m'\u001b[39m, \u001b[39m'\u001b[39m\u001b[39mname\u001b[39m\u001b[39m'\u001b[39m]\n\u001b[0;32m--> 115\u001b[0m probando\u001b[39m=\u001b[39mcoherencyInter_assessed_wOut_contrad2\u001b[39m.\u001b[39;49mselect(\u001b[39m*\u001b[39;49m(F\u001b[39m.\u001b[39;49mcol(c)\u001b[39m.\u001b[39;49malias(c) \u001b[39mfor\u001b[39;49;00m c \u001b[39min\u001b[39;49;00m columnsX), F\u001b[39m.\u001b[39;49mstruct(\u001b[39m'\u001b[39;49m\u001b[39mGoF_risk\u001b[39;49m\u001b[39m'\u001b[39;49m, \u001b[39m'\u001b[39;49m\u001b[39mLoF_protect\u001b[39;49m\u001b[39m'\u001b[39;49m, \u001b[39m'\u001b[39;49m\u001b[39mLoF_risk\u001b[39;49m\u001b[39m'\u001b[39;49m, \u001b[39m'\u001b[39;49m\u001b[39mGoF_protect\u001b[39;49m\u001b[39m'\u001b[39;49m)\u001b[39m.\u001b[39;49malias(\u001b[39m'\u001b[39;49m\u001b[39mvalues\u001b[39;49m\u001b[39m'\u001b[39;49m))\n",
      "File \u001b[0;32m/opt/anaconda3/envs/python/lib/python3.10/site-packages/pyspark/sql/dataframe.py:2023\u001b[0m, in \u001b[0;36mDataFrame.select\u001b[0;34m(self, *cols)\u001b[0m\n\u001b[1;32m   2002\u001b[0m \u001b[39mdef\u001b[39;00m \u001b[39mselect\u001b[39m(\u001b[39mself\u001b[39m, \u001b[39m*\u001b[39mcols: \u001b[39m\"\u001b[39m\u001b[39mColumnOrName\u001b[39m\u001b[39m\"\u001b[39m) \u001b[39m-\u001b[39m\u001b[39m>\u001b[39m \u001b[39m\"\u001b[39m\u001b[39mDataFrame\u001b[39m\u001b[39m\"\u001b[39m:  \u001b[39m# type: ignore[misc]\u001b[39;00m\n\u001b[1;32m   2003\u001b[0m     \u001b[39m\"\"\"Projects a set of expressions and returns a new :class:`DataFrame`.\u001b[39;00m\n\u001b[1;32m   2004\u001b[0m \n\u001b[1;32m   2005\u001b[0m \u001b[39m    .. versionadded:: 1.3.0\u001b[39;00m\n\u001b[0;32m   (...)\u001b[0m\n\u001b[1;32m   2021\u001b[0m \u001b[39m    [Row(name='Alice', age=12), Row(name='Bob', age=15)]\u001b[39;00m\n\u001b[1;32m   2022\u001b[0m \u001b[39m    \"\"\"\u001b[39;00m\n\u001b[0;32m-> 2023\u001b[0m     jdf \u001b[39m=\u001b[39m \u001b[39mself\u001b[39;49m\u001b[39m.\u001b[39;49m_jdf\u001b[39m.\u001b[39;49mselect(\u001b[39mself\u001b[39;49m\u001b[39m.\u001b[39;49m_jcols(\u001b[39m*\u001b[39;49mcols))\n\u001b[1;32m   2024\u001b[0m     \u001b[39mreturn\u001b[39;00m DataFrame(jdf, \u001b[39mself\u001b[39m\u001b[39m.\u001b[39msparkSession)\n",
      "File \u001b[0;32m/opt/anaconda3/envs/python/lib/python3.10/site-packages/py4j/java_gateway.py:1321\u001b[0m, in \u001b[0;36mJavaMember.__call__\u001b[0;34m(self, *args)\u001b[0m\n\u001b[1;32m   1315\u001b[0m command \u001b[39m=\u001b[39m proto\u001b[39m.\u001b[39mCALL_COMMAND_NAME \u001b[39m+\u001b[39m\\\n\u001b[1;32m   1316\u001b[0m     \u001b[39mself\u001b[39m\u001b[39m.\u001b[39mcommand_header \u001b[39m+\u001b[39m\\\n\u001b[1;32m   1317\u001b[0m     args_command \u001b[39m+\u001b[39m\\\n\u001b[1;32m   1318\u001b[0m     proto\u001b[39m.\u001b[39mEND_COMMAND_PART\n\u001b[1;32m   1320\u001b[0m answer \u001b[39m=\u001b[39m \u001b[39mself\u001b[39m\u001b[39m.\u001b[39mgateway_client\u001b[39m.\u001b[39msend_command(command)\n\u001b[0;32m-> 1321\u001b[0m return_value \u001b[39m=\u001b[39m get_return_value(\n\u001b[1;32m   1322\u001b[0m     answer, \u001b[39mself\u001b[39;49m\u001b[39m.\u001b[39;49mgateway_client, \u001b[39mself\u001b[39;49m\u001b[39m.\u001b[39;49mtarget_id, \u001b[39mself\u001b[39;49m\u001b[39m.\u001b[39;49mname)\n\u001b[1;32m   1324\u001b[0m \u001b[39mfor\u001b[39;00m temp_arg \u001b[39min\u001b[39;00m temp_args:\n\u001b[1;32m   1325\u001b[0m     temp_arg\u001b[39m.\u001b[39m_detach()\n",
      "File \u001b[0;32m/opt/anaconda3/envs/python/lib/python3.10/site-packages/pyspark/sql/utils.py:196\u001b[0m, in \u001b[0;36mcapture_sql_exception.<locals>.deco\u001b[0;34m(*a, **kw)\u001b[0m\n\u001b[1;32m    192\u001b[0m converted \u001b[39m=\u001b[39m convert_exception(e\u001b[39m.\u001b[39mjava_exception)\n\u001b[1;32m    193\u001b[0m \u001b[39mif\u001b[39;00m \u001b[39mnot\u001b[39;00m \u001b[39misinstance\u001b[39m(converted, UnknownException):\n\u001b[1;32m    194\u001b[0m     \u001b[39m# Hide where the exception came from that shows a non-Pythonic\u001b[39;00m\n\u001b[1;32m    195\u001b[0m     \u001b[39m# JVM exception message.\u001b[39;00m\n\u001b[0;32m--> 196\u001b[0m     \u001b[39mraise\u001b[39;00m converted \u001b[39mfrom\u001b[39;00m \u001b[39mNone\u001b[39m\n\u001b[1;32m    197\u001b[0m \u001b[39melse\u001b[39;00m:\n\u001b[1;32m    198\u001b[0m     \u001b[39mraise\u001b[39;00m\n",
      "\u001b[0;31mAnalysisException\u001b[0m: Column 'diseaseFromSource' does not exist. Did you mean one of the following? [diseaseId, filterOut, GoF_protect, LoF_protect, coherency, name, targetId, GoF_risk, LoF_risk, id];\n'Project [targetId#72 AS targetId#2154227, diseaseId#148 AS diseaseId#2154228, 'diseaseFromSource AS diseaseFromSource#2154229, filterOut#2154175 AS filterOut#2154230, coherency#2154196 AS coherency#2154231, id#2367 AS id#2154232, name#2371 AS name#2154233, struct(GoF_risk, GoF_risk#2154185, LoF_protect, LoF_protect#2154186, LoF_risk, LoF_risk#2154187, GoF_protect, GoF_protect#2154188) AS values#2154234]\n+- Join LeftOuter, (id#2367 = diseaseId#148)\n   :- Project [targetId#72, diseaseId#148, filterOut#2154175, GoF_risk#2154185, LoF_protect#2154186, LoF_risk#2154187, GoF_protect#2154188, CASE WHEN (isnotnull(GoF_risk#2154185) AND isnotnull(LoF_risk#2154187)) THEN CASE WHEN NOT ((GoF_risk#2154185 - LoF_risk#2154187) = GoF_risk#2154185) THEN dispar END WHEN (isnotnull(LoF_protect#2154186) AND isnotnull(LoF_risk#2154187)) THEN CASE WHEN NOT ((LoF_protect#2154186 - LoF_risk#2154187) = LoF_protect#2154186) THEN dispar END WHEN (isnotnull(GoF_protect#2154188) AND isnotnull(GoF_risk#2154185)) THEN CASE WHEN NOT ((GoF_protect#2154188 - GoF_risk#2154185) = GoF_protect#2154188) THEN dispar END WHEN (isnotnull(GoF_protect#2154188) AND isnotnull(LoF_protect#2154186)) THEN CASE WHEN NOT ((GoF_protect#2154188 - LoF_protect#2154186) = GoF_protect#2154188) THEN dispar END WHEN (isnotnull(GoF_protect#2154188) AND isnotnull(LoF_risk#2154187)) THEN CASE WHEN NOT ((GoF_protect#2154188 - LoF_risk#2154187) = GoF_protect#2154188) THEN coherent END WHEN (isnotnull(LoF_protect#2154186) AND isnotnull(GoF_risk#2154185)) THEN CASE WHEN NOT ((LoF_protect#2154186 - GoF_risk#2154185) = LoF_protect#2154186) THEN coherent END ELSE take END AS coherency#2154196]\n   :  +- Project [targetId#72, diseaseId#148, filterOut#2154175, cast(GoF_risk#2153286L as int) AS GoF_risk#2154185, cast(LoF_protect#2153287L as int) AS LoF_protect#2154186, cast(LoF_risk#2153288L as int) AS LoF_risk#2154187, cast(GoF_protect#2153285L as int) AS GoF_protect#2154188]\n   :     +- Project [targetId#72, diseaseId#148, GoF_protect#2153285L, GoF_risk#2153286L, LoF_protect#2153287L, LoF_risk#2153288L, targetId3#361219, diseaseId3#361221, CASE WHEN (filterOut#515263 = out) THEN filterOut#515263 ELSE keep END AS filterOut#2154175]\n   :        +- Join LeftOuter, ((targetId#72 = targetId3#361219) AND (diseaseId#148 = diseaseId3#361221))\n   :           :- Project [targetId#72, diseaseId#148, __pivot_count(targetId) AS `count(targetId)`#2153284[0] AS GoF_protect#2153285L, __pivot_count(targetId) AS `count(targetId)`#2153284[1] AS GoF_risk#2153286L, __pivot_count(targetId) AS `count(targetId)`#2153284[2] AS LoF_protect#2153287L, __pivot_count(targetId) AS `count(targetId)`#2153284[3] AS LoF_risk#2153288L]\n   :           :  +- Aggregate [targetId#72, diseaseId#148], [targetId#72, diseaseId#148, pivotfirst(homogenized#5572, count(targetId)#2153274L, GoF_protect, GoF_risk, LoF_protect, LoF_risk, 0, 0) AS __pivot_count(targetId) AS `count(targetId)`#2153284]\n   :           :     +- Aggregate [targetId#72, diseaseId#148, homogenized#5572], [targetId#72, diseaseId#148, homogenized#5572, count(targetId#72) AS count(targetId)#2153274L]\n   :           :        +- Filter (Assessment#5471 IN (noEvaluable,bivalent_risk,null,dispar) = false)\n   :           :           +- Project [datasourceId#71, targetId#72, alleleOrigins#73, allelicRequirements#74, ancestry#75, ancestryId#76, beta#4424, betaConfidenceIntervalLower#78, betaConfidenceIntervalUpper#79, biologicalModelAllelicComposition#80, biologicalModelGeneticBackground#81, biologicalModelId#82, biomarkerName#83, biomarkers#84, biosamplesFromSource#85, clinicalPhase#86L, clinicalSignificances#4586, clinicalStatus#88, cohortDescription#89, cohortId#90, cohortPhenotypes#91, cohortShortName#92, confidence#93, contrast#94, ... 76 more fields]\n   :           :              +- Project [datasourceId#71, targetId#72, alleleOrigins#73, allelicRequirements#74, ancestry#75, ancestryId#76, beta#4424, betaConfidenceIntervalLower#78, betaConfidenceIntervalUpper#79, biologicalModelAllelicComposition#80, biologicalModelGeneticBackground#81, biologicalModelId#82, biomarkerName#83, biomarkers#84, biosamplesFromSource#85, clinicalPhase#86L, clinicalSignificances#4586, clinicalStatus#88, cohortDescription#89, cohortId#90, cohortPhenotypes#91, cohortShortName#92, confidence#93, contrast#94, ... 75 more fields]\n   :           :                 +- Project [datasourceId#71, targetId#72, alleleOrigins#73, allelicRequirements#74, ancestry#75, ancestryId#76, beta#4424, betaConfidenceIntervalLower#78, betaConfidenceIntervalUpper#79, biologicalModelAllelicComposition#80, biologicalModelGeneticBackground#81, biologicalModelId#82, biomarkerName#83, biomarkers#84, biosamplesFromSource#85, clinicalPhase#86L, clinicalSignificances#4586, clinicalStatus#88, cohortDescription#89, cohortId#90, cohortPhenotypes#91, cohortShortName#92, confidence#93, contrast#94, ... 74 more fields]\n   :           :                    +- Project [datasourceId#71, targetId#72, alleleOrigins#73, allelicRequirements#74, ancestry#75, ancestryId#76, beta#4424, betaConfidenceIntervalLower#78, betaConfidenceIntervalUpper#79, biologicalModelAllelicComposition#80, biologicalModelGeneticBackground#81, biologicalModelId#82, biomarkerName#83, biomarkers#84, biosamplesFromSource#85, clinicalPhase#86L, clinicalSignificances#4586, clinicalStatus#88, cohortDescription#89, cohortId#90, cohortPhenotypes#91, cohortShortName#92, confidence#93, contrast#94, ... 73 more fields]\n   :           :                       +- Join LeftOuter, ((drugId2#2720 = drugId#103) AND (targetId2#2726 = targetId#72))\n   :           :                          :- Join LeftOuter, (stMethod#2447 = statisticalMethodOverview#125)\n   :           :                          :  :- Join LeftOuter, (target_id#2708 = targetId#72)\n   :           :                          :  :  :- Project [datasourceId#71, targetId#72, alleleOrigins#73, allelicRequirements#74, ancestry#75, ancestryId#76, beta#4424, betaConfidenceIntervalLower#78, betaConfidenceIntervalUpper#79, biologicalModelAllelicComposition#80, biologicalModelGeneticBackground#81, biologicalModelId#82, biomarkerName#83, biomarkers#84, biosamplesFromSource#85, clinicalPhase#86L, clinicalSignificances#4586, clinicalStatus#88, cohortDescription#89, cohortId#90, cohortPhenotypes#91, cohortShortName#92, confidence#93, contrast#94, ... 59 more fields]\n   :           :                          :  :  :  +- Project [datasourceId#71, targetId#72, alleleOrigins#73, allelicRequirements#74, ancestry#75, ancestryId#76, beta#4424, betaConfidenceIntervalLower#78, betaConfidenceIntervalUpper#79, biologicalModelAllelicComposition#80, biologicalModelGeneticBackground#81, biologicalModelId#82, biomarkerName#83, biomarkers#84, biosamplesFromSource#85, clinicalPhase#86L, clinicalSignificances#4586, clinicalStatus#88, cohortDescription#89, cohortId#90, cohortPhenotypes#91, cohortShortName#92, confidence#93, contrast#94, ... 58 more fields]\n   :           :                          :  :  :     +- Project [datasourceId#71, targetId#72, alleleOrigins#73, allelicRequirements#74, ancestry#75, ancestryId#76, beta#4424, betaConfidenceIntervalLower#78, betaConfidenceIntervalUpper#79, biologicalModelAllelicComposition#80, biologicalModelGeneticBackground#81, biologicalModelId#82, biomarkerName#83, biomarkers#84, biosamplesFromSource#85, clinicalPhase#86L, clinicalSignificances#4586, clinicalStatus#88, cohortDescription#89, cohortId#90, cohortPhenotypes#91, cohortShortName#92, confidence#93, contrast#94, ... 57 more fields]\n   :           :                          :  :  :        +- Generate explode(mutatedSamples#108), true, [exploded#4668]\n   :           :                          :  :  :           +- Project [datasourceId#71, targetId#72, alleleOrigins#73, allelicRequirements#74, ancestry#75, ancestryId#76, beta#4424, betaConfidenceIntervalLower#78, betaConfidenceIntervalUpper#79, biologicalModelAllelicComposition#80, biologicalModelGeneticBackground#81, biologicalModelId#82, biomarkerName#83, biomarkers#84, biosamplesFromSource#85, clinicalPhase#86L, concat_ws(,, clinicalSignificances#87) AS clinicalSignificances#4586, clinicalStatus#88, cohortDescription#89, cohortId#90, cohortPhenotypes#91, cohortShortName#92, confidence#93, contrast#94, ... 56 more fields]\n   :           :                          :  :  :              +- Project [datasourceId#71, targetId#72, alleleOrigins#73, allelicRequirements#74, ancestry#75, ancestryId#76, beta#4424, betaConfidenceIntervalLower#78, betaConfidenceIntervalUpper#79, biologicalModelAllelicComposition#80, biologicalModelGeneticBackground#81, biologicalModelId#82, biomarkerName#83, biomarkers#84, biosamplesFromSource#85, clinicalPhase#86L, clinicalSignificances#87, clinicalStatus#88, cohortDescription#89, cohortId#90, cohortPhenotypes#91, cohortShortName#92, confidence#93, contrast#94, ... 56 more fields]\n   :           :                          :  :  :                 +- Project [datasourceId#71, targetId#72, alleleOrigins#73, allelicRequirements#74, ancestry#75, ancestryId#76, cast(beta#77 as float) AS beta#4424, betaConfidenceIntervalLower#78, betaConfidenceIntervalUpper#79, biologicalModelAllelicComposition#80, biologicalModelGeneticBackground#81, biologicalModelId#82, biomarkerName#83, biomarkers#84, biosamplesFromSource#85, clinicalPhase#86L, clinicalSignificances#87, clinicalStatus#88, cohortDescription#89, cohortId#90, cohortPhenotypes#91, cohortShortName#92, confidence#93, contrast#94, ... 56 more fields]\n   :           :                          :  :  :                    +- Union false, false\n   :           :                          :  :  :                       :- Relation [datasourceId#71,targetId#72,alleleOrigins#73,allelicRequirements#74,ancestry#75,ancestryId#76,beta#77,betaConfidenceIntervalLower#78,betaConfidenceIntervalUpper#79,biologicalModelAllelicComposition#80,biologicalModelGeneticBackground#81,biologicalModelId#82,biomarkerName#83,biomarkers#84,biosamplesFromSource#85,clinicalPhase#86L,clinicalSignificances#87,clinicalStatus#88,cohortDescription#89,cohortId#90,cohortPhenotypes#91,cohortShortName#92,confidence#93,contrast#94,... 56 more fields] parquet\n   :           :                          :  :  :                       :- Project [datasourceId#231, targetId#232, alleleOrigins#233, allelicRequirements#234, ancestry#235, ancestryId#236, beta#237, betaConfidenceIntervalLower#238, betaConfidenceIntervalUpper#239, biologicalModelAllelicComposition#240, biologicalModelGeneticBackground#241, biologicalModelId#242, biomarkerName#243, biomarkers#244, biosamplesFromSource#245, clinicalPhase#246L, clinicalSignificances#247, clinicalStatus#248, cohortDescription#249, cohortId#250, cohortPhenotypes#251, cohortShortName#252, confidence#253, contrast#254, ... 56 more fields]\n   :           :                          :  :  :                       :  +- Relation [datasourceId#231,targetId#232,alleleOrigins#233,allelicRequirements#234,ancestry#235,ancestryId#236,beta#237,betaConfidenceIntervalLower#238,betaConfidenceIntervalUpper#239,biologicalModelAllelicComposition#240,biologicalModelGeneticBackground#241,biologicalModelId#242,biomarkerName#243,biomarkers#244,biosamplesFromSource#245,clinicalPhase#246L,clinicalSignificances#247,clinicalStatus#248,cohortDescription#249,cohortId#250,cohortPhenotypes#251,cohortShortName#252,confidence#253,contrast#254,... 56 more fields] parquet\n   :           :                          :  :  :                       :- Project [datasourceId#391, targetId#392, alleleOrigins#393, allelicRequirements#394, ancestry#395, ancestryId#396, beta#397, betaConfidenceIntervalLower#398, betaConfidenceIntervalUpper#399, biologicalModelAllelicComposition#400, biologicalModelGeneticBackground#401, biologicalModelId#402, biomarkerName#403, biomarkers#404, biosamplesFromSource#405, clinicalPhase#406L, clinicalSignificances#407, clinicalStatus#408, cohortDescription#409, cohortId#410, cohortPhenotypes#411, cohortShortName#412, confidence#413, contrast#414, ... 56 more fields]\n   :           :                          :  :  :                       :  +- Relation [datasourceId#391,targetId#392,alleleOrigins#393,allelicRequirements#394,ancestry#395,ancestryId#396,beta#397,betaConfidenceIntervalLower#398,betaConfidenceIntervalUpper#399,biologicalModelAllelicComposition#400,biologicalModelGeneticBackground#401,biologicalModelId#402,biomarkerName#403,biomarkers#404,biosamplesFromSource#405,clinicalPhase#406L,clinicalSignificances#407,clinicalStatus#408,cohortDescription#409,cohortId#410,cohortPhenotypes#411,cohortShortName#412,confidence#413,contrast#414,... 56 more fields] parquet\n   :           :                          :  :  :                       :- Project [datasourceId#551, targetId#552, alleleOrigins#553, allelicRequirements#554, ancestry#555, ancestryId#556, beta#557, betaConfidenceIntervalLower#558, betaConfidenceIntervalUpper#559, biologicalModelAllelicComposition#560, biologicalModelGeneticBackground#561, biologicalModelId#562, biomarkerName#563, biomarkers#564, biosamplesFromSource#565, clinicalPhase#566L, clinicalSignificances#567, clinicalStatus#568, cohortDescription#569, cohortId#570, cohortPhenotypes#571, cohortShortName#572, confidence#573, contrast#574, ... 56 more fields]\n   :           :                          :  :  :                       :  +- Relation [datasourceId#551,targetId#552,alleleOrigins#553,allelicRequirements#554,ancestry#555,ancestryId#556,beta#557,betaConfidenceIntervalLower#558,betaConfidenceIntervalUpper#559,biologicalModelAllelicComposition#560,biologicalModelGeneticBackground#561,biologicalModelId#562,biomarkerName#563,biomarkers#564,biosamplesFromSource#565,clinicalPhase#566L,clinicalSignificances#567,clinicalStatus#568,cohortDescription#569,cohortId#570,cohortPhenotypes#571,cohortShortName#572,confidence#573,contrast#574,... 56 more fields] parquet\n   :           :                          :  :  :                       :- Project [datasourceId#871, targetId#872, alleleOrigins#873, allelicRequirements#874, ancestry#875, ancestryId#876, beta#877, betaConfidenceIntervalLower#878, betaConfidenceIntervalUpper#879, biologicalModelAllelicComposition#880, biologicalModelGeneticBackground#881, biologicalModelId#882, biomarkerName#883, biomarkers#884, biosamplesFromSource#885, clinicalPhase#886L, clinicalSignificances#887, clinicalStatus#888, cohortDescription#889, cohortId#890, cohortPhenotypes#891, cohortShortName#892, confidence#893, contrast#894, ... 56 more fields]\n   :           :                          :  :  :                       :  +- Relation [datasourceId#871,targetId#872,alleleOrigins#873,allelicRequirements#874,ancestry#875,ancestryId#876,beta#877,betaConfidenceIntervalLower#878,betaConfidenceIntervalUpper#879,biologicalModelAllelicComposition#880,biologicalModelGeneticBackground#881,biologicalModelId#882,biomarkerName#883,biomarkers#884,biosamplesFromSource#885,clinicalPhase#886L,clinicalSignificances#887,clinicalStatus#888,cohortDescription#889,cohortId#890,cohortPhenotypes#891,cohortShortName#892,confidence#893,contrast#894,... 56 more fields] parquet\n   :           :                          :  :  :                       :- Project [datasourceId#1351, targetId#1352, alleleOrigins#1353, allelicRequirements#1354, ancestry#1355, ancestryId#1356, beta#1357, betaConfidenceIntervalLower#1358, betaConfidenceIntervalUpper#1359, biologicalModelAllelicComposition#1360, biologicalModelGeneticBackground#1361, biologicalModelId#1362, biomarkerName#1363, biomarkers#1364, biosamplesFromSource#1365, clinicalPhase#1366L, clinicalSignificances#1367, clinicalStatus#1368, cohortDescription#1369, cohortId#1370, cohortPhenotypes#1371, cohortShortName#1372, confidence#1373, contrast#1374, ... 56 more fields]\n   :           :                          :  :  :                       :  +- Relation [datasourceId#1351,targetId#1352,alleleOrigins#1353,allelicRequirements#1354,ancestry#1355,ancestryId#1356,beta#1357,betaConfidenceIntervalLower#1358,betaConfidenceIntervalUpper#1359,biologicalModelAllelicComposition#1360,biologicalModelGeneticBackground#1361,biologicalModelId#1362,biomarkerName#1363,biomarkers#1364,biosamplesFromSource#1365,clinicalPhase#1366L,clinicalSignificances#1367,clinicalStatus#1368,cohortDescription#1369,cohortId#1370,cohortPhenotypes#1371,cohortShortName#1372,confidence#1373,contrast#1374,... 56 more fields] parquet\n   :           :                          :  :  :                       :- Project [datasourceId#1671, targetId#1672, alleleOrigins#1673, allelicRequirements#1674, ancestry#1675, ancestryId#1676, beta#1677, betaConfidenceIntervalLower#1678, betaConfidenceIntervalUpper#1679, biologicalModelAllelicComposition#1680, biologicalModelGeneticBackground#1681, biologicalModelId#1682, biomarkerName#1683, biomarkers#1684, biosamplesFromSource#1685, clinicalPhase#1686L, clinicalSignificances#1687, clinicalStatus#1688, cohortDescription#1689, cohortId#1690, cohortPhenotypes#1691, cohortShortName#1692, confidence#1693, contrast#1694, ... 56 more fields]\n   :           :                          :  :  :                       :  +- Relation [datasourceId#1671,targetId#1672,alleleOrigins#1673,allelicRequirements#1674,ancestry#1675,ancestryId#1676,beta#1677,betaConfidenceIntervalLower#1678,betaConfidenceIntervalUpper#1679,biologicalModelAllelicComposition#1680,biologicalModelGeneticBackground#1681,biologicalModelId#1682,biomarkerName#1683,biomarkers#1684,biosamplesFromSource#1685,clinicalPhase#1686L,clinicalSignificances#1687,clinicalStatus#1688,cohortDescription#1689,cohortId#1690,cohortPhenotypes#1691,cohortShortName#1692,confidence#1693,contrast#1694,... 56 more fields] parquet\n   :           :                          :  :  :                       :- Project [datasourceId#1831, targetId#1832, alleleOrigins#1833, allelicRequirements#1834, ancestry#1835, ancestryId#1836, beta#1837, betaConfidenceIntervalLower#1838, betaConfidenceIntervalUpper#1839, biologicalModelAllelicComposition#1840, biologicalModelGeneticBackground#1841, biologicalModelId#1842, biomarkerName#1843, biomarkers#1844, biosamplesFromSource#1845, clinicalPhase#1846L, clinicalSignificances#1847, clinicalStatus#1848, cohortDescription#1849, cohortId#1850, cohortPhenotypes#1851, cohortShortName#1852, confidence#1853, contrast#1854, ... 56 more fields]\n   :           :                          :  :  :                       :  +- Relation [datasourceId#1831,targetId#1832,alleleOrigins#1833,allelicRequirements#1834,ancestry#1835,ancestryId#1836,beta#1837,betaConfidenceIntervalLower#1838,betaConfidenceIntervalUpper#1839,biologicalModelAllelicComposition#1840,biologicalModelGeneticBackground#1841,biologicalModelId#1842,biomarkerName#1843,biomarkers#1844,biosamplesFromSource#1845,clinicalPhase#1846L,clinicalSignificances#1847,clinicalStatus#1848,cohortDescription#1849,cohortId#1850,cohortPhenotypes#1851,cohortShortName#1852,confidence#1853,contrast#1854,... 56 more fields] parquet\n   :           :                          :  :  :                       :- Project [datasourceId#1991, targetId#1992, alleleOrigins#1993, allelicRequirements#1994, ancestry#1995, ancestryId#1996, beta#1997, betaConfidenceIntervalLower#1998, betaConfidenceIntervalUpper#1999, biologicalModelAllelicComposition#2000, biologicalModelGeneticBackground#2001, biologicalModelId#2002, biomarkerName#2003, biomarkers#2004, biosamplesFromSource#2005, clinicalPhase#2006L, clinicalSignificances#2007, clinicalStatus#2008, cohortDescription#2009, cohortId#2010, cohortPhenotypes#2011, cohortShortName#2012, confidence#2013, contrast#2014, ... 56 more fields]\n   :           :                          :  :  :                       :  +- Relation [datasourceId#1991,targetId#1992,alleleOrigins#1993,allelicRequirements#1994,ancestry#1995,ancestryId#1996,beta#1997,betaConfidenceIntervalLower#1998,betaConfidenceIntervalUpper#1999,biologicalModelAllelicComposition#2000,biologicalModelGeneticBackground#2001,biologicalModelId#2002,biomarkerName#2003,biomarkers#2004,biosamplesFromSource#2005,clinicalPhase#2006L,clinicalSignificances#2007,clinicalStatus#2008,cohortDescription#2009,cohortId#2010,cohortPhenotypes#2011,cohortShortName#2012,confidence#2013,contrast#2014,... 56 more fields] parquet\n   :           :                          :  :  :                       +- Project [datasourceId#2151, targetId#2152, alleleOrigins#2153, allelicRequirements#2154, ancestry#2155, ancestryId#2156, beta#2157, betaConfidenceIntervalLower#2158, betaConfidenceIntervalUpper#2159, biologicalModelAllelicComposition#2160, biologicalModelGeneticBackground#2161, biologicalModelId#2162, biomarkerName#2163, biomarkers#2164, biosamplesFromSource#2165, clinicalPhase#2166L, clinicalSignificances#2167, clinicalStatus#2168, cohortDescription#2169, cohortId#2170, cohortPhenotypes#2171, cohortShortName#2172, confidence#2173, contrast#2174, ... 56 more fields]\n   :           :                          :  :  :                          +- Relation [datasourceId#2151,targetId#2152,alleleOrigins#2153,allelicRequirements#2154,ancestry#2155,ancestryId#2156,beta#2157,betaConfidenceIntervalLower#2158,betaConfidenceIntervalUpper#2159,biologicalModelAllelicComposition#2160,biologicalModelGeneticBackground#2161,biologicalModelId#2162,biomarkerName#2163,biomarkers#2164,biosamplesFromSource#2165,clinicalPhase#2166L,clinicalSignificances#2167,clinicalStatus#2168,cohortDescription#2169,cohortId#2170,cohortPhenotypes#2171,cohortShortName#2172,confidence#2173,contrast#2174,... 56 more fields] parquet\n   :           :                          :  :  +- Project [id#2311 AS target_id#2708, approvedSymbol#2312, description#2693, description_splited#2697, TSorOncogene#2702]\n   :           :                          :  :     +- Project [id#2311, approvedSymbol#2312, description#2693, description_splited#2697, CASE WHEN (RLIKE(description_splited#2697, ncogene) AND RLIKE(description_splited#2697, TSG)) THEN bivalent WHEN RLIKE(description_splited#2697, ncogene(\\s|$)) THEN oncogene WHEN RLIKE(description_splited#2697, TSG(\\s|$)) THEN TSG ELSE noEvaluable END AS TSorOncogene#2702]\n   :           :                          :  :        +- Project [id#2311, approvedSymbol#2312, description#2693, concat_ws(,, description#2693) AS description_splited#2697]\n   :           :                          :  :           +- Aggregate [id#2311, approvedSymbol#2312], [id#2311, approvedSymbol#2312, collect_set(description#2685, 0, 0) AS description#2693]\n   :           :                          :  :              +- Filter description#2685 IN (TSG,oncogene,Oncogene,oncogene,oncogene,TSG,TSG,oncogene,fusion,oncogene,oncogene,fusion)\n   :           :                          :  :                 +- Project [id#2311, approvedSymbol#2312, col#2680.description AS description#2685]\n   :           :                          :  :                    +- Project [id#2311, approvedSymbol#2312, col#2680]\n   :           :                          :  :                       +- Generate explode(hallmarks#2321.attributes), true, [col#2680]\n   :           :                          :  :                          +- Relation [id#2311,approvedSymbol#2312,biotype#2313,transcriptIds#2314,canonicalTranscript#2315,canonicalExons#2316,genomicLocation#2317,alternativeGenes#2318,approvedName#2319,go#2320,hallmarks#2321,synonyms#2322,symbolSynonyms#2323,nameSynonyms#2324,functionDescriptions#2325,subcellularLocations#2326,targetClass#2327,obsoleteSymbols#2328,obsoleteNames#2329,constraint#2330,tep#2331,proteinIds#2332,dbXrefs#2333,chemicalProbes#2334,... 4 more fields] parquet\n   :           :                          :  +- Project [statisticalMethodOverview#2439 AS stMethod#2447, counts#2440, comment#2441, whatToDo#2442]\n   :           :                          :     +- Relation [statisticalMethodOverview#2439,counts#2440,comment#2441,whatToDo#2442] csv\n   :           :                          +- Deduplicate [targetId2#2726, drugId2#2720, actionType#2408, mechanismOfAction#2409]\n   :           :                             +- Project [targetId2#2726, drugId2#2720, actionType#2408, mechanismOfAction#2409]\n   :           :                                +- Generate explode(targets#2413), true, [targetId2#2726]\n   :           :                                   +- Project [drugId2#2720, actionType#2408, mechanismOfAction#2409, targets#2413]\n   :           :                                      +- Generate explode(chemblIds#2410), true, [drugId2#2720]\n   :           :                                         +- Project [chemblIds#2410, actionType#2408, mechanismOfAction#2409, targets#2413]\n   :           :                                            +- Relation [actionType#2408,mechanismOfAction#2409,chemblIds#2410,targetName#2411,targetType#2412,targets#2413,references#2414] parquet\n   :           +- Project [targetId3#361219, diseaseId3#361221, filterOut#515263]\n   :              +- Project [targetId3#361219, diseaseId3#361221, targetId#515249L, datasourceId#515251, size#515257, out AS filterOut#515263]\n   :                 +- Sort [size#515257 DESC NULLS LAST], true\n   :                    +- Project [targetId3#361219, diseaseId3#361221, targetId#515249L, datasourceId#515251, size(datasourceId#515251, true) AS size#515257]\n   :                       +- Aggregate [targetId3#361219, diseaseId3#361221], [targetId3#361219, diseaseId3#361221, count(targetId3#361219) AS targetId#515249L, collect_set(datasourceId3#361220, 0, 0) AS datasourceId#515251]\n   :                          +- Filter (coherency#361233 = dispar)\n   :                             +- Project [targetId3#361219, datasourceId3#361220, diseaseId3#361221, GoF_risk#361222, LoF_protect#361223, LoF_risk#361224, GoF_protect#361225, CASE WHEN (isnotnull(GoF_risk#361222) AND isnotnull(LoF_risk#361224)) THEN CASE WHEN NOT ((GoF_risk#361222 - LoF_risk#361224) = GoF_risk#361222) THEN dispar END WHEN (isnotnull(LoF_protect#361223) AND isnotnull(LoF_risk#361224)) THEN CASE WHEN NOT ((LoF_protect#361223 - LoF_risk#361224) = LoF_protect#361223) THEN dispar END WHEN (isnotnull(GoF_protect#361225) AND isnotnull(GoF_risk#361222)) THEN CASE WHEN NOT ((GoF_protect#361225 - GoF_risk#361222) = GoF_protect#361225) THEN dispar END WHEN (isnotnull(GoF_protect#361225) AND isnotnull(LoF_protect#361223)) THEN CASE WHEN NOT ((GoF_protect#361225 - LoF_protect#361223) = GoF_protect#361225) THEN dispar END END AS coherency#361233]\n   :                                +- Project [targetId#2153307 AS targetId3#361219, datasourceId#2153306 AS datasourceId3#361220, diseaseId#2153383 AS diseaseId3#361221, cast(GoF_risk#361201L as int) AS GoF_risk#361222, cast(LoF_protect#361202L as int) AS LoF_protect#361223, cast(LoF_risk#361203L as int) AS LoF_risk#361224, cast(GoF_protect#361200L as int) AS GoF_protect#361225]\n   :                                   +- Project [targetId#2153307, diseaseId#2153383, datasourceId#2153306, __pivot_count(targetId) AS `count(targetId)`#361199[0] AS GoF_protect#361200L, __pivot_count(targetId) AS `count(targetId)`#361199[1] AS GoF_risk#361201L, __pivot_count(targetId) AS `count(targetId)`#361199[2] AS LoF_protect#361202L, __pivot_count(targetId) AS `count(targetId)`#361199[3] AS LoF_risk#361203L]\n   :                                      +- Aggregate [targetId#2153307, diseaseId#2153383, datasourceId#2153306], [targetId#2153307, diseaseId#2153383, datasourceId#2153306, pivotfirst(homogenized#5572, count(targetId)#361189L, GoF_protect, GoF_risk, LoF_protect, LoF_risk, 0, 0) AS __pivot_count(targetId) AS `count(targetId)`#361199]\n   :                                         +- Aggregate [targetId#2153307, diseaseId#2153383, datasourceId#2153306, homogenized#5572], [targetId#2153307, diseaseId#2153383, datasourceId#2153306, homogenized#5572, count(targetId#2153307) AS count(targetId)#361189L]\n   :                                            +- Filter (Assessment#5471 IN (noEvaluable,bivalent_risk,null,dispar) = false)\n   :                                               +- Project [datasourceId#2153306, targetId#2153307, alleleOrigins#2153308, allelicRequirements#2153309, ancestry#2153310, ancestryId#2153311, beta#4424, betaConfidenceIntervalLower#2153313, betaConfidenceIntervalUpper#2153314, biologicalModelAllelicComposition#2153315, biologicalModelGeneticBackground#2153316, biologicalModelId#2153317, biomarkerName#2153318, biomarkers#2153319, biosamplesFromSource#2153320, clinicalPhase#2153321L, clinicalSignificances#4586, clinicalStatus#2153323, cohortDescription#2153324, cohortId#2153325, cohortPhenotypes#2153326, cohortShortName#2153327, confidence#2153328, contrast#2153329, ... 76 more fields]\n   :                                                  +- Project [datasourceId#2153306, targetId#2153307, alleleOrigins#2153308, allelicRequirements#2153309, ancestry#2153310, ancestryId#2153311, beta#4424, betaConfidenceIntervalLower#2153313, betaConfidenceIntervalUpper#2153314, biologicalModelAllelicComposition#2153315, biologicalModelGeneticBackground#2153316, biologicalModelId#2153317, biomarkerName#2153318, biomarkers#2153319, biosamplesFromSource#2153320, clinicalPhase#2153321L, clinicalSignificances#4586, clinicalStatus#2153323, cohortDescription#2153324, cohortId#2153325, cohortPhenotypes#2153326, cohortShortName#2153327, confidence#2153328, contrast#2153329, ... 75 more fields]\n   :                                                     +- Project [datasourceId#2153306, targetId#2153307, alleleOrigins#2153308, allelicRequirements#2153309, ancestry#2153310, ancestryId#2153311, beta#4424, betaConfidenceIntervalLower#2153313, betaConfidenceIntervalUpper#2153314, biologicalModelAllelicComposition#2153315, biologicalModelGeneticBackground#2153316, biologicalModelId#2153317, biomarkerName#2153318, biomarkers#2153319, biosamplesFromSource#2153320, clinicalPhase#2153321L, clinicalSignificances#4586, clinicalStatus#2153323, cohortDescription#2153324, cohortId#2153325, cohortPhenotypes#2153326, cohortShortName#2153327, confidence#2153328, contrast#2153329, ... 74 more fields]\n   :                                                        +- Project [datasourceId#2153306, targetId#2153307, alleleOrigins#2153308, allelicRequirements#2153309, ancestry#2153310, ancestryId#2153311, beta#4424, betaConfidenceIntervalLower#2153313, betaConfidenceIntervalUpper#2153314, biologicalModelAllelicComposition#2153315, biologicalModelGeneticBackground#2153316, biologicalModelId#2153317, biomarkerName#2153318, biomarkers#2153319, biosamplesFromSource#2153320, clinicalPhase#2153321L, clinicalSignificances#4586, clinicalStatus#2153323, cohortDescription#2153324, cohortId#2153325, cohortPhenotypes#2153326, cohortShortName#2153327, confidence#2153328, contrast#2153329, ... 73 more fields]\n   :                                                           +- Join LeftOuter, ((drugId2#2720 = drugId#2153338) AND (targetId2#2726 = targetId#2153307))\n   :                                                              :- Join LeftOuter, (stMethod#2447 = statisticalMethodOverview#2153360)\n   :                                                              :  :- Join LeftOuter, (target_id#2708 = targetId#2153307)\n   :                                                              :  :  :- Project [datasourceId#2153306, targetId#2153307, alleleOrigins#2153308, allelicRequirements#2153309, ancestry#2153310, ancestryId#2153311, beta#4424, betaConfidenceIntervalLower#2153313, betaConfidenceIntervalUpper#2153314, biologicalModelAllelicComposition#2153315, biologicalModelGeneticBackground#2153316, biologicalModelId#2153317, biomarkerName#2153318, biomarkers#2153319, biosamplesFromSource#2153320, clinicalPhase#2153321L, clinicalSignificances#4586, clinicalStatus#2153323, cohortDescription#2153324, cohortId#2153325, cohortPhenotypes#2153326, cohortShortName#2153327, confidence#2153328, contrast#2153329, ... 59 more fields]\n   :                                                              :  :  :  +- Project [datasourceId#2153306, targetId#2153307, alleleOrigins#2153308, allelicRequirements#2153309, ancestry#2153310, ancestryId#2153311, beta#4424, betaConfidenceIntervalLower#2153313, betaConfidenceIntervalUpper#2153314, biologicalModelAllelicComposition#2153315, biologicalModelGeneticBackground#2153316, biologicalModelId#2153317, biomarkerName#2153318, biomarkers#2153319, biosamplesFromSource#2153320, clinicalPhase#2153321L, clinicalSignificances#4586, clinicalStatus#2153323, cohortDescription#2153324, cohortId#2153325, cohortPhenotypes#2153326, cohortShortName#2153327, confidence#2153328, contrast#2153329, ... 58 more fields]\n   :                                                              :  :  :     +- Project [datasourceId#2153306, targetId#2153307, alleleOrigins#2153308, allelicRequirements#2153309, ancestry#2153310, ancestryId#2153311, beta#4424, betaConfidenceIntervalLower#2153313, betaConfidenceIntervalUpper#2153314, biologicalModelAllelicComposition#2153315, biologicalModelGeneticBackground#2153316, biologicalModelId#2153317, biomarkerName#2153318, biomarkers#2153319, biosamplesFromSource#2153320, clinicalPhase#2153321L, clinicalSignificances#4586, clinicalStatus#2153323, cohortDescription#2153324, cohortId#2153325, cohortPhenotypes#2153326, cohortShortName#2153327, confidence#2153328, contrast#2153329, ... 57 more fields]\n   :                                                              :  :  :        +- Generate explode(mutatedSamples#2153343), true, [exploded#4668]\n   :                                                              :  :  :           +- Project [datasourceId#2153306, targetId#2153307, alleleOrigins#2153308, allelicRequirements#2153309, ancestry#2153310, ancestryId#2153311, beta#4424, betaConfidenceIntervalLower#2153313, betaConfidenceIntervalUpper#2153314, biologicalModelAllelicComposition#2153315, biologicalModelGeneticBackground#2153316, biologicalModelId#2153317, biomarkerName#2153318, biomarkers#2153319, biosamplesFromSource#2153320, clinicalPhase#2153321L, concat_ws(,, clinicalSignificances#2153322) AS clinicalSignificances#4586, clinicalStatus#2153323, cohortDescription#2153324, cohortId#2153325, cohortPhenotypes#2153326, cohortShortName#2153327, confidence#2153328, contrast#2153329, ... 56 more fields]\n   :                                                              :  :  :              +- Project [datasourceId#2153306, targetId#2153307, alleleOrigins#2153308, allelicRequirements#2153309, ancestry#2153310, ancestryId#2153311, beta#4424, betaConfidenceIntervalLower#2153313, betaConfidenceIntervalUpper#2153314, biologicalModelAllelicComposition#2153315, biologicalModelGeneticBackground#2153316, biologicalModelId#2153317, biomarkerName#2153318, biomarkers#2153319, biosamplesFromSource#2153320, clinicalPhase#2153321L, clinicalSignificances#2153322, clinicalStatus#2153323, cohortDescription#2153324, cohortId#2153325, cohortPhenotypes#2153326, cohortShortName#2153327, confidence#2153328, contrast#2153329, ... 56 more fields]\n   :                                                              :  :  :                 +- Project [datasourceId#2153306, targetId#2153307, alleleOrigins#2153308, allelicRequirements#2153309, ancestry#2153310, ancestryId#2153311, cast(beta#2153312 as float) AS beta#4424, betaConfidenceIntervalLower#2153313, betaConfidenceIntervalUpper#2153314, biologicalModelAllelicComposition#2153315, biologicalModelGeneticBackground#2153316, biologicalModelId#2153317, biomarkerName#2153318, biomarkers#2153319, biosamplesFromSource#2153320, clinicalPhase#2153321L, clinicalSignificances#2153322, clinicalStatus#2153323, cohortDescription#2153324, cohortId#2153325, cohortPhenotypes#2153326, cohortShortName#2153327, confidence#2153328, contrast#2153329, ... 56 more fields]\n   :                                                              :  :  :                    +- Union false, false\n   :                                                              :  :  :                       :- Relation [datasourceId#2153306,targetId#2153307,alleleOrigins#2153308,allelicRequirements#2153309,ancestry#2153310,ancestryId#2153311,beta#2153312,betaConfidenceIntervalLower#2153313,betaConfidenceIntervalUpper#2153314,biologicalModelAllelicComposition#2153315,biologicalModelGeneticBackground#2153316,biologicalModelId#2153317,biomarkerName#2153318,biomarkers#2153319,biosamplesFromSource#2153320,clinicalPhase#2153321L,clinicalSignificances#2153322,clinicalStatus#2153323,cohortDescription#2153324,cohortId#2153325,cohortPhenotypes#2153326,cohortShortName#2153327,confidence#2153328,contrast#2153329,... 56 more fields] parquet\n   :                                                              :  :  :                       :- Project [datasourceId#2153386, targetId#2153387, alleleOrigins#2153388, allelicRequirements#2153389, ancestry#2153390, ancestryId#2153391, beta#2153392, betaConfidenceIntervalLower#2153393, betaConfidenceIntervalUpper#2153394, biologicalModelAllelicComposition#2153395, biologicalModelGeneticBackground#2153396, biologicalModelId#2153397, biomarkerName#2153398, biomarkers#2153399, biosamplesFromSource#2153400, clinicalPhase#2153401L, clinicalSignificances#2153402, clinicalStatus#2153403, cohortDescription#2153404, cohortId#2153405, cohortPhenotypes#2153406, cohortShortName#2153407, confidence#2153408, contrast#2153409, ... 56 more fields]\n   :                                                              :  :  :                       :  +- Relation [datasourceId#2153386,targetId#2153387,alleleOrigins#2153388,allelicRequirements#2153389,ancestry#2153390,ancestryId#2153391,beta#2153392,betaConfidenceIntervalLower#2153393,betaConfidenceIntervalUpper#2153394,biologicalModelAllelicComposition#2153395,biologicalModelGeneticBackground#2153396,biologicalModelId#2153397,biomarkerName#2153398,biomarkers#2153399,biosamplesFromSource#2153400,clinicalPhase#2153401L,clinicalSignificances#2153402,clinicalStatus#2153403,cohortDescription#2153404,cohortId#2153405,cohortPhenotypes#2153406,cohortShortName#2153407,confidence#2153408,contrast#2153409,... 56 more fields] parquet\n   :                                                              :  :  :                       :- Project [datasourceId#2153466, targetId#2153467, alleleOrigins#2153468, allelicRequirements#2153469, ancestry#2153470, ancestryId#2153471, beta#2153472, betaConfidenceIntervalLower#2153473, betaConfidenceIntervalUpper#2153474, biologicalModelAllelicComposition#2153475, biologicalModelGeneticBackground#2153476, biologicalModelId#2153477, biomarkerName#2153478, biomarkers#2153479, biosamplesFromSource#2153480, clinicalPhase#2153481L, clinicalSignificances#2153482, clinicalStatus#2153483, cohortDescription#2153484, cohortId#2153485, cohortPhenotypes#2153486, cohortShortName#2153487, confidence#2153488, contrast#2153489, ... 56 more fields]\n   :                                                              :  :  :                       :  +- Relation [datasourceId#2153466,targetId#2153467,alleleOrigins#2153468,allelicRequirements#2153469,ancestry#2153470,ancestryId#2153471,beta#2153472,betaConfidenceIntervalLower#2153473,betaConfidenceIntervalUpper#2153474,biologicalModelAllelicComposition#2153475,biologicalModelGeneticBackground#2153476,biologicalModelId#2153477,biomarkerName#2153478,biomarkers#2153479,biosamplesFromSource#2153480,clinicalPhase#2153481L,clinicalSignificances#2153482,clinicalStatus#2153483,cohortDescription#2153484,cohortId#2153485,cohortPhenotypes#2153486,cohortShortName#2153487,confidence#2153488,contrast#2153489,... 56 more fields] parquet\n   :                                                              :  :  :                       :- Project [datasourceId#2153546, targetId#2153547, alleleOrigins#2153548, allelicRequirements#2153549, ancestry#2153550, ancestryId#2153551, beta#2153552, betaConfidenceIntervalLower#2153553, betaConfidenceIntervalUpper#2153554, biologicalModelAllelicComposition#2153555, biologicalModelGeneticBackground#2153556, biologicalModelId#2153557, biomarkerName#2153558, biomarkers#2153559, biosamplesFromSource#2153560, clinicalPhase#2153561L, clinicalSignificances#2153562, clinicalStatus#2153563, cohortDescription#2153564, cohortId#2153565, cohortPhenotypes#2153566, cohortShortName#2153567, confidence#2153568, contrast#2153569, ... 56 more fields]\n   :                                                              :  :  :                       :  +- Relation [datasourceId#2153546,targetId#2153547,alleleOrigins#2153548,allelicRequirements#2153549,ancestry#2153550,ancestryId#2153551,beta#2153552,betaConfidenceIntervalLower#2153553,betaConfidenceIntervalUpper#2153554,biologicalModelAllelicComposition#2153555,biologicalModelGeneticBackground#2153556,biologicalModelId#2153557,biomarkerName#2153558,biomarkers#2153559,biosamplesFromSource#2153560,clinicalPhase#2153561L,clinicalSignificances#2153562,clinicalStatus#2153563,cohortDescription#2153564,cohortId#2153565,cohortPhenotypes#2153566,cohortShortName#2153567,confidence#2153568,contrast#2153569,... 56 more fields] parquet\n   :                                                              :  :  :                       :- Project [datasourceId#2153626, targetId#2153627, alleleOrigins#2153628, allelicRequirements#2153629, ancestry#2153630, ancestryId#2153631, beta#2153632, betaConfidenceIntervalLower#2153633, betaConfidenceIntervalUpper#2153634, biologicalModelAllelicComposition#2153635, biologicalModelGeneticBackground#2153636, biologicalModelId#2153637, biomarkerName#2153638, biomarkers#2153639, biosamplesFromSource#2153640, clinicalPhase#2153641L, clinicalSignificances#2153642, clinicalStatus#2153643, cohortDescription#2153644, cohortId#2153645, cohortPhenotypes#2153646, cohortShortName#2153647, confidence#2153648, contrast#2153649, ... 56 more fields]\n   :                                                              :  :  :                       :  +- Relation [datasourceId#2153626,targetId#2153627,alleleOrigins#2153628,allelicRequirements#2153629,ancestry#2153630,ancestryId#2153631,beta#2153632,betaConfidenceIntervalLower#2153633,betaConfidenceIntervalUpper#2153634,biologicalModelAllelicComposition#2153635,biologicalModelGeneticBackground#2153636,biologicalModelId#2153637,biomarkerName#2153638,biomarkers#2153639,biosamplesFromSource#2153640,clinicalPhase#2153641L,clinicalSignificances#2153642,clinicalStatus#2153643,cohortDescription#2153644,cohortId#2153645,cohortPhenotypes#2153646,cohortShortName#2153647,confidence#2153648,contrast#2153649,... 56 more fields] parquet\n   :                                                              :  :  :                       :- Project [datasourceId#2153706, targetId#2153707, alleleOrigins#2153708, allelicRequirements#2153709, ancestry#2153710, ancestryId#2153711, beta#2153712, betaConfidenceIntervalLower#2153713, betaConfidenceIntervalUpper#2153714, biologicalModelAllelicComposition#2153715, biologicalModelGeneticBackground#2153716, biologicalModelId#2153717, biomarkerName#2153718, biomarkers#2153719, biosamplesFromSource#2153720, clinicalPhase#2153721L, clinicalSignificances#2153722, clinicalStatus#2153723, cohortDescription#2153724, cohortId#2153725, cohortPhenotypes#2153726, cohortShortName#2153727, confidence#2153728, contrast#2153729, ... 56 more fields]\n   :                                                              :  :  :                       :  +- Relation [datasourceId#2153706,targetId#2153707,alleleOrigins#2153708,allelicRequirements#2153709,ancestry#2153710,ancestryId#2153711,beta#2153712,betaConfidenceIntervalLower#2153713,betaConfidenceIntervalUpper#2153714,biologicalModelAllelicComposition#2153715,biologicalModelGeneticBackground#2153716,biologicalModelId#2153717,biomarkerName#2153718,biomarkers#2153719,biosamplesFromSource#2153720,clinicalPhase#2153721L,clinicalSignificances#2153722,clinicalStatus#2153723,cohortDescription#2153724,cohortId#2153725,cohortPhenotypes#2153726,cohortShortName#2153727,confidence#2153728,contrast#2153729,... 56 more fields] parquet\n   :                                                              :  :  :                       :- Project [datasourceId#2153786, targetId#2153787, alleleOrigins#2153788, allelicRequirements#2153789, ancestry#2153790, ancestryId#2153791, beta#2153792, betaConfidenceIntervalLower#2153793, betaConfidenceIntervalUpper#2153794, biologicalModelAllelicComposition#2153795, biologicalModelGeneticBackground#2153796, biologicalModelId#2153797, biomarkerName#2153798, biomarkers#2153799, biosamplesFromSource#2153800, clinicalPhase#2153801L, clinicalSignificances#2153802, clinicalStatus#2153803, cohortDescription#2153804, cohortId#2153805, cohortPhenotypes#2153806, cohortShortName#2153807, confidence#2153808, contrast#2153809, ... 56 more fields]\n   :                                                              :  :  :                       :  +- Relation [datasourceId#2153786,targetId#2153787,alleleOrigins#2153788,allelicRequirements#2153789,ancestry#2153790,ancestryId#2153791,beta#2153792,betaConfidenceIntervalLower#2153793,betaConfidenceIntervalUpper#2153794,biologicalModelAllelicComposition#2153795,biologicalModelGeneticBackground#2153796,biologicalModelId#2153797,biomarkerName#2153798,biomarkers#2153799,biosamplesFromSource#2153800,clinicalPhase#2153801L,clinicalSignificances#2153802,clinicalStatus#2153803,cohortDescription#2153804,cohortId#2153805,cohortPhenotypes#2153806,cohortShortName#2153807,confidence#2153808,contrast#2153809,... 56 more fields] parquet\n   :                                                              :  :  :                       :- Project [datasourceId#2153866, targetId#2153867, alleleOrigins#2153868, allelicRequirements#2153869, ancestry#2153870, ancestryId#2153871, beta#2153872, betaConfidenceIntervalLower#2153873, betaConfidenceIntervalUpper#2153874, biologicalModelAllelicComposition#2153875, biologicalModelGeneticBackground#2153876, biologicalModelId#2153877, biomarkerName#2153878, biomarkers#2153879, biosamplesFromSource#2153880, clinicalPhase#2153881L, clinicalSignificances#2153882, clinicalStatus#2153883, cohortDescription#2153884, cohortId#2153885, cohortPhenotypes#2153886, cohortShortName#2153887, confidence#2153888, contrast#2153889, ... 56 more fields]\n   :                                                              :  :  :                       :  +- Relation [datasourceId#2153866,targetId#2153867,alleleOrigins#2153868,allelicRequirements#2153869,ancestry#2153870,ancestryId#2153871,beta#2153872,betaConfidenceIntervalLower#2153873,betaConfidenceIntervalUpper#2153874,biologicalModelAllelicComposition#2153875,biologicalModelGeneticBackground#2153876,biologicalModelId#2153877,biomarkerName#2153878,biomarkers#2153879,biosamplesFromSource#2153880,clinicalPhase#2153881L,clinicalSignificances#2153882,clinicalStatus#2153883,cohortDescription#2153884,cohortId#2153885,cohortPhenotypes#2153886,cohortShortName#2153887,confidence#2153888,contrast#2153889,... 56 more fields] parquet\n   :                                                              :  :  :                       :- Project [datasourceId#2153946, targetId#2153947, alleleOrigins#2153948, allelicRequirements#2153949, ancestry#2153950, ancestryId#2153951, beta#2153952, betaConfidenceIntervalLower#2153953, betaConfidenceIntervalUpper#2153954, biologicalModelAllelicComposition#2153955, biologicalModelGeneticBackground#2153956, biologicalModelId#2153957, biomarkerName#2153958, biomarkers#2153959, biosamplesFromSource#2153960, clinicalPhase#2153961L, clinicalSignificances#2153962, clinicalStatus#2153963, cohortDescription#2153964, cohortId#2153965, cohortPhenotypes#2153966, cohortShortName#2153967, confidence#2153968, contrast#2153969, ... 56 more fields]\n   :                                                              :  :  :                       :  +- Relation [datasourceId#2153946,targetId#2153947,alleleOrigins#2153948,allelicRequirements#2153949,ancestry#2153950,ancestryId#2153951,beta#2153952,betaConfidenceIntervalLower#2153953,betaConfidenceIntervalUpper#2153954,biologicalModelAllelicComposition#2153955,biologicalModelGeneticBackground#2153956,biologicalModelId#2153957,biomarkerName#2153958,biomarkers#2153959,biosamplesFromSource#2153960,clinicalPhase#2153961L,clinicalSignificances#2153962,clinicalStatus#2153963,cohortDescription#2153964,cohortId#2153965,cohortPhenotypes#2153966,cohortShortName#2153967,confidence#2153968,contrast#2153969,... 56 more fields] parquet\n   :                                                              :  :  :                       +- Project [datasourceId#2154026, targetId#2154027, alleleOrigins#2154028, allelicRequirements#2154029, ancestry#2154030, ancestryId#2154031, beta#2154032, betaConfidenceIntervalLower#2154033, betaConfidenceIntervalUpper#2154034, biologicalModelAllelicComposition#2154035, biologicalModelGeneticBackground#2154036, biologicalModelId#2154037, biomarkerName#2154038, biomarkers#2154039, biosamplesFromSource#2154040, clinicalPhase#2154041L, clinicalSignificances#2154042, clinicalStatus#2154043, cohortDescription#2154044, cohortId#2154045, cohortPhenotypes#2154046, cohortShortName#2154047, confidence#2154048, contrast#2154049, ... 56 more fields]\n   :                                                              :  :  :                          +- Relation [datasourceId#2154026,targetId#2154027,alleleOrigins#2154028,allelicRequirements#2154029,ancestry#2154030,ancestryId#2154031,beta#2154032,betaConfidenceIntervalLower#2154033,betaConfidenceIntervalUpper#2154034,biologicalModelAllelicComposition#2154035,biologicalModelGeneticBackground#2154036,biologicalModelId#2154037,biomarkerName#2154038,biomarkers#2154039,biosamplesFromSource#2154040,clinicalPhase#2154041L,clinicalSignificances#2154042,clinicalStatus#2154043,cohortDescription#2154044,cohortId#2154045,cohortPhenotypes#2154046,cohortShortName#2154047,confidence#2154048,contrast#2154049,... 56 more fields] parquet\n   :                                                              :  :  +- Project [id#2154106 AS target_id#2708, approvedSymbol#2154107, description#2693, description_splited#2697, TSorOncogene#2702]\n   :                                                              :  :     +- Project [id#2154106, approvedSymbol#2154107, description#2693, description_splited#2697, CASE WHEN (RLIKE(description_splited#2697, ncogene) AND RLIKE(description_splited#2697, TSG)) THEN bivalent WHEN RLIKE(description_splited#2697, ncogene(\\s|$)) THEN oncogene WHEN RLIKE(description_splited#2697, TSG(\\s|$)) THEN TSG ELSE noEvaluable END AS TSorOncogene#2702]\n   :                                                              :  :        +- Project [id#2154106, approvedSymbol#2154107, description#2693, concat_ws(,, description#2693) AS description_splited#2697]\n   :                                                              :  :           +- Aggregate [id#2154106, approvedSymbol#2154107], [id#2154106, approvedSymbol#2154107, collect_set(description#2685, 0, 0) AS description#2693]\n   :                                                              :  :              +- Filter description#2685 IN (TSG,oncogene,Oncogene,oncogene,oncogene,TSG,TSG,oncogene,fusion,oncogene,oncogene,fusion)\n   :                                                              :  :                 +- Project [id#2154106, approvedSymbol#2154107, col#2680.description AS description#2685]\n   :                                                              :  :                    +- Project [id#2154106, approvedSymbol#2154107, col#2680]\n   :                                                              :  :                       +- Generate explode(hallmarks#2154116.attributes), true, [col#2680]\n   :                                                              :  :                          +- Relation [id#2154106,approvedSymbol#2154107,biotype#2154108,transcriptIds#2154109,canonicalTranscript#2154110,canonicalExons#2154111,genomicLocation#2154112,alternativeGenes#2154113,approvedName#2154114,go#2154115,hallmarks#2154116,synonyms#2154117,symbolSynonyms#2154118,nameSynonyms#2154119,functionDescriptions#2154120,subcellularLocations#2154121,targetClass#2154122,obsoleteSymbols#2154123,obsoleteNames#2154124,constraint#2154125,tep#2154126,proteinIds#2154127,dbXrefs#2154128,chemicalProbes#2154129,... 4 more fields] parquet\n   :                                                              :  +- Project [statisticalMethodOverview#2154134 AS stMethod#2447, counts#2154135, comment#2154136, whatToDo#2154137]\n   :                                                              :     +- Relation [statisticalMethodOverview#2154134,counts#2154135,comment#2154136,whatToDo#2154137] csv\n   :                                                              +- Deduplicate [targetId2#2726, drugId2#2720, actionType#2154138, mechanismOfAction#2154139]\n   :                                                                 +- Project [targetId2#2726, drugId2#2720, actionType#2154138, mechanismOfAction#2154139]\n   :                                                                    +- Generate explode(targets#2154143), true, [targetId2#2726]\n   :                                                                       +- Project [drugId2#2720, actionType#2154138, mechanismOfAction#2154139, targets#2154143]\n   :                                                                          +- Generate explode(chemblIds#2154140), true, [drugId2#2720]\n   :                                                                             +- Project [chemblIds#2154140, actionType#2154138, mechanismOfAction#2154139, targets#2154143]\n   :                                                                                +- Relation [actionType#2154138,mechanismOfAction#2154139,chemblIds#2154140,targetName#2154141,targetType#2154142,targets#2154143,references#2154144] parquet\n   +- Project [id#2367, name#2371]\n      +- Relation [id#2367,code#2368,dbXRefs#2369,description#2370,name#2371,directLocationIds#2372,obsoleteTerms#2373,parents#2374,synonyms#2375,ancestors#2376,descendants#2377,children#2378,therapeuticAreas#2379,indirectLocationIds#2380,ontology#2381] parquet\n"
     ]
    }
   ],
   "source": [
    "### calculate again 'coherencyInter_assessed_wOut' incluyendo los diseaseFromSource \n",
    "\n",
    "### \n",
    "\n",
    "### Include the calculation of overlapping\n",
    "terms=['noEvaluable','bivalent_risk','null','dispar']\n",
    "#### reminder of 'toprocess': \n",
    "toprocess_contrad=(prueba_assessment\n",
    ".filter(\n",
    "    (F.col('Assessment').isin(terms)==False))\n",
    ".groupBy(\n",
    "    'targetId',\n",
    "    'diseaseId',\n",
    "    ### 'diseaseFromSource'\n",
    "    ##'datasourceId'\n",
    "    )\n",
    ".pivot('homogenized')\n",
    ".agg(F.count('targetId'))\n",
    ".join(contradictIntra.select('targetId3','diseaseId3','filterOut'),\n",
    "    (F.col('targetId')==contradictIntra.targetId3) & \n",
    "    (F.col('diseaseId')==contradictIntra.diseaseId3)\n",
    "    ,'left')\n",
    ".withColumn('filterOut',\n",
    "    F.when(F.col('filterOut')=='out', F.lit(F.col('filterOut')))\n",
    "    .otherwise(F.lit('keep'))))\n",
    "##### \n",
    "\n",
    "columns=[\n",
    " 'GoF_risk',\n",
    " 'LoF_protect',\n",
    " 'LoF_risk',\n",
    " 'GoF_protect']\n",
    "\n",
    "coherencyInter_assessed_wOut_contrad=(toprocess_contrad\n",
    "##.filter(F.col('filterOut')!='out')\n",
    ".select(\n",
    "    F.col('targetId'),#.alias('targetId3'),\n",
    "    F.col('diseaseId'),\n",
    "    ### F.col('diseaseFromSourceId'),\n",
    "    ###F.col('diseaseFromSource'),\n",
    "    ### F.col('datasourceId'),\n",
    "    F.col('filterOut'),\n",
    "    *(F.col(c).cast(\"int\").alias(c) for c in columns))\n",
    "\n",
    ".withColumn('coherency',\n",
    "    F.when(\n",
    "        (\n",
    "        (F.col('GoF_risk').isNotNull()) &\n",
    "        (F.col('LoF_risk').isNotNull())\n",
    "        ),\n",
    "            F.when(\n",
    "                (F.col('GoF_risk'))-(F.col('LoF_risk'))!=(F.col('GoF_risk'))\n",
    "                ,F.lit('dispar'))\n",
    "        )\n",
    "    .when(\n",
    "        (\n",
    "        (F.col('LoF_protect').isNotNull()) &\n",
    "        (F.col('LoF_risk').isNotNull())\n",
    "        ),\n",
    "            F.when(\n",
    "                (F.col('LoF_protect'))-(F.col('LoF_risk'))!=(F.col('LoF_protect'))\n",
    "                ,F.lit('dispar'))\n",
    "        )   \n",
    "    .when(\n",
    "        (\n",
    "        (F.col('GoF_protect').isNotNull()) &\n",
    "        (F.col('GoF_risk').isNotNull())\n",
    "        ),\n",
    "            F.when(\n",
    "                (F.col('GoF_protect'))-(F.col('GoF_risk'))!=(F.col('GoF_protect'))\n",
    "                ,F.lit('dispar'))\n",
    "        )   \n",
    "    .when(\n",
    "        (\n",
    "        (F.col('GoF_protect').isNotNull()) &\n",
    "        (F.col('LoF_protect').isNotNull())\n",
    "        ),\n",
    "            F.when(\n",
    "                (F.col('GoF_protect'))-(F.col('LoF_protect'))!=(F.col('GoF_protect'))\n",
    "                ,F.lit('dispar'))\n",
    "        )      \n",
    "    .when(\n",
    "        (\n",
    "        (F.col('GoF_protect').isNotNull()) &\n",
    "        (F.col('LoF_risk').isNotNull())\n",
    "        ),\n",
    "            F.when(\n",
    "                (F.col('GoF_protect'))-(F.col('LoF_risk'))!=(F.col('GoF_protect'))\n",
    "                ,F.lit('coherent'))\n",
    "    )      \n",
    "    .when(\n",
    "        (\n",
    "        (F.col('LoF_protect').isNotNull()) &\n",
    "        (F.col('GoF_risk').isNotNull())\n",
    "        ),\n",
    "            F.when(\n",
    "                (F.col('LoF_protect'))-(F.col('GoF_risk'))!=(F.col('LoF_protect'))\n",
    "                ,F.lit('coherent'))\n",
    "        )   \n",
    "    .otherwise(F.lit('take')))\n",
    ")\n",
    "\n",
    "\n",
    "### add disease name \n",
    "coherencyInter_assessed_wOut_contrad2=(coherencyInter_assessed_wOut_contrad\n",
    ".join(diseases\n",
    "    .select('id','name'), diseases.id==F.col('diseaseId'),'left'))\n",
    "\n",
    "\n",
    "### continue here: 22.02.2023\n",
    "### define columns for the next steps\n",
    "columnsX=['targetId', 'diseaseId',  'diseaseFromSource', 'filterOut','coherency', 'id', 'name']\n",
    "\n",
    "\n",
    "probando=coherencyInter_assessed_wOut_contrad2.select(*(F.col(c).alias(c) for c in columnsX), F.struct('GoF_risk', 'LoF_protect', 'LoF_risk', 'GoF_protect').alias('values'))\n",
    "\n",
    "\n",
    "## The next is to make the struct for collect_set of disease from source para saber de donde viene cada uno. O deberia hacerlo mas granular?? \n",
    "## Find the percentage of assessments for every target-disease pairs that are contradictory and split them by ‘diseaseFromSource’ -\n"
   ]
  },
  {
   "cell_type": "code",
   "execution_count": 58,
   "metadata": {},
   "outputs": [
    {
     "name": "stdout",
     "output_type": "stream",
     "text": [
      "+---------+---------+---------------+\n",
      "|filterOut|coherency|count(targetId)|\n",
      "+---------+---------+---------------+\n",
      "|      out|     take|          21599|\n",
      "|     keep|   dispar|            303|\n",
      "|      out| coherent|            516|\n",
      "|      out|   dispar|           8602|\n",
      "|     keep| coherent|           4166|\n",
      "|     keep|     take|        1033068|\n",
      "+---------+---------+---------------+\n",
      "\n"
     ]
    }
   ],
   "source": [
    "(probando\n",
    ".groupBy('filterOut','coherency')\n",
    ".agg(F.count('targetId'))\n",
    ").show()"
   ]
  },
  {
   "cell_type": "code",
   "execution_count": 57,
   "metadata": {},
   "outputs": [
    {
     "data": {
      "text/plain": [
       "8602"
      ]
     },
     "execution_count": 57,
     "metadata": {},
     "output_type": "execute_result"
    }
   ],
   "source": [
    "probando.filter( (F.col('coherency')=='dispar') & (F.col('filterOut')=='out')).count()"
   ]
  },
  {
   "cell_type": "code",
   "execution_count": 115,
   "metadata": {},
   "outputs": [],
   "source": [
    "### collect all the disease belonging to disparity\n",
    "listado=uno.filter(F.col('percentageContradic')>0.45).select('diseaseId').rdd.map(lambda x: x[0]).collect()\n",
    "print(listado)\n",
    "### filter for disease belonging to \n",
    "explore_contra2=coherencyInter_assessed_wOut_contrad2.filter((F.col('coherency')=='dispar') & (F.col('diseaseId').isin(listado)))"
   ]
  },
  {
   "cell_type": "code",
   "execution_count": 127,
   "metadata": {},
   "outputs": [
    {
     "name": "stderr",
     "output_type": "stream",
     "text": [
      "/opt/anaconda3/envs/python/lib/python3.10/site-packages/pandas/core/internals/blocks.py:2323: RuntimeWarning: invalid value encountered in cast\n",
      "  values = values.astype(str)\n"
     ]
    }
   ],
   "source": [
    "explore_contra2.toPandas().to_csv('explore4.csv')"
   ]
  },
  {
   "cell_type": "code",
   "execution_count": 112,
   "metadata": {},
   "outputs": [
    {
     "name": "stdout",
     "output_type": "stream",
     "text": [
      "+---------------+-----------+-------------------+----------------------------------------------------+-----------+---------+--------+-----------+--------+-----------+---------+\n",
      "|targetId       |diseaseId  |diseaseFromSourceId|diseaseFromSource                                   |diseaseId  |filterOut|GoF_risk|LoF_protect|LoF_risk|GoF_protect|coherency|\n",
      "+---------------+-----------+-------------------+----------------------------------------------------+-----------+---------+--------+-----------+--------+-----------+---------+\n",
      "|ENSG00000108370|EFO_0009270|null               |Heel bone mineral density                           |EFO_0009270|out      |null    |1          |null    |1          |dispar   |\n",
      "|ENSG00000159110|EFO_0004842|null               |Eosinophil counts                                   |EFO_0004842|out      |null    |2          |null    |1          |dispar   |\n",
      "|ENSG00000149177|EFO_0004526|null               |Mean corpuscular volume                             |EFO_0004526|out      |1       |null       |1       |3          |dispar   |\n",
      "|ENSG00000166949|EFO_0004980|null               |Appendicular lean mass                              |EFO_0004980|out      |null    |1          |null    |1          |dispar   |\n",
      "|ENSG00000107201|EFO_0004509|null               |Hemoglobin concentration                            |EFO_0004509|out      |1       |1          |null    |1          |dispar   |\n",
      "|ENSG00000149599|EFO_0004526|null               |Mean corpuscular volume                             |EFO_0004526|out      |1       |null       |1       |null       |dispar   |\n",
      "|ENSG00000145390|EFO_0004980|null               |Appendicular lean mass                              |EFO_0004980|out      |1       |null       |1       |2          |dispar   |\n",
      "|ENSG00000090621|EFO_0004526|null               |Mean corpuscular volume                             |EFO_0004526|out      |null    |3          |null    |1          |dispar   |\n",
      "|ENSG00000072756|EFO_0007991|null               |Eosinophil percentage of white cells                |EFO_0007991|out      |null    |1          |null    |1          |dispar   |\n",
      "|ENSG00000123636|EFO_0007985|null               |Plateletcrit                                        |EFO_0007985|out      |null    |2          |1       |null       |dispar   |\n",
      "|ENSG00000257923|EFO_0004696|null               |Sex hormone-binding globulin levels adjusted for BMI|EFO_0004696|out      |null    |2          |1       |null       |dispar   |\n",
      "|ENSG00000150637|EFO_0007985|null               |Platelet crit                                       |EFO_0007985|out      |1       |null       |null    |1          |dispar   |\n",
      "|ENSG00000170265|EFO_0004833|null               |Neutrophil count                                    |EFO_0004833|out      |null    |1          |null    |4          |dispar   |\n",
      "|ENSG00000165879|EFO_0004309|null               |Platelet count                                      |EFO_0004309|out      |1       |null       |1       |null       |dispar   |\n",
      "|ENSG00000183955|EFO_0007986|null               |Reticulocyte count                                  |EFO_0007986|out      |1       |null       |1       |null       |dispar   |\n",
      "|ENSG00000180530|EFO_0004584|null               |Mean platelet volume                                |EFO_0004584|out      |1       |1          |1       |3          |dispar   |\n",
      "|ENSG00000100365|EFO_0004842|null               |Eosinophil counts                                   |EFO_0004842|out      |null    |3          |4       |null       |dispar   |\n",
      "|ENSG00000160584|EFO_0005091|null               |Monocyte count                                      |EFO_0005091|out      |1       |null       |1       |null       |dispar   |\n",
      "|ENSG00000100288|EFO_0004526|null               |Mean corpuscular volume                             |EFO_0004526|out      |1       |null       |1       |null       |dispar   |\n",
      "|ENSG00000175309|EFO_0004526|null               |Mean corpuscular volume                             |EFO_0004526|out      |1       |null       |1       |null       |dispar   |\n",
      "+---------------+-----------+-------------------+----------------------------------------------------+-----------+---------+--------+-----------+--------+-----------+---------+\n",
      "only showing top 20 rows\n",
      "\n"
     ]
    }
   ],
   "source": [
    "explore_contra.show(truncate=False)"
   ]
  },
  {
   "cell_type": "code",
   "execution_count": 59,
   "metadata": {},
   "outputs": [],
   "source": [
    "toprocess_contrad=(prueba_assessment\n",
    ".filter(\n",
    "    (F.col('Assessment').isin(terms)==False))\n",
    ".groupBy(\n",
    "    'targetId',\n",
    "    'diseaseId',\n",
    "    ### 'diseaseFromSource',\n",
    "    )\n",
    ".pivot('homogenized')\n",
    ".agg(F.count('targetId'))\n",
    ".join(contradictIntra.select('targetId3','diseaseId3','filterOut'),\n",
    "    (F.col('targetId')==contradictIntra.targetId3) & \n",
    "    (F.col('diseaseId')==contradictIntra.diseaseId3)\n",
    "    ,'left')\n",
    ".withColumn('filterOut',\n",
    "    F.when(F.col('filterOut')=='out', F.lit(F.col('filterOut')))\n",
    "    .otherwise(F.lit('keep'))))\n",
    "##### \n",
    "\n",
    "columns=[\n",
    " 'GoF_risk',\n",
    " 'LoF_protect',\n",
    " 'LoF_risk',\n",
    " 'GoF_protect']\n",
    "\n",
    "coherencyInter_assessed_wOut_contrad=(toprocess_contrad\n",
    "##.filter(F.col('filterOut')!='out')\n",
    ".select(\n",
    "    F.col('targetId'),#.alias('targetId3'),\n",
    "    F.col('diseaseId'),\n",
    "    #F.col('diseaseFromSourceId'),\n",
    "    #F.col('diseaseFromSource'),\n",
    "    ### F.col('datasourceId'),\n",
    "    F.col('filterOut'),\n",
    "    *(F.col(c).cast(\"int\").alias(c) for c in columns))\n",
    "\n",
    ".withColumn('coherency',\n",
    "    F.when(\n",
    "        (\n",
    "        (F.col('GoF_risk').isNotNull()) &\n",
    "        (F.col('LoF_risk').isNotNull())\n",
    "        ),\n",
    "            F.when(\n",
    "                (F.col('GoF_risk'))-(F.col('LoF_risk'))!=(F.col('GoF_risk'))\n",
    "                ,F.lit('dispar'))\n",
    "        )\n",
    "    .when(\n",
    "        (\n",
    "        (F.col('LoF_protect').isNotNull()) &\n",
    "        (F.col('LoF_risk').isNotNull())\n",
    "        ),\n",
    "            F.when(\n",
    "                (F.col('LoF_protect'))-(F.col('LoF_risk'))!=(F.col('LoF_protect'))\n",
    "                ,F.lit('dispar'))\n",
    "        )   \n",
    "    .when(\n",
    "        (\n",
    "        (F.col('GoF_protect').isNotNull()) &\n",
    "        (F.col('GoF_risk').isNotNull())\n",
    "        ),\n",
    "            F.when(\n",
    "                (F.col('GoF_protect'))-(F.col('GoF_risk'))!=(F.col('GoF_protect'))\n",
    "                ,F.lit('dispar'))\n",
    "        )   \n",
    "    .when(\n",
    "        (\n",
    "        (F.col('GoF_protect').isNotNull()) &\n",
    "        (F.col('LoF_protect').isNotNull())\n",
    "        ),\n",
    "            F.when(\n",
    "                (F.col('GoF_protect'))-(F.col('LoF_protect'))!=(F.col('GoF_protect'))\n",
    "                ,F.lit('dispar'))\n",
    "        )      \n",
    "    .when(\n",
    "        (\n",
    "        (F.col('GoF_protect').isNotNull()) &\n",
    "        (F.col('LoF_risk').isNotNull())\n",
    "        ),\n",
    "            F.when(\n",
    "                (F.col('GoF_protect'))-(F.col('LoF_risk'))!=(F.col('GoF_protect'))\n",
    "                ,F.lit('coherent'))\n",
    "    )      \n",
    "    .when(\n",
    "        (\n",
    "        (F.col('LoF_protect').isNotNull()) &\n",
    "        (F.col('GoF_risk').isNotNull())\n",
    "        ),\n",
    "            F.when(\n",
    "                (F.col('LoF_protect'))-(F.col('GoF_risk'))!=(F.col('LoF_protect'))\n",
    "                ,F.lit('coherent'))\n",
    "        )   \n",
    "    .otherwise(F.lit('take')))\n",
    ")"
   ]
  },
  {
   "cell_type": "code",
   "execution_count": 73,
   "metadata": {},
   "outputs": [],
   "source": [
    "contrad=(prueba_assessment\n",
    ".filter(\n",
    "    (F.col('Assessment').isin(terms)==False))\n",
    ".groupBy(\n",
    "    'targetId',\n",
    "    'diseaseId',\n",
    "    ## 'diseaseFromSource',\n",
    "    )\n",
    ".pivot('homogenized')\n",
    ".agg(F.collect_set('diseaseFromSource'))\n",
    ".select(\n",
    "    F.col('targetId').alias('targetIDd'),\n",
    "    F.col('diseaseId').alias('diseaseIDd'),\n",
    "    F.col('GoF_protect').alias('GoF_protect_term'),\n",
    "    F.col('GoF_risk').alias('GoF_risk_term'),\n",
    "    F.col('LoF_protect').alias('LoF_protect_term'),\n",
    "    F.col('LoF_risk').alias('LoF_risk_term')   \n",
    "    )\n",
    ")"
   ]
  },
  {
   "cell_type": "code",
   "execution_count": 74,
   "metadata": {},
   "outputs": [],
   "source": [
    "explore_contra2 = coherencyInter_assessed_wOut_contrad.filter(\n",
    "    (F.col(\"coherency\") == \"dispar\")\n",
    ").join(  ### & (F.col('diseaseId').isin(listado)))\n",
    "    contrad,\n",
    "    (contrad.targetIDd == F.col(\"targetId\"))\n",
    "    & (contrad.diseaseIDd == F.col(\"diseaseId\")),\n",
    "    \"left\",\n",
    ")\n"
   ]
  },
  {
   "cell_type": "code",
   "execution_count": 300,
   "metadata": {},
   "outputs": [],
   "source": [
    "#### continuar aqui el 27 de febrero 27.02.2023\n",
    "\n",
    "### se recogen todas los disease terms y se cuentan los unicos\n",
    "\n",
    "explore_contra3 = (explore_contra2\n",
    ".withColumn(\n",
    "    \"uniqueTerms\",\n",
    "    F.size(\n",
    "        F.array_distinct(\n",
    "            F.flatten(\n",
    "                F.array(\n",
    "                    F.col(\"GoF_protect_term\"),\n",
    "                    F.col(\"GoF_risk_term\"),\n",
    "                    F.col(\"LoF_protect_term\"),\n",
    "                    F.col(\"LoF_risk_term\"),\n",
    "                )\n",
    "            )\n",
    "        )\n",
    "    ),\n",
    ")\n",
    ".withColumn(\n",
    "    \"literalUniqueTerms\",\n",
    "        F.array_distinct(\n",
    "            F.flatten(\n",
    "                F.array(\n",
    "                    F.col(\"GoF_protect_term\"),\n",
    "                    F.col(\"GoF_risk_term\"),\n",
    "                    F.col(\"LoF_protect_term\"),\n",
    "                    F.col(\"LoF_risk_term\"),\n",
    "                )\n",
    "            )\n",
    "        )\n",
    "    )\n",
    ".withColumn(\n",
    "        \"countDiferent\",\n",
    "        F.when(F.col(\"uniqueTerms\") > 1, F.lit(1))\n",
    "        .otherwise(F.lit(0))))\n",
    "\n"
   ]
  },
  {
   "cell_type": "code",
   "execution_count": 312,
   "metadata": {},
   "outputs": [
    {
     "name": "stdout",
     "output_type": "stream",
     "text": [
      "+---------------+-----------+---------+--------+-----------+--------+-----------+---------+---------------+-----------+--------------------+--------------------+--------------------+--------------------+-----------+--------------------+-------------+\n",
      "|       targetId|  diseaseId|filterOut|GoF_risk|LoF_protect|LoF_risk|GoF_protect|coherency|      targetIDd| diseaseIDd|    GoF_protect_term|       GoF_risk_term|    LoF_protect_term|       LoF_risk_term|uniqueTerms|  literalUniqueTerms|countDiferent|\n",
      "+---------------+-----------+---------+--------+-----------+--------+-----------+---------+---------------+-----------+--------------------+--------------------+--------------------+--------------------+-----------+--------------------+-------------+\n",
      "|ENSG00000000971|EFO_0001365|      out|    null|          4|       6|          1|   dispar|ENSG00000000971|EFO_0001365|[Early age-relate...|                  []|[Age-related macu...|[Age related macu...|          7|[Early age-relate...|            1|\n",
      "|ENSG00000003249|EFO_0007800|      out|    null|          1|       1|          2|   dispar|ENSG00000003249|EFO_0007800|[Trunk fat percen...|                  []|[Arm fat percenta...|[Arm fat percenta...|          4|[Trunk fat percen...|            1|\n",
      "|ENSG00000006453|EFO_0004908|      out|       2|       null|    null|          2|   dispar|ENSG00000006453|EFO_0004908|[Bioavailable tes...|[Total testostero...|                  []|                  []|          2|[Bioavailable tes...|            1|\n",
      "|ENSG00000006607|EFO_0004533|      out|       1|       null|    null|          1|   dispar|ENSG00000006607|EFO_0004533|[Serum alkaline p...|[Serum alkaline p...|                  []|                  []|          1|[Serum alkaline p...|            0|\n",
      "|ENSG00000006607|EFO_0007991|      out|    null|          3|    null|          1|   dispar|ENSG00000006607|EFO_0007991|[Eosinophill perc...|                  []|[Eosinophil perce...|                  []|          2|[Eosinophill perc...|            1|\n",
      "|ENSG00000007047|EFO_0004509|      out|       3|       null|       1|       null|   dispar|ENSG00000007047|EFO_0004509|                  []|[Hemoglobin level...|                  []| [Hemoglobin levels]|          3|[Hemoglobin level...|            1|\n",
      "|ENSG00000007047|EFO_0004528|      out|       1|       null|       1|       null|   dispar|ENSG00000007047|EFO_0004528|                  []|[Haemoglobin conc...|                  []|[Haemoglobin conc...|          1|[Haemoglobin conc...|            0|\n",
      "|ENSG00000007341|EFO_0009270|      out|       1|       null|       5|       null|   dispar|ENSG00000007341|EFO_0009270|                  []|[Heel bone minera...|                  []|[Heel bone minera...|          6|[Heel bone minera...|            1|\n",
      "|ENSG00000007392|EFO_0010700|      out|       1|       null|    null|          1|   dispar|ENSG00000007392|EFO_0010700|[Reticulocyte fra...|[High light scatt...|                  []|                  []|          2|[Reticulocyte fra...|            1|\n",
      "|ENSG00000008441|EFO_0004527|      out|       1|       null|       1|       null|   dispar|ENSG00000008441|EFO_0004527|                  []|[Mean corpuscular...|                  []|[Mean corpuscular...|          1|[Mean corpuscular...|            0|\n",
      "|ENSG00000010165|EFO_0004584|      out|    null|          5|       8|       null|   dispar|ENSG00000010165|EFO_0004584|                  []|                  []|[Mean platelet (t...|[Mean platelet (t...|          2|[Mean platelet (t...|            1|\n",
      "|ENSG00000010322|EFO_0004309|      out|    null|          1|       1|       null|   dispar|ENSG00000010322|EFO_0004309|                  []|                  []|    [Platelet count]|    [Platelet count]|          1|    [Platelet count]|            0|\n",
      "|ENSG00000010810|EFO_0009441|     keep|    null|          2|       2|       null|   dispar|ENSG00000010810|EFO_0009441|                  []|                  []|[Waldenstrom Macr...|[Macroglobulinemi...|          2|[Waldenstrom Macr...|            1|\n",
      "|ENSG00000011105|EFO_0007984|      out|       3|          4|       1|       null|   dispar|ENSG00000011105|EFO_0007984|                  []|[Platelet distrib...|[Platelet distrib...|[Platelet distrib...|          1|[Platelet distrib...|            0|\n",
      "|ENSG00000011114|EFO_0004995|      out|       1|       null|       9|       null|   dispar|ENSG00000011114|EFO_0004995|                  []|[Leg fat mass (le...|                  []|[Leg predicted ma...|         10|[Leg fat mass (le...|            1|\n",
      "|ENSG00000011295|EFO_0004587|      out|       2|       null|       2|       null|   dispar|ENSG00000011295|EFO_0004587|                  []|[Lymphocyte count...|                  []| [Lymphocyte counts]|          2|[Lymphocyte count...|            1|\n",
      "|ENSG00000011304|EFO_0004509|      out|       2|          1|       5|       null|   dispar|ENSG00000011304|EFO_0004509|                  []|[Hemoglobin conce...|[Hemoglobin conce...|[Hemoglobin level...|          3|[Hemoglobin conce...|            1|\n",
      "|ENSG00000012779|EFO_0009253|      out|       1|       null|       2|       null|   dispar|ENSG00000012779|EFO_0009253|                  []|[Immature fractio...|                  []|[Immature reticul...|          2|[Immature fractio...|            1|\n",
      "|ENSG00000012983|EFO_0004348|      out|    null|          1|    null|          1|   dispar|ENSG00000012983|EFO_0004348|        [Hematocrit]|                  []|        [Hematocrit]|                  []|          1|        [Hematocrit]|            0|\n",
      "|ENSG00000013016|EFO_0007993|      out|       1|          1|    null|          1|   dispar|ENSG00000013016|EFO_0007993|[Lymphocyte perce...|[Lymphocyte perce...|[Lymphocyte perce...|                  []|          2|[Lymphocyte perce...|            1|\n",
      "+---------------+-----------+---------+--------+-----------+--------+-----------+---------+---------------+-----------+--------------------+--------------------+--------------------+--------------------+-----------+--------------------+-------------+\n",
      "only showing top 20 rows\n",
      "\n"
     ]
    }
   ],
   "source": [
    "explore_contra3.show()"
   ]
  },
  {
   "cell_type": "code",
   "execution_count": 296,
   "metadata": {},
   "outputs": [
    {
     "name": "stdout",
     "output_type": "stream",
     "text": [
      "+--------------------+\n",
      "|  literalUniqueTerms|\n",
      "+--------------------+\n",
      "|[Early age-relate...|\n",
      "|[Trunk fat percen...|\n",
      "|[Bioavailable tes...|\n",
      "|[Eosinophill perc...|\n",
      "|[Hemoglobin level...|\n",
      "|[Heel bone minera...|\n",
      "|[Reticulocyte fra...|\n",
      "|[Mean platelet (t...|\n",
      "|[Waldenstrom Macr...|\n",
      "|[Leg fat mass (le...|\n",
      "+--------------------+\n",
      "only showing top 10 rows\n",
      "\n"
     ]
    }
   ],
   "source": [
    "explore_contra3.select('literalUniqueTerms').filter(F.col('uniqueTerms')>1).show(10)"
   ]
  },
  {
   "cell_type": "code",
   "execution_count": 320,
   "metadata": {},
   "outputs": [
    {
     "data": {
      "text/plain": [
       "423"
      ]
     },
     "execution_count": 320,
     "metadata": {},
     "output_type": "execute_result"
    }
   ],
   "source": [
    "explore_contra3.filter(F.col('uniqueTerms')==1).groupBy('diseaseId').agg(F.count('targetId')).count()"
   ]
  },
  {
   "cell_type": "code",
   "execution_count": 329,
   "metadata": {},
   "outputs": [],
   "source": [
    "checkDiseasesMeasurement=explore_contra3.filter(F.col('uniqueTerms')>1).groupBy('diseaseId').agg(F.flatten(F.collect_set('literalUniqueTerms')).alias('uniqueTerms'),F.count('targetId').alias('nTargets'))"
   ]
  },
  {
   "cell_type": "code",
   "execution_count": 344,
   "metadata": {},
   "outputs": [],
   "source": [
    "checkingDiseases=checkDiseasesMeasurement.join(diseases.select('id','name'),diseases.id==F.col('diseaseId'),'left').withColumn('size',F.size('uniqueTerms'))"
   ]
  },
  {
   "cell_type": "code",
   "execution_count": 345,
   "metadata": {},
   "outputs": [],
   "source": [
    "checkingDiseases.toPandas().to_csv('checkingDiseases.csv')"
   ]
  },
  {
   "cell_type": "code",
   "execution_count": 358,
   "metadata": {},
   "outputs": [
    {
     "name": "stdout",
     "output_type": "stream",
     "text": [
      "root\n",
      " |-- diseaseId: string (nullable = true)\n",
      " |-- coherent: long (nullable = true)\n",
      " |-- dispar: long (nullable = true)\n",
      " |-- take: long (nullable = true)\n",
      " |-- percentageContradict: double (nullable = true)\n",
      "\n"
     ]
    }
   ],
   "source": [
    "pruebe.printSchema()"
   ]
  },
  {
   "cell_type": "code",
   "execution_count": 365,
   "metadata": {},
   "outputs": [],
   "source": [
    "toshow=(checkingDiseases\n",
    ".withColumnRenamed('diseaseId','diseaseIdD')\n",
    ".join(pruebe, pruebe.diseaseId==F.col('diseaseIdD'), 'left'))"
   ]
  },
  {
   "cell_type": "code",
   "execution_count": 366,
   "metadata": {},
   "outputs": [
    {
     "data": {
      "text/plain": [
       "678"
      ]
     },
     "execution_count": 366,
     "metadata": {},
     "output_type": "execute_result"
    }
   ],
   "source": [
    "toshow.count()"
   ]
  },
  {
   "cell_type": "code",
   "execution_count": 367,
   "metadata": {},
   "outputs": [
    {
     "name": "stderr",
     "output_type": "stream",
     "text": [
      "/opt/anaconda3/envs/python/lib/python3.10/site-packages/pandas/core/internals/blocks.py:2323: RuntimeWarning: invalid value encountered in cast\n",
      "  values = values.astype(str)\n"
     ]
    }
   ],
   "source": [
    "toshow.toPandas().to_csv('toshow.csv')"
   ]
  },
  {
   "cell_type": "code",
   "execution_count": null,
   "metadata": {},
   "outputs": [],
   "source": [
    "checkingDiseases.join(pruebe)"
   ]
  },
  {
   "cell_type": "code",
   "execution_count": 333,
   "metadata": {},
   "outputs": [
    {
     "data": {
      "text/plain": [
       "678"
      ]
     },
     "execution_count": 333,
     "metadata": {},
     "output_type": "execute_result"
    }
   ],
   "source": [
    "checkDiseasesMeasurement.count()\n",
    "\n",
    "\n",
    "### Falta sacar el numero de diseases que son measurements y quizas poner los diferentes terminos de las target-diseases con mas contradicciones? \n",
    "### 28.02.2023\n"
   ]
  },
  {
   "cell_type": "code",
   "execution_count": 348,
   "metadata": {},
   "outputs": [
    {
     "data": {
      "text/plain": [
       "75"
      ]
     },
     "execution_count": 348,
     "metadata": {},
     "output_type": "execute_result"
    }
   ],
   "source": [
    "checkingDiseases.filter(F.col('name').rlike('measure')).count()"
   ]
  },
  {
   "cell_type": "code",
   "execution_count": null,
   "metadata": {},
   "outputs": [],
   "source": [
    "checkDiseasesMeasurement.filter(F.col('diseaseId')=='EFO_0010226').withColumn('size',F.size('uniqueTerms')).show(truncate=False)"
   ]
  },
  {
   "cell_type": "code",
   "execution_count": 310,
   "metadata": {},
   "outputs": [],
   "source": [
    "### Extract which are the diferent terms from every disease with at least more than 1 diferent unique term \n",
    "\n",
    "explore_terms=(explore_contra3\n",
    ".filter(F.col('uniqueTerms')>1).groupBy('diseaseId').agg(F.flatten(F.collect_set('literalUniqueTerms')).alias('terms'))\n",
    ".withColumn('nrDifTerms', \n",
    "    F.size(F.col('terms')))\n",
    ")"
   ]
  },
  {
   "cell_type": "code",
   "execution_count": 357,
   "metadata": {},
   "outputs": [
    {
     "name": "stdout",
     "output_type": "stream",
     "text": [
      "+-----------+--------------------+----------+\n",
      "|  diseaseId|               terms|nrDifTerms|\n",
      "+-----------+--------------------+----------+\n",
      "|EFO_0000094|[B-cell Adult Acu...|         5|\n",
      "|EFO_0000095|[Chronic lymphobl...|        94|\n",
      "|EFO_0000174|[EWINGS SARCOMA, ...|         4|\n",
      "|EFO_0000178|[Advanced Gastric...|         3|\n",
      "|EFO_0000181|[Head and Neck Sq...|        17|\n",
      "|EFO_0000182|[Liver Neoplasms,...|        99|\n",
      "|EFO_0000183|[Relapsed Hodgkin...|        88|\n",
      "|EFO_0000191|[MALT Lymphoma, L...|         4|\n",
      "|EFO_0000195|[Hypertension Wit...|        12|\n",
      "|EFO_0000196|[Metastatic Prost...|        15|\n",
      "|EFO_0000198|[41202#D46#D46 My...|        48|\n",
      "|EFO_0000209|[Recurrent T Acut...|         6|\n",
      "|EFO_0000211|[Peripheral T-cel...|         9|\n",
      "|EFO_0000218|[Adult Pure Eryth...|        11|\n",
      "|EFO_0000220|[Acute Lymphoblas...|       104|\n",
      "|EFO_0000221|[Adult Acute Mono...|         2|\n",
      "|EFO_0000222|[Treatment-naive ...|       255|\n",
      "|EFO_0000223|[Adult Acute Myel...|         2|\n",
      "|EFO_0000224|[Acute Promyelocy...|         3|\n",
      "|EFO_0000239|[Pheochromocytoma...|         2|\n",
      "+-----------+--------------------+----------+\n",
      "only showing top 20 rows\n",
      "\n"
     ]
    }
   ],
   "source": [
    "explore_terms.show()"
   ]
  },
  {
   "cell_type": "code",
   "execution_count": 311,
   "metadata": {},
   "outputs": [],
   "source": [
    "explore_terms.toPandas().to_csv('exploringterms.csv')"
   ]
  },
  {
   "cell_type": "code",
   "execution_count": null,
   "metadata": {},
   "outputs": [],
   "source": []
  },
  {
   "cell_type": "code",
   "execution_count": 172,
   "metadata": {},
   "outputs": [
    {
     "name": "stderr",
     "output_type": "stream",
     "text": [
      "/opt/anaconda3/envs/python/lib/python3.10/site-packages/pandas/core/internals/blocks.py:2323: RuntimeWarning: invalid value encountered in cast\n",
      "  values = values.astype(str)\n"
     ]
    }
   ],
   "source": [
    "explore_contra3.toPandas().to_csv('contarDiftermsDisease.csv')"
   ]
  },
  {
   "cell_type": "code",
   "execution_count": 318,
   "metadata": {},
   "outputs": [],
   "source": [
    "explore_contra4=explore_contra3.filter(F.col('countDiferent')>0).join(diseases.select('id','name'), diseases.id==F.col('diseaseId'),'left')"
   ]
  },
  {
   "cell_type": "code",
   "execution_count": 319,
   "metadata": {},
   "outputs": [
    {
     "data": {
      "text/plain": [
       "9401"
      ]
     },
     "execution_count": 319,
     "metadata": {},
     "output_type": "execute_result"
    }
   ],
   "source": [
    "explore_contra4.count()"
   ]
  },
  {
   "cell_type": "code",
   "execution_count": 273,
   "metadata": {},
   "outputs": [],
   "source": [
    "explore5=(\n",
    "    explore_contra3\n",
    "        .groupBy(\"diseaseId\")\n",
    "        .agg(F.sum(F.col(\"countDiferent\")).alias('countDiferent'), F.count('targetId').alias('total'))\n",
    "    .withColumn('percentageContradictedPairs',\n",
    "        F.when(F.col('countDiferent')!=0, F.lit(F.col('countDiferent')/F.col('total'))*100)\n",
    "        .otherwise(F.lit('notApplicable'))\n",
    ")##.show()\n",
    ")"
   ]
  },
  {
   "cell_type": "code",
   "execution_count": 274,
   "metadata": {},
   "outputs": [],
   "source": [
    "explore5.toPandas().to_csv('explore5.csv')"
   ]
  },
  {
   "cell_type": "code",
   "execution_count": 282,
   "metadata": {},
   "outputs": [],
   "source": [
    "### now only count those with at least 2 diferent trait terms\n",
    "toplot=explore5.filter(F.col('countDiferent')>0).withColumn('plotear',explore5.percentageContradictedPairs.cast('float'))"
   ]
  },
  {
   "cell_type": "code",
   "execution_count": 313,
   "metadata": {},
   "outputs": [],
   "source": [
    "to_check_diseases=toplot.join(diseases.select('id','name'),diseases.id==F.col('diseaseId'),'left')"
   ]
  },
  {
   "cell_type": "code",
   "execution_count": 315,
   "metadata": {},
   "outputs": [],
   "source": [
    "to_check_diseases.toPandas().to_csv('checkDiseases.csv')"
   ]
  },
  {
   "cell_type": "code",
   "execution_count": 286,
   "metadata": {},
   "outputs": [],
   "source": [
    "data.to_csv('plteado.csv')"
   ]
  },
  {
   "cell_type": "code",
   "execution_count": 283,
   "metadata": {},
   "outputs": [],
   "source": [
    "data=toplot.toPandas()"
   ]
  },
  {
   "cell_type": "code",
   "execution_count": 285,
   "metadata": {},
   "outputs": [
    {
     "data": {
      "image/png": "[encoded data removed]",
      "text/plain": [
       "<Figure size 1000x800 with 1 Axes>"
      ]
     },
     "metadata": {},
     "output_type": "display_data"
    }
   ],
   "source": [
    "import numpy as np\n",
    "import matplotlib.pyplot as plt\n",
    "x0=-10\n",
    "\n",
    "x = data['plotear']\n",
    "bins = np.arange(0, 120+x0, 10.0)\n",
    "\n",
    "plt.figure(figsize=(10,8))\n",
    "# the histogram of the data\n",
    "\n",
    "plt.hist(x, bins, alpha=0.8, histtype='bar', color='dodgerblue',\n",
    "         ec='black',weights=np.zeros_like(x) + 100. / x.size)\n",
    "var = 'Percentage of target-trait contradicted per trait'\n",
    "plt.xlabel(var)\n",
    "plt.ylabel('percentage')\n",
    "plt.xticks(bins)\n",
    "plt.show()"
   ]
  },
  {
   "cell_type": "code",
   "execution_count": 202,
   "metadata": {},
   "outputs": [],
   "source": [
    "explore6=(explore5\n",
    ".withColumn('total',explore5.total.cast('float'))\n",
    ".withColumn('percentageContradictedPairs',explore5.percentageContradictedPairs.cast('float')))"
   ]
  },
  {
   "cell_type": "code",
   "execution_count": 216,
   "metadata": {},
   "outputs": [],
   "source": [
    "data=explore6.toPandas()"
   ]
  },
  {
   "cell_type": "code",
   "execution_count": 204,
   "metadata": {},
   "outputs": [],
   "source": [
    "data=explore6.filter(F.col('percentageContradictedPairs')!='notApplicable').toPandas()"
   ]
  },
  {
   "cell_type": "code",
   "execution_count": 176,
   "metadata": {},
   "outputs": [],
   "source": [
    "explore5.toPandas().to_csv('manualvision.csv')"
   ]
  },
  {
   "cell_type": "code",
   "execution_count": 144,
   "metadata": {},
   "outputs": [
    {
     "data": {
      "text/plain": [
       "200"
      ]
     },
     "execution_count": 144,
     "metadata": {},
     "output_type": "execute_result"
    }
   ],
   "source": [
    "explore5.filter(F.col('countDiferent')==0).count()"
   ]
  },
  {
   "cell_type": "code",
   "execution_count": 146,
   "metadata": {},
   "outputs": [
    {
     "data": {
      "text/plain": [
       "678"
      ]
     },
     "execution_count": 146,
     "metadata": {},
     "output_type": "execute_result"
    }
   ],
   "source": [
    "explore5.filter(F.col('countDiferent')>0).count()"
   ]
  },
  {
   "cell_type": "code",
   "execution_count": 105,
   "metadata": {},
   "outputs": [],
   "source": [
    "colus=['percentage','totalDiseasesTarget']"
   ]
  },
  {
   "cell_type": "code",
   "execution_count": 160,
   "metadata": {},
   "outputs": [],
   "source": [
    "exploreDisease = (\n",
    "    explore_contra3.groupBy(\"diseaseId\")\n",
    "    .agg(\n",
    "        F.sum(F.when(F.col(\"uniqueTerms\") == 1, F.lit(1)).otherwise(F.lit(0))).alias(\n",
    "            \"countsUniqueTerms\"\n",
    "        ),\n",
    "        F.count(\"diseaseId\").alias(\"totalDiseasesTarget\"),\n",
    "    )\n",
    "    .withColumn(\"percentage\", (F.col(\"countsUniqueTerms\") / F.col(\"totalDiseasesTarget\")) * 100)\n",
    "    .orderBy(colus, ascending=False)\n",
    ")\n"
   ]
  },
  {
   "cell_type": "code",
   "execution_count": 161,
   "metadata": {},
   "outputs": [
    {
     "name": "stdout",
     "output_type": "stream",
     "text": [
      "+-------------+-----------------+-------------------+----------+\n",
      "|    diseaseId|countsUniqueTerms|totalDiseasesTarget|percentage|\n",
      "+-------------+-----------------+-------------------+----------+\n",
      "|  EFO_0005192|              245|                245|     100.0|\n",
      "|  EFO_0007978|               48|                 48|     100.0|\n",
      "|  EFO_0004614|               29|                 29|     100.0|\n",
      "|  EFO_0007997|               14|                 14|     100.0|\n",
      "|  EFO_0003958|                8|                  8|     100.0|\n",
      "|  EFO_0009389|                8|                  8|     100.0|\n",
      "|  EFO_0010972|                7|                  7|     100.0|\n",
      "|MONDO_0001330|                7|                  7|     100.0|\n",
      "|  EFO_1001884|                7|                  7|     100.0|\n",
      "|  EFO_1000172|                6|                  6|     100.0|\n",
      "|   HP_0003326|                5|                  5|     100.0|\n",
      "|  EFO_0007996|                5|                  5|     100.0|\n",
      "|  EFO_0009795|                5|                  5|     100.0|\n",
      "|  EFO_1000613|                5|                  5|     100.0|\n",
      "|  EFO_1001949|                4|                  4|     100.0|\n",
      "|  EFO_0007994|                4|                  4|     100.0|\n",
      "|  EFO_0008219|                4|                  4|     100.0|\n",
      "|  EFO_0009189|                4|                  4|     100.0|\n",
      "|  EFO_0004581|                4|                  4|     100.0|\n",
      "|  EFO_0004629|                4|                  4|     100.0|\n",
      "+-------------+-----------------+-------------------+----------+\n",
      "only showing top 20 rows\n",
      "\n"
     ]
    }
   ],
   "source": [
    "exploreDisease.show()"
   ]
  },
  {
   "cell_type": "code",
   "execution_count": 162,
   "metadata": {},
   "outputs": [],
   "source": [
    "exploreDisease.toPandas().to_csv('percentage.csv')"
   ]
  },
  {
   "cell_type": "code",
   "execution_count": 156,
   "metadata": {},
   "outputs": [
    {
     "name": "stdout",
     "output_type": "stream",
     "text": [
      "+-------+--------------+------------------+-------------------+------------------+\n",
      "|summary|     diseaseId|            counts|totalDiseasesTarget|        percentage|\n",
      "+-------+--------------+------------------+-------------------+------------------+\n",
      "|  count|           878|               878|                878|               878|\n",
      "|   mean|          null| 4.747152619589977| 15.456719817767654| 32.56767075091109|\n",
      "| stddev|          null|23.665086887209803|  49.78134465041143|42.013098643825955|\n",
      "|    min|   EFO_0000094|                 0|                  1|               0.0|\n",
      "|    max|Orphanet_99880|               394|                508|             100.0|\n",
      "+-------+--------------+------------------+-------------------+------------------+\n",
      "\n"
     ]
    }
   ],
   "source": [
    "exploreDisease.describe().show()"
   ]
  },
  {
   "cell_type": "code",
   "execution_count": 122,
   "metadata": {},
   "outputs": [
    {
     "data": {
      "text/plain": [
       "200"
      ]
     },
     "execution_count": 122,
     "metadata": {},
     "output_type": "execute_result"
    }
   ],
   "source": [
    "exploreDisease.filter(F.col('counts')==1).count()"
   ]
  },
  {
   "cell_type": "code",
   "execution_count": null,
   "metadata": {},
   "outputs": [],
   "source": [
    "#### From the 678 diseases, take the percentage of them that "
   ]
  },
  {
   "cell_type": "code",
   "execution_count": null,
   "metadata": {},
   "outputs": [],
   "source": []
  },
  {
   "cell_type": "code",
   "execution_count": 269,
   "metadata": {},
   "outputs": [],
   "source": [
    "\n",
    "data = exploreDisease.select(F.col(\"percentage\"), F.col(\"countsUniqueTerms\")).toPandas()"
   ]
  },
  {
   "cell_type": "code",
   "execution_count": 272,
   "metadata": {},
   "outputs": [
    {
     "data": {
      "text/plain": [
       "423"
      ]
     },
     "execution_count": 272,
     "metadata": {},
     "output_type": "execute_result"
    }
   ],
   "source": [
    "exploreDisease.filter(F.col('countsUniqueTerms')!=0).count()"
   ]
  },
  {
   "cell_type": "code",
   "execution_count": null,
   "metadata": {},
   "outputs": [],
   "source": [
    "data = exploreDisease.select(F.col(\"percentage\"), F.col(\"countsUniqueTerms\")).toPandas()"
   ]
  },
  {
   "cell_type": "code",
   "execution_count": 271,
   "metadata": {},
   "outputs": [
    {
     "data": {
      "image/png": "[encoded data removed]",
      "text/plain": [
       "<Figure size 1000x800 with 1 Axes>"
      ]
     },
     "metadata": {},
     "output_type": "display_data"
    }
   ],
   "source": [
    "import numpy as np\n",
    "import matplotlib.pyplot as plt\n",
    "x0=-10\n",
    "\n",
    "x = data['percentage']\n",
    "bins = np.arange(0, 120+x0, 10.0)\n",
    "\n",
    "plt.figure(figsize=(10,8))\n",
    "# the histogram of the data\n",
    "\n",
    "plt.hist(x, bins, alpha=0.8, histtype='bar', color='dodgerblue',\n",
    "         ec='black',weights=np.zeros_like(x) + 100. / x.size)\n",
    "var = 'Percentage of target-trait contradicted per trait'\n",
    "plt.xlabel(var)\n",
    "plt.ylabel('percentage')\n",
    "plt.xticks(bins)\n",
    "plt.show()"
   ]
  },
  {
   "cell_type": "code",
   "execution_count": null,
   "metadata": {},
   "outputs": [],
   "source": []
  },
  {
   "cell_type": "code",
   "execution_count": 118,
   "metadata": {},
   "outputs": [
    {
     "ename": "AttributeError",
     "evalue": "'AxesSubplot' object has no attribute 'update_layout'",
     "output_type": "error",
     "traceback": [
      "\u001b[0;31m---------------------------------------------------------------------------\u001b[0m",
      "\u001b[0;31mAttributeError\u001b[0m                            Traceback (most recent call last)",
      "Cell \u001b[0;32mIn[118], line 6\u001b[0m\n\u001b[1;32m      4\u001b[0m \u001b[39m# Plot the bar chart using Matplotlib\u001b[39;00m\n\u001b[1;32m      5\u001b[0m fig\u001b[39m=\u001b[39mdata\u001b[39m.\u001b[39mplot\u001b[39m.\u001b[39mscatter(x\u001b[39m=\u001b[39m\u001b[39m'\u001b[39m\u001b[39mcounts\u001b[39m\u001b[39m'\u001b[39m, y\u001b[39m=\u001b[39m\u001b[39m'\u001b[39m\u001b[39mpercentage\u001b[39m\u001b[39m'\u001b[39m)\n\u001b[0;32m----> 6\u001b[0m fig\u001b[39m.\u001b[39;49mupdate_layout(template\u001b[39m=\u001b[39m\u001b[39m\"\u001b[39m\u001b[39mplotly_dark\u001b[39m\u001b[39m\"\u001b[39m)\n",
      "\u001b[0;31mAttributeError\u001b[0m: 'AxesSubplot' object has no attribute 'update_layout'"
     ]
    },
    {
     "data": {
      "image/png": "[encoded data removed]",
      "text/plain": [
       "<Figure size 640x480 with 1 Axes>"
      ]
     },
     "metadata": {},
     "output_type": "display_data"
    }
   ],
   "source": [
    "data = exploreDisease.select(F.col(\"percentage\"), F.col(\"counts\")).toPandas()\n",
    "# Plot the bar chart using Matplotlib\n",
    "fig=data.plot.scatter(x='counts', y='percentage')\n",
    "fig.update_layout(template=\"plotly_dark\")  \n"
   ]
  },
  {
   "cell_type": "code",
   "execution_count": 68,
   "metadata": {},
   "outputs": [
    {
     "name": "stderr",
     "output_type": "stream",
     "text": [
      "/opt/anaconda3/envs/python/lib/python3.10/site-packages/pandas/core/internals/blocks.py:2323: RuntimeWarning: invalid value encountered in cast\n",
      "  values = values.astype(str)\n"
     ]
    }
   ],
   "source": [
    "explore_contra2.toPandas().to_csv('explore_contra2_24feb.csv')"
   ]
  },
  {
   "cell_type": "code",
   "execution_count": 165,
   "metadata": {},
   "outputs": [
    {
     "name": "stdout",
     "output_type": "stream",
     "text": [
      "+-------------+--------------------+\n",
      "|           id|          tradeNames|\n",
      "+-------------+--------------------+\n",
      "|CHEMBL1173055|                  []|\n",
      "|CHEMBL1200910|[Gantrisin, Gantr...|\n",
      "|CHEMBL1201248|            [Nimbex]|\n",
      "|CHEMBL1201468|[Amnestrogen, Est...|\n",
      "|CHEMBL1201718|[Cumulase, Hylene...|\n",
      "|CHEMBL1201772|            [Efient]|\n",
      "|CHEMBL1234354|                  []|\n",
      "|CHEMBL1408759|                  []|\n",
      "|   CHEMBL1423|    [Orap, Pimozide]|\n",
      "|CHEMBL1476500|                  []|\n",
      "|   CHEMBL1515|[Favistan, Methim...|\n",
      "|  CHEMBL15844|                  []|\n",
      "|CHEMBL1591365|                  []|\n",
      "|  CHEMBL16081|                  []|\n",
      "|   CHEMBL1622|[Bio science, Fol...|\n",
      "|CHEMBL1683544|           [Halaven]|\n",
      "|   CHEMBL1729|[Alimix, Prepulsi...|\n",
      "|CHEMBL1743065|                  []|\n",
      "|CHEMBL1789941|            [Jakavi]|\n",
      "|CHEMBL1823817|                  []|\n",
      "+-------------+--------------------+\n",
      "only showing top 20 rows\n",
      "\n"
     ]
    }
   ],
   "source": [
    "drug.select('id','tradeNames').show()"
   ]
  },
  {
   "cell_type": "code",
   "execution_count": 167,
   "metadata": {},
   "outputs": [
    {
     "name": "stdout",
     "output_type": "stream",
     "text": [
      "root\n",
      " |-- datasourceId: string (nullable = true)\n",
      " |-- targetId: string (nullable = true)\n",
      " |-- alleleOrigins: array (nullable = true)\n",
      " |    |-- element: string (containsNull = true)\n",
      " |-- allelicRequirements: array (nullable = true)\n",
      " |    |-- element: string (containsNull = true)\n",
      " |-- ancestry: string (nullable = true)\n",
      " |-- ancestryId: string (nullable = true)\n",
      " |-- beta: double (nullable = true)\n",
      " |-- betaConfidenceIntervalLower: double (nullable = true)\n",
      " |-- betaConfidenceIntervalUpper: double (nullable = true)\n",
      " |-- biologicalModelAllelicComposition: string (nullable = true)\n",
      " |-- biologicalModelGeneticBackground: string (nullable = true)\n",
      " |-- biologicalModelId: string (nullable = true)\n",
      " |-- biomarkerName: string (nullable = true)\n",
      " |-- biomarkers: struct (nullable = true)\n",
      " |    |-- geneExpression: array (nullable = true)\n",
      " |    |    |-- element: struct (containsNull = true)\n",
      " |    |    |    |-- id: string (nullable = true)\n",
      " |    |    |    |-- name: string (nullable = true)\n",
      " |    |-- variant: array (nullable = true)\n",
      " |    |    |-- element: struct (containsNull = true)\n",
      " |    |    |    |-- functionalConsequenceId: string (nullable = true)\n",
      " |    |    |    |-- id: string (nullable = true)\n",
      " |    |    |    |-- name: string (nullable = true)\n",
      " |-- biosamplesFromSource: array (nullable = true)\n",
      " |    |-- element: string (containsNull = true)\n",
      " |-- clinicalPhase: long (nullable = true)\n",
      " |-- clinicalSignificances: array (nullable = true)\n",
      " |    |-- element: string (containsNull = true)\n",
      " |-- clinicalStatus: string (nullable = true)\n",
      " |-- cohortDescription: string (nullable = true)\n",
      " |-- cohortId: string (nullable = true)\n",
      " |-- cohortPhenotypes: array (nullable = true)\n",
      " |    |-- element: string (containsNull = true)\n",
      " |-- cohortShortName: string (nullable = true)\n",
      " |-- confidence: string (nullable = true)\n",
      " |-- contrast: string (nullable = true)\n",
      " |-- datatypeId: string (nullable = true)\n",
      " |-- diseaseCellLines: array (nullable = true)\n",
      " |    |-- element: struct (containsNull = true)\n",
      " |    |    |-- id: string (nullable = true)\n",
      " |    |    |-- name: string (nullable = true)\n",
      " |    |    |-- tissue: string (nullable = true)\n",
      " |    |    |-- tissueId: string (nullable = true)\n",
      " |-- diseaseFromSource: string (nullable = true)\n",
      " |-- diseaseFromSourceId: string (nullable = true)\n",
      " |-- diseaseFromSourceMappedId: string (nullable = true)\n",
      " |-- diseaseModelAssociatedHumanPhenotypes: array (nullable = true)\n",
      " |    |-- element: struct (containsNull = true)\n",
      " |    |    |-- id: string (nullable = true)\n",
      " |    |    |-- label: string (nullable = true)\n",
      " |-- diseaseModelAssociatedModelPhenotypes: array (nullable = true)\n",
      " |    |-- element: struct (containsNull = true)\n",
      " |    |    |-- id: string (nullable = true)\n",
      " |    |    |-- label: string (nullable = true)\n",
      " |-- drugFromSource: string (nullable = true)\n",
      " |-- drugId: string (nullable = true)\n",
      " |-- drugResponse: string (nullable = true)\n",
      " |-- literature: array (nullable = true)\n",
      " |    |-- element: string (containsNull = true)\n",
      " |-- log2FoldChangePercentileRank: long (nullable = true)\n",
      " |-- log2FoldChangeValue: double (nullable = true)\n",
      " |-- mutatedSamples: array (nullable = true)\n",
      " |    |-- element: struct (containsNull = true)\n",
      " |    |    |-- functionalConsequenceId: string (nullable = true)\n",
      " |    |    |-- numberMutatedSamples: long (nullable = true)\n",
      " |    |    |-- numberSamplesTested: long (nullable = true)\n",
      " |    |    |-- numberSamplesWithMutationType: long (nullable = true)\n",
      " |-- oddsRatio: double (nullable = true)\n",
      " |-- oddsRatioConfidenceIntervalLower: double (nullable = true)\n",
      " |-- oddsRatioConfidenceIntervalUpper: double (nullable = true)\n",
      " |-- pValueExponent: long (nullable = true)\n",
      " |-- pValueMantissa: double (nullable = true)\n",
      " |-- pathways: array (nullable = true)\n",
      " |    |-- element: struct (containsNull = true)\n",
      " |    |    |-- id: string (nullable = true)\n",
      " |    |    |-- name: string (nullable = true)\n",
      " |-- pmcIds: array (nullable = true)\n",
      " |    |-- element: string (containsNull = true)\n",
      " |-- projectId: string (nullable = true)\n",
      " |-- publicationFirstAuthor: string (nullable = true)\n",
      " |-- publicationYear: long (nullable = true)\n",
      " |-- reactionId: string (nullable = true)\n",
      " |-- reactionName: string (nullable = true)\n",
      " |-- resourceScore: double (nullable = true)\n",
      " |-- sex: array (nullable = true)\n",
      " |    |-- element: string (containsNull = true)\n",
      " |-- significantDriverMethods: array (nullable = true)\n",
      " |    |-- element: string (containsNull = true)\n",
      " |-- statisticalMethod: string (nullable = true)\n",
      " |-- statisticalMethodOverview: string (nullable = true)\n",
      " |-- studyCases: long (nullable = true)\n",
      " |-- studyCasesWithQualifyingVariants: long (nullable = true)\n",
      " |-- studyId: string (nullable = true)\n",
      " |-- studyOverview: string (nullable = true)\n",
      " |-- studySampleSize: long (nullable = true)\n",
      " |-- studyStartDate: string (nullable = true)\n",
      " |-- studyStopReason: string (nullable = true)\n",
      " |-- studyStopReasonCategories: array (nullable = true)\n",
      " |    |-- element: string (containsNull = true)\n",
      " |-- targetFromSource: string (nullable = true)\n",
      " |-- targetFromSourceId: string (nullable = true)\n",
      " |-- targetInModel: string (nullable = true)\n",
      " |-- targetInModelEnsemblId: string (nullable = true)\n",
      " |-- targetInModelMgiId: string (nullable = true)\n",
      " |-- targetModulation: string (nullable = true)\n",
      " |-- textMiningSentences: array (nullable = true)\n",
      " |    |-- element: struct (containsNull = true)\n",
      " |    |    |-- dEnd: long (nullable = true)\n",
      " |    |    |-- dStart: long (nullable = true)\n",
      " |    |    |-- section: string (nullable = true)\n",
      " |    |    |-- tEnd: long (nullable = true)\n",
      " |    |    |-- tStart: long (nullable = true)\n",
      " |    |    |-- text: string (nullable = true)\n",
      " |-- urls: array (nullable = true)\n",
      " |    |-- element: struct (containsNull = true)\n",
      " |    |    |-- niceName: string (nullable = true)\n",
      " |    |    |-- url: string (nullable = true)\n",
      " |-- variantAminoacidDescriptions: array (nullable = true)\n",
      " |    |-- element: string (containsNull = true)\n",
      " |-- variantFunctionalConsequenceFromQtlId: string (nullable = true)\n",
      " |-- variantFunctionalConsequenceId: string (nullable = true)\n",
      " |-- variantHgvsId: string (nullable = true)\n",
      " |-- variantId: string (nullable = true)\n",
      " |-- variantRsId: string (nullable = true)\n",
      " |-- diseaseId: string (nullable = true)\n",
      " |-- id: string (nullable = true)\n",
      " |-- score: double (nullable = true)\n",
      "\n"
     ]
    }
   ],
   "source": [
    "chembl.printSchema()"
   ]
  },
  {
   "cell_type": "code",
   "execution_count": 168,
   "metadata": {},
   "outputs": [
    {
     "name": "stdout",
     "output_type": "stream",
     "text": [
      "root\n",
      " |-- id: string (nullable = true)\n",
      " |-- approvedSymbol: string (nullable = true)\n",
      " |-- biotype: string (nullable = true)\n",
      " |-- transcriptIds: array (nullable = true)\n",
      " |    |-- element: string (containsNull = true)\n",
      " |-- canonicalTranscript: struct (nullable = true)\n",
      " |    |-- id: string (nullable = true)\n",
      " |    |-- chromosome: string (nullable = true)\n",
      " |    |-- start: long (nullable = true)\n",
      " |    |-- end: long (nullable = true)\n",
      " |    |-- strand: string (nullable = true)\n",
      " |-- canonicalExons: array (nullable = true)\n",
      " |    |-- element: string (containsNull = true)\n",
      " |-- genomicLocation: struct (nullable = true)\n",
      " |    |-- chromosome: string (nullable = true)\n",
      " |    |-- start: long (nullable = true)\n",
      " |    |-- end: long (nullable = true)\n",
      " |    |-- strand: integer (nullable = true)\n",
      " |-- alternativeGenes: array (nullable = true)\n",
      " |    |-- element: string (containsNull = true)\n",
      " |-- approvedName: string (nullable = true)\n",
      " |-- go: array (nullable = true)\n",
      " |    |-- element: struct (containsNull = true)\n",
      " |    |    |-- id: string (nullable = true)\n",
      " |    |    |-- source: string (nullable = true)\n",
      " |    |    |-- evidence: string (nullable = true)\n",
      " |    |    |-- aspect: string (nullable = true)\n",
      " |    |    |-- geneProduct: string (nullable = true)\n",
      " |    |    |-- ecoId: string (nullable = true)\n",
      " |-- hallmarks: struct (nullable = true)\n",
      " |    |-- attributes: array (nullable = true)\n",
      " |    |    |-- element: struct (containsNull = true)\n",
      " |    |    |    |-- pmid: long (nullable = true)\n",
      " |    |    |    |-- description: string (nullable = true)\n",
      " |    |    |    |-- attribute_name: string (nullable = true)\n",
      " |    |-- cancerHallmarks: array (nullable = true)\n",
      " |    |    |-- element: struct (containsNull = true)\n",
      " |    |    |    |-- pmid: long (nullable = true)\n",
      " |    |    |    |-- description: string (nullable = true)\n",
      " |    |    |    |-- impact: string (nullable = true)\n",
      " |    |    |    |-- label: string (nullable = true)\n",
      " |-- synonyms: array (nullable = true)\n",
      " |    |-- element: struct (containsNull = true)\n",
      " |    |    |-- label: string (nullable = true)\n",
      " |    |    |-- source: string (nullable = true)\n",
      " |-- symbolSynonyms: array (nullable = true)\n",
      " |    |-- element: struct (containsNull = true)\n",
      " |    |    |-- label: string (nullable = true)\n",
      " |    |    |-- source: string (nullable = true)\n",
      " |-- nameSynonyms: array (nullable = true)\n",
      " |    |-- element: struct (containsNull = true)\n",
      " |    |    |-- label: string (nullable = true)\n",
      " |    |    |-- source: string (nullable = true)\n",
      " |-- functionDescriptions: array (nullable = true)\n",
      " |    |-- element: string (containsNull = true)\n",
      " |-- subcellularLocations: array (nullable = true)\n",
      " |    |-- element: struct (containsNull = true)\n",
      " |    |    |-- location: string (nullable = true)\n",
      " |    |    |-- source: string (nullable = true)\n",
      " |    |    |-- termSL: string (nullable = true)\n",
      " |    |    |-- labelSL: string (nullable = true)\n",
      " |-- targetClass: array (nullable = true)\n",
      " |    |-- element: struct (containsNull = true)\n",
      " |    |    |-- id: long (nullable = true)\n",
      " |    |    |-- label: string (nullable = true)\n",
      " |    |    |-- level: string (nullable = true)\n",
      " |-- obsoleteSymbols: array (nullable = true)\n",
      " |    |-- element: struct (containsNull = true)\n",
      " |    |    |-- label: string (nullable = true)\n",
      " |    |    |-- source: string (nullable = true)\n",
      " |-- obsoleteNames: array (nullable = true)\n",
      " |    |-- element: struct (containsNull = true)\n",
      " |    |    |-- label: string (nullable = true)\n",
      " |    |    |-- source: string (nullable = true)\n",
      " |-- constraint: array (nullable = true)\n",
      " |    |-- element: struct (containsNull = true)\n",
      " |    |    |-- constraintType: string (nullable = true)\n",
      " |    |    |-- score: float (nullable = true)\n",
      " |    |    |-- exp: float (nullable = true)\n",
      " |    |    |-- obs: integer (nullable = true)\n",
      " |    |    |-- oe: float (nullable = true)\n",
      " |    |    |-- oeLower: float (nullable = true)\n",
      " |    |    |-- oeUpper: float (nullable = true)\n",
      " |    |    |-- upperRank: integer (nullable = true)\n",
      " |    |    |-- upperBin: integer (nullable = true)\n",
      " |    |    |-- upperBin6: integer (nullable = true)\n",
      " |-- tep: struct (nullable = true)\n",
      " |    |-- targetFromSourceId: string (nullable = true)\n",
      " |    |-- description: string (nullable = true)\n",
      " |    |-- therapeuticArea: string (nullable = true)\n",
      " |    |-- url: string (nullable = true)\n",
      " |-- proteinIds: array (nullable = true)\n",
      " |    |-- element: struct (containsNull = true)\n",
      " |    |    |-- id: string (nullable = true)\n",
      " |    |    |-- source: string (nullable = true)\n",
      " |-- dbXrefs: array (nullable = true)\n",
      " |    |-- element: struct (containsNull = true)\n",
      " |    |    |-- id: string (nullable = true)\n",
      " |    |    |-- source: string (nullable = true)\n",
      " |-- chemicalProbes: array (nullable = true)\n",
      " |    |-- element: struct (containsNull = true)\n",
      " |    |    |-- control: string (nullable = true)\n",
      " |    |    |-- drugId: string (nullable = true)\n",
      " |    |    |-- id: string (nullable = true)\n",
      " |    |    |-- isHighQuality: boolean (nullable = true)\n",
      " |    |    |-- mechanismOfAction: array (nullable = true)\n",
      " |    |    |    |-- element: string (containsNull = true)\n",
      " |    |    |-- origin: array (nullable = true)\n",
      " |    |    |    |-- element: string (containsNull = true)\n",
      " |    |    |-- probeMinerScore: double (nullable = true)\n",
      " |    |    |-- probesDrugsScore: double (nullable = true)\n",
      " |    |    |-- scoreInCells: double (nullable = true)\n",
      " |    |    |-- scoreInOrganisms: double (nullable = true)\n",
      " |    |    |-- targetFromSourceId: string (nullable = true)\n",
      " |    |    |-- urls: array (nullable = true)\n",
      " |    |    |    |-- element: struct (containsNull = true)\n",
      " |    |    |    |    |-- niceName: string (nullable = true)\n",
      " |    |    |    |    |-- url: string (nullable = true)\n",
      " |-- homologues: array (nullable = true)\n",
      " |    |-- element: struct (containsNull = true)\n",
      " |    |    |-- speciesId: string (nullable = true)\n",
      " |    |    |-- speciesName: string (nullable = true)\n",
      " |    |    |-- homologyType: string (nullable = true)\n",
      " |    |    |-- targetGeneId: string (nullable = true)\n",
      " |    |    |-- isHighConfidence: string (nullable = true)\n",
      " |    |    |-- targetGeneSymbol: string (nullable = true)\n",
      " |    |    |-- queryPercentageIdentity: double (nullable = true)\n",
      " |    |    |-- targetPercentageIdentity: double (nullable = true)\n",
      " |    |    |-- priority: integer (nullable = true)\n",
      " |-- tractability: array (nullable = true)\n",
      " |    |-- element: struct (containsNull = true)\n",
      " |    |    |-- modality: string (nullable = true)\n",
      " |    |    |-- id: string (nullable = true)\n",
      " |    |    |-- value: boolean (nullable = true)\n",
      " |-- safetyLiabilities: array (nullable = true)\n",
      " |    |-- element: struct (containsNull = true)\n",
      " |    |    |-- event: string (nullable = true)\n",
      " |    |    |-- eventId: string (nullable = true)\n",
      " |    |    |-- effects: array (nullable = true)\n",
      " |    |    |    |-- element: struct (containsNull = true)\n",
      " |    |    |    |    |-- direction: string (nullable = true)\n",
      " |    |    |    |    |-- dosing: string (nullable = true)\n",
      " |    |    |-- biosample: array (nullable = true)\n",
      " |    |    |    |-- element: struct (containsNull = true)\n",
      " |    |    |    |    |-- tissueLabel: string (nullable = true)\n",
      " |    |    |    |    |-- tissueId: string (nullable = true)\n",
      " |    |    |    |    |-- cellLabel: string (nullable = true)\n",
      " |    |    |    |    |-- cellFormat: string (nullable = true)\n",
      " |    |    |    |    |-- cellId: string (nullable = true)\n",
      " |    |    |-- datasource: string (nullable = true)\n",
      " |    |    |-- literature: string (nullable = true)\n",
      " |    |    |-- url: string (nullable = true)\n",
      " |    |    |-- study: array (nullable = true)\n",
      " |    |    |    |-- element: struct (containsNull = true)\n",
      " |    |    |    |    |-- name: string (nullable = true)\n",
      " |    |    |    |    |-- description: string (nullable = true)\n",
      " |    |    |    |    |-- type: string (nullable = true)\n",
      " |-- pathways: array (nullable = true)\n",
      " |    |-- element: struct (containsNull = true)\n",
      " |    |    |-- pathwayId: string (nullable = true)\n",
      " |    |    |-- pathway: string (nullable = true)\n",
      " |    |    |-- topLevelTerm: string (nullable = true)\n",
      "\n"
     ]
    }
   ],
   "source": [
    "target.printSchema()"
   ]
  },
  {
   "cell_type": "code",
   "execution_count": 170,
   "metadata": {},
   "outputs": [
    {
     "name": "stdout",
     "output_type": "stream",
     "text": [
      "root\n",
      " |-- id: string (nullable = true)\n",
      " |-- indications: array (nullable = true)\n",
      " |    |-- element: struct (containsNull = true)\n",
      " |    |    |-- disease: string (nullable = true)\n",
      " |    |    |-- efoName: string (nullable = true)\n",
      " |    |    |-- references: array (nullable = true)\n",
      " |    |    |    |-- element: struct (containsNull = true)\n",
      " |    |    |    |    |-- source: string (nullable = true)\n",
      " |    |    |    |    |-- ids: array (nullable = true)\n",
      " |    |    |    |    |    |-- element: string (containsNull = true)\n",
      " |    |    |-- maxPhaseForIndication: long (nullable = true)\n",
      " |-- approvedIndications: array (nullable = true)\n",
      " |    |-- element: string (containsNull = true)\n",
      " |-- indicationCount: integer (nullable = true)\n",
      "\n"
     ]
    }
   ],
   "source": [
    "indication.printSchema()"
   ]
  },
  {
   "cell_type": "code",
   "execution_count": null,
   "metadata": {},
   "outputs": [],
   "source": [
    "eva_path=\"/Users/juanr/Desktop/Target_Engine/DownloadFebruary_Release23.02/evidence/sourceId=eva\"\n"
   ]
  },
  {
   "cell_type": "code",
   "execution_count": 173,
   "metadata": {},
   "outputs": [],
   "source": [
    "path='/Users/juanr/Desktop/frdb-drugs.tsv'\n",
    "df = spark.read.csv(path, sep=r'\\t', header=True)\n",
    "\n",
    "\n",
    "# explore_contra2.toPandas().to_csv('exploringDataSource_20230222.csv')\n",
    "\n"
   ]
  },
  {
   "cell_type": "code",
   "execution_count": 5,
   "metadata": {},
   "outputs": [],
   "source": [
    "impc_path=\"/Users/juanr/Desktop/Target_Engine/DownloadFebruary_Release23.02/evidence/sourceId=impc\"\n",
    "impc=spark.read.parquet(impc_path)"
   ]
  },
  {
   "cell_type": "code",
   "execution_count": 397,
   "metadata": {},
   "outputs": [],
   "source": [
    "path='/Users/juanr/Desktop/gene_attribute_matrix.tsv'\n",
    "dftxt = spark.read.csv(path, sep=r'\\t')"
   ]
  },
  {
   "cell_type": "code",
   "execution_count": null,
   "metadata": {},
   "outputs": [],
   "source": [
    "dftxt.show()"
   ]
  },
  {
   "cell_type": "code",
   "execution_count": 174,
   "metadata": {},
   "outputs": [
    {
     "name": "stdout",
     "output_type": "stream",
     "text": [
      "+-----------+-------------------+-------------+\n",
      "|compound_id|      compound_name|compound_unii|\n",
      "+-----------+-------------------+-------------+\n",
      "|          1|       STEMREGENIN1|   RNE1V1F9O1|\n",
      "|          3|      AMITRIPTYLINE|   1806D8D52K|\n",
      "|          4|        DEFERASIROX|   V8G4MOF2V9|\n",
      "|          5|PERAMIVIR ANHYDROUS|   9ZS94HQO3B|\n",
      "|          6|        CEFTOLOZANE|   37A4IES95Q|\n",
      "|          7|          DASABUVIR|   DE54EQW8T1|\n",
      "|          8|           OLAPARIB|   WOH1JD9AR8|\n",
      "|          9|       FINAFLOXACIN|   D26OSN9Q4R|\n",
      "|         10|        PIRFENIDONE|   D7NLD2JX7U|\n",
      "|         11|         NINTEDANIB|   G6HRD2P839|\n",
      "|         13|         LEDIPASVIR|   013TE6E4WV|\n",
      "|         14|          NALOXEGOL|   44T7335BKE|\n",
      "|         15|         ELIGLUSTAT|   DR40J4WA67|\n",
      "|         16|         SUVOREXANT|   081L192FO9|\n",
      "|         17|      EMPAGLIFLOZIN|   HDC1R2M35U|\n",
      "|         18|         OLODATEROL|   VD2YSN1AFD|\n",
      "|         19|         IDELALISIB|   YG57I8T5M0|\n",
      "|         20|         TAVABOROLE|   K124A4EUQ3|\n",
      "|         21|         BELINOSTAT|   F4H96P17NZ|\n",
      "|         23|      EFINACONAZOLE|   J82SB7FXWB|\n",
      "+-----------+-------------------+-------------+\n",
      "only showing top 20 rows\n",
      "\n"
     ]
    }
   ],
   "source": [
    "df.show()"
   ]
  },
  {
   "cell_type": "code",
   "execution_count": 6,
   "metadata": {},
   "outputs": [
    {
     "name": "stdout",
     "output_type": "stream",
     "text": [
      "23/02/23 15:11:19 WARN package: Truncated the string representation of a plan since it was too large. This behavior can be adjusted by setting 'spark.sql.debug.maxToStringFields'.\n"
     ]
    }
   ],
   "source": [
    "mice=drop_fully_null_columns(impc,'targetId')"
   ]
  },
  {
   "cell_type": "code",
   "execution_count": null,
   "metadata": {},
   "outputs": [],
   "source": [
    "mice.select('targetId','diseaseFromSource','diseaseId','diseaseFromSourceMappedId').show(truncate=False)"
   ]
  },
  {
   "cell_type": "code",
   "execution_count": 195,
   "metadata": {},
   "outputs": [],
   "source": [
    "mice.select('targetId','diseaseFromSource','diseaseId').join(diseases.select('id','ancestors'), diseases.id==F.col('diseaseId'),'left').toPandas().to_csv('ancestors.csv')"
   ]
  },
  {
   "cell_type": "code",
   "execution_count": 32,
   "metadata": {},
   "outputs": [],
   "source": [
    "grouping=(mice\n",
    ".select('targetId','diseaseFromSource','diseaseId')\n",
    ".join(diseases.select('id','ancestors'), diseases.id==F.col('diseaseId'),'left')\n",
    ".select(\n",
    "    'targetId',\n",
    "    F.col('diseaseId').alias('originalDisease'),\n",
    "    F.explode_outer('ancestors').alias('ancestors_1'))\n",
    ".groupBy('ancestors_1')\n",
    ".agg(F.count('targetId'),F.count('originalDisease'))\n",
    ").count()"
   ]
  },
  {
   "cell_type": "code",
   "execution_count": 28,
   "metadata": {},
   "outputs": [],
   "source": [
    "grouped_1=(mice\n",
    ".select('targetId','diseaseFromSource','diseaseId')\n",
    ".join(diseases.select('id','ancestors'), diseases.id==F.col('diseaseId'),'left')\n",
    ".select(\n",
    "    'targetId',\n",
    "    F.col('diseaseId').alias('originalDisease'),\n",
    "    F.explode_outer('ancestors').alias('ancestors_1'))\n",
    "##.groupBy('ancestors')\n",
    "##.agg(F.count('targetId'),F.count('diseaseId'))\n",
    ")\n"
   ]
  },
  {
   "cell_type": "code",
   "execution_count": 37,
   "metadata": {},
   "outputs": [],
   "source": [
    "grouped2=(grouped_1\n",
    ".join(diseases.select('id','ancestors'), diseases.id==F.col('ancestors_1'),'left')\n",
    ".select('targetId','originalDisease','ancestors_1',F.explode_outer('ancestors').alias('ancestors_2')))\n",
    "\n"
   ]
  },
  {
   "cell_type": "code",
   "execution_count": 38,
   "metadata": {},
   "outputs": [
    {
     "data": {
      "text/plain": [
       "2268"
      ]
     },
     "execution_count": 38,
     "metadata": {},
     "output_type": "execute_result"
    }
   ],
   "source": [
    "(grouped2\n",
    ".groupBy('ancestors_2')\n",
    ".agg(F.count('targetId'),F.count('originalDisease'))).count()"
   ]
  },
  {
   "cell_type": "code",
   "execution_count": 44,
   "metadata": {},
   "outputs": [],
   "source": [
    "grouped3=(grouped2\n",
    ".join(diseases.select('id','ancestors'), diseases.id==F.col('ancestors_2'),'left')\n",
    ".select('targetId','originalDisease','ancestors_1','ancestors_2',F.explode_outer('ancestors').alias('ancestors_3')))"
   ]
  },
  {
   "cell_type": "code",
   "execution_count": 45,
   "metadata": {},
   "outputs": [
    {
     "data": {
      "text/plain": [
       "1319"
      ]
     },
     "execution_count": 45,
     "metadata": {},
     "output_type": "execute_result"
    }
   ],
   "source": [
    "(grouped3\n",
    ".groupBy('ancestors_3')\n",
    ".agg(F.count('targetId'),F.count('originalDisease'))).count()"
   ]
  },
  {
   "cell_type": "code",
   "execution_count": 48,
   "metadata": {},
   "outputs": [],
   "source": [
    "grouped4=(grouped3\n",
    ".join(diseases.select('id','ancestors'), diseases.id==F.col('ancestors_3'),'left')\n",
    ".select('targetId','originalDisease','ancestors_1','ancestors_2','ancestors_3',F.explode_outer('ancestors').alias('ancestors_4')))"
   ]
  },
  {
   "cell_type": "code",
   "execution_count": 49,
   "metadata": {},
   "outputs": [
    {
     "data": {
      "text/plain": [
       "769"
      ]
     },
     "execution_count": 49,
     "metadata": {},
     "output_type": "execute_result"
    }
   ],
   "source": [
    "(grouped4\n",
    ".groupBy('ancestors_4')\n",
    ".agg(F.count('targetId'),F.count('originalDisease'))).count()"
   ]
  },
  {
   "cell_type": "code",
   "execution_count": 51,
   "metadata": {},
   "outputs": [
    {
     "name": "stdout",
     "output_type": "stream",
     "text": [
      "+---------------+---------------+----------------------+---------------+--------------------+\n",
      "|    ancestors_4|count(targetId)|count(originalDisease)|             id|                name|\n",
      "+---------------+---------------+----------------------+---------------+--------------------+\n",
      "|  MONDO_0021193|           6255|                  6255|  MONDO_0021193|neuroepithelial n...|\n",
      "|  MONDO_0001493|             45|                    45|  MONDO_0001493|chronic pulmonary...|\n",
      "|  MONDO_0005129|            311|                   311|  MONDO_0005129|            cataract|\n",
      "|  MONDO_0024635|             70|                    70|  MONDO_0024635|small intestine d...|\n",
      "|  MONDO_0020019|            828|                   828|  MONDO_0020019|digestive tract m...|\n",
      "|  MONDO_0021248|          59041|                 59041|  MONDO_0021248|nervous system ne...|\n",
      "|  MONDO_0020590|             60|                    60|  MONDO_0020590|mycobacterial inf...|\n",
      "|  MONDO_0015962|              9|                     9|  MONDO_0015962|inherited renal t...|\n",
      "|  MONDO_0002108|            120|                   120|  MONDO_0002108|      thyroid cancer|\n",
      "|    EFO_0000701|         397799|                397799|    EFO_0000701|        skin disease|\n",
      "|Orphanet_183557|          20003|                 20003|Orphanet_183557|Genetic developme...|\n",
      "|  MONDO_0044991|           1544|                  1544|  MONDO_0044991|upper digestive t...|\n",
      "|    EFO_0009556|          34171|                 34171|    EFO_0009556|mineral metabolis...|\n",
      "|    EFO_0005803|        1620715|               1620715|    EFO_0005803| hematologic disease|\n",
      "|    EFO_1000627|           6934|                  6934|    EFO_1000627|     thyroid disease|\n",
      "|    EFO_0003863|          20749|                 20749|    EFO_0003863| urogenital neoplasm|\n",
      "|    EFO_0002970|         895609|                895609|    EFO_0002970|    muscular disease|\n",
      "|    EFO_0009606|            792|                   792|    EFO_0009606|macular degeneration|\n",
      "|  MONDO_0016387|              6|                     6|  MONDO_0016387|mitochondrial oxi...|\n",
      "|    EFO_1000990|             65|                    65|    EFO_1000990|intracranial arte...|\n",
      "+---------------+---------------+----------------------+---------------+--------------------+\n",
      "only showing top 20 rows\n",
      "\n"
     ]
    }
   ],
   "source": [
    "(grouped4\n",
    ".groupBy('ancestors_4')\n",
    ".agg(F.count('targetId'),F.count('originalDisease'))\n",
    ".join(diseases.select('id','name'), F.col('ancestors_4')==diseases.id,'left')\n",
    ").show()"
   ]
  },
  {
   "cell_type": "code",
   "execution_count": 52,
   "metadata": {},
   "outputs": [],
   "source": [
    "grouped5=(grouped4\n",
    ".join(diseases.select('id','ancestors'), diseases.id==F.col('ancestors_4'),'left')\n",
    ".select('targetId','originalDisease','ancestors_1','ancestors_2','ancestors_3','ancestors_4',F.explode_outer('ancestors').alias('ancestors_5')))"
   ]
  },
  {
   "cell_type": "code",
   "execution_count": 54,
   "metadata": {},
   "outputs": [
    {
     "data": {
      "text/plain": [
       "453"
      ]
     },
     "execution_count": 54,
     "metadata": {},
     "output_type": "execute_result"
    }
   ],
   "source": [
    "(grouped5.groupBy('ancestors_5')\n",
    ".agg(F.count('targetId'),F.count('originalDisease'))).count()"
   ]
  },
  {
   "cell_type": "code",
   "execution_count": 55,
   "metadata": {},
   "outputs": [],
   "source": [
    "grouped6=(grouped5\n",
    ".join(diseases.select('id','ancestors'), diseases.id==F.col('ancestors_5'),'left')\n",
    ".select('targetId','originalDisease','ancestors_1','ancestors_2','ancestors_3','ancestors_4','ancestors_5',F.explode_outer('ancestors').alias('ancestors_6')))"
   ]
  },
  {
   "cell_type": "code",
   "execution_count": 56,
   "metadata": {},
   "outputs": [
    {
     "data": {
      "text/plain": [
       "270"
      ]
     },
     "execution_count": 56,
     "metadata": {},
     "output_type": "execute_result"
    }
   ],
   "source": [
    "(grouped6.groupBy('ancestors_6')\n",
    ".agg(F.count('targetId'),F.count('originalDisease'))).count()"
   ]
  },
  {
   "cell_type": "code",
   "execution_count": 61,
   "metadata": {},
   "outputs": [],
   "source": [
    "(grouped6.groupBy('ancestors_6')\n",
    ".agg(F.count('targetId'),F.count('originalDisease'))\n",
    ".join(diseases.select('id','name'), F.col('ancestors_6')==diseases.id,'left')\n",
    ".select('name')).toPandas().to_csv('nameDiseasesKO.csv')\n",
    "##).show(truncate=False)"
   ]
  },
  {
   "cell_type": "code",
   "execution_count": null,
   "metadata": {},
   "outputs": [],
   "source": []
  },
  {
   "cell_type": "code",
   "execution_count": 199,
   "metadata": {},
   "outputs": [
    {
     "name": "stdout",
     "output_type": "stream",
     "text": [
      "3996\n"
     ]
    }
   ],
   "source": [
    "print(grouping)\n"
   ]
  },
  {
   "cell_type": "code",
   "execution_count": 8,
   "metadata": {},
   "outputs": [],
   "source": [
    "bad_sufix = [\n",
    "    \"algia\",\n",
    "    \"centesis\",\n",
    "    \"ectomy\",\n",
    "    \"emia\",\n",
    "    \"itis\",\n",
    "    \"oma\",\n",
    "    \"osis\",\n",
    "    \"otomy\",\n",
    "    \"pathy\",\n",
    "    \"rrhea\",\n",
    "    \"scopy\",\n",
    "    \"blast\",\n",
    "    \"cyte\",\n",
    "    \"penia\",\n",
    "    \"plasty\",\n",
    "    \"rrhage\",\n",
    "    \"somy\",\n",
    "    \"lysis\",\n",
    "    \"uria\",\n",
    "]\n",
    "bad_prefix = [\n",
    "    \"anti\",\n",
    "    \"bi\",\n",
    "    \"brady\",\n",
    "    \"dys\",\n",
    "    \"epi\",\n",
    "    \"hyper\",\n",
    "    \"hypo\",\n",
    "    \"macro\",\n",
    "    \"micro\",\n",
    "    \"neo\",\n",
    "    \"poly\",\n",
    "]\n",
    "\n",
    "extra = [\n",
    "    \"severe\",\n",
    "    \"deficien\",\n",
    "    \"disease\",\n",
    "    \"sensitiv\",\n",
    "    \"lytic\",\n",
    "    \"plasia\",\n",
    "    \"syndrom\",\n",
    "    \"disability\",\n",
    "    \"trophy\",\n",
    "    \"nism\",\n",
    "    \"disorder\",\n",
    "    \"failure\",\n",
    "]\n",
    "extra3 = [\n",
    "    \"congenital\",\n",
    "    \"hereditary\",\n",
    "    \"atrophy\",\n",
    "    \"abnormal\",\n",
    "    \"lethal\",\n",
    "    \"pneumoni\",\n",
    "    \"malform\",\n",
    "    \"impair\",\n",
    "    \"deficienc\",\n",
    "    \"ataxia\",\n",
    "    \"hemimelia\",\n",
    "    \"diabet\",\n",
    "    \"delay\",\n",
    "    \"degener\",\n",
    "    \"defect\",\n",
    "    \"schizo\",\n",
    "    \"cancer\",\n",
    "    \"tumor\",\n",
    "    \"paresis\",\n",
    "    \"hemorrhag\",\n",
    "    \"agenesis\",\n",
    "    \"retard\",\n",
    "    \"aneurysm\",\n",
    "    \"familial\",\n",
    "    \"imperfecta\",\n",
    "    \"chronic\",\n",
    "    \"chondro\",\n",
    "    \"lupus\",\n",
    "    \"phaly\",\n",
    "    \"atresia\",\n",
    "    \"autoimmune\",\n",
    "    \"insuffi\",\n",
    "    \"fever\",\n",
    "    \"cyst\",\n",
    "    \"deaf\",\n",
    "    \"brachydac\",\n",
    "    \"cataract\",\n",
    "    \"autism\",\n",
    "    \"deletion\",\n",
    "    \"anergy\",\n",
    "    \"infertility\",\n",
    "    \"calcification\",\n",
    "    \"ermine\",\n",
    "    \"mutation\",\n",
    "    \"woolly\",\n",
    "    \"megalocornea\",\n",
    "    \"piebald\",\n",
    "    \"ventr\",\n",
    "    \"lesion\",\n",
    "    \"atrial\",\n",
    "    \"cardia\",\n",
    "    \"obesity\",\n",
    "    \"mody\",\n",
    "    \"46,x\",\n",
    "    \"alopecia\" \"nephro\",\n",
    "    \"vesico\",\n",
    "    \"xeroderm\",\n",
    "    \"x-linked\",\n",
    "    \"alopecia\",\n",
    "    \"nephro\",\n",
    "]\n"
   ]
  },
  {
   "cell_type": "code",
   "execution_count": 9,
   "metadata": {},
   "outputs": [],
   "source": [
    "apendice='(?i)'\n",
    "badsufix2=list(apendice+s for s in bad_sufix)\n",
    "badprefix2=list(apendice+s for s in bad_prefix)\n",
    "extra2=list(apendice+s for s in extra)\n",
    "extra4=list(apendice+s for s in extra3)"
   ]
  },
  {
   "cell_type": "code",
   "execution_count": 10,
   "metadata": {},
   "outputs": [],
   "source": [
    "mouses=mice.select('targetId','diseaseFromSource','diseaseId')"
   ]
  },
  {
   "cell_type": "code",
   "execution_count": 63,
   "metadata": {},
   "outputs": [
    {
     "name": "stdout",
     "output_type": "stream",
     "text": [
      "root\n",
      " |-- id: string (nullable = true)\n",
      " |-- approvedSymbol: string (nullable = true)\n",
      " |-- biotype: string (nullable = true)\n",
      " |-- transcriptIds: array (nullable = true)\n",
      " |    |-- element: string (containsNull = true)\n",
      " |-- canonicalTranscript: struct (nullable = true)\n",
      " |    |-- id: string (nullable = true)\n",
      " |    |-- chromosome: string (nullable = true)\n",
      " |    |-- start: long (nullable = true)\n",
      " |    |-- end: long (nullable = true)\n",
      " |    |-- strand: string (nullable = true)\n",
      " |-- canonicalExons: array (nullable = true)\n",
      " |    |-- element: string (containsNull = true)\n",
      " |-- genomicLocation: struct (nullable = true)\n",
      " |    |-- chromosome: string (nullable = true)\n",
      " |    |-- start: long (nullable = true)\n",
      " |    |-- end: long (nullable = true)\n",
      " |    |-- strand: integer (nullable = true)\n",
      " |-- alternativeGenes: array (nullable = true)\n",
      " |    |-- element: string (containsNull = true)\n",
      " |-- approvedName: string (nullable = true)\n",
      " |-- go: array (nullable = true)\n",
      " |    |-- element: struct (containsNull = true)\n",
      " |    |    |-- id: string (nullable = true)\n",
      " |    |    |-- source: string (nullable = true)\n",
      " |    |    |-- evidence: string (nullable = true)\n",
      " |    |    |-- aspect: string (nullable = true)\n",
      " |    |    |-- geneProduct: string (nullable = true)\n",
      " |    |    |-- ecoId: string (nullable = true)\n",
      " |-- hallmarks: struct (nullable = true)\n",
      " |    |-- attributes: array (nullable = true)\n",
      " |    |    |-- element: struct (containsNull = true)\n",
      " |    |    |    |-- pmid: long (nullable = true)\n",
      " |    |    |    |-- description: string (nullable = true)\n",
      " |    |    |    |-- attribute_name: string (nullable = true)\n",
      " |    |-- cancerHallmarks: array (nullable = true)\n",
      " |    |    |-- element: struct (containsNull = true)\n",
      " |    |    |    |-- pmid: long (nullable = true)\n",
      " |    |    |    |-- description: string (nullable = true)\n",
      " |    |    |    |-- impact: string (nullable = true)\n",
      " |    |    |    |-- label: string (nullable = true)\n",
      " |-- synonyms: array (nullable = true)\n",
      " |    |-- element: struct (containsNull = true)\n",
      " |    |    |-- label: string (nullable = true)\n",
      " |    |    |-- source: string (nullable = true)\n",
      " |-- symbolSynonyms: array (nullable = true)\n",
      " |    |-- element: struct (containsNull = true)\n",
      " |    |    |-- label: string (nullable = true)\n",
      " |    |    |-- source: string (nullable = true)\n",
      " |-- nameSynonyms: array (nullable = true)\n",
      " |    |-- element: struct (containsNull = true)\n",
      " |    |    |-- label: string (nullable = true)\n",
      " |    |    |-- source: string (nullable = true)\n",
      " |-- functionDescriptions: array (nullable = true)\n",
      " |    |-- element: string (containsNull = true)\n",
      " |-- subcellularLocations: array (nullable = true)\n",
      " |    |-- element: struct (containsNull = true)\n",
      " |    |    |-- location: string (nullable = true)\n",
      " |    |    |-- source: string (nullable = true)\n",
      " |    |    |-- termSL: string (nullable = true)\n",
      " |    |    |-- labelSL: string (nullable = true)\n",
      " |-- targetClass: array (nullable = true)\n",
      " |    |-- element: struct (containsNull = true)\n",
      " |    |    |-- id: long (nullable = true)\n",
      " |    |    |-- label: string (nullable = true)\n",
      " |    |    |-- level: string (nullable = true)\n",
      " |-- obsoleteSymbols: array (nullable = true)\n",
      " |    |-- element: struct (containsNull = true)\n",
      " |    |    |-- label: string (nullable = true)\n",
      " |    |    |-- source: string (nullable = true)\n",
      " |-- obsoleteNames: array (nullable = true)\n",
      " |    |-- element: struct (containsNull = true)\n",
      " |    |    |-- label: string (nullable = true)\n",
      " |    |    |-- source: string (nullable = true)\n",
      " |-- constraint: array (nullable = true)\n",
      " |    |-- element: struct (containsNull = true)\n",
      " |    |    |-- constraintType: string (nullable = true)\n",
      " |    |    |-- score: float (nullable = true)\n",
      " |    |    |-- exp: float (nullable = true)\n",
      " |    |    |-- obs: integer (nullable = true)\n",
      " |    |    |-- oe: float (nullable = true)\n",
      " |    |    |-- oeLower: float (nullable = true)\n",
      " |    |    |-- oeUpper: float (nullable = true)\n",
      " |    |    |-- upperRank: integer (nullable = true)\n",
      " |    |    |-- upperBin: integer (nullable = true)\n",
      " |    |    |-- upperBin6: integer (nullable = true)\n",
      " |-- tep: struct (nullable = true)\n",
      " |    |-- targetFromSourceId: string (nullable = true)\n",
      " |    |-- description: string (nullable = true)\n",
      " |    |-- therapeuticArea: string (nullable = true)\n",
      " |    |-- url: string (nullable = true)\n",
      " |-- proteinIds: array (nullable = true)\n",
      " |    |-- element: struct (containsNull = true)\n",
      " |    |    |-- id: string (nullable = true)\n",
      " |    |    |-- source: string (nullable = true)\n",
      " |-- dbXrefs: array (nullable = true)\n",
      " |    |-- element: struct (containsNull = true)\n",
      " |    |    |-- id: string (nullable = true)\n",
      " |    |    |-- source: string (nullable = true)\n",
      " |-- chemicalProbes: array (nullable = true)\n",
      " |    |-- element: struct (containsNull = true)\n",
      " |    |    |-- control: string (nullable = true)\n",
      " |    |    |-- drugId: string (nullable = true)\n",
      " |    |    |-- id: string (nullable = true)\n",
      " |    |    |-- isHighQuality: boolean (nullable = true)\n",
      " |    |    |-- mechanismOfAction: array (nullable = true)\n",
      " |    |    |    |-- element: string (containsNull = true)\n",
      " |    |    |-- origin: array (nullable = true)\n",
      " |    |    |    |-- element: string (containsNull = true)\n",
      " |    |    |-- probeMinerScore: double (nullable = true)\n",
      " |    |    |-- probesDrugsScore: double (nullable = true)\n",
      " |    |    |-- scoreInCells: double (nullable = true)\n",
      " |    |    |-- scoreInOrganisms: double (nullable = true)\n",
      " |    |    |-- targetFromSourceId: string (nullable = true)\n",
      " |    |    |-- urls: array (nullable = true)\n",
      " |    |    |    |-- element: struct (containsNull = true)\n",
      " |    |    |    |    |-- niceName: string (nullable = true)\n",
      " |    |    |    |    |-- url: string (nullable = true)\n",
      " |-- homologues: array (nullable = true)\n",
      " |    |-- element: struct (containsNull = true)\n",
      " |    |    |-- speciesId: string (nullable = true)\n",
      " |    |    |-- speciesName: string (nullable = true)\n",
      " |    |    |-- homologyType: string (nullable = true)\n",
      " |    |    |-- targetGeneId: string (nullable = true)\n",
      " |    |    |-- isHighConfidence: string (nullable = true)\n",
      " |    |    |-- targetGeneSymbol: string (nullable = true)\n",
      " |    |    |-- queryPercentageIdentity: double (nullable = true)\n",
      " |    |    |-- targetPercentageIdentity: double (nullable = true)\n",
      " |    |    |-- priority: integer (nullable = true)\n",
      " |-- tractability: array (nullable = true)\n",
      " |    |-- element: struct (containsNull = true)\n",
      " |    |    |-- modality: string (nullable = true)\n",
      " |    |    |-- id: string (nullable = true)\n",
      " |    |    |-- value: boolean (nullable = true)\n",
      " |-- safetyLiabilities: array (nullable = true)\n",
      " |    |-- element: struct (containsNull = true)\n",
      " |    |    |-- event: string (nullable = true)\n",
      " |    |    |-- eventId: string (nullable = true)\n",
      " |    |    |-- effects: array (nullable = true)\n",
      " |    |    |    |-- element: struct (containsNull = true)\n",
      " |    |    |    |    |-- direction: string (nullable = true)\n",
      " |    |    |    |    |-- dosing: string (nullable = true)\n",
      " |    |    |-- biosample: array (nullable = true)\n",
      " |    |    |    |-- element: struct (containsNull = true)\n",
      " |    |    |    |    |-- tissueLabel: string (nullable = true)\n",
      " |    |    |    |    |-- tissueId: string (nullable = true)\n",
      " |    |    |    |    |-- cellLabel: string (nullable = true)\n",
      " |    |    |    |    |-- cellFormat: string (nullable = true)\n",
      " |    |    |    |    |-- cellId: string (nullable = true)\n",
      " |    |    |-- datasource: string (nullable = true)\n",
      " |    |    |-- literature: string (nullable = true)\n",
      " |    |    |-- url: string (nullable = true)\n",
      " |    |    |-- study: array (nullable = true)\n",
      " |    |    |    |-- element: struct (containsNull = true)\n",
      " |    |    |    |    |-- name: string (nullable = true)\n",
      " |    |    |    |    |-- description: string (nullable = true)\n",
      " |    |    |    |    |-- type: string (nullable = true)\n",
      " |-- pathways: array (nullable = true)\n",
      " |    |-- element: struct (containsNull = true)\n",
      " |    |    |-- pathwayId: string (nullable = true)\n",
      " |    |    |-- pathway: string (nullable = true)\n",
      " |    |    |-- topLevelTerm: string (nullable = true)\n",
      "\n"
     ]
    }
   ],
   "source": [
    "target.printSchema()"
   ]
  },
  {
   "cell_type": "code",
   "execution_count": null,
   "metadata": {},
   "outputs": [],
   "source": [
    "mouses.filter(F.col('diseaseFromSource').rlike(\"(?i)dysplasia\")).distinct().show(1000,truncate=False)"
   ]
  },
  {
   "cell_type": "code",
   "execution_count": null,
   "metadata": {},
   "outputs": [],
   "source": [
    "mouses.filter(F.col('diseaseFromSource').rlike(\"(?i)dysplasia\")).distinct().show(1000,truncate=False)"
   ]
  },
  {
   "cell_type": "code",
   "execution_count": 12,
   "metadata": {},
   "outputs": [],
   "source": [
    "mouse3 = (\n",
    "    mouses.withColumn(\n",
    "        \"sufix\",\n",
    "        F.when(\n",
    "            F.col(\"diseaseFromSource\").rlike(\"|\".join(badsufix2)), F.lit(\"yes\")\n",
    "        ).otherwise(F.lit(\"no\")),\n",
    "    )\n",
    "    .withColumn(\n",
    "        \"prefix\",\n",
    "        F.when(\n",
    "            F.col(\"diseaseFromSource\").rlike(\"|\".join(badprefix2)), F.lit(\"yes\")\n",
    "        ).otherwise(F.lit(\"no\")),\n",
    "    )\n",
    "    .withColumn(\n",
    "        \"extra\",\n",
    "        F.when(\n",
    "            F.col(\"diseaseFromSource\").rlike(\"|\".join(extra2)), F.lit(\"yes\")\n",
    "        ).otherwise(F.lit(\"no\")),\n",
    "    )\n",
    "    .withColumn(\n",
    "        \"sufixprefix\",\n",
    "        F.when(\n",
    "            (F.col(\"diseaseFromSource\").rlike(\"|\".join(badsufix2)))\n",
    "            | (F.col(\"diseaseFromSource\").rlike(\"|\".join(badprefix2))),\n",
    "            F.lit(\"yes\"),\n",
    "        ).otherwise(F.lit(\"no\")),\n",
    "    )\n",
    "    .withColumn(\n",
    "        \"sufixextra\",\n",
    "        F.when(\n",
    "            (F.col(\"diseaseFromSource\").rlike(\"|\".join(badsufix2)))\n",
    "            | (F.col(\"diseaseFromSource\").rlike(\"|\".join(extra2))),\n",
    "            F.lit(\"yes\"),\n",
    "        ).otherwise(F.lit(\"no\")),\n",
    "    )\n",
    "    .withColumn(\n",
    "        \"three\",\n",
    "        F.when(\n",
    "            (F.col(\"diseaseFromSource\").rlike(\"|\".join(badsufix2)))\n",
    "            | (F.col(\"diseaseFromSource\").rlike(\"|\".join(extra2)))\n",
    "            | (F.col(\"diseaseFromSource\").rlike(\"|\".join(badprefix2))),\n",
    "            F.lit(\"yes\"),\n",
    "        ).otherwise(F.lit(\"no\")),\n",
    "    )\n",
    "    .withColumn(\n",
    "        \"terms\",\n",
    "        F.when(\n",
    "            (F.col(\"diseaseFromSource\").rlike(\"|\".join(badsufix2)))\n",
    "            | (F.col(\"diseaseFromSource\").rlike(\"|\".join(extra2)))\n",
    "            | (F.col(\"diseaseFromSource\").rlike(\"|\".join(badprefix2)))\n",
    "            | (F.col(\"diseaseFromSource\").rlike(\"|\".join(extra4))),\n",
    "            F.lit(\"yes\"),\n",
    "        ).otherwise(F.lit(\"no\")),\n",
    "    )\n",
    ")\n"
   ]
  },
  {
   "cell_type": "code",
   "execution_count": 13,
   "metadata": {},
   "outputs": [],
   "source": [
    "totalTargets=mouses.select('targetId').distinct().count()"
   ]
  },
  {
   "cell_type": "code",
   "execution_count": 14,
   "metadata": {},
   "outputs": [],
   "source": [
    "totalDiseases=mouses.select('diseaseFromSource').distinct().count()"
   ]
  },
  {
   "cell_type": "code",
   "execution_count": 16,
   "metadata": {},
   "outputs": [],
   "source": [
    "mouse3.filter(F.col('terms')=='no').groupBy('diseaseFromSource').agg(F.count('diseaseFromSource'),F.countDistinct('targetId')).distinct().toPandas().to_csv('diseasesver5.csv')"
   ]
  },
  {
   "cell_type": "code",
   "execution_count": 17,
   "metadata": {},
   "outputs": [],
   "source": [
    "totalCounts=mouses.count()"
   ]
  },
  {
   "cell_type": "code",
   "execution_count": 18,
   "metadata": {},
   "outputs": [
    {
     "name": "stdout",
     "output_type": "stream",
     "text": [
      "+-----------+--------+----------+-----------+\n",
      "|sufixprefix|coverage|difTargets|difDiseases|\n",
      "+-----------+--------+----------+-----------+\n",
      "|         no|  465840|     10063|       3680|\n",
      "|        yes|  581184|     10374|       4972|\n",
      "+-----------+--------+----------+-----------+\n",
      "\n",
      "Nr total diferent targets:  10851\n",
      "Nr total diferent diseases:  8652\n",
      "Nr total rows in MouseKO data:  1047024\n"
     ]
    }
   ],
   "source": [
    "(mouse3\n",
    ".groupBy('sufixprefix')\n",
    ".agg(\n",
    "    F.count('targetId').alias('coverage'),\n",
    "    F.countDistinct('targetId').alias('difTargets'), \n",
    "    F.countDistinct('diseaseFromSource').alias('difDiseases'))\n",
    ").show()\n",
    "print('Nr total diferent targets: ', totalTargets)\n",
    "print('Nr total diferent diseases: ', totalDiseases)\n",
    "print('Nr total rows in MouseKO data: ', totalCounts)"
   ]
  },
  {
   "cell_type": "code",
   "execution_count": 19,
   "metadata": {},
   "outputs": [
    {
     "name": "stdout",
     "output_type": "stream",
     "text": [
      "+-----+--------+----------+-----------+\n",
      "|terms|coverage|difTargets|difDiseases|\n",
      "+-----+--------+----------+-----------+\n",
      "|   no|   30874|      5089|        397|\n",
      "|  yes| 1016150|     10826|       8255|\n",
      "+-----+--------+----------+-----------+\n",
      "\n",
      "Nr total diferent targets:  10851\n",
      "Nr total diferent diseases:  8652\n",
      "Nr total rows in MouseKO data:  1047024\n"
     ]
    }
   ],
   "source": [
    "(mouse3\n",
    ".groupBy('terms')\n",
    ".agg(\n",
    "    F.count('targetId').alias('coverage'),\n",
    "    F.countDistinct('targetId').alias('difTargets'), \n",
    "    F.countDistinct('diseaseFromSource').alias('difDiseases'))\n",
    ").show()\n",
    "print('Nr total diferent targets: ', totalTargets)\n",
    "print('Nr total diferent diseases: ', totalDiseases)\n",
    "print('Nr total rows in MouseKO data: ', totalCounts)"
   ]
  },
  {
   "cell_type": "code",
   "execution_count": null,
   "metadata": {},
   "outputs": [],
   "source": []
  },
  {
   "cell_type": "code",
   "execution_count": 192,
   "metadata": {},
   "outputs": [
    {
     "name": "stdout",
     "output_type": "stream",
     "text": [
      "+-------------+--------------------+--------------------+--------------------+--------------------+-----------------+--------------+---------------+----+--------------------+--------------------+-----------+--------+----------------+-------------------+--------------------+\n",
      "|           id|                code|             dbXRefs|         description|                name|directLocationIds| obsoleteTerms|        parents| sko|            synonyms|           ancestors|descendants|children|therapeuticAreas|indirectLocationIds|            ontology|\n",
      "+-------------+--------------------+--------------------+--------------------+--------------------+-----------------+--------------+---------------+----+--------------------+--------------------+-----------+--------+----------------+-------------------+--------------------+\n",
      "|MONDO_0018858|http://purl.oboli...|[UMLS:CN205176, O...|Graham Little-Pic...|Graham Little-Pic...|             null|[Orphanet_505]|[MONDO_0004907]|null|{null, [Piccardi-...|[EFO_0000701, MON...|         []|      []|   [EFO_0010285]|               null|{false, true, {ht...|\n",
      "+-------------+--------------------+--------------------+--------------------+--------------------+-----------------+--------------+---------------+----+--------------------+--------------------+-----------+--------+----------------+-------------------+--------------------+\n",
      "\n"
     ]
    }
   ],
   "source": [
    "diseases.filter(F.col('id')=='MONDO_0018858').show()"
   ]
  },
  {
   "cell_type": "code",
   "execution_count": 193,
   "metadata": {},
   "outputs": [
    {
     "name": "stdout",
     "output_type": "stream",
     "text": [
      "+-----------+--------------------+--------------------+--------------------+--------------------+-----------------+-------------+-------+----+--------------------+---------+--------------------+--------------------+----------------+-------------------+--------------------+\n",
      "|         id|                code|             dbXRefs|         description|                name|directLocationIds|obsoleteTerms|parents| sko|            synonyms|ancestors|         descendants|            children|therapeuticAreas|indirectLocationIds|            ontology|\n",
      "+-----------+--------------------+--------------------+--------------------+--------------------+-----------------+-------------+-------+----+--------------------+---------+--------------------+--------------------+----------------+-------------------+--------------------+\n",
      "|EFO_0010285|http://www.ebi.ac...|[SCTID:128598002,...|A disease involvi...|integumentary sys...|             null|         null|     []|null|{null, [integumen...|       []|[MONDO_0003037, M...|[MONDO_0000254, M...|   [EFO_0010285]|               null|{true, false, {ht...|\n",
      "+-----------+--------------------+--------------------+--------------------+--------------------+-----------------+-------------+-------+----+--------------------+---------+--------------------+--------------------+----------------+-------------------+--------------------+\n",
      "\n"
     ]
    }
   ],
   "source": [
    "diseases.filter(F.col('id')=='EFO_0010285').show()"
   ]
  },
  {
   "cell_type": "code",
   "execution_count": 187,
   "metadata": {},
   "outputs": [
    {
     "data": {
      "text/plain": [
       "10851"
      ]
     },
     "execution_count": 187,
     "metadata": {},
     "output_type": "execute_result"
    }
   ],
   "source": [
    "mice.groupBy('targetId').agg(F.count('targetId')).count()"
   ]
  },
  {
   "cell_type": "code",
   "execution_count": 179,
   "metadata": {},
   "outputs": [
    {
     "name": "stdout",
     "output_type": "stream",
     "text": [
      "+------------+---------------+---------------------------------+--------------------------------+-----------------+------------+--------------------+-------------------+-------------------------+-------------------------------------+-------------------------------------+--------------------+-------------+------------------+-------------+----------------------+------------------+---------------+--------------------+------------------+\n",
      "|datasourceId|       targetId|biologicalModelAllelicComposition|biologicalModelGeneticBackground|biologicalModelId|  datatypeId|   diseaseFromSource|diseaseFromSourceId|diseaseFromSourceMappedId|diseaseModelAssociatedHumanPhenotypes|diseaseModelAssociatedModelPhenotypes|          literature|resourceScore|targetFromSourceId|targetInModel|targetInModelEnsemblId|targetInModelMgiId|      diseaseId|                  id|             score|\n",
      "+------------+---------------+---------------------------------+--------------------------------+-----------------+------------+--------------------+-------------------+-------------------------+-------------------------------------+-------------------------------------+--------------------+-------------+------------------+-------------+----------------------+------------------+---------------+--------------------+------------------+\n",
      "|        impc|ENSG00000164175|             Slc45a2<Uw-dbr>/S...|            B10.PL-H2<u>/(73N...|      MGI:2668610|animal_model|Ectodermal Dyspla...|        OMIM:601375|            MONDO_0011063|                 [{HP:0002286, Fai...|                 [{MP:0000372, irr...|           [9864865]|        44.36|   ENSG00000164175|      Slc45a2|    ENSMUSG00000022243|       MGI:2153040|  MONDO_0011063|00183e3d9d9a9d736...|            0.4436|\n",
      "|        impc|ENSG00000240505|             Tnfrsf13b<tm1Cmac...|                   Not Specified|      MGI:3718124|animal_model|Chylomicronemia, ...|        OMIM:118830|             Orphanet_411|                 [{HP:0001744, Spl...|                 [{MP:0005014, inc...|[12594954, 152406...|        45.39|   ENSG00000240505|    Tnfrsf13b|    ENSMUSG00000010142|       MGI:1889411|   Orphanet_411|0027d42d3a90761f6...|            0.4539|\n",
      "|        impc|ENSG00000175066|             Gk5<m2Btlr>/Gk5<m...|            C57BL/6J-Gk5<m2Btlr>|      MGI:6111857|animal_model|Graham Little-Pic...|          ORPHA:505|            MONDO_0018858|                 [{HP:0002209, Spa...|                 [{MP:0000414, alo...|          [28607088]|        63.37|   ENSG00000175066|          Gk5|    ENSMUSG00000041440|       MGI:2443336|  MONDO_0018858|002d5f5b3cd9223ed...|0.6336999999999999|\n",
      "|        impc|ENSG00000133895|             Men1<tm1.1Ctre>/M...|            involves: 129S6/S...|      MGI:3839770|animal_model|    Paragangliomas 3|        OMIM:605373|            MONDO_0017366|                 [{HP:0030074, Che...|                 [{MP:0002050, inc...|[11158604, 196202...|        50.93|   ENSG00000133895|         Men1|    ENSMUSG00000024947|       MGI:1316736|  MONDO_0017366|0031bc9755f453208...|            0.5093|\n",
      "|        impc|ENSG00000184786|             Dynlt2a1<tm1June>...|            involves: 129S1/S...|      MGI:4820835|animal_model|Spermatogenic Fai...|        OMIM:615841|            MONDO_0014365|                 [{HP:0000027, Azo...|                 [{MP:0001925, mal...|          [19778998]|        61.08|   ENSG00000184786|     Dynlt2a1|    ENSMUSG00000079707|         MGI:98642|  MONDO_0014365|003ea2f922ef6d2fd...|            0.6108|\n",
      "|        impc|ENSG00000228630|             Hotair<tm1.1Hyc>/...|            B6.Cg-Hotair<tm1....|      MGI:5789903|animal_model|    Radial Hemimelia|        ORPHA:93321|            MONDO_0019671|                 [{HP:0004252, Abn...|                 [{MP:0008915, fus...|[25909911, 24075995]|        71.78|   ENSG00000228630|       Hotair|    ENSMUSG00000086903|       MGI:3826586|  MONDO_0019671|003f8bb49afea31bc...|            0.7178|\n",
      "|        impc|ENSG00000204481|             Pramel13<em1Jdean...|            involves: C57BL/6...|      MGI:6724556|animal_model|Testicular Regres...|          ORPHA:983|             Orphanet_983|                 [{HP:0010468, Apl...|                 [{MP:0001925, mal...|          [31729367]|        66.22|   ENSG00000204481|     Pramel13|    ENSMUSG00000028591|       MGI:1924882|   Orphanet_983|004ded1c2a3eb2de5...|            0.6622|\n",
      "|        impc|ENSG00000232810|             Lta/Tnf<tm1Eug>/L...|            B6.129-Lta/Tnf<tm...|      MGI:4867499|animal_model|Lymphoproliferati...|        OMIM:308240|            Orphanet_2442|                 [{HP:0003496, Inc...|                 [{MP:0001798, imp...|[15664162, 182566...|        42.16|   ENSG00000232810|          Tnf|    ENSMUSG00000024401|        MGI:104798|  Orphanet_2442|0056d74f468c1fdb8...|            0.4216|\n",
      "|        impc|ENSG00000085662|             Akr1b3<tm1Skc>/Ak...|            either: B6.129S7-...|      MGI:2654853|animal_model|Lipoprotein Glome...|        OMIM:611771|            MONDO_0012725|                 [{HP:0000093, Pro...|                 [{MP:0005618, dec...|[10913167, 11032718]|        64.88|   ENSG00000085662|       Akr1b3|    ENSMUSG00000001642|       MGI:1353494|  MONDO_0012725|0056f68f02499713e...|0.6487999999999999|\n",
      "|        impc|ENSG00000125864|             Bfsp1<tm1Pgf>/Bfs...|            involves: 129P2/O...|      MGI:3652898|animal_model|        Megalocornea|        OMIM:309300|               HP_0000485|                 [{HP:0100689, Dec...|                 [{MP:0001304, cat...|          [14638724]|        51.54|   ENSG00000125864|        Bfsp1|    ENSMUSG00000027420|        MGI:101770|     HP_0000485|006da84fa759a34b0...|            0.5154|\n",
      "|        impc|ENSG00000143199|             Adcy10<tm1.2Geno>...|            involves: 129 * C...|      MGI:5779540|animal_model|Spermatogenic Fai...|        OMIM:619144|            MONDO_0030868|                 [{HP:0003251, Mal...|                 [{MP:0001925, mal...|[23611875, 160540...|        66.31|   ENSG00000143199|       Adcy10|    ENSMUSG00000026567|       MGI:2660854|  MONDO_0030868|006e1a6fbd0bc81f3...|            0.6631|\n",
      "|        impc|ENSG00000169679|             Bub1<tm3.1Jvd>/Bu...|            involves: 129S4/S...|      MGI:5478551|animal_model|Spermatogenic Fai...|        OMIM:613957|            MONDO_0018393|                 [{HP:0030974, Cry...|                 [{MP:0001147, sma...|[17938250, 232093...|        50.25|   ENSG00000169679|         Bub1|    ENSMUSG00000027379|       MGI:1100510|  MONDO_0018393|0076d10b3eb0b7b76...|            0.5025|\n",
      "|        impc|ENSG00000164494|              Pdss2<kd>/Pdss2<kd>|            involves: C57BL/6...|      MGI:3805709|animal_model|Tubulointerstitia...|        OMIM:613092|            MONDO_0013128|                 [{HP:0000097, Foc...|                 [{MP:0011346, ren...|[16120817, 509807...|        58.11|   ENSG00000164494|        Pdss2|    ENSMUSG00000038240|       MGI:1918615|  MONDO_0013128|007e11fd33c7bd801...|            0.5811|\n",
      "|        impc|ENSG00000007933|             Fmo3<em1(IMPC)Mbp...|                     C57BL/6NCrl|      MGI:6152488|animal_model|46,Xx Ovotesticul...|         ORPHA:2138|            MONDO_0016281|                 [{HP:0000008, Abn...|                 [{MP:0004832, enl...|                null|        43.71|   ENSG00000007933|         Fmo3|    ENSMUSG00000026691|       MGI:1100496|  MONDO_0016281|007e4d3db363f16ef...|            0.4371|\n",
      "|        impc|ENSG00000068120|             Coasy<em1(IMPC)H>...|                     C57BL/6NTac|      MGI:6382779|animal_model|Specific Granule ...|        OMIM:245480|          Orphanet_169142|                 [{HP:0012551, Abs...|                 [{MP:0005627, inc...|                null|        52.29|   ENSG00000068120|        Coasy|    ENSMUSG00000001755|       MGI:1918993|Orphanet_169142|008dcba4f11058e38...|            0.5229|\n",
      "|        impc|ENSG00000169877|             Ahsp<tm1Mjwe>/Ahs...|            involves: 129 * C...|      MGI:2449159|animal_model|Bone Marrow Failu...|        OMIM:618849|            MONDO_0030015|                 [{HP:0005518, Inc...|                 [{MP:0010177, aca...|[15545996, 12066189]|        42.65|   ENSG00000169877|         Ahsp|                  null|       MGI:2158492|  MONDO_0030015|008e911510f7ded4d...|            0.4265|\n",
      "|        impc|ENSG00000189056|             Reln<rl-6J>/Reln<...|            C57BL/6J-Reln<rl-...|      MGI:3611332|animal_model|Ceroid Lipofuscin...|        OMIM:600143|          Orphanet_228354|                 [{HP:0001272, Cer...|                 [{MP:0000743, mus...|[24539699, 712714...|        50.37|   ENSG00000189056|         Reln|    ENSMUSG00000042453|        MGI:103022|Orphanet_228354|00956ba0fff1d8bcb...|0.5036999999999999|\n",
      "|        impc|ENSG00000107798|             Lipa<tm1Ggb>/Lipa...|            involves: 129P2/O...|      MGI:2451081|animal_model|     Whipple Disease|         ORPHA:3452|              EFO_0000775|                 [{HP:0100721, Med...|                 [{MP:0011939, inc...|[9700186, 3063973...|        41.46|   ENSG00000107798|         Lipa|    ENSMUSG00000024781|         MGI:96789|    EFO_0000775|009d91e9a973fdac0...|            0.4146|\n",
      "|        impc|ENSG00000106483|             Sfrp4<tm1Maki>/Sf...|                   Not Specified|      MGI:7329038|animal_model|Hyperostosis Cort...|         ORPHA:3416|            MONDO_0009395|                 [{HP:0003103, Abn...|                 [{MP:0010932, inc...|[27117872, 27355534]|         53.6|   ENSG00000106483|        Sfrp4|    ENSMUSG00000021319|        MGI:892010|  MONDO_0009395|00a23cba65bbb8025...|             0.536|\n",
      "|        impc|ENSG00000106327|             Tfr2<tm1.1Anro>/T...|            129.Cg-Tfr2<tm1.1...|      MGI:4458421|animal_model|Delta-Beta-Thalas...|       ORPHA:231237|            MONDO_0016489|                 [{HP:0001903, Ane...|                 [{MP:0002811, mac...|[20179178, 121340...|        64.11|   ENSG00000106327|         Tfr2|    ENSMUSG00000029716|       MGI:1354956|  MONDO_0016489|00a88cd131bf06b76...|            0.6411|\n",
      "+------------+---------------+---------------------------------+--------------------------------+-----------------+------------+--------------------+-------------------+-------------------------+-------------------------------------+-------------------------------------+--------------------+-------------+------------------+-------------+----------------------+------------------+---------------+--------------------+------------------+\n",
      "only showing top 20 rows\n",
      "\n"
     ]
    }
   ],
   "source": [
    "mice.show()"
   ]
  },
  {
   "cell_type": "code",
   "execution_count": 176,
   "metadata": {},
   "outputs": [
    {
     "name": "stdout",
     "output_type": "stream",
     "text": [
      "root\n",
      " |-- datasourceId: string (nullable = true)\n",
      " |-- targetId: string (nullable = true)\n",
      " |-- alleleOrigins: array (nullable = true)\n",
      " |    |-- element: string (containsNull = true)\n",
      " |-- allelicRequirements: array (nullable = true)\n",
      " |    |-- element: string (containsNull = true)\n",
      " |-- ancestry: string (nullable = true)\n",
      " |-- ancestryId: string (nullable = true)\n",
      " |-- beta: double (nullable = true)\n",
      " |-- betaConfidenceIntervalLower: double (nullable = true)\n",
      " |-- betaConfidenceIntervalUpper: double (nullable = true)\n",
      " |-- biologicalModelAllelicComposition: string (nullable = true)\n",
      " |-- biologicalModelGeneticBackground: string (nullable = true)\n",
      " |-- biologicalModelId: string (nullable = true)\n",
      " |-- biomarkerName: string (nullable = true)\n",
      " |-- biomarkers: struct (nullable = true)\n",
      " |    |-- geneExpression: array (nullable = true)\n",
      " |    |    |-- element: struct (containsNull = true)\n",
      " |    |    |    |-- id: string (nullable = true)\n",
      " |    |    |    |-- name: string (nullable = true)\n",
      " |    |-- variant: array (nullable = true)\n",
      " |    |    |-- element: struct (containsNull = true)\n",
      " |    |    |    |-- functionalConsequenceId: string (nullable = true)\n",
      " |    |    |    |-- id: string (nullable = true)\n",
      " |    |    |    |-- name: string (nullable = true)\n",
      " |-- biosamplesFromSource: array (nullable = true)\n",
      " |    |-- element: string (containsNull = true)\n",
      " |-- clinicalPhase: long (nullable = true)\n",
      " |-- clinicalSignificances: array (nullable = true)\n",
      " |    |-- element: string (containsNull = true)\n",
      " |-- clinicalStatus: string (nullable = true)\n",
      " |-- cohortDescription: string (nullable = true)\n",
      " |-- cohortId: string (nullable = true)\n",
      " |-- cohortPhenotypes: array (nullable = true)\n",
      " |    |-- element: string (containsNull = true)\n",
      " |-- cohortShortName: string (nullable = true)\n",
      " |-- confidence: string (nullable = true)\n",
      " |-- contrast: string (nullable = true)\n",
      " |-- datatypeId: string (nullable = true)\n",
      " |-- diseaseCellLines: array (nullable = true)\n",
      " |    |-- element: struct (containsNull = true)\n",
      " |    |    |-- id: string (nullable = true)\n",
      " |    |    |-- name: string (nullable = true)\n",
      " |    |    |-- tissue: string (nullable = true)\n",
      " |    |    |-- tissueId: string (nullable = true)\n",
      " |-- diseaseFromSource: string (nullable = true)\n",
      " |-- diseaseFromSourceId: string (nullable = true)\n",
      " |-- diseaseFromSourceMappedId: string (nullable = true)\n",
      " |-- diseaseModelAssociatedHumanPhenotypes: array (nullable = true)\n",
      " |    |-- element: struct (containsNull = true)\n",
      " |    |    |-- id: string (nullable = true)\n",
      " |    |    |-- label: string (nullable = true)\n",
      " |-- diseaseModelAssociatedModelPhenotypes: array (nullable = true)\n",
      " |    |-- element: struct (containsNull = true)\n",
      " |    |    |-- id: string (nullable = true)\n",
      " |    |    |-- label: string (nullable = true)\n",
      " |-- drugFromSource: string (nullable = true)\n",
      " |-- drugId: string (nullable = true)\n",
      " |-- drugResponse: string (nullable = true)\n",
      " |-- literature: array (nullable = true)\n",
      " |    |-- element: string (containsNull = true)\n",
      " |-- log2FoldChangePercentileRank: long (nullable = true)\n",
      " |-- log2FoldChangeValue: double (nullable = true)\n",
      " |-- mutatedSamples: array (nullable = true)\n",
      " |    |-- element: struct (containsNull = true)\n",
      " |    |    |-- functionalConsequenceId: string (nullable = true)\n",
      " |    |    |-- numberMutatedSamples: long (nullable = true)\n",
      " |    |    |-- numberSamplesTested: long (nullable = true)\n",
      " |    |    |-- numberSamplesWithMutationType: long (nullable = true)\n",
      " |-- oddsRatio: double (nullable = true)\n",
      " |-- oddsRatioConfidenceIntervalLower: double (nullable = true)\n",
      " |-- oddsRatioConfidenceIntervalUpper: double (nullable = true)\n",
      " |-- pValueExponent: long (nullable = true)\n",
      " |-- pValueMantissa: double (nullable = true)\n",
      " |-- pathways: array (nullable = true)\n",
      " |    |-- element: struct (containsNull = true)\n",
      " |    |    |-- id: string (nullable = true)\n",
      " |    |    |-- name: string (nullable = true)\n",
      " |-- pmcIds: array (nullable = true)\n",
      " |    |-- element: string (containsNull = true)\n",
      " |-- projectId: string (nullable = true)\n",
      " |-- publicationFirstAuthor: string (nullable = true)\n",
      " |-- publicationYear: long (nullable = true)\n",
      " |-- reactionId: string (nullable = true)\n",
      " |-- reactionName: string (nullable = true)\n",
      " |-- resourceScore: double (nullable = true)\n",
      " |-- sex: array (nullable = true)\n",
      " |    |-- element: string (containsNull = true)\n",
      " |-- significantDriverMethods: array (nullable = true)\n",
      " |    |-- element: string (containsNull = true)\n",
      " |-- statisticalMethod: string (nullable = true)\n",
      " |-- statisticalMethodOverview: string (nullable = true)\n",
      " |-- studyCases: long (nullable = true)\n",
      " |-- studyCasesWithQualifyingVariants: long (nullable = true)\n",
      " |-- studyId: string (nullable = true)\n",
      " |-- studyOverview: string (nullable = true)\n",
      " |-- studySampleSize: long (nullable = true)\n",
      " |-- studyStartDate: string (nullable = true)\n",
      " |-- studyStopReason: string (nullable = true)\n",
      " |-- studyStopReasonCategories: array (nullable = true)\n",
      " |    |-- element: string (containsNull = true)\n",
      " |-- targetFromSource: string (nullable = true)\n",
      " |-- targetFromSourceId: string (nullable = true)\n",
      " |-- targetInModel: string (nullable = true)\n",
      " |-- targetInModelEnsemblId: string (nullable = true)\n",
      " |-- targetInModelMgiId: string (nullable = true)\n",
      " |-- targetModulation: string (nullable = true)\n",
      " |-- textMiningSentences: array (nullable = true)\n",
      " |    |-- element: struct (containsNull = true)\n",
      " |    |    |-- dEnd: long (nullable = true)\n",
      " |    |    |-- dStart: long (nullable = true)\n",
      " |    |    |-- section: string (nullable = true)\n",
      " |    |    |-- tEnd: long (nullable = true)\n",
      " |    |    |-- tStart: long (nullable = true)\n",
      " |    |    |-- text: string (nullable = true)\n",
      " |-- urls: array (nullable = true)\n",
      " |    |-- element: struct (containsNull = true)\n",
      " |    |    |-- niceName: string (nullable = true)\n",
      " |    |    |-- url: string (nullable = true)\n",
      " |-- variantAminoacidDescriptions: array (nullable = true)\n",
      " |    |-- element: string (containsNull = true)\n",
      " |-- variantFunctionalConsequenceFromQtlId: string (nullable = true)\n",
      " |-- variantFunctionalConsequenceId: string (nullable = true)\n",
      " |-- variantHgvsId: string (nullable = true)\n",
      " |-- variantId: string (nullable = true)\n",
      " |-- variantRsId: string (nullable = true)\n",
      " |-- diseaseId: string (nullable = true)\n",
      " |-- id: string (nullable = true)\n",
      " |-- score: double (nullable = true)\n",
      "\n"
     ]
    }
   ],
   "source": [
    "impc.printSchema()"
   ]
  },
  {
   "cell_type": "code",
   "execution_count": 66,
   "metadata": {},
   "outputs": [],
   "source": [
    "mophe_path=\"/Users/juanr/Desktop/Target_Engine/mousePhenotypeFebruary23/mousePhenotypes\"\n",
    "mophe=spark.read.parquet(mophe_path)"
   ]
  },
  {
   "cell_type": "code",
   "execution_count": 77,
   "metadata": {},
   "outputs": [
    {
     "name": "stdout",
     "output_type": "stream",
     "text": [
      "+---------------------------------+\n",
      "|label                            |\n",
      "+---------------------------------+\n",
      "|homeostasis/metabolism phenotype |\n",
      "|reproductive system phenotype    |\n",
      "|cellular phenotype               |\n",
      "|craniofacial phenotype           |\n",
      "|growth/size/body region phenotype|\n",
      "|cardiovascular system phenotype  |\n",
      "|homeostasis/metabolism phenotype |\n",
      "|homeostasis/metabolism phenotype |\n",
      "|digestive/alimentary phenotype   |\n",
      "|adipose tissue phenotype         |\n",
      "|immune system phenotype          |\n",
      "|behavior/neurological phenotype  |\n",
      "|behavior/neurological phenotype  |\n",
      "|muscle phenotype                 |\n",
      "|hematopoietic system phenotype   |\n",
      "|immune system phenotype          |\n",
      "|respiratory system phenotype     |\n",
      "|vision/eye phenotype             |\n",
      "|pigmentation phenotype           |\n",
      "|vision/eye phenotype             |\n",
      "+---------------------------------+\n",
      "only showing top 20 rows\n",
      "\n"
     ]
    }
   ],
   "source": [
    "mophe.select('modelPhenotypeLabel',F.explode_outer('modelPhenotypeClasses')).select('col.label').show(truncate=False)"
   ]
  },
  {
   "cell_type": "code",
   "execution_count": 85,
   "metadata": {},
   "outputs": [
    {
     "name": "stdout",
     "output_type": "stream",
     "text": [
      "+--------------------+--------------------+--------------------------+\n",
      "|               label| modelPhenotypeLabel|count(modelPhenotypeLabel)|\n",
      "+--------------------+--------------------+--------------------------+\n",
      "|            neoplasm|[increased gastri...|                       197|\n",
      "|    normal phenotype|[no abnormal phen...|                         4|\n",
      "|digestive/aliment...|[branched small i...|                       461|\n",
      "|    embryo phenotype|[abnormal chordam...|                       494|\n",
      "|pigmentation phen...|[abnormal hind fo...|                        94|\n",
      "|integument phenotype|[abnormal agouti ...|                       468|\n",
      "|growth/size/body ...|[situs ambiguus, ...|                       596|\n",
      "|renal/urinary sys...|[abnormal female ...|                       476|\n",
      "|  cellular phenotype|[abnormal acrosom...|                       673|\n",
      "|homeostasis/metab...|[increased erythr...|                      1078|\n",
      "|  skeleton phenotype|[abnormal scapula...|                      1082|\n",
      "|endocrine/exocrin...|[decreased solita...|                       823|\n",
      "|     mortality/aging|[abnormal xenobio...|                       100|\n",
      "|respiratory syste...|[respiratory fail...|                       378|\n",
      "|vision/eye phenotype|[decreased suscep...|                       476|\n",
      "|cardiovascular sy...|[abnormal abdomin...|                       896|\n",
      "|taste/olfaction p...|[abnormal gustato...|                        26|\n",
      "|liver/biliary sys...|[macrovesicular h...|                       147|\n",
      "|hearing/vestibula...|[abnormal middle ...|                       416|\n",
      "|hematopoietic sys...|[increased basoph...|                       779|\n",
      "+--------------------+--------------------+--------------------------+\n",
      "only showing top 20 rows\n",
      "\n"
     ]
    }
   ],
   "source": [
    "mophe.select('modelPhenotypeLabel',F.explode_outer('modelPhenotypeClasses')).select('col.label','modelPhenotypeLabel').groupBy('label').agg(F.collect_set('modelPhenotypeLabel').alias('modelPhenotypeLabel'),F.countDistinct('modelPhenotypeLabel')).show()"
   ]
  },
  {
   "cell_type": "code",
   "execution_count": 79,
   "metadata": {},
   "outputs": [],
   "source": [
    "mophe.select('modelPhenotypeLabel',F.explode_outer('modelPhenotypeClasses')).select('col.label').distinct().toPandas().to_csv('mophe.csv')"
   ]
  },
  {
   "cell_type": "code",
   "execution_count": 76,
   "metadata": {},
   "outputs": [
    {
     "data": {
      "text/plain": [
       "28"
      ]
     },
     "execution_count": 76,
     "metadata": {},
     "output_type": "execute_result"
    }
   ],
   "source": [
    "mophe.select('modelPhenotypeLabel',F.explode_outer('modelPhenotypeClasses')).select('col.label').distinct().count()\n",
    "\n",
    "### asignar score, agregar sobre el target y hacer un assessment usando la formula del score armonico. Creo que iria de -1 a 0."
   ]
  },
  {
   "cell_type": "code",
   "execution_count": 369,
   "metadata": {},
   "outputs": [
    {
     "name": "stdout",
     "output_type": "stream",
     "text": [
      "+-----------+------------------------------------+---------------+-----------------------------------------+-------------------------------+-----------------+-------------+--------------------------+--------+-----------------------------------------------------------------+----------------------------------------------------------------------------------------------------------------------------------------------------------------------------------------------------------------------------------------------------------------------------------------------------------------------------------------------------------------------------------------------------------------------------------------------------------+----------------------------------------------------------------------------------------------------------------------------------------------------------------------------------------------------------------------------------------------------------------------------------------------------------------------------------------------------------------------------------------------------------------------------------------------------------+----------------+-------------------+-------------------------------------------------------------------+\n",
      "|id         |code                                |dbXRefs        |description                              |name                           |directLocationIds|obsoleteTerms|parents                   |synonyms|ancestors                                                        |descendants                                                                                                                                                                                                                                                                                                                                                                                                                                               |children                                                                                                                                                                                                                                                                                                                                                                                                                                                  |therapeuticAreas|indirectLocationIds|ontology                                                           |\n",
      "+-----------+------------------------------------+---------------+-----------------------------------------+-------------------------------+-----------------+-------------+--------------------------+--------+-----------------------------------------------------------------+----------------------------------------------------------------------------------------------------------------------------------------------------------------------------------------------------------------------------------------------------------------------------------------------------------------------------------------------------------------------------------------------------------------------------------------------------------+----------------------------------------------------------------------------------------------------------------------------------------------------------------------------------------------------------------------------------------------------------------------------------------------------------------------------------------------------------------------------------------------------------------------------------------------------------+----------------+-------------------+-------------------------------------------------------------------+\n",
      "|EFO_0010226|http://www.ebi.ac.uk/efo/EFO_0010226|[PMID:31551469]|A quantification of phosphatidylcholines.|phosphatidylcholine measurement|null             |null         |[EFO_0005278, EFO_0004529]|null    |[EFO_0004529, EFO_0001444, EFO_0005278, EFO_0005105, EFO_0004298]|[EFO_0010388, EFO_0010387, EFO_0801129, EFO_0010386, EFO_0010385, EFO_0010389, EFO_0021475, EFO_0021476, EFO_0021473, EFO_0020046, EFO_0021474, EFO_0021477, EFO_0021478, EFO_0010373, EFO_0010372, EFO_0010377, EFO_0010376, EFO_0010375, EFO_0010374, EFO_0010379, EFO_0010378, EFO_0021471, EFO_0021472, EFO_0021470, EFO_0020871, EFO_0021468, EFO_0021469, EFO_0021466, EFO_0021467, EFO_0010380, EFO_0010384, EFO_0010383, EFO_0010382, EFO_0010381]|[EFO_0010372, EFO_0010373, EFO_0010374, EFO_0010375, EFO_0010376, EFO_0010377, EFO_0010378, EFO_0010379, EFO_0010380, EFO_0010381, EFO_0010382, EFO_0010383, EFO_0010384, EFO_0010385, EFO_0010386, EFO_0010387, EFO_0010388, EFO_0010389, EFO_0020046, EFO_0020871, EFO_0021466, EFO_0021467, EFO_0021468, EFO_0021469, EFO_0021470, EFO_0021471, EFO_0021472, EFO_0021473, EFO_0021474, EFO_0021475, EFO_0021476, EFO_0021477, EFO_0021478, EFO_0801129]|[EFO_0001444]   |null               |{false, false, {http://www.ebi.ac.uk/efo/EFO_0010226, EFO_0010226}}|\n",
      "+-----------+------------------------------------+---------------+-----------------------------------------+-------------------------------+-----------------+-------------+--------------------------+--------+-----------------------------------------------------------------+----------------------------------------------------------------------------------------------------------------------------------------------------------------------------------------------------------------------------------------------------------------------------------------------------------------------------------------------------------------------------------------------------------------------------------------------------------+----------------------------------------------------------------------------------------------------------------------------------------------------------------------------------------------------------------------------------------------------------------------------------------------------------------------------------------------------------------------------------------------------------------------------------------------------------+----------------+-------------------+-------------------------------------------------------------------+\n",
      "\n"
     ]
    }
   ],
   "source": [
    "diseases.filter(F.col('id')=='EFO_0010226').show(truncate=False)"
   ]
  },
  {
   "cell_type": "code",
   "execution_count": 370,
   "metadata": {},
   "outputs": [
    {
     "name": "stdout",
     "output_type": "stream",
     "text": [
      "root\n",
      " |-- id: string (nullable = true)\n",
      " |-- approvedSymbol: string (nullable = true)\n",
      " |-- biotype: string (nullable = true)\n",
      " |-- transcriptIds: array (nullable = true)\n",
      " |    |-- element: string (containsNull = true)\n",
      " |-- canonicalTranscript: struct (nullable = true)\n",
      " |    |-- id: string (nullable = true)\n",
      " |    |-- chromosome: string (nullable = true)\n",
      " |    |-- start: long (nullable = true)\n",
      " |    |-- end: long (nullable = true)\n",
      " |    |-- strand: string (nullable = true)\n",
      " |-- canonicalExons: array (nullable = true)\n",
      " |    |-- element: string (containsNull = true)\n",
      " |-- genomicLocation: struct (nullable = true)\n",
      " |    |-- chromosome: string (nullable = true)\n",
      " |    |-- start: long (nullable = true)\n",
      " |    |-- end: long (nullable = true)\n",
      " |    |-- strand: integer (nullable = true)\n",
      " |-- alternativeGenes: array (nullable = true)\n",
      " |    |-- element: string (containsNull = true)\n",
      " |-- approvedName: string (nullable = true)\n",
      " |-- go: array (nullable = true)\n",
      " |    |-- element: struct (containsNull = true)\n",
      " |    |    |-- id: string (nullable = true)\n",
      " |    |    |-- source: string (nullable = true)\n",
      " |    |    |-- evidence: string (nullable = true)\n",
      " |    |    |-- aspect: string (nullable = true)\n",
      " |    |    |-- geneProduct: string (nullable = true)\n",
      " |    |    |-- ecoId: string (nullable = true)\n",
      " |-- hallmarks: struct (nullable = true)\n",
      " |    |-- attributes: array (nullable = true)\n",
      " |    |    |-- element: struct (containsNull = true)\n",
      " |    |    |    |-- pmid: long (nullable = true)\n",
      " |    |    |    |-- description: string (nullable = true)\n",
      " |    |    |    |-- attribute_name: string (nullable = true)\n",
      " |    |-- cancerHallmarks: array (nullable = true)\n",
      " |    |    |-- element: struct (containsNull = true)\n",
      " |    |    |    |-- pmid: long (nullable = true)\n",
      " |    |    |    |-- description: string (nullable = true)\n",
      " |    |    |    |-- impact: string (nullable = true)\n",
      " |    |    |    |-- label: string (nullable = true)\n",
      " |-- synonyms: array (nullable = true)\n",
      " |    |-- element: struct (containsNull = true)\n",
      " |    |    |-- label: string (nullable = true)\n",
      " |    |    |-- source: string (nullable = true)\n",
      " |-- symbolSynonyms: array (nullable = true)\n",
      " |    |-- element: struct (containsNull = true)\n",
      " |    |    |-- label: string (nullable = true)\n",
      " |    |    |-- source: string (nullable = true)\n",
      " |-- nameSynonyms: array (nullable = true)\n",
      " |    |-- element: struct (containsNull = true)\n",
      " |    |    |-- label: string (nullable = true)\n",
      " |    |    |-- source: string (nullable = true)\n",
      " |-- functionDescriptions: array (nullable = true)\n",
      " |    |-- element: string (containsNull = true)\n",
      " |-- subcellularLocations: array (nullable = true)\n",
      " |    |-- element: struct (containsNull = true)\n",
      " |    |    |-- location: string (nullable = true)\n",
      " |    |    |-- source: string (nullable = true)\n",
      " |    |    |-- termSL: string (nullable = true)\n",
      " |    |    |-- labelSL: string (nullable = true)\n",
      " |-- targetClass: array (nullable = true)\n",
      " |    |-- element: struct (containsNull = true)\n",
      " |    |    |-- id: long (nullable = true)\n",
      " |    |    |-- label: string (nullable = true)\n",
      " |    |    |-- level: string (nullable = true)\n",
      " |-- obsoleteSymbols: array (nullable = true)\n",
      " |    |-- element: struct (containsNull = true)\n",
      " |    |    |-- label: string (nullable = true)\n",
      " |    |    |-- source: string (nullable = true)\n",
      " |-- obsoleteNames: array (nullable = true)\n",
      " |    |-- element: struct (containsNull = true)\n",
      " |    |    |-- label: string (nullable = true)\n",
      " |    |    |-- source: string (nullable = true)\n",
      " |-- constraint: array (nullable = true)\n",
      " |    |-- element: struct (containsNull = true)\n",
      " |    |    |-- constraintType: string (nullable = true)\n",
      " |    |    |-- score: float (nullable = true)\n",
      " |    |    |-- exp: float (nullable = true)\n",
      " |    |    |-- obs: integer (nullable = true)\n",
      " |    |    |-- oe: float (nullable = true)\n",
      " |    |    |-- oeLower: float (nullable = true)\n",
      " |    |    |-- oeUpper: float (nullable = true)\n",
      " |    |    |-- upperRank: integer (nullable = true)\n",
      " |    |    |-- upperBin: integer (nullable = true)\n",
      " |    |    |-- upperBin6: integer (nullable = true)\n",
      " |-- tep: struct (nullable = true)\n",
      " |    |-- targetFromSourceId: string (nullable = true)\n",
      " |    |-- description: string (nullable = true)\n",
      " |    |-- therapeuticArea: string (nullable = true)\n",
      " |    |-- url: string (nullable = true)\n",
      " |-- proteinIds: array (nullable = true)\n",
      " |    |-- element: struct (containsNull = true)\n",
      " |    |    |-- id: string (nullable = true)\n",
      " |    |    |-- source: string (nullable = true)\n",
      " |-- dbXrefs: array (nullable = true)\n",
      " |    |-- element: struct (containsNull = true)\n",
      " |    |    |-- id: string (nullable = true)\n",
      " |    |    |-- source: string (nullable = true)\n",
      " |-- chemicalProbes: array (nullable = true)\n",
      " |    |-- element: struct (containsNull = true)\n",
      " |    |    |-- drugId: string (nullable = true)\n",
      " |    |    |-- id: string (nullable = true)\n",
      " |    |    |-- isHighQuality: boolean (nullable = true)\n",
      " |    |    |-- mechanismOfAction: array (nullable = true)\n",
      " |    |    |    |-- element: string (containsNull = true)\n",
      " |    |    |-- origin: array (nullable = true)\n",
      " |    |    |    |-- element: string (containsNull = true)\n",
      " |    |    |-- probeMinerScore: double (nullable = true)\n",
      " |    |    |-- probesDrugsScore: double (nullable = true)\n",
      " |    |    |-- scoreInCells: double (nullable = true)\n",
      " |    |    |-- scoreInOrganisms: double (nullable = true)\n",
      " |    |    |-- targetFromSourceId: string (nullable = true)\n",
      " |    |    |-- urls: array (nullable = true)\n",
      " |    |    |    |-- element: struct (containsNull = true)\n",
      " |    |    |    |    |-- niceName: string (nullable = true)\n",
      " |    |    |    |    |-- url: string (nullable = true)\n",
      " |-- homologues: array (nullable = true)\n",
      " |    |-- element: struct (containsNull = true)\n",
      " |    |    |-- speciesId: string (nullable = true)\n",
      " |    |    |-- speciesName: string (nullable = true)\n",
      " |    |    |-- homologyType: string (nullable = true)\n",
      " |    |    |-- targetGeneId: string (nullable = true)\n",
      " |    |    |-- isHighConfidence: string (nullable = true)\n",
      " |    |    |-- targetGeneSymbol: string (nullable = true)\n",
      " |    |    |-- queryPercentageIdentity: double (nullable = true)\n",
      " |    |    |-- targetPercentageIdentity: double (nullable = true)\n",
      " |    |    |-- priority: integer (nullable = true)\n",
      " |-- tractability: array (nullable = true)\n",
      " |    |-- element: struct (containsNull = true)\n",
      " |    |    |-- modality: string (nullable = true)\n",
      " |    |    |-- id: string (nullable = true)\n",
      " |    |    |-- value: boolean (nullable = true)\n",
      " |-- safetyLiabilities: array (nullable = true)\n",
      " |    |-- element: struct (containsNull = true)\n",
      " |    |    |-- event: string (nullable = true)\n",
      " |    |    |-- eventId: string (nullable = true)\n",
      " |    |    |-- effects: array (nullable = true)\n",
      " |    |    |    |-- element: struct (containsNull = true)\n",
      " |    |    |    |    |-- direction: string (nullable = true)\n",
      " |    |    |    |    |-- dosing: string (nullable = true)\n",
      " |    |    |-- biosamples: array (nullable = true)\n",
      " |    |    |    |-- element: struct (containsNull = true)\n",
      " |    |    |    |    |-- cellFormat: string (nullable = true)\n",
      " |    |    |    |    |-- cellLabel: string (nullable = true)\n",
      " |    |    |    |    |-- tissueId: string (nullable = true)\n",
      " |    |    |    |    |-- tissueLabel: string (nullable = true)\n",
      " |    |    |-- isHumanApplicable: boolean (nullable = true)\n",
      " |    |    |-- datasource: string (nullable = true)\n",
      " |    |    |-- literature: string (nullable = true)\n",
      " |    |    |-- url: string (nullable = true)\n",
      " |    |    |-- studies: array (nullable = true)\n",
      " |    |    |    |-- element: struct (containsNull = true)\n",
      " |    |    |    |    |-- description: string (nullable = true)\n",
      " |    |    |    |    |-- name: string (nullable = true)\n",
      " |    |    |    |    |-- type: string (nullable = true)\n",
      " |-- pathways: array (nullable = true)\n",
      " |    |-- element: struct (containsNull = true)\n",
      " |    |    |-- pathwayId: string (nullable = true)\n",
      " |    |    |-- pathway: string (nullable = true)\n",
      " |    |    |-- topLevelTerm: string (nullable = true)\n",
      "\n"
     ]
    }
   ],
   "source": [
    "target.printSchema()"
   ]
  }
 ],
 "metadata": {
  "kernelspec": {
   "display_name": "python",
   "language": "python",
   "name": "python3"
  },
  "language_info": {
   "codemirror_mode": {
    "name": "ipython",
    "version": 3
   },
   "file_extension": ".py",
   "mimetype": "text/x-python",
   "name": "python",
   "nbconvert_exporter": "python",
   "pygments_lexer": "ipython3",
   "version": "3.10.8"
  },
  "orig_nbformat": 4,
  "vscode": {
   "interpreter": {
    "hash": "ca46320a8a3631d4b3efeb0abd1a17b48155567e49cfd6073085490eeb4642f1"
   }
  }
 },
 "nbformat": 4,
 "nbformat_minor": 2
}
